{
    "metadata": {
        "kernelspec": {
            "name": "SQL",
            "display_name": "SQL",
            "language": "sql"
        },
        "language_info": {
            "name": "sql",
            "version": ""
        }
    },
    "nbformat_minor": 2,
    "nbformat": 4,
    "cells": [
        {
            "cell_type": "code",
            "source": [
                "SELECT TOP 10\r\n",
                "    allas AS allas_neve, \r\n",
                "    COUNT(*) allas_száma\r\n",
                "FROM munka\r\n",
                "WHERE allas IS NOT null\r\n",
                "GROUP BY allas\r\n",
                "ORDER BY COUNT(*) desc"
            ],
            "metadata": {
                "azdata_cell_guid": "b9f6f71d-73a8-4981-b0b8-cb53191da722",
                "language": "sql"
            },
            "outputs": [
                {
                    "output_type": "display_data",
                    "data": {
                        "text/html": "(9 rows affected)"
                    },
                    "metadata": {}
                },
                {
                    "output_type": "display_data",
                    "data": {
                        "text/html": "Total execution time: 00:00:00.012"
                    },
                    "metadata": {}
                },
                {
                    "output_type": "execute_result",
                    "metadata": {},
                    "execution_count": 4,
                    "data": {
                        "application/vnd.dataresource+json": {
                            "schema": {
                                "fields": [
                                    {
                                        "name": "allas_neve"
                                    },
                                    {
                                        "name": "allas_száma"
                                    }
                                ]
                            },
                            "data": [
                                {
                                    "allas_neve": "eladó",
                                    "allas_száma": "12"
                                },
                                {
                                    "allas_neve": "takarító",
                                    "allas_száma": "9"
                                },
                                {
                                    "allas_neve": "ruhatáros",
                                    "allas_száma": "6"
                                },
                                {
                                    "allas_neve": "kisegítő",
                                    "allas_száma": "4"
                                },
                                {
                                    "allas_neve": "raktáros",
                                    "allas_száma": "4"
                                },
                                {
                                    "allas_neve": "pincér",
                                    "allas_száma": "2"
                                },
                                {
                                    "allas_neve": "kézbesítő",
                                    "allas_száma": "2"
                                },
                                {
                                    "allas_neve": "ügyfélszolgálati munkatárs",
                                    "allas_száma": "1"
                                },
                                {
                                    "allas_neve": "futár",
                                    "allas_száma": "1"
                                }
                            ]
                        },
                        "text/html": [
                            "<table>",
                            "<tr><th>allas_neve</th><th>allas_száma</th></tr>",
                            "<tr><td>eladó</td><td>12</td></tr>",
                            "<tr><td>takarító</td><td>9</td></tr>",
                            "<tr><td>ruhatáros</td><td>6</td></tr>",
                            "<tr><td>kisegítő</td><td>4</td></tr>",
                            "<tr><td>raktáros</td><td>4</td></tr>",
                            "<tr><td>pincér</td><td>2</td></tr>",
                            "<tr><td>kézbesítő</td><td>2</td></tr>",
                            "<tr><td>ügyfélszolgálati munkatárs</td><td>1</td></tr>",
                            "<tr><td>futár</td><td>1</td></tr>",
                            "</table>"
                        ]
                    }
                }
            ],
            "execution_count": 4
        },
        {
            "cell_type": "code",
            "source": [
                "SELECT TOP 10 allas AS 'Állás', \r\n",
                "        LEN(allas) AS 'Szó hossza'\r\n",
                "FROM munka\r\n",
                "GROUP BY allas\r\n",
                "ORDER BY 2 DESC"
            ],
            "metadata": {
                "language": "sql",
                "azdata_cell_guid": "92046ab5-4850-4239-8b8a-2e9e11cd7ae0"
            },
            "outputs": [
                {
                    "output_type": "display_data",
                    "data": {
                        "text/html": "(9 rows affected)"
                    },
                    "metadata": {}
                },
                {
                    "output_type": "display_data",
                    "data": {
                        "text/html": "Total execution time: 00:00:00.016"
                    },
                    "metadata": {}
                },
                {
                    "output_type": "execute_result",
                    "metadata": {},
                    "execution_count": 5,
                    "data": {
                        "application/vnd.dataresource+json": {
                            "schema": {
                                "fields": [
                                    {
                                        "name": "string"
                                    },
                                    {
                                        "name": "string_length"
                                    }
                                ]
                            },
                            "data": [
                                {
                                    "string": "ügyfélszolgálati munkatárs",
                                    "string_length": "26"
                                },
                                {
                                    "string": "kézbesítő",
                                    "string_length": "9"
                                },
                                {
                                    "string": "ruhatáros",
                                    "string_length": "9"
                                },
                                {
                                    "string": "kisegítő",
                                    "string_length": "8"
                                },
                                {
                                    "string": "takarító",
                                    "string_length": "8"
                                },
                                {
                                    "string": "raktáros",
                                    "string_length": "8"
                                },
                                {
                                    "string": "pincér",
                                    "string_length": "6"
                                },
                                {
                                    "string": "futár",
                                    "string_length": "5"
                                },
                                {
                                    "string": "eladó",
                                    "string_length": "5"
                                }
                            ]
                        },
                        "text/html": [
                            "<table>",
                            "<tr><th>string</th><th>string_length</th></tr>",
                            "<tr><td>ügyfélszolgálati munkatárs</td><td>26</td></tr>",
                            "<tr><td>kézbesítő</td><td>9</td></tr>",
                            "<tr><td>ruhatáros</td><td>9</td></tr>",
                            "<tr><td>kisegítő</td><td>8</td></tr>",
                            "<tr><td>takarító</td><td>8</td></tr>",
                            "<tr><td>raktáros</td><td>8</td></tr>",
                            "<tr><td>pincér</td><td>6</td></tr>",
                            "<tr><td>futár</td><td>5</td></tr>",
                            "<tr><td>eladó</td><td>5</td></tr>",
                            "</table>"
                        ]
                    }
                }
            ],
            "execution_count": 5
        },
        {
            "cell_type": "code",
            "source": [
                "SELECT MIN(allas) AS 'Minimális szó hossza', \r\n",
                "       MAX (allas) AS 'Maximális szó hossza'\r\n",
                "FROM munka\r\n",
                "WHERE allas IS NOT NULL\r\n",
                "AND LEN(allas) > 0"
            ],
            "metadata": {
                "language": "sql",
                "azdata_cell_guid": "18107f5c-f8cb-4a0a-9c44-db6e62fcb652"
            },
            "outputs": [
                {
                    "output_type": "display_data",
                    "data": {
                        "text/html": "(1 row affected)"
                    },
                    "metadata": {}
                },
                {
                    "output_type": "display_data",
                    "data": {
                        "text/html": "Total execution time: 00:00:00.016"
                    },
                    "metadata": {}
                },
                {
                    "output_type": "execute_result",
                    "metadata": {},
                    "execution_count": 6,
                    "data": {
                        "application/vnd.dataresource+json": {
                            "schema": {
                                "fields": [
                                    {
                                        "name": "Minimális szó hossza"
                                    },
                                    {
                                        "name": "Maximális szó hossza"
                                    }
                                ]
                            },
                            "data": [
                                {
                                    "Minimális szó hossza": "eladó",
                                    "Maximális szó hossza": "ügyfélszolgálati munkatárs"
                                }
                            ]
                        },
                        "text/html": [
                            "<table>",
                            "<tr><th>Minimális szó hossza</th><th>Maximális szó hossza</th></tr>",
                            "<tr><td>eladó</td><td>ügyfélszolgálati munkatárs</td></tr>",
                            "</table>"
                        ]
                    }
                }
            ],
            "execution_count": 6
        },
        {
            "cell_type": "code",
            "source": [
                "SELECT row_type,\r\n",
                "    COUNT(*) 'Sorok száma'\r\n",
                "FROM \r\n",
                "    (SELECT \r\n",
                "        CASE WHEN DiakAz IS NULL THEN 'Null'\r\n",
                "            ELSE 'Non Empty' \r\n",
                "            END AS row_type\r\n",
                "        FROM munka) rows\r\n",
                "GROUP BY row_type"
            ],
            "metadata": {
                "language": "sql",
                "azdata_cell_guid": "200cf987-c528-4c26-90b6-1cf0dd61645b"
            },
            "outputs": [
                {
                    "output_type": "display_data",
                    "data": {
                        "text/html": "(2 rows affected)"
                    },
                    "metadata": {}
                },
                {
                    "output_type": "display_data",
                    "data": {
                        "text/html": "Total execution time: 00:00:00.012"
                    },
                    "metadata": {}
                },
                {
                    "output_type": "execute_result",
                    "metadata": {},
                    "execution_count": 10,
                    "data": {
                        "application/vnd.dataresource+json": {
                            "schema": {
                                "fields": [
                                    {
                                        "name": "row_type"
                                    },
                                    {
                                        "name": "Sorok száma"
                                    }
                                ]
                            },
                            "data": [
                                {
                                    "row_type": "Non Empty",
                                    "Sorok száma": "31"
                                },
                                {
                                    "row_type": "Null",
                                    "Sorok száma": "10"
                                }
                            ]
                        },
                        "text/html": [
                            "<table>",
                            "<tr><th>row_type</th><th>Sorok száma</th></tr>",
                            "<tr><td>Non Empty</td><td>31</td></tr>",
                            "<tr><td>Null</td><td>10</td></tr>",
                            "</table>"
                        ]
                    }
                }
            ],
            "execution_count": 10
        },
        {
            "cell_type": "code",
            "source": [
                "SELECT MIN(DiakAz) AS 'Minimum érték', \r\n",
                "       MAX(DiakAz) AS 'Maximum érték', \r\n",
                "       AVG(DiakAz) AS 'Átlag érték'\r\n",
                "FROM munka\r\n",
                "WHERE DiakAz IS NOT NULL"
            ],
            "metadata": {
                "language": "sql",
                "azdata_cell_guid": "330a786f-00d0-42eb-b8e1-ac848759c1f1"
            },
            "outputs": [
                {
                    "output_type": "display_data",
                    "data": {
                        "text/html": "(1 row affected)"
                    },
                    "metadata": {}
                },
                {
                    "output_type": "display_data",
                    "data": {
                        "text/html": "Total execution time: 00:00:00.027"
                    },
                    "metadata": {}
                },
                {
                    "output_type": "execute_result",
                    "metadata": {},
                    "execution_count": 11,
                    "data": {
                        "application/vnd.dataresource+json": {
                            "schema": {
                                "fields": [
                                    {
                                        "name": "Minimum érték"
                                    },
                                    {
                                        "name": "Maximum érték"
                                    },
                                    {
                                        "name": "Átlag érték"
                                    }
                                ]
                            },
                            "data": [
                                {
                                    "Minimum érték": "1",
                                    "Maximum érték": "10",
                                    "Átlag érték": "5"
                                }
                            ]
                        },
                        "text/html": [
                            "<table>",
                            "<tr><th>Minimum érték</th><th>Maximum érték</th><th>Átlag érték</th></tr>",
                            "<tr><td>1</td><td>10</td><td>5</td></tr>",
                            "</table>"
                        ]
                    }
                }
            ],
            "execution_count": 11
        },
        {
            "cell_type": "code",
            "source": [
                "SELECT STDEV(DiakAz) AS value_stddev, \r\n",
                "       VAR(DiakAz) AS value_var\r\n",
                "FROM munka\r\n",
                "WHERE DiakAz IS NOT NULL"
            ],
            "metadata": {
                "language": "sql",
                "azdata_cell_guid": "72b11969-709c-4cce-a56f-d828f8fa303a"
            },
            "outputs": [
                {
                    "output_type": "display_data",
                    "data": {
                        "text/html": "(1 row affected)"
                    },
                    "metadata": {}
                },
                {
                    "output_type": "display_data",
                    "data": {
                        "text/html": "Total execution time: 00:00:00.022"
                    },
                    "metadata": {}
                },
                {
                    "output_type": "execute_result",
                    "metadata": {},
                    "execution_count": 12,
                    "data": {
                        "application/vnd.dataresource+json": {
                            "schema": {
                                "fields": [
                                    {
                                        "name": "value_stddev"
                                    },
                                    {
                                        "name": "value_var"
                                    }
                                ]
                            },
                            "data": [
                                {
                                    "value_stddev": "2.734880233661635",
                                    "value_var": "7.479569892473118"
                                }
                            ]
                        },
                        "text/html": [
                            "<table>",
                            "<tr><th>value_stddev</th><th>value_var</th></tr>",
                            "<tr><td>2.734880233661635</td><td>7.479569892473118</td></tr>",
                            "</table>"
                        ]
                    }
                }
            ],
            "execution_count": 12
        }
    ]
}