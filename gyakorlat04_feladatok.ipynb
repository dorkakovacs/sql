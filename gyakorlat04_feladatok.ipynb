{
    "metadata": {
        "kernelspec": {
            "name": "SQL",
            "display_name": "SQL",
            "language": "sql"
        },
        "language_info": {
            "name": "sql",
            "version": ""
        }
    },
    "nbformat_minor": 2,
    "nbformat": 4,
    "cells": [
        {
            "cell_type": "markdown",
            "source": [
                "1. <span style=\"background-color: rgb(255, 255, 255); color: rgb(0, 0, 0); font-family: &quot;Open Sans&quot;, sans-serif; font-size: 14.44px;\">Készítsünk listát arról, hogy ügyfelenként (LOGIN), azon belül szállítási módonként hány megrendelés történt!&nbsp;</span> \n",
                "\n",
                "a. A lista tartalmazza a részösszegeket és a végösszeget is!  \n",
                "b. Használjuk a ROLLUP záradékot!"
            ],
            "metadata": {
                "azdata_cell_guid": "363cd270-6577-449b-9c89-d4b7c7972d52"
            },
            "attachments": {}
        },
        {
            "cell_type": "code",
            "source": [
                "SELECT login, \r\n",
                "        szall_mod,\r\n",
                "        COUNT(*)\r\n",
                "FROM rendeles\r\n",
                "GROUP BY ROLLUP (login, szall_mod)"
            ],
            "metadata": {
                "azdata_cell_guid": "6ab9f633-a3b5-48c9-a1dc-4fb8235ae85b",
                "language": "sql"
            },
            "outputs": [
                {
                    "output_type": "display_data",
                    "data": {
                        "text/html": "(763 rows affected)"
                    },
                    "metadata": {}
                },
                {
                    "output_type": "display_data",
                    "data": {
                        "text/html": "Total execution time: 00:00:00.287"
                    },
                    "metadata": {}
                },
                {
                    "output_type": "execute_result",
                    "metadata": {},
                    "execution_count": 5,
                    "data": {
                        "application/vnd.dataresource+json": {
                            "schema": {
                                "fields": [
                                    {
                                        "name": "login"
                                    },
                                    {
                                        "name": "szall_mod"
                                    },
                                    {
                                        "name": "(No column name)"
                                    }
                                ]
                            },
                            "data": [
                                {
                                    "login": "adam1",
                                    "szall_mod": "GLS",
                                    "(No column name)": "129"
                                },
                                {
                                    "login": "adam1",
                                    "szall_mod": "Posta",
                                    "(No column name)": "132"
                                },
                                {
                                    "login": "adam1",
                                    "szall_mod": "Személyes átvétel",
                                    "(No column name)": "131"
                                },
                                {
                                    "login": "adam1",
                                    "szall_mod": "NULL",
                                    "(No column name)": "392"
                                },
                                {
                                    "login": "adam3",
                                    "szall_mod": "GLS",
                                    "(No column name)": "10"
                                },
                                {
                                    "login": "adam3",
                                    "szall_mod": "Posta",
                                    "(No column name)": "3"
                                },
                                {
                                    "login": "adam3",
                                    "szall_mod": "Személyes átvétel",
                                    "(No column name)": "2"
                                },
                                {
                                    "login": "adam3",
                                    "szall_mod": "NULL",
                                    "(No column name)": "15"
                                },
                                {
                                    "login": "adam4",
                                    "szall_mod": "GLS",
                                    "(No column name)": "12"
                                },
                                {
                                    "login": "adam4",
                                    "szall_mod": "Posta",
                                    "(No column name)": "6"
                                },
                                {
                                    "login": "adam4",
                                    "szall_mod": "Személyes átvétel",
                                    "(No column name)": "11"
                                },
                                {
                                    "login": "adam4",
                                    "szall_mod": "NULL",
                                    "(No column name)": "29"
                                },
                                {
                                    "login": "agnes",
                                    "szall_mod": "GLS",
                                    "(No column name)": "144"
                                },
                                {
                                    "login": "agnes",
                                    "szall_mod": "Posta",
                                    "(No column name)": "130"
                                },
                                {
                                    "login": "agnes",
                                    "szall_mod": "Személyes átvétel",
                                    "(No column name)": "144"
                                },
                                {
                                    "login": "agnes",
                                    "szall_mod": "NULL",
                                    "(No column name)": "418"
                                },
                                {
                                    "login": "agnes3",
                                    "szall_mod": "GLS",
                                    "(No column name)": "148"
                                },
                                {
                                    "login": "agnes3",
                                    "szall_mod": "Posta",
                                    "(No column name)": "146"
                                },
                                {
                                    "login": "agnes3",
                                    "szall_mod": "Személyes átvétel",
                                    "(No column name)": "136"
                                },
                                {
                                    "login": "agnes3",
                                    "szall_mod": "NULL",
                                    "(No column name)": "430"
                                },
                                {
                                    "login": "AGNESH",
                                    "szall_mod": "GLS",
                                    "(No column name)": "2"
                                },
                                {
                                    "login": "AGNESH",
                                    "szall_mod": "Posta",
                                    "(No column name)": "3"
                                },
                                {
                                    "login": "AGNESH",
                                    "szall_mod": "Személyes átvétel",
                                    "(No column name)": "6"
                                },
                                {
                                    "login": "AGNESH",
                                    "szall_mod": "NULL",
                                    "(No column name)": "11"
                                },
                                {
                                    "login": "AGNESK",
                                    "szall_mod": "GLS",
                                    "(No column name)": "1"
                                },
                                {
                                    "login": "AGNESK",
                                    "szall_mod": "Posta",
                                    "(No column name)": "7"
                                },
                                {
                                    "login": "AGNESK",
                                    "szall_mod": "Személyes átvétel",
                                    "(No column name)": "7"
                                },
                                {
                                    "login": "AGNESK",
                                    "szall_mod": "NULL",
                                    "(No column name)": "15"
                                },
                                {
                                    "login": "akos",
                                    "szall_mod": "GLS",
                                    "(No column name)": "146"
                                },
                                {
                                    "login": "akos",
                                    "szall_mod": "Posta",
                                    "(No column name)": "143"
                                },
                                {
                                    "login": "akos",
                                    "szall_mod": "Személyes átvétel",
                                    "(No column name)": "140"
                                },
                                {
                                    "login": "akos",
                                    "szall_mod": "NULL",
                                    "(No column name)": "429"
                                },
                                {
                                    "login": "aladar",
                                    "szall_mod": "GLS",
                                    "(No column name)": "156"
                                },
                                {
                                    "login": "aladar",
                                    "szall_mod": "Posta",
                                    "(No column name)": "134"
                                },
                                {
                                    "login": "aladar",
                                    "szall_mod": "Személyes átvétel",
                                    "(No column name)": "118"
                                },
                                {
                                    "login": "aladar",
                                    "szall_mod": "NULL",
                                    "(No column name)": "408"
                                },
                                {
                                    "login": "alexandra",
                                    "szall_mod": "GLS",
                                    "(No column name)": "5"
                                },
                                {
                                    "login": "alexandra",
                                    "szall_mod": "Posta",
                                    "(No column name)": "9"
                                },
                                {
                                    "login": "alexandra",
                                    "szall_mod": "Személyes átvétel",
                                    "(No column name)": "5"
                                },
                                {
                                    "login": "alexandra",
                                    "szall_mod": "NULL",
                                    "(No column name)": "19"
                                },
                                {
                                    "login": "andi",
                                    "szall_mod": "GLS",
                                    "(No column name)": "7"
                                },
                                {
                                    "login": "andi",
                                    "szall_mod": "Posta",
                                    "(No column name)": "4"
                                },
                                {
                                    "login": "andi",
                                    "szall_mod": "Személyes átvétel",
                                    "(No column name)": "7"
                                },
                                {
                                    "login": "andi",
                                    "szall_mod": "NULL",
                                    "(No column name)": "18"
                                },
                                {
                                    "login": "andras2",
                                    "szall_mod": "GLS",
                                    "(No column name)": "4"
                                },
                                {
                                    "login": "andras2",
                                    "szall_mod": "Posta",
                                    "(No column name)": "7"
                                },
                                {
                                    "login": "andras2",
                                    "szall_mod": "Személyes átvétel",
                                    "(No column name)": "11"
                                },
                                {
                                    "login": "andras2",
                                    "szall_mod": "NULL",
                                    "(No column name)": "22"
                                },
                                {
                                    "login": "andras21",
                                    "szall_mod": "GLS",
                                    "(No column name)": "140"
                                },
                                {
                                    "login": "andras21",
                                    "szall_mod": "Posta",
                                    "(No column name)": "124"
                                },
                                {
                                    "login": "andras21",
                                    "szall_mod": "Személyes átvétel",
                                    "(No column name)": "126"
                                },
                                {
                                    "login": "andras21",
                                    "szall_mod": "NULL",
                                    "(No column name)": "390"
                                },
                                {
                                    "login": "andras3",
                                    "szall_mod": "GLS",
                                    "(No column name)": "3"
                                },
                                {
                                    "login": "andras3",
                                    "szall_mod": "Posta",
                                    "(No column name)": "1"
                                },
                                {
                                    "login": "andras3",
                                    "szall_mod": "Személyes átvétel",
                                    "(No column name)": "5"
                                },
                                {
                                    "login": "andras3",
                                    "szall_mod": "NULL",
                                    "(No column name)": "9"
                                },
                                {
                                    "login": "andras4",
                                    "szall_mod": "GLS",
                                    "(No column name)": "4"
                                },
                                {
                                    "login": "andras4",
                                    "szall_mod": "Posta",
                                    "(No column name)": "4"
                                },
                                {
                                    "login": "andras4",
                                    "szall_mod": "Személyes átvétel",
                                    "(No column name)": "4"
                                },
                                {
                                    "login": "andras4",
                                    "szall_mod": "NULL",
                                    "(No column name)": "12"
                                },
                                {
                                    "login": "andras41",
                                    "szall_mod": "GLS",
                                    "(No column name)": "149"
                                },
                                {
                                    "login": "andras41",
                                    "szall_mod": "Posta",
                                    "(No column name)": "137"
                                },
                                {
                                    "login": "andras41",
                                    "szall_mod": "Személyes átvétel",
                                    "(No column name)": "133"
                                },
                                {
                                    "login": "andras41",
                                    "szall_mod": "NULL",
                                    "(No column name)": "419"
                                },
                                {
                                    "login": "ANDRASE",
                                    "szall_mod": "GLS",
                                    "(No column name)": "159"
                                },
                                {
                                    "login": "ANDRASE",
                                    "szall_mod": "Posta",
                                    "(No column name)": "141"
                                },
                                {
                                    "login": "ANDRASE",
                                    "szall_mod": "Személyes átvétel",
                                    "(No column name)": "136"
                                },
                                {
                                    "login": "ANDRASE",
                                    "szall_mod": "NULL",
                                    "(No column name)": "436"
                                },
                                {
                                    "login": "ANDRASN",
                                    "szall_mod": "GLS",
                                    "(No column name)": "10"
                                },
                                {
                                    "login": "ANDRASN",
                                    "szall_mod": "Posta",
                                    "(No column name)": "9"
                                },
                                {
                                    "login": "ANDRASN",
                                    "szall_mod": "Személyes átvétel",
                                    "(No column name)": "5"
                                },
                                {
                                    "login": "ANDRASN",
                                    "szall_mod": "NULL",
                                    "(No column name)": "24"
                                },
                                {
                                    "login": "andrea",
                                    "szall_mod": "GLS",
                                    "(No column name)": "12"
                                },
                                {
                                    "login": "andrea",
                                    "szall_mod": "Posta",
                                    "(No column name)": "4"
                                },
                                {
                                    "login": "andrea",
                                    "szall_mod": "Személyes átvétel",
                                    "(No column name)": "8"
                                },
                                {
                                    "login": "andrea",
                                    "szall_mod": "NULL",
                                    "(No column name)": "24"
                                },
                                {
                                    "login": "andrea3",
                                    "szall_mod": "GLS",
                                    "(No column name)": "131"
                                },
                                {
                                    "login": "andrea3",
                                    "szall_mod": "Posta",
                                    "(No column name)": "136"
                                },
                                {
                                    "login": "andrea3",
                                    "szall_mod": "Személyes átvétel",
                                    "(No column name)": "146"
                                },
                                {
                                    "login": "andrea3",
                                    "szall_mod": "NULL",
                                    "(No column name)": "413"
                                },
                                {
                                    "login": "andrea4",
                                    "szall_mod": "GLS",
                                    "(No column name)": "7"
                                },
                                {
                                    "login": "andrea4",
                                    "szall_mod": "Posta",
                                    "(No column name)": "4"
                                },
                                {
                                    "login": "andrea4",
                                    "szall_mod": "Személyes átvétel",
                                    "(No column name)": "7"
                                },
                                {
                                    "login": "andrea4",
                                    "szall_mod": "NULL",
                                    "(No column name)": "18"
                                },
                                {
                                    "login": "ANDREAT",
                                    "szall_mod": "GLS",
                                    "(No column name)": "3"
                                },
                                {
                                    "login": "ANDREAT",
                                    "szall_mod": "Posta",
                                    "(No column name)": "6"
                                },
                                {
                                    "login": "ANDREAT",
                                    "szall_mod": "Személyes átvétel",
                                    "(No column name)": "12"
                                },
                                {
                                    "login": "ANDREAT",
                                    "szall_mod": "NULL",
                                    "(No column name)": "21"
                                },
                                {
                                    "login": "anett3",
                                    "szall_mod": "GLS",
                                    "(No column name)": "3"
                                },
                                {
                                    "login": "anett3",
                                    "szall_mod": "Posta",
                                    "(No column name)": "6"
                                },
                                {
                                    "login": "anett3",
                                    "szall_mod": "Személyes átvétel",
                                    "(No column name)": "9"
                                },
                                {
                                    "login": "anett3",
                                    "szall_mod": "NULL",
                                    "(No column name)": "18"
                                },
                                {
                                    "login": "aniko",
                                    "szall_mod": "GLS",
                                    "(No column name)": "128"
                                },
                                {
                                    "login": "aniko",
                                    "szall_mod": "Posta",
                                    "(No column name)": "137"
                                },
                                {
                                    "login": "aniko",
                                    "szall_mod": "Személyes átvétel",
                                    "(No column name)": "138"
                                },
                                {
                                    "login": "aniko",
                                    "szall_mod": "NULL",
                                    "(No column name)": "403"
                                },
                                {
                                    "login": "aniko4",
                                    "szall_mod": "GLS",
                                    "(No column name)": "6"
                                },
                                {
                                    "login": "aniko4",
                                    "szall_mod": "Posta",
                                    "(No column name)": "6"
                                },
                                {
                                    "login": "aniko4",
                                    "szall_mod": "Személyes átvétel",
                                    "(No column name)": "3"
                                },
                                {
                                    "login": "aniko4",
                                    "szall_mod": "NULL",
                                    "(No column name)": "15"
                                },
                                {
                                    "login": "ANIKOS",
                                    "szall_mod": "GLS",
                                    "(No column name)": "128"
                                },
                                {
                                    "login": "ANIKOS",
                                    "szall_mod": "Posta",
                                    "(No column name)": "126"
                                },
                                {
                                    "login": "ANIKOS",
                                    "szall_mod": "Személyes átvétel",
                                    "(No column name)": "150"
                                },
                                {
                                    "login": "ANIKOS",
                                    "szall_mod": "NULL",
                                    "(No column name)": "404"
                                },
                                {
                                    "login": "anita",
                                    "szall_mod": "GLS",
                                    "(No column name)": "5"
                                },
                                {
                                    "login": "anita",
                                    "szall_mod": "Posta",
                                    "(No column name)": "2"
                                },
                                {
                                    "login": "anita",
                                    "szall_mod": "Személyes átvétel",
                                    "(No column name)": "5"
                                },
                                {
                                    "login": "anita",
                                    "szall_mod": "NULL",
                                    "(No column name)": "12"
                                },
                                {
                                    "login": "annamaria1",
                                    "szall_mod": "GLS",
                                    "(No column name)": "5"
                                },
                                {
                                    "login": "annamaria1",
                                    "szall_mod": "Posta",
                                    "(No column name)": "4"
                                },
                                {
                                    "login": "annamaria1",
                                    "szall_mod": "Személyes átvétel",
                                    "(No column name)": "7"
                                },
                                {
                                    "login": "annamaria1",
                                    "szall_mod": "NULL",
                                    "(No column name)": "16"
                                },
                                {
                                    "login": "ANNAMARIAR",
                                    "szall_mod": "GLS",
                                    "(No column name)": "8"
                                },
                                {
                                    "login": "ANNAMARIAR",
                                    "szall_mod": "Posta",
                                    "(No column name)": "2"
                                },
                                {
                                    "login": "ANNAMARIAR",
                                    "szall_mod": "Személyes átvétel",
                                    "(No column name)": "3"
                                },
                                {
                                    "login": "ANNAMARIAR",
                                    "szall_mod": "NULL",
                                    "(No column name)": "13"
                                },
                                {
                                    "login": "aron2",
                                    "szall_mod": "GLS",
                                    "(No column name)": "132"
                                },
                                {
                                    "login": "aron2",
                                    "szall_mod": "Posta",
                                    "(No column name)": "133"
                                },
                                {
                                    "login": "aron2",
                                    "szall_mod": "Személyes átvétel",
                                    "(No column name)": "144"
                                },
                                {
                                    "login": "aron2",
                                    "szall_mod": "NULL",
                                    "(No column name)": "409"
                                },
                                {
                                    "login": "ARONK",
                                    "szall_mod": "GLS",
                                    "(No column name)": "155"
                                },
                                {
                                    "login": "ARONK",
                                    "szall_mod": "Posta",
                                    "(No column name)": "120"
                                },
                                {
                                    "login": "ARONK",
                                    "szall_mod": "Személyes átvétel",
                                    "(No column name)": "155"
                                },
                                {
                                    "login": "ARONK",
                                    "szall_mod": "NULL",
                                    "(No column name)": "430"
                                },
                                {
                                    "login": "arpad2",
                                    "szall_mod": "GLS",
                                    "(No column name)": "6"
                                },
                                {
                                    "login": "arpad2",
                                    "szall_mod": "Posta",
                                    "(No column name)": "1"
                                },
                                {
                                    "login": "arpad2",
                                    "szall_mod": "Személyes átvétel",
                                    "(No column name)": "10"
                                },
                                {
                                    "login": "arpad2",
                                    "szall_mod": "NULL",
                                    "(No column name)": "17"
                                },
                                {
                                    "login": "ARPADH",
                                    "szall_mod": "GLS",
                                    "(No column name)": "6"
                                },
                                {
                                    "login": "ARPADH",
                                    "szall_mod": "Posta",
                                    "(No column name)": "3"
                                },
                                {
                                    "login": "ARPADH",
                                    "szall_mod": "Személyes átvétel",
                                    "(No column name)": "5"
                                },
                                {
                                    "login": "ARPADH",
                                    "szall_mod": "NULL",
                                    "(No column name)": "14"
                                },
                                {
                                    "login": "ARPADM",
                                    "szall_mod": "GLS",
                                    "(No column name)": "6"
                                },
                                {
                                    "login": "ARPADM",
                                    "szall_mod": "Posta",
                                    "(No column name)": "3"
                                },
                                {
                                    "login": "ARPADM",
                                    "szall_mod": "Személyes átvétel",
                                    "(No column name)": "7"
                                },
                                {
                                    "login": "ARPADM",
                                    "szall_mod": "NULL",
                                    "(No column name)": "16"
                                },
                                {
                                    "login": "attila1",
                                    "szall_mod": "GLS",
                                    "(No column name)": "5"
                                },
                                {
                                    "login": "attila1",
                                    "szall_mod": "Posta",
                                    "(No column name)": "7"
                                },
                                {
                                    "login": "attila1",
                                    "szall_mod": "Személyes átvétel",
                                    "(No column name)": "6"
                                },
                                {
                                    "login": "attila1",
                                    "szall_mod": "NULL",
                                    "(No column name)": "18"
                                },
                                {
                                    "login": "attila4",
                                    "szall_mod": "GLS",
                                    "(No column name)": "135"
                                },
                                {
                                    "login": "attila4",
                                    "szall_mod": "Posta",
                                    "(No column name)": "125"
                                },
                                {
                                    "login": "attila4",
                                    "szall_mod": "Személyes átvétel",
                                    "(No column name)": "141"
                                },
                                {
                                    "login": "attila4",
                                    "szall_mod": "NULL",
                                    "(No column name)": "401"
                                },
                                {
                                    "login": "ATTILAO",
                                    "szall_mod": "GLS",
                                    "(No column name)": "4"
                                },
                                {
                                    "login": "ATTILAO",
                                    "szall_mod": "Posta",
                                    "(No column name)": "4"
                                },
                                {
                                    "login": "ATTILAO",
                                    "szall_mod": "Személyes átvétel",
                                    "(No column name)": "6"
                                },
                                {
                                    "login": "ATTILAO",
                                    "szall_mod": "NULL",
                                    "(No column name)": "14"
                                },
                                {
                                    "login": "balazs1",
                                    "szall_mod": "GLS",
                                    "(No column name)": "128"
                                },
                                {
                                    "login": "balazs1",
                                    "szall_mod": "Posta",
                                    "(No column name)": "136"
                                },
                                {
                                    "login": "balazs1",
                                    "szall_mod": "Személyes átvétel",
                                    "(No column name)": "155"
                                },
                                {
                                    "login": "balazs1",
                                    "szall_mod": "NULL",
                                    "(No column name)": "419"
                                },
                                {
                                    "login": "balazs2",
                                    "szall_mod": "GLS",
                                    "(No column name)": "5"
                                },
                                {
                                    "login": "balazs2",
                                    "szall_mod": "Posta",
                                    "(No column name)": "7"
                                },
                                {
                                    "login": "balazs2",
                                    "szall_mod": "Személyes átvétel",
                                    "(No column name)": "5"
                                },
                                {
                                    "login": "balazs2",
                                    "szall_mod": "NULL",
                                    "(No column name)": "17"
                                },
                                {
                                    "login": "balazs3",
                                    "szall_mod": "GLS",
                                    "(No column name)": "6"
                                },
                                {
                                    "login": "balazs3",
                                    "szall_mod": "Posta",
                                    "(No column name)": "6"
                                },
                                {
                                    "login": "balazs3",
                                    "szall_mod": "Személyes átvétel",
                                    "(No column name)": "3"
                                },
                                {
                                    "login": "balazs3",
                                    "szall_mod": "NULL",
                                    "(No column name)": "15"
                                },
                                {
                                    "login": "balint",
                                    "szall_mod": "GLS",
                                    "(No column name)": "10"
                                },
                                {
                                    "login": "balint",
                                    "szall_mod": "Posta",
                                    "(No column name)": "4"
                                },
                                {
                                    "login": "balint",
                                    "szall_mod": "Személyes átvétel",
                                    "(No column name)": "2"
                                },
                                {
                                    "login": "balint",
                                    "szall_mod": "NULL",
                                    "(No column name)": "16"
                                },
                                {
                                    "login": "balint1",
                                    "szall_mod": "GLS",
                                    "(No column name)": "158"
                                },
                                {
                                    "login": "balint1",
                                    "szall_mod": "Posta",
                                    "(No column name)": "152"
                                },
                                {
                                    "login": "balint1",
                                    "szall_mod": "Személyes átvétel",
                                    "(No column name)": "152"
                                },
                                {
                                    "login": "balint1",
                                    "szall_mod": "NULL",
                                    "(No column name)": "462"
                                },
                                {
                                    "login": "balint2",
                                    "szall_mod": "GLS",
                                    "(No column name)": "8"
                                },
                                {
                                    "login": "balint2",
                                    "szall_mod": "Posta",
                                    "(No column name)": "6"
                                },
                                {
                                    "login": "balint2",
                                    "szall_mod": "Személyes átvétel",
                                    "(No column name)": "3"
                                },
                                {
                                    "login": "balint2",
                                    "szall_mod": "NULL",
                                    "(No column name)": "17"
                                },
                                {
                                    "login": "balu",
                                    "szall_mod": "GLS",
                                    "(No column name)": "127"
                                },
                                {
                                    "login": "balu",
                                    "szall_mod": "Posta",
                                    "(No column name)": "137"
                                },
                                {
                                    "login": "balu",
                                    "szall_mod": "Személyes átvétel",
                                    "(No column name)": "123"
                                },
                                {
                                    "login": "balu",
                                    "szall_mod": "NULL",
                                    "(No column name)": "387"
                                },
                                {
                                    "login": "BEATRIXK",
                                    "szall_mod": "GLS",
                                    "(No column name)": "135"
                                },
                                {
                                    "login": "BEATRIXK",
                                    "szall_mod": "Posta",
                                    "(No column name)": "155"
                                },
                                {
                                    "login": "BEATRIXK",
                                    "szall_mod": "Személyes átvétel",
                                    "(No column name)": "145"
                                },
                                {
                                    "login": "BEATRIXK",
                                    "szall_mod": "NULL",
                                    "(No column name)": "435"
                                },
                                {
                                    "login": "BEATRIXS",
                                    "szall_mod": "GLS",
                                    "(No column name)": "146"
                                },
                                {
                                    "login": "BEATRIXS",
                                    "szall_mod": "Posta",
                                    "(No column name)": "141"
                                },
                                {
                                    "login": "BEATRIXS",
                                    "szall_mod": "Személyes átvétel",
                                    "(No column name)": "133"
                                },
                                {
                                    "login": "BEATRIXS",
                                    "szall_mod": "NULL",
                                    "(No column name)": "420"
                                },
                                {
                                    "login": "BELAF",
                                    "szall_mod": "GLS",
                                    "(No column name)": "11"
                                },
                                {
                                    "login": "BELAF",
                                    "szall_mod": "Posta",
                                    "(No column name)": "2"
                                },
                                {
                                    "login": "BELAF",
                                    "szall_mod": "Személyes átvétel",
                                    "(No column name)": "5"
                                },
                                {
                                    "login": "BELAF",
                                    "szall_mod": "NULL",
                                    "(No column name)": "18"
                                },
                                {
                                    "login": "bence",
                                    "szall_mod": "GLS",
                                    "(No column name)": "4"
                                },
                                {
                                    "login": "bence",
                                    "szall_mod": "Posta",
                                    "(No column name)": "6"
                                },
                                {
                                    "login": "bence",
                                    "szall_mod": "Személyes átvétel",
                                    "(No column name)": "8"
                                },
                                {
                                    "login": "bence",
                                    "szall_mod": "NULL",
                                    "(No column name)": "18"
                                },
                                {
                                    "login": "BENCEB",
                                    "szall_mod": "GLS",
                                    "(No column name)": "5"
                                },
                                {
                                    "login": "BENCEB",
                                    "szall_mod": "Posta",
                                    "(No column name)": "7"
                                },
                                {
                                    "login": "BENCEB",
                                    "szall_mod": "Személyes átvétel",
                                    "(No column name)": "5"
                                },
                                {
                                    "login": "BENCEB",
                                    "szall_mod": "NULL",
                                    "(No column name)": "17"
                                },
                                {
                                    "login": "bernadett1",
                                    "szall_mod": "GLS",
                                    "(No column name)": "10"
                                },
                                {
                                    "login": "bernadett1",
                                    "szall_mod": "Posta",
                                    "(No column name)": "5"
                                },
                                {
                                    "login": "bernadett1",
                                    "szall_mod": "Személyes átvétel",
                                    "(No column name)": "5"
                                },
                                {
                                    "login": "bernadett1",
                                    "szall_mod": "NULL",
                                    "(No column name)": "20"
                                },
                                {
                                    "login": "bernadett2",
                                    "szall_mod": "GLS",
                                    "(No column name)": "6"
                                },
                                {
                                    "login": "bernadett2",
                                    "szall_mod": "Posta",
                                    "(No column name)": "2"
                                },
                                {
                                    "login": "bernadett2",
                                    "szall_mod": "Személyes átvétel",
                                    "(No column name)": "7"
                                },
                                {
                                    "login": "bernadett2",
                                    "szall_mod": "NULL",
                                    "(No column name)": "15"
                                },
                                {
                                    "login": "BERNADETTO",
                                    "szall_mod": "GLS",
                                    "(No column name)": "7"
                                },
                                {
                                    "login": "BERNADETTO",
                                    "szall_mod": "Posta",
                                    "(No column name)": "2"
                                },
                                {
                                    "login": "BERNADETTO",
                                    "szall_mod": "Személyes átvétel",
                                    "(No column name)": "7"
                                },
                                {
                                    "login": "BERNADETTO",
                                    "szall_mod": "NULL",
                                    "(No column name)": "16"
                                },
                                {
                                    "login": "bertalan",
                                    "szall_mod": "GLS",
                                    "(No column name)": "128"
                                },
                                {
                                    "login": "bertalan",
                                    "szall_mod": "Posta",
                                    "(No column name)": "124"
                                },
                                {
                                    "login": "bertalan",
                                    "szall_mod": "Személyes átvétel",
                                    "(No column name)": "101"
                                },
                                {
                                    "login": "bertalan",
                                    "szall_mod": "NULL",
                                    "(No column name)": "353"
                                },
                                {
                                    "login": "brigitta",
                                    "szall_mod": "GLS",
                                    "(No column name)": "137"
                                },
                                {
                                    "login": "brigitta",
                                    "szall_mod": "Posta",
                                    "(No column name)": "137"
                                },
                                {
                                    "login": "brigitta",
                                    "szall_mod": "Személyes átvétel",
                                    "(No column name)": "119"
                                },
                                {
                                    "login": "brigitta",
                                    "szall_mod": "NULL",
                                    "(No column name)": "393"
                                },
                                {
                                    "login": "brigitta3",
                                    "szall_mod": "GLS",
                                    "(No column name)": "144"
                                },
                                {
                                    "login": "brigitta3",
                                    "szall_mod": "Posta",
                                    "(No column name)": "130"
                                },
                                {
                                    "login": "brigitta3",
                                    "szall_mod": "Személyes átvétel",
                                    "(No column name)": "139"
                                },
                                {
                                    "login": "brigitta3",
                                    "szall_mod": "NULL",
                                    "(No column name)": "413"
                                },
                                {
                                    "login": "csongor3",
                                    "szall_mod": "GLS",
                                    "(No column name)": "5"
                                },
                                {
                                    "login": "csongor3",
                                    "szall_mod": "Posta",
                                    "(No column name)": "2"
                                },
                                {
                                    "login": "csongor3",
                                    "szall_mod": "Személyes átvétel",
                                    "(No column name)": "8"
                                },
                                {
                                    "login": "csongor3",
                                    "szall_mod": "NULL",
                                    "(No column name)": "15"
                                },
                                {
                                    "login": "dani",
                                    "szall_mod": "GLS",
                                    "(No column name)": "5"
                                },
                                {
                                    "login": "dani",
                                    "szall_mod": "Személyes átvétel",
                                    "(No column name)": "8"
                                },
                                {
                                    "login": "dani",
                                    "szall_mod": "NULL",
                                    "(No column name)": "13"
                                },
                                {
                                    "login": "daniel",
                                    "szall_mod": "GLS",
                                    "(No column name)": "7"
                                },
                                {
                                    "login": "daniel",
                                    "szall_mod": "Posta",
                                    "(No column name)": "2"
                                },
                                {
                                    "login": "daniel",
                                    "szall_mod": "Személyes átvétel",
                                    "(No column name)": "4"
                                },
                                {
                                    "login": "daniel",
                                    "szall_mod": "NULL",
                                    "(No column name)": "13"
                                },
                                {
                                    "login": "daniel1",
                                    "szall_mod": "GLS",
                                    "(No column name)": "156"
                                },
                                {
                                    "login": "daniel1",
                                    "szall_mod": "Posta",
                                    "(No column name)": "131"
                                },
                                {
                                    "login": "daniel1",
                                    "szall_mod": "Személyes átvétel",
                                    "(No column name)": "132"
                                },
                                {
                                    "login": "daniel1",
                                    "szall_mod": "NULL",
                                    "(No column name)": "419"
                                },
                                {
                                    "login": "david",
                                    "szall_mod": "GLS",
                                    "(No column name)": "161"
                                },
                                {
                                    "login": "david",
                                    "szall_mod": "Posta",
                                    "(No column name)": "144"
                                },
                                {
                                    "login": "david",
                                    "szall_mod": "Személyes átvétel",
                                    "(No column name)": "146"
                                },
                                {
                                    "login": "david",
                                    "szall_mod": "NULL",
                                    "(No column name)": "451"
                                },
                                {
                                    "login": "david1",
                                    "szall_mod": "GLS",
                                    "(No column name)": "8"
                                },
                                {
                                    "login": "david1",
                                    "szall_mod": "Posta",
                                    "(No column name)": "1"
                                },
                                {
                                    "login": "david1",
                                    "szall_mod": "Személyes átvétel",
                                    "(No column name)": "8"
                                },
                                {
                                    "login": "david1",
                                    "szall_mod": "NULL",
                                    "(No column name)": "17"
                                },
                                {
                                    "login": "david4",
                                    "szall_mod": "GLS",
                                    "(No column name)": "3"
                                },
                                {
                                    "login": "david4",
                                    "szall_mod": "Posta",
                                    "(No column name)": "8"
                                },
                                {
                                    "login": "david4",
                                    "szall_mod": "Személyes átvétel",
                                    "(No column name)": "10"
                                },
                                {
                                    "login": "david4",
                                    "szall_mod": "NULL",
                                    "(No column name)": "21"
                                },
                                {
                                    "login": "debora",
                                    "szall_mod": "GLS",
                                    "(No column name)": "7"
                                },
                                {
                                    "login": "debora",
                                    "szall_mod": "Posta",
                                    "(No column name)": "6"
                                },
                                {
                                    "login": "debora",
                                    "szall_mod": "Személyes átvétel",
                                    "(No column name)": "3"
                                },
                                {
                                    "login": "debora",
                                    "szall_mod": "NULL",
                                    "(No column name)": "16"
                                },
                                {
                                    "login": "denes",
                                    "szall_mod": "GLS",
                                    "(No column name)": "3"
                                },
                                {
                                    "login": "denes",
                                    "szall_mod": "Posta",
                                    "(No column name)": "2"
                                },
                                {
                                    "login": "denes",
                                    "szall_mod": "Személyes átvétel",
                                    "(No column name)": "4"
                                },
                                {
                                    "login": "denes",
                                    "szall_mod": "NULL",
                                    "(No column name)": "9"
                                },
                                {
                                    "login": "dora3",
                                    "szall_mod": "GLS",
                                    "(No column name)": "144"
                                },
                                {
                                    "login": "dora3",
                                    "szall_mod": "Posta",
                                    "(No column name)": "124"
                                },
                                {
                                    "login": "dora3",
                                    "szall_mod": "Személyes átvétel",
                                    "(No column name)": "164"
                                },
                                {
                                    "login": "dora3",
                                    "szall_mod": "NULL",
                                    "(No column name)": "432"
                                },
                                {
                                    "login": "edit",
                                    "szall_mod": "GLS",
                                    "(No column name)": "7"
                                },
                                {
                                    "login": "edit",
                                    "szall_mod": "Posta",
                                    "(No column name)": "2"
                                },
                                {
                                    "login": "edit",
                                    "szall_mod": "Személyes átvétel",
                                    "(No column name)": "4"
                                },
                                {
                                    "login": "edit",
                                    "szall_mod": "NULL",
                                    "(No column name)": "13"
                                },
                                {
                                    "login": "emese",
                                    "szall_mod": "GLS",
                                    "(No column name)": "128"
                                },
                                {
                                    "login": "emese",
                                    "szall_mod": "Posta",
                                    "(No column name)": "136"
                                },
                                {
                                    "login": "emese",
                                    "szall_mod": "Személyes átvétel",
                                    "(No column name)": "142"
                                },
                                {
                                    "login": "emese",
                                    "szall_mod": "NULL",
                                    "(No column name)": "406"
                                },
                                {
                                    "login": "eszter2",
                                    "szall_mod": "GLS",
                                    "(No column name)": "127"
                                },
                                {
                                    "login": "eszter2",
                                    "szall_mod": "Posta",
                                    "(No column name)": "136"
                                },
                                {
                                    "login": "eszter2",
                                    "szall_mod": "Személyes átvétel",
                                    "(No column name)": "152"
                                },
                                {
                                    "login": "eszter2",
                                    "szall_mod": "NULL",
                                    "(No column name)": "415"
                                },
                                {
                                    "login": "eszter4",
                                    "szall_mod": "GLS",
                                    "(No column name)": "141"
                                },
                                {
                                    "login": "eszter4",
                                    "szall_mod": "Posta",
                                    "(No column name)": "134"
                                },
                                {
                                    "login": "eszter4",
                                    "szall_mod": "Személyes átvétel",
                                    "(No column name)": "149"
                                },
                                {
                                    "login": "eszter4",
                                    "szall_mod": "NULL",
                                    "(No column name)": "424"
                                },
                                {
                                    "login": "ESZTERE",
                                    "szall_mod": "GLS",
                                    "(No column name)": "6"
                                },
                                {
                                    "login": "ESZTERE",
                                    "szall_mod": "Posta",
                                    "(No column name)": "9"
                                },
                                {
                                    "login": "ESZTERE",
                                    "szall_mod": "Személyes átvétel",
                                    "(No column name)": "7"
                                },
                                {
                                    "login": "ESZTERE",
                                    "szall_mod": "NULL",
                                    "(No column name)": "22"
                                },
                                {
                                    "login": "eva",
                                    "szall_mod": "GLS",
                                    "(No column name)": "125"
                                },
                                {
                                    "login": "eva",
                                    "szall_mod": "Posta",
                                    "(No column name)": "140"
                                },
                                {
                                    "login": "eva",
                                    "szall_mod": "Személyes átvétel",
                                    "(No column name)": "139"
                                },
                                {
                                    "login": "eva",
                                    "szall_mod": "NULL",
                                    "(No column name)": "404"
                                },
                                {
                                    "login": "eva2",
                                    "szall_mod": "GLS",
                                    "(No column name)": "154"
                                },
                                {
                                    "login": "eva2",
                                    "szall_mod": "Posta",
                                    "(No column name)": "138"
                                },
                                {
                                    "login": "eva2",
                                    "szall_mod": "Személyes átvétel",
                                    "(No column name)": "170"
                                },
                                {
                                    "login": "eva2",
                                    "szall_mod": "NULL",
                                    "(No column name)": "462"
                                },
                                {
                                    "login": "EVAV",
                                    "szall_mod": "GLS",
                                    "(No column name)": "2"
                                },
                                {
                                    "login": "EVAV",
                                    "szall_mod": "Posta",
                                    "(No column name)": "1"
                                },
                                {
                                    "login": "EVAV",
                                    "szall_mod": "Személyes átvétel",
                                    "(No column name)": "4"
                                },
                                {
                                    "login": "EVAV",
                                    "szall_mod": "NULL",
                                    "(No column name)": "7"
                                },
                                {
                                    "login": "ferenc1",
                                    "szall_mod": "GLS",
                                    "(No column name)": "144"
                                },
                                {
                                    "login": "ferenc1",
                                    "szall_mod": "Posta",
                                    "(No column name)": "158"
                                },
                                {
                                    "login": "ferenc1",
                                    "szall_mod": "Személyes átvétel",
                                    "(No column name)": "135"
                                },
                                {
                                    "login": "ferenc1",
                                    "szall_mod": "NULL",
                                    "(No column name)": "437"
                                },
                                {
                                    "login": "fruzsina4",
                                    "szall_mod": "GLS",
                                    "(No column name)": "8"
                                },
                                {
                                    "login": "fruzsina4",
                                    "szall_mod": "Posta",
                                    "(No column name)": "3"
                                },
                                {
                                    "login": "fruzsina4",
                                    "szall_mod": "Személyes átvétel",
                                    "(No column name)": "7"
                                },
                                {
                                    "login": "fruzsina4",
                                    "szall_mod": "NULL",
                                    "(No column name)": "18"
                                },
                                {
                                    "login": "gabor1",
                                    "szall_mod": "GLS",
                                    "(No column name)": "9"
                                },
                                {
                                    "login": "gabor1",
                                    "szall_mod": "Posta",
                                    "(No column name)": "5"
                                },
                                {
                                    "login": "gabor1",
                                    "szall_mod": "Személyes átvétel",
                                    "(No column name)": "5"
                                },
                                {
                                    "login": "gabor1",
                                    "szall_mod": "NULL",
                                    "(No column name)": "19"
                                },
                                {
                                    "login": "gabor4",
                                    "szall_mod": "GLS",
                                    "(No column name)": "7"
                                },
                                {
                                    "login": "gabor4",
                                    "szall_mod": "Posta",
                                    "(No column name)": "9"
                                },
                                {
                                    "login": "gabor4",
                                    "szall_mod": "Személyes átvétel",
                                    "(No column name)": "4"
                                },
                                {
                                    "login": "gabor4",
                                    "szall_mod": "NULL",
                                    "(No column name)": "20"
                                },
                                {
                                    "login": "GABORS",
                                    "szall_mod": "GLS",
                                    "(No column name)": "5"
                                },
                                {
                                    "login": "GABORS",
                                    "szall_mod": "Posta",
                                    "(No column name)": "6"
                                },
                                {
                                    "login": "GABORS",
                                    "szall_mod": "Személyes átvétel",
                                    "(No column name)": "4"
                                },
                                {
                                    "login": "GABORS",
                                    "szall_mod": "NULL",
                                    "(No column name)": "15"
                                },
                                {
                                    "login": "gabriella1",
                                    "szall_mod": "GLS",
                                    "(No column name)": "5"
                                },
                                {
                                    "login": "gabriella1",
                                    "szall_mod": "Posta",
                                    "(No column name)": "4"
                                },
                                {
                                    "login": "gabriella1",
                                    "szall_mod": "Személyes átvétel",
                                    "(No column name)": "5"
                                },
                                {
                                    "login": "gabriella1",
                                    "szall_mod": "NULL",
                                    "(No column name)": "14"
                                },
                                {
                                    "login": "gabriella10",
                                    "szall_mod": "GLS",
                                    "(No column name)": "4"
                                },
                                {
                                    "login": "gabriella10",
                                    "szall_mod": "Posta",
                                    "(No column name)": "5"
                                },
                                {
                                    "login": "gabriella10",
                                    "szall_mod": "Személyes átvétel",
                                    "(No column name)": "7"
                                },
                                {
                                    "login": "gabriella10",
                                    "szall_mod": "NULL",
                                    "(No column name)": "16"
                                },
                                {
                                    "login": "georgij",
                                    "szall_mod": "GLS",
                                    "(No column name)": "9"
                                },
                                {
                                    "login": "georgij",
                                    "szall_mod": "Posta",
                                    "(No column name)": "2"
                                },
                                {
                                    "login": "georgij",
                                    "szall_mod": "Személyes átvétel",
                                    "(No column name)": "10"
                                },
                                {
                                    "login": "georgij",
                                    "szall_mod": "NULL",
                                    "(No column name)": "21"
                                },
                                {
                                    "login": "gusztav",
                                    "szall_mod": "GLS",
                                    "(No column name)": "5"
                                },
                                {
                                    "login": "gusztav",
                                    "szall_mod": "Posta",
                                    "(No column name)": "4"
                                },
                                {
                                    "login": "gusztav",
                                    "szall_mod": "Személyes átvétel",
                                    "(No column name)": "5"
                                },
                                {
                                    "login": "gusztav",
                                    "szall_mod": "NULL",
                                    "(No column name)": "14"
                                },
                                {
                                    "login": "GYONGYIK",
                                    "szall_mod": "GLS",
                                    "(No column name)": "6"
                                },
                                {
                                    "login": "GYONGYIK",
                                    "szall_mod": "Posta",
                                    "(No column name)": "6"
                                },
                                {
                                    "login": "GYONGYIK",
                                    "szall_mod": "Személyes átvétel",
                                    "(No column name)": "3"
                                },
                                {
                                    "login": "GYONGYIK",
                                    "szall_mod": "NULL",
                                    "(No column name)": "15"
                                },
                                {
                                    "login": "GYORGYO",
                                    "szall_mod": "GLS",
                                    "(No column name)": "7"
                                },
                                {
                                    "login": "GYORGYO",
                                    "szall_mod": "Posta",
                                    "(No column name)": "4"
                                },
                                {
                                    "login": "GYORGYO",
                                    "szall_mod": "Személyes átvétel",
                                    "(No column name)": "5"
                                },
                                {
                                    "login": "GYORGYO",
                                    "szall_mod": "NULL",
                                    "(No column name)": "16"
                                },
                                {
                                    "login": "henrik3",
                                    "szall_mod": "GLS",
                                    "(No column name)": "7"
                                },
                                {
                                    "login": "henrik3",
                                    "szall_mod": "Posta",
                                    "(No column name)": "4"
                                },
                                {
                                    "login": "henrik3",
                                    "szall_mod": "Személyes átvétel",
                                    "(No column name)": "5"
                                },
                                {
                                    "login": "henrik3",
                                    "szall_mod": "NULL",
                                    "(No column name)": "16"
                                },
                                {
                                    "login": "IBOLYAA",
                                    "szall_mod": "GLS",
                                    "(No column name)": "140"
                                },
                                {
                                    "login": "IBOLYAA",
                                    "szall_mod": "Posta",
                                    "(No column name)": "125"
                                },
                                {
                                    "login": "IBOLYAA",
                                    "szall_mod": "Személyes átvétel",
                                    "(No column name)": "157"
                                },
                                {
                                    "login": "IBOLYAA",
                                    "szall_mod": "NULL",
                                    "(No column name)": "422"
                                },
                                {
                                    "login": "ilona3",
                                    "szall_mod": "GLS",
                                    "(No column name)": "9"
                                },
                                {
                                    "login": "ilona3",
                                    "szall_mod": "Posta",
                                    "(No column name)": "2"
                                },
                                {
                                    "login": "ilona3",
                                    "szall_mod": "Személyes átvétel",
                                    "(No column name)": "7"
                                },
                                {
                                    "login": "ilona3",
                                    "szall_mod": "NULL",
                                    "(No column name)": "18"
                                },
                                {
                                    "login": "imre",
                                    "szall_mod": "GLS",
                                    "(No column name)": "5"
                                },
                                {
                                    "login": "imre",
                                    "szall_mod": "Posta",
                                    "(No column name)": "4"
                                },
                                {
                                    "login": "imre",
                                    "szall_mod": "Személyes átvétel",
                                    "(No column name)": "6"
                                },
                                {
                                    "login": "imre",
                                    "szall_mod": "NULL",
                                    "(No column name)": "15"
                                },
                                {
                                    "login": "imre1",
                                    "szall_mod": "GLS",
                                    "(No column name)": "8"
                                },
                                {
                                    "login": "imre1",
                                    "szall_mod": "Posta",
                                    "(No column name)": "4"
                                },
                                {
                                    "login": "imre1",
                                    "szall_mod": "Személyes átvétel",
                                    "(No column name)": "3"
                                },
                                {
                                    "login": "imre1",
                                    "szall_mod": "NULL",
                                    "(No column name)": "15"
                                },
                                {
                                    "login": "istvan",
                                    "szall_mod": "GLS",
                                    "(No column name)": "3"
                                },
                                {
                                    "login": "istvan",
                                    "szall_mod": "Posta",
                                    "(No column name)": "4"
                                },
                                {
                                    "login": "istvan",
                                    "szall_mod": "Személyes átvétel",
                                    "(No column name)": "4"
                                },
                                {
                                    "login": "istvan",
                                    "szall_mod": "NULL",
                                    "(No column name)": "11"
                                },
                                {
                                    "login": "istvan1",
                                    "szall_mod": "GLS",
                                    "(No column name)": "8"
                                },
                                {
                                    "login": "istvan1",
                                    "szall_mod": "Posta",
                                    "(No column name)": "4"
                                },
                                {
                                    "login": "istvan1",
                                    "szall_mod": "Személyes átvétel",
                                    "(No column name)": "7"
                                },
                                {
                                    "login": "istvan1",
                                    "szall_mod": "NULL",
                                    "(No column name)": "19"
                                },
                                {
                                    "login": "ISTVANV",
                                    "szall_mod": "GLS",
                                    "(No column name)": "4"
                                },
                                {
                                    "login": "ISTVANV",
                                    "szall_mod": "Posta",
                                    "(No column name)": "9"
                                },
                                {
                                    "login": "ISTVANV",
                                    "szall_mod": "Személyes átvétel",
                                    "(No column name)": "8"
                                },
                                {
                                    "login": "ISTVANV",
                                    "szall_mod": "NULL",
                                    "(No column name)": "21"
                                },
                                {
                                    "login": "janos3",
                                    "szall_mod": "GLS",
                                    "(No column name)": "5"
                                },
                                {
                                    "login": "janos3",
                                    "szall_mod": "Posta",
                                    "(No column name)": "2"
                                },
                                {
                                    "login": "janos3",
                                    "szall_mod": "Személyes átvétel",
                                    "(No column name)": "6"
                                },
                                {
                                    "login": "janos3",
                                    "szall_mod": "NULL",
                                    "(No column name)": "13"
                                },
                                {
                                    "login": "JANOSG",
                                    "szall_mod": "GLS",
                                    "(No column name)": "3"
                                },
                                {
                                    "login": "JANOSG",
                                    "szall_mod": "Posta",
                                    "(No column name)": "3"
                                },
                                {
                                    "login": "JANOSG",
                                    "szall_mod": "Személyes átvétel",
                                    "(No column name)": "4"
                                },
                                {
                                    "login": "JANOSG",
                                    "szall_mod": "NULL",
                                    "(No column name)": "10"
                                },
                                {
                                    "login": "JANOSP",
                                    "szall_mod": "GLS",
                                    "(No column name)": "7"
                                },
                                {
                                    "login": "JANOSP",
                                    "szall_mod": "Posta",
                                    "(No column name)": "7"
                                },
                                {
                                    "login": "JANOSP",
                                    "szall_mod": "Személyes átvétel",
                                    "(No column name)": "3"
                                },
                                {
                                    "login": "JANOSP",
                                    "szall_mod": "NULL",
                                    "(No column name)": "17"
                                },
                                {
                                    "login": "jozsef",
                                    "szall_mod": "GLS",
                                    "(No column name)": "116"
                                },
                                {
                                    "login": "jozsef",
                                    "szall_mod": "Posta",
                                    "(No column name)": "132"
                                },
                                {
                                    "login": "jozsef",
                                    "szall_mod": "Személyes átvétel",
                                    "(No column name)": "134"
                                },
                                {
                                    "login": "jozsef",
                                    "szall_mod": "NULL",
                                    "(No column name)": "382"
                                },
                                {
                                    "login": "jozsef2",
                                    "szall_mod": "GLS",
                                    "(No column name)": "7"
                                },
                                {
                                    "login": "jozsef2",
                                    "szall_mod": "Posta",
                                    "(No column name)": "2"
                                },
                                {
                                    "login": "jozsef2",
                                    "szall_mod": "Személyes átvétel",
                                    "(No column name)": "4"
                                },
                                {
                                    "login": "jozsef2",
                                    "szall_mod": "NULL",
                                    "(No column name)": "13"
                                },
                                {
                                    "login": "JOZSEFG",
                                    "szall_mod": "GLS",
                                    "(No column name)": "11"
                                },
                                {
                                    "login": "JOZSEFG",
                                    "szall_mod": "Posta",
                                    "(No column name)": "1"
                                },
                                {
                                    "login": "JOZSEFG",
                                    "szall_mod": "Személyes átvétel",
                                    "(No column name)": "9"
                                },
                                {
                                    "login": "JOZSEFG",
                                    "szall_mod": "NULL",
                                    "(No column name)": "21"
                                },
                                {
                                    "login": "JUDITH",
                                    "szall_mod": "GLS",
                                    "(No column name)": "170"
                                },
                                {
                                    "login": "JUDITH",
                                    "szall_mod": "Posta",
                                    "(No column name)": "130"
                                },
                                {
                                    "login": "JUDITH",
                                    "szall_mod": "Személyes átvétel",
                                    "(No column name)": "150"
                                },
                                {
                                    "login": "JUDITH",
                                    "szall_mod": "NULL",
                                    "(No column name)": "450"
                                },
                                {
                                    "login": "julia",
                                    "szall_mod": "GLS",
                                    "(No column name)": "137"
                                },
                                {
                                    "login": "julia",
                                    "szall_mod": "Posta",
                                    "(No column name)": "160"
                                },
                                {
                                    "login": "julia",
                                    "szall_mod": "Személyes átvétel",
                                    "(No column name)": "138"
                                },
                                {
                                    "login": "julia",
                                    "szall_mod": "NULL",
                                    "(No column name)": "435"
                                },
                                {
                                    "login": "julia4",
                                    "szall_mod": "GLS",
                                    "(No column name)": "2"
                                },
                                {
                                    "login": "julia4",
                                    "szall_mod": "Posta",
                                    "(No column name)": "4"
                                },
                                {
                                    "login": "julia4",
                                    "szall_mod": "Személyes átvétel",
                                    "(No column name)": "8"
                                },
                                {
                                    "login": "julia4",
                                    "szall_mod": "NULL",
                                    "(No column name)": "14"
                                },
                                {
                                    "login": "julianna4",
                                    "szall_mod": "GLS",
                                    "(No column name)": "8"
                                },
                                {
                                    "login": "julianna4",
                                    "szall_mod": "Posta",
                                    "(No column name)": "12"
                                },
                                {
                                    "login": "julianna4",
                                    "szall_mod": "Személyes átvétel",
                                    "(No column name)": "7"
                                },
                                {
                                    "login": "julianna4",
                                    "szall_mod": "NULL",
                                    "(No column name)": "27"
                                },
                                {
                                    "login": "kata",
                                    "szall_mod": "GLS",
                                    "(No column name)": "5"
                                },
                                {
                                    "login": "kata",
                                    "szall_mod": "Posta",
                                    "(No column name)": "4"
                                },
                                {
                                    "login": "kata",
                                    "szall_mod": "Személyes átvétel",
                                    "(No column name)": "3"
                                },
                                {
                                    "login": "kata",
                                    "szall_mod": "NULL",
                                    "(No column name)": "12"
                                },
                                {
                                    "login": "katalin",
                                    "szall_mod": "GLS",
                                    "(No column name)": "7"
                                },
                                {
                                    "login": "katalin",
                                    "szall_mod": "Posta",
                                    "(No column name)": "7"
                                },
                                {
                                    "login": "katalin",
                                    "szall_mod": "Személyes átvétel",
                                    "(No column name)": "5"
                                },
                                {
                                    "login": "katalin",
                                    "szall_mod": "NULL",
                                    "(No column name)": "19"
                                },
                                {
                                    "login": "katalin4",
                                    "szall_mod": "GLS",
                                    "(No column name)": "7"
                                },
                                {
                                    "login": "katalin4",
                                    "szall_mod": "Posta",
                                    "(No column name)": "5"
                                },
                                {
                                    "login": "katalin4",
                                    "szall_mod": "Személyes átvétel",
                                    "(No column name)": "11"
                                },
                                {
                                    "login": "katalin4",
                                    "szall_mod": "NULL",
                                    "(No column name)": "23"
                                },
                                {
                                    "login": "kati",
                                    "szall_mod": "GLS",
                                    "(No column name)": "4"
                                },
                                {
                                    "login": "kati",
                                    "szall_mod": "Posta",
                                    "(No column name)": "5"
                                },
                                {
                                    "login": "kati",
                                    "szall_mod": "Személyes átvétel",
                                    "(No column name)": "4"
                                },
                                {
                                    "login": "kati",
                                    "szall_mod": "NULL",
                                    "(No column name)": "13"
                                },
                                {
                                    "login": "katka",
                                    "szall_mod": "GLS",
                                    "(No column name)": "6"
                                },
                                {
                                    "login": "katka",
                                    "szall_mod": "Posta",
                                    "(No column name)": "6"
                                },
                                {
                                    "login": "katka",
                                    "szall_mod": "Személyes átvétel",
                                    "(No column name)": "10"
                                },
                                {
                                    "login": "katka",
                                    "szall_mod": "NULL",
                                    "(No column name)": "22"
                                },
                                {
                                    "login": "klaudia2",
                                    "szall_mod": "GLS",
                                    "(No column name)": "3"
                                },
                                {
                                    "login": "klaudia2",
                                    "szall_mod": "Posta",
                                    "(No column name)": "9"
                                },
                                {
                                    "login": "klaudia2",
                                    "szall_mod": "Személyes átvétel",
                                    "(No column name)": "5"
                                },
                                {
                                    "login": "klaudia2",
                                    "szall_mod": "NULL",
                                    "(No column name)": "17"
                                },
                                {
                                    "login": "kornel4",
                                    "szall_mod": "GLS",
                                    "(No column name)": "3"
                                },
                                {
                                    "login": "kornel4",
                                    "szall_mod": "Posta",
                                    "(No column name)": "1"
                                },
                                {
                                    "login": "kornel4",
                                    "szall_mod": "Személyes átvétel",
                                    "(No column name)": "7"
                                },
                                {
                                    "login": "kornel4",
                                    "szall_mod": "NULL",
                                    "(No column name)": "11"
                                },
                                {
                                    "login": "kristof4",
                                    "szall_mod": "GLS",
                                    "(No column name)": "9"
                                },
                                {
                                    "login": "kristof4",
                                    "szall_mod": "Posta",
                                    "(No column name)": "4"
                                },
                                {
                                    "login": "kristof4",
                                    "szall_mod": "Személyes átvétel",
                                    "(No column name)": "8"
                                },
                                {
                                    "login": "kristof4",
                                    "szall_mod": "NULL",
                                    "(No column name)": "21"
                                },
                                {
                                    "login": "kriszti",
                                    "szall_mod": "GLS",
                                    "(No column name)": "3"
                                },
                                {
                                    "login": "kriszti",
                                    "szall_mod": "Posta",
                                    "(No column name)": "5"
                                },
                                {
                                    "login": "kriszti",
                                    "szall_mod": "Személyes átvétel",
                                    "(No column name)": "5"
                                },
                                {
                                    "login": "kriszti",
                                    "szall_mod": "NULL",
                                    "(No column name)": "13"
                                },
                                {
                                    "login": "krisztian4",
                                    "szall_mod": "GLS",
                                    "(No column name)": "5"
                                },
                                {
                                    "login": "krisztian4",
                                    "szall_mod": "Posta",
                                    "(No column name)": "6"
                                },
                                {
                                    "login": "krisztian4",
                                    "szall_mod": "Személyes átvétel",
                                    "(No column name)": "6"
                                },
                                {
                                    "login": "krisztian4",
                                    "szall_mod": "NULL",
                                    "(No column name)": "17"
                                },
                                {
                                    "login": "KRISZTIANM",
                                    "szall_mod": "GLS",
                                    "(No column name)": "118"
                                },
                                {
                                    "login": "KRISZTIANM",
                                    "szall_mod": "Posta",
                                    "(No column name)": "136"
                                },
                                {
                                    "login": "KRISZTIANM",
                                    "szall_mod": "Személyes átvétel",
                                    "(No column name)": "130"
                                },
                                {
                                    "login": "KRISZTIANM",
                                    "szall_mod": "NULL",
                                    "(No column name)": "384"
                                },
                                {
                                    "login": "krisztina",
                                    "szall_mod": "GLS",
                                    "(No column name)": "149"
                                },
                                {
                                    "login": "krisztina",
                                    "szall_mod": "Posta",
                                    "(No column name)": "150"
                                },
                                {
                                    "login": "krisztina",
                                    "szall_mod": "Személyes átvétel",
                                    "(No column name)": "157"
                                },
                                {
                                    "login": "krisztina",
                                    "szall_mod": "NULL",
                                    "(No column name)": "456"
                                },
                                {
                                    "login": "krisztina1",
                                    "szall_mod": "GLS",
                                    "(No column name)": "10"
                                },
                                {
                                    "login": "krisztina1",
                                    "szall_mod": "Posta",
                                    "(No column name)": "4"
                                },
                                {
                                    "login": "krisztina1",
                                    "szall_mod": "Személyes átvétel",
                                    "(No column name)": "8"
                                },
                                {
                                    "login": "krisztina1",
                                    "szall_mod": "NULL",
                                    "(No column name)": "22"
                                },
                                {
                                    "login": "KRISZTINAG",
                                    "szall_mod": "GLS",
                                    "(No column name)": "6"
                                },
                                {
                                    "login": "KRISZTINAG",
                                    "szall_mod": "Posta",
                                    "(No column name)": "6"
                                },
                                {
                                    "login": "KRISZTINAG",
                                    "szall_mod": "Személyes átvétel",
                                    "(No column name)": "10"
                                },
                                {
                                    "login": "KRISZTINAG",
                                    "szall_mod": "NULL",
                                    "(No column name)": "22"
                                },
                                {
                                    "login": "lajos",
                                    "szall_mod": "GLS",
                                    "(No column name)": "5"
                                },
                                {
                                    "login": "lajos",
                                    "szall_mod": "Posta",
                                    "(No column name)": "2"
                                },
                                {
                                    "login": "lajos",
                                    "szall_mod": "Személyes átvétel",
                                    "(No column name)": "9"
                                },
                                {
                                    "login": "lajos",
                                    "szall_mod": "NULL",
                                    "(No column name)": "16"
                                },
                                {
                                    "login": "lala",
                                    "szall_mod": "GLS",
                                    "(No column name)": "5"
                                },
                                {
                                    "login": "lala",
                                    "szall_mod": "Posta",
                                    "(No column name)": "3"
                                },
                                {
                                    "login": "lala",
                                    "szall_mod": "Személyes átvétel",
                                    "(No column name)": "9"
                                },
                                {
                                    "login": "lala",
                                    "szall_mod": "NULL",
                                    "(No column name)": "17"
                                },
                                {
                                    "login": "laszlo1",
                                    "szall_mod": "GLS",
                                    "(No column name)": "130"
                                },
                                {
                                    "login": "laszlo1",
                                    "szall_mod": "Posta",
                                    "(No column name)": "129"
                                },
                                {
                                    "login": "laszlo1",
                                    "szall_mod": "Személyes átvétel",
                                    "(No column name)": "135"
                                },
                                {
                                    "login": "laszlo1",
                                    "szall_mod": "NULL",
                                    "(No column name)": "394"
                                },
                                {
                                    "login": "laszlo2",
                                    "szall_mod": "GLS",
                                    "(No column name)": "12"
                                },
                                {
                                    "login": "laszlo2",
                                    "szall_mod": "Posta",
                                    "(No column name)": "6"
                                },
                                {
                                    "login": "laszlo2",
                                    "szall_mod": "Személyes átvétel",
                                    "(No column name)": "7"
                                },
                                {
                                    "login": "laszlo2",
                                    "szall_mod": "NULL",
                                    "(No column name)": "25"
                                },
                                {
                                    "login": "LASZLOA",
                                    "szall_mod": "GLS",
                                    "(No column name)": "156"
                                },
                                {
                                    "login": "LASZLOA",
                                    "szall_mod": "Posta",
                                    "(No column name)": "136"
                                },
                                {
                                    "login": "LASZLOA",
                                    "szall_mod": "Személyes átvétel",
                                    "(No column name)": "154"
                                },
                                {
                                    "login": "LASZLOA",
                                    "szall_mod": "NULL",
                                    "(No column name)": "446"
                                },
                                {
                                    "login": "LASZLON",
                                    "szall_mod": "GLS",
                                    "(No column name)": "126"
                                },
                                {
                                    "login": "LASZLON",
                                    "szall_mod": "Posta",
                                    "(No column name)": "131"
                                },
                                {
                                    "login": "LASZLON",
                                    "szall_mod": "Személyes átvétel",
                                    "(No column name)": "143"
                                },
                                {
                                    "login": "LASZLON",
                                    "szall_mod": "NULL",
                                    "(No column name)": "400"
                                },
                                {
                                    "login": "maria1",
                                    "szall_mod": "GLS",
                                    "(No column name)": "4"
                                },
                                {
                                    "login": "maria1",
                                    "szall_mod": "Posta",
                                    "(No column name)": "5"
                                },
                                {
                                    "login": "maria1",
                                    "szall_mod": "Személyes átvétel",
                                    "(No column name)": "1"
                                },
                                {
                                    "login": "maria1",
                                    "szall_mod": "NULL",
                                    "(No column name)": "10"
                                },
                                {
                                    "login": "MARKH",
                                    "szall_mod": "GLS",
                                    "(No column name)": "128"
                                },
                                {
                                    "login": "MARKH",
                                    "szall_mod": "Posta",
                                    "(No column name)": "142"
                                },
                                {
                                    "login": "MARKH",
                                    "szall_mod": "Személyes átvétel",
                                    "(No column name)": "142"
                                },
                                {
                                    "login": "MARKH",
                                    "szall_mod": "NULL",
                                    "(No column name)": "412"
                                },
                                {
                                    "login": "marton",
                                    "szall_mod": "GLS",
                                    "(No column name)": "5"
                                },
                                {
                                    "login": "marton",
                                    "szall_mod": "Posta",
                                    "(No column name)": "4"
                                },
                                {
                                    "login": "marton",
                                    "szall_mod": "Személyes átvétel",
                                    "(No column name)": "5"
                                },
                                {
                                    "login": "marton",
                                    "szall_mod": "NULL",
                                    "(No column name)": "14"
                                },
                                {
                                    "login": "MATEK",
                                    "szall_mod": "GLS",
                                    "(No column name)": "6"
                                },
                                {
                                    "login": "MATEK",
                                    "szall_mod": "Posta",
                                    "(No column name)": "10"
                                },
                                {
                                    "login": "MATEK",
                                    "szall_mod": "Személyes átvétel",
                                    "(No column name)": "9"
                                },
                                {
                                    "login": "MATEK",
                                    "szall_mod": "NULL",
                                    "(No column name)": "25"
                                },
                                {
                                    "login": "matyas2",
                                    "szall_mod": "GLS",
                                    "(No column name)": "138"
                                },
                                {
                                    "login": "matyas2",
                                    "szall_mod": "Posta",
                                    "(No column name)": "131"
                                },
                                {
                                    "login": "matyas2",
                                    "szall_mod": "Személyes átvétel",
                                    "(No column name)": "164"
                                },
                                {
                                    "login": "matyas2",
                                    "szall_mod": "NULL",
                                    "(No column name)": "433"
                                },
                                {
                                    "login": "MATYASS",
                                    "szall_mod": "GLS",
                                    "(No column name)": "4"
                                },
                                {
                                    "login": "MATYASS",
                                    "szall_mod": "Posta",
                                    "(No column name)": "5"
                                },
                                {
                                    "login": "MATYASS",
                                    "szall_mod": "Személyes átvétel",
                                    "(No column name)": "3"
                                },
                                {
                                    "login": "MATYASS",
                                    "szall_mod": "NULL",
                                    "(No column name)": "12"
                                },
                                {
                                    "login": "MIHALYJ",
                                    "szall_mod": "GLS",
                                    "(No column name)": "3"
                                },
                                {
                                    "login": "MIHALYJ",
                                    "szall_mod": "Posta",
                                    "(No column name)": "4"
                                },
                                {
                                    "login": "MIHALYJ",
                                    "szall_mod": "Személyes átvétel",
                                    "(No column name)": "6"
                                },
                                {
                                    "login": "MIHALYJ",
                                    "szall_mod": "NULL",
                                    "(No column name)": "13"
                                },
                                {
                                    "login": "miklos2",
                                    "szall_mod": "GLS",
                                    "(No column name)": "7"
                                },
                                {
                                    "login": "miklos2",
                                    "szall_mod": "Posta",
                                    "(No column name)": "4"
                                },
                                {
                                    "login": "miklos2",
                                    "szall_mod": "Személyes átvétel",
                                    "(No column name)": "2"
                                },
                                {
                                    "login": "miklos2",
                                    "szall_mod": "NULL",
                                    "(No column name)": "13"
                                },
                                {
                                    "login": "MIKLOSB",
                                    "szall_mod": "GLS",
                                    "(No column name)": "6"
                                },
                                {
                                    "login": "MIKLOSB",
                                    "szall_mod": "Posta",
                                    "(No column name)": "1"
                                },
                                {
                                    "login": "MIKLOSB",
                                    "szall_mod": "Személyes átvétel",
                                    "(No column name)": "8"
                                },
                                {
                                    "login": "MIKLOSB",
                                    "szall_mod": "NULL",
                                    "(No column name)": "15"
                                },
                                {
                                    "login": "MONIKAM",
                                    "szall_mod": "GLS",
                                    "(No column name)": "133"
                                },
                                {
                                    "login": "MONIKAM",
                                    "szall_mod": "Posta",
                                    "(No column name)": "151"
                                },
                                {
                                    "login": "MONIKAM",
                                    "szall_mod": "Személyes átvétel",
                                    "(No column name)": "123"
                                },
                                {
                                    "login": "MONIKAM",
                                    "szall_mod": "NULL",
                                    "(No column name)": "407"
                                },
                                {
                                    "login": "NANDORF",
                                    "szall_mod": "GLS",
                                    "(No column name)": "147"
                                },
                                {
                                    "login": "NANDORF",
                                    "szall_mod": "Posta",
                                    "(No column name)": "139"
                                },
                                {
                                    "login": "NANDORF",
                                    "szall_mod": "Személyes átvétel",
                                    "(No column name)": "134"
                                },
                                {
                                    "login": "NANDORF",
                                    "szall_mod": "NULL",
                                    "(No column name)": "420"
                                },
                                {
                                    "login": "nikolett3",
                                    "szall_mod": "GLS",
                                    "(No column name)": "4"
                                },
                                {
                                    "login": "nikolett3",
                                    "szall_mod": "Posta",
                                    "(No column name)": "3"
                                },
                                {
                                    "login": "nikolett3",
                                    "szall_mod": "Személyes átvétel",
                                    "(No column name)": "10"
                                },
                                {
                                    "login": "nikolett3",
                                    "szall_mod": "NULL",
                                    "(No column name)": "17"
                                },
                                {
                                    "login": "nikoletta4",
                                    "szall_mod": "GLS",
                                    "(No column name)": "137"
                                },
                                {
                                    "login": "nikoletta4",
                                    "szall_mod": "Posta",
                                    "(No column name)": "158"
                                },
                                {
                                    "login": "nikoletta4",
                                    "szall_mod": "Személyes átvétel",
                                    "(No column name)": "119"
                                },
                                {
                                    "login": "nikoletta4",
                                    "szall_mod": "NULL",
                                    "(No column name)": "414"
                                },
                                {
                                    "login": "NIKOLETTAT",
                                    "szall_mod": "GLS",
                                    "(No column name)": "13"
                                },
                                {
                                    "login": "NIKOLETTAT",
                                    "szall_mod": "Posta",
                                    "(No column name)": "7"
                                },
                                {
                                    "login": "NIKOLETTAT",
                                    "szall_mod": "Személyes átvétel",
                                    "(No column name)": "5"
                                },
                                {
                                    "login": "NIKOLETTAT",
                                    "szall_mod": "NULL",
                                    "(No column name)": "25"
                                },
                                {
                                    "login": "norbert2",
                                    "szall_mod": "GLS",
                                    "(No column name)": "7"
                                },
                                {
                                    "login": "norbert2",
                                    "szall_mod": "Posta",
                                    "(No column name)": "4"
                                },
                                {
                                    "login": "norbert2",
                                    "szall_mod": "NULL",
                                    "(No column name)": "11"
                                },
                                {
                                    "login": "norbert4",
                                    "szall_mod": "GLS",
                                    "(No column name)": "1"
                                },
                                {
                                    "login": "norbert4",
                                    "szall_mod": "Posta",
                                    "(No column name)": "3"
                                },
                                {
                                    "login": "norbert4",
                                    "szall_mod": "Személyes átvétel",
                                    "(No column name)": "9"
                                },
                                {
                                    "login": "norbert4",
                                    "szall_mod": "NULL",
                                    "(No column name)": "13"
                                },
                                {
                                    "login": "norbert5",
                                    "szall_mod": "GLS",
                                    "(No column name)": "1"
                                },
                                {
                                    "login": "norbert5",
                                    "szall_mod": "Posta",
                                    "(No column name)": "6"
                                },
                                {
                                    "login": "norbert5",
                                    "szall_mod": "Személyes átvétel",
                                    "(No column name)": "9"
                                },
                                {
                                    "login": "norbert5",
                                    "szall_mod": "NULL",
                                    "(No column name)": "16"
                                },
                                {
                                    "login": "pal",
                                    "szall_mod": "GLS",
                                    "(No column name)": "152"
                                },
                                {
                                    "login": "pal",
                                    "szall_mod": "Posta",
                                    "(No column name)": "132"
                                },
                                {
                                    "login": "pal",
                                    "szall_mod": "Személyes átvétel",
                                    "(No column name)": "154"
                                },
                                {
                                    "login": "pal",
                                    "szall_mod": "NULL",
                                    "(No column name)": "438"
                                },
                                {
                                    "login": "peter1",
                                    "szall_mod": "GLS",
                                    "(No column name)": "151"
                                },
                                {
                                    "login": "peter1",
                                    "szall_mod": "Posta",
                                    "(No column name)": "135"
                                },
                                {
                                    "login": "peter1",
                                    "szall_mod": "Személyes átvétel",
                                    "(No column name)": "126"
                                },
                                {
                                    "login": "peter1",
                                    "szall_mod": "NULL",
                                    "(No column name)": "412"
                                },
                                {
                                    "login": "peter2",
                                    "szall_mod": "GLS",
                                    "(No column name)": "7"
                                },
                                {
                                    "login": "peter2",
                                    "szall_mod": "Posta",
                                    "(No column name)": "4"
                                },
                                {
                                    "login": "peter2",
                                    "szall_mod": "Személyes átvétel",
                                    "(No column name)": "7"
                                },
                                {
                                    "login": "peter2",
                                    "szall_mod": "NULL",
                                    "(No column name)": "18"
                                },
                                {
                                    "login": "peter3",
                                    "szall_mod": "GLS",
                                    "(No column name)": "8"
                                },
                                {
                                    "login": "peter3",
                                    "szall_mod": "Posta",
                                    "(No column name)": "7"
                                },
                                {
                                    "login": "peter3",
                                    "szall_mod": "Személyes átvétel",
                                    "(No column name)": "10"
                                },
                                {
                                    "login": "peter3",
                                    "szall_mod": "NULL",
                                    "(No column name)": "25"
                                },
                                {
                                    "login": "peter4",
                                    "szall_mod": "GLS",
                                    "(No column name)": "266"
                                },
                                {
                                    "login": "peter4",
                                    "szall_mod": "Posta",
                                    "(No column name)": "293"
                                },
                                {
                                    "login": "peter4",
                                    "szall_mod": "Személyes átvétel",
                                    "(No column name)": "293"
                                },
                                {
                                    "login": "peter4",
                                    "szall_mod": "NULL",
                                    "(No column name)": "852"
                                },
                                {
                                    "login": "PETERB",
                                    "szall_mod": "GLS",
                                    "(No column name)": "2"
                                },
                                {
                                    "login": "PETERB",
                                    "szall_mod": "Posta",
                                    "(No column name)": "4"
                                },
                                {
                                    "login": "PETERB",
                                    "szall_mod": "Személyes átvétel",
                                    "(No column name)": "9"
                                },
                                {
                                    "login": "PETERB",
                                    "szall_mod": "NULL",
                                    "(No column name)": "15"
                                },
                                {
                                    "login": "polla",
                                    "szall_mod": "GLS",
                                    "(No column name)": "9"
                                },
                                {
                                    "login": "polla",
                                    "szall_mod": "Posta",
                                    "(No column name)": "6"
                                },
                                {
                                    "login": "polla",
                                    "szall_mod": "Személyes átvétel",
                                    "(No column name)": "7"
                                },
                                {
                                    "login": "polla",
                                    "szall_mod": "NULL",
                                    "(No column name)": "22"
                                },
                                {
                                    "login": "rajmond4",
                                    "szall_mod": "GLS",
                                    "(No column name)": "6"
                                },
                                {
                                    "login": "rajmond4",
                                    "szall_mod": "Posta",
                                    "(No column name)": "5"
                                },
                                {
                                    "login": "rajmond4",
                                    "szall_mod": "Személyes átvétel",
                                    "(No column name)": "6"
                                },
                                {
                                    "login": "rajmond4",
                                    "szall_mod": "NULL",
                                    "(No column name)": "17"
                                },
                                {
                                    "login": "reka4",
                                    "szall_mod": "GLS",
                                    "(No column name)": "5"
                                },
                                {
                                    "login": "reka4",
                                    "szall_mod": "Posta",
                                    "(No column name)": "4"
                                },
                                {
                                    "login": "reka4",
                                    "szall_mod": "Személyes átvétel",
                                    "(No column name)": "11"
                                },
                                {
                                    "login": "reka4",
                                    "szall_mod": "NULL",
                                    "(No column name)": "20"
                                },
                                {
                                    "login": "RENATAK",
                                    "szall_mod": "GLS",
                                    "(No column name)": "135"
                                },
                                {
                                    "login": "RENATAK",
                                    "szall_mod": "Posta",
                                    "(No column name)": "140"
                                },
                                {
                                    "login": "RENATAK",
                                    "szall_mod": "Személyes átvétel",
                                    "(No column name)": "147"
                                },
                                {
                                    "login": "RENATAK",
                                    "szall_mod": "NULL",
                                    "(No column name)": "422"
                                },
                                {
                                    "login": "RENATAS",
                                    "szall_mod": "GLS",
                                    "(No column name)": "6"
                                },
                                {
                                    "login": "RENATAS",
                                    "szall_mod": "Posta",
                                    "(No column name)": "5"
                                },
                                {
                                    "login": "RENATAS",
                                    "szall_mod": "Személyes átvétel",
                                    "(No column name)": "5"
                                },
                                {
                                    "login": "RENATAS",
                                    "szall_mod": "NULL",
                                    "(No column name)": "16"
                                },
                                {
                                    "login": "robert2",
                                    "szall_mod": "GLS",
                                    "(No column name)": "5"
                                },
                                {
                                    "login": "robert2",
                                    "szall_mod": "Posta",
                                    "(No column name)": "1"
                                },
                                {
                                    "login": "robert2",
                                    "szall_mod": "Személyes átvétel",
                                    "(No column name)": "7"
                                },
                                {
                                    "login": "robert2",
                                    "szall_mod": "NULL",
                                    "(No column name)": "13"
                                },
                                {
                                    "login": "ROBERTI",
                                    "szall_mod": "GLS",
                                    "(No column name)": "5"
                                },
                                {
                                    "login": "ROBERTI",
                                    "szall_mod": "Posta",
                                    "(No column name)": "3"
                                },
                                {
                                    "login": "ROBERTI",
                                    "szall_mod": "Személyes átvétel",
                                    "(No column name)": "5"
                                },
                                {
                                    "login": "ROBERTI",
                                    "szall_mod": "NULL",
                                    "(No column name)": "13"
                                },
                                {
                                    "login": "ROBERTP",
                                    "szall_mod": "GLS",
                                    "(No column name)": "8"
                                },
                                {
                                    "login": "ROBERTP",
                                    "szall_mod": "Posta",
                                    "(No column name)": "8"
                                },
                                {
                                    "login": "ROBERTP",
                                    "szall_mod": "Személyes átvétel",
                                    "(No column name)": "10"
                                },
                                {
                                    "login": "ROBERTP",
                                    "szall_mod": "NULL",
                                    "(No column name)": "26"
                                },
                                {
                                    "login": "roland",
                                    "szall_mod": "GLS",
                                    "(No column name)": "132"
                                },
                                {
                                    "login": "roland",
                                    "szall_mod": "Posta",
                                    "(No column name)": "157"
                                },
                                {
                                    "login": "roland",
                                    "szall_mod": "Személyes átvétel",
                                    "(No column name)": "125"
                                },
                                {
                                    "login": "roland",
                                    "szall_mod": "NULL",
                                    "(No column name)": "414"
                                },
                                {
                                    "login": "roland1",
                                    "szall_mod": "GLS",
                                    "(No column name)": "142"
                                },
                                {
                                    "login": "roland1",
                                    "szall_mod": "Posta",
                                    "(No column name)": "155"
                                },
                                {
                                    "login": "roland1",
                                    "szall_mod": "Személyes átvétel",
                                    "(No column name)": "135"
                                },
                                {
                                    "login": "roland1",
                                    "szall_mod": "NULL",
                                    "(No column name)": "432"
                                },
                                {
                                    "login": "roza2",
                                    "szall_mod": "GLS",
                                    "(No column name)": "3"
                                },
                                {
                                    "login": "roza2",
                                    "szall_mod": "Posta",
                                    "(No column name)": "2"
                                },
                                {
                                    "login": "roza2",
                                    "szall_mod": "Személyes átvétel",
                                    "(No column name)": "3"
                                },
                                {
                                    "login": "roza2",
                                    "szall_mod": "NULL",
                                    "(No column name)": "8"
                                },
                                {
                                    "login": "sandor",
                                    "szall_mod": "GLS",
                                    "(No column name)": "4"
                                },
                                {
                                    "login": "sandor",
                                    "szall_mod": "Posta",
                                    "(No column name)": "6"
                                },
                                {
                                    "login": "sandor",
                                    "szall_mod": "Személyes átvétel",
                                    "(No column name)": "7"
                                },
                                {
                                    "login": "sandor",
                                    "szall_mod": "NULL",
                                    "(No column name)": "17"
                                },
                                {
                                    "login": "sandor3",
                                    "szall_mod": "GLS",
                                    "(No column name)": "4"
                                },
                                {
                                    "login": "sandor3",
                                    "szall_mod": "Posta",
                                    "(No column name)": "4"
                                },
                                {
                                    "login": "sandor3",
                                    "szall_mod": "Személyes átvétel",
                                    "(No column name)": "6"
                                },
                                {
                                    "login": "sandor3",
                                    "szall_mod": "NULL",
                                    "(No column name)": "14"
                                },
                                {
                                    "login": "sandor4",
                                    "szall_mod": "GLS",
                                    "(No column name)": "4"
                                },
                                {
                                    "login": "sandor4",
                                    "szall_mod": "Posta",
                                    "(No column name)": "2"
                                },
                                {
                                    "login": "sandor4",
                                    "szall_mod": "Személyes átvétel",
                                    "(No column name)": "5"
                                },
                                {
                                    "login": "sandor4",
                                    "szall_mod": "NULL",
                                    "(No column name)": "11"
                                },
                                {
                                    "login": "sara",
                                    "szall_mod": "GLS",
                                    "(No column name)": "4"
                                },
                                {
                                    "login": "sara",
                                    "szall_mod": "Posta",
                                    "(No column name)": "7"
                                },
                                {
                                    "login": "sara",
                                    "szall_mod": "Személyes átvétel",
                                    "(No column name)": "9"
                                },
                                {
                                    "login": "sara",
                                    "szall_mod": "NULL",
                                    "(No column name)": "20"
                                },
                                {
                                    "login": "SEBASTIANF",
                                    "szall_mod": "GLS",
                                    "(No column name)": "6"
                                },
                                {
                                    "login": "SEBASTIANF",
                                    "szall_mod": "Posta",
                                    "(No column name)": "3"
                                },
                                {
                                    "login": "SEBASTIANF",
                                    "szall_mod": "Személyes átvétel",
                                    "(No column name)": "6"
                                },
                                {
                                    "login": "SEBASTIANF",
                                    "szall_mod": "NULL",
                                    "(No column name)": "15"
                                },
                                {
                                    "login": "sebestyen",
                                    "szall_mod": "GLS",
                                    "(No column name)": "4"
                                },
                                {
                                    "login": "sebestyen",
                                    "szall_mod": "Posta",
                                    "(No column name)": "6"
                                },
                                {
                                    "login": "sebestyen",
                                    "szall_mod": "Személyes átvétel",
                                    "(No column name)": "6"
                                },
                                {
                                    "login": "sebestyen",
                                    "szall_mod": "NULL",
                                    "(No column name)": "16"
                                },
                                {
                                    "login": "szabolcs",
                                    "szall_mod": "GLS",
                                    "(No column name)": "145"
                                },
                                {
                                    "login": "szabolcs",
                                    "szall_mod": "Posta",
                                    "(No column name)": "157"
                                },
                                {
                                    "login": "szabolcs",
                                    "szall_mod": "Személyes átvétel",
                                    "(No column name)": "169"
                                },
                                {
                                    "login": "szabolcs",
                                    "szall_mod": "NULL",
                                    "(No column name)": "471"
                                },
                                {
                                    "login": "SZABOLCSM",
                                    "szall_mod": "GLS",
                                    "(No column name)": "126"
                                },
                                {
                                    "login": "SZABOLCSM",
                                    "szall_mod": "Posta",
                                    "(No column name)": "153"
                                },
                                {
                                    "login": "SZABOLCSM",
                                    "szall_mod": "Személyes átvétel",
                                    "(No column name)": "129"
                                },
                                {
                                    "login": "SZABOLCSM",
                                    "szall_mod": "NULL",
                                    "(No column name)": "408"
                                },
                                {
                                    "login": "SZILARDS",
                                    "szall_mod": "GLS",
                                    "(No column name)": "144"
                                },
                                {
                                    "login": "SZILARDS",
                                    "szall_mod": "Posta",
                                    "(No column name)": "131"
                                },
                                {
                                    "login": "SZILARDS",
                                    "szall_mod": "Személyes átvétel",
                                    "(No column name)": "111"
                                },
                                {
                                    "login": "SZILARDS",
                                    "szall_mod": "NULL",
                                    "(No column name)": "386"
                                },
                                {
                                    "login": "szilvia1",
                                    "szall_mod": "GLS",
                                    "(No column name)": "156"
                                },
                                {
                                    "login": "szilvia1",
                                    "szall_mod": "Posta",
                                    "(No column name)": "151"
                                },
                                {
                                    "login": "szilvia1",
                                    "szall_mod": "Személyes átvétel",
                                    "(No column name)": "138"
                                },
                                {
                                    "login": "szilvia1",
                                    "szall_mod": "NULL",
                                    "(No column name)": "445"
                                },
                                {
                                    "login": "tamara2",
                                    "szall_mod": "GLS",
                                    "(No column name)": "6"
                                },
                                {
                                    "login": "tamara2",
                                    "szall_mod": "Posta",
                                    "(No column name)": "4"
                                },
                                {
                                    "login": "tamara2",
                                    "szall_mod": "Személyes átvétel",
                                    "(No column name)": "3"
                                },
                                {
                                    "login": "tamara2",
                                    "szall_mod": "NULL",
                                    "(No column name)": "13"
                                },
                                {
                                    "login": "tamas",
                                    "szall_mod": "GLS",
                                    "(No column name)": "143"
                                },
                                {
                                    "login": "tamas",
                                    "szall_mod": "Posta",
                                    "(No column name)": "156"
                                },
                                {
                                    "login": "tamas",
                                    "szall_mod": "Személyes átvétel",
                                    "(No column name)": "122"
                                },
                                {
                                    "login": "tamas",
                                    "szall_mod": "NULL",
                                    "(No column name)": "421"
                                },
                                {
                                    "login": "TAMASF",
                                    "szall_mod": "GLS",
                                    "(No column name)": "159"
                                },
                                {
                                    "login": "TAMASF",
                                    "szall_mod": "Posta",
                                    "(No column name)": "145"
                                },
                                {
                                    "login": "TAMASF",
                                    "szall_mod": "Személyes átvétel",
                                    "(No column name)": "129"
                                },
                                {
                                    "login": "TAMASF",
                                    "szall_mod": "NULL",
                                    "(No column name)": "433"
                                },
                                {
                                    "login": "tibor",
                                    "szall_mod": "GLS",
                                    "(No column name)": "115"
                                },
                                {
                                    "login": "tibor",
                                    "szall_mod": "Posta",
                                    "(No column name)": "129"
                                },
                                {
                                    "login": "tibor",
                                    "szall_mod": "Személyes átvétel",
                                    "(No column name)": "130"
                                },
                                {
                                    "login": "tibor",
                                    "szall_mod": "NULL",
                                    "(No column name)": "374"
                                },
                                {
                                    "login": "tibor2",
                                    "szall_mod": "GLS",
                                    "(No column name)": "7"
                                },
                                {
                                    "login": "tibor2",
                                    "szall_mod": "Posta",
                                    "(No column name)": "7"
                                },
                                {
                                    "login": "tibor2",
                                    "szall_mod": "Személyes átvétel",
                                    "(No column name)": "11"
                                },
                                {
                                    "login": "tibor2",
                                    "szall_mod": "NULL",
                                    "(No column name)": "25"
                                },
                                {
                                    "login": "tihamer",
                                    "szall_mod": "GLS",
                                    "(No column name)": "9"
                                },
                                {
                                    "login": "tihamer",
                                    "szall_mod": "Posta",
                                    "(No column name)": "6"
                                },
                                {
                                    "login": "tihamer",
                                    "szall_mod": "Személyes átvétel",
                                    "(No column name)": "5"
                                },
                                {
                                    "login": "tihamer",
                                    "szall_mod": "NULL",
                                    "(No column name)": "20"
                                },
                                {
                                    "login": "timea",
                                    "szall_mod": "GLS",
                                    "(No column name)": "14"
                                },
                                {
                                    "login": "timea",
                                    "szall_mod": "Posta",
                                    "(No column name)": "23"
                                },
                                {
                                    "login": "timea",
                                    "szall_mod": "Személyes átvétel",
                                    "(No column name)": "18"
                                },
                                {
                                    "login": "timea",
                                    "szall_mod": "NULL",
                                    "(No column name)": "55"
                                },
                                {
                                    "login": "timea2",
                                    "szall_mod": "GLS",
                                    "(No column name)": "1"
                                },
                                {
                                    "login": "timea2",
                                    "szall_mod": "Posta",
                                    "(No column name)": "5"
                                },
                                {
                                    "login": "timea2",
                                    "szall_mod": "Személyes átvétel",
                                    "(No column name)": "10"
                                },
                                {
                                    "login": "timea2",
                                    "szall_mod": "NULL",
                                    "(No column name)": "16"
                                },
                                {
                                    "login": "tunde",
                                    "szall_mod": "GLS",
                                    "(No column name)": "6"
                                },
                                {
                                    "login": "tunde",
                                    "szall_mod": "Posta",
                                    "(No column name)": "6"
                                },
                                {
                                    "login": "tunde",
                                    "szall_mod": "Személyes átvétel",
                                    "(No column name)": "4"
                                },
                                {
                                    "login": "tunde",
                                    "szall_mod": "NULL",
                                    "(No column name)": "16"
                                },
                                {
                                    "login": "valentin",
                                    "szall_mod": "GLS",
                                    "(No column name)": "5"
                                },
                                {
                                    "login": "valentin",
                                    "szall_mod": "Posta",
                                    "(No column name)": "5"
                                },
                                {
                                    "login": "valentin",
                                    "szall_mod": "Személyes átvétel",
                                    "(No column name)": "3"
                                },
                                {
                                    "login": "valentin",
                                    "szall_mod": "NULL",
                                    "(No column name)": "13"
                                },
                                {
                                    "login": "veronika4",
                                    "szall_mod": "GLS",
                                    "(No column name)": "5"
                                },
                                {
                                    "login": "veronika4",
                                    "szall_mod": "Posta",
                                    "(No column name)": "6"
                                },
                                {
                                    "login": "veronika4",
                                    "szall_mod": "Személyes átvétel",
                                    "(No column name)": "7"
                                },
                                {
                                    "login": "veronika4",
                                    "szall_mod": "NULL",
                                    "(No column name)": "18"
                                },
                                {
                                    "login": "VIKTORIAU",
                                    "szall_mod": "GLS",
                                    "(No column name)": "5"
                                },
                                {
                                    "login": "VIKTORIAU",
                                    "szall_mod": "Posta",
                                    "(No column name)": "4"
                                },
                                {
                                    "login": "VIKTORIAU",
                                    "szall_mod": "Személyes átvétel",
                                    "(No column name)": "5"
                                },
                                {
                                    "login": "VIKTORIAU",
                                    "szall_mod": "NULL",
                                    "(No column name)": "14"
                                },
                                {
                                    "login": "VIKTORK",
                                    "szall_mod": "GLS",
                                    "(No column name)": "8"
                                },
                                {
                                    "login": "VIKTORK",
                                    "szall_mod": "Posta",
                                    "(No column name)": "6"
                                },
                                {
                                    "login": "VIKTORK",
                                    "szall_mod": "Személyes átvétel",
                                    "(No column name)": "6"
                                },
                                {
                                    "login": "VIKTORK",
                                    "szall_mod": "NULL",
                                    "(No column name)": "20"
                                },
                                {
                                    "login": "vivien3",
                                    "szall_mod": "GLS",
                                    "(No column name)": "9"
                                },
                                {
                                    "login": "vivien3",
                                    "szall_mod": "Posta",
                                    "(No column name)": "6"
                                },
                                {
                                    "login": "vivien3",
                                    "szall_mod": "Személyes átvétel",
                                    "(No column name)": "7"
                                },
                                {
                                    "login": "vivien3",
                                    "szall_mod": "NULL",
                                    "(No column name)": "22"
                                },
                                {
                                    "login": "zoltan",
                                    "szall_mod": "GLS",
                                    "(No column name)": "5"
                                },
                                {
                                    "login": "zoltan",
                                    "szall_mod": "Posta",
                                    "(No column name)": "3"
                                },
                                {
                                    "login": "zoltan",
                                    "szall_mod": "Személyes átvétel",
                                    "(No column name)": "7"
                                },
                                {
                                    "login": "zoltan",
                                    "szall_mod": "NULL",
                                    "(No column name)": "15"
                                },
                                {
                                    "login": "zoltan4",
                                    "szall_mod": "GLS",
                                    "(No column name)": "129"
                                },
                                {
                                    "login": "zoltan4",
                                    "szall_mod": "Posta",
                                    "(No column name)": "124"
                                },
                                {
                                    "login": "zoltan4",
                                    "szall_mod": "Személyes átvétel",
                                    "(No column name)": "171"
                                },
                                {
                                    "login": "zoltan4",
                                    "szall_mod": "NULL",
                                    "(No column name)": "424"
                                },
                                {
                                    "login": "ZOLTANP",
                                    "szall_mod": "GLS",
                                    "(No column name)": "6"
                                },
                                {
                                    "login": "ZOLTANP",
                                    "szall_mod": "Posta",
                                    "(No column name)": "3"
                                },
                                {
                                    "login": "ZOLTANP",
                                    "szall_mod": "Személyes átvétel",
                                    "(No column name)": "4"
                                },
                                {
                                    "login": "ZOLTANP",
                                    "szall_mod": "NULL",
                                    "(No column name)": "13"
                                },
                                {
                                    "login": "ZOLTANT",
                                    "szall_mod": "GLS",
                                    "(No column name)": "127"
                                },
                                {
                                    "login": "ZOLTANT",
                                    "szall_mod": "Posta",
                                    "(No column name)": "107"
                                },
                                {
                                    "login": "ZOLTANT",
                                    "szall_mod": "Személyes átvétel",
                                    "(No column name)": "123"
                                },
                                {
                                    "login": "ZOLTANT",
                                    "szall_mod": "NULL",
                                    "(No column name)": "357"
                                },
                                {
                                    "login": "zsofi1",
                                    "szall_mod": "GLS",
                                    "(No column name)": "7"
                                },
                                {
                                    "login": "zsofi1",
                                    "szall_mod": "Posta",
                                    "(No column name)": "6"
                                },
                                {
                                    "login": "zsofi1",
                                    "szall_mod": "Személyes átvétel",
                                    "(No column name)": "6"
                                },
                                {
                                    "login": "zsofi1",
                                    "szall_mod": "NULL",
                                    "(No column name)": "19"
                                },
                                {
                                    "login": "zsolt1",
                                    "szall_mod": "GLS",
                                    "(No column name)": "11"
                                },
                                {
                                    "login": "zsolt1",
                                    "szall_mod": "Posta",
                                    "(No column name)": "6"
                                },
                                {
                                    "login": "zsolt1",
                                    "szall_mod": "Személyes átvétel",
                                    "(No column name)": "3"
                                },
                                {
                                    "login": "zsolt1",
                                    "szall_mod": "NULL",
                                    "(No column name)": "20"
                                },
                                {
                                    "login": "ZSOLTJ",
                                    "szall_mod": "GLS",
                                    "(No column name)": "1"
                                },
                                {
                                    "login": "ZSOLTJ",
                                    "szall_mod": "Posta",
                                    "(No column name)": "8"
                                },
                                {
                                    "login": "ZSOLTJ",
                                    "szall_mod": "Személyes átvétel",
                                    "(No column name)": "9"
                                },
                                {
                                    "login": "ZSOLTJ",
                                    "szall_mod": "NULL",
                                    "(No column name)": "18"
                                },
                                {
                                    "login": "zsuzsa",
                                    "szall_mod": "GLS",
                                    "(No column name)": "8"
                                },
                                {
                                    "login": "zsuzsa",
                                    "szall_mod": "Posta",
                                    "(No column name)": "5"
                                },
                                {
                                    "login": "zsuzsa",
                                    "szall_mod": "Személyes átvétel",
                                    "(No column name)": "3"
                                },
                                {
                                    "login": "zsuzsa",
                                    "szall_mod": "NULL",
                                    "(No column name)": "16"
                                },
                                {
                                    "login": "zsuzsa3",
                                    "szall_mod": "GLS",
                                    "(No column name)": "5"
                                },
                                {
                                    "login": "zsuzsa3",
                                    "szall_mod": "Posta",
                                    "(No column name)": "5"
                                },
                                {
                                    "login": "zsuzsa3",
                                    "szall_mod": "Személyes átvétel",
                                    "(No column name)": "6"
                                },
                                {
                                    "login": "zsuzsa3",
                                    "szall_mod": "NULL",
                                    "(No column name)": "16"
                                },
                                {
                                    "login": "zsuzsanna",
                                    "szall_mod": "GLS",
                                    "(No column name)": "7"
                                },
                                {
                                    "login": "zsuzsanna",
                                    "szall_mod": "Posta",
                                    "(No column name)": "5"
                                },
                                {
                                    "login": "zsuzsanna",
                                    "szall_mod": "Személyes átvétel",
                                    "(No column name)": "3"
                                },
                                {
                                    "login": "zsuzsanna",
                                    "szall_mod": "NULL",
                                    "(No column name)": "15"
                                },
                                {
                                    "login": "ZSUZSAV",
                                    "szall_mod": "GLS",
                                    "(No column name)": "139"
                                },
                                {
                                    "login": "ZSUZSAV",
                                    "szall_mod": "Posta",
                                    "(No column name)": "139"
                                },
                                {
                                    "login": "ZSUZSAV",
                                    "szall_mod": "Személyes átvétel",
                                    "(No column name)": "142"
                                },
                                {
                                    "login": "ZSUZSAV",
                                    "szall_mod": "NULL",
                                    "(No column name)": "420"
                                },
                                {
                                    "login": "NULL",
                                    "szall_mod": "NULL",
                                    "(No column name)": "28085"
                                }
                            ]
                        },
                        "text/html": [
                            "<table>",
                            "<tr><th>login</th><th>szall_mod</th><th>(No column name)</th></tr>",
                            "<tr><td>adam1</td><td>GLS</td><td>129</td></tr>",
                            "<tr><td>adam1</td><td>Posta</td><td>132</td></tr>",
                            "<tr><td>adam1</td><td>Személyes átvétel</td><td>131</td></tr>",
                            "<tr><td>adam1</td><td>NULL</td><td>392</td></tr>",
                            "<tr><td>adam3</td><td>GLS</td><td>10</td></tr>",
                            "<tr><td>adam3</td><td>Posta</td><td>3</td></tr>",
                            "<tr><td>adam3</td><td>Személyes átvétel</td><td>2</td></tr>",
                            "<tr><td>adam3</td><td>NULL</td><td>15</td></tr>",
                            "<tr><td>adam4</td><td>GLS</td><td>12</td></tr>",
                            "<tr><td>adam4</td><td>Posta</td><td>6</td></tr>",
                            "<tr><td>adam4</td><td>Személyes átvétel</td><td>11</td></tr>",
                            "<tr><td>adam4</td><td>NULL</td><td>29</td></tr>",
                            "<tr><td>agnes</td><td>GLS</td><td>144</td></tr>",
                            "<tr><td>agnes</td><td>Posta</td><td>130</td></tr>",
                            "<tr><td>agnes</td><td>Személyes átvétel</td><td>144</td></tr>",
                            "<tr><td>agnes</td><td>NULL</td><td>418</td></tr>",
                            "<tr><td>agnes3</td><td>GLS</td><td>148</td></tr>",
                            "<tr><td>agnes3</td><td>Posta</td><td>146</td></tr>",
                            "<tr><td>agnes3</td><td>Személyes átvétel</td><td>136</td></tr>",
                            "<tr><td>agnes3</td><td>NULL</td><td>430</td></tr>",
                            "<tr><td>AGNESH</td><td>GLS</td><td>2</td></tr>",
                            "<tr><td>AGNESH</td><td>Posta</td><td>3</td></tr>",
                            "<tr><td>AGNESH</td><td>Személyes átvétel</td><td>6</td></tr>",
                            "<tr><td>AGNESH</td><td>NULL</td><td>11</td></tr>",
                            "<tr><td>AGNESK</td><td>GLS</td><td>1</td></tr>",
                            "<tr><td>AGNESK</td><td>Posta</td><td>7</td></tr>",
                            "<tr><td>AGNESK</td><td>Személyes átvétel</td><td>7</td></tr>",
                            "<tr><td>AGNESK</td><td>NULL</td><td>15</td></tr>",
                            "<tr><td>akos</td><td>GLS</td><td>146</td></tr>",
                            "<tr><td>akos</td><td>Posta</td><td>143</td></tr>",
                            "<tr><td>akos</td><td>Személyes átvétel</td><td>140</td></tr>",
                            "<tr><td>akos</td><td>NULL</td><td>429</td></tr>",
                            "<tr><td>aladar</td><td>GLS</td><td>156</td></tr>",
                            "<tr><td>aladar</td><td>Posta</td><td>134</td></tr>",
                            "<tr><td>aladar</td><td>Személyes átvétel</td><td>118</td></tr>",
                            "<tr><td>aladar</td><td>NULL</td><td>408</td></tr>",
                            "<tr><td>alexandra</td><td>GLS</td><td>5</td></tr>",
                            "<tr><td>alexandra</td><td>Posta</td><td>9</td></tr>",
                            "<tr><td>alexandra</td><td>Személyes átvétel</td><td>5</td></tr>",
                            "<tr><td>alexandra</td><td>NULL</td><td>19</td></tr>",
                            "<tr><td>andi</td><td>GLS</td><td>7</td></tr>",
                            "<tr><td>andi</td><td>Posta</td><td>4</td></tr>",
                            "<tr><td>andi</td><td>Személyes átvétel</td><td>7</td></tr>",
                            "<tr><td>andi</td><td>NULL</td><td>18</td></tr>",
                            "<tr><td>andras2</td><td>GLS</td><td>4</td></tr>",
                            "<tr><td>andras2</td><td>Posta</td><td>7</td></tr>",
                            "<tr><td>andras2</td><td>Személyes átvétel</td><td>11</td></tr>",
                            "<tr><td>andras2</td><td>NULL</td><td>22</td></tr>",
                            "<tr><td>andras21</td><td>GLS</td><td>140</td></tr>",
                            "<tr><td>andras21</td><td>Posta</td><td>124</td></tr>",
                            "<tr><td>andras21</td><td>Személyes átvétel</td><td>126</td></tr>",
                            "<tr><td>andras21</td><td>NULL</td><td>390</td></tr>",
                            "<tr><td>andras3</td><td>GLS</td><td>3</td></tr>",
                            "<tr><td>andras3</td><td>Posta</td><td>1</td></tr>",
                            "<tr><td>andras3</td><td>Személyes átvétel</td><td>5</td></tr>",
                            "<tr><td>andras3</td><td>NULL</td><td>9</td></tr>",
                            "<tr><td>andras4</td><td>GLS</td><td>4</td></tr>",
                            "<tr><td>andras4</td><td>Posta</td><td>4</td></tr>",
                            "<tr><td>andras4</td><td>Személyes átvétel</td><td>4</td></tr>",
                            "<tr><td>andras4</td><td>NULL</td><td>12</td></tr>",
                            "<tr><td>andras41</td><td>GLS</td><td>149</td></tr>",
                            "<tr><td>andras41</td><td>Posta</td><td>137</td></tr>",
                            "<tr><td>andras41</td><td>Személyes átvétel</td><td>133</td></tr>",
                            "<tr><td>andras41</td><td>NULL</td><td>419</td></tr>",
                            "<tr><td>ANDRASE</td><td>GLS</td><td>159</td></tr>",
                            "<tr><td>ANDRASE</td><td>Posta</td><td>141</td></tr>",
                            "<tr><td>ANDRASE</td><td>Személyes átvétel</td><td>136</td></tr>",
                            "<tr><td>ANDRASE</td><td>NULL</td><td>436</td></tr>",
                            "<tr><td>ANDRASN</td><td>GLS</td><td>10</td></tr>",
                            "<tr><td>ANDRASN</td><td>Posta</td><td>9</td></tr>",
                            "<tr><td>ANDRASN</td><td>Személyes átvétel</td><td>5</td></tr>",
                            "<tr><td>ANDRASN</td><td>NULL</td><td>24</td></tr>",
                            "<tr><td>andrea</td><td>GLS</td><td>12</td></tr>",
                            "<tr><td>andrea</td><td>Posta</td><td>4</td></tr>",
                            "<tr><td>andrea</td><td>Személyes átvétel</td><td>8</td></tr>",
                            "<tr><td>andrea</td><td>NULL</td><td>24</td></tr>",
                            "<tr><td>andrea3</td><td>GLS</td><td>131</td></tr>",
                            "<tr><td>andrea3</td><td>Posta</td><td>136</td></tr>",
                            "<tr><td>andrea3</td><td>Személyes átvétel</td><td>146</td></tr>",
                            "<tr><td>andrea3</td><td>NULL</td><td>413</td></tr>",
                            "<tr><td>andrea4</td><td>GLS</td><td>7</td></tr>",
                            "<tr><td>andrea4</td><td>Posta</td><td>4</td></tr>",
                            "<tr><td>andrea4</td><td>Személyes átvétel</td><td>7</td></tr>",
                            "<tr><td>andrea4</td><td>NULL</td><td>18</td></tr>",
                            "<tr><td>ANDREAT</td><td>GLS</td><td>3</td></tr>",
                            "<tr><td>ANDREAT</td><td>Posta</td><td>6</td></tr>",
                            "<tr><td>ANDREAT</td><td>Személyes átvétel</td><td>12</td></tr>",
                            "<tr><td>ANDREAT</td><td>NULL</td><td>21</td></tr>",
                            "<tr><td>anett3</td><td>GLS</td><td>3</td></tr>",
                            "<tr><td>anett3</td><td>Posta</td><td>6</td></tr>",
                            "<tr><td>anett3</td><td>Személyes átvétel</td><td>9</td></tr>",
                            "<tr><td>anett3</td><td>NULL</td><td>18</td></tr>",
                            "<tr><td>aniko</td><td>GLS</td><td>128</td></tr>",
                            "<tr><td>aniko</td><td>Posta</td><td>137</td></tr>",
                            "<tr><td>aniko</td><td>Személyes átvétel</td><td>138</td></tr>",
                            "<tr><td>aniko</td><td>NULL</td><td>403</td></tr>",
                            "<tr><td>aniko4</td><td>GLS</td><td>6</td></tr>",
                            "<tr><td>aniko4</td><td>Posta</td><td>6</td></tr>",
                            "<tr><td>aniko4</td><td>Személyes átvétel</td><td>3</td></tr>",
                            "<tr><td>aniko4</td><td>NULL</td><td>15</td></tr>",
                            "<tr><td>ANIKOS</td><td>GLS</td><td>128</td></tr>",
                            "<tr><td>ANIKOS</td><td>Posta</td><td>126</td></tr>",
                            "<tr><td>ANIKOS</td><td>Személyes átvétel</td><td>150</td></tr>",
                            "<tr><td>ANIKOS</td><td>NULL</td><td>404</td></tr>",
                            "<tr><td>anita</td><td>GLS</td><td>5</td></tr>",
                            "<tr><td>anita</td><td>Posta</td><td>2</td></tr>",
                            "<tr><td>anita</td><td>Személyes átvétel</td><td>5</td></tr>",
                            "<tr><td>anita</td><td>NULL</td><td>12</td></tr>",
                            "<tr><td>annamaria1</td><td>GLS</td><td>5</td></tr>",
                            "<tr><td>annamaria1</td><td>Posta</td><td>4</td></tr>",
                            "<tr><td>annamaria1</td><td>Személyes átvétel</td><td>7</td></tr>",
                            "<tr><td>annamaria1</td><td>NULL</td><td>16</td></tr>",
                            "<tr><td>ANNAMARIAR</td><td>GLS</td><td>8</td></tr>",
                            "<tr><td>ANNAMARIAR</td><td>Posta</td><td>2</td></tr>",
                            "<tr><td>ANNAMARIAR</td><td>Személyes átvétel</td><td>3</td></tr>",
                            "<tr><td>ANNAMARIAR</td><td>NULL</td><td>13</td></tr>",
                            "<tr><td>aron2</td><td>GLS</td><td>132</td></tr>",
                            "<tr><td>aron2</td><td>Posta</td><td>133</td></tr>",
                            "<tr><td>aron2</td><td>Személyes átvétel</td><td>144</td></tr>",
                            "<tr><td>aron2</td><td>NULL</td><td>409</td></tr>",
                            "<tr><td>ARONK</td><td>GLS</td><td>155</td></tr>",
                            "<tr><td>ARONK</td><td>Posta</td><td>120</td></tr>",
                            "<tr><td>ARONK</td><td>Személyes átvétel</td><td>155</td></tr>",
                            "<tr><td>ARONK</td><td>NULL</td><td>430</td></tr>",
                            "<tr><td>arpad2</td><td>GLS</td><td>6</td></tr>",
                            "<tr><td>arpad2</td><td>Posta</td><td>1</td></tr>",
                            "<tr><td>arpad2</td><td>Személyes átvétel</td><td>10</td></tr>",
                            "<tr><td>arpad2</td><td>NULL</td><td>17</td></tr>",
                            "<tr><td>ARPADH</td><td>GLS</td><td>6</td></tr>",
                            "<tr><td>ARPADH</td><td>Posta</td><td>3</td></tr>",
                            "<tr><td>ARPADH</td><td>Személyes átvétel</td><td>5</td></tr>",
                            "<tr><td>ARPADH</td><td>NULL</td><td>14</td></tr>",
                            "<tr><td>ARPADM</td><td>GLS</td><td>6</td></tr>",
                            "<tr><td>ARPADM</td><td>Posta</td><td>3</td></tr>",
                            "<tr><td>ARPADM</td><td>Személyes átvétel</td><td>7</td></tr>",
                            "<tr><td>ARPADM</td><td>NULL</td><td>16</td></tr>",
                            "<tr><td>attila1</td><td>GLS</td><td>5</td></tr>",
                            "<tr><td>attila1</td><td>Posta</td><td>7</td></tr>",
                            "<tr><td>attila1</td><td>Személyes átvétel</td><td>6</td></tr>",
                            "<tr><td>attila1</td><td>NULL</td><td>18</td></tr>",
                            "<tr><td>attila4</td><td>GLS</td><td>135</td></tr>",
                            "<tr><td>attila4</td><td>Posta</td><td>125</td></tr>",
                            "<tr><td>attila4</td><td>Személyes átvétel</td><td>141</td></tr>",
                            "<tr><td>attila4</td><td>NULL</td><td>401</td></tr>",
                            "<tr><td>ATTILAO</td><td>GLS</td><td>4</td></tr>",
                            "<tr><td>ATTILAO</td><td>Posta</td><td>4</td></tr>",
                            "<tr><td>ATTILAO</td><td>Személyes átvétel</td><td>6</td></tr>",
                            "<tr><td>ATTILAO</td><td>NULL</td><td>14</td></tr>",
                            "<tr><td>balazs1</td><td>GLS</td><td>128</td></tr>",
                            "<tr><td>balazs1</td><td>Posta</td><td>136</td></tr>",
                            "<tr><td>balazs1</td><td>Személyes átvétel</td><td>155</td></tr>",
                            "<tr><td>balazs1</td><td>NULL</td><td>419</td></tr>",
                            "<tr><td>balazs2</td><td>GLS</td><td>5</td></tr>",
                            "<tr><td>balazs2</td><td>Posta</td><td>7</td></tr>",
                            "<tr><td>balazs2</td><td>Személyes átvétel</td><td>5</td></tr>",
                            "<tr><td>balazs2</td><td>NULL</td><td>17</td></tr>",
                            "<tr><td>balazs3</td><td>GLS</td><td>6</td></tr>",
                            "<tr><td>balazs3</td><td>Posta</td><td>6</td></tr>",
                            "<tr><td>balazs3</td><td>Személyes átvétel</td><td>3</td></tr>",
                            "<tr><td>balazs3</td><td>NULL</td><td>15</td></tr>",
                            "<tr><td>balint</td><td>GLS</td><td>10</td></tr>",
                            "<tr><td>balint</td><td>Posta</td><td>4</td></tr>",
                            "<tr><td>balint</td><td>Személyes átvétel</td><td>2</td></tr>",
                            "<tr><td>balint</td><td>NULL</td><td>16</td></tr>",
                            "<tr><td>balint1</td><td>GLS</td><td>158</td></tr>",
                            "<tr><td>balint1</td><td>Posta</td><td>152</td></tr>",
                            "<tr><td>balint1</td><td>Személyes átvétel</td><td>152</td></tr>",
                            "<tr><td>balint1</td><td>NULL</td><td>462</td></tr>",
                            "<tr><td>balint2</td><td>GLS</td><td>8</td></tr>",
                            "<tr><td>balint2</td><td>Posta</td><td>6</td></tr>",
                            "<tr><td>balint2</td><td>Személyes átvétel</td><td>3</td></tr>",
                            "<tr><td>balint2</td><td>NULL</td><td>17</td></tr>",
                            "<tr><td>balu</td><td>GLS</td><td>127</td></tr>",
                            "<tr><td>balu</td><td>Posta</td><td>137</td></tr>",
                            "<tr><td>balu</td><td>Személyes átvétel</td><td>123</td></tr>",
                            "<tr><td>balu</td><td>NULL</td><td>387</td></tr>",
                            "<tr><td>BEATRIXK</td><td>GLS</td><td>135</td></tr>",
                            "<tr><td>BEATRIXK</td><td>Posta</td><td>155</td></tr>",
                            "<tr><td>BEATRIXK</td><td>Személyes átvétel</td><td>145</td></tr>",
                            "<tr><td>BEATRIXK</td><td>NULL</td><td>435</td></tr>",
                            "<tr><td>BEATRIXS</td><td>GLS</td><td>146</td></tr>",
                            "<tr><td>BEATRIXS</td><td>Posta</td><td>141</td></tr>",
                            "<tr><td>BEATRIXS</td><td>Személyes átvétel</td><td>133</td></tr>",
                            "<tr><td>BEATRIXS</td><td>NULL</td><td>420</td></tr>",
                            "<tr><td>BELAF</td><td>GLS</td><td>11</td></tr>",
                            "<tr><td>BELAF</td><td>Posta</td><td>2</td></tr>",
                            "<tr><td>BELAF</td><td>Személyes átvétel</td><td>5</td></tr>",
                            "<tr><td>BELAF</td><td>NULL</td><td>18</td></tr>",
                            "<tr><td>bence</td><td>GLS</td><td>4</td></tr>",
                            "<tr><td>bence</td><td>Posta</td><td>6</td></tr>",
                            "<tr><td>bence</td><td>Személyes átvétel</td><td>8</td></tr>",
                            "<tr><td>bence</td><td>NULL</td><td>18</td></tr>",
                            "<tr><td>BENCEB</td><td>GLS</td><td>5</td></tr>",
                            "<tr><td>BENCEB</td><td>Posta</td><td>7</td></tr>",
                            "<tr><td>BENCEB</td><td>Személyes átvétel</td><td>5</td></tr>",
                            "<tr><td>BENCEB</td><td>NULL</td><td>17</td></tr>",
                            "<tr><td>bernadett1</td><td>GLS</td><td>10</td></tr>",
                            "<tr><td>bernadett1</td><td>Posta</td><td>5</td></tr>",
                            "<tr><td>bernadett1</td><td>Személyes átvétel</td><td>5</td></tr>",
                            "<tr><td>bernadett1</td><td>NULL</td><td>20</td></tr>",
                            "<tr><td>bernadett2</td><td>GLS</td><td>6</td></tr>",
                            "<tr><td>bernadett2</td><td>Posta</td><td>2</td></tr>",
                            "<tr><td>bernadett2</td><td>Személyes átvétel</td><td>7</td></tr>",
                            "<tr><td>bernadett2</td><td>NULL</td><td>15</td></tr>",
                            "<tr><td>BERNADETTO</td><td>GLS</td><td>7</td></tr>",
                            "<tr><td>BERNADETTO</td><td>Posta</td><td>2</td></tr>",
                            "<tr><td>BERNADETTO</td><td>Személyes átvétel</td><td>7</td></tr>",
                            "<tr><td>BERNADETTO</td><td>NULL</td><td>16</td></tr>",
                            "<tr><td>bertalan</td><td>GLS</td><td>128</td></tr>",
                            "<tr><td>bertalan</td><td>Posta</td><td>124</td></tr>",
                            "<tr><td>bertalan</td><td>Személyes átvétel</td><td>101</td></tr>",
                            "<tr><td>bertalan</td><td>NULL</td><td>353</td></tr>",
                            "<tr><td>brigitta</td><td>GLS</td><td>137</td></tr>",
                            "<tr><td>brigitta</td><td>Posta</td><td>137</td></tr>",
                            "<tr><td>brigitta</td><td>Személyes átvétel</td><td>119</td></tr>",
                            "<tr><td>brigitta</td><td>NULL</td><td>393</td></tr>",
                            "<tr><td>brigitta3</td><td>GLS</td><td>144</td></tr>",
                            "<tr><td>brigitta3</td><td>Posta</td><td>130</td></tr>",
                            "<tr><td>brigitta3</td><td>Személyes átvétel</td><td>139</td></tr>",
                            "<tr><td>brigitta3</td><td>NULL</td><td>413</td></tr>",
                            "<tr><td>csongor3</td><td>GLS</td><td>5</td></tr>",
                            "<tr><td>csongor3</td><td>Posta</td><td>2</td></tr>",
                            "<tr><td>csongor3</td><td>Személyes átvétel</td><td>8</td></tr>",
                            "<tr><td>csongor3</td><td>NULL</td><td>15</td></tr>",
                            "<tr><td>dani</td><td>GLS</td><td>5</td></tr>",
                            "<tr><td>dani</td><td>Személyes átvétel</td><td>8</td></tr>",
                            "<tr><td>dani</td><td>NULL</td><td>13</td></tr>",
                            "<tr><td>daniel</td><td>GLS</td><td>7</td></tr>",
                            "<tr><td>daniel</td><td>Posta</td><td>2</td></tr>",
                            "<tr><td>daniel</td><td>Személyes átvétel</td><td>4</td></tr>",
                            "<tr><td>daniel</td><td>NULL</td><td>13</td></tr>",
                            "<tr><td>daniel1</td><td>GLS</td><td>156</td></tr>",
                            "<tr><td>daniel1</td><td>Posta</td><td>131</td></tr>",
                            "<tr><td>daniel1</td><td>Személyes átvétel</td><td>132</td></tr>",
                            "<tr><td>daniel1</td><td>NULL</td><td>419</td></tr>",
                            "<tr><td>david</td><td>GLS</td><td>161</td></tr>",
                            "<tr><td>david</td><td>Posta</td><td>144</td></tr>",
                            "<tr><td>david</td><td>Személyes átvétel</td><td>146</td></tr>",
                            "<tr><td>david</td><td>NULL</td><td>451</td></tr>",
                            "<tr><td>david1</td><td>GLS</td><td>8</td></tr>",
                            "<tr><td>david1</td><td>Posta</td><td>1</td></tr>",
                            "<tr><td>david1</td><td>Személyes átvétel</td><td>8</td></tr>",
                            "<tr><td>david1</td><td>NULL</td><td>17</td></tr>",
                            "<tr><td>david4</td><td>GLS</td><td>3</td></tr>",
                            "<tr><td>david4</td><td>Posta</td><td>8</td></tr>",
                            "<tr><td>david4</td><td>Személyes átvétel</td><td>10</td></tr>",
                            "<tr><td>david4</td><td>NULL</td><td>21</td></tr>",
                            "<tr><td>debora</td><td>GLS</td><td>7</td></tr>",
                            "<tr><td>debora</td><td>Posta</td><td>6</td></tr>",
                            "<tr><td>debora</td><td>Személyes átvétel</td><td>3</td></tr>",
                            "<tr><td>debora</td><td>NULL</td><td>16</td></tr>",
                            "<tr><td>denes</td><td>GLS</td><td>3</td></tr>",
                            "<tr><td>denes</td><td>Posta</td><td>2</td></tr>",
                            "<tr><td>denes</td><td>Személyes átvétel</td><td>4</td></tr>",
                            "<tr><td>denes</td><td>NULL</td><td>9</td></tr>",
                            "<tr><td>dora3</td><td>GLS</td><td>144</td></tr>",
                            "<tr><td>dora3</td><td>Posta</td><td>124</td></tr>",
                            "<tr><td>dora3</td><td>Személyes átvétel</td><td>164</td></tr>",
                            "<tr><td>dora3</td><td>NULL</td><td>432</td></tr>",
                            "<tr><td>edit</td><td>GLS</td><td>7</td></tr>",
                            "<tr><td>edit</td><td>Posta</td><td>2</td></tr>",
                            "<tr><td>edit</td><td>Személyes átvétel</td><td>4</td></tr>",
                            "<tr><td>edit</td><td>NULL</td><td>13</td></tr>",
                            "<tr><td>emese</td><td>GLS</td><td>128</td></tr>",
                            "<tr><td>emese</td><td>Posta</td><td>136</td></tr>",
                            "<tr><td>emese</td><td>Személyes átvétel</td><td>142</td></tr>",
                            "<tr><td>emese</td><td>NULL</td><td>406</td></tr>",
                            "<tr><td>eszter2</td><td>GLS</td><td>127</td></tr>",
                            "<tr><td>eszter2</td><td>Posta</td><td>136</td></tr>",
                            "<tr><td>eszter2</td><td>Személyes átvétel</td><td>152</td></tr>",
                            "<tr><td>eszter2</td><td>NULL</td><td>415</td></tr>",
                            "<tr><td>eszter4</td><td>GLS</td><td>141</td></tr>",
                            "<tr><td>eszter4</td><td>Posta</td><td>134</td></tr>",
                            "<tr><td>eszter4</td><td>Személyes átvétel</td><td>149</td></tr>",
                            "<tr><td>eszter4</td><td>NULL</td><td>424</td></tr>",
                            "<tr><td>ESZTERE</td><td>GLS</td><td>6</td></tr>",
                            "<tr><td>ESZTERE</td><td>Posta</td><td>9</td></tr>",
                            "<tr><td>ESZTERE</td><td>Személyes átvétel</td><td>7</td></tr>",
                            "<tr><td>ESZTERE</td><td>NULL</td><td>22</td></tr>",
                            "<tr><td>eva</td><td>GLS</td><td>125</td></tr>",
                            "<tr><td>eva</td><td>Posta</td><td>140</td></tr>",
                            "<tr><td>eva</td><td>Személyes átvétel</td><td>139</td></tr>",
                            "<tr><td>eva</td><td>NULL</td><td>404</td></tr>",
                            "<tr><td>eva2</td><td>GLS</td><td>154</td></tr>",
                            "<tr><td>eva2</td><td>Posta</td><td>138</td></tr>",
                            "<tr><td>eva2</td><td>Személyes átvétel</td><td>170</td></tr>",
                            "<tr><td>eva2</td><td>NULL</td><td>462</td></tr>",
                            "<tr><td>EVAV</td><td>GLS</td><td>2</td></tr>",
                            "<tr><td>EVAV</td><td>Posta</td><td>1</td></tr>",
                            "<tr><td>EVAV</td><td>Személyes átvétel</td><td>4</td></tr>",
                            "<tr><td>EVAV</td><td>NULL</td><td>7</td></tr>",
                            "<tr><td>ferenc1</td><td>GLS</td><td>144</td></tr>",
                            "<tr><td>ferenc1</td><td>Posta</td><td>158</td></tr>",
                            "<tr><td>ferenc1</td><td>Személyes átvétel</td><td>135</td></tr>",
                            "<tr><td>ferenc1</td><td>NULL</td><td>437</td></tr>",
                            "<tr><td>fruzsina4</td><td>GLS</td><td>8</td></tr>",
                            "<tr><td>fruzsina4</td><td>Posta</td><td>3</td></tr>",
                            "<tr><td>fruzsina4</td><td>Személyes átvétel</td><td>7</td></tr>",
                            "<tr><td>fruzsina4</td><td>NULL</td><td>18</td></tr>",
                            "<tr><td>gabor1</td><td>GLS</td><td>9</td></tr>",
                            "<tr><td>gabor1</td><td>Posta</td><td>5</td></tr>",
                            "<tr><td>gabor1</td><td>Személyes átvétel</td><td>5</td></tr>",
                            "<tr><td>gabor1</td><td>NULL</td><td>19</td></tr>",
                            "<tr><td>gabor4</td><td>GLS</td><td>7</td></tr>",
                            "<tr><td>gabor4</td><td>Posta</td><td>9</td></tr>",
                            "<tr><td>gabor4</td><td>Személyes átvétel</td><td>4</td></tr>",
                            "<tr><td>gabor4</td><td>NULL</td><td>20</td></tr>",
                            "<tr><td>GABORS</td><td>GLS</td><td>5</td></tr>",
                            "<tr><td>GABORS</td><td>Posta</td><td>6</td></tr>",
                            "<tr><td>GABORS</td><td>Személyes átvétel</td><td>4</td></tr>",
                            "<tr><td>GABORS</td><td>NULL</td><td>15</td></tr>",
                            "<tr><td>gabriella1</td><td>GLS</td><td>5</td></tr>",
                            "<tr><td>gabriella1</td><td>Posta</td><td>4</td></tr>",
                            "<tr><td>gabriella1</td><td>Személyes átvétel</td><td>5</td></tr>",
                            "<tr><td>gabriella1</td><td>NULL</td><td>14</td></tr>",
                            "<tr><td>gabriella10</td><td>GLS</td><td>4</td></tr>",
                            "<tr><td>gabriella10</td><td>Posta</td><td>5</td></tr>",
                            "<tr><td>gabriella10</td><td>Személyes átvétel</td><td>7</td></tr>",
                            "<tr><td>gabriella10</td><td>NULL</td><td>16</td></tr>",
                            "<tr><td>georgij</td><td>GLS</td><td>9</td></tr>",
                            "<tr><td>georgij</td><td>Posta</td><td>2</td></tr>",
                            "<tr><td>georgij</td><td>Személyes átvétel</td><td>10</td></tr>",
                            "<tr><td>georgij</td><td>NULL</td><td>21</td></tr>",
                            "<tr><td>gusztav</td><td>GLS</td><td>5</td></tr>",
                            "<tr><td>gusztav</td><td>Posta</td><td>4</td></tr>",
                            "<tr><td>gusztav</td><td>Személyes átvétel</td><td>5</td></tr>",
                            "<tr><td>gusztav</td><td>NULL</td><td>14</td></tr>",
                            "<tr><td>GYONGYIK</td><td>GLS</td><td>6</td></tr>",
                            "<tr><td>GYONGYIK</td><td>Posta</td><td>6</td></tr>",
                            "<tr><td>GYONGYIK</td><td>Személyes átvétel</td><td>3</td></tr>",
                            "<tr><td>GYONGYIK</td><td>NULL</td><td>15</td></tr>",
                            "<tr><td>GYORGYO</td><td>GLS</td><td>7</td></tr>",
                            "<tr><td>GYORGYO</td><td>Posta</td><td>4</td></tr>",
                            "<tr><td>GYORGYO</td><td>Személyes átvétel</td><td>5</td></tr>",
                            "<tr><td>GYORGYO</td><td>NULL</td><td>16</td></tr>",
                            "<tr><td>henrik3</td><td>GLS</td><td>7</td></tr>",
                            "<tr><td>henrik3</td><td>Posta</td><td>4</td></tr>",
                            "<tr><td>henrik3</td><td>Személyes átvétel</td><td>5</td></tr>",
                            "<tr><td>henrik3</td><td>NULL</td><td>16</td></tr>",
                            "<tr><td>IBOLYAA</td><td>GLS</td><td>140</td></tr>",
                            "<tr><td>IBOLYAA</td><td>Posta</td><td>125</td></tr>",
                            "<tr><td>IBOLYAA</td><td>Személyes átvétel</td><td>157</td></tr>",
                            "<tr><td>IBOLYAA</td><td>NULL</td><td>422</td></tr>",
                            "<tr><td>ilona3</td><td>GLS</td><td>9</td></tr>",
                            "<tr><td>ilona3</td><td>Posta</td><td>2</td></tr>",
                            "<tr><td>ilona3</td><td>Személyes átvétel</td><td>7</td></tr>",
                            "<tr><td>ilona3</td><td>NULL</td><td>18</td></tr>",
                            "<tr><td>imre</td><td>GLS</td><td>5</td></tr>",
                            "<tr><td>imre</td><td>Posta</td><td>4</td></tr>",
                            "<tr><td>imre</td><td>Személyes átvétel</td><td>6</td></tr>",
                            "<tr><td>imre</td><td>NULL</td><td>15</td></tr>",
                            "<tr><td>imre1</td><td>GLS</td><td>8</td></tr>",
                            "<tr><td>imre1</td><td>Posta</td><td>4</td></tr>",
                            "<tr><td>imre1</td><td>Személyes átvétel</td><td>3</td></tr>",
                            "<tr><td>imre1</td><td>NULL</td><td>15</td></tr>",
                            "<tr><td>istvan</td><td>GLS</td><td>3</td></tr>",
                            "<tr><td>istvan</td><td>Posta</td><td>4</td></tr>",
                            "<tr><td>istvan</td><td>Személyes átvétel</td><td>4</td></tr>",
                            "<tr><td>istvan</td><td>NULL</td><td>11</td></tr>",
                            "<tr><td>istvan1</td><td>GLS</td><td>8</td></tr>",
                            "<tr><td>istvan1</td><td>Posta</td><td>4</td></tr>",
                            "<tr><td>istvan1</td><td>Személyes átvétel</td><td>7</td></tr>",
                            "<tr><td>istvan1</td><td>NULL</td><td>19</td></tr>",
                            "<tr><td>ISTVANV</td><td>GLS</td><td>4</td></tr>",
                            "<tr><td>ISTVANV</td><td>Posta</td><td>9</td></tr>",
                            "<tr><td>ISTVANV</td><td>Személyes átvétel</td><td>8</td></tr>",
                            "<tr><td>ISTVANV</td><td>NULL</td><td>21</td></tr>",
                            "<tr><td>janos3</td><td>GLS</td><td>5</td></tr>",
                            "<tr><td>janos3</td><td>Posta</td><td>2</td></tr>",
                            "<tr><td>janos3</td><td>Személyes átvétel</td><td>6</td></tr>",
                            "<tr><td>janos3</td><td>NULL</td><td>13</td></tr>",
                            "<tr><td>JANOSG</td><td>GLS</td><td>3</td></tr>",
                            "<tr><td>JANOSG</td><td>Posta</td><td>3</td></tr>",
                            "<tr><td>JANOSG</td><td>Személyes átvétel</td><td>4</td></tr>",
                            "<tr><td>JANOSG</td><td>NULL</td><td>10</td></tr>",
                            "<tr><td>JANOSP</td><td>GLS</td><td>7</td></tr>",
                            "<tr><td>JANOSP</td><td>Posta</td><td>7</td></tr>",
                            "<tr><td>JANOSP</td><td>Személyes átvétel</td><td>3</td></tr>",
                            "<tr><td>JANOSP</td><td>NULL</td><td>17</td></tr>",
                            "<tr><td>jozsef</td><td>GLS</td><td>116</td></tr>",
                            "<tr><td>jozsef</td><td>Posta</td><td>132</td></tr>",
                            "<tr><td>jozsef</td><td>Személyes átvétel</td><td>134</td></tr>",
                            "<tr><td>jozsef</td><td>NULL</td><td>382</td></tr>",
                            "<tr><td>jozsef2</td><td>GLS</td><td>7</td></tr>",
                            "<tr><td>jozsef2</td><td>Posta</td><td>2</td></tr>",
                            "<tr><td>jozsef2</td><td>Személyes átvétel</td><td>4</td></tr>",
                            "<tr><td>jozsef2</td><td>NULL</td><td>13</td></tr>",
                            "<tr><td>JOZSEFG</td><td>GLS</td><td>11</td></tr>",
                            "<tr><td>JOZSEFG</td><td>Posta</td><td>1</td></tr>",
                            "<tr><td>JOZSEFG</td><td>Személyes átvétel</td><td>9</td></tr>",
                            "<tr><td>JOZSEFG</td><td>NULL</td><td>21</td></tr>",
                            "<tr><td>JUDITH</td><td>GLS</td><td>170</td></tr>",
                            "<tr><td>JUDITH</td><td>Posta</td><td>130</td></tr>",
                            "<tr><td>JUDITH</td><td>Személyes átvétel</td><td>150</td></tr>",
                            "<tr><td>JUDITH</td><td>NULL</td><td>450</td></tr>",
                            "<tr><td>julia</td><td>GLS</td><td>137</td></tr>",
                            "<tr><td>julia</td><td>Posta</td><td>160</td></tr>",
                            "<tr><td>julia</td><td>Személyes átvétel</td><td>138</td></tr>",
                            "<tr><td>julia</td><td>NULL</td><td>435</td></tr>",
                            "<tr><td>julia4</td><td>GLS</td><td>2</td></tr>",
                            "<tr><td>julia4</td><td>Posta</td><td>4</td></tr>",
                            "<tr><td>julia4</td><td>Személyes átvétel</td><td>8</td></tr>",
                            "<tr><td>julia4</td><td>NULL</td><td>14</td></tr>",
                            "<tr><td>julianna4</td><td>GLS</td><td>8</td></tr>",
                            "<tr><td>julianna4</td><td>Posta</td><td>12</td></tr>",
                            "<tr><td>julianna4</td><td>Személyes átvétel</td><td>7</td></tr>",
                            "<tr><td>julianna4</td><td>NULL</td><td>27</td></tr>",
                            "<tr><td>kata</td><td>GLS</td><td>5</td></tr>",
                            "<tr><td>kata</td><td>Posta</td><td>4</td></tr>",
                            "<tr><td>kata</td><td>Személyes átvétel</td><td>3</td></tr>",
                            "<tr><td>kata</td><td>NULL</td><td>12</td></tr>",
                            "<tr><td>katalin</td><td>GLS</td><td>7</td></tr>",
                            "<tr><td>katalin</td><td>Posta</td><td>7</td></tr>",
                            "<tr><td>katalin</td><td>Személyes átvétel</td><td>5</td></tr>",
                            "<tr><td>katalin</td><td>NULL</td><td>19</td></tr>",
                            "<tr><td>katalin4</td><td>GLS</td><td>7</td></tr>",
                            "<tr><td>katalin4</td><td>Posta</td><td>5</td></tr>",
                            "<tr><td>katalin4</td><td>Személyes átvétel</td><td>11</td></tr>",
                            "<tr><td>katalin4</td><td>NULL</td><td>23</td></tr>",
                            "<tr><td>kati</td><td>GLS</td><td>4</td></tr>",
                            "<tr><td>kati</td><td>Posta</td><td>5</td></tr>",
                            "<tr><td>kati</td><td>Személyes átvétel</td><td>4</td></tr>",
                            "<tr><td>kati</td><td>NULL</td><td>13</td></tr>",
                            "<tr><td>katka</td><td>GLS</td><td>6</td></tr>",
                            "<tr><td>katka</td><td>Posta</td><td>6</td></tr>",
                            "<tr><td>katka</td><td>Személyes átvétel</td><td>10</td></tr>",
                            "<tr><td>katka</td><td>NULL</td><td>22</td></tr>",
                            "<tr><td>klaudia2</td><td>GLS</td><td>3</td></tr>",
                            "<tr><td>klaudia2</td><td>Posta</td><td>9</td></tr>",
                            "<tr><td>klaudia2</td><td>Személyes átvétel</td><td>5</td></tr>",
                            "<tr><td>klaudia2</td><td>NULL</td><td>17</td></tr>",
                            "<tr><td>kornel4</td><td>GLS</td><td>3</td></tr>",
                            "<tr><td>kornel4</td><td>Posta</td><td>1</td></tr>",
                            "<tr><td>kornel4</td><td>Személyes átvétel</td><td>7</td></tr>",
                            "<tr><td>kornel4</td><td>NULL</td><td>11</td></tr>",
                            "<tr><td>kristof4</td><td>GLS</td><td>9</td></tr>",
                            "<tr><td>kristof4</td><td>Posta</td><td>4</td></tr>",
                            "<tr><td>kristof4</td><td>Személyes átvétel</td><td>8</td></tr>",
                            "<tr><td>kristof4</td><td>NULL</td><td>21</td></tr>",
                            "<tr><td>kriszti</td><td>GLS</td><td>3</td></tr>",
                            "<tr><td>kriszti</td><td>Posta</td><td>5</td></tr>",
                            "<tr><td>kriszti</td><td>Személyes átvétel</td><td>5</td></tr>",
                            "<tr><td>kriszti</td><td>NULL</td><td>13</td></tr>",
                            "<tr><td>krisztian4</td><td>GLS</td><td>5</td></tr>",
                            "<tr><td>krisztian4</td><td>Posta</td><td>6</td></tr>",
                            "<tr><td>krisztian4</td><td>Személyes átvétel</td><td>6</td></tr>",
                            "<tr><td>krisztian4</td><td>NULL</td><td>17</td></tr>",
                            "<tr><td>KRISZTIANM</td><td>GLS</td><td>118</td></tr>",
                            "<tr><td>KRISZTIANM</td><td>Posta</td><td>136</td></tr>",
                            "<tr><td>KRISZTIANM</td><td>Személyes átvétel</td><td>130</td></tr>",
                            "<tr><td>KRISZTIANM</td><td>NULL</td><td>384</td></tr>",
                            "<tr><td>krisztina</td><td>GLS</td><td>149</td></tr>",
                            "<tr><td>krisztina</td><td>Posta</td><td>150</td></tr>",
                            "<tr><td>krisztina</td><td>Személyes átvétel</td><td>157</td></tr>",
                            "<tr><td>krisztina</td><td>NULL</td><td>456</td></tr>",
                            "<tr><td>krisztina1</td><td>GLS</td><td>10</td></tr>",
                            "<tr><td>krisztina1</td><td>Posta</td><td>4</td></tr>",
                            "<tr><td>krisztina1</td><td>Személyes átvétel</td><td>8</td></tr>",
                            "<tr><td>krisztina1</td><td>NULL</td><td>22</td></tr>",
                            "<tr><td>KRISZTINAG</td><td>GLS</td><td>6</td></tr>",
                            "<tr><td>KRISZTINAG</td><td>Posta</td><td>6</td></tr>",
                            "<tr><td>KRISZTINAG</td><td>Személyes átvétel</td><td>10</td></tr>",
                            "<tr><td>KRISZTINAG</td><td>NULL</td><td>22</td></tr>",
                            "<tr><td>lajos</td><td>GLS</td><td>5</td></tr>",
                            "<tr><td>lajos</td><td>Posta</td><td>2</td></tr>",
                            "<tr><td>lajos</td><td>Személyes átvétel</td><td>9</td></tr>",
                            "<tr><td>lajos</td><td>NULL</td><td>16</td></tr>",
                            "<tr><td>lala</td><td>GLS</td><td>5</td></tr>",
                            "<tr><td>lala</td><td>Posta</td><td>3</td></tr>",
                            "<tr><td>lala</td><td>Személyes átvétel</td><td>9</td></tr>",
                            "<tr><td>lala</td><td>NULL</td><td>17</td></tr>",
                            "<tr><td>laszlo1</td><td>GLS</td><td>130</td></tr>",
                            "<tr><td>laszlo1</td><td>Posta</td><td>129</td></tr>",
                            "<tr><td>laszlo1</td><td>Személyes átvétel</td><td>135</td></tr>",
                            "<tr><td>laszlo1</td><td>NULL</td><td>394</td></tr>",
                            "<tr><td>laszlo2</td><td>GLS</td><td>12</td></tr>",
                            "<tr><td>laszlo2</td><td>Posta</td><td>6</td></tr>",
                            "<tr><td>laszlo2</td><td>Személyes átvétel</td><td>7</td></tr>",
                            "<tr><td>laszlo2</td><td>NULL</td><td>25</td></tr>",
                            "<tr><td>LASZLOA</td><td>GLS</td><td>156</td></tr>",
                            "<tr><td>LASZLOA</td><td>Posta</td><td>136</td></tr>",
                            "<tr><td>LASZLOA</td><td>Személyes átvétel</td><td>154</td></tr>",
                            "<tr><td>LASZLOA</td><td>NULL</td><td>446</td></tr>",
                            "<tr><td>LASZLON</td><td>GLS</td><td>126</td></tr>",
                            "<tr><td>LASZLON</td><td>Posta</td><td>131</td></tr>",
                            "<tr><td>LASZLON</td><td>Személyes átvétel</td><td>143</td></tr>",
                            "<tr><td>LASZLON</td><td>NULL</td><td>400</td></tr>",
                            "<tr><td>maria1</td><td>GLS</td><td>4</td></tr>",
                            "<tr><td>maria1</td><td>Posta</td><td>5</td></tr>",
                            "<tr><td>maria1</td><td>Személyes átvétel</td><td>1</td></tr>",
                            "<tr><td>maria1</td><td>NULL</td><td>10</td></tr>",
                            "<tr><td>MARKH</td><td>GLS</td><td>128</td></tr>",
                            "<tr><td>MARKH</td><td>Posta</td><td>142</td></tr>",
                            "<tr><td>MARKH</td><td>Személyes átvétel</td><td>142</td></tr>",
                            "<tr><td>MARKH</td><td>NULL</td><td>412</td></tr>",
                            "<tr><td>marton</td><td>GLS</td><td>5</td></tr>",
                            "<tr><td>marton</td><td>Posta</td><td>4</td></tr>",
                            "<tr><td>marton</td><td>Személyes átvétel</td><td>5</td></tr>",
                            "<tr><td>marton</td><td>NULL</td><td>14</td></tr>",
                            "<tr><td>MATEK</td><td>GLS</td><td>6</td></tr>",
                            "<tr><td>MATEK</td><td>Posta</td><td>10</td></tr>",
                            "<tr><td>MATEK</td><td>Személyes átvétel</td><td>9</td></tr>",
                            "<tr><td>MATEK</td><td>NULL</td><td>25</td></tr>",
                            "<tr><td>matyas2</td><td>GLS</td><td>138</td></tr>",
                            "<tr><td>matyas2</td><td>Posta</td><td>131</td></tr>",
                            "<tr><td>matyas2</td><td>Személyes átvétel</td><td>164</td></tr>",
                            "<tr><td>matyas2</td><td>NULL</td><td>433</td></tr>",
                            "<tr><td>MATYASS</td><td>GLS</td><td>4</td></tr>",
                            "<tr><td>MATYASS</td><td>Posta</td><td>5</td></tr>",
                            "<tr><td>MATYASS</td><td>Személyes átvétel</td><td>3</td></tr>",
                            "<tr><td>MATYASS</td><td>NULL</td><td>12</td></tr>",
                            "<tr><td>MIHALYJ</td><td>GLS</td><td>3</td></tr>",
                            "<tr><td>MIHALYJ</td><td>Posta</td><td>4</td></tr>",
                            "<tr><td>MIHALYJ</td><td>Személyes átvétel</td><td>6</td></tr>",
                            "<tr><td>MIHALYJ</td><td>NULL</td><td>13</td></tr>",
                            "<tr><td>miklos2</td><td>GLS</td><td>7</td></tr>",
                            "<tr><td>miklos2</td><td>Posta</td><td>4</td></tr>",
                            "<tr><td>miklos2</td><td>Személyes átvétel</td><td>2</td></tr>",
                            "<tr><td>miklos2</td><td>NULL</td><td>13</td></tr>",
                            "<tr><td>MIKLOSB</td><td>GLS</td><td>6</td></tr>",
                            "<tr><td>MIKLOSB</td><td>Posta</td><td>1</td></tr>",
                            "<tr><td>MIKLOSB</td><td>Személyes átvétel</td><td>8</td></tr>",
                            "<tr><td>MIKLOSB</td><td>NULL</td><td>15</td></tr>",
                            "<tr><td>MONIKAM</td><td>GLS</td><td>133</td></tr>",
                            "<tr><td>MONIKAM</td><td>Posta</td><td>151</td></tr>",
                            "<tr><td>MONIKAM</td><td>Személyes átvétel</td><td>123</td></tr>",
                            "<tr><td>MONIKAM</td><td>NULL</td><td>407</td></tr>",
                            "<tr><td>NANDORF</td><td>GLS</td><td>147</td></tr>",
                            "<tr><td>NANDORF</td><td>Posta</td><td>139</td></tr>",
                            "<tr><td>NANDORF</td><td>Személyes átvétel</td><td>134</td></tr>",
                            "<tr><td>NANDORF</td><td>NULL</td><td>420</td></tr>",
                            "<tr><td>nikolett3</td><td>GLS</td><td>4</td></tr>",
                            "<tr><td>nikolett3</td><td>Posta</td><td>3</td></tr>",
                            "<tr><td>nikolett3</td><td>Személyes átvétel</td><td>10</td></tr>",
                            "<tr><td>nikolett3</td><td>NULL</td><td>17</td></tr>",
                            "<tr><td>nikoletta4</td><td>GLS</td><td>137</td></tr>",
                            "<tr><td>nikoletta4</td><td>Posta</td><td>158</td></tr>",
                            "<tr><td>nikoletta4</td><td>Személyes átvétel</td><td>119</td></tr>",
                            "<tr><td>nikoletta4</td><td>NULL</td><td>414</td></tr>",
                            "<tr><td>NIKOLETTAT</td><td>GLS</td><td>13</td></tr>",
                            "<tr><td>NIKOLETTAT</td><td>Posta</td><td>7</td></tr>",
                            "<tr><td>NIKOLETTAT</td><td>Személyes átvétel</td><td>5</td></tr>",
                            "<tr><td>NIKOLETTAT</td><td>NULL</td><td>25</td></tr>",
                            "<tr><td>norbert2</td><td>GLS</td><td>7</td></tr>",
                            "<tr><td>norbert2</td><td>Posta</td><td>4</td></tr>",
                            "<tr><td>norbert2</td><td>NULL</td><td>11</td></tr>",
                            "<tr><td>norbert4</td><td>GLS</td><td>1</td></tr>",
                            "<tr><td>norbert4</td><td>Posta</td><td>3</td></tr>",
                            "<tr><td>norbert4</td><td>Személyes átvétel</td><td>9</td></tr>",
                            "<tr><td>norbert4</td><td>NULL</td><td>13</td></tr>",
                            "<tr><td>norbert5</td><td>GLS</td><td>1</td></tr>",
                            "<tr><td>norbert5</td><td>Posta</td><td>6</td></tr>",
                            "<tr><td>norbert5</td><td>Személyes átvétel</td><td>9</td></tr>",
                            "<tr><td>norbert5</td><td>NULL</td><td>16</td></tr>",
                            "<tr><td>pal</td><td>GLS</td><td>152</td></tr>",
                            "<tr><td>pal</td><td>Posta</td><td>132</td></tr>",
                            "<tr><td>pal</td><td>Személyes átvétel</td><td>154</td></tr>",
                            "<tr><td>pal</td><td>NULL</td><td>438</td></tr>",
                            "<tr><td>peter1</td><td>GLS</td><td>151</td></tr>",
                            "<tr><td>peter1</td><td>Posta</td><td>135</td></tr>",
                            "<tr><td>peter1</td><td>Személyes átvétel</td><td>126</td></tr>",
                            "<tr><td>peter1</td><td>NULL</td><td>412</td></tr>",
                            "<tr><td>peter2</td><td>GLS</td><td>7</td></tr>",
                            "<tr><td>peter2</td><td>Posta</td><td>4</td></tr>",
                            "<tr><td>peter2</td><td>Személyes átvétel</td><td>7</td></tr>",
                            "<tr><td>peter2</td><td>NULL</td><td>18</td></tr>",
                            "<tr><td>peter3</td><td>GLS</td><td>8</td></tr>",
                            "<tr><td>peter3</td><td>Posta</td><td>7</td></tr>",
                            "<tr><td>peter3</td><td>Személyes átvétel</td><td>10</td></tr>",
                            "<tr><td>peter3</td><td>NULL</td><td>25</td></tr>",
                            "<tr><td>peter4</td><td>GLS</td><td>266</td></tr>",
                            "<tr><td>peter4</td><td>Posta</td><td>293</td></tr>",
                            "<tr><td>peter4</td><td>Személyes átvétel</td><td>293</td></tr>",
                            "<tr><td>peter4</td><td>NULL</td><td>852</td></tr>",
                            "<tr><td>PETERB</td><td>GLS</td><td>2</td></tr>",
                            "<tr><td>PETERB</td><td>Posta</td><td>4</td></tr>",
                            "<tr><td>PETERB</td><td>Személyes átvétel</td><td>9</td></tr>",
                            "<tr><td>PETERB</td><td>NULL</td><td>15</td></tr>",
                            "<tr><td>polla</td><td>GLS</td><td>9</td></tr>",
                            "<tr><td>polla</td><td>Posta</td><td>6</td></tr>",
                            "<tr><td>polla</td><td>Személyes átvétel</td><td>7</td></tr>",
                            "<tr><td>polla</td><td>NULL</td><td>22</td></tr>",
                            "<tr><td>rajmond4</td><td>GLS</td><td>6</td></tr>",
                            "<tr><td>rajmond4</td><td>Posta</td><td>5</td></tr>",
                            "<tr><td>rajmond4</td><td>Személyes átvétel</td><td>6</td></tr>",
                            "<tr><td>rajmond4</td><td>NULL</td><td>17</td></tr>",
                            "<tr><td>reka4</td><td>GLS</td><td>5</td></tr>",
                            "<tr><td>reka4</td><td>Posta</td><td>4</td></tr>",
                            "<tr><td>reka4</td><td>Személyes átvétel</td><td>11</td></tr>",
                            "<tr><td>reka4</td><td>NULL</td><td>20</td></tr>",
                            "<tr><td>RENATAK</td><td>GLS</td><td>135</td></tr>",
                            "<tr><td>RENATAK</td><td>Posta</td><td>140</td></tr>",
                            "<tr><td>RENATAK</td><td>Személyes átvétel</td><td>147</td></tr>",
                            "<tr><td>RENATAK</td><td>NULL</td><td>422</td></tr>",
                            "<tr><td>RENATAS</td><td>GLS</td><td>6</td></tr>",
                            "<tr><td>RENATAS</td><td>Posta</td><td>5</td></tr>",
                            "<tr><td>RENATAS</td><td>Személyes átvétel</td><td>5</td></tr>",
                            "<tr><td>RENATAS</td><td>NULL</td><td>16</td></tr>",
                            "<tr><td>robert2</td><td>GLS</td><td>5</td></tr>",
                            "<tr><td>robert2</td><td>Posta</td><td>1</td></tr>",
                            "<tr><td>robert2</td><td>Személyes átvétel</td><td>7</td></tr>",
                            "<tr><td>robert2</td><td>NULL</td><td>13</td></tr>",
                            "<tr><td>ROBERTI</td><td>GLS</td><td>5</td></tr>",
                            "<tr><td>ROBERTI</td><td>Posta</td><td>3</td></tr>",
                            "<tr><td>ROBERTI</td><td>Személyes átvétel</td><td>5</td></tr>",
                            "<tr><td>ROBERTI</td><td>NULL</td><td>13</td></tr>",
                            "<tr><td>ROBERTP</td><td>GLS</td><td>8</td></tr>",
                            "<tr><td>ROBERTP</td><td>Posta</td><td>8</td></tr>",
                            "<tr><td>ROBERTP</td><td>Személyes átvétel</td><td>10</td></tr>",
                            "<tr><td>ROBERTP</td><td>NULL</td><td>26</td></tr>",
                            "<tr><td>roland</td><td>GLS</td><td>132</td></tr>",
                            "<tr><td>roland</td><td>Posta</td><td>157</td></tr>",
                            "<tr><td>roland</td><td>Személyes átvétel</td><td>125</td></tr>",
                            "<tr><td>roland</td><td>NULL</td><td>414</td></tr>",
                            "<tr><td>roland1</td><td>GLS</td><td>142</td></tr>",
                            "<tr><td>roland1</td><td>Posta</td><td>155</td></tr>",
                            "<tr><td>roland1</td><td>Személyes átvétel</td><td>135</td></tr>",
                            "<tr><td>roland1</td><td>NULL</td><td>432</td></tr>",
                            "<tr><td>roza2</td><td>GLS</td><td>3</td></tr>",
                            "<tr><td>roza2</td><td>Posta</td><td>2</td></tr>",
                            "<tr><td>roza2</td><td>Személyes átvétel</td><td>3</td></tr>",
                            "<tr><td>roza2</td><td>NULL</td><td>8</td></tr>",
                            "<tr><td>sandor</td><td>GLS</td><td>4</td></tr>",
                            "<tr><td>sandor</td><td>Posta</td><td>6</td></tr>",
                            "<tr><td>sandor</td><td>Személyes átvétel</td><td>7</td></tr>",
                            "<tr><td>sandor</td><td>NULL</td><td>17</td></tr>",
                            "<tr><td>sandor3</td><td>GLS</td><td>4</td></tr>",
                            "<tr><td>sandor3</td><td>Posta</td><td>4</td></tr>",
                            "<tr><td>sandor3</td><td>Személyes átvétel</td><td>6</td></tr>",
                            "<tr><td>sandor3</td><td>NULL</td><td>14</td></tr>",
                            "<tr><td>sandor4</td><td>GLS</td><td>4</td></tr>",
                            "<tr><td>sandor4</td><td>Posta</td><td>2</td></tr>",
                            "<tr><td>sandor4</td><td>Személyes átvétel</td><td>5</td></tr>",
                            "<tr><td>sandor4</td><td>NULL</td><td>11</td></tr>",
                            "<tr><td>sara</td><td>GLS</td><td>4</td></tr>",
                            "<tr><td>sara</td><td>Posta</td><td>7</td></tr>",
                            "<tr><td>sara</td><td>Személyes átvétel</td><td>9</td></tr>",
                            "<tr><td>sara</td><td>NULL</td><td>20</td></tr>",
                            "<tr><td>SEBASTIANF</td><td>GLS</td><td>6</td></tr>",
                            "<tr><td>SEBASTIANF</td><td>Posta</td><td>3</td></tr>",
                            "<tr><td>SEBASTIANF</td><td>Személyes átvétel</td><td>6</td></tr>",
                            "<tr><td>SEBASTIANF</td><td>NULL</td><td>15</td></tr>",
                            "<tr><td>sebestyen</td><td>GLS</td><td>4</td></tr>",
                            "<tr><td>sebestyen</td><td>Posta</td><td>6</td></tr>",
                            "<tr><td>sebestyen</td><td>Személyes átvétel</td><td>6</td></tr>",
                            "<tr><td>sebestyen</td><td>NULL</td><td>16</td></tr>",
                            "<tr><td>szabolcs</td><td>GLS</td><td>145</td></tr>",
                            "<tr><td>szabolcs</td><td>Posta</td><td>157</td></tr>",
                            "<tr><td>szabolcs</td><td>Személyes átvétel</td><td>169</td></tr>",
                            "<tr><td>szabolcs</td><td>NULL</td><td>471</td></tr>",
                            "<tr><td>SZABOLCSM</td><td>GLS</td><td>126</td></tr>",
                            "<tr><td>SZABOLCSM</td><td>Posta</td><td>153</td></tr>",
                            "<tr><td>SZABOLCSM</td><td>Személyes átvétel</td><td>129</td></tr>",
                            "<tr><td>SZABOLCSM</td><td>NULL</td><td>408</td></tr>",
                            "<tr><td>SZILARDS</td><td>GLS</td><td>144</td></tr>",
                            "<tr><td>SZILARDS</td><td>Posta</td><td>131</td></tr>",
                            "<tr><td>SZILARDS</td><td>Személyes átvétel</td><td>111</td></tr>",
                            "<tr><td>SZILARDS</td><td>NULL</td><td>386</td></tr>",
                            "<tr><td>szilvia1</td><td>GLS</td><td>156</td></tr>",
                            "<tr><td>szilvia1</td><td>Posta</td><td>151</td></tr>",
                            "<tr><td>szilvia1</td><td>Személyes átvétel</td><td>138</td></tr>",
                            "<tr><td>szilvia1</td><td>NULL</td><td>445</td></tr>",
                            "<tr><td>tamara2</td><td>GLS</td><td>6</td></tr>",
                            "<tr><td>tamara2</td><td>Posta</td><td>4</td></tr>",
                            "<tr><td>tamara2</td><td>Személyes átvétel</td><td>3</td></tr>",
                            "<tr><td>tamara2</td><td>NULL</td><td>13</td></tr>",
                            "<tr><td>tamas</td><td>GLS</td><td>143</td></tr>",
                            "<tr><td>tamas</td><td>Posta</td><td>156</td></tr>",
                            "<tr><td>tamas</td><td>Személyes átvétel</td><td>122</td></tr>",
                            "<tr><td>tamas</td><td>NULL</td><td>421</td></tr>",
                            "<tr><td>TAMASF</td><td>GLS</td><td>159</td></tr>",
                            "<tr><td>TAMASF</td><td>Posta</td><td>145</td></tr>",
                            "<tr><td>TAMASF</td><td>Személyes átvétel</td><td>129</td></tr>",
                            "<tr><td>TAMASF</td><td>NULL</td><td>433</td></tr>",
                            "<tr><td>tibor</td><td>GLS</td><td>115</td></tr>",
                            "<tr><td>tibor</td><td>Posta</td><td>129</td></tr>",
                            "<tr><td>tibor</td><td>Személyes átvétel</td><td>130</td></tr>",
                            "<tr><td>tibor</td><td>NULL</td><td>374</td></tr>",
                            "<tr><td>tibor2</td><td>GLS</td><td>7</td></tr>",
                            "<tr><td>tibor2</td><td>Posta</td><td>7</td></tr>",
                            "<tr><td>tibor2</td><td>Személyes átvétel</td><td>11</td></tr>",
                            "<tr><td>tibor2</td><td>NULL</td><td>25</td></tr>",
                            "<tr><td>tihamer</td><td>GLS</td><td>9</td></tr>",
                            "<tr><td>tihamer</td><td>Posta</td><td>6</td></tr>",
                            "<tr><td>tihamer</td><td>Személyes átvétel</td><td>5</td></tr>",
                            "<tr><td>tihamer</td><td>NULL</td><td>20</td></tr>",
                            "<tr><td>timea</td><td>GLS</td><td>14</td></tr>",
                            "<tr><td>timea</td><td>Posta</td><td>23</td></tr>",
                            "<tr><td>timea</td><td>Személyes átvétel</td><td>18</td></tr>",
                            "<tr><td>timea</td><td>NULL</td><td>55</td></tr>",
                            "<tr><td>timea2</td><td>GLS</td><td>1</td></tr>",
                            "<tr><td>timea2</td><td>Posta</td><td>5</td></tr>",
                            "<tr><td>timea2</td><td>Személyes átvétel</td><td>10</td></tr>",
                            "<tr><td>timea2</td><td>NULL</td><td>16</td></tr>",
                            "<tr><td>tunde</td><td>GLS</td><td>6</td></tr>",
                            "<tr><td>tunde</td><td>Posta</td><td>6</td></tr>",
                            "<tr><td>tunde</td><td>Személyes átvétel</td><td>4</td></tr>",
                            "<tr><td>tunde</td><td>NULL</td><td>16</td></tr>",
                            "<tr><td>valentin</td><td>GLS</td><td>5</td></tr>",
                            "<tr><td>valentin</td><td>Posta</td><td>5</td></tr>",
                            "<tr><td>valentin</td><td>Személyes átvétel</td><td>3</td></tr>",
                            "<tr><td>valentin</td><td>NULL</td><td>13</td></tr>",
                            "<tr><td>veronika4</td><td>GLS</td><td>5</td></tr>",
                            "<tr><td>veronika4</td><td>Posta</td><td>6</td></tr>",
                            "<tr><td>veronika4</td><td>Személyes átvétel</td><td>7</td></tr>",
                            "<tr><td>veronika4</td><td>NULL</td><td>18</td></tr>",
                            "<tr><td>VIKTORIAU</td><td>GLS</td><td>5</td></tr>",
                            "<tr><td>VIKTORIAU</td><td>Posta</td><td>4</td></tr>",
                            "<tr><td>VIKTORIAU</td><td>Személyes átvétel</td><td>5</td></tr>",
                            "<tr><td>VIKTORIAU</td><td>NULL</td><td>14</td></tr>",
                            "<tr><td>VIKTORK</td><td>GLS</td><td>8</td></tr>",
                            "<tr><td>VIKTORK</td><td>Posta</td><td>6</td></tr>",
                            "<tr><td>VIKTORK</td><td>Személyes átvétel</td><td>6</td></tr>",
                            "<tr><td>VIKTORK</td><td>NULL</td><td>20</td></tr>",
                            "<tr><td>vivien3</td><td>GLS</td><td>9</td></tr>",
                            "<tr><td>vivien3</td><td>Posta</td><td>6</td></tr>",
                            "<tr><td>vivien3</td><td>Személyes átvétel</td><td>7</td></tr>",
                            "<tr><td>vivien3</td><td>NULL</td><td>22</td></tr>",
                            "<tr><td>zoltan</td><td>GLS</td><td>5</td></tr>",
                            "<tr><td>zoltan</td><td>Posta</td><td>3</td></tr>",
                            "<tr><td>zoltan</td><td>Személyes átvétel</td><td>7</td></tr>",
                            "<tr><td>zoltan</td><td>NULL</td><td>15</td></tr>",
                            "<tr><td>zoltan4</td><td>GLS</td><td>129</td></tr>",
                            "<tr><td>zoltan4</td><td>Posta</td><td>124</td></tr>",
                            "<tr><td>zoltan4</td><td>Személyes átvétel</td><td>171</td></tr>",
                            "<tr><td>zoltan4</td><td>NULL</td><td>424</td></tr>",
                            "<tr><td>ZOLTANP</td><td>GLS</td><td>6</td></tr>",
                            "<tr><td>ZOLTANP</td><td>Posta</td><td>3</td></tr>",
                            "<tr><td>ZOLTANP</td><td>Személyes átvétel</td><td>4</td></tr>",
                            "<tr><td>ZOLTANP</td><td>NULL</td><td>13</td></tr>",
                            "<tr><td>ZOLTANT</td><td>GLS</td><td>127</td></tr>",
                            "<tr><td>ZOLTANT</td><td>Posta</td><td>107</td></tr>",
                            "<tr><td>ZOLTANT</td><td>Személyes átvétel</td><td>123</td></tr>",
                            "<tr><td>ZOLTANT</td><td>NULL</td><td>357</td></tr>",
                            "<tr><td>zsofi1</td><td>GLS</td><td>7</td></tr>",
                            "<tr><td>zsofi1</td><td>Posta</td><td>6</td></tr>",
                            "<tr><td>zsofi1</td><td>Személyes átvétel</td><td>6</td></tr>",
                            "<tr><td>zsofi1</td><td>NULL</td><td>19</td></tr>",
                            "<tr><td>zsolt1</td><td>GLS</td><td>11</td></tr>",
                            "<tr><td>zsolt1</td><td>Posta</td><td>6</td></tr>",
                            "<tr><td>zsolt1</td><td>Személyes átvétel</td><td>3</td></tr>",
                            "<tr><td>zsolt1</td><td>NULL</td><td>20</td></tr>",
                            "<tr><td>ZSOLTJ</td><td>GLS</td><td>1</td></tr>",
                            "<tr><td>ZSOLTJ</td><td>Posta</td><td>8</td></tr>",
                            "<tr><td>ZSOLTJ</td><td>Személyes átvétel</td><td>9</td></tr>",
                            "<tr><td>ZSOLTJ</td><td>NULL</td><td>18</td></tr>",
                            "<tr><td>zsuzsa</td><td>GLS</td><td>8</td></tr>",
                            "<tr><td>zsuzsa</td><td>Posta</td><td>5</td></tr>",
                            "<tr><td>zsuzsa</td><td>Személyes átvétel</td><td>3</td></tr>",
                            "<tr><td>zsuzsa</td><td>NULL</td><td>16</td></tr>",
                            "<tr><td>zsuzsa3</td><td>GLS</td><td>5</td></tr>",
                            "<tr><td>zsuzsa3</td><td>Posta</td><td>5</td></tr>",
                            "<tr><td>zsuzsa3</td><td>Személyes átvétel</td><td>6</td></tr>",
                            "<tr><td>zsuzsa3</td><td>NULL</td><td>16</td></tr>",
                            "<tr><td>zsuzsanna</td><td>GLS</td><td>7</td></tr>",
                            "<tr><td>zsuzsanna</td><td>Posta</td><td>5</td></tr>",
                            "<tr><td>zsuzsanna</td><td>Személyes átvétel</td><td>3</td></tr>",
                            "<tr><td>zsuzsanna</td><td>NULL</td><td>15</td></tr>",
                            "<tr><td>ZSUZSAV</td><td>GLS</td><td>139</td></tr>",
                            "<tr><td>ZSUZSAV</td><td>Posta</td><td>139</td></tr>",
                            "<tr><td>ZSUZSAV</td><td>Személyes átvétel</td><td>142</td></tr>",
                            "<tr><td>ZSUZSAV</td><td>NULL</td><td>420</td></tr>",
                            "<tr><td>NULL</td><td>NULL</td><td>28085</td></tr>",
                            "</table>"
                        ]
                    }
                }
            ],
            "execution_count": 5
        },
        {
            "cell_type": "markdown",
            "source": [
                "2. <span style=\"background-color: rgb(255, 255, 255); color: rgb(0, 0, 0); font-family: &quot;Open Sans&quot;, sans-serif; font-size: 14.44px;\">Készítsünk listát a termékek számáról a következő csoportosítási szempontok szerint:<br>kategória azonosító, raktárkód, raktárkód+mennyiségi egység!</span>\n",
                "\n",
                "a. A listát szűrjük azokra a csoportokra, ahol a termékek száma legalább 6!"
            ],
            "metadata": {
                "azdata_cell_guid": "ea75c103-911f-41a3-a32c-3d40fb3e4e4a"
            },
            "attachments": {}
        },
        {
            "cell_type": "code",
            "source": [
                "SELECT KAT_ID, \r\n",
                "        RAKTAR_KOD,\r\n",
                "        MEGYS,\r\n",
                "        COUNT(*)\r\n",
                "FROM Termek\r\n",
                "GROUP BY GROUPING SETS (KAT_ID, \r\n",
                "        RAKTAR_KOD, (RAKTAR_KOD, MEGYS))\r\n",
                "\r\n",
                "HAVING COUNT(*)>=6"
            ],
            "metadata": {
                "azdata_cell_guid": "222b9618-a8e8-42b4-a8e8-d002257122b7",
                "language": "sql"
            },
            "outputs": [
                {
                    "output_type": "display_data",
                    "data": {
                        "text/html": "(49 rows affected)"
                    },
                    "metadata": {}
                },
                {
                    "output_type": "display_data",
                    "data": {
                        "text/html": "Total execution time: 00:00:00.070"
                    },
                    "metadata": {}
                },
                {
                    "output_type": "execute_result",
                    "metadata": {},
                    "execution_count": 6,
                    "data": {
                        "application/vnd.dataresource+json": {
                            "schema": {
                                "fields": [
                                    {
                                        "name": "KAT_ID"
                                    },
                                    {
                                        "name": "RAKTAR_KOD"
                                    },
                                    {
                                        "name": "MEGYS"
                                    },
                                    {
                                        "name": "(No column name)"
                                    }
                                ]
                            },
                            "data": [
                                {
                                    "KAT_ID": "NULL",
                                    "RAKTAR_KOD": "1",
                                    "MEGYS": "db",
                                    "(No column name)": "11"
                                },
                                {
                                    "KAT_ID": "NULL",
                                    "RAKTAR_KOD": "1",
                                    "MEGYS": "NULL",
                                    "(No column name)": "11"
                                },
                                {
                                    "KAT_ID": "NULL",
                                    "RAKTAR_KOD": "3",
                                    "MEGYS": "db",
                                    "(No column name)": "14"
                                },
                                {
                                    "KAT_ID": "NULL",
                                    "RAKTAR_KOD": "3",
                                    "MEGYS": "NULL",
                                    "(No column name)": "14"
                                },
                                {
                                    "KAT_ID": "NULL",
                                    "RAKTAR_KOD": "5",
                                    "MEGYS": "csomag",
                                    "(No column name)": "7"
                                },
                                {
                                    "KAT_ID": "NULL",
                                    "RAKTAR_KOD": "5",
                                    "MEGYS": "db",
                                    "(No column name)": "72"
                                },
                                {
                                    "KAT_ID": "NULL",
                                    "RAKTAR_KOD": "5",
                                    "MEGYS": "NULL",
                                    "(No column name)": "86"
                                },
                                {
                                    "KAT_ID": "NULL",
                                    "RAKTAR_KOD": "6",
                                    "MEGYS": "csomag",
                                    "(No column name)": "9"
                                },
                                {
                                    "KAT_ID": "NULL",
                                    "RAKTAR_KOD": "6",
                                    "MEGYS": "db",
                                    "(No column name)": "94"
                                },
                                {
                                    "KAT_ID": "NULL",
                                    "RAKTAR_KOD": "6",
                                    "MEGYS": "NULL",
                                    "(No column name)": "106"
                                },
                                {
                                    "KAT_ID": "NULL",
                                    "RAKTAR_KOD": "7",
                                    "MEGYS": "csomag",
                                    "(No column name)": "9"
                                },
                                {
                                    "KAT_ID": "NULL",
                                    "RAKTAR_KOD": "7",
                                    "MEGYS": "db",
                                    "(No column name)": "88"
                                },
                                {
                                    "KAT_ID": "NULL",
                                    "RAKTAR_KOD": "7",
                                    "MEGYS": "NULL",
                                    "(No column name)": "100"
                                },
                                {
                                    "KAT_ID": "NULL",
                                    "RAKTAR_KOD": "8",
                                    "MEGYS": "csomag",
                                    "(No column name)": "8"
                                },
                                {
                                    "KAT_ID": "NULL",
                                    "RAKTAR_KOD": "8",
                                    "MEGYS": "db",
                                    "(No column name)": "109"
                                },
                                {
                                    "KAT_ID": "NULL",
                                    "RAKTAR_KOD": "8",
                                    "MEGYS": "ív",
                                    "(No column name)": "6"
                                },
                                {
                                    "KAT_ID": "NULL",
                                    "RAKTAR_KOD": "8",
                                    "MEGYS": "NULL",
                                    "(No column name)": "123"
                                },
                                {
                                    "KAT_ID": "NULL",
                                    "RAKTAR_KOD": "9",
                                    "MEGYS": "csomag",
                                    "(No column name)": "11"
                                },
                                {
                                    "KAT_ID": "NULL",
                                    "RAKTAR_KOD": "9",
                                    "MEGYS": "db",
                                    "(No column name)": "86"
                                },
                                {
                                    "KAT_ID": "NULL",
                                    "RAKTAR_KOD": "9",
                                    "MEGYS": "NULL",
                                    "(No column name)": "102"
                                },
                                {
                                    "KAT_ID": "4",
                                    "RAKTAR_KOD": "NULL",
                                    "MEGYS": "NULL",
                                    "(No column name)": "15"
                                },
                                {
                                    "KAT_ID": "6",
                                    "RAKTAR_KOD": "NULL",
                                    "MEGYS": "NULL",
                                    "(No column name)": "20"
                                },
                                {
                                    "KAT_ID": "16",
                                    "RAKTAR_KOD": "NULL",
                                    "MEGYS": "NULL",
                                    "(No column name)": "7"
                                },
                                {
                                    "KAT_ID": "19",
                                    "RAKTAR_KOD": "NULL",
                                    "MEGYS": "NULL",
                                    "(No column name)": "19"
                                },
                                {
                                    "KAT_ID": "24",
                                    "RAKTAR_KOD": "NULL",
                                    "MEGYS": "NULL",
                                    "(No column name)": "7"
                                },
                                {
                                    "KAT_ID": "30",
                                    "RAKTAR_KOD": "NULL",
                                    "MEGYS": "NULL",
                                    "(No column name)": "7"
                                },
                                {
                                    "KAT_ID": "35",
                                    "RAKTAR_KOD": "NULL",
                                    "MEGYS": "NULL",
                                    "(No column name)": "7"
                                },
                                {
                                    "KAT_ID": "41",
                                    "RAKTAR_KOD": "NULL",
                                    "MEGYS": "NULL",
                                    "(No column name)": "13"
                                },
                                {
                                    "KAT_ID": "45",
                                    "RAKTAR_KOD": "NULL",
                                    "MEGYS": "NULL",
                                    "(No column name)": "11"
                                },
                                {
                                    "KAT_ID": "46",
                                    "RAKTAR_KOD": "NULL",
                                    "MEGYS": "NULL",
                                    "(No column name)": "7"
                                },
                                {
                                    "KAT_ID": "52",
                                    "RAKTAR_KOD": "NULL",
                                    "MEGYS": "NULL",
                                    "(No column name)": "26"
                                },
                                {
                                    "KAT_ID": "54",
                                    "RAKTAR_KOD": "NULL",
                                    "MEGYS": "NULL",
                                    "(No column name)": "6"
                                },
                                {
                                    "KAT_ID": "66",
                                    "RAKTAR_KOD": "NULL",
                                    "MEGYS": "NULL",
                                    "(No column name)": "7"
                                },
                                {
                                    "KAT_ID": "78",
                                    "RAKTAR_KOD": "NULL",
                                    "MEGYS": "NULL",
                                    "(No column name)": "24"
                                },
                                {
                                    "KAT_ID": "83",
                                    "RAKTAR_KOD": "NULL",
                                    "MEGYS": "NULL",
                                    "(No column name)": "6"
                                },
                                {
                                    "KAT_ID": "85",
                                    "RAKTAR_KOD": "NULL",
                                    "MEGYS": "NULL",
                                    "(No column name)": "16"
                                },
                                {
                                    "KAT_ID": "91",
                                    "RAKTAR_KOD": "NULL",
                                    "MEGYS": "NULL",
                                    "(No column name)": "7"
                                },
                                {
                                    "KAT_ID": "93",
                                    "RAKTAR_KOD": "NULL",
                                    "MEGYS": "NULL",
                                    "(No column name)": "7"
                                },
                                {
                                    "KAT_ID": "96",
                                    "RAKTAR_KOD": "NULL",
                                    "MEGYS": "NULL",
                                    "(No column name)": "9"
                                },
                                {
                                    "KAT_ID": "97",
                                    "RAKTAR_KOD": "NULL",
                                    "MEGYS": "NULL",
                                    "(No column name)": "10"
                                },
                                {
                                    "KAT_ID": "100",
                                    "RAKTAR_KOD": "NULL",
                                    "MEGYS": "NULL",
                                    "(No column name)": "9"
                                },
                                {
                                    "KAT_ID": "118",
                                    "RAKTAR_KOD": "NULL",
                                    "MEGYS": "NULL",
                                    "(No column name)": "9"
                                },
                                {
                                    "KAT_ID": "122",
                                    "RAKTAR_KOD": "NULL",
                                    "MEGYS": "NULL",
                                    "(No column name)": "7"
                                },
                                {
                                    "KAT_ID": "124",
                                    "RAKTAR_KOD": "NULL",
                                    "MEGYS": "NULL",
                                    "(No column name)": "10"
                                },
                                {
                                    "KAT_ID": "133",
                                    "RAKTAR_KOD": "NULL",
                                    "MEGYS": "NULL",
                                    "(No column name)": "6"
                                },
                                {
                                    "KAT_ID": "145",
                                    "RAKTAR_KOD": "NULL",
                                    "MEGYS": "NULL",
                                    "(No column name)": "18"
                                },
                                {
                                    "KAT_ID": "146",
                                    "RAKTAR_KOD": "NULL",
                                    "MEGYS": "NULL",
                                    "(No column name)": "7"
                                },
                                {
                                    "KAT_ID": "149",
                                    "RAKTAR_KOD": "NULL",
                                    "MEGYS": "NULL",
                                    "(No column name)": "6"
                                },
                                {
                                    "KAT_ID": "152",
                                    "RAKTAR_KOD": "NULL",
                                    "MEGYS": "NULL",
                                    "(No column name)": "6"
                                }
                            ]
                        },
                        "text/html": [
                            "<table>",
                            "<tr><th>KAT_ID</th><th>RAKTAR_KOD</th><th>MEGYS</th><th>(No column name)</th></tr>",
                            "<tr><td>NULL</td><td>1</td><td>db</td><td>11</td></tr>",
                            "<tr><td>NULL</td><td>1</td><td>NULL</td><td>11</td></tr>",
                            "<tr><td>NULL</td><td>3</td><td>db</td><td>14</td></tr>",
                            "<tr><td>NULL</td><td>3</td><td>NULL</td><td>14</td></tr>",
                            "<tr><td>NULL</td><td>5</td><td>csomag</td><td>7</td></tr>",
                            "<tr><td>NULL</td><td>5</td><td>db</td><td>72</td></tr>",
                            "<tr><td>NULL</td><td>5</td><td>NULL</td><td>86</td></tr>",
                            "<tr><td>NULL</td><td>6</td><td>csomag</td><td>9</td></tr>",
                            "<tr><td>NULL</td><td>6</td><td>db</td><td>94</td></tr>",
                            "<tr><td>NULL</td><td>6</td><td>NULL</td><td>106</td></tr>",
                            "<tr><td>NULL</td><td>7</td><td>csomag</td><td>9</td></tr>",
                            "<tr><td>NULL</td><td>7</td><td>db</td><td>88</td></tr>",
                            "<tr><td>NULL</td><td>7</td><td>NULL</td><td>100</td></tr>",
                            "<tr><td>NULL</td><td>8</td><td>csomag</td><td>8</td></tr>",
                            "<tr><td>NULL</td><td>8</td><td>db</td><td>109</td></tr>",
                            "<tr><td>NULL</td><td>8</td><td>ív</td><td>6</td></tr>",
                            "<tr><td>NULL</td><td>8</td><td>NULL</td><td>123</td></tr>",
                            "<tr><td>NULL</td><td>9</td><td>csomag</td><td>11</td></tr>",
                            "<tr><td>NULL</td><td>9</td><td>db</td><td>86</td></tr>",
                            "<tr><td>NULL</td><td>9</td><td>NULL</td><td>102</td></tr>",
                            "<tr><td>4</td><td>NULL</td><td>NULL</td><td>15</td></tr>",
                            "<tr><td>6</td><td>NULL</td><td>NULL</td><td>20</td></tr>",
                            "<tr><td>16</td><td>NULL</td><td>NULL</td><td>7</td></tr>",
                            "<tr><td>19</td><td>NULL</td><td>NULL</td><td>19</td></tr>",
                            "<tr><td>24</td><td>NULL</td><td>NULL</td><td>7</td></tr>",
                            "<tr><td>30</td><td>NULL</td><td>NULL</td><td>7</td></tr>",
                            "<tr><td>35</td><td>NULL</td><td>NULL</td><td>7</td></tr>",
                            "<tr><td>41</td><td>NULL</td><td>NULL</td><td>13</td></tr>",
                            "<tr><td>45</td><td>NULL</td><td>NULL</td><td>11</td></tr>",
                            "<tr><td>46</td><td>NULL</td><td>NULL</td><td>7</td></tr>",
                            "<tr><td>52</td><td>NULL</td><td>NULL</td><td>26</td></tr>",
                            "<tr><td>54</td><td>NULL</td><td>NULL</td><td>6</td></tr>",
                            "<tr><td>66</td><td>NULL</td><td>NULL</td><td>7</td></tr>",
                            "<tr><td>78</td><td>NULL</td><td>NULL</td><td>24</td></tr>",
                            "<tr><td>83</td><td>NULL</td><td>NULL</td><td>6</td></tr>",
                            "<tr><td>85</td><td>NULL</td><td>NULL</td><td>16</td></tr>",
                            "<tr><td>91</td><td>NULL</td><td>NULL</td><td>7</td></tr>",
                            "<tr><td>93</td><td>NULL</td><td>NULL</td><td>7</td></tr>",
                            "<tr><td>96</td><td>NULL</td><td>NULL</td><td>9</td></tr>",
                            "<tr><td>97</td><td>NULL</td><td>NULL</td><td>10</td></tr>",
                            "<tr><td>100</td><td>NULL</td><td>NULL</td><td>9</td></tr>",
                            "<tr><td>118</td><td>NULL</td><td>NULL</td><td>9</td></tr>",
                            "<tr><td>122</td><td>NULL</td><td>NULL</td><td>7</td></tr>",
                            "<tr><td>124</td><td>NULL</td><td>NULL</td><td>10</td></tr>",
                            "<tr><td>133</td><td>NULL</td><td>NULL</td><td>6</td></tr>",
                            "<tr><td>145</td><td>NULL</td><td>NULL</td><td>18</td></tr>",
                            "<tr><td>146</td><td>NULL</td><td>NULL</td><td>7</td></tr>",
                            "<tr><td>149</td><td>NULL</td><td>NULL</td><td>6</td></tr>",
                            "<tr><td>152</td><td>NULL</td><td>NULL</td><td>6</td></tr>",
                            "</table>"
                        ]
                    }
                }
            ],
            "execution_count": 6
        },
        {
            "cell_type": "markdown",
            "source": [
                "```\n",
                "3. Készítsünk listát az egyes termékkategóriákban lévő termékek számáról! \n",
                "\n",
                "```\n",
                "\n",
                "a. Elég megjeleníteni a kategóriák azonosítóit és a darabszámokat!   \n",
                "<span style=\"color: var(--vscode-foreground);\">b. A lista megfelelően jelölve tartalmazza a végösszeget is!&nbsp;<br></span> <span style=\"color: var(--vscode-foreground);\">c. Az oszlopokat nevezzük el értelemszerűen!&nbsp;<br></span> <span style=\"color: var(--vscode-foreground);\">d. A listát rendezzük a darabszám szerint növekvő sorrendbe!</span>\n",
                "\n",
                "  \n",
                "\n",
                "![](https://moodle.uni-corvinus.hu/theme/image.php/adaptable/atto_h5p/1709548862/icon)"
            ],
            "metadata": {
                "azdata_cell_guid": "d7876bb9-76d0-4d07-baed-3cb17b2f96c3"
            },
            "attachments": {}
        },
        {
            "cell_type": "code",
            "source": [
                "SELECT KAT_ID,\r\n",
                "        IIF(GROUPING_ID(KAT_ID)=1, 'Összeg', KAT_ID),\r\n",
                "        COUNT(*) AS 'Darabszám'\r\n",
                "FROM Termek\r\n",
                "GROUP BY ROLLUP(KAT_ID)\r\n",
                "ORDER BY 3"
            ],
            "metadata": {
                "azdata_cell_guid": "56ec19ce-e249-4551-b2a8-f17569765acc",
                "language": "sql"
            },
            "outputs": [
                {
                    "output_type": "display_data",
                    "data": {
                        "text/html": "Total execution time: 00:00:00.051"
                    },
                    "metadata": {}
                },
                {
                    "output_type": "execute_result",
                    "metadata": {},
                    "execution_count": 17,
                    "data": {
                        "application/vnd.dataresource+json": {
                            "schema": {
                                "fields": [
                                    {
                                        "name": "KAT_ID"
                                    },
                                    {
                                        "name": "(No column name)"
                                    },
                                    {
                                        "name": "Darabszám"
                                    }
                                ]
                            },
                            "data": []
                        },
                        "text/html": [
                            "<table>",
                            "<tr><th>KAT_ID</th><th>(No column name)</th><th>Darabszám</th></tr>",
                            "</table>"
                        ]
                    }
                },
                {
                    "output_type": "error",
                    "evalue": "Msg 245, Level 16, State 1, Line 1\r\nConversion failed when converting the varchar value 'Összeg' to data type int.",
                    "ename": "",
                    "traceback": []
                }
            ],
            "execution_count": 17
        },
        {
            "cell_type": "markdown",
            "source": [
                "4. <span style=\"background-color: rgb(255, 255, 255); color: rgb(0, 0, 0); font-family: &quot;Open Sans&quot;, sans-serif; font-size: 14.44px;\">Készítsünk listát az ügyfelek számáról születési év szerint, azon belül nem szerinti bontásban!&nbsp;</span> \n",
                "\n",
                "a. A lista megfelelően jelölve tartalmazza a részösszegeket és a végösszeget is!  \n",
                "b. Az oszlopoknak adjunk nevet értelemszerűen!"
            ],
            "metadata": {
                "azdata_cell_guid": "8e7fef82-8022-49a0-8255-fc2846c2134b"
            },
            "attachments": {}
        },
        {
            "cell_type": "code",
            "source": [
                "SELECT IIF(SZULEV IS NULL, 'végösszeg', CAST(SZULEV as nvarchar(4))) AS 'Születési év',\r\n",
                "        CASE WHEN GROUPING_ID(SZULEV, NEM)=1 THEN 'Részösszeg'\r\n",
                "            WHEN GROUPING_ID(SZULEV, NEM)=3 THEN 'Végösszeg'\r\n",
                "            ELSE NEM \r\n",
                "            END AS 'Nem',\r\n",
                "        COUNT(*) AS 'Darabszám'\r\n",
                "FROM Ugyfel\r\n",
                "GROUP BY ROLLUP(SZULEV, NEM)"
            ],
            "metadata": {
                "azdata_cell_guid": "36f7b396-4a1f-45e5-8720-2302537c91bc",
                "language": "sql"
            },
            "outputs": [
                {
                    "output_type": "display_data",
                    "data": {
                        "text/html": "(96 rows affected)"
                    },
                    "metadata": {}
                },
                {
                    "output_type": "display_data",
                    "data": {
                        "text/html": "Total execution time: 00:00:00.288"
                    },
                    "metadata": {}
                },
                {
                    "output_type": "execute_result",
                    "metadata": {},
                    "execution_count": 29,
                    "data": {
                        "application/vnd.dataresource+json": {
                            "schema": {
                                "fields": [
                                    {
                                        "name": "Születési év"
                                    },
                                    {
                                        "name": "Nem"
                                    },
                                    {
                                        "name": "Darabszám"
                                    }
                                ]
                            },
                            "data": [
                                {
                                    "Születési év": "1967",
                                    "Nem": "F",
                                    "Darabszám": "5"
                                },
                                {
                                    "Születési év": "1967",
                                    "Nem": "N",
                                    "Darabszám": "3"
                                },
                                {
                                    "Születési év": "1967",
                                    "Nem": "Részösszeg",
                                    "Darabszám": "8"
                                },
                                {
                                    "Születési év": "1968",
                                    "Nem": "F",
                                    "Darabszám": "5"
                                },
                                {
                                    "Születési év": "1968",
                                    "Nem": "N",
                                    "Darabszám": "3"
                                },
                                {
                                    "Születési év": "1968",
                                    "Nem": "Részösszeg",
                                    "Darabszám": "8"
                                },
                                {
                                    "Születési év": "1969",
                                    "Nem": "F",
                                    "Darabszám": "5"
                                },
                                {
                                    "Születési év": "1969",
                                    "Nem": "N",
                                    "Darabszám": "3"
                                },
                                {
                                    "Születési év": "1969",
                                    "Nem": "Részösszeg",
                                    "Darabszám": "8"
                                },
                                {
                                    "Születési év": "1970",
                                    "Nem": "F",
                                    "Darabszám": "4"
                                },
                                {
                                    "Születési év": "1970",
                                    "Nem": "Részösszeg",
                                    "Darabszám": "4"
                                },
                                {
                                    "Születési év": "1971",
                                    "Nem": "F",
                                    "Darabszám": "2"
                                },
                                {
                                    "Születési év": "1971",
                                    "Nem": "N",
                                    "Darabszám": "3"
                                },
                                {
                                    "Születési év": "1971",
                                    "Nem": "Részösszeg",
                                    "Darabszám": "5"
                                },
                                {
                                    "Születési év": "1972",
                                    "Nem": "F",
                                    "Darabszám": "2"
                                },
                                {
                                    "Születési év": "1972",
                                    "Nem": "N",
                                    "Darabszám": "2"
                                },
                                {
                                    "Születési év": "1972",
                                    "Nem": "Részösszeg",
                                    "Darabszám": "4"
                                },
                                {
                                    "Születési év": "1973",
                                    "Nem": "F",
                                    "Darabszám": "2"
                                },
                                {
                                    "Születési év": "1973",
                                    "Nem": "N",
                                    "Darabszám": "2"
                                },
                                {
                                    "Születési év": "1973",
                                    "Nem": "Részösszeg",
                                    "Darabszám": "4"
                                },
                                {
                                    "Születési év": "1974",
                                    "Nem": "F",
                                    "Darabszám": "1"
                                },
                                {
                                    "Születési év": "1974",
                                    "Nem": "N",
                                    "Darabszám": "3"
                                },
                                {
                                    "Születési év": "1974",
                                    "Nem": "Részösszeg",
                                    "Darabszám": "4"
                                },
                                {
                                    "Születési év": "1975",
                                    "Nem": "F",
                                    "Darabszám": "8"
                                },
                                {
                                    "Születési év": "1975",
                                    "Nem": "N",
                                    "Darabszám": "3"
                                },
                                {
                                    "Születési év": "1975",
                                    "Nem": "Részösszeg",
                                    "Darabszám": "11"
                                },
                                {
                                    "Születési év": "1976",
                                    "Nem": "F",
                                    "Darabszám": "5"
                                },
                                {
                                    "Születési év": "1976",
                                    "Nem": "N",
                                    "Darabszám": "2"
                                },
                                {
                                    "Születési év": "1976",
                                    "Nem": "Részösszeg",
                                    "Darabszám": "7"
                                },
                                {
                                    "Születési év": "1977",
                                    "Nem": "F",
                                    "Darabszám": "4"
                                },
                                {
                                    "Születési év": "1977",
                                    "Nem": "N",
                                    "Darabszám": "1"
                                },
                                {
                                    "Születési év": "1977",
                                    "Nem": "Részösszeg",
                                    "Darabszám": "5"
                                },
                                {
                                    "Születési év": "1978",
                                    "Nem": "F",
                                    "Darabszám": "3"
                                },
                                {
                                    "Születési év": "1978",
                                    "Nem": "N",
                                    "Darabszám": "4"
                                },
                                {
                                    "Születési év": "1978",
                                    "Nem": "Részösszeg",
                                    "Darabszám": "7"
                                },
                                {
                                    "Születési év": "1979",
                                    "Nem": "F",
                                    "Darabszám": "4"
                                },
                                {
                                    "Születési év": "1979",
                                    "Nem": "N",
                                    "Darabszám": "3"
                                },
                                {
                                    "Születési év": "1979",
                                    "Nem": "Részösszeg",
                                    "Darabszám": "7"
                                },
                                {
                                    "Születési év": "1980",
                                    "Nem": "F",
                                    "Darabszám": "4"
                                },
                                {
                                    "Születési év": "1980",
                                    "Nem": "N",
                                    "Darabszám": "3"
                                },
                                {
                                    "Születési év": "1980",
                                    "Nem": "Részösszeg",
                                    "Darabszám": "7"
                                },
                                {
                                    "Születési év": "1981",
                                    "Nem": "N",
                                    "Darabszám": "4"
                                },
                                {
                                    "Születési év": "1981",
                                    "Nem": "Részösszeg",
                                    "Darabszám": "4"
                                },
                                {
                                    "Születési év": "1982",
                                    "Nem": "F",
                                    "Darabszám": "2"
                                },
                                {
                                    "Születési év": "1982",
                                    "Nem": "N",
                                    "Darabszám": "2"
                                },
                                {
                                    "Születési év": "1982",
                                    "Nem": "Részösszeg",
                                    "Darabszám": "4"
                                },
                                {
                                    "Születési év": "1983",
                                    "Nem": "F",
                                    "Darabszám": "5"
                                },
                                {
                                    "Születési év": "1983",
                                    "Nem": "N",
                                    "Darabszám": "3"
                                },
                                {
                                    "Születési év": "1983",
                                    "Nem": "Részösszeg",
                                    "Darabszám": "8"
                                },
                                {
                                    "Születési év": "1984",
                                    "Nem": "F",
                                    "Darabszám": "6"
                                },
                                {
                                    "Születési év": "1984",
                                    "Nem": "N",
                                    "Darabszám": "2"
                                },
                                {
                                    "Születési év": "1984",
                                    "Nem": "Részösszeg",
                                    "Darabszám": "8"
                                },
                                {
                                    "Születési év": "1985",
                                    "Nem": "F",
                                    "Darabszám": "5"
                                },
                                {
                                    "Születési év": "1985",
                                    "Nem": "N",
                                    "Darabszám": "1"
                                },
                                {
                                    "Születési év": "1985",
                                    "Nem": "Részösszeg",
                                    "Darabszám": "6"
                                },
                                {
                                    "Születési év": "1986",
                                    "Nem": "F",
                                    "Darabszám": "7"
                                },
                                {
                                    "Születési év": "1986",
                                    "Nem": "N",
                                    "Darabszám": "2"
                                },
                                {
                                    "Születési év": "1986",
                                    "Nem": "Részösszeg",
                                    "Darabszám": "9"
                                },
                                {
                                    "Születési év": "1987",
                                    "Nem": "F",
                                    "Darabszám": "2"
                                },
                                {
                                    "Születési év": "1987",
                                    "Nem": "N",
                                    "Darabszám": "3"
                                },
                                {
                                    "Születési év": "1987",
                                    "Nem": "Részösszeg",
                                    "Darabszám": "5"
                                },
                                {
                                    "Születési év": "1988",
                                    "Nem": "F",
                                    "Darabszám": "2"
                                },
                                {
                                    "Születési év": "1988",
                                    "Nem": "N",
                                    "Darabszám": "4"
                                },
                                {
                                    "Születési év": "1988",
                                    "Nem": "Részösszeg",
                                    "Darabszám": "6"
                                },
                                {
                                    "Születési év": "1989",
                                    "Nem": "F",
                                    "Darabszám": "6"
                                },
                                {
                                    "Születési év": "1989",
                                    "Nem": "N",
                                    "Darabszám": "1"
                                },
                                {
                                    "Születési év": "1989",
                                    "Nem": "Részösszeg",
                                    "Darabszám": "7"
                                },
                                {
                                    "Születési év": "1990",
                                    "Nem": "F",
                                    "Darabszám": "5"
                                },
                                {
                                    "Születési év": "1990",
                                    "Nem": "N",
                                    "Darabszám": "3"
                                },
                                {
                                    "Születési év": "1990",
                                    "Nem": "Részösszeg",
                                    "Darabszám": "8"
                                },
                                {
                                    "Születési év": "1991",
                                    "Nem": "F",
                                    "Darabszám": "3"
                                },
                                {
                                    "Születési év": "1991",
                                    "Nem": "N",
                                    "Darabszám": "3"
                                },
                                {
                                    "Születési év": "1991",
                                    "Nem": "Részösszeg",
                                    "Darabszám": "6"
                                },
                                {
                                    "Születési év": "1992",
                                    "Nem": "F",
                                    "Darabszám": "3"
                                },
                                {
                                    "Születési év": "1992",
                                    "Nem": "N",
                                    "Darabszám": "1"
                                },
                                {
                                    "Születési év": "1992",
                                    "Nem": "Részösszeg",
                                    "Darabszám": "4"
                                },
                                {
                                    "Születési év": "1993",
                                    "Nem": "F",
                                    "Darabszám": "2"
                                },
                                {
                                    "Születési év": "1993",
                                    "Nem": "N",
                                    "Darabszám": "3"
                                },
                                {
                                    "Születési év": "1993",
                                    "Nem": "Részösszeg",
                                    "Darabszám": "5"
                                },
                                {
                                    "Születési év": "1994",
                                    "Nem": "N",
                                    "Darabszám": "3"
                                },
                                {
                                    "Születési év": "1994",
                                    "Nem": "Részösszeg",
                                    "Darabszám": "3"
                                },
                                {
                                    "Születési év": "1995",
                                    "Nem": "F",
                                    "Darabszám": "3"
                                },
                                {
                                    "Születési év": "1995",
                                    "Nem": "N",
                                    "Darabszám": "3"
                                },
                                {
                                    "Születési év": "1995",
                                    "Nem": "Részösszeg",
                                    "Darabszám": "6"
                                },
                                {
                                    "Születési év": "1996",
                                    "Nem": "F",
                                    "Darabszám": "2"
                                },
                                {
                                    "Születési év": "1996",
                                    "Nem": "N",
                                    "Darabszám": "5"
                                },
                                {
                                    "Születési év": "1996",
                                    "Nem": "Részösszeg",
                                    "Darabszám": "7"
                                },
                                {
                                    "Születési év": "1997",
                                    "Nem": "F",
                                    "Darabszám": "10"
                                },
                                {
                                    "Születési év": "1997",
                                    "Nem": "N",
                                    "Darabszám": "2"
                                },
                                {
                                    "Születési év": "1997",
                                    "Nem": "Részösszeg",
                                    "Darabszám": "12"
                                },
                                {
                                    "Születési év": "1998",
                                    "Nem": "F",
                                    "Darabszám": "1"
                                },
                                {
                                    "Születési év": "1998",
                                    "Nem": "N",
                                    "Darabszám": "1"
                                },
                                {
                                    "Születési év": "1998",
                                    "Nem": "Részösszeg",
                                    "Darabszám": "2"
                                },
                                {
                                    "Születési év": "2000",
                                    "Nem": "F",
                                    "Darabszám": "1"
                                },
                                {
                                    "Születési év": "2000",
                                    "Nem": "Részösszeg",
                                    "Darabszám": "1"
                                },
                                {
                                    "Születési év": "végösszeg",
                                    "Nem": "Végösszeg",
                                    "Darabszám": "200"
                                }
                            ]
                        },
                        "text/html": [
                            "<table>",
                            "<tr><th>Születési év</th><th>Nem</th><th>Darabszám</th></tr>",
                            "<tr><td>1967</td><td>F</td><td>5</td></tr>",
                            "<tr><td>1967</td><td>N</td><td>3</td></tr>",
                            "<tr><td>1967</td><td>Részösszeg</td><td>8</td></tr>",
                            "<tr><td>1968</td><td>F</td><td>5</td></tr>",
                            "<tr><td>1968</td><td>N</td><td>3</td></tr>",
                            "<tr><td>1968</td><td>Részösszeg</td><td>8</td></tr>",
                            "<tr><td>1969</td><td>F</td><td>5</td></tr>",
                            "<tr><td>1969</td><td>N</td><td>3</td></tr>",
                            "<tr><td>1969</td><td>Részösszeg</td><td>8</td></tr>",
                            "<tr><td>1970</td><td>F</td><td>4</td></tr>",
                            "<tr><td>1970</td><td>Részösszeg</td><td>4</td></tr>",
                            "<tr><td>1971</td><td>F</td><td>2</td></tr>",
                            "<tr><td>1971</td><td>N</td><td>3</td></tr>",
                            "<tr><td>1971</td><td>Részösszeg</td><td>5</td></tr>",
                            "<tr><td>1972</td><td>F</td><td>2</td></tr>",
                            "<tr><td>1972</td><td>N</td><td>2</td></tr>",
                            "<tr><td>1972</td><td>Részösszeg</td><td>4</td></tr>",
                            "<tr><td>1973</td><td>F</td><td>2</td></tr>",
                            "<tr><td>1973</td><td>N</td><td>2</td></tr>",
                            "<tr><td>1973</td><td>Részösszeg</td><td>4</td></tr>",
                            "<tr><td>1974</td><td>F</td><td>1</td></tr>",
                            "<tr><td>1974</td><td>N</td><td>3</td></tr>",
                            "<tr><td>1974</td><td>Részösszeg</td><td>4</td></tr>",
                            "<tr><td>1975</td><td>F</td><td>8</td></tr>",
                            "<tr><td>1975</td><td>N</td><td>3</td></tr>",
                            "<tr><td>1975</td><td>Részösszeg</td><td>11</td></tr>",
                            "<tr><td>1976</td><td>F</td><td>5</td></tr>",
                            "<tr><td>1976</td><td>N</td><td>2</td></tr>",
                            "<tr><td>1976</td><td>Részösszeg</td><td>7</td></tr>",
                            "<tr><td>1977</td><td>F</td><td>4</td></tr>",
                            "<tr><td>1977</td><td>N</td><td>1</td></tr>",
                            "<tr><td>1977</td><td>Részösszeg</td><td>5</td></tr>",
                            "<tr><td>1978</td><td>F</td><td>3</td></tr>",
                            "<tr><td>1978</td><td>N</td><td>4</td></tr>",
                            "<tr><td>1978</td><td>Részösszeg</td><td>7</td></tr>",
                            "<tr><td>1979</td><td>F</td><td>4</td></tr>",
                            "<tr><td>1979</td><td>N</td><td>3</td></tr>",
                            "<tr><td>1979</td><td>Részösszeg</td><td>7</td></tr>",
                            "<tr><td>1980</td><td>F</td><td>4</td></tr>",
                            "<tr><td>1980</td><td>N</td><td>3</td></tr>",
                            "<tr><td>1980</td><td>Részösszeg</td><td>7</td></tr>",
                            "<tr><td>1981</td><td>N</td><td>4</td></tr>",
                            "<tr><td>1981</td><td>Részösszeg</td><td>4</td></tr>",
                            "<tr><td>1982</td><td>F</td><td>2</td></tr>",
                            "<tr><td>1982</td><td>N</td><td>2</td></tr>",
                            "<tr><td>1982</td><td>Részösszeg</td><td>4</td></tr>",
                            "<tr><td>1983</td><td>F</td><td>5</td></tr>",
                            "<tr><td>1983</td><td>N</td><td>3</td></tr>",
                            "<tr><td>1983</td><td>Részösszeg</td><td>8</td></tr>",
                            "<tr><td>1984</td><td>F</td><td>6</td></tr>",
                            "<tr><td>1984</td><td>N</td><td>2</td></tr>",
                            "<tr><td>1984</td><td>Részösszeg</td><td>8</td></tr>",
                            "<tr><td>1985</td><td>F</td><td>5</td></tr>",
                            "<tr><td>1985</td><td>N</td><td>1</td></tr>",
                            "<tr><td>1985</td><td>Részösszeg</td><td>6</td></tr>",
                            "<tr><td>1986</td><td>F</td><td>7</td></tr>",
                            "<tr><td>1986</td><td>N</td><td>2</td></tr>",
                            "<tr><td>1986</td><td>Részösszeg</td><td>9</td></tr>",
                            "<tr><td>1987</td><td>F</td><td>2</td></tr>",
                            "<tr><td>1987</td><td>N</td><td>3</td></tr>",
                            "<tr><td>1987</td><td>Részösszeg</td><td>5</td></tr>",
                            "<tr><td>1988</td><td>F</td><td>2</td></tr>",
                            "<tr><td>1988</td><td>N</td><td>4</td></tr>",
                            "<tr><td>1988</td><td>Részösszeg</td><td>6</td></tr>",
                            "<tr><td>1989</td><td>F</td><td>6</td></tr>",
                            "<tr><td>1989</td><td>N</td><td>1</td></tr>",
                            "<tr><td>1989</td><td>Részösszeg</td><td>7</td></tr>",
                            "<tr><td>1990</td><td>F</td><td>5</td></tr>",
                            "<tr><td>1990</td><td>N</td><td>3</td></tr>",
                            "<tr><td>1990</td><td>Részösszeg</td><td>8</td></tr>",
                            "<tr><td>1991</td><td>F</td><td>3</td></tr>",
                            "<tr><td>1991</td><td>N</td><td>3</td></tr>",
                            "<tr><td>1991</td><td>Részösszeg</td><td>6</td></tr>",
                            "<tr><td>1992</td><td>F</td><td>3</td></tr>",
                            "<tr><td>1992</td><td>N</td><td>1</td></tr>",
                            "<tr><td>1992</td><td>Részösszeg</td><td>4</td></tr>",
                            "<tr><td>1993</td><td>F</td><td>2</td></tr>",
                            "<tr><td>1993</td><td>N</td><td>3</td></tr>",
                            "<tr><td>1993</td><td>Részösszeg</td><td>5</td></tr>",
                            "<tr><td>1994</td><td>N</td><td>3</td></tr>",
                            "<tr><td>1994</td><td>Részösszeg</td><td>3</td></tr>",
                            "<tr><td>1995</td><td>F</td><td>3</td></tr>",
                            "<tr><td>1995</td><td>N</td><td>3</td></tr>",
                            "<tr><td>1995</td><td>Részösszeg</td><td>6</td></tr>",
                            "<tr><td>1996</td><td>F</td><td>2</td></tr>",
                            "<tr><td>1996</td><td>N</td><td>5</td></tr>",
                            "<tr><td>1996</td><td>Részösszeg</td><td>7</td></tr>",
                            "<tr><td>1997</td><td>F</td><td>10</td></tr>",
                            "<tr><td>1997</td><td>N</td><td>2</td></tr>",
                            "<tr><td>1997</td><td>Részösszeg</td><td>12</td></tr>",
                            "<tr><td>1998</td><td>F</td><td>1</td></tr>",
                            "<tr><td>1998</td><td>N</td><td>1</td></tr>",
                            "<tr><td>1998</td><td>Részösszeg</td><td>2</td></tr>",
                            "<tr><td>2000</td><td>F</td><td>1</td></tr>",
                            "<tr><td>2000</td><td>Részösszeg</td><td>1</td></tr>",
                            "<tr><td>végösszeg</td><td>Végösszeg</td><td>200</td></tr>",
                            "</table>"
                        ]
                    }
                }
            ],
            "execution_count": 29
        },
        {
            "cell_type": "markdown",
            "source": [
                "5. <span style=\"background-color: rgb(255, 255, 255); color: rgb(0, 0, 0); font-family: &quot;Open Sans&quot;, sans-serif; font-size: 14.44px;\">Készítsünk listát a termékek számáról a felvitel hónapja, azon belül napja szerint csoportosítva.&nbsp;</span> \n",
                "\n",
                "a. A lista csak a részösszegeket és a végösszeget tartalmazza!  \n",
                "b. Az oszlopoknak adjunk megfelelő nevet!  \n",
                "c. Ötlet: HAVING + GROUPING\\_ID fv együttes használata"
            ],
            "metadata": {
                "azdata_cell_guid": "84239ca2-6b5e-49f5-9860-d44c11d6de32"
            },
            "attachments": {}
        },
        {
            "cell_type": "code",
            "source": [
                "SELECT MONTH(FELVITEL) AS 'Felvitel hónapja',\r\n",
                "        DAY(FELVITEL) AS 'Felvitel napja',\r\n",
                "        COUNT(*) AS 'Darabszám'\r\n",
                "FROM Termek\r\n",
                "GROUP BY ROLLUP (MONTH(FELVITEL), DAY(FELVITEL))\r\n",
                "HAVING GROUPING_ID(MONTH(FELVITEL), DAY(FELVITEL))>0"
            ],
            "metadata": {
                "azdata_cell_guid": "06d9a62b-9430-424b-a135-d80e675f0eb3",
                "language": "sql"
            },
            "outputs": [
                {
                    "output_type": "display_data",
                    "data": {
                        "text/html": "(5 rows affected)"
                    },
                    "metadata": {}
                },
                {
                    "output_type": "display_data",
                    "data": {
                        "text/html": "Total execution time: 00:00:00.242"
                    },
                    "metadata": {}
                },
                {
                    "output_type": "execute_result",
                    "metadata": {},
                    "execution_count": 32,
                    "data": {
                        "application/vnd.dataresource+json": {
                            "schema": {
                                "fields": [
                                    {
                                        "name": "Felvitel hónapja"
                                    },
                                    {
                                        "name": "Felvitel napja"
                                    },
                                    {
                                        "name": "Darabszám"
                                    }
                                ]
                            },
                            "data": [
                                {
                                    "Felvitel hónapja": "7",
                                    "Felvitel napja": "NULL",
                                    "Darabszám": "355"
                                },
                                {
                                    "Felvitel hónapja": "8",
                                    "Felvitel napja": "NULL",
                                    "Darabszám": "194"
                                },
                                {
                                    "Felvitel hónapja": "9",
                                    "Felvitel napja": "NULL",
                                    "Darabszám": "1"
                                },
                                {
                                    "Felvitel hónapja": "12",
                                    "Felvitel napja": "NULL",
                                    "Darabszám": "1"
                                },
                                {
                                    "Felvitel hónapja": "NULL",
                                    "Felvitel napja": "NULL",
                                    "Darabszám": "551"
                                }
                            ]
                        },
                        "text/html": [
                            "<table>",
                            "<tr><th>Felvitel hónapja</th><th>Felvitel napja</th><th>Darabszám</th></tr>",
                            "<tr><td>7</td><td>NULL</td><td>355</td></tr>",
                            "<tr><td>8</td><td>NULL</td><td>194</td></tr>",
                            "<tr><td>9</td><td>NULL</td><td>1</td></tr>",
                            "<tr><td>12</td><td>NULL</td><td>1</td></tr>",
                            "<tr><td>NULL</td><td>NULL</td><td>551</td></tr>",
                            "</table>"
                        ]
                    }
                }
            ],
            "execution_count": 32
        }
    ]
}