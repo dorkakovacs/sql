{
    "metadata": {
        "kernelspec": {
            "name": "SQL",
            "display_name": "SQL",
            "language": "sql"
        },
        "language_info": {
            "name": "sql",
            "version": ""
        }
    },
    "nbformat_minor": 2,
    "nbformat": 4,
    "cells": [
        {
            "cell_type": "markdown",
            "source": [
                "1. <span style=\"background-color: rgb(255, 255, 255); color: rgb(0, 0, 0); font-family: &quot;Open Sans&quot;, sans-serif; font-size: 14.44px;\">Készítsünk listát arról, hogy ügyfelenként (LOGIN), azon belül szállítási módonként hány megrendelés történt!&nbsp;</span> \n",
                "\n",
                "a. A lista tartalmazza a részösszegeket és a végösszeget is!  \n",
                "b. Használjuk a ROLLUP záradékot!"
            ],
            "metadata": {
                "azdata_cell_guid": "363cd270-6577-449b-9c89-d4b7c7972d52"
            },
            "attachments": {}
        },
        {
            "cell_type": "code",
            "source": [
                "SELECT LOGIN,\r\n",
                "        szall_mod,\r\n",
                "        COUNT(*)\r\n",
                "FROM Rendeles\r\n",
                "GROUP BY CUBE(LOGIN, SZALL_MOD)"
            ],
            "metadata": {
                "azdata_cell_guid": "6ab9f633-a3b5-48c9-a1dc-4fb8235ae85b",
                "language": "sql"
            },
            "outputs": [
                {
                    "output_type": "display_data",
                    "data": {
                        "text/html": "(766 rows affected)"
                    },
                    "metadata": {}
                },
                {
                    "output_type": "display_data",
                    "data": {
                        "text/html": "Total execution time: 00:00:00.054"
                    },
                    "metadata": {}
                },
                {
                    "output_type": "execute_result",
                    "metadata": {},
                    "execution_count": 2,
                    "data": {
                        "application/vnd.dataresource+json": {
                            "schema": {
                                "fields": [
                                    {
                                        "name": "LOGIN"
                                    },
                                    {
                                        "name": "szall_mod"
                                    },
                                    {
                                        "name": "(No column name)"
                                    }
                                ]
                            },
                            "data": [
                                {
                                    "LOGIN": "adam1",
                                    "szall_mod": "GLS",
                                    "(No column name)": "129"
                                },
                                {
                                    "LOGIN": "adam3",
                                    "szall_mod": "GLS",
                                    "(No column name)": "10"
                                },
                                {
                                    "LOGIN": "adam4",
                                    "szall_mod": "GLS",
                                    "(No column name)": "12"
                                },
                                {
                                    "LOGIN": "agnes",
                                    "szall_mod": "GLS",
                                    "(No column name)": "144"
                                },
                                {
                                    "LOGIN": "agnes3",
                                    "szall_mod": "GLS",
                                    "(No column name)": "148"
                                },
                                {
                                    "LOGIN": "AGNESH",
                                    "szall_mod": "GLS",
                                    "(No column name)": "2"
                                },
                                {
                                    "LOGIN": "AGNESK",
                                    "szall_mod": "GLS",
                                    "(No column name)": "1"
                                },
                                {
                                    "LOGIN": "akos",
                                    "szall_mod": "GLS",
                                    "(No column name)": "146"
                                },
                                {
                                    "LOGIN": "aladar",
                                    "szall_mod": "GLS",
                                    "(No column name)": "156"
                                },
                                {
                                    "LOGIN": "alexandra",
                                    "szall_mod": "GLS",
                                    "(No column name)": "5"
                                },
                                {
                                    "LOGIN": "andi",
                                    "szall_mod": "GLS",
                                    "(No column name)": "7"
                                },
                                {
                                    "LOGIN": "andras2",
                                    "szall_mod": "GLS",
                                    "(No column name)": "4"
                                },
                                {
                                    "LOGIN": "andras21",
                                    "szall_mod": "GLS",
                                    "(No column name)": "140"
                                },
                                {
                                    "LOGIN": "andras3",
                                    "szall_mod": "GLS",
                                    "(No column name)": "3"
                                },
                                {
                                    "LOGIN": "andras4",
                                    "szall_mod": "GLS",
                                    "(No column name)": "4"
                                },
                                {
                                    "LOGIN": "andras41",
                                    "szall_mod": "GLS",
                                    "(No column name)": "149"
                                },
                                {
                                    "LOGIN": "ANDRASE",
                                    "szall_mod": "GLS",
                                    "(No column name)": "159"
                                },
                                {
                                    "LOGIN": "ANDRASN",
                                    "szall_mod": "GLS",
                                    "(No column name)": "10"
                                },
                                {
                                    "LOGIN": "andrea",
                                    "szall_mod": "GLS",
                                    "(No column name)": "12"
                                },
                                {
                                    "LOGIN": "andrea3",
                                    "szall_mod": "GLS",
                                    "(No column name)": "131"
                                },
                                {
                                    "LOGIN": "andrea4",
                                    "szall_mod": "GLS",
                                    "(No column name)": "7"
                                },
                                {
                                    "LOGIN": "ANDREAT",
                                    "szall_mod": "GLS",
                                    "(No column name)": "3"
                                },
                                {
                                    "LOGIN": "anett3",
                                    "szall_mod": "GLS",
                                    "(No column name)": "3"
                                },
                                {
                                    "LOGIN": "aniko",
                                    "szall_mod": "GLS",
                                    "(No column name)": "128"
                                },
                                {
                                    "LOGIN": "aniko4",
                                    "szall_mod": "GLS",
                                    "(No column name)": "6"
                                },
                                {
                                    "LOGIN": "ANIKOS",
                                    "szall_mod": "GLS",
                                    "(No column name)": "128"
                                },
                                {
                                    "LOGIN": "anita",
                                    "szall_mod": "GLS",
                                    "(No column name)": "5"
                                },
                                {
                                    "LOGIN": "annamaria1",
                                    "szall_mod": "GLS",
                                    "(No column name)": "5"
                                },
                                {
                                    "LOGIN": "ANNAMARIAR",
                                    "szall_mod": "GLS",
                                    "(No column name)": "8"
                                },
                                {
                                    "LOGIN": "aron2",
                                    "szall_mod": "GLS",
                                    "(No column name)": "132"
                                },
                                {
                                    "LOGIN": "ARONK",
                                    "szall_mod": "GLS",
                                    "(No column name)": "155"
                                },
                                {
                                    "LOGIN": "arpad2",
                                    "szall_mod": "GLS",
                                    "(No column name)": "6"
                                },
                                {
                                    "LOGIN": "ARPADH",
                                    "szall_mod": "GLS",
                                    "(No column name)": "6"
                                },
                                {
                                    "LOGIN": "ARPADM",
                                    "szall_mod": "GLS",
                                    "(No column name)": "6"
                                },
                                {
                                    "LOGIN": "attila1",
                                    "szall_mod": "GLS",
                                    "(No column name)": "5"
                                },
                                {
                                    "LOGIN": "attila4",
                                    "szall_mod": "GLS",
                                    "(No column name)": "135"
                                },
                                {
                                    "LOGIN": "ATTILAO",
                                    "szall_mod": "GLS",
                                    "(No column name)": "4"
                                },
                                {
                                    "LOGIN": "balazs1",
                                    "szall_mod": "GLS",
                                    "(No column name)": "128"
                                },
                                {
                                    "LOGIN": "balazs2",
                                    "szall_mod": "GLS",
                                    "(No column name)": "5"
                                },
                                {
                                    "LOGIN": "balazs3",
                                    "szall_mod": "GLS",
                                    "(No column name)": "6"
                                },
                                {
                                    "LOGIN": "balint",
                                    "szall_mod": "GLS",
                                    "(No column name)": "10"
                                },
                                {
                                    "LOGIN": "balint1",
                                    "szall_mod": "GLS",
                                    "(No column name)": "158"
                                },
                                {
                                    "LOGIN": "balint2",
                                    "szall_mod": "GLS",
                                    "(No column name)": "8"
                                },
                                {
                                    "LOGIN": "balu",
                                    "szall_mod": "GLS",
                                    "(No column name)": "127"
                                },
                                {
                                    "LOGIN": "BEATRIXK",
                                    "szall_mod": "GLS",
                                    "(No column name)": "135"
                                },
                                {
                                    "LOGIN": "BEATRIXS",
                                    "szall_mod": "GLS",
                                    "(No column name)": "146"
                                },
                                {
                                    "LOGIN": "BELAF",
                                    "szall_mod": "GLS",
                                    "(No column name)": "11"
                                },
                                {
                                    "LOGIN": "bence",
                                    "szall_mod": "GLS",
                                    "(No column name)": "4"
                                },
                                {
                                    "LOGIN": "BENCEB",
                                    "szall_mod": "GLS",
                                    "(No column name)": "5"
                                },
                                {
                                    "LOGIN": "bernadett1",
                                    "szall_mod": "GLS",
                                    "(No column name)": "10"
                                },
                                {
                                    "LOGIN": "bernadett2",
                                    "szall_mod": "GLS",
                                    "(No column name)": "6"
                                },
                                {
                                    "LOGIN": "BERNADETTO",
                                    "szall_mod": "GLS",
                                    "(No column name)": "7"
                                },
                                {
                                    "LOGIN": "bertalan",
                                    "szall_mod": "GLS",
                                    "(No column name)": "128"
                                },
                                {
                                    "LOGIN": "brigitta",
                                    "szall_mod": "GLS",
                                    "(No column name)": "137"
                                },
                                {
                                    "LOGIN": "brigitta3",
                                    "szall_mod": "GLS",
                                    "(No column name)": "144"
                                },
                                {
                                    "LOGIN": "csongor3",
                                    "szall_mod": "GLS",
                                    "(No column name)": "5"
                                },
                                {
                                    "LOGIN": "dani",
                                    "szall_mod": "GLS",
                                    "(No column name)": "5"
                                },
                                {
                                    "LOGIN": "daniel",
                                    "szall_mod": "GLS",
                                    "(No column name)": "7"
                                },
                                {
                                    "LOGIN": "daniel1",
                                    "szall_mod": "GLS",
                                    "(No column name)": "156"
                                },
                                {
                                    "LOGIN": "david",
                                    "szall_mod": "GLS",
                                    "(No column name)": "161"
                                },
                                {
                                    "LOGIN": "david1",
                                    "szall_mod": "GLS",
                                    "(No column name)": "8"
                                },
                                {
                                    "LOGIN": "david4",
                                    "szall_mod": "GLS",
                                    "(No column name)": "3"
                                },
                                {
                                    "LOGIN": "debora",
                                    "szall_mod": "GLS",
                                    "(No column name)": "7"
                                },
                                {
                                    "LOGIN": "denes",
                                    "szall_mod": "GLS",
                                    "(No column name)": "3"
                                },
                                {
                                    "LOGIN": "dora3",
                                    "szall_mod": "GLS",
                                    "(No column name)": "144"
                                },
                                {
                                    "LOGIN": "edit",
                                    "szall_mod": "GLS",
                                    "(No column name)": "7"
                                },
                                {
                                    "LOGIN": "emese",
                                    "szall_mod": "GLS",
                                    "(No column name)": "128"
                                },
                                {
                                    "LOGIN": "eszter2",
                                    "szall_mod": "GLS",
                                    "(No column name)": "127"
                                },
                                {
                                    "LOGIN": "eszter4",
                                    "szall_mod": "GLS",
                                    "(No column name)": "141"
                                },
                                {
                                    "LOGIN": "ESZTERE",
                                    "szall_mod": "GLS",
                                    "(No column name)": "6"
                                },
                                {
                                    "LOGIN": "eva",
                                    "szall_mod": "GLS",
                                    "(No column name)": "125"
                                },
                                {
                                    "LOGIN": "eva2",
                                    "szall_mod": "GLS",
                                    "(No column name)": "154"
                                },
                                {
                                    "LOGIN": "EVAV",
                                    "szall_mod": "GLS",
                                    "(No column name)": "2"
                                },
                                {
                                    "LOGIN": "ferenc1",
                                    "szall_mod": "GLS",
                                    "(No column name)": "144"
                                },
                                {
                                    "LOGIN": "fruzsina4",
                                    "szall_mod": "GLS",
                                    "(No column name)": "8"
                                },
                                {
                                    "LOGIN": "gabor1",
                                    "szall_mod": "GLS",
                                    "(No column name)": "9"
                                },
                                {
                                    "LOGIN": "gabor4",
                                    "szall_mod": "GLS",
                                    "(No column name)": "7"
                                },
                                {
                                    "LOGIN": "GABORS",
                                    "szall_mod": "GLS",
                                    "(No column name)": "5"
                                },
                                {
                                    "LOGIN": "gabriella1",
                                    "szall_mod": "GLS",
                                    "(No column name)": "5"
                                },
                                {
                                    "LOGIN": "gabriella10",
                                    "szall_mod": "GLS",
                                    "(No column name)": "4"
                                },
                                {
                                    "LOGIN": "georgij",
                                    "szall_mod": "GLS",
                                    "(No column name)": "9"
                                },
                                {
                                    "LOGIN": "gusztav",
                                    "szall_mod": "GLS",
                                    "(No column name)": "5"
                                },
                                {
                                    "LOGIN": "GYONGYIK",
                                    "szall_mod": "GLS",
                                    "(No column name)": "6"
                                },
                                {
                                    "LOGIN": "GYORGYO",
                                    "szall_mod": "GLS",
                                    "(No column name)": "7"
                                },
                                {
                                    "LOGIN": "henrik3",
                                    "szall_mod": "GLS",
                                    "(No column name)": "7"
                                },
                                {
                                    "LOGIN": "IBOLYAA",
                                    "szall_mod": "GLS",
                                    "(No column name)": "140"
                                },
                                {
                                    "LOGIN": "ilona3",
                                    "szall_mod": "GLS",
                                    "(No column name)": "9"
                                },
                                {
                                    "LOGIN": "imre",
                                    "szall_mod": "GLS",
                                    "(No column name)": "5"
                                },
                                {
                                    "LOGIN": "imre1",
                                    "szall_mod": "GLS",
                                    "(No column name)": "8"
                                },
                                {
                                    "LOGIN": "istvan",
                                    "szall_mod": "GLS",
                                    "(No column name)": "3"
                                },
                                {
                                    "LOGIN": "istvan1",
                                    "szall_mod": "GLS",
                                    "(No column name)": "8"
                                },
                                {
                                    "LOGIN": "ISTVANV",
                                    "szall_mod": "GLS",
                                    "(No column name)": "4"
                                },
                                {
                                    "LOGIN": "janos3",
                                    "szall_mod": "GLS",
                                    "(No column name)": "5"
                                },
                                {
                                    "LOGIN": "JANOSG",
                                    "szall_mod": "GLS",
                                    "(No column name)": "3"
                                },
                                {
                                    "LOGIN": "JANOSP",
                                    "szall_mod": "GLS",
                                    "(No column name)": "7"
                                },
                                {
                                    "LOGIN": "jozsef",
                                    "szall_mod": "GLS",
                                    "(No column name)": "116"
                                },
                                {
                                    "LOGIN": "jozsef2",
                                    "szall_mod": "GLS",
                                    "(No column name)": "7"
                                },
                                {
                                    "LOGIN": "JOZSEFG",
                                    "szall_mod": "GLS",
                                    "(No column name)": "11"
                                },
                                {
                                    "LOGIN": "JUDITH",
                                    "szall_mod": "GLS",
                                    "(No column name)": "170"
                                },
                                {
                                    "LOGIN": "julia",
                                    "szall_mod": "GLS",
                                    "(No column name)": "137"
                                },
                                {
                                    "LOGIN": "julia4",
                                    "szall_mod": "GLS",
                                    "(No column name)": "2"
                                },
                                {
                                    "LOGIN": "julianna4",
                                    "szall_mod": "GLS",
                                    "(No column name)": "8"
                                },
                                {
                                    "LOGIN": "kata",
                                    "szall_mod": "GLS",
                                    "(No column name)": "5"
                                },
                                {
                                    "LOGIN": "katalin",
                                    "szall_mod": "GLS",
                                    "(No column name)": "7"
                                },
                                {
                                    "LOGIN": "katalin4",
                                    "szall_mod": "GLS",
                                    "(No column name)": "7"
                                },
                                {
                                    "LOGIN": "kati",
                                    "szall_mod": "GLS",
                                    "(No column name)": "4"
                                },
                                {
                                    "LOGIN": "katka",
                                    "szall_mod": "GLS",
                                    "(No column name)": "6"
                                },
                                {
                                    "LOGIN": "klaudia2",
                                    "szall_mod": "GLS",
                                    "(No column name)": "3"
                                },
                                {
                                    "LOGIN": "kornel4",
                                    "szall_mod": "GLS",
                                    "(No column name)": "3"
                                },
                                {
                                    "LOGIN": "kristof4",
                                    "szall_mod": "GLS",
                                    "(No column name)": "9"
                                },
                                {
                                    "LOGIN": "kriszti",
                                    "szall_mod": "GLS",
                                    "(No column name)": "3"
                                },
                                {
                                    "LOGIN": "krisztian4",
                                    "szall_mod": "GLS",
                                    "(No column name)": "5"
                                },
                                {
                                    "LOGIN": "KRISZTIANM",
                                    "szall_mod": "GLS",
                                    "(No column name)": "118"
                                },
                                {
                                    "LOGIN": "krisztina",
                                    "szall_mod": "GLS",
                                    "(No column name)": "149"
                                },
                                {
                                    "LOGIN": "krisztina1",
                                    "szall_mod": "GLS",
                                    "(No column name)": "10"
                                },
                                {
                                    "LOGIN": "KRISZTINAG",
                                    "szall_mod": "GLS",
                                    "(No column name)": "6"
                                },
                                {
                                    "LOGIN": "lajos",
                                    "szall_mod": "GLS",
                                    "(No column name)": "5"
                                },
                                {
                                    "LOGIN": "lala",
                                    "szall_mod": "GLS",
                                    "(No column name)": "5"
                                },
                                {
                                    "LOGIN": "laszlo1",
                                    "szall_mod": "GLS",
                                    "(No column name)": "130"
                                },
                                {
                                    "LOGIN": "laszlo2",
                                    "szall_mod": "GLS",
                                    "(No column name)": "12"
                                },
                                {
                                    "LOGIN": "LASZLOA",
                                    "szall_mod": "GLS",
                                    "(No column name)": "156"
                                },
                                {
                                    "LOGIN": "LASZLON",
                                    "szall_mod": "GLS",
                                    "(No column name)": "126"
                                },
                                {
                                    "LOGIN": "maria1",
                                    "szall_mod": "GLS",
                                    "(No column name)": "4"
                                },
                                {
                                    "LOGIN": "MARKH",
                                    "szall_mod": "GLS",
                                    "(No column name)": "128"
                                },
                                {
                                    "LOGIN": "marton",
                                    "szall_mod": "GLS",
                                    "(No column name)": "5"
                                },
                                {
                                    "LOGIN": "MATEK",
                                    "szall_mod": "GLS",
                                    "(No column name)": "6"
                                },
                                {
                                    "LOGIN": "matyas2",
                                    "szall_mod": "GLS",
                                    "(No column name)": "138"
                                },
                                {
                                    "LOGIN": "MATYASS",
                                    "szall_mod": "GLS",
                                    "(No column name)": "4"
                                },
                                {
                                    "LOGIN": "MIHALYJ",
                                    "szall_mod": "GLS",
                                    "(No column name)": "3"
                                },
                                {
                                    "LOGIN": "miklos2",
                                    "szall_mod": "GLS",
                                    "(No column name)": "7"
                                },
                                {
                                    "LOGIN": "MIKLOSB",
                                    "szall_mod": "GLS",
                                    "(No column name)": "6"
                                },
                                {
                                    "LOGIN": "MONIKAM",
                                    "szall_mod": "GLS",
                                    "(No column name)": "133"
                                },
                                {
                                    "LOGIN": "NANDORF",
                                    "szall_mod": "GLS",
                                    "(No column name)": "147"
                                },
                                {
                                    "LOGIN": "nikolett3",
                                    "szall_mod": "GLS",
                                    "(No column name)": "4"
                                },
                                {
                                    "LOGIN": "nikoletta4",
                                    "szall_mod": "GLS",
                                    "(No column name)": "137"
                                },
                                {
                                    "LOGIN": "NIKOLETTAT",
                                    "szall_mod": "GLS",
                                    "(No column name)": "13"
                                },
                                {
                                    "LOGIN": "norbert2",
                                    "szall_mod": "GLS",
                                    "(No column name)": "7"
                                },
                                {
                                    "LOGIN": "norbert4",
                                    "szall_mod": "GLS",
                                    "(No column name)": "1"
                                },
                                {
                                    "LOGIN": "norbert5",
                                    "szall_mod": "GLS",
                                    "(No column name)": "1"
                                },
                                {
                                    "LOGIN": "pal",
                                    "szall_mod": "GLS",
                                    "(No column name)": "152"
                                },
                                {
                                    "LOGIN": "peter1",
                                    "szall_mod": "GLS",
                                    "(No column name)": "151"
                                },
                                {
                                    "LOGIN": "peter2",
                                    "szall_mod": "GLS",
                                    "(No column name)": "7"
                                },
                                {
                                    "LOGIN": "peter3",
                                    "szall_mod": "GLS",
                                    "(No column name)": "8"
                                },
                                {
                                    "LOGIN": "peter4",
                                    "szall_mod": "GLS",
                                    "(No column name)": "266"
                                },
                                {
                                    "LOGIN": "PETERB",
                                    "szall_mod": "GLS",
                                    "(No column name)": "2"
                                },
                                {
                                    "LOGIN": "polla",
                                    "szall_mod": "GLS",
                                    "(No column name)": "9"
                                },
                                {
                                    "LOGIN": "rajmond4",
                                    "szall_mod": "GLS",
                                    "(No column name)": "6"
                                },
                                {
                                    "LOGIN": "reka4",
                                    "szall_mod": "GLS",
                                    "(No column name)": "5"
                                },
                                {
                                    "LOGIN": "RENATAK",
                                    "szall_mod": "GLS",
                                    "(No column name)": "135"
                                },
                                {
                                    "LOGIN": "RENATAS",
                                    "szall_mod": "GLS",
                                    "(No column name)": "6"
                                },
                                {
                                    "LOGIN": "robert2",
                                    "szall_mod": "GLS",
                                    "(No column name)": "5"
                                },
                                {
                                    "LOGIN": "ROBERTI",
                                    "szall_mod": "GLS",
                                    "(No column name)": "5"
                                },
                                {
                                    "LOGIN": "ROBERTP",
                                    "szall_mod": "GLS",
                                    "(No column name)": "8"
                                },
                                {
                                    "LOGIN": "roland",
                                    "szall_mod": "GLS",
                                    "(No column name)": "132"
                                },
                                {
                                    "LOGIN": "roland1",
                                    "szall_mod": "GLS",
                                    "(No column name)": "142"
                                },
                                {
                                    "LOGIN": "roza2",
                                    "szall_mod": "GLS",
                                    "(No column name)": "3"
                                },
                                {
                                    "LOGIN": "sandor",
                                    "szall_mod": "GLS",
                                    "(No column name)": "4"
                                },
                                {
                                    "LOGIN": "sandor3",
                                    "szall_mod": "GLS",
                                    "(No column name)": "4"
                                },
                                {
                                    "LOGIN": "sandor4",
                                    "szall_mod": "GLS",
                                    "(No column name)": "4"
                                },
                                {
                                    "LOGIN": "sara",
                                    "szall_mod": "GLS",
                                    "(No column name)": "4"
                                },
                                {
                                    "LOGIN": "SEBASTIANF",
                                    "szall_mod": "GLS",
                                    "(No column name)": "6"
                                },
                                {
                                    "LOGIN": "sebestyen",
                                    "szall_mod": "GLS",
                                    "(No column name)": "4"
                                },
                                {
                                    "LOGIN": "szabolcs",
                                    "szall_mod": "GLS",
                                    "(No column name)": "145"
                                },
                                {
                                    "LOGIN": "SZABOLCSM",
                                    "szall_mod": "GLS",
                                    "(No column name)": "126"
                                },
                                {
                                    "LOGIN": "SZILARDS",
                                    "szall_mod": "GLS",
                                    "(No column name)": "144"
                                },
                                {
                                    "LOGIN": "szilvia1",
                                    "szall_mod": "GLS",
                                    "(No column name)": "156"
                                },
                                {
                                    "LOGIN": "tamara2",
                                    "szall_mod": "GLS",
                                    "(No column name)": "6"
                                },
                                {
                                    "LOGIN": "tamas",
                                    "szall_mod": "GLS",
                                    "(No column name)": "143"
                                },
                                {
                                    "LOGIN": "TAMASF",
                                    "szall_mod": "GLS",
                                    "(No column name)": "159"
                                },
                                {
                                    "LOGIN": "tibor",
                                    "szall_mod": "GLS",
                                    "(No column name)": "115"
                                },
                                {
                                    "LOGIN": "tibor2",
                                    "szall_mod": "GLS",
                                    "(No column name)": "7"
                                },
                                {
                                    "LOGIN": "tihamer",
                                    "szall_mod": "GLS",
                                    "(No column name)": "9"
                                },
                                {
                                    "LOGIN": "timea",
                                    "szall_mod": "GLS",
                                    "(No column name)": "14"
                                },
                                {
                                    "LOGIN": "timea2",
                                    "szall_mod": "GLS",
                                    "(No column name)": "1"
                                },
                                {
                                    "LOGIN": "tunde",
                                    "szall_mod": "GLS",
                                    "(No column name)": "6"
                                },
                                {
                                    "LOGIN": "valentin",
                                    "szall_mod": "GLS",
                                    "(No column name)": "5"
                                },
                                {
                                    "LOGIN": "veronika4",
                                    "szall_mod": "GLS",
                                    "(No column name)": "5"
                                },
                                {
                                    "LOGIN": "VIKTORIAU",
                                    "szall_mod": "GLS",
                                    "(No column name)": "5"
                                },
                                {
                                    "LOGIN": "VIKTORK",
                                    "szall_mod": "GLS",
                                    "(No column name)": "8"
                                },
                                {
                                    "LOGIN": "vivien3",
                                    "szall_mod": "GLS",
                                    "(No column name)": "9"
                                },
                                {
                                    "LOGIN": "zoltan",
                                    "szall_mod": "GLS",
                                    "(No column name)": "5"
                                },
                                {
                                    "LOGIN": "zoltan4",
                                    "szall_mod": "GLS",
                                    "(No column name)": "129"
                                },
                                {
                                    "LOGIN": "ZOLTANP",
                                    "szall_mod": "GLS",
                                    "(No column name)": "6"
                                },
                                {
                                    "LOGIN": "ZOLTANT",
                                    "szall_mod": "GLS",
                                    "(No column name)": "127"
                                },
                                {
                                    "LOGIN": "zsofi1",
                                    "szall_mod": "GLS",
                                    "(No column name)": "7"
                                },
                                {
                                    "LOGIN": "zsolt1",
                                    "szall_mod": "GLS",
                                    "(No column name)": "11"
                                },
                                {
                                    "LOGIN": "ZSOLTJ",
                                    "szall_mod": "GLS",
                                    "(No column name)": "1"
                                },
                                {
                                    "LOGIN": "zsuzsa",
                                    "szall_mod": "GLS",
                                    "(No column name)": "8"
                                },
                                {
                                    "LOGIN": "zsuzsa3",
                                    "szall_mod": "GLS",
                                    "(No column name)": "5"
                                },
                                {
                                    "LOGIN": "zsuzsanna",
                                    "szall_mod": "GLS",
                                    "(No column name)": "7"
                                },
                                {
                                    "LOGIN": "ZSUZSAV",
                                    "szall_mod": "GLS",
                                    "(No column name)": "139"
                                },
                                {
                                    "LOGIN": "NULL",
                                    "szall_mod": "GLS",
                                    "(No column name)": "9426"
                                },
                                {
                                    "LOGIN": "adam1",
                                    "szall_mod": "Posta",
                                    "(No column name)": "132"
                                },
                                {
                                    "LOGIN": "adam3",
                                    "szall_mod": "Posta",
                                    "(No column name)": "3"
                                },
                                {
                                    "LOGIN": "adam4",
                                    "szall_mod": "Posta",
                                    "(No column name)": "6"
                                },
                                {
                                    "LOGIN": "agnes",
                                    "szall_mod": "Posta",
                                    "(No column name)": "130"
                                },
                                {
                                    "LOGIN": "agnes3",
                                    "szall_mod": "Posta",
                                    "(No column name)": "146"
                                },
                                {
                                    "LOGIN": "AGNESH",
                                    "szall_mod": "Posta",
                                    "(No column name)": "3"
                                },
                                {
                                    "LOGIN": "AGNESK",
                                    "szall_mod": "Posta",
                                    "(No column name)": "7"
                                },
                                {
                                    "LOGIN": "akos",
                                    "szall_mod": "Posta",
                                    "(No column name)": "143"
                                },
                                {
                                    "LOGIN": "aladar",
                                    "szall_mod": "Posta",
                                    "(No column name)": "134"
                                },
                                {
                                    "LOGIN": "alexandra",
                                    "szall_mod": "Posta",
                                    "(No column name)": "9"
                                },
                                {
                                    "LOGIN": "andi",
                                    "szall_mod": "Posta",
                                    "(No column name)": "4"
                                },
                                {
                                    "LOGIN": "andras2",
                                    "szall_mod": "Posta",
                                    "(No column name)": "7"
                                },
                                {
                                    "LOGIN": "andras21",
                                    "szall_mod": "Posta",
                                    "(No column name)": "124"
                                },
                                {
                                    "LOGIN": "andras3",
                                    "szall_mod": "Posta",
                                    "(No column name)": "1"
                                },
                                {
                                    "LOGIN": "andras4",
                                    "szall_mod": "Posta",
                                    "(No column name)": "4"
                                },
                                {
                                    "LOGIN": "andras41",
                                    "szall_mod": "Posta",
                                    "(No column name)": "137"
                                },
                                {
                                    "LOGIN": "ANDRASE",
                                    "szall_mod": "Posta",
                                    "(No column name)": "141"
                                },
                                {
                                    "LOGIN": "ANDRASN",
                                    "szall_mod": "Posta",
                                    "(No column name)": "9"
                                },
                                {
                                    "LOGIN": "andrea",
                                    "szall_mod": "Posta",
                                    "(No column name)": "4"
                                },
                                {
                                    "LOGIN": "andrea3",
                                    "szall_mod": "Posta",
                                    "(No column name)": "136"
                                },
                                {
                                    "LOGIN": "andrea4",
                                    "szall_mod": "Posta",
                                    "(No column name)": "4"
                                },
                                {
                                    "LOGIN": "ANDREAT",
                                    "szall_mod": "Posta",
                                    "(No column name)": "6"
                                },
                                {
                                    "LOGIN": "anett3",
                                    "szall_mod": "Posta",
                                    "(No column name)": "6"
                                },
                                {
                                    "LOGIN": "aniko",
                                    "szall_mod": "Posta",
                                    "(No column name)": "137"
                                },
                                {
                                    "LOGIN": "aniko4",
                                    "szall_mod": "Posta",
                                    "(No column name)": "6"
                                },
                                {
                                    "LOGIN": "ANIKOS",
                                    "szall_mod": "Posta",
                                    "(No column name)": "126"
                                },
                                {
                                    "LOGIN": "anita",
                                    "szall_mod": "Posta",
                                    "(No column name)": "2"
                                },
                                {
                                    "LOGIN": "annamaria1",
                                    "szall_mod": "Posta",
                                    "(No column name)": "4"
                                },
                                {
                                    "LOGIN": "ANNAMARIAR",
                                    "szall_mod": "Posta",
                                    "(No column name)": "2"
                                },
                                {
                                    "LOGIN": "aron2",
                                    "szall_mod": "Posta",
                                    "(No column name)": "133"
                                },
                                {
                                    "LOGIN": "ARONK",
                                    "szall_mod": "Posta",
                                    "(No column name)": "120"
                                },
                                {
                                    "LOGIN": "arpad2",
                                    "szall_mod": "Posta",
                                    "(No column name)": "1"
                                },
                                {
                                    "LOGIN": "ARPADH",
                                    "szall_mod": "Posta",
                                    "(No column name)": "3"
                                },
                                {
                                    "LOGIN": "ARPADM",
                                    "szall_mod": "Posta",
                                    "(No column name)": "3"
                                },
                                {
                                    "LOGIN": "attila1",
                                    "szall_mod": "Posta",
                                    "(No column name)": "7"
                                },
                                {
                                    "LOGIN": "attila4",
                                    "szall_mod": "Posta",
                                    "(No column name)": "125"
                                },
                                {
                                    "LOGIN": "ATTILAO",
                                    "szall_mod": "Posta",
                                    "(No column name)": "4"
                                },
                                {
                                    "LOGIN": "balazs1",
                                    "szall_mod": "Posta",
                                    "(No column name)": "136"
                                },
                                {
                                    "LOGIN": "balazs2",
                                    "szall_mod": "Posta",
                                    "(No column name)": "7"
                                },
                                {
                                    "LOGIN": "balazs3",
                                    "szall_mod": "Posta",
                                    "(No column name)": "6"
                                },
                                {
                                    "LOGIN": "balint",
                                    "szall_mod": "Posta",
                                    "(No column name)": "4"
                                },
                                {
                                    "LOGIN": "balint1",
                                    "szall_mod": "Posta",
                                    "(No column name)": "152"
                                },
                                {
                                    "LOGIN": "balint2",
                                    "szall_mod": "Posta",
                                    "(No column name)": "6"
                                },
                                {
                                    "LOGIN": "balu",
                                    "szall_mod": "Posta",
                                    "(No column name)": "137"
                                },
                                {
                                    "LOGIN": "BEATRIXK",
                                    "szall_mod": "Posta",
                                    "(No column name)": "155"
                                },
                                {
                                    "LOGIN": "BEATRIXS",
                                    "szall_mod": "Posta",
                                    "(No column name)": "141"
                                },
                                {
                                    "LOGIN": "BELAF",
                                    "szall_mod": "Posta",
                                    "(No column name)": "2"
                                },
                                {
                                    "LOGIN": "bence",
                                    "szall_mod": "Posta",
                                    "(No column name)": "6"
                                },
                                {
                                    "LOGIN": "BENCEB",
                                    "szall_mod": "Posta",
                                    "(No column name)": "7"
                                },
                                {
                                    "LOGIN": "bernadett1",
                                    "szall_mod": "Posta",
                                    "(No column name)": "5"
                                },
                                {
                                    "LOGIN": "bernadett2",
                                    "szall_mod": "Posta",
                                    "(No column name)": "2"
                                },
                                {
                                    "LOGIN": "BERNADETTO",
                                    "szall_mod": "Posta",
                                    "(No column name)": "2"
                                },
                                {
                                    "LOGIN": "bertalan",
                                    "szall_mod": "Posta",
                                    "(No column name)": "124"
                                },
                                {
                                    "LOGIN": "brigitta",
                                    "szall_mod": "Posta",
                                    "(No column name)": "137"
                                },
                                {
                                    "LOGIN": "brigitta3",
                                    "szall_mod": "Posta",
                                    "(No column name)": "130"
                                },
                                {
                                    "LOGIN": "csongor3",
                                    "szall_mod": "Posta",
                                    "(No column name)": "2"
                                },
                                {
                                    "LOGIN": "daniel",
                                    "szall_mod": "Posta",
                                    "(No column name)": "2"
                                },
                                {
                                    "LOGIN": "daniel1",
                                    "szall_mod": "Posta",
                                    "(No column name)": "131"
                                },
                                {
                                    "LOGIN": "david",
                                    "szall_mod": "Posta",
                                    "(No column name)": "144"
                                },
                                {
                                    "LOGIN": "david1",
                                    "szall_mod": "Posta",
                                    "(No column name)": "1"
                                },
                                {
                                    "LOGIN": "david4",
                                    "szall_mod": "Posta",
                                    "(No column name)": "8"
                                },
                                {
                                    "LOGIN": "debora",
                                    "szall_mod": "Posta",
                                    "(No column name)": "6"
                                },
                                {
                                    "LOGIN": "denes",
                                    "szall_mod": "Posta",
                                    "(No column name)": "2"
                                },
                                {
                                    "LOGIN": "dora3",
                                    "szall_mod": "Posta",
                                    "(No column name)": "124"
                                },
                                {
                                    "LOGIN": "edit",
                                    "szall_mod": "Posta",
                                    "(No column name)": "2"
                                },
                                {
                                    "LOGIN": "emese",
                                    "szall_mod": "Posta",
                                    "(No column name)": "136"
                                },
                                {
                                    "LOGIN": "eszter2",
                                    "szall_mod": "Posta",
                                    "(No column name)": "136"
                                },
                                {
                                    "LOGIN": "eszter4",
                                    "szall_mod": "Posta",
                                    "(No column name)": "134"
                                },
                                {
                                    "LOGIN": "ESZTERE",
                                    "szall_mod": "Posta",
                                    "(No column name)": "9"
                                },
                                {
                                    "LOGIN": "eva",
                                    "szall_mod": "Posta",
                                    "(No column name)": "140"
                                },
                                {
                                    "LOGIN": "eva2",
                                    "szall_mod": "Posta",
                                    "(No column name)": "138"
                                },
                                {
                                    "LOGIN": "EVAV",
                                    "szall_mod": "Posta",
                                    "(No column name)": "1"
                                },
                                {
                                    "LOGIN": "ferenc1",
                                    "szall_mod": "Posta",
                                    "(No column name)": "158"
                                },
                                {
                                    "LOGIN": "fruzsina4",
                                    "szall_mod": "Posta",
                                    "(No column name)": "3"
                                },
                                {
                                    "LOGIN": "gabor1",
                                    "szall_mod": "Posta",
                                    "(No column name)": "5"
                                },
                                {
                                    "LOGIN": "gabor4",
                                    "szall_mod": "Posta",
                                    "(No column name)": "9"
                                },
                                {
                                    "LOGIN": "GABORS",
                                    "szall_mod": "Posta",
                                    "(No column name)": "6"
                                },
                                {
                                    "LOGIN": "gabriella1",
                                    "szall_mod": "Posta",
                                    "(No column name)": "4"
                                },
                                {
                                    "LOGIN": "gabriella10",
                                    "szall_mod": "Posta",
                                    "(No column name)": "5"
                                },
                                {
                                    "LOGIN": "georgij",
                                    "szall_mod": "Posta",
                                    "(No column name)": "2"
                                },
                                {
                                    "LOGIN": "gusztav",
                                    "szall_mod": "Posta",
                                    "(No column name)": "4"
                                },
                                {
                                    "LOGIN": "GYONGYIK",
                                    "szall_mod": "Posta",
                                    "(No column name)": "6"
                                },
                                {
                                    "LOGIN": "GYORGYO",
                                    "szall_mod": "Posta",
                                    "(No column name)": "4"
                                },
                                {
                                    "LOGIN": "henrik3",
                                    "szall_mod": "Posta",
                                    "(No column name)": "4"
                                },
                                {
                                    "LOGIN": "IBOLYAA",
                                    "szall_mod": "Posta",
                                    "(No column name)": "125"
                                },
                                {
                                    "LOGIN": "ilona3",
                                    "szall_mod": "Posta",
                                    "(No column name)": "2"
                                },
                                {
                                    "LOGIN": "imre",
                                    "szall_mod": "Posta",
                                    "(No column name)": "4"
                                },
                                {
                                    "LOGIN": "imre1",
                                    "szall_mod": "Posta",
                                    "(No column name)": "4"
                                },
                                {
                                    "LOGIN": "istvan",
                                    "szall_mod": "Posta",
                                    "(No column name)": "4"
                                },
                                {
                                    "LOGIN": "istvan1",
                                    "szall_mod": "Posta",
                                    "(No column name)": "4"
                                },
                                {
                                    "LOGIN": "ISTVANV",
                                    "szall_mod": "Posta",
                                    "(No column name)": "9"
                                },
                                {
                                    "LOGIN": "janos3",
                                    "szall_mod": "Posta",
                                    "(No column name)": "2"
                                },
                                {
                                    "LOGIN": "JANOSG",
                                    "szall_mod": "Posta",
                                    "(No column name)": "3"
                                },
                                {
                                    "LOGIN": "JANOSP",
                                    "szall_mod": "Posta",
                                    "(No column name)": "7"
                                },
                                {
                                    "LOGIN": "jozsef",
                                    "szall_mod": "Posta",
                                    "(No column name)": "132"
                                },
                                {
                                    "LOGIN": "jozsef2",
                                    "szall_mod": "Posta",
                                    "(No column name)": "2"
                                },
                                {
                                    "LOGIN": "JOZSEFG",
                                    "szall_mod": "Posta",
                                    "(No column name)": "1"
                                },
                                {
                                    "LOGIN": "JUDITH",
                                    "szall_mod": "Posta",
                                    "(No column name)": "130"
                                },
                                {
                                    "LOGIN": "julia",
                                    "szall_mod": "Posta",
                                    "(No column name)": "160"
                                },
                                {
                                    "LOGIN": "julia4",
                                    "szall_mod": "Posta",
                                    "(No column name)": "4"
                                },
                                {
                                    "LOGIN": "julianna4",
                                    "szall_mod": "Posta",
                                    "(No column name)": "12"
                                },
                                {
                                    "LOGIN": "kata",
                                    "szall_mod": "Posta",
                                    "(No column name)": "4"
                                },
                                {
                                    "LOGIN": "katalin",
                                    "szall_mod": "Posta",
                                    "(No column name)": "7"
                                },
                                {
                                    "LOGIN": "katalin4",
                                    "szall_mod": "Posta",
                                    "(No column name)": "5"
                                },
                                {
                                    "LOGIN": "kati",
                                    "szall_mod": "Posta",
                                    "(No column name)": "5"
                                },
                                {
                                    "LOGIN": "katka",
                                    "szall_mod": "Posta",
                                    "(No column name)": "6"
                                },
                                {
                                    "LOGIN": "klaudia2",
                                    "szall_mod": "Posta",
                                    "(No column name)": "9"
                                },
                                {
                                    "LOGIN": "kornel4",
                                    "szall_mod": "Posta",
                                    "(No column name)": "1"
                                },
                                {
                                    "LOGIN": "kristof4",
                                    "szall_mod": "Posta",
                                    "(No column name)": "4"
                                },
                                {
                                    "LOGIN": "kriszti",
                                    "szall_mod": "Posta",
                                    "(No column name)": "5"
                                },
                                {
                                    "LOGIN": "krisztian4",
                                    "szall_mod": "Posta",
                                    "(No column name)": "6"
                                },
                                {
                                    "LOGIN": "KRISZTIANM",
                                    "szall_mod": "Posta",
                                    "(No column name)": "136"
                                },
                                {
                                    "LOGIN": "krisztina",
                                    "szall_mod": "Posta",
                                    "(No column name)": "150"
                                },
                                {
                                    "LOGIN": "krisztina1",
                                    "szall_mod": "Posta",
                                    "(No column name)": "4"
                                },
                                {
                                    "LOGIN": "KRISZTINAG",
                                    "szall_mod": "Posta",
                                    "(No column name)": "6"
                                },
                                {
                                    "LOGIN": "lajos",
                                    "szall_mod": "Posta",
                                    "(No column name)": "2"
                                },
                                {
                                    "LOGIN": "lala",
                                    "szall_mod": "Posta",
                                    "(No column name)": "3"
                                },
                                {
                                    "LOGIN": "laszlo1",
                                    "szall_mod": "Posta",
                                    "(No column name)": "129"
                                },
                                {
                                    "LOGIN": "laszlo2",
                                    "szall_mod": "Posta",
                                    "(No column name)": "6"
                                },
                                {
                                    "LOGIN": "LASZLOA",
                                    "szall_mod": "Posta",
                                    "(No column name)": "136"
                                },
                                {
                                    "LOGIN": "LASZLON",
                                    "szall_mod": "Posta",
                                    "(No column name)": "131"
                                },
                                {
                                    "LOGIN": "maria1",
                                    "szall_mod": "Posta",
                                    "(No column name)": "5"
                                },
                                {
                                    "LOGIN": "MARKH",
                                    "szall_mod": "Posta",
                                    "(No column name)": "142"
                                },
                                {
                                    "LOGIN": "marton",
                                    "szall_mod": "Posta",
                                    "(No column name)": "4"
                                },
                                {
                                    "LOGIN": "MATEK",
                                    "szall_mod": "Posta",
                                    "(No column name)": "10"
                                },
                                {
                                    "LOGIN": "matyas2",
                                    "szall_mod": "Posta",
                                    "(No column name)": "131"
                                },
                                {
                                    "LOGIN": "MATYASS",
                                    "szall_mod": "Posta",
                                    "(No column name)": "5"
                                },
                                {
                                    "LOGIN": "MIHALYJ",
                                    "szall_mod": "Posta",
                                    "(No column name)": "4"
                                },
                                {
                                    "LOGIN": "miklos2",
                                    "szall_mod": "Posta",
                                    "(No column name)": "4"
                                },
                                {
                                    "LOGIN": "MIKLOSB",
                                    "szall_mod": "Posta",
                                    "(No column name)": "1"
                                },
                                {
                                    "LOGIN": "MONIKAM",
                                    "szall_mod": "Posta",
                                    "(No column name)": "151"
                                },
                                {
                                    "LOGIN": "NANDORF",
                                    "szall_mod": "Posta",
                                    "(No column name)": "139"
                                },
                                {
                                    "LOGIN": "nikolett3",
                                    "szall_mod": "Posta",
                                    "(No column name)": "3"
                                },
                                {
                                    "LOGIN": "nikoletta4",
                                    "szall_mod": "Posta",
                                    "(No column name)": "158"
                                },
                                {
                                    "LOGIN": "NIKOLETTAT",
                                    "szall_mod": "Posta",
                                    "(No column name)": "7"
                                },
                                {
                                    "LOGIN": "norbert2",
                                    "szall_mod": "Posta",
                                    "(No column name)": "4"
                                },
                                {
                                    "LOGIN": "norbert4",
                                    "szall_mod": "Posta",
                                    "(No column name)": "3"
                                },
                                {
                                    "LOGIN": "norbert5",
                                    "szall_mod": "Posta",
                                    "(No column name)": "6"
                                },
                                {
                                    "LOGIN": "pal",
                                    "szall_mod": "Posta",
                                    "(No column name)": "132"
                                },
                                {
                                    "LOGIN": "peter1",
                                    "szall_mod": "Posta",
                                    "(No column name)": "135"
                                },
                                {
                                    "LOGIN": "peter2",
                                    "szall_mod": "Posta",
                                    "(No column name)": "4"
                                },
                                {
                                    "LOGIN": "peter3",
                                    "szall_mod": "Posta",
                                    "(No column name)": "7"
                                },
                                {
                                    "LOGIN": "peter4",
                                    "szall_mod": "Posta",
                                    "(No column name)": "293"
                                },
                                {
                                    "LOGIN": "PETERB",
                                    "szall_mod": "Posta",
                                    "(No column name)": "4"
                                },
                                {
                                    "LOGIN": "polla",
                                    "szall_mod": "Posta",
                                    "(No column name)": "6"
                                },
                                {
                                    "LOGIN": "rajmond4",
                                    "szall_mod": "Posta",
                                    "(No column name)": "5"
                                },
                                {
                                    "LOGIN": "reka4",
                                    "szall_mod": "Posta",
                                    "(No column name)": "4"
                                },
                                {
                                    "LOGIN": "RENATAK",
                                    "szall_mod": "Posta",
                                    "(No column name)": "140"
                                },
                                {
                                    "LOGIN": "RENATAS",
                                    "szall_mod": "Posta",
                                    "(No column name)": "5"
                                },
                                {
                                    "LOGIN": "robert2",
                                    "szall_mod": "Posta",
                                    "(No column name)": "1"
                                },
                                {
                                    "LOGIN": "ROBERTI",
                                    "szall_mod": "Posta",
                                    "(No column name)": "3"
                                },
                                {
                                    "LOGIN": "ROBERTP",
                                    "szall_mod": "Posta",
                                    "(No column name)": "8"
                                },
                                {
                                    "LOGIN": "roland",
                                    "szall_mod": "Posta",
                                    "(No column name)": "157"
                                },
                                {
                                    "LOGIN": "roland1",
                                    "szall_mod": "Posta",
                                    "(No column name)": "155"
                                },
                                {
                                    "LOGIN": "roza2",
                                    "szall_mod": "Posta",
                                    "(No column name)": "2"
                                },
                                {
                                    "LOGIN": "sandor",
                                    "szall_mod": "Posta",
                                    "(No column name)": "6"
                                },
                                {
                                    "LOGIN": "sandor3",
                                    "szall_mod": "Posta",
                                    "(No column name)": "4"
                                },
                                {
                                    "LOGIN": "sandor4",
                                    "szall_mod": "Posta",
                                    "(No column name)": "2"
                                },
                                {
                                    "LOGIN": "sara",
                                    "szall_mod": "Posta",
                                    "(No column name)": "7"
                                },
                                {
                                    "LOGIN": "SEBASTIANF",
                                    "szall_mod": "Posta",
                                    "(No column name)": "3"
                                },
                                {
                                    "LOGIN": "sebestyen",
                                    "szall_mod": "Posta",
                                    "(No column name)": "6"
                                },
                                {
                                    "LOGIN": "szabolcs",
                                    "szall_mod": "Posta",
                                    "(No column name)": "157"
                                },
                                {
                                    "LOGIN": "SZABOLCSM",
                                    "szall_mod": "Posta",
                                    "(No column name)": "153"
                                },
                                {
                                    "LOGIN": "SZILARDS",
                                    "szall_mod": "Posta",
                                    "(No column name)": "131"
                                },
                                {
                                    "LOGIN": "szilvia1",
                                    "szall_mod": "Posta",
                                    "(No column name)": "151"
                                },
                                {
                                    "LOGIN": "tamara2",
                                    "szall_mod": "Posta",
                                    "(No column name)": "4"
                                },
                                {
                                    "LOGIN": "tamas",
                                    "szall_mod": "Posta",
                                    "(No column name)": "156"
                                },
                                {
                                    "LOGIN": "TAMASF",
                                    "szall_mod": "Posta",
                                    "(No column name)": "145"
                                },
                                {
                                    "LOGIN": "tibor",
                                    "szall_mod": "Posta",
                                    "(No column name)": "129"
                                },
                                {
                                    "LOGIN": "tibor2",
                                    "szall_mod": "Posta",
                                    "(No column name)": "7"
                                },
                                {
                                    "LOGIN": "tihamer",
                                    "szall_mod": "Posta",
                                    "(No column name)": "6"
                                },
                                {
                                    "LOGIN": "timea",
                                    "szall_mod": "Posta",
                                    "(No column name)": "23"
                                },
                                {
                                    "LOGIN": "timea2",
                                    "szall_mod": "Posta",
                                    "(No column name)": "5"
                                },
                                {
                                    "LOGIN": "tunde",
                                    "szall_mod": "Posta",
                                    "(No column name)": "6"
                                },
                                {
                                    "LOGIN": "valentin",
                                    "szall_mod": "Posta",
                                    "(No column name)": "5"
                                },
                                {
                                    "LOGIN": "veronika4",
                                    "szall_mod": "Posta",
                                    "(No column name)": "6"
                                },
                                {
                                    "LOGIN": "VIKTORIAU",
                                    "szall_mod": "Posta",
                                    "(No column name)": "4"
                                },
                                {
                                    "LOGIN": "VIKTORK",
                                    "szall_mod": "Posta",
                                    "(No column name)": "6"
                                },
                                {
                                    "LOGIN": "vivien3",
                                    "szall_mod": "Posta",
                                    "(No column name)": "6"
                                },
                                {
                                    "LOGIN": "zoltan",
                                    "szall_mod": "Posta",
                                    "(No column name)": "3"
                                },
                                {
                                    "LOGIN": "zoltan4",
                                    "szall_mod": "Posta",
                                    "(No column name)": "124"
                                },
                                {
                                    "LOGIN": "ZOLTANP",
                                    "szall_mod": "Posta",
                                    "(No column name)": "3"
                                },
                                {
                                    "LOGIN": "ZOLTANT",
                                    "szall_mod": "Posta",
                                    "(No column name)": "107"
                                },
                                {
                                    "LOGIN": "zsofi1",
                                    "szall_mod": "Posta",
                                    "(No column name)": "6"
                                },
                                {
                                    "LOGIN": "zsolt1",
                                    "szall_mod": "Posta",
                                    "(No column name)": "6"
                                },
                                {
                                    "LOGIN": "ZSOLTJ",
                                    "szall_mod": "Posta",
                                    "(No column name)": "8"
                                },
                                {
                                    "LOGIN": "zsuzsa",
                                    "szall_mod": "Posta",
                                    "(No column name)": "5"
                                },
                                {
                                    "LOGIN": "zsuzsa3",
                                    "szall_mod": "Posta",
                                    "(No column name)": "5"
                                },
                                {
                                    "LOGIN": "zsuzsanna",
                                    "szall_mod": "Posta",
                                    "(No column name)": "5"
                                },
                                {
                                    "LOGIN": "ZSUZSAV",
                                    "szall_mod": "Posta",
                                    "(No column name)": "139"
                                },
                                {
                                    "LOGIN": "NULL",
                                    "szall_mod": "Posta",
                                    "(No column name)": "9191"
                                },
                                {
                                    "LOGIN": "adam1",
                                    "szall_mod": "Személyes átvétel",
                                    "(No column name)": "131"
                                },
                                {
                                    "LOGIN": "adam3",
                                    "szall_mod": "Személyes átvétel",
                                    "(No column name)": "2"
                                },
                                {
                                    "LOGIN": "adam4",
                                    "szall_mod": "Személyes átvétel",
                                    "(No column name)": "11"
                                },
                                {
                                    "LOGIN": "agnes",
                                    "szall_mod": "Személyes átvétel",
                                    "(No column name)": "144"
                                },
                                {
                                    "LOGIN": "agnes3",
                                    "szall_mod": "Személyes átvétel",
                                    "(No column name)": "136"
                                },
                                {
                                    "LOGIN": "AGNESH",
                                    "szall_mod": "Személyes átvétel",
                                    "(No column name)": "6"
                                },
                                {
                                    "LOGIN": "AGNESK",
                                    "szall_mod": "Személyes átvétel",
                                    "(No column name)": "7"
                                },
                                {
                                    "LOGIN": "akos",
                                    "szall_mod": "Személyes átvétel",
                                    "(No column name)": "140"
                                },
                                {
                                    "LOGIN": "aladar",
                                    "szall_mod": "Személyes átvétel",
                                    "(No column name)": "118"
                                },
                                {
                                    "LOGIN": "alexandra",
                                    "szall_mod": "Személyes átvétel",
                                    "(No column name)": "5"
                                },
                                {
                                    "LOGIN": "andi",
                                    "szall_mod": "Személyes átvétel",
                                    "(No column name)": "7"
                                },
                                {
                                    "LOGIN": "andras2",
                                    "szall_mod": "Személyes átvétel",
                                    "(No column name)": "11"
                                },
                                {
                                    "LOGIN": "andras21",
                                    "szall_mod": "Személyes átvétel",
                                    "(No column name)": "126"
                                },
                                {
                                    "LOGIN": "andras3",
                                    "szall_mod": "Személyes átvétel",
                                    "(No column name)": "5"
                                },
                                {
                                    "LOGIN": "andras4",
                                    "szall_mod": "Személyes átvétel",
                                    "(No column name)": "4"
                                },
                                {
                                    "LOGIN": "andras41",
                                    "szall_mod": "Személyes átvétel",
                                    "(No column name)": "133"
                                },
                                {
                                    "LOGIN": "ANDRASE",
                                    "szall_mod": "Személyes átvétel",
                                    "(No column name)": "136"
                                },
                                {
                                    "LOGIN": "ANDRASN",
                                    "szall_mod": "Személyes átvétel",
                                    "(No column name)": "5"
                                },
                                {
                                    "LOGIN": "andrea",
                                    "szall_mod": "Személyes átvétel",
                                    "(No column name)": "8"
                                },
                                {
                                    "LOGIN": "andrea3",
                                    "szall_mod": "Személyes átvétel",
                                    "(No column name)": "146"
                                },
                                {
                                    "LOGIN": "andrea4",
                                    "szall_mod": "Személyes átvétel",
                                    "(No column name)": "7"
                                },
                                {
                                    "LOGIN": "ANDREAT",
                                    "szall_mod": "Személyes átvétel",
                                    "(No column name)": "12"
                                },
                                {
                                    "LOGIN": "anett3",
                                    "szall_mod": "Személyes átvétel",
                                    "(No column name)": "9"
                                },
                                {
                                    "LOGIN": "aniko",
                                    "szall_mod": "Személyes átvétel",
                                    "(No column name)": "138"
                                },
                                {
                                    "LOGIN": "aniko4",
                                    "szall_mod": "Személyes átvétel",
                                    "(No column name)": "3"
                                },
                                {
                                    "LOGIN": "ANIKOS",
                                    "szall_mod": "Személyes átvétel",
                                    "(No column name)": "150"
                                },
                                {
                                    "LOGIN": "anita",
                                    "szall_mod": "Személyes átvétel",
                                    "(No column name)": "5"
                                },
                                {
                                    "LOGIN": "annamaria1",
                                    "szall_mod": "Személyes átvétel",
                                    "(No column name)": "7"
                                },
                                {
                                    "LOGIN": "ANNAMARIAR",
                                    "szall_mod": "Személyes átvétel",
                                    "(No column name)": "3"
                                },
                                {
                                    "LOGIN": "aron2",
                                    "szall_mod": "Személyes átvétel",
                                    "(No column name)": "144"
                                },
                                {
                                    "LOGIN": "ARONK",
                                    "szall_mod": "Személyes átvétel",
                                    "(No column name)": "155"
                                },
                                {
                                    "LOGIN": "arpad2",
                                    "szall_mod": "Személyes átvétel",
                                    "(No column name)": "10"
                                },
                                {
                                    "LOGIN": "ARPADH",
                                    "szall_mod": "Személyes átvétel",
                                    "(No column name)": "5"
                                },
                                {
                                    "LOGIN": "ARPADM",
                                    "szall_mod": "Személyes átvétel",
                                    "(No column name)": "7"
                                },
                                {
                                    "LOGIN": "attila1",
                                    "szall_mod": "Személyes átvétel",
                                    "(No column name)": "6"
                                },
                                {
                                    "LOGIN": "attila4",
                                    "szall_mod": "Személyes átvétel",
                                    "(No column name)": "141"
                                },
                                {
                                    "LOGIN": "ATTILAO",
                                    "szall_mod": "Személyes átvétel",
                                    "(No column name)": "6"
                                },
                                {
                                    "LOGIN": "balazs1",
                                    "szall_mod": "Személyes átvétel",
                                    "(No column name)": "155"
                                },
                                {
                                    "LOGIN": "balazs2",
                                    "szall_mod": "Személyes átvétel",
                                    "(No column name)": "5"
                                },
                                {
                                    "LOGIN": "balazs3",
                                    "szall_mod": "Személyes átvétel",
                                    "(No column name)": "3"
                                },
                                {
                                    "LOGIN": "balint",
                                    "szall_mod": "Személyes átvétel",
                                    "(No column name)": "2"
                                },
                                {
                                    "LOGIN": "balint1",
                                    "szall_mod": "Személyes átvétel",
                                    "(No column name)": "152"
                                },
                                {
                                    "LOGIN": "balint2",
                                    "szall_mod": "Személyes átvétel",
                                    "(No column name)": "3"
                                },
                                {
                                    "LOGIN": "balu",
                                    "szall_mod": "Személyes átvétel",
                                    "(No column name)": "123"
                                },
                                {
                                    "LOGIN": "BEATRIXK",
                                    "szall_mod": "Személyes átvétel",
                                    "(No column name)": "145"
                                },
                                {
                                    "LOGIN": "BEATRIXS",
                                    "szall_mod": "Személyes átvétel",
                                    "(No column name)": "133"
                                },
                                {
                                    "LOGIN": "BELAF",
                                    "szall_mod": "Személyes átvétel",
                                    "(No column name)": "5"
                                },
                                {
                                    "LOGIN": "bence",
                                    "szall_mod": "Személyes átvétel",
                                    "(No column name)": "8"
                                },
                                {
                                    "LOGIN": "BENCEB",
                                    "szall_mod": "Személyes átvétel",
                                    "(No column name)": "5"
                                },
                                {
                                    "LOGIN": "bernadett1",
                                    "szall_mod": "Személyes átvétel",
                                    "(No column name)": "5"
                                },
                                {
                                    "LOGIN": "bernadett2",
                                    "szall_mod": "Személyes átvétel",
                                    "(No column name)": "7"
                                },
                                {
                                    "LOGIN": "BERNADETTO",
                                    "szall_mod": "Személyes átvétel",
                                    "(No column name)": "7"
                                },
                                {
                                    "LOGIN": "bertalan",
                                    "szall_mod": "Személyes átvétel",
                                    "(No column name)": "101"
                                },
                                {
                                    "LOGIN": "brigitta",
                                    "szall_mod": "Személyes átvétel",
                                    "(No column name)": "119"
                                },
                                {
                                    "LOGIN": "brigitta3",
                                    "szall_mod": "Személyes átvétel",
                                    "(No column name)": "139"
                                },
                                {
                                    "LOGIN": "csongor3",
                                    "szall_mod": "Személyes átvétel",
                                    "(No column name)": "8"
                                },
                                {
                                    "LOGIN": "dani",
                                    "szall_mod": "Személyes átvétel",
                                    "(No column name)": "8"
                                },
                                {
                                    "LOGIN": "daniel",
                                    "szall_mod": "Személyes átvétel",
                                    "(No column name)": "4"
                                },
                                {
                                    "LOGIN": "daniel1",
                                    "szall_mod": "Személyes átvétel",
                                    "(No column name)": "132"
                                },
                                {
                                    "LOGIN": "david",
                                    "szall_mod": "Személyes átvétel",
                                    "(No column name)": "146"
                                },
                                {
                                    "LOGIN": "david1",
                                    "szall_mod": "Személyes átvétel",
                                    "(No column name)": "8"
                                },
                                {
                                    "LOGIN": "david4",
                                    "szall_mod": "Személyes átvétel",
                                    "(No column name)": "10"
                                },
                                {
                                    "LOGIN": "debora",
                                    "szall_mod": "Személyes átvétel",
                                    "(No column name)": "3"
                                },
                                {
                                    "LOGIN": "denes",
                                    "szall_mod": "Személyes átvétel",
                                    "(No column name)": "4"
                                },
                                {
                                    "LOGIN": "dora3",
                                    "szall_mod": "Személyes átvétel",
                                    "(No column name)": "164"
                                },
                                {
                                    "LOGIN": "edit",
                                    "szall_mod": "Személyes átvétel",
                                    "(No column name)": "4"
                                },
                                {
                                    "LOGIN": "emese",
                                    "szall_mod": "Személyes átvétel",
                                    "(No column name)": "142"
                                },
                                {
                                    "LOGIN": "eszter2",
                                    "szall_mod": "Személyes átvétel",
                                    "(No column name)": "152"
                                },
                                {
                                    "LOGIN": "eszter4",
                                    "szall_mod": "Személyes átvétel",
                                    "(No column name)": "149"
                                },
                                {
                                    "LOGIN": "ESZTERE",
                                    "szall_mod": "Személyes átvétel",
                                    "(No column name)": "7"
                                },
                                {
                                    "LOGIN": "eva",
                                    "szall_mod": "Személyes átvétel",
                                    "(No column name)": "139"
                                },
                                {
                                    "LOGIN": "eva2",
                                    "szall_mod": "Személyes átvétel",
                                    "(No column name)": "170"
                                },
                                {
                                    "LOGIN": "EVAV",
                                    "szall_mod": "Személyes átvétel",
                                    "(No column name)": "4"
                                },
                                {
                                    "LOGIN": "ferenc1",
                                    "szall_mod": "Személyes átvétel",
                                    "(No column name)": "135"
                                },
                                {
                                    "LOGIN": "fruzsina4",
                                    "szall_mod": "Személyes átvétel",
                                    "(No column name)": "7"
                                },
                                {
                                    "LOGIN": "gabor1",
                                    "szall_mod": "Személyes átvétel",
                                    "(No column name)": "5"
                                },
                                {
                                    "LOGIN": "gabor4",
                                    "szall_mod": "Személyes átvétel",
                                    "(No column name)": "4"
                                },
                                {
                                    "LOGIN": "GABORS",
                                    "szall_mod": "Személyes átvétel",
                                    "(No column name)": "4"
                                },
                                {
                                    "LOGIN": "gabriella1",
                                    "szall_mod": "Személyes átvétel",
                                    "(No column name)": "5"
                                },
                                {
                                    "LOGIN": "gabriella10",
                                    "szall_mod": "Személyes átvétel",
                                    "(No column name)": "7"
                                },
                                {
                                    "LOGIN": "georgij",
                                    "szall_mod": "Személyes átvétel",
                                    "(No column name)": "10"
                                },
                                {
                                    "LOGIN": "gusztav",
                                    "szall_mod": "Személyes átvétel",
                                    "(No column name)": "5"
                                },
                                {
                                    "LOGIN": "GYONGYIK",
                                    "szall_mod": "Személyes átvétel",
                                    "(No column name)": "3"
                                },
                                {
                                    "LOGIN": "GYORGYO",
                                    "szall_mod": "Személyes átvétel",
                                    "(No column name)": "5"
                                },
                                {
                                    "LOGIN": "henrik3",
                                    "szall_mod": "Személyes átvétel",
                                    "(No column name)": "5"
                                },
                                {
                                    "LOGIN": "IBOLYAA",
                                    "szall_mod": "Személyes átvétel",
                                    "(No column name)": "157"
                                },
                                {
                                    "LOGIN": "ilona3",
                                    "szall_mod": "Személyes átvétel",
                                    "(No column name)": "7"
                                },
                                {
                                    "LOGIN": "imre",
                                    "szall_mod": "Személyes átvétel",
                                    "(No column name)": "6"
                                },
                                {
                                    "LOGIN": "imre1",
                                    "szall_mod": "Személyes átvétel",
                                    "(No column name)": "3"
                                },
                                {
                                    "LOGIN": "istvan",
                                    "szall_mod": "Személyes átvétel",
                                    "(No column name)": "4"
                                },
                                {
                                    "LOGIN": "istvan1",
                                    "szall_mod": "Személyes átvétel",
                                    "(No column name)": "7"
                                },
                                {
                                    "LOGIN": "ISTVANV",
                                    "szall_mod": "Személyes átvétel",
                                    "(No column name)": "8"
                                },
                                {
                                    "LOGIN": "janos3",
                                    "szall_mod": "Személyes átvétel",
                                    "(No column name)": "6"
                                },
                                {
                                    "LOGIN": "JANOSG",
                                    "szall_mod": "Személyes átvétel",
                                    "(No column name)": "4"
                                },
                                {
                                    "LOGIN": "JANOSP",
                                    "szall_mod": "Személyes átvétel",
                                    "(No column name)": "3"
                                },
                                {
                                    "LOGIN": "jozsef",
                                    "szall_mod": "Személyes átvétel",
                                    "(No column name)": "134"
                                },
                                {
                                    "LOGIN": "jozsef2",
                                    "szall_mod": "Személyes átvétel",
                                    "(No column name)": "4"
                                },
                                {
                                    "LOGIN": "JOZSEFG",
                                    "szall_mod": "Személyes átvétel",
                                    "(No column name)": "9"
                                },
                                {
                                    "LOGIN": "JUDITH",
                                    "szall_mod": "Személyes átvétel",
                                    "(No column name)": "150"
                                },
                                {
                                    "LOGIN": "julia",
                                    "szall_mod": "Személyes átvétel",
                                    "(No column name)": "138"
                                },
                                {
                                    "LOGIN": "julia4",
                                    "szall_mod": "Személyes átvétel",
                                    "(No column name)": "8"
                                },
                                {
                                    "LOGIN": "julianna4",
                                    "szall_mod": "Személyes átvétel",
                                    "(No column name)": "7"
                                },
                                {
                                    "LOGIN": "kata",
                                    "szall_mod": "Személyes átvétel",
                                    "(No column name)": "3"
                                },
                                {
                                    "LOGIN": "katalin",
                                    "szall_mod": "Személyes átvétel",
                                    "(No column name)": "5"
                                },
                                {
                                    "LOGIN": "katalin4",
                                    "szall_mod": "Személyes átvétel",
                                    "(No column name)": "11"
                                },
                                {
                                    "LOGIN": "kati",
                                    "szall_mod": "Személyes átvétel",
                                    "(No column name)": "4"
                                },
                                {
                                    "LOGIN": "katka",
                                    "szall_mod": "Személyes átvétel",
                                    "(No column name)": "10"
                                },
                                {
                                    "LOGIN": "klaudia2",
                                    "szall_mod": "Személyes átvétel",
                                    "(No column name)": "5"
                                },
                                {
                                    "LOGIN": "kornel4",
                                    "szall_mod": "Személyes átvétel",
                                    "(No column name)": "7"
                                },
                                {
                                    "LOGIN": "kristof4",
                                    "szall_mod": "Személyes átvétel",
                                    "(No column name)": "8"
                                },
                                {
                                    "LOGIN": "kriszti",
                                    "szall_mod": "Személyes átvétel",
                                    "(No column name)": "5"
                                },
                                {
                                    "LOGIN": "krisztian4",
                                    "szall_mod": "Személyes átvétel",
                                    "(No column name)": "6"
                                },
                                {
                                    "LOGIN": "KRISZTIANM",
                                    "szall_mod": "Személyes átvétel",
                                    "(No column name)": "130"
                                },
                                {
                                    "LOGIN": "krisztina",
                                    "szall_mod": "Személyes átvétel",
                                    "(No column name)": "157"
                                },
                                {
                                    "LOGIN": "krisztina1",
                                    "szall_mod": "Személyes átvétel",
                                    "(No column name)": "8"
                                },
                                {
                                    "LOGIN": "KRISZTINAG",
                                    "szall_mod": "Személyes átvétel",
                                    "(No column name)": "10"
                                },
                                {
                                    "LOGIN": "lajos",
                                    "szall_mod": "Személyes átvétel",
                                    "(No column name)": "9"
                                },
                                {
                                    "LOGIN": "lala",
                                    "szall_mod": "Személyes átvétel",
                                    "(No column name)": "9"
                                },
                                {
                                    "LOGIN": "laszlo1",
                                    "szall_mod": "Személyes átvétel",
                                    "(No column name)": "135"
                                },
                                {
                                    "LOGIN": "laszlo2",
                                    "szall_mod": "Személyes átvétel",
                                    "(No column name)": "7"
                                },
                                {
                                    "LOGIN": "LASZLOA",
                                    "szall_mod": "Személyes átvétel",
                                    "(No column name)": "154"
                                },
                                {
                                    "LOGIN": "LASZLON",
                                    "szall_mod": "Személyes átvétel",
                                    "(No column name)": "143"
                                },
                                {
                                    "LOGIN": "maria1",
                                    "szall_mod": "Személyes átvétel",
                                    "(No column name)": "1"
                                },
                                {
                                    "LOGIN": "MARKH",
                                    "szall_mod": "Személyes átvétel",
                                    "(No column name)": "142"
                                },
                                {
                                    "LOGIN": "marton",
                                    "szall_mod": "Személyes átvétel",
                                    "(No column name)": "5"
                                },
                                {
                                    "LOGIN": "MATEK",
                                    "szall_mod": "Személyes átvétel",
                                    "(No column name)": "9"
                                },
                                {
                                    "LOGIN": "matyas2",
                                    "szall_mod": "Személyes átvétel",
                                    "(No column name)": "164"
                                },
                                {
                                    "LOGIN": "MATYASS",
                                    "szall_mod": "Személyes átvétel",
                                    "(No column name)": "3"
                                },
                                {
                                    "LOGIN": "MIHALYJ",
                                    "szall_mod": "Személyes átvétel",
                                    "(No column name)": "6"
                                },
                                {
                                    "LOGIN": "miklos2",
                                    "szall_mod": "Személyes átvétel",
                                    "(No column name)": "2"
                                },
                                {
                                    "LOGIN": "MIKLOSB",
                                    "szall_mod": "Személyes átvétel",
                                    "(No column name)": "8"
                                },
                                {
                                    "LOGIN": "MONIKAM",
                                    "szall_mod": "Személyes átvétel",
                                    "(No column name)": "123"
                                },
                                {
                                    "LOGIN": "NANDORF",
                                    "szall_mod": "Személyes átvétel",
                                    "(No column name)": "134"
                                },
                                {
                                    "LOGIN": "nikolett3",
                                    "szall_mod": "Személyes átvétel",
                                    "(No column name)": "10"
                                },
                                {
                                    "LOGIN": "nikoletta4",
                                    "szall_mod": "Személyes átvétel",
                                    "(No column name)": "119"
                                },
                                {
                                    "LOGIN": "NIKOLETTAT",
                                    "szall_mod": "Személyes átvétel",
                                    "(No column name)": "5"
                                },
                                {
                                    "LOGIN": "norbert4",
                                    "szall_mod": "Személyes átvétel",
                                    "(No column name)": "9"
                                },
                                {
                                    "LOGIN": "norbert5",
                                    "szall_mod": "Személyes átvétel",
                                    "(No column name)": "9"
                                },
                                {
                                    "LOGIN": "pal",
                                    "szall_mod": "Személyes átvétel",
                                    "(No column name)": "154"
                                },
                                {
                                    "LOGIN": "peter1",
                                    "szall_mod": "Személyes átvétel",
                                    "(No column name)": "126"
                                },
                                {
                                    "LOGIN": "peter2",
                                    "szall_mod": "Személyes átvétel",
                                    "(No column name)": "7"
                                },
                                {
                                    "LOGIN": "peter3",
                                    "szall_mod": "Személyes átvétel",
                                    "(No column name)": "10"
                                },
                                {
                                    "LOGIN": "peter4",
                                    "szall_mod": "Személyes átvétel",
                                    "(No column name)": "293"
                                },
                                {
                                    "LOGIN": "PETERB",
                                    "szall_mod": "Személyes átvétel",
                                    "(No column name)": "9"
                                },
                                {
                                    "LOGIN": "polla",
                                    "szall_mod": "Személyes átvétel",
                                    "(No column name)": "7"
                                },
                                {
                                    "LOGIN": "rajmond4",
                                    "szall_mod": "Személyes átvétel",
                                    "(No column name)": "6"
                                },
                                {
                                    "LOGIN": "reka4",
                                    "szall_mod": "Személyes átvétel",
                                    "(No column name)": "11"
                                },
                                {
                                    "LOGIN": "RENATAK",
                                    "szall_mod": "Személyes átvétel",
                                    "(No column name)": "147"
                                },
                                {
                                    "LOGIN": "RENATAS",
                                    "szall_mod": "Személyes átvétel",
                                    "(No column name)": "5"
                                },
                                {
                                    "LOGIN": "robert2",
                                    "szall_mod": "Személyes átvétel",
                                    "(No column name)": "7"
                                },
                                {
                                    "LOGIN": "ROBERTI",
                                    "szall_mod": "Személyes átvétel",
                                    "(No column name)": "5"
                                },
                                {
                                    "LOGIN": "ROBERTP",
                                    "szall_mod": "Személyes átvétel",
                                    "(No column name)": "10"
                                },
                                {
                                    "LOGIN": "roland",
                                    "szall_mod": "Személyes átvétel",
                                    "(No column name)": "125"
                                },
                                {
                                    "LOGIN": "roland1",
                                    "szall_mod": "Személyes átvétel",
                                    "(No column name)": "135"
                                },
                                {
                                    "LOGIN": "roza2",
                                    "szall_mod": "Személyes átvétel",
                                    "(No column name)": "3"
                                },
                                {
                                    "LOGIN": "sandor",
                                    "szall_mod": "Személyes átvétel",
                                    "(No column name)": "7"
                                },
                                {
                                    "LOGIN": "sandor3",
                                    "szall_mod": "Személyes átvétel",
                                    "(No column name)": "6"
                                },
                                {
                                    "LOGIN": "sandor4",
                                    "szall_mod": "Személyes átvétel",
                                    "(No column name)": "5"
                                },
                                {
                                    "LOGIN": "sara",
                                    "szall_mod": "Személyes átvétel",
                                    "(No column name)": "9"
                                },
                                {
                                    "LOGIN": "SEBASTIANF",
                                    "szall_mod": "Személyes átvétel",
                                    "(No column name)": "6"
                                },
                                {
                                    "LOGIN": "sebestyen",
                                    "szall_mod": "Személyes átvétel",
                                    "(No column name)": "6"
                                },
                                {
                                    "LOGIN": "szabolcs",
                                    "szall_mod": "Személyes átvétel",
                                    "(No column name)": "169"
                                },
                                {
                                    "LOGIN": "SZABOLCSM",
                                    "szall_mod": "Személyes átvétel",
                                    "(No column name)": "129"
                                },
                                {
                                    "LOGIN": "SZILARDS",
                                    "szall_mod": "Személyes átvétel",
                                    "(No column name)": "111"
                                },
                                {
                                    "LOGIN": "szilvia1",
                                    "szall_mod": "Személyes átvétel",
                                    "(No column name)": "138"
                                },
                                {
                                    "LOGIN": "tamara2",
                                    "szall_mod": "Személyes átvétel",
                                    "(No column name)": "3"
                                },
                                {
                                    "LOGIN": "tamas",
                                    "szall_mod": "Személyes átvétel",
                                    "(No column name)": "122"
                                },
                                {
                                    "LOGIN": "TAMASF",
                                    "szall_mod": "Személyes átvétel",
                                    "(No column name)": "129"
                                },
                                {
                                    "LOGIN": "tibor",
                                    "szall_mod": "Személyes átvétel",
                                    "(No column name)": "130"
                                },
                                {
                                    "LOGIN": "tibor2",
                                    "szall_mod": "Személyes átvétel",
                                    "(No column name)": "11"
                                },
                                {
                                    "LOGIN": "tihamer",
                                    "szall_mod": "Személyes átvétel",
                                    "(No column name)": "5"
                                },
                                {
                                    "LOGIN": "timea",
                                    "szall_mod": "Személyes átvétel",
                                    "(No column name)": "18"
                                },
                                {
                                    "LOGIN": "timea2",
                                    "szall_mod": "Személyes átvétel",
                                    "(No column name)": "10"
                                },
                                {
                                    "LOGIN": "tunde",
                                    "szall_mod": "Személyes átvétel",
                                    "(No column name)": "4"
                                },
                                {
                                    "LOGIN": "valentin",
                                    "szall_mod": "Személyes átvétel",
                                    "(No column name)": "3"
                                },
                                {
                                    "LOGIN": "veronika4",
                                    "szall_mod": "Személyes átvétel",
                                    "(No column name)": "7"
                                },
                                {
                                    "LOGIN": "VIKTORIAU",
                                    "szall_mod": "Személyes átvétel",
                                    "(No column name)": "5"
                                },
                                {
                                    "LOGIN": "VIKTORK",
                                    "szall_mod": "Személyes átvétel",
                                    "(No column name)": "6"
                                },
                                {
                                    "LOGIN": "vivien3",
                                    "szall_mod": "Személyes átvétel",
                                    "(No column name)": "7"
                                },
                                {
                                    "LOGIN": "zoltan",
                                    "szall_mod": "Személyes átvétel",
                                    "(No column name)": "7"
                                },
                                {
                                    "LOGIN": "zoltan4",
                                    "szall_mod": "Személyes átvétel",
                                    "(No column name)": "171"
                                },
                                {
                                    "LOGIN": "ZOLTANP",
                                    "szall_mod": "Személyes átvétel",
                                    "(No column name)": "4"
                                },
                                {
                                    "LOGIN": "ZOLTANT",
                                    "szall_mod": "Személyes átvétel",
                                    "(No column name)": "123"
                                },
                                {
                                    "LOGIN": "zsofi1",
                                    "szall_mod": "Személyes átvétel",
                                    "(No column name)": "6"
                                },
                                {
                                    "LOGIN": "zsolt1",
                                    "szall_mod": "Személyes átvétel",
                                    "(No column name)": "3"
                                },
                                {
                                    "LOGIN": "ZSOLTJ",
                                    "szall_mod": "Személyes átvétel",
                                    "(No column name)": "9"
                                },
                                {
                                    "LOGIN": "zsuzsa",
                                    "szall_mod": "Személyes átvétel",
                                    "(No column name)": "3"
                                },
                                {
                                    "LOGIN": "zsuzsa3",
                                    "szall_mod": "Személyes átvétel",
                                    "(No column name)": "6"
                                },
                                {
                                    "LOGIN": "zsuzsanna",
                                    "szall_mod": "Személyes átvétel",
                                    "(No column name)": "3"
                                },
                                {
                                    "LOGIN": "ZSUZSAV",
                                    "szall_mod": "Személyes átvétel",
                                    "(No column name)": "142"
                                },
                                {
                                    "LOGIN": "NULL",
                                    "szall_mod": "Személyes átvétel",
                                    "(No column name)": "9468"
                                },
                                {
                                    "LOGIN": "NULL",
                                    "szall_mod": "NULL",
                                    "(No column name)": "28085"
                                },
                                {
                                    "LOGIN": "adam1",
                                    "szall_mod": "NULL",
                                    "(No column name)": "392"
                                },
                                {
                                    "LOGIN": "adam3",
                                    "szall_mod": "NULL",
                                    "(No column name)": "15"
                                },
                                {
                                    "LOGIN": "adam4",
                                    "szall_mod": "NULL",
                                    "(No column name)": "29"
                                },
                                {
                                    "LOGIN": "agnes",
                                    "szall_mod": "NULL",
                                    "(No column name)": "418"
                                },
                                {
                                    "LOGIN": "agnes3",
                                    "szall_mod": "NULL",
                                    "(No column name)": "430"
                                },
                                {
                                    "LOGIN": "AGNESH",
                                    "szall_mod": "NULL",
                                    "(No column name)": "11"
                                },
                                {
                                    "LOGIN": "AGNESK",
                                    "szall_mod": "NULL",
                                    "(No column name)": "15"
                                },
                                {
                                    "LOGIN": "akos",
                                    "szall_mod": "NULL",
                                    "(No column name)": "429"
                                },
                                {
                                    "LOGIN": "aladar",
                                    "szall_mod": "NULL",
                                    "(No column name)": "408"
                                },
                                {
                                    "LOGIN": "alexandra",
                                    "szall_mod": "NULL",
                                    "(No column name)": "19"
                                },
                                {
                                    "LOGIN": "andi",
                                    "szall_mod": "NULL",
                                    "(No column name)": "18"
                                },
                                {
                                    "LOGIN": "andras2",
                                    "szall_mod": "NULL",
                                    "(No column name)": "22"
                                },
                                {
                                    "LOGIN": "andras21",
                                    "szall_mod": "NULL",
                                    "(No column name)": "390"
                                },
                                {
                                    "LOGIN": "andras3",
                                    "szall_mod": "NULL",
                                    "(No column name)": "9"
                                },
                                {
                                    "LOGIN": "andras4",
                                    "szall_mod": "NULL",
                                    "(No column name)": "12"
                                },
                                {
                                    "LOGIN": "andras41",
                                    "szall_mod": "NULL",
                                    "(No column name)": "419"
                                },
                                {
                                    "LOGIN": "ANDRASE",
                                    "szall_mod": "NULL",
                                    "(No column name)": "436"
                                },
                                {
                                    "LOGIN": "ANDRASN",
                                    "szall_mod": "NULL",
                                    "(No column name)": "24"
                                },
                                {
                                    "LOGIN": "andrea",
                                    "szall_mod": "NULL",
                                    "(No column name)": "24"
                                },
                                {
                                    "LOGIN": "andrea3",
                                    "szall_mod": "NULL",
                                    "(No column name)": "413"
                                },
                                {
                                    "LOGIN": "andrea4",
                                    "szall_mod": "NULL",
                                    "(No column name)": "18"
                                },
                                {
                                    "LOGIN": "ANDREAT",
                                    "szall_mod": "NULL",
                                    "(No column name)": "21"
                                },
                                {
                                    "LOGIN": "anett3",
                                    "szall_mod": "NULL",
                                    "(No column name)": "18"
                                },
                                {
                                    "LOGIN": "aniko",
                                    "szall_mod": "NULL",
                                    "(No column name)": "403"
                                },
                                {
                                    "LOGIN": "aniko4",
                                    "szall_mod": "NULL",
                                    "(No column name)": "15"
                                },
                                {
                                    "LOGIN": "ANIKOS",
                                    "szall_mod": "NULL",
                                    "(No column name)": "404"
                                },
                                {
                                    "LOGIN": "anita",
                                    "szall_mod": "NULL",
                                    "(No column name)": "12"
                                },
                                {
                                    "LOGIN": "annamaria1",
                                    "szall_mod": "NULL",
                                    "(No column name)": "16"
                                },
                                {
                                    "LOGIN": "ANNAMARIAR",
                                    "szall_mod": "NULL",
                                    "(No column name)": "13"
                                },
                                {
                                    "LOGIN": "aron2",
                                    "szall_mod": "NULL",
                                    "(No column name)": "409"
                                },
                                {
                                    "LOGIN": "ARONK",
                                    "szall_mod": "NULL",
                                    "(No column name)": "430"
                                },
                                {
                                    "LOGIN": "arpad2",
                                    "szall_mod": "NULL",
                                    "(No column name)": "17"
                                },
                                {
                                    "LOGIN": "ARPADH",
                                    "szall_mod": "NULL",
                                    "(No column name)": "14"
                                },
                                {
                                    "LOGIN": "ARPADM",
                                    "szall_mod": "NULL",
                                    "(No column name)": "16"
                                },
                                {
                                    "LOGIN": "attila1",
                                    "szall_mod": "NULL",
                                    "(No column name)": "18"
                                },
                                {
                                    "LOGIN": "attila4",
                                    "szall_mod": "NULL",
                                    "(No column name)": "401"
                                },
                                {
                                    "LOGIN": "ATTILAO",
                                    "szall_mod": "NULL",
                                    "(No column name)": "14"
                                },
                                {
                                    "LOGIN": "balazs1",
                                    "szall_mod": "NULL",
                                    "(No column name)": "419"
                                },
                                {
                                    "LOGIN": "balazs2",
                                    "szall_mod": "NULL",
                                    "(No column name)": "17"
                                },
                                {
                                    "LOGIN": "balazs3",
                                    "szall_mod": "NULL",
                                    "(No column name)": "15"
                                },
                                {
                                    "LOGIN": "balint",
                                    "szall_mod": "NULL",
                                    "(No column name)": "16"
                                },
                                {
                                    "LOGIN": "balint1",
                                    "szall_mod": "NULL",
                                    "(No column name)": "462"
                                },
                                {
                                    "LOGIN": "balint2",
                                    "szall_mod": "NULL",
                                    "(No column name)": "17"
                                },
                                {
                                    "LOGIN": "balu",
                                    "szall_mod": "NULL",
                                    "(No column name)": "387"
                                },
                                {
                                    "LOGIN": "BEATRIXK",
                                    "szall_mod": "NULL",
                                    "(No column name)": "435"
                                },
                                {
                                    "LOGIN": "BEATRIXS",
                                    "szall_mod": "NULL",
                                    "(No column name)": "420"
                                },
                                {
                                    "LOGIN": "BELAF",
                                    "szall_mod": "NULL",
                                    "(No column name)": "18"
                                },
                                {
                                    "LOGIN": "bence",
                                    "szall_mod": "NULL",
                                    "(No column name)": "18"
                                },
                                {
                                    "LOGIN": "BENCEB",
                                    "szall_mod": "NULL",
                                    "(No column name)": "17"
                                },
                                {
                                    "LOGIN": "bernadett1",
                                    "szall_mod": "NULL",
                                    "(No column name)": "20"
                                },
                                {
                                    "LOGIN": "bernadett2",
                                    "szall_mod": "NULL",
                                    "(No column name)": "15"
                                },
                                {
                                    "LOGIN": "BERNADETTO",
                                    "szall_mod": "NULL",
                                    "(No column name)": "16"
                                },
                                {
                                    "LOGIN": "bertalan",
                                    "szall_mod": "NULL",
                                    "(No column name)": "353"
                                },
                                {
                                    "LOGIN": "brigitta",
                                    "szall_mod": "NULL",
                                    "(No column name)": "393"
                                },
                                {
                                    "LOGIN": "brigitta3",
                                    "szall_mod": "NULL",
                                    "(No column name)": "413"
                                },
                                {
                                    "LOGIN": "csongor3",
                                    "szall_mod": "NULL",
                                    "(No column name)": "15"
                                },
                                {
                                    "LOGIN": "dani",
                                    "szall_mod": "NULL",
                                    "(No column name)": "13"
                                },
                                {
                                    "LOGIN": "daniel",
                                    "szall_mod": "NULL",
                                    "(No column name)": "13"
                                },
                                {
                                    "LOGIN": "daniel1",
                                    "szall_mod": "NULL",
                                    "(No column name)": "419"
                                },
                                {
                                    "LOGIN": "david",
                                    "szall_mod": "NULL",
                                    "(No column name)": "451"
                                },
                                {
                                    "LOGIN": "david1",
                                    "szall_mod": "NULL",
                                    "(No column name)": "17"
                                },
                                {
                                    "LOGIN": "david4",
                                    "szall_mod": "NULL",
                                    "(No column name)": "21"
                                },
                                {
                                    "LOGIN": "debora",
                                    "szall_mod": "NULL",
                                    "(No column name)": "16"
                                },
                                {
                                    "LOGIN": "denes",
                                    "szall_mod": "NULL",
                                    "(No column name)": "9"
                                },
                                {
                                    "LOGIN": "dora3",
                                    "szall_mod": "NULL",
                                    "(No column name)": "432"
                                },
                                {
                                    "LOGIN": "edit",
                                    "szall_mod": "NULL",
                                    "(No column name)": "13"
                                },
                                {
                                    "LOGIN": "emese",
                                    "szall_mod": "NULL",
                                    "(No column name)": "406"
                                },
                                {
                                    "LOGIN": "eszter2",
                                    "szall_mod": "NULL",
                                    "(No column name)": "415"
                                },
                                {
                                    "LOGIN": "eszter4",
                                    "szall_mod": "NULL",
                                    "(No column name)": "424"
                                },
                                {
                                    "LOGIN": "ESZTERE",
                                    "szall_mod": "NULL",
                                    "(No column name)": "22"
                                },
                                {
                                    "LOGIN": "eva",
                                    "szall_mod": "NULL",
                                    "(No column name)": "404"
                                },
                                {
                                    "LOGIN": "eva2",
                                    "szall_mod": "NULL",
                                    "(No column name)": "462"
                                },
                                {
                                    "LOGIN": "EVAV",
                                    "szall_mod": "NULL",
                                    "(No column name)": "7"
                                },
                                {
                                    "LOGIN": "ferenc1",
                                    "szall_mod": "NULL",
                                    "(No column name)": "437"
                                },
                                {
                                    "LOGIN": "fruzsina4",
                                    "szall_mod": "NULL",
                                    "(No column name)": "18"
                                },
                                {
                                    "LOGIN": "gabor1",
                                    "szall_mod": "NULL",
                                    "(No column name)": "19"
                                },
                                {
                                    "LOGIN": "gabor4",
                                    "szall_mod": "NULL",
                                    "(No column name)": "20"
                                },
                                {
                                    "LOGIN": "GABORS",
                                    "szall_mod": "NULL",
                                    "(No column name)": "15"
                                },
                                {
                                    "LOGIN": "gabriella1",
                                    "szall_mod": "NULL",
                                    "(No column name)": "14"
                                },
                                {
                                    "LOGIN": "gabriella10",
                                    "szall_mod": "NULL",
                                    "(No column name)": "16"
                                },
                                {
                                    "LOGIN": "georgij",
                                    "szall_mod": "NULL",
                                    "(No column name)": "21"
                                },
                                {
                                    "LOGIN": "gusztav",
                                    "szall_mod": "NULL",
                                    "(No column name)": "14"
                                },
                                {
                                    "LOGIN": "GYONGYIK",
                                    "szall_mod": "NULL",
                                    "(No column name)": "15"
                                },
                                {
                                    "LOGIN": "GYORGYO",
                                    "szall_mod": "NULL",
                                    "(No column name)": "16"
                                },
                                {
                                    "LOGIN": "henrik3",
                                    "szall_mod": "NULL",
                                    "(No column name)": "16"
                                },
                                {
                                    "LOGIN": "IBOLYAA",
                                    "szall_mod": "NULL",
                                    "(No column name)": "422"
                                },
                                {
                                    "LOGIN": "ilona3",
                                    "szall_mod": "NULL",
                                    "(No column name)": "18"
                                },
                                {
                                    "LOGIN": "imre",
                                    "szall_mod": "NULL",
                                    "(No column name)": "15"
                                },
                                {
                                    "LOGIN": "imre1",
                                    "szall_mod": "NULL",
                                    "(No column name)": "15"
                                },
                                {
                                    "LOGIN": "istvan",
                                    "szall_mod": "NULL",
                                    "(No column name)": "11"
                                },
                                {
                                    "LOGIN": "istvan1",
                                    "szall_mod": "NULL",
                                    "(No column name)": "19"
                                },
                                {
                                    "LOGIN": "ISTVANV",
                                    "szall_mod": "NULL",
                                    "(No column name)": "21"
                                },
                                {
                                    "LOGIN": "janos3",
                                    "szall_mod": "NULL",
                                    "(No column name)": "13"
                                },
                                {
                                    "LOGIN": "JANOSG",
                                    "szall_mod": "NULL",
                                    "(No column name)": "10"
                                },
                                {
                                    "LOGIN": "JANOSP",
                                    "szall_mod": "NULL",
                                    "(No column name)": "17"
                                },
                                {
                                    "LOGIN": "jozsef",
                                    "szall_mod": "NULL",
                                    "(No column name)": "382"
                                },
                                {
                                    "LOGIN": "jozsef2",
                                    "szall_mod": "NULL",
                                    "(No column name)": "13"
                                },
                                {
                                    "LOGIN": "JOZSEFG",
                                    "szall_mod": "NULL",
                                    "(No column name)": "21"
                                },
                                {
                                    "LOGIN": "JUDITH",
                                    "szall_mod": "NULL",
                                    "(No column name)": "450"
                                },
                                {
                                    "LOGIN": "julia",
                                    "szall_mod": "NULL",
                                    "(No column name)": "435"
                                },
                                {
                                    "LOGIN": "julia4",
                                    "szall_mod": "NULL",
                                    "(No column name)": "14"
                                },
                                {
                                    "LOGIN": "julianna4",
                                    "szall_mod": "NULL",
                                    "(No column name)": "27"
                                },
                                {
                                    "LOGIN": "kata",
                                    "szall_mod": "NULL",
                                    "(No column name)": "12"
                                },
                                {
                                    "LOGIN": "katalin",
                                    "szall_mod": "NULL",
                                    "(No column name)": "19"
                                },
                                {
                                    "LOGIN": "katalin4",
                                    "szall_mod": "NULL",
                                    "(No column name)": "23"
                                },
                                {
                                    "LOGIN": "kati",
                                    "szall_mod": "NULL",
                                    "(No column name)": "13"
                                },
                                {
                                    "LOGIN": "katka",
                                    "szall_mod": "NULL",
                                    "(No column name)": "22"
                                },
                                {
                                    "LOGIN": "klaudia2",
                                    "szall_mod": "NULL",
                                    "(No column name)": "17"
                                },
                                {
                                    "LOGIN": "kornel4",
                                    "szall_mod": "NULL",
                                    "(No column name)": "11"
                                },
                                {
                                    "LOGIN": "kristof4",
                                    "szall_mod": "NULL",
                                    "(No column name)": "21"
                                },
                                {
                                    "LOGIN": "kriszti",
                                    "szall_mod": "NULL",
                                    "(No column name)": "13"
                                },
                                {
                                    "LOGIN": "krisztian4",
                                    "szall_mod": "NULL",
                                    "(No column name)": "17"
                                },
                                {
                                    "LOGIN": "KRISZTIANM",
                                    "szall_mod": "NULL",
                                    "(No column name)": "384"
                                },
                                {
                                    "LOGIN": "krisztina",
                                    "szall_mod": "NULL",
                                    "(No column name)": "456"
                                },
                                {
                                    "LOGIN": "krisztina1",
                                    "szall_mod": "NULL",
                                    "(No column name)": "22"
                                },
                                {
                                    "LOGIN": "KRISZTINAG",
                                    "szall_mod": "NULL",
                                    "(No column name)": "22"
                                },
                                {
                                    "LOGIN": "lajos",
                                    "szall_mod": "NULL",
                                    "(No column name)": "16"
                                },
                                {
                                    "LOGIN": "lala",
                                    "szall_mod": "NULL",
                                    "(No column name)": "17"
                                },
                                {
                                    "LOGIN": "laszlo1",
                                    "szall_mod": "NULL",
                                    "(No column name)": "394"
                                },
                                {
                                    "LOGIN": "laszlo2",
                                    "szall_mod": "NULL",
                                    "(No column name)": "25"
                                },
                                {
                                    "LOGIN": "LASZLOA",
                                    "szall_mod": "NULL",
                                    "(No column name)": "446"
                                },
                                {
                                    "LOGIN": "LASZLON",
                                    "szall_mod": "NULL",
                                    "(No column name)": "400"
                                },
                                {
                                    "LOGIN": "maria1",
                                    "szall_mod": "NULL",
                                    "(No column name)": "10"
                                },
                                {
                                    "LOGIN": "MARKH",
                                    "szall_mod": "NULL",
                                    "(No column name)": "412"
                                },
                                {
                                    "LOGIN": "marton",
                                    "szall_mod": "NULL",
                                    "(No column name)": "14"
                                },
                                {
                                    "LOGIN": "MATEK",
                                    "szall_mod": "NULL",
                                    "(No column name)": "25"
                                },
                                {
                                    "LOGIN": "matyas2",
                                    "szall_mod": "NULL",
                                    "(No column name)": "433"
                                },
                                {
                                    "LOGIN": "MATYASS",
                                    "szall_mod": "NULL",
                                    "(No column name)": "12"
                                },
                                {
                                    "LOGIN": "MIHALYJ",
                                    "szall_mod": "NULL",
                                    "(No column name)": "13"
                                },
                                {
                                    "LOGIN": "miklos2",
                                    "szall_mod": "NULL",
                                    "(No column name)": "13"
                                },
                                {
                                    "LOGIN": "MIKLOSB",
                                    "szall_mod": "NULL",
                                    "(No column name)": "15"
                                },
                                {
                                    "LOGIN": "MONIKAM",
                                    "szall_mod": "NULL",
                                    "(No column name)": "407"
                                },
                                {
                                    "LOGIN": "NANDORF",
                                    "szall_mod": "NULL",
                                    "(No column name)": "420"
                                },
                                {
                                    "LOGIN": "nikolett3",
                                    "szall_mod": "NULL",
                                    "(No column name)": "17"
                                },
                                {
                                    "LOGIN": "nikoletta4",
                                    "szall_mod": "NULL",
                                    "(No column name)": "414"
                                },
                                {
                                    "LOGIN": "NIKOLETTAT",
                                    "szall_mod": "NULL",
                                    "(No column name)": "25"
                                },
                                {
                                    "LOGIN": "norbert2",
                                    "szall_mod": "NULL",
                                    "(No column name)": "11"
                                },
                                {
                                    "LOGIN": "norbert4",
                                    "szall_mod": "NULL",
                                    "(No column name)": "13"
                                },
                                {
                                    "LOGIN": "norbert5",
                                    "szall_mod": "NULL",
                                    "(No column name)": "16"
                                },
                                {
                                    "LOGIN": "pal",
                                    "szall_mod": "NULL",
                                    "(No column name)": "438"
                                },
                                {
                                    "LOGIN": "peter1",
                                    "szall_mod": "NULL",
                                    "(No column name)": "412"
                                },
                                {
                                    "LOGIN": "peter2",
                                    "szall_mod": "NULL",
                                    "(No column name)": "18"
                                },
                                {
                                    "LOGIN": "peter3",
                                    "szall_mod": "NULL",
                                    "(No column name)": "25"
                                },
                                {
                                    "LOGIN": "peter4",
                                    "szall_mod": "NULL",
                                    "(No column name)": "852"
                                },
                                {
                                    "LOGIN": "PETERB",
                                    "szall_mod": "NULL",
                                    "(No column name)": "15"
                                },
                                {
                                    "LOGIN": "polla",
                                    "szall_mod": "NULL",
                                    "(No column name)": "22"
                                },
                                {
                                    "LOGIN": "rajmond4",
                                    "szall_mod": "NULL",
                                    "(No column name)": "17"
                                },
                                {
                                    "LOGIN": "reka4",
                                    "szall_mod": "NULL",
                                    "(No column name)": "20"
                                },
                                {
                                    "LOGIN": "RENATAK",
                                    "szall_mod": "NULL",
                                    "(No column name)": "422"
                                },
                                {
                                    "LOGIN": "RENATAS",
                                    "szall_mod": "NULL",
                                    "(No column name)": "16"
                                },
                                {
                                    "LOGIN": "robert2",
                                    "szall_mod": "NULL",
                                    "(No column name)": "13"
                                },
                                {
                                    "LOGIN": "ROBERTI",
                                    "szall_mod": "NULL",
                                    "(No column name)": "13"
                                },
                                {
                                    "LOGIN": "ROBERTP",
                                    "szall_mod": "NULL",
                                    "(No column name)": "26"
                                },
                                {
                                    "LOGIN": "roland",
                                    "szall_mod": "NULL",
                                    "(No column name)": "414"
                                },
                                {
                                    "LOGIN": "roland1",
                                    "szall_mod": "NULL",
                                    "(No column name)": "432"
                                },
                                {
                                    "LOGIN": "roza2",
                                    "szall_mod": "NULL",
                                    "(No column name)": "8"
                                },
                                {
                                    "LOGIN": "sandor",
                                    "szall_mod": "NULL",
                                    "(No column name)": "17"
                                },
                                {
                                    "LOGIN": "sandor3",
                                    "szall_mod": "NULL",
                                    "(No column name)": "14"
                                },
                                {
                                    "LOGIN": "sandor4",
                                    "szall_mod": "NULL",
                                    "(No column name)": "11"
                                },
                                {
                                    "LOGIN": "sara",
                                    "szall_mod": "NULL",
                                    "(No column name)": "20"
                                },
                                {
                                    "LOGIN": "SEBASTIANF",
                                    "szall_mod": "NULL",
                                    "(No column name)": "15"
                                },
                                {
                                    "LOGIN": "sebestyen",
                                    "szall_mod": "NULL",
                                    "(No column name)": "16"
                                },
                                {
                                    "LOGIN": "szabolcs",
                                    "szall_mod": "NULL",
                                    "(No column name)": "471"
                                },
                                {
                                    "LOGIN": "SZABOLCSM",
                                    "szall_mod": "NULL",
                                    "(No column name)": "408"
                                },
                                {
                                    "LOGIN": "SZILARDS",
                                    "szall_mod": "NULL",
                                    "(No column name)": "386"
                                },
                                {
                                    "LOGIN": "szilvia1",
                                    "szall_mod": "NULL",
                                    "(No column name)": "445"
                                },
                                {
                                    "LOGIN": "tamara2",
                                    "szall_mod": "NULL",
                                    "(No column name)": "13"
                                },
                                {
                                    "LOGIN": "tamas",
                                    "szall_mod": "NULL",
                                    "(No column name)": "421"
                                },
                                {
                                    "LOGIN": "TAMASF",
                                    "szall_mod": "NULL",
                                    "(No column name)": "433"
                                },
                                {
                                    "LOGIN": "tibor",
                                    "szall_mod": "NULL",
                                    "(No column name)": "374"
                                },
                                {
                                    "LOGIN": "tibor2",
                                    "szall_mod": "NULL",
                                    "(No column name)": "25"
                                },
                                {
                                    "LOGIN": "tihamer",
                                    "szall_mod": "NULL",
                                    "(No column name)": "20"
                                },
                                {
                                    "LOGIN": "timea",
                                    "szall_mod": "NULL",
                                    "(No column name)": "55"
                                },
                                {
                                    "LOGIN": "timea2",
                                    "szall_mod": "NULL",
                                    "(No column name)": "16"
                                },
                                {
                                    "LOGIN": "tunde",
                                    "szall_mod": "NULL",
                                    "(No column name)": "16"
                                },
                                {
                                    "LOGIN": "valentin",
                                    "szall_mod": "NULL",
                                    "(No column name)": "13"
                                },
                                {
                                    "LOGIN": "veronika4",
                                    "szall_mod": "NULL",
                                    "(No column name)": "18"
                                },
                                {
                                    "LOGIN": "VIKTORIAU",
                                    "szall_mod": "NULL",
                                    "(No column name)": "14"
                                },
                                {
                                    "LOGIN": "VIKTORK",
                                    "szall_mod": "NULL",
                                    "(No column name)": "20"
                                },
                                {
                                    "LOGIN": "vivien3",
                                    "szall_mod": "NULL",
                                    "(No column name)": "22"
                                },
                                {
                                    "LOGIN": "zoltan",
                                    "szall_mod": "NULL",
                                    "(No column name)": "15"
                                },
                                {
                                    "LOGIN": "zoltan4",
                                    "szall_mod": "NULL",
                                    "(No column name)": "424"
                                },
                                {
                                    "LOGIN": "ZOLTANP",
                                    "szall_mod": "NULL",
                                    "(No column name)": "13"
                                },
                                {
                                    "LOGIN": "ZOLTANT",
                                    "szall_mod": "NULL",
                                    "(No column name)": "357"
                                },
                                {
                                    "LOGIN": "zsofi1",
                                    "szall_mod": "NULL",
                                    "(No column name)": "19"
                                },
                                {
                                    "LOGIN": "zsolt1",
                                    "szall_mod": "NULL",
                                    "(No column name)": "20"
                                },
                                {
                                    "LOGIN": "ZSOLTJ",
                                    "szall_mod": "NULL",
                                    "(No column name)": "18"
                                },
                                {
                                    "LOGIN": "zsuzsa",
                                    "szall_mod": "NULL",
                                    "(No column name)": "16"
                                },
                                {
                                    "LOGIN": "zsuzsa3",
                                    "szall_mod": "NULL",
                                    "(No column name)": "16"
                                },
                                {
                                    "LOGIN": "zsuzsanna",
                                    "szall_mod": "NULL",
                                    "(No column name)": "15"
                                },
                                {
                                    "LOGIN": "ZSUZSAV",
                                    "szall_mod": "NULL",
                                    "(No column name)": "420"
                                }
                            ]
                        },
                        "text/html": [
                            "<table>",
                            "<tr><th>LOGIN</th><th>szall_mod</th><th>(No column name)</th></tr>",
                            "<tr><td>adam1</td><td>GLS</td><td>129</td></tr>",
                            "<tr><td>adam3</td><td>GLS</td><td>10</td></tr>",
                            "<tr><td>adam4</td><td>GLS</td><td>12</td></tr>",
                            "<tr><td>agnes</td><td>GLS</td><td>144</td></tr>",
                            "<tr><td>agnes3</td><td>GLS</td><td>148</td></tr>",
                            "<tr><td>AGNESH</td><td>GLS</td><td>2</td></tr>",
                            "<tr><td>AGNESK</td><td>GLS</td><td>1</td></tr>",
                            "<tr><td>akos</td><td>GLS</td><td>146</td></tr>",
                            "<tr><td>aladar</td><td>GLS</td><td>156</td></tr>",
                            "<tr><td>alexandra</td><td>GLS</td><td>5</td></tr>",
                            "<tr><td>andi</td><td>GLS</td><td>7</td></tr>",
                            "<tr><td>andras2</td><td>GLS</td><td>4</td></tr>",
                            "<tr><td>andras21</td><td>GLS</td><td>140</td></tr>",
                            "<tr><td>andras3</td><td>GLS</td><td>3</td></tr>",
                            "<tr><td>andras4</td><td>GLS</td><td>4</td></tr>",
                            "<tr><td>andras41</td><td>GLS</td><td>149</td></tr>",
                            "<tr><td>ANDRASE</td><td>GLS</td><td>159</td></tr>",
                            "<tr><td>ANDRASN</td><td>GLS</td><td>10</td></tr>",
                            "<tr><td>andrea</td><td>GLS</td><td>12</td></tr>",
                            "<tr><td>andrea3</td><td>GLS</td><td>131</td></tr>",
                            "<tr><td>andrea4</td><td>GLS</td><td>7</td></tr>",
                            "<tr><td>ANDREAT</td><td>GLS</td><td>3</td></tr>",
                            "<tr><td>anett3</td><td>GLS</td><td>3</td></tr>",
                            "<tr><td>aniko</td><td>GLS</td><td>128</td></tr>",
                            "<tr><td>aniko4</td><td>GLS</td><td>6</td></tr>",
                            "<tr><td>ANIKOS</td><td>GLS</td><td>128</td></tr>",
                            "<tr><td>anita</td><td>GLS</td><td>5</td></tr>",
                            "<tr><td>annamaria1</td><td>GLS</td><td>5</td></tr>",
                            "<tr><td>ANNAMARIAR</td><td>GLS</td><td>8</td></tr>",
                            "<tr><td>aron2</td><td>GLS</td><td>132</td></tr>",
                            "<tr><td>ARONK</td><td>GLS</td><td>155</td></tr>",
                            "<tr><td>arpad2</td><td>GLS</td><td>6</td></tr>",
                            "<tr><td>ARPADH</td><td>GLS</td><td>6</td></tr>",
                            "<tr><td>ARPADM</td><td>GLS</td><td>6</td></tr>",
                            "<tr><td>attila1</td><td>GLS</td><td>5</td></tr>",
                            "<tr><td>attila4</td><td>GLS</td><td>135</td></tr>",
                            "<tr><td>ATTILAO</td><td>GLS</td><td>4</td></tr>",
                            "<tr><td>balazs1</td><td>GLS</td><td>128</td></tr>",
                            "<tr><td>balazs2</td><td>GLS</td><td>5</td></tr>",
                            "<tr><td>balazs3</td><td>GLS</td><td>6</td></tr>",
                            "<tr><td>balint</td><td>GLS</td><td>10</td></tr>",
                            "<tr><td>balint1</td><td>GLS</td><td>158</td></tr>",
                            "<tr><td>balint2</td><td>GLS</td><td>8</td></tr>",
                            "<tr><td>balu</td><td>GLS</td><td>127</td></tr>",
                            "<tr><td>BEATRIXK</td><td>GLS</td><td>135</td></tr>",
                            "<tr><td>BEATRIXS</td><td>GLS</td><td>146</td></tr>",
                            "<tr><td>BELAF</td><td>GLS</td><td>11</td></tr>",
                            "<tr><td>bence</td><td>GLS</td><td>4</td></tr>",
                            "<tr><td>BENCEB</td><td>GLS</td><td>5</td></tr>",
                            "<tr><td>bernadett1</td><td>GLS</td><td>10</td></tr>",
                            "<tr><td>bernadett2</td><td>GLS</td><td>6</td></tr>",
                            "<tr><td>BERNADETTO</td><td>GLS</td><td>7</td></tr>",
                            "<tr><td>bertalan</td><td>GLS</td><td>128</td></tr>",
                            "<tr><td>brigitta</td><td>GLS</td><td>137</td></tr>",
                            "<tr><td>brigitta3</td><td>GLS</td><td>144</td></tr>",
                            "<tr><td>csongor3</td><td>GLS</td><td>5</td></tr>",
                            "<tr><td>dani</td><td>GLS</td><td>5</td></tr>",
                            "<tr><td>daniel</td><td>GLS</td><td>7</td></tr>",
                            "<tr><td>daniel1</td><td>GLS</td><td>156</td></tr>",
                            "<tr><td>david</td><td>GLS</td><td>161</td></tr>",
                            "<tr><td>david1</td><td>GLS</td><td>8</td></tr>",
                            "<tr><td>david4</td><td>GLS</td><td>3</td></tr>",
                            "<tr><td>debora</td><td>GLS</td><td>7</td></tr>",
                            "<tr><td>denes</td><td>GLS</td><td>3</td></tr>",
                            "<tr><td>dora3</td><td>GLS</td><td>144</td></tr>",
                            "<tr><td>edit</td><td>GLS</td><td>7</td></tr>",
                            "<tr><td>emese</td><td>GLS</td><td>128</td></tr>",
                            "<tr><td>eszter2</td><td>GLS</td><td>127</td></tr>",
                            "<tr><td>eszter4</td><td>GLS</td><td>141</td></tr>",
                            "<tr><td>ESZTERE</td><td>GLS</td><td>6</td></tr>",
                            "<tr><td>eva</td><td>GLS</td><td>125</td></tr>",
                            "<tr><td>eva2</td><td>GLS</td><td>154</td></tr>",
                            "<tr><td>EVAV</td><td>GLS</td><td>2</td></tr>",
                            "<tr><td>ferenc1</td><td>GLS</td><td>144</td></tr>",
                            "<tr><td>fruzsina4</td><td>GLS</td><td>8</td></tr>",
                            "<tr><td>gabor1</td><td>GLS</td><td>9</td></tr>",
                            "<tr><td>gabor4</td><td>GLS</td><td>7</td></tr>",
                            "<tr><td>GABORS</td><td>GLS</td><td>5</td></tr>",
                            "<tr><td>gabriella1</td><td>GLS</td><td>5</td></tr>",
                            "<tr><td>gabriella10</td><td>GLS</td><td>4</td></tr>",
                            "<tr><td>georgij</td><td>GLS</td><td>9</td></tr>",
                            "<tr><td>gusztav</td><td>GLS</td><td>5</td></tr>",
                            "<tr><td>GYONGYIK</td><td>GLS</td><td>6</td></tr>",
                            "<tr><td>GYORGYO</td><td>GLS</td><td>7</td></tr>",
                            "<tr><td>henrik3</td><td>GLS</td><td>7</td></tr>",
                            "<tr><td>IBOLYAA</td><td>GLS</td><td>140</td></tr>",
                            "<tr><td>ilona3</td><td>GLS</td><td>9</td></tr>",
                            "<tr><td>imre</td><td>GLS</td><td>5</td></tr>",
                            "<tr><td>imre1</td><td>GLS</td><td>8</td></tr>",
                            "<tr><td>istvan</td><td>GLS</td><td>3</td></tr>",
                            "<tr><td>istvan1</td><td>GLS</td><td>8</td></tr>",
                            "<tr><td>ISTVANV</td><td>GLS</td><td>4</td></tr>",
                            "<tr><td>janos3</td><td>GLS</td><td>5</td></tr>",
                            "<tr><td>JANOSG</td><td>GLS</td><td>3</td></tr>",
                            "<tr><td>JANOSP</td><td>GLS</td><td>7</td></tr>",
                            "<tr><td>jozsef</td><td>GLS</td><td>116</td></tr>",
                            "<tr><td>jozsef2</td><td>GLS</td><td>7</td></tr>",
                            "<tr><td>JOZSEFG</td><td>GLS</td><td>11</td></tr>",
                            "<tr><td>JUDITH</td><td>GLS</td><td>170</td></tr>",
                            "<tr><td>julia</td><td>GLS</td><td>137</td></tr>",
                            "<tr><td>julia4</td><td>GLS</td><td>2</td></tr>",
                            "<tr><td>julianna4</td><td>GLS</td><td>8</td></tr>",
                            "<tr><td>kata</td><td>GLS</td><td>5</td></tr>",
                            "<tr><td>katalin</td><td>GLS</td><td>7</td></tr>",
                            "<tr><td>katalin4</td><td>GLS</td><td>7</td></tr>",
                            "<tr><td>kati</td><td>GLS</td><td>4</td></tr>",
                            "<tr><td>katka</td><td>GLS</td><td>6</td></tr>",
                            "<tr><td>klaudia2</td><td>GLS</td><td>3</td></tr>",
                            "<tr><td>kornel4</td><td>GLS</td><td>3</td></tr>",
                            "<tr><td>kristof4</td><td>GLS</td><td>9</td></tr>",
                            "<tr><td>kriszti</td><td>GLS</td><td>3</td></tr>",
                            "<tr><td>krisztian4</td><td>GLS</td><td>5</td></tr>",
                            "<tr><td>KRISZTIANM</td><td>GLS</td><td>118</td></tr>",
                            "<tr><td>krisztina</td><td>GLS</td><td>149</td></tr>",
                            "<tr><td>krisztina1</td><td>GLS</td><td>10</td></tr>",
                            "<tr><td>KRISZTINAG</td><td>GLS</td><td>6</td></tr>",
                            "<tr><td>lajos</td><td>GLS</td><td>5</td></tr>",
                            "<tr><td>lala</td><td>GLS</td><td>5</td></tr>",
                            "<tr><td>laszlo1</td><td>GLS</td><td>130</td></tr>",
                            "<tr><td>laszlo2</td><td>GLS</td><td>12</td></tr>",
                            "<tr><td>LASZLOA</td><td>GLS</td><td>156</td></tr>",
                            "<tr><td>LASZLON</td><td>GLS</td><td>126</td></tr>",
                            "<tr><td>maria1</td><td>GLS</td><td>4</td></tr>",
                            "<tr><td>MARKH</td><td>GLS</td><td>128</td></tr>",
                            "<tr><td>marton</td><td>GLS</td><td>5</td></tr>",
                            "<tr><td>MATEK</td><td>GLS</td><td>6</td></tr>",
                            "<tr><td>matyas2</td><td>GLS</td><td>138</td></tr>",
                            "<tr><td>MATYASS</td><td>GLS</td><td>4</td></tr>",
                            "<tr><td>MIHALYJ</td><td>GLS</td><td>3</td></tr>",
                            "<tr><td>miklos2</td><td>GLS</td><td>7</td></tr>",
                            "<tr><td>MIKLOSB</td><td>GLS</td><td>6</td></tr>",
                            "<tr><td>MONIKAM</td><td>GLS</td><td>133</td></tr>",
                            "<tr><td>NANDORF</td><td>GLS</td><td>147</td></tr>",
                            "<tr><td>nikolett3</td><td>GLS</td><td>4</td></tr>",
                            "<tr><td>nikoletta4</td><td>GLS</td><td>137</td></tr>",
                            "<tr><td>NIKOLETTAT</td><td>GLS</td><td>13</td></tr>",
                            "<tr><td>norbert2</td><td>GLS</td><td>7</td></tr>",
                            "<tr><td>norbert4</td><td>GLS</td><td>1</td></tr>",
                            "<tr><td>norbert5</td><td>GLS</td><td>1</td></tr>",
                            "<tr><td>pal</td><td>GLS</td><td>152</td></tr>",
                            "<tr><td>peter1</td><td>GLS</td><td>151</td></tr>",
                            "<tr><td>peter2</td><td>GLS</td><td>7</td></tr>",
                            "<tr><td>peter3</td><td>GLS</td><td>8</td></tr>",
                            "<tr><td>peter4</td><td>GLS</td><td>266</td></tr>",
                            "<tr><td>PETERB</td><td>GLS</td><td>2</td></tr>",
                            "<tr><td>polla</td><td>GLS</td><td>9</td></tr>",
                            "<tr><td>rajmond4</td><td>GLS</td><td>6</td></tr>",
                            "<tr><td>reka4</td><td>GLS</td><td>5</td></tr>",
                            "<tr><td>RENATAK</td><td>GLS</td><td>135</td></tr>",
                            "<tr><td>RENATAS</td><td>GLS</td><td>6</td></tr>",
                            "<tr><td>robert2</td><td>GLS</td><td>5</td></tr>",
                            "<tr><td>ROBERTI</td><td>GLS</td><td>5</td></tr>",
                            "<tr><td>ROBERTP</td><td>GLS</td><td>8</td></tr>",
                            "<tr><td>roland</td><td>GLS</td><td>132</td></tr>",
                            "<tr><td>roland1</td><td>GLS</td><td>142</td></tr>",
                            "<tr><td>roza2</td><td>GLS</td><td>3</td></tr>",
                            "<tr><td>sandor</td><td>GLS</td><td>4</td></tr>",
                            "<tr><td>sandor3</td><td>GLS</td><td>4</td></tr>",
                            "<tr><td>sandor4</td><td>GLS</td><td>4</td></tr>",
                            "<tr><td>sara</td><td>GLS</td><td>4</td></tr>",
                            "<tr><td>SEBASTIANF</td><td>GLS</td><td>6</td></tr>",
                            "<tr><td>sebestyen</td><td>GLS</td><td>4</td></tr>",
                            "<tr><td>szabolcs</td><td>GLS</td><td>145</td></tr>",
                            "<tr><td>SZABOLCSM</td><td>GLS</td><td>126</td></tr>",
                            "<tr><td>SZILARDS</td><td>GLS</td><td>144</td></tr>",
                            "<tr><td>szilvia1</td><td>GLS</td><td>156</td></tr>",
                            "<tr><td>tamara2</td><td>GLS</td><td>6</td></tr>",
                            "<tr><td>tamas</td><td>GLS</td><td>143</td></tr>",
                            "<tr><td>TAMASF</td><td>GLS</td><td>159</td></tr>",
                            "<tr><td>tibor</td><td>GLS</td><td>115</td></tr>",
                            "<tr><td>tibor2</td><td>GLS</td><td>7</td></tr>",
                            "<tr><td>tihamer</td><td>GLS</td><td>9</td></tr>",
                            "<tr><td>timea</td><td>GLS</td><td>14</td></tr>",
                            "<tr><td>timea2</td><td>GLS</td><td>1</td></tr>",
                            "<tr><td>tunde</td><td>GLS</td><td>6</td></tr>",
                            "<tr><td>valentin</td><td>GLS</td><td>5</td></tr>",
                            "<tr><td>veronika4</td><td>GLS</td><td>5</td></tr>",
                            "<tr><td>VIKTORIAU</td><td>GLS</td><td>5</td></tr>",
                            "<tr><td>VIKTORK</td><td>GLS</td><td>8</td></tr>",
                            "<tr><td>vivien3</td><td>GLS</td><td>9</td></tr>",
                            "<tr><td>zoltan</td><td>GLS</td><td>5</td></tr>",
                            "<tr><td>zoltan4</td><td>GLS</td><td>129</td></tr>",
                            "<tr><td>ZOLTANP</td><td>GLS</td><td>6</td></tr>",
                            "<tr><td>ZOLTANT</td><td>GLS</td><td>127</td></tr>",
                            "<tr><td>zsofi1</td><td>GLS</td><td>7</td></tr>",
                            "<tr><td>zsolt1</td><td>GLS</td><td>11</td></tr>",
                            "<tr><td>ZSOLTJ</td><td>GLS</td><td>1</td></tr>",
                            "<tr><td>zsuzsa</td><td>GLS</td><td>8</td></tr>",
                            "<tr><td>zsuzsa3</td><td>GLS</td><td>5</td></tr>",
                            "<tr><td>zsuzsanna</td><td>GLS</td><td>7</td></tr>",
                            "<tr><td>ZSUZSAV</td><td>GLS</td><td>139</td></tr>",
                            "<tr><td>NULL</td><td>GLS</td><td>9426</td></tr>",
                            "<tr><td>adam1</td><td>Posta</td><td>132</td></tr>",
                            "<tr><td>adam3</td><td>Posta</td><td>3</td></tr>",
                            "<tr><td>adam4</td><td>Posta</td><td>6</td></tr>",
                            "<tr><td>agnes</td><td>Posta</td><td>130</td></tr>",
                            "<tr><td>agnes3</td><td>Posta</td><td>146</td></tr>",
                            "<tr><td>AGNESH</td><td>Posta</td><td>3</td></tr>",
                            "<tr><td>AGNESK</td><td>Posta</td><td>7</td></tr>",
                            "<tr><td>akos</td><td>Posta</td><td>143</td></tr>",
                            "<tr><td>aladar</td><td>Posta</td><td>134</td></tr>",
                            "<tr><td>alexandra</td><td>Posta</td><td>9</td></tr>",
                            "<tr><td>andi</td><td>Posta</td><td>4</td></tr>",
                            "<tr><td>andras2</td><td>Posta</td><td>7</td></tr>",
                            "<tr><td>andras21</td><td>Posta</td><td>124</td></tr>",
                            "<tr><td>andras3</td><td>Posta</td><td>1</td></tr>",
                            "<tr><td>andras4</td><td>Posta</td><td>4</td></tr>",
                            "<tr><td>andras41</td><td>Posta</td><td>137</td></tr>",
                            "<tr><td>ANDRASE</td><td>Posta</td><td>141</td></tr>",
                            "<tr><td>ANDRASN</td><td>Posta</td><td>9</td></tr>",
                            "<tr><td>andrea</td><td>Posta</td><td>4</td></tr>",
                            "<tr><td>andrea3</td><td>Posta</td><td>136</td></tr>",
                            "<tr><td>andrea4</td><td>Posta</td><td>4</td></tr>",
                            "<tr><td>ANDREAT</td><td>Posta</td><td>6</td></tr>",
                            "<tr><td>anett3</td><td>Posta</td><td>6</td></tr>",
                            "<tr><td>aniko</td><td>Posta</td><td>137</td></tr>",
                            "<tr><td>aniko4</td><td>Posta</td><td>6</td></tr>",
                            "<tr><td>ANIKOS</td><td>Posta</td><td>126</td></tr>",
                            "<tr><td>anita</td><td>Posta</td><td>2</td></tr>",
                            "<tr><td>annamaria1</td><td>Posta</td><td>4</td></tr>",
                            "<tr><td>ANNAMARIAR</td><td>Posta</td><td>2</td></tr>",
                            "<tr><td>aron2</td><td>Posta</td><td>133</td></tr>",
                            "<tr><td>ARONK</td><td>Posta</td><td>120</td></tr>",
                            "<tr><td>arpad2</td><td>Posta</td><td>1</td></tr>",
                            "<tr><td>ARPADH</td><td>Posta</td><td>3</td></tr>",
                            "<tr><td>ARPADM</td><td>Posta</td><td>3</td></tr>",
                            "<tr><td>attila1</td><td>Posta</td><td>7</td></tr>",
                            "<tr><td>attila4</td><td>Posta</td><td>125</td></tr>",
                            "<tr><td>ATTILAO</td><td>Posta</td><td>4</td></tr>",
                            "<tr><td>balazs1</td><td>Posta</td><td>136</td></tr>",
                            "<tr><td>balazs2</td><td>Posta</td><td>7</td></tr>",
                            "<tr><td>balazs3</td><td>Posta</td><td>6</td></tr>",
                            "<tr><td>balint</td><td>Posta</td><td>4</td></tr>",
                            "<tr><td>balint1</td><td>Posta</td><td>152</td></tr>",
                            "<tr><td>balint2</td><td>Posta</td><td>6</td></tr>",
                            "<tr><td>balu</td><td>Posta</td><td>137</td></tr>",
                            "<tr><td>BEATRIXK</td><td>Posta</td><td>155</td></tr>",
                            "<tr><td>BEATRIXS</td><td>Posta</td><td>141</td></tr>",
                            "<tr><td>BELAF</td><td>Posta</td><td>2</td></tr>",
                            "<tr><td>bence</td><td>Posta</td><td>6</td></tr>",
                            "<tr><td>BENCEB</td><td>Posta</td><td>7</td></tr>",
                            "<tr><td>bernadett1</td><td>Posta</td><td>5</td></tr>",
                            "<tr><td>bernadett2</td><td>Posta</td><td>2</td></tr>",
                            "<tr><td>BERNADETTO</td><td>Posta</td><td>2</td></tr>",
                            "<tr><td>bertalan</td><td>Posta</td><td>124</td></tr>",
                            "<tr><td>brigitta</td><td>Posta</td><td>137</td></tr>",
                            "<tr><td>brigitta3</td><td>Posta</td><td>130</td></tr>",
                            "<tr><td>csongor3</td><td>Posta</td><td>2</td></tr>",
                            "<tr><td>daniel</td><td>Posta</td><td>2</td></tr>",
                            "<tr><td>daniel1</td><td>Posta</td><td>131</td></tr>",
                            "<tr><td>david</td><td>Posta</td><td>144</td></tr>",
                            "<tr><td>david1</td><td>Posta</td><td>1</td></tr>",
                            "<tr><td>david4</td><td>Posta</td><td>8</td></tr>",
                            "<tr><td>debora</td><td>Posta</td><td>6</td></tr>",
                            "<tr><td>denes</td><td>Posta</td><td>2</td></tr>",
                            "<tr><td>dora3</td><td>Posta</td><td>124</td></tr>",
                            "<tr><td>edit</td><td>Posta</td><td>2</td></tr>",
                            "<tr><td>emese</td><td>Posta</td><td>136</td></tr>",
                            "<tr><td>eszter2</td><td>Posta</td><td>136</td></tr>",
                            "<tr><td>eszter4</td><td>Posta</td><td>134</td></tr>",
                            "<tr><td>ESZTERE</td><td>Posta</td><td>9</td></tr>",
                            "<tr><td>eva</td><td>Posta</td><td>140</td></tr>",
                            "<tr><td>eva2</td><td>Posta</td><td>138</td></tr>",
                            "<tr><td>EVAV</td><td>Posta</td><td>1</td></tr>",
                            "<tr><td>ferenc1</td><td>Posta</td><td>158</td></tr>",
                            "<tr><td>fruzsina4</td><td>Posta</td><td>3</td></tr>",
                            "<tr><td>gabor1</td><td>Posta</td><td>5</td></tr>",
                            "<tr><td>gabor4</td><td>Posta</td><td>9</td></tr>",
                            "<tr><td>GABORS</td><td>Posta</td><td>6</td></tr>",
                            "<tr><td>gabriella1</td><td>Posta</td><td>4</td></tr>",
                            "<tr><td>gabriella10</td><td>Posta</td><td>5</td></tr>",
                            "<tr><td>georgij</td><td>Posta</td><td>2</td></tr>",
                            "<tr><td>gusztav</td><td>Posta</td><td>4</td></tr>",
                            "<tr><td>GYONGYIK</td><td>Posta</td><td>6</td></tr>",
                            "<tr><td>GYORGYO</td><td>Posta</td><td>4</td></tr>",
                            "<tr><td>henrik3</td><td>Posta</td><td>4</td></tr>",
                            "<tr><td>IBOLYAA</td><td>Posta</td><td>125</td></tr>",
                            "<tr><td>ilona3</td><td>Posta</td><td>2</td></tr>",
                            "<tr><td>imre</td><td>Posta</td><td>4</td></tr>",
                            "<tr><td>imre1</td><td>Posta</td><td>4</td></tr>",
                            "<tr><td>istvan</td><td>Posta</td><td>4</td></tr>",
                            "<tr><td>istvan1</td><td>Posta</td><td>4</td></tr>",
                            "<tr><td>ISTVANV</td><td>Posta</td><td>9</td></tr>",
                            "<tr><td>janos3</td><td>Posta</td><td>2</td></tr>",
                            "<tr><td>JANOSG</td><td>Posta</td><td>3</td></tr>",
                            "<tr><td>JANOSP</td><td>Posta</td><td>7</td></tr>",
                            "<tr><td>jozsef</td><td>Posta</td><td>132</td></tr>",
                            "<tr><td>jozsef2</td><td>Posta</td><td>2</td></tr>",
                            "<tr><td>JOZSEFG</td><td>Posta</td><td>1</td></tr>",
                            "<tr><td>JUDITH</td><td>Posta</td><td>130</td></tr>",
                            "<tr><td>julia</td><td>Posta</td><td>160</td></tr>",
                            "<tr><td>julia4</td><td>Posta</td><td>4</td></tr>",
                            "<tr><td>julianna4</td><td>Posta</td><td>12</td></tr>",
                            "<tr><td>kata</td><td>Posta</td><td>4</td></tr>",
                            "<tr><td>katalin</td><td>Posta</td><td>7</td></tr>",
                            "<tr><td>katalin4</td><td>Posta</td><td>5</td></tr>",
                            "<tr><td>kati</td><td>Posta</td><td>5</td></tr>",
                            "<tr><td>katka</td><td>Posta</td><td>6</td></tr>",
                            "<tr><td>klaudia2</td><td>Posta</td><td>9</td></tr>",
                            "<tr><td>kornel4</td><td>Posta</td><td>1</td></tr>",
                            "<tr><td>kristof4</td><td>Posta</td><td>4</td></tr>",
                            "<tr><td>kriszti</td><td>Posta</td><td>5</td></tr>",
                            "<tr><td>krisztian4</td><td>Posta</td><td>6</td></tr>",
                            "<tr><td>KRISZTIANM</td><td>Posta</td><td>136</td></tr>",
                            "<tr><td>krisztina</td><td>Posta</td><td>150</td></tr>",
                            "<tr><td>krisztina1</td><td>Posta</td><td>4</td></tr>",
                            "<tr><td>KRISZTINAG</td><td>Posta</td><td>6</td></tr>",
                            "<tr><td>lajos</td><td>Posta</td><td>2</td></tr>",
                            "<tr><td>lala</td><td>Posta</td><td>3</td></tr>",
                            "<tr><td>laszlo1</td><td>Posta</td><td>129</td></tr>",
                            "<tr><td>laszlo2</td><td>Posta</td><td>6</td></tr>",
                            "<tr><td>LASZLOA</td><td>Posta</td><td>136</td></tr>",
                            "<tr><td>LASZLON</td><td>Posta</td><td>131</td></tr>",
                            "<tr><td>maria1</td><td>Posta</td><td>5</td></tr>",
                            "<tr><td>MARKH</td><td>Posta</td><td>142</td></tr>",
                            "<tr><td>marton</td><td>Posta</td><td>4</td></tr>",
                            "<tr><td>MATEK</td><td>Posta</td><td>10</td></tr>",
                            "<tr><td>matyas2</td><td>Posta</td><td>131</td></tr>",
                            "<tr><td>MATYASS</td><td>Posta</td><td>5</td></tr>",
                            "<tr><td>MIHALYJ</td><td>Posta</td><td>4</td></tr>",
                            "<tr><td>miklos2</td><td>Posta</td><td>4</td></tr>",
                            "<tr><td>MIKLOSB</td><td>Posta</td><td>1</td></tr>",
                            "<tr><td>MONIKAM</td><td>Posta</td><td>151</td></tr>",
                            "<tr><td>NANDORF</td><td>Posta</td><td>139</td></tr>",
                            "<tr><td>nikolett3</td><td>Posta</td><td>3</td></tr>",
                            "<tr><td>nikoletta4</td><td>Posta</td><td>158</td></tr>",
                            "<tr><td>NIKOLETTAT</td><td>Posta</td><td>7</td></tr>",
                            "<tr><td>norbert2</td><td>Posta</td><td>4</td></tr>",
                            "<tr><td>norbert4</td><td>Posta</td><td>3</td></tr>",
                            "<tr><td>norbert5</td><td>Posta</td><td>6</td></tr>",
                            "<tr><td>pal</td><td>Posta</td><td>132</td></tr>",
                            "<tr><td>peter1</td><td>Posta</td><td>135</td></tr>",
                            "<tr><td>peter2</td><td>Posta</td><td>4</td></tr>",
                            "<tr><td>peter3</td><td>Posta</td><td>7</td></tr>",
                            "<tr><td>peter4</td><td>Posta</td><td>293</td></tr>",
                            "<tr><td>PETERB</td><td>Posta</td><td>4</td></tr>",
                            "<tr><td>polla</td><td>Posta</td><td>6</td></tr>",
                            "<tr><td>rajmond4</td><td>Posta</td><td>5</td></tr>",
                            "<tr><td>reka4</td><td>Posta</td><td>4</td></tr>",
                            "<tr><td>RENATAK</td><td>Posta</td><td>140</td></tr>",
                            "<tr><td>RENATAS</td><td>Posta</td><td>5</td></tr>",
                            "<tr><td>robert2</td><td>Posta</td><td>1</td></tr>",
                            "<tr><td>ROBERTI</td><td>Posta</td><td>3</td></tr>",
                            "<tr><td>ROBERTP</td><td>Posta</td><td>8</td></tr>",
                            "<tr><td>roland</td><td>Posta</td><td>157</td></tr>",
                            "<tr><td>roland1</td><td>Posta</td><td>155</td></tr>",
                            "<tr><td>roza2</td><td>Posta</td><td>2</td></tr>",
                            "<tr><td>sandor</td><td>Posta</td><td>6</td></tr>",
                            "<tr><td>sandor3</td><td>Posta</td><td>4</td></tr>",
                            "<tr><td>sandor4</td><td>Posta</td><td>2</td></tr>",
                            "<tr><td>sara</td><td>Posta</td><td>7</td></tr>",
                            "<tr><td>SEBASTIANF</td><td>Posta</td><td>3</td></tr>",
                            "<tr><td>sebestyen</td><td>Posta</td><td>6</td></tr>",
                            "<tr><td>szabolcs</td><td>Posta</td><td>157</td></tr>",
                            "<tr><td>SZABOLCSM</td><td>Posta</td><td>153</td></tr>",
                            "<tr><td>SZILARDS</td><td>Posta</td><td>131</td></tr>",
                            "<tr><td>szilvia1</td><td>Posta</td><td>151</td></tr>",
                            "<tr><td>tamara2</td><td>Posta</td><td>4</td></tr>",
                            "<tr><td>tamas</td><td>Posta</td><td>156</td></tr>",
                            "<tr><td>TAMASF</td><td>Posta</td><td>145</td></tr>",
                            "<tr><td>tibor</td><td>Posta</td><td>129</td></tr>",
                            "<tr><td>tibor2</td><td>Posta</td><td>7</td></tr>",
                            "<tr><td>tihamer</td><td>Posta</td><td>6</td></tr>",
                            "<tr><td>timea</td><td>Posta</td><td>23</td></tr>",
                            "<tr><td>timea2</td><td>Posta</td><td>5</td></tr>",
                            "<tr><td>tunde</td><td>Posta</td><td>6</td></tr>",
                            "<tr><td>valentin</td><td>Posta</td><td>5</td></tr>",
                            "<tr><td>veronika4</td><td>Posta</td><td>6</td></tr>",
                            "<tr><td>VIKTORIAU</td><td>Posta</td><td>4</td></tr>",
                            "<tr><td>VIKTORK</td><td>Posta</td><td>6</td></tr>",
                            "<tr><td>vivien3</td><td>Posta</td><td>6</td></tr>",
                            "<tr><td>zoltan</td><td>Posta</td><td>3</td></tr>",
                            "<tr><td>zoltan4</td><td>Posta</td><td>124</td></tr>",
                            "<tr><td>ZOLTANP</td><td>Posta</td><td>3</td></tr>",
                            "<tr><td>ZOLTANT</td><td>Posta</td><td>107</td></tr>",
                            "<tr><td>zsofi1</td><td>Posta</td><td>6</td></tr>",
                            "<tr><td>zsolt1</td><td>Posta</td><td>6</td></tr>",
                            "<tr><td>ZSOLTJ</td><td>Posta</td><td>8</td></tr>",
                            "<tr><td>zsuzsa</td><td>Posta</td><td>5</td></tr>",
                            "<tr><td>zsuzsa3</td><td>Posta</td><td>5</td></tr>",
                            "<tr><td>zsuzsanna</td><td>Posta</td><td>5</td></tr>",
                            "<tr><td>ZSUZSAV</td><td>Posta</td><td>139</td></tr>",
                            "<tr><td>NULL</td><td>Posta</td><td>9191</td></tr>",
                            "<tr><td>adam1</td><td>Személyes átvétel</td><td>131</td></tr>",
                            "<tr><td>adam3</td><td>Személyes átvétel</td><td>2</td></tr>",
                            "<tr><td>adam4</td><td>Személyes átvétel</td><td>11</td></tr>",
                            "<tr><td>agnes</td><td>Személyes átvétel</td><td>144</td></tr>",
                            "<tr><td>agnes3</td><td>Személyes átvétel</td><td>136</td></tr>",
                            "<tr><td>AGNESH</td><td>Személyes átvétel</td><td>6</td></tr>",
                            "<tr><td>AGNESK</td><td>Személyes átvétel</td><td>7</td></tr>",
                            "<tr><td>akos</td><td>Személyes átvétel</td><td>140</td></tr>",
                            "<tr><td>aladar</td><td>Személyes átvétel</td><td>118</td></tr>",
                            "<tr><td>alexandra</td><td>Személyes átvétel</td><td>5</td></tr>",
                            "<tr><td>andi</td><td>Személyes átvétel</td><td>7</td></tr>",
                            "<tr><td>andras2</td><td>Személyes átvétel</td><td>11</td></tr>",
                            "<tr><td>andras21</td><td>Személyes átvétel</td><td>126</td></tr>",
                            "<tr><td>andras3</td><td>Személyes átvétel</td><td>5</td></tr>",
                            "<tr><td>andras4</td><td>Személyes átvétel</td><td>4</td></tr>",
                            "<tr><td>andras41</td><td>Személyes átvétel</td><td>133</td></tr>",
                            "<tr><td>ANDRASE</td><td>Személyes átvétel</td><td>136</td></tr>",
                            "<tr><td>ANDRASN</td><td>Személyes átvétel</td><td>5</td></tr>",
                            "<tr><td>andrea</td><td>Személyes átvétel</td><td>8</td></tr>",
                            "<tr><td>andrea3</td><td>Személyes átvétel</td><td>146</td></tr>",
                            "<tr><td>andrea4</td><td>Személyes átvétel</td><td>7</td></tr>",
                            "<tr><td>ANDREAT</td><td>Személyes átvétel</td><td>12</td></tr>",
                            "<tr><td>anett3</td><td>Személyes átvétel</td><td>9</td></tr>",
                            "<tr><td>aniko</td><td>Személyes átvétel</td><td>138</td></tr>",
                            "<tr><td>aniko4</td><td>Személyes átvétel</td><td>3</td></tr>",
                            "<tr><td>ANIKOS</td><td>Személyes átvétel</td><td>150</td></tr>",
                            "<tr><td>anita</td><td>Személyes átvétel</td><td>5</td></tr>",
                            "<tr><td>annamaria1</td><td>Személyes átvétel</td><td>7</td></tr>",
                            "<tr><td>ANNAMARIAR</td><td>Személyes átvétel</td><td>3</td></tr>",
                            "<tr><td>aron2</td><td>Személyes átvétel</td><td>144</td></tr>",
                            "<tr><td>ARONK</td><td>Személyes átvétel</td><td>155</td></tr>",
                            "<tr><td>arpad2</td><td>Személyes átvétel</td><td>10</td></tr>",
                            "<tr><td>ARPADH</td><td>Személyes átvétel</td><td>5</td></tr>",
                            "<tr><td>ARPADM</td><td>Személyes átvétel</td><td>7</td></tr>",
                            "<tr><td>attila1</td><td>Személyes átvétel</td><td>6</td></tr>",
                            "<tr><td>attila4</td><td>Személyes átvétel</td><td>141</td></tr>",
                            "<tr><td>ATTILAO</td><td>Személyes átvétel</td><td>6</td></tr>",
                            "<tr><td>balazs1</td><td>Személyes átvétel</td><td>155</td></tr>",
                            "<tr><td>balazs2</td><td>Személyes átvétel</td><td>5</td></tr>",
                            "<tr><td>balazs3</td><td>Személyes átvétel</td><td>3</td></tr>",
                            "<tr><td>balint</td><td>Személyes átvétel</td><td>2</td></tr>",
                            "<tr><td>balint1</td><td>Személyes átvétel</td><td>152</td></tr>",
                            "<tr><td>balint2</td><td>Személyes átvétel</td><td>3</td></tr>",
                            "<tr><td>balu</td><td>Személyes átvétel</td><td>123</td></tr>",
                            "<tr><td>BEATRIXK</td><td>Személyes átvétel</td><td>145</td></tr>",
                            "<tr><td>BEATRIXS</td><td>Személyes átvétel</td><td>133</td></tr>",
                            "<tr><td>BELAF</td><td>Személyes átvétel</td><td>5</td></tr>",
                            "<tr><td>bence</td><td>Személyes átvétel</td><td>8</td></tr>",
                            "<tr><td>BENCEB</td><td>Személyes átvétel</td><td>5</td></tr>",
                            "<tr><td>bernadett1</td><td>Személyes átvétel</td><td>5</td></tr>",
                            "<tr><td>bernadett2</td><td>Személyes átvétel</td><td>7</td></tr>",
                            "<tr><td>BERNADETTO</td><td>Személyes átvétel</td><td>7</td></tr>",
                            "<tr><td>bertalan</td><td>Személyes átvétel</td><td>101</td></tr>",
                            "<tr><td>brigitta</td><td>Személyes átvétel</td><td>119</td></tr>",
                            "<tr><td>brigitta3</td><td>Személyes átvétel</td><td>139</td></tr>",
                            "<tr><td>csongor3</td><td>Személyes átvétel</td><td>8</td></tr>",
                            "<tr><td>dani</td><td>Személyes átvétel</td><td>8</td></tr>",
                            "<tr><td>daniel</td><td>Személyes átvétel</td><td>4</td></tr>",
                            "<tr><td>daniel1</td><td>Személyes átvétel</td><td>132</td></tr>",
                            "<tr><td>david</td><td>Személyes átvétel</td><td>146</td></tr>",
                            "<tr><td>david1</td><td>Személyes átvétel</td><td>8</td></tr>",
                            "<tr><td>david4</td><td>Személyes átvétel</td><td>10</td></tr>",
                            "<tr><td>debora</td><td>Személyes átvétel</td><td>3</td></tr>",
                            "<tr><td>denes</td><td>Személyes átvétel</td><td>4</td></tr>",
                            "<tr><td>dora3</td><td>Személyes átvétel</td><td>164</td></tr>",
                            "<tr><td>edit</td><td>Személyes átvétel</td><td>4</td></tr>",
                            "<tr><td>emese</td><td>Személyes átvétel</td><td>142</td></tr>",
                            "<tr><td>eszter2</td><td>Személyes átvétel</td><td>152</td></tr>",
                            "<tr><td>eszter4</td><td>Személyes átvétel</td><td>149</td></tr>",
                            "<tr><td>ESZTERE</td><td>Személyes átvétel</td><td>7</td></tr>",
                            "<tr><td>eva</td><td>Személyes átvétel</td><td>139</td></tr>",
                            "<tr><td>eva2</td><td>Személyes átvétel</td><td>170</td></tr>",
                            "<tr><td>EVAV</td><td>Személyes átvétel</td><td>4</td></tr>",
                            "<tr><td>ferenc1</td><td>Személyes átvétel</td><td>135</td></tr>",
                            "<tr><td>fruzsina4</td><td>Személyes átvétel</td><td>7</td></tr>",
                            "<tr><td>gabor1</td><td>Személyes átvétel</td><td>5</td></tr>",
                            "<tr><td>gabor4</td><td>Személyes átvétel</td><td>4</td></tr>",
                            "<tr><td>GABORS</td><td>Személyes átvétel</td><td>4</td></tr>",
                            "<tr><td>gabriella1</td><td>Személyes átvétel</td><td>5</td></tr>",
                            "<tr><td>gabriella10</td><td>Személyes átvétel</td><td>7</td></tr>",
                            "<tr><td>georgij</td><td>Személyes átvétel</td><td>10</td></tr>",
                            "<tr><td>gusztav</td><td>Személyes átvétel</td><td>5</td></tr>",
                            "<tr><td>GYONGYIK</td><td>Személyes átvétel</td><td>3</td></tr>",
                            "<tr><td>GYORGYO</td><td>Személyes átvétel</td><td>5</td></tr>",
                            "<tr><td>henrik3</td><td>Személyes átvétel</td><td>5</td></tr>",
                            "<tr><td>IBOLYAA</td><td>Személyes átvétel</td><td>157</td></tr>",
                            "<tr><td>ilona3</td><td>Személyes átvétel</td><td>7</td></tr>",
                            "<tr><td>imre</td><td>Személyes átvétel</td><td>6</td></tr>",
                            "<tr><td>imre1</td><td>Személyes átvétel</td><td>3</td></tr>",
                            "<tr><td>istvan</td><td>Személyes átvétel</td><td>4</td></tr>",
                            "<tr><td>istvan1</td><td>Személyes átvétel</td><td>7</td></tr>",
                            "<tr><td>ISTVANV</td><td>Személyes átvétel</td><td>8</td></tr>",
                            "<tr><td>janos3</td><td>Személyes átvétel</td><td>6</td></tr>",
                            "<tr><td>JANOSG</td><td>Személyes átvétel</td><td>4</td></tr>",
                            "<tr><td>JANOSP</td><td>Személyes átvétel</td><td>3</td></tr>",
                            "<tr><td>jozsef</td><td>Személyes átvétel</td><td>134</td></tr>",
                            "<tr><td>jozsef2</td><td>Személyes átvétel</td><td>4</td></tr>",
                            "<tr><td>JOZSEFG</td><td>Személyes átvétel</td><td>9</td></tr>",
                            "<tr><td>JUDITH</td><td>Személyes átvétel</td><td>150</td></tr>",
                            "<tr><td>julia</td><td>Személyes átvétel</td><td>138</td></tr>",
                            "<tr><td>julia4</td><td>Személyes átvétel</td><td>8</td></tr>",
                            "<tr><td>julianna4</td><td>Személyes átvétel</td><td>7</td></tr>",
                            "<tr><td>kata</td><td>Személyes átvétel</td><td>3</td></tr>",
                            "<tr><td>katalin</td><td>Személyes átvétel</td><td>5</td></tr>",
                            "<tr><td>katalin4</td><td>Személyes átvétel</td><td>11</td></tr>",
                            "<tr><td>kati</td><td>Személyes átvétel</td><td>4</td></tr>",
                            "<tr><td>katka</td><td>Személyes átvétel</td><td>10</td></tr>",
                            "<tr><td>klaudia2</td><td>Személyes átvétel</td><td>5</td></tr>",
                            "<tr><td>kornel4</td><td>Személyes átvétel</td><td>7</td></tr>",
                            "<tr><td>kristof4</td><td>Személyes átvétel</td><td>8</td></tr>",
                            "<tr><td>kriszti</td><td>Személyes átvétel</td><td>5</td></tr>",
                            "<tr><td>krisztian4</td><td>Személyes átvétel</td><td>6</td></tr>",
                            "<tr><td>KRISZTIANM</td><td>Személyes átvétel</td><td>130</td></tr>",
                            "<tr><td>krisztina</td><td>Személyes átvétel</td><td>157</td></tr>",
                            "<tr><td>krisztina1</td><td>Személyes átvétel</td><td>8</td></tr>",
                            "<tr><td>KRISZTINAG</td><td>Személyes átvétel</td><td>10</td></tr>",
                            "<tr><td>lajos</td><td>Személyes átvétel</td><td>9</td></tr>",
                            "<tr><td>lala</td><td>Személyes átvétel</td><td>9</td></tr>",
                            "<tr><td>laszlo1</td><td>Személyes átvétel</td><td>135</td></tr>",
                            "<tr><td>laszlo2</td><td>Személyes átvétel</td><td>7</td></tr>",
                            "<tr><td>LASZLOA</td><td>Személyes átvétel</td><td>154</td></tr>",
                            "<tr><td>LASZLON</td><td>Személyes átvétel</td><td>143</td></tr>",
                            "<tr><td>maria1</td><td>Személyes átvétel</td><td>1</td></tr>",
                            "<tr><td>MARKH</td><td>Személyes átvétel</td><td>142</td></tr>",
                            "<tr><td>marton</td><td>Személyes átvétel</td><td>5</td></tr>",
                            "<tr><td>MATEK</td><td>Személyes átvétel</td><td>9</td></tr>",
                            "<tr><td>matyas2</td><td>Személyes átvétel</td><td>164</td></tr>",
                            "<tr><td>MATYASS</td><td>Személyes átvétel</td><td>3</td></tr>",
                            "<tr><td>MIHALYJ</td><td>Személyes átvétel</td><td>6</td></tr>",
                            "<tr><td>miklos2</td><td>Személyes átvétel</td><td>2</td></tr>",
                            "<tr><td>MIKLOSB</td><td>Személyes átvétel</td><td>8</td></tr>",
                            "<tr><td>MONIKAM</td><td>Személyes átvétel</td><td>123</td></tr>",
                            "<tr><td>NANDORF</td><td>Személyes átvétel</td><td>134</td></tr>",
                            "<tr><td>nikolett3</td><td>Személyes átvétel</td><td>10</td></tr>",
                            "<tr><td>nikoletta4</td><td>Személyes átvétel</td><td>119</td></tr>",
                            "<tr><td>NIKOLETTAT</td><td>Személyes átvétel</td><td>5</td></tr>",
                            "<tr><td>norbert4</td><td>Személyes átvétel</td><td>9</td></tr>",
                            "<tr><td>norbert5</td><td>Személyes átvétel</td><td>9</td></tr>",
                            "<tr><td>pal</td><td>Személyes átvétel</td><td>154</td></tr>",
                            "<tr><td>peter1</td><td>Személyes átvétel</td><td>126</td></tr>",
                            "<tr><td>peter2</td><td>Személyes átvétel</td><td>7</td></tr>",
                            "<tr><td>peter3</td><td>Személyes átvétel</td><td>10</td></tr>",
                            "<tr><td>peter4</td><td>Személyes átvétel</td><td>293</td></tr>",
                            "<tr><td>PETERB</td><td>Személyes átvétel</td><td>9</td></tr>",
                            "<tr><td>polla</td><td>Személyes átvétel</td><td>7</td></tr>",
                            "<tr><td>rajmond4</td><td>Személyes átvétel</td><td>6</td></tr>",
                            "<tr><td>reka4</td><td>Személyes átvétel</td><td>11</td></tr>",
                            "<tr><td>RENATAK</td><td>Személyes átvétel</td><td>147</td></tr>",
                            "<tr><td>RENATAS</td><td>Személyes átvétel</td><td>5</td></tr>",
                            "<tr><td>robert2</td><td>Személyes átvétel</td><td>7</td></tr>",
                            "<tr><td>ROBERTI</td><td>Személyes átvétel</td><td>5</td></tr>",
                            "<tr><td>ROBERTP</td><td>Személyes átvétel</td><td>10</td></tr>",
                            "<tr><td>roland</td><td>Személyes átvétel</td><td>125</td></tr>",
                            "<tr><td>roland1</td><td>Személyes átvétel</td><td>135</td></tr>",
                            "<tr><td>roza2</td><td>Személyes átvétel</td><td>3</td></tr>",
                            "<tr><td>sandor</td><td>Személyes átvétel</td><td>7</td></tr>",
                            "<tr><td>sandor3</td><td>Személyes átvétel</td><td>6</td></tr>",
                            "<tr><td>sandor4</td><td>Személyes átvétel</td><td>5</td></tr>",
                            "<tr><td>sara</td><td>Személyes átvétel</td><td>9</td></tr>",
                            "<tr><td>SEBASTIANF</td><td>Személyes átvétel</td><td>6</td></tr>",
                            "<tr><td>sebestyen</td><td>Személyes átvétel</td><td>6</td></tr>",
                            "<tr><td>szabolcs</td><td>Személyes átvétel</td><td>169</td></tr>",
                            "<tr><td>SZABOLCSM</td><td>Személyes átvétel</td><td>129</td></tr>",
                            "<tr><td>SZILARDS</td><td>Személyes átvétel</td><td>111</td></tr>",
                            "<tr><td>szilvia1</td><td>Személyes átvétel</td><td>138</td></tr>",
                            "<tr><td>tamara2</td><td>Személyes átvétel</td><td>3</td></tr>",
                            "<tr><td>tamas</td><td>Személyes átvétel</td><td>122</td></tr>",
                            "<tr><td>TAMASF</td><td>Személyes átvétel</td><td>129</td></tr>",
                            "<tr><td>tibor</td><td>Személyes átvétel</td><td>130</td></tr>",
                            "<tr><td>tibor2</td><td>Személyes átvétel</td><td>11</td></tr>",
                            "<tr><td>tihamer</td><td>Személyes átvétel</td><td>5</td></tr>",
                            "<tr><td>timea</td><td>Személyes átvétel</td><td>18</td></tr>",
                            "<tr><td>timea2</td><td>Személyes átvétel</td><td>10</td></tr>",
                            "<tr><td>tunde</td><td>Személyes átvétel</td><td>4</td></tr>",
                            "<tr><td>valentin</td><td>Személyes átvétel</td><td>3</td></tr>",
                            "<tr><td>veronika4</td><td>Személyes átvétel</td><td>7</td></tr>",
                            "<tr><td>VIKTORIAU</td><td>Személyes átvétel</td><td>5</td></tr>",
                            "<tr><td>VIKTORK</td><td>Személyes átvétel</td><td>6</td></tr>",
                            "<tr><td>vivien3</td><td>Személyes átvétel</td><td>7</td></tr>",
                            "<tr><td>zoltan</td><td>Személyes átvétel</td><td>7</td></tr>",
                            "<tr><td>zoltan4</td><td>Személyes átvétel</td><td>171</td></tr>",
                            "<tr><td>ZOLTANP</td><td>Személyes átvétel</td><td>4</td></tr>",
                            "<tr><td>ZOLTANT</td><td>Személyes átvétel</td><td>123</td></tr>",
                            "<tr><td>zsofi1</td><td>Személyes átvétel</td><td>6</td></tr>",
                            "<tr><td>zsolt1</td><td>Személyes átvétel</td><td>3</td></tr>",
                            "<tr><td>ZSOLTJ</td><td>Személyes átvétel</td><td>9</td></tr>",
                            "<tr><td>zsuzsa</td><td>Személyes átvétel</td><td>3</td></tr>",
                            "<tr><td>zsuzsa3</td><td>Személyes átvétel</td><td>6</td></tr>",
                            "<tr><td>zsuzsanna</td><td>Személyes átvétel</td><td>3</td></tr>",
                            "<tr><td>ZSUZSAV</td><td>Személyes átvétel</td><td>142</td></tr>",
                            "<tr><td>NULL</td><td>Személyes átvétel</td><td>9468</td></tr>",
                            "<tr><td>NULL</td><td>NULL</td><td>28085</td></tr>",
                            "<tr><td>adam1</td><td>NULL</td><td>392</td></tr>",
                            "<tr><td>adam3</td><td>NULL</td><td>15</td></tr>",
                            "<tr><td>adam4</td><td>NULL</td><td>29</td></tr>",
                            "<tr><td>agnes</td><td>NULL</td><td>418</td></tr>",
                            "<tr><td>agnes3</td><td>NULL</td><td>430</td></tr>",
                            "<tr><td>AGNESH</td><td>NULL</td><td>11</td></tr>",
                            "<tr><td>AGNESK</td><td>NULL</td><td>15</td></tr>",
                            "<tr><td>akos</td><td>NULL</td><td>429</td></tr>",
                            "<tr><td>aladar</td><td>NULL</td><td>408</td></tr>",
                            "<tr><td>alexandra</td><td>NULL</td><td>19</td></tr>",
                            "<tr><td>andi</td><td>NULL</td><td>18</td></tr>",
                            "<tr><td>andras2</td><td>NULL</td><td>22</td></tr>",
                            "<tr><td>andras21</td><td>NULL</td><td>390</td></tr>",
                            "<tr><td>andras3</td><td>NULL</td><td>9</td></tr>",
                            "<tr><td>andras4</td><td>NULL</td><td>12</td></tr>",
                            "<tr><td>andras41</td><td>NULL</td><td>419</td></tr>",
                            "<tr><td>ANDRASE</td><td>NULL</td><td>436</td></tr>",
                            "<tr><td>ANDRASN</td><td>NULL</td><td>24</td></tr>",
                            "<tr><td>andrea</td><td>NULL</td><td>24</td></tr>",
                            "<tr><td>andrea3</td><td>NULL</td><td>413</td></tr>",
                            "<tr><td>andrea4</td><td>NULL</td><td>18</td></tr>",
                            "<tr><td>ANDREAT</td><td>NULL</td><td>21</td></tr>",
                            "<tr><td>anett3</td><td>NULL</td><td>18</td></tr>",
                            "<tr><td>aniko</td><td>NULL</td><td>403</td></tr>",
                            "<tr><td>aniko4</td><td>NULL</td><td>15</td></tr>",
                            "<tr><td>ANIKOS</td><td>NULL</td><td>404</td></tr>",
                            "<tr><td>anita</td><td>NULL</td><td>12</td></tr>",
                            "<tr><td>annamaria1</td><td>NULL</td><td>16</td></tr>",
                            "<tr><td>ANNAMARIAR</td><td>NULL</td><td>13</td></tr>",
                            "<tr><td>aron2</td><td>NULL</td><td>409</td></tr>",
                            "<tr><td>ARONK</td><td>NULL</td><td>430</td></tr>",
                            "<tr><td>arpad2</td><td>NULL</td><td>17</td></tr>",
                            "<tr><td>ARPADH</td><td>NULL</td><td>14</td></tr>",
                            "<tr><td>ARPADM</td><td>NULL</td><td>16</td></tr>",
                            "<tr><td>attila1</td><td>NULL</td><td>18</td></tr>",
                            "<tr><td>attila4</td><td>NULL</td><td>401</td></tr>",
                            "<tr><td>ATTILAO</td><td>NULL</td><td>14</td></tr>",
                            "<tr><td>balazs1</td><td>NULL</td><td>419</td></tr>",
                            "<tr><td>balazs2</td><td>NULL</td><td>17</td></tr>",
                            "<tr><td>balazs3</td><td>NULL</td><td>15</td></tr>",
                            "<tr><td>balint</td><td>NULL</td><td>16</td></tr>",
                            "<tr><td>balint1</td><td>NULL</td><td>462</td></tr>",
                            "<tr><td>balint2</td><td>NULL</td><td>17</td></tr>",
                            "<tr><td>balu</td><td>NULL</td><td>387</td></tr>",
                            "<tr><td>BEATRIXK</td><td>NULL</td><td>435</td></tr>",
                            "<tr><td>BEATRIXS</td><td>NULL</td><td>420</td></tr>",
                            "<tr><td>BELAF</td><td>NULL</td><td>18</td></tr>",
                            "<tr><td>bence</td><td>NULL</td><td>18</td></tr>",
                            "<tr><td>BENCEB</td><td>NULL</td><td>17</td></tr>",
                            "<tr><td>bernadett1</td><td>NULL</td><td>20</td></tr>",
                            "<tr><td>bernadett2</td><td>NULL</td><td>15</td></tr>",
                            "<tr><td>BERNADETTO</td><td>NULL</td><td>16</td></tr>",
                            "<tr><td>bertalan</td><td>NULL</td><td>353</td></tr>",
                            "<tr><td>brigitta</td><td>NULL</td><td>393</td></tr>",
                            "<tr><td>brigitta3</td><td>NULL</td><td>413</td></tr>",
                            "<tr><td>csongor3</td><td>NULL</td><td>15</td></tr>",
                            "<tr><td>dani</td><td>NULL</td><td>13</td></tr>",
                            "<tr><td>daniel</td><td>NULL</td><td>13</td></tr>",
                            "<tr><td>daniel1</td><td>NULL</td><td>419</td></tr>",
                            "<tr><td>david</td><td>NULL</td><td>451</td></tr>",
                            "<tr><td>david1</td><td>NULL</td><td>17</td></tr>",
                            "<tr><td>david4</td><td>NULL</td><td>21</td></tr>",
                            "<tr><td>debora</td><td>NULL</td><td>16</td></tr>",
                            "<tr><td>denes</td><td>NULL</td><td>9</td></tr>",
                            "<tr><td>dora3</td><td>NULL</td><td>432</td></tr>",
                            "<tr><td>edit</td><td>NULL</td><td>13</td></tr>",
                            "<tr><td>emese</td><td>NULL</td><td>406</td></tr>",
                            "<tr><td>eszter2</td><td>NULL</td><td>415</td></tr>",
                            "<tr><td>eszter4</td><td>NULL</td><td>424</td></tr>",
                            "<tr><td>ESZTERE</td><td>NULL</td><td>22</td></tr>",
                            "<tr><td>eva</td><td>NULL</td><td>404</td></tr>",
                            "<tr><td>eva2</td><td>NULL</td><td>462</td></tr>",
                            "<tr><td>EVAV</td><td>NULL</td><td>7</td></tr>",
                            "<tr><td>ferenc1</td><td>NULL</td><td>437</td></tr>",
                            "<tr><td>fruzsina4</td><td>NULL</td><td>18</td></tr>",
                            "<tr><td>gabor1</td><td>NULL</td><td>19</td></tr>",
                            "<tr><td>gabor4</td><td>NULL</td><td>20</td></tr>",
                            "<tr><td>GABORS</td><td>NULL</td><td>15</td></tr>",
                            "<tr><td>gabriella1</td><td>NULL</td><td>14</td></tr>",
                            "<tr><td>gabriella10</td><td>NULL</td><td>16</td></tr>",
                            "<tr><td>georgij</td><td>NULL</td><td>21</td></tr>",
                            "<tr><td>gusztav</td><td>NULL</td><td>14</td></tr>",
                            "<tr><td>GYONGYIK</td><td>NULL</td><td>15</td></tr>",
                            "<tr><td>GYORGYO</td><td>NULL</td><td>16</td></tr>",
                            "<tr><td>henrik3</td><td>NULL</td><td>16</td></tr>",
                            "<tr><td>IBOLYAA</td><td>NULL</td><td>422</td></tr>",
                            "<tr><td>ilona3</td><td>NULL</td><td>18</td></tr>",
                            "<tr><td>imre</td><td>NULL</td><td>15</td></tr>",
                            "<tr><td>imre1</td><td>NULL</td><td>15</td></tr>",
                            "<tr><td>istvan</td><td>NULL</td><td>11</td></tr>",
                            "<tr><td>istvan1</td><td>NULL</td><td>19</td></tr>",
                            "<tr><td>ISTVANV</td><td>NULL</td><td>21</td></tr>",
                            "<tr><td>janos3</td><td>NULL</td><td>13</td></tr>",
                            "<tr><td>JANOSG</td><td>NULL</td><td>10</td></tr>",
                            "<tr><td>JANOSP</td><td>NULL</td><td>17</td></tr>",
                            "<tr><td>jozsef</td><td>NULL</td><td>382</td></tr>",
                            "<tr><td>jozsef2</td><td>NULL</td><td>13</td></tr>",
                            "<tr><td>JOZSEFG</td><td>NULL</td><td>21</td></tr>",
                            "<tr><td>JUDITH</td><td>NULL</td><td>450</td></tr>",
                            "<tr><td>julia</td><td>NULL</td><td>435</td></tr>",
                            "<tr><td>julia4</td><td>NULL</td><td>14</td></tr>",
                            "<tr><td>julianna4</td><td>NULL</td><td>27</td></tr>",
                            "<tr><td>kata</td><td>NULL</td><td>12</td></tr>",
                            "<tr><td>katalin</td><td>NULL</td><td>19</td></tr>",
                            "<tr><td>katalin4</td><td>NULL</td><td>23</td></tr>",
                            "<tr><td>kati</td><td>NULL</td><td>13</td></tr>",
                            "<tr><td>katka</td><td>NULL</td><td>22</td></tr>",
                            "<tr><td>klaudia2</td><td>NULL</td><td>17</td></tr>",
                            "<tr><td>kornel4</td><td>NULL</td><td>11</td></tr>",
                            "<tr><td>kristof4</td><td>NULL</td><td>21</td></tr>",
                            "<tr><td>kriszti</td><td>NULL</td><td>13</td></tr>",
                            "<tr><td>krisztian4</td><td>NULL</td><td>17</td></tr>",
                            "<tr><td>KRISZTIANM</td><td>NULL</td><td>384</td></tr>",
                            "<tr><td>krisztina</td><td>NULL</td><td>456</td></tr>",
                            "<tr><td>krisztina1</td><td>NULL</td><td>22</td></tr>",
                            "<tr><td>KRISZTINAG</td><td>NULL</td><td>22</td></tr>",
                            "<tr><td>lajos</td><td>NULL</td><td>16</td></tr>",
                            "<tr><td>lala</td><td>NULL</td><td>17</td></tr>",
                            "<tr><td>laszlo1</td><td>NULL</td><td>394</td></tr>",
                            "<tr><td>laszlo2</td><td>NULL</td><td>25</td></tr>",
                            "<tr><td>LASZLOA</td><td>NULL</td><td>446</td></tr>",
                            "<tr><td>LASZLON</td><td>NULL</td><td>400</td></tr>",
                            "<tr><td>maria1</td><td>NULL</td><td>10</td></tr>",
                            "<tr><td>MARKH</td><td>NULL</td><td>412</td></tr>",
                            "<tr><td>marton</td><td>NULL</td><td>14</td></tr>",
                            "<tr><td>MATEK</td><td>NULL</td><td>25</td></tr>",
                            "<tr><td>matyas2</td><td>NULL</td><td>433</td></tr>",
                            "<tr><td>MATYASS</td><td>NULL</td><td>12</td></tr>",
                            "<tr><td>MIHALYJ</td><td>NULL</td><td>13</td></tr>",
                            "<tr><td>miklos2</td><td>NULL</td><td>13</td></tr>",
                            "<tr><td>MIKLOSB</td><td>NULL</td><td>15</td></tr>",
                            "<tr><td>MONIKAM</td><td>NULL</td><td>407</td></tr>",
                            "<tr><td>NANDORF</td><td>NULL</td><td>420</td></tr>",
                            "<tr><td>nikolett3</td><td>NULL</td><td>17</td></tr>",
                            "<tr><td>nikoletta4</td><td>NULL</td><td>414</td></tr>",
                            "<tr><td>NIKOLETTAT</td><td>NULL</td><td>25</td></tr>",
                            "<tr><td>norbert2</td><td>NULL</td><td>11</td></tr>",
                            "<tr><td>norbert4</td><td>NULL</td><td>13</td></tr>",
                            "<tr><td>norbert5</td><td>NULL</td><td>16</td></tr>",
                            "<tr><td>pal</td><td>NULL</td><td>438</td></tr>",
                            "<tr><td>peter1</td><td>NULL</td><td>412</td></tr>",
                            "<tr><td>peter2</td><td>NULL</td><td>18</td></tr>",
                            "<tr><td>peter3</td><td>NULL</td><td>25</td></tr>",
                            "<tr><td>peter4</td><td>NULL</td><td>852</td></tr>",
                            "<tr><td>PETERB</td><td>NULL</td><td>15</td></tr>",
                            "<tr><td>polla</td><td>NULL</td><td>22</td></tr>",
                            "<tr><td>rajmond4</td><td>NULL</td><td>17</td></tr>",
                            "<tr><td>reka4</td><td>NULL</td><td>20</td></tr>",
                            "<tr><td>RENATAK</td><td>NULL</td><td>422</td></tr>",
                            "<tr><td>RENATAS</td><td>NULL</td><td>16</td></tr>",
                            "<tr><td>robert2</td><td>NULL</td><td>13</td></tr>",
                            "<tr><td>ROBERTI</td><td>NULL</td><td>13</td></tr>",
                            "<tr><td>ROBERTP</td><td>NULL</td><td>26</td></tr>",
                            "<tr><td>roland</td><td>NULL</td><td>414</td></tr>",
                            "<tr><td>roland1</td><td>NULL</td><td>432</td></tr>",
                            "<tr><td>roza2</td><td>NULL</td><td>8</td></tr>",
                            "<tr><td>sandor</td><td>NULL</td><td>17</td></tr>",
                            "<tr><td>sandor3</td><td>NULL</td><td>14</td></tr>",
                            "<tr><td>sandor4</td><td>NULL</td><td>11</td></tr>",
                            "<tr><td>sara</td><td>NULL</td><td>20</td></tr>",
                            "<tr><td>SEBASTIANF</td><td>NULL</td><td>15</td></tr>",
                            "<tr><td>sebestyen</td><td>NULL</td><td>16</td></tr>",
                            "<tr><td>szabolcs</td><td>NULL</td><td>471</td></tr>",
                            "<tr><td>SZABOLCSM</td><td>NULL</td><td>408</td></tr>",
                            "<tr><td>SZILARDS</td><td>NULL</td><td>386</td></tr>",
                            "<tr><td>szilvia1</td><td>NULL</td><td>445</td></tr>",
                            "<tr><td>tamara2</td><td>NULL</td><td>13</td></tr>",
                            "<tr><td>tamas</td><td>NULL</td><td>421</td></tr>",
                            "<tr><td>TAMASF</td><td>NULL</td><td>433</td></tr>",
                            "<tr><td>tibor</td><td>NULL</td><td>374</td></tr>",
                            "<tr><td>tibor2</td><td>NULL</td><td>25</td></tr>",
                            "<tr><td>tihamer</td><td>NULL</td><td>20</td></tr>",
                            "<tr><td>timea</td><td>NULL</td><td>55</td></tr>",
                            "<tr><td>timea2</td><td>NULL</td><td>16</td></tr>",
                            "<tr><td>tunde</td><td>NULL</td><td>16</td></tr>",
                            "<tr><td>valentin</td><td>NULL</td><td>13</td></tr>",
                            "<tr><td>veronika4</td><td>NULL</td><td>18</td></tr>",
                            "<tr><td>VIKTORIAU</td><td>NULL</td><td>14</td></tr>",
                            "<tr><td>VIKTORK</td><td>NULL</td><td>20</td></tr>",
                            "<tr><td>vivien3</td><td>NULL</td><td>22</td></tr>",
                            "<tr><td>zoltan</td><td>NULL</td><td>15</td></tr>",
                            "<tr><td>zoltan4</td><td>NULL</td><td>424</td></tr>",
                            "<tr><td>ZOLTANP</td><td>NULL</td><td>13</td></tr>",
                            "<tr><td>ZOLTANT</td><td>NULL</td><td>357</td></tr>",
                            "<tr><td>zsofi1</td><td>NULL</td><td>19</td></tr>",
                            "<tr><td>zsolt1</td><td>NULL</td><td>20</td></tr>",
                            "<tr><td>ZSOLTJ</td><td>NULL</td><td>18</td></tr>",
                            "<tr><td>zsuzsa</td><td>NULL</td><td>16</td></tr>",
                            "<tr><td>zsuzsa3</td><td>NULL</td><td>16</td></tr>",
                            "<tr><td>zsuzsanna</td><td>NULL</td><td>15</td></tr>",
                            "<tr><td>ZSUZSAV</td><td>NULL</td><td>420</td></tr>",
                            "</table>"
                        ]
                    }
                }
            ],
            "execution_count": 2
        },
        {
            "cell_type": "markdown",
            "source": [
                "2. <span style=\"background-color: rgb(255, 255, 255); color: rgb(0, 0, 0); font-family: &quot;Open Sans&quot;, sans-serif; font-size: 14.44px;\">Készítsünk listát a termékek számáról a következő csoportosítási szempontok szerint:<br>kategória azonosító, raktárkód, raktárkód+mennyiségi egység!</span>\n",
                "\n",
                "a. A listát szűrjük azokra a csoportokra, ahol a termékek száma legalább 6!"
            ],
            "metadata": {
                "azdata_cell_guid": "ea75c103-911f-41a3-a32c-3d40fb3e4e4a"
            },
            "attachments": {}
        },
        {
            "cell_type": "code",
            "source": [
                "SELECT KAT_ID,\r\n",
                "        RAKTAR_KOD,\r\n",
                "        MEGYS,\r\n",
                "        COUNT(*)\r\n",
                "FROM Termek\r\n",
                "GROUP BY GROUPING SETS (KAT_ID, RAKTAR_KOD, (RAKTAR_KOD, MEGYS))"
            ],
            "metadata": {
                "azdata_cell_guid": "222b9618-a8e8-42b4-a8e8-d002257122b7",
                "language": "sql"
            },
            "outputs": [
                {
                    "output_type": "display_data",
                    "data": {
                        "text/html": "(174 rows affected)"
                    },
                    "metadata": {}
                },
                {
                    "output_type": "display_data",
                    "data": {
                        "text/html": "Total execution time: 00:00:00.017"
                    },
                    "metadata": {}
                },
                {
                    "output_type": "execute_result",
                    "metadata": {},
                    "execution_count": 3,
                    "data": {
                        "application/vnd.dataresource+json": {
                            "schema": {
                                "fields": [
                                    {
                                        "name": "KAT_ID"
                                    },
                                    {
                                        "name": "RAKTAR_KOD"
                                    },
                                    {
                                        "name": "MEGYS"
                                    },
                                    {
                                        "name": "(No column name)"
                                    }
                                ]
                            },
                            "data": [
                                {
                                    "KAT_ID": "NULL",
                                    "RAKTAR_KOD": "1",
                                    "MEGYS": "db",
                                    "(No column name)": "11"
                                },
                                {
                                    "KAT_ID": "NULL",
                                    "RAKTAR_KOD": "1",
                                    "MEGYS": "NULL",
                                    "(No column name)": "11"
                                },
                                {
                                    "KAT_ID": "NULL",
                                    "RAKTAR_KOD": "2",
                                    "MEGYS": "db",
                                    "(No column name)": "5"
                                },
                                {
                                    "KAT_ID": "NULL",
                                    "RAKTAR_KOD": "2",
                                    "MEGYS": "NULL",
                                    "(No column name)": "5"
                                },
                                {
                                    "KAT_ID": "NULL",
                                    "RAKTAR_KOD": "3",
                                    "MEGYS": "db",
                                    "(No column name)": "14"
                                },
                                {
                                    "KAT_ID": "NULL",
                                    "RAKTAR_KOD": "3",
                                    "MEGYS": "NULL",
                                    "(No column name)": "14"
                                },
                                {
                                    "KAT_ID": "NULL",
                                    "RAKTAR_KOD": "4",
                                    "MEGYS": "db",
                                    "(No column name)": "4"
                                },
                                {
                                    "KAT_ID": "NULL",
                                    "RAKTAR_KOD": "4",
                                    "MEGYS": "NULL",
                                    "(No column name)": "4"
                                },
                                {
                                    "KAT_ID": "NULL",
                                    "RAKTAR_KOD": "5",
                                    "MEGYS": "csomag",
                                    "(No column name)": "7"
                                },
                                {
                                    "KAT_ID": "NULL",
                                    "RAKTAR_KOD": "5",
                                    "MEGYS": "db",
                                    "(No column name)": "72"
                                },
                                {
                                    "KAT_ID": "NULL",
                                    "RAKTAR_KOD": "5",
                                    "MEGYS": "doboz",
                                    "(No column name)": "1"
                                },
                                {
                                    "KAT_ID": "NULL",
                                    "RAKTAR_KOD": "5",
                                    "MEGYS": "ív",
                                    "(No column name)": "5"
                                },
                                {
                                    "KAT_ID": "NULL",
                                    "RAKTAR_KOD": "5",
                                    "MEGYS": "üveg",
                                    "(No column name)": "1"
                                },
                                {
                                    "KAT_ID": "NULL",
                                    "RAKTAR_KOD": "5",
                                    "MEGYS": "NULL",
                                    "(No column name)": "86"
                                },
                                {
                                    "KAT_ID": "NULL",
                                    "RAKTAR_KOD": "6",
                                    "MEGYS": "csomag",
                                    "(No column name)": "9"
                                },
                                {
                                    "KAT_ID": "NULL",
                                    "RAKTAR_KOD": "6",
                                    "MEGYS": "db",
                                    "(No column name)": "94"
                                },
                                {
                                    "KAT_ID": "NULL",
                                    "RAKTAR_KOD": "6",
                                    "MEGYS": "ív",
                                    "(No column name)": "3"
                                },
                                {
                                    "KAT_ID": "NULL",
                                    "RAKTAR_KOD": "6",
                                    "MEGYS": "NULL",
                                    "(No column name)": "106"
                                },
                                {
                                    "KAT_ID": "NULL",
                                    "RAKTAR_KOD": "7",
                                    "MEGYS": "csomag",
                                    "(No column name)": "9"
                                },
                                {
                                    "KAT_ID": "NULL",
                                    "RAKTAR_KOD": "7",
                                    "MEGYS": "db",
                                    "(No column name)": "88"
                                },
                                {
                                    "KAT_ID": "NULL",
                                    "RAKTAR_KOD": "7",
                                    "MEGYS": "ív",
                                    "(No column name)": "2"
                                },
                                {
                                    "KAT_ID": "NULL",
                                    "RAKTAR_KOD": "7",
                                    "MEGYS": "tekercs",
                                    "(No column name)": "1"
                                },
                                {
                                    "KAT_ID": "NULL",
                                    "RAKTAR_KOD": "7",
                                    "MEGYS": "NULL",
                                    "(No column name)": "100"
                                },
                                {
                                    "KAT_ID": "NULL",
                                    "RAKTAR_KOD": "8",
                                    "MEGYS": "csomag",
                                    "(No column name)": "8"
                                },
                                {
                                    "KAT_ID": "NULL",
                                    "RAKTAR_KOD": "8",
                                    "MEGYS": "db",
                                    "(No column name)": "109"
                                },
                                {
                                    "KAT_ID": "NULL",
                                    "RAKTAR_KOD": "8",
                                    "MEGYS": "ív",
                                    "(No column name)": "6"
                                },
                                {
                                    "KAT_ID": "NULL",
                                    "RAKTAR_KOD": "8",
                                    "MEGYS": "NULL",
                                    "(No column name)": "123"
                                },
                                {
                                    "KAT_ID": "NULL",
                                    "RAKTAR_KOD": "9",
                                    "MEGYS": "csomag",
                                    "(No column name)": "11"
                                },
                                {
                                    "KAT_ID": "NULL",
                                    "RAKTAR_KOD": "9",
                                    "MEGYS": "db",
                                    "(No column name)": "86"
                                },
                                {
                                    "KAT_ID": "NULL",
                                    "RAKTAR_KOD": "9",
                                    "MEGYS": "ív",
                                    "(No column name)": "5"
                                },
                                {
                                    "KAT_ID": "NULL",
                                    "RAKTAR_KOD": "9",
                                    "MEGYS": "NULL",
                                    "(No column name)": "102"
                                },
                                {
                                    "KAT_ID": "4",
                                    "RAKTAR_KOD": "NULL",
                                    "MEGYS": "NULL",
                                    "(No column name)": "15"
                                },
                                {
                                    "KAT_ID": "5",
                                    "RAKTAR_KOD": "NULL",
                                    "MEGYS": "NULL",
                                    "(No column name)": "3"
                                },
                                {
                                    "KAT_ID": "6",
                                    "RAKTAR_KOD": "NULL",
                                    "MEGYS": "NULL",
                                    "(No column name)": "20"
                                },
                                {
                                    "KAT_ID": "7",
                                    "RAKTAR_KOD": "NULL",
                                    "MEGYS": "NULL",
                                    "(No column name)": "3"
                                },
                                {
                                    "KAT_ID": "8",
                                    "RAKTAR_KOD": "NULL",
                                    "MEGYS": "NULL",
                                    "(No column name)": "3"
                                },
                                {
                                    "KAT_ID": "9",
                                    "RAKTAR_KOD": "NULL",
                                    "MEGYS": "NULL",
                                    "(No column name)": "2"
                                },
                                {
                                    "KAT_ID": "10",
                                    "RAKTAR_KOD": "NULL",
                                    "MEGYS": "NULL",
                                    "(No column name)": "1"
                                },
                                {
                                    "KAT_ID": "11",
                                    "RAKTAR_KOD": "NULL",
                                    "MEGYS": "NULL",
                                    "(No column name)": "1"
                                },
                                {
                                    "KAT_ID": "12",
                                    "RAKTAR_KOD": "NULL",
                                    "MEGYS": "NULL",
                                    "(No column name)": "1"
                                },
                                {
                                    "KAT_ID": "13",
                                    "RAKTAR_KOD": "NULL",
                                    "MEGYS": "NULL",
                                    "(No column name)": "2"
                                },
                                {
                                    "KAT_ID": "14",
                                    "RAKTAR_KOD": "NULL",
                                    "MEGYS": "NULL",
                                    "(No column name)": "4"
                                },
                                {
                                    "KAT_ID": "15",
                                    "RAKTAR_KOD": "NULL",
                                    "MEGYS": "NULL",
                                    "(No column name)": "1"
                                },
                                {
                                    "KAT_ID": "16",
                                    "RAKTAR_KOD": "NULL",
                                    "MEGYS": "NULL",
                                    "(No column name)": "7"
                                },
                                {
                                    "KAT_ID": "17",
                                    "RAKTAR_KOD": "NULL",
                                    "MEGYS": "NULL",
                                    "(No column name)": "1"
                                },
                                {
                                    "KAT_ID": "18",
                                    "RAKTAR_KOD": "NULL",
                                    "MEGYS": "NULL",
                                    "(No column name)": "2"
                                },
                                {
                                    "KAT_ID": "19",
                                    "RAKTAR_KOD": "NULL",
                                    "MEGYS": "NULL",
                                    "(No column name)": "19"
                                },
                                {
                                    "KAT_ID": "20",
                                    "RAKTAR_KOD": "NULL",
                                    "MEGYS": "NULL",
                                    "(No column name)": "3"
                                },
                                {
                                    "KAT_ID": "21",
                                    "RAKTAR_KOD": "NULL",
                                    "MEGYS": "NULL",
                                    "(No column name)": "5"
                                },
                                {
                                    "KAT_ID": "22",
                                    "RAKTAR_KOD": "NULL",
                                    "MEGYS": "NULL",
                                    "(No column name)": "2"
                                },
                                {
                                    "KAT_ID": "24",
                                    "RAKTAR_KOD": "NULL",
                                    "MEGYS": "NULL",
                                    "(No column name)": "7"
                                },
                                {
                                    "KAT_ID": "25",
                                    "RAKTAR_KOD": "NULL",
                                    "MEGYS": "NULL",
                                    "(No column name)": "4"
                                },
                                {
                                    "KAT_ID": "26",
                                    "RAKTAR_KOD": "NULL",
                                    "MEGYS": "NULL",
                                    "(No column name)": "1"
                                },
                                {
                                    "KAT_ID": "27",
                                    "RAKTAR_KOD": "NULL",
                                    "MEGYS": "NULL",
                                    "(No column name)": "3"
                                },
                                {
                                    "KAT_ID": "28",
                                    "RAKTAR_KOD": "NULL",
                                    "MEGYS": "NULL",
                                    "(No column name)": "5"
                                },
                                {
                                    "KAT_ID": "29",
                                    "RAKTAR_KOD": "NULL",
                                    "MEGYS": "NULL",
                                    "(No column name)": "1"
                                },
                                {
                                    "KAT_ID": "30",
                                    "RAKTAR_KOD": "NULL",
                                    "MEGYS": "NULL",
                                    "(No column name)": "7"
                                },
                                {
                                    "KAT_ID": "31",
                                    "RAKTAR_KOD": "NULL",
                                    "MEGYS": "NULL",
                                    "(No column name)": "1"
                                },
                                {
                                    "KAT_ID": "32",
                                    "RAKTAR_KOD": "NULL",
                                    "MEGYS": "NULL",
                                    "(No column name)": "3"
                                },
                                {
                                    "KAT_ID": "33",
                                    "RAKTAR_KOD": "NULL",
                                    "MEGYS": "NULL",
                                    "(No column name)": "1"
                                },
                                {
                                    "KAT_ID": "34",
                                    "RAKTAR_KOD": "NULL",
                                    "MEGYS": "NULL",
                                    "(No column name)": "1"
                                },
                                {
                                    "KAT_ID": "35",
                                    "RAKTAR_KOD": "NULL",
                                    "MEGYS": "NULL",
                                    "(No column name)": "7"
                                },
                                {
                                    "KAT_ID": "36",
                                    "RAKTAR_KOD": "NULL",
                                    "MEGYS": "NULL",
                                    "(No column name)": "5"
                                },
                                {
                                    "KAT_ID": "37",
                                    "RAKTAR_KOD": "NULL",
                                    "MEGYS": "NULL",
                                    "(No column name)": "1"
                                },
                                {
                                    "KAT_ID": "38",
                                    "RAKTAR_KOD": "NULL",
                                    "MEGYS": "NULL",
                                    "(No column name)": "1"
                                },
                                {
                                    "KAT_ID": "39",
                                    "RAKTAR_KOD": "NULL",
                                    "MEGYS": "NULL",
                                    "(No column name)": "2"
                                },
                                {
                                    "KAT_ID": "40",
                                    "RAKTAR_KOD": "NULL",
                                    "MEGYS": "NULL",
                                    "(No column name)": "1"
                                },
                                {
                                    "KAT_ID": "41",
                                    "RAKTAR_KOD": "NULL",
                                    "MEGYS": "NULL",
                                    "(No column name)": "13"
                                },
                                {
                                    "KAT_ID": "42",
                                    "RAKTAR_KOD": "NULL",
                                    "MEGYS": "NULL",
                                    "(No column name)": "1"
                                },
                                {
                                    "KAT_ID": "43",
                                    "RAKTAR_KOD": "NULL",
                                    "MEGYS": "NULL",
                                    "(No column name)": "3"
                                },
                                {
                                    "KAT_ID": "44",
                                    "RAKTAR_KOD": "NULL",
                                    "MEGYS": "NULL",
                                    "(No column name)": "1"
                                },
                                {
                                    "KAT_ID": "45",
                                    "RAKTAR_KOD": "NULL",
                                    "MEGYS": "NULL",
                                    "(No column name)": "11"
                                },
                                {
                                    "KAT_ID": "46",
                                    "RAKTAR_KOD": "NULL",
                                    "MEGYS": "NULL",
                                    "(No column name)": "7"
                                },
                                {
                                    "KAT_ID": "47",
                                    "RAKTAR_KOD": "NULL",
                                    "MEGYS": "NULL",
                                    "(No column name)": "4"
                                },
                                {
                                    "KAT_ID": "48",
                                    "RAKTAR_KOD": "NULL",
                                    "MEGYS": "NULL",
                                    "(No column name)": "2"
                                },
                                {
                                    "KAT_ID": "49",
                                    "RAKTAR_KOD": "NULL",
                                    "MEGYS": "NULL",
                                    "(No column name)": "2"
                                },
                                {
                                    "KAT_ID": "50",
                                    "RAKTAR_KOD": "NULL",
                                    "MEGYS": "NULL",
                                    "(No column name)": "1"
                                },
                                {
                                    "KAT_ID": "51",
                                    "RAKTAR_KOD": "NULL",
                                    "MEGYS": "NULL",
                                    "(No column name)": "3"
                                },
                                {
                                    "KAT_ID": "52",
                                    "RAKTAR_KOD": "NULL",
                                    "MEGYS": "NULL",
                                    "(No column name)": "26"
                                },
                                {
                                    "KAT_ID": "53",
                                    "RAKTAR_KOD": "NULL",
                                    "MEGYS": "NULL",
                                    "(No column name)": "1"
                                },
                                {
                                    "KAT_ID": "54",
                                    "RAKTAR_KOD": "NULL",
                                    "MEGYS": "NULL",
                                    "(No column name)": "6"
                                },
                                {
                                    "KAT_ID": "55",
                                    "RAKTAR_KOD": "NULL",
                                    "MEGYS": "NULL",
                                    "(No column name)": "2"
                                },
                                {
                                    "KAT_ID": "56",
                                    "RAKTAR_KOD": "NULL",
                                    "MEGYS": "NULL",
                                    "(No column name)": "4"
                                },
                                {
                                    "KAT_ID": "57",
                                    "RAKTAR_KOD": "NULL",
                                    "MEGYS": "NULL",
                                    "(No column name)": "2"
                                },
                                {
                                    "KAT_ID": "58",
                                    "RAKTAR_KOD": "NULL",
                                    "MEGYS": "NULL",
                                    "(No column name)": "3"
                                },
                                {
                                    "KAT_ID": "59",
                                    "RAKTAR_KOD": "NULL",
                                    "MEGYS": "NULL",
                                    "(No column name)": "4"
                                },
                                {
                                    "KAT_ID": "60",
                                    "RAKTAR_KOD": "NULL",
                                    "MEGYS": "NULL",
                                    "(No column name)": "5"
                                },
                                {
                                    "KAT_ID": "61",
                                    "RAKTAR_KOD": "NULL",
                                    "MEGYS": "NULL",
                                    "(No column name)": "1"
                                },
                                {
                                    "KAT_ID": "62",
                                    "RAKTAR_KOD": "NULL",
                                    "MEGYS": "NULL",
                                    "(No column name)": "2"
                                },
                                {
                                    "KAT_ID": "64",
                                    "RAKTAR_KOD": "NULL",
                                    "MEGYS": "NULL",
                                    "(No column name)": "4"
                                },
                                {
                                    "KAT_ID": "65",
                                    "RAKTAR_KOD": "NULL",
                                    "MEGYS": "NULL",
                                    "(No column name)": "2"
                                },
                                {
                                    "KAT_ID": "66",
                                    "RAKTAR_KOD": "NULL",
                                    "MEGYS": "NULL",
                                    "(No column name)": "7"
                                },
                                {
                                    "KAT_ID": "67",
                                    "RAKTAR_KOD": "NULL",
                                    "MEGYS": "NULL",
                                    "(No column name)": "2"
                                },
                                {
                                    "KAT_ID": "68",
                                    "RAKTAR_KOD": "NULL",
                                    "MEGYS": "NULL",
                                    "(No column name)": "2"
                                },
                                {
                                    "KAT_ID": "70",
                                    "RAKTAR_KOD": "NULL",
                                    "MEGYS": "NULL",
                                    "(No column name)": "3"
                                },
                                {
                                    "KAT_ID": "71",
                                    "RAKTAR_KOD": "NULL",
                                    "MEGYS": "NULL",
                                    "(No column name)": "2"
                                },
                                {
                                    "KAT_ID": "72",
                                    "RAKTAR_KOD": "NULL",
                                    "MEGYS": "NULL",
                                    "(No column name)": "2"
                                },
                                {
                                    "KAT_ID": "73",
                                    "RAKTAR_KOD": "NULL",
                                    "MEGYS": "NULL",
                                    "(No column name)": "2"
                                },
                                {
                                    "KAT_ID": "74",
                                    "RAKTAR_KOD": "NULL",
                                    "MEGYS": "NULL",
                                    "(No column name)": "1"
                                },
                                {
                                    "KAT_ID": "75",
                                    "RAKTAR_KOD": "NULL",
                                    "MEGYS": "NULL",
                                    "(No column name)": "2"
                                },
                                {
                                    "KAT_ID": "76",
                                    "RAKTAR_KOD": "NULL",
                                    "MEGYS": "NULL",
                                    "(No column name)": "5"
                                },
                                {
                                    "KAT_ID": "78",
                                    "RAKTAR_KOD": "NULL",
                                    "MEGYS": "NULL",
                                    "(No column name)": "24"
                                },
                                {
                                    "KAT_ID": "79",
                                    "RAKTAR_KOD": "NULL",
                                    "MEGYS": "NULL",
                                    "(No column name)": "4"
                                },
                                {
                                    "KAT_ID": "80",
                                    "RAKTAR_KOD": "NULL",
                                    "MEGYS": "NULL",
                                    "(No column name)": "1"
                                },
                                {
                                    "KAT_ID": "82",
                                    "RAKTAR_KOD": "NULL",
                                    "MEGYS": "NULL",
                                    "(No column name)": "1"
                                },
                                {
                                    "KAT_ID": "83",
                                    "RAKTAR_KOD": "NULL",
                                    "MEGYS": "NULL",
                                    "(No column name)": "6"
                                },
                                {
                                    "KAT_ID": "84",
                                    "RAKTAR_KOD": "NULL",
                                    "MEGYS": "NULL",
                                    "(No column name)": "1"
                                },
                                {
                                    "KAT_ID": "85",
                                    "RAKTAR_KOD": "NULL",
                                    "MEGYS": "NULL",
                                    "(No column name)": "16"
                                },
                                {
                                    "KAT_ID": "86",
                                    "RAKTAR_KOD": "NULL",
                                    "MEGYS": "NULL",
                                    "(No column name)": "1"
                                },
                                {
                                    "KAT_ID": "88",
                                    "RAKTAR_KOD": "NULL",
                                    "MEGYS": "NULL",
                                    "(No column name)": "2"
                                },
                                {
                                    "KAT_ID": "89",
                                    "RAKTAR_KOD": "NULL",
                                    "MEGYS": "NULL",
                                    "(No column name)": "3"
                                },
                                {
                                    "KAT_ID": "90",
                                    "RAKTAR_KOD": "NULL",
                                    "MEGYS": "NULL",
                                    "(No column name)": "2"
                                },
                                {
                                    "KAT_ID": "91",
                                    "RAKTAR_KOD": "NULL",
                                    "MEGYS": "NULL",
                                    "(No column name)": "7"
                                },
                                {
                                    "KAT_ID": "92",
                                    "RAKTAR_KOD": "NULL",
                                    "MEGYS": "NULL",
                                    "(No column name)": "2"
                                },
                                {
                                    "KAT_ID": "93",
                                    "RAKTAR_KOD": "NULL",
                                    "MEGYS": "NULL",
                                    "(No column name)": "7"
                                },
                                {
                                    "KAT_ID": "94",
                                    "RAKTAR_KOD": "NULL",
                                    "MEGYS": "NULL",
                                    "(No column name)": "2"
                                },
                                {
                                    "KAT_ID": "95",
                                    "RAKTAR_KOD": "NULL",
                                    "MEGYS": "NULL",
                                    "(No column name)": "2"
                                },
                                {
                                    "KAT_ID": "96",
                                    "RAKTAR_KOD": "NULL",
                                    "MEGYS": "NULL",
                                    "(No column name)": "9"
                                },
                                {
                                    "KAT_ID": "97",
                                    "RAKTAR_KOD": "NULL",
                                    "MEGYS": "NULL",
                                    "(No column name)": "10"
                                },
                                {
                                    "KAT_ID": "98",
                                    "RAKTAR_KOD": "NULL",
                                    "MEGYS": "NULL",
                                    "(No column name)": "4"
                                },
                                {
                                    "KAT_ID": "99",
                                    "RAKTAR_KOD": "NULL",
                                    "MEGYS": "NULL",
                                    "(No column name)": "1"
                                },
                                {
                                    "KAT_ID": "100",
                                    "RAKTAR_KOD": "NULL",
                                    "MEGYS": "NULL",
                                    "(No column name)": "9"
                                },
                                {
                                    "KAT_ID": "101",
                                    "RAKTAR_KOD": "NULL",
                                    "MEGYS": "NULL",
                                    "(No column name)": "1"
                                },
                                {
                                    "KAT_ID": "103",
                                    "RAKTAR_KOD": "NULL",
                                    "MEGYS": "NULL",
                                    "(No column name)": "1"
                                },
                                {
                                    "KAT_ID": "104",
                                    "RAKTAR_KOD": "NULL",
                                    "MEGYS": "NULL",
                                    "(No column name)": "2"
                                },
                                {
                                    "KAT_ID": "105",
                                    "RAKTAR_KOD": "NULL",
                                    "MEGYS": "NULL",
                                    "(No column name)": "1"
                                },
                                {
                                    "KAT_ID": "106",
                                    "RAKTAR_KOD": "NULL",
                                    "MEGYS": "NULL",
                                    "(No column name)": "5"
                                },
                                {
                                    "KAT_ID": "107",
                                    "RAKTAR_KOD": "NULL",
                                    "MEGYS": "NULL",
                                    "(No column name)": "1"
                                },
                                {
                                    "KAT_ID": "108",
                                    "RAKTAR_KOD": "NULL",
                                    "MEGYS": "NULL",
                                    "(No column name)": "1"
                                },
                                {
                                    "KAT_ID": "109",
                                    "RAKTAR_KOD": "NULL",
                                    "MEGYS": "NULL",
                                    "(No column name)": "1"
                                },
                                {
                                    "KAT_ID": "110",
                                    "RAKTAR_KOD": "NULL",
                                    "MEGYS": "NULL",
                                    "(No column name)": "2"
                                },
                                {
                                    "KAT_ID": "111",
                                    "RAKTAR_KOD": "NULL",
                                    "MEGYS": "NULL",
                                    "(No column name)": "3"
                                },
                                {
                                    "KAT_ID": "112",
                                    "RAKTAR_KOD": "NULL",
                                    "MEGYS": "NULL",
                                    "(No column name)": "2"
                                },
                                {
                                    "KAT_ID": "114",
                                    "RAKTAR_KOD": "NULL",
                                    "MEGYS": "NULL",
                                    "(No column name)": "1"
                                },
                                {
                                    "KAT_ID": "115",
                                    "RAKTAR_KOD": "NULL",
                                    "MEGYS": "NULL",
                                    "(No column name)": "1"
                                },
                                {
                                    "KAT_ID": "116",
                                    "RAKTAR_KOD": "NULL",
                                    "MEGYS": "NULL",
                                    "(No column name)": "2"
                                },
                                {
                                    "KAT_ID": "117",
                                    "RAKTAR_KOD": "NULL",
                                    "MEGYS": "NULL",
                                    "(No column name)": "2"
                                },
                                {
                                    "KAT_ID": "118",
                                    "RAKTAR_KOD": "NULL",
                                    "MEGYS": "NULL",
                                    "(No column name)": "9"
                                },
                                {
                                    "KAT_ID": "119",
                                    "RAKTAR_KOD": "NULL",
                                    "MEGYS": "NULL",
                                    "(No column name)": "3"
                                },
                                {
                                    "KAT_ID": "121",
                                    "RAKTAR_KOD": "NULL",
                                    "MEGYS": "NULL",
                                    "(No column name)": "2"
                                },
                                {
                                    "KAT_ID": "122",
                                    "RAKTAR_KOD": "NULL",
                                    "MEGYS": "NULL",
                                    "(No column name)": "7"
                                },
                                {
                                    "KAT_ID": "123",
                                    "RAKTAR_KOD": "NULL",
                                    "MEGYS": "NULL",
                                    "(No column name)": "2"
                                },
                                {
                                    "KAT_ID": "124",
                                    "RAKTAR_KOD": "NULL",
                                    "MEGYS": "NULL",
                                    "(No column name)": "10"
                                },
                                {
                                    "KAT_ID": "125",
                                    "RAKTAR_KOD": "NULL",
                                    "MEGYS": "NULL",
                                    "(No column name)": "4"
                                },
                                {
                                    "KAT_ID": "126",
                                    "RAKTAR_KOD": "NULL",
                                    "MEGYS": "NULL",
                                    "(No column name)": "1"
                                },
                                {
                                    "KAT_ID": "127",
                                    "RAKTAR_KOD": "NULL",
                                    "MEGYS": "NULL",
                                    "(No column name)": "2"
                                },
                                {
                                    "KAT_ID": "128",
                                    "RAKTAR_KOD": "NULL",
                                    "MEGYS": "NULL",
                                    "(No column name)": "2"
                                },
                                {
                                    "KAT_ID": "129",
                                    "RAKTAR_KOD": "NULL",
                                    "MEGYS": "NULL",
                                    "(No column name)": "2"
                                },
                                {
                                    "KAT_ID": "130",
                                    "RAKTAR_KOD": "NULL",
                                    "MEGYS": "NULL",
                                    "(No column name)": "1"
                                },
                                {
                                    "KAT_ID": "131",
                                    "RAKTAR_KOD": "NULL",
                                    "MEGYS": "NULL",
                                    "(No column name)": "1"
                                },
                                {
                                    "KAT_ID": "132",
                                    "RAKTAR_KOD": "NULL",
                                    "MEGYS": "NULL",
                                    "(No column name)": "1"
                                },
                                {
                                    "KAT_ID": "133",
                                    "RAKTAR_KOD": "NULL",
                                    "MEGYS": "NULL",
                                    "(No column name)": "6"
                                },
                                {
                                    "KAT_ID": "134",
                                    "RAKTAR_KOD": "NULL",
                                    "MEGYS": "NULL",
                                    "(No column name)": "2"
                                },
                                {
                                    "KAT_ID": "135",
                                    "RAKTAR_KOD": "NULL",
                                    "MEGYS": "NULL",
                                    "(No column name)": "1"
                                },
                                {
                                    "KAT_ID": "136",
                                    "RAKTAR_KOD": "NULL",
                                    "MEGYS": "NULL",
                                    "(No column name)": "2"
                                },
                                {
                                    "KAT_ID": "137",
                                    "RAKTAR_KOD": "NULL",
                                    "MEGYS": "NULL",
                                    "(No column name)": "3"
                                },
                                {
                                    "KAT_ID": "138",
                                    "RAKTAR_KOD": "NULL",
                                    "MEGYS": "NULL",
                                    "(No column name)": "5"
                                },
                                {
                                    "KAT_ID": "139",
                                    "RAKTAR_KOD": "NULL",
                                    "MEGYS": "NULL",
                                    "(No column name)": "1"
                                },
                                {
                                    "KAT_ID": "140",
                                    "RAKTAR_KOD": "NULL",
                                    "MEGYS": "NULL",
                                    "(No column name)": "1"
                                },
                                {
                                    "KAT_ID": "141",
                                    "RAKTAR_KOD": "NULL",
                                    "MEGYS": "NULL",
                                    "(No column name)": "2"
                                },
                                {
                                    "KAT_ID": "142",
                                    "RAKTAR_KOD": "NULL",
                                    "MEGYS": "NULL",
                                    "(No column name)": "1"
                                },
                                {
                                    "KAT_ID": "143",
                                    "RAKTAR_KOD": "NULL",
                                    "MEGYS": "NULL",
                                    "(No column name)": "3"
                                },
                                {
                                    "KAT_ID": "144",
                                    "RAKTAR_KOD": "NULL",
                                    "MEGYS": "NULL",
                                    "(No column name)": "2"
                                },
                                {
                                    "KAT_ID": "145",
                                    "RAKTAR_KOD": "NULL",
                                    "MEGYS": "NULL",
                                    "(No column name)": "18"
                                },
                                {
                                    "KAT_ID": "146",
                                    "RAKTAR_KOD": "NULL",
                                    "MEGYS": "NULL",
                                    "(No column name)": "7"
                                },
                                {
                                    "KAT_ID": "147",
                                    "RAKTAR_KOD": "NULL",
                                    "MEGYS": "NULL",
                                    "(No column name)": "1"
                                },
                                {
                                    "KAT_ID": "148",
                                    "RAKTAR_KOD": "NULL",
                                    "MEGYS": "NULL",
                                    "(No column name)": "1"
                                },
                                {
                                    "KAT_ID": "149",
                                    "RAKTAR_KOD": "NULL",
                                    "MEGYS": "NULL",
                                    "(No column name)": "6"
                                },
                                {
                                    "KAT_ID": "150",
                                    "RAKTAR_KOD": "NULL",
                                    "MEGYS": "NULL",
                                    "(No column name)": "2"
                                },
                                {
                                    "KAT_ID": "151",
                                    "RAKTAR_KOD": "NULL",
                                    "MEGYS": "NULL",
                                    "(No column name)": "4"
                                },
                                {
                                    "KAT_ID": "152",
                                    "RAKTAR_KOD": "NULL",
                                    "MEGYS": "NULL",
                                    "(No column name)": "6"
                                },
                                {
                                    "KAT_ID": "153",
                                    "RAKTAR_KOD": "NULL",
                                    "MEGYS": "NULL",
                                    "(No column name)": "1"
                                },
                                {
                                    "KAT_ID": "154",
                                    "RAKTAR_KOD": "NULL",
                                    "MEGYS": "NULL",
                                    "(No column name)": "4"
                                },
                                {
                                    "KAT_ID": "155",
                                    "RAKTAR_KOD": "NULL",
                                    "MEGYS": "NULL",
                                    "(No column name)": "1"
                                }
                            ]
                        },
                        "text/html": [
                            "<table>",
                            "<tr><th>KAT_ID</th><th>RAKTAR_KOD</th><th>MEGYS</th><th>(No column name)</th></tr>",
                            "<tr><td>NULL</td><td>1</td><td>db</td><td>11</td></tr>",
                            "<tr><td>NULL</td><td>1</td><td>NULL</td><td>11</td></tr>",
                            "<tr><td>NULL</td><td>2</td><td>db</td><td>5</td></tr>",
                            "<tr><td>NULL</td><td>2</td><td>NULL</td><td>5</td></tr>",
                            "<tr><td>NULL</td><td>3</td><td>db</td><td>14</td></tr>",
                            "<tr><td>NULL</td><td>3</td><td>NULL</td><td>14</td></tr>",
                            "<tr><td>NULL</td><td>4</td><td>db</td><td>4</td></tr>",
                            "<tr><td>NULL</td><td>4</td><td>NULL</td><td>4</td></tr>",
                            "<tr><td>NULL</td><td>5</td><td>csomag</td><td>7</td></tr>",
                            "<tr><td>NULL</td><td>5</td><td>db</td><td>72</td></tr>",
                            "<tr><td>NULL</td><td>5</td><td>doboz</td><td>1</td></tr>",
                            "<tr><td>NULL</td><td>5</td><td>ív</td><td>5</td></tr>",
                            "<tr><td>NULL</td><td>5</td><td>üveg</td><td>1</td></tr>",
                            "<tr><td>NULL</td><td>5</td><td>NULL</td><td>86</td></tr>",
                            "<tr><td>NULL</td><td>6</td><td>csomag</td><td>9</td></tr>",
                            "<tr><td>NULL</td><td>6</td><td>db</td><td>94</td></tr>",
                            "<tr><td>NULL</td><td>6</td><td>ív</td><td>3</td></tr>",
                            "<tr><td>NULL</td><td>6</td><td>NULL</td><td>106</td></tr>",
                            "<tr><td>NULL</td><td>7</td><td>csomag</td><td>9</td></tr>",
                            "<tr><td>NULL</td><td>7</td><td>db</td><td>88</td></tr>",
                            "<tr><td>NULL</td><td>7</td><td>ív</td><td>2</td></tr>",
                            "<tr><td>NULL</td><td>7</td><td>tekercs</td><td>1</td></tr>",
                            "<tr><td>NULL</td><td>7</td><td>NULL</td><td>100</td></tr>",
                            "<tr><td>NULL</td><td>8</td><td>csomag</td><td>8</td></tr>",
                            "<tr><td>NULL</td><td>8</td><td>db</td><td>109</td></tr>",
                            "<tr><td>NULL</td><td>8</td><td>ív</td><td>6</td></tr>",
                            "<tr><td>NULL</td><td>8</td><td>NULL</td><td>123</td></tr>",
                            "<tr><td>NULL</td><td>9</td><td>csomag</td><td>11</td></tr>",
                            "<tr><td>NULL</td><td>9</td><td>db</td><td>86</td></tr>",
                            "<tr><td>NULL</td><td>9</td><td>ív</td><td>5</td></tr>",
                            "<tr><td>NULL</td><td>9</td><td>NULL</td><td>102</td></tr>",
                            "<tr><td>4</td><td>NULL</td><td>NULL</td><td>15</td></tr>",
                            "<tr><td>5</td><td>NULL</td><td>NULL</td><td>3</td></tr>",
                            "<tr><td>6</td><td>NULL</td><td>NULL</td><td>20</td></tr>",
                            "<tr><td>7</td><td>NULL</td><td>NULL</td><td>3</td></tr>",
                            "<tr><td>8</td><td>NULL</td><td>NULL</td><td>3</td></tr>",
                            "<tr><td>9</td><td>NULL</td><td>NULL</td><td>2</td></tr>",
                            "<tr><td>10</td><td>NULL</td><td>NULL</td><td>1</td></tr>",
                            "<tr><td>11</td><td>NULL</td><td>NULL</td><td>1</td></tr>",
                            "<tr><td>12</td><td>NULL</td><td>NULL</td><td>1</td></tr>",
                            "<tr><td>13</td><td>NULL</td><td>NULL</td><td>2</td></tr>",
                            "<tr><td>14</td><td>NULL</td><td>NULL</td><td>4</td></tr>",
                            "<tr><td>15</td><td>NULL</td><td>NULL</td><td>1</td></tr>",
                            "<tr><td>16</td><td>NULL</td><td>NULL</td><td>7</td></tr>",
                            "<tr><td>17</td><td>NULL</td><td>NULL</td><td>1</td></tr>",
                            "<tr><td>18</td><td>NULL</td><td>NULL</td><td>2</td></tr>",
                            "<tr><td>19</td><td>NULL</td><td>NULL</td><td>19</td></tr>",
                            "<tr><td>20</td><td>NULL</td><td>NULL</td><td>3</td></tr>",
                            "<tr><td>21</td><td>NULL</td><td>NULL</td><td>5</td></tr>",
                            "<tr><td>22</td><td>NULL</td><td>NULL</td><td>2</td></tr>",
                            "<tr><td>24</td><td>NULL</td><td>NULL</td><td>7</td></tr>",
                            "<tr><td>25</td><td>NULL</td><td>NULL</td><td>4</td></tr>",
                            "<tr><td>26</td><td>NULL</td><td>NULL</td><td>1</td></tr>",
                            "<tr><td>27</td><td>NULL</td><td>NULL</td><td>3</td></tr>",
                            "<tr><td>28</td><td>NULL</td><td>NULL</td><td>5</td></tr>",
                            "<tr><td>29</td><td>NULL</td><td>NULL</td><td>1</td></tr>",
                            "<tr><td>30</td><td>NULL</td><td>NULL</td><td>7</td></tr>",
                            "<tr><td>31</td><td>NULL</td><td>NULL</td><td>1</td></tr>",
                            "<tr><td>32</td><td>NULL</td><td>NULL</td><td>3</td></tr>",
                            "<tr><td>33</td><td>NULL</td><td>NULL</td><td>1</td></tr>",
                            "<tr><td>34</td><td>NULL</td><td>NULL</td><td>1</td></tr>",
                            "<tr><td>35</td><td>NULL</td><td>NULL</td><td>7</td></tr>",
                            "<tr><td>36</td><td>NULL</td><td>NULL</td><td>5</td></tr>",
                            "<tr><td>37</td><td>NULL</td><td>NULL</td><td>1</td></tr>",
                            "<tr><td>38</td><td>NULL</td><td>NULL</td><td>1</td></tr>",
                            "<tr><td>39</td><td>NULL</td><td>NULL</td><td>2</td></tr>",
                            "<tr><td>40</td><td>NULL</td><td>NULL</td><td>1</td></tr>",
                            "<tr><td>41</td><td>NULL</td><td>NULL</td><td>13</td></tr>",
                            "<tr><td>42</td><td>NULL</td><td>NULL</td><td>1</td></tr>",
                            "<tr><td>43</td><td>NULL</td><td>NULL</td><td>3</td></tr>",
                            "<tr><td>44</td><td>NULL</td><td>NULL</td><td>1</td></tr>",
                            "<tr><td>45</td><td>NULL</td><td>NULL</td><td>11</td></tr>",
                            "<tr><td>46</td><td>NULL</td><td>NULL</td><td>7</td></tr>",
                            "<tr><td>47</td><td>NULL</td><td>NULL</td><td>4</td></tr>",
                            "<tr><td>48</td><td>NULL</td><td>NULL</td><td>2</td></tr>",
                            "<tr><td>49</td><td>NULL</td><td>NULL</td><td>2</td></tr>",
                            "<tr><td>50</td><td>NULL</td><td>NULL</td><td>1</td></tr>",
                            "<tr><td>51</td><td>NULL</td><td>NULL</td><td>3</td></tr>",
                            "<tr><td>52</td><td>NULL</td><td>NULL</td><td>26</td></tr>",
                            "<tr><td>53</td><td>NULL</td><td>NULL</td><td>1</td></tr>",
                            "<tr><td>54</td><td>NULL</td><td>NULL</td><td>6</td></tr>",
                            "<tr><td>55</td><td>NULL</td><td>NULL</td><td>2</td></tr>",
                            "<tr><td>56</td><td>NULL</td><td>NULL</td><td>4</td></tr>",
                            "<tr><td>57</td><td>NULL</td><td>NULL</td><td>2</td></tr>",
                            "<tr><td>58</td><td>NULL</td><td>NULL</td><td>3</td></tr>",
                            "<tr><td>59</td><td>NULL</td><td>NULL</td><td>4</td></tr>",
                            "<tr><td>60</td><td>NULL</td><td>NULL</td><td>5</td></tr>",
                            "<tr><td>61</td><td>NULL</td><td>NULL</td><td>1</td></tr>",
                            "<tr><td>62</td><td>NULL</td><td>NULL</td><td>2</td></tr>",
                            "<tr><td>64</td><td>NULL</td><td>NULL</td><td>4</td></tr>",
                            "<tr><td>65</td><td>NULL</td><td>NULL</td><td>2</td></tr>",
                            "<tr><td>66</td><td>NULL</td><td>NULL</td><td>7</td></tr>",
                            "<tr><td>67</td><td>NULL</td><td>NULL</td><td>2</td></tr>",
                            "<tr><td>68</td><td>NULL</td><td>NULL</td><td>2</td></tr>",
                            "<tr><td>70</td><td>NULL</td><td>NULL</td><td>3</td></tr>",
                            "<tr><td>71</td><td>NULL</td><td>NULL</td><td>2</td></tr>",
                            "<tr><td>72</td><td>NULL</td><td>NULL</td><td>2</td></tr>",
                            "<tr><td>73</td><td>NULL</td><td>NULL</td><td>2</td></tr>",
                            "<tr><td>74</td><td>NULL</td><td>NULL</td><td>1</td></tr>",
                            "<tr><td>75</td><td>NULL</td><td>NULL</td><td>2</td></tr>",
                            "<tr><td>76</td><td>NULL</td><td>NULL</td><td>5</td></tr>",
                            "<tr><td>78</td><td>NULL</td><td>NULL</td><td>24</td></tr>",
                            "<tr><td>79</td><td>NULL</td><td>NULL</td><td>4</td></tr>",
                            "<tr><td>80</td><td>NULL</td><td>NULL</td><td>1</td></tr>",
                            "<tr><td>82</td><td>NULL</td><td>NULL</td><td>1</td></tr>",
                            "<tr><td>83</td><td>NULL</td><td>NULL</td><td>6</td></tr>",
                            "<tr><td>84</td><td>NULL</td><td>NULL</td><td>1</td></tr>",
                            "<tr><td>85</td><td>NULL</td><td>NULL</td><td>16</td></tr>",
                            "<tr><td>86</td><td>NULL</td><td>NULL</td><td>1</td></tr>",
                            "<tr><td>88</td><td>NULL</td><td>NULL</td><td>2</td></tr>",
                            "<tr><td>89</td><td>NULL</td><td>NULL</td><td>3</td></tr>",
                            "<tr><td>90</td><td>NULL</td><td>NULL</td><td>2</td></tr>",
                            "<tr><td>91</td><td>NULL</td><td>NULL</td><td>7</td></tr>",
                            "<tr><td>92</td><td>NULL</td><td>NULL</td><td>2</td></tr>",
                            "<tr><td>93</td><td>NULL</td><td>NULL</td><td>7</td></tr>",
                            "<tr><td>94</td><td>NULL</td><td>NULL</td><td>2</td></tr>",
                            "<tr><td>95</td><td>NULL</td><td>NULL</td><td>2</td></tr>",
                            "<tr><td>96</td><td>NULL</td><td>NULL</td><td>9</td></tr>",
                            "<tr><td>97</td><td>NULL</td><td>NULL</td><td>10</td></tr>",
                            "<tr><td>98</td><td>NULL</td><td>NULL</td><td>4</td></tr>",
                            "<tr><td>99</td><td>NULL</td><td>NULL</td><td>1</td></tr>",
                            "<tr><td>100</td><td>NULL</td><td>NULL</td><td>9</td></tr>",
                            "<tr><td>101</td><td>NULL</td><td>NULL</td><td>1</td></tr>",
                            "<tr><td>103</td><td>NULL</td><td>NULL</td><td>1</td></tr>",
                            "<tr><td>104</td><td>NULL</td><td>NULL</td><td>2</td></tr>",
                            "<tr><td>105</td><td>NULL</td><td>NULL</td><td>1</td></tr>",
                            "<tr><td>106</td><td>NULL</td><td>NULL</td><td>5</td></tr>",
                            "<tr><td>107</td><td>NULL</td><td>NULL</td><td>1</td></tr>",
                            "<tr><td>108</td><td>NULL</td><td>NULL</td><td>1</td></tr>",
                            "<tr><td>109</td><td>NULL</td><td>NULL</td><td>1</td></tr>",
                            "<tr><td>110</td><td>NULL</td><td>NULL</td><td>2</td></tr>",
                            "<tr><td>111</td><td>NULL</td><td>NULL</td><td>3</td></tr>",
                            "<tr><td>112</td><td>NULL</td><td>NULL</td><td>2</td></tr>",
                            "<tr><td>114</td><td>NULL</td><td>NULL</td><td>1</td></tr>",
                            "<tr><td>115</td><td>NULL</td><td>NULL</td><td>1</td></tr>",
                            "<tr><td>116</td><td>NULL</td><td>NULL</td><td>2</td></tr>",
                            "<tr><td>117</td><td>NULL</td><td>NULL</td><td>2</td></tr>",
                            "<tr><td>118</td><td>NULL</td><td>NULL</td><td>9</td></tr>",
                            "<tr><td>119</td><td>NULL</td><td>NULL</td><td>3</td></tr>",
                            "<tr><td>121</td><td>NULL</td><td>NULL</td><td>2</td></tr>",
                            "<tr><td>122</td><td>NULL</td><td>NULL</td><td>7</td></tr>",
                            "<tr><td>123</td><td>NULL</td><td>NULL</td><td>2</td></tr>",
                            "<tr><td>124</td><td>NULL</td><td>NULL</td><td>10</td></tr>",
                            "<tr><td>125</td><td>NULL</td><td>NULL</td><td>4</td></tr>",
                            "<tr><td>126</td><td>NULL</td><td>NULL</td><td>1</td></tr>",
                            "<tr><td>127</td><td>NULL</td><td>NULL</td><td>2</td></tr>",
                            "<tr><td>128</td><td>NULL</td><td>NULL</td><td>2</td></tr>",
                            "<tr><td>129</td><td>NULL</td><td>NULL</td><td>2</td></tr>",
                            "<tr><td>130</td><td>NULL</td><td>NULL</td><td>1</td></tr>",
                            "<tr><td>131</td><td>NULL</td><td>NULL</td><td>1</td></tr>",
                            "<tr><td>132</td><td>NULL</td><td>NULL</td><td>1</td></tr>",
                            "<tr><td>133</td><td>NULL</td><td>NULL</td><td>6</td></tr>",
                            "<tr><td>134</td><td>NULL</td><td>NULL</td><td>2</td></tr>",
                            "<tr><td>135</td><td>NULL</td><td>NULL</td><td>1</td></tr>",
                            "<tr><td>136</td><td>NULL</td><td>NULL</td><td>2</td></tr>",
                            "<tr><td>137</td><td>NULL</td><td>NULL</td><td>3</td></tr>",
                            "<tr><td>138</td><td>NULL</td><td>NULL</td><td>5</td></tr>",
                            "<tr><td>139</td><td>NULL</td><td>NULL</td><td>1</td></tr>",
                            "<tr><td>140</td><td>NULL</td><td>NULL</td><td>1</td></tr>",
                            "<tr><td>141</td><td>NULL</td><td>NULL</td><td>2</td></tr>",
                            "<tr><td>142</td><td>NULL</td><td>NULL</td><td>1</td></tr>",
                            "<tr><td>143</td><td>NULL</td><td>NULL</td><td>3</td></tr>",
                            "<tr><td>144</td><td>NULL</td><td>NULL</td><td>2</td></tr>",
                            "<tr><td>145</td><td>NULL</td><td>NULL</td><td>18</td></tr>",
                            "<tr><td>146</td><td>NULL</td><td>NULL</td><td>7</td></tr>",
                            "<tr><td>147</td><td>NULL</td><td>NULL</td><td>1</td></tr>",
                            "<tr><td>148</td><td>NULL</td><td>NULL</td><td>1</td></tr>",
                            "<tr><td>149</td><td>NULL</td><td>NULL</td><td>6</td></tr>",
                            "<tr><td>150</td><td>NULL</td><td>NULL</td><td>2</td></tr>",
                            "<tr><td>151</td><td>NULL</td><td>NULL</td><td>4</td></tr>",
                            "<tr><td>152</td><td>NULL</td><td>NULL</td><td>6</td></tr>",
                            "<tr><td>153</td><td>NULL</td><td>NULL</td><td>1</td></tr>",
                            "<tr><td>154</td><td>NULL</td><td>NULL</td><td>4</td></tr>",
                            "<tr><td>155</td><td>NULL</td><td>NULL</td><td>1</td></tr>",
                            "</table>"
                        ]
                    }
                }
            ],
            "execution_count": 3
        },
        {
            "cell_type": "markdown",
            "source": [
                "```\n",
                "3. Készítsünk listát az egyes termékkategóriákban lévő termékek számáról! \n",
                "\n",
                "```\n",
                "\n",
                "a. Elég megjeleníteni a kategóriák azonosítóit és a darabszámokat!   \n",
                "<span style=\"color: var(--vscode-foreground);\">b. A lista megfelelően jelölve tartalmazza a végösszeget is!&nbsp;<br></span> <span style=\"color: var(--vscode-foreground);\">c. Az oszlopokat nevezzük el értelemszerűen!&nbsp;<br></span> <span style=\"color: var(--vscode-foreground);\">d. A listát rendezzük a darabszám szerint növekvő sorrendbe!</span>\n",
                "\n",
                "  \n",
                "\n",
                "![](https://moodle.uni-corvinus.hu/theme/image.php/adaptable/atto_h5p/1709548862/icon)"
            ],
            "metadata": {
                "azdata_cell_guid": "d7876bb9-76d0-4d07-baed-3cb17b2f96c3"
            },
            "attachments": {}
        },
        {
            "cell_type": "code",
            "source": [
                "SELECT KAT_ID AS 'Kategória azonosító',\r\n",
                "        IIF(GROUPING_ID(KAT_ID) = 1, 'Összesen', KAT_ID)\r\n",
                "        COUNT(*) AS 'Darabszám'\r\n",
                "FROM Termek\r\n",
                "GROUP BY ROLLUP(KAT_ID)"
            ],
            "metadata": {
                "azdata_cell_guid": "56ec19ce-e249-4551-b2a8-f17569765acc",
                "language": "sql"
            },
            "outputs": [],
            "execution_count": null
        },
        {
            "cell_type": "markdown",
            "source": [
                "4. <span style=\"background-color: rgb(255, 255, 255); color: rgb(0, 0, 0); font-family: &quot;Open Sans&quot;, sans-serif; font-size: 14.44px;\">Készítsünk listát az ügyfelek számáról születési év szerint, azon belül nem szerinti bontásban!&nbsp;</span> \n",
                "\n",
                "a. A lista megfelelően jelölve tartalmazza a részösszegeket és a végösszeget is!  \n",
                "b. Az oszlopoknak adjunk nevet értelemszerűen!"
            ],
            "metadata": {
                "azdata_cell_guid": "8e7fef82-8022-49a0-8255-fc2846c2134b"
            },
            "attachments": {}
        },
        {
            "cell_type": "code",
            "source": [
                ""
            ],
            "metadata": {
                "azdata_cell_guid": "36f7b396-4a1f-45e5-8720-2302537c91bc",
                "language": "sql"
            },
            "outputs": [],
            "execution_count": null
        },
        {
            "cell_type": "markdown",
            "source": [
                "5. <span style=\"background-color: rgb(255, 255, 255); color: rgb(0, 0, 0); font-family: &quot;Open Sans&quot;, sans-serif; font-size: 14.44px;\">Készítsünk listát a termékek számáról a felvitel hónapja, azon belül napja szerint csoportosítva.&nbsp;</span> \n",
                "\n",
                "a. A lista csak a részösszegeket és a végösszeget tartalmazza!  \n",
                "b. Az oszlopoknak adjunk megfelelő nevet!  \n",
                "c. Ötlet: HAVING + GROUPING\\_ID fv együttes használata"
            ],
            "metadata": {
                "azdata_cell_guid": "84239ca2-6b5e-49f5-9860-d44c11d6de32"
            },
            "attachments": {}
        },
        {
            "cell_type": "code",
            "source": [
                ""
            ],
            "metadata": {
                "azdata_cell_guid": "06d9a62b-9430-424b-a135-d80e675f0eb3",
                "language": "sql"
            },
            "outputs": [],
            "execution_count": null
        }
    ]
}