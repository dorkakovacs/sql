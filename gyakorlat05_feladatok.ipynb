{
    "metadata": {
        "kernelspec": {
            "name": "SQL",
            "display_name": "SQL",
            "language": "sql"
        },
        "language_info": {
            "name": "sql",
            "version": ""
        }
    },
    "nbformat_minor": 2,
    "nbformat": 4,
    "cells": [
        {
            "cell_type": "markdown",
            "source": [
                "1. <span style=\"color: rgb(36, 41, 47); font-family: -apple-system, BlinkMacSystemFont, &quot;Segoe UI&quot;, Helvetica, Arial, sans-serif, &quot;Apple Color Emoji&quot;, &quot;Segoe UI Emoji&quot;; font-size: 16px;\">Készítsünk listát éves bontásban norbert2 azonosítójú ügyfél rendeléseinek értékéről!</span>\n",
                "\n",
                "1. A lista megfelelően jelölve tartalmazza a végösszeget is!"
            ],
            "metadata": {
                "azdata_cell_guid": "363cd270-6577-449b-9c89-d4b7c7972d52"
            },
            "attachments": {}
        },
        {
            "cell_type": "code",
            "source": [
                "SELECT IIF (YEAR(REND_DATUM) IS NULL, 'Összesen',\r\n",
                "        CAST((YEAR(REND_DATUM)) AS NVARCHAR(4))),\r\n",
                "        SUM(MENNYISEG*EGYSEGAR) AS 'rendelés összege'\r\n",
                "FROM Rendeles r JOIN Rendeles_tetel rt ON r.SORSZAM=rt.SORSZAM\r\n",
                "WHERE LOGIN='norbert2'\r\n",
                "GROUP BY ROLLUP(YEAR(REND_DATUM))"
            ],
            "metadata": {
                "azdata_cell_guid": "6ab9f633-a3b5-48c9-a1dc-4fb8235ae85b",
                "language": "sql"
            },
            "outputs": [
                {
                    "output_type": "display_data",
                    "data": {
                        "text/html": "(3 rows affected)"
                    },
                    "metadata": {}
                },
                {
                    "output_type": "display_data",
                    "data": {
                        "text/html": "Total execution time: 00:00:00.017"
                    },
                    "metadata": {}
                },
                {
                    "output_type": "execute_result",
                    "execution_count": 7,
                    "data": {
                        "application/vnd.dataresource+json": {
                            "schema": {
                                "fields": [
                                    {
                                        "name": "(No column name)"
                                    },
                                    {
                                        "name": "rendelés összege"
                                    }
                                ]
                            },
                            "data": [
                                {
                                    "(No column name)": "2015",
                                    "rendelés összege": "483473"
                                },
                                {
                                    "(No column name)": "2017",
                                    "rendelés összege": "614340"
                                },
                                {
                                    "(No column name)": "Összesen",
                                    "rendelés összege": "1097813"
                                }
                            ]
                        },
                        "text/html": "<table><tr><th>(No column name)</th><th>rendelés összege</th></tr><tr><td>2015</td><td>483473</td></tr><tr><td>2017</td><td>614340</td></tr><tr><td>Összesen</td><td>1097813</td></tr></table>"
                    },
                    "metadata": {}
                }
            ],
            "execution_count": 7
        },
        {
            "cell_type": "markdown",
            "source": [
                "2. <span style=\"color: rgb(36, 41, 47); font-family: -apple-system, BlinkMacSystemFont, &quot;Segoe UI&quot;, Helvetica, Arial, sans-serif, &quot;Apple Color Emoji&quot;, &quot;Segoe UI Emoji&quot;; font-size: 16px;\">Készítsünk listát szállítási dátumonként, azon belül szállítási módonként az egyes rendelések összmennyiségéről!</span>\n",
                "\n",
                "1. Csak azokat a termékeket vegyük figyelembe, amelyek mennyiségi egysége db!\n",
                "2. A listát szűrjük úgy, hogy az csak a részösszeg sorokat és a végösszeget tartalmazza!"
            ],
            "metadata": {
                "azdata_cell_guid": "ea75c103-911f-41a3-a32c-3d40fb3e4e4a"
            },
            "attachments": {}
        },
        {
            "cell_type": "code",
            "source": [
                "SELECT r.SZALL_DATUM,\r\n",
                "        r.SZALL_MOD,\r\n",
                "        SUM(MENNYISEG)\r\n",
                "FROM Rendeles r JOIN Rendeles_tetel rt ON r.SORSZAM=rt.SORSZAM\r\n",
                "                JOIN Termek t ON t.TERMEKKOD=rt.TERMEKKOD\r\n",
                "WHERE t.MEGYS='db'\r\n",
                "GROUP BY ROLLUP(r.SZALL_DATUM, r.SZALL_MOD)\r\n",
                "HAVING r.SZALL_MOD IS NULL OR r.SZALL_DATUM IS NULL"
            ],
            "metadata": {
                "azdata_cell_guid": "222b9618-a8e8-42b4-a8e8-d002257122b7",
                "language": "sql"
            },
            "outputs": [
                {
                    "output_type": "display_data",
                    "data": {
                        "text/html": "(711 rows affected)"
                    },
                    "metadata": {}
                },
                {
                    "output_type": "display_data",
                    "data": {
                        "text/html": "Total execution time: 00:00:00.218"
                    },
                    "metadata": {}
                },
                {
                    "output_type": "execute_result",
                    "execution_count": 12,
                    "data": {
                        "application/vnd.dataresource+json": {
                            "schema": {
                                "fields": [
                                    {
                                        "name": "SZALL_DATUM"
                                    },
                                    {
                                        "name": "SZALL_MOD"
                                    },
                                    {
                                        "name": "(No column name)"
                                    }
                                ]
                            },
                            "data": [
                                {
                                    "SZALL_DATUM": "2015-05-03",
                                    "SZALL_MOD": "NULL",
                                    "(No column name)": "100"
                                },
                                {
                                    "SZALL_DATUM": "2015-05-04",
                                    "SZALL_MOD": "NULL",
                                    "(No column name)": "996"
                                },
                                {
                                    "SZALL_DATUM": "2015-05-05",
                                    "SZALL_MOD": "NULL",
                                    "(No column name)": "3152"
                                },
                                {
                                    "SZALL_DATUM": "2015-05-06",
                                    "SZALL_MOD": "NULL",
                                    "(No column name)": "5030"
                                },
                                {
                                    "SZALL_DATUM": "2015-05-07",
                                    "SZALL_MOD": "NULL",
                                    "(No column name)": "3828"
                                },
                                {
                                    "SZALL_DATUM": "2015-05-08",
                                    "SZALL_MOD": "NULL",
                                    "(No column name)": "3213"
                                },
                                {
                                    "SZALL_DATUM": "2015-05-09",
                                    "SZALL_MOD": "NULL",
                                    "(No column name)": "6665"
                                },
                                {
                                    "SZALL_DATUM": "2015-05-10",
                                    "SZALL_MOD": "NULL",
                                    "(No column name)": "6909"
                                },
                                {
                                    "SZALL_DATUM": "2015-05-11",
                                    "SZALL_MOD": "NULL",
                                    "(No column name)": "6224"
                                },
                                {
                                    "SZALL_DATUM": "2015-05-12",
                                    "SZALL_MOD": "NULL",
                                    "(No column name)": "7568"
                                },
                                {
                                    "SZALL_DATUM": "2015-05-13",
                                    "SZALL_MOD": "NULL",
                                    "(No column name)": "7985"
                                },
                                {
                                    "SZALL_DATUM": "2015-05-14",
                                    "SZALL_MOD": "NULL",
                                    "(No column name)": "9706"
                                },
                                {
                                    "SZALL_DATUM": "2015-05-15",
                                    "SZALL_MOD": "NULL",
                                    "(No column name)": "7400"
                                },
                                {
                                    "SZALL_DATUM": "2015-05-16",
                                    "SZALL_MOD": "NULL",
                                    "(No column name)": "7897"
                                },
                                {
                                    "SZALL_DATUM": "2015-05-17",
                                    "SZALL_MOD": "NULL",
                                    "(No column name)": "4572"
                                },
                                {
                                    "SZALL_DATUM": "2015-05-18",
                                    "SZALL_MOD": "NULL",
                                    "(No column name)": "8190"
                                },
                                {
                                    "SZALL_DATUM": "2015-05-19",
                                    "SZALL_MOD": "NULL",
                                    "(No column name)": "7248"
                                },
                                {
                                    "SZALL_DATUM": "2015-05-20",
                                    "SZALL_MOD": "NULL",
                                    "(No column name)": "9859"
                                },
                                {
                                    "SZALL_DATUM": "2015-05-21",
                                    "SZALL_MOD": "NULL",
                                    "(No column name)": "8041"
                                },
                                {
                                    "SZALL_DATUM": "2015-05-22",
                                    "SZALL_MOD": "NULL",
                                    "(No column name)": "8338"
                                },
                                {
                                    "SZALL_DATUM": "2015-05-23",
                                    "SZALL_MOD": "NULL",
                                    "(No column name)": "5616"
                                },
                                {
                                    "SZALL_DATUM": "2015-05-24",
                                    "SZALL_MOD": "NULL",
                                    "(No column name)": "5001"
                                },
                                {
                                    "SZALL_DATUM": "2015-05-25",
                                    "SZALL_MOD": "NULL",
                                    "(No column name)": "7611"
                                },
                                {
                                    "SZALL_DATUM": "2015-05-26",
                                    "SZALL_MOD": "NULL",
                                    "(No column name)": "7153"
                                },
                                {
                                    "SZALL_DATUM": "2015-05-27",
                                    "SZALL_MOD": "NULL",
                                    "(No column name)": "8300"
                                },
                                {
                                    "SZALL_DATUM": "2015-05-28",
                                    "SZALL_MOD": "NULL",
                                    "(No column name)": "9340"
                                },
                                {
                                    "SZALL_DATUM": "2015-05-29",
                                    "SZALL_MOD": "NULL",
                                    "(No column name)": "10784"
                                },
                                {
                                    "SZALL_DATUM": "2015-05-30",
                                    "SZALL_MOD": "NULL",
                                    "(No column name)": "7763"
                                },
                                {
                                    "SZALL_DATUM": "2015-05-31",
                                    "SZALL_MOD": "NULL",
                                    "(No column name)": "4364"
                                },
                                {
                                    "SZALL_DATUM": "2015-06-01",
                                    "SZALL_MOD": "NULL",
                                    "(No column name)": "6947"
                                },
                                {
                                    "SZALL_DATUM": "2015-06-02",
                                    "SZALL_MOD": "NULL",
                                    "(No column name)": "6241"
                                },
                                {
                                    "SZALL_DATUM": "2015-06-03",
                                    "SZALL_MOD": "NULL",
                                    "(No column name)": "9359"
                                },
                                {
                                    "SZALL_DATUM": "2015-06-04",
                                    "SZALL_MOD": "NULL",
                                    "(No column name)": "8474"
                                },
                                {
                                    "SZALL_DATUM": "2015-06-05",
                                    "SZALL_MOD": "NULL",
                                    "(No column name)": "8961"
                                },
                                {
                                    "SZALL_DATUM": "2015-06-06",
                                    "SZALL_MOD": "NULL",
                                    "(No column name)": "9510"
                                },
                                {
                                    "SZALL_DATUM": "2015-06-07",
                                    "SZALL_MOD": "NULL",
                                    "(No column name)": "7956"
                                },
                                {
                                    "SZALL_DATUM": "2015-06-08",
                                    "SZALL_MOD": "NULL",
                                    "(No column name)": "4277"
                                },
                                {
                                    "SZALL_DATUM": "2015-06-09",
                                    "SZALL_MOD": "NULL",
                                    "(No column name)": "7132"
                                },
                                {
                                    "SZALL_DATUM": "2015-06-10",
                                    "SZALL_MOD": "NULL",
                                    "(No column name)": "9346"
                                },
                                {
                                    "SZALL_DATUM": "2015-06-11",
                                    "SZALL_MOD": "NULL",
                                    "(No column name)": "5191"
                                },
                                {
                                    "SZALL_DATUM": "2015-06-12",
                                    "SZALL_MOD": "NULL",
                                    "(No column name)": "7336"
                                },
                                {
                                    "SZALL_DATUM": "2015-06-13",
                                    "SZALL_MOD": "NULL",
                                    "(No column name)": "7818"
                                },
                                {
                                    "SZALL_DATUM": "2015-06-14",
                                    "SZALL_MOD": "NULL",
                                    "(No column name)": "6484"
                                },
                                {
                                    "SZALL_DATUM": "2015-06-15",
                                    "SZALL_MOD": "NULL",
                                    "(No column name)": "7796"
                                },
                                {
                                    "SZALL_DATUM": "2015-06-16",
                                    "SZALL_MOD": "NULL",
                                    "(No column name)": "4307"
                                },
                                {
                                    "SZALL_DATUM": "2015-06-17",
                                    "SZALL_MOD": "NULL",
                                    "(No column name)": "8645"
                                },
                                {
                                    "SZALL_DATUM": "2015-06-18",
                                    "SZALL_MOD": "NULL",
                                    "(No column name)": "10077"
                                },
                                {
                                    "SZALL_DATUM": "2015-06-19",
                                    "SZALL_MOD": "NULL",
                                    "(No column name)": "5675"
                                },
                                {
                                    "SZALL_DATUM": "2015-06-20",
                                    "SZALL_MOD": "NULL",
                                    "(No column name)": "7859"
                                },
                                {
                                    "SZALL_DATUM": "2015-06-21",
                                    "SZALL_MOD": "NULL",
                                    "(No column name)": "6627"
                                },
                                {
                                    "SZALL_DATUM": "2015-06-22",
                                    "SZALL_MOD": "NULL",
                                    "(No column name)": "9084"
                                },
                                {
                                    "SZALL_DATUM": "2015-06-23",
                                    "SZALL_MOD": "NULL",
                                    "(No column name)": "8869"
                                },
                                {
                                    "SZALL_DATUM": "2015-06-24",
                                    "SZALL_MOD": "NULL",
                                    "(No column name)": "4993"
                                },
                                {
                                    "SZALL_DATUM": "2015-06-25",
                                    "SZALL_MOD": "NULL",
                                    "(No column name)": "8165"
                                },
                                {
                                    "SZALL_DATUM": "2015-06-26",
                                    "SZALL_MOD": "NULL",
                                    "(No column name)": "10834"
                                },
                                {
                                    "SZALL_DATUM": "2015-06-27",
                                    "SZALL_MOD": "NULL",
                                    "(No column name)": "6396"
                                },
                                {
                                    "SZALL_DATUM": "2015-06-28",
                                    "SZALL_MOD": "NULL",
                                    "(No column name)": "6803"
                                },
                                {
                                    "SZALL_DATUM": "2015-06-29",
                                    "SZALL_MOD": "NULL",
                                    "(No column name)": "7435"
                                },
                                {
                                    "SZALL_DATUM": "2015-06-30",
                                    "SZALL_MOD": "NULL",
                                    "(No column name)": "8526"
                                },
                                {
                                    "SZALL_DATUM": "2015-07-01",
                                    "SZALL_MOD": "NULL",
                                    "(No column name)": "6032"
                                },
                                {
                                    "SZALL_DATUM": "2015-07-02",
                                    "SZALL_MOD": "NULL",
                                    "(No column name)": "7066"
                                },
                                {
                                    "SZALL_DATUM": "2015-07-03",
                                    "SZALL_MOD": "NULL",
                                    "(No column name)": "6359"
                                },
                                {
                                    "SZALL_DATUM": "2015-07-04",
                                    "SZALL_MOD": "NULL",
                                    "(No column name)": "8739"
                                },
                                {
                                    "SZALL_DATUM": "2015-07-05",
                                    "SZALL_MOD": "NULL",
                                    "(No column name)": "8558"
                                },
                                {
                                    "SZALL_DATUM": "2015-07-06",
                                    "SZALL_MOD": "NULL",
                                    "(No column name)": "8389"
                                },
                                {
                                    "SZALL_DATUM": "2015-07-07",
                                    "SZALL_MOD": "NULL",
                                    "(No column name)": "9522"
                                },
                                {
                                    "SZALL_DATUM": "2015-07-08",
                                    "SZALL_MOD": "NULL",
                                    "(No column name)": "6395"
                                },
                                {
                                    "SZALL_DATUM": "2015-07-09",
                                    "SZALL_MOD": "NULL",
                                    "(No column name)": "7375"
                                },
                                {
                                    "SZALL_DATUM": "2015-07-10",
                                    "SZALL_MOD": "NULL",
                                    "(No column name)": "7676"
                                },
                                {
                                    "SZALL_DATUM": "2015-07-11",
                                    "SZALL_MOD": "NULL",
                                    "(No column name)": "7366"
                                },
                                {
                                    "SZALL_DATUM": "2015-07-12",
                                    "SZALL_MOD": "NULL",
                                    "(No column name)": "8638"
                                },
                                {
                                    "SZALL_DATUM": "2015-07-13",
                                    "SZALL_MOD": "NULL",
                                    "(No column name)": "8300"
                                },
                                {
                                    "SZALL_DATUM": "2015-07-14",
                                    "SZALL_MOD": "NULL",
                                    "(No column name)": "6340"
                                },
                                {
                                    "SZALL_DATUM": "2015-07-15",
                                    "SZALL_MOD": "NULL",
                                    "(No column name)": "8615"
                                },
                                {
                                    "SZALL_DATUM": "2015-07-16",
                                    "SZALL_MOD": "NULL",
                                    "(No column name)": "7041"
                                },
                                {
                                    "SZALL_DATUM": "2015-07-17",
                                    "SZALL_MOD": "NULL",
                                    "(No column name)": "7327"
                                },
                                {
                                    "SZALL_DATUM": "2015-07-18",
                                    "SZALL_MOD": "NULL",
                                    "(No column name)": "6762"
                                },
                                {
                                    "SZALL_DATUM": "2015-07-19",
                                    "SZALL_MOD": "NULL",
                                    "(No column name)": "6776"
                                },
                                {
                                    "SZALL_DATUM": "2015-07-20",
                                    "SZALL_MOD": "NULL",
                                    "(No column name)": "9748"
                                },
                                {
                                    "SZALL_DATUM": "2015-07-21",
                                    "SZALL_MOD": "NULL",
                                    "(No column name)": "9805"
                                },
                                {
                                    "SZALL_DATUM": "2015-07-22",
                                    "SZALL_MOD": "NULL",
                                    "(No column name)": "5140"
                                },
                                {
                                    "SZALL_DATUM": "2015-07-23",
                                    "SZALL_MOD": "NULL",
                                    "(No column name)": "7258"
                                },
                                {
                                    "SZALL_DATUM": "2015-07-24",
                                    "SZALL_MOD": "NULL",
                                    "(No column name)": "8697"
                                },
                                {
                                    "SZALL_DATUM": "2015-07-25",
                                    "SZALL_MOD": "NULL",
                                    "(No column name)": "8180"
                                },
                                {
                                    "SZALL_DATUM": "2015-07-26",
                                    "SZALL_MOD": "NULL",
                                    "(No column name)": "9323"
                                },
                                {
                                    "SZALL_DATUM": "2015-07-27",
                                    "SZALL_MOD": "NULL",
                                    "(No column name)": "5417"
                                },
                                {
                                    "SZALL_DATUM": "2015-07-28",
                                    "SZALL_MOD": "NULL",
                                    "(No column name)": "7825"
                                },
                                {
                                    "SZALL_DATUM": "2015-07-29",
                                    "SZALL_MOD": "NULL",
                                    "(No column name)": "6405"
                                },
                                {
                                    "SZALL_DATUM": "2015-07-30",
                                    "SZALL_MOD": "NULL",
                                    "(No column name)": "10029"
                                },
                                {
                                    "SZALL_DATUM": "2015-07-31",
                                    "SZALL_MOD": "NULL",
                                    "(No column name)": "8673"
                                },
                                {
                                    "SZALL_DATUM": "2015-08-01",
                                    "SZALL_MOD": "NULL",
                                    "(No column name)": "9957"
                                },
                                {
                                    "SZALL_DATUM": "2015-08-02",
                                    "SZALL_MOD": "NULL",
                                    "(No column name)": "7599"
                                },
                                {
                                    "SZALL_DATUM": "2015-08-03",
                                    "SZALL_MOD": "NULL",
                                    "(No column name)": "9208"
                                },
                                {
                                    "SZALL_DATUM": "2015-08-04",
                                    "SZALL_MOD": "NULL",
                                    "(No column name)": "9353"
                                },
                                {
                                    "SZALL_DATUM": "2015-08-05",
                                    "SZALL_MOD": "NULL",
                                    "(No column name)": "10342"
                                },
                                {
                                    "SZALL_DATUM": "2015-08-06",
                                    "SZALL_MOD": "NULL",
                                    "(No column name)": "5124"
                                },
                                {
                                    "SZALL_DATUM": "2015-08-07",
                                    "SZALL_MOD": "NULL",
                                    "(No column name)": "8960"
                                },
                                {
                                    "SZALL_DATUM": "2015-08-08",
                                    "SZALL_MOD": "NULL",
                                    "(No column name)": "10296"
                                },
                                {
                                    "SZALL_DATUM": "2015-08-09",
                                    "SZALL_MOD": "NULL",
                                    "(No column name)": "6026"
                                },
                                {
                                    "SZALL_DATUM": "2015-08-10",
                                    "SZALL_MOD": "NULL",
                                    "(No column name)": "7896"
                                },
                                {
                                    "SZALL_DATUM": "2015-08-11",
                                    "SZALL_MOD": "NULL",
                                    "(No column name)": "9008"
                                },
                                {
                                    "SZALL_DATUM": "2015-08-12",
                                    "SZALL_MOD": "NULL",
                                    "(No column name)": "7605"
                                },
                                {
                                    "SZALL_DATUM": "2015-08-13",
                                    "SZALL_MOD": "NULL",
                                    "(No column name)": "9380"
                                },
                                {
                                    "SZALL_DATUM": "2015-08-14",
                                    "SZALL_MOD": "NULL",
                                    "(No column name)": "9780"
                                },
                                {
                                    "SZALL_DATUM": "2015-08-15",
                                    "SZALL_MOD": "NULL",
                                    "(No column name)": "7514"
                                },
                                {
                                    "SZALL_DATUM": "2015-08-16",
                                    "SZALL_MOD": "NULL",
                                    "(No column name)": "5341"
                                },
                                {
                                    "SZALL_DATUM": "2015-08-17",
                                    "SZALL_MOD": "NULL",
                                    "(No column name)": "7162"
                                },
                                {
                                    "SZALL_DATUM": "2015-08-18",
                                    "SZALL_MOD": "NULL",
                                    "(No column name)": "6271"
                                },
                                {
                                    "SZALL_DATUM": "2015-08-19",
                                    "SZALL_MOD": "NULL",
                                    "(No column name)": "6650"
                                },
                                {
                                    "SZALL_DATUM": "2015-08-20",
                                    "SZALL_MOD": "NULL",
                                    "(No column name)": "9005"
                                },
                                {
                                    "SZALL_DATUM": "2015-08-21",
                                    "SZALL_MOD": "NULL",
                                    "(No column name)": "6874"
                                },
                                {
                                    "SZALL_DATUM": "2015-08-22",
                                    "SZALL_MOD": "NULL",
                                    "(No column name)": "10138"
                                },
                                {
                                    "SZALL_DATUM": "2015-08-23",
                                    "SZALL_MOD": "NULL",
                                    "(No column name)": "6734"
                                },
                                {
                                    "SZALL_DATUM": "2015-08-24",
                                    "SZALL_MOD": "NULL",
                                    "(No column name)": "7767"
                                },
                                {
                                    "SZALL_DATUM": "2015-08-25",
                                    "SZALL_MOD": "NULL",
                                    "(No column name)": "9206"
                                },
                                {
                                    "SZALL_DATUM": "2015-08-26",
                                    "SZALL_MOD": "NULL",
                                    "(No column name)": "11006"
                                },
                                {
                                    "SZALL_DATUM": "2015-08-27",
                                    "SZALL_MOD": "NULL",
                                    "(No column name)": "6244"
                                },
                                {
                                    "SZALL_DATUM": "2015-08-28",
                                    "SZALL_MOD": "NULL",
                                    "(No column name)": "8145"
                                },
                                {
                                    "SZALL_DATUM": "2015-08-29",
                                    "SZALL_MOD": "NULL",
                                    "(No column name)": "7380"
                                },
                                {
                                    "SZALL_DATUM": "2015-08-30",
                                    "SZALL_MOD": "NULL",
                                    "(No column name)": "9727"
                                },
                                {
                                    "SZALL_DATUM": "2015-08-31",
                                    "SZALL_MOD": "NULL",
                                    "(No column name)": "7226"
                                },
                                {
                                    "SZALL_DATUM": "2015-09-01",
                                    "SZALL_MOD": "NULL",
                                    "(No column name)": "9466"
                                },
                                {
                                    "SZALL_DATUM": "2015-09-02",
                                    "SZALL_MOD": "NULL",
                                    "(No column name)": "6179"
                                },
                                {
                                    "SZALL_DATUM": "2015-09-03",
                                    "SZALL_MOD": "NULL",
                                    "(No column name)": "9949"
                                },
                                {
                                    "SZALL_DATUM": "2015-09-04",
                                    "SZALL_MOD": "NULL",
                                    "(No column name)": "10432"
                                },
                                {
                                    "SZALL_DATUM": "2015-09-05",
                                    "SZALL_MOD": "NULL",
                                    "(No column name)": "7083"
                                },
                                {
                                    "SZALL_DATUM": "2015-09-06",
                                    "SZALL_MOD": "NULL",
                                    "(No column name)": "8378"
                                },
                                {
                                    "SZALL_DATUM": "2015-09-07",
                                    "SZALL_MOD": "NULL",
                                    "(No column name)": "8303"
                                },
                                {
                                    "SZALL_DATUM": "2015-09-08",
                                    "SZALL_MOD": "NULL",
                                    "(No column name)": "8349"
                                },
                                {
                                    "SZALL_DATUM": "2015-09-09",
                                    "SZALL_MOD": "NULL",
                                    "(No column name)": "7985"
                                },
                                {
                                    "SZALL_DATUM": "2015-09-10",
                                    "SZALL_MOD": "NULL",
                                    "(No column name)": "10353"
                                },
                                {
                                    "SZALL_DATUM": "2015-09-11",
                                    "SZALL_MOD": "NULL",
                                    "(No column name)": "9284"
                                },
                                {
                                    "SZALL_DATUM": "2015-09-12",
                                    "SZALL_MOD": "NULL",
                                    "(No column name)": "8553"
                                },
                                {
                                    "SZALL_DATUM": "2015-09-13",
                                    "SZALL_MOD": "NULL",
                                    "(No column name)": "7435"
                                },
                                {
                                    "SZALL_DATUM": "2015-09-14",
                                    "SZALL_MOD": "NULL",
                                    "(No column name)": "8232"
                                },
                                {
                                    "SZALL_DATUM": "2015-09-15",
                                    "SZALL_MOD": "NULL",
                                    "(No column name)": "4776"
                                },
                                {
                                    "SZALL_DATUM": "2015-09-16",
                                    "SZALL_MOD": "NULL",
                                    "(No column name)": "7416"
                                },
                                {
                                    "SZALL_DATUM": "2015-09-17",
                                    "SZALL_MOD": "NULL",
                                    "(No column name)": "8358"
                                },
                                {
                                    "SZALL_DATUM": "2015-09-18",
                                    "SZALL_MOD": "NULL",
                                    "(No column name)": "7210"
                                },
                                {
                                    "SZALL_DATUM": "2015-09-19",
                                    "SZALL_MOD": "NULL",
                                    "(No column name)": "8267"
                                },
                                {
                                    "SZALL_DATUM": "2015-09-20",
                                    "SZALL_MOD": "NULL",
                                    "(No column name)": "10001"
                                },
                                {
                                    "SZALL_DATUM": "2015-09-21",
                                    "SZALL_MOD": "NULL",
                                    "(No column name)": "7086"
                                },
                                {
                                    "SZALL_DATUM": "2015-09-22",
                                    "SZALL_MOD": "NULL",
                                    "(No column name)": "7424"
                                },
                                {
                                    "SZALL_DATUM": "2015-09-23",
                                    "SZALL_MOD": "NULL",
                                    "(No column name)": "8183"
                                },
                                {
                                    "SZALL_DATUM": "2015-09-24",
                                    "SZALL_MOD": "NULL",
                                    "(No column name)": "10252"
                                },
                                {
                                    "SZALL_DATUM": "2015-09-25",
                                    "SZALL_MOD": "NULL",
                                    "(No column name)": "8106"
                                },
                                {
                                    "SZALL_DATUM": "2015-09-26",
                                    "SZALL_MOD": "NULL",
                                    "(No column name)": "9451"
                                },
                                {
                                    "SZALL_DATUM": "2015-09-27",
                                    "SZALL_MOD": "NULL",
                                    "(No column name)": "8692"
                                },
                                {
                                    "SZALL_DATUM": "2015-09-28",
                                    "SZALL_MOD": "NULL",
                                    "(No column name)": "10281"
                                },
                                {
                                    "SZALL_DATUM": "2015-09-29",
                                    "SZALL_MOD": "NULL",
                                    "(No column name)": "9481"
                                },
                                {
                                    "SZALL_DATUM": "2015-09-30",
                                    "SZALL_MOD": "NULL",
                                    "(No column name)": "5900"
                                },
                                {
                                    "SZALL_DATUM": "2015-10-01",
                                    "SZALL_MOD": "NULL",
                                    "(No column name)": "9384"
                                },
                                {
                                    "SZALL_DATUM": "2015-10-02",
                                    "SZALL_MOD": "NULL",
                                    "(No column name)": "5674"
                                },
                                {
                                    "SZALL_DATUM": "2015-10-03",
                                    "SZALL_MOD": "NULL",
                                    "(No column name)": "8509"
                                },
                                {
                                    "SZALL_DATUM": "2015-10-04",
                                    "SZALL_MOD": "NULL",
                                    "(No column name)": "7645"
                                },
                                {
                                    "SZALL_DATUM": "2015-10-05",
                                    "SZALL_MOD": "NULL",
                                    "(No column name)": "8535"
                                },
                                {
                                    "SZALL_DATUM": "2015-10-06",
                                    "SZALL_MOD": "NULL",
                                    "(No column name)": "7529"
                                },
                                {
                                    "SZALL_DATUM": "2015-10-07",
                                    "SZALL_MOD": "NULL",
                                    "(No column name)": "9435"
                                },
                                {
                                    "SZALL_DATUM": "2015-10-08",
                                    "SZALL_MOD": "NULL",
                                    "(No column name)": "7319"
                                },
                                {
                                    "SZALL_DATUM": "2015-10-09",
                                    "SZALL_MOD": "NULL",
                                    "(No column name)": "8931"
                                },
                                {
                                    "SZALL_DATUM": "2015-10-10",
                                    "SZALL_MOD": "NULL",
                                    "(No column name)": "7928"
                                },
                                {
                                    "SZALL_DATUM": "2015-10-11",
                                    "SZALL_MOD": "NULL",
                                    "(No column name)": "7516"
                                },
                                {
                                    "SZALL_DATUM": "2015-10-12",
                                    "SZALL_MOD": "NULL",
                                    "(No column name)": "9355"
                                },
                                {
                                    "SZALL_DATUM": "2015-10-13",
                                    "SZALL_MOD": "NULL",
                                    "(No column name)": "6564"
                                },
                                {
                                    "SZALL_DATUM": "2015-10-14",
                                    "SZALL_MOD": "NULL",
                                    "(No column name)": "7035"
                                },
                                {
                                    "SZALL_DATUM": "2015-10-15",
                                    "SZALL_MOD": "NULL",
                                    "(No column name)": "9269"
                                },
                                {
                                    "SZALL_DATUM": "2015-10-16",
                                    "SZALL_MOD": "NULL",
                                    "(No column name)": "8427"
                                },
                                {
                                    "SZALL_DATUM": "2015-10-17",
                                    "SZALL_MOD": "NULL",
                                    "(No column name)": "6936"
                                },
                                {
                                    "SZALL_DATUM": "2015-10-18",
                                    "SZALL_MOD": "NULL",
                                    "(No column name)": "8671"
                                },
                                {
                                    "SZALL_DATUM": "2015-10-19",
                                    "SZALL_MOD": "NULL",
                                    "(No column name)": "7207"
                                },
                                {
                                    "SZALL_DATUM": "2015-10-20",
                                    "SZALL_MOD": "NULL",
                                    "(No column name)": "8613"
                                },
                                {
                                    "SZALL_DATUM": "2015-10-21",
                                    "SZALL_MOD": "NULL",
                                    "(No column name)": "7366"
                                },
                                {
                                    "SZALL_DATUM": "2015-10-22",
                                    "SZALL_MOD": "NULL",
                                    "(No column name)": "6678"
                                },
                                {
                                    "SZALL_DATUM": "2015-10-23",
                                    "SZALL_MOD": "NULL",
                                    "(No column name)": "8056"
                                },
                                {
                                    "SZALL_DATUM": "2015-10-24",
                                    "SZALL_MOD": "NULL",
                                    "(No column name)": "7233"
                                },
                                {
                                    "SZALL_DATUM": "2015-10-25",
                                    "SZALL_MOD": "NULL",
                                    "(No column name)": "9107"
                                },
                                {
                                    "SZALL_DATUM": "2015-10-26",
                                    "SZALL_MOD": "NULL",
                                    "(No column name)": "9776"
                                },
                                {
                                    "SZALL_DATUM": "2015-10-27",
                                    "SZALL_MOD": "NULL",
                                    "(No column name)": "7669"
                                },
                                {
                                    "SZALL_DATUM": "2015-10-28",
                                    "SZALL_MOD": "NULL",
                                    "(No column name)": "7522"
                                },
                                {
                                    "SZALL_DATUM": "2015-10-29",
                                    "SZALL_MOD": "NULL",
                                    "(No column name)": "6971"
                                },
                                {
                                    "SZALL_DATUM": "2015-10-30",
                                    "SZALL_MOD": "NULL",
                                    "(No column name)": "8999"
                                },
                                {
                                    "SZALL_DATUM": "2015-10-31",
                                    "SZALL_MOD": "NULL",
                                    "(No column name)": "7046"
                                },
                                {
                                    "SZALL_DATUM": "2015-11-01",
                                    "SZALL_MOD": "NULL",
                                    "(No column name)": "6171"
                                },
                                {
                                    "SZALL_DATUM": "2015-11-02",
                                    "SZALL_MOD": "NULL",
                                    "(No column name)": "7612"
                                },
                                {
                                    "SZALL_DATUM": "2015-11-03",
                                    "SZALL_MOD": "NULL",
                                    "(No column name)": "11533"
                                },
                                {
                                    "SZALL_DATUM": "2015-11-04",
                                    "SZALL_MOD": "NULL",
                                    "(No column name)": "5352"
                                },
                                {
                                    "SZALL_DATUM": "2015-11-05",
                                    "SZALL_MOD": "NULL",
                                    "(No column name)": "7183"
                                },
                                {
                                    "SZALL_DATUM": "2015-11-06",
                                    "SZALL_MOD": "NULL",
                                    "(No column name)": "8606"
                                },
                                {
                                    "SZALL_DATUM": "2015-11-07",
                                    "SZALL_MOD": "NULL",
                                    "(No column name)": "7260"
                                },
                                {
                                    "SZALL_DATUM": "2015-11-08",
                                    "SZALL_MOD": "NULL",
                                    "(No column name)": "8177"
                                },
                                {
                                    "SZALL_DATUM": "2015-11-09",
                                    "SZALL_MOD": "NULL",
                                    "(No column name)": "8431"
                                },
                                {
                                    "SZALL_DATUM": "2015-11-10",
                                    "SZALL_MOD": "NULL",
                                    "(No column name)": "8329"
                                },
                                {
                                    "SZALL_DATUM": "2015-11-11",
                                    "SZALL_MOD": "NULL",
                                    "(No column name)": "8191"
                                },
                                {
                                    "SZALL_DATUM": "2015-11-12",
                                    "SZALL_MOD": "NULL",
                                    "(No column name)": "5884"
                                },
                                {
                                    "SZALL_DATUM": "2015-11-13",
                                    "SZALL_MOD": "NULL",
                                    "(No column name)": "7359"
                                },
                                {
                                    "SZALL_DATUM": "2015-11-14",
                                    "SZALL_MOD": "NULL",
                                    "(No column name)": "7730"
                                },
                                {
                                    "SZALL_DATUM": "2015-11-15",
                                    "SZALL_MOD": "NULL",
                                    "(No column name)": "6881"
                                },
                                {
                                    "SZALL_DATUM": "2015-11-16",
                                    "SZALL_MOD": "NULL",
                                    "(No column name)": "7721"
                                },
                                {
                                    "SZALL_DATUM": "2015-11-17",
                                    "SZALL_MOD": "NULL",
                                    "(No column name)": "7234"
                                },
                                {
                                    "SZALL_DATUM": "2015-11-18",
                                    "SZALL_MOD": "NULL",
                                    "(No column name)": "8321"
                                },
                                {
                                    "SZALL_DATUM": "2015-11-19",
                                    "SZALL_MOD": "NULL",
                                    "(No column name)": "7582"
                                },
                                {
                                    "SZALL_DATUM": "2015-11-20",
                                    "SZALL_MOD": "NULL",
                                    "(No column name)": "6288"
                                },
                                {
                                    "SZALL_DATUM": "2015-11-21",
                                    "SZALL_MOD": "NULL",
                                    "(No column name)": "6657"
                                },
                                {
                                    "SZALL_DATUM": "2015-11-22",
                                    "SZALL_MOD": "NULL",
                                    "(No column name)": "8640"
                                },
                                {
                                    "SZALL_DATUM": "2015-11-23",
                                    "SZALL_MOD": "NULL",
                                    "(No column name)": "7363"
                                },
                                {
                                    "SZALL_DATUM": "2015-11-24",
                                    "SZALL_MOD": "NULL",
                                    "(No column name)": "7556"
                                },
                                {
                                    "SZALL_DATUM": "2015-11-25",
                                    "SZALL_MOD": "NULL",
                                    "(No column name)": "7103"
                                },
                                {
                                    "SZALL_DATUM": "2015-11-26",
                                    "SZALL_MOD": "NULL",
                                    "(No column name)": "8368"
                                },
                                {
                                    "SZALL_DATUM": "2015-11-27",
                                    "SZALL_MOD": "NULL",
                                    "(No column name)": "6865"
                                },
                                {
                                    "SZALL_DATUM": "2015-11-28",
                                    "SZALL_MOD": "NULL",
                                    "(No column name)": "10098"
                                },
                                {
                                    "SZALL_DATUM": "2015-11-29",
                                    "SZALL_MOD": "NULL",
                                    "(No column name)": "7636"
                                },
                                {
                                    "SZALL_DATUM": "2015-11-30",
                                    "SZALL_MOD": "NULL",
                                    "(No column name)": "7182"
                                },
                                {
                                    "SZALL_DATUM": "2015-12-01",
                                    "SZALL_MOD": "NULL",
                                    "(No column name)": "7314"
                                },
                                {
                                    "SZALL_DATUM": "2015-12-02",
                                    "SZALL_MOD": "NULL",
                                    "(No column name)": "9592"
                                },
                                {
                                    "SZALL_DATUM": "2015-12-03",
                                    "SZALL_MOD": "NULL",
                                    "(No column name)": "8829"
                                },
                                {
                                    "SZALL_DATUM": "2015-12-04",
                                    "SZALL_MOD": "NULL",
                                    "(No column name)": "8013"
                                },
                                {
                                    "SZALL_DATUM": "2015-12-05",
                                    "SZALL_MOD": "NULL",
                                    "(No column name)": "8887"
                                },
                                {
                                    "SZALL_DATUM": "2015-12-06",
                                    "SZALL_MOD": "NULL",
                                    "(No column name)": "5596"
                                },
                                {
                                    "SZALL_DATUM": "2015-12-07",
                                    "SZALL_MOD": "NULL",
                                    "(No column name)": "8825"
                                },
                                {
                                    "SZALL_DATUM": "2015-12-08",
                                    "SZALL_MOD": "NULL",
                                    "(No column name)": "7819"
                                },
                                {
                                    "SZALL_DATUM": "2015-12-09",
                                    "SZALL_MOD": "NULL",
                                    "(No column name)": "7897"
                                },
                                {
                                    "SZALL_DATUM": "2015-12-10",
                                    "SZALL_MOD": "NULL",
                                    "(No column name)": "9644"
                                },
                                {
                                    "SZALL_DATUM": "2015-12-11",
                                    "SZALL_MOD": "NULL",
                                    "(No column name)": "8093"
                                },
                                {
                                    "SZALL_DATUM": "2015-12-12",
                                    "SZALL_MOD": "NULL",
                                    "(No column name)": "8957"
                                },
                                {
                                    "SZALL_DATUM": "2015-12-13",
                                    "SZALL_MOD": "NULL",
                                    "(No column name)": "7399"
                                },
                                {
                                    "SZALL_DATUM": "2015-12-14",
                                    "SZALL_MOD": "NULL",
                                    "(No column name)": "7676"
                                },
                                {
                                    "SZALL_DATUM": "2015-12-15",
                                    "SZALL_MOD": "NULL",
                                    "(No column name)": "6863"
                                },
                                {
                                    "SZALL_DATUM": "2015-12-16",
                                    "SZALL_MOD": "NULL",
                                    "(No column name)": "7886"
                                },
                                {
                                    "SZALL_DATUM": "2015-12-17",
                                    "SZALL_MOD": "NULL",
                                    "(No column name)": "6894"
                                },
                                {
                                    "SZALL_DATUM": "2015-12-18",
                                    "SZALL_MOD": "NULL",
                                    "(No column name)": "12260"
                                },
                                {
                                    "SZALL_DATUM": "2015-12-19",
                                    "SZALL_MOD": "NULL",
                                    "(No column name)": "5788"
                                },
                                {
                                    "SZALL_DATUM": "2015-12-20",
                                    "SZALL_MOD": "NULL",
                                    "(No column name)": "8699"
                                },
                                {
                                    "SZALL_DATUM": "2015-12-21",
                                    "SZALL_MOD": "NULL",
                                    "(No column name)": "6630"
                                },
                                {
                                    "SZALL_DATUM": "2015-12-22",
                                    "SZALL_MOD": "NULL",
                                    "(No column name)": "9212"
                                },
                                {
                                    "SZALL_DATUM": "2015-12-23",
                                    "SZALL_MOD": "NULL",
                                    "(No column name)": "6676"
                                },
                                {
                                    "SZALL_DATUM": "2015-12-24",
                                    "SZALL_MOD": "NULL",
                                    "(No column name)": "8869"
                                },
                                {
                                    "SZALL_DATUM": "2015-12-25",
                                    "SZALL_MOD": "NULL",
                                    "(No column name)": "6944"
                                },
                                {
                                    "SZALL_DATUM": "2015-12-26",
                                    "SZALL_MOD": "NULL",
                                    "(No column name)": "8921"
                                },
                                {
                                    "SZALL_DATUM": "2015-12-27",
                                    "SZALL_MOD": "NULL",
                                    "(No column name)": "7648"
                                },
                                {
                                    "SZALL_DATUM": "2015-12-28",
                                    "SZALL_MOD": "NULL",
                                    "(No column name)": "8042"
                                },
                                {
                                    "SZALL_DATUM": "2015-12-29",
                                    "SZALL_MOD": "NULL",
                                    "(No column name)": "7923"
                                },
                                {
                                    "SZALL_DATUM": "2015-12-30",
                                    "SZALL_MOD": "NULL",
                                    "(No column name)": "6562"
                                },
                                {
                                    "SZALL_DATUM": "2015-12-31",
                                    "SZALL_MOD": "NULL",
                                    "(No column name)": "7021"
                                },
                                {
                                    "SZALL_DATUM": "2016-01-01",
                                    "SZALL_MOD": "NULL",
                                    "(No column name)": "8837"
                                },
                                {
                                    "SZALL_DATUM": "2016-01-02",
                                    "SZALL_MOD": "NULL",
                                    "(No column name)": "7518"
                                },
                                {
                                    "SZALL_DATUM": "2016-01-03",
                                    "SZALL_MOD": "NULL",
                                    "(No column name)": "8422"
                                },
                                {
                                    "SZALL_DATUM": "2016-01-04",
                                    "SZALL_MOD": "NULL",
                                    "(No column name)": "8813"
                                },
                                {
                                    "SZALL_DATUM": "2016-01-05",
                                    "SZALL_MOD": "NULL",
                                    "(No column name)": "6895"
                                },
                                {
                                    "SZALL_DATUM": "2016-01-06",
                                    "SZALL_MOD": "NULL",
                                    "(No column name)": "6716"
                                },
                                {
                                    "SZALL_DATUM": "2016-01-07",
                                    "SZALL_MOD": "NULL",
                                    "(No column name)": "5593"
                                },
                                {
                                    "SZALL_DATUM": "2016-01-08",
                                    "SZALL_MOD": "NULL",
                                    "(No column name)": "9534"
                                },
                                {
                                    "SZALL_DATUM": "2016-01-09",
                                    "SZALL_MOD": "NULL",
                                    "(No column name)": "7056"
                                },
                                {
                                    "SZALL_DATUM": "2016-01-10",
                                    "SZALL_MOD": "NULL",
                                    "(No column name)": "8057"
                                },
                                {
                                    "SZALL_DATUM": "2016-01-11",
                                    "SZALL_MOD": "NULL",
                                    "(No column name)": "6734"
                                },
                                {
                                    "SZALL_DATUM": "2016-01-12",
                                    "SZALL_MOD": "NULL",
                                    "(No column name)": "6949"
                                },
                                {
                                    "SZALL_DATUM": "2016-01-13",
                                    "SZALL_MOD": "NULL",
                                    "(No column name)": "7487"
                                },
                                {
                                    "SZALL_DATUM": "2016-01-14",
                                    "SZALL_MOD": "NULL",
                                    "(No column name)": "8998"
                                },
                                {
                                    "SZALL_DATUM": "2016-01-15",
                                    "SZALL_MOD": "NULL",
                                    "(No column name)": "9345"
                                },
                                {
                                    "SZALL_DATUM": "2016-01-16",
                                    "SZALL_MOD": "NULL",
                                    "(No column name)": "8068"
                                },
                                {
                                    "SZALL_DATUM": "2016-01-17",
                                    "SZALL_MOD": "NULL",
                                    "(No column name)": "6954"
                                },
                                {
                                    "SZALL_DATUM": "2016-01-18",
                                    "SZALL_MOD": "NULL",
                                    "(No column name)": "4416"
                                },
                                {
                                    "SZALL_DATUM": "2016-01-19",
                                    "SZALL_MOD": "NULL",
                                    "(No column name)": "7124"
                                },
                                {
                                    "SZALL_DATUM": "2016-01-20",
                                    "SZALL_MOD": "NULL",
                                    "(No column name)": "8568"
                                },
                                {
                                    "SZALL_DATUM": "2016-01-21",
                                    "SZALL_MOD": "NULL",
                                    "(No column name)": "10953"
                                },
                                {
                                    "SZALL_DATUM": "2016-01-22",
                                    "SZALL_MOD": "NULL",
                                    "(No column name)": "8588"
                                },
                                {
                                    "SZALL_DATUM": "2016-01-23",
                                    "SZALL_MOD": "NULL",
                                    "(No column name)": "6512"
                                },
                                {
                                    "SZALL_DATUM": "2016-01-24",
                                    "SZALL_MOD": "NULL",
                                    "(No column name)": "8898"
                                },
                                {
                                    "SZALL_DATUM": "2016-01-25",
                                    "SZALL_MOD": "NULL",
                                    "(No column name)": "5191"
                                },
                                {
                                    "SZALL_DATUM": "2016-01-26",
                                    "SZALL_MOD": "NULL",
                                    "(No column name)": "5293"
                                },
                                {
                                    "SZALL_DATUM": "2016-01-27",
                                    "SZALL_MOD": "NULL",
                                    "(No column name)": "6513"
                                },
                                {
                                    "SZALL_DATUM": "2016-01-28",
                                    "SZALL_MOD": "NULL",
                                    "(No column name)": "8119"
                                },
                                {
                                    "SZALL_DATUM": "2016-01-29",
                                    "SZALL_MOD": "NULL",
                                    "(No column name)": "6658"
                                },
                                {
                                    "SZALL_DATUM": "2016-01-30",
                                    "SZALL_MOD": "NULL",
                                    "(No column name)": "8727"
                                },
                                {
                                    "SZALL_DATUM": "2016-01-31",
                                    "SZALL_MOD": "NULL",
                                    "(No column name)": "7527"
                                },
                                {
                                    "SZALL_DATUM": "2016-02-01",
                                    "SZALL_MOD": "NULL",
                                    "(No column name)": "9120"
                                },
                                {
                                    "SZALL_DATUM": "2016-02-02",
                                    "SZALL_MOD": "NULL",
                                    "(No column name)": "8088"
                                },
                                {
                                    "SZALL_DATUM": "2016-02-03",
                                    "SZALL_MOD": "NULL",
                                    "(No column name)": "9306"
                                },
                                {
                                    "SZALL_DATUM": "2016-02-04",
                                    "SZALL_MOD": "NULL",
                                    "(No column name)": "7994"
                                },
                                {
                                    "SZALL_DATUM": "2016-02-05",
                                    "SZALL_MOD": "NULL",
                                    "(No column name)": "9703"
                                },
                                {
                                    "SZALL_DATUM": "2016-02-06",
                                    "SZALL_MOD": "NULL",
                                    "(No column name)": "9860"
                                },
                                {
                                    "SZALL_DATUM": "2016-02-07",
                                    "SZALL_MOD": "NULL",
                                    "(No column name)": "6630"
                                },
                                {
                                    "SZALL_DATUM": "2016-02-08",
                                    "SZALL_MOD": "NULL",
                                    "(No column name)": "10093"
                                },
                                {
                                    "SZALL_DATUM": "2016-02-09",
                                    "SZALL_MOD": "NULL",
                                    "(No column name)": "9706"
                                },
                                {
                                    "SZALL_DATUM": "2016-02-10",
                                    "SZALL_MOD": "NULL",
                                    "(No column name)": "8520"
                                },
                                {
                                    "SZALL_DATUM": "2016-02-11",
                                    "SZALL_MOD": "NULL",
                                    "(No column name)": "7094"
                                },
                                {
                                    "SZALL_DATUM": "2016-02-12",
                                    "SZALL_MOD": "NULL",
                                    "(No column name)": "7789"
                                },
                                {
                                    "SZALL_DATUM": "2016-02-13",
                                    "SZALL_MOD": "NULL",
                                    "(No column name)": "7991"
                                },
                                {
                                    "SZALL_DATUM": "2016-02-14",
                                    "SZALL_MOD": "NULL",
                                    "(No column name)": "8049"
                                },
                                {
                                    "SZALL_DATUM": "2016-02-15",
                                    "SZALL_MOD": "NULL",
                                    "(No column name)": "10033"
                                },
                                {
                                    "SZALL_DATUM": "2016-02-16",
                                    "SZALL_MOD": "NULL",
                                    "(No column name)": "8049"
                                },
                                {
                                    "SZALL_DATUM": "2016-02-17",
                                    "SZALL_MOD": "NULL",
                                    "(No column name)": "9586"
                                },
                                {
                                    "SZALL_DATUM": "2016-02-18",
                                    "SZALL_MOD": "NULL",
                                    "(No column name)": "5922"
                                },
                                {
                                    "SZALL_DATUM": "2016-02-19",
                                    "SZALL_MOD": "NULL",
                                    "(No column name)": "8898"
                                },
                                {
                                    "SZALL_DATUM": "2016-02-20",
                                    "SZALL_MOD": "NULL",
                                    "(No column name)": "7549"
                                },
                                {
                                    "SZALL_DATUM": "2016-02-21",
                                    "SZALL_MOD": "NULL",
                                    "(No column name)": "6531"
                                },
                                {
                                    "SZALL_DATUM": "2016-02-22",
                                    "SZALL_MOD": "NULL",
                                    "(No column name)": "8724"
                                },
                                {
                                    "SZALL_DATUM": "2016-02-23",
                                    "SZALL_MOD": "NULL",
                                    "(No column name)": "6959"
                                },
                                {
                                    "SZALL_DATUM": "2016-02-24",
                                    "SZALL_MOD": "NULL",
                                    "(No column name)": "6314"
                                },
                                {
                                    "SZALL_DATUM": "2016-02-25",
                                    "SZALL_MOD": "NULL",
                                    "(No column name)": "7324"
                                },
                                {
                                    "SZALL_DATUM": "2016-02-26",
                                    "SZALL_MOD": "NULL",
                                    "(No column name)": "8466"
                                },
                                {
                                    "SZALL_DATUM": "2016-02-27",
                                    "SZALL_MOD": "NULL",
                                    "(No column name)": "7122"
                                },
                                {
                                    "SZALL_DATUM": "2016-02-28",
                                    "SZALL_MOD": "NULL",
                                    "(No column name)": "8447"
                                },
                                {
                                    "SZALL_DATUM": "2016-02-29",
                                    "SZALL_MOD": "NULL",
                                    "(No column name)": "8516"
                                },
                                {
                                    "SZALL_DATUM": "2016-03-01",
                                    "SZALL_MOD": "NULL",
                                    "(No column name)": "9654"
                                },
                                {
                                    "SZALL_DATUM": "2016-03-02",
                                    "SZALL_MOD": "NULL",
                                    "(No column name)": "7282"
                                },
                                {
                                    "SZALL_DATUM": "2016-03-03",
                                    "SZALL_MOD": "NULL",
                                    "(No column name)": "8853"
                                },
                                {
                                    "SZALL_DATUM": "2016-03-04",
                                    "SZALL_MOD": "NULL",
                                    "(No column name)": "8549"
                                },
                                {
                                    "SZALL_DATUM": "2016-03-05",
                                    "SZALL_MOD": "NULL",
                                    "(No column name)": "9463"
                                },
                                {
                                    "SZALL_DATUM": "2016-03-06",
                                    "SZALL_MOD": "NULL",
                                    "(No column name)": "7740"
                                },
                                {
                                    "SZALL_DATUM": "2016-03-07",
                                    "SZALL_MOD": "NULL",
                                    "(No column name)": "7680"
                                },
                                {
                                    "SZALL_DATUM": "2016-03-08",
                                    "SZALL_MOD": "NULL",
                                    "(No column name)": "5849"
                                },
                                {
                                    "SZALL_DATUM": "2016-03-09",
                                    "SZALL_MOD": "NULL",
                                    "(No column name)": "9412"
                                },
                                {
                                    "SZALL_DATUM": "2016-03-10",
                                    "SZALL_MOD": "NULL",
                                    "(No column name)": "8848"
                                },
                                {
                                    "SZALL_DATUM": "2016-03-11",
                                    "SZALL_MOD": "NULL",
                                    "(No column name)": "6193"
                                },
                                {
                                    "SZALL_DATUM": "2016-03-12",
                                    "SZALL_MOD": "NULL",
                                    "(No column name)": "10487"
                                },
                                {
                                    "SZALL_DATUM": "2016-03-13",
                                    "SZALL_MOD": "NULL",
                                    "(No column name)": "5913"
                                },
                                {
                                    "SZALL_DATUM": "2016-03-14",
                                    "SZALL_MOD": "NULL",
                                    "(No column name)": "9336"
                                },
                                {
                                    "SZALL_DATUM": "2016-03-15",
                                    "SZALL_MOD": "NULL",
                                    "(No column name)": "8180"
                                },
                                {
                                    "SZALL_DATUM": "2016-03-16",
                                    "SZALL_MOD": "NULL",
                                    "(No column name)": "7448"
                                },
                                {
                                    "SZALL_DATUM": "2016-03-17",
                                    "SZALL_MOD": "NULL",
                                    "(No column name)": "7770"
                                },
                                {
                                    "SZALL_DATUM": "2016-03-18",
                                    "SZALL_MOD": "NULL",
                                    "(No column name)": "6927"
                                },
                                {
                                    "SZALL_DATUM": "2016-03-19",
                                    "SZALL_MOD": "NULL",
                                    "(No column name)": "7827"
                                },
                                {
                                    "SZALL_DATUM": "2016-03-20",
                                    "SZALL_MOD": "NULL",
                                    "(No column name)": "12190"
                                },
                                {
                                    "SZALL_DATUM": "2016-03-21",
                                    "SZALL_MOD": "NULL",
                                    "(No column name)": "11075"
                                },
                                {
                                    "SZALL_DATUM": "2016-03-22",
                                    "SZALL_MOD": "NULL",
                                    "(No column name)": "7770"
                                },
                                {
                                    "SZALL_DATUM": "2016-03-23",
                                    "SZALL_MOD": "NULL",
                                    "(No column name)": "6397"
                                },
                                {
                                    "SZALL_DATUM": "2016-03-24",
                                    "SZALL_MOD": "NULL",
                                    "(No column name)": "7220"
                                },
                                {
                                    "SZALL_DATUM": "2016-03-25",
                                    "SZALL_MOD": "NULL",
                                    "(No column name)": "8763"
                                },
                                {
                                    "SZALL_DATUM": "2016-03-26",
                                    "SZALL_MOD": "NULL",
                                    "(No column name)": "9893"
                                },
                                {
                                    "SZALL_DATUM": "2016-03-27",
                                    "SZALL_MOD": "NULL",
                                    "(No column name)": "8950"
                                },
                                {
                                    "SZALL_DATUM": "2016-03-28",
                                    "SZALL_MOD": "NULL",
                                    "(No column name)": "7552"
                                },
                                {
                                    "SZALL_DATUM": "2016-03-29",
                                    "SZALL_MOD": "NULL",
                                    "(No column name)": "7416"
                                },
                                {
                                    "SZALL_DATUM": "2016-03-30",
                                    "SZALL_MOD": "NULL",
                                    "(No column name)": "8631"
                                },
                                {
                                    "SZALL_DATUM": "2016-03-31",
                                    "SZALL_MOD": "NULL",
                                    "(No column name)": "6885"
                                },
                                {
                                    "SZALL_DATUM": "2016-04-01",
                                    "SZALL_MOD": "NULL",
                                    "(No column name)": "8756"
                                },
                                {
                                    "SZALL_DATUM": "2016-04-02",
                                    "SZALL_MOD": "NULL",
                                    "(No column name)": "8073"
                                },
                                {
                                    "SZALL_DATUM": "2016-04-03",
                                    "SZALL_MOD": "NULL",
                                    "(No column name)": "5897"
                                },
                                {
                                    "SZALL_DATUM": "2016-04-04",
                                    "SZALL_MOD": "NULL",
                                    "(No column name)": "7405"
                                },
                                {
                                    "SZALL_DATUM": "2016-04-05",
                                    "SZALL_MOD": "NULL",
                                    "(No column name)": "8092"
                                },
                                {
                                    "SZALL_DATUM": "2016-04-06",
                                    "SZALL_MOD": "NULL",
                                    "(No column name)": "7458"
                                },
                                {
                                    "SZALL_DATUM": "2016-04-07",
                                    "SZALL_MOD": "NULL",
                                    "(No column name)": "9216"
                                },
                                {
                                    "SZALL_DATUM": "2016-04-08",
                                    "SZALL_MOD": "NULL",
                                    "(No column name)": "10889"
                                },
                                {
                                    "SZALL_DATUM": "2016-04-09",
                                    "SZALL_MOD": "NULL",
                                    "(No column name)": "9754"
                                },
                                {
                                    "SZALL_DATUM": "2016-04-10",
                                    "SZALL_MOD": "NULL",
                                    "(No column name)": "9878"
                                },
                                {
                                    "SZALL_DATUM": "2016-04-11",
                                    "SZALL_MOD": "NULL",
                                    "(No column name)": "8948"
                                },
                                {
                                    "SZALL_DATUM": "2016-04-12",
                                    "SZALL_MOD": "NULL",
                                    "(No column name)": "7144"
                                },
                                {
                                    "SZALL_DATUM": "2016-04-13",
                                    "SZALL_MOD": "NULL",
                                    "(No column name)": "7728"
                                },
                                {
                                    "SZALL_DATUM": "2016-04-14",
                                    "SZALL_MOD": "NULL",
                                    "(No column name)": "8805"
                                },
                                {
                                    "SZALL_DATUM": "2016-04-15",
                                    "SZALL_MOD": "NULL",
                                    "(No column name)": "8331"
                                },
                                {
                                    "SZALL_DATUM": "2016-04-16",
                                    "SZALL_MOD": "NULL",
                                    "(No column name)": "8755"
                                },
                                {
                                    "SZALL_DATUM": "2016-04-17",
                                    "SZALL_MOD": "NULL",
                                    "(No column name)": "10267"
                                },
                                {
                                    "SZALL_DATUM": "2016-04-18",
                                    "SZALL_MOD": "NULL",
                                    "(No column name)": "7586"
                                },
                                {
                                    "SZALL_DATUM": "2016-04-19",
                                    "SZALL_MOD": "NULL",
                                    "(No column name)": "9190"
                                },
                                {
                                    "SZALL_DATUM": "2016-04-20",
                                    "SZALL_MOD": "NULL",
                                    "(No column name)": "6584"
                                },
                                {
                                    "SZALL_DATUM": "2016-04-21",
                                    "SZALL_MOD": "NULL",
                                    "(No column name)": "6628"
                                },
                                {
                                    "SZALL_DATUM": "2016-04-22",
                                    "SZALL_MOD": "NULL",
                                    "(No column name)": "6502"
                                },
                                {
                                    "SZALL_DATUM": "2016-04-23",
                                    "SZALL_MOD": "NULL",
                                    "(No column name)": "6588"
                                },
                                {
                                    "SZALL_DATUM": "2016-04-24",
                                    "SZALL_MOD": "NULL",
                                    "(No column name)": "9512"
                                },
                                {
                                    "SZALL_DATUM": "2016-04-25",
                                    "SZALL_MOD": "NULL",
                                    "(No column name)": "10177"
                                },
                                {
                                    "SZALL_DATUM": "2016-04-26",
                                    "SZALL_MOD": "NULL",
                                    "(No column name)": "7946"
                                },
                                {
                                    "SZALL_DATUM": "2016-04-27",
                                    "SZALL_MOD": "NULL",
                                    "(No column name)": "8344"
                                },
                                {
                                    "SZALL_DATUM": "2016-04-28",
                                    "SZALL_MOD": "NULL",
                                    "(No column name)": "7732"
                                },
                                {
                                    "SZALL_DATUM": "2016-04-29",
                                    "SZALL_MOD": "NULL",
                                    "(No column name)": "7870"
                                },
                                {
                                    "SZALL_DATUM": "2016-04-30",
                                    "SZALL_MOD": "NULL",
                                    "(No column name)": "7898"
                                },
                                {
                                    "SZALL_DATUM": "2016-05-01",
                                    "SZALL_MOD": "NULL",
                                    "(No column name)": "6600"
                                },
                                {
                                    "SZALL_DATUM": "2016-05-02",
                                    "SZALL_MOD": "NULL",
                                    "(No column name)": "8142"
                                },
                                {
                                    "SZALL_DATUM": "2016-05-03",
                                    "SZALL_MOD": "NULL",
                                    "(No column name)": "5084"
                                },
                                {
                                    "SZALL_DATUM": "2016-05-04",
                                    "SZALL_MOD": "NULL",
                                    "(No column name)": "9125"
                                },
                                {
                                    "SZALL_DATUM": "2016-05-05",
                                    "SZALL_MOD": "NULL",
                                    "(No column name)": "7845"
                                },
                                {
                                    "SZALL_DATUM": "2016-05-06",
                                    "SZALL_MOD": "NULL",
                                    "(No column name)": "7969"
                                },
                                {
                                    "SZALL_DATUM": "2016-05-07",
                                    "SZALL_MOD": "NULL",
                                    "(No column name)": "8896"
                                },
                                {
                                    "SZALL_DATUM": "2016-05-08",
                                    "SZALL_MOD": "NULL",
                                    "(No column name)": "7858"
                                },
                                {
                                    "SZALL_DATUM": "2016-05-09",
                                    "SZALL_MOD": "NULL",
                                    "(No column name)": "11178"
                                },
                                {
                                    "SZALL_DATUM": "2016-05-10",
                                    "SZALL_MOD": "NULL",
                                    "(No column name)": "8968"
                                },
                                {
                                    "SZALL_DATUM": "2016-05-11",
                                    "SZALL_MOD": "NULL",
                                    "(No column name)": "8132"
                                },
                                {
                                    "SZALL_DATUM": "2016-05-12",
                                    "SZALL_MOD": "NULL",
                                    "(No column name)": "8095"
                                },
                                {
                                    "SZALL_DATUM": "2016-05-13",
                                    "SZALL_MOD": "NULL",
                                    "(No column name)": "8089"
                                },
                                {
                                    "SZALL_DATUM": "2016-05-14",
                                    "SZALL_MOD": "NULL",
                                    "(No column name)": "7722"
                                },
                                {
                                    "SZALL_DATUM": "2016-05-15",
                                    "SZALL_MOD": "NULL",
                                    "(No column name)": "5490"
                                },
                                {
                                    "SZALL_DATUM": "2016-05-16",
                                    "SZALL_MOD": "NULL",
                                    "(No column name)": "7944"
                                },
                                {
                                    "SZALL_DATUM": "2016-05-17",
                                    "SZALL_MOD": "NULL",
                                    "(No column name)": "8888"
                                },
                                {
                                    "SZALL_DATUM": "2016-05-18",
                                    "SZALL_MOD": "NULL",
                                    "(No column name)": "5720"
                                },
                                {
                                    "SZALL_DATUM": "2016-05-19",
                                    "SZALL_MOD": "NULL",
                                    "(No column name)": "7578"
                                },
                                {
                                    "SZALL_DATUM": "2016-05-20",
                                    "SZALL_MOD": "NULL",
                                    "(No column name)": "8879"
                                },
                                {
                                    "SZALL_DATUM": "2016-05-21",
                                    "SZALL_MOD": "NULL",
                                    "(No column name)": "9030"
                                },
                                {
                                    "SZALL_DATUM": "2016-05-22",
                                    "SZALL_MOD": "NULL",
                                    "(No column name)": "4914"
                                },
                                {
                                    "SZALL_DATUM": "2016-05-23",
                                    "SZALL_MOD": "NULL",
                                    "(No column name)": "8577"
                                },
                                {
                                    "SZALL_DATUM": "2016-05-24",
                                    "SZALL_MOD": "NULL",
                                    "(No column name)": "8816"
                                },
                                {
                                    "SZALL_DATUM": "2016-05-25",
                                    "SZALL_MOD": "NULL",
                                    "(No column name)": "9296"
                                },
                                {
                                    "SZALL_DATUM": "2016-05-26",
                                    "SZALL_MOD": "NULL",
                                    "(No column name)": "5287"
                                },
                                {
                                    "SZALL_DATUM": "2016-05-27",
                                    "SZALL_MOD": "NULL",
                                    "(No column name)": "9701"
                                },
                                {
                                    "SZALL_DATUM": "2016-05-28",
                                    "SZALL_MOD": "NULL",
                                    "(No column name)": "6509"
                                },
                                {
                                    "SZALL_DATUM": "2016-05-29",
                                    "SZALL_MOD": "NULL",
                                    "(No column name)": "9450"
                                },
                                {
                                    "SZALL_DATUM": "2016-05-30",
                                    "SZALL_MOD": "NULL",
                                    "(No column name)": "6884"
                                },
                                {
                                    "SZALL_DATUM": "2016-05-31",
                                    "SZALL_MOD": "NULL",
                                    "(No column name)": "10007"
                                },
                                {
                                    "SZALL_DATUM": "2016-06-01",
                                    "SZALL_MOD": "NULL",
                                    "(No column name)": "8484"
                                },
                                {
                                    "SZALL_DATUM": "2016-06-02",
                                    "SZALL_MOD": "NULL",
                                    "(No column name)": "6928"
                                },
                                {
                                    "SZALL_DATUM": "2016-06-03",
                                    "SZALL_MOD": "NULL",
                                    "(No column name)": "6567"
                                },
                                {
                                    "SZALL_DATUM": "2016-06-04",
                                    "SZALL_MOD": "NULL",
                                    "(No column name)": "7904"
                                },
                                {
                                    "SZALL_DATUM": "2016-06-05",
                                    "SZALL_MOD": "NULL",
                                    "(No column name)": "5802"
                                },
                                {
                                    "SZALL_DATUM": "2016-06-06",
                                    "SZALL_MOD": "NULL",
                                    "(No column name)": "9474"
                                },
                                {
                                    "SZALL_DATUM": "2016-06-07",
                                    "SZALL_MOD": "NULL",
                                    "(No column name)": "8722"
                                },
                                {
                                    "SZALL_DATUM": "2016-06-08",
                                    "SZALL_MOD": "NULL",
                                    "(No column name)": "7019"
                                },
                                {
                                    "SZALL_DATUM": "2016-06-09",
                                    "SZALL_MOD": "NULL",
                                    "(No column name)": "7354"
                                },
                                {
                                    "SZALL_DATUM": "2016-06-10",
                                    "SZALL_MOD": "NULL",
                                    "(No column name)": "8873"
                                },
                                {
                                    "SZALL_DATUM": "2016-06-11",
                                    "SZALL_MOD": "NULL",
                                    "(No column name)": "9217"
                                },
                                {
                                    "SZALL_DATUM": "2016-06-12",
                                    "SZALL_MOD": "NULL",
                                    "(No column name)": "9418"
                                },
                                {
                                    "SZALL_DATUM": "2016-06-13",
                                    "SZALL_MOD": "NULL",
                                    "(No column name)": "6407"
                                },
                                {
                                    "SZALL_DATUM": "2016-06-14",
                                    "SZALL_MOD": "NULL",
                                    "(No column name)": "7968"
                                },
                                {
                                    "SZALL_DATUM": "2016-06-15",
                                    "SZALL_MOD": "NULL",
                                    "(No column name)": "8830"
                                },
                                {
                                    "SZALL_DATUM": "2016-06-16",
                                    "SZALL_MOD": "NULL",
                                    "(No column name)": "6462"
                                },
                                {
                                    "SZALL_DATUM": "2016-06-17",
                                    "SZALL_MOD": "NULL",
                                    "(No column name)": "9189"
                                },
                                {
                                    "SZALL_DATUM": "2016-06-18",
                                    "SZALL_MOD": "NULL",
                                    "(No column name)": "6311"
                                },
                                {
                                    "SZALL_DATUM": "2016-06-19",
                                    "SZALL_MOD": "NULL",
                                    "(No column name)": "8834"
                                },
                                {
                                    "SZALL_DATUM": "2016-06-20",
                                    "SZALL_MOD": "NULL",
                                    "(No column name)": "8005"
                                },
                                {
                                    "SZALL_DATUM": "2016-06-21",
                                    "SZALL_MOD": "NULL",
                                    "(No column name)": "6482"
                                },
                                {
                                    "SZALL_DATUM": "2016-06-22",
                                    "SZALL_MOD": "NULL",
                                    "(No column name)": "6541"
                                },
                                {
                                    "SZALL_DATUM": "2016-06-23",
                                    "SZALL_MOD": "NULL",
                                    "(No column name)": "6662"
                                },
                                {
                                    "SZALL_DATUM": "2016-06-24",
                                    "SZALL_MOD": "NULL",
                                    "(No column name)": "8530"
                                },
                                {
                                    "SZALL_DATUM": "2016-06-25",
                                    "SZALL_MOD": "NULL",
                                    "(No column name)": "8262"
                                },
                                {
                                    "SZALL_DATUM": "2016-06-26",
                                    "SZALL_MOD": "NULL",
                                    "(No column name)": "10488"
                                },
                                {
                                    "SZALL_DATUM": "2016-06-27",
                                    "SZALL_MOD": "NULL",
                                    "(No column name)": "5541"
                                },
                                {
                                    "SZALL_DATUM": "2016-06-28",
                                    "SZALL_MOD": "NULL",
                                    "(No column name)": "10267"
                                },
                                {
                                    "SZALL_DATUM": "2016-06-29",
                                    "SZALL_MOD": "NULL",
                                    "(No column name)": "9869"
                                },
                                {
                                    "SZALL_DATUM": "2016-06-30",
                                    "SZALL_MOD": "NULL",
                                    "(No column name)": "9437"
                                },
                                {
                                    "SZALL_DATUM": "2016-07-01",
                                    "SZALL_MOD": "NULL",
                                    "(No column name)": "5916"
                                },
                                {
                                    "SZALL_DATUM": "2016-07-02",
                                    "SZALL_MOD": "NULL",
                                    "(No column name)": "6710"
                                },
                                {
                                    "SZALL_DATUM": "2016-07-03",
                                    "SZALL_MOD": "NULL",
                                    "(No column name)": "9081"
                                },
                                {
                                    "SZALL_DATUM": "2016-07-04",
                                    "SZALL_MOD": "NULL",
                                    "(No column name)": "10816"
                                },
                                {
                                    "SZALL_DATUM": "2016-07-05",
                                    "SZALL_MOD": "NULL",
                                    "(No column name)": "8863"
                                },
                                {
                                    "SZALL_DATUM": "2016-07-06",
                                    "SZALL_MOD": "NULL",
                                    "(No column name)": "7283"
                                },
                                {
                                    "SZALL_DATUM": "2016-07-07",
                                    "SZALL_MOD": "NULL",
                                    "(No column name)": "5922"
                                },
                                {
                                    "SZALL_DATUM": "2016-07-08",
                                    "SZALL_MOD": "NULL",
                                    "(No column name)": "7968"
                                },
                                {
                                    "SZALL_DATUM": "2016-07-09",
                                    "SZALL_MOD": "NULL",
                                    "(No column name)": "9112"
                                },
                                {
                                    "SZALL_DATUM": "2016-07-10",
                                    "SZALL_MOD": "NULL",
                                    "(No column name)": "7494"
                                },
                                {
                                    "SZALL_DATUM": "2016-07-11",
                                    "SZALL_MOD": "NULL",
                                    "(No column name)": "10358"
                                },
                                {
                                    "SZALL_DATUM": "2016-07-12",
                                    "SZALL_MOD": "NULL",
                                    "(No column name)": "8519"
                                },
                                {
                                    "SZALL_DATUM": "2016-07-13",
                                    "SZALL_MOD": "NULL",
                                    "(No column name)": "8721"
                                },
                                {
                                    "SZALL_DATUM": "2016-07-14",
                                    "SZALL_MOD": "NULL",
                                    "(No column name)": "7363"
                                },
                                {
                                    "SZALL_DATUM": "2016-07-15",
                                    "SZALL_MOD": "NULL",
                                    "(No column name)": "7066"
                                },
                                {
                                    "SZALL_DATUM": "2016-07-16",
                                    "SZALL_MOD": "NULL",
                                    "(No column name)": "8298"
                                },
                                {
                                    "SZALL_DATUM": "2016-07-17",
                                    "SZALL_MOD": "NULL",
                                    "(No column name)": "6320"
                                },
                                {
                                    "SZALL_DATUM": "2016-07-18",
                                    "SZALL_MOD": "NULL",
                                    "(No column name)": "8573"
                                },
                                {
                                    "SZALL_DATUM": "2016-07-19",
                                    "SZALL_MOD": "NULL",
                                    "(No column name)": "9023"
                                },
                                {
                                    "SZALL_DATUM": "2016-07-20",
                                    "SZALL_MOD": "NULL",
                                    "(No column name)": "7415"
                                },
                                {
                                    "SZALL_DATUM": "2016-07-21",
                                    "SZALL_MOD": "NULL",
                                    "(No column name)": "7484"
                                },
                                {
                                    "SZALL_DATUM": "2016-07-22",
                                    "SZALL_MOD": "NULL",
                                    "(No column name)": "7412"
                                },
                                {
                                    "SZALL_DATUM": "2016-07-23",
                                    "SZALL_MOD": "NULL",
                                    "(No column name)": "6895"
                                },
                                {
                                    "SZALL_DATUM": "2016-07-24",
                                    "SZALL_MOD": "NULL",
                                    "(No column name)": "6958"
                                },
                                {
                                    "SZALL_DATUM": "2016-07-25",
                                    "SZALL_MOD": "NULL",
                                    "(No column name)": "7559"
                                },
                                {
                                    "SZALL_DATUM": "2016-07-26",
                                    "SZALL_MOD": "NULL",
                                    "(No column name)": "7020"
                                },
                                {
                                    "SZALL_DATUM": "2016-07-27",
                                    "SZALL_MOD": "NULL",
                                    "(No column name)": "9352"
                                },
                                {
                                    "SZALL_DATUM": "2016-07-28",
                                    "SZALL_MOD": "NULL",
                                    "(No column name)": "7155"
                                },
                                {
                                    "SZALL_DATUM": "2016-07-29",
                                    "SZALL_MOD": "NULL",
                                    "(No column name)": "9038"
                                },
                                {
                                    "SZALL_DATUM": "2016-07-30",
                                    "SZALL_MOD": "NULL",
                                    "(No column name)": "6288"
                                },
                                {
                                    "SZALL_DATUM": "2016-07-31",
                                    "SZALL_MOD": "NULL",
                                    "(No column name)": "9007"
                                },
                                {
                                    "SZALL_DATUM": "2016-08-01",
                                    "SZALL_MOD": "NULL",
                                    "(No column name)": "7588"
                                },
                                {
                                    "SZALL_DATUM": "2016-08-02",
                                    "SZALL_MOD": "NULL",
                                    "(No column name)": "6686"
                                },
                                {
                                    "SZALL_DATUM": "2016-08-03",
                                    "SZALL_MOD": "NULL",
                                    "(No column name)": "7884"
                                },
                                {
                                    "SZALL_DATUM": "2016-08-04",
                                    "SZALL_MOD": "NULL",
                                    "(No column name)": "6900"
                                },
                                {
                                    "SZALL_DATUM": "2016-08-05",
                                    "SZALL_MOD": "NULL",
                                    "(No column name)": "7610"
                                },
                                {
                                    "SZALL_DATUM": "2016-08-06",
                                    "SZALL_MOD": "NULL",
                                    "(No column name)": "8498"
                                },
                                {
                                    "SZALL_DATUM": "2016-08-07",
                                    "SZALL_MOD": "NULL",
                                    "(No column name)": "5511"
                                },
                                {
                                    "SZALL_DATUM": "2016-08-08",
                                    "SZALL_MOD": "NULL",
                                    "(No column name)": "5829"
                                },
                                {
                                    "SZALL_DATUM": "2016-08-09",
                                    "SZALL_MOD": "NULL",
                                    "(No column name)": "10307"
                                },
                                {
                                    "SZALL_DATUM": "2016-08-10",
                                    "SZALL_MOD": "NULL",
                                    "(No column name)": "8311"
                                },
                                {
                                    "SZALL_DATUM": "2016-08-11",
                                    "SZALL_MOD": "NULL",
                                    "(No column name)": "8232"
                                },
                                {
                                    "SZALL_DATUM": "2016-08-12",
                                    "SZALL_MOD": "NULL",
                                    "(No column name)": "8761"
                                },
                                {
                                    "SZALL_DATUM": "2016-08-13",
                                    "SZALL_MOD": "NULL",
                                    "(No column name)": "9571"
                                },
                                {
                                    "SZALL_DATUM": "2016-08-14",
                                    "SZALL_MOD": "NULL",
                                    "(No column name)": "8263"
                                },
                                {
                                    "SZALL_DATUM": "2016-08-15",
                                    "SZALL_MOD": "NULL",
                                    "(No column name)": "10966"
                                },
                                {
                                    "SZALL_DATUM": "2016-08-16",
                                    "SZALL_MOD": "NULL",
                                    "(No column name)": "7435"
                                },
                                {
                                    "SZALL_DATUM": "2016-08-17",
                                    "SZALL_MOD": "NULL",
                                    "(No column name)": "7576"
                                },
                                {
                                    "SZALL_DATUM": "2016-08-18",
                                    "SZALL_MOD": "NULL",
                                    "(No column name)": "7689"
                                },
                                {
                                    "SZALL_DATUM": "2016-08-19",
                                    "SZALL_MOD": "NULL",
                                    "(No column name)": "6974"
                                },
                                {
                                    "SZALL_DATUM": "2016-08-20",
                                    "SZALL_MOD": "NULL",
                                    "(No column name)": "9117"
                                },
                                {
                                    "SZALL_DATUM": "2016-08-21",
                                    "SZALL_MOD": "NULL",
                                    "(No column name)": "5864"
                                },
                                {
                                    "SZALL_DATUM": "2016-08-22",
                                    "SZALL_MOD": "NULL",
                                    "(No column name)": "7082"
                                },
                                {
                                    "SZALL_DATUM": "2016-08-23",
                                    "SZALL_MOD": "NULL",
                                    "(No column name)": "6153"
                                },
                                {
                                    "SZALL_DATUM": "2016-08-24",
                                    "SZALL_MOD": "NULL",
                                    "(No column name)": "8822"
                                },
                                {
                                    "SZALL_DATUM": "2016-08-25",
                                    "SZALL_MOD": "NULL",
                                    "(No column name)": "9398"
                                },
                                {
                                    "SZALL_DATUM": "2016-08-26",
                                    "SZALL_MOD": "NULL",
                                    "(No column name)": "8695"
                                },
                                {
                                    "SZALL_DATUM": "2016-08-27",
                                    "SZALL_MOD": "NULL",
                                    "(No column name)": "8120"
                                },
                                {
                                    "SZALL_DATUM": "2016-08-28",
                                    "SZALL_MOD": "NULL",
                                    "(No column name)": "8937"
                                },
                                {
                                    "SZALL_DATUM": "2016-08-29",
                                    "SZALL_MOD": "NULL",
                                    "(No column name)": "7542"
                                },
                                {
                                    "SZALL_DATUM": "2016-08-30",
                                    "SZALL_MOD": "NULL",
                                    "(No column name)": "5527"
                                },
                                {
                                    "SZALL_DATUM": "2016-08-31",
                                    "SZALL_MOD": "NULL",
                                    "(No column name)": "6069"
                                },
                                {
                                    "SZALL_DATUM": "2016-09-01",
                                    "SZALL_MOD": "NULL",
                                    "(No column name)": "6626"
                                },
                                {
                                    "SZALL_DATUM": "2016-09-02",
                                    "SZALL_MOD": "NULL",
                                    "(No column name)": "7775"
                                },
                                {
                                    "SZALL_DATUM": "2016-09-03",
                                    "SZALL_MOD": "NULL",
                                    "(No column name)": "11043"
                                },
                                {
                                    "SZALL_DATUM": "2016-09-04",
                                    "SZALL_MOD": "NULL",
                                    "(No column name)": "11369"
                                },
                                {
                                    "SZALL_DATUM": "2016-09-05",
                                    "SZALL_MOD": "NULL",
                                    "(No column name)": "6206"
                                },
                                {
                                    "SZALL_DATUM": "2016-09-06",
                                    "SZALL_MOD": "NULL",
                                    "(No column name)": "8736"
                                },
                                {
                                    "SZALL_DATUM": "2016-09-07",
                                    "SZALL_MOD": "NULL",
                                    "(No column name)": "8579"
                                },
                                {
                                    "SZALL_DATUM": "2016-09-08",
                                    "SZALL_MOD": "NULL",
                                    "(No column name)": "8561"
                                },
                                {
                                    "SZALL_DATUM": "2016-09-09",
                                    "SZALL_MOD": "NULL",
                                    "(No column name)": "8470"
                                },
                                {
                                    "SZALL_DATUM": "2016-09-10",
                                    "SZALL_MOD": "NULL",
                                    "(No column name)": "9203"
                                },
                                {
                                    "SZALL_DATUM": "2016-09-11",
                                    "SZALL_MOD": "NULL",
                                    "(No column name)": "8573"
                                },
                                {
                                    "SZALL_DATUM": "2016-09-12",
                                    "SZALL_MOD": "NULL",
                                    "(No column name)": "6264"
                                },
                                {
                                    "SZALL_DATUM": "2016-09-13",
                                    "SZALL_MOD": "NULL",
                                    "(No column name)": "8200"
                                },
                                {
                                    "SZALL_DATUM": "2016-09-14",
                                    "SZALL_MOD": "NULL",
                                    "(No column name)": "10576"
                                },
                                {
                                    "SZALL_DATUM": "2016-09-15",
                                    "SZALL_MOD": "NULL",
                                    "(No column name)": "10530"
                                },
                                {
                                    "SZALL_DATUM": "2016-09-16",
                                    "SZALL_MOD": "NULL",
                                    "(No column name)": "5621"
                                },
                                {
                                    "SZALL_DATUM": "2016-09-17",
                                    "SZALL_MOD": "NULL",
                                    "(No column name)": "7379"
                                },
                                {
                                    "SZALL_DATUM": "2016-09-18",
                                    "SZALL_MOD": "NULL",
                                    "(No column name)": "10790"
                                },
                                {
                                    "SZALL_DATUM": "2016-09-19",
                                    "SZALL_MOD": "NULL",
                                    "(No column name)": "7019"
                                },
                                {
                                    "SZALL_DATUM": "2016-09-20",
                                    "SZALL_MOD": "NULL",
                                    "(No column name)": "8544"
                                },
                                {
                                    "SZALL_DATUM": "2016-09-21",
                                    "SZALL_MOD": "NULL",
                                    "(No column name)": "5504"
                                },
                                {
                                    "SZALL_DATUM": "2016-09-22",
                                    "SZALL_MOD": "NULL",
                                    "(No column name)": "6691"
                                },
                                {
                                    "SZALL_DATUM": "2016-09-23",
                                    "SZALL_MOD": "NULL",
                                    "(No column name)": "6574"
                                },
                                {
                                    "SZALL_DATUM": "2016-09-24",
                                    "SZALL_MOD": "NULL",
                                    "(No column name)": "6220"
                                },
                                {
                                    "SZALL_DATUM": "2016-09-25",
                                    "SZALL_MOD": "NULL",
                                    "(No column name)": "6759"
                                },
                                {
                                    "SZALL_DATUM": "2016-09-26",
                                    "SZALL_MOD": "NULL",
                                    "(No column name)": "7073"
                                },
                                {
                                    "SZALL_DATUM": "2016-09-27",
                                    "SZALL_MOD": "NULL",
                                    "(No column name)": "9214"
                                },
                                {
                                    "SZALL_DATUM": "2016-09-28",
                                    "SZALL_MOD": "NULL",
                                    "(No column name)": "7948"
                                },
                                {
                                    "SZALL_DATUM": "2016-09-29",
                                    "SZALL_MOD": "NULL",
                                    "(No column name)": "5840"
                                },
                                {
                                    "SZALL_DATUM": "2016-09-30",
                                    "SZALL_MOD": "NULL",
                                    "(No column name)": "8410"
                                },
                                {
                                    "SZALL_DATUM": "2016-10-01",
                                    "SZALL_MOD": "NULL",
                                    "(No column name)": "8122"
                                },
                                {
                                    "SZALL_DATUM": "2016-10-02",
                                    "SZALL_MOD": "NULL",
                                    "(No column name)": "7206"
                                },
                                {
                                    "SZALL_DATUM": "2016-10-03",
                                    "SZALL_MOD": "NULL",
                                    "(No column name)": "6357"
                                },
                                {
                                    "SZALL_DATUM": "2016-10-04",
                                    "SZALL_MOD": "NULL",
                                    "(No column name)": "7203"
                                },
                                {
                                    "SZALL_DATUM": "2016-10-05",
                                    "SZALL_MOD": "NULL",
                                    "(No column name)": "7856"
                                },
                                {
                                    "SZALL_DATUM": "2016-10-06",
                                    "SZALL_MOD": "NULL",
                                    "(No column name)": "6682"
                                },
                                {
                                    "SZALL_DATUM": "2016-10-07",
                                    "SZALL_MOD": "NULL",
                                    "(No column name)": "6607"
                                },
                                {
                                    "SZALL_DATUM": "2016-10-08",
                                    "SZALL_MOD": "NULL",
                                    "(No column name)": "8515"
                                },
                                {
                                    "SZALL_DATUM": "2016-10-09",
                                    "SZALL_MOD": "NULL",
                                    "(No column name)": "10396"
                                },
                                {
                                    "SZALL_DATUM": "2016-10-10",
                                    "SZALL_MOD": "NULL",
                                    "(No column name)": "7117"
                                },
                                {
                                    "SZALL_DATUM": "2016-10-11",
                                    "SZALL_MOD": "NULL",
                                    "(No column name)": "9192"
                                },
                                {
                                    "SZALL_DATUM": "2016-10-12",
                                    "SZALL_MOD": "NULL",
                                    "(No column name)": "10889"
                                },
                                {
                                    "SZALL_DATUM": "2016-10-13",
                                    "SZALL_MOD": "NULL",
                                    "(No column name)": "10192"
                                },
                                {
                                    "SZALL_DATUM": "2016-10-14",
                                    "SZALL_MOD": "NULL",
                                    "(No column name)": "7397"
                                },
                                {
                                    "SZALL_DATUM": "2016-10-15",
                                    "SZALL_MOD": "NULL",
                                    "(No column name)": "7459"
                                },
                                {
                                    "SZALL_DATUM": "2016-10-16",
                                    "SZALL_MOD": "NULL",
                                    "(No column name)": "7198"
                                },
                                {
                                    "SZALL_DATUM": "2016-10-17",
                                    "SZALL_MOD": "NULL",
                                    "(No column name)": "11045"
                                },
                                {
                                    "SZALL_DATUM": "2016-10-18",
                                    "SZALL_MOD": "NULL",
                                    "(No column name)": "7033"
                                },
                                {
                                    "SZALL_DATUM": "2016-10-19",
                                    "SZALL_MOD": "NULL",
                                    "(No column name)": "9307"
                                },
                                {
                                    "SZALL_DATUM": "2016-10-20",
                                    "SZALL_MOD": "NULL",
                                    "(No column name)": "6856"
                                },
                                {
                                    "SZALL_DATUM": "2016-10-21",
                                    "SZALL_MOD": "NULL",
                                    "(No column name)": "9403"
                                },
                                {
                                    "SZALL_DATUM": "2016-10-22",
                                    "SZALL_MOD": "NULL",
                                    "(No column name)": "8356"
                                },
                                {
                                    "SZALL_DATUM": "2016-10-23",
                                    "SZALL_MOD": "NULL",
                                    "(No column name)": "9634"
                                },
                                {
                                    "SZALL_DATUM": "2016-10-24",
                                    "SZALL_MOD": "NULL",
                                    "(No column name)": "4888"
                                },
                                {
                                    "SZALL_DATUM": "2016-10-25",
                                    "SZALL_MOD": "NULL",
                                    "(No column name)": "11978"
                                },
                                {
                                    "SZALL_DATUM": "2016-10-26",
                                    "SZALL_MOD": "NULL",
                                    "(No column name)": "8070"
                                },
                                {
                                    "SZALL_DATUM": "2016-10-27",
                                    "SZALL_MOD": "NULL",
                                    "(No column name)": "7617"
                                },
                                {
                                    "SZALL_DATUM": "2016-10-28",
                                    "SZALL_MOD": "NULL",
                                    "(No column name)": "7766"
                                },
                                {
                                    "SZALL_DATUM": "2016-10-29",
                                    "SZALL_MOD": "NULL",
                                    "(No column name)": "6854"
                                },
                                {
                                    "SZALL_DATUM": "2016-10-30",
                                    "SZALL_MOD": "NULL",
                                    "(No column name)": "11718"
                                },
                                {
                                    "SZALL_DATUM": "2016-10-31",
                                    "SZALL_MOD": "NULL",
                                    "(No column name)": "8714"
                                },
                                {
                                    "SZALL_DATUM": "2016-11-01",
                                    "SZALL_MOD": "NULL",
                                    "(No column name)": "7238"
                                },
                                {
                                    "SZALL_DATUM": "2016-11-02",
                                    "SZALL_MOD": "NULL",
                                    "(No column name)": "5472"
                                },
                                {
                                    "SZALL_DATUM": "2016-11-03",
                                    "SZALL_MOD": "NULL",
                                    "(No column name)": "7739"
                                },
                                {
                                    "SZALL_DATUM": "2016-11-04",
                                    "SZALL_MOD": "NULL",
                                    "(No column name)": "6667"
                                },
                                {
                                    "SZALL_DATUM": "2016-11-05",
                                    "SZALL_MOD": "NULL",
                                    "(No column name)": "9157"
                                },
                                {
                                    "SZALL_DATUM": "2016-11-06",
                                    "SZALL_MOD": "NULL",
                                    "(No column name)": "8517"
                                },
                                {
                                    "SZALL_DATUM": "2016-11-07",
                                    "SZALL_MOD": "NULL",
                                    "(No column name)": "6691"
                                },
                                {
                                    "SZALL_DATUM": "2016-11-08",
                                    "SZALL_MOD": "NULL",
                                    "(No column name)": "8431"
                                },
                                {
                                    "SZALL_DATUM": "2016-11-09",
                                    "SZALL_MOD": "NULL",
                                    "(No column name)": "5911"
                                },
                                {
                                    "SZALL_DATUM": "2016-11-10",
                                    "SZALL_MOD": "NULL",
                                    "(No column name)": "6795"
                                },
                                {
                                    "SZALL_DATUM": "2016-11-11",
                                    "SZALL_MOD": "NULL",
                                    "(No column name)": "6940"
                                },
                                {
                                    "SZALL_DATUM": "2016-11-12",
                                    "SZALL_MOD": "NULL",
                                    "(No column name)": "10959"
                                },
                                {
                                    "SZALL_DATUM": "2016-11-13",
                                    "SZALL_MOD": "NULL",
                                    "(No column name)": "10751"
                                },
                                {
                                    "SZALL_DATUM": "2016-11-14",
                                    "SZALL_MOD": "NULL",
                                    "(No column name)": "11881"
                                },
                                {
                                    "SZALL_DATUM": "2016-11-15",
                                    "SZALL_MOD": "NULL",
                                    "(No column name)": "6736"
                                },
                                {
                                    "SZALL_DATUM": "2016-11-16",
                                    "SZALL_MOD": "NULL",
                                    "(No column name)": "8969"
                                },
                                {
                                    "SZALL_DATUM": "2016-11-17",
                                    "SZALL_MOD": "NULL",
                                    "(No column name)": "6852"
                                },
                                {
                                    "SZALL_DATUM": "2016-11-18",
                                    "SZALL_MOD": "NULL",
                                    "(No column name)": "6770"
                                },
                                {
                                    "SZALL_DATUM": "2016-11-19",
                                    "SZALL_MOD": "NULL",
                                    "(No column name)": "7451"
                                },
                                {
                                    "SZALL_DATUM": "2016-11-20",
                                    "SZALL_MOD": "NULL",
                                    "(No column name)": "7946"
                                },
                                {
                                    "SZALL_DATUM": "2016-11-21",
                                    "SZALL_MOD": "NULL",
                                    "(No column name)": "6727"
                                },
                                {
                                    "SZALL_DATUM": "2016-11-22",
                                    "SZALL_MOD": "NULL",
                                    "(No column name)": "7801"
                                },
                                {
                                    "SZALL_DATUM": "2016-11-23",
                                    "SZALL_MOD": "NULL",
                                    "(No column name)": "7435"
                                },
                                {
                                    "SZALL_DATUM": "2016-11-24",
                                    "SZALL_MOD": "NULL",
                                    "(No column name)": "5981"
                                },
                                {
                                    "SZALL_DATUM": "2016-11-25",
                                    "SZALL_MOD": "NULL",
                                    "(No column name)": "6915"
                                },
                                {
                                    "SZALL_DATUM": "2016-11-26",
                                    "SZALL_MOD": "NULL",
                                    "(No column name)": "9216"
                                },
                                {
                                    "SZALL_DATUM": "2016-11-27",
                                    "SZALL_MOD": "NULL",
                                    "(No column name)": "9893"
                                },
                                {
                                    "SZALL_DATUM": "2016-11-28",
                                    "SZALL_MOD": "NULL",
                                    "(No column name)": "9770"
                                },
                                {
                                    "SZALL_DATUM": "2016-11-29",
                                    "SZALL_MOD": "NULL",
                                    "(No column name)": "8722"
                                },
                                {
                                    "SZALL_DATUM": "2016-11-30",
                                    "SZALL_MOD": "NULL",
                                    "(No column name)": "6419"
                                },
                                {
                                    "SZALL_DATUM": "2016-12-01",
                                    "SZALL_MOD": "NULL",
                                    "(No column name)": "9940"
                                },
                                {
                                    "SZALL_DATUM": "2016-12-02",
                                    "SZALL_MOD": "NULL",
                                    "(No column name)": "4748"
                                },
                                {
                                    "SZALL_DATUM": "2016-12-03",
                                    "SZALL_MOD": "NULL",
                                    "(No column name)": "6745"
                                },
                                {
                                    "SZALL_DATUM": "2016-12-04",
                                    "SZALL_MOD": "NULL",
                                    "(No column name)": "9959"
                                },
                                {
                                    "SZALL_DATUM": "2016-12-05",
                                    "SZALL_MOD": "NULL",
                                    "(No column name)": "8225"
                                },
                                {
                                    "SZALL_DATUM": "2016-12-06",
                                    "SZALL_MOD": "NULL",
                                    "(No column name)": "7762"
                                },
                                {
                                    "SZALL_DATUM": "2016-12-07",
                                    "SZALL_MOD": "NULL",
                                    "(No column name)": "7380"
                                },
                                {
                                    "SZALL_DATUM": "2016-12-08",
                                    "SZALL_MOD": "NULL",
                                    "(No column name)": "7200"
                                },
                                {
                                    "SZALL_DATUM": "2016-12-09",
                                    "SZALL_MOD": "NULL",
                                    "(No column name)": "9724"
                                },
                                {
                                    "SZALL_DATUM": "2016-12-10",
                                    "SZALL_MOD": "NULL",
                                    "(No column name)": "7083"
                                },
                                {
                                    "SZALL_DATUM": "2016-12-11",
                                    "SZALL_MOD": "NULL",
                                    "(No column name)": "7576"
                                },
                                {
                                    "SZALL_DATUM": "2016-12-12",
                                    "SZALL_MOD": "NULL",
                                    "(No column name)": "8580"
                                },
                                {
                                    "SZALL_DATUM": "2016-12-13",
                                    "SZALL_MOD": "NULL",
                                    "(No column name)": "8233"
                                },
                                {
                                    "SZALL_DATUM": "2016-12-14",
                                    "SZALL_MOD": "NULL",
                                    "(No column name)": "6268"
                                },
                                {
                                    "SZALL_DATUM": "2016-12-15",
                                    "SZALL_MOD": "NULL",
                                    "(No column name)": "7392"
                                },
                                {
                                    "SZALL_DATUM": "2016-12-16",
                                    "SZALL_MOD": "NULL",
                                    "(No column name)": "6407"
                                },
                                {
                                    "SZALL_DATUM": "2016-12-17",
                                    "SZALL_MOD": "NULL",
                                    "(No column name)": "7555"
                                },
                                {
                                    "SZALL_DATUM": "2016-12-18",
                                    "SZALL_MOD": "NULL",
                                    "(No column name)": "6070"
                                },
                                {
                                    "SZALL_DATUM": "2016-12-19",
                                    "SZALL_MOD": "NULL",
                                    "(No column name)": "5390"
                                },
                                {
                                    "SZALL_DATUM": "2016-12-20",
                                    "SZALL_MOD": "NULL",
                                    "(No column name)": "7735"
                                },
                                {
                                    "SZALL_DATUM": "2016-12-21",
                                    "SZALL_MOD": "NULL",
                                    "(No column name)": "10434"
                                },
                                {
                                    "SZALL_DATUM": "2016-12-22",
                                    "SZALL_MOD": "NULL",
                                    "(No column name)": "5465"
                                },
                                {
                                    "SZALL_DATUM": "2016-12-23",
                                    "SZALL_MOD": "NULL",
                                    "(No column name)": "8338"
                                },
                                {
                                    "SZALL_DATUM": "2016-12-24",
                                    "SZALL_MOD": "NULL",
                                    "(No column name)": "5916"
                                },
                                {
                                    "SZALL_DATUM": "2016-12-25",
                                    "SZALL_MOD": "NULL",
                                    "(No column name)": "7345"
                                },
                                {
                                    "SZALL_DATUM": "2016-12-26",
                                    "SZALL_MOD": "NULL",
                                    "(No column name)": "9875"
                                },
                                {
                                    "SZALL_DATUM": "2016-12-27",
                                    "SZALL_MOD": "NULL",
                                    "(No column name)": "10216"
                                },
                                {
                                    "SZALL_DATUM": "2016-12-28",
                                    "SZALL_MOD": "NULL",
                                    "(No column name)": "6222"
                                },
                                {
                                    "SZALL_DATUM": "2016-12-29",
                                    "SZALL_MOD": "NULL",
                                    "(No column name)": "10046"
                                },
                                {
                                    "SZALL_DATUM": "2016-12-30",
                                    "SZALL_MOD": "NULL",
                                    "(No column name)": "7113"
                                },
                                {
                                    "SZALL_DATUM": "2016-12-31",
                                    "SZALL_MOD": "NULL",
                                    "(No column name)": "7188"
                                },
                                {
                                    "SZALL_DATUM": "2017-01-01",
                                    "SZALL_MOD": "NULL",
                                    "(No column name)": "7200"
                                },
                                {
                                    "SZALL_DATUM": "2017-01-02",
                                    "SZALL_MOD": "NULL",
                                    "(No column name)": "7425"
                                },
                                {
                                    "SZALL_DATUM": "2017-01-03",
                                    "SZALL_MOD": "NULL",
                                    "(No column name)": "6783"
                                },
                                {
                                    "SZALL_DATUM": "2017-01-04",
                                    "SZALL_MOD": "NULL",
                                    "(No column name)": "7465"
                                },
                                {
                                    "SZALL_DATUM": "2017-01-05",
                                    "SZALL_MOD": "NULL",
                                    "(No column name)": "7591"
                                },
                                {
                                    "SZALL_DATUM": "2017-01-06",
                                    "SZALL_MOD": "NULL",
                                    "(No column name)": "8298"
                                },
                                {
                                    "SZALL_DATUM": "2017-01-07",
                                    "SZALL_MOD": "NULL",
                                    "(No column name)": "8976"
                                },
                                {
                                    "SZALL_DATUM": "2017-01-08",
                                    "SZALL_MOD": "NULL",
                                    "(No column name)": "7179"
                                },
                                {
                                    "SZALL_DATUM": "2017-01-09",
                                    "SZALL_MOD": "NULL",
                                    "(No column name)": "9465"
                                },
                                {
                                    "SZALL_DATUM": "2017-01-10",
                                    "SZALL_MOD": "NULL",
                                    "(No column name)": "8667"
                                },
                                {
                                    "SZALL_DATUM": "2017-01-11",
                                    "SZALL_MOD": "NULL",
                                    "(No column name)": "9472"
                                },
                                {
                                    "SZALL_DATUM": "2017-01-12",
                                    "SZALL_MOD": "NULL",
                                    "(No column name)": "7636"
                                },
                                {
                                    "SZALL_DATUM": "2017-01-13",
                                    "SZALL_MOD": "NULL",
                                    "(No column name)": "7538"
                                },
                                {
                                    "SZALL_DATUM": "2017-01-14",
                                    "SZALL_MOD": "NULL",
                                    "(No column name)": "8920"
                                },
                                {
                                    "SZALL_DATUM": "2017-01-15",
                                    "SZALL_MOD": "NULL",
                                    "(No column name)": "7611"
                                },
                                {
                                    "SZALL_DATUM": "2017-01-16",
                                    "SZALL_MOD": "NULL",
                                    "(No column name)": "7369"
                                },
                                {
                                    "SZALL_DATUM": "2017-01-17",
                                    "SZALL_MOD": "NULL",
                                    "(No column name)": "8658"
                                },
                                {
                                    "SZALL_DATUM": "2017-01-18",
                                    "SZALL_MOD": "NULL",
                                    "(No column name)": "6558"
                                },
                                {
                                    "SZALL_DATUM": "2017-01-19",
                                    "SZALL_MOD": "NULL",
                                    "(No column name)": "6422"
                                },
                                {
                                    "SZALL_DATUM": "2017-01-20",
                                    "SZALL_MOD": "NULL",
                                    "(No column name)": "6450"
                                },
                                {
                                    "SZALL_DATUM": "2017-01-21",
                                    "SZALL_MOD": "NULL",
                                    "(No column name)": "7150"
                                },
                                {
                                    "SZALL_DATUM": "2017-01-22",
                                    "SZALL_MOD": "NULL",
                                    "(No column name)": "8199"
                                },
                                {
                                    "SZALL_DATUM": "2017-01-23",
                                    "SZALL_MOD": "NULL",
                                    "(No column name)": "8394"
                                },
                                {
                                    "SZALL_DATUM": "2017-01-24",
                                    "SZALL_MOD": "NULL",
                                    "(No column name)": "8615"
                                },
                                {
                                    "SZALL_DATUM": "2017-01-25",
                                    "SZALL_MOD": "NULL",
                                    "(No column name)": "6484"
                                },
                                {
                                    "SZALL_DATUM": "2017-01-26",
                                    "SZALL_MOD": "NULL",
                                    "(No column name)": "9426"
                                },
                                {
                                    "SZALL_DATUM": "2017-01-27",
                                    "SZALL_MOD": "NULL",
                                    "(No column name)": "5418"
                                },
                                {
                                    "SZALL_DATUM": "2017-01-28",
                                    "SZALL_MOD": "NULL",
                                    "(No column name)": "8401"
                                },
                                {
                                    "SZALL_DATUM": "2017-01-29",
                                    "SZALL_MOD": "NULL",
                                    "(No column name)": "8997"
                                },
                                {
                                    "SZALL_DATUM": "2017-01-30",
                                    "SZALL_MOD": "NULL",
                                    "(No column name)": "9661"
                                },
                                {
                                    "SZALL_DATUM": "2017-01-31",
                                    "SZALL_MOD": "NULL",
                                    "(No column name)": "6253"
                                },
                                {
                                    "SZALL_DATUM": "2017-02-01",
                                    "SZALL_MOD": "NULL",
                                    "(No column name)": "5703"
                                },
                                {
                                    "SZALL_DATUM": "2017-02-02",
                                    "SZALL_MOD": "NULL",
                                    "(No column name)": "8746"
                                },
                                {
                                    "SZALL_DATUM": "2017-02-03",
                                    "SZALL_MOD": "NULL",
                                    "(No column name)": "7840"
                                },
                                {
                                    "SZALL_DATUM": "2017-02-04",
                                    "SZALL_MOD": "NULL",
                                    "(No column name)": "6220"
                                },
                                {
                                    "SZALL_DATUM": "2017-02-05",
                                    "SZALL_MOD": "NULL",
                                    "(No column name)": "5138"
                                },
                                {
                                    "SZALL_DATUM": "2017-02-06",
                                    "SZALL_MOD": "NULL",
                                    "(No column name)": "8206"
                                },
                                {
                                    "SZALL_DATUM": "2017-02-07",
                                    "SZALL_MOD": "NULL",
                                    "(No column name)": "6846"
                                },
                                {
                                    "SZALL_DATUM": "2017-02-08",
                                    "SZALL_MOD": "NULL",
                                    "(No column name)": "10057"
                                },
                                {
                                    "SZALL_DATUM": "2017-02-09",
                                    "SZALL_MOD": "NULL",
                                    "(No column name)": "8302"
                                },
                                {
                                    "SZALL_DATUM": "2017-02-10",
                                    "SZALL_MOD": "NULL",
                                    "(No column name)": "8964"
                                },
                                {
                                    "SZALL_DATUM": "2017-02-11",
                                    "SZALL_MOD": "NULL",
                                    "(No column name)": "8790"
                                },
                                {
                                    "SZALL_DATUM": "2017-02-12",
                                    "SZALL_MOD": "NULL",
                                    "(No column name)": "6268"
                                },
                                {
                                    "SZALL_DATUM": "2017-02-13",
                                    "SZALL_MOD": "NULL",
                                    "(No column name)": "8176"
                                },
                                {
                                    "SZALL_DATUM": "2017-02-14",
                                    "SZALL_MOD": "NULL",
                                    "(No column name)": "10029"
                                },
                                {
                                    "SZALL_DATUM": "2017-02-15",
                                    "SZALL_MOD": "NULL",
                                    "(No column name)": "6443"
                                },
                                {
                                    "SZALL_DATUM": "2017-02-16",
                                    "SZALL_MOD": "NULL",
                                    "(No column name)": "8794"
                                },
                                {
                                    "SZALL_DATUM": "2017-02-17",
                                    "SZALL_MOD": "NULL",
                                    "(No column name)": "9808"
                                },
                                {
                                    "SZALL_DATUM": "2017-02-18",
                                    "SZALL_MOD": "NULL",
                                    "(No column name)": "10757"
                                },
                                {
                                    "SZALL_DATUM": "2017-02-19",
                                    "SZALL_MOD": "NULL",
                                    "(No column name)": "8284"
                                },
                                {
                                    "SZALL_DATUM": "2017-02-20",
                                    "SZALL_MOD": "NULL",
                                    "(No column name)": "5660"
                                },
                                {
                                    "SZALL_DATUM": "2017-02-21",
                                    "SZALL_MOD": "NULL",
                                    "(No column name)": "8878"
                                },
                                {
                                    "SZALL_DATUM": "2017-02-22",
                                    "SZALL_MOD": "NULL",
                                    "(No column name)": "9034"
                                },
                                {
                                    "SZALL_DATUM": "2017-02-23",
                                    "SZALL_MOD": "NULL",
                                    "(No column name)": "7574"
                                },
                                {
                                    "SZALL_DATUM": "2017-02-24",
                                    "SZALL_MOD": "NULL",
                                    "(No column name)": "6814"
                                },
                                {
                                    "SZALL_DATUM": "2017-02-25",
                                    "SZALL_MOD": "NULL",
                                    "(No column name)": "6820"
                                },
                                {
                                    "SZALL_DATUM": "2017-02-26",
                                    "SZALL_MOD": "NULL",
                                    "(No column name)": "8578"
                                },
                                {
                                    "SZALL_DATUM": "2017-02-27",
                                    "SZALL_MOD": "NULL",
                                    "(No column name)": "9185"
                                },
                                {
                                    "SZALL_DATUM": "2017-02-28",
                                    "SZALL_MOD": "NULL",
                                    "(No column name)": "11649"
                                },
                                {
                                    "SZALL_DATUM": "2017-03-01",
                                    "SZALL_MOD": "NULL",
                                    "(No column name)": "5037"
                                },
                                {
                                    "SZALL_DATUM": "2017-03-02",
                                    "SZALL_MOD": "NULL",
                                    "(No column name)": "4861"
                                },
                                {
                                    "SZALL_DATUM": "2017-03-03",
                                    "SZALL_MOD": "NULL",
                                    "(No column name)": "7585"
                                },
                                {
                                    "SZALL_DATUM": "2017-03-04",
                                    "SZALL_MOD": "NULL",
                                    "(No column name)": "5977"
                                },
                                {
                                    "SZALL_DATUM": "2017-03-05",
                                    "SZALL_MOD": "NULL",
                                    "(No column name)": "10338"
                                },
                                {
                                    "SZALL_DATUM": "2017-03-06",
                                    "SZALL_MOD": "NULL",
                                    "(No column name)": "10916"
                                },
                                {
                                    "SZALL_DATUM": "2017-03-07",
                                    "SZALL_MOD": "NULL",
                                    "(No column name)": "8747"
                                },
                                {
                                    "SZALL_DATUM": "2017-03-08",
                                    "SZALL_MOD": "NULL",
                                    "(No column name)": "6837"
                                },
                                {
                                    "SZALL_DATUM": "2017-03-09",
                                    "SZALL_MOD": "NULL",
                                    "(No column name)": "6964"
                                },
                                {
                                    "SZALL_DATUM": "2017-03-10",
                                    "SZALL_MOD": "NULL",
                                    "(No column name)": "6846"
                                },
                                {
                                    "SZALL_DATUM": "2017-03-11",
                                    "SZALL_MOD": "NULL",
                                    "(No column name)": "6885"
                                },
                                {
                                    "SZALL_DATUM": "2017-03-12",
                                    "SZALL_MOD": "NULL",
                                    "(No column name)": "5941"
                                },
                                {
                                    "SZALL_DATUM": "2017-03-13",
                                    "SZALL_MOD": "NULL",
                                    "(No column name)": "6950"
                                },
                                {
                                    "SZALL_DATUM": "2017-03-14",
                                    "SZALL_MOD": "NULL",
                                    "(No column name)": "7224"
                                },
                                {
                                    "SZALL_DATUM": "2017-03-15",
                                    "SZALL_MOD": "NULL",
                                    "(No column name)": "9718"
                                },
                                {
                                    "SZALL_DATUM": "2017-03-16",
                                    "SZALL_MOD": "NULL",
                                    "(No column name)": "9763"
                                },
                                {
                                    "SZALL_DATUM": "2017-03-17",
                                    "SZALL_MOD": "NULL",
                                    "(No column name)": "8908"
                                },
                                {
                                    "SZALL_DATUM": "2017-03-18",
                                    "SZALL_MOD": "NULL",
                                    "(No column name)": "9344"
                                },
                                {
                                    "SZALL_DATUM": "2017-03-19",
                                    "SZALL_MOD": "NULL",
                                    "(No column name)": "9937"
                                },
                                {
                                    "SZALL_DATUM": "2017-03-20",
                                    "SZALL_MOD": "NULL",
                                    "(No column name)": "7683"
                                },
                                {
                                    "SZALL_DATUM": "2017-03-21",
                                    "SZALL_MOD": "NULL",
                                    "(No column name)": "8639"
                                },
                                {
                                    "SZALL_DATUM": "2017-03-22",
                                    "SZALL_MOD": "NULL",
                                    "(No column name)": "6526"
                                },
                                {
                                    "SZALL_DATUM": "2017-03-23",
                                    "SZALL_MOD": "NULL",
                                    "(No column name)": "8799"
                                },
                                {
                                    "SZALL_DATUM": "2017-03-24",
                                    "SZALL_MOD": "NULL",
                                    "(No column name)": "7416"
                                },
                                {
                                    "SZALL_DATUM": "2017-03-25",
                                    "SZALL_MOD": "NULL",
                                    "(No column name)": "6272"
                                },
                                {
                                    "SZALL_DATUM": "2017-03-26",
                                    "SZALL_MOD": "NULL",
                                    "(No column name)": "7786"
                                },
                                {
                                    "SZALL_DATUM": "2017-03-27",
                                    "SZALL_MOD": "NULL",
                                    "(No column name)": "7715"
                                },
                                {
                                    "SZALL_DATUM": "2017-03-28",
                                    "SZALL_MOD": "NULL",
                                    "(No column name)": "8568"
                                },
                                {
                                    "SZALL_DATUM": "2017-03-29",
                                    "SZALL_MOD": "NULL",
                                    "(No column name)": "8346"
                                },
                                {
                                    "SZALL_DATUM": "2017-03-30",
                                    "SZALL_MOD": "NULL",
                                    "(No column name)": "8513"
                                },
                                {
                                    "SZALL_DATUM": "2017-03-31",
                                    "SZALL_MOD": "NULL",
                                    "(No column name)": "8598"
                                },
                                {
                                    "SZALL_DATUM": "2017-04-01",
                                    "SZALL_MOD": "NULL",
                                    "(No column name)": "7307"
                                },
                                {
                                    "SZALL_DATUM": "2017-04-02",
                                    "SZALL_MOD": "NULL",
                                    "(No column name)": "9477"
                                },
                                {
                                    "SZALL_DATUM": "2017-04-03",
                                    "SZALL_MOD": "NULL",
                                    "(No column name)": "6042"
                                },
                                {
                                    "SZALL_DATUM": "2017-04-04",
                                    "SZALL_MOD": "NULL",
                                    "(No column name)": "7493"
                                },
                                {
                                    "SZALL_DATUM": "2017-04-05",
                                    "SZALL_MOD": "NULL",
                                    "(No column name)": "7562"
                                },
                                {
                                    "SZALL_DATUM": "2017-04-06",
                                    "SZALL_MOD": "NULL",
                                    "(No column name)": "4646"
                                },
                                {
                                    "SZALL_DATUM": "2017-04-07",
                                    "SZALL_MOD": "NULL",
                                    "(No column name)": "5197"
                                },
                                {
                                    "SZALL_DATUM": "2017-04-08",
                                    "SZALL_MOD": "NULL",
                                    "(No column name)": "3057"
                                },
                                {
                                    "SZALL_DATUM": "2017-04-09",
                                    "SZALL_MOD": "NULL",
                                    "(No column name)": "3870"
                                },
                                {
                                    "SZALL_DATUM": "2017-04-10",
                                    "SZALL_MOD": "NULL",
                                    "(No column name)": "1640"
                                },
                                {
                                    "SZALL_DATUM": "2017-04-11",
                                    "SZALL_MOD": "NULL",
                                    "(No column name)": "1220"
                                },
                                {
                                    "SZALL_DATUM": "NULL",
                                    "SZALL_MOD": "NULL",
                                    "(No column name)": "5578316"
                                }
                            ]
                        },
                        "text/html": "<table><tr><th>SZALL_DATUM</th><th>SZALL_MOD</th><th>(No column name)</th></tr><tr><td>2015-05-03</td><td>NULL</td><td>100</td></tr><tr><td>2015-05-04</td><td>NULL</td><td>996</td></tr><tr><td>2015-05-05</td><td>NULL</td><td>3152</td></tr><tr><td>2015-05-06</td><td>NULL</td><td>5030</td></tr><tr><td>2015-05-07</td><td>NULL</td><td>3828</td></tr><tr><td>2015-05-08</td><td>NULL</td><td>3213</td></tr><tr><td>2015-05-09</td><td>NULL</td><td>6665</td></tr><tr><td>2015-05-10</td><td>NULL</td><td>6909</td></tr><tr><td>2015-05-11</td><td>NULL</td><td>6224</td></tr><tr><td>2015-05-12</td><td>NULL</td><td>7568</td></tr><tr><td>2015-05-13</td><td>NULL</td><td>7985</td></tr><tr><td>2015-05-14</td><td>NULL</td><td>9706</td></tr><tr><td>2015-05-15</td><td>NULL</td><td>7400</td></tr><tr><td>2015-05-16</td><td>NULL</td><td>7897</td></tr><tr><td>2015-05-17</td><td>NULL</td><td>4572</td></tr><tr><td>2015-05-18</td><td>NULL</td><td>8190</td></tr><tr><td>2015-05-19</td><td>NULL</td><td>7248</td></tr><tr><td>2015-05-20</td><td>NULL</td><td>9859</td></tr><tr><td>2015-05-21</td><td>NULL</td><td>8041</td></tr><tr><td>2015-05-22</td><td>NULL</td><td>8338</td></tr><tr><td>2015-05-23</td><td>NULL</td><td>5616</td></tr><tr><td>2015-05-24</td><td>NULL</td><td>5001</td></tr><tr><td>2015-05-25</td><td>NULL</td><td>7611</td></tr><tr><td>2015-05-26</td><td>NULL</td><td>7153</td></tr><tr><td>2015-05-27</td><td>NULL</td><td>8300</td></tr><tr><td>2015-05-28</td><td>NULL</td><td>9340</td></tr><tr><td>2015-05-29</td><td>NULL</td><td>10784</td></tr><tr><td>2015-05-30</td><td>NULL</td><td>7763</td></tr><tr><td>2015-05-31</td><td>NULL</td><td>4364</td></tr><tr><td>2015-06-01</td><td>NULL</td><td>6947</td></tr><tr><td>2015-06-02</td><td>NULL</td><td>6241</td></tr><tr><td>2015-06-03</td><td>NULL</td><td>9359</td></tr><tr><td>2015-06-04</td><td>NULL</td><td>8474</td></tr><tr><td>2015-06-05</td><td>NULL</td><td>8961</td></tr><tr><td>2015-06-06</td><td>NULL</td><td>9510</td></tr><tr><td>2015-06-07</td><td>NULL</td><td>7956</td></tr><tr><td>2015-06-08</td><td>NULL</td><td>4277</td></tr><tr><td>2015-06-09</td><td>NULL</td><td>7132</td></tr><tr><td>2015-06-10</td><td>NULL</td><td>9346</td></tr><tr><td>2015-06-11</td><td>NULL</td><td>5191</td></tr><tr><td>2015-06-12</td><td>NULL</td><td>7336</td></tr><tr><td>2015-06-13</td><td>NULL</td><td>7818</td></tr><tr><td>2015-06-14</td><td>NULL</td><td>6484</td></tr><tr><td>2015-06-15</td><td>NULL</td><td>7796</td></tr><tr><td>2015-06-16</td><td>NULL</td><td>4307</td></tr><tr><td>2015-06-17</td><td>NULL</td><td>8645</td></tr><tr><td>2015-06-18</td><td>NULL</td><td>10077</td></tr><tr><td>2015-06-19</td><td>NULL</td><td>5675</td></tr><tr><td>2015-06-20</td><td>NULL</td><td>7859</td></tr><tr><td>2015-06-21</td><td>NULL</td><td>6627</td></tr><tr><td>2015-06-22</td><td>NULL</td><td>9084</td></tr><tr><td>2015-06-23</td><td>NULL</td><td>8869</td></tr><tr><td>2015-06-24</td><td>NULL</td><td>4993</td></tr><tr><td>2015-06-25</td><td>NULL</td><td>8165</td></tr><tr><td>2015-06-26</td><td>NULL</td><td>10834</td></tr><tr><td>2015-06-27</td><td>NULL</td><td>6396</td></tr><tr><td>2015-06-28</td><td>NULL</td><td>6803</td></tr><tr><td>2015-06-29</td><td>NULL</td><td>7435</td></tr><tr><td>2015-06-30</td><td>NULL</td><td>8526</td></tr><tr><td>2015-07-01</td><td>NULL</td><td>6032</td></tr><tr><td>2015-07-02</td><td>NULL</td><td>7066</td></tr><tr><td>2015-07-03</td><td>NULL</td><td>6359</td></tr><tr><td>2015-07-04</td><td>NULL</td><td>8739</td></tr><tr><td>2015-07-05</td><td>NULL</td><td>8558</td></tr><tr><td>2015-07-06</td><td>NULL</td><td>8389</td></tr><tr><td>2015-07-07</td><td>NULL</td><td>9522</td></tr><tr><td>2015-07-08</td><td>NULL</td><td>6395</td></tr><tr><td>2015-07-09</td><td>NULL</td><td>7375</td></tr><tr><td>2015-07-10</td><td>NULL</td><td>7676</td></tr><tr><td>2015-07-11</td><td>NULL</td><td>7366</td></tr><tr><td>2015-07-12</td><td>NULL</td><td>8638</td></tr><tr><td>2015-07-13</td><td>NULL</td><td>8300</td></tr><tr><td>2015-07-14</td><td>NULL</td><td>6340</td></tr><tr><td>2015-07-15</td><td>NULL</td><td>8615</td></tr><tr><td>2015-07-16</td><td>NULL</td><td>7041</td></tr><tr><td>2015-07-17</td><td>NULL</td><td>7327</td></tr><tr><td>2015-07-18</td><td>NULL</td><td>6762</td></tr><tr><td>2015-07-19</td><td>NULL</td><td>6776</td></tr><tr><td>2015-07-20</td><td>NULL</td><td>9748</td></tr><tr><td>2015-07-21</td><td>NULL</td><td>9805</td></tr><tr><td>2015-07-22</td><td>NULL</td><td>5140</td></tr><tr><td>2015-07-23</td><td>NULL</td><td>7258</td></tr><tr><td>2015-07-24</td><td>NULL</td><td>8697</td></tr><tr><td>2015-07-25</td><td>NULL</td><td>8180</td></tr><tr><td>2015-07-26</td><td>NULL</td><td>9323</td></tr><tr><td>2015-07-27</td><td>NULL</td><td>5417</td></tr><tr><td>2015-07-28</td><td>NULL</td><td>7825</td></tr><tr><td>2015-07-29</td><td>NULL</td><td>6405</td></tr><tr><td>2015-07-30</td><td>NULL</td><td>10029</td></tr><tr><td>2015-07-31</td><td>NULL</td><td>8673</td></tr><tr><td>2015-08-01</td><td>NULL</td><td>9957</td></tr><tr><td>2015-08-02</td><td>NULL</td><td>7599</td></tr><tr><td>2015-08-03</td><td>NULL</td><td>9208</td></tr><tr><td>2015-08-04</td><td>NULL</td><td>9353</td></tr><tr><td>2015-08-05</td><td>NULL</td><td>10342</td></tr><tr><td>2015-08-06</td><td>NULL</td><td>5124</td></tr><tr><td>2015-08-07</td><td>NULL</td><td>8960</td></tr><tr><td>2015-08-08</td><td>NULL</td><td>10296</td></tr><tr><td>2015-08-09</td><td>NULL</td><td>6026</td></tr><tr><td>2015-08-10</td><td>NULL</td><td>7896</td></tr><tr><td>2015-08-11</td><td>NULL</td><td>9008</td></tr><tr><td>2015-08-12</td><td>NULL</td><td>7605</td></tr><tr><td>2015-08-13</td><td>NULL</td><td>9380</td></tr><tr><td>2015-08-14</td><td>NULL</td><td>9780</td></tr><tr><td>2015-08-15</td><td>NULL</td><td>7514</td></tr><tr><td>2015-08-16</td><td>NULL</td><td>5341</td></tr><tr><td>2015-08-17</td><td>NULL</td><td>7162</td></tr><tr><td>2015-08-18</td><td>NULL</td><td>6271</td></tr><tr><td>2015-08-19</td><td>NULL</td><td>6650</td></tr><tr><td>2015-08-20</td><td>NULL</td><td>9005</td></tr><tr><td>2015-08-21</td><td>NULL</td><td>6874</td></tr><tr><td>2015-08-22</td><td>NULL</td><td>10138</td></tr><tr><td>2015-08-23</td><td>NULL</td><td>6734</td></tr><tr><td>2015-08-24</td><td>NULL</td><td>7767</td></tr><tr><td>2015-08-25</td><td>NULL</td><td>9206</td></tr><tr><td>2015-08-26</td><td>NULL</td><td>11006</td></tr><tr><td>2015-08-27</td><td>NULL</td><td>6244</td></tr><tr><td>2015-08-28</td><td>NULL</td><td>8145</td></tr><tr><td>2015-08-29</td><td>NULL</td><td>7380</td></tr><tr><td>2015-08-30</td><td>NULL</td><td>9727</td></tr><tr><td>2015-08-31</td><td>NULL</td><td>7226</td></tr><tr><td>2015-09-01</td><td>NULL</td><td>9466</td></tr><tr><td>2015-09-02</td><td>NULL</td><td>6179</td></tr><tr><td>2015-09-03</td><td>NULL</td><td>9949</td></tr><tr><td>2015-09-04</td><td>NULL</td><td>10432</td></tr><tr><td>2015-09-05</td><td>NULL</td><td>7083</td></tr><tr><td>2015-09-06</td><td>NULL</td><td>8378</td></tr><tr><td>2015-09-07</td><td>NULL</td><td>8303</td></tr><tr><td>2015-09-08</td><td>NULL</td><td>8349</td></tr><tr><td>2015-09-09</td><td>NULL</td><td>7985</td></tr><tr><td>2015-09-10</td><td>NULL</td><td>10353</td></tr><tr><td>2015-09-11</td><td>NULL</td><td>9284</td></tr><tr><td>2015-09-12</td><td>NULL</td><td>8553</td></tr><tr><td>2015-09-13</td><td>NULL</td><td>7435</td></tr><tr><td>2015-09-14</td><td>NULL</td><td>8232</td></tr><tr><td>2015-09-15</td><td>NULL</td><td>4776</td></tr><tr><td>2015-09-16</td><td>NULL</td><td>7416</td></tr><tr><td>2015-09-17</td><td>NULL</td><td>8358</td></tr><tr><td>2015-09-18</td><td>NULL</td><td>7210</td></tr><tr><td>2015-09-19</td><td>NULL</td><td>8267</td></tr><tr><td>2015-09-20</td><td>NULL</td><td>10001</td></tr><tr><td>2015-09-21</td><td>NULL</td><td>7086</td></tr><tr><td>2015-09-22</td><td>NULL</td><td>7424</td></tr><tr><td>2015-09-23</td><td>NULL</td><td>8183</td></tr><tr><td>2015-09-24</td><td>NULL</td><td>10252</td></tr><tr><td>2015-09-25</td><td>NULL</td><td>8106</td></tr><tr><td>2015-09-26</td><td>NULL</td><td>9451</td></tr><tr><td>2015-09-27</td><td>NULL</td><td>8692</td></tr><tr><td>2015-09-28</td><td>NULL</td><td>10281</td></tr><tr><td>2015-09-29</td><td>NULL</td><td>9481</td></tr><tr><td>2015-09-30</td><td>NULL</td><td>5900</td></tr><tr><td>2015-10-01</td><td>NULL</td><td>9384</td></tr><tr><td>2015-10-02</td><td>NULL</td><td>5674</td></tr><tr><td>2015-10-03</td><td>NULL</td><td>8509</td></tr><tr><td>2015-10-04</td><td>NULL</td><td>7645</td></tr><tr><td>2015-10-05</td><td>NULL</td><td>8535</td></tr><tr><td>2015-10-06</td><td>NULL</td><td>7529</td></tr><tr><td>2015-10-07</td><td>NULL</td><td>9435</td></tr><tr><td>2015-10-08</td><td>NULL</td><td>7319</td></tr><tr><td>2015-10-09</td><td>NULL</td><td>8931</td></tr><tr><td>2015-10-10</td><td>NULL</td><td>7928</td></tr><tr><td>2015-10-11</td><td>NULL</td><td>7516</td></tr><tr><td>2015-10-12</td><td>NULL</td><td>9355</td></tr><tr><td>2015-10-13</td><td>NULL</td><td>6564</td></tr><tr><td>2015-10-14</td><td>NULL</td><td>7035</td></tr><tr><td>2015-10-15</td><td>NULL</td><td>9269</td></tr><tr><td>2015-10-16</td><td>NULL</td><td>8427</td></tr><tr><td>2015-10-17</td><td>NULL</td><td>6936</td></tr><tr><td>2015-10-18</td><td>NULL</td><td>8671</td></tr><tr><td>2015-10-19</td><td>NULL</td><td>7207</td></tr><tr><td>2015-10-20</td><td>NULL</td><td>8613</td></tr><tr><td>2015-10-21</td><td>NULL</td><td>7366</td></tr><tr><td>2015-10-22</td><td>NULL</td><td>6678</td></tr><tr><td>2015-10-23</td><td>NULL</td><td>8056</td></tr><tr><td>2015-10-24</td><td>NULL</td><td>7233</td></tr><tr><td>2015-10-25</td><td>NULL</td><td>9107</td></tr><tr><td>2015-10-26</td><td>NULL</td><td>9776</td></tr><tr><td>2015-10-27</td><td>NULL</td><td>7669</td></tr><tr><td>2015-10-28</td><td>NULL</td><td>7522</td></tr><tr><td>2015-10-29</td><td>NULL</td><td>6971</td></tr><tr><td>2015-10-30</td><td>NULL</td><td>8999</td></tr><tr><td>2015-10-31</td><td>NULL</td><td>7046</td></tr><tr><td>2015-11-01</td><td>NULL</td><td>6171</td></tr><tr><td>2015-11-02</td><td>NULL</td><td>7612</td></tr><tr><td>2015-11-03</td><td>NULL</td><td>11533</td></tr><tr><td>2015-11-04</td><td>NULL</td><td>5352</td></tr><tr><td>2015-11-05</td><td>NULL</td><td>7183</td></tr><tr><td>2015-11-06</td><td>NULL</td><td>8606</td></tr><tr><td>2015-11-07</td><td>NULL</td><td>7260</td></tr><tr><td>2015-11-08</td><td>NULL</td><td>8177</td></tr><tr><td>2015-11-09</td><td>NULL</td><td>8431</td></tr><tr><td>2015-11-10</td><td>NULL</td><td>8329</td></tr><tr><td>2015-11-11</td><td>NULL</td><td>8191</td></tr><tr><td>2015-11-12</td><td>NULL</td><td>5884</td></tr><tr><td>2015-11-13</td><td>NULL</td><td>7359</td></tr><tr><td>2015-11-14</td><td>NULL</td><td>7730</td></tr><tr><td>2015-11-15</td><td>NULL</td><td>6881</td></tr><tr><td>2015-11-16</td><td>NULL</td><td>7721</td></tr><tr><td>2015-11-17</td><td>NULL</td><td>7234</td></tr><tr><td>2015-11-18</td><td>NULL</td><td>8321</td></tr><tr><td>2015-11-19</td><td>NULL</td><td>7582</td></tr><tr><td>2015-11-20</td><td>NULL</td><td>6288</td></tr><tr><td>2015-11-21</td><td>NULL</td><td>6657</td></tr><tr><td>2015-11-22</td><td>NULL</td><td>8640</td></tr><tr><td>2015-11-23</td><td>NULL</td><td>7363</td></tr><tr><td>2015-11-24</td><td>NULL</td><td>7556</td></tr><tr><td>2015-11-25</td><td>NULL</td><td>7103</td></tr><tr><td>2015-11-26</td><td>NULL</td><td>8368</td></tr><tr><td>2015-11-27</td><td>NULL</td><td>6865</td></tr><tr><td>2015-11-28</td><td>NULL</td><td>10098</td></tr><tr><td>2015-11-29</td><td>NULL</td><td>7636</td></tr><tr><td>2015-11-30</td><td>NULL</td><td>7182</td></tr><tr><td>2015-12-01</td><td>NULL</td><td>7314</td></tr><tr><td>2015-12-02</td><td>NULL</td><td>9592</td></tr><tr><td>2015-12-03</td><td>NULL</td><td>8829</td></tr><tr><td>2015-12-04</td><td>NULL</td><td>8013</td></tr><tr><td>2015-12-05</td><td>NULL</td><td>8887</td></tr><tr><td>2015-12-06</td><td>NULL</td><td>5596</td></tr><tr><td>2015-12-07</td><td>NULL</td><td>8825</td></tr><tr><td>2015-12-08</td><td>NULL</td><td>7819</td></tr><tr><td>2015-12-09</td><td>NULL</td><td>7897</td></tr><tr><td>2015-12-10</td><td>NULL</td><td>9644</td></tr><tr><td>2015-12-11</td><td>NULL</td><td>8093</td></tr><tr><td>2015-12-12</td><td>NULL</td><td>8957</td></tr><tr><td>2015-12-13</td><td>NULL</td><td>7399</td></tr><tr><td>2015-12-14</td><td>NULL</td><td>7676</td></tr><tr><td>2015-12-15</td><td>NULL</td><td>6863</td></tr><tr><td>2015-12-16</td><td>NULL</td><td>7886</td></tr><tr><td>2015-12-17</td><td>NULL</td><td>6894</td></tr><tr><td>2015-12-18</td><td>NULL</td><td>12260</td></tr><tr><td>2015-12-19</td><td>NULL</td><td>5788</td></tr><tr><td>2015-12-20</td><td>NULL</td><td>8699</td></tr><tr><td>2015-12-21</td><td>NULL</td><td>6630</td></tr><tr><td>2015-12-22</td><td>NULL</td><td>9212</td></tr><tr><td>2015-12-23</td><td>NULL</td><td>6676</td></tr><tr><td>2015-12-24</td><td>NULL</td><td>8869</td></tr><tr><td>2015-12-25</td><td>NULL</td><td>6944</td></tr><tr><td>2015-12-26</td><td>NULL</td><td>8921</td></tr><tr><td>2015-12-27</td><td>NULL</td><td>7648</td></tr><tr><td>2015-12-28</td><td>NULL</td><td>8042</td></tr><tr><td>2015-12-29</td><td>NULL</td><td>7923</td></tr><tr><td>2015-12-30</td><td>NULL</td><td>6562</td></tr><tr><td>2015-12-31</td><td>NULL</td><td>7021</td></tr><tr><td>2016-01-01</td><td>NULL</td><td>8837</td></tr><tr><td>2016-01-02</td><td>NULL</td><td>7518</td></tr><tr><td>2016-01-03</td><td>NULL</td><td>8422</td></tr><tr><td>2016-01-04</td><td>NULL</td><td>8813</td></tr><tr><td>2016-01-05</td><td>NULL</td><td>6895</td></tr><tr><td>2016-01-06</td><td>NULL</td><td>6716</td></tr><tr><td>2016-01-07</td><td>NULL</td><td>5593</td></tr><tr><td>2016-01-08</td><td>NULL</td><td>9534</td></tr><tr><td>2016-01-09</td><td>NULL</td><td>7056</td></tr><tr><td>2016-01-10</td><td>NULL</td><td>8057</td></tr><tr><td>2016-01-11</td><td>NULL</td><td>6734</td></tr><tr><td>2016-01-12</td><td>NULL</td><td>6949</td></tr><tr><td>2016-01-13</td><td>NULL</td><td>7487</td></tr><tr><td>2016-01-14</td><td>NULL</td><td>8998</td></tr><tr><td>2016-01-15</td><td>NULL</td><td>9345</td></tr><tr><td>2016-01-16</td><td>NULL</td><td>8068</td></tr><tr><td>2016-01-17</td><td>NULL</td><td>6954</td></tr><tr><td>2016-01-18</td><td>NULL</td><td>4416</td></tr><tr><td>2016-01-19</td><td>NULL</td><td>7124</td></tr><tr><td>2016-01-20</td><td>NULL</td><td>8568</td></tr><tr><td>2016-01-21</td><td>NULL</td><td>10953</td></tr><tr><td>2016-01-22</td><td>NULL</td><td>8588</td></tr><tr><td>2016-01-23</td><td>NULL</td><td>6512</td></tr><tr><td>2016-01-24</td><td>NULL</td><td>8898</td></tr><tr><td>2016-01-25</td><td>NULL</td><td>5191</td></tr><tr><td>2016-01-26</td><td>NULL</td><td>5293</td></tr><tr><td>2016-01-27</td><td>NULL</td><td>6513</td></tr><tr><td>2016-01-28</td><td>NULL</td><td>8119</td></tr><tr><td>2016-01-29</td><td>NULL</td><td>6658</td></tr><tr><td>2016-01-30</td><td>NULL</td><td>8727</td></tr><tr><td>2016-01-31</td><td>NULL</td><td>7527</td></tr><tr><td>2016-02-01</td><td>NULL</td><td>9120</td></tr><tr><td>2016-02-02</td><td>NULL</td><td>8088</td></tr><tr><td>2016-02-03</td><td>NULL</td><td>9306</td></tr><tr><td>2016-02-04</td><td>NULL</td><td>7994</td></tr><tr><td>2016-02-05</td><td>NULL</td><td>9703</td></tr><tr><td>2016-02-06</td><td>NULL</td><td>9860</td></tr><tr><td>2016-02-07</td><td>NULL</td><td>6630</td></tr><tr><td>2016-02-08</td><td>NULL</td><td>10093</td></tr><tr><td>2016-02-09</td><td>NULL</td><td>9706</td></tr><tr><td>2016-02-10</td><td>NULL</td><td>8520</td></tr><tr><td>2016-02-11</td><td>NULL</td><td>7094</td></tr><tr><td>2016-02-12</td><td>NULL</td><td>7789</td></tr><tr><td>2016-02-13</td><td>NULL</td><td>7991</td></tr><tr><td>2016-02-14</td><td>NULL</td><td>8049</td></tr><tr><td>2016-02-15</td><td>NULL</td><td>10033</td></tr><tr><td>2016-02-16</td><td>NULL</td><td>8049</td></tr><tr><td>2016-02-17</td><td>NULL</td><td>9586</td></tr><tr><td>2016-02-18</td><td>NULL</td><td>5922</td></tr><tr><td>2016-02-19</td><td>NULL</td><td>8898</td></tr><tr><td>2016-02-20</td><td>NULL</td><td>7549</td></tr><tr><td>2016-02-21</td><td>NULL</td><td>6531</td></tr><tr><td>2016-02-22</td><td>NULL</td><td>8724</td></tr><tr><td>2016-02-23</td><td>NULL</td><td>6959</td></tr><tr><td>2016-02-24</td><td>NULL</td><td>6314</td></tr><tr><td>2016-02-25</td><td>NULL</td><td>7324</td></tr><tr><td>2016-02-26</td><td>NULL</td><td>8466</td></tr><tr><td>2016-02-27</td><td>NULL</td><td>7122</td></tr><tr><td>2016-02-28</td><td>NULL</td><td>8447</td></tr><tr><td>2016-02-29</td><td>NULL</td><td>8516</td></tr><tr><td>2016-03-01</td><td>NULL</td><td>9654</td></tr><tr><td>2016-03-02</td><td>NULL</td><td>7282</td></tr><tr><td>2016-03-03</td><td>NULL</td><td>8853</td></tr><tr><td>2016-03-04</td><td>NULL</td><td>8549</td></tr><tr><td>2016-03-05</td><td>NULL</td><td>9463</td></tr><tr><td>2016-03-06</td><td>NULL</td><td>7740</td></tr><tr><td>2016-03-07</td><td>NULL</td><td>7680</td></tr><tr><td>2016-03-08</td><td>NULL</td><td>5849</td></tr><tr><td>2016-03-09</td><td>NULL</td><td>9412</td></tr><tr><td>2016-03-10</td><td>NULL</td><td>8848</td></tr><tr><td>2016-03-11</td><td>NULL</td><td>6193</td></tr><tr><td>2016-03-12</td><td>NULL</td><td>10487</td></tr><tr><td>2016-03-13</td><td>NULL</td><td>5913</td></tr><tr><td>2016-03-14</td><td>NULL</td><td>9336</td></tr><tr><td>2016-03-15</td><td>NULL</td><td>8180</td></tr><tr><td>2016-03-16</td><td>NULL</td><td>7448</td></tr><tr><td>2016-03-17</td><td>NULL</td><td>7770</td></tr><tr><td>2016-03-18</td><td>NULL</td><td>6927</td></tr><tr><td>2016-03-19</td><td>NULL</td><td>7827</td></tr><tr><td>2016-03-20</td><td>NULL</td><td>12190</td></tr><tr><td>2016-03-21</td><td>NULL</td><td>11075</td></tr><tr><td>2016-03-22</td><td>NULL</td><td>7770</td></tr><tr><td>2016-03-23</td><td>NULL</td><td>6397</td></tr><tr><td>2016-03-24</td><td>NULL</td><td>7220</td></tr><tr><td>2016-03-25</td><td>NULL</td><td>8763</td></tr><tr><td>2016-03-26</td><td>NULL</td><td>9893</td></tr><tr><td>2016-03-27</td><td>NULL</td><td>8950</td></tr><tr><td>2016-03-28</td><td>NULL</td><td>7552</td></tr><tr><td>2016-03-29</td><td>NULL</td><td>7416</td></tr><tr><td>2016-03-30</td><td>NULL</td><td>8631</td></tr><tr><td>2016-03-31</td><td>NULL</td><td>6885</td></tr><tr><td>2016-04-01</td><td>NULL</td><td>8756</td></tr><tr><td>2016-04-02</td><td>NULL</td><td>8073</td></tr><tr><td>2016-04-03</td><td>NULL</td><td>5897</td></tr><tr><td>2016-04-04</td><td>NULL</td><td>7405</td></tr><tr><td>2016-04-05</td><td>NULL</td><td>8092</td></tr><tr><td>2016-04-06</td><td>NULL</td><td>7458</td></tr><tr><td>2016-04-07</td><td>NULL</td><td>9216</td></tr><tr><td>2016-04-08</td><td>NULL</td><td>10889</td></tr><tr><td>2016-04-09</td><td>NULL</td><td>9754</td></tr><tr><td>2016-04-10</td><td>NULL</td><td>9878</td></tr><tr><td>2016-04-11</td><td>NULL</td><td>8948</td></tr><tr><td>2016-04-12</td><td>NULL</td><td>7144</td></tr><tr><td>2016-04-13</td><td>NULL</td><td>7728</td></tr><tr><td>2016-04-14</td><td>NULL</td><td>8805</td></tr><tr><td>2016-04-15</td><td>NULL</td><td>8331</td></tr><tr><td>2016-04-16</td><td>NULL</td><td>8755</td></tr><tr><td>2016-04-17</td><td>NULL</td><td>10267</td></tr><tr><td>2016-04-18</td><td>NULL</td><td>7586</td></tr><tr><td>2016-04-19</td><td>NULL</td><td>9190</td></tr><tr><td>2016-04-20</td><td>NULL</td><td>6584</td></tr><tr><td>2016-04-21</td><td>NULL</td><td>6628</td></tr><tr><td>2016-04-22</td><td>NULL</td><td>6502</td></tr><tr><td>2016-04-23</td><td>NULL</td><td>6588</td></tr><tr><td>2016-04-24</td><td>NULL</td><td>9512</td></tr><tr><td>2016-04-25</td><td>NULL</td><td>10177</td></tr><tr><td>2016-04-26</td><td>NULL</td><td>7946</td></tr><tr><td>2016-04-27</td><td>NULL</td><td>8344</td></tr><tr><td>2016-04-28</td><td>NULL</td><td>7732</td></tr><tr><td>2016-04-29</td><td>NULL</td><td>7870</td></tr><tr><td>2016-04-30</td><td>NULL</td><td>7898</td></tr><tr><td>2016-05-01</td><td>NULL</td><td>6600</td></tr><tr><td>2016-05-02</td><td>NULL</td><td>8142</td></tr><tr><td>2016-05-03</td><td>NULL</td><td>5084</td></tr><tr><td>2016-05-04</td><td>NULL</td><td>9125</td></tr><tr><td>2016-05-05</td><td>NULL</td><td>7845</td></tr><tr><td>2016-05-06</td><td>NULL</td><td>7969</td></tr><tr><td>2016-05-07</td><td>NULL</td><td>8896</td></tr><tr><td>2016-05-08</td><td>NULL</td><td>7858</td></tr><tr><td>2016-05-09</td><td>NULL</td><td>11178</td></tr><tr><td>2016-05-10</td><td>NULL</td><td>8968</td></tr><tr><td>2016-05-11</td><td>NULL</td><td>8132</td></tr><tr><td>2016-05-12</td><td>NULL</td><td>8095</td></tr><tr><td>2016-05-13</td><td>NULL</td><td>8089</td></tr><tr><td>2016-05-14</td><td>NULL</td><td>7722</td></tr><tr><td>2016-05-15</td><td>NULL</td><td>5490</td></tr><tr><td>2016-05-16</td><td>NULL</td><td>7944</td></tr><tr><td>2016-05-17</td><td>NULL</td><td>8888</td></tr><tr><td>2016-05-18</td><td>NULL</td><td>5720</td></tr><tr><td>2016-05-19</td><td>NULL</td><td>7578</td></tr><tr><td>2016-05-20</td><td>NULL</td><td>8879</td></tr><tr><td>2016-05-21</td><td>NULL</td><td>9030</td></tr><tr><td>2016-05-22</td><td>NULL</td><td>4914</td></tr><tr><td>2016-05-23</td><td>NULL</td><td>8577</td></tr><tr><td>2016-05-24</td><td>NULL</td><td>8816</td></tr><tr><td>2016-05-25</td><td>NULL</td><td>9296</td></tr><tr><td>2016-05-26</td><td>NULL</td><td>5287</td></tr><tr><td>2016-05-27</td><td>NULL</td><td>9701</td></tr><tr><td>2016-05-28</td><td>NULL</td><td>6509</td></tr><tr><td>2016-05-29</td><td>NULL</td><td>9450</td></tr><tr><td>2016-05-30</td><td>NULL</td><td>6884</td></tr><tr><td>2016-05-31</td><td>NULL</td><td>10007</td></tr><tr><td>2016-06-01</td><td>NULL</td><td>8484</td></tr><tr><td>2016-06-02</td><td>NULL</td><td>6928</td></tr><tr><td>2016-06-03</td><td>NULL</td><td>6567</td></tr><tr><td>2016-06-04</td><td>NULL</td><td>7904</td></tr><tr><td>2016-06-05</td><td>NULL</td><td>5802</td></tr><tr><td>2016-06-06</td><td>NULL</td><td>9474</td></tr><tr><td>2016-06-07</td><td>NULL</td><td>8722</td></tr><tr><td>2016-06-08</td><td>NULL</td><td>7019</td></tr><tr><td>2016-06-09</td><td>NULL</td><td>7354</td></tr><tr><td>2016-06-10</td><td>NULL</td><td>8873</td></tr><tr><td>2016-06-11</td><td>NULL</td><td>9217</td></tr><tr><td>2016-06-12</td><td>NULL</td><td>9418</td></tr><tr><td>2016-06-13</td><td>NULL</td><td>6407</td></tr><tr><td>2016-06-14</td><td>NULL</td><td>7968</td></tr><tr><td>2016-06-15</td><td>NULL</td><td>8830</td></tr><tr><td>2016-06-16</td><td>NULL</td><td>6462</td></tr><tr><td>2016-06-17</td><td>NULL</td><td>9189</td></tr><tr><td>2016-06-18</td><td>NULL</td><td>6311</td></tr><tr><td>2016-06-19</td><td>NULL</td><td>8834</td></tr><tr><td>2016-06-20</td><td>NULL</td><td>8005</td></tr><tr><td>2016-06-21</td><td>NULL</td><td>6482</td></tr><tr><td>2016-06-22</td><td>NULL</td><td>6541</td></tr><tr><td>2016-06-23</td><td>NULL</td><td>6662</td></tr><tr><td>2016-06-24</td><td>NULL</td><td>8530</td></tr><tr><td>2016-06-25</td><td>NULL</td><td>8262</td></tr><tr><td>2016-06-26</td><td>NULL</td><td>10488</td></tr><tr><td>2016-06-27</td><td>NULL</td><td>5541</td></tr><tr><td>2016-06-28</td><td>NULL</td><td>10267</td></tr><tr><td>2016-06-29</td><td>NULL</td><td>9869</td></tr><tr><td>2016-06-30</td><td>NULL</td><td>9437</td></tr><tr><td>2016-07-01</td><td>NULL</td><td>5916</td></tr><tr><td>2016-07-02</td><td>NULL</td><td>6710</td></tr><tr><td>2016-07-03</td><td>NULL</td><td>9081</td></tr><tr><td>2016-07-04</td><td>NULL</td><td>10816</td></tr><tr><td>2016-07-05</td><td>NULL</td><td>8863</td></tr><tr><td>2016-07-06</td><td>NULL</td><td>7283</td></tr><tr><td>2016-07-07</td><td>NULL</td><td>5922</td></tr><tr><td>2016-07-08</td><td>NULL</td><td>7968</td></tr><tr><td>2016-07-09</td><td>NULL</td><td>9112</td></tr><tr><td>2016-07-10</td><td>NULL</td><td>7494</td></tr><tr><td>2016-07-11</td><td>NULL</td><td>10358</td></tr><tr><td>2016-07-12</td><td>NULL</td><td>8519</td></tr><tr><td>2016-07-13</td><td>NULL</td><td>8721</td></tr><tr><td>2016-07-14</td><td>NULL</td><td>7363</td></tr><tr><td>2016-07-15</td><td>NULL</td><td>7066</td></tr><tr><td>2016-07-16</td><td>NULL</td><td>8298</td></tr><tr><td>2016-07-17</td><td>NULL</td><td>6320</td></tr><tr><td>2016-07-18</td><td>NULL</td><td>8573</td></tr><tr><td>2016-07-19</td><td>NULL</td><td>9023</td></tr><tr><td>2016-07-20</td><td>NULL</td><td>7415</td></tr><tr><td>2016-07-21</td><td>NULL</td><td>7484</td></tr><tr><td>2016-07-22</td><td>NULL</td><td>7412</td></tr><tr><td>2016-07-23</td><td>NULL</td><td>6895</td></tr><tr><td>2016-07-24</td><td>NULL</td><td>6958</td></tr><tr><td>2016-07-25</td><td>NULL</td><td>7559</td></tr><tr><td>2016-07-26</td><td>NULL</td><td>7020</td></tr><tr><td>2016-07-27</td><td>NULL</td><td>9352</td></tr><tr><td>2016-07-28</td><td>NULL</td><td>7155</td></tr><tr><td>2016-07-29</td><td>NULL</td><td>9038</td></tr><tr><td>2016-07-30</td><td>NULL</td><td>6288</td></tr><tr><td>2016-07-31</td><td>NULL</td><td>9007</td></tr><tr><td>2016-08-01</td><td>NULL</td><td>7588</td></tr><tr><td>2016-08-02</td><td>NULL</td><td>6686</td></tr><tr><td>2016-08-03</td><td>NULL</td><td>7884</td></tr><tr><td>2016-08-04</td><td>NULL</td><td>6900</td></tr><tr><td>2016-08-05</td><td>NULL</td><td>7610</td></tr><tr><td>2016-08-06</td><td>NULL</td><td>8498</td></tr><tr><td>2016-08-07</td><td>NULL</td><td>5511</td></tr><tr><td>2016-08-08</td><td>NULL</td><td>5829</td></tr><tr><td>2016-08-09</td><td>NULL</td><td>10307</td></tr><tr><td>2016-08-10</td><td>NULL</td><td>8311</td></tr><tr><td>2016-08-11</td><td>NULL</td><td>8232</td></tr><tr><td>2016-08-12</td><td>NULL</td><td>8761</td></tr><tr><td>2016-08-13</td><td>NULL</td><td>9571</td></tr><tr><td>2016-08-14</td><td>NULL</td><td>8263</td></tr><tr><td>2016-08-15</td><td>NULL</td><td>10966</td></tr><tr><td>2016-08-16</td><td>NULL</td><td>7435</td></tr><tr><td>2016-08-17</td><td>NULL</td><td>7576</td></tr><tr><td>2016-08-18</td><td>NULL</td><td>7689</td></tr><tr><td>2016-08-19</td><td>NULL</td><td>6974</td></tr><tr><td>2016-08-20</td><td>NULL</td><td>9117</td></tr><tr><td>2016-08-21</td><td>NULL</td><td>5864</td></tr><tr><td>2016-08-22</td><td>NULL</td><td>7082</td></tr><tr><td>2016-08-23</td><td>NULL</td><td>6153</td></tr><tr><td>2016-08-24</td><td>NULL</td><td>8822</td></tr><tr><td>2016-08-25</td><td>NULL</td><td>9398</td></tr><tr><td>2016-08-26</td><td>NULL</td><td>8695</td></tr><tr><td>2016-08-27</td><td>NULL</td><td>8120</td></tr><tr><td>2016-08-28</td><td>NULL</td><td>8937</td></tr><tr><td>2016-08-29</td><td>NULL</td><td>7542</td></tr><tr><td>2016-08-30</td><td>NULL</td><td>5527</td></tr><tr><td>2016-08-31</td><td>NULL</td><td>6069</td></tr><tr><td>2016-09-01</td><td>NULL</td><td>6626</td></tr><tr><td>2016-09-02</td><td>NULL</td><td>7775</td></tr><tr><td>2016-09-03</td><td>NULL</td><td>11043</td></tr><tr><td>2016-09-04</td><td>NULL</td><td>11369</td></tr><tr><td>2016-09-05</td><td>NULL</td><td>6206</td></tr><tr><td>2016-09-06</td><td>NULL</td><td>8736</td></tr><tr><td>2016-09-07</td><td>NULL</td><td>8579</td></tr><tr><td>2016-09-08</td><td>NULL</td><td>8561</td></tr><tr><td>2016-09-09</td><td>NULL</td><td>8470</td></tr><tr><td>2016-09-10</td><td>NULL</td><td>9203</td></tr><tr><td>2016-09-11</td><td>NULL</td><td>8573</td></tr><tr><td>2016-09-12</td><td>NULL</td><td>6264</td></tr><tr><td>2016-09-13</td><td>NULL</td><td>8200</td></tr><tr><td>2016-09-14</td><td>NULL</td><td>10576</td></tr><tr><td>2016-09-15</td><td>NULL</td><td>10530</td></tr><tr><td>2016-09-16</td><td>NULL</td><td>5621</td></tr><tr><td>2016-09-17</td><td>NULL</td><td>7379</td></tr><tr><td>2016-09-18</td><td>NULL</td><td>10790</td></tr><tr><td>2016-09-19</td><td>NULL</td><td>7019</td></tr><tr><td>2016-09-20</td><td>NULL</td><td>8544</td></tr><tr><td>2016-09-21</td><td>NULL</td><td>5504</td></tr><tr><td>2016-09-22</td><td>NULL</td><td>6691</td></tr><tr><td>2016-09-23</td><td>NULL</td><td>6574</td></tr><tr><td>2016-09-24</td><td>NULL</td><td>6220</td></tr><tr><td>2016-09-25</td><td>NULL</td><td>6759</td></tr><tr><td>2016-09-26</td><td>NULL</td><td>7073</td></tr><tr><td>2016-09-27</td><td>NULL</td><td>9214</td></tr><tr><td>2016-09-28</td><td>NULL</td><td>7948</td></tr><tr><td>2016-09-29</td><td>NULL</td><td>5840</td></tr><tr><td>2016-09-30</td><td>NULL</td><td>8410</td></tr><tr><td>2016-10-01</td><td>NULL</td><td>8122</td></tr><tr><td>2016-10-02</td><td>NULL</td><td>7206</td></tr><tr><td>2016-10-03</td><td>NULL</td><td>6357</td></tr><tr><td>2016-10-04</td><td>NULL</td><td>7203</td></tr><tr><td>2016-10-05</td><td>NULL</td><td>7856</td></tr><tr><td>2016-10-06</td><td>NULL</td><td>6682</td></tr><tr><td>2016-10-07</td><td>NULL</td><td>6607</td></tr><tr><td>2016-10-08</td><td>NULL</td><td>8515</td></tr><tr><td>2016-10-09</td><td>NULL</td><td>10396</td></tr><tr><td>2016-10-10</td><td>NULL</td><td>7117</td></tr><tr><td>2016-10-11</td><td>NULL</td><td>9192</td></tr><tr><td>2016-10-12</td><td>NULL</td><td>10889</td></tr><tr><td>2016-10-13</td><td>NULL</td><td>10192</td></tr><tr><td>2016-10-14</td><td>NULL</td><td>7397</td></tr><tr><td>2016-10-15</td><td>NULL</td><td>7459</td></tr><tr><td>2016-10-16</td><td>NULL</td><td>7198</td></tr><tr><td>2016-10-17</td><td>NULL</td><td>11045</td></tr><tr><td>2016-10-18</td><td>NULL</td><td>7033</td></tr><tr><td>2016-10-19</td><td>NULL</td><td>9307</td></tr><tr><td>2016-10-20</td><td>NULL</td><td>6856</td></tr><tr><td>2016-10-21</td><td>NULL</td><td>9403</td></tr><tr><td>2016-10-22</td><td>NULL</td><td>8356</td></tr><tr><td>2016-10-23</td><td>NULL</td><td>9634</td></tr><tr><td>2016-10-24</td><td>NULL</td><td>4888</td></tr><tr><td>2016-10-25</td><td>NULL</td><td>11978</td></tr><tr><td>2016-10-26</td><td>NULL</td><td>8070</td></tr><tr><td>2016-10-27</td><td>NULL</td><td>7617</td></tr><tr><td>2016-10-28</td><td>NULL</td><td>7766</td></tr><tr><td>2016-10-29</td><td>NULL</td><td>6854</td></tr><tr><td>2016-10-30</td><td>NULL</td><td>11718</td></tr><tr><td>2016-10-31</td><td>NULL</td><td>8714</td></tr><tr><td>2016-11-01</td><td>NULL</td><td>7238</td></tr><tr><td>2016-11-02</td><td>NULL</td><td>5472</td></tr><tr><td>2016-11-03</td><td>NULL</td><td>7739</td></tr><tr><td>2016-11-04</td><td>NULL</td><td>6667</td></tr><tr><td>2016-11-05</td><td>NULL</td><td>9157</td></tr><tr><td>2016-11-06</td><td>NULL</td><td>8517</td></tr><tr><td>2016-11-07</td><td>NULL</td><td>6691</td></tr><tr><td>2016-11-08</td><td>NULL</td><td>8431</td></tr><tr><td>2016-11-09</td><td>NULL</td><td>5911</td></tr><tr><td>2016-11-10</td><td>NULL</td><td>6795</td></tr><tr><td>2016-11-11</td><td>NULL</td><td>6940</td></tr><tr><td>2016-11-12</td><td>NULL</td><td>10959</td></tr><tr><td>2016-11-13</td><td>NULL</td><td>10751</td></tr><tr><td>2016-11-14</td><td>NULL</td><td>11881</td></tr><tr><td>2016-11-15</td><td>NULL</td><td>6736</td></tr><tr><td>2016-11-16</td><td>NULL</td><td>8969</td></tr><tr><td>2016-11-17</td><td>NULL</td><td>6852</td></tr><tr><td>2016-11-18</td><td>NULL</td><td>6770</td></tr><tr><td>2016-11-19</td><td>NULL</td><td>7451</td></tr><tr><td>2016-11-20</td><td>NULL</td><td>7946</td></tr><tr><td>2016-11-21</td><td>NULL</td><td>6727</td></tr><tr><td>2016-11-22</td><td>NULL</td><td>7801</td></tr><tr><td>2016-11-23</td><td>NULL</td><td>7435</td></tr><tr><td>2016-11-24</td><td>NULL</td><td>5981</td></tr><tr><td>2016-11-25</td><td>NULL</td><td>6915</td></tr><tr><td>2016-11-26</td><td>NULL</td><td>9216</td></tr><tr><td>2016-11-27</td><td>NULL</td><td>9893</td></tr><tr><td>2016-11-28</td><td>NULL</td><td>9770</td></tr><tr><td>2016-11-29</td><td>NULL</td><td>8722</td></tr><tr><td>2016-11-30</td><td>NULL</td><td>6419</td></tr><tr><td>2016-12-01</td><td>NULL</td><td>9940</td></tr><tr><td>2016-12-02</td><td>NULL</td><td>4748</td></tr><tr><td>2016-12-03</td><td>NULL</td><td>6745</td></tr><tr><td>2016-12-04</td><td>NULL</td><td>9959</td></tr><tr><td>2016-12-05</td><td>NULL</td><td>8225</td></tr><tr><td>2016-12-06</td><td>NULL</td><td>7762</td></tr><tr><td>2016-12-07</td><td>NULL</td><td>7380</td></tr><tr><td>2016-12-08</td><td>NULL</td><td>7200</td></tr><tr><td>2016-12-09</td><td>NULL</td><td>9724</td></tr><tr><td>2016-12-10</td><td>NULL</td><td>7083</td></tr><tr><td>2016-12-11</td><td>NULL</td><td>7576</td></tr><tr><td>2016-12-12</td><td>NULL</td><td>8580</td></tr><tr><td>2016-12-13</td><td>NULL</td><td>8233</td></tr><tr><td>2016-12-14</td><td>NULL</td><td>6268</td></tr><tr><td>2016-12-15</td><td>NULL</td><td>7392</td></tr><tr><td>2016-12-16</td><td>NULL</td><td>6407</td></tr><tr><td>2016-12-17</td><td>NULL</td><td>7555</td></tr><tr><td>2016-12-18</td><td>NULL</td><td>6070</td></tr><tr><td>2016-12-19</td><td>NULL</td><td>5390</td></tr><tr><td>2016-12-20</td><td>NULL</td><td>7735</td></tr><tr><td>2016-12-21</td><td>NULL</td><td>10434</td></tr><tr><td>2016-12-22</td><td>NULL</td><td>5465</td></tr><tr><td>2016-12-23</td><td>NULL</td><td>8338</td></tr><tr><td>2016-12-24</td><td>NULL</td><td>5916</td></tr><tr><td>2016-12-25</td><td>NULL</td><td>7345</td></tr><tr><td>2016-12-26</td><td>NULL</td><td>9875</td></tr><tr><td>2016-12-27</td><td>NULL</td><td>10216</td></tr><tr><td>2016-12-28</td><td>NULL</td><td>6222</td></tr><tr><td>2016-12-29</td><td>NULL</td><td>10046</td></tr><tr><td>2016-12-30</td><td>NULL</td><td>7113</td></tr><tr><td>2016-12-31</td><td>NULL</td><td>7188</td></tr><tr><td>2017-01-01</td><td>NULL</td><td>7200</td></tr><tr><td>2017-01-02</td><td>NULL</td><td>7425</td></tr><tr><td>2017-01-03</td><td>NULL</td><td>6783</td></tr><tr><td>2017-01-04</td><td>NULL</td><td>7465</td></tr><tr><td>2017-01-05</td><td>NULL</td><td>7591</td></tr><tr><td>2017-01-06</td><td>NULL</td><td>8298</td></tr><tr><td>2017-01-07</td><td>NULL</td><td>8976</td></tr><tr><td>2017-01-08</td><td>NULL</td><td>7179</td></tr><tr><td>2017-01-09</td><td>NULL</td><td>9465</td></tr><tr><td>2017-01-10</td><td>NULL</td><td>8667</td></tr><tr><td>2017-01-11</td><td>NULL</td><td>9472</td></tr><tr><td>2017-01-12</td><td>NULL</td><td>7636</td></tr><tr><td>2017-01-13</td><td>NULL</td><td>7538</td></tr><tr><td>2017-01-14</td><td>NULL</td><td>8920</td></tr><tr><td>2017-01-15</td><td>NULL</td><td>7611</td></tr><tr><td>2017-01-16</td><td>NULL</td><td>7369</td></tr><tr><td>2017-01-17</td><td>NULL</td><td>8658</td></tr><tr><td>2017-01-18</td><td>NULL</td><td>6558</td></tr><tr><td>2017-01-19</td><td>NULL</td><td>6422</td></tr><tr><td>2017-01-20</td><td>NULL</td><td>6450</td></tr><tr><td>2017-01-21</td><td>NULL</td><td>7150</td></tr><tr><td>2017-01-22</td><td>NULL</td><td>8199</td></tr><tr><td>2017-01-23</td><td>NULL</td><td>8394</td></tr><tr><td>2017-01-24</td><td>NULL</td><td>8615</td></tr><tr><td>2017-01-25</td><td>NULL</td><td>6484</td></tr><tr><td>2017-01-26</td><td>NULL</td><td>9426</td></tr><tr><td>2017-01-27</td><td>NULL</td><td>5418</td></tr><tr><td>2017-01-28</td><td>NULL</td><td>8401</td></tr><tr><td>2017-01-29</td><td>NULL</td><td>8997</td></tr><tr><td>2017-01-30</td><td>NULL</td><td>9661</td></tr><tr><td>2017-01-31</td><td>NULL</td><td>6253</td></tr><tr><td>2017-02-01</td><td>NULL</td><td>5703</td></tr><tr><td>2017-02-02</td><td>NULL</td><td>8746</td></tr><tr><td>2017-02-03</td><td>NULL</td><td>7840</td></tr><tr><td>2017-02-04</td><td>NULL</td><td>6220</td></tr><tr><td>2017-02-05</td><td>NULL</td><td>5138</td></tr><tr><td>2017-02-06</td><td>NULL</td><td>8206</td></tr><tr><td>2017-02-07</td><td>NULL</td><td>6846</td></tr><tr><td>2017-02-08</td><td>NULL</td><td>10057</td></tr><tr><td>2017-02-09</td><td>NULL</td><td>8302</td></tr><tr><td>2017-02-10</td><td>NULL</td><td>8964</td></tr><tr><td>2017-02-11</td><td>NULL</td><td>8790</td></tr><tr><td>2017-02-12</td><td>NULL</td><td>6268</td></tr><tr><td>2017-02-13</td><td>NULL</td><td>8176</td></tr><tr><td>2017-02-14</td><td>NULL</td><td>10029</td></tr><tr><td>2017-02-15</td><td>NULL</td><td>6443</td></tr><tr><td>2017-02-16</td><td>NULL</td><td>8794</td></tr><tr><td>2017-02-17</td><td>NULL</td><td>9808</td></tr><tr><td>2017-02-18</td><td>NULL</td><td>10757</td></tr><tr><td>2017-02-19</td><td>NULL</td><td>8284</td></tr><tr><td>2017-02-20</td><td>NULL</td><td>5660</td></tr><tr><td>2017-02-21</td><td>NULL</td><td>8878</td></tr><tr><td>2017-02-22</td><td>NULL</td><td>9034</td></tr><tr><td>2017-02-23</td><td>NULL</td><td>7574</td></tr><tr><td>2017-02-24</td><td>NULL</td><td>6814</td></tr><tr><td>2017-02-25</td><td>NULL</td><td>6820</td></tr><tr><td>2017-02-26</td><td>NULL</td><td>8578</td></tr><tr><td>2017-02-27</td><td>NULL</td><td>9185</td></tr><tr><td>2017-02-28</td><td>NULL</td><td>11649</td></tr><tr><td>2017-03-01</td><td>NULL</td><td>5037</td></tr><tr><td>2017-03-02</td><td>NULL</td><td>4861</td></tr><tr><td>2017-03-03</td><td>NULL</td><td>7585</td></tr><tr><td>2017-03-04</td><td>NULL</td><td>5977</td></tr><tr><td>2017-03-05</td><td>NULL</td><td>10338</td></tr><tr><td>2017-03-06</td><td>NULL</td><td>10916</td></tr><tr><td>2017-03-07</td><td>NULL</td><td>8747</td></tr><tr><td>2017-03-08</td><td>NULL</td><td>6837</td></tr><tr><td>2017-03-09</td><td>NULL</td><td>6964</td></tr><tr><td>2017-03-10</td><td>NULL</td><td>6846</td></tr><tr><td>2017-03-11</td><td>NULL</td><td>6885</td></tr><tr><td>2017-03-12</td><td>NULL</td><td>5941</td></tr><tr><td>2017-03-13</td><td>NULL</td><td>6950</td></tr><tr><td>2017-03-14</td><td>NULL</td><td>7224</td></tr><tr><td>2017-03-15</td><td>NULL</td><td>9718</td></tr><tr><td>2017-03-16</td><td>NULL</td><td>9763</td></tr><tr><td>2017-03-17</td><td>NULL</td><td>8908</td></tr><tr><td>2017-03-18</td><td>NULL</td><td>9344</td></tr><tr><td>2017-03-19</td><td>NULL</td><td>9937</td></tr><tr><td>2017-03-20</td><td>NULL</td><td>7683</td></tr><tr><td>2017-03-21</td><td>NULL</td><td>8639</td></tr><tr><td>2017-03-22</td><td>NULL</td><td>6526</td></tr><tr><td>2017-03-23</td><td>NULL</td><td>8799</td></tr><tr><td>2017-03-24</td><td>NULL</td><td>7416</td></tr><tr><td>2017-03-25</td><td>NULL</td><td>6272</td></tr><tr><td>2017-03-26</td><td>NULL</td><td>7786</td></tr><tr><td>2017-03-27</td><td>NULL</td><td>7715</td></tr><tr><td>2017-03-28</td><td>NULL</td><td>8568</td></tr><tr><td>2017-03-29</td><td>NULL</td><td>8346</td></tr><tr><td>2017-03-30</td><td>NULL</td><td>8513</td></tr><tr><td>2017-03-31</td><td>NULL</td><td>8598</td></tr><tr><td>2017-04-01</td><td>NULL</td><td>7307</td></tr><tr><td>2017-04-02</td><td>NULL</td><td>9477</td></tr><tr><td>2017-04-03</td><td>NULL</td><td>6042</td></tr><tr><td>2017-04-04</td><td>NULL</td><td>7493</td></tr><tr><td>2017-04-05</td><td>NULL</td><td>7562</td></tr><tr><td>2017-04-06</td><td>NULL</td><td>4646</td></tr><tr><td>2017-04-07</td><td>NULL</td><td>5197</td></tr><tr><td>2017-04-08</td><td>NULL</td><td>3057</td></tr><tr><td>2017-04-09</td><td>NULL</td><td>3870</td></tr><tr><td>2017-04-10</td><td>NULL</td><td>1640</td></tr><tr><td>2017-04-11</td><td>NULL</td><td>1220</td></tr><tr><td>NULL</td><td>NULL</td><td>5578316</td></tr></table>"
                    },
                    "metadata": {}
                }
            ],
            "execution_count": 12
        },
        {
            "cell_type": "markdown",
            "source": [
                "```\n",
                "3. Hány olyan ügyfél van, aki még nem rendelt semmit?\n",
                "```\n",
                "\n",
                "1. Csoportosítsuk őket nem szerint, azon belül életkor szerint!\n",
                "2. A lista tartalmazza a részösszegeket és a végösszeget is!\n",
                "\n",
                "![](https://moodle.uni-corvinus.hu/theme/image.php/adaptable/atto_h5p/1709548862/icon)"
            ],
            "metadata": {
                "azdata_cell_guid": "d7876bb9-76d0-4d07-baed-3cb17b2f96c3"
            },
            "attachments": {}
        },
        {
            "cell_type": "code",
            "source": [
                ""
            ],
            "metadata": {
                "azdata_cell_guid": "56ec19ce-e249-4551-b2a8-f17569765acc",
                "language": "sql"
            },
            "outputs": [],
            "execution_count": null
        },
        {
            "cell_type": "markdown",
            "source": [
                "4. <span style=\"color: rgb(36, 41, 47); font-family: -apple-system, BlinkMacSystemFont, &quot;Segoe UI&quot;, Helvetica, Arial, sans-serif, &quot;Apple Color Emoji&quot;, &quot;Segoe UI Emoji&quot;; font-size: 16px;\">Készítsünk listát a megrendelt termékek legkisebb és legnagyobb egységáráról szállítási dátum, azon belül szállítási mód szerinti bontásban!</span>\n",
                "\n",
                "1. A lista csak a 2015 májusi szállításokat tartalmazza!\n",
                "2. Jelenítsük meg a részösszegeket és a végösszeget is!"
            ],
            "metadata": {
                "azdata_cell_guid": "8e7fef82-8022-49a0-8255-fc2846c2134b"
            },
            "attachments": {}
        },
        {
            "cell_type": "code",
            "source": [
                ""
            ],
            "metadata": {
                "azdata_cell_guid": "36f7b396-4a1f-45e5-8720-2302537c91bc",
                "language": "sql"
            },
            "outputs": [],
            "execution_count": null
        },
        {
            "cell_type": "markdown",
            "source": [
                "5. <span style=\"color: rgb(36, 41, 47); font-family: -apple-system, BlinkMacSystemFont, &quot;Segoe UI&quot;, Helvetica, Arial, sans-serif, &quot;Apple Color Emoji&quot;, &quot;Segoe UI Emoji&quot;; font-size: 16px;\">Készítsünk csoportot a termékek listaára alapján a következők szerint:&nbsp;<br></span> <span style=\"color: rgb(36, 41, 47); font-family: -apple-system, BlinkMacSystemFont, &quot;Segoe UI&quot;, Helvetica, Arial, sans-serif, &quot;Apple Color Emoji&quot;, &quot;Segoe UI Emoji&quot;; font-size: 16px;\">Az \"olcsó\" termékek legyenek azok, amelyek listaára 3000 alatt van.<br>&nbsp;A \"drága\" termékek legyenek az 5000 felettiek, a többi legyen \"közepes\".</span>\n",
                "\n",
                "1. Listázzuk az egyes csoportokat, és a csoportokba tartozó termékek darabszámát!\n",
                "2. A lista jelenítse meg a végösszeget is!"
            ],
            "metadata": {
                "azdata_cell_guid": "84239ca2-6b5e-49f5-9860-d44c11d6de32"
            },
            "attachments": {}
        },
        {
            "cell_type": "code",
            "source": [
                ""
            ],
            "metadata": {
                "azdata_cell_guid": "06d9a62b-9430-424b-a135-d80e675f0eb3",
                "language": "sql"
            },
            "outputs": [],
            "execution_count": null
        },
        {
            "cell_type": "markdown",
            "source": [
                "6. <span style=\"font-weight: 600; color: rgb(36, 41, 47); font-family: -apple-system, BlinkMacSystemFont, &quot;Segoe UI&quot;, Helvetica, Arial, sans-serif, &quot;Apple Color Emoji&quot;, &quot;Segoe UI Emoji&quot;; font-size: 16px;\">Készítsünk listát az ügyfelek adatairól név szerinti sorrendben.</span>\n",
                "\n",
                "1. Minden sorban jelenjen meg a sorrend szerint előző, illetve következő ügyfél neve is.\n",
                "2. Ha nincs előző vagy következő ügyfél, akkor a 'Nincs' jelenjen meg!"
            ],
            "metadata": {
                "azdata_cell_guid": "b0d15045-3c43-4f3a-b8d4-76b4f24e5546"
            },
            "attachments": {}
        },
        {
            "cell_type": "code",
            "source": [
                "SELECT *,\r\n",
                "        CASE WHEN LAG(NEV) OVER(ORDER BY nev) IS NULL THEN 'Nincs' ELSE LAG(NEV) OVER(ORDER BY nev) END AS 'Előző ügyfél',\r\n",
                "        CASE WHEN LEAD(NEV) OVER(ORDER BY nev) IS NULL THEN 'Nincs' ELSE LEAD(NEV) OVER(ORDER BY nev) END AS 'Következő ügyfél'\r\n",
                "\r\n",
                "FROM Ugyfel"
            ],
            "metadata": {
                "azdata_cell_guid": "f2b7400d-1255-40ac-9250-4d57f9da5357",
                "language": "sql"
            },
            "outputs": [
                {
                    "output_type": "display_data",
                    "data": {
                        "text/html": "(200 rows affected)"
                    },
                    "metadata": {}
                },
                {
                    "output_type": "display_data",
                    "data": {
                        "text/html": "Total execution time: 00:00:00.015"
                    },
                    "metadata": {}
                },
                {
                    "output_type": "execute_result",
                    "execution_count": 18,
                    "data": {
                        "application/vnd.dataresource+json": {
                            "schema": {
                                "fields": [
                                    {
                                        "name": "LOGIN"
                                    },
                                    {
                                        "name": "EMAIL"
                                    },
                                    {
                                        "name": "NEV"
                                    },
                                    {
                                        "name": "SZULEV"
                                    },
                                    {
                                        "name": "NEM"
                                    },
                                    {
                                        "name": "CIM"
                                    },
                                    {
                                        "name": "Előző ügyfél"
                                    },
                                    {
                                        "name": "Következő ügyfél"
                                    }
                                ]
                            },
                            "data": [
                                {
                                    "LOGIN": "david",
                                    "EMAIL": "david@gmail.com",
                                    "NEV": "Ambrus Dávid",
                                    "SZULEV": "1974",
                                    "NEM": "F",
                                    "CIM": "1149 Budapest, Fő út 18.",
                                    "Előző ügyfél": "Nincs",
                                    "Következő ügyfél": "Andor Ibolya"
                                },
                                {
                                    "LOGIN": "IBOLYAA",
                                    "EMAIL": "ibolya.andor@mail.hu",
                                    "NEV": "Andor Ibolya",
                                    "SZULEV": "1983",
                                    "NEM": "N",
                                    "CIM": "9023 Győr, Posta köz 2.",
                                    "Előző ügyfél": "Ambrus Dávid",
                                    "Következő ügyfél": "Antal László"
                                },
                                {
                                    "LOGIN": "LASZLOA",
                                    "EMAIL": "lászló.antal@mail.hu",
                                    "NEV": "Antal László",
                                    "SZULEV": "1969",
                                    "NEM": "F",
                                    "CIM": "2484 Agárd, Bécsi utca 82.",
                                    "Előző ügyfél": "Andor Ibolya",
                                    "Következő ügyfél": "Antal Tamás"
                                },
                                {
                                    "LOGIN": "tamas",
                                    "EMAIL": "tamás.antal@mail.hu",
                                    "NEV": "Antal Tamás",
                                    "SZULEV": "1984",
                                    "NEM": "F",
                                    "CIM": "4440 Tiszavasvári, Posta köz 2.",
                                    "Előző ügyfél": "Antal László",
                                    "Következő ügyfél": "Back András"
                                },
                                {
                                    "LOGIN": "andras4",
                                    "EMAIL": "andras4@gmail.com",
                                    "NEV": "Back András",
                                    "SZULEV": "1984",
                                    "NEM": "F",
                                    "CIM": "3783 Edelény, Fő út 169.",
                                    "Előző ügyfél": "Antal Tamás",
                                    "Következő ügyfél": "Bagi Beáta"
                                },
                                {
                                    "LOGIN": "beata4",
                                    "EMAIL": "beáta.bagi@mail.hu",
                                    "NEV": "Bagi Beáta",
                                    "SZULEV": "1994",
                                    "NEM": "N",
                                    "CIM": "8477 Tüskevár, Felszabadulás utca 32.",
                                    "Előző ügyfél": "Back András",
                                    "Következő ügyfél": "Bagóczki Alexandra"
                                },
                                {
                                    "LOGIN": "alexandra",
                                    "EMAIL": "alexandra.bagóczki@mail.hu",
                                    "NEV": "Bagóczki Alexandra",
                                    "SZULEV": "1992",
                                    "NEM": "N",
                                    "CIM": "2381 Táborfalva, Petőfi utca 1/2.",
                                    "Előző ügyfél": "Bagi Beáta",
                                    "Következő ügyfél": "Bajusz Bence"
                                },
                                {
                                    "LOGIN": "BENCEB",
                                    "EMAIL": "bence.bajusz@mail.hu",
                                    "NEV": "Bajusz Bence",
                                    "SZULEV": "1973",
                                    "NEM": "F",
                                    "CIM": "8391 Sármellék, Fő utca 56.",
                                    "Előző ügyfél": "Bagóczki Alexandra",
                                    "Következő ügyfél": "Bakó Klaudia"
                                },
                                {
                                    "LOGIN": "klaudia2",
                                    "EMAIL": "klaudia.bakó@mail.hu",
                                    "NEV": "Bakó Klaudia",
                                    "SZULEV": "1982",
                                    "NEM": "N",
                                    "CIM": "8254 Kővágóörs, Kossuth Lajos utca 6.",
                                    "Előző ügyfél": "Bajusz Bence",
                                    "Következő ügyfél": "Bakódy Balázs"
                                },
                                {
                                    "LOGIN": "balazs3",
                                    "EMAIL": "balazs3@gmail.com",
                                    "NEV": "Bakódy Balázs",
                                    "SZULEV": "1986",
                                    "NEM": "F",
                                    "CIM": "2131 Göd, Arany János utca 1.",
                                    "Előző ügyfél": "Bakó Klaudia",
                                    "Következő ügyfél": "Balla Miklós"
                                },
                                {
                                    "LOGIN": "MIKLOSB",
                                    "EMAIL": "miklós.balla@mail.hu",
                                    "NEV": "Balla Miklós",
                                    "SZULEV": "1979",
                                    "NEM": "F",
                                    "CIM": "4060 Balmazújváros, Szent István utca 2.",
                                    "Előző ügyfél": "Bakódy Balázs",
                                    "Következő ügyfél": "Balogh Eszter"
                                },
                                {
                                    "LOGIN": "eszter2",
                                    "EMAIL": "eszter.balogh@mail.hu",
                                    "NEV": "Balogh Eszter",
                                    "SZULEV": "1998",
                                    "NEM": "N",
                                    "CIM": "6760 Kistelek, Kossuth utca 11.",
                                    "Előző ügyfél": "Balla Miklós",
                                    "Következő ügyfél": "Barabás Pál"
                                },
                                {
                                    "LOGIN": "pal",
                                    "EMAIL": "pál.barabás@mail.hu",
                                    "NEV": "Barabás Pál",
                                    "SZULEV": "1968",
                                    "NEM": "F",
                                    "CIM": "1183 Budapest, Szolnoki út 8.",
                                    "Előző ügyfél": "Balogh Eszter",
                                    "Következő ügyfél": "Baráth Mária"
                                },
                                {
                                    "LOGIN": "maria1",
                                    "EMAIL": "mária.baráth@mail.hu",
                                    "NEV": "Baráth Mária",
                                    "SZULEV": "1995",
                                    "NEM": "N",
                                    "CIM": "1047 Budapest, Posta köz 2.",
                                    "Előző ügyfél": "Barabás Pál",
                                    "Következő ügyfél": "Bárci Gusztáv"
                                },
                                {
                                    "LOGIN": "gusztav",
                                    "EMAIL": "gusztav@gmail.com",
                                    "NEV": "Bárci Gusztáv",
                                    "SZULEV": "1967",
                                    "NEM": "F",
                                    "CIM": "3643 Dédestapolcsány, Endrődi Sándor utca 47.",
                                    "Előző ügyfél": "Baráth Mária",
                                    "Következő ügyfél": "Barkóci Ádám"
                                },
                                {
                                    "LOGIN": "adam3",
                                    "EMAIL": "adam3@gmail.com",
                                    "NEV": "Barkóci Ádám",
                                    "SZULEV": "1970",
                                    "NEM": "F",
                                    "CIM": "3910 Tokaj, Dózsa György utca 37.",
                                    "Előző ügyfél": "Bárci Gusztáv",
                                    "Következő ügyfél": "Barna Debóra"
                                },
                                {
                                    "LOGIN": "debora",
                                    "EMAIL": "debóra.barna@mail.hu",
                                    "NEV": "Barna Debóra",
                                    "SZULEV": "1976",
                                    "NEM": "N",
                                    "CIM": "1155 Budapest, Fő út 169.",
                                    "Előző ügyfél": "Barkóci Ádám",
                                    "Következő ügyfél": "Barna Zoltán"
                                },
                                {
                                    "LOGIN": "zoltan4",
                                    "EMAIL": "zoltan4@gmail.com",
                                    "NEV": "Barna Zoltán",
                                    "SZULEV": "1986",
                                    "NEM": "F",
                                    "CIM": "8313 Balatongyörök, Jászai tér 21.",
                                    "Előző ügyfél": "Barna Debóra",
                                    "Következő ügyfél": "Baróti Attila"
                                },
                                {
                                    "LOGIN": "attila4",
                                    "EMAIL": "attila.baróti@mail.hu",
                                    "NEV": "Baróti Attila",
                                    "SZULEV": "1975",
                                    "NEM": "F",
                                    "CIM": "7149 Báta, Arany János utca 3.",
                                    "Előző ügyfél": "Barna Zoltán",
                                    "Következő ügyfél": "Barta Zsuzsanna"
                                },
                                {
                                    "LOGIN": "zsuzsanna",
                                    "EMAIL": "zsuzsanna.barta@mail.hu",
                                    "NEV": "Barta Zsuzsanna",
                                    "SZULEV": "1994",
                                    "NEM": "N",
                                    "CIM": "4172 Biharnagybajom, Dózsa György utca 37.",
                                    "Előző ügyfél": "Baróti Attila",
                                    "Következő ügyfél": "Berendi Péter"
                                },
                                {
                                    "LOGIN": "PETERB",
                                    "EMAIL": "péter.berendi@mail.hu",
                                    "NEV": "Berendi Péter",
                                    "SZULEV": "1969",
                                    "NEM": "F",
                                    "CIM": "3980 Sátoraljaújhely, Vasút utca 4/10.",
                                    "Előző ügyfél": "Barta Zsuzsanna",
                                    "Következő ügyfél": "Béres Norbert"
                                },
                                {
                                    "LOGIN": "norbert5",
                                    "EMAIL": "norbert5@gmail.com",
                                    "NEV": "Béres Norbert",
                                    "SZULEV": "1975",
                                    "NEM": "F",
                                    "CIM": "8640 Fonyód, Bajcsy-Zsilinszky utca 4.",
                                    "Előző ügyfél": "Berendi Péter",
                                    "Következő ügyfél": "Berta Dávid"
                                },
                                {
                                    "LOGIN": "david4",
                                    "EMAIL": "david4@gmail.com",
                                    "NEV": "Berta Dávid",
                                    "SZULEV": "1990",
                                    "NEM": "F",
                                    "CIM": "3500 Miskolc, Balatoni út 12.",
                                    "Előző ügyfél": "Béres Norbert",
                                    "Következő ügyfél": "Bieniek Ádám"
                                },
                                {
                                    "LOGIN": "adam4",
                                    "EMAIL": "ádám.bieniek@mail.hu",
                                    "NEV": "Bieniek Ádám",
                                    "SZULEV": "1976",
                                    "NEM": "F",
                                    "CIM": "8630 Balatonboglár, Juhászföldi út 1.",
                                    "Előző ügyfél": "Berta Dávid",
                                    "Következő ügyfél": "Bíró Ákos"
                                },
                                {
                                    "LOGIN": "akos",
                                    "EMAIL": "ákos.bíró@mail.hu",
                                    "NEV": "Bíró Ákos",
                                    "SZULEV": "1982",
                                    "NEM": "F",
                                    "CIM": "9023 Győr, Kossuth Lajos utca 47/b.",
                                    "Előző ügyfél": "Bieniek Ádám",
                                    "Következő ügyfél": "Biró Alexander"
                                },
                                {
                                    "LOGIN": "alexis",
                                    "EMAIL": "alexbiro@gmail.com",
                                    "NEV": "Biró Alexander",
                                    "SZULEV": "2000",
                                    "NEM": "F",
                                    "CIM": "6914 Pitvaros, Deák F. u. 38.",
                                    "Előző ügyfél": "Bíró Ákos",
                                    "Következő ügyfél": "Bíró Péter"
                                },
                                {
                                    "LOGIN": "peter4",
                                    "EMAIL": "péter.bíró@mail.hu",
                                    "NEV": "Bíró Péter",
                                    "SZULEV": "1985",
                                    "NEM": "F",
                                    "CIM": "5137 Jászkisér, Rákóczi utca 67.",
                                    "Előző ügyfél": "Biró Alexander",
                                    "Következő ügyfél": "Bittmann Edit"
                                },
                                {
                                    "LOGIN": "edit",
                                    "EMAIL": "edit.bittmann@mail.hu",
                                    "NEV": "Bittmann Edit",
                                    "SZULEV": "1984",
                                    "NEM": "N",
                                    "CIM": "6077 Orgovány, Fő utca 60.",
                                    "Előző ügyfél": "Bíró Péter",
                                    "Következő ügyfél": "Bodor Szabolcs"
                                },
                                {
                                    "LOGIN": "szabolcs",
                                    "EMAIL": "szabolcs.bodor@mail.hu",
                                    "NEV": "Bodor Szabolcs",
                                    "SZULEV": "1990",
                                    "NEM": "F",
                                    "CIM": "6786 Ruzsa, Ady Endre út 27.",
                                    "Előző ügyfél": "Bittmann Edit",
                                    "Következő ügyfél": "Bori Krisztina"
                                },
                                {
                                    "LOGIN": "krisztina1",
                                    "EMAIL": "krisztina.bori@mail.hu",
                                    "NEV": "Bori Krisztina",
                                    "SZULEV": "1969",
                                    "NEM": "N",
                                    "CIM": "2115 Vácszentlászló, Fő utca 47.",
                                    "Előző ügyfél": "Bodor Szabolcs",
                                    "Következő ügyfél": "Boros Vivien"
                                },
                                {
                                    "LOGIN": "vivien3",
                                    "EMAIL": "vivien3@gmail.com",
                                    "NEV": "Boros Vivien",
                                    "SZULEV": "1991",
                                    "NEM": "N",
                                    "CIM": "2117 Isaszeg, Fő út 122.",
                                    "Előző ügyfél": "Bori Krisztina",
                                    "Következő ügyfél": "Bosnyák Ilona"
                                },
                                {
                                    "LOGIN": "ilona3",
                                    "EMAIL": "ilona3@gmail.com",
                                    "NEV": "Bosnyák Ilona",
                                    "SZULEV": "1990",
                                    "NEM": "N",
                                    "CIM": "2483 Gárdony, Posta köz 2.",
                                    "Előző ügyfél": "Boros Vivien",
                                    "Következő ügyfél": "Botka Mátyás"
                                },
                                {
                                    "LOGIN": "matyas2",
                                    "EMAIL": "matyas2@gmail.com",
                                    "NEV": "Botka Mátyás",
                                    "SZULEV": "1972",
                                    "NEM": "F",
                                    "CIM": "2700 Cegléd, Kossuth Lajos utca 6.",
                                    "Előző ügyfél": "Bosnyák Ilona",
                                    "Következő ügyfél": "Bozsik Balázs"
                                },
                                {
                                    "LOGIN": "balazs1",
                                    "EMAIL": "balázs.bozsik@mail.hu",
                                    "NEV": "Bozsik Balázs",
                                    "SZULEV": "1992",
                                    "NEM": "F",
                                    "CIM": "2300 Ráckeve, Bécsi utca 82.",
                                    "Előző ügyfél": "Botka Mátyás",
                                    "Következő ügyfél": "Bozsó Péter"
                                },
                                {
                                    "LOGIN": "peter2",
                                    "EMAIL": "peter2@gmail.com",
                                    "NEV": "Bozsó Péter",
                                    "SZULEV": "1976",
                                    "NEM": "F",
                                    "CIM": "4800 Vásárosnamény, Zombori út 2/A",
                                    "Előző ügyfél": "Bozsik Balázs",
                                    "Következő ügyfél": "Böröcz Anikó"
                                },
                                {
                                    "LOGIN": "aniko4",
                                    "EMAIL": "aniko4@gmail.com",
                                    "NEV": "Böröcz Anikó",
                                    "SZULEV": "1978",
                                    "NEM": "N",
                                    "CIM": "2484 Agárd, Petőfi Sándor tér 1.",
                                    "Előző ügyfél": "Bozsó Péter",
                                    "Következő ügyfél": "Bucskó Róza"
                                },
                                {
                                    "LOGIN": "roza2",
                                    "EMAIL": "roza2@gmail.com",
                                    "NEV": "Bucskó Róza",
                                    "SZULEV": "1988",
                                    "NEM": "N",
                                    "CIM": "5661 Újkígyós, Arany János utca 3.",
                                    "Előző ügyfél": "Böröcz Anikó",
                                    "Következő ügyfél": "Búza Imre"
                                },
                                {
                                    "LOGIN": "imre",
                                    "EMAIL": "imre.búza@mail.hu",
                                    "NEV": "Búza Imre",
                                    "SZULEV": "1988",
                                    "NEM": "F",
                                    "CIM": "9181 Kimle, Petőfi Sándor tér 1.",
                                    "Előző ügyfél": "Bucskó Róza",
                                    "Következő ügyfél": "Czérna Krisztián"
                                },
                                {
                                    "LOGIN": "krisztian4",
                                    "EMAIL": "krisztián.czérna@mail.hu",
                                    "NEV": "Czérna Krisztián",
                                    "SZULEV": "1970",
                                    "NEM": "F",
                                    "CIM": "1107 Budapest, Dózsa György utca 37.",
                                    "Előző ügyfél": "Búza Imre",
                                    "Következő ügyfél": "Csiger Bertalan"
                                },
                                {
                                    "LOGIN": "bertalan",
                                    "EMAIL": "bertalan@gmail.com",
                                    "NEV": "Csiger Bertalan",
                                    "SZULEV": "1977",
                                    "NEM": "F",
                                    "CIM": "1192 Budapest, Fő út 169.",
                                    "Előző ügyfél": "Czérna Krisztián",
                                    "Következő ügyfél": "Csóti Attila"
                                },
                                {
                                    "LOGIN": "attila",
                                    "EMAIL": "attila@gmail.com",
                                    "NEV": "Csóti Attila",
                                    "SZULEV": "1979",
                                    "NEM": "F",
                                    "CIM": "3000 Hatvan, Bajcsy-Zsilinszky utca 4.",
                                    "Előző ügyfél": "Csiger Bertalan",
                                    "Következő ügyfél": "Dániel Tibor"
                                },
                                {
                                    "LOGIN": "tibor2",
                                    "EMAIL": "tibor2@gmail.com",
                                    "NEV": "Dániel Tibor",
                                    "SZULEV": "1985",
                                    "NEM": "F",
                                    "CIM": "6646 Tömörkény, Árpád utca 23.",
                                    "Előző ügyfél": "Csóti Attila",
                                    "Következő ügyfél": "Dunai Aladár"
                                },
                                {
                                    "LOGIN": "aladar",
                                    "EMAIL": "aladár.dunai@mail.hu",
                                    "NEV": "Dunai Aladár",
                                    "SZULEV": "1980",
                                    "NEM": "F",
                                    "CIM": "5931 Nagyszénás, Árpád utca 23.",
                                    "Előző ügyfél": "Dániel Tibor",
                                    "Következő ügyfél": "Dusha Tímea"
                                },
                                {
                                    "LOGIN": "timea2",
                                    "EMAIL": "tímea.dusha@mail.hu",
                                    "NEV": "Dusha Tímea",
                                    "SZULEV": "1975",
                                    "NEM": "N",
                                    "CIM": "5920 Csorvás, Kossuth utca 8.",
                                    "Előző ügyfél": "Dunai Aladár",
                                    "Következő ügyfél": "Endresz Bálint"
                                },
                                {
                                    "LOGIN": "balu",
                                    "EMAIL": "bálint.endresz@mail.hu",
                                    "NEV": "Endresz Bálint",
                                    "SZULEV": "1976",
                                    "NEM": "F",
                                    "CIM": "3973 Cigánd, Fő út 169.",
                                    "Előző ügyfél": "Dusha Tímea",
                                    "Következő ügyfél": "Enyedi Éva"
                                },
                                {
                                    "LOGIN": "eva",
                                    "EMAIL": "eva@gmail.com",
                                    "NEV": "Enyedi Éva",
                                    "SZULEV": "1967",
                                    "NEM": "N",
                                    "CIM": "4231 Bököny, Petőfi utca 8.",
                                    "Előző ügyfél": "Endresz Bálint",
                                    "Következő ügyfél": "Erdei András"
                                },
                                {
                                    "LOGIN": "ANDRASE",
                                    "EMAIL": "ANDRASE@gmail.com",
                                    "NEV": "Erdei András",
                                    "SZULEV": "1997",
                                    "NEM": "F",
                                    "CIM": "5071 Besenyszög, Szolnoki út 8.",
                                    "Előző ügyfél": "Enyedi Éva",
                                    "Következő ügyfél": "Érsek Eszter"
                                },
                                {
                                    "LOGIN": "ESZTERE",
                                    "EMAIL": "eszter.érsek@mail.hu",
                                    "NEV": "Érsek Eszter",
                                    "SZULEV": "1978",
                                    "NEM": "N",
                                    "CIM": "6785 Pusztamérges, Kossuth Lajos utca 6.",
                                    "Előző ügyfél": "Erdei András",
                                    "Következő ügyfél": "Farkas Béla"
                                },
                                {
                                    "LOGIN": "BELAF",
                                    "EMAIL": "BELAF@gmail.com",
                                    "NEV": "Farkas Béla",
                                    "SZULEV": "1995",
                                    "NEM": "F",
                                    "CIM": "5530 Vésztő, Petőfi Sándor utca 3.",
                                    "Előző ügyfél": "Érsek Eszter",
                                    "Következő ügyfél": "Farkas László"
                                },
                                {
                                    "LOGIN": "laszlo1",
                                    "EMAIL": "lászló.farkas@mail.hu",
                                    "NEV": "Farkas László",
                                    "SZULEV": "1967",
                                    "NEM": "F",
                                    "CIM": "5200 Törökszentmiklós, Rendeki utca 21.",
                                    "Előző ügyfél": "Farkas Béla",
                                    "Következő ügyfél": "Farkas Sándor"
                                },
                                {
                                    "LOGIN": "sandor3",
                                    "EMAIL": "sándor.farkas@mail.hu",
                                    "NEV": "Farkas Sándor",
                                    "SZULEV": "1989",
                                    "NEM": "F",
                                    "CIM": "8640 Fonyód, Tanácsköztársaság tér 1.",
                                    "Előző ügyfél": "Farkas László",
                                    "Következő ügyfél": "Farkas Sára"
                                },
                                {
                                    "LOGIN": "sara",
                                    "EMAIL": "sára.farkas@mail.hu",
                                    "NEV": "Farkas Sára",
                                    "SZULEV": "1973",
                                    "NEM": "N",
                                    "CIM": "5940 Tótkomlós, Felszabadulás utca 32.",
                                    "Előző ügyfél": "Farkas Sándor",
                                    "Következő ügyfél": "Fényes Tamás"
                                },
                                {
                                    "LOGIN": "TAMASF",
                                    "EMAIL": "TAMASF@gmail.com",
                                    "NEV": "Fényes Tamás",
                                    "SZULEV": "1997",
                                    "NEM": "F",
                                    "CIM": "9023 Győr, Arany János utca 1.",
                                    "Előző ügyfél": "Farkas Sára",
                                    "Következő ügyfél": "Ferencz Roland"
                                },
                                {
                                    "LOGIN": "roland1",
                                    "EMAIL": "roland.ferencz@mail.hu",
                                    "NEV": "Ferencz Roland",
                                    "SZULEV": "1985",
                                    "NEM": "F",
                                    "CIM": "2424 Előszállás, Fő út 169.",
                                    "Előző ügyfél": "Fényes Tamás",
                                    "Következő ügyfél": "Feró Valentin"
                                },
                                {
                                    "LOGIN": "valentin",
                                    "EMAIL": "valentin.feró@mail.hu",
                                    "NEV": "Feró Valentin",
                                    "SZULEV": "1986",
                                    "NEM": "F",
                                    "CIM": "3895 Gönc, Búvár utca 4.",
                                    "Előző ügyfél": "Ferencz Roland",
                                    "Következő ügyfél": "Fodor Zoltán"
                                },
                                {
                                    "LOGIN": "zoltan",
                                    "EMAIL": "zoltán.fodor@mail.hu",
                                    "NEV": "Fodor Zoltán",
                                    "SZULEV": "1979",
                                    "NEM": "F",
                                    "CIM": "3441 Mezőkeresztes, Fő utca 23.",
                                    "Előző ügyfél": "Feró Valentin",
                                    "Következő ügyfél": "Foltényi Sebastián"
                                },
                                {
                                    "LOGIN": "SEBASTIANF",
                                    "EMAIL": "SEBASTIANF@gmail.com",
                                    "NEV": "Foltényi Sebastián",
                                    "SZULEV": "1992",
                                    "NEM": "F",
                                    "CIM": "7960 Sellye, Grassalkovich út 10.",
                                    "Előző ügyfél": "Fodor Zoltán",
                                    "Következő ügyfél": "Fő Nándor"
                                },
                                {
                                    "LOGIN": "NANDORF",
                                    "EMAIL": "nándor.fő@mail.hu",
                                    "NEV": "Fő Nándor",
                                    "SZULEV": "1968",
                                    "NEM": "F",
                                    "CIM": "5920 Csorvás, Bécsi utca 82.",
                                    "Előző ügyfél": "Foltényi Sebastián",
                                    "Következő ügyfél": "Frank Fruzsina"
                                },
                                {
                                    "LOGIN": "fruzsina4",
                                    "EMAIL": "fruzsina4@gmail.com",
                                    "NEV": "Frank Fruzsina",
                                    "SZULEV": "1996",
                                    "NEM": "N",
                                    "CIM": "9700 Szombathely, Szabadság utca 95.",
                                    "Előző ügyfél": "Fő Nándor",
                                    "Következő ügyfél": "Fülöp Eszter"
                                },
                                {
                                    "LOGIN": "eszter4",
                                    "EMAIL": "eszter.fülöp@mail.hu",
                                    "NEV": "Fülöp Eszter",
                                    "SZULEV": "1993",
                                    "NEM": "N",
                                    "CIM": "3643 Dédestapolcsány, Kossuth Lajos utca 47/b.",
                                    "Előző ügyfél": "Frank Fruzsina",
                                    "Következő ügyfél": "Gergely József"
                                },
                                {
                                    "LOGIN": "jozsef",
                                    "EMAIL": "jozsef@gmail.com",
                                    "NEV": "Gergely József",
                                    "SZULEV": "1985",
                                    "NEM": "F",
                                    "CIM": "6050 Lajosmizse, Fő út 18.",
                                    "Előző ügyfél": "Fülöp Eszter",
                                    "Következő ügyfél": "Giliga János"
                                },
                                {
                                    "LOGIN": "JANOSG",
                                    "EMAIL": "JANOSG@gmail.com",
                                    "NEV": "Giliga János",
                                    "SZULEV": "1975",
                                    "NEM": "F",
                                    "CIM": "3300 Eger, Deák Ferenc út 5.",
                                    "Előző ügyfél": "Gergely József",
                                    "Következő ügyfél": "Gombos Tibor"
                                },
                                {
                                    "LOGIN": "tibor",
                                    "EMAIL": "tibor.gombos@mail.hu",
                                    "NEV": "Gombos Tibor",
                                    "SZULEV": "1993",
                                    "NEM": "F",
                                    "CIM": "7100 Szekszárd, Kossuth utca 77.",
                                    "Előző ügyfél": "Giliga János",
                                    "Következő ügyfél": "Gondos Katalin"
                                },
                                {
                                    "LOGIN": "kata",
                                    "EMAIL": "katalin.gondos@mail.hu",
                                    "NEV": "Gondos Katalin",
                                    "SZULEV": "1968",
                                    "NEM": "N",
                                    "CIM": "8237 Tihany, Kossuth Lajos utca 6.",
                                    "Előző ügyfél": "Gombos Tibor",
                                    "Következő ügyfél": "Gondos Miklós"
                                },
                                {
                                    "LOGIN": "miklos2",
                                    "EMAIL": "miklos2@gmail.com",
                                    "NEV": "Gondos Miklós",
                                    "SZULEV": "1995",
                                    "NEM": "F",
                                    "CIM": "2100 Gödöllő, Árpád utca 23.",
                                    "Előző ügyfél": "Gondos Katalin",
                                    "Következő ügyfél": "Gulyás Attila"
                                },
                                {
                                    "LOGIN": "attila1",
                                    "EMAIL": "attila.gulyás@mail.hu",
                                    "NEV": "Gulyás Attila",
                                    "SZULEV": "1982",
                                    "NEM": "F",
                                    "CIM": "3881 Abaújszántó, Szolnoki út 8.",
                                    "Előző ügyfél": "Gondos Miklós",
                                    "Következő ügyfél": "Gyárfás Krisztina"
                                },
                                {
                                    "LOGIN": "KRISZTINAG",
                                    "EMAIL": "KRISZTINAG@gmail.com",
                                    "NEV": "Gyárfás Krisztina",
                                    "SZULEV": "1987",
                                    "NEM": "N",
                                    "CIM": "6762 Sándorfalva, Arany János utca 1.",
                                    "Előző ügyfél": "Gulyás Attila",
                                    "Következő ügyfél": "Győrffy Bence"
                                },
                                {
                                    "LOGIN": "bence",
                                    "EMAIL": "bence@gmail.com",
                                    "NEV": "Győrffy Bence",
                                    "SZULEV": "1987",
                                    "NEM": "F",
                                    "CIM": "6900 Makó, Árpád utca 23.",
                                    "Előző ügyfél": "Gyárfás Krisztina",
                                    "Következő ügyfél": "Gyuris József"
                                },
                                {
                                    "LOGIN": "JOZSEFG",
                                    "EMAIL": "józsef.gyuris@mail.hu",
                                    "NEV": "Gyuris József",
                                    "SZULEV": "1975",
                                    "NEM": "F",
                                    "CIM": "2660 Balassagyarmat, Petőfi utca 1/2.",
                                    "Előző ügyfél": "Győrffy Bence",
                                    "Következő ügyfél": "Hamvay-Kovács Anita"
                                },
                                {
                                    "LOGIN": "anita",
                                    "EMAIL": "anita.hamvay-kovács@mail.hu",
                                    "NEV": "Hamvay-Kovács Anita",
                                    "SZULEV": "1971",
                                    "NEM": "N",
                                    "CIM": "7220 Sarkad, Táncsics utca 19.",
                                    "Előző ügyfél": "Gyuris József",
                                    "Következő ügyfél": "Harangozó János"
                                },
                                {
                                    "LOGIN": "janos3",
                                    "EMAIL": "janos3@gmail.com",
                                    "NEV": "Harangozó János",
                                    "SZULEV": "1967",
                                    "NEM": "F",
                                    "CIM": "8700 Marcali, Petőfi Sándor tér 1.",
                                    "Előző ügyfél": "Hamvay-Kovács Anita",
                                    "Következő ügyfél": "Hartyánszky Ágnes"
                                },
                                {
                                    "LOGIN": "agnes3",
                                    "EMAIL": "agnes3@gmail.com",
                                    "NEV": "Hartyánszky Ágnes",
                                    "SZULEV": "1967",
                                    "NEM": "N",
                                    "CIM": "6430 Bácsalmás, Posta köz 2.",
                                    "Előző ügyfél": "Harangozó János",
                                    "Következő ügyfél": "Hegedűs Norbert"
                                },
                                {
                                    "LOGIN": "norbert2",
                                    "EMAIL": "norbert.hegedűs@mail.hu",
                                    "NEV": "Hegedűs Norbert",
                                    "SZULEV": "1991",
                                    "NEM": "F",
                                    "CIM": "2081 Piliscsaba, Rendeki utca 21.",
                                    "Előző ügyfél": "Hartyánszky Ágnes",
                                    "Következő ügyfél": "Hídasi Judit"
                                },
                                {
                                    "LOGIN": "JUDITH",
                                    "EMAIL": "JUDITH@gmail.com",
                                    "NEV": "Hídasi Judit",
                                    "SZULEV": "1997",
                                    "NEM": "N",
                                    "CIM": "2100 Gödöllő, Fő út 169.",
                                    "Előző ügyfél": "Hegedűs Norbert",
                                    "Következő ügyfél": "Horváth Ágnes"
                                },
                                {
                                    "LOGIN": "AGNESH",
                                    "EMAIL": "AGNESH@gmail.com",
                                    "NEV": "Horváth Ágnes",
                                    "SZULEV": "1981",
                                    "NEM": "N",
                                    "CIM": "8200 Veszprém, Rákóczi utca 21.",
                                    "Előző ügyfél": "Hídasi Judit",
                                    "Következő ügyfél": "Horváth Árpád"
                                },
                                {
                                    "LOGIN": "ARPADH",
                                    "EMAIL": "árpád.horváth@mail.hu",
                                    "NEV": "Horváth Árpád",
                                    "SZULEV": "1990",
                                    "NEM": "F",
                                    "CIM": "7349 Szászvár, Dózsa György u. 1.",
                                    "Előző ügyfél": "Horváth Ágnes",
                                    "Következő ügyfél": "Horváth Bálint"
                                },
                                {
                                    "LOGIN": "balint",
                                    "EMAIL": "balint@gmail.com",
                                    "NEV": "Horváth Bálint",
                                    "SZULEV": "1996",
                                    "NEM": "F",
                                    "CIM": "6646 Tömörkény, Endrődi Sándor utca 47.",
                                    "Előző ügyfél": "Horváth Árpád",
                                    "Következő ügyfél": "Horváth Katalin"
                                },
                                {
                                    "LOGIN": "katalin",
                                    "EMAIL": "katalin.horváth@mail.hu",
                                    "NEV": "Horváth Katalin",
                                    "SZULEV": "1968",
                                    "NEM": "N",
                                    "CIM": "2424 Előszállás, Rákóczi út 200.",
                                    "Előző ügyfél": "Horváth Bálint",
                                    "Következő ügyfél": "Horváth Krisztina"
                                },
                                {
                                    "LOGIN": "kriszti",
                                    "EMAIL": "kriszti@gmail.com",
                                    "NEV": "Horváth Krisztina",
                                    "SZULEV": "1978",
                                    "NEM": "N",
                                    "CIM": "6060 Tiszakécske, Árpád utca 4.",
                                    "Előző ügyfél": "Horváth Katalin",
                                    "Következő ügyfél": "Horváth Márk"
                                },
                                {
                                    "LOGIN": "MARKH",
                                    "EMAIL": "márk.horváth@mail.hu",
                                    "NEV": "Horváth Márk",
                                    "SZULEV": "1997",
                                    "NEM": "F",
                                    "CIM": "4400 Nyíregyháza, Badacsonyi utca 12.",
                                    "Előző ügyfél": "Horváth Krisztina",
                                    "Következő ügyfél": "Horváth Nikolett"
                                },
                                {
                                    "LOGIN": "nikolett3",
                                    "EMAIL": "nikolett3@gmail.com",
                                    "NEV": "Horváth Nikolett",
                                    "SZULEV": "1981",
                                    "NEM": "N",
                                    "CIM": "1072 Budapest, Arany János utca 1.",
                                    "Előző ügyfél": "Horváth Márk",
                                    "Következő ügyfél": "Iván Róbert"
                                },
                                {
                                    "LOGIN": "ROBERTI",
                                    "EMAIL": "róbert.iván@mail.hu",
                                    "NEV": "Iván Róbert",
                                    "SZULEV": "1967",
                                    "NEM": "F",
                                    "CIM": "2377 Örkény, Petőfi Sándor utca 3.",
                                    "Előző ügyfél": "Horváth Nikolett",
                                    "Következő ügyfél": "Jakab Áron"
                                },
                                {
                                    "LOGIN": "aron2",
                                    "EMAIL": "aron2@gmail.com",
                                    "NEV": "Jakab Áron",
                                    "SZULEV": "1971",
                                    "NEM": "F",
                                    "CIM": "7133 Fadd, Bajcsy-Zsilinszky utca 4.",
                                    "Előző ügyfél": "Iván Róbert",
                                    "Következő ügyfél": "Józsa Zsolt"
                                },
                                {
                                    "LOGIN": "ZSOLTJ",
                                    "EMAIL": "ZSOLTJ@gmail.com",
                                    "NEV": "Józsa Zsolt",
                                    "SZULEV": "1983",
                                    "NEM": "F",
                                    "CIM": "8315 Gyenesdiás, Bajcsy-Zsilinszky utca 4.",
                                    "Előző ügyfél": "Jakab Áron",
                                    "Következő ügyfél": "Juhász Mihály"
                                },
                                {
                                    "LOGIN": "MIHALYJ",
                                    "EMAIL": "mihály.juhász@mail.hu",
                                    "NEV": "Juhász Mihály",
                                    "SZULEV": "1979",
                                    "NEM": "F",
                                    "CIM": "6786 Ruzsa, Rákóczi utca 1.",
                                    "Előző ügyfél": "Józsa Zsolt",
                                    "Következő ügyfél": "Kalacsi Márton"
                                },
                                {
                                    "LOGIN": "marton",
                                    "EMAIL": "marton@gmail.com",
                                    "NEV": "Kalacsi Márton",
                                    "SZULEV": "1989",
                                    "NEM": "F",
                                    "CIM": "5137 Jászkisér, Fő út 169.",
                                    "Előző ügyfél": "Juhász Mihály",
                                    "Következő ügyfél": "Karasz Sándor"
                                },
                                {
                                    "LOGIN": "sandor",
                                    "EMAIL": "sandor@gmail.com",
                                    "NEV": "Karasz Sándor",
                                    "SZULEV": "1970",
                                    "NEM": "F",
                                    "CIM": "8283 Káptalantóti, Kossuth Lajos utca 1/a.",
                                    "Előző ügyfél": "Kalacsi Márton",
                                    "Következő ügyfél": "Kardos Renáta"
                                },
                                {
                                    "LOGIN": "RENATAK",
                                    "EMAIL": "renáta.kardos@mail.hu",
                                    "NEV": "Kardos Renáta",
                                    "SZULEV": "1988",
                                    "NEM": "N",
                                    "CIM": "7086 Ozora, Bécsi utca 82.",
                                    "Előző ügyfél": "Karasz Sándor",
                                    "Következő ügyfél": "Kazy Tihamér"
                                },
                                {
                                    "LOGIN": "tihamer",
                                    "EMAIL": "tihamér.kazy@mail.hu",
                                    "NEV": "Kazy Tihamér",
                                    "SZULEV": "1991",
                                    "NEM": "F",
                                    "CIM": "2370 Dabas, Fő utca 60.",
                                    "Előző ügyfél": "Kardos Renáta",
                                    "Következő ügyfél": "Kelemen Áron"
                                },
                                {
                                    "LOGIN": "ARONK",
                                    "EMAIL": "áron.kelemen@mail.hu",
                                    "NEV": "Kelemen Áron",
                                    "SZULEV": "1989",
                                    "NEM": "F",
                                    "CIM": "8200 Veszprém, Petőfi utca 8.",
                                    "Előző ügyfél": "Kazy Tihamér",
                                    "Következő ügyfél": "Kerényi Beatrix"
                                },
                                {
                                    "LOGIN": "BEATRIXK",
                                    "EMAIL": "beatrix.kerényi@mail.hu",
                                    "NEV": "Kerényi Beatrix",
                                    "SZULEV": "1972",
                                    "NEM": "N",
                                    "CIM": "7396 Magyarszék, Kossuth Lajos utca 47/b.",
                                    "Előző ügyfél": "Kelemen Áron",
                                    "Következő ügyfél": "Keresztúri Viktor"
                                },
                                {
                                    "LOGIN": "VIKTORK",
                                    "EMAIL": "viktor.keresztúri@mail.hu",
                                    "NEV": "Keresztúri Viktor",
                                    "SZULEV": "1989",
                                    "NEM": "F",
                                    "CIM": "2532 Tokodaltáró, Nagy Lajos tér 4.",
                                    "Előző ügyfél": "Kerényi Beatrix",
                                    "Következő ügyfél": "Kertész Katalin"
                                },
                                {
                                    "LOGIN": "katalin4",
                                    "EMAIL": "katalin4@gmail.com",
                                    "NEV": "Kertész Katalin",
                                    "SZULEV": "1986",
                                    "NEM": "N",
                                    "CIM": "2800 Tatabánya, Búvár utca 4.",
                                    "Előző ügyfél": "Keresztúri Viktor",
                                    "Következő ügyfél": "Keszler Dániel"
                                },
                                {
                                    "LOGIN": "daniel1",
                                    "EMAIL": "dániel.keszler@mail.hu",
                                    "NEV": "Keszler Dániel",
                                    "SZULEV": "1969",
                                    "NEM": "F",
                                    "CIM": "3580 Tiszaújváros, Kossuth Lajos utca 6.",
                                    "Előző ügyfél": "Kertész Katalin",
                                    "Következő ügyfél": "Kispál Márk"
                                },
                                {
                                    "LOGIN": "mark",
                                    "EMAIL": "márk.kispál@mail.hu",
                                    "NEV": "Kispál Márk",
                                    "SZULEV": "1996",
                                    "NEM": "F",
                                    "CIM": "1086 Budapest, Juhászföldi út 1.",
                                    "Előző ügyfél": "Keszler Dániel",
                                    "Következő ügyfél": "Kiss Ádám"
                                },
                                {
                                    "LOGIN": "adam1",
                                    "EMAIL": "ádám.kiss@mail.hu",
                                    "NEV": "Kiss Ádám",
                                    "SZULEV": "1991",
                                    "NEM": "F",
                                    "CIM": "5630 Békés, Szolnoki út 8.",
                                    "Előző ügyfél": "Kispál Márk",
                                    "Következő ügyfél": "Kiss Andrea"
                                },
                                {
                                    "LOGIN": "andrea",
                                    "EMAIL": "andrea.kiss@mail.hu",
                                    "NEV": "Kiss Andrea",
                                    "SZULEV": "1993",
                                    "NEM": "N",
                                    "CIM": "1113 Budapest, Petőfi Sándor utca 87.",
                                    "Előző ügyfél": "Kiss Ádám",
                                    "Következő ügyfél": "Kiss Anita"
                                },
                                {
                                    "LOGIN": "kanita12",
                                    "EMAIL": "anita.kiss12@gmail.com",
                                    "NEV": "Kiss Anita",
                                    "SZULEV": "1975",
                                    "NEM": "N",
                                    "CIM": "2230 Gyömrő Fő tér 3.",
                                    "Előző ügyfél": "Kiss Andrea",
                                    "Következő ügyfél": "Kiss Lajos"
                                },
                                {
                                    "LOGIN": "lajos",
                                    "EMAIL": "lajos.kiss@mail.hu",
                                    "NEV": "Kiss Lajos",
                                    "SZULEV": "1978",
                                    "NEM": "F",
                                    "CIM": "1077 Budapest, Dob utca 1",
                                    "Előző ügyfél": "Kiss Anita",
                                    "Következő ügyfél": "Komjáti András"
                                },
                                {
                                    "LOGIN": "andras41",
                                    "EMAIL": "andras41@gmail.com",
                                    "NEV": "Komjáti András",
                                    "SZULEV": "1997",
                                    "NEM": "F",
                                    "CIM": "5065 Nagykörű, Kossuth út 24.",
                                    "Előző ügyfél": "Kiss Lajos",
                                    "Következő ügyfél": "Kornseé Gyöngyi"
                                },
                                {
                                    "LOGIN": "GYONGYIK",
                                    "EMAIL": "gyöngyi.kornseé@mail.hu",
                                    "NEV": "Kornseé Gyöngyi",
                                    "SZULEV": "1974",
                                    "NEM": "N",
                                    "CIM": "8800 Nagykanizsa, Fő út 60.",
                                    "Előző ügyfél": "Komjáti András",
                                    "Következő ügyfél": "Kovács Ágnes"
                                },
                                {
                                    "LOGIN": "AGNESK",
                                    "EMAIL": "AGNESK@gmail.com",
                                    "NEV": "Kovács Ágnes",
                                    "SZULEV": "1988",
                                    "NEM": "N",
                                    "CIM": "1084 Budapest, Endrődi Sándor utca 47.",
                                    "Előző ügyfél": "Kornseé Gyöngyi",
                                    "Következő ügyfél": "Kovács Bernadett"
                                },
                                {
                                    "LOGIN": "bernadett2",
                                    "EMAIL": "bernadett.kovács@mail.hu",
                                    "NEV": "Kovács Bernadett",
                                    "SZULEV": "1996",
                                    "NEM": "N",
                                    "CIM": "4200 Hajdúszoboszló, Fő út 122.",
                                    "Előző ügyfél": "Kovács Ágnes",
                                    "Következő ügyfél": "Kovács Katalin"
                                },
                                {
                                    "LOGIN": "katka",
                                    "EMAIL": "katalin.kovács@mail.hu",
                                    "NEV": "Kovács Katalin",
                                    "SZULEV": "1975",
                                    "NEM": "N",
                                    "CIM": "8254 Kővágóörs, Petőfi utca 22.",
                                    "Előző ügyfél": "Kovács Bernadett",
                                    "Következő ügyfél": "Koza Máté"
                                },
                                {
                                    "LOGIN": "MATEK",
                                    "EMAIL": "máté.koza@mail.hu",
                                    "NEV": "Koza Máté",
                                    "SZULEV": "1997",
                                    "NEM": "F",
                                    "CIM": "1011 Budapest, Központi telep 3.",
                                    "Előző ügyfél": "Kovács Katalin",
                                    "Következő ügyfél": "Kozma Péter"
                                },
                                {
                                    "LOGIN": "peter1",
                                    "EMAIL": "peter1@gmail.com",
                                    "NEV": "Kozma Péter",
                                    "SZULEV": "1976",
                                    "NEM": "F",
                                    "CIM": "6913 Csanádpalota, Központi telep 3.",
                                    "Előző ügyfél": "Koza Máté",
                                    "Következő ügyfél": "Kő Nikoletta"
                                },
                                {
                                    "LOGIN": "nikoletta4",
                                    "EMAIL": "nikoletta4@gmail.com",
                                    "NEV": "Kő Nikoletta",
                                    "SZULEV": "1972",
                                    "NEM": "N",
                                    "CIM": "5537 Zsadány, Fő út 18.",
                                    "Előző ügyfél": "Kozma Péter",
                                    "Következő ügyfél": "Köves Gábor"
                                },
                                {
                                    "LOGIN": "gabor1",
                                    "EMAIL": "gabor1@gmail.com",
                                    "NEV": "Köves Gábor",
                                    "SZULEV": "1973",
                                    "NEM": "F",
                                    "CIM": "6762 Sándorfalva, Árpád utca 23.",
                                    "Előző ügyfél": "Kő Nikoletta",
                                    "Következő ügyfél": "Kuruc Emese"
                                },
                                {
                                    "LOGIN": "emese",
                                    "EMAIL": "emese.kuruc@mail.hu",
                                    "NEV": "Kuruc Emese",
                                    "SZULEV": "1989",
                                    "NEM": "N",
                                    "CIM": "6700 Szeged, Rákóczi utca 67.",
                                    "Előző ügyfél": "Köves Gábor",
                                    "Következő ügyfél": "Lengyel Ágnes"
                                },
                                {
                                    "LOGIN": "agnes",
                                    "EMAIL": "agnes@gmail.com",
                                    "NEV": "Lengyel Ágnes",
                                    "SZULEV": "1979",
                                    "NEM": "N",
                                    "CIM": "5200 Törökszentmiklós, Deák Ferenc út 5.",
                                    "Előző ügyfél": "Kuruc Emese",
                                    "Következő ügyfél": "Lukács Kornél"
                                },
                                {
                                    "LOGIN": "kornel4",
                                    "EMAIL": "kornél.lukács@mail.hu",
                                    "NEV": "Lukács Kornél",
                                    "SZULEV": "1975",
                                    "NEM": "F",
                                    "CIM": "2053 Herceghalom, Bécsi utca 82.",
                                    "Előző ügyfél": "Lengyel Ágnes",
                                    "Következő ügyfél": "Maródi Andrea"
                                },
                                {
                                    "LOGIN": "andi",
                                    "EMAIL": "andrea.maródi@mail.hu",
                                    "NEV": "Maródi Andrea",
                                    "SZULEV": "1968",
                                    "NEM": "N",
                                    "CIM": "5465 Cserkeszőlő, Árpád utca 4.",
                                    "Előző ügyfél": "Lukács Kornél",
                                    "Következő ügyfél": "Miklós Szabolcs"
                                },
                                {
                                    "LOGIN": "SZABOLCSM",
                                    "EMAIL": "szabolcs.miklós@mail.hu",
                                    "NEV": "Miklós Szabolcs",
                                    "SZULEV": "1980",
                                    "NEM": "F",
                                    "CIM": "1102 Budapest, Fő út 169.",
                                    "Előző ügyfél": "Maródi Andrea",
                                    "Következő ügyfél": "Miklós Tamara"
                                },
                                {
                                    "LOGIN": "tamara2",
                                    "EMAIL": "tamara.miklós@mail.hu",
                                    "NEV": "Miklós Tamara",
                                    "SZULEV": "1980",
                                    "NEM": "N",
                                    "CIM": "3910 Tokaj, Kossuth út 39.",
                                    "Előző ügyfél": "Miklós Szabolcs",
                                    "Következő ügyfél": "Mile Norbert"
                                },
                                {
                                    "LOGIN": "norbert4",
                                    "EMAIL": "norbert4@gmail.com",
                                    "NEV": "Mile Norbert",
                                    "SZULEV": "1983",
                                    "NEM": "F",
                                    "CIM": "3973 Cigánd, Bajcsy-Zsilinszky utca 4.",
                                    "Előző ügyfél": "Miklós Tamara",
                                    "Következő ügyfél": "Mogyródi Krisztián"
                                },
                                {
                                    "LOGIN": "KRISZTIANM",
                                    "EMAIL": "KRISZTIANM@gmail.com",
                                    "NEV": "Mogyródi Krisztián",
                                    "SZULEV": "1968",
                                    "NEM": "F",
                                    "CIM": "9155 Lébény, Jászai tér 21.",
                                    "Előző ügyfél": "Mile Norbert",
                                    "Következő ügyfél": "Mohos Mónika"
                                },
                                {
                                    "LOGIN": "MONIKAM",
                                    "EMAIL": "mónika.mohos@mail.hu",
                                    "NEV": "Mohos Mónika",
                                    "SZULEV": "1974",
                                    "NEM": "N",
                                    "CIM": "2241 Sülysáp, Baracsi László utca 14.",
                                    "Előző ügyfél": "Mogyródi Krisztián",
                                    "Következő ügyfél": "Molnár András"
                                },
                                {
                                    "LOGIN": "andras21",
                                    "EMAIL": "andrás.molnár@mail.hu",
                                    "NEV": "Molnár András",
                                    "SZULEV": "1977",
                                    "NEM": "F",
                                    "CIM": "7900 Szigetvár, Rákóczi utca 67.",
                                    "Előző ügyfél": "Mohos Mónika",
                                    "Következő ügyfél": "Molnár Bálint"
                                },
                                {
                                    "LOGIN": "balint1",
                                    "EMAIL": "balint1@gmail.com",
                                    "NEV": "Molnár Bálint",
                                    "SZULEV": "1989",
                                    "NEM": "F",
                                    "CIM": "9181 Kimle, Fő út 169.",
                                    "Előző ügyfél": "Molnár András",
                                    "Következő ügyfél": "Molnár Eszter"
                                },
                                {
                                    "LOGIN": "eszter",
                                    "EMAIL": "eszter.molnár@mail.hu",
                                    "NEV": "Molnár Eszter",
                                    "SZULEV": "1987",
                                    "NEM": "N",
                                    "CIM": "6800 Hódmezővásárhely, Fő út 77.",
                                    "Előző ügyfél": "Molnár Bálint",
                                    "Következő ügyfél": "Molnár Zsófi"
                                },
                                {
                                    "LOGIN": "zsofi1",
                                    "EMAIL": "zsofi1@gmail.com",
                                    "NEV": "Molnár Zsófi",
                                    "SZULEV": "1983",
                                    "NEM": "N",
                                    "CIM": "2730 Albertirsa, Árpád utca 23.",
                                    "Előző ügyfél": "Molnár Eszter",
                                    "Következő ügyfél": "Mór Ottó"
                                },
                                {
                                    "LOGIN": "desdemona",
                                    "EMAIL": "mor.otto@mail.hu",
                                    "NEV": "Mór Ottó",
                                    "SZULEV": "1968",
                                    "NEM": "F",
                                    "CIM": "9200 Mosonmagyaróvár Fő u. 12.",
                                    "Előző ügyfél": "Molnár Zsófi",
                                    "Következő ügyfél": "Móra László"
                                },
                                {
                                    "LOGIN": "laszlo2",
                                    "EMAIL": "lászló.móra@mail.hu",
                                    "NEV": "Móra László",
                                    "SZULEV": "1975",
                                    "NEM": "F",
                                    "CIM": "9970 Szentgotthárd, Petőfi utca 1/2.",
                                    "Előző ügyfél": "Mór Ottó",
                                    "Következő ügyfél": "Móricz Árpád"
                                },
                                {
                                    "LOGIN": "ARPADM",
                                    "EMAIL": "árpád.móricz@mail.hu",
                                    "NEV": "Móricz Árpád",
                                    "SZULEV": "1986",
                                    "NEM": "F",
                                    "CIM": "3910 Tokaj, Rákóczi utca 67.",
                                    "Előző ügyfél": "Móra László",
                                    "Következő ügyfél": "Nádudvari Henrik"
                                },
                                {
                                    "LOGIN": "henrik3",
                                    "EMAIL": "henrik.nádudvari@mail.hu",
                                    "NEV": "Nádudvari Henrik",
                                    "SZULEV": "1986",
                                    "NEM": "F",
                                    "CIM": "1077 Budapest, Tanácsköztársaság tér 1.",
                                    "Előző ügyfél": "Móricz Árpád",
                                    "Következő ügyfél": "Nagy András"
                                },
                                {
                                    "LOGIN": "ANDRASN",
                                    "EMAIL": "andrás.nagy@mail.hu",
                                    "NEV": "Nagy András",
                                    "SZULEV": "1980",
                                    "NEM": "F",
                                    "CIM": "6500 Baja, Fő út 169.",
                                    "Előző ügyfél": "Nádudvari Henrik",
                                    "Következő ügyfél": "Nagy Gabriella"
                                },
                                {
                                    "LOGIN": "gabriella1",
                                    "EMAIL": "gabriella1@gmail.com",
                                    "NEV": "Nagy Gabriella",
                                    "SZULEV": "1982",
                                    "NEM": "N",
                                    "CIM": "1077 Budapest, Dob utca 1",
                                    "Előző ügyfél": "Nagy András",
                                    "Következő ügyfél": "Nagy Júlia"
                                },
                                {
                                    "LOGIN": "julia4",
                                    "EMAIL": "julia4@gmail.com",
                                    "NEV": "Nagy Júlia",
                                    "SZULEV": "1985",
                                    "NEM": "N",
                                    "CIM": "7000 Sárbogárd, Jászai tér 21.",
                                    "Előző ügyfél": "Nagy Gabriella",
                                    "Következő ügyfél": "Nagy László"
                                },
                                {
                                    "LOGIN": "LASZLON",
                                    "EMAIL": "lászló.nagy@mail.hu",
                                    "NEV": "Nagy László",
                                    "SZULEV": "1969",
                                    "NEM": "F",
                                    "CIM": "1173 Budapest, Jászai tér 21.",
                                    "Előző ügyfél": "Nagy Júlia",
                                    "Következő ügyfél": "Nagy Péter"
                                },
                                {
                                    "LOGIN": "melissza",
                                    "EMAIL": "nagy_peter@indamail.hu",
                                    "NEV": "Nagy Péter",
                                    "SZULEV": "1998",
                                    "NEM": "F",
                                    "CIM": "6800 Hódmezővásárhely, Oldalkosát u. 1.",
                                    "Előző ügyfél": "Nagy László",
                                    "Következő ügyfél": "Nagy Sándor"
                                },
                                {
                                    "LOGIN": "sandor4",
                                    "EMAIL": "sandor4@gmail.com",
                                    "NEV": "Nagy Sándor",
                                    "SZULEV": "1997",
                                    "NEM": "F",
                                    "CIM": "4600 Kisvárda, Fő utca 47.",
                                    "Előző ügyfél": "Nagy Péter",
                                    "Következő ügyfél": "Nagymihály Csongor"
                                },
                                {
                                    "LOGIN": "csongor3",
                                    "EMAIL": "csongor.nagymihály@mail.hu",
                                    "NEV": "Nagymihály Csongor",
                                    "SZULEV": "1984",
                                    "NEM": "F",
                                    "CIM": "9181 Kimle, Deák Ferenc út 5.",
                                    "Előző ügyfél": "Nagy Sándor",
                                    "Következő ügyfél": "Nagymihály Lajos"
                                },
                                {
                                    "LOGIN": "lala",
                                    "EMAIL": "lajos.nagymihály@mail.hu",
                                    "NEV": "Nagymihály Lajos",
                                    "SZULEV": "1997",
                                    "NEM": "F",
                                    "CIM": "8638 Balatonlelle, Rákóczi út 200.",
                                    "Előző ügyfél": "Nagymihály Csongor",
                                    "Következő ügyfél": "Neizer Andrea"
                                },
                                {
                                    "LOGIN": "andrea4",
                                    "EMAIL": "andrea4@gmail.com",
                                    "NEV": "Neizer Andrea",
                                    "SZULEV": "1981",
                                    "NEM": "N",
                                    "CIM": "1124 Budapest, Kiss u. 8.",
                                    "Előző ügyfél": "Nagymihály Lajos",
                                    "Következő ügyfél": "Nyíri Georgij"
                                },
                                {
                                    "LOGIN": "georgij",
                                    "EMAIL": "georgij.nyíri@mail.hu",
                                    "NEV": "Nyíri Georgij",
                                    "SZULEV": "1983",
                                    "NEM": "F",
                                    "CIM": "8391 Sármellék, Grassalkovich út 10.",
                                    "Előző ügyfél": "Neizer Andrea",
                                    "Következő ügyfél": "Opra Attila"
                                },
                                {
                                    "LOGIN": "ATTILAO",
                                    "EMAIL": "ATTILAO@gmail.com",
                                    "NEV": "Opra Attila",
                                    "SZULEV": "1995",
                                    "NEM": "F",
                                    "CIM": "8283 Káptalantóti, Rákóczi út 200.",
                                    "Előző ügyfél": "Nyíri Georgij",
                                    "Következő ügyfél": "Orbán Bernadett"
                                },
                                {
                                    "LOGIN": "BERNADETTO",
                                    "EMAIL": "bernadett.orbán@mail.hu",
                                    "NEV": "Orbán Bernadett",
                                    "SZULEV": "1987",
                                    "NEM": "N",
                                    "CIM": "5085 Rákóczifalva, Arany János utca 1.",
                                    "Előző ügyfél": "Opra Attila",
                                    "Következő ügyfél": "Orosz Ferenc"
                                },
                                {
                                    "LOGIN": "ferenc1",
                                    "EMAIL": "ferenc.orosz@mail.hu",
                                    "NEV": "Orosz Ferenc",
                                    "SZULEV": "1983",
                                    "NEM": "F",
                                    "CIM": "5061 Tiszasüly, Arany János utca 3.",
                                    "Előző ügyfél": "Orbán Bernadett",
                                    "Következő ügyfél": "Oroszi György"
                                },
                                {
                                    "LOGIN": "GYORGYO",
                                    "EMAIL": "GYORGYO@gmail.com",
                                    "NEV": "Oroszi György",
                                    "SZULEV": "1980",
                                    "NEM": "F",
                                    "CIM": "7220 Sarkad, Dózsa György u. 1.",
                                    "Előző ügyfél": "Orosz Ferenc",
                                    "Következő ügyfél": "Ötvös Árpád"
                                },
                                {
                                    "LOGIN": "arpad2",
                                    "EMAIL": "árpád.ötvös@mail.hu",
                                    "NEV": "Ötvös Árpád",
                                    "SZULEV": "1990",
                                    "NEM": "F",
                                    "CIM": "2600 Vác, Padragi út 158.",
                                    "Előző ügyfél": "Oroszi György",
                                    "Következő ügyfél": "Palágyi Polla"
                                },
                                {
                                    "LOGIN": "polla",
                                    "EMAIL": "polla@gmail.com",
                                    "NEV": "Palágyi Polla",
                                    "SZULEV": "1994",
                                    "NEM": "N",
                                    "CIM": "2484 Agárd, Fő út 18.",
                                    "Előző ügyfél": "Ötvös Árpád",
                                    "Következő ügyfél": "Pálinkás János"
                                },
                                {
                                    "LOGIN": "JANOSP",
                                    "EMAIL": "JANOSP@gmail.com",
                                    "NEV": "Pálinkás János",
                                    "SZULEV": "1984",
                                    "NEM": "F",
                                    "CIM": "5920 Csorvás, Padragi út 158.",
                                    "Előző ügyfél": "Palágyi Polla",
                                    "Következő ügyfél": "Papós Tímea"
                                },
                                {
                                    "LOGIN": "timea",
                                    "EMAIL": "timea@gmail.com",
                                    "NEV": "Papós Tímea",
                                    "SZULEV": "1996",
                                    "NEM": "N",
                                    "CIM": "1035 Budapest,  Kossuth út 77.",
                                    "Előző ügyfél": "Pálinkás János",
                                    "Következő ügyfél": "Papp Imre"
                                },
                                {
                                    "LOGIN": "imre1",
                                    "EMAIL": "imre.papp@mail.hu",
                                    "NEV": "Papp Imre",
                                    "SZULEV": "1976",
                                    "NEM": "F",
                                    "CIM": "1077 Budapest, Szolnoki út 8.",
                                    "Előző ügyfél": "Papós Tímea",
                                    "Következő ügyfél": "Pásztor Róbert"
                                },
                                {
                                    "LOGIN": "ROBERTP",
                                    "EMAIL": "ROBERTP@gmail.com",
                                    "NEV": "Pásztor Róbert",
                                    "SZULEV": "1972",
                                    "NEM": "F",
                                    "CIM": "5137 Jászkisér, Ady Endre út 27.",
                                    "Előző ügyfél": "Papp Imre",
                                    "Következő ügyfél": "Pataki Brigitta"
                                },
                                {
                                    "LOGIN": "brigitta3",
                                    "EMAIL": "brigitta.pataki@mail.hu",
                                    "NEV": "Pataki Brigitta",
                                    "SZULEV": "1991",
                                    "NEM": "N",
                                    "CIM": "2730 Albertirsa, Rendeki utca 21.",
                                    "Előző ügyfél": "Pásztor Róbert",
                                    "Következő ügyfél": "Patay Róbert"
                                },
                                {
                                    "LOGIN": "robert2",
                                    "EMAIL": "robert2@gmail.com",
                                    "NEV": "Patay Róbert",
                                    "SZULEV": "1977",
                                    "NEM": "F",
                                    "CIM": "2370 Dabas, Rákóczi utca 21.",
                                    "Előző ügyfél": "Pataki Brigitta",
                                    "Következő ügyfél": "Perlinger Éva"
                                },
                                {
                                    "LOGIN": "eva2",
                                    "EMAIL": "eva2@gmail.com",
                                    "NEV": "Perlinger Éva",
                                    "SZULEV": "1971",
                                    "NEM": "N",
                                    "CIM": "9653 Répcelak, Bécsi utca 82.",
                                    "Előző ügyfél": "Patay Róbert",
                                    "Következő ügyfél": "Pintér Zoltán"
                                },
                                {
                                    "LOGIN": "ZOLTANP",
                                    "EMAIL": "zoltán.pintér@mail.hu",
                                    "NEV": "Pintér Zoltán",
                                    "SZULEV": "1977",
                                    "NEM": "F",
                                    "CIM": "6050 Lajosmizse, Fő út 18.",
                                    "Előző ügyfél": "Perlinger Éva",
                                    "Következő ügyfél": "Pivarcsi Anett"
                                },
                                {
                                    "LOGIN": "anett3",
                                    "EMAIL": "anett.pivarcsi@mail.hu",
                                    "NEV": "Pivarcsi Anett",
                                    "SZULEV": "1967",
                                    "NEM": "N",
                                    "CIM": "1149 Budapest, Fő út 60.",
                                    "Előző ügyfél": "Pintér Zoltán",
                                    "Következő ügyfél": "Poprádi Kristóf"
                                },
                                {
                                    "LOGIN": "kristof4",
                                    "EMAIL": "kristof4@gmail.com",
                                    "NEV": "Poprádi Kristóf",
                                    "SZULEV": "1984",
                                    "NEM": "F",
                                    "CIM": "8220 Balatonalmádi, Mészáros utca 7.",
                                    "Előző ügyfél": "Pivarcsi Anett",
                                    "Következő ügyfél": "Pulai Zsolt"
                                },
                                {
                                    "LOGIN": "zsolt1",
                                    "EMAIL": "zsolt.pulai@mail.hu",
                                    "NEV": "Pulai Zsolt",
                                    "SZULEV": "1988",
                                    "NEM": "F",
                                    "CIM": "8391 Sármellék, Fő utca 60.",
                                    "Előző ügyfél": "Poprádi Kristóf",
                                    "Következő ügyfél": "Pusztai Zsuzsanna"
                                },
                                {
                                    "LOGIN": "zsuzsa",
                                    "EMAIL": "zsuzsanna@gmail.com",
                                    "NEV": "Pusztai Zsuzsanna",
                                    "SZULEV": "1980",
                                    "NEM": "N",
                                    "CIM": "6783 Ásotthalom, Badacsonyi utca 12.",
                                    "Előző ügyfél": "Pulai Zsolt",
                                    "Következő ügyfél": "Rab Sebestyén"
                                },
                                {
                                    "LOGIN": "sebestyen",
                                    "EMAIL": "sebestyen@gmail.com",
                                    "NEV": "Rab Sebestyén",
                                    "SZULEV": "1992",
                                    "NEM": "F",
                                    "CIM": "7130 Tolna, Központi telep 3.",
                                    "Előző ügyfél": "Pusztai Zsuzsanna",
                                    "Következő ügyfél": "Rácz Dániel"
                                },
                                {
                                    "LOGIN": "daniel",
                                    "EMAIL": "dániel.rácz@mail.hu",
                                    "NEV": "Rácz Dániel",
                                    "SZULEV": "1978",
                                    "NEM": "F",
                                    "CIM": "9181 Kimle, Szabadság tér 9.",
                                    "Előző ügyfél": "Rab Sebestyén",
                                    "Következő ügyfél": "Rácz Rajmond"
                                },
                                {
                                    "LOGIN": "rajmond4",
                                    "EMAIL": "rajmond.rácz@mail.hu",
                                    "NEV": "Rácz Rajmond",
                                    "SZULEV": "1993",
                                    "NEM": "F",
                                    "CIM": "9155 Lébény, Petőfi utca 1/2.",
                                    "Előző ügyfél": "Rácz Dániel",
                                    "Következő ügyfél": "Regős Annamária"
                                },
                                {
                                    "LOGIN": "ANNAMARIAR",
                                    "EMAIL": "ANNAMARIAR@gmail.com",
                                    "NEV": "Regős Annamária",
                                    "SZULEV": "1977",
                                    "NEM": "N",
                                    "CIM": "8283 Káptalantóti, Petőfi Sándor tér 1.",
                                    "Előző ügyfél": "Rácz Rajmond",
                                    "Következő ügyfél": "Sarodi Dóra"
                                },
                                {
                                    "LOGIN": "dora3",
                                    "EMAIL": "dóra.sarodi@mail.hu",
                                    "NEV": "Sarodi Dóra",
                                    "SZULEV": "1995",
                                    "NEM": "N",
                                    "CIM": "2855 Bokod, Fő út 18.",
                                    "Előző ügyfél": "Regős Annamária",
                                    "Következő ügyfél": "Simon Anikó"
                                },
                                {
                                    "LOGIN": "ANIKOS",
                                    "EMAIL": "ANIKOS@gmail.com",
                                    "NEV": "Simon Anikó",
                                    "SZULEV": "1988",
                                    "NEM": "N",
                                    "CIM": "5137 Jászkisér, Bécsi utca 82.",
                                    "Előző ügyfél": "Sarodi Dóra",
                                    "Következő ügyfél": "Simon Bernadett"
                                },
                                {
                                    "LOGIN": "bernadett1",
                                    "EMAIL": "bernadett1@gmail.com",
                                    "NEV": "Simon Bernadett",
                                    "SZULEV": "1984",
                                    "NEM": "N",
                                    "CIM": "2300 Ráckeve, Fő utca 108.",
                                    "Előző ügyfél": "Simon Anikó",
                                    "Következő ügyfél": "Sobják Dávid"
                                },
                                {
                                    "LOGIN": "david1",
                                    "EMAIL": "david1@gmail.com",
                                    "NEV": "Sobják Dávid",
                                    "SZULEV": "1970",
                                    "NEM": "F",
                                    "CIM": "5083 Kengyel, Arany János utca 3.",
                                    "Előző ügyfél": "Simon Bernadett",
                                    "Következő ügyfél": "Soós István"
                                },
                                {
                                    "LOGIN": "istvan",
                                    "EMAIL": "istvan@gmail.com",
                                    "NEV": "Soós István",
                                    "SZULEV": "1986",
                                    "NEM": "F",
                                    "CIM": "2370 Dabas, Kossuth utca 27.",
                                    "Előző ügyfél": "Sobják Dávid",
                                    "Következő ügyfél": "Szabó Julianna"
                                },
                                {
                                    "LOGIN": "julianna4",
                                    "EMAIL": "julianna4@gmail.com",
                                    "NEV": "Szabó Julianna",
                                    "SZULEV": "1990",
                                    "NEM": "N",
                                    "CIM": "6700 Szeged, Kossuth Lajos utca 6.",
                                    "Előző ügyfél": "Soós István",
                                    "Következő ügyfél": "Szalai Péter"
                                },
                                {
                                    "LOGIN": "peter3",
                                    "EMAIL": "peter3@gmail.com",
                                    "NEV": "Szalai Péter",
                                    "SZULEV": "1983",
                                    "NEM": "F",
                                    "CIM": "1155 Budapest, Arany János utca 3.",
                                    "Előző ügyfél": "Szabó Julianna",
                                    "Következő ügyfél": "Szalai Szilárd"
                                },
                                {
                                    "LOGIN": "SZILARDS",
                                    "EMAIL": "szilárd.szalai@mail.hu",
                                    "NEV": "Szalai Szilárd",
                                    "SZULEV": "1967",
                                    "NEM": "F",
                                    "CIM": "1077 Budapest, Fő út 18.",
                                    "Előző ügyfél": "Szalai Péter",
                                    "Következő ügyfél": "Szedlár Krisztina"
                                },
                                {
                                    "LOGIN": "krisztina",
                                    "EMAIL": "krisztina@gmail.com",
                                    "NEV": "Szedlár Krisztina",
                                    "SZULEV": "1979",
                                    "NEM": "N",
                                    "CIM": "6646 Tömörkény, Arany János utca 1.",
                                    "Előző ügyfél": "Szalai Szilárd",
                                    "Következő ügyfél": "Székely Brigitta"
                                },
                                {
                                    "LOGIN": "brigitta",
                                    "EMAIL": "brigitta.székely@mail.hu",
                                    "NEV": "Székely Brigitta",
                                    "SZULEV": "1978",
                                    "NEM": "N",
                                    "CIM": "2462 Martonvásár, Fő utca 47.",
                                    "Előző ügyfél": "Szedlár Krisztina",
                                    "Következő ügyfél": "Szekendi Beatrix"
                                },
                                {
                                    "LOGIN": "BEATRIXS",
                                    "EMAIL": "beatrix.szekendi@mail.hu",
                                    "NEV": "Szekendi Beatrix",
                                    "SZULEV": "1981",
                                    "NEM": "N",
                                    "CIM": "4060 Balmazújváros, Jászai tér 21.",
                                    "Előző ügyfél": "Székely Brigitta",
                                    "Következő ügyfél": "Szikszai Réka"
                                },
                                {
                                    "LOGIN": "reka4",
                                    "EMAIL": "réka.szikszai@mail.hu",
                                    "NEV": "Szikszai Réka",
                                    "SZULEV": "1969",
                                    "NEM": "N",
                                    "CIM": "8254 Kővágóörs, Templom utca 73.",
                                    "Előző ügyfél": "Szekendi Beatrix",
                                    "Következő ügyfél": "Szilágyi Mátyás"
                                },
                                {
                                    "LOGIN": "MATYASS",
                                    "EMAIL": "mátyás.szilágyi@mail.hu",
                                    "NEV": "Szilágyi Mátyás",
                                    "SZULEV": "1975",
                                    "NEM": "F",
                                    "CIM": "9023 Győr, Kossuth Lajos utca 6.",
                                    "Előző ügyfél": "Szikszai Réka",
                                    "Következő ügyfél": "Szirmai Renáta"
                                },
                                {
                                    "LOGIN": "RENATAS",
                                    "EMAIL": "RENATAS@gmail.com",
                                    "NEV": "Szirmai Renáta",
                                    "SZULEV": "1991",
                                    "NEM": "N",
                                    "CIM": "2053 Herceghalom, Kossuth utca 27.",
                                    "Előző ügyfél": "Szilágyi Mátyás",
                                    "Következő ügyfél": "Szomor Andrea"
                                },
                                {
                                    "LOGIN": "andrea3",
                                    "EMAIL": "andrea3@gmail.com",
                                    "NEV": "Szomor Andrea",
                                    "SZULEV": "1996",
                                    "NEM": "N",
                                    "CIM": "7960 Sellye, Bécsi utca 82.",
                                    "Előző ügyfél": "Szirmai Renáta",
                                    "Következő ügyfél": "Szöllősi Gábor"
                                },
                                {
                                    "LOGIN": "GABORS",
                                    "EMAIL": "GABORS@gmail.com",
                                    "NEV": "Szöllősi Gábor",
                                    "SZULEV": "1990",
                                    "NEM": "F",
                                    "CIM": "3630 Putnok, Kossuth utca 27.",
                                    "Előző ügyfél": "Szomor Andrea",
                                    "Következő ügyfél": "Szűcs Annamária"
                                },
                                {
                                    "LOGIN": "annamaria1",
                                    "EMAIL": "annamária.szűcs@mail.hu",
                                    "NEV": "Szűcs Annamária",
                                    "SZULEV": "1990",
                                    "NEM": "N",
                                    "CIM": "1191 Budapest, Rendeki utca 21.",
                                    "Előző ügyfél": "Szöllősi Gábor",
                                    "Következő ügyfél": "Szűcs Balázs"
                                },
                                {
                                    "LOGIN": "balazs2",
                                    "EMAIL": "balázs.szűcs@mail.hu",
                                    "NEV": "Szűcs Balázs",
                                    "SZULEV": "1984",
                                    "NEM": "F",
                                    "CIM": "3170 Szécsény, Szabadság utca 95.",
                                    "Előző ügyfél": "Szűcs Annamária",
                                    "Következő ügyfél": "Szűcs Norbert"
                                },
                                {
                                    "LOGIN": "norbert",
                                    "EMAIL": "norbert@gmail.com",
                                    "NEV": "Szűcs Norbert",
                                    "SZULEV": "1969",
                                    "NEM": "F",
                                    "CIM": "5071 Besenyszög, Győri utca 12.",
                                    "Előző ügyfél": "Szűcs Balázs",
                                    "Következő ügyfél": "Tankó Veronika"
                                },
                                {
                                    "LOGIN": "veronika4",
                                    "EMAIL": "veronika4@gmail.com",
                                    "NEV": "Tankó Veronika",
                                    "SZULEV": "1983",
                                    "NEM": "N",
                                    "CIM": "6412 Balotaszállás, Rendeki utca 21.",
                                    "Előző ügyfél": "Szűcs Norbert",
                                    "Következő ügyfél": "Tari Szilvia"
                                },
                                {
                                    "LOGIN": "szilvia1",
                                    "EMAIL": "szilvia.tari@mail.hu",
                                    "NEV": "Tari Szilvia",
                                    "SZULEV": "1971",
                                    "NEM": "N",
                                    "CIM": "6080 Szabadszállás, Bécsi utca 82.",
                                    "Előző ügyfél": "Tankó Veronika",
                                    "Következő ügyfél": "Tatár Nikoletta"
                                },
                                {
                                    "LOGIN": "NIKOLETTAT",
                                    "EMAIL": "nikoletta.tatár@mail.hu",
                                    "NEV": "Tatár Nikoletta",
                                    "SZULEV": "1997",
                                    "NEM": "N",
                                    "CIM": "1067 Budapest, Győri utca 12.",
                                    "Előző ügyfél": "Tari Szilvia",
                                    "Következő ügyfél": "Telek Gábor"
                                },
                                {
                                    "LOGIN": "gabor4",
                                    "EMAIL": "gábor.telek@mail.hu",
                                    "NEV": "Telek Gábor",
                                    "SZULEV": "1987",
                                    "NEM": "F",
                                    "CIM": "9071 Görbeháza, Fő út 169.",
                                    "Előző ügyfél": "Tatár Nikoletta",
                                    "Következő ügyfél": "Tornyos Andrea"
                                },
                                {
                                    "LOGIN": "ANDREAT",
                                    "EMAIL": "ANDREAT@gmail.com",
                                    "NEV": "Tornyos Andrea",
                                    "SZULEV": "1986",
                                    "NEM": "N",
                                    "CIM": "6131 Szank, Bécsi utca 82.",
                                    "Előző ügyfél": "Telek Gábor",
                                    "Következő ügyfél": "Tóth András"
                                },
                                {
                                    "LOGIN": "andras2",
                                    "EMAIL": "andrás.tóth@mail.hu",
                                    "NEV": "Tóth András",
                                    "SZULEV": "1997",
                                    "NEM": "F",
                                    "CIM": "4071 Egyek, Petőfi utca 30.",
                                    "Előző ügyfél": "Tornyos Andrea",
                                    "Következő ügyfél": "Tóth Anikó"
                                },
                                {
                                    "LOGIN": "aniko",
                                    "EMAIL": "aniko@gmail.com",
                                    "NEV": "Tóth Anikó",
                                    "SZULEV": "1973",
                                    "NEM": "N",
                                    "CIM": "2085 Pilisvörösvár, Deák Ferenc út 5.",
                                    "Előző ügyfél": "Tóth András",
                                    "Következő ügyfél": "Tóth Júlia"
                                },
                                {
                                    "LOGIN": "julia",
                                    "EMAIL": "julia@gmail.com",
                                    "NEV": "Tóth Júlia",
                                    "SZULEV": "1993",
                                    "NEM": "N",
                                    "CIM": "5310 Kisújszállás, Árpád utca 4.",
                                    "Előző ügyfél": "Tóth Anikó",
                                    "Következő ügyfél": "Tóth Roland"
                                },
                                {
                                    "LOGIN": "roland",
                                    "EMAIL": "roland@gmail.com",
                                    "NEV": "Tóth Roland",
                                    "SZULEV": "1968",
                                    "NEM": "F",
                                    "CIM": "2000 Szentendre, Fő út 169.",
                                    "Előző ügyfél": "Tóth Júlia",
                                    "Következő ügyfél": "Tóth Zoltán"
                                },
                                {
                                    "LOGIN": "ZOLTANT",
                                    "EMAIL": "zoltán.tóth@mail.hu",
                                    "NEV": "Tóth Zoltán",
                                    "SZULEV": "1985",
                                    "NEM": "F",
                                    "CIM": "4244 Újfehértó, Posta köz 2.",
                                    "Előző ügyfél": "Tóth Roland",
                                    "Következő ügyfél": "Tömböly Dénes"
                                },
                                {
                                    "LOGIN": "denes",
                                    "EMAIL": "denes@gmail.com",
                                    "NEV": "Tömböly Dénes",
                                    "SZULEV": "1975",
                                    "NEM": "F",
                                    "CIM": "2400 Dunaújváros, Kossuth út 39.",
                                    "Előző ügyfél": "Tóth Zoltán",
                                    "Következő ügyfél": "Turcsik Tünde"
                                },
                                {
                                    "LOGIN": "tunde",
                                    "EMAIL": "tunde@gmail.com",
                                    "NEV": "Turcsik Tünde",
                                    "SZULEV": "1974",
                                    "NEM": "N",
                                    "CIM": "7130 Tolna, Fő út 122.",
                                    "Előző ügyfél": "Tömböly Dénes",
                                    "Következő ügyfél": "Urbán Viktoria"
                                },
                                {
                                    "LOGIN": "VIKTORIAU",
                                    "EMAIL": "viktoria.urbán@mail.hu",
                                    "NEV": "Urbán Viktoria",
                                    "SZULEV": "1996",
                                    "NEM": "N",
                                    "CIM": "3860 Encs, Népboltsor  2.",
                                    "Előző ügyfél": "Turcsik Tünde",
                                    "Következő ügyfél": "Vajda József"
                                },
                                {
                                    "LOGIN": "jozsef2",
                                    "EMAIL": "józsef.vajda@mail.hu",
                                    "NEV": "Vajda József",
                                    "SZULEV": "1978",
                                    "NEM": "F",
                                    "CIM": "6700 Szeged, Baracsi László utca 14.",
                                    "Előző ügyfél": "Urbán Viktoria",
                                    "Következő ügyfél": "Vajda Zsuzsa"
                                },
                                {
                                    "LOGIN": "ZSUZSAV",
                                    "EMAIL": "zsuzsa.vajda@mail.hu",
                                    "NEV": "Vajda Zsuzsa",
                                    "SZULEV": "1976",
                                    "NEM": "N",
                                    "CIM": "6786 Ruzsa, Kossuth utca 77.",
                                    "Előző ügyfél": "Vajda József",
                                    "Következő ügyfél": "Varga István"
                                },
                                {
                                    "LOGIN": "ISTVANV",
                                    "EMAIL": "ISTVANV@gmail.com",
                                    "NEV": "Varga István",
                                    "SZULEV": "1989",
                                    "NEM": "F",
                                    "CIM": "6320 Solt, Hősök tere 11.",
                                    "Előző ügyfél": "Vajda Zsuzsa",
                                    "Következő ügyfél": "Varsányi Zsuzsa"
                                },
                                {
                                    "LOGIN": "zsuzsa3",
                                    "EMAIL": "zsuzsa.varsányi@mail.hu",
                                    "NEV": "Varsányi Zsuzsa",
                                    "SZULEV": "1979",
                                    "NEM": "N",
                                    "CIM": "8600 Siófok, Árpád utca 4.",
                                    "Előző ügyfél": "Varga István",
                                    "Következő ügyfél": "Vida Gabriella"
                                },
                                {
                                    "LOGIN": "gabriella10",
                                    "EMAIL": "gabriella10@gmail.com",
                                    "NEV": "Vida Gabriella",
                                    "SZULEV": "1969",
                                    "NEM": "N",
                                    "CIM": "2484 Agárd, Arany János utca 3.",
                                    "Előző ügyfél": "Varsányi Zsuzsa",
                                    "Következő ügyfél": "Vígh András"
                                },
                                {
                                    "LOGIN": "andras3",
                                    "EMAIL": "andrás.vígh@mail.hu",
                                    "NEV": "Vígh András",
                                    "SZULEV": "1971",
                                    "NEM": "F",
                                    "CIM": "1118 Budapest, Arany János utca 1.",
                                    "Előző ügyfél": "Vida Gabriella",
                                    "Következő ügyfél": "Viktor Éva"
                                },
                                {
                                    "LOGIN": "EVAV",
                                    "EMAIL": "EVAV@gmail.com",
                                    "NEV": "Viktor Éva",
                                    "SZULEV": "1980",
                                    "NEM": "N",
                                    "CIM": "6913 Csanádpalota, Arany János utca 3.",
                                    "Előző ügyfél": "Vígh András",
                                    "Következő ügyfél": "Vizi István"
                                },
                                {
                                    "LOGIN": "istvan1",
                                    "EMAIL": "istván.vizi@mail.hu",
                                    "NEV": "Vizi István",
                                    "SZULEV": "1997",
                                    "NEM": "F",
                                    "CIM": "7086 Ozora, Rákóczi utca 1.",
                                    "Előző ügyfél": "Viktor Éva",
                                    "Következő ügyfél": "Vörös Dániel"
                                },
                                {
                                    "LOGIN": "dani",
                                    "EMAIL": "daniel@gmail.com",
                                    "NEV": "Vörös Dániel",
                                    "SZULEV": "1986",
                                    "NEM": "F",
                                    "CIM": "7150 Bonyhád, Dózsa György u. 1.",
                                    "Előző ügyfél": "Vizi István",
                                    "Következő ügyfél": "Vukasinovity Bálint"
                                },
                                {
                                    "LOGIN": "balint2",
                                    "EMAIL": "balint2@gmail.com",
                                    "NEV": "Vukasinovity Bálint",
                                    "SZULEV": "1997",
                                    "NEM": "F",
                                    "CIM": "2330 Dunaharaszti, Béke utca 7.",
                                    "Előző ügyfél": "Vörös Dániel",
                                    "Következő ügyfél": "Zatykó Katalin"
                                },
                                {
                                    "LOGIN": "kati",
                                    "EMAIL": "katalin.zatykó@mail.hu",
                                    "NEV": "Zatykó Katalin",
                                    "SZULEV": "1995",
                                    "NEM": "N",
                                    "CIM": "7511 Ötvöskónyi, Kossuth Lajos utca 6.",
                                    "Előző ügyfél": "Vukasinovity Bálint",
                                    "Következő ügyfél": "Nincs"
                                }
                            ]
                        },
                        "text/html": "<table><tr><th>LOGIN</th><th>EMAIL</th><th>NEV</th><th>SZULEV</th><th>NEM</th><th>CIM</th><th>Előző ügyfél</th><th>Következő ügyfél</th></tr><tr><td>david</td><td>david@gmail.com</td><td>Ambrus Dávid</td><td>1974</td><td>F</td><td>1149 Budapest, Fő út 18.</td><td>Nincs</td><td>Andor Ibolya</td></tr><tr><td>IBOLYAA</td><td>ibolya.andor@mail.hu</td><td>Andor Ibolya</td><td>1983</td><td>N</td><td>9023 Győr, Posta köz 2.</td><td>Ambrus Dávid</td><td>Antal László</td></tr><tr><td>LASZLOA</td><td>lászló.antal@mail.hu</td><td>Antal László</td><td>1969</td><td>F</td><td>2484 Agárd, Bécsi utca 82.</td><td>Andor Ibolya</td><td>Antal Tamás</td></tr><tr><td>tamas</td><td>tamás.antal@mail.hu</td><td>Antal Tamás</td><td>1984</td><td>F</td><td>4440 Tiszavasvári, Posta köz 2.</td><td>Antal László</td><td>Back András</td></tr><tr><td>andras4</td><td>andras4@gmail.com</td><td>Back András</td><td>1984</td><td>F</td><td>3783 Edelény, Fő út 169.</td><td>Antal Tamás</td><td>Bagi Beáta</td></tr><tr><td>beata4</td><td>beáta.bagi@mail.hu</td><td>Bagi Beáta</td><td>1994</td><td>N</td><td>8477 Tüskevár, Felszabadulás utca 32.</td><td>Back András</td><td>Bagóczki Alexandra</td></tr><tr><td>alexandra</td><td>alexandra.bagóczki@mail.hu</td><td>Bagóczki Alexandra</td><td>1992</td><td>N</td><td>2381 Táborfalva, Petőfi utca 1/2.</td><td>Bagi Beáta</td><td>Bajusz Bence</td></tr><tr><td>BENCEB</td><td>bence.bajusz@mail.hu</td><td>Bajusz Bence</td><td>1973</td><td>F</td><td>8391 Sármellék, Fő utca 56.</td><td>Bagóczki Alexandra</td><td>Bakó Klaudia</td></tr><tr><td>klaudia2</td><td>klaudia.bakó@mail.hu</td><td>Bakó Klaudia</td><td>1982</td><td>N</td><td>8254 Kővágóörs, Kossuth Lajos utca 6.</td><td>Bajusz Bence</td><td>Bakódy Balázs</td></tr><tr><td>balazs3</td><td>balazs3@gmail.com</td><td>Bakódy Balázs</td><td>1986</td><td>F</td><td>2131 Göd, Arany János utca 1.</td><td>Bakó Klaudia</td><td>Balla Miklós</td></tr><tr><td>MIKLOSB</td><td>miklós.balla@mail.hu</td><td>Balla Miklós</td><td>1979</td><td>F</td><td>4060 Balmazújváros, Szent István utca 2.</td><td>Bakódy Balázs</td><td>Balogh Eszter</td></tr><tr><td>eszter2</td><td>eszter.balogh@mail.hu</td><td>Balogh Eszter</td><td>1998</td><td>N</td><td>6760 Kistelek, Kossuth utca 11.</td><td>Balla Miklós</td><td>Barabás Pál</td></tr><tr><td>pal</td><td>pál.barabás@mail.hu</td><td>Barabás Pál</td><td>1968</td><td>F</td><td>1183 Budapest, Szolnoki út 8.</td><td>Balogh Eszter</td><td>Baráth Mária</td></tr><tr><td>maria1</td><td>mária.baráth@mail.hu</td><td>Baráth Mária</td><td>1995</td><td>N</td><td>1047 Budapest, Posta köz 2.</td><td>Barabás Pál</td><td>Bárci Gusztáv</td></tr><tr><td>gusztav</td><td>gusztav@gmail.com</td><td>Bárci Gusztáv</td><td>1967</td><td>F</td><td>3643 Dédestapolcsány, Endrődi Sándor utca 47.</td><td>Baráth Mária</td><td>Barkóci Ádám</td></tr><tr><td>adam3</td><td>adam3@gmail.com</td><td>Barkóci Ádám</td><td>1970</td><td>F</td><td>3910 Tokaj, Dózsa György utca 37.</td><td>Bárci Gusztáv</td><td>Barna Debóra</td></tr><tr><td>debora</td><td>debóra.barna@mail.hu</td><td>Barna Debóra</td><td>1976</td><td>N</td><td>1155 Budapest, Fő út 169.</td><td>Barkóci Ádám</td><td>Barna Zoltán</td></tr><tr><td>zoltan4</td><td>zoltan4@gmail.com</td><td>Barna Zoltán</td><td>1986</td><td>F</td><td>8313 Balatongyörök, Jászai tér 21.</td><td>Barna Debóra</td><td>Baróti Attila</td></tr><tr><td>attila4</td><td>attila.baróti@mail.hu</td><td>Baróti Attila</td><td>1975</td><td>F</td><td>7149 Báta, Arany János utca 3.</td><td>Barna Zoltán</td><td>Barta Zsuzsanna</td></tr><tr><td>zsuzsanna</td><td>zsuzsanna.barta@mail.hu</td><td>Barta Zsuzsanna</td><td>1994</td><td>N</td><td>4172 Biharnagybajom, Dózsa György utca 37.</td><td>Baróti Attila</td><td>Berendi Péter</td></tr><tr><td>PETERB</td><td>péter.berendi@mail.hu</td><td>Berendi Péter</td><td>1969</td><td>F</td><td>3980 Sátoraljaújhely, Vasút utca 4/10.</td><td>Barta Zsuzsanna</td><td>Béres Norbert</td></tr><tr><td>norbert5</td><td>norbert5@gmail.com</td><td>Béres Norbert</td><td>1975</td><td>F</td><td>8640 Fonyód, Bajcsy-Zsilinszky utca 4.</td><td>Berendi Péter</td><td>Berta Dávid</td></tr><tr><td>david4</td><td>david4@gmail.com</td><td>Berta Dávid</td><td>1990</td><td>F</td><td>3500 Miskolc, Balatoni út 12.</td><td>Béres Norbert</td><td>Bieniek Ádám</td></tr><tr><td>adam4</td><td>ádám.bieniek@mail.hu</td><td>Bieniek Ádám</td><td>1976</td><td>F</td><td>8630 Balatonboglár, Juhászföldi út 1.</td><td>Berta Dávid</td><td>Bíró Ákos</td></tr><tr><td>akos</td><td>ákos.bíró@mail.hu</td><td>Bíró Ákos</td><td>1982</td><td>F</td><td>9023 Győr, Kossuth Lajos utca 47/b.</td><td>Bieniek Ádám</td><td>Biró Alexander</td></tr><tr><td>alexis</td><td>alexbiro@gmail.com</td><td>Biró Alexander</td><td>2000</td><td>F</td><td>6914 Pitvaros, Deák F. u. 38.</td><td>Bíró Ákos</td><td>Bíró Péter</td></tr><tr><td>peter4</td><td>péter.bíró@mail.hu</td><td>Bíró Péter</td><td>1985</td><td>F</td><td>5137 Jászkisér, Rákóczi utca 67.</td><td>Biró Alexander</td><td>Bittmann Edit</td></tr><tr><td>edit</td><td>edit.bittmann@mail.hu</td><td>Bittmann Edit</td><td>1984</td><td>N</td><td>6077 Orgovány, Fő utca 60.</td><td>Bíró Péter</td><td>Bodor Szabolcs</td></tr><tr><td>szabolcs</td><td>szabolcs.bodor@mail.hu</td><td>Bodor Szabolcs</td><td>1990</td><td>F</td><td>6786 Ruzsa, Ady Endre út 27.</td><td>Bittmann Edit</td><td>Bori Krisztina</td></tr><tr><td>krisztina1</td><td>krisztina.bori@mail.hu</td><td>Bori Krisztina</td><td>1969</td><td>N</td><td>2115 Vácszentlászló, Fő utca 47.</td><td>Bodor Szabolcs</td><td>Boros Vivien</td></tr><tr><td>vivien3</td><td>vivien3@gmail.com</td><td>Boros Vivien</td><td>1991</td><td>N</td><td>2117 Isaszeg, Fő út 122.</td><td>Bori Krisztina</td><td>Bosnyák Ilona</td></tr><tr><td>ilona3</td><td>ilona3@gmail.com</td><td>Bosnyák Ilona</td><td>1990</td><td>N</td><td>2483 Gárdony, Posta köz 2.</td><td>Boros Vivien</td><td>Botka Mátyás</td></tr><tr><td>matyas2</td><td>matyas2@gmail.com</td><td>Botka Mátyás</td><td>1972</td><td>F</td><td>2700 Cegléd, Kossuth Lajos utca 6.</td><td>Bosnyák Ilona</td><td>Bozsik Balázs</td></tr><tr><td>balazs1</td><td>balázs.bozsik@mail.hu</td><td>Bozsik Balázs</td><td>1992</td><td>F</td><td>2300 Ráckeve, Bécsi utca 82.</td><td>Botka Mátyás</td><td>Bozsó Péter</td></tr><tr><td>peter2</td><td>peter2@gmail.com</td><td>Bozsó Péter</td><td>1976</td><td>F</td><td>4800 Vásárosnamény, Zombori út 2/A</td><td>Bozsik Balázs</td><td>Böröcz Anikó</td></tr><tr><td>aniko4</td><td>aniko4@gmail.com</td><td>Böröcz Anikó</td><td>1978</td><td>N</td><td>2484 Agárd, Petőfi Sándor tér 1.</td><td>Bozsó Péter</td><td>Bucskó Róza</td></tr><tr><td>roza2</td><td>roza2@gmail.com</td><td>Bucskó Róza</td><td>1988</td><td>N</td><td>5661 Újkígyós, Arany János utca 3.</td><td>Böröcz Anikó</td><td>Búza Imre</td></tr><tr><td>imre</td><td>imre.búza@mail.hu</td><td>Búza Imre</td><td>1988</td><td>F</td><td>9181 Kimle, Petőfi Sándor tér 1.</td><td>Bucskó Róza</td><td>Czérna Krisztián</td></tr><tr><td>krisztian4</td><td>krisztián.czérna@mail.hu</td><td>Czérna Krisztián</td><td>1970</td><td>F</td><td>1107 Budapest, Dózsa György utca 37.</td><td>Búza Imre</td><td>Csiger Bertalan</td></tr><tr><td>bertalan</td><td>bertalan@gmail.com</td><td>Csiger Bertalan</td><td>1977</td><td>F</td><td>1192 Budapest, Fő út 169.</td><td>Czérna Krisztián</td><td>Csóti Attila</td></tr><tr><td>attila</td><td>attila@gmail.com</td><td>Csóti Attila</td><td>1979</td><td>F</td><td>3000 Hatvan, Bajcsy-Zsilinszky utca 4.</td><td>Csiger Bertalan</td><td>Dániel Tibor</td></tr><tr><td>tibor2</td><td>tibor2@gmail.com</td><td>Dániel Tibor</td><td>1985</td><td>F</td><td>6646 Tömörkény, Árpád utca 23.</td><td>Csóti Attila</td><td>Dunai Aladár</td></tr><tr><td>aladar</td><td>aladár.dunai@mail.hu</td><td>Dunai Aladár</td><td>1980</td><td>F</td><td>5931 Nagyszénás, Árpád utca 23.</td><td>Dániel Tibor</td><td>Dusha Tímea</td></tr><tr><td>timea2</td><td>tímea.dusha@mail.hu</td><td>Dusha Tímea</td><td>1975</td><td>N</td><td>5920 Csorvás, Kossuth utca 8.</td><td>Dunai Aladár</td><td>Endresz Bálint</td></tr><tr><td>balu</td><td>bálint.endresz@mail.hu</td><td>Endresz Bálint</td><td>1976</td><td>F</td><td>3973 Cigánd, Fő út 169.</td><td>Dusha Tímea</td><td>Enyedi Éva</td></tr><tr><td>eva</td><td>eva@gmail.com</td><td>Enyedi Éva</td><td>1967</td><td>N</td><td>4231 Bököny, Petőfi utca 8.</td><td>Endresz Bálint</td><td>Erdei András</td></tr><tr><td>ANDRASE</td><td>ANDRASE@gmail.com</td><td>Erdei András</td><td>1997</td><td>F</td><td>5071 Besenyszög, Szolnoki út 8.</td><td>Enyedi Éva</td><td>Érsek Eszter</td></tr><tr><td>ESZTERE</td><td>eszter.érsek@mail.hu</td><td>Érsek Eszter</td><td>1978</td><td>N</td><td>6785 Pusztamérges, Kossuth Lajos utca 6.</td><td>Erdei András</td><td>Farkas Béla</td></tr><tr><td>BELAF</td><td>BELAF@gmail.com</td><td>Farkas Béla</td><td>1995</td><td>F</td><td>5530 Vésztő, Petőfi Sándor utca 3.</td><td>Érsek Eszter</td><td>Farkas László</td></tr><tr><td>laszlo1</td><td>lászló.farkas@mail.hu</td><td>Farkas László</td><td>1967</td><td>F</td><td>5200 Törökszentmiklós, Rendeki utca 21.</td><td>Farkas Béla</td><td>Farkas Sándor</td></tr><tr><td>sandor3</td><td>sándor.farkas@mail.hu</td><td>Farkas Sándor</td><td>1989</td><td>F</td><td>8640 Fonyód, Tanácsköztársaság tér 1.</td><td>Farkas László</td><td>Farkas Sára</td></tr><tr><td>sara</td><td>sára.farkas@mail.hu</td><td>Farkas Sára</td><td>1973</td><td>N</td><td>5940 Tótkomlós, Felszabadulás utca 32.</td><td>Farkas Sándor</td><td>Fényes Tamás</td></tr><tr><td>TAMASF</td><td>TAMASF@gmail.com</td><td>Fényes Tamás</td><td>1997</td><td>F</td><td>9023 Győr, Arany János utca 1.</td><td>Farkas Sára</td><td>Ferencz Roland</td></tr><tr><td>roland1</td><td>roland.ferencz@mail.hu</td><td>Ferencz Roland</td><td>1985</td><td>F</td><td>2424 Előszállás, Fő út 169.</td><td>Fényes Tamás</td><td>Feró Valentin</td></tr><tr><td>valentin</td><td>valentin.feró@mail.hu</td><td>Feró Valentin</td><td>1986</td><td>F</td><td>3895 Gönc, Búvár utca 4.</td><td>Ferencz Roland</td><td>Fodor Zoltán</td></tr><tr><td>zoltan</td><td>zoltán.fodor@mail.hu</td><td>Fodor Zoltán</td><td>1979</td><td>F</td><td>3441 Mezőkeresztes, Fő utca 23.</td><td>Feró Valentin</td><td>Foltényi Sebastián</td></tr><tr><td>SEBASTIANF</td><td>SEBASTIANF@gmail.com</td><td>Foltényi Sebastián</td><td>1992</td><td>F</td><td>7960 Sellye, Grassalkovich út 10.</td><td>Fodor Zoltán</td><td>Fő Nándor</td></tr><tr><td>NANDORF</td><td>nándor.fő@mail.hu</td><td>Fő Nándor</td><td>1968</td><td>F</td><td>5920 Csorvás, Bécsi utca 82.</td><td>Foltényi Sebastián</td><td>Frank Fruzsina</td></tr><tr><td>fruzsina4</td><td>fruzsina4@gmail.com</td><td>Frank Fruzsina</td><td>1996</td><td>N</td><td>9700 Szombathely, Szabadság utca 95.</td><td>Fő Nándor</td><td>Fülöp Eszter</td></tr><tr><td>eszter4</td><td>eszter.fülöp@mail.hu</td><td>Fülöp Eszter</td><td>1993</td><td>N</td><td>3643 Dédestapolcsány, Kossuth Lajos utca 47/b.</td><td>Frank Fruzsina</td><td>Gergely József</td></tr><tr><td>jozsef</td><td>jozsef@gmail.com</td><td>Gergely József</td><td>1985</td><td>F</td><td>6050 Lajosmizse, Fő út 18.</td><td>Fülöp Eszter</td><td>Giliga János</td></tr><tr><td>JANOSG</td><td>JANOSG@gmail.com</td><td>Giliga János</td><td>1975</td><td>F</td><td>3300 Eger, Deák Ferenc út 5.</td><td>Gergely József</td><td>Gombos Tibor</td></tr><tr><td>tibor</td><td>tibor.gombos@mail.hu</td><td>Gombos Tibor</td><td>1993</td><td>F</td><td>7100 Szekszárd, Kossuth utca 77.</td><td>Giliga János</td><td>Gondos Katalin</td></tr><tr><td>kata</td><td>katalin.gondos@mail.hu</td><td>Gondos Katalin</td><td>1968</td><td>N</td><td>8237 Tihany, Kossuth Lajos utca 6.</td><td>Gombos Tibor</td><td>Gondos Miklós</td></tr><tr><td>miklos2</td><td>miklos2@gmail.com</td><td>Gondos Miklós</td><td>1995</td><td>F</td><td>2100 Gödöllő, Árpád utca 23.</td><td>Gondos Katalin</td><td>Gulyás Attila</td></tr><tr><td>attila1</td><td>attila.gulyás@mail.hu</td><td>Gulyás Attila</td><td>1982</td><td>F</td><td>3881 Abaújszántó, Szolnoki út 8.</td><td>Gondos Miklós</td><td>Gyárfás Krisztina</td></tr><tr><td>KRISZTINAG</td><td>KRISZTINAG@gmail.com</td><td>Gyárfás Krisztina</td><td>1987</td><td>N</td><td>6762 Sándorfalva, Arany János utca 1.</td><td>Gulyás Attila</td><td>Győrffy Bence</td></tr><tr><td>bence</td><td>bence@gmail.com</td><td>Győrffy Bence</td><td>1987</td><td>F</td><td>6900 Makó, Árpád utca 23.</td><td>Gyárfás Krisztina</td><td>Gyuris József</td></tr><tr><td>JOZSEFG</td><td>józsef.gyuris@mail.hu</td><td>Gyuris József</td><td>1975</td><td>F</td><td>2660 Balassagyarmat, Petőfi utca 1/2.</td><td>Győrffy Bence</td><td>Hamvay-Kovács Anita</td></tr><tr><td>anita</td><td>anita.hamvay-kovács@mail.hu</td><td>Hamvay-Kovács Anita</td><td>1971</td><td>N</td><td>7220 Sarkad, Táncsics utca 19.</td><td>Gyuris József</td><td>Harangozó János</td></tr><tr><td>janos3</td><td>janos3@gmail.com</td><td>Harangozó János</td><td>1967</td><td>F</td><td>8700 Marcali, Petőfi Sándor tér 1.</td><td>Hamvay-Kovács Anita</td><td>Hartyánszky Ágnes</td></tr><tr><td>agnes3</td><td>agnes3@gmail.com</td><td>Hartyánszky Ágnes</td><td>1967</td><td>N</td><td>6430 Bácsalmás, Posta köz 2.</td><td>Harangozó János</td><td>Hegedűs Norbert</td></tr><tr><td>norbert2</td><td>norbert.hegedűs@mail.hu</td><td>Hegedűs Norbert</td><td>1991</td><td>F</td><td>2081 Piliscsaba, Rendeki utca 21.</td><td>Hartyánszky Ágnes</td><td>Hídasi Judit</td></tr><tr><td>JUDITH</td><td>JUDITH@gmail.com</td><td>Hídasi Judit</td><td>1997</td><td>N</td><td>2100 Gödöllő, Fő út 169.</td><td>Hegedűs Norbert</td><td>Horváth Ágnes</td></tr><tr><td>AGNESH</td><td>AGNESH@gmail.com</td><td>Horváth Ágnes</td><td>1981</td><td>N</td><td>8200 Veszprém, Rákóczi utca 21.</td><td>Hídasi Judit</td><td>Horváth Árpád</td></tr><tr><td>ARPADH</td><td>árpád.horváth@mail.hu</td><td>Horváth Árpád</td><td>1990</td><td>F</td><td>7349 Szászvár, Dózsa György u. 1.</td><td>Horváth Ágnes</td><td>Horváth Bálint</td></tr><tr><td>balint</td><td>balint@gmail.com</td><td>Horváth Bálint</td><td>1996</td><td>F</td><td>6646 Tömörkény, Endrődi Sándor utca 47.</td><td>Horváth Árpád</td><td>Horváth Katalin</td></tr><tr><td>katalin</td><td>katalin.horváth@mail.hu</td><td>Horváth Katalin</td><td>1968</td><td>N</td><td>2424 Előszállás, Rákóczi út 200.</td><td>Horváth Bálint</td><td>Horváth Krisztina</td></tr><tr><td>kriszti</td><td>kriszti@gmail.com</td><td>Horváth Krisztina</td><td>1978</td><td>N</td><td>6060 Tiszakécske, Árpád utca 4.</td><td>Horváth Katalin</td><td>Horváth Márk</td></tr><tr><td>MARKH</td><td>márk.horváth@mail.hu</td><td>Horváth Márk</td><td>1997</td><td>F</td><td>4400 Nyíregyháza, Badacsonyi utca 12.</td><td>Horváth Krisztina</td><td>Horváth Nikolett</td></tr><tr><td>nikolett3</td><td>nikolett3@gmail.com</td><td>Horváth Nikolett</td><td>1981</td><td>N</td><td>1072 Budapest, Arany János utca 1.</td><td>Horváth Márk</td><td>Iván Róbert</td></tr><tr><td>ROBERTI</td><td>róbert.iván@mail.hu</td><td>Iván Róbert</td><td>1967</td><td>F</td><td>2377 Örkény, Petőfi Sándor utca 3.</td><td>Horváth Nikolett</td><td>Jakab Áron</td></tr><tr><td>aron2</td><td>aron2@gmail.com</td><td>Jakab Áron</td><td>1971</td><td>F</td><td>7133 Fadd, Bajcsy-Zsilinszky utca 4.</td><td>Iván Róbert</td><td>Józsa Zsolt</td></tr><tr><td>ZSOLTJ</td><td>ZSOLTJ@gmail.com</td><td>Józsa Zsolt</td><td>1983</td><td>F</td><td>8315 Gyenesdiás, Bajcsy-Zsilinszky utca 4.</td><td>Jakab Áron</td><td>Juhász Mihály</td></tr><tr><td>MIHALYJ</td><td>mihály.juhász@mail.hu</td><td>Juhász Mihály</td><td>1979</td><td>F</td><td>6786 Ruzsa, Rákóczi utca 1.</td><td>Józsa Zsolt</td><td>Kalacsi Márton</td></tr><tr><td>marton</td><td>marton@gmail.com</td><td>Kalacsi Márton</td><td>1989</td><td>F</td><td>5137 Jászkisér, Fő út 169.</td><td>Juhász Mihály</td><td>Karasz Sándor</td></tr><tr><td>sandor</td><td>sandor@gmail.com</td><td>Karasz Sándor</td><td>1970</td><td>F</td><td>8283 Káptalantóti, Kossuth Lajos utca 1/a.</td><td>Kalacsi Márton</td><td>Kardos Renáta</td></tr><tr><td>RENATAK</td><td>renáta.kardos@mail.hu</td><td>Kardos Renáta</td><td>1988</td><td>N</td><td>7086 Ozora, Bécsi utca 82.</td><td>Karasz Sándor</td><td>Kazy Tihamér</td></tr><tr><td>tihamer</td><td>tihamér.kazy@mail.hu</td><td>Kazy Tihamér</td><td>1991</td><td>F</td><td>2370 Dabas, Fő utca 60.</td><td>Kardos Renáta</td><td>Kelemen Áron</td></tr><tr><td>ARONK</td><td>áron.kelemen@mail.hu</td><td>Kelemen Áron</td><td>1989</td><td>F</td><td>8200 Veszprém, Petőfi utca 8.</td><td>Kazy Tihamér</td><td>Kerényi Beatrix</td></tr><tr><td>BEATRIXK</td><td>beatrix.kerényi@mail.hu</td><td>Kerényi Beatrix</td><td>1972</td><td>N</td><td>7396 Magyarszék, Kossuth Lajos utca 47/b.</td><td>Kelemen Áron</td><td>Keresztúri Viktor</td></tr><tr><td>VIKTORK</td><td>viktor.keresztúri@mail.hu</td><td>Keresztúri Viktor</td><td>1989</td><td>F</td><td>2532 Tokodaltáró, Nagy Lajos tér 4.</td><td>Kerényi Beatrix</td><td>Kertész Katalin</td></tr><tr><td>katalin4</td><td>katalin4@gmail.com</td><td>Kertész Katalin</td><td>1986</td><td>N</td><td>2800 Tatabánya, Búvár utca 4.</td><td>Keresztúri Viktor</td><td>Keszler Dániel</td></tr><tr><td>daniel1</td><td>dániel.keszler@mail.hu</td><td>Keszler Dániel</td><td>1969</td><td>F</td><td>3580 Tiszaújváros, Kossuth Lajos utca 6.</td><td>Kertész Katalin</td><td>Kispál Márk</td></tr><tr><td>mark</td><td>márk.kispál@mail.hu</td><td>Kispál Márk</td><td>1996</td><td>F</td><td>1086 Budapest, Juhászföldi út 1.</td><td>Keszler Dániel</td><td>Kiss Ádám</td></tr><tr><td>adam1</td><td>ádám.kiss@mail.hu</td><td>Kiss Ádám</td><td>1991</td><td>F</td><td>5630 Békés, Szolnoki út 8.</td><td>Kispál Márk</td><td>Kiss Andrea</td></tr><tr><td>andrea</td><td>andrea.kiss@mail.hu</td><td>Kiss Andrea</td><td>1993</td><td>N</td><td>1113 Budapest, Petőfi Sándor utca 87.</td><td>Kiss Ádám</td><td>Kiss Anita</td></tr><tr><td>kanita12</td><td>anita.kiss12@gmail.com</td><td>Kiss Anita</td><td>1975</td><td>N</td><td>2230 Gyömrő Fő tér 3.</td><td>Kiss Andrea</td><td>Kiss Lajos</td></tr><tr><td>lajos</td><td>lajos.kiss@mail.hu</td><td>Kiss Lajos</td><td>1978</td><td>F</td><td>1077 Budapest, Dob utca 1</td><td>Kiss Anita</td><td>Komjáti András</td></tr><tr><td>andras41</td><td>andras41@gmail.com</td><td>Komjáti András</td><td>1997</td><td>F</td><td>5065 Nagykörű, Kossuth út 24.</td><td>Kiss Lajos</td><td>Kornseé Gyöngyi</td></tr><tr><td>GYONGYIK</td><td>gyöngyi.kornseé@mail.hu</td><td>Kornseé Gyöngyi</td><td>1974</td><td>N</td><td>8800 Nagykanizsa, Fő út 60.</td><td>Komjáti András</td><td>Kovács Ágnes</td></tr><tr><td>AGNESK</td><td>AGNESK@gmail.com</td><td>Kovács Ágnes</td><td>1988</td><td>N</td><td>1084 Budapest, Endrődi Sándor utca 47.</td><td>Kornseé Gyöngyi</td><td>Kovács Bernadett</td></tr><tr><td>bernadett2</td><td>bernadett.kovács@mail.hu</td><td>Kovács Bernadett</td><td>1996</td><td>N</td><td>4200 Hajdúszoboszló, Fő út 122.</td><td>Kovács Ágnes</td><td>Kovács Katalin</td></tr><tr><td>katka</td><td>katalin.kovács@mail.hu</td><td>Kovács Katalin</td><td>1975</td><td>N</td><td>8254 Kővágóörs, Petőfi utca 22.</td><td>Kovács Bernadett</td><td>Koza Máté</td></tr><tr><td>MATEK</td><td>máté.koza@mail.hu</td><td>Koza Máté</td><td>1997</td><td>F</td><td>1011 Budapest, Központi telep 3.</td><td>Kovács Katalin</td><td>Kozma Péter</td></tr><tr><td>peter1</td><td>peter1@gmail.com</td><td>Kozma Péter</td><td>1976</td><td>F</td><td>6913 Csanádpalota, Központi telep 3.</td><td>Koza Máté</td><td>Kő Nikoletta</td></tr><tr><td>nikoletta4</td><td>nikoletta4@gmail.com</td><td>Kő Nikoletta</td><td>1972</td><td>N</td><td>5537 Zsadány, Fő út 18.</td><td>Kozma Péter</td><td>Köves Gábor</td></tr><tr><td>gabor1</td><td>gabor1@gmail.com</td><td>Köves Gábor</td><td>1973</td><td>F</td><td>6762 Sándorfalva, Árpád utca 23.</td><td>Kő Nikoletta</td><td>Kuruc Emese</td></tr><tr><td>emese</td><td>emese.kuruc@mail.hu</td><td>Kuruc Emese</td><td>1989</td><td>N</td><td>6700 Szeged, Rákóczi utca 67.</td><td>Köves Gábor</td><td>Lengyel Ágnes</td></tr><tr><td>agnes</td><td>agnes@gmail.com</td><td>Lengyel Ágnes</td><td>1979</td><td>N</td><td>5200 Törökszentmiklós, Deák Ferenc út 5.</td><td>Kuruc Emese</td><td>Lukács Kornél</td></tr><tr><td>kornel4</td><td>kornél.lukács@mail.hu</td><td>Lukács Kornél</td><td>1975</td><td>F</td><td>2053 Herceghalom, Bécsi utca 82.</td><td>Lengyel Ágnes</td><td>Maródi Andrea</td></tr><tr><td>andi</td><td>andrea.maródi@mail.hu</td><td>Maródi Andrea</td><td>1968</td><td>N</td><td>5465 Cserkeszőlő, Árpád utca 4.</td><td>Lukács Kornél</td><td>Miklós Szabolcs</td></tr><tr><td>SZABOLCSM</td><td>szabolcs.miklós@mail.hu</td><td>Miklós Szabolcs</td><td>1980</td><td>F</td><td>1102 Budapest, Fő út 169.</td><td>Maródi Andrea</td><td>Miklós Tamara</td></tr><tr><td>tamara2</td><td>tamara.miklós@mail.hu</td><td>Miklós Tamara</td><td>1980</td><td>N</td><td>3910 Tokaj, Kossuth út 39.</td><td>Miklós Szabolcs</td><td>Mile Norbert</td></tr><tr><td>norbert4</td><td>norbert4@gmail.com</td><td>Mile Norbert</td><td>1983</td><td>F</td><td>3973 Cigánd, Bajcsy-Zsilinszky utca 4.</td><td>Miklós Tamara</td><td>Mogyródi Krisztián</td></tr><tr><td>KRISZTIANM</td><td>KRISZTIANM@gmail.com</td><td>Mogyródi Krisztián</td><td>1968</td><td>F</td><td>9155 Lébény, Jászai tér 21.</td><td>Mile Norbert</td><td>Mohos Mónika</td></tr><tr><td>MONIKAM</td><td>mónika.mohos@mail.hu</td><td>Mohos Mónika</td><td>1974</td><td>N</td><td>2241 Sülysáp, Baracsi László utca 14.</td><td>Mogyródi Krisztián</td><td>Molnár András</td></tr><tr><td>andras21</td><td>andrás.molnár@mail.hu</td><td>Molnár András</td><td>1977</td><td>F</td><td>7900 Szigetvár, Rákóczi utca 67.</td><td>Mohos Mónika</td><td>Molnár Bálint</td></tr><tr><td>balint1</td><td>balint1@gmail.com</td><td>Molnár Bálint</td><td>1989</td><td>F</td><td>9181 Kimle, Fő út 169.</td><td>Molnár András</td><td>Molnár Eszter</td></tr><tr><td>eszter</td><td>eszter.molnár@mail.hu</td><td>Molnár Eszter</td><td>1987</td><td>N</td><td>6800 Hódmezővásárhely, Fő út 77.</td><td>Molnár Bálint</td><td>Molnár Zsófi</td></tr><tr><td>zsofi1</td><td>zsofi1@gmail.com</td><td>Molnár Zsófi</td><td>1983</td><td>N</td><td>2730 Albertirsa, Árpád utca 23.</td><td>Molnár Eszter</td><td>Mór Ottó</td></tr><tr><td>desdemona</td><td>mor.otto@mail.hu</td><td>Mór Ottó</td><td>1968</td><td>F</td><td>9200 Mosonmagyaróvár Fő u. 12.</td><td>Molnár Zsófi</td><td>Móra László</td></tr><tr><td>laszlo2</td><td>lászló.móra@mail.hu</td><td>Móra László</td><td>1975</td><td>F</td><td>9970 Szentgotthárd, Petőfi utca 1/2.</td><td>Mór Ottó</td><td>Móricz Árpád</td></tr><tr><td>ARPADM</td><td>árpád.móricz@mail.hu</td><td>Móricz Árpád</td><td>1986</td><td>F</td><td>3910 Tokaj, Rákóczi utca 67.</td><td>Móra László</td><td>Nádudvari Henrik</td></tr><tr><td>henrik3</td><td>henrik.nádudvari@mail.hu</td><td>Nádudvari Henrik</td><td>1986</td><td>F</td><td>1077 Budapest, Tanácsköztársaság tér 1.</td><td>Móricz Árpád</td><td>Nagy András</td></tr><tr><td>ANDRASN</td><td>andrás.nagy@mail.hu</td><td>Nagy András</td><td>1980</td><td>F</td><td>6500 Baja, Fő út 169.</td><td>Nádudvari Henrik</td><td>Nagy Gabriella</td></tr><tr><td>gabriella1</td><td>gabriella1@gmail.com</td><td>Nagy Gabriella</td><td>1982</td><td>N</td><td>1077 Budapest, Dob utca 1</td><td>Nagy András</td><td>Nagy Júlia</td></tr><tr><td>julia4</td><td>julia4@gmail.com</td><td>Nagy Júlia</td><td>1985</td><td>N</td><td>7000 Sárbogárd, Jászai tér 21.</td><td>Nagy Gabriella</td><td>Nagy László</td></tr><tr><td>LASZLON</td><td>lászló.nagy@mail.hu</td><td>Nagy László</td><td>1969</td><td>F</td><td>1173 Budapest, Jászai tér 21.</td><td>Nagy Júlia</td><td>Nagy Péter</td></tr><tr><td>melissza</td><td>nagy_peter@indamail.hu</td><td>Nagy Péter</td><td>1998</td><td>F</td><td>6800 Hódmezővásárhely, Oldalkosát u. 1.</td><td>Nagy László</td><td>Nagy Sándor</td></tr><tr><td>sandor4</td><td>sandor4@gmail.com</td><td>Nagy Sándor</td><td>1997</td><td>F</td><td>4600 Kisvárda, Fő utca 47.</td><td>Nagy Péter</td><td>Nagymihály Csongor</td></tr><tr><td>csongor3</td><td>csongor.nagymihály@mail.hu</td><td>Nagymihály Csongor</td><td>1984</td><td>F</td><td>9181 Kimle, Deák Ferenc út 5.</td><td>Nagy Sándor</td><td>Nagymihály Lajos</td></tr><tr><td>lala</td><td>lajos.nagymihály@mail.hu</td><td>Nagymihály Lajos</td><td>1997</td><td>F</td><td>8638 Balatonlelle, Rákóczi út 200.</td><td>Nagymihály Csongor</td><td>Neizer Andrea</td></tr><tr><td>andrea4</td><td>andrea4@gmail.com</td><td>Neizer Andrea</td><td>1981</td><td>N</td><td>1124 Budapest, Kiss u. 8.</td><td>Nagymihály Lajos</td><td>Nyíri Georgij</td></tr><tr><td>georgij</td><td>georgij.nyíri@mail.hu</td><td>Nyíri Georgij</td><td>1983</td><td>F</td><td>8391 Sármellék, Grassalkovich út 10.</td><td>Neizer Andrea</td><td>Opra Attila</td></tr><tr><td>ATTILAO</td><td>ATTILAO@gmail.com</td><td>Opra Attila</td><td>1995</td><td>F</td><td>8283 Káptalantóti, Rákóczi út 200.</td><td>Nyíri Georgij</td><td>Orbán Bernadett</td></tr><tr><td>BERNADETTO</td><td>bernadett.orbán@mail.hu</td><td>Orbán Bernadett</td><td>1987</td><td>N</td><td>5085 Rákóczifalva, Arany János utca 1.</td><td>Opra Attila</td><td>Orosz Ferenc</td></tr><tr><td>ferenc1</td><td>ferenc.orosz@mail.hu</td><td>Orosz Ferenc</td><td>1983</td><td>F</td><td>5061 Tiszasüly, Arany János utca 3.</td><td>Orbán Bernadett</td><td>Oroszi György</td></tr><tr><td>GYORGYO</td><td>GYORGYO@gmail.com</td><td>Oroszi György</td><td>1980</td><td>F</td><td>7220 Sarkad, Dózsa György u. 1.</td><td>Orosz Ferenc</td><td>Ötvös Árpád</td></tr><tr><td>arpad2</td><td>árpád.ötvös@mail.hu</td><td>Ötvös Árpád</td><td>1990</td><td>F</td><td>2600 Vác, Padragi út 158.</td><td>Oroszi György</td><td>Palágyi Polla</td></tr><tr><td>polla</td><td>polla@gmail.com</td><td>Palágyi Polla</td><td>1994</td><td>N</td><td>2484 Agárd, Fő út 18.</td><td>Ötvös Árpád</td><td>Pálinkás János</td></tr><tr><td>JANOSP</td><td>JANOSP@gmail.com</td><td>Pálinkás János</td><td>1984</td><td>F</td><td>5920 Csorvás, Padragi út 158.</td><td>Palágyi Polla</td><td>Papós Tímea</td></tr><tr><td>timea</td><td>timea@gmail.com</td><td>Papós Tímea</td><td>1996</td><td>N</td><td>1035 Budapest,  Kossuth út 77.</td><td>Pálinkás János</td><td>Papp Imre</td></tr><tr><td>imre1</td><td>imre.papp@mail.hu</td><td>Papp Imre</td><td>1976</td><td>F</td><td>1077 Budapest, Szolnoki út 8.</td><td>Papós Tímea</td><td>Pásztor Róbert</td></tr><tr><td>ROBERTP</td><td>ROBERTP@gmail.com</td><td>Pásztor Róbert</td><td>1972</td><td>F</td><td>5137 Jászkisér, Ady Endre út 27.</td><td>Papp Imre</td><td>Pataki Brigitta</td></tr><tr><td>brigitta3</td><td>brigitta.pataki@mail.hu</td><td>Pataki Brigitta</td><td>1991</td><td>N</td><td>2730 Albertirsa, Rendeki utca 21.</td><td>Pásztor Róbert</td><td>Patay Róbert</td></tr><tr><td>robert2</td><td>robert2@gmail.com</td><td>Patay Róbert</td><td>1977</td><td>F</td><td>2370 Dabas, Rákóczi utca 21.</td><td>Pataki Brigitta</td><td>Perlinger Éva</td></tr><tr><td>eva2</td><td>eva2@gmail.com</td><td>Perlinger Éva</td><td>1971</td><td>N</td><td>9653 Répcelak, Bécsi utca 82.</td><td>Patay Róbert</td><td>Pintér Zoltán</td></tr><tr><td>ZOLTANP</td><td>zoltán.pintér@mail.hu</td><td>Pintér Zoltán</td><td>1977</td><td>F</td><td>6050 Lajosmizse, Fő út 18.</td><td>Perlinger Éva</td><td>Pivarcsi Anett</td></tr><tr><td>anett3</td><td>anett.pivarcsi@mail.hu</td><td>Pivarcsi Anett</td><td>1967</td><td>N</td><td>1149 Budapest, Fő út 60.</td><td>Pintér Zoltán</td><td>Poprádi Kristóf</td></tr><tr><td>kristof4</td><td>kristof4@gmail.com</td><td>Poprádi Kristóf</td><td>1984</td><td>F</td><td>8220 Balatonalmádi, Mészáros utca 7.</td><td>Pivarcsi Anett</td><td>Pulai Zsolt</td></tr><tr><td>zsolt1</td><td>zsolt.pulai@mail.hu</td><td>Pulai Zsolt</td><td>1988</td><td>F</td><td>8391 Sármellék, Fő utca 60.</td><td>Poprádi Kristóf</td><td>Pusztai Zsuzsanna</td></tr><tr><td>zsuzsa</td><td>zsuzsanna@gmail.com</td><td>Pusztai Zsuzsanna</td><td>1980</td><td>N</td><td>6783 Ásotthalom, Badacsonyi utca 12.</td><td>Pulai Zsolt</td><td>Rab Sebestyén</td></tr><tr><td>sebestyen</td><td>sebestyen@gmail.com</td><td>Rab Sebestyén</td><td>1992</td><td>F</td><td>7130 Tolna, Központi telep 3.</td><td>Pusztai Zsuzsanna</td><td>Rácz Dániel</td></tr><tr><td>daniel</td><td>dániel.rácz@mail.hu</td><td>Rácz Dániel</td><td>1978</td><td>F</td><td>9181 Kimle, Szabadság tér 9.</td><td>Rab Sebestyén</td><td>Rácz Rajmond</td></tr><tr><td>rajmond4</td><td>rajmond.rácz@mail.hu</td><td>Rácz Rajmond</td><td>1993</td><td>F</td><td>9155 Lébény, Petőfi utca 1/2.</td><td>Rácz Dániel</td><td>Regős Annamária</td></tr><tr><td>ANNAMARIAR</td><td>ANNAMARIAR@gmail.com</td><td>Regős Annamária</td><td>1977</td><td>N</td><td>8283 Káptalantóti, Petőfi Sándor tér 1.</td><td>Rácz Rajmond</td><td>Sarodi Dóra</td></tr><tr><td>dora3</td><td>dóra.sarodi@mail.hu</td><td>Sarodi Dóra</td><td>1995</td><td>N</td><td>2855 Bokod, Fő út 18.</td><td>Regős Annamária</td><td>Simon Anikó</td></tr><tr><td>ANIKOS</td><td>ANIKOS@gmail.com</td><td>Simon Anikó</td><td>1988</td><td>N</td><td>5137 Jászkisér, Bécsi utca 82.</td><td>Sarodi Dóra</td><td>Simon Bernadett</td></tr><tr><td>bernadett1</td><td>bernadett1@gmail.com</td><td>Simon Bernadett</td><td>1984</td><td>N</td><td>2300 Ráckeve, Fő utca 108.</td><td>Simon Anikó</td><td>Sobják Dávid</td></tr><tr><td>david1</td><td>david1@gmail.com</td><td>Sobják Dávid</td><td>1970</td><td>F</td><td>5083 Kengyel, Arany János utca 3.</td><td>Simon Bernadett</td><td>Soós István</td></tr><tr><td>istvan</td><td>istvan@gmail.com</td><td>Soós István</td><td>1986</td><td>F</td><td>2370 Dabas, Kossuth utca 27.</td><td>Sobják Dávid</td><td>Szabó Julianna</td></tr><tr><td>julianna4</td><td>julianna4@gmail.com</td><td>Szabó Julianna</td><td>1990</td><td>N</td><td>6700 Szeged, Kossuth Lajos utca 6.</td><td>Soós István</td><td>Szalai Péter</td></tr><tr><td>peter3</td><td>peter3@gmail.com</td><td>Szalai Péter</td><td>1983</td><td>F</td><td>1155 Budapest, Arany János utca 3.</td><td>Szabó Julianna</td><td>Szalai Szilárd</td></tr><tr><td>SZILARDS</td><td>szilárd.szalai@mail.hu</td><td>Szalai Szilárd</td><td>1967</td><td>F</td><td>1077 Budapest, Fő út 18.</td><td>Szalai Péter</td><td>Szedlár Krisztina</td></tr><tr><td>krisztina</td><td>krisztina@gmail.com</td><td>Szedlár Krisztina</td><td>1979</td><td>N</td><td>6646 Tömörkény, Arany János utca 1.</td><td>Szalai Szilárd</td><td>Székely Brigitta</td></tr><tr><td>brigitta</td><td>brigitta.székely@mail.hu</td><td>Székely Brigitta</td><td>1978</td><td>N</td><td>2462 Martonvásár, Fő utca 47.</td><td>Szedlár Krisztina</td><td>Szekendi Beatrix</td></tr><tr><td>BEATRIXS</td><td>beatrix.szekendi@mail.hu</td><td>Szekendi Beatrix</td><td>1981</td><td>N</td><td>4060 Balmazújváros, Jászai tér 21.</td><td>Székely Brigitta</td><td>Szikszai Réka</td></tr><tr><td>reka4</td><td>réka.szikszai@mail.hu</td><td>Szikszai Réka</td><td>1969</td><td>N</td><td>8254 Kővágóörs, Templom utca 73.</td><td>Szekendi Beatrix</td><td>Szilágyi Mátyás</td></tr><tr><td>MATYASS</td><td>mátyás.szilágyi@mail.hu</td><td>Szilágyi Mátyás</td><td>1975</td><td>F</td><td>9023 Győr, Kossuth Lajos utca 6.</td><td>Szikszai Réka</td><td>Szirmai Renáta</td></tr><tr><td>RENATAS</td><td>RENATAS@gmail.com</td><td>Szirmai Renáta</td><td>1991</td><td>N</td><td>2053 Herceghalom, Kossuth utca 27.</td><td>Szilágyi Mátyás</td><td>Szomor Andrea</td></tr><tr><td>andrea3</td><td>andrea3@gmail.com</td><td>Szomor Andrea</td><td>1996</td><td>N</td><td>7960 Sellye, Bécsi utca 82.</td><td>Szirmai Renáta</td><td>Szöllősi Gábor</td></tr><tr><td>GABORS</td><td>GABORS@gmail.com</td><td>Szöllősi Gábor</td><td>1990</td><td>F</td><td>3630 Putnok, Kossuth utca 27.</td><td>Szomor Andrea</td><td>Szűcs Annamária</td></tr><tr><td>annamaria1</td><td>annamária.szűcs@mail.hu</td><td>Szűcs Annamária</td><td>1990</td><td>N</td><td>1191 Budapest, Rendeki utca 21.</td><td>Szöllősi Gábor</td><td>Szűcs Balázs</td></tr><tr><td>balazs2</td><td>balázs.szűcs@mail.hu</td><td>Szűcs Balázs</td><td>1984</td><td>F</td><td>3170 Szécsény, Szabadság utca 95.</td><td>Szűcs Annamária</td><td>Szűcs Norbert</td></tr><tr><td>norbert</td><td>norbert@gmail.com</td><td>Szűcs Norbert</td><td>1969</td><td>F</td><td>5071 Besenyszög, Győri utca 12.</td><td>Szűcs Balázs</td><td>Tankó Veronika</td></tr><tr><td>veronika4</td><td>veronika4@gmail.com</td><td>Tankó Veronika</td><td>1983</td><td>N</td><td>6412 Balotaszállás, Rendeki utca 21.</td><td>Szűcs Norbert</td><td>Tari Szilvia</td></tr><tr><td>szilvia1</td><td>szilvia.tari@mail.hu</td><td>Tari Szilvia</td><td>1971</td><td>N</td><td>6080 Szabadszállás, Bécsi utca 82.</td><td>Tankó Veronika</td><td>Tatár Nikoletta</td></tr><tr><td>NIKOLETTAT</td><td>nikoletta.tatár@mail.hu</td><td>Tatár Nikoletta</td><td>1997</td><td>N</td><td>1067 Budapest, Győri utca 12.</td><td>Tari Szilvia</td><td>Telek Gábor</td></tr><tr><td>gabor4</td><td>gábor.telek@mail.hu</td><td>Telek Gábor</td><td>1987</td><td>F</td><td>9071 Görbeháza, Fő út 169.</td><td>Tatár Nikoletta</td><td>Tornyos Andrea</td></tr><tr><td>ANDREAT</td><td>ANDREAT@gmail.com</td><td>Tornyos Andrea</td><td>1986</td><td>N</td><td>6131 Szank, Bécsi utca 82.</td><td>Telek Gábor</td><td>Tóth András</td></tr><tr><td>andras2</td><td>andrás.tóth@mail.hu</td><td>Tóth András</td><td>1997</td><td>F</td><td>4071 Egyek, Petőfi utca 30.</td><td>Tornyos Andrea</td><td>Tóth Anikó</td></tr><tr><td>aniko</td><td>aniko@gmail.com</td><td>Tóth Anikó</td><td>1973</td><td>N</td><td>2085 Pilisvörösvár, Deák Ferenc út 5.</td><td>Tóth András</td><td>Tóth Júlia</td></tr><tr><td>julia</td><td>julia@gmail.com</td><td>Tóth Júlia</td><td>1993</td><td>N</td><td>5310 Kisújszállás, Árpád utca 4.</td><td>Tóth Anikó</td><td>Tóth Roland</td></tr><tr><td>roland</td><td>roland@gmail.com</td><td>Tóth Roland</td><td>1968</td><td>F</td><td>2000 Szentendre, Fő út 169.</td><td>Tóth Júlia</td><td>Tóth Zoltán</td></tr><tr><td>ZOLTANT</td><td>zoltán.tóth@mail.hu</td><td>Tóth Zoltán</td><td>1985</td><td>F</td><td>4244 Újfehértó, Posta köz 2.</td><td>Tóth Roland</td><td>Tömböly Dénes</td></tr><tr><td>denes</td><td>denes@gmail.com</td><td>Tömböly Dénes</td><td>1975</td><td>F</td><td>2400 Dunaújváros, Kossuth út 39.</td><td>Tóth Zoltán</td><td>Turcsik Tünde</td></tr><tr><td>tunde</td><td>tunde@gmail.com</td><td>Turcsik Tünde</td><td>1974</td><td>N</td><td>7130 Tolna, Fő út 122.</td><td>Tömböly Dénes</td><td>Urbán Viktoria</td></tr><tr><td>VIKTORIAU</td><td>viktoria.urbán@mail.hu</td><td>Urbán Viktoria</td><td>1996</td><td>N</td><td>3860 Encs, Népboltsor  2.</td><td>Turcsik Tünde</td><td>Vajda József</td></tr><tr><td>jozsef2</td><td>józsef.vajda@mail.hu</td><td>Vajda József</td><td>1978</td><td>F</td><td>6700 Szeged, Baracsi László utca 14.</td><td>Urbán Viktoria</td><td>Vajda Zsuzsa</td></tr><tr><td>ZSUZSAV</td><td>zsuzsa.vajda@mail.hu</td><td>Vajda Zsuzsa</td><td>1976</td><td>N</td><td>6786 Ruzsa, Kossuth utca 77.</td><td>Vajda József</td><td>Varga István</td></tr><tr><td>ISTVANV</td><td>ISTVANV@gmail.com</td><td>Varga István</td><td>1989</td><td>F</td><td>6320 Solt, Hősök tere 11.</td><td>Vajda Zsuzsa</td><td>Varsányi Zsuzsa</td></tr><tr><td>zsuzsa3</td><td>zsuzsa.varsányi@mail.hu</td><td>Varsányi Zsuzsa</td><td>1979</td><td>N</td><td>8600 Siófok, Árpád utca 4.</td><td>Varga István</td><td>Vida Gabriella</td></tr><tr><td>gabriella10</td><td>gabriella10@gmail.com</td><td>Vida Gabriella</td><td>1969</td><td>N</td><td>2484 Agárd, Arany János utca 3.</td><td>Varsányi Zsuzsa</td><td>Vígh András</td></tr><tr><td>andras3</td><td>andrás.vígh@mail.hu</td><td>Vígh András</td><td>1971</td><td>F</td><td>1118 Budapest, Arany János utca 1.</td><td>Vida Gabriella</td><td>Viktor Éva</td></tr><tr><td>EVAV</td><td>EVAV@gmail.com</td><td>Viktor Éva</td><td>1980</td><td>N</td><td>6913 Csanádpalota, Arany János utca 3.</td><td>Vígh András</td><td>Vizi István</td></tr><tr><td>istvan1</td><td>istván.vizi@mail.hu</td><td>Vizi István</td><td>1997</td><td>F</td><td>7086 Ozora, Rákóczi utca 1.</td><td>Viktor Éva</td><td>Vörös Dániel</td></tr><tr><td>dani</td><td>daniel@gmail.com</td><td>Vörös Dániel</td><td>1986</td><td>F</td><td>7150 Bonyhád, Dózsa György u. 1.</td><td>Vizi István</td><td>Vukasinovity Bálint</td></tr><tr><td>balint2</td><td>balint2@gmail.com</td><td>Vukasinovity Bálint</td><td>1997</td><td>F</td><td>2330 Dunaharaszti, Béke utca 7.</td><td>Vörös Dániel</td><td>Zatykó Katalin</td></tr><tr><td>kati</td><td>katalin.zatykó@mail.hu</td><td>Zatykó Katalin</td><td>1995</td><td>N</td><td>7511 Ötvöskónyi, Kossuth Lajos utca 6.</td><td>Vukasinovity Bálint</td><td>Nincs</td></tr></table>"
                    },
                    "metadata": {}
                }
            ],
            "execution_count": 18
        },
        {
            "cell_type": "markdown",
            "source": [
                "7. <span style=\"font-weight: 600; color: rgb(36, 41, 47); font-family: -apple-system, BlinkMacSystemFont, &quot;Segoe UI&quot;, Helvetica, Arial, sans-serif, &quot;Apple Color Emoji&quot;, &quot;Segoe UI Emoji&quot;; font-size: 16px;\">Készítsünk lekérdezést, amely megmutatja, hogy melyik termékkategóriába hány termék tartozik. A lista a kategória nevét és a darabszámot jelenítse meg.</span>\n",
                "\n",
                "1. A lista ne tartalmazzon duplikált sorokat.\n",
                "2. A feladatot partíciók segítségével oldjuk meg!"
            ],
            "metadata": {
                "azdata_cell_guid": "7ebf7ddd-1bd2-4246-815a-be8ae37e3b5b"
            },
            "attachments": {}
        },
        {
            "cell_type": "code",
            "source": [
                "SELECT DISTINCT tk.KAT_NEV,\r\n",
                "                COUNT(*) OVER (PARTITION BY tk.KAT_NEV)\r\n",
                "FROM Termek t JOIN Termekkategoria tk ON t.KAT_ID=tk.KAT_ID HZVIB"
            ],
            "metadata": {
                "azdata_cell_guid": "84b7e896-f36e-4985-88f5-e0f706494fef",
                "language": "sql"
            },
            "outputs": [
                {
                    "output_type": "display_data",
                    "data": {
                        "text/html": "(143 rows affected)"
                    },
                    "metadata": {}
                },
                {
                    "output_type": "display_data",
                    "data": {
                        "text/html": "Total execution time: 00:00:00.016"
                    },
                    "metadata": {}
                },
                {
                    "output_type": "execute_result",
                    "execution_count": 14,
                    "data": {
                        "application/vnd.dataresource+json": {
                            "schema": {
                                "fields": [
                                    {
                                        "name": "KAT_NEV"
                                    },
                                    {
                                        "name": "(No column name)"
                                    }
                                ]
                            },
                            "data": [
                                {
                                    "KAT_NEV": "ajándék tárgy",
                                    "(No column name)": "3"
                                },
                                {
                                    "KAT_NEV": "ajándék tasak",
                                    "(No column name)": "20"
                                },
                                {
                                    "KAT_NEV": "álarc",
                                    "(No column name)": "3"
                                },
                                {
                                    "KAT_NEV": "alkalmi",
                                    "(No column name)": "3"
                                },
                                {
                                    "KAT_NEV": "alufólia",
                                    "(No column name)": "2"
                                },
                                {
                                    "KAT_NEV": "árazószalag",
                                    "(No column name)": "1"
                                },
                                {
                                    "KAT_NEV": "átírótömb",
                                    "(No column name)": "1"
                                },
                                {
                                    "KAT_NEV": "beíró",
                                    "(No column name)": "1"
                                },
                                {
                                    "KAT_NEV": "beírókönyv",
                                    "(No column name)": "2"
                                },
                                {
                                    "KAT_NEV": "bélyegző",
                                    "(No column name)": "4"
                                },
                                {
                                    "KAT_NEV": "bélyegzőfesték",
                                    "(No column name)": "1"
                                },
                                {
                                    "KAT_NEV": "boríték",
                                    "(No column name)": "7"
                                },
                                {
                                    "KAT_NEV": "cd tok",
                                    "(No column name)": "1"
                                },
                                {
                                    "KAT_NEV": "celofán",
                                    "(No column name)": "2"
                                },
                                {
                                    "KAT_NEV": "ceruza",
                                    "(No column name)": "19"
                                },
                                {
                                    "KAT_NEV": "címke",
                                    "(No column name)": "3"
                                },
                                {
                                    "KAT_NEV": "color copy",
                                    "(No column name)": "5"
                                },
                                {
                                    "KAT_NEV": "csomagoló",
                                    "(No column name)": "2"
                                },
                                {
                                    "KAT_NEV": "csomagoló papír",
                                    "(No column name)": "7"
                                },
                                {
                                    "KAT_NEV": "dekor",
                                    "(No column name)": "4"
                                },
                                {
                                    "KAT_NEV": "dipa",
                                    "(No column name)": "1"
                                },
                                {
                                    "KAT_NEV": "díszdoboz",
                                    "(No column name)": "3"
                                },
                                {
                                    "KAT_NEV": "díszkötöző",
                                    "(No column name)": "5"
                                },
                                {
                                    "KAT_NEV": "dvd",
                                    "(No column name)": "1"
                                },
                                {
                                    "KAT_NEV": "ecset",
                                    "(No column name)": "7"
                                },
                                {
                                    "KAT_NEV": "előlap",
                                    "(No column name)": "1"
                                },
                                {
                                    "KAT_NEV": "emlékkönyv",
                                    "(No column name)": "3"
                                },
                                {
                                    "KAT_NEV": "emléklap",
                                    "(No column name)": "1"
                                },
                                {
                                    "KAT_NEV": "fax papír",
                                    "(No column name)": "1"
                                },
                                {
                                    "KAT_NEV": "fehérnemű",
                                    "(No column name)": "7"
                                },
                                {
                                    "KAT_NEV": "fénymásoló papír",
                                    "(No column name)": "5"
                                },
                                {
                                    "KAT_NEV": "férfi ing",
                                    "(No column name)": "1"
                                },
                                {
                                    "KAT_NEV": "férfi kabát",
                                    "(No column name)": "1"
                                },
                                {
                                    "KAT_NEV": "férfi nadrág",
                                    "(No column name)": "2"
                                },
                                {
                                    "KAT_NEV": "festékpatron",
                                    "(No column name)": "1"
                                },
                                {
                                    "KAT_NEV": "filctoll",
                                    "(No column name)": "13"
                                },
                                {
                                    "KAT_NEV": "floppy",
                                    "(No column name)": "1"
                                },
                                {
                                    "KAT_NEV": "fólia",
                                    "(No column name)": "3"
                                },
                                {
                                    "KAT_NEV": "fotópapír",
                                    "(No column name)": "1"
                                },
                                {
                                    "KAT_NEV": "füzet",
                                    "(No column name)": "11"
                                },
                                {
                                    "KAT_NEV": "füzetborító",
                                    "(No column name)": "7"
                                },
                                {
                                    "KAT_NEV": "füzettartó",
                                    "(No column name)": "4"
                                },
                                {
                                    "KAT_NEV": "gemkapocs",
                                    "(No column name)": "2"
                                },
                                {
                                    "KAT_NEV": "gémkapocs",
                                    "(No column name)": "2"
                                },
                                {
                                    "KAT_NEV": "genoterm",
                                    "(No column name)": "1"
                                },
                                {
                                    "KAT_NEV": "genotherm",
                                    "(No column name)": "3"
                                },
                                {
                                    "KAT_NEV": "golyóstoll",
                                    "(No column name)": "26"
                                },
                                {
                                    "KAT_NEV": "gumigyűrű",
                                    "(No column name)": "1"
                                },
                                {
                                    "KAT_NEV": "gyermek cipő",
                                    "(No column name)": "6"
                                },
                                {
                                    "KAT_NEV": "gyermek kabát",
                                    "(No column name)": "2"
                                },
                                {
                                    "KAT_NEV": "gyermek nadrág",
                                    "(No column name)": "4"
                                },
                                {
                                    "KAT_NEV": "gyermek póló",
                                    "(No column name)": "2"
                                },
                                {
                                    "KAT_NEV": "gyorsfűző",
                                    "(No column name)": "3"
                                },
                                {
                                    "KAT_NEV": "gyurma",
                                    "(No column name)": "4"
                                },
                                {
                                    "KAT_NEV": "gyűrűskönyv",
                                    "(No column name)": "5"
                                },
                                {
                                    "KAT_NEV": "hajgumi",
                                    "(No column name)": "1"
                                },
                                {
                                    "KAT_NEV": "határidő napló",
                                    "(No column name)": "2"
                                },
                                {
                                    "KAT_NEV": "hegyező",
                                    "(No column name)": "4"
                                },
                                {
                                    "KAT_NEV": "hegyző",
                                    "(No column name)": "2"
                                },
                                {
                                    "KAT_NEV": "hibajavító",
                                    "(No column name)": "7"
                                },
                                {
                                    "KAT_NEV": "hűtőmágnes",
                                    "(No column name)": "2"
                                },
                                {
                                    "KAT_NEV": "indigó",
                                    "(No column name)": "2"
                                },
                                {
                                    "KAT_NEV": "írásvetítő fólia",
                                    "(No column name)": "1"
                                },
                                {
                                    "KAT_NEV": "iratgyűjtő",
                                    "(No column name)": "3"
                                },
                                {
                                    "KAT_NEV": "iratrendező",
                                    "(No column name)": "2"
                                },
                                {
                                    "KAT_NEV": "iratsín",
                                    "(No column name)": "2"
                                },
                                {
                                    "KAT_NEV": "irattartó",
                                    "(No column name)": "2"
                                },
                                {
                                    "KAT_NEV": "irodaszer",
                                    "(No column name)": "1"
                                },
                                {
                                    "KAT_NEV": "írólap",
                                    "(No column name)": "2"
                                },
                                {
                                    "KAT_NEV": "ironbél",
                                    "(No column name)": "5"
                                },
                                {
                                    "KAT_NEV": "iskolaszer",
                                    "(No column name)": "24"
                                },
                                {
                                    "KAT_NEV": "játékautó",
                                    "(No column name)": "4"
                                },
                                {
                                    "KAT_NEV": "jelzőkréta",
                                    "(No column name)": "1"
                                },
                                {
                                    "KAT_NEV": "kapocskiszedő",
                                    "(No column name)": "1"
                                },
                                {
                                    "KAT_NEV": "karton",
                                    "(No column name)": "6"
                                },
                                {
                                    "KAT_NEV": "kártya",
                                    "(No column name)": "1"
                                },
                                {
                                    "KAT_NEV": "képeslap",
                                    "(No column name)": "16"
                                },
                                {
                                    "KAT_NEV": "képkirakó",
                                    "(No column name)": "1"
                                },
                                {
                                    "KAT_NEV": "kosztüm",
                                    "(No column name)": "2"
                                },
                                {
                                    "KAT_NEV": "könyv",
                                    "(No column name)": "15"
                                },
                                {
                                    "KAT_NEV": "körző",
                                    "(No column name)": "3"
                                },
                                {
                                    "KAT_NEV": "kreatív",
                                    "(No column name)": "2"
                                },
                                {
                                    "KAT_NEV": "kulcstartó",
                                    "(No column name)": "7"
                                },
                                {
                                    "KAT_NEV": "labda",
                                    "(No column name)": "2"
                                },
                                {
                                    "KAT_NEV": "levélpapír",
                                    "(No column name)": "7"
                                },
                                {
                                    "KAT_NEV": "lufi",
                                    "(No column name)": "2"
                                },
                                {
                                    "KAT_NEV": "lyukasztó",
                                    "(No column name)": "2"
                                },
                                {
                                    "KAT_NEV": "mappa",
                                    "(No column name)": "9"
                                },
                                {
                                    "KAT_NEV": "matrica",
                                    "(No column name)": "10"
                                },
                                {
                                    "KAT_NEV": "meghívó",
                                    "(No column name)": "4"
                                },
                                {
                                    "KAT_NEV": "miliméterpapír",
                                    "(No column name)": "1"
                                },
                                {
                                    "KAT_NEV": "munkafüzet",
                                    "(No column name)": "9"
                                },
                                {
                                    "KAT_NEV": "műnyomó",
                                    "(No column name)": "1"
                                },
                                {
                                    "KAT_NEV": "naptár",
                                    "(No column name)": "1"
                                },
                                {
                                    "KAT_NEV": "naptárhát",
                                    "(No column name)": "2"
                                },
                                {
                                    "KAT_NEV": "névjegytartó",
                                    "(No column name)": "1"
                                },
                                {
                                    "KAT_NEV": "notesz",
                                    "(No column name)": "5"
                                },
                                {
                                    "KAT_NEV": "női kabát",
                                    "(No column name)": "1"
                                },
                                {
                                    "KAT_NEV": "női nadrág",
                                    "(No column name)": "1"
                                },
                                {
                                    "KAT_NEV": "ofszet",
                                    "(No column name)": "1"
                                },
                                {
                                    "KAT_NEV": "oklevél",
                                    "(No column name)": "2"
                                },
                                {
                                    "KAT_NEV": "olló",
                                    "(No column name)": "3"
                                },
                                {
                                    "KAT_NEV": "öntapadó",
                                    "(No column name)": "2"
                                },
                                {
                                    "KAT_NEV": "papízsebkendő",
                                    "(No column name)": "1"
                                },
                                {
                                    "KAT_NEV": "pausz",
                                    "(No column name)": "1"
                                },
                                {
                                    "KAT_NEV": "pénztárbizonylat",
                                    "(No column name)": "2"
                                },
                                {
                                    "KAT_NEV": "pénztárgépszalag",
                                    "(No column name)": "2"
                                },
                                {
                                    "KAT_NEV": "pixiron",
                                    "(No column name)": "9"
                                },
                                {
                                    "KAT_NEV": "plüss",
                                    "(No column name)": "3"
                                },
                                {
                                    "KAT_NEV": "post-it",
                                    "(No column name)": "2"
                                },
                                {
                                    "KAT_NEV": "radír",
                                    "(No column name)": "7"
                                },
                                {
                                    "KAT_NEV": "radírtoll",
                                    "(No column name)": "2"
                                },
                                {
                                    "KAT_NEV": "ragasztó",
                                    "(No column name)": "10"
                                },
                                {
                                    "KAT_NEV": "ragasztószalag",
                                    "(No column name)": "4"
                                },
                                {
                                    "KAT_NEV": "rágógumi",
                                    "(No column name)": "1"
                                },
                                {
                                    "KAT_NEV": "rajzlap",
                                    "(No column name)": "2"
                                },
                                {
                                    "KAT_NEV": "rajzszeg",
                                    "(No column name)": "2"
                                },
                                {
                                    "KAT_NEV": "regiszteres füzet",
                                    "(No column name)": "2"
                                },
                                {
                                    "KAT_NEV": "sál",
                                    "(No column name)": "1"
                                },
                                {
                                    "KAT_NEV": "spirál",
                                    "(No column name)": "1"
                                },
                                {
                                    "KAT_NEV": "strandlabda",
                                    "(No column name)": "1"
                                },
                                {
                                    "KAT_NEV": "szalvéta",
                                    "(No column name)": "6"
                                },
                                {
                                    "KAT_NEV": "számológép",
                                    "(No column name)": "2"
                                },
                                {
                                    "KAT_NEV": "szemetes",
                                    "(No column name)": "1"
                                },
                                {
                                    "KAT_NEV": "színes",
                                    "(No column name)": "2"
                                },
                                {
                                    "KAT_NEV": "szögmérő",
                                    "(No column name)": "3"
                                },
                                {
                                    "KAT_NEV": "szövegkiemelő",
                                    "(No column name)": "5"
                                },
                                {
                                    "KAT_NEV": "táblafilc",
                                    "(No column name)": "1"
                                },
                                {
                                    "KAT_NEV": "tapétavágó",
                                    "(No column name)": "1"
                                },
                                {
                                    "KAT_NEV": "tempera",
                                    "(No column name)": "2"
                                },
                                {
                                    "KAT_NEV": "térképtű",
                                    "(No column name)": "1"
                                },
                                {
                                    "KAT_NEV": "tintapatron",
                                    "(No column name)": "3"
                                },
                                {
                                    "KAT_NEV": "toll",
                                    "(No column name)": "2"
                                },
                                {
                                    "KAT_NEV": "tollbetét",
                                    "(No column name)": "18"
                                },
                                {
                                    "KAT_NEV": "tolltartó",
                                    "(No column name)": "7"
                                },
                                {
                                    "KAT_NEV": "toner",
                                    "(No column name)": "1"
                                },
                                {
                                    "KAT_NEV": "töltőtoll",
                                    "(No column name)": "1"
                                },
                                {
                                    "KAT_NEV": "tűzőgép",
                                    "(No column name)": "6"
                                },
                                {
                                    "KAT_NEV": "tűzőkapocs",
                                    "(No column name)": "2"
                                },
                                {
                                    "KAT_NEV": "vízfesték",
                                    "(No column name)": "4"
                                },
                                {
                                    "KAT_NEV": "vonalzó",
                                    "(No column name)": "6"
                                },
                                {
                                    "KAT_NEV": "zászló",
                                    "(No column name)": "1"
                                },
                                {
                                    "KAT_NEV": "zseléstoll",
                                    "(No column name)": "4"
                                }
                            ]
                        },
                        "text/html": "<table><tr><th>KAT_NEV</th><th>(No column name)</th></tr><tr><td>ajándék tárgy</td><td>3</td></tr><tr><td>ajándék tasak</td><td>20</td></tr><tr><td>álarc</td><td>3</td></tr><tr><td>alkalmi</td><td>3</td></tr><tr><td>alufólia</td><td>2</td></tr><tr><td>árazószalag</td><td>1</td></tr><tr><td>átírótömb</td><td>1</td></tr><tr><td>beíró</td><td>1</td></tr><tr><td>beírókönyv</td><td>2</td></tr><tr><td>bélyegző</td><td>4</td></tr><tr><td>bélyegzőfesték</td><td>1</td></tr><tr><td>boríték</td><td>7</td></tr><tr><td>cd tok</td><td>1</td></tr><tr><td>celofán</td><td>2</td></tr><tr><td>ceruza</td><td>19</td></tr><tr><td>címke</td><td>3</td></tr><tr><td>color copy</td><td>5</td></tr><tr><td>csomagoló</td><td>2</td></tr><tr><td>csomagoló papír</td><td>7</td></tr><tr><td>dekor</td><td>4</td></tr><tr><td>dipa</td><td>1</td></tr><tr><td>díszdoboz</td><td>3</td></tr><tr><td>díszkötöző</td><td>5</td></tr><tr><td>dvd</td><td>1</td></tr><tr><td>ecset</td><td>7</td></tr><tr><td>előlap</td><td>1</td></tr><tr><td>emlékkönyv</td><td>3</td></tr><tr><td>emléklap</td><td>1</td></tr><tr><td>fax papír</td><td>1</td></tr><tr><td>fehérnemű</td><td>7</td></tr><tr><td>fénymásoló papír</td><td>5</td></tr><tr><td>férfi ing</td><td>1</td></tr><tr><td>férfi kabát</td><td>1</td></tr><tr><td>férfi nadrág</td><td>2</td></tr><tr><td>festékpatron</td><td>1</td></tr><tr><td>filctoll</td><td>13</td></tr><tr><td>floppy</td><td>1</td></tr><tr><td>fólia</td><td>3</td></tr><tr><td>fotópapír</td><td>1</td></tr><tr><td>füzet</td><td>11</td></tr><tr><td>füzetborító</td><td>7</td></tr><tr><td>füzettartó</td><td>4</td></tr><tr><td>gemkapocs</td><td>2</td></tr><tr><td>gémkapocs</td><td>2</td></tr><tr><td>genoterm</td><td>1</td></tr><tr><td>genotherm</td><td>3</td></tr><tr><td>golyóstoll</td><td>26</td></tr><tr><td>gumigyűrű</td><td>1</td></tr><tr><td>gyermek cipő</td><td>6</td></tr><tr><td>gyermek kabát</td><td>2</td></tr><tr><td>gyermek nadrág</td><td>4</td></tr><tr><td>gyermek póló</td><td>2</td></tr><tr><td>gyorsfűző</td><td>3</td></tr><tr><td>gyurma</td><td>4</td></tr><tr><td>gyűrűskönyv</td><td>5</td></tr><tr><td>hajgumi</td><td>1</td></tr><tr><td>határidő napló</td><td>2</td></tr><tr><td>hegyező</td><td>4</td></tr><tr><td>hegyző</td><td>2</td></tr><tr><td>hibajavító</td><td>7</td></tr><tr><td>hűtőmágnes</td><td>2</td></tr><tr><td>indigó</td><td>2</td></tr><tr><td>írásvetítő fólia</td><td>1</td></tr><tr><td>iratgyűjtő</td><td>3</td></tr><tr><td>iratrendező</td><td>2</td></tr><tr><td>iratsín</td><td>2</td></tr><tr><td>irattartó</td><td>2</td></tr><tr><td>irodaszer</td><td>1</td></tr><tr><td>írólap</td><td>2</td></tr><tr><td>ironbél</td><td>5</td></tr><tr><td>iskolaszer</td><td>24</td></tr><tr><td>játékautó</td><td>4</td></tr><tr><td>jelzőkréta</td><td>1</td></tr><tr><td>kapocskiszedő</td><td>1</td></tr><tr><td>karton</td><td>6</td></tr><tr><td>kártya</td><td>1</td></tr><tr><td>képeslap</td><td>16</td></tr><tr><td>képkirakó</td><td>1</td></tr><tr><td>kosztüm</td><td>2</td></tr><tr><td>könyv</td><td>15</td></tr><tr><td>körző</td><td>3</td></tr><tr><td>kreatív</td><td>2</td></tr><tr><td>kulcstartó</td><td>7</td></tr><tr><td>labda</td><td>2</td></tr><tr><td>levélpapír</td><td>7</td></tr><tr><td>lufi</td><td>2</td></tr><tr><td>lyukasztó</td><td>2</td></tr><tr><td>mappa</td><td>9</td></tr><tr><td>matrica</td><td>10</td></tr><tr><td>meghívó</td><td>4</td></tr><tr><td>miliméterpapír</td><td>1</td></tr><tr><td>munkafüzet</td><td>9</td></tr><tr><td>műnyomó</td><td>1</td></tr><tr><td>naptár</td><td>1</td></tr><tr><td>naptárhát</td><td>2</td></tr><tr><td>névjegytartó</td><td>1</td></tr><tr><td>notesz</td><td>5</td></tr><tr><td>női kabát</td><td>1</td></tr><tr><td>női nadrág</td><td>1</td></tr><tr><td>ofszet</td><td>1</td></tr><tr><td>oklevél</td><td>2</td></tr><tr><td>olló</td><td>3</td></tr><tr><td>öntapadó</td><td>2</td></tr><tr><td>papízsebkendő</td><td>1</td></tr><tr><td>pausz</td><td>1</td></tr><tr><td>pénztárbizonylat</td><td>2</td></tr><tr><td>pénztárgépszalag</td><td>2</td></tr><tr><td>pixiron</td><td>9</td></tr><tr><td>plüss</td><td>3</td></tr><tr><td>post-it</td><td>2</td></tr><tr><td>radír</td><td>7</td></tr><tr><td>radírtoll</td><td>2</td></tr><tr><td>ragasztó</td><td>10</td></tr><tr><td>ragasztószalag</td><td>4</td></tr><tr><td>rágógumi</td><td>1</td></tr><tr><td>rajzlap</td><td>2</td></tr><tr><td>rajzszeg</td><td>2</td></tr><tr><td>regiszteres füzet</td><td>2</td></tr><tr><td>sál</td><td>1</td></tr><tr><td>spirál</td><td>1</td></tr><tr><td>strandlabda</td><td>1</td></tr><tr><td>szalvéta</td><td>6</td></tr><tr><td>számológép</td><td>2</td></tr><tr><td>szemetes</td><td>1</td></tr><tr><td>színes</td><td>2</td></tr><tr><td>szögmérő</td><td>3</td></tr><tr><td>szövegkiemelő</td><td>5</td></tr><tr><td>táblafilc</td><td>1</td></tr><tr><td>tapétavágó</td><td>1</td></tr><tr><td>tempera</td><td>2</td></tr><tr><td>térképtű</td><td>1</td></tr><tr><td>tintapatron</td><td>3</td></tr><tr><td>toll</td><td>2</td></tr><tr><td>tollbetét</td><td>18</td></tr><tr><td>tolltartó</td><td>7</td></tr><tr><td>toner</td><td>1</td></tr><tr><td>töltőtoll</td><td>1</td></tr><tr><td>tűzőgép</td><td>6</td></tr><tr><td>tűzőkapocs</td><td>2</td></tr><tr><td>vízfesték</td><td>4</td></tr><tr><td>vonalzó</td><td>6</td></tr><tr><td>zászló</td><td>1</td></tr><tr><td>zseléstoll</td><td>4</td></tr></table>"
                    },
                    "metadata": {}
                }
            ],
            "execution_count": 14
        },
        {
            "cell_type": "markdown",
            "source": [
                "8. <span style=\"font-weight: 600; color: rgb(36, 41, 47); font-family: -apple-system, BlinkMacSystemFont, &quot;Segoe UI&quot;, Helvetica, Arial, sans-serif, &quot;Apple Color Emoji&quot;, &quot;Segoe UI Emoji&quot;; font-size: 16px;\">Készítsünk listát a rendelési tételekről. Az egyes rendelési tételeket termékenként soroljuk be 4 osztályba a rendelés mennyisége alapján. Jelenítsük meg ezt az információt is egy új oszlopban, az oszlop neve legyen 'Mennyiségi kategória'.</span>\n",
                "\n",
                "1. A lista csak a 100 Ft feletti egységárú rendelési tételeket vegye figyelembe!"
            ],
            "metadata": {
                "azdata_cell_guid": "27a3d3dc-eafb-4a5e-b103-9f465b9eda8f"
            },
            "attachments": {}
        },
        {
            "cell_type": "code",
            "source": [
                ""
            ],
            "metadata": {
                "azdata_cell_guid": "f09edb3f-649b-4a96-958e-9e12774ae8b7",
                "language": "sql"
            },
            "outputs": [],
            "execution_count": null
        },
        {
            "cell_type": "markdown",
            "source": [
                "9. <span style=\"font-weight: 600; color: rgb(36, 41, 47); font-family: -apple-system, BlinkMacSystemFont, &quot;Segoe UI&quot;, Helvetica, Arial, sans-serif, &quot;Apple Color Emoji&quot;, &quot;Segoe UI Emoji&quot;; font-size: 16px;\">Listázzuk a termékek kódját, megnevezését, kategóriájának nevét, és listaárát.</span>\n",
                "\n",
                "1. A listát egészítsük ki két új oszloppal, amelyek a kategória legolcsóbb, illetve legdrágább termékének árát tartalmazzák.\n",
                "2. A két új oszlop létrehozásánál partíciókkal dolgozzunk!"
            ],
            "metadata": {
                "azdata_cell_guid": "f12a331a-0e26-4d3d-9c68-812316286577"
            },
            "attachments": {}
        },
        {
            "cell_type": "code",
            "source": [
                ""
            ],
            "metadata": {
                "azdata_cell_guid": "10a77fc9-e61a-46fc-a401-59720d82bc50",
                "language": "sql"
            },
            "outputs": [],
            "execution_count": null
        },
        {
            "cell_type": "markdown",
            "source": [
                "10. <span style=\"font-weight: 600; color: rgb(36, 41, 47); font-family: -apple-system, BlinkMacSystemFont, &quot;Segoe UI&quot;, Helvetica, Arial, sans-serif, &quot;Apple Color Emoji&quot;, &quot;Segoe UI Emoji&quot;; font-size: 16px;\">Készítsünk listát a rendelésekről. A lista legyen rendezve ügyfelenként (LOGIN), azon belül a rendelés dátuma szerint. A listához készítsünk sorszámozást is. A sorszám a következő formában jelenjen meg: sorszám_év_login. Pl: 1_2015_adam1</span>\n",
                "\n",
                "1. A számozás login-onként, azon belül rendelési évenként kezdődjön újra.\n",
                "2. A sorszám oszlop neve legyen Azonosító"
            ],
            "metadata": {
                "azdata_cell_guid": "9229e2b6-e200-4499-b95b-2d0222149831"
            },
            "attachments": {}
        },
        {
            "cell_type": "code",
            "source": [
                ""
            ],
            "metadata": {
                "azdata_cell_guid": "8b49ed67-28c6-4880-82a8-cd369e5bba99",
                "language": "sql"
            },
            "outputs": [],
            "execution_count": null
        },
        {
            "cell_type": "markdown",
            "source": [
                "11. <span style=\"color: rgb(36, 41, 47); font-family: -apple-system, BlinkMacSystemFont, &quot;Segoe UI&quot;, Helvetica, Arial, sans-serif, &quot;Apple Color Emoji&quot;, &quot;Segoe UI Emoji&quot;; font-size: 16px;\">Készítsünk listát a termékek adatairól listaár szerint növekvő sorrendben! A lista jelenítse meg két új oszlopban a sorrend szerint előző, illetve következő termék listaárát is a termék saját kategóriájában és raktárában!</span>\n",
                "\n",
                "1. Ahol nincs előző vagy következő érték, ott 0 jelenjen meg!\n",
                "2. Az oszlopokat nevezzük el értelemszerűen!"
            ],
            "metadata": {
                "azdata_cell_guid": "7f5fc7a7-3b6a-4d89-b292-490830afb0c6"
            },
            "attachments": {}
        },
        {
            "cell_type": "code",
            "source": [
                ""
            ],
            "metadata": {
                "azdata_cell_guid": "4a9ece40-f782-4c0d-92cd-9c21969067ed",
                "language": "sql"
            },
            "outputs": [],
            "execution_count": null
        },
        {
            "cell_type": "markdown",
            "source": [
                "12. <span style=\"color: rgb(36, 41, 47); font-family: -apple-system, BlinkMacSystemFont, &quot;Segoe UI&quot;, Helvetica, Arial, sans-serif, &quot;Apple Color Emoji&quot;, &quot;Segoe UI Emoji&quot;; font-size: 16px;\">Listázzuk a termékek kódját, nevét és listaárát listaár szerinti sorrendben!</span>\n",
                "\n",
                "1. Vegyünk fel egy új oszlopot Mozgóátlag néven, amely minden esetben az aktuális termék, az előző, és a következő termék átlagárát tartalmazza!\n",
                "2. A mozgóátlagot kerekítsük két tizedesre!"
            ],
            "metadata": {
                "azdata_cell_guid": "5a483c52-bb98-44bb-bd03-1146d4b0abfa"
            },
            "attachments": {}
        },
        {
            "cell_type": "code",
            "source": [
                "SELECT TERMEKKOD,\r\n",
                "        MEGNEVEZES,\r\n",
                "        LISTAAR,\r\n",
                "        AVG(LISTAAR) OVER(ORDER BY LISTAAR ROWS BETWEEN 1 PRECEDING AND 1 FOLLOWING)\r\n",
                "FROM Termek"
            ],
            "metadata": {
                "azdata_cell_guid": "dd6e89bd-08f9-4b18-8460-03c45b503df0",
                "language": "sql"
            },
            "outputs": [
                {
                    "output_type": "display_data",
                    "data": {
                        "text/html": "(551 rows affected)"
                    },
                    "metadata": {}
                },
                {
                    "output_type": "display_data",
                    "data": {
                        "text/html": "Total execution time: 00:00:00.012"
                    },
                    "metadata": {}
                },
                {
                    "output_type": "execute_result",
                    "execution_count": 19,
                    "data": {
                        "application/vnd.dataresource+json": {
                            "schema": {
                                "fields": [
                                    {
                                        "name": "TERMEKKOD"
                                    },
                                    {
                                        "name": "MEGNEVEZES"
                                    },
                                    {
                                        "name": "LISTAAR"
                                    },
                                    {
                                        "name": "(No column name)"
                                    }
                                ]
                            },
                            "data": [
                                {
                                    "TERMEKKOD": "07030108T",
                                    "MEGNEVEZES": "Filctoll CD író",
                                    "LISTAAR": "0",
                                    "(No column name)": "1,5"
                                },
                                {
                                    "TERMEKKOD": "01090498T",
                                    "MEGNEVEZES": "Műnyomó 300g 17,5*20",
                                    "LISTAAR": "3",
                                    "(No column name)": "2"
                                },
                                {
                                    "TERMEKKOD": "02030042T",
                                    "MEGNEVEZES": "Boríték LC 6",
                                    "LISTAAR": "3",
                                    "(No column name)": "3"
                                },
                                {
                                    "TERMEKKOD": "04030288T",
                                    "MEGNEVEZES": "Műanyag pohár 1 dl-es",
                                    "LISTAAR": "3",
                                    "(No column name)": "3,3333333333333335"
                                },
                                {
                                    "TERMEKKOD": "01090501T",
                                    "MEGNEVEZES": "Kreatív A/4 300g ",
                                    "LISTAAR": "4",
                                    "(No column name)": "3,6666666666666665"
                                },
                                {
                                    "TERMEKKOD": "01090517T",
                                    "MEGNEVEZES": "Színes ofszet B/4",
                                    "LISTAAR": "4",
                                    "(No column name)": "4,333333333333333"
                                },
                                {
                                    "TERMEKKOD": "06040089T",
                                    "MEGNEVEZES": "Ellenőrzőborító",
                                    "LISTAAR": "5",
                                    "(No column name)": "5"
                                },
                                {
                                    "TERMEKKOD": "02030040T",
                                    "MEGNEVEZES": "Boríték LA 4 francia",
                                    "LISTAAR": "6",
                                    "(No column name)": "5,666666666666667"
                                },
                                {
                                    "TERMEKKOD": "02030041T",
                                    "MEGNEVEZES": "Boríték LC 5",
                                    "LISTAAR": "6",
                                    "(No column name)": "6,666666666666667"
                                },
                                {
                                    "TERMEKKOD": "02040147T",
                                    "MEGNEVEZES": "Genotherm lefűzhető A/5",
                                    "LISTAAR": "8",
                                    "(No column name)": "7,333333333333333"
                                },
                                {
                                    "TERMEKKOD": "06010377T",
                                    "MEGNEVEZES": "Szögmérő színes",
                                    "LISTAAR": "8",
                                    "(No column name)": "8"
                                },
                                {
                                    "TERMEKKOD": "06080425T",
                                    "MEGNEVEZES": "Miliméterpapír",
                                    "LISTAAR": "8",
                                    "(No column name)": "8"
                                },
                                {
                                    "TERMEKKOD": "06040181T",
                                    "MEGNEVEZES": "Gyűjtőlap A/4",
                                    "LISTAAR": "8",
                                    "(No column name)": "8"
                                },
                                {
                                    "TERMEKKOD": "06040353T",
                                    "MEGNEVEZES": "Sorvezető",
                                    "LISTAAR": "8",
                                    "(No column name)": "8"
                                },
                                {
                                    "TERMEKKOD": "06080118T",
                                    "MEGNEVEZES": "Füzetborító átlátszó A5",
                                    "LISTAAR": "8",
                                    "(No column name)": "8,333333333333334"
                                },
                                {
                                    "TERMEKKOD": "07040388T",
                                    "MEGNEVEZES": "Tintapatron /kék/",
                                    "LISTAAR": "9",
                                    "(No column name)": "8,666666666666666"
                                },
                                {
                                    "TERMEKKOD": "06010305T",
                                    "MEGNEVEZES": "Papírcenti 100 cm-es",
                                    "LISTAAR": "9",
                                    "(No column name)": "9"
                                },
                                {
                                    "TERMEKKOD": "01100072T",
                                    "MEGNEVEZES": "Dipa A/4 keretezett",
                                    "LISTAAR": "9",
                                    "(No column name)": "9,333333333333334"
                                },
                                {
                                    "TERMEKKOD": "01100503T",
                                    "MEGNEVEZES": "Color Copy A4 120 g",
                                    "LISTAAR": "10",
                                    "(No column name)": "9,666666666666666"
                                },
                                {
                                    "TERMEKKOD": "06080117T",
                                    "MEGNEVEZES": "Füzetborító A/4 átlátszó",
                                    "LISTAAR": "10",
                                    "(No column name)": "10,333333333333334"
                                },
                                {
                                    "TERMEKKOD": "07040058T",
                                    "MEGNEVEZES": "Ceruza radíros kínai",
                                    "LISTAAR": "11",
                                    "(No column name)": "10,666666666666666"
                                },
                                {
                                    "TERMEKKOD": "07040390T",
                                    "MEGNEVEZES": "Tintapatron színes",
                                    "LISTAAR": "11",
                                    "(No column name)": "11"
                                },
                                {
                                    "TERMEKKOD": "07080065T",
                                    "MEGNEVEZES": "Ceruza kínai",
                                    "LISTAAR": "11",
                                    "(No column name)": "11"
                                },
                                {
                                    "TERMEKKOD": "01090515T",
                                    "MEGNEVEZES": "Színes A/3 160 gr IQ",
                                    "LISTAAR": "11",
                                    "(No column name)": "11"
                                },
                                {
                                    "TERMEKKOD": "06010376T",
                                    "MEGNEVEZES": "Szögmérő papír",
                                    "LISTAAR": "11",
                                    "(No column name)": "11"
                                },
                                {
                                    "TERMEKKOD": "04030285T",
                                    "MEGNEVEZES": "Mikulás zacskó",
                                    "LISTAAR": "11",
                                    "(No column name)": "11"
                                },
                                {
                                    "TERMEKKOD": "04050269T",
                                    "MEGNEVEZES": "Lufi hullámos",
                                    "LISTAAR": "11",
                                    "(No column name)": "11,333333333333334"
                                },
                                {
                                    "TERMEKKOD": "06040206T",
                                    "MEGNEVEZES": "kék indigó",
                                    "LISTAAR": "12",
                                    "(No column name)": "12"
                                },
                                {
                                    "TERMEKKOD": "01100510T",
                                    "MEGNEVEZES": "Kreatív A/4 120g ",
                                    "LISTAAR": "13",
                                    "(No column name)": "13"
                                },
                                {
                                    "TERMEKKOD": "01090500T",
                                    "MEGNEVEZES": "Color Copy A4 200 g",
                                    "LISTAAR": "14",
                                    "(No column name)": "13,666666666666666"
                                },
                                {
                                    "TERMEKKOD": "01100497T",
                                    "MEGNEVEZES": "Color Copy 160 g-os ",
                                    "LISTAAR": "14",
                                    "(No column name)": "14"
                                },
                                {
                                    "TERMEKKOD": "04030240T",
                                    "MEGNEVEZES": "Képeslap virágos",
                                    "LISTAAR": "14",
                                    "(No column name)": "14,333333333333334"
                                },
                                {
                                    "TERMEKKOD": "04030236T",
                                    "MEGNEVEZES": "Képeslap karácsonyi WD",
                                    "LISTAAR": "15",
                                    "(No column name)": "14,666666666666666"
                                },
                                {
                                    "TERMEKKOD": "04030289T",
                                    "MEGNEVEZES": "Műanyag pohár 5 cl-es",
                                    "LISTAAR": "15",
                                    "(No column name)": "15"
                                },
                                {
                                    "TERMEKKOD": "04030260T",
                                    "MEGNEVEZES": "Levélpapír A/4",
                                    "LISTAAR": "15",
                                    "(No column name)": "15"
                                },
                                {
                                    "TERMEKKOD": "04050268T",
                                    "MEGNEVEZES": "Lufi formázható",
                                    "LISTAAR": "15",
                                    "(No column name)": "15"
                                },
                                {
                                    "TERMEKKOD": "01090499T",
                                    "MEGNEVEZES": "Color Copy A/4 250 g",
                                    "LISTAAR": "15",
                                    "(No column name)": "15"
                                },
                                {
                                    "TERMEKKOD": "01040307T",
                                    "MEGNEVEZES": "Pausz papír A/4",
                                    "LISTAAR": "15",
                                    "(No column name)": "15"
                                },
                                {
                                    "TERMEKKOD": "02040291T",
                                    "MEGNEVEZES": "Naptárhát kicsi",
                                    "LISTAAR": "15",
                                    "(No column name)": "15"
                                },
                                {
                                    "TERMEKKOD": "02030044T",
                                    "MEGNEVEZES": "Boríték mintás",
                                    "LISTAAR": "15",
                                    "(No column name)": "15"
                                },
                                {
                                    "TERMEKKOD": "02050460T",
                                    "MEGNEVEZES": "Boríték C/4-es",
                                    "LISTAAR": "15",
                                    "(No column name)": "15"
                                },
                                {
                                    "TERMEKKOD": "03010342T",
                                    "MEGNEVEZES": "Ragasztószalag  TIXO",
                                    "LISTAAR": "15",
                                    "(No column name)": "15"
                                },
                                {
                                    "TERMEKKOD": "03050078T",
                                    "MEGNEVEZES": "Díszkötöző szalag metál kicsi",
                                    "LISTAAR": "15",
                                    "(No column name)": "15"
                                },
                                {
                                    "TERMEKKOD": "03050079T",
                                    "MEGNEVEZES": "Díszkötöző szalag vékony",
                                    "LISTAAR": "15",
                                    "(No column name)": "15"
                                },
                                {
                                    "TERMEKKOD": "06040205T",
                                    "MEGNEVEZES": "Indigó Pelikán",
                                    "LISTAAR": "15",
                                    "(No column name)": "15"
                                },
                                {
                                    "TERMEKKOD": "07010141T",
                                    "MEGNEVEZES": "G.toll betét X20",
                                    "LISTAAR": "15",
                                    "(No column name)": "16"
                                },
                                {
                                    "TERMEKKOD": "02050461T",
                                    "MEGNEVEZES": "Boríték B/4-es",
                                    "LISTAAR": "18",
                                    "(No column name)": "17"
                                },
                                {
                                    "TERMEKKOD": "02040176T",
                                    "MEGNEVEZES": "Gyorsfűző dosszié fehér",
                                    "LISTAAR": "18",
                                    "(No column name)": "18,333333333333332"
                                },
                                {
                                    "TERMEKKOD": "02040207T",
                                    "MEGNEVEZES": "Iratgyűjtő ESSELTE ablakos",
                                    "LISTAAR": "19",
                                    "(No column name)": "18,666666666666668"
                                },
                                {
                                    "TERMEKKOD": "02040208T",
                                    "MEGNEVEZES": "Iratgyűjtő fehér",
                                    "LISTAAR": "19",
                                    "(No column name)": "19"
                                },
                                {
                                    "TERMEKKOD": "03080004T",
                                    "MEGNEVEZES": "Ajándék cs. tasak italos, fólia",
                                    "LISTAAR": "19",
                                    "(No column name)": "19"
                                },
                                {
                                    "TERMEKKOD": "05050170T",
                                    "MEGNEVEZES": "Gumigyűrű",
                                    "LISTAAR": "19",
                                    "(No column name)": "19"
                                },
                                {
                                    "TERMEKKOD": "06040326T",
                                    "MEGNEVEZES": "Radír KOH-I-NOR 80",
                                    "LISTAAR": "19",
                                    "(No column name)": "19"
                                },
                                {
                                    "TERMEKKOD": "06080122T",
                                    "MEGNEVEZES": "Füzetborító öntapadós nagy",
                                    "LISTAAR": "19",
                                    "(No column name)": "19"
                                },
                                {
                                    "TERMEKKOD": "06080119T",
                                    "MEGNEVEZES": "Füzetborító mesefig.",
                                    "LISTAAR": "19",
                                    "(No column name)": "19"
                                },
                                {
                                    "TERMEKKOD": "06040383T",
                                    "MEGNEVEZES": "Taffet papír",
                                    "LISTAAR": "19",
                                    "(No column name)": "19,333333333333332"
                                },
                                {
                                    "TERMEKKOD": "06080417T",
                                    "MEGNEVEZES": "Zászló papír",
                                    "LISTAAR": "20",
                                    "(No column name)": "19,666666666666668"
                                },
                                {
                                    "TERMEKKOD": "04110068T",
                                    "MEGNEVEZES": "Címke egyszínű",
                                    "LISTAAR": "20",
                                    "(No column name)": "20"
                                },
                                {
                                    "TERMEKKOD": "05010306T",
                                    "MEGNEVEZES": "Papízsebkendő,10db Szindy",
                                    "LISTAAR": "20",
                                    "(No column name)": "21"
                                },
                                {
                                    "TERMEKKOD": "06010202T",
                                    "MEGNEVEZES": "Hurkapálca 10 db-os",
                                    "LISTAAR": "23",
                                    "(No column name)": "22"
                                },
                                {
                                    "TERMEKKOD": "03080021T",
                                    "MEGNEVEZES": "Ajándék csom. vékony",
                                    "LISTAAR": "23",
                                    "(No column name)": "23"
                                },
                                {
                                    "TERMEKKOD": "04030287T",
                                    "MEGNEVEZES": "Műanyag foszforeszkáló állat",
                                    "LISTAAR": "23",
                                    "(No column name)": "23"
                                },
                                {
                                    "TERMEKKOD": "06080190T",
                                    "MEGNEVEZES": "Hegyező műanyag egyes",
                                    "LISTAAR": "23",
                                    "(No column name)": "23"
                                },
                                {
                                    "TERMEKKOD": "07010140T",
                                    "MEGNEVEZES": "G.toll betét Stabilo",
                                    "LISTAAR": "23",
                                    "(No column name)": "23"
                                },
                                {
                                    "TERMEKKOD": "07040053T",
                                    "MEGNEVEZES": "Ceruza HB radiros",
                                    "LISTAAR": "23",
                                    "(No column name)": "23"
                                },
                                {
                                    "TERMEKKOD": "06080120T",
                                    "MEGNEVEZES": "Füzetborító öntapadó kicsi",
                                    "LISTAAR": "23",
                                    "(No column name)": "23"
                                },
                                {
                                    "TERMEKKOD": "07040218T",
                                    "MEGNEVEZES": "Ironbél HB 0,5",
                                    "LISTAAR": "23",
                                    "(No column name)": "23"
                                },
                                {
                                    "TERMEKKOD": "07080156T",
                                    "MEGNEVEZES": "Golyóstoll kupakos piros",
                                    "LISTAAR": "23",
                                    "(No column name)": "23,333333333333332"
                                },
                                {
                                    "TERMEKKOD": "06080424T",
                                    "MEGNEVEZES": "Füzetborító A/4 mintás",
                                    "LISTAAR": "24",
                                    "(No column name)": "23,666666666666668"
                                },
                                {
                                    "TERMEKKOD": "04050203T",
                                    "MEGNEVEZES": "Hűtőmágnes",
                                    "LISTAAR": "24",
                                    "(No column name)": "24"
                                },
                                {
                                    "TERMEKKOD": "04050035T",
                                    "MEGNEVEZES": "Bérlet tok",
                                    "LISTAAR": "24",
                                    "(No column name)": "24"
                                },
                                {
                                    "TERMEKKOD": "06010375T",
                                    "MEGNEVEZES": "Szögmérő 180 fokos műa.",
                                    "LISTAAR": "24",
                                    "(No column name)": "24,333333333333332"
                                },
                                {
                                    "TERMEKKOD": "01040502T",
                                    "MEGNEVEZES": "Előlap spirálhoz",
                                    "LISTAAR": "25",
                                    "(No column name)": "24,666666666666668"
                                },
                                {
                                    "TERMEKKOD": "01090516T",
                                    "MEGNEVEZES": "Színes karton A4",
                                    "LISTAAR": "25",
                                    "(No column name)": "25,333333333333332"
                                },
                                {
                                    "TERMEKKOD": "01030091T",
                                    "MEGNEVEZES": "Emléklap A/5",
                                    "LISTAAR": "26",
                                    "(No column name)": "25,666666666666668"
                                },
                                {
                                    "TERMEKKOD": "03080006T",
                                    "MEGNEVEZES": "Ajándék cs. tasak mintás kicsi",
                                    "LISTAAR": "26",
                                    "(No column name)": "26"
                                },
                                {
                                    "TERMEKKOD": "03050457T",
                                    "MEGNEVEZES": "Ajándék cs. tasak kicsi",
                                    "LISTAAR": "26",
                                    "(No column name)": "26"
                                },
                                {
                                    "TERMEKKOD": "03050076T",
                                    "MEGNEVEZES": "Díszkötöző szalag metál nagy",
                                    "LISTAAR": "26",
                                    "(No column name)": "26"
                                },
                                {
                                    "TERMEKKOD": "04110066T",
                                    "MEGNEVEZES": "Címke 8 db-os",
                                    "LISTAAR": "26",
                                    "(No column name)": "26"
                                },
                                {
                                    "TERMEKKOD": "07040097T",
                                    "MEGNEVEZES": "Filctoll ",
                                    "LISTAAR": "26",
                                    "(No column name)": "26,666666666666668"
                                },
                                {
                                    "TERMEKKOD": "06040347T",
                                    "MEGNEVEZES": "Rajzlap A/4 10db ffam.",
                                    "LISTAAR": "28",
                                    "(No column name)": "27,666666666666668"
                                },
                                {
                                    "TERMEKKOD": "06040212T",
                                    "MEGNEVEZES": "Írólap 10-50 ffam.",
                                    "LISTAAR": "29",
                                    "(No column name)": "29"
                                },
                                {
                                    "TERMEKKOD": "06040247T",
                                    "MEGNEVEZES": "Körzőhegy grafit",
                                    "LISTAAR": "30",
                                    "(No column name)": "29,666666666666668"
                                },
                                {
                                    "TERMEKKOD": "06080189T",
                                    "MEGNEVEZES": "Hegyező műanyag dupla",
                                    "LISTAAR": "30",
                                    "(No column name)": "30"
                                },
                                {
                                    "TERMEKKOD": "07040050T",
                                    "MEGNEVEZES": "Ceruza Cseh",
                                    "LISTAAR": "30",
                                    "(No column name)": "30"
                                },
                                {
                                    "TERMEKKOD": "06080191T",
                                    "MEGNEVEZES": "Hegyező tartályos egyes",
                                    "LISTAAR": "30",
                                    "(No column name)": "30"
                                },
                                {
                                    "TERMEKKOD": "06080412T",
                                    "MEGNEVEZES": "Vonalzó 16 cm-es LIZZY",
                                    "LISTAAR": "30",
                                    "(No column name)": "30"
                                },
                                {
                                    "TERMEKKOD": "06080413T",
                                    "MEGNEVEZES": "Vonalzó 30 cm",
                                    "LISTAAR": "30",
                                    "(No column name)": "30"
                                },
                                {
                                    "TERMEKKOD": "06080414T",
                                    "MEGNEVEZES": "Vonalzó 20 cm-es ",
                                    "LISTAAR": "30",
                                    "(No column name)": "30"
                                },
                                {
                                    "TERMEKKOD": "06080415T",
                                    "MEGNEVEZES": "Vonalzó 45 fokos",
                                    "LISTAAR": "30",
                                    "(No column name)": "30"
                                },
                                {
                                    "TERMEKKOD": "07040127T",
                                    "MEGNEVEZES": "G. toll betét mini",
                                    "LISTAAR": "30",
                                    "(No column name)": "30"
                                },
                                {
                                    "TERMEKKOD": "07040129T",
                                    "MEGNEVEZES": "G. toll betét réz",
                                    "LISTAAR": "30",
                                    "(No column name)": "30"
                                },
                                {
                                    "TERMEKKOD": "04030234T",
                                    "MEGNEVEZES": "Képeslap karácsonyi",
                                    "LISTAAR": "30",
                                    "(No column name)": "30"
                                },
                                {
                                    "TERMEKKOD": "06010114T",
                                    "MEGNEVEZES": "Füzet A/5 hangjegy 36/16",
                                    "LISTAAR": "30",
                                    "(No column name)": "30"
                                },
                                {
                                    "TERMEKKOD": "02080069T",
                                    "MEGNEVEZES": "CD tartó tok",
                                    "LISTAAR": "30",
                                    "(No column name)": "30"
                                },
                                {
                                    "TERMEKKOD": "01010110T",
                                    "MEGNEVEZES": "Fotópapír A/4 fényes",
                                    "LISTAAR": "30",
                                    "(No column name)": "30"
                                },
                                {
                                    "TERMEKKOD": "02040177T",
                                    "MEGNEVEZES": "Gyorsfűző műa.",
                                    "LISTAAR": "30",
                                    "(No column name)": "30"
                                },
                                {
                                    "TERMEKKOD": "02040145T",
                                    "MEGNEVEZES": "Gemkapocs 28 mm",
                                    "LISTAAR": "30",
                                    "(No column name)": "30,333333333333332"
                                },
                                {
                                    "TERMEKKOD": "04110067T",
                                    "MEGNEVEZES": "Címke WD. állat",
                                    "LISTAAR": "31",
                                    "(No column name)": "31,333333333333332"
                                },
                                {
                                    "TERMEKKOD": "06010083T",
                                    "MEGNEVEZES": "Ecset Centrum 7,8,9",
                                    "LISTAAR": "33",
                                    "(No column name)": "32,333333333333336"
                                },
                                {
                                    "TERMEKKOD": "06010036T",
                                    "MEGNEVEZES": "Betűtartó sin",
                                    "LISTAAR": "33",
                                    "(No column name)": "33"
                                },
                                {
                                    "TERMEKKOD": "04110227T",
                                    "MEGNEVEZES": "Képeslap  borítékos",
                                    "LISTAAR": "33",
                                    "(No column name)": "33"
                                },
                                {
                                    "TERMEKKOD": "04110229T",
                                    "MEGNEVEZES": "Képeslap \"Részvét\"",
                                    "LISTAAR": "33",
                                    "(No column name)": "33"
                                },
                                {
                                    "TERMEKKOD": "07080155T",
                                    "MEGNEVEZES": "Golyóstoll",
                                    "LISTAAR": "33",
                                    "(No column name)": "33"
                                },
                                {
                                    "TERMEKKOD": "06080416T",
                                    "MEGNEVEZES": "Vonalzó 60 fokos",
                                    "LISTAAR": "33",
                                    "(No column name)": "33"
                                },
                                {
                                    "TERMEKKOD": "07010138T",
                                    "MEGNEVEZES": "G.toll betét jumbo",
                                    "LISTAAR": "33",
                                    "(No column name)": "33,333333333333336"
                                },
                                {
                                    "TERMEKKOD": "06080116T",
                                    "MEGNEVEZES": "Füzet A5 1-8 osz.-ig",
                                    "LISTAAR": "34",
                                    "(No column name)": "33,666666666666664"
                                },
                                {
                                    "TERMEKKOD": "06040213T",
                                    "MEGNEVEZES": "Írólap 20-50 ",
                                    "LISTAAR": "34",
                                    "(No column name)": "34"
                                },
                                {
                                    "TERMEKKOD": "06010113T",
                                    "MEGNEVEZES": "Füzet 31-32 szótár",
                                    "LISTAAR": "34",
                                    "(No column name)": "34"
                                },
                                {
                                    "TERMEKKOD": "02040406T",
                                    "MEGNEVEZES": "Tűzőkapocs 24/6",
                                    "LISTAAR": "34",
                                    "(No column name)": "34,333333333333336"
                                },
                                {
                                    "TERMEKKOD": "02040178T",
                                    "MEGNEVEZES": "Gyorsfűző műa.",
                                    "LISTAAR": "35",
                                    "(No column name)": "34,666666666666664"
                                },
                                {
                                    "TERMEKKOD": "06010367T",
                                    "MEGNEVEZES": "Számolókorong",
                                    "LISTAAR": "35",
                                    "(No column name)": "35"
                                },
                                {
                                    "TERMEKKOD": "07080063T",
                                    "MEGNEVEZES": "Ceruza szorzótáblás",
                                    "LISTAAR": "35",
                                    "(No column name)": "35,333333333333336"
                                },
                                {
                                    "TERMEKKOD": "07050463T",
                                    "MEGNEVEZES": "Ceruzafogó",
                                    "LISTAAR": "36",
                                    "(No column name)": "35,666666666666664"
                                },
                                {
                                    "TERMEKKOD": "07040216T",
                                    "MEGNEVEZES": "Ironbél B 0,5",
                                    "LISTAAR": "36",
                                    "(No column name)": "36"
                                },
                                {
                                    "TERMEKKOD": "06040327T",
                                    "MEGNEVEZES": "Radír Koh-i-nor 40",
                                    "LISTAAR": "36",
                                    "(No column name)": "36"
                                },
                                {
                                    "TERMEKKOD": "06040323T",
                                    "MEGNEVEZES": "Post-it 51×38 100 lapos",
                                    "LISTAAR": "36",
                                    "(No column name)": "36"
                                },
                                {
                                    "TERMEKKOD": "07040060T",
                                    "MEGNEVEZES": "Ceruza stabilo swano",
                                    "LISTAAR": "36",
                                    "(No column name)": "36"
                                },
                                {
                                    "TERMEKKOD": "06010365T",
                                    "MEGNEVEZES": "Számegyenes",
                                    "LISTAAR": "36",
                                    "(No column name)": "36"
                                },
                                {
                                    "TERMEKKOD": "06010201T",
                                    "MEGNEVEZES": "Hőmérő, műa.",
                                    "LISTAAR": "36",
                                    "(No column name)": "36"
                                },
                                {
                                    "TERMEKKOD": "06010086T",
                                    "MEGNEVEZES": "Ecset Nebulo 4-es",
                                    "LISTAAR": "36",
                                    "(No column name)": "36"
                                },
                                {
                                    "TERMEKKOD": "04050255T",
                                    "MEGNEVEZES": "Kulcstartó mesefigurás",
                                    "LISTAAR": "36",
                                    "(No column name)": "36"
                                },
                                {
                                    "TERMEKKOD": "04030237T",
                                    "MEGNEVEZES": "Képeslap kerek",
                                    "LISTAAR": "36",
                                    "(No column name)": "36,666666666666664"
                                },
                                {
                                    "TERMEKKOD": "01080513T",
                                    "MEGNEVEZES": "Selyemfényű karton A/4",
                                    "LISTAAR": "38",
                                    "(No column name)": "37,666666666666664"
                                },
                                {
                                    "TERMEKKOD": "02030043T",
                                    "MEGNEVEZES": "Boríték légp. kicsi",
                                    "LISTAAR": "39",
                                    "(No column name)": "38,666666666666664"
                                },
                                {
                                    "TERMEKKOD": "07040051T",
                                    "MEGNEVEZES": "Ceruza háromszög ",
                                    "LISTAAR": "39",
                                    "(No column name)": "39"
                                },
                                {
                                    "TERMEKKOD": "07040047T",
                                    "MEGNEVEZES": "Ceruza 2H-4B",
                                    "LISTAAR": "39",
                                    "(No column name)": "39"
                                },
                                {
                                    "TERMEKKOD": "07040133T",
                                    "MEGNEVEZES": "G.toll betét görbe hegyű",
                                    "LISTAAR": "39",
                                    "(No column name)": "39,333333333333336"
                                },
                                {
                                    "TERMEKKOD": "07080064T",
                                    "MEGNEVEZES": "Ceruza zöld színű",
                                    "LISTAAR": "40",
                                    "(No column name)": "39,666666666666664"
                                },
                                {
                                    "TERMEKKOD": "07040049T",
                                    "MEGNEVEZES": "Ceruza Conté zöld",
                                    "LISTAAR": "40",
                                    "(No column name)": "40"
                                },
                                {
                                    "TERMEKKOD": "07040056T",
                                    "MEGNEVEZES": "Ceruza piros-kék vékony",
                                    "LISTAAR": "40",
                                    "(No column name)": "40"
                                },
                                {
                                    "TERMEKKOD": "06040325T",
                                    "MEGNEVEZES": "Radír gyümölcsös",
                                    "LISTAAR": "40",
                                    "(No column name)": "40"
                                },
                                {
                                    "TERMEKKOD": "01100509T",
                                    "MEGNEVEZES": "Márványos A/4",
                                    "LISTAAR": "40",
                                    "(No column name)": "40"
                                },
                                {
                                    "TERMEKKOD": "02040507T",
                                    "MEGNEVEZES": "Fólia tasakos A4 80 mik.",
                                    "LISTAAR": "40",
                                    "(No column name)": "40"
                                },
                                {
                                    "TERMEKKOD": "03050459T",
                                    "MEGNEVEZES": "Talpas tasak",
                                    "LISTAAR": "40",
                                    "(No column name)": "40"
                                },
                                {
                                    "TERMEKKOD": "06010082T",
                                    "MEGNEVEZES": "Ecset Centrum 10,11,12",
                                    "LISTAAR": "40",
                                    "(No column name)": "40"
                                },
                                {
                                    "TERMEKKOD": "05050465T",
                                    "MEGNEVEZES": "Tapétavágó kés",
                                    "LISTAAR": "40",
                                    "(No column name)": "40,333333333333336"
                                },
                                {
                                    "TERMEKKOD": "07080153T",
                                    "MEGNEVEZES": "Golyóstoll illatos ICO",
                                    "LISTAAR": "41",
                                    "(No column name)": "41,333333333333336"
                                },
                                {
                                    "TERMEKKOD": "06010373T",
                                    "MEGNEVEZES": "Színes papír I.II-IV.V-VIII-ig",
                                    "LISTAAR": "43",
                                    "(No column name)": "42,666666666666664"
                                },
                                {
                                    "TERMEKKOD": "04030241T",
                                    "MEGNEVEZES": "Képeslap virágos +boríték",
                                    "LISTAAR": "44",
                                    "(No column name)": "43,666666666666664"
                                },
                                {
                                    "TERMEKKOD": "03080020T",
                                    "MEGNEVEZES": "Ajándék csom. nagy  ",
                                    "LISTAAR": "44",
                                    "(No column name)": "44"
                                },
                                {
                                    "TERMEKKOD": "04030286T",
                                    "MEGNEVEZES": "Műanyag állatok",
                                    "LISTAAR": "44",
                                    "(No column name)": "44"
                                },
                                {
                                    "TERMEKKOD": "04050075T",
                                    "MEGNEVEZES": "Díszdoboz tollnak 2 db-os keskeny",
                                    "LISTAAR": "44",
                                    "(No column name)": "44"
                                },
                                {
                                    "TERMEKKOD": "03050077T",
                                    "MEGNEVEZES": "Diszkötöző szalag arany",
                                    "LISTAAR": "44",
                                    "(No column name)": "44"
                                },
                                {
                                    "TERMEKKOD": "02080450T",
                                    "MEGNEVEZES": "Gémkapocs 28-as színes",
                                    "LISTAAR": "44",
                                    "(No column name)": "44"
                                },
                                {
                                    "TERMEKKOD": "02040508T",
                                    "MEGNEVEZES": "Fólia tasakos A4100 mik.",
                                    "LISTAAR": "44",
                                    "(No column name)": "44"
                                },
                                {
                                    "TERMEKKOD": "02040506T",
                                    "MEGNEVEZES": "Fólia tasakos A4 125 mik.",
                                    "LISTAAR": "44",
                                    "(No column name)": "44"
                                },
                                {
                                    "TERMEKKOD": "02040405T",
                                    "MEGNEVEZES": "Tűzőkapocs 10-es",
                                    "LISTAAR": "44",
                                    "(No column name)": "44"
                                },
                                {
                                    "TERMEKKOD": "02040298T",
                                    "MEGNEVEZES": "Notesz mintás",
                                    "LISTAAR": "44",
                                    "(No column name)": "44"
                                },
                                {
                                    "TERMEKKOD": "02040209T",
                                    "MEGNEVEZES": "Iratsín fehér",
                                    "LISTAAR": "44",
                                    "(No column name)": "44"
                                },
                                {
                                    "TERMEKKOD": "07040134T",
                                    "MEGNEVEZES": "G.toll betét illatos",
                                    "LISTAAR": "44",
                                    "(No column name)": "44"
                                },
                                {
                                    "TERMEKKOD": "07080161T",
                                    "MEGNEVEZES": "Golyóstoll kétszínű",
                                    "LISTAAR": "44",
                                    "(No column name)": "44"
                                },
                                {
                                    "TERMEKKOD": "06040328T",
                                    "MEGNEVEZES": "Radír Maped",
                                    "LISTAAR": "44",
                                    "(No column name)": "44"
                                },
                                {
                                    "TERMEKKOD": "06040329T",
                                    "MEGNEVEZES": "Radír stabilo",
                                    "LISTAAR": "44",
                                    "(No column name)": "44"
                                },
                                {
                                    "TERMEKKOD": "07040061T",
                                    "MEGNEVEZES": "Ceruza stabilo opera",
                                    "LISTAAR": "44",
                                    "(No column name)": "44,333333333333336"
                                },
                                {
                                    "TERMEKKOD": "02080514T",
                                    "MEGNEVEZES": "Spirál 1/4 ",
                                    "LISTAAR": "45",
                                    "(No column name)": "44,666666666666664"
                                },
                                {
                                    "TERMEKKOD": "06010374T",
                                    "MEGNEVEZES": "Szorzótábla műanyag",
                                    "LISTAAR": "45",
                                    "(No column name)": "45,333333333333336"
                                },
                                {
                                    "TERMEKKOD": "05050045T",
                                    "MEGNEVEZES": "Celofán",
                                    "LISTAAR": "46",
                                    "(No column name)": "45,666666666666664"
                                },
                                {
                                    "TERMEKKOD": "07040102T",
                                    "MEGNEVEZES": "Filctoll supra fine",
                                    "LISTAAR": "46",
                                    "(No column name)": "46,666666666666664"
                                },
                                {
                                    "TERMEKKOD": "07010137T",
                                    "MEGNEVEZES": "G.toll betét PAX tip.",
                                    "LISTAAR": "48",
                                    "(No column name)": "47,333333333333336"
                                },
                                {
                                    "TERMEKKOD": "06040386T",
                                    "MEGNEVEZES": "Tempera szóló színes",
                                    "LISTAAR": "48",
                                    "(No column name)": "48"
                                },
                                {
                                    "TERMEKKOD": "06010115T",
                                    "MEGNEVEZES": "Füzet A/5, mintás",
                                    "LISTAAR": "48",
                                    "(No column name)": "48"
                                },
                                {
                                    "TERMEKKOD": "04050224T",
                                    "MEGNEVEZES": "Jelzőkréta",
                                    "LISTAAR": "48",
                                    "(No column name)": "48"
                                },
                                {
                                    "TERMEKKOD": "04030239T",
                                    "MEGNEVEZES": "Képeslap stancolt szív",
                                    "LISTAAR": "48",
                                    "(No column name)": "48"
                                },
                                {
                                    "TERMEKKOD": "02040146T",
                                    "MEGNEVEZES": "Gemkapocs ICO",
                                    "LISTAAR": "48",
                                    "(No column name)": "48"
                                },
                                {
                                    "TERMEKKOD": "01020299T",
                                    "MEGNEVEZES": "Oklevél A/4 egyszínű",
                                    "LISTAAR": "48",
                                    "(No column name)": "48,333333333333336"
                                },
                                {
                                    "TERMEKKOD": "04110274T",
                                    "MEGNEVEZES": "Matrica autóra H",
                                    "LISTAAR": "49",
                                    "(No column name)": "48,666666666666664"
                                },
                                {
                                    "TERMEKKOD": "04110275T",
                                    "MEGNEVEZES": "Matrica motoros kicsi",
                                    "LISTAAR": "49",
                                    "(No column name)": "49"
                                },
                                {
                                    "TERMEKKOD": "06040331T",
                                    "MEGNEVEZES": "Radír Tikky 40 ",
                                    "LISTAAR": "49",
                                    "(No column name)": "49,333333333333336"
                                },
                                {
                                    "TERMEKKOD": "06040330T",
                                    "MEGNEVEZES": "Radír Tikky 30 ",
                                    "LISTAAR": "50",
                                    "(No column name)": "50"
                                },
                                {
                                    "TERMEKKOD": "07080150T",
                                    "MEGNEVEZES": "Golyóstoll",
                                    "LISTAAR": "51",
                                    "(No column name)": "50,666666666666664"
                                },
                                {
                                    "TERMEKKOD": "04110232T",
                                    "MEGNEVEZES": "Képeslap humoros kaparós",
                                    "LISTAAR": "51",
                                    "(No column name)": "51"
                                },
                                {
                                    "TERMEKKOD": "06040088T",
                                    "MEGNEVEZES": "Egészségügyi könyv",
                                    "LISTAAR": "51",
                                    "(No column name)": "51"
                                },
                                {
                                    "TERMEKKOD": "02080109T",
                                    "MEGNEVEZES": "Floppy lemez",
                                    "LISTAAR": "51",
                                    "(No column name)": "51,666666666666664"
                                },
                                {
                                    "TERMEKKOD": "07030103T",
                                    "MEGNEVEZES": "Filctoll TINTEN PEN",
                                    "LISTAAR": "53",
                                    "(No column name)": "52,333333333333336"
                                },
                                {
                                    "TERMEKKOD": "07040052T",
                                    "MEGNEVEZES": "Ceruza 2H-3B Koh-i-nor",
                                    "LISTAAR": "53",
                                    "(No column name)": "53,666666666666664"
                                },
                                {
                                    "TERMEKKOD": "07040054T",
                                    "MEGNEVEZES": "Ceruza kártyás",
                                    "LISTAAR": "55",
                                    "(No column name)": "54,333333333333336"
                                },
                                {
                                    "TERMEKKOD": "07040048T",
                                    "MEGNEVEZES": "Ceruza arany, ezüst",
                                    "LISTAAR": "55",
                                    "(No column name)": "55"
                                },
                                {
                                    "TERMEKKOD": "07040132T",
                                    "MEGNEVEZES": "G.toll betét csavaros",
                                    "LISTAAR": "55",
                                    "(No column name)": "55"
                                },
                                {
                                    "TERMEKKOD": "07040128T",
                                    "MEGNEVEZES": "G. toll betét mini fém",
                                    "LISTAAR": "55",
                                    "(No column name)": "55"
                                },
                                {
                                    "TERMEKKOD": "02080433T",
                                    "MEGNEVEZES": "Ragasztószalag 19 mm-es",
                                    "LISTAAR": "55",
                                    "(No column name)": "55"
                                },
                                {
                                    "TERMEKKOD": "01020300T",
                                    "MEGNEVEZES": "Oklevél A/4 színes",
                                    "LISTAAR": "55",
                                    "(No column name)": "55"
                                },
                                {
                                    "TERMEKKOD": "04110230T",
                                    "MEGNEVEZES": "Képeslap humoros ",
                                    "LISTAAR": "55",
                                    "(No column name)": "55"
                                },
                                {
                                    "TERMEKKOD": "04110273T",
                                    "MEGNEVEZES": "Matrica állatos",
                                    "LISTAAR": "55",
                                    "(No column name)": "55,333333333333336"
                                },
                                {
                                    "TERMEKKOD": "04110282T",
                                    "MEGNEVEZES": "Matrica WD kicsi",
                                    "LISTAAR": "56",
                                    "(No column name)": "55,666666666666664"
                                },
                                {
                                    "TERMEKKOD": "04030262T",
                                    "MEGNEVEZES": "Levélpapír sima",
                                    "LISTAAR": "56",
                                    "(No column name)": "56"
                                },
                                {
                                    "TERMEKKOD": "03080019T",
                                    "MEGNEVEZES": "Ajándék csom. Krepp",
                                    "LISTAAR": "56",
                                    "(No column name)": "56"
                                },
                                {
                                    "TERMEKKOD": "02040296T",
                                    "MEGNEVEZES": "Notesz A/6 College",
                                    "LISTAAR": "56",
                                    "(No column name)": "56,666666666666664"
                                },
                                {
                                    "TERMEKKOD": "07040059T",
                                    "MEGNEVEZES": "Ceruza smaragd",
                                    "LISTAAR": "58",
                                    "(No column name)": "57,333333333333336"
                                },
                                {
                                    "TERMEKKOD": "06080411T",
                                    "MEGNEVEZES": "Vonalzó 15 cm-es ESSELTE",
                                    "LISTAAR": "58",
                                    "(No column name)": "58"
                                },
                                {
                                    "TERMEKKOD": "06040384T",
                                    "MEGNEVEZES": "Technika cs. I-II-III-IV",
                                    "LISTAAR": "58",
                                    "(No column name)": "58,333333333333336"
                                },
                                {
                                    "TERMEKKOD": "07040055T",
                                    "MEGNEVEZES": "Ceruza piros-kék",
                                    "LISTAAR": "59",
                                    "(No column name)": "58,666666666666664"
                                },
                                {
                                    "TERMEKKOD": "07040217T",
                                    "MEGNEVEZES": "Ironbél H 0,5",
                                    "LISTAAR": "59",
                                    "(No column name)": "59"
                                },
                                {
                                    "TERMEKKOD": "07080313T",
                                    "MEGNEVEZES": "Pixiron Centrum",
                                    "LISTAAR": "59",
                                    "(No column name)": "59"
                                },
                                {
                                    "TERMEKKOD": "07080317T",
                                    "MEGNEVEZES": "Pixiron mini ",
                                    "LISTAAR": "59",
                                    "(No column name)": "59"
                                },
                                {
                                    "TERMEKKOD": "01010304T",
                                    "MEGNEVEZES": "Öntapadós hologramos papír A/4",
                                    "LISTAAR": "59",
                                    "(No column name)": "59"
                                },
                                {
                                    "TERMEKKOD": "01030092T",
                                    "MEGNEVEZES": "Esküvői meghívó",
                                    "LISTAAR": "59",
                                    "(No column name)": "59"
                                },
                                {
                                    "TERMEKKOD": "02040214T",
                                    "MEGNEVEZES": "Iromány fedél feles",
                                    "LISTAAR": "59",
                                    "(No column name)": "59"
                                },
                                {
                                    "TERMEKKOD": "04030238T",
                                    "MEGNEVEZES": "Képeslap stancolt",
                                    "LISTAAR": "59",
                                    "(No column name)": "59,333333333333336"
                                },
                                {
                                    "TERMEKKOD": "06010084T",
                                    "MEGNEVEZES": "Ecset Deák 2-es",
                                    "LISTAAR": "60",
                                    "(No column name)": "60"
                                },
                                {
                                    "TERMEKKOD": "06010368T",
                                    "MEGNEVEZES": "Számolópálca",
                                    "LISTAAR": "61",
                                    "(No column name)": "60,666666666666664"
                                },
                                {
                                    "TERMEKKOD": "04050073T",
                                    "MEGNEVEZES": "Díszdoboz kar.",
                                    "LISTAAR": "61",
                                    "(No column name)": "61,666666666666664"
                                },
                                {
                                    "TERMEKKOD": "05040349T",
                                    "MEGNEVEZES": "Rajzszeg",
                                    "LISTAAR": "63",
                                    "(No column name)": "62,333333333333336"
                                },
                                {
                                    "TERMEKKOD": "02040148T",
                                    "MEGNEVEZES": "Genotherm lefűzhető A4 10db-os",
                                    "LISTAAR": "63",
                                    "(No column name)": "63"
                                },
                                {
                                    "TERMEKKOD": "03010344T",
                                    "MEGNEVEZES": "Ragasztószalag nagy 12 mm",
                                    "LISTAAR": "63",
                                    "(No column name)": "63"
                                },
                                {
                                    "TERMEKKOD": "07080159T",
                                    "MEGNEVEZES": "Golyóstoll Pax tip.",
                                    "LISTAAR": "63",
                                    "(No column name)": "63"
                                },
                                {
                                    "TERMEKKOD": "06080429T",
                                    "MEGNEVEZES": "Meghívó ballagási",
                                    "LISTAAR": "63",
                                    "(No column name)": "63,333333333333336"
                                },
                                {
                                    "TERMEKKOD": "03080013T",
                                    "MEGNEVEZES": "Ajándék csom. 50x70 húsvéti",
                                    "LISTAAR": "64",
                                    "(No column name)": "64"
                                },
                                {
                                    "TERMEKKOD": "06010085T",
                                    "MEGNEVEZES": "Ecset Lizzy 10-es",
                                    "LISTAAR": "65",
                                    "(No column name)": "64,66666666666667"
                                },
                                {
                                    "TERMEKKOD": "04050220T",
                                    "MEGNEVEZES": "Játék autó",
                                    "LISTAAR": "65",
                                    "(No column name)": "65,33333333333333"
                                },
                                {
                                    "TERMEKKOD": "04050074T",
                                    "MEGNEVEZES": "Díszdoboz tollnak 2 db-os",
                                    "LISTAAR": "66",
                                    "(No column name)": "65,66666666666667"
                                },
                                {
                                    "TERMEKKOD": "04050187T",
                                    "MEGNEVEZES": "Hajgumi macis",
                                    "LISTAAR": "66",
                                    "(No column name)": "66"
                                },
                                {
                                    "TERMEKKOD": "02080436T",
                                    "MEGNEVEZES": "Irattartó müa. boríték A/4",
                                    "LISTAAR": "66",
                                    "(No column name)": "66"
                                },
                                {
                                    "TERMEKKOD": "07080419T",
                                    "MEGNEVEZES": "Zselés toll MICRO",
                                    "LISTAAR": "66",
                                    "(No column name)": "66,66666666666667"
                                },
                                {
                                    "TERMEKKOD": "06010111T",
                                    "MEGNEVEZES": "Füzet  A/4 ",
                                    "LISTAAR": "68",
                                    "(No column name)": "68"
                                },
                                {
                                    "TERMEKKOD": "06080192T",
                                    "MEGNEVEZES": "Hegyző fém 1 lyukú",
                                    "LISTAAR": "70",
                                    "(No column name)": "70,33333333333333"
                                },
                                {
                                    "TERMEKKOD": "06050249T",
                                    "MEGNEVEZES": "Krepp papír",
                                    "LISTAAR": "73",
                                    "(No column name)": "72"
                                },
                                {
                                    "TERMEKKOD": "05050046T",
                                    "MEGNEVEZES": "Celofán 50 db-os",
                                    "LISTAAR": "73",
                                    "(No column name)": "73"
                                },
                                {
                                    "TERMEKKOD": "04110258T",
                                    "MEGNEVEZES": "Lampion",
                                    "LISTAAR": "73",
                                    "(No column name)": "73"
                                },
                                {
                                    "TERMEKKOD": "04050223T",
                                    "MEGNEVEZES": "Játékautó mini",
                                    "LISTAAR": "73",
                                    "(No column name)": "73"
                                },
                                {
                                    "TERMEKKOD": "04030235T",
                                    "MEGNEVEZES": "Képeslap karácsonyi borítékos",
                                    "LISTAAR": "73",
                                    "(No column name)": "73"
                                },
                                {
                                    "TERMEKKOD": "01100070T",
                                    "MEGNEVEZES": "Dekorációs karton",
                                    "LISTAAR": "73",
                                    "(No column name)": "73,33333333333333"
                                },
                                {
                                    "TERMEKKOD": "04030264T",
                                    "MEGNEVEZES": "Levélpapír szett ",
                                    "LISTAAR": "74",
                                    "(No column name)": "73,66666666666667"
                                },
                                {
                                    "TERMEKKOD": "06080332T",
                                    "MEGNEVEZES": "Radírtoll betét ER100",
                                    "LISTAAR": "74",
                                    "(No column name)": "74"
                                },
                                {
                                    "TERMEKKOD": "06080430T",
                                    "MEGNEVEZES": "Öntapadős betűk",
                                    "LISTAAR": "74",
                                    "(No column name)": "74"
                                },
                                {
                                    "TERMEKKOD": "07010244T",
                                    "MEGNEVEZES": "Kerámiatoll",
                                    "LISTAAR": "74",
                                    "(No column name)": "74"
                                },
                                {
                                    "TERMEKKOD": "07040215T",
                                    "MEGNEVEZES": "Ironbél  2B ICO",
                                    "LISTAAR": "74",
                                    "(No column name)": "74,66666666666667"
                                },
                                {
                                    "TERMEKKOD": "07030104T",
                                    "MEGNEVEZES": "Filctoll vastag ARTIP",
                                    "LISTAAR": "76",
                                    "(No column name)": "76"
                                },
                                {
                                    "TERMEKKOD": "07010143T",
                                    "MEGNEVEZES": "G.toll betét Zebra H-0,7",
                                    "LISTAAR": "78",
                                    "(No column name)": "77,33333333333333"
                                },
                                {
                                    "TERMEKKOD": "06040380T",
                                    "MEGNEVEZES": "Szövegkiemelő",
                                    "LISTAAR": "78",
                                    "(No column name)": "78"
                                },
                                {
                                    "TERMEKKOD": "07040219T",
                                    "MEGNEVEZES": "Ironbél HI-POLIMER HB 0,7",
                                    "LISTAAR": "78",
                                    "(No column name)": "78"
                                },
                                {
                                    "TERMEKKOD": "06010112T",
                                    "MEGNEVEZES": "Füzet  A4 mintás",
                                    "LISTAAR": "78",
                                    "(No column name)": "78"
                                },
                                {
                                    "TERMEKKOD": "02040292T",
                                    "MEGNEVEZES": "Naptárhát nagy",
                                    "LISTAAR": "78",
                                    "(No column name)": "78,33333333333333"
                                },
                                {
                                    "TERMEKKOD": "06040087T",
                                    "MEGNEVEZES": "Ecset Nebuló 10-es",
                                    "LISTAAR": "79",
                                    "(No column name)": "79"
                                },
                                {
                                    "TERMEKKOD": "07040130T",
                                    "MEGNEVEZES": "G. toll betét S7S",
                                    "LISTAAR": "80",
                                    "(No column name)": "79,66666666666667"
                                },
                                {
                                    "TERMEKKOD": "07040391T",
                                    "MEGNEVEZES": "Toll Centropen roller",
                                    "LISTAAR": "80",
                                    "(No column name)": "80,33333333333333"
                                },
                                {
                                    "TERMEKKOD": "07080466T",
                                    "MEGNEVEZES": "Golyóstoll Stabiló 308",
                                    "LISTAAR": "81",
                                    "(No column name)": "80,66666666666667"
                                },
                                {
                                    "TERMEKKOD": "06080336T",
                                    "MEGNEVEZES": "Ragasztó 8 g Pritt",
                                    "LISTAAR": "81",
                                    "(No column name)": "81"
                                },
                                {
                                    "TERMEKKOD": "04110231T",
                                    "MEGNEVEZES": "Képeslap humoros borítékos",
                                    "LISTAAR": "81",
                                    "(No column name)": "81"
                                },
                                {
                                    "TERMEKKOD": "04040387T",
                                    "MEGNEVEZES": "Tenisz labda",
                                    "LISTAAR": "81",
                                    "(No column name)": "81"
                                },
                                {
                                    "TERMEKKOD": "02040197T",
                                    "MEGNEVEZES": "Hibajavító lap ",
                                    "LISTAAR": "81",
                                    "(No column name)": "81"
                                },
                                {
                                    "TERMEKKOD": "02040206T",
                                    "MEGNEVEZES": "Írásvetítő fólia",
                                    "LISTAAR": "81",
                                    "(No column name)": "81"
                                },
                                {
                                    "TERMEKKOD": "03050080T",
                                    "MEGNEVEZES": "Diszkötöző széles szalag",
                                    "LISTAAR": "81",
                                    "(No column name)": "81"
                                },
                                {
                                    "TERMEKKOD": "03080014T",
                                    "MEGNEVEZES": "Ajándék csom. 70x50 metál",
                                    "LISTAAR": "81",
                                    "(No column name)": "81"
                                },
                                {
                                    "TERMEKKOD": "02040308T",
                                    "MEGNEVEZES": "Pénztárgépsz. 2 pl. nem öníró",
                                    "LISTAAR": "81",
                                    "(No column name)": "82,33333333333333"
                                },
                                {
                                    "TERMEKKOD": "07040131T",
                                    "MEGNEVEZES": "G. toll betét UNI lachnok Fine SA-7C",
                                    "LISTAAR": "85",
                                    "(No column name)": "85"
                                },
                                {
                                    "TERMEKKOD": "06080339T",
                                    "MEGNEVEZES": "Ragasztó kores",
                                    "LISTAAR": "89",
                                    "(No column name)": "87,66666666666667"
                                },
                                {
                                    "TERMEKKOD": "07010144T",
                                    "MEGNEVEZES": "G.toll betét Zebra K-0,7",
                                    "LISTAAR": "89",
                                    "(No column name)": "89"
                                },
                                {
                                    "TERMEKKOD": "06040357T",
                                    "MEGNEVEZES": "Sp.Füzet A/5 70-es",
                                    "LISTAAR": "89",
                                    "(No column name)": "89"
                                },
                                {
                                    "TERMEKKOD": "06040378T",
                                    "MEGNEVEZES": "Szövegkiemelő vékony",
                                    "LISTAAR": "89",
                                    "(No column name)": "89"
                                },
                                {
                                    "TERMEKKOD": "06040324T",
                                    "MEGNEVEZES": "Post-it 75×75 100 lapos",
                                    "LISTAAR": "89",
                                    "(No column name)": "89"
                                },
                                {
                                    "TERMEKKOD": "02040295T",
                                    "MEGNEVEZES": "Notesz A/5 sima spirál",
                                    "LISTAAR": "89",
                                    "(No column name)": "89"
                                },
                                {
                                    "TERMEKKOD": "02080456T",
                                    "MEGNEVEZES": "Genoterm HERLITZ 10-es",
                                    "LISTAAR": "89",
                                    "(No column name)": "89"
                                },
                                {
                                    "TERMEKKOD": "02040290T",
                                    "MEGNEVEZES": "Naptár 24-es",
                                    "LISTAAR": "89",
                                    "(No column name)": "89"
                                },
                                {
                                    "TERMEKKOD": "02040210T",
                                    "MEGNEVEZES": "Iratsín kék",
                                    "LISTAAR": "89",
                                    "(No column name)": "89"
                                },
                                {
                                    "TERMEKKOD": "01100071T",
                                    "MEGNEVEZES": "Dekorációs karton arany, ezüst",
                                    "LISTAAR": "89",
                                    "(No column name)": "89"
                                },
                                {
                                    "TERMEKKOD": "04050022T",
                                    "MEGNEVEZES": "Álarc",
                                    "LISTAAR": "89",
                                    "(No column name)": "89"
                                },
                                {
                                    "TERMEKKOD": "04030263T",
                                    "MEGNEVEZES": "Levélpapír szett",
                                    "LISTAAR": "89",
                                    "(No column name)": "89"
                                },
                                {
                                    "TERMEKKOD": "04110233T",
                                    "MEGNEVEZES": "Képeslap humoros",
                                    "LISTAAR": "89",
                                    "(No column name)": "89"
                                },
                                {
                                    "TERMEKKOD": "05010370T",
                                    "MEGNEVEZES": "Szilvia csomagoló",
                                    "LISTAAR": "89",
                                    "(No column name)": "89"
                                },
                                {
                                    "TERMEKKOD": "05050346T",
                                    "MEGNEVEZES": "Rágógumi Orbit",
                                    "LISTAAR": "89",
                                    "(No column name)": "89,66666666666667"
                                },
                                {
                                    "TERMEKKOD": "07010139T",
                                    "MEGNEVEZES": "G.toll betét S7L ",
                                    "LISTAAR": "91",
                                    "(No column name)": "91"
                                },
                                {
                                    "TERMEKKOD": "06040379T",
                                    "MEGNEVEZES": "Szövegkiemelő ",
                                    "LISTAAR": "93",
                                    "(No column name)": "92,33333333333333"
                                },
                                {
                                    "TERMEKKOD": "07080157T",
                                    "MEGNEVEZES": "Golyóstoll Montex Hytone",
                                    "LISTAAR": "93",
                                    "(No column name)": "93"
                                },
                                {
                                    "TERMEKKOD": "04110277T",
                                    "MEGNEVEZES": "Matrica Stickers szíves",
                                    "LISTAAR": "93",
                                    "(No column name)": "93"
                                },
                                {
                                    "TERMEKKOD": "02040309T",
                                    "MEGNEVEZES": "Pénztárgépszalag 2pl SC 57.5/60",
                                    "LISTAAR": "93",
                                    "(No column name)": "93,33333333333333"
                                },
                                {
                                    "TERMEKKOD": "07080315T",
                                    "MEGNEVEZES": "Pixiron Handy műanyag",
                                    "LISTAAR": "94",
                                    "(No column name)": "93,66666666666667"
                                },
                                {
                                    "TERMEKKOD": "07040169T",
                                    "MEGNEVEZES": "Golyóstoll Zodiák",
                                    "LISTAAR": "94",
                                    "(No column name)": "94,33333333333333"
                                },
                                {
                                    "TERMEKKOD": "07080418T",
                                    "MEGNEVEZES": "Zselés toll ",
                                    "LISTAAR": "95",
                                    "(No column name)": "94,66666666666667"
                                },
                                {
                                    "TERMEKKOD": "06040183T",
                                    "MEGNEVEZES": "Gyűrűskönyv bet. A/5",
                                    "LISTAAR": "95",
                                    "(No column name)": "95,33333333333333"
                                },
                                {
                                    "TERMEKKOD": "06040385T",
                                    "MEGNEVEZES": "Tempera szóló ezüst",
                                    "LISTAAR": "96",
                                    "(No column name)": "96,66666666666667"
                                },
                                {
                                    "TERMEKKOD": "07010371T",
                                    "MEGNEVEZES": "Színes ceruza 6-os",
                                    "LISTAAR": "99",
                                    "(No column name)": "98,66666666666667"
                                },
                                {
                                    "TERMEKKOD": "06080338T",
                                    "MEGNEVEZES": "Ragasztó kenőfejes Nebuló",
                                    "LISTAAR": "101",
                                    "(No column name)": "100,33333333333333"
                                },
                                {
                                    "TERMEKKOD": "07080162T",
                                    "MEGNEVEZES": "Golyóstoll Stabilo piros",
                                    "LISTAAR": "101",
                                    "(No column name)": "101,66666666666667"
                                },
                                {
                                    "TERMEKKOD": "07030106T",
                                    "MEGNEVEZES": "Filctoll, alkoholosOHP F-M-C",
                                    "LISTAAR": "103",
                                    "(No column name)": "102,33333333333333"
                                },
                                {
                                    "TERMEKKOD": "06040381T",
                                    "MEGNEVEZES": "Szövegkiemelő Videotip",
                                    "LISTAAR": "103",
                                    "(No column name)": "103"
                                },
                                {
                                    "TERMEKKOD": "06040352T",
                                    "MEGNEVEZES": "Rovatolt papír 20 íves",
                                    "LISTAAR": "103",
                                    "(No column name)": "103"
                                },
                                {
                                    "TERMEKKOD": "02040294T",
                                    "MEGNEVEZES": "Notesz A/5 sima",
                                    "LISTAAR": "103",
                                    "(No column name)": "103"
                                },
                                {
                                    "TERMEKKOD": "02040297T",
                                    "MEGNEVEZES": "Notesz sima spirál College",
                                    "LISTAAR": "103",
                                    "(No column name)": "103"
                                },
                                {
                                    "TERMEKKOD": "02080449T",
                                    "MEGNEVEZES": "Térképtű színes",
                                    "LISTAAR": "103",
                                    "(No column name)": "103"
                                },
                                {
                                    "TERMEKKOD": "02080451T",
                                    "MEGNEVEZES": "Gémkapocs 50-es",
                                    "LISTAAR": "103",
                                    "(No column name)": "103"
                                },
                                {
                                    "TERMEKKOD": "03080008T",
                                    "MEGNEVEZES": "Ajándék cs. tasak kicsi",
                                    "LISTAAR": "103",
                                    "(No column name)": "103"
                                },
                                {
                                    "TERMEKKOD": "02020245T",
                                    "MEGNEVEZES": "Kiadási pénztárbizonylat 2×25",
                                    "LISTAAR": "103",
                                    "(No column name)": "103"
                                },
                                {
                                    "TERMEKKOD": "05040310T",
                                    "MEGNEVEZES": "Pill.ragasztó",
                                    "LISTAAR": "103",
                                    "(No column name)": "103"
                                },
                                {
                                    "TERMEKKOD": "04030265T",
                                    "MEGNEVEZES": "Levélpapír szett natur, mintás",
                                    "LISTAAR": "103",
                                    "(No column name)": "103"
                                },
                                {
                                    "TERMEKKOD": "04050253T",
                                    "MEGNEVEZES": "Kulcstartó figurás",
                                    "LISTAAR": "103",
                                    "(No column name)": "104"
                                },
                                {
                                    "TERMEKKOD": "03080031T",
                                    "MEGNEVEZES": "Ajándék cs. húsvéti",
                                    "LISTAAR": "106",
                                    "(No column name)": "105"
                                },
                                {
                                    "TERMEKKOD": "05040348T",
                                    "MEGNEVEZES": "Rajzszeg színes",
                                    "LISTAAR": "106",
                                    "(No column name)": "106"
                                },
                                {
                                    "TERMEKKOD": "02010028T",
                                    "MEGNEVEZES": "Árazószalag ",
                                    "LISTAAR": "106",
                                    "(No column name)": "106"
                                },
                                {
                                    "TERMEKKOD": "02080226T",
                                    "MEGNEVEZES": "Kapocskiszedő",
                                    "LISTAAR": "106",
                                    "(No column name)": "106"
                                },
                                {
                                    "TERMEKKOD": "07040057T",
                                    "MEGNEVEZES": "Ceruza Progresso",
                                    "LISTAAR": "106",
                                    "(No column name)": "107"
                                },
                                {
                                    "TERMEKKOD": "04110276T",
                                    "MEGNEVEZES": "Matrica Stickers nagy állatos",
                                    "LISTAAR": "109",
                                    "(No column name)": "108,33333333333333"
                                },
                                {
                                    "TERMEKKOD": "04050171T",
                                    "MEGNEVEZES": "Gumilabda közepes",
                                    "LISTAAR": "110",
                                    "(No column name)": "109,66666666666667"
                                },
                                {
                                    "TERMEKKOD": "03080016T",
                                    "MEGNEVEZES": "házt.csom.  5 ív",
                                    "LISTAAR": "110",
                                    "(No column name)": "110"
                                },
                                {
                                    "TERMEKKOD": "02040149T",
                                    "MEGNEVEZES": "Genotherm A4 10db-os",
                                    "LISTAAR": "110",
                                    "(No column name)": "110"
                                },
                                {
                                    "TERMEKKOD": "06080335T",
                                    "MEGNEVEZES": "Ragasztó 9 g Pax",
                                    "LISTAAR": "110",
                                    "(No column name)": "110"
                                },
                                {
                                    "TERMEKKOD": "07080468T",
                                    "MEGNEVEZES": "Golyóstoll háromfunkciós",
                                    "LISTAAR": "110",
                                    "(No column name)": "111,33333333333333"
                                },
                                {
                                    "TERMEKKOD": "07030105T",
                                    "MEGNEVEZES": "Filctoll, alkoholos Centropen",
                                    "LISTAAR": "114",
                                    "(No column name)": "112,66666666666667"
                                },
                                {
                                    "TERMEKKOD": "03080439T",
                                    "MEGNEVEZES": "Italtartó doboz",
                                    "LISTAAR": "114",
                                    "(No column name)": "114,33333333333333"
                                },
                                {
                                    "TERMEKKOD": "04050250T",
                                    "MEGNEVEZES": "Kulcstartó autós",
                                    "LISTAAR": "115",
                                    "(No column name)": "114,66666666666667"
                                },
                                {
                                    "TERMEKKOD": "02020029T",
                                    "MEGNEVEZES": "Átírótömb A/6",
                                    "LISTAAR": "115",
                                    "(No column name)": "116"
                                },
                                {
                                    "TERMEKKOD": "04030242T",
                                    "MEGNEVEZES": "Képeslap WD +boríték",
                                    "LISTAAR": "118",
                                    "(No column name)": "117"
                                },
                                {
                                    "TERMEKKOD": "05010026T",
                                    "MEGNEVEZES": "Alufólia 10 m-es",
                                    "LISTAAR": "118",
                                    "(No column name)": "118"
                                },
                                {
                                    "TERMEKKOD": "05110360T",
                                    "MEGNEVEZES": "Szalvéta egyszínű",
                                    "LISTAAR": "118",
                                    "(No column name)": "118,33333333333333"
                                },
                                {
                                    "TERMEKKOD": "06080333T",
                                    "MEGNEVEZES": "Radírtoll betét vastag",
                                    "LISTAAR": "119",
                                    "(No column name)": "119,33333333333333"
                                },
                                {
                                    "TERMEKKOD": "06080441T",
                                    "MEGNEVEZES": "Gyurmakés",
                                    "LISTAAR": "121",
                                    "(No column name)": "120,33333333333333"
                                },
                                {
                                    "TERMEKKOD": "03080018T",
                                    "MEGNEVEZES": "Ajándék csom. gyűrt 50x70 ",
                                    "LISTAAR": "121",
                                    "(No column name)": "121,66666666666667"
                                },
                                {
                                    "TERMEKKOD": "07010136T",
                                    "MEGNEVEZES": "G.toll betét PAX",
                                    "LISTAAR": "123",
                                    "(No column name)": "122,66666666666667"
                                },
                                {
                                    "TERMEKKOD": "04050252T",
                                    "MEGNEVEZES": "Kulcstartó Csőrikés",
                                    "LISTAAR": "124",
                                    "(No column name)": "124"
                                },
                                {
                                    "TERMEKKOD": "03080012T",
                                    "MEGNEVEZES": "Ajándék csom. 200x70",
                                    "LISTAAR": "125",
                                    "(No column name)": "124,66666666666667"
                                },
                                {
                                    "TERMEKKOD": "06040399T",
                                    "MEGNEVEZES": "Tombola tömb",
                                    "LISTAAR": "125",
                                    "(No column name)": "125"
                                },
                                {
                                    "TERMEKKOD": "07080312T",
                                    "MEGNEVEZES": "Pixiron 0,7 Handy",
                                    "LISTAAR": "125",
                                    "(No column name)": "126,33333333333333"
                                },
                                {
                                    "TERMEKKOD": "04050256T",
                                    "MEGNEVEZES": "Kulcstartó nagyítós",
                                    "LISTAAR": "129",
                                    "(No column name)": "127,66666666666667"
                                },
                                {
                                    "TERMEKKOD": "04050267T",
                                    "MEGNEVEZES": "Logikai készlet",
                                    "LISTAAR": "129",
                                    "(No column name)": "129"
                                },
                                {
                                    "TERMEKKOD": "05010369T",
                                    "MEGNEVEZES": "Szemetes zsák 60 literes",
                                    "LISTAAR": "129",
                                    "(No column name)": "129,66666666666666"
                                },
                                {
                                    "TERMEKKOD": "04050225T",
                                    "MEGNEVEZES": "Kártya mini Magyar",
                                    "LISTAAR": "131",
                                    "(No column name)": "131"
                                },
                                {
                                    "TERMEKKOD": "04050221T",
                                    "MEGNEVEZES": "Játékautó Blisteres",
                                    "LISTAAR": "133",
                                    "(No column name)": "132,33333333333334"
                                },
                                {
                                    "TERMEKKOD": "05110363T",
                                    "MEGNEVEZES": "Szalvéta dekor",
                                    "LISTAAR": "133",
                                    "(No column name)": "133"
                                },
                                {
                                    "TERMEKKOD": "02080081T",
                                    "MEGNEVEZES": "Dvd",
                                    "LISTAAR": "133",
                                    "(No column name)": "133"
                                },
                                {
                                    "TERMEKKOD": "02020032T",
                                    "MEGNEVEZES": "Beírókönyv A5 ",
                                    "LISTAAR": "133",
                                    "(No column name)": "133"
                                },
                                {
                                    "TERMEKKOD": "02040198T",
                                    "MEGNEVEZES": "Hibajavító roller 5 mm",
                                    "LISTAAR": "133",
                                    "(No column name)": "133"
                                },
                                {
                                    "TERMEKKOD": "02040025T",
                                    "MEGNEVEZES": "Álló irattartó karton",
                                    "LISTAAR": "133",
                                    "(No column name)": "133"
                                },
                                {
                                    "TERMEKKOD": "07080314T",
                                    "MEGNEVEZES": "Pixiron Handy fém",
                                    "LISTAAR": "133",
                                    "(No column name)": "133"
                                },
                                {
                                    "TERMEKKOD": "06050301T",
                                    "MEGNEVEZES": "Olló gyerek ",
                                    "LISTAAR": "133",
                                    "(No column name)": "133"
                                },
                                {
                                    "TERMEKKOD": "06080334T",
                                    "MEGNEVEZES": "Ragasztó szalag KORES ",
                                    "LISTAAR": "133",
                                    "(No column name)": "135,33333333333334"
                                },
                                {
                                    "TERMEKKOD": "07040101T",
                                    "MEGNEVEZES": "Filctoll permanent vastag",
                                    "LISTAAR": "140",
                                    "(No column name)": "137,66666666666666"
                                },
                                {
                                    "TERMEKKOD": "07050464T",
                                    "MEGNEVEZES": "Szövegkiemelő Staedtler",
                                    "LISTAAR": "140",
                                    "(No column name)": "140"
                                },
                                {
                                    "TERMEKKOD": "04030261T",
                                    "MEGNEVEZES": "Levélpapír állatos",
                                    "LISTAAR": "140",
                                    "(No column name)": "141,33333333333334"
                                },
                                {
                                    "TERMEKKOD": "04050023T",
                                    "MEGNEVEZES": "Álarc fejdísz",
                                    "LISTAAR": "144",
                                    "(No column name)": "142,66666666666666"
                                },
                                {
                                    "TERMEKKOD": "04050024T",
                                    "MEGNEVEZES": "Álarc szemüveg",
                                    "LISTAAR": "144",
                                    "(No column name)": "144"
                                },
                                {
                                    "TERMEKKOD": "05080340T",
                                    "MEGNEVEZES": "Ragasztó, Technokol 35g kék",
                                    "LISTAAR": "144",
                                    "(No column name)": "144"
                                },
                                {
                                    "TERMEKKOD": "05080341T",
                                    "MEGNEVEZES": "Ragasztó, Technokol 35g piros",
                                    "LISTAAR": "144",
                                    "(No column name)": "144"
                                },
                                {
                                    "TERMEKKOD": "02020037T",
                                    "MEGNEVEZES": "Bevételi pénztárbizonylat 3×25",
                                    "LISTAAR": "144",
                                    "(No column name)": "144"
                                },
                                {
                                    "TERMEKKOD": "06040356T",
                                    "MEGNEVEZES": "Sp.Füzet A/4  70es",
                                    "LISTAAR": "144",
                                    "(No column name)": "144,66666666666666"
                                },
                                {
                                    "TERMEKKOD": "07080062T",
                                    "MEGNEVEZES": "Ceruza szén",
                                    "LISTAAR": "146",
                                    "(No column name)": "146"
                                },
                                {
                                    "TERMEKKOD": "06040174T",
                                    "MEGNEVEZES": "Gumis mappa ",
                                    "LISTAAR": "148",
                                    "(No column name)": "147,33333333333334"
                                },
                                {
                                    "TERMEKKOD": "03080011T",
                                    "MEGNEVEZES": "Ajándék cs. tasak közepes",
                                    "LISTAAR": "148",
                                    "(No column name)": "148"
                                },
                                {
                                    "TERMEKKOD": "03080009T",
                                    "MEGNEVEZES": "Ajándék csom. 100x70 metál",
                                    "LISTAAR": "148",
                                    "(No column name)": "148"
                                },
                                {
                                    "TERMEKKOD": "03080017T",
                                    "MEGNEVEZES": "iskolai csomagoló papír",
                                    "LISTAAR": "148",
                                    "(No column name)": "148"
                                },
                                {
                                    "TERMEKKOD": "03050458T",
                                    "MEGNEVEZES": "Ajándék cs. 2×100×70",
                                    "LISTAAR": "148",
                                    "(No column name)": "148"
                                },
                                {
                                    "TERMEKKOD": "04110280T",
                                    "MEGNEVEZES": "Matrica tetoválós kicsi",
                                    "LISTAAR": "148",
                                    "(No column name)": "148"
                                },
                                {
                                    "TERMEKKOD": "04050251T",
                                    "MEGNEVEZES": "Kulcstartó billiárd golyós",
                                    "LISTAAR": "148",
                                    "(No column name)": "150,33333333333334"
                                },
                                {
                                    "TERMEKKOD": "04050254T",
                                    "MEGNEVEZES": "Kulcstartó intarziás állatos",
                                    "LISTAAR": "155",
                                    "(No column name)": "152,66666666666666"
                                },
                                {
                                    "TERMEKKOD": "04110283T",
                                    "MEGNEVEZES": "Meghívó állatos",
                                    "LISTAAR": "155",
                                    "(No column name)": "155"
                                },
                                {
                                    "TERMEKKOD": "06040355T",
                                    "MEGNEVEZES": "Sp.Füzet A/4 70-as",
                                    "LISTAAR": "155",
                                    "(No column name)": "157"
                                },
                                {
                                    "TERMEKKOD": "06040246T",
                                    "MEGNEVEZES": "Körző",
                                    "LISTAAR": "161",
                                    "(No column name)": "159"
                                },
                                {
                                    "TERMEKKOD": "06050303T",
                                    "MEGNEVEZES": "Olló, iskolai",
                                    "LISTAAR": "161",
                                    "(No column name)": "161"
                                },
                                {
                                    "TERMEKKOD": "07010372T",
                                    "MEGNEVEZES": "Színes ceruza 12 szín",
                                    "LISTAAR": "161",
                                    "(No column name)": "161"
                                },
                                {
                                    "TERMEKKOD": "06080259T",
                                    "MEGNEVEZES": "Leckefüzet",
                                    "LISTAAR": "161",
                                    "(No column name)": "161"
                                },
                                {
                                    "TERMEKKOD": "06080440T",
                                    "MEGNEVEZES": "Gyurma 12 szinű",
                                    "LISTAAR": "161",
                                    "(No column name)": "161"
                                },
                                {
                                    "TERMEKKOD": "06080426T",
                                    "MEGNEVEZES": "Szótárfüzet Lizzy",
                                    "LISTAAR": "161",
                                    "(No column name)": "161"
                                },
                                {
                                    "TERMEKKOD": "06080427T",
                                    "MEGNEVEZES": "Ablakkréta",
                                    "LISTAAR": "161",
                                    "(No column name)": "161"
                                },
                                {
                                    "TERMEKKOD": "07080420T",
                                    "MEGNEVEZES": "Zselés toll Muhnwa",
                                    "LISTAAR": "161",
                                    "(No column name)": "161"
                                },
                                {
                                    "TERMEKKOD": "04110278T",
                                    "MEGNEVEZES": "Matrica Test ékszer tattoo",
                                    "LISTAAR": "161",
                                    "(No column name)": "161"
                                },
                                {
                                    "TERMEKKOD": "05110364T",
                                    "MEGNEVEZES": "Szalvéta kicsi virágos",
                                    "LISTAAR": "161",
                                    "(No column name)": "161"
                                },
                                {
                                    "TERMEKKOD": "04050321T",
                                    "MEGNEVEZES": "Plüss kicsi",
                                    "LISTAAR": "161",
                                    "(No column name)": "161"
                                },
                                {
                                    "TERMEKKOD": "01080093T",
                                    "MEGNEVEZES": "Fax papír 15 m",
                                    "LISTAAR": "161",
                                    "(No column name)": "162,33333333333334"
                                },
                                {
                                    "TERMEKKOD": "04050222T",
                                    "MEGNEVEZES": "Játékautó elemes",
                                    "LISTAAR": "165",
                                    "(No column name)": "164"
                                },
                                {
                                    "TERMEKKOD": "03010345T",
                                    "MEGNEVEZES": "Ragasztószalag széles barna",
                                    "LISTAAR": "166",
                                    "(No column name)": "166,33333333333334"
                                },
                                {
                                    "TERMEKKOD": "04110279T",
                                    "MEGNEVEZES": "Matrica tetoválás",
                                    "LISTAAR": "168",
                                    "(No column name)": "167,66666666666666"
                                },
                                {
                                    "TERMEKKOD": "04110284T",
                                    "MEGNEVEZES": "Meghívó borítékos",
                                    "LISTAAR": "169",
                                    "(No column name)": "168,66666666666666"
                                },
                                {
                                    "TERMEKKOD": "04050204T",
                                    "MEGNEVEZES": "Hűtőmágnes WD",
                                    "LISTAAR": "169",
                                    "(No column name)": "169"
                                },
                                {
                                    "TERMEKKOD": "04030266T",
                                    "MEGNEVEZES": "Levélpapír szett virágos",
                                    "LISTAAR": "169",
                                    "(No column name)": "169"
                                },
                                {
                                    "TERMEKKOD": "03080015T",
                                    "MEGNEVEZES": "Ajándék csom. gyűrt",
                                    "LISTAAR": "169",
                                    "(No column name)": "170,33333333333334"
                                },
                                {
                                    "TERMEKKOD": "04050320T",
                                    "MEGNEVEZES": "Plüss  QX állatok",
                                    "LISTAAR": "173",
                                    "(No column name)": "172,33333333333334"
                                },
                                {
                                    "TERMEKKOD": "04110281T",
                                    "MEGNEVEZES": "Matrica világítós ",
                                    "LISTAAR": "175",
                                    "(No column name)": "174,33333333333334"
                                },
                                {
                                    "TERMEKKOD": "05110361T",
                                    "MEGNEVEZES": "Szalvéta Goma húsvéti",
                                    "LISTAAR": "175",
                                    "(No column name)": "175,33333333333334"
                                },
                                {
                                    "TERMEKKOD": "05110359T",
                                    "MEGNEVEZES": "Szalvéta ",
                                    "LISTAAR": "176",
                                    "(No column name)": "175,66666666666666"
                                },
                                {
                                    "TERMEKKOD": "06080410T",
                                    "MEGNEVEZES": "Vízfesték 12db-os kínai",
                                    "LISTAAR": "176",
                                    "(No column name)": "176"
                                },
                                {
                                    "TERMEKKOD": "06050302T",
                                    "MEGNEVEZES": "Olló Tagit 18 cm-es",
                                    "LISTAAR": "176",
                                    "(No column name)": "177,33333333333334"
                                },
                                {
                                    "TERMEKKOD": "06040179T",
                                    "MEGNEVEZES": "Gyurma színes 200 g-os",
                                    "LISTAAR": "180",
                                    "(No column name)": "178,66666666666666"
                                },
                                {
                                    "TERMEKKOD": "06080409T",
                                    "MEGNEVEZES": "Vízfesték 12 színű kerek",
                                    "LISTAAR": "180",
                                    "(No column name)": "180"
                                },
                                {
                                    "TERMEKKOD": "06080193T",
                                    "MEGNEVEZES": "Hegyző fém 2 lyukú",
                                    "LISTAAR": "180",
                                    "(No column name)": "180"
                                },
                                {
                                    "TERMEKKOD": "06080428T",
                                    "MEGNEVEZES": "Ecsetkészlet",
                                    "LISTAAR": "180",
                                    "(No column name)": "181"
                                },
                                {
                                    "TERMEKKOD": "04110362T",
                                    "MEGNEVEZES": "Szalvéta gyűjtőknek",
                                    "LISTAAR": "183",
                                    "(No column name)": "182,33333333333334"
                                },
                                {
                                    "TERMEKKOD": "04110228T",
                                    "MEGNEVEZES": "Képeslap \"Nászajándék\"",
                                    "LISTAAR": "184",
                                    "(No column name)": "183,66666666666666"
                                },
                                {
                                    "TERMEKKOD": "02080435T",
                                    "MEGNEVEZES": "Mappa bemutató",
                                    "LISTAAR": "184",
                                    "(No column name)": "184"
                                },
                                {
                                    "TERMEKKOD": "06040182T",
                                    "MEGNEVEZES": "Gyűrűskönyv bet. A/4",
                                    "LISTAAR": "184",
                                    "(No column name)": "184,33333333333334"
                                },
                                {
                                    "TERMEKKOD": "03080003T",
                                    "MEGNEVEZES": "Ajándék cs. tasak italos",
                                    "LISTAAR": "185",
                                    "(No column name)": "184,66666666666666"
                                },
                                {
                                    "TERMEKKOD": "02040195T",
                                    "MEGNEVEZES": "Hibajavító ecsetes Aqua",
                                    "LISTAAR": "185",
                                    "(No column name)": "185"
                                },
                                {
                                    "TERMEKKOD": "03080437T",
                                    "MEGNEVEZES": "Ajándék csomagoló tasak",
                                    "LISTAAR": "185",
                                    "(No column name)": "186"
                                },
                                {
                                    "TERMEKKOD": "07080470T",
                                    "MEGNEVEZES": "Golyóstoll háromszög",
                                    "LISTAAR": "188",
                                    "(No column name)": "187,33333333333334"
                                },
                                {
                                    "TERMEKKOD": "07040168T",
                                    "MEGNEVEZES": "Golyóstoll Zebra new hard",
                                    "LISTAAR": "189",
                                    "(No column name)": "189"
                                },
                                {
                                    "TERMEKKOD": "08070482T",
                                    "MEGNEVEZES": "Fizika munkafüzet 14 év.",
                                    "LISTAAR": "190",
                                    "(No column name)": "190"
                                },
                                {
                                    "TERMEKKOD": "06040175T",
                                    "MEGNEVEZES": "Gumis mappa Köbüki",
                                    "LISTAAR": "191",
                                    "(No column name)": "192"
                                },
                                {
                                    "TERMEKKOD": "06080121T",
                                    "MEGNEVEZES": "Füzetborító öntapadó tekercses",
                                    "LISTAAR": "195",
                                    "(No column name)": "193,66666666666666"
                                },
                                {
                                    "TERMEKKOD": "04030243T",
                                    "MEGNEVEZES": "Képkirakó Dirib-darab",
                                    "LISTAAR": "195",
                                    "(No column name)": "195"
                                },
                                {
                                    "TERMEKKOD": "06040172T",
                                    "MEGNEVEZES": "Gumis mappa csomagolt",
                                    "LISTAAR": "195",
                                    "(No column name)": "196"
                                },
                                {
                                    "TERMEKKOD": "08070481T",
                                    "MEGNEVEZES": "Fizika munkafüzet 13 év.",
                                    "LISTAAR": "198",
                                    "(No column name)": "198,66666666666666"
                                },
                                {
                                    "TERMEKKOD": "06080126T",
                                    "MEGNEVEZES": "Füzettartó A/5  ",
                                    "LISTAAR": "203",
                                    "(No column name)": "201,33333333333334"
                                },
                                {
                                    "TERMEKKOD": "06040351T",
                                    "MEGNEVEZES": "Regiszteres füzet A5 Hightech",
                                    "LISTAAR": "203",
                                    "(No column name)": "204"
                                },
                                {
                                    "TERMEKKOD": "06040354T",
                                    "MEGNEVEZES": "Sp.Füzet A/4  perforált, lyuk.",
                                    "LISTAAR": "206",
                                    "(No column name)": "205"
                                },
                                {
                                    "TERMEKKOD": "03080007T",
                                    "MEGNEVEZES": "Ajándék cs. tasak mintás nagy",
                                    "LISTAAR": "206",
                                    "(No column name)": "206"
                                },
                                {
                                    "TERMEKKOD": "03080010T",
                                    "MEGNEVEZES": "Ajándék csom. 150x70",
                                    "LISTAAR": "206",
                                    "(No column name)": "207,33333333333334"
                                },
                                {
                                    "TERMEKKOD": "02080434T",
                                    "MEGNEVEZES": "Mappa müa A/4",
                                    "LISTAAR": "210",
                                    "(No column name)": "208,66666666666666"
                                },
                                {
                                    "TERMEKKOD": "06080408T",
                                    "MEGNEVEZES": "Vízfesték 12 db-os ",
                                    "LISTAAR": "210",
                                    "(No column name)": "210,33333333333334"
                                },
                                {
                                    "TERMEKKOD": "06040173T",
                                    "MEGNEVEZES": "Gumis mappa fóliázott állatos",
                                    "LISTAAR": "211",
                                    "(No column name)": "211,66666666666666"
                                },
                                {
                                    "TERMEKKOD": "05010027T",
                                    "MEGNEVEZES": "Alufólia 20 m-es",
                                    "LISTAAR": "214",
                                    "(No column name)": "213"
                                },
                                {
                                    "TERMEKKOD": "03080438T",
                                    "MEGNEVEZES": "Ajándék csomagoló tasak lézeres",
                                    "LISTAAR": "214",
                                    "(No column name)": "214"
                                },
                                {
                                    "TERMEKKOD": "02080431T",
                                    "MEGNEVEZES": "Álló irattartó",
                                    "LISTAAR": "214",
                                    "(No column name)": "214"
                                },
                                {
                                    "TERMEKKOD": "08070491T",
                                    "MEGNEVEZES": "Szám.tech. kicsiknek",
                                    "LISTAAR": "214",
                                    "(No column name)": "215,33333333333334"
                                },
                                {
                                    "TERMEKKOD": "07040165T",
                                    "MEGNEVEZES": "Golyóstoll UNI laknock",
                                    "LISTAAR": "218",
                                    "(No column name)": "216,66666666666666"
                                },
                                {
                                    "TERMEKKOD": "06040184T",
                                    "MEGNEVEZES": "Gyűrűskönyv betét A/5",
                                    "LISTAAR": "218",
                                    "(No column name)": "218,66666666666666"
                                },
                                {
                                    "TERMEKKOD": "03080030T",
                                    "MEGNEVEZES": "Ajándék cs. húsvéti 200x70",
                                    "LISTAAR": "220",
                                    "(No column name)": "222"
                                },
                                {
                                    "TERMEKKOD": "06040180T",
                                    "MEGNEVEZES": "Gyurma színes natúr",
                                    "LISTAAR": "228",
                                    "(No column name)": "225,33333333333334"
                                },
                                {
                                    "TERMEKKOD": "06080423T",
                                    "MEGNEVEZES": "Beíró A/5 kockás",
                                    "LISTAAR": "228",
                                    "(No column name)": "228"
                                },
                                {
                                    "TERMEKKOD": "07010142T",
                                    "MEGNEVEZES": "G.toll betét Zebra F-0.7",
                                    "LISTAAR": "228",
                                    "(No column name)": "228"
                                },
                                {
                                    "TERMEKKOD": "07080421T",
                                    "MEGNEVEZES": "Zseléstoll Lizzy Card",
                                    "LISTAAR": "228",
                                    "(No column name)": "228,66666666666666"
                                },
                                {
                                    "TERMEKKOD": "07080163T",
                                    "MEGNEVEZES": "Golyóstoll UNI átlátszó",
                                    "LISTAAR": "230",
                                    "(No column name)": "229,66666666666666"
                                },
                                {
                                    "TERMEKKOD": "07080164T",
                                    "MEGNEVEZES": "Golyóstoll UNI gumis",
                                    "LISTAAR": "231",
                                    "(No column name)": "232"
                                },
                                {
                                    "TERMEKKOD": "07080318T",
                                    "MEGNEVEZES": "Pixiron Penac",
                                    "LISTAAR": "235",
                                    "(No column name)": "235"
                                },
                                {
                                    "TERMEKKOD": "07080160T",
                                    "MEGNEVEZES": "Golyóstoll penac",
                                    "LISTAAR": "239",
                                    "(No column name)": "238"
                                },
                                {
                                    "TERMEKKOD": "G029-FE307",
                                    "MEGNEVEZES": "fiú zokni",
                                    "LISTAAR": "240",
                                    "(No column name)": "239,66666666666666"
                                },
                                {
                                    "TERMEKKOD": "L029-FE307",
                                    "MEGNEVEZES": "lány zokni",
                                    "LISTAAR": "240",
                                    "(No column name)": "241"
                                },
                                {
                                    "TERMEKKOD": "06040248T",
                                    "MEGNEVEZES": "Körző maped",
                                    "LISTAAR": "243",
                                    "(No column name)": "242"
                                },
                                {
                                    "TERMEKKOD": "02040211T",
                                    "MEGNEVEZES": "Iratrendező ESSELTE",
                                    "LISTAAR": "243",
                                    "(No column name)": "245"
                                },
                                {
                                    "TERMEKKOD": "06080407T",
                                    "MEGNEVEZES": "Vízfesték  12 színű nagy",
                                    "LISTAAR": "249",
                                    "(No column name)": "249,33333333333334"
                                },
                                {
                                    "TERMEKKOD": "06040350T",
                                    "MEGNEVEZES": "Regiszteres füzet A4",
                                    "LISTAAR": "256",
                                    "(No column name)": "254,66666666666666"
                                },
                                {
                                    "TERMEKKOD": "02080432T",
                                    "MEGNEVEZES": "Tokos iratrendező",
                                    "LISTAAR": "259",
                                    "(No column name)": "259,6666666666667"
                                },
                                {
                                    "TERMEKKOD": "04080271T",
                                    "MEGNEVEZES": "Mappa PVC villámzáras",
                                    "LISTAAR": "264",
                                    "(No column name)": "265,3333333333333"
                                },
                                {
                                    "TERMEKKOD": "02040196T",
                                    "MEGNEVEZES": "Hibajavító készlet Blanco",
                                    "LISTAAR": "273",
                                    "(No column name)": "270"
                                },
                                {
                                    "TERMEKKOD": "07080467T",
                                    "MEGNEVEZES": "Golyóstoll kétfunkciós ICO",
                                    "LISTAAR": "273",
                                    "(No column name)": "274"
                                },
                                {
                                    "TERMEKKOD": "07080311T",
                                    "MEGNEVEZES": "Pixiron  UNI",
                                    "LISTAAR": "276",
                                    "(No column name)": "275"
                                },
                                {
                                    "TERMEKKOD": "07030107T",
                                    "MEGNEVEZES": "Filctoll, textil Edding 4500",
                                    "LISTAAR": "276",
                                    "(No column name)": "276,6666666666667"
                                },
                                {
                                    "TERMEKKOD": "07040098T",
                                    "MEGNEVEZES": "Filctoll document pen",
                                    "LISTAAR": "278",
                                    "(No column name)": "277,3333333333333"
                                },
                                {
                                    "TERMEKKOD": "02040200T",
                                    "MEGNEVEZES": "Hibajavító Kores mini pen",
                                    "LISTAAR": "278",
                                    "(No column name)": "280,6666666666667"
                                },
                                {
                                    "TERMEKKOD": "02040199T",
                                    "MEGNEVEZES": "Hibajavító roller Pax",
                                    "LISTAAR": "286",
                                    "(No column name)": "283,3333333333333"
                                },
                                {
                                    "TERMEKKOD": "02040402T",
                                    "MEGNEVEZES": "Tűzőgép Boxer ",
                                    "LISTAAR": "286",
                                    "(No column name)": "287,3333333333333"
                                },
                                {
                                    "TERMEKKOD": "03080005T",
                                    "MEGNEVEZES": "Ajándék cs. tasak virágos nagy",
                                    "LISTAAR": "290",
                                    "(No column name)": "289"
                                },
                                {
                                    "TERMEKKOD": "08070485T",
                                    "MEGNEVEZES": "Jól felkészültem-e - Fizika",
                                    "LISTAAR": "291",
                                    "(No column name)": "291,3333333333333"
                                },
                                {
                                    "TERMEKKOD": "08070476T",
                                    "MEGNEVEZES": "Anyanyelvi gyakorló 2",
                                    "LISTAAR": "293",
                                    "(No column name)": "292,3333333333333"
                                },
                                {
                                    "TERMEKKOD": "06080337T",
                                    "MEGNEVEZES": "Ragasztó Gyurma",
                                    "LISTAAR": "293",
                                    "(No column name)": "293,3333333333333"
                                },
                                {
                                    "TERMEKKOD": "07080471T",
                                    "MEGNEVEZES": "Golyóstoll levélbontós",
                                    "LISTAAR": "294",
                                    "(No column name)": "294,6666666666667"
                                },
                                {
                                    "TERMEKKOD": "02060034T",
                                    "MEGNEVEZES": "Bélyegzőfesték ",
                                    "LISTAAR": "297",
                                    "(No column name)": "296,6666666666667"
                                },
                                {
                                    "TERMEKKOD": "07080319T",
                                    "MEGNEVEZES": "Pixiron Pentel színes",
                                    "LISTAAR": "299",
                                    "(No column name)": "301,3333333333333"
                                },
                                {
                                    "TERMEKKOD": "08070480T",
                                    "MEGNEVEZES": "Fizika 13 éveseknek",
                                    "LISTAAR": "308",
                                    "(No column name)": "305,6666666666667"
                                },
                                {
                                    "TERMEKKOD": "02040293T",
                                    "MEGNEVEZES": "Névjegytartó kicsi",
                                    "LISTAAR": "310",
                                    "(No column name)": "310,6666666666667"
                                },
                                {
                                    "TERMEKKOD": "04050322T",
                                    "MEGNEVEZES": "Plüss sárkány",
                                    "LISTAAR": "314",
                                    "(No column name)": "313,3333333333333"
                                },
                                {
                                    "TERMEKKOD": "04080442T",
                                    "MEGNEVEZES": "Emlékkönyv",
                                    "LISTAAR": "316",
                                    "(No column name)": "318"
                                },
                                {
                                    "TERMEKKOD": "08070483T",
                                    "MEGNEVEZES": "Fizikai feladatok és tévedések",
                                    "LISTAAR": "324",
                                    "(No column name)": "321,3333333333333"
                                },
                                {
                                    "TERMEKKOD": "06080422T",
                                    "MEGNEVEZES": "Füzettartó A/4",
                                    "LISTAAR": "324",
                                    "(No column name)": "324"
                                },
                                {
                                    "TERMEKKOD": "06040394T",
                                    "MEGNEVEZES": "Tolltartó zipzáras",
                                    "LISTAAR": "324",
                                    "(No column name)": "325,3333333333333"
                                },
                                {
                                    "TERMEKKOD": "02020033T",
                                    "MEGNEVEZES": "Beírókönyv A4",
                                    "LISTAAR": "328",
                                    "(No column name)": "330,3333333333333"
                                },
                                {
                                    "TERMEKKOD": "02040401T",
                                    "MEGNEVEZES": "Tűzőgép Boxer 10",
                                    "LISTAAR": "339",
                                    "(No column name)": "336,3333333333333"
                                },
                                {
                                    "TERMEKKOD": "01010001T",
                                    "MEGNEVEZES": "félfamentes rajzlap A4 (10 lap)",
                                    "LISTAAR": "342",
                                    "(No column name)": "342"
                                },
                                {
                                    "TERMEKKOD": "08070484T",
                                    "MEGNEVEZES": "Fogalmazás lépésről lépésre",
                                    "LISTAAR": "345",
                                    "(No column name)": "346,6666666666667"
                                },
                                {
                                    "TERMEKKOD": "08070477T",
                                    "MEGNEVEZES": "Anyanyelvi gyakorló 3",
                                    "LISTAAR": "353",
                                    "(No column name)": "351,3333333333333"
                                },
                                {
                                    "TERMEKKOD": "04050358T",
                                    "MEGNEVEZES": "Strandlabda ",
                                    "LISTAAR": "356",
                                    "(No column name)": "356,3333333333333"
                                },
                                {
                                    "TERMEKKOD": "04080272T",
                                    "MEGNEVEZES": "Mappa PVC villámzáras  képes",
                                    "LISTAAR": "360",
                                    "(No column name)": "358,6666666666667"
                                },
                                {
                                    "TERMEKKOD": "07040389T",
                                    "MEGNEVEZES": "Tintapatron 30 db-os kék",
                                    "LISTAAR": "360",
                                    "(No column name)": "361,3333333333333"
                                },
                                {
                                    "TERMEKKOD": "07080469T",
                                    "MEGNEVEZES": "Golyóstoll UNIBALL 07",
                                    "LISTAAR": "364",
                                    "(No column name)": "371,3333333333333"
                                },
                                {
                                    "TERMEKKOD": "07080151T",
                                    "MEGNEVEZES": "Golyóstoll + ceruza Twister 2in1",
                                    "LISTAAR": "390",
                                    "(No column name)": "381,3333333333333"
                                },
                                {
                                    "TERMEKKOD": "G023-FE301",
                                    "MEGNEVEZES": "fiú alsó",
                                    "LISTAAR": "390",
                                    "(No column name)": "390"
                                },
                                {
                                    "TERMEKKOD": "L023-FE301",
                                    "MEGNEVEZES": "lány alsó",
                                    "LISTAAR": "390",
                                    "(No column name)": "390"
                                },
                                {
                                    "TERMEKKOD": "07040100T",
                                    "MEGNEVEZES": "Filctoll Marvy alkoholos",
                                    "LISTAAR": "390",
                                    "(No column name)": "393,6666666666667"
                                },
                                {
                                    "TERMEKKOD": "07080154T",
                                    "MEGNEVEZES": "Golyóstoll INOXCROM",
                                    "LISTAAR": "401",
                                    "(No column name)": "398"
                                },
                                {
                                    "TERMEKKOD": "08070486T",
                                    "MEGNEVEZES": "Matematika gyakorló 2",
                                    "LISTAAR": "403",
                                    "(No column name)": "402,3333333333333"
                                },
                                {
                                    "TERMEKKOD": "08070487T",
                                    "MEGNEVEZES": "Matematika gyakorló 3",
                                    "LISTAAR": "403",
                                    "(No column name)": "403"
                                },
                                {
                                    "TERMEKKOD": "08070488T",
                                    "MEGNEVEZES": "Matematika gyakorló 4",
                                    "LISTAAR": "403",
                                    "(No column name)": "403,6666666666667"
                                },
                                {
                                    "TERMEKKOD": "02040404T",
                                    "MEGNEVEZES": "Tűzőgép EAGLE",
                                    "LISTAAR": "405",
                                    "(No column name)": "406"
                                },
                                {
                                    "TERMEKKOD": "06040396T",
                                    "MEGNEVEZES": "Tolltartó Garfield",
                                    "LISTAAR": "410",
                                    "(No column name)": "408,6666666666667"
                                },
                                {
                                    "TERMEKKOD": "06040398T",
                                    "MEGNEVEZES": "Tolltartó hengeres ",
                                    "LISTAAR": "411",
                                    "(No column name)": "410,6666666666667"
                                },
                                {
                                    "TERMEKKOD": "06080125T",
                                    "MEGNEVEZES": "Füzettartó A/5 vastag",
                                    "LISTAAR": "411",
                                    "(No column name)": "416"
                                },
                                {
                                    "TERMEKKOD": "06010343T",
                                    "MEGNEVEZES": "Ragasztószalag 19 mm-es SCOTCH+ tépő",
                                    "LISTAAR": "426",
                                    "(No column name)": "423,6666666666667"
                                },
                                {
                                    "TERMEKKOD": "07040099T",
                                    "MEGNEVEZES": "Filctoll Edding 750",
                                    "LISTAAR": "434",
                                    "(No column name)": "431,3333333333333"
                                },
                                {
                                    "TERMEKKOD": "07040257T",
                                    "MEGNEVEZES": "Lakk filc Edding 750",
                                    "LISTAAR": "434",
                                    "(No column name)": "435,3333333333333"
                                },
                                {
                                    "TERMEKKOD": "02080452T",
                                    "MEGNEVEZES": "Tűzőgép mini",
                                    "LISTAAR": "438",
                                    "(No column name)": "437,3333333333333"
                                },
                                {
                                    "TERMEKKOD": "08070475T",
                                    "MEGNEVEZES": "A föld amelyen élünk - munkafüzet",
                                    "LISTAAR": "440",
                                    "(No column name)": "439,3333333333333"
                                },
                                {
                                    "TERMEKKOD": "08070494T",
                                    "MEGNEVEZES": "Érettségi felv. fel. Fizika",
                                    "LISTAAR": "440",
                                    "(No column name)": "440"
                                },
                                {
                                    "TERMEKKOD": "08070495T",
                                    "MEGNEVEZES": "Érettségi felv. fel. Biológia",
                                    "LISTAAR": "440",
                                    "(No column name)": "443"
                                },
                                {
                                    "TERMEKKOD": "04080443T",
                                    "MEGNEVEZES": "Emlékkönyv lakatos",
                                    "LISTAAR": "449",
                                    "(No column name)": "448"
                                },
                                {
                                    "TERMEKKOD": "07040166T",
                                    "MEGNEVEZES": "Golyóstoll Zebra 301",
                                    "LISTAAR": "455",
                                    "(No column name)": "456"
                                },
                                {
                                    "TERMEKKOD": "02020444T",
                                    "MEGNEVEZES": "Határidő napló A/6",
                                    "LISTAAR": "464",
                                    "(No column name)": "462,3333333333333"
                                },
                                {
                                    "TERMEKKOD": "07080316T",
                                    "MEGNEVEZES": "Pixiron KOH-I-NOOR",
                                    "LISTAAR": "468",
                                    "(No column name)": "475"
                                },
                                {
                                    "TERMEKKOD": "07050462T",
                                    "MEGNEVEZES": "Töltőtoll tinta ",
                                    "LISTAAR": "493",
                                    "(No column name)": "489,6666666666667"
                                },
                                {
                                    "TERMEKKOD": "06080124T",
                                    "MEGNEVEZES": "Füzettartó A/4 keménytáblás",
                                    "LISTAAR": "508",
                                    "(No column name)": "503"
                                },
                                {
                                    "TERMEKKOD": "06010366T",
                                    "MEGNEVEZES": "Számológép Roxin",
                                    "LISTAAR": "508",
                                    "(No column name)": "509"
                                },
                                {
                                    "TERMEKKOD": "06040400T",
                                    "MEGNEVEZES": "Tornazsák",
                                    "LISTAAR": "511",
                                    "(No column name)": "515"
                                },
                                {
                                    "TERMEKKOD": "04040090T",
                                    "MEGNEVEZES": "Emlékkönyv",
                                    "LISTAAR": "526",
                                    "(No column name)": "521"
                                },
                                {
                                    "TERMEKKOD": "02080453T",
                                    "MEGNEVEZES": "Lyukasztó EAGLE",
                                    "LISTAAR": "526",
                                    "(No column name)": "534,3333333333334"
                                },
                                {
                                    "TERMEKKOD": "06080123T",
                                    "MEGNEVEZES": "Füzettartó A/4 keménytáblás",
                                    "LISTAAR": "551",
                                    "(No column name)": "552,6666666666666"
                                },
                                {
                                    "TERMEKKOD": "06040185T",
                                    "MEGNEVEZES": "Gyűrűskönyv",
                                    "LISTAAR": "581",
                                    "(No column name)": "585,6666666666666"
                                },
                                {
                                    "TERMEKKOD": "02080455T",
                                    "MEGNEVEZES": "Festékpatron BCI-3BK",
                                    "LISTAAR": "625",
                                    "(No column name)": "613"
                                },
                                {
                                    "TERMEKKOD": "06040382T",
                                    "MEGNEVEZES": "Táblafilc",
                                    "LISTAAR": "633",
                                    "(No column name)": "636"
                                },
                                {
                                    "TERMEKKOD": "02060039T",
                                    "MEGNEVEZES": "Bélyegző párna",
                                    "LISTAAR": "650",
                                    "(No column name)": "646"
                                },
                                {
                                    "TERMEKKOD": "06040397T",
                                    "MEGNEVEZES": "Tolltartó asztali",
                                    "LISTAAR": "655",
                                    "(No column name)": "653,3333333333334"
                                },
                                {
                                    "TERMEKKOD": "07040167T",
                                    "MEGNEVEZES": "Golyóstoll Zebra mini",
                                    "LISTAAR": "655",
                                    "(No column name)": "661,3333333333334"
                                },
                                {
                                    "TERMEKKOD": "08070479T",
                                    "MEGNEVEZES": "Fizika",
                                    "LISTAAR": "674",
                                    "(No column name)": "671"
                                },
                                {
                                    "TERMEKKOD": "07040135T",
                                    "MEGNEVEZES": "G.toll betét Parker ",
                                    "LISTAAR": "684",
                                    "(No column name)": "681,3333333333334"
                                },
                                {
                                    "TERMEKKOD": "01100505T",
                                    "MEGNEVEZES": "Fehér másoló A/4",
                                    "LISTAAR": "686",
                                    "(No column name)": "686,6666666666666"
                                },
                                {
                                    "TERMEKKOD": "N019-FE301",
                                    "MEGNEVEZES": "női alsó",
                                    "LISTAAR": "690",
                                    "(No column name)": "689"
                                },
                                {
                                    "TERMEKKOD": "08070490T",
                                    "MEGNEVEZES": "Szövegszerkesztés",
                                    "LISTAAR": "691",
                                    "(No column name)": "693,3333333333334"
                                },
                                {
                                    "TERMEKKOD": "06040186T",
                                    "MEGNEVEZES": "Gyűrűskönyv színes",
                                    "LISTAAR": "699",
                                    "(No column name)": "703,3333333333334"
                                },
                                {
                                    "TERMEKKOD": "08070493T",
                                    "MEGNEVEZES": "Érettségi felv. fel. Matematika",
                                    "LISTAAR": "720",
                                    "(No column name)": "715,6666666666666"
                                },
                                {
                                    "TERMEKKOD": "06040395T",
                                    "MEGNEVEZES": "Tolltartó 2 zipzáros töltött",
                                    "LISTAAR": "728",
                                    "(No column name)": "725,3333333333334"
                                },
                                {
                                    "TERMEKKOD": "06040392T",
                                    "MEGNEVEZES": "Tolltartó 1 zipzáros",
                                    "LISTAAR": "728",
                                    "(No column name)": "728"
                                },
                                {
                                    "TERMEKKOD": "01100095T",
                                    "MEGNEVEZES": "Fénymásoló papír GetCopy",
                                    "LISTAAR": "728",
                                    "(No column name)": "728"
                                },
                                {
                                    "TERMEKKOD": "01100096T",
                                    "MEGNEVEZES": "Fénymásoló papír Qconnect",
                                    "LISTAAR": "728",
                                    "(No column name)": "728"
                                },
                                {
                                    "TERMEKKOD": "04020445T",
                                    "MEGNEVEZES": "Határidő napló 2010-s",
                                    "LISTAAR": "728",
                                    "(No column name)": "730,3333333333334"
                                },
                                {
                                    "TERMEKKOD": "08070492T",
                                    "MEGNEVEZES": "Informatika",
                                    "LISTAAR": "735",
                                    "(No column name)": "742,6666666666666"
                                },
                                {
                                    "TERMEKKOD": "06040393T",
                                    "MEGNEVEZES": "Tolltartó 2 részes NG.",
                                    "LISTAAR": "765",
                                    "(No column name)": "755"
                                },
                                {
                                    "TERMEKKOD": "02080454T",
                                    "MEGNEVEZES": "Lyukasztó BOXER",
                                    "LISTAAR": "765",
                                    "(No column name)": "767,6666666666666"
                                },
                                {
                                    "TERMEKKOD": "07080158T",
                                    "MEGNEVEZES": "Golyóstoll Parker tokban",
                                    "LISTAAR": "773",
                                    "(No column name)": "772,6666666666666"
                                },
                                {
                                    "TERMEKKOD": "02060038T",
                                    "MEGNEVEZES": "Bélyegző IDEAL 50",
                                    "LISTAAR": "780",
                                    "(No column name)": "779,3333333333334"
                                },
                                {
                                    "TERMEKKOD": "08070478T",
                                    "MEGNEVEZES": "Összefoglaló feladatgyüjtemény számtech.",
                                    "LISTAAR": "785",
                                    "(No column name)": "786,3333333333334"
                                },
                                {
                                    "TERMEKKOD": "02040194T",
                                    "MEGNEVEZES": "Hibajav.roll.Pritt 4,2mm",
                                    "LISTAAR": "794",
                                    "(No column name)": "808"
                                },
                                {
                                    "TERMEKKOD": "01100094T",
                                    "MEGNEVEZES": "Fénymásoló papír DataCopy",
                                    "LISTAAR": "845",
                                    "(No column name)": "835,6666666666666"
                                },
                                {
                                    "TERMEKKOD": "08070489T",
                                    "MEGNEVEZES": "RAMba zárt világ",
                                    "LISTAAR": "868",
                                    "(No column name)": "862,6666666666666"
                                },
                                {
                                    "TERMEKKOD": "06080188T",
                                    "MEGNEVEZES": "Hegyező gép",
                                    "LISTAAR": "875",
                                    "(No column name)": "911"
                                },
                                {
                                    "TERMEKKOD": "G038-FE316",
                                    "MEGNEVEZES": "fiú harisnya",
                                    "LISTAAR": "990",
                                    "(No column name)": "951,6666666666666"
                                },
                                {
                                    "TERMEKKOD": "L033-FE311",
                                    "MEGNEVEZES": "lány harisnya",
                                    "LISTAAR": "990",
                                    "(No column name)": "999,6666666666666"
                                },
                                {
                                    "TERMEKKOD": "07080152T",
                                    "MEGNEVEZES": "Golyóstoll 3 funkciós ",
                                    "LISTAAR": "1019",
                                    "(No column name)": "1032,6666666666667"
                                },
                                {
                                    "TERMEKKOD": "08070472T",
                                    "MEGNEVEZES": "A föld amelyen élünk - Európa földrajza",
                                    "LISTAAR": "1089",
                                    "(No column name)": "1065,6666666666667"
                                },
                                {
                                    "TERMEKKOD": "08070473T",
                                    "MEGNEVEZES": "A föld amelyen élünk - Távoli földrészek",
                                    "LISTAAR": "1089",
                                    "(No column name)": "1089"
                                },
                                {
                                    "TERMEKKOD": "08070474T",
                                    "MEGNEVEZES": "A föld amelyen élünk - Hazánk földrajza",
                                    "LISTAAR": "1089",
                                    "(No column name)": "1108,3333333333333"
                                },
                                {
                                    "TERMEKKOD": "02060448T",
                                    "MEGNEVEZES": "Bélyegző RP 18-47",
                                    "LISTAAR": "1147",
                                    "(No column name)": "1136,3333333333333"
                                },
                                {
                                    "TERMEKKOD": "06040446T",
                                    "MEGNEVEZES": "Számológép tudományos",
                                    "LISTAAR": "1173",
                                    "(No column name)": "1203,3333333333333"
                                },
                                {
                                    "TERMEKKOD": "G019-NA207",
                                    "MEGNEVEZES": "gyermek pamut nadrág (fiú)",
                                    "LISTAAR": "1290",
                                    "(No column name)": "1251"
                                },
                                {
                                    "TERMEKKOD": "L019-NA207",
                                    "MEGNEVEZES": "gyermek pamut nadrág (lány)",
                                    "LISTAAR": "1290",
                                    "(No column name)": "1310,3333333333333"
                                },
                                {
                                    "TERMEKKOD": "02040403T",
                                    "MEGNEVEZES": "Tűzőgép SAX 239",
                                    "LISTAAR": "1351",
                                    "(No column name)": "1339,3333333333333"
                                },
                                {
                                    "TERMEKKOD": "02060447T",
                                    "MEGNEVEZES": "Bélyegző pocket",
                                    "LISTAAR": "1377",
                                    "(No column name)": "1405,3333333333333"
                                },
                                {
                                    "TERMEKKOD": "01100504T",
                                    "MEGNEVEZES": "Fehér másoló A/3",
                                    "LISTAAR": "1488",
                                    "(No column name)": "1455"
                                },
                                {
                                    "TERMEKKOD": "01100496T",
                                    "MEGNEVEZES": "Színes másoló a/4 80g",
                                    "LISTAAR": "1500",
                                    "(No column name)": "1584,3333333333333"
                                },
                                {
                                    "TERMEKKOD": "04080270T",
                                    "MEGNEVEZES": "Mappa bőr A5",
                                    "LISTAAR": "1765",
                                    "(No column name)": "1751,6666666666667"
                                },
                                {
                                    "TERMEKKOD": "U001-KI501",
                                    "MEGNEVEZES": "sál",
                                    "LISTAAR": "1990",
                                    "(No column name)": "1951,6666666666667"
                                },
                                {
                                    "TERMEKKOD": "02040002T",
                                    "MEGNEVEZES": "irodai tűzőgép",
                                    "LISTAAR": "2100",
                                    "(No column name)": "2663,3333333333335"
                                },
                                {
                                    "TERMEKKOD": "L048-PO218",
                                    "MEGNEVEZES": "gyermek póló (lány)",
                                    "LISTAAR": "3900",
                                    "(No column name)": "3300"
                                },
                                {
                                    "TERMEKKOD": "G048-PO218",
                                    "MEGNEVEZES": "gyermek póló (fiú)",
                                    "LISTAAR": "3900",
                                    "(No column name)": "4125"
                                },
                                {
                                    "TERMEKKOD": "01080512T",
                                    "MEGNEVEZES": "Öntapadó A/4",
                                    "LISTAAR": "4575",
                                    "(No column name)": "4488,333333333333"
                                },
                                {
                                    "TERMEKKOD": "G013-NA201",
                                    "MEGNEVEZES": "gyermek farmer nadrág (fiú)",
                                    "LISTAAR": "4990",
                                    "(No column name)": "4851,666666666667"
                                },
                                {
                                    "TERMEKKOD": "L013-NA201",
                                    "MEGNEVEZES": "gyermek farmer nadrág (lány)",
                                    "LISTAAR": "4990",
                                    "(No column name)": "5490"
                                },
                                {
                                    "TERMEKKOD": "F021-IN215",
                                    "MEGNEVEZES": "férfi ing",
                                    "LISTAAR": "6490",
                                    "(No column name)": "6126,666666666667"
                                },
                                {
                                    "TERMEKKOD": "L064-CI401",
                                    "MEGNEVEZES": "gyermek szandál (lány)",
                                    "LISTAAR": "6900",
                                    "(No column name)": "6763,333333333333"
                                },
                                {
                                    "TERMEKKOD": "G064-CI401",
                                    "MEGNEVEZES": "gyermek szandál (fiú)",
                                    "LISTAAR": "6900",
                                    "(No column name)": "7230"
                                },
                                {
                                    "TERMEKKOD": "F007-NA201",
                                    "MEGNEVEZES": "férfi farmer nadrág",
                                    "LISTAAR": "7890",
                                    "(No column name)": "7563,333333333333"
                                },
                                {
                                    "TERMEKKOD": "G073-CI410",
                                    "MEGNEVEZES": "gyermek cipő (fiú)",
                                    "LISTAAR": "7900",
                                    "(No column name)": "7896,666666666667"
                                },
                                {
                                    "TERMEKKOD": "L073-CI410",
                                    "MEGNEVEZES": "gyermek cipő (lány)",
                                    "LISTAAR": "7900",
                                    "(No column name)": "7933,333333333333"
                                },
                                {
                                    "TERMEKKOD": "L082-CI419",
                                    "MEGNEVEZES": "gyermek csizma (lány)",
                                    "LISTAAR": "8000",
                                    "(No column name)": "7966,666666666667"
                                },
                                {
                                    "TERMEKKOD": "G082-CI419",
                                    "MEGNEVEZES": "gyermek csizma (fiú)",
                                    "LISTAAR": "8000",
                                    "(No column name)": "8096,666666666667"
                                },
                                {
                                    "TERMEKKOD": "N008-NA201",
                                    "MEGNEVEZES": "női farmer nadrág",
                                    "LISTAAR": "8290",
                                    "(No column name)": "8396,666666666666"
                                },
                                {
                                    "TERMEKKOD": "L001-KB101",
                                    "MEGNEVEZES": "gyermek kabát (lány)",
                                    "LISTAAR": "8900",
                                    "(No column name)": "8696,666666666666"
                                },
                                {
                                    "TERMEKKOD": "G001-KB101",
                                    "MEGNEVEZES": "gyermek kabát (fiú)",
                                    "LISTAAR": "8900",
                                    "(No column name)": "9900"
                                },
                                {
                                    "TERMEKKOD": "F013-NA207",
                                    "MEGNEVEZES": "férfi szövet nadrág",
                                    "LISTAAR": "11900",
                                    "(No column name)": "11683,333333333334"
                                },
                                {
                                    "TERMEKKOD": "02080511T",
                                    "MEGNEVEZES": "Oki toner C",
                                    "LISTAAR": "14250",
                                    "(No column name)": "14350"
                                },
                                {
                                    "TERMEKKOD": "G041-AL211",
                                    "MEGNEVEZES": "fiú ünneplős ruha",
                                    "LISTAAR": "16900",
                                    "(No column name)": "16016,666666666666"
                                },
                                {
                                    "TERMEKKOD": "L041-AL211",
                                    "MEGNEVEZES": "lány ünneplős ruha",
                                    "LISTAAR": "16900",
                                    "(No column name)": "18600"
                                },
                                {
                                    "TERMEKKOD": "F001-KB101",
                                    "MEGNEVEZES": "férfi szövet kabát",
                                    "LISTAAR": "22000",
                                    "(No column name)": "20966,666666666668"
                                },
                                {
                                    "TERMEKKOD": "N001-KB101",
                                    "MEGNEVEZES": "női szövet kabát",
                                    "LISTAAR": "24000",
                                    "(No column name)": "26000"
                                },
                                {
                                    "TERMEKKOD": "N029-AL212",
                                    "MEGNEVEZES": "női koktélruha",
                                    "LISTAAR": "32000",
                                    "(No column name)": "31666,666666666668"
                                },
                                {
                                    "TERMEKKOD": "N035-AL218",
                                    "MEGNEVEZES": "kosztüm (rövid)",
                                    "LISTAAR": "39000",
                                    "(No column name)": "39000"
                                },
                                {
                                    "TERMEKKOD": "N039-AL222",
                                    "MEGNEVEZES": "kosztüm (hosszú)",
                                    "LISTAAR": "46000",
                                    "(No column name)": "42500"
                                }
                            ]
                        },
                        "text/html": "<table><tr><th>TERMEKKOD</th><th>MEGNEVEZES</th><th>LISTAAR</th><th>(No column name)</th></tr><tr><td>07030108T</td><td>Filctoll CD író</td><td>0</td><td>1,5</td></tr><tr><td>01090498T</td><td>Műnyomó 300g 17,5*20</td><td>3</td><td>2</td></tr><tr><td>02030042T</td><td>Boríték LC 6</td><td>3</td><td>3</td></tr><tr><td>04030288T</td><td>Műanyag pohár 1 dl-es</td><td>3</td><td>3,3333333333333335</td></tr><tr><td>01090501T</td><td>Kreatív A/4 300g </td><td>4</td><td>3,6666666666666665</td></tr><tr><td>01090517T</td><td>Színes ofszet B/4</td><td>4</td><td>4,333333333333333</td></tr><tr><td>06040089T</td><td>Ellenőrzőborító</td><td>5</td><td>5</td></tr><tr><td>02030040T</td><td>Boríték LA 4 francia</td><td>6</td><td>5,666666666666667</td></tr><tr><td>02030041T</td><td>Boríték LC 5</td><td>6</td><td>6,666666666666667</td></tr><tr><td>02040147T</td><td>Genotherm lefűzhető A/5</td><td>8</td><td>7,333333333333333</td></tr><tr><td>06010377T</td><td>Szögmérő színes</td><td>8</td><td>8</td></tr><tr><td>06080425T</td><td>Miliméterpapír</td><td>8</td><td>8</td></tr><tr><td>06040181T</td><td>Gyűjtőlap A/4</td><td>8</td><td>8</td></tr><tr><td>06040353T</td><td>Sorvezető</td><td>8</td><td>8</td></tr><tr><td>06080118T</td><td>Füzetborító átlátszó A5</td><td>8</td><td>8,333333333333334</td></tr><tr><td>07040388T</td><td>Tintapatron /kék/</td><td>9</td><td>8,666666666666666</td></tr><tr><td>06010305T</td><td>Papírcenti 100 cm-es</td><td>9</td><td>9</td></tr><tr><td>01100072T</td><td>Dipa A/4 keretezett</td><td>9</td><td>9,333333333333334</td></tr><tr><td>01100503T</td><td>Color Copy A4 120 g</td><td>10</td><td>9,666666666666666</td></tr><tr><td>06080117T</td><td>Füzetborító A/4 átlátszó</td><td>10</td><td>10,333333333333334</td></tr><tr><td>07040058T</td><td>Ceruza radíros kínai</td><td>11</td><td>10,666666666666666</td></tr><tr><td>07040390T</td><td>Tintapatron színes</td><td>11</td><td>11</td></tr><tr><td>07080065T</td><td>Ceruza kínai</td><td>11</td><td>11</td></tr><tr><td>01090515T</td><td>Színes A/3 160 gr IQ</td><td>11</td><td>11</td></tr><tr><td>06010376T</td><td>Szögmérő papír</td><td>11</td><td>11</td></tr><tr><td>04030285T</td><td>Mikulás zacskó</td><td>11</td><td>11</td></tr><tr><td>04050269T</td><td>Lufi hullámos</td><td>11</td><td>11,333333333333334</td></tr><tr><td>06040206T</td><td>kék indigó</td><td>12</td><td>12</td></tr><tr><td>01100510T</td><td>Kreatív A/4 120g </td><td>13</td><td>13</td></tr><tr><td>01090500T</td><td>Color Copy A4 200 g</td><td>14</td><td>13,666666666666666</td></tr><tr><td>01100497T</td><td>Color Copy 160 g-os </td><td>14</td><td>14</td></tr><tr><td>04030240T</td><td>Képeslap virágos</td><td>14</td><td>14,333333333333334</td></tr><tr><td>04030236T</td><td>Képeslap karácsonyi WD</td><td>15</td><td>14,666666666666666</td></tr><tr><td>04030289T</td><td>Műanyag pohár 5 cl-es</td><td>15</td><td>15</td></tr><tr><td>04030260T</td><td>Levélpapír A/4</td><td>15</td><td>15</td></tr><tr><td>04050268T</td><td>Lufi formázható</td><td>15</td><td>15</td></tr><tr><td>01090499T</td><td>Color Copy A/4 250 g</td><td>15</td><td>15</td></tr><tr><td>01040307T</td><td>Pausz papír A/4</td><td>15</td><td>15</td></tr><tr><td>02040291T</td><td>Naptárhát kicsi</td><td>15</td><td>15</td></tr><tr><td>02030044T</td><td>Boríték mintás</td><td>15</td><td>15</td></tr><tr><td>02050460T</td><td>Boríték C/4-es</td><td>15</td><td>15</td></tr><tr><td>03010342T</td><td>Ragasztószalag  TIXO</td><td>15</td><td>15</td></tr><tr><td>03050078T</td><td>Díszkötöző szalag metál kicsi</td><td>15</td><td>15</td></tr><tr><td>03050079T</td><td>Díszkötöző szalag vékony</td><td>15</td><td>15</td></tr><tr><td>06040205T</td><td>Indigó Pelikán</td><td>15</td><td>15</td></tr><tr><td>07010141T</td><td>G.toll betét X20</td><td>15</td><td>16</td></tr><tr><td>02050461T</td><td>Boríték B/4-es</td><td>18</td><td>17</td></tr><tr><td>02040176T</td><td>Gyorsfűző dosszié fehér</td><td>18</td><td>18,333333333333332</td></tr><tr><td>02040207T</td><td>Iratgyűjtő ESSELTE ablakos</td><td>19</td><td>18,666666666666668</td></tr><tr><td>02040208T</td><td>Iratgyűjtő fehér</td><td>19</td><td>19</td></tr><tr><td>03080004T</td><td>Ajándék cs. tasak italos, fólia</td><td>19</td><td>19</td></tr><tr><td>05050170T</td><td>Gumigyűrű</td><td>19</td><td>19</td></tr><tr><td>06040326T</td><td>Radír KOH-I-NOR 80</td><td>19</td><td>19</td></tr><tr><td>06080122T</td><td>Füzetborító öntapadós nagy</td><td>19</td><td>19</td></tr><tr><td>06080119T</td><td>Füzetborító mesefig.</td><td>19</td><td>19</td></tr><tr><td>06040383T</td><td>Taffet papír</td><td>19</td><td>19,333333333333332</td></tr><tr><td>06080417T</td><td>Zászló papír</td><td>20</td><td>19,666666666666668</td></tr><tr><td>04110068T</td><td>Címke egyszínű</td><td>20</td><td>20</td></tr><tr><td>05010306T</td><td>Papízsebkendő,10db Szindy</td><td>20</td><td>21</td></tr><tr><td>06010202T</td><td>Hurkapálca 10 db-os</td><td>23</td><td>22</td></tr><tr><td>03080021T</td><td>Ajándék csom. vékony</td><td>23</td><td>23</td></tr><tr><td>04030287T</td><td>Műanyag foszforeszkáló állat</td><td>23</td><td>23</td></tr><tr><td>06080190T</td><td>Hegyező műanyag egyes</td><td>23</td><td>23</td></tr><tr><td>07010140T</td><td>G.toll betét Stabilo</td><td>23</td><td>23</td></tr><tr><td>07040053T</td><td>Ceruza HB radiros</td><td>23</td><td>23</td></tr><tr><td>06080120T</td><td>Füzetborító öntapadó kicsi</td><td>23</td><td>23</td></tr><tr><td>07040218T</td><td>Ironbél HB 0,5</td><td>23</td><td>23</td></tr><tr><td>07080156T</td><td>Golyóstoll kupakos piros</td><td>23</td><td>23,333333333333332</td></tr><tr><td>06080424T</td><td>Füzetborító A/4 mintás</td><td>24</td><td>23,666666666666668</td></tr><tr><td>04050203T</td><td>Hűtőmágnes</td><td>24</td><td>24</td></tr><tr><td>04050035T</td><td>Bérlet tok</td><td>24</td><td>24</td></tr><tr><td>06010375T</td><td>Szögmérő 180 fokos műa.</td><td>24</td><td>24,333333333333332</td></tr><tr><td>01040502T</td><td>Előlap spirálhoz</td><td>25</td><td>24,666666666666668</td></tr><tr><td>01090516T</td><td>Színes karton A4</td><td>25</td><td>25,333333333333332</td></tr><tr><td>01030091T</td><td>Emléklap A/5</td><td>26</td><td>25,666666666666668</td></tr><tr><td>03080006T</td><td>Ajándék cs. tasak mintás kicsi</td><td>26</td><td>26</td></tr><tr><td>03050457T</td><td>Ajándék cs. tasak kicsi</td><td>26</td><td>26</td></tr><tr><td>03050076T</td><td>Díszkötöző szalag metál nagy</td><td>26</td><td>26</td></tr><tr><td>04110066T</td><td>Címke 8 db-os</td><td>26</td><td>26</td></tr><tr><td>07040097T</td><td>Filctoll </td><td>26</td><td>26,666666666666668</td></tr><tr><td>06040347T</td><td>Rajzlap A/4 10db ffam.</td><td>28</td><td>27,666666666666668</td></tr><tr><td>06040212T</td><td>Írólap 10-50 ffam.</td><td>29</td><td>29</td></tr><tr><td>06040247T</td><td>Körzőhegy grafit</td><td>30</td><td>29,666666666666668</td></tr><tr><td>06080189T</td><td>Hegyező műanyag dupla</td><td>30</td><td>30</td></tr><tr><td>07040050T</td><td>Ceruza Cseh</td><td>30</td><td>30</td></tr><tr><td>06080191T</td><td>Hegyező tartályos egyes</td><td>30</td><td>30</td></tr><tr><td>06080412T</td><td>Vonalzó 16 cm-es LIZZY</td><td>30</td><td>30</td></tr><tr><td>06080413T</td><td>Vonalzó 30 cm</td><td>30</td><td>30</td></tr><tr><td>06080414T</td><td>Vonalzó 20 cm-es </td><td>30</td><td>30</td></tr><tr><td>06080415T</td><td>Vonalzó 45 fokos</td><td>30</td><td>30</td></tr><tr><td>07040127T</td><td>G. toll betét mini</td><td>30</td><td>30</td></tr><tr><td>07040129T</td><td>G. toll betét réz</td><td>30</td><td>30</td></tr><tr><td>04030234T</td><td>Képeslap karácsonyi</td><td>30</td><td>30</td></tr><tr><td>06010114T</td><td>Füzet A/5 hangjegy 36/16</td><td>30</td><td>30</td></tr><tr><td>02080069T</td><td>CD tartó tok</td><td>30</td><td>30</td></tr><tr><td>01010110T</td><td>Fotópapír A/4 fényes</td><td>30</td><td>30</td></tr><tr><td>02040177T</td><td>Gyorsfűző műa.</td><td>30</td><td>30</td></tr><tr><td>02040145T</td><td>Gemkapocs 28 mm</td><td>30</td><td>30,333333333333332</td></tr><tr><td>04110067T</td><td>Címke WD. állat</td><td>31</td><td>31,333333333333332</td></tr><tr><td>06010083T</td><td>Ecset Centrum 7,8,9</td><td>33</td><td>32,333333333333336</td></tr><tr><td>06010036T</td><td>Betűtartó sin</td><td>33</td><td>33</td></tr><tr><td>04110227T</td><td>Képeslap  borítékos</td><td>33</td><td>33</td></tr><tr><td>04110229T</td><td>Képeslap &quot;Részvét&quot;</td><td>33</td><td>33</td></tr><tr><td>07080155T</td><td>Golyóstoll</td><td>33</td><td>33</td></tr><tr><td>06080416T</td><td>Vonalzó 60 fokos</td><td>33</td><td>33</td></tr><tr><td>07010138T</td><td>G.toll betét jumbo</td><td>33</td><td>33,333333333333336</td></tr><tr><td>06080116T</td><td>Füzet A5 1-8 osz.-ig</td><td>34</td><td>33,666666666666664</td></tr><tr><td>06040213T</td><td>Írólap 20-50 </td><td>34</td><td>34</td></tr><tr><td>06010113T</td><td>Füzet 31-32 szótár</td><td>34</td><td>34</td></tr><tr><td>02040406T</td><td>Tűzőkapocs 24/6</td><td>34</td><td>34,333333333333336</td></tr><tr><td>02040178T</td><td>Gyorsfűző műa.</td><td>35</td><td>34,666666666666664</td></tr><tr><td>06010367T</td><td>Számolókorong</td><td>35</td><td>35</td></tr><tr><td>07080063T</td><td>Ceruza szorzótáblás</td><td>35</td><td>35,333333333333336</td></tr><tr><td>07050463T</td><td>Ceruzafogó</td><td>36</td><td>35,666666666666664</td></tr><tr><td>07040216T</td><td>Ironbél B 0,5</td><td>36</td><td>36</td></tr><tr><td>06040327T</td><td>Radír Koh-i-nor 40</td><td>36</td><td>36</td></tr><tr><td>06040323T</td><td>Post-it 51×38 100 lapos</td><td>36</td><td>36</td></tr><tr><td>07040060T</td><td>Ceruza stabilo swano</td><td>36</td><td>36</td></tr><tr><td>06010365T</td><td>Számegyenes</td><td>36</td><td>36</td></tr><tr><td>06010201T</td><td>Hőmérő, műa.</td><td>36</td><td>36</td></tr><tr><td>06010086T</td><td>Ecset Nebulo 4-es</td><td>36</td><td>36</td></tr><tr><td>04050255T</td><td>Kulcstartó mesefigurás</td><td>36</td><td>36</td></tr><tr><td>04030237T</td><td>Képeslap kerek</td><td>36</td><td>36,666666666666664</td></tr><tr><td>01080513T</td><td>Selyemfényű karton A/4</td><td>38</td><td>37,666666666666664</td></tr><tr><td>02030043T</td><td>Boríték légp. kicsi</td><td>39</td><td>38,666666666666664</td></tr><tr><td>07040051T</td><td>Ceruza háromszög </td><td>39</td><td>39</td></tr><tr><td>07040047T</td><td>Ceruza 2H-4B</td><td>39</td><td>39</td></tr><tr><td>07040133T</td><td>G.toll betét görbe hegyű</td><td>39</td><td>39,333333333333336</td></tr><tr><td>07080064T</td><td>Ceruza zöld színű</td><td>40</td><td>39,666666666666664</td></tr><tr><td>07040049T</td><td>Ceruza Conté zöld</td><td>40</td><td>40</td></tr><tr><td>07040056T</td><td>Ceruza piros-kék vékony</td><td>40</td><td>40</td></tr><tr><td>06040325T</td><td>Radír gyümölcsös</td><td>40</td><td>40</td></tr><tr><td>01100509T</td><td>Márványos A/4</td><td>40</td><td>40</td></tr><tr><td>02040507T</td><td>Fólia tasakos A4 80 mik.</td><td>40</td><td>40</td></tr><tr><td>03050459T</td><td>Talpas tasak</td><td>40</td><td>40</td></tr><tr><td>06010082T</td><td>Ecset Centrum 10,11,12</td><td>40</td><td>40</td></tr><tr><td>05050465T</td><td>Tapétavágó kés</td><td>40</td><td>40,333333333333336</td></tr><tr><td>07080153T</td><td>Golyóstoll illatos ICO</td><td>41</td><td>41,333333333333336</td></tr><tr><td>06010373T</td><td>Színes papír I.II-IV.V-VIII-ig</td><td>43</td><td>42,666666666666664</td></tr><tr><td>04030241T</td><td>Képeslap virágos +boríték</td><td>44</td><td>43,666666666666664</td></tr><tr><td>03080020T</td><td>Ajándék csom. nagy  </td><td>44</td><td>44</td></tr><tr><td>04030286T</td><td>Műanyag állatok</td><td>44</td><td>44</td></tr><tr><td>04050075T</td><td>Díszdoboz tollnak 2 db-os keskeny</td><td>44</td><td>44</td></tr><tr><td>03050077T</td><td>Diszkötöző szalag arany</td><td>44</td><td>44</td></tr><tr><td>02080450T</td><td>Gémkapocs 28-as színes</td><td>44</td><td>44</td></tr><tr><td>02040508T</td><td>Fólia tasakos A4100 mik.</td><td>44</td><td>44</td></tr><tr><td>02040506T</td><td>Fólia tasakos A4 125 mik.</td><td>44</td><td>44</td></tr><tr><td>02040405T</td><td>Tűzőkapocs 10-es</td><td>44</td><td>44</td></tr><tr><td>02040298T</td><td>Notesz mintás</td><td>44</td><td>44</td></tr><tr><td>02040209T</td><td>Iratsín fehér</td><td>44</td><td>44</td></tr><tr><td>07040134T</td><td>G.toll betét illatos</td><td>44</td><td>44</td></tr><tr><td>07080161T</td><td>Golyóstoll kétszínű</td><td>44</td><td>44</td></tr><tr><td>06040328T</td><td>Radír Maped</td><td>44</td><td>44</td></tr><tr><td>06040329T</td><td>Radír stabilo</td><td>44</td><td>44</td></tr><tr><td>07040061T</td><td>Ceruza stabilo opera</td><td>44</td><td>44,333333333333336</td></tr><tr><td>02080514T</td><td>Spirál 1/4 </td><td>45</td><td>44,666666666666664</td></tr><tr><td>06010374T</td><td>Szorzótábla műanyag</td><td>45</td><td>45,333333333333336</td></tr><tr><td>05050045T</td><td>Celofán</td><td>46</td><td>45,666666666666664</td></tr><tr><td>07040102T</td><td>Filctoll supra fine</td><td>46</td><td>46,666666666666664</td></tr><tr><td>07010137T</td><td>G.toll betét PAX tip.</td><td>48</td><td>47,333333333333336</td></tr><tr><td>06040386T</td><td>Tempera szóló színes</td><td>48</td><td>48</td></tr><tr><td>06010115T</td><td>Füzet A/5, mintás</td><td>48</td><td>48</td></tr><tr><td>04050224T</td><td>Jelzőkréta</td><td>48</td><td>48</td></tr><tr><td>04030239T</td><td>Képeslap stancolt szív</td><td>48</td><td>48</td></tr><tr><td>02040146T</td><td>Gemkapocs ICO</td><td>48</td><td>48</td></tr><tr><td>01020299T</td><td>Oklevél A/4 egyszínű</td><td>48</td><td>48,333333333333336</td></tr><tr><td>04110274T</td><td>Matrica autóra H</td><td>49</td><td>48,666666666666664</td></tr><tr><td>04110275T</td><td>Matrica motoros kicsi</td><td>49</td><td>49</td></tr><tr><td>06040331T</td><td>Radír Tikky 40 </td><td>49</td><td>49,333333333333336</td></tr><tr><td>06040330T</td><td>Radír Tikky 30 </td><td>50</td><td>50</td></tr><tr><td>07080150T</td><td>Golyóstoll</td><td>51</td><td>50,666666666666664</td></tr><tr><td>04110232T</td><td>Képeslap humoros kaparós</td><td>51</td><td>51</td></tr><tr><td>06040088T</td><td>Egészségügyi könyv</td><td>51</td><td>51</td></tr><tr><td>02080109T</td><td>Floppy lemez</td><td>51</td><td>51,666666666666664</td></tr><tr><td>07030103T</td><td>Filctoll TINTEN PEN</td><td>53</td><td>52,333333333333336</td></tr><tr><td>07040052T</td><td>Ceruza 2H-3B Koh-i-nor</td><td>53</td><td>53,666666666666664</td></tr><tr><td>07040054T</td><td>Ceruza kártyás</td><td>55</td><td>54,333333333333336</td></tr><tr><td>07040048T</td><td>Ceruza arany, ezüst</td><td>55</td><td>55</td></tr><tr><td>07040132T</td><td>G.toll betét csavaros</td><td>55</td><td>55</td></tr><tr><td>07040128T</td><td>G. toll betét mini fém</td><td>55</td><td>55</td></tr><tr><td>02080433T</td><td>Ragasztószalag 19 mm-es</td><td>55</td><td>55</td></tr><tr><td>01020300T</td><td>Oklevél A/4 színes</td><td>55</td><td>55</td></tr><tr><td>04110230T</td><td>Képeslap humoros </td><td>55</td><td>55</td></tr><tr><td>04110273T</td><td>Matrica állatos</td><td>55</td><td>55,333333333333336</td></tr><tr><td>04110282T</td><td>Matrica WD kicsi</td><td>56</td><td>55,666666666666664</td></tr><tr><td>04030262T</td><td>Levélpapír sima</td><td>56</td><td>56</td></tr><tr><td>03080019T</td><td>Ajándék csom. Krepp</td><td>56</td><td>56</td></tr><tr><td>02040296T</td><td>Notesz A/6 College</td><td>56</td><td>56,666666666666664</td></tr><tr><td>07040059T</td><td>Ceruza smaragd</td><td>58</td><td>57,333333333333336</td></tr><tr><td>06080411T</td><td>Vonalzó 15 cm-es ESSELTE</td><td>58</td><td>58</td></tr><tr><td>06040384T</td><td>Technika cs. I-II-III-IV</td><td>58</td><td>58,333333333333336</td></tr><tr><td>07040055T</td><td>Ceruza piros-kék</td><td>59</td><td>58,666666666666664</td></tr><tr><td>07040217T</td><td>Ironbél H 0,5</td><td>59</td><td>59</td></tr><tr><td>07080313T</td><td>Pixiron Centrum</td><td>59</td><td>59</td></tr><tr><td>07080317T</td><td>Pixiron mini </td><td>59</td><td>59</td></tr><tr><td>01010304T</td><td>Öntapadós hologramos papír A/4</td><td>59</td><td>59</td></tr><tr><td>01030092T</td><td>Esküvői meghívó</td><td>59</td><td>59</td></tr><tr><td>02040214T</td><td>Iromány fedél feles</td><td>59</td><td>59</td></tr><tr><td>04030238T</td><td>Képeslap stancolt</td><td>59</td><td>59,333333333333336</td></tr><tr><td>06010084T</td><td>Ecset Deák 2-es</td><td>60</td><td>60</td></tr><tr><td>06010368T</td><td>Számolópálca</td><td>61</td><td>60,666666666666664</td></tr><tr><td>04050073T</td><td>Díszdoboz kar.</td><td>61</td><td>61,666666666666664</td></tr><tr><td>05040349T</td><td>Rajzszeg</td><td>63</td><td>62,333333333333336</td></tr><tr><td>02040148T</td><td>Genotherm lefűzhető A4 10db-os</td><td>63</td><td>63</td></tr><tr><td>03010344T</td><td>Ragasztószalag nagy 12 mm</td><td>63</td><td>63</td></tr><tr><td>07080159T</td><td>Golyóstoll Pax tip.</td><td>63</td><td>63</td></tr><tr><td>06080429T</td><td>Meghívó ballagási</td><td>63</td><td>63,333333333333336</td></tr><tr><td>03080013T</td><td>Ajándék csom. 50x70 húsvéti</td><td>64</td><td>64</td></tr><tr><td>06010085T</td><td>Ecset Lizzy 10-es</td><td>65</td><td>64,66666666666667</td></tr><tr><td>04050220T</td><td>Játék autó</td><td>65</td><td>65,33333333333333</td></tr><tr><td>04050074T</td><td>Díszdoboz tollnak 2 db-os</td><td>66</td><td>65,66666666666667</td></tr><tr><td>04050187T</td><td>Hajgumi macis</td><td>66</td><td>66</td></tr><tr><td>02080436T</td><td>Irattartó müa. boríték A/4</td><td>66</td><td>66</td></tr><tr><td>07080419T</td><td>Zselés toll MICRO</td><td>66</td><td>66,66666666666667</td></tr><tr><td>06010111T</td><td>Füzet  A/4 </td><td>68</td><td>68</td></tr><tr><td>06080192T</td><td>Hegyző fém 1 lyukú</td><td>70</td><td>70,33333333333333</td></tr><tr><td>06050249T</td><td>Krepp papír</td><td>73</td><td>72</td></tr><tr><td>05050046T</td><td>Celofán 50 db-os</td><td>73</td><td>73</td></tr><tr><td>04110258T</td><td>Lampion</td><td>73</td><td>73</td></tr><tr><td>04050223T</td><td>Játékautó mini</td><td>73</td><td>73</td></tr><tr><td>04030235T</td><td>Képeslap karácsonyi borítékos</td><td>73</td><td>73</td></tr><tr><td>01100070T</td><td>Dekorációs karton</td><td>73</td><td>73,33333333333333</td></tr><tr><td>04030264T</td><td>Levélpapír szett </td><td>74</td><td>73,66666666666667</td></tr><tr><td>06080332T</td><td>Radírtoll betét ER100</td><td>74</td><td>74</td></tr><tr><td>06080430T</td><td>Öntapadős betűk</td><td>74</td><td>74</td></tr><tr><td>07010244T</td><td>Kerámiatoll</td><td>74</td><td>74</td></tr><tr><td>07040215T</td><td>Ironbél  2B ICO</td><td>74</td><td>74,66666666666667</td></tr><tr><td>07030104T</td><td>Filctoll vastag ARTIP</td><td>76</td><td>76</td></tr><tr><td>07010143T</td><td>G.toll betét Zebra H-0,7</td><td>78</td><td>77,33333333333333</td></tr><tr><td>06040380T</td><td>Szövegkiemelő</td><td>78</td><td>78</td></tr><tr><td>07040219T</td><td>Ironbél HI-POLIMER HB 0,7</td><td>78</td><td>78</td></tr><tr><td>06010112T</td><td>Füzet  A4 mintás</td><td>78</td><td>78</td></tr><tr><td>02040292T</td><td>Naptárhát nagy</td><td>78</td><td>78,33333333333333</td></tr><tr><td>06040087T</td><td>Ecset Nebuló 10-es</td><td>79</td><td>79</td></tr><tr><td>07040130T</td><td>G. toll betét S7S</td><td>80</td><td>79,66666666666667</td></tr><tr><td>07040391T</td><td>Toll Centropen roller</td><td>80</td><td>80,33333333333333</td></tr><tr><td>07080466T</td><td>Golyóstoll Stabiló 308</td><td>81</td><td>80,66666666666667</td></tr><tr><td>06080336T</td><td>Ragasztó 8 g Pritt</td><td>81</td><td>81</td></tr><tr><td>04110231T</td><td>Képeslap humoros borítékos</td><td>81</td><td>81</td></tr><tr><td>04040387T</td><td>Tenisz labda</td><td>81</td><td>81</td></tr><tr><td>02040197T</td><td>Hibajavító lap </td><td>81</td><td>81</td></tr><tr><td>02040206T</td><td>Írásvetítő fólia</td><td>81</td><td>81</td></tr><tr><td>03050080T</td><td>Diszkötöző széles szalag</td><td>81</td><td>81</td></tr><tr><td>03080014T</td><td>Ajándék csom. 70x50 metál</td><td>81</td><td>81</td></tr><tr><td>02040308T</td><td>Pénztárgépsz. 2 pl. nem öníró</td><td>81</td><td>82,33333333333333</td></tr><tr><td>07040131T</td><td>G. toll betét UNI lachnok Fine SA-7C</td><td>85</td><td>85</td></tr><tr><td>06080339T</td><td>Ragasztó kores</td><td>89</td><td>87,66666666666667</td></tr><tr><td>07010144T</td><td>G.toll betét Zebra K-0,7</td><td>89</td><td>89</td></tr><tr><td>06040357T</td><td>Sp.Füzet A/5 70-es</td><td>89</td><td>89</td></tr><tr><td>06040378T</td><td>Szövegkiemelő vékony</td><td>89</td><td>89</td></tr><tr><td>06040324T</td><td>Post-it 75×75 100 lapos</td><td>89</td><td>89</td></tr><tr><td>02040295T</td><td>Notesz A/5 sima spirál</td><td>89</td><td>89</td></tr><tr><td>02080456T</td><td>Genoterm HERLITZ 10-es</td><td>89</td><td>89</td></tr><tr><td>02040290T</td><td>Naptár 24-es</td><td>89</td><td>89</td></tr><tr><td>02040210T</td><td>Iratsín kék</td><td>89</td><td>89</td></tr><tr><td>01100071T</td><td>Dekorációs karton arany, ezüst</td><td>89</td><td>89</td></tr><tr><td>04050022T</td><td>Álarc</td><td>89</td><td>89</td></tr><tr><td>04030263T</td><td>Levélpapír szett</td><td>89</td><td>89</td></tr><tr><td>04110233T</td><td>Képeslap humoros</td><td>89</td><td>89</td></tr><tr><td>05010370T</td><td>Szilvia csomagoló</td><td>89</td><td>89</td></tr><tr><td>05050346T</td><td>Rágógumi Orbit</td><td>89</td><td>89,66666666666667</td></tr><tr><td>07010139T</td><td>G.toll betét S7L </td><td>91</td><td>91</td></tr><tr><td>06040379T</td><td>Szövegkiemelő </td><td>93</td><td>92,33333333333333</td></tr><tr><td>07080157T</td><td>Golyóstoll Montex Hytone</td><td>93</td><td>93</td></tr><tr><td>04110277T</td><td>Matrica Stickers szíves</td><td>93</td><td>93</td></tr><tr><td>02040309T</td><td>Pénztárgépszalag 2pl SC 57.5/60</td><td>93</td><td>93,33333333333333</td></tr><tr><td>07080315T</td><td>Pixiron Handy műanyag</td><td>94</td><td>93,66666666666667</td></tr><tr><td>07040169T</td><td>Golyóstoll Zodiák</td><td>94</td><td>94,33333333333333</td></tr><tr><td>07080418T</td><td>Zselés toll </td><td>95</td><td>94,66666666666667</td></tr><tr><td>06040183T</td><td>Gyűrűskönyv bet. A/5</td><td>95</td><td>95,33333333333333</td></tr><tr><td>06040385T</td><td>Tempera szóló ezüst</td><td>96</td><td>96,66666666666667</td></tr><tr><td>07010371T</td><td>Színes ceruza 6-os</td><td>99</td><td>98,66666666666667</td></tr><tr><td>06080338T</td><td>Ragasztó kenőfejes Nebuló</td><td>101</td><td>100,33333333333333</td></tr><tr><td>07080162T</td><td>Golyóstoll Stabilo piros</td><td>101</td><td>101,66666666666667</td></tr><tr><td>07030106T</td><td>Filctoll, alkoholosOHP F-M-C</td><td>103</td><td>102,33333333333333</td></tr><tr><td>06040381T</td><td>Szövegkiemelő Videotip</td><td>103</td><td>103</td></tr><tr><td>06040352T</td><td>Rovatolt papír 20 íves</td><td>103</td><td>103</td></tr><tr><td>02040294T</td><td>Notesz A/5 sima</td><td>103</td><td>103</td></tr><tr><td>02040297T</td><td>Notesz sima spirál College</td><td>103</td><td>103</td></tr><tr><td>02080449T</td><td>Térképtű színes</td><td>103</td><td>103</td></tr><tr><td>02080451T</td><td>Gémkapocs 50-es</td><td>103</td><td>103</td></tr><tr><td>03080008T</td><td>Ajándék cs. tasak kicsi</td><td>103</td><td>103</td></tr><tr><td>02020245T</td><td>Kiadási pénztárbizonylat 2×25</td><td>103</td><td>103</td></tr><tr><td>05040310T</td><td>Pill.ragasztó</td><td>103</td><td>103</td></tr><tr><td>04030265T</td><td>Levélpapír szett natur, mintás</td><td>103</td><td>103</td></tr><tr><td>04050253T</td><td>Kulcstartó figurás</td><td>103</td><td>104</td></tr><tr><td>03080031T</td><td>Ajándék cs. húsvéti</td><td>106</td><td>105</td></tr><tr><td>05040348T</td><td>Rajzszeg színes</td><td>106</td><td>106</td></tr><tr><td>02010028T</td><td>Árazószalag </td><td>106</td><td>106</td></tr><tr><td>02080226T</td><td>Kapocskiszedő</td><td>106</td><td>106</td></tr><tr><td>07040057T</td><td>Ceruza Progresso</td><td>106</td><td>107</td></tr><tr><td>04110276T</td><td>Matrica Stickers nagy állatos</td><td>109</td><td>108,33333333333333</td></tr><tr><td>04050171T</td><td>Gumilabda közepes</td><td>110</td><td>109,66666666666667</td></tr><tr><td>03080016T</td><td>házt.csom.  5 ív</td><td>110</td><td>110</td></tr><tr><td>02040149T</td><td>Genotherm A4 10db-os</td><td>110</td><td>110</td></tr><tr><td>06080335T</td><td>Ragasztó 9 g Pax</td><td>110</td><td>110</td></tr><tr><td>07080468T</td><td>Golyóstoll háromfunkciós</td><td>110</td><td>111,33333333333333</td></tr><tr><td>07030105T</td><td>Filctoll, alkoholos Centropen</td><td>114</td><td>112,66666666666667</td></tr><tr><td>03080439T</td><td>Italtartó doboz</td><td>114</td><td>114,33333333333333</td></tr><tr><td>04050250T</td><td>Kulcstartó autós</td><td>115</td><td>114,66666666666667</td></tr><tr><td>02020029T</td><td>Átírótömb A/6</td><td>115</td><td>116</td></tr><tr><td>04030242T</td><td>Képeslap WD +boríték</td><td>118</td><td>117</td></tr><tr><td>05010026T</td><td>Alufólia 10 m-es</td><td>118</td><td>118</td></tr><tr><td>05110360T</td><td>Szalvéta egyszínű</td><td>118</td><td>118,33333333333333</td></tr><tr><td>06080333T</td><td>Radírtoll betét vastag</td><td>119</td><td>119,33333333333333</td></tr><tr><td>06080441T</td><td>Gyurmakés</td><td>121</td><td>120,33333333333333</td></tr><tr><td>03080018T</td><td>Ajándék csom. gyűrt 50x70 </td><td>121</td><td>121,66666666666667</td></tr><tr><td>07010136T</td><td>G.toll betét PAX</td><td>123</td><td>122,66666666666667</td></tr><tr><td>04050252T</td><td>Kulcstartó Csőrikés</td><td>124</td><td>124</td></tr><tr><td>03080012T</td><td>Ajándék csom. 200x70</td><td>125</td><td>124,66666666666667</td></tr><tr><td>06040399T</td><td>Tombola tömb</td><td>125</td><td>125</td></tr><tr><td>07080312T</td><td>Pixiron 0,7 Handy</td><td>125</td><td>126,33333333333333</td></tr><tr><td>04050256T</td><td>Kulcstartó nagyítós</td><td>129</td><td>127,66666666666667</td></tr><tr><td>04050267T</td><td>Logikai készlet</td><td>129</td><td>129</td></tr><tr><td>05010369T</td><td>Szemetes zsák 60 literes</td><td>129</td><td>129,66666666666666</td></tr><tr><td>04050225T</td><td>Kártya mini Magyar</td><td>131</td><td>131</td></tr><tr><td>04050221T</td><td>Játékautó Blisteres</td><td>133</td><td>132,33333333333334</td></tr><tr><td>05110363T</td><td>Szalvéta dekor</td><td>133</td><td>133</td></tr><tr><td>02080081T</td><td>Dvd</td><td>133</td><td>133</td></tr><tr><td>02020032T</td><td>Beírókönyv A5 </td><td>133</td><td>133</td></tr><tr><td>02040198T</td><td>Hibajavító roller 5 mm</td><td>133</td><td>133</td></tr><tr><td>02040025T</td><td>Álló irattartó karton</td><td>133</td><td>133</td></tr><tr><td>07080314T</td><td>Pixiron Handy fém</td><td>133</td><td>133</td></tr><tr><td>06050301T</td><td>Olló gyerek </td><td>133</td><td>133</td></tr><tr><td>06080334T</td><td>Ragasztó szalag KORES </td><td>133</td><td>135,33333333333334</td></tr><tr><td>07040101T</td><td>Filctoll permanent vastag</td><td>140</td><td>137,66666666666666</td></tr><tr><td>07050464T</td><td>Szövegkiemelő Staedtler</td><td>140</td><td>140</td></tr><tr><td>04030261T</td><td>Levélpapír állatos</td><td>140</td><td>141,33333333333334</td></tr><tr><td>04050023T</td><td>Álarc fejdísz</td><td>144</td><td>142,66666666666666</td></tr><tr><td>04050024T</td><td>Álarc szemüveg</td><td>144</td><td>144</td></tr><tr><td>05080340T</td><td>Ragasztó, Technokol 35g kék</td><td>144</td><td>144</td></tr><tr><td>05080341T</td><td>Ragasztó, Technokol 35g piros</td><td>144</td><td>144</td></tr><tr><td>02020037T</td><td>Bevételi pénztárbizonylat 3×25</td><td>144</td><td>144</td></tr><tr><td>06040356T</td><td>Sp.Füzet A/4  70es</td><td>144</td><td>144,66666666666666</td></tr><tr><td>07080062T</td><td>Ceruza szén</td><td>146</td><td>146</td></tr><tr><td>06040174T</td><td>Gumis mappa </td><td>148</td><td>147,33333333333334</td></tr><tr><td>03080011T</td><td>Ajándék cs. tasak közepes</td><td>148</td><td>148</td></tr><tr><td>03080009T</td><td>Ajándék csom. 100x70 metál</td><td>148</td><td>148</td></tr><tr><td>03080017T</td><td>iskolai csomagoló papír</td><td>148</td><td>148</td></tr><tr><td>03050458T</td><td>Ajándék cs. 2×100×70</td><td>148</td><td>148</td></tr><tr><td>04110280T</td><td>Matrica tetoválós kicsi</td><td>148</td><td>148</td></tr><tr><td>04050251T</td><td>Kulcstartó billiárd golyós</td><td>148</td><td>150,33333333333334</td></tr><tr><td>04050254T</td><td>Kulcstartó intarziás állatos</td><td>155</td><td>152,66666666666666</td></tr><tr><td>04110283T</td><td>Meghívó állatos</td><td>155</td><td>155</td></tr><tr><td>06040355T</td><td>Sp.Füzet A/4 70-as</td><td>155</td><td>157</td></tr><tr><td>06040246T</td><td>Körző</td><td>161</td><td>159</td></tr><tr><td>06050303T</td><td>Olló, iskolai</td><td>161</td><td>161</td></tr><tr><td>07010372T</td><td>Színes ceruza 12 szín</td><td>161</td><td>161</td></tr><tr><td>06080259T</td><td>Leckefüzet</td><td>161</td><td>161</td></tr><tr><td>06080440T</td><td>Gyurma 12 szinű</td><td>161</td><td>161</td></tr><tr><td>06080426T</td><td>Szótárfüzet Lizzy</td><td>161</td><td>161</td></tr><tr><td>06080427T</td><td>Ablakkréta</td><td>161</td><td>161</td></tr><tr><td>07080420T</td><td>Zselés toll Muhnwa</td><td>161</td><td>161</td></tr><tr><td>04110278T</td><td>Matrica Test ékszer tattoo</td><td>161</td><td>161</td></tr><tr><td>05110364T</td><td>Szalvéta kicsi virágos</td><td>161</td><td>161</td></tr><tr><td>04050321T</td><td>Plüss kicsi</td><td>161</td><td>161</td></tr><tr><td>01080093T</td><td>Fax papír 15 m</td><td>161</td><td>162,33333333333334</td></tr><tr><td>04050222T</td><td>Játékautó elemes</td><td>165</td><td>164</td></tr><tr><td>03010345T</td><td>Ragasztószalag széles barna</td><td>166</td><td>166,33333333333334</td></tr><tr><td>04110279T</td><td>Matrica tetoválás</td><td>168</td><td>167,66666666666666</td></tr><tr><td>04110284T</td><td>Meghívó borítékos</td><td>169</td><td>168,66666666666666</td></tr><tr><td>04050204T</td><td>Hűtőmágnes WD</td><td>169</td><td>169</td></tr><tr><td>04030266T</td><td>Levélpapír szett virágos</td><td>169</td><td>169</td></tr><tr><td>03080015T</td><td>Ajándék csom. gyűrt</td><td>169</td><td>170,33333333333334</td></tr><tr><td>04050320T</td><td>Plüss  QX állatok</td><td>173</td><td>172,33333333333334</td></tr><tr><td>04110281T</td><td>Matrica világítós </td><td>175</td><td>174,33333333333334</td></tr><tr><td>05110361T</td><td>Szalvéta Goma húsvéti</td><td>175</td><td>175,33333333333334</td></tr><tr><td>05110359T</td><td>Szalvéta </td><td>176</td><td>175,66666666666666</td></tr><tr><td>06080410T</td><td>Vízfesték 12db-os kínai</td><td>176</td><td>176</td></tr><tr><td>06050302T</td><td>Olló Tagit 18 cm-es</td><td>176</td><td>177,33333333333334</td></tr><tr><td>06040179T</td><td>Gyurma színes 200 g-os</td><td>180</td><td>178,66666666666666</td></tr><tr><td>06080409T</td><td>Vízfesték 12 színű kerek</td><td>180</td><td>180</td></tr><tr><td>06080193T</td><td>Hegyző fém 2 lyukú</td><td>180</td><td>180</td></tr><tr><td>06080428T</td><td>Ecsetkészlet</td><td>180</td><td>181</td></tr><tr><td>04110362T</td><td>Szalvéta gyűjtőknek</td><td>183</td><td>182,33333333333334</td></tr><tr><td>04110228T</td><td>Képeslap &quot;Nászajándék&quot;</td><td>184</td><td>183,66666666666666</td></tr><tr><td>02080435T</td><td>Mappa bemutató</td><td>184</td><td>184</td></tr><tr><td>06040182T</td><td>Gyűrűskönyv bet. A/4</td><td>184</td><td>184,33333333333334</td></tr><tr><td>03080003T</td><td>Ajándék cs. tasak italos</td><td>185</td><td>184,66666666666666</td></tr><tr><td>02040195T</td><td>Hibajavító ecsetes Aqua</td><td>185</td><td>185</td></tr><tr><td>03080437T</td><td>Ajándék csomagoló tasak</td><td>185</td><td>186</td></tr><tr><td>07080470T</td><td>Golyóstoll háromszög</td><td>188</td><td>187,33333333333334</td></tr><tr><td>07040168T</td><td>Golyóstoll Zebra new hard</td><td>189</td><td>189</td></tr><tr><td>08070482T</td><td>Fizika munkafüzet 14 év.</td><td>190</td><td>190</td></tr><tr><td>06040175T</td><td>Gumis mappa Köbüki</td><td>191</td><td>192</td></tr><tr><td>06080121T</td><td>Füzetborító öntapadó tekercses</td><td>195</td><td>193,66666666666666</td></tr><tr><td>04030243T</td><td>Képkirakó Dirib-darab</td><td>195</td><td>195</td></tr><tr><td>06040172T</td><td>Gumis mappa csomagolt</td><td>195</td><td>196</td></tr><tr><td>08070481T</td><td>Fizika munkafüzet 13 év.</td><td>198</td><td>198,66666666666666</td></tr><tr><td>06080126T</td><td>Füzettartó A/5  </td><td>203</td><td>201,33333333333334</td></tr><tr><td>06040351T</td><td>Regiszteres füzet A5 Hightech</td><td>203</td><td>204</td></tr><tr><td>06040354T</td><td>Sp.Füzet A/4  perforált, lyuk.</td><td>206</td><td>205</td></tr><tr><td>03080007T</td><td>Ajándék cs. tasak mintás nagy</td><td>206</td><td>206</td></tr><tr><td>03080010T</td><td>Ajándék csom. 150x70</td><td>206</td><td>207,33333333333334</td></tr><tr><td>02080434T</td><td>Mappa müa A/4</td><td>210</td><td>208,66666666666666</td></tr><tr><td>06080408T</td><td>Vízfesték 12 db-os </td><td>210</td><td>210,33333333333334</td></tr><tr><td>06040173T</td><td>Gumis mappa fóliázott állatos</td><td>211</td><td>211,66666666666666</td></tr><tr><td>05010027T</td><td>Alufólia 20 m-es</td><td>214</td><td>213</td></tr><tr><td>03080438T</td><td>Ajándék csomagoló tasak lézeres</td><td>214</td><td>214</td></tr><tr><td>02080431T</td><td>Álló irattartó</td><td>214</td><td>214</td></tr><tr><td>08070491T</td><td>Szám.tech. kicsiknek</td><td>214</td><td>215,33333333333334</td></tr><tr><td>07040165T</td><td>Golyóstoll UNI laknock</td><td>218</td><td>216,66666666666666</td></tr><tr><td>06040184T</td><td>Gyűrűskönyv betét A/5</td><td>218</td><td>218,66666666666666</td></tr><tr><td>03080030T</td><td>Ajándék cs. húsvéti 200x70</td><td>220</td><td>222</td></tr><tr><td>06040180T</td><td>Gyurma színes natúr</td><td>228</td><td>225,33333333333334</td></tr><tr><td>06080423T</td><td>Beíró A/5 kockás</td><td>228</td><td>228</td></tr><tr><td>07010142T</td><td>G.toll betét Zebra F-0.7</td><td>228</td><td>228</td></tr><tr><td>07080421T</td><td>Zseléstoll Lizzy Card</td><td>228</td><td>228,66666666666666</td></tr><tr><td>07080163T</td><td>Golyóstoll UNI átlátszó</td><td>230</td><td>229,66666666666666</td></tr><tr><td>07080164T</td><td>Golyóstoll UNI gumis</td><td>231</td><td>232</td></tr><tr><td>07080318T</td><td>Pixiron Penac</td><td>235</td><td>235</td></tr><tr><td>07080160T</td><td>Golyóstoll penac</td><td>239</td><td>238</td></tr><tr><td>G029-FE307</td><td>fiú zokni</td><td>240</td><td>239,66666666666666</td></tr><tr><td>L029-FE307</td><td>lány zokni</td><td>240</td><td>241</td></tr><tr><td>06040248T</td><td>Körző maped</td><td>243</td><td>242</td></tr><tr><td>02040211T</td><td>Iratrendező ESSELTE</td><td>243</td><td>245</td></tr><tr><td>06080407T</td><td>Vízfesték  12 színű nagy</td><td>249</td><td>249,33333333333334</td></tr><tr><td>06040350T</td><td>Regiszteres füzet A4</td><td>256</td><td>254,66666666666666</td></tr><tr><td>02080432T</td><td>Tokos iratrendező</td><td>259</td><td>259,6666666666667</td></tr><tr><td>04080271T</td><td>Mappa PVC villámzáras</td><td>264</td><td>265,3333333333333</td></tr><tr><td>02040196T</td><td>Hibajavító készlet Blanco</td><td>273</td><td>270</td></tr><tr><td>07080467T</td><td>Golyóstoll kétfunkciós ICO</td><td>273</td><td>274</td></tr><tr><td>07080311T</td><td>Pixiron  UNI</td><td>276</td><td>275</td></tr><tr><td>07030107T</td><td>Filctoll, textil Edding 4500</td><td>276</td><td>276,6666666666667</td></tr><tr><td>07040098T</td><td>Filctoll document pen</td><td>278</td><td>277,3333333333333</td></tr><tr><td>02040200T</td><td>Hibajavító Kores mini pen</td><td>278</td><td>280,6666666666667</td></tr><tr><td>02040199T</td><td>Hibajavító roller Pax</td><td>286</td><td>283,3333333333333</td></tr><tr><td>02040402T</td><td>Tűzőgép Boxer </td><td>286</td><td>287,3333333333333</td></tr><tr><td>03080005T</td><td>Ajándék cs. tasak virágos nagy</td><td>290</td><td>289</td></tr><tr><td>08070485T</td><td>Jól felkészültem-e - Fizika</td><td>291</td><td>291,3333333333333</td></tr><tr><td>08070476T</td><td>Anyanyelvi gyakorló 2</td><td>293</td><td>292,3333333333333</td></tr><tr><td>06080337T</td><td>Ragasztó Gyurma</td><td>293</td><td>293,3333333333333</td></tr><tr><td>07080471T</td><td>Golyóstoll levélbontós</td><td>294</td><td>294,6666666666667</td></tr><tr><td>02060034T</td><td>Bélyegzőfesték </td><td>297</td><td>296,6666666666667</td></tr><tr><td>07080319T</td><td>Pixiron Pentel színes</td><td>299</td><td>301,3333333333333</td></tr><tr><td>08070480T</td><td>Fizika 13 éveseknek</td><td>308</td><td>305,6666666666667</td></tr><tr><td>02040293T</td><td>Névjegytartó kicsi</td><td>310</td><td>310,6666666666667</td></tr><tr><td>04050322T</td><td>Plüss sárkány</td><td>314</td><td>313,3333333333333</td></tr><tr><td>04080442T</td><td>Emlékkönyv</td><td>316</td><td>318</td></tr><tr><td>08070483T</td><td>Fizikai feladatok és tévedések</td><td>324</td><td>321,3333333333333</td></tr><tr><td>06080422T</td><td>Füzettartó A/4</td><td>324</td><td>324</td></tr><tr><td>06040394T</td><td>Tolltartó zipzáras</td><td>324</td><td>325,3333333333333</td></tr><tr><td>02020033T</td><td>Beírókönyv A4</td><td>328</td><td>330,3333333333333</td></tr><tr><td>02040401T</td><td>Tűzőgép Boxer 10</td><td>339</td><td>336,3333333333333</td></tr><tr><td>01010001T</td><td>félfamentes rajzlap A4 (10 lap)</td><td>342</td><td>342</td></tr><tr><td>08070484T</td><td>Fogalmazás lépésről lépésre</td><td>345</td><td>346,6666666666667</td></tr><tr><td>08070477T</td><td>Anyanyelvi gyakorló 3</td><td>353</td><td>351,3333333333333</td></tr><tr><td>04050358T</td><td>Strandlabda </td><td>356</td><td>356,3333333333333</td></tr><tr><td>04080272T</td><td>Mappa PVC villámzáras  képes</td><td>360</td><td>358,6666666666667</td></tr><tr><td>07040389T</td><td>Tintapatron 30 db-os kék</td><td>360</td><td>361,3333333333333</td></tr><tr><td>07080469T</td><td>Golyóstoll UNIBALL 07</td><td>364</td><td>371,3333333333333</td></tr><tr><td>07080151T</td><td>Golyóstoll + ceruza Twister 2in1</td><td>390</td><td>381,3333333333333</td></tr><tr><td>G023-FE301</td><td>fiú alsó</td><td>390</td><td>390</td></tr><tr><td>L023-FE301</td><td>lány alsó</td><td>390</td><td>390</td></tr><tr><td>07040100T</td><td>Filctoll Marvy alkoholos</td><td>390</td><td>393,6666666666667</td></tr><tr><td>07080154T</td><td>Golyóstoll INOXCROM</td><td>401</td><td>398</td></tr><tr><td>08070486T</td><td>Matematika gyakorló 2</td><td>403</td><td>402,3333333333333</td></tr><tr><td>08070487T</td><td>Matematika gyakorló 3</td><td>403</td><td>403</td></tr><tr><td>08070488T</td><td>Matematika gyakorló 4</td><td>403</td><td>403,6666666666667</td></tr><tr><td>02040404T</td><td>Tűzőgép EAGLE</td><td>405</td><td>406</td></tr><tr><td>06040396T</td><td>Tolltartó Garfield</td><td>410</td><td>408,6666666666667</td></tr><tr><td>06040398T</td><td>Tolltartó hengeres </td><td>411</td><td>410,6666666666667</td></tr><tr><td>06080125T</td><td>Füzettartó A/5 vastag</td><td>411</td><td>416</td></tr><tr><td>06010343T</td><td>Ragasztószalag 19 mm-es SCOTCH+ tépő</td><td>426</td><td>423,6666666666667</td></tr><tr><td>07040099T</td><td>Filctoll Edding 750</td><td>434</td><td>431,3333333333333</td></tr><tr><td>07040257T</td><td>Lakk filc Edding 750</td><td>434</td><td>435,3333333333333</td></tr><tr><td>02080452T</td><td>Tűzőgép mini</td><td>438</td><td>437,3333333333333</td></tr><tr><td>08070475T</td><td>A föld amelyen élünk - munkafüzet</td><td>440</td><td>439,3333333333333</td></tr><tr><td>08070494T</td><td>Érettségi felv. fel. Fizika</td><td>440</td><td>440</td></tr><tr><td>08070495T</td><td>Érettségi felv. fel. Biológia</td><td>440</td><td>443</td></tr><tr><td>04080443T</td><td>Emlékkönyv lakatos</td><td>449</td><td>448</td></tr><tr><td>07040166T</td><td>Golyóstoll Zebra 301</td><td>455</td><td>456</td></tr><tr><td>02020444T</td><td>Határidő napló A/6</td><td>464</td><td>462,3333333333333</td></tr><tr><td>07080316T</td><td>Pixiron KOH-I-NOOR</td><td>468</td><td>475</td></tr><tr><td>07050462T</td><td>Töltőtoll tinta </td><td>493</td><td>489,6666666666667</td></tr><tr><td>06080124T</td><td>Füzettartó A/4 keménytáblás</td><td>508</td><td>503</td></tr><tr><td>06010366T</td><td>Számológép Roxin</td><td>508</td><td>509</td></tr><tr><td>06040400T</td><td>Tornazsák</td><td>511</td><td>515</td></tr><tr><td>04040090T</td><td>Emlékkönyv</td><td>526</td><td>521</td></tr><tr><td>02080453T</td><td>Lyukasztó EAGLE</td><td>526</td><td>534,3333333333334</td></tr><tr><td>06080123T</td><td>Füzettartó A/4 keménytáblás</td><td>551</td><td>552,6666666666666</td></tr><tr><td>06040185T</td><td>Gyűrűskönyv</td><td>581</td><td>585,6666666666666</td></tr><tr><td>02080455T</td><td>Festékpatron BCI-3BK</td><td>625</td><td>613</td></tr><tr><td>06040382T</td><td>Táblafilc</td><td>633</td><td>636</td></tr><tr><td>02060039T</td><td>Bélyegző párna</td><td>650</td><td>646</td></tr><tr><td>06040397T</td><td>Tolltartó asztali</td><td>655</td><td>653,3333333333334</td></tr><tr><td>07040167T</td><td>Golyóstoll Zebra mini</td><td>655</td><td>661,3333333333334</td></tr><tr><td>08070479T</td><td>Fizika</td><td>674</td><td>671</td></tr><tr><td>07040135T</td><td>G.toll betét Parker </td><td>684</td><td>681,3333333333334</td></tr><tr><td>01100505T</td><td>Fehér másoló A/4</td><td>686</td><td>686,6666666666666</td></tr><tr><td>N019-FE301</td><td>női alsó</td><td>690</td><td>689</td></tr><tr><td>08070490T</td><td>Szövegszerkesztés</td><td>691</td><td>693,3333333333334</td></tr><tr><td>06040186T</td><td>Gyűrűskönyv színes</td><td>699</td><td>703,3333333333334</td></tr><tr><td>08070493T</td><td>Érettségi felv. fel. Matematika</td><td>720</td><td>715,6666666666666</td></tr><tr><td>06040395T</td><td>Tolltartó 2 zipzáros töltött</td><td>728</td><td>725,3333333333334</td></tr><tr><td>06040392T</td><td>Tolltartó 1 zipzáros</td><td>728</td><td>728</td></tr><tr><td>01100095T</td><td>Fénymásoló papír GetCopy</td><td>728</td><td>728</td></tr><tr><td>01100096T</td><td>Fénymásoló papír Qconnect</td><td>728</td><td>728</td></tr><tr><td>04020445T</td><td>Határidő napló 2010-s</td><td>728</td><td>730,3333333333334</td></tr><tr><td>08070492T</td><td>Informatika</td><td>735</td><td>742,6666666666666</td></tr><tr><td>06040393T</td><td>Tolltartó 2 részes NG.</td><td>765</td><td>755</td></tr><tr><td>02080454T</td><td>Lyukasztó BOXER</td><td>765</td><td>767,6666666666666</td></tr><tr><td>07080158T</td><td>Golyóstoll Parker tokban</td><td>773</td><td>772,6666666666666</td></tr><tr><td>02060038T</td><td>Bélyegző IDEAL 50</td><td>780</td><td>779,3333333333334</td></tr><tr><td>08070478T</td><td>Összefoglaló feladatgyüjtemény számtech.</td><td>785</td><td>786,3333333333334</td></tr><tr><td>02040194T</td><td>Hibajav.roll.Pritt 4,2mm</td><td>794</td><td>808</td></tr><tr><td>01100094T</td><td>Fénymásoló papír DataCopy</td><td>845</td><td>835,6666666666666</td></tr><tr><td>08070489T</td><td>RAMba zárt világ</td><td>868</td><td>862,6666666666666</td></tr><tr><td>06080188T</td><td>Hegyező gép</td><td>875</td><td>911</td></tr><tr><td>G038-FE316</td><td>fiú harisnya</td><td>990</td><td>951,6666666666666</td></tr><tr><td>L033-FE311</td><td>lány harisnya</td><td>990</td><td>999,6666666666666</td></tr><tr><td>07080152T</td><td>Golyóstoll 3 funkciós </td><td>1019</td><td>1032,6666666666667</td></tr><tr><td>08070472T</td><td>A föld amelyen élünk - Európa földrajza</td><td>1089</td><td>1065,6666666666667</td></tr><tr><td>08070473T</td><td>A föld amelyen élünk - Távoli földrészek</td><td>1089</td><td>1089</td></tr><tr><td>08070474T</td><td>A föld amelyen élünk - Hazánk földrajza</td><td>1089</td><td>1108,3333333333333</td></tr><tr><td>02060448T</td><td>Bélyegző RP 18-47</td><td>1147</td><td>1136,3333333333333</td></tr><tr><td>06040446T</td><td>Számológép tudományos</td><td>1173</td><td>1203,3333333333333</td></tr><tr><td>G019-NA207</td><td>gyermek pamut nadrág (fiú)</td><td>1290</td><td>1251</td></tr><tr><td>L019-NA207</td><td>gyermek pamut nadrág (lány)</td><td>1290</td><td>1310,3333333333333</td></tr><tr><td>02040403T</td><td>Tűzőgép SAX 239</td><td>1351</td><td>1339,3333333333333</td></tr><tr><td>02060447T</td><td>Bélyegző pocket</td><td>1377</td><td>1405,3333333333333</td></tr><tr><td>01100504T</td><td>Fehér másoló A/3</td><td>1488</td><td>1455</td></tr><tr><td>01100496T</td><td>Színes másoló a/4 80g</td><td>1500</td><td>1584,3333333333333</td></tr><tr><td>04080270T</td><td>Mappa bőr A5</td><td>1765</td><td>1751,6666666666667</td></tr><tr><td>U001-KI501</td><td>sál</td><td>1990</td><td>1951,6666666666667</td></tr><tr><td>02040002T</td><td>irodai tűzőgép</td><td>2100</td><td>2663,3333333333335</td></tr><tr><td>L048-PO218</td><td>gyermek póló (lány)</td><td>3900</td><td>3300</td></tr><tr><td>G048-PO218</td><td>gyermek póló (fiú)</td><td>3900</td><td>4125</td></tr><tr><td>01080512T</td><td>Öntapadó A/4</td><td>4575</td><td>4488,333333333333</td></tr><tr><td>G013-NA201</td><td>gyermek farmer nadrág (fiú)</td><td>4990</td><td>4851,666666666667</td></tr><tr><td>L013-NA201</td><td>gyermek farmer nadrág (lány)</td><td>4990</td><td>5490</td></tr><tr><td>F021-IN215</td><td>férfi ing</td><td>6490</td><td>6126,666666666667</td></tr><tr><td>L064-CI401</td><td>gyermek szandál (lány)</td><td>6900</td><td>6763,333333333333</td></tr><tr><td>G064-CI401</td><td>gyermek szandál (fiú)</td><td>6900</td><td>7230</td></tr><tr><td>F007-NA201</td><td>férfi farmer nadrág</td><td>7890</td><td>7563,333333333333</td></tr><tr><td>G073-CI410</td><td>gyermek cipő (fiú)</td><td>7900</td><td>7896,666666666667</td></tr><tr><td>L073-CI410</td><td>gyermek cipő (lány)</td><td>7900</td><td>7933,333333333333</td></tr><tr><td>L082-CI419</td><td>gyermek csizma (lány)</td><td>8000</td><td>7966,666666666667</td></tr><tr><td>G082-CI419</td><td>gyermek csizma (fiú)</td><td>8000</td><td>8096,666666666667</td></tr><tr><td>N008-NA201</td><td>női farmer nadrág</td><td>8290</td><td>8396,666666666666</td></tr><tr><td>L001-KB101</td><td>gyermek kabát (lány)</td><td>8900</td><td>8696,666666666666</td></tr><tr><td>G001-KB101</td><td>gyermek kabát (fiú)</td><td>8900</td><td>9900</td></tr><tr><td>F013-NA207</td><td>férfi szövet nadrág</td><td>11900</td><td>11683,333333333334</td></tr><tr><td>02080511T</td><td>Oki toner C</td><td>14250</td><td>14350</td></tr><tr><td>G041-AL211</td><td>fiú ünneplős ruha</td><td>16900</td><td>16016,666666666666</td></tr><tr><td>L041-AL211</td><td>lány ünneplős ruha</td><td>16900</td><td>18600</td></tr><tr><td>F001-KB101</td><td>férfi szövet kabát</td><td>22000</td><td>20966,666666666668</td></tr><tr><td>N001-KB101</td><td>női szövet kabát</td><td>24000</td><td>26000</td></tr><tr><td>N029-AL212</td><td>női koktélruha</td><td>32000</td><td>31666,666666666668</td></tr><tr><td>N035-AL218</td><td>kosztüm (rövid)</td><td>39000</td><td>39000</td></tr><tr><td>N039-AL222</td><td>kosztüm (hosszú)</td><td>46000</td><td>42500</td></tr></table>"
                    },
                    "metadata": {}
                }
            ],
            "execution_count": 19
        },
        {
            "cell_type": "markdown",
            "source": [
                "13. <span style=\"color: rgb(36, 41, 47); font-family: -apple-system, BlinkMacSystemFont, &quot;Segoe UI&quot;, Helvetica, Arial, sans-serif, &quot;Apple Color Emoji&quot;, &quot;Segoe UI Emoji&quot;; font-size: 16px;\">Készítsünk listát, amely a rendelések sorszámát és a rendelés értékét tartalmazza. A listát egészítsük ki egy új oszloppal, amely minden rendelés esetén addigi rendelések összegét tartalmazza (az aktuálisat is beleértve)!</span>\n",
                "\n",
                "1. A listát rendezzük sorszám szerint növekvő sorrendbe.\n",
                "2. A lista ne tartalmazzon duplikált sorokat!"
            ],
            "metadata": {
                "azdata_cell_guid": "85d5cb66-96c6-42de-99cf-85ab22d08548"
            },
            "attachments": {}
        },
        {
            "cell_type": "code",
            "source": [
                "ihunbkj"
            ],
            "metadata": {
                "azdata_cell_guid": "cb07d64b-0eaa-498b-b4d2-0b46971e95ce",
                "language": "sql"
            },
            "outputs": [],
            "execution_count": null
        },
        {
            "cell_type": "markdown",
            "source": [
                "14. <span style=\"color: rgb(36, 41, 47); font-family: -apple-system, BlinkMacSystemFont, &quot;Segoe UI&quot;, Helvetica, Arial, sans-serif, &quot;Apple Color Emoji&quot;, &quot;Segoe UI Emoji&quot;; font-size: 16px;\">Készítsünk listát a termékek kódjáról, nevéről, kategória azonosítójáról, raktár azonosítójáról és listaáráról, valamint a termék adott szempontok szerinti rangsorokban elfoglalt helyezéseiről. (Szempontonként külön oszlopban, a helyezéseknél növekvő sorrendet feltételezve). A szempontok a következők legyenek: listaár, kategória szerinti listaár, és raktárkód szerinti listaár.</span>\n",
                "\n",
                "1. Az oszlopokat nevezzük el értelemszerűen.\n",
                "2. A helyezések egyenlőség esetén \"sűrűn\" kövessék egymást.\n",
                "3. A lista legyen rendezett kategória azonosító, azon belül listaár szerint!"
            ],
            "metadata": {
                "azdata_cell_guid": "f95ad665-a807-4099-bf06-64ed974f866f"
            },
            "attachments": {}
        },
        {
            "cell_type": "code",
            "source": [
                ""
            ],
            "metadata": {
                "azdata_cell_guid": "74c7ec8a-ae4a-4d03-b1c4-e8f6bb1be12c",
                "language": "sql"
            },
            "outputs": [],
            "execution_count": null
        },
        {
            "cell_type": "markdown",
            "source": [
                "15. <span style=\"color: rgb(36, 41, 47); font-family: -apple-system, BlinkMacSystemFont, &quot;Segoe UI&quot;, Helvetica, Arial, sans-serif, &quot;Apple Color Emoji&quot;, &quot;Segoe UI Emoji&quot;; font-size: 16px;\">Készítsünk listát a rendelési tételekről, amely minden sor esetén göngyölítve tartalmazza az ügyfél adott rendelési tételig meglévő rendelési tételeinek összértékét!</span>\n",
                "\n",
                "1. Az új oszlop neve legyen Eddigi rendelési tételek összértéke!\n",
                "2. Az ügyfél neve is jelenjen meg!"
            ],
            "metadata": {
                "azdata_cell_guid": "93552388-ffec-49ff-99e5-ae8dc8072601"
            },
            "attachments": {}
        },
        {
            "cell_type": "code",
            "source": [
                ""
            ],
            "metadata": {
                "azdata_cell_guid": "0e7f547f-7d96-4611-b1c2-0fa84a581e79",
                "language": "sql"
            },
            "outputs": [],
            "execution_count": null
        }
    ]
}