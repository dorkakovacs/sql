{
    "metadata": {
        "kernelspec": {
            "name": "SQL",
            "display_name": "SQL",
            "language": "sql"
        },
        "language_info": {
            "name": "sql",
            "version": ""
        }
    },
    "nbformat_minor": 2,
    "nbformat": 4,
    "cells": [
        {
            "cell_type": "markdown",
            "source": [
                "1. <span style=\"background-color: rgb(255, 255, 255); color: rgb(0, 0, 0); font-family: &quot;Open Sans&quot;, sans-serif; font-size: 14.44px;\">Készítsünk sorszámozott listát a szálláshelyek adatairól!&nbsp;</span> \n",
                "\n",
                "a. A lista legyen a szálláshely típusa szerint, azon belül hely szerint, majd a neve szerint növekvően rendezve! \n",
                "\n",
                "b. A számozás típusonként kezdődjön újra!"
            ],
            "metadata": {
                "azdata_cell_guid": "363cd270-6577-449b-9c89-d4b7c7972d52"
            },
            "attachments": {}
        },
        {
            "cell_type": "code",
            "source": [
                "SELECT ROW_NUMBER() OVER(\r\n",
                "    PARTITION BY tipus\r\n",
                "    ORDER BY tipus, hely, szallas_nev\r\n",
                ") AS 'Sorszám',\r\n",
                "        *\r\n",
                "FROM Szallashely\r\n",
                ""
            ],
            "metadata": {
                "azdata_cell_guid": "6ab9f633-a3b5-48c9-a1dc-4fb8235ae85b",
                "language": "sql"
            },
            "outputs": [
                {
                    "output_type": "display_data",
                    "data": {
                        "text/html": "(21 rows affected)"
                    },
                    "metadata": {}
                },
                {
                    "output_type": "display_data",
                    "data": {
                        "text/html": "Total execution time: 00:00:00.074"
                    },
                    "metadata": {}
                },
                {
                    "output_type": "execute_result",
                    "metadata": {},
                    "execution_count": 2,
                    "data": {
                        "application/vnd.dataresource+json": {
                            "schema": {
                                "fields": [
                                    {
                                        "name": "Sorszám"
                                    },
                                    {
                                        "name": "SZALLAS_ID"
                                    },
                                    {
                                        "name": "SZALLAS_NEV"
                                    },
                                    {
                                        "name": "HELY"
                                    },
                                    {
                                        "name": "CSILLAGOK_SZAMA"
                                    },
                                    {
                                        "name": "TIPUS"
                                    },
                                    {
                                        "name": "ROGZITETTE"
                                    },
                                    {
                                        "name": "ROGZ_IDO"
                                    },
                                    {
                                        "name": "CIM"
                                    }
                                ]
                            },
                            "data": [
                                {
                                    "Sorszám": "1",
                                    "SZALLAS_ID": "7",
                                    "SZALLAS_NEV": "Szieszta Apartmanház",
                                    "HELY": "Balaton-dél",
                                    "CSILLAGOK_SZAMA": "0",
                                    "TIPUS": "Apartman",
                                    "ROGZITETTE": "Mari",
                                    "ROGZ_IDO": "2016-03-11",
                                    "CIM": "8630 Balatonboglár, Dózsa György utca 108"
                                },
                                {
                                    "Sorszám": "2",
                                    "SZALLAS_ID": "18",
                                    "SZALLAS_NEV": "Fortuna Apartman",
                                    "HELY": "Dél-Somogy",
                                    "CSILLAGOK_SZAMA": "0",
                                    "TIPUS": "Apartman",
                                    "ROGZITETTE": "Béla",
                                    "ROGZ_IDO": "2016-04-07",
                                    "CIM": "7570 Barcs, Kossuth u. 13."
                                },
                                {
                                    "Sorszám": "3",
                                    "SZALLAS_ID": "3",
                                    "SZALLAS_NEV": "Fortuna Apartman",
                                    "HELY": "Hajdúbihar megye",
                                    "CSILLAGOK_SZAMA": "0",
                                    "TIPUS": "Apartman",
                                    "ROGZITETTE": "Sára",
                                    "ROGZ_IDO": "2016-03-06",
                                    "CIM": "4200 Hajdúszoboszló, Wesselényi utca 56."
                                },
                                {
                                    "Sorszám": "1",
                                    "SZALLAS_ID": "20",
                                    "SZALLAS_NEV": "Kollégium",
                                    "HELY": "Budapest",
                                    "CSILLAGOK_SZAMA": "0",
                                    "TIPUS": "Diákszálló",
                                    "ROGZITETTE": "Sára",
                                    "ROGZ_IDO": "2016-04-07",
                                    "CIM": "1146 Budapest, Ajtósi Dürer sor 23."
                                },
                                {
                                    "Sorszám": "1",
                                    "SZALLAS_ID": "8",
                                    "SZALLAS_NEV": "Hotel Három Hattyú",
                                    "HELY": "Balaton-dél",
                                    "CSILLAGOK_SZAMA": "4",
                                    "TIPUS": "Hotel",
                                    "ROGZITETTE": "Béla",
                                    "ROGZ_IDO": "2016-03-13",
                                    "CIM": "8623 Balatonföldvár, Rákóczi Ferenc út 45."
                                },
                                {
                                    "Sorszám": "2",
                                    "SZALLAS_ID": "6",
                                    "SZALLAS_NEV": "Kentaur Hotel",
                                    "HELY": "Balaton-dél",
                                    "CSILLAGOK_SZAMA": "3",
                                    "TIPUS": "Hotel",
                                    "ROGZITETTE": "Béla",
                                    "ROGZ_IDO": "2016-03-08",
                                    "CIM": "8600 Siófok (Széplak), Akácfa utca 1"
                                },
                                {
                                    "Sorszám": "3",
                                    "SZALLAS_ID": "12",
                                    "SZALLAS_NEV": "Gold Hotel",
                                    "HELY": "Budapest",
                                    "CSILLAGOK_SZAMA": "3",
                                    "TIPUS": "Hotel",
                                    "ROGZITETTE": "Béla",
                                    "ROGZ_IDO": "2016-03-24",
                                    "CIM": "1016 Budapest, Hegyalja út 12"
                                },
                                {
                                    "Sorszám": "4",
                                    "SZALLAS_ID": "10",
                                    "SZALLAS_NEV": "Lagúna Hotel",
                                    "HELY": "Budapest",
                                    "CSILLAGOK_SZAMA": "4",
                                    "TIPUS": "Hotel",
                                    "ROGZITETTE": "Sára",
                                    "ROGZ_IDO": "2016-03-20",
                                    "CIM": "1097 Budapest, Albert Flórián út 3"
                                },
                                {
                                    "Sorszám": "5",
                                    "SZALLAS_ID": "16",
                                    "SZALLAS_NEV": "Bagoly Hotel",
                                    "HELY": "Pest megye",
                                    "CSILLAGOK_SZAMA": "3",
                                    "TIPUS": "Hotel",
                                    "ROGZITETTE": "Mari",
                                    "ROGZ_IDO": "2016-04-01",
                                    "CIM": "2230 Gyömrő, Bergszász u. 5."
                                },
                                {
                                    "Sorszám": "6",
                                    "SZALLAS_ID": "17",
                                    "SZALLAS_NEV": "Szarvas Hotel",
                                    "HELY": "Tolna megye",
                                    "CSILLAGOK_SZAMA": "4",
                                    "TIPUS": "Hotel",
                                    "ROGZITETTE": "Béla",
                                    "ROGZ_IDO": "2016-04-04",
                                    "CIM": "7121 Szálka, Petőfi Sándor u."
                                },
                                {
                                    "Sorszám": "1",
                                    "SZALLAS_ID": "9",
                                    "SZALLAS_NEV": "Jáde panzió",
                                    "HELY": "Balaton-dél",
                                    "CSILLAGOK_SZAMA": "3",
                                    "TIPUS": "panzió",
                                    "ROGZITETTE": "Mari",
                                    "ROGZ_IDO": "2016-03-16",
                                    "CIM": "8624 Balatonföldvár, Kiss u.2."
                                },
                                {
                                    "Sorszám": "2",
                                    "SZALLAS_ID": "15",
                                    "SZALLAS_NEV": "Tímárház Panzió",
                                    "HELY": "Balaton-dél",
                                    "CSILLAGOK_SZAMA": "3",
                                    "TIPUS": "panzió",
                                    "ROGZITETTE": "Béla",
                                    "ROGZ_IDO": "2016-03-29",
                                    "CIM": "8600 Siófok, Virág utca 1"
                                },
                                {
                                    "Sorszám": "3",
                                    "SZALLAS_ID": "5",
                                    "SZALLAS_NEV": "Fortuna Panzió",
                                    "HELY": "Békés megye",
                                    "CSILLAGOK_SZAMA": "3",
                                    "TIPUS": "panzió",
                                    "ROGZITETTE": "Sára",
                                    "ROGZ_IDO": "2016-03-08",
                                    "CIM": "5900 Orosháza, Gyopárosfürdő Tópart utca 3."
                                },
                                {
                                    "Sorszám": "4",
                                    "SZALLAS_ID": "4",
                                    "SZALLAS_NEV": "Fortuna panzió",
                                    "HELY": "Budapest",
                                    "CSILLAGOK_SZAMA": "3",
                                    "TIPUS": "panzió",
                                    "ROGZITETTE": "Béla",
                                    "ROGZ_IDO": "2016-03-07",
                                    "CIM": "1019 Budapest XIV. Cinkotai út 86."
                                },
                                {
                                    "Sorszám": "5",
                                    "SZALLAS_ID": "13",
                                    "SZALLAS_NEV": "Riviéra Panzió",
                                    "HELY": "Csongrád megye",
                                    "CSILLAGOK_SZAMA": "3",
                                    "TIPUS": "panzió",
                                    "ROGZITETTE": "Sára",
                                    "ROGZ_IDO": "2016-03-27",
                                    "CIM": "6722 Szeged, Petőfi Sándor út 3."
                                },
                                {
                                    "Sorszám": "1",
                                    "SZALLAS_ID": "2",
                                    "SZALLAS_NEV": "Családi Ház",
                                    "HELY": "Balaton-dél",
                                    "CSILLAGOK_SZAMA": "0",
                                    "TIPUS": "vendégház",
                                    "ROGZITETTE": "Béla",
                                    "ROGZ_IDO": "2016-03-02",
                                    "CIM": "8630 Balatonboglár, József Attila utca 25"
                                },
                                {
                                    "Sorszám": "2",
                                    "SZALLAS_ID": "1",
                                    "SZALLAS_NEV": "Sába-Ház",
                                    "HELY": "Balaton-dél",
                                    "CSILLAGOK_SZAMA": "0",
                                    "TIPUS": "vendégház",
                                    "ROGZITETTE": "Béla",
                                    "ROGZ_IDO": "2016-02-28",
                                    "CIM": "8630 Balatonboglár, Radnóti Miklós utca 8"
                                },
                                {
                                    "Sorszám": "3",
                                    "SZALLAS_ID": "11",
                                    "SZALLAS_NEV": "Partiszél Vendégház",
                                    "HELY": "Balaton-észak",
                                    "CSILLAGOK_SZAMA": "0",
                                    "TIPUS": "vendégház",
                                    "ROGZITETTE": "Béla",
                                    "ROGZ_IDO": "2016-03-22",
                                    "CIM": "8220 Balatonalmádi Neptun u. 23."
                                },
                                {
                                    "Sorszám": "4",
                                    "SZALLAS_ID": "14",
                                    "SZALLAS_NEV": "Nyárfás Vendégház",
                                    "HELY": "Csongrád megye",
                                    "CSILLAGOK_SZAMA": "0",
                                    "TIPUS": "vendégház",
                                    "ROGZITETTE": "Béla",
                                    "ROGZ_IDO": "2016-03-27",
                                    "CIM": "6723 Szeged, Nagy u. 12."
                                },
                                {
                                    "Sorszám": "5",
                                    "SZALLAS_ID": "21",
                                    "SZALLAS_NEV": "Müller Vendégház",
                                    "HELY": "Dél-Somogy",
                                    "CSILLAGOK_SZAMA": "0",
                                    "TIPUS": "vendégház",
                                    "ROGZITETTE": "Béla",
                                    "ROGZ_IDO": "2016-04-07",
                                    "CIM": "7570 Barcs, Magyar u. 10."
                                },
                                {
                                    "Sorszám": "6",
                                    "SZALLAS_ID": "19",
                                    "SZALLAS_NEV": "Nyárfás Vendégház",
                                    "HELY": "Dél-Somogy",
                                    "CSILLAGOK_SZAMA": "0",
                                    "TIPUS": "vendégház",
                                    "ROGZITETTE": "Sára",
                                    "ROGZ_IDO": "2016-04-07",
                                    "CIM": "7570 Barcs, Bajcsy-Zs. u. 53"
                                }
                            ]
                        },
                        "text/html": [
                            "<table>",
                            "<tr><th>Sorszám</th><th>SZALLAS_ID</th><th>SZALLAS_NEV</th><th>HELY</th><th>CSILLAGOK_SZAMA</th><th>TIPUS</th><th>ROGZITETTE</th><th>ROGZ_IDO</th><th>CIM</th></tr>",
                            "<tr><td>1</td><td>7</td><td>Szieszta Apartmanház</td><td>Balaton-dél</td><td>0</td><td>Apartman</td><td>Mari</td><td>2016-03-11</td><td>8630 Balatonboglár, Dózsa György utca 108</td></tr>",
                            "<tr><td>2</td><td>18</td><td>Fortuna Apartman</td><td>Dél-Somogy</td><td>0</td><td>Apartman</td><td>Béla</td><td>2016-04-07</td><td>7570 Barcs, Kossuth u. 13.</td></tr>",
                            "<tr><td>3</td><td>3</td><td>Fortuna Apartman</td><td>Hajdúbihar megye</td><td>0</td><td>Apartman</td><td>Sára</td><td>2016-03-06</td><td>4200 Hajdúszoboszló, Wesselényi utca 56.</td></tr>",
                            "<tr><td>1</td><td>20</td><td>Kollégium</td><td>Budapest</td><td>0</td><td>Diákszálló</td><td>Sára</td><td>2016-04-07</td><td>1146 Budapest, Ajtósi Dürer sor 23.</td></tr>",
                            "<tr><td>1</td><td>8</td><td>Hotel Három Hattyú</td><td>Balaton-dél</td><td>4</td><td>Hotel</td><td>Béla</td><td>2016-03-13</td><td>8623 Balatonföldvár, Rákóczi Ferenc út 45.</td></tr>",
                            "<tr><td>2</td><td>6</td><td>Kentaur Hotel</td><td>Balaton-dél</td><td>3</td><td>Hotel</td><td>Béla</td><td>2016-03-08</td><td>8600 Siófok (Széplak), Akácfa utca 1</td></tr>",
                            "<tr><td>3</td><td>12</td><td>Gold Hotel</td><td>Budapest</td><td>3</td><td>Hotel</td><td>Béla</td><td>2016-03-24</td><td>1016 Budapest, Hegyalja út 12</td></tr>",
                            "<tr><td>4</td><td>10</td><td>Lagúna Hotel</td><td>Budapest</td><td>4</td><td>Hotel</td><td>Sára</td><td>2016-03-20</td><td>1097 Budapest, Albert Flórián út 3</td></tr>",
                            "<tr><td>5</td><td>16</td><td>Bagoly Hotel</td><td>Pest megye</td><td>3</td><td>Hotel</td><td>Mari</td><td>2016-04-01</td><td>2230 Gyömrő, Bergszász u. 5.</td></tr>",
                            "<tr><td>6</td><td>17</td><td>Szarvas Hotel</td><td>Tolna megye</td><td>4</td><td>Hotel</td><td>Béla</td><td>2016-04-04</td><td>7121 Szálka, Petőfi Sándor u.</td></tr>",
                            "<tr><td>1</td><td>9</td><td>Jáde panzió</td><td>Balaton-dél</td><td>3</td><td>panzió</td><td>Mari</td><td>2016-03-16</td><td>8624 Balatonföldvár, Kiss u.2.</td></tr>",
                            "<tr><td>2</td><td>15</td><td>Tímárház Panzió</td><td>Balaton-dél</td><td>3</td><td>panzió</td><td>Béla</td><td>2016-03-29</td><td>8600 Siófok, Virág utca 1</td></tr>",
                            "<tr><td>3</td><td>5</td><td>Fortuna Panzió</td><td>Békés megye</td><td>3</td><td>panzió</td><td>Sára</td><td>2016-03-08</td><td>5900 Orosháza, Gyopárosfürdő Tópart utca 3.</td></tr>",
                            "<tr><td>4</td><td>4</td><td>Fortuna panzió</td><td>Budapest</td><td>3</td><td>panzió</td><td>Béla</td><td>2016-03-07</td><td>1019 Budapest XIV. Cinkotai út 86.</td></tr>",
                            "<tr><td>5</td><td>13</td><td>Riviéra Panzió</td><td>Csongrád megye</td><td>3</td><td>panzió</td><td>Sára</td><td>2016-03-27</td><td>6722 Szeged, Petőfi Sándor út 3.</td></tr>",
                            "<tr><td>1</td><td>2</td><td>Családi Ház</td><td>Balaton-dél</td><td>0</td><td>vendégház</td><td>Béla</td><td>2016-03-02</td><td>8630 Balatonboglár, József Attila utca 25</td></tr>",
                            "<tr><td>2</td><td>1</td><td>Sába-Ház</td><td>Balaton-dél</td><td>0</td><td>vendégház</td><td>Béla</td><td>2016-02-28</td><td>8630 Balatonboglár, Radnóti Miklós utca 8</td></tr>",
                            "<tr><td>3</td><td>11</td><td>Partiszél Vendégház</td><td>Balaton-észak</td><td>0</td><td>vendégház</td><td>Béla</td><td>2016-03-22</td><td>8220 Balatonalmádi Neptun u. 23.</td></tr>",
                            "<tr><td>4</td><td>14</td><td>Nyárfás Vendégház</td><td>Csongrád megye</td><td>0</td><td>vendégház</td><td>Béla</td><td>2016-03-27</td><td>6723 Szeged, Nagy u. 12.</td></tr>",
                            "<tr><td>5</td><td>21</td><td>Müller Vendégház</td><td>Dél-Somogy</td><td>0</td><td>vendégház</td><td>Béla</td><td>2016-04-07</td><td>7570 Barcs, Magyar u. 10.</td></tr>",
                            "<tr><td>6</td><td>19</td><td>Nyárfás Vendégház</td><td>Dél-Somogy</td><td>0</td><td>vendégház</td><td>Sára</td><td>2016-04-07</td><td>7570 Barcs, Bajcsy-Zs. u. 53</td></tr>",
                            "</table>"
                        ]
                    }
                }
            ],
            "execution_count": 2
        },
        {
            "cell_type": "markdown",
            "source": [
                "2. <span style=\"background-color: rgb(255, 255, 255); color: rgb(0, 0, 0); font-family: &quot;Open Sans&quot;, sans-serif; font-size: 14.44px;\">Készítsünk lekérdezést, amely a foglalások adatait jeleníti meg!&nbsp;</span> \n",
                "\n",
                "a. A lista tartalmazzon két új oszlopot, amelyek az adott ügyfél legrövidebb, illetve leghosszabb foglalásának hosszát (a foglalt napok számát) mutatják meg! \n",
                "\n",
                "b. Az oszlopokat nevezzük el értelemszerűen!"
            ],
            "metadata": {
                "azdata_cell_guid": "ea75c103-911f-41a3-a32c-3d40fb3e4e4a"
            },
            "attachments": {}
        },
        {
            "cell_type": "code",
            "source": [
                ""
            ],
            "metadata": {
                "azdata_cell_guid": "222b9618-a8e8-42b4-a8e8-d002257122b7",
                "language": "sql"
            },
            "outputs": [],
            "execution_count": null
        },
        {
            "cell_type": "markdown",
            "source": [
                "```\n",
                "3. Készítsük listát, amely megjeleníti az ügyfelek azonosítóját, nevét és a foglalásainak kezdő- és befejező dátumát, valamint azt, hogy a foglalás összesen hány főre történt! \n",
                "```\n",
                "\n",
                "a. Egy új oszlopban jelenítsük meg azt is, hogy az ügyfél előző három foglalása összesen hány főre történt!\n",
                "\n",
                "![](https://moodle.uni-corvinus.hu/theme/image.php/adaptable/atto_h5p/1709548862/icon)"
            ],
            "metadata": {
                "azdata_cell_guid": "d7876bb9-76d0-4d07-baed-3cb17b2f96c3"
            },
            "attachments": {}
        },
        {
            "cell_type": "code",
            "source": [
                ""
            ],
            "metadata": {
                "azdata_cell_guid": "56ec19ce-e249-4551-b2a8-f17569765acc",
                "language": "sql"
            },
            "outputs": [],
            "execution_count": null
        },
        {
            "cell_type": "markdown",
            "source": [
                "4. <span style=\"background-color: rgb(255, 255, 255); color: rgb(0, 0, 0); font-family: &quot;Open Sans&quot;, sans-serif; font-size: 14.44px;\">Készítsünk listát arról, hogy az egyes szálláshelyeken évente hány foglalás történt!&nbsp;</span> \n",
                "\n",
                "a. A lista jelenítse meg a szálláshely azonosítóját, nevét, az évet, és a foglalások számát!\n",
                "\n",
                "b. Egy új oszlopban jelenítsük meg a szálláshely eddigi éves foglalásainak számát is (az aktuálisat is beleértve). \n",
                "\n",
                "c. Az évnél a METTOL dátumot vegyük figyelembe! \n",
                "\n",
                "d. A lista ne tartalmazzon duplikált sorokat!"
            ],
            "metadata": {
                "azdata_cell_guid": "8e7fef82-8022-49a0-8255-fc2846c2134b"
            },
            "attachments": {}
        },
        {
            "cell_type": "code",
            "source": [
                "SELECT DISTINCT szh.SZALLAS_ID,\r\n",
                "        YEAR(f.METTOL),\r\n",
                "        COUNT(*) OVER(PARTITION BY szh.SZALLAS_ID, YEAR(f.METTOL ))\r\n",
                "        COUNT(*) OVER (PARTITION BY szh.SZALLAS_ID, YEAR(f.METTOL)\r\n",
                "                        ORDER BY f.METTOL)\r\n",
                "FROM szallashely szh JOIN Szoba sz ON szh.SZALLAS_ID=sz.SZALLAS_FK\r\n",
                "                    JOIN Foglalas f ON sz.SZOBA_ID=f.SZOBA_FK\r\n",
                ""
            ],
            "metadata": {
                "azdata_cell_guid": "36f7b396-4a1f-45e5-8720-2302537c91bc",
                "language": "sql"
            },
            "outputs": [],
            "execution_count": null
        },
        {
            "cell_type": "markdown",
            "source": [
                "5. <span style=\"background-color: rgb(255, 255, 255); color: rgb(0, 0, 0); font-family: &quot;Open Sans&quot;, sans-serif; font-size: 14.44px;\">Készítsük listát a szálláshelyekről! A lista tartalmazza a szálláshely azonosítóját, nevét, és a csillagok számát csillagszám szerint csökkenő, azon belül szállásnév szerint növekvő sorrendben!&nbsp;</span> \n",
                "\n",
                "a. Vegyünk fel két új oszlopot, amely a sorrend szerint előző szálláshely nevét, illetve azonosítóját is megjeleníti!"
            ],
            "metadata": {
                "azdata_cell_guid": "84239ca2-6b5e-49f5-9860-d44c11d6de32"
            },
            "attachments": {}
        },
        {
            "cell_type": "code",
            "source": [
                ""
            ],
            "metadata": {
                "azdata_cell_guid": "06d9a62b-9430-424b-a135-d80e675f0eb3",
                "language": "sql"
            },
            "outputs": [],
            "execution_count": null
        },
        {
            "cell_type": "markdown",
            "source": [
                "6. <span style=\"background-color: rgb(255, 255, 255); color: rgb(0, 0, 0); font-family: &quot;Open Sans&quot;, sans-serif; font-size: 14.44px;\">Listázzuk azon termékeket, amelyekből az átlagosnál kevesebb van raktáron!&nbsp;</span> \n",
                "\n",
                "a. Csak a termék kódja és megnevezése jelenjen meg!"
            ],
            "metadata": {
                "azdata_cell_guid": "b0d15045-3c43-4f3a-b8d4-76b4f24e5546"
            },
            "attachments": {}
        },
        {
            "cell_type": "code",
            "source": [
                "SELECT TERMEKKOD, \r\n",
                "        MEGNEVEZES\r\n",
                "FROM Termek\r\n",
                "WHERE keszlet < (SELECT AVG(keszlet)\r\n",
                "                FROM Termek)"
            ],
            "metadata": {
                "azdata_cell_guid": "f2b7400d-1255-40ac-9250-4d57f9da5357",
                "language": "sql"
            },
            "outputs": [
                {
                    "output_type": "display_data",
                    "data": {
                        "text/html": "(437 rows affected)"
                    },
                    "metadata": {}
                },
                {
                    "output_type": "display_data",
                    "data": {
                        "text/html": "Total execution time: 00:00:00.012"
                    },
                    "metadata": {}
                },
                {
                    "output_type": "execute_result",
                    "metadata": {},
                    "execution_count": 4,
                    "data": {
                        "application/vnd.dataresource+json": {
                            "schema": {
                                "fields": [
                                    {
                                        "name": "TERMEKKOD"
                                    },
                                    {
                                        "name": "MEGNEVEZES"
                                    }
                                ]
                            },
                            "data": [
                                {
                                    "TERMEKKOD": "01010110T",
                                    "MEGNEVEZES": "Fotópapír A/4 fényes"
                                },
                                {
                                    "TERMEKKOD": "01010304T",
                                    "MEGNEVEZES": "Öntapadós hologramos papír A/4"
                                },
                                {
                                    "TERMEKKOD": "01020300T",
                                    "MEGNEVEZES": "Oklevél A/4 színes"
                                },
                                {
                                    "TERMEKKOD": "01030091T",
                                    "MEGNEVEZES": "Emléklap A/5"
                                },
                                {
                                    "TERMEKKOD": "01030092T",
                                    "MEGNEVEZES": "Esküvői meghívó"
                                },
                                {
                                    "TERMEKKOD": "01040307T",
                                    "MEGNEVEZES": "Pausz papír A/4"
                                },
                                {
                                    "TERMEKKOD": "01040502T",
                                    "MEGNEVEZES": "Előlap spirálhoz"
                                },
                                {
                                    "TERMEKKOD": "01080093T",
                                    "MEGNEVEZES": "Fax papír 15 m"
                                },
                                {
                                    "TERMEKKOD": "01080512T",
                                    "MEGNEVEZES": "Öntapadó A/4"
                                },
                                {
                                    "TERMEKKOD": "01080513T",
                                    "MEGNEVEZES": "Selyemfényű karton A/4"
                                },
                                {
                                    "TERMEKKOD": "01090499T",
                                    "MEGNEVEZES": "Color Copy A/4 250 g"
                                },
                                {
                                    "TERMEKKOD": "01090500T",
                                    "MEGNEVEZES": "Color Copy A4 200 g"
                                },
                                {
                                    "TERMEKKOD": "01090501T",
                                    "MEGNEVEZES": "Kreatív A/4 300g "
                                },
                                {
                                    "TERMEKKOD": "01090515T",
                                    "MEGNEVEZES": "Színes A/3 160 gr IQ"
                                },
                                {
                                    "TERMEKKOD": "01090516T",
                                    "MEGNEVEZES": "Színes karton A4"
                                },
                                {
                                    "TERMEKKOD": "01090517T",
                                    "MEGNEVEZES": "Színes ofszet B/4"
                                },
                                {
                                    "TERMEKKOD": "01100070T",
                                    "MEGNEVEZES": "Dekorációs karton"
                                },
                                {
                                    "TERMEKKOD": "01100072T",
                                    "MEGNEVEZES": "Dipa A/4 keretezett"
                                },
                                {
                                    "TERMEKKOD": "01100094T",
                                    "MEGNEVEZES": "Fénymásoló papír DataCopy"
                                },
                                {
                                    "TERMEKKOD": "01100095T",
                                    "MEGNEVEZES": "Fénymásoló papír GetCopy"
                                },
                                {
                                    "TERMEKKOD": "01100096T",
                                    "MEGNEVEZES": "Fénymásoló papír Qconnect"
                                },
                                {
                                    "TERMEKKOD": "01100496T",
                                    "MEGNEVEZES": "Színes másoló a/4 80g"
                                },
                                {
                                    "TERMEKKOD": "01100497T",
                                    "MEGNEVEZES": "Color Copy 160 g-os "
                                },
                                {
                                    "TERMEKKOD": "01100503T",
                                    "MEGNEVEZES": "Color Copy A4 120 g"
                                },
                                {
                                    "TERMEKKOD": "01100504T",
                                    "MEGNEVEZES": "Fehér másoló A/3"
                                },
                                {
                                    "TERMEKKOD": "01100505T",
                                    "MEGNEVEZES": "Fehér másoló A/4"
                                },
                                {
                                    "TERMEKKOD": "01100509T",
                                    "MEGNEVEZES": "Márványos A/4"
                                },
                                {
                                    "TERMEKKOD": "01100510T",
                                    "MEGNEVEZES": "Kreatív A/4 120g "
                                },
                                {
                                    "TERMEKKOD": "02010028T",
                                    "MEGNEVEZES": "Árazószalag "
                                },
                                {
                                    "TERMEKKOD": "02020029T",
                                    "MEGNEVEZES": "Átírótömb A/6"
                                },
                                {
                                    "TERMEKKOD": "02020032T",
                                    "MEGNEVEZES": "Beírókönyv A5 "
                                },
                                {
                                    "TERMEKKOD": "02020033T",
                                    "MEGNEVEZES": "Beírókönyv A4"
                                },
                                {
                                    "TERMEKKOD": "02020037T",
                                    "MEGNEVEZES": "Bevételi pénztárbizonylat 3×25"
                                },
                                {
                                    "TERMEKKOD": "02020245T",
                                    "MEGNEVEZES": "Kiadási pénztárbizonylat 2×25"
                                },
                                {
                                    "TERMEKKOD": "02030040T",
                                    "MEGNEVEZES": "Boríték LA 4 francia"
                                },
                                {
                                    "TERMEKKOD": "02040025T",
                                    "MEGNEVEZES": "Álló irattartó karton"
                                },
                                {
                                    "TERMEKKOD": "02040145T",
                                    "MEGNEVEZES": "Gemkapocs 28 mm"
                                },
                                {
                                    "TERMEKKOD": "02040147T",
                                    "MEGNEVEZES": "Genotherm lefűzhető A/5"
                                },
                                {
                                    "TERMEKKOD": "02040148T",
                                    "MEGNEVEZES": "Genotherm lefűzhető A4 10db-os"
                                },
                                {
                                    "TERMEKKOD": "02040176T",
                                    "MEGNEVEZES": "Gyorsfűző dosszié fehér"
                                },
                                {
                                    "TERMEKKOD": "02040177T",
                                    "MEGNEVEZES": "Gyorsfűző műa."
                                },
                                {
                                    "TERMEKKOD": "02040178T",
                                    "MEGNEVEZES": "Gyorsfűző műa."
                                },
                                {
                                    "TERMEKKOD": "02040194T",
                                    "MEGNEVEZES": "Hibajav.roll.Pritt 4,2mm"
                                },
                                {
                                    "TERMEKKOD": "02040195T",
                                    "MEGNEVEZES": "Hibajavító ecsetes Aqua"
                                },
                                {
                                    "TERMEKKOD": "02040196T",
                                    "MEGNEVEZES": "Hibajavító készlet Blanco"
                                },
                                {
                                    "TERMEKKOD": "02040197T",
                                    "MEGNEVEZES": "Hibajavító lap "
                                },
                                {
                                    "TERMEKKOD": "02040198T",
                                    "MEGNEVEZES": "Hibajavító roller 5 mm"
                                },
                                {
                                    "TERMEKKOD": "02040199T",
                                    "MEGNEVEZES": "Hibajavító roller Pax"
                                },
                                {
                                    "TERMEKKOD": "02040200T",
                                    "MEGNEVEZES": "Hibajavító Kores mini pen"
                                },
                                {
                                    "TERMEKKOD": "02040206T",
                                    "MEGNEVEZES": "Írásvetítő fólia"
                                },
                                {
                                    "TERMEKKOD": "02040207T",
                                    "MEGNEVEZES": "Iratgyűjtő ESSELTE ablakos"
                                },
                                {
                                    "TERMEKKOD": "02040208T",
                                    "MEGNEVEZES": "Iratgyűjtő fehér"
                                },
                                {
                                    "TERMEKKOD": "02040209T",
                                    "MEGNEVEZES": "Iratsín fehér"
                                },
                                {
                                    "TERMEKKOD": "02040211T",
                                    "MEGNEVEZES": "Iratrendező ESSELTE"
                                },
                                {
                                    "TERMEKKOD": "02040214T",
                                    "MEGNEVEZES": "Iromány fedél feles"
                                },
                                {
                                    "TERMEKKOD": "02040290T",
                                    "MEGNEVEZES": "Naptár 24-es"
                                },
                                {
                                    "TERMEKKOD": "02040291T",
                                    "MEGNEVEZES": "Naptárhát kicsi"
                                },
                                {
                                    "TERMEKKOD": "02040294T",
                                    "MEGNEVEZES": "Notesz A/5 sima"
                                },
                                {
                                    "TERMEKKOD": "02040298T",
                                    "MEGNEVEZES": "Notesz mintás"
                                },
                                {
                                    "TERMEKKOD": "02040308T",
                                    "MEGNEVEZES": "Pénztárgépsz. 2 pl. nem öníró"
                                },
                                {
                                    "TERMEKKOD": "02040309T",
                                    "MEGNEVEZES": "Pénztárgépszalag 2pl SC 57.5/60"
                                },
                                {
                                    "TERMEKKOD": "02040401T",
                                    "MEGNEVEZES": "Tűzőgép Boxer 10"
                                },
                                {
                                    "TERMEKKOD": "02040402T",
                                    "MEGNEVEZES": "Tűzőgép Boxer "
                                },
                                {
                                    "TERMEKKOD": "02040403T",
                                    "MEGNEVEZES": "Tűzőgép SAX 239"
                                },
                                {
                                    "TERMEKKOD": "02040404T",
                                    "MEGNEVEZES": "Tűzőgép EAGLE"
                                },
                                {
                                    "TERMEKKOD": "02040405T",
                                    "MEGNEVEZES": "Tűzőkapocs 10-es"
                                },
                                {
                                    "TERMEKKOD": "02040506T",
                                    "MEGNEVEZES": "Fólia tasakos A4 125 mik."
                                },
                                {
                                    "TERMEKKOD": "02040507T",
                                    "MEGNEVEZES": "Fólia tasakos A4 80 mik."
                                },
                                {
                                    "TERMEKKOD": "02040508T",
                                    "MEGNEVEZES": "Fólia tasakos A4100 mik."
                                },
                                {
                                    "TERMEKKOD": "02050460T",
                                    "MEGNEVEZES": "Boríték C/4-es"
                                },
                                {
                                    "TERMEKKOD": "02050461T",
                                    "MEGNEVEZES": "Boríték B/4-es"
                                },
                                {
                                    "TERMEKKOD": "02060034T",
                                    "MEGNEVEZES": "Bélyegzőfesték "
                                },
                                {
                                    "TERMEKKOD": "02060038T",
                                    "MEGNEVEZES": "Bélyegző IDEAL 50"
                                },
                                {
                                    "TERMEKKOD": "02060039T",
                                    "MEGNEVEZES": "Bélyegző párna"
                                },
                                {
                                    "TERMEKKOD": "02060447T",
                                    "MEGNEVEZES": "Bélyegző pocket"
                                },
                                {
                                    "TERMEKKOD": "02060448T",
                                    "MEGNEVEZES": "Bélyegző RP 18-47"
                                },
                                {
                                    "TERMEKKOD": "02080069T",
                                    "MEGNEVEZES": "CD tartó tok"
                                },
                                {
                                    "TERMEKKOD": "02080081T",
                                    "MEGNEVEZES": "Dvd"
                                },
                                {
                                    "TERMEKKOD": "02080109T",
                                    "MEGNEVEZES": "Floppy lemez"
                                },
                                {
                                    "TERMEKKOD": "02080226T",
                                    "MEGNEVEZES": "Kapocskiszedő"
                                },
                                {
                                    "TERMEKKOD": "02080431T",
                                    "MEGNEVEZES": "Álló irattartó"
                                },
                                {
                                    "TERMEKKOD": "02080432T",
                                    "MEGNEVEZES": "Tokos iratrendező"
                                },
                                {
                                    "TERMEKKOD": "02080433T",
                                    "MEGNEVEZES": "Ragasztószalag 19 mm-es"
                                },
                                {
                                    "TERMEKKOD": "02080434T",
                                    "MEGNEVEZES": "Mappa müa A/4"
                                },
                                {
                                    "TERMEKKOD": "02080436T",
                                    "MEGNEVEZES": "Irattartó müa. boríték A/4"
                                },
                                {
                                    "TERMEKKOD": "02080449T",
                                    "MEGNEVEZES": "Térképtű színes"
                                },
                                {
                                    "TERMEKKOD": "02080450T",
                                    "MEGNEVEZES": "Gémkapocs 28-as színes"
                                },
                                {
                                    "TERMEKKOD": "02080451T",
                                    "MEGNEVEZES": "Gémkapocs 50-es"
                                },
                                {
                                    "TERMEKKOD": "02080452T",
                                    "MEGNEVEZES": "Tűzőgép mini"
                                },
                                {
                                    "TERMEKKOD": "02080453T",
                                    "MEGNEVEZES": "Lyukasztó EAGLE"
                                },
                                {
                                    "TERMEKKOD": "02080454T",
                                    "MEGNEVEZES": "Lyukasztó BOXER"
                                },
                                {
                                    "TERMEKKOD": "02080455T",
                                    "MEGNEVEZES": "Festékpatron BCI-3BK"
                                },
                                {
                                    "TERMEKKOD": "02080456T",
                                    "MEGNEVEZES": "Genoterm HERLITZ 10-es"
                                },
                                {
                                    "TERMEKKOD": "02080511T",
                                    "MEGNEVEZES": "Oki toner C"
                                },
                                {
                                    "TERMEKKOD": "02080514T",
                                    "MEGNEVEZES": "Spirál 1/4 "
                                },
                                {
                                    "TERMEKKOD": "03010342T",
                                    "MEGNEVEZES": "Ragasztószalag  TIXO"
                                },
                                {
                                    "TERMEKKOD": "03010344T",
                                    "MEGNEVEZES": "Ragasztószalag nagy 12 mm"
                                },
                                {
                                    "TERMEKKOD": "03010345T",
                                    "MEGNEVEZES": "Ragasztószalag széles barna"
                                },
                                {
                                    "TERMEKKOD": "03050076T",
                                    "MEGNEVEZES": "Díszkötöző szalag metál nagy"
                                },
                                {
                                    "TERMEKKOD": "03050077T",
                                    "MEGNEVEZES": "Diszkötöző szalag arany"
                                },
                                {
                                    "TERMEKKOD": "03050078T",
                                    "MEGNEVEZES": "Díszkötöző szalag metál kicsi"
                                },
                                {
                                    "TERMEKKOD": "03080003T",
                                    "MEGNEVEZES": "Ajándék cs. tasak italos"
                                },
                                {
                                    "TERMEKKOD": "03080004T",
                                    "MEGNEVEZES": "Ajándék cs. tasak italos, fólia"
                                },
                                {
                                    "TERMEKKOD": "03080006T",
                                    "MEGNEVEZES": "Ajándék cs. tasak mintás kicsi"
                                },
                                {
                                    "TERMEKKOD": "03080009T",
                                    "MEGNEVEZES": "Ajándék csom. 100x70 metál"
                                },
                                {
                                    "TERMEKKOD": "03080012T",
                                    "MEGNEVEZES": "Ajándék csom. 200x70"
                                },
                                {
                                    "TERMEKKOD": "03080013T",
                                    "MEGNEVEZES": "Ajándék csom. 50x70 húsvéti"
                                },
                                {
                                    "TERMEKKOD": "03080014T",
                                    "MEGNEVEZES": "Ajándék csom. 70x50 metál"
                                },
                                {
                                    "TERMEKKOD": "03080015T",
                                    "MEGNEVEZES": "Ajándék csom. gyűrt"
                                },
                                {
                                    "TERMEKKOD": "03080016T",
                                    "MEGNEVEZES": "házt.csom.  5 ív"
                                },
                                {
                                    "TERMEKKOD": "03080017T",
                                    "MEGNEVEZES": "iskolai csomagoló papír"
                                },
                                {
                                    "TERMEKKOD": "03080019T",
                                    "MEGNEVEZES": "Ajándék csom. Krepp"
                                },
                                {
                                    "TERMEKKOD": "03080020T",
                                    "MEGNEVEZES": "Ajándék csom. nagy  "
                                },
                                {
                                    "TERMEKKOD": "03080021T",
                                    "MEGNEVEZES": "Ajándék csom. vékony"
                                },
                                {
                                    "TERMEKKOD": "03080030T",
                                    "MEGNEVEZES": "Ajándék cs. húsvéti 200x70"
                                },
                                {
                                    "TERMEKKOD": "03080439T",
                                    "MEGNEVEZES": "Italtartó doboz"
                                },
                                {
                                    "TERMEKKOD": "04020445T",
                                    "MEGNEVEZES": "Határidő napló 2010-s"
                                },
                                {
                                    "TERMEKKOD": "04030235T",
                                    "MEGNEVEZES": "Képeslap karácsonyi borítékos"
                                },
                                {
                                    "TERMEKKOD": "04030237T",
                                    "MEGNEVEZES": "Képeslap kerek"
                                },
                                {
                                    "TERMEKKOD": "04030238T",
                                    "MEGNEVEZES": "Képeslap stancolt"
                                },
                                {
                                    "TERMEKKOD": "04030239T",
                                    "MEGNEVEZES": "Képeslap stancolt szív"
                                },
                                {
                                    "TERMEKKOD": "04030243T",
                                    "MEGNEVEZES": "Képkirakó Dirib-darab"
                                },
                                {
                                    "TERMEKKOD": "04030261T",
                                    "MEGNEVEZES": "Levélpapír állatos"
                                },
                                {
                                    "TERMEKKOD": "04030262T",
                                    "MEGNEVEZES": "Levélpapír sima"
                                },
                                {
                                    "TERMEKKOD": "04030263T",
                                    "MEGNEVEZES": "Levélpapír szett"
                                },
                                {
                                    "TERMEKKOD": "04030264T",
                                    "MEGNEVEZES": "Levélpapír szett "
                                },
                                {
                                    "TERMEKKOD": "04030265T",
                                    "MEGNEVEZES": "Levélpapír szett natur, mintás"
                                },
                                {
                                    "TERMEKKOD": "04030266T",
                                    "MEGNEVEZES": "Levélpapír szett virágos"
                                },
                                {
                                    "TERMEKKOD": "04030285T",
                                    "MEGNEVEZES": "Mikulás zacskó"
                                },
                                {
                                    "TERMEKKOD": "04030286T",
                                    "MEGNEVEZES": "Műanyag állatok"
                                },
                                {
                                    "TERMEKKOD": "04030288T",
                                    "MEGNEVEZES": "Műanyag pohár 1 dl-es"
                                },
                                {
                                    "TERMEKKOD": "04040387T",
                                    "MEGNEVEZES": "Tenisz labda"
                                },
                                {
                                    "TERMEKKOD": "04050022T",
                                    "MEGNEVEZES": "Álarc"
                                },
                                {
                                    "TERMEKKOD": "04050023T",
                                    "MEGNEVEZES": "Álarc fejdísz"
                                },
                                {
                                    "TERMEKKOD": "04050024T",
                                    "MEGNEVEZES": "Álarc szemüveg"
                                },
                                {
                                    "TERMEKKOD": "04050035T",
                                    "MEGNEVEZES": "Bérlet tok"
                                },
                                {
                                    "TERMEKKOD": "04050073T",
                                    "MEGNEVEZES": "Díszdoboz kar."
                                },
                                {
                                    "TERMEKKOD": "04050074T",
                                    "MEGNEVEZES": "Díszdoboz tollnak 2 db-os"
                                },
                                {
                                    "TERMEKKOD": "04050075T",
                                    "MEGNEVEZES": "Díszdoboz tollnak 2 db-os keskeny"
                                },
                                {
                                    "TERMEKKOD": "04050171T",
                                    "MEGNEVEZES": "Gumilabda közepes"
                                },
                                {
                                    "TERMEKKOD": "04050187T",
                                    "MEGNEVEZES": "Hajgumi macis"
                                },
                                {
                                    "TERMEKKOD": "04050203T",
                                    "MEGNEVEZES": "Hűtőmágnes"
                                },
                                {
                                    "TERMEKKOD": "04050204T",
                                    "MEGNEVEZES": "Hűtőmágnes WD"
                                },
                                {
                                    "TERMEKKOD": "04050220T",
                                    "MEGNEVEZES": "Játék autó"
                                },
                                {
                                    "TERMEKKOD": "04050221T",
                                    "MEGNEVEZES": "Játékautó Blisteres"
                                },
                                {
                                    "TERMEKKOD": "04050222T",
                                    "MEGNEVEZES": "Játékautó elemes"
                                },
                                {
                                    "TERMEKKOD": "04050223T",
                                    "MEGNEVEZES": "Játékautó mini"
                                },
                                {
                                    "TERMEKKOD": "04050224T",
                                    "MEGNEVEZES": "Jelzőkréta"
                                },
                                {
                                    "TERMEKKOD": "04050252T",
                                    "MEGNEVEZES": "Kulcstartó Csőrikés"
                                },
                                {
                                    "TERMEKKOD": "04050253T",
                                    "MEGNEVEZES": "Kulcstartó figurás"
                                },
                                {
                                    "TERMEKKOD": "04050254T",
                                    "MEGNEVEZES": "Kulcstartó intarziás állatos"
                                },
                                {
                                    "TERMEKKOD": "04050269T",
                                    "MEGNEVEZES": "Lufi hullámos"
                                },
                                {
                                    "TERMEKKOD": "04050320T",
                                    "MEGNEVEZES": "Plüss  QX állatok"
                                },
                                {
                                    "TERMEKKOD": "04050322T",
                                    "MEGNEVEZES": "Plüss sárkány"
                                },
                                {
                                    "TERMEKKOD": "04050358T",
                                    "MEGNEVEZES": "Strandlabda "
                                },
                                {
                                    "TERMEKKOD": "04080270T",
                                    "MEGNEVEZES": "Mappa bőr A5"
                                },
                                {
                                    "TERMEKKOD": "04080271T",
                                    "MEGNEVEZES": "Mappa PVC villámzáras"
                                },
                                {
                                    "TERMEKKOD": "04080272T",
                                    "MEGNEVEZES": "Mappa PVC villámzáras  képes"
                                },
                                {
                                    "TERMEKKOD": "04080443T",
                                    "MEGNEVEZES": "Emlékkönyv lakatos"
                                },
                                {
                                    "TERMEKKOD": "04110066T",
                                    "MEGNEVEZES": "Címke 8 db-os"
                                },
                                {
                                    "TERMEKKOD": "04110067T",
                                    "MEGNEVEZES": "Címke WD. állat"
                                },
                                {
                                    "TERMEKKOD": "04110068T",
                                    "MEGNEVEZES": "Címke egyszínű"
                                },
                                {
                                    "TERMEKKOD": "04110227T",
                                    "MEGNEVEZES": "Képeslap  borítékos"
                                },
                                {
                                    "TERMEKKOD": "04110228T",
                                    "MEGNEVEZES": "Képeslap \"Nászajándék\""
                                },
                                {
                                    "TERMEKKOD": "04110229T",
                                    "MEGNEVEZES": "Képeslap \"Részvét\""
                                },
                                {
                                    "TERMEKKOD": "04110230T",
                                    "MEGNEVEZES": "Képeslap humoros "
                                },
                                {
                                    "TERMEKKOD": "04110231T",
                                    "MEGNEVEZES": "Képeslap humoros borítékos"
                                },
                                {
                                    "TERMEKKOD": "04110232T",
                                    "MEGNEVEZES": "Képeslap humoros kaparós"
                                },
                                {
                                    "TERMEKKOD": "04110233T",
                                    "MEGNEVEZES": "Képeslap humoros"
                                },
                                {
                                    "TERMEKKOD": "04110258T",
                                    "MEGNEVEZES": "Lampion"
                                },
                                {
                                    "TERMEKKOD": "04110274T",
                                    "MEGNEVEZES": "Matrica autóra H"
                                },
                                {
                                    "TERMEKKOD": "04110275T",
                                    "MEGNEVEZES": "Matrica motoros kicsi"
                                },
                                {
                                    "TERMEKKOD": "04110276T",
                                    "MEGNEVEZES": "Matrica Stickers nagy állatos"
                                },
                                {
                                    "TERMEKKOD": "04110277T",
                                    "MEGNEVEZES": "Matrica Stickers szíves"
                                },
                                {
                                    "TERMEKKOD": "04110278T",
                                    "MEGNEVEZES": "Matrica Test ékszer tattoo"
                                },
                                {
                                    "TERMEKKOD": "04110279T",
                                    "MEGNEVEZES": "Matrica tetoválás"
                                },
                                {
                                    "TERMEKKOD": "04110280T",
                                    "MEGNEVEZES": "Matrica tetoválós kicsi"
                                },
                                {
                                    "TERMEKKOD": "04110281T",
                                    "MEGNEVEZES": "Matrica világítós "
                                },
                                {
                                    "TERMEKKOD": "04110282T",
                                    "MEGNEVEZES": "Matrica WD kicsi"
                                },
                                {
                                    "TERMEKKOD": "04110283T",
                                    "MEGNEVEZES": "Meghívó állatos"
                                },
                                {
                                    "TERMEKKOD": "04110284T",
                                    "MEGNEVEZES": "Meghívó borítékos"
                                },
                                {
                                    "TERMEKKOD": "04110362T",
                                    "MEGNEVEZES": "Szalvéta gyűjtőknek"
                                },
                                {
                                    "TERMEKKOD": "05010026T",
                                    "MEGNEVEZES": "Alufólia 10 m-es"
                                },
                                {
                                    "TERMEKKOD": "05010369T",
                                    "MEGNEVEZES": "Szemetes zsák 60 literes"
                                },
                                {
                                    "TERMEKKOD": "05010370T",
                                    "MEGNEVEZES": "Szilvia csomagoló"
                                },
                                {
                                    "TERMEKKOD": "05040310T",
                                    "MEGNEVEZES": "Pill.ragasztó"
                                },
                                {
                                    "TERMEKKOD": "05040348T",
                                    "MEGNEVEZES": "Rajzszeg színes"
                                },
                                {
                                    "TERMEKKOD": "05040349T",
                                    "MEGNEVEZES": "Rajzszeg"
                                },
                                {
                                    "TERMEKKOD": "05050045T",
                                    "MEGNEVEZES": "Celofán"
                                },
                                {
                                    "TERMEKKOD": "05050046T",
                                    "MEGNEVEZES": "Celofán 50 db-os"
                                },
                                {
                                    "TERMEKKOD": "05050170T",
                                    "MEGNEVEZES": "Gumigyűrű"
                                },
                                {
                                    "TERMEKKOD": "05050346T",
                                    "MEGNEVEZES": "Rágógumi Orbit"
                                },
                                {
                                    "TERMEKKOD": "05080340T",
                                    "MEGNEVEZES": "Ragasztó, Technokol 35g kék"
                                },
                                {
                                    "TERMEKKOD": "05080341T",
                                    "MEGNEVEZES": "Ragasztó, Technokol 35g piros"
                                },
                                {
                                    "TERMEKKOD": "05110359T",
                                    "MEGNEVEZES": "Szalvéta "
                                },
                                {
                                    "TERMEKKOD": "05110360T",
                                    "MEGNEVEZES": "Szalvéta egyszínű"
                                },
                                {
                                    "TERMEKKOD": "05110361T",
                                    "MEGNEVEZES": "Szalvéta Goma húsvéti"
                                },
                                {
                                    "TERMEKKOD": "05110363T",
                                    "MEGNEVEZES": "Szalvéta dekor"
                                },
                                {
                                    "TERMEKKOD": "05110364T",
                                    "MEGNEVEZES": "Szalvéta kicsi virágos"
                                },
                                {
                                    "TERMEKKOD": "06010036T",
                                    "MEGNEVEZES": "Betűtartó sin"
                                },
                                {
                                    "TERMEKKOD": "06010082T",
                                    "MEGNEVEZES": "Ecset Centrum 10,11,12"
                                },
                                {
                                    "TERMEKKOD": "06010083T",
                                    "MEGNEVEZES": "Ecset Centrum 7,8,9"
                                },
                                {
                                    "TERMEKKOD": "06010084T",
                                    "MEGNEVEZES": "Ecset Deák 2-es"
                                },
                                {
                                    "TERMEKKOD": "06010085T",
                                    "MEGNEVEZES": "Ecset Lizzy 10-es"
                                },
                                {
                                    "TERMEKKOD": "06010111T",
                                    "MEGNEVEZES": "Füzet  A/4 "
                                },
                                {
                                    "TERMEKKOD": "06010112T",
                                    "MEGNEVEZES": "Füzet  A4 mintás"
                                },
                                {
                                    "TERMEKKOD": "06010114T",
                                    "MEGNEVEZES": "Füzet A/5 hangjegy 36/16"
                                },
                                {
                                    "TERMEKKOD": "06010115T",
                                    "MEGNEVEZES": "Füzet A/5, mintás"
                                },
                                {
                                    "TERMEKKOD": "06010201T",
                                    "MEGNEVEZES": "Hőmérő, műa."
                                },
                                {
                                    "TERMEKKOD": "06010202T",
                                    "MEGNEVEZES": "Hurkapálca 10 db-os"
                                },
                                {
                                    "TERMEKKOD": "06010305T",
                                    "MEGNEVEZES": "Papírcenti 100 cm-es"
                                },
                                {
                                    "TERMEKKOD": "06010365T",
                                    "MEGNEVEZES": "Számegyenes"
                                },
                                {
                                    "TERMEKKOD": "06010366T",
                                    "MEGNEVEZES": "Számológép Roxin"
                                },
                                {
                                    "TERMEKKOD": "06010367T",
                                    "MEGNEVEZES": "Számolókorong"
                                },
                                {
                                    "TERMEKKOD": "06010368T",
                                    "MEGNEVEZES": "Számolópálca"
                                },
                                {
                                    "TERMEKKOD": "06010375T",
                                    "MEGNEVEZES": "Szögmérő 180 fokos műa."
                                },
                                {
                                    "TERMEKKOD": "06010376T",
                                    "MEGNEVEZES": "Szögmérő papír"
                                },
                                {
                                    "TERMEKKOD": "06010377T",
                                    "MEGNEVEZES": "Szögmérő színes"
                                },
                                {
                                    "TERMEKKOD": "06040089T",
                                    "MEGNEVEZES": "Ellenőrzőborító"
                                },
                                {
                                    "TERMEKKOD": "06040175T",
                                    "MEGNEVEZES": "Gumis mappa Köbüki"
                                },
                                {
                                    "TERMEKKOD": "06040179T",
                                    "MEGNEVEZES": "Gyurma színes 200 g-os"
                                },
                                {
                                    "TERMEKKOD": "06040180T",
                                    "MEGNEVEZES": "Gyurma színes natúr"
                                },
                                {
                                    "TERMEKKOD": "06040183T",
                                    "MEGNEVEZES": "Gyűrűskönyv bet. A/5"
                                },
                                {
                                    "TERMEKKOD": "06040184T",
                                    "MEGNEVEZES": "Gyűrűskönyv betét A/5"
                                },
                                {
                                    "TERMEKKOD": "06040186T",
                                    "MEGNEVEZES": "Gyűrűskönyv színes"
                                },
                                {
                                    "TERMEKKOD": "06040205T",
                                    "MEGNEVEZES": "Indigó Pelikán"
                                },
                                {
                                    "TERMEKKOD": "06040206T",
                                    "MEGNEVEZES": "kék indigó"
                                },
                                {
                                    "TERMEKKOD": "06040212T",
                                    "MEGNEVEZES": "Írólap 10-50 ffam."
                                },
                                {
                                    "TERMEKKOD": "06040213T",
                                    "MEGNEVEZES": "Írólap 20-50 "
                                },
                                {
                                    "TERMEKKOD": "06040246T",
                                    "MEGNEVEZES": "Körző"
                                },
                                {
                                    "TERMEKKOD": "06040248T",
                                    "MEGNEVEZES": "Körző maped"
                                },
                                {
                                    "TERMEKKOD": "06040323T",
                                    "MEGNEVEZES": "Post-it 51×38 100 lapos"
                                },
                                {
                                    "TERMEKKOD": "06040324T",
                                    "MEGNEVEZES": "Post-it 75×75 100 lapos"
                                },
                                {
                                    "TERMEKKOD": "06040326T",
                                    "MEGNEVEZES": "Radír KOH-I-NOR 80"
                                },
                                {
                                    "TERMEKKOD": "06040330T",
                                    "MEGNEVEZES": "Radír Tikky 30 "
                                },
                                {
                                    "TERMEKKOD": "06040331T",
                                    "MEGNEVEZES": "Radír Tikky 40 "
                                },
                                {
                                    "TERMEKKOD": "06040347T",
                                    "MEGNEVEZES": "Rajzlap A/4 10db ffam."
                                },
                                {
                                    "TERMEKKOD": "06040350T",
                                    "MEGNEVEZES": "Regiszteres füzet A4"
                                },
                                {
                                    "TERMEKKOD": "06040351T",
                                    "MEGNEVEZES": "Regiszteres füzet A5 Hightech"
                                },
                                {
                                    "TERMEKKOD": "06040352T",
                                    "MEGNEVEZES": "Rovatolt papír 20 íves"
                                },
                                {
                                    "TERMEKKOD": "06040353T",
                                    "MEGNEVEZES": "Sorvezető"
                                },
                                {
                                    "TERMEKKOD": "06040354T",
                                    "MEGNEVEZES": "Sp.Füzet A/4  perforált, lyuk."
                                },
                                {
                                    "TERMEKKOD": "06040355T",
                                    "MEGNEVEZES": "Sp.Füzet A/4 70-as"
                                },
                                {
                                    "TERMEKKOD": "06040356T",
                                    "MEGNEVEZES": "Sp.Füzet A/4  70es"
                                },
                                {
                                    "TERMEKKOD": "06040378T",
                                    "MEGNEVEZES": "Szövegkiemelő vékony"
                                },
                                {
                                    "TERMEKKOD": "06040379T",
                                    "MEGNEVEZES": "Szövegkiemelő "
                                },
                                {
                                    "TERMEKKOD": "06040380T",
                                    "MEGNEVEZES": "Szövegkiemelő"
                                },
                                {
                                    "TERMEKKOD": "06040381T",
                                    "MEGNEVEZES": "Szövegkiemelő Videotip"
                                },
                                {
                                    "TERMEKKOD": "06040382T",
                                    "MEGNEVEZES": "Táblafilc"
                                },
                                {
                                    "TERMEKKOD": "06040383T",
                                    "MEGNEVEZES": "Taffet papír"
                                },
                                {
                                    "TERMEKKOD": "06040384T",
                                    "MEGNEVEZES": "Technika cs. I-II-III-IV"
                                },
                                {
                                    "TERMEKKOD": "06040385T",
                                    "MEGNEVEZES": "Tempera szóló ezüst"
                                },
                                {
                                    "TERMEKKOD": "06040386T",
                                    "MEGNEVEZES": "Tempera szóló színes"
                                },
                                {
                                    "TERMEKKOD": "06040392T",
                                    "MEGNEVEZES": "Tolltartó 1 zipzáros"
                                },
                                {
                                    "TERMEKKOD": "06040393T",
                                    "MEGNEVEZES": "Tolltartó 2 részes NG."
                                },
                                {
                                    "TERMEKKOD": "06040394T",
                                    "MEGNEVEZES": "Tolltartó zipzáras"
                                },
                                {
                                    "TERMEKKOD": "06040395T",
                                    "MEGNEVEZES": "Tolltartó 2 zipzáros töltött"
                                },
                                {
                                    "TERMEKKOD": "06040397T",
                                    "MEGNEVEZES": "Tolltartó asztali"
                                },
                                {
                                    "TERMEKKOD": "06040398T",
                                    "MEGNEVEZES": "Tolltartó hengeres "
                                },
                                {
                                    "TERMEKKOD": "06040399T",
                                    "MEGNEVEZES": "Tombola tömb"
                                },
                                {
                                    "TERMEKKOD": "06040400T",
                                    "MEGNEVEZES": "Tornazsák"
                                },
                                {
                                    "TERMEKKOD": "06040446T",
                                    "MEGNEVEZES": "Számológép tudományos"
                                },
                                {
                                    "TERMEKKOD": "06050249T",
                                    "MEGNEVEZES": "Krepp papír"
                                },
                                {
                                    "TERMEKKOD": "06050301T",
                                    "MEGNEVEZES": "Olló gyerek "
                                },
                                {
                                    "TERMEKKOD": "06050302T",
                                    "MEGNEVEZES": "Olló Tagit 18 cm-es"
                                },
                                {
                                    "TERMEKKOD": "06050303T",
                                    "MEGNEVEZES": "Olló, iskolai"
                                },
                                {
                                    "TERMEKKOD": "06080116T",
                                    "MEGNEVEZES": "Füzet A5 1-8 osz.-ig"
                                },
                                {
                                    "TERMEKKOD": "06080117T",
                                    "MEGNEVEZES": "Füzetborító A/4 átlátszó"
                                },
                                {
                                    "TERMEKKOD": "06080118T",
                                    "MEGNEVEZES": "Füzetborító átlátszó A5"
                                },
                                {
                                    "TERMEKKOD": "06080119T",
                                    "MEGNEVEZES": "Füzetborító mesefig."
                                },
                                {
                                    "TERMEKKOD": "06080120T",
                                    "MEGNEVEZES": "Füzetborító öntapadó kicsi"
                                },
                                {
                                    "TERMEKKOD": "06080121T",
                                    "MEGNEVEZES": "Füzetborító öntapadó tekercses"
                                },
                                {
                                    "TERMEKKOD": "06080122T",
                                    "MEGNEVEZES": "Füzetborító öntapadós nagy"
                                },
                                {
                                    "TERMEKKOD": "06080124T",
                                    "MEGNEVEZES": "Füzettartó A/4 keménytáblás"
                                },
                                {
                                    "TERMEKKOD": "06080125T",
                                    "MEGNEVEZES": "Füzettartó A/5 vastag"
                                },
                                {
                                    "TERMEKKOD": "06080126T",
                                    "MEGNEVEZES": "Füzettartó A/5  "
                                },
                                {
                                    "TERMEKKOD": "06080188T",
                                    "MEGNEVEZES": "Hegyező gép"
                                },
                                {
                                    "TERMEKKOD": "06080189T",
                                    "MEGNEVEZES": "Hegyező műanyag dupla"
                                },
                                {
                                    "TERMEKKOD": "06080190T",
                                    "MEGNEVEZES": "Hegyező műanyag egyes"
                                },
                                {
                                    "TERMEKKOD": "06080191T",
                                    "MEGNEVEZES": "Hegyező tartályos egyes"
                                },
                                {
                                    "TERMEKKOD": "06080192T",
                                    "MEGNEVEZES": "Hegyző fém 1 lyukú"
                                },
                                {
                                    "TERMEKKOD": "06080193T",
                                    "MEGNEVEZES": "Hegyző fém 2 lyukú"
                                },
                                {
                                    "TERMEKKOD": "06080259T",
                                    "MEGNEVEZES": "Leckefüzet"
                                },
                                {
                                    "TERMEKKOD": "06080332T",
                                    "MEGNEVEZES": "Radírtoll betét ER100"
                                },
                                {
                                    "TERMEKKOD": "06080333T",
                                    "MEGNEVEZES": "Radírtoll betét vastag"
                                },
                                {
                                    "TERMEKKOD": "06080335T",
                                    "MEGNEVEZES": "Ragasztó 9 g Pax"
                                },
                                {
                                    "TERMEKKOD": "06080337T",
                                    "MEGNEVEZES": "Ragasztó Gyurma"
                                },
                                {
                                    "TERMEKKOD": "06080339T",
                                    "MEGNEVEZES": "Ragasztó kores"
                                },
                                {
                                    "TERMEKKOD": "06080407T",
                                    "MEGNEVEZES": "Vízfesték  12 színű nagy"
                                },
                                {
                                    "TERMEKKOD": "06080408T",
                                    "MEGNEVEZES": "Vízfesték 12 db-os "
                                },
                                {
                                    "TERMEKKOD": "06080409T",
                                    "MEGNEVEZES": "Vízfesték 12 színű kerek"
                                },
                                {
                                    "TERMEKKOD": "06080410T",
                                    "MEGNEVEZES": "Vízfesték 12db-os kínai"
                                },
                                {
                                    "TERMEKKOD": "06080411T",
                                    "MEGNEVEZES": "Vonalzó 15 cm-es ESSELTE"
                                },
                                {
                                    "TERMEKKOD": "06080412T",
                                    "MEGNEVEZES": "Vonalzó 16 cm-es LIZZY"
                                },
                                {
                                    "TERMEKKOD": "06080413T",
                                    "MEGNEVEZES": "Vonalzó 30 cm"
                                },
                                {
                                    "TERMEKKOD": "06080415T",
                                    "MEGNEVEZES": "Vonalzó 45 fokos"
                                },
                                {
                                    "TERMEKKOD": "06080416T",
                                    "MEGNEVEZES": "Vonalzó 60 fokos"
                                },
                                {
                                    "TERMEKKOD": "06080417T",
                                    "MEGNEVEZES": "Zászló papír"
                                },
                                {
                                    "TERMEKKOD": "06080422T",
                                    "MEGNEVEZES": "Füzettartó A/4"
                                },
                                {
                                    "TERMEKKOD": "06080423T",
                                    "MEGNEVEZES": "Beíró A/5 kockás"
                                },
                                {
                                    "TERMEKKOD": "06080424T",
                                    "MEGNEVEZES": "Füzetborító A/4 mintás"
                                },
                                {
                                    "TERMEKKOD": "06080425T",
                                    "MEGNEVEZES": "Miliméterpapír"
                                },
                                {
                                    "TERMEKKOD": "06080426T",
                                    "MEGNEVEZES": "Szótárfüzet Lizzy"
                                },
                                {
                                    "TERMEKKOD": "06080427T",
                                    "MEGNEVEZES": "Ablakkréta"
                                },
                                {
                                    "TERMEKKOD": "06080428T",
                                    "MEGNEVEZES": "Ecsetkészlet"
                                },
                                {
                                    "TERMEKKOD": "06080429T",
                                    "MEGNEVEZES": "Meghívó ballagási"
                                },
                                {
                                    "TERMEKKOD": "06080430T",
                                    "MEGNEVEZES": "Öntapadős betűk"
                                },
                                {
                                    "TERMEKKOD": "06080441T",
                                    "MEGNEVEZES": "Gyurmakés"
                                },
                                {
                                    "TERMEKKOD": "07010137T",
                                    "MEGNEVEZES": "G.toll betét PAX tip."
                                },
                                {
                                    "TERMEKKOD": "07010139T",
                                    "MEGNEVEZES": "G.toll betét S7L "
                                },
                                {
                                    "TERMEKKOD": "07010140T",
                                    "MEGNEVEZES": "G.toll betét Stabilo"
                                },
                                {
                                    "TERMEKKOD": "07010141T",
                                    "MEGNEVEZES": "G.toll betét X20"
                                },
                                {
                                    "TERMEKKOD": "07010142T",
                                    "MEGNEVEZES": "G.toll betét Zebra F-0.7"
                                },
                                {
                                    "TERMEKKOD": "07010143T",
                                    "MEGNEVEZES": "G.toll betét Zebra H-0,7"
                                },
                                {
                                    "TERMEKKOD": "07010144T",
                                    "MEGNEVEZES": "G.toll betét Zebra K-0,7"
                                },
                                {
                                    "TERMEKKOD": "07010244T",
                                    "MEGNEVEZES": "Kerámiatoll"
                                },
                                {
                                    "TERMEKKOD": "07030103T",
                                    "MEGNEVEZES": "Filctoll TINTEN PEN"
                                },
                                {
                                    "TERMEKKOD": "07030104T",
                                    "MEGNEVEZES": "Filctoll vastag ARTIP"
                                },
                                {
                                    "TERMEKKOD": "07030105T",
                                    "MEGNEVEZES": "Filctoll, alkoholos Centropen"
                                },
                                {
                                    "TERMEKKOD": "07030106T",
                                    "MEGNEVEZES": "Filctoll, alkoholosOHP F-M-C"
                                },
                                {
                                    "TERMEKKOD": "07030107T",
                                    "MEGNEVEZES": "Filctoll, textil Edding 4500"
                                },
                                {
                                    "TERMEKKOD": "07030108T",
                                    "MEGNEVEZES": "Filctoll CD író"
                                },
                                {
                                    "TERMEKKOD": "07040047T",
                                    "MEGNEVEZES": "Ceruza 2H-4B"
                                },
                                {
                                    "TERMEKKOD": "07040049T",
                                    "MEGNEVEZES": "Ceruza Conté zöld"
                                },
                                {
                                    "TERMEKKOD": "07040050T",
                                    "MEGNEVEZES": "Ceruza Cseh"
                                },
                                {
                                    "TERMEKKOD": "07040051T",
                                    "MEGNEVEZES": "Ceruza háromszög "
                                },
                                {
                                    "TERMEKKOD": "07040052T",
                                    "MEGNEVEZES": "Ceruza 2H-3B Koh-i-nor"
                                },
                                {
                                    "TERMEKKOD": "07040053T",
                                    "MEGNEVEZES": "Ceruza HB radiros"
                                },
                                {
                                    "TERMEKKOD": "07040054T",
                                    "MEGNEVEZES": "Ceruza kártyás"
                                },
                                {
                                    "TERMEKKOD": "07040055T",
                                    "MEGNEVEZES": "Ceruza piros-kék"
                                },
                                {
                                    "TERMEKKOD": "07040056T",
                                    "MEGNEVEZES": "Ceruza piros-kék vékony"
                                },
                                {
                                    "TERMEKKOD": "07040057T",
                                    "MEGNEVEZES": "Ceruza Progresso"
                                },
                                {
                                    "TERMEKKOD": "07040058T",
                                    "MEGNEVEZES": "Ceruza radíros kínai"
                                },
                                {
                                    "TERMEKKOD": "07040059T",
                                    "MEGNEVEZES": "Ceruza smaragd"
                                },
                                {
                                    "TERMEKKOD": "07040060T",
                                    "MEGNEVEZES": "Ceruza stabilo swano"
                                },
                                {
                                    "TERMEKKOD": "07040061T",
                                    "MEGNEVEZES": "Ceruza stabilo opera"
                                },
                                {
                                    "TERMEKKOD": "07040097T",
                                    "MEGNEVEZES": "Filctoll "
                                },
                                {
                                    "TERMEKKOD": "07040098T",
                                    "MEGNEVEZES": "Filctoll document pen"
                                },
                                {
                                    "TERMEKKOD": "07040099T",
                                    "MEGNEVEZES": "Filctoll Edding 750"
                                },
                                {
                                    "TERMEKKOD": "07040100T",
                                    "MEGNEVEZES": "Filctoll Marvy alkoholos"
                                },
                                {
                                    "TERMEKKOD": "07040101T",
                                    "MEGNEVEZES": "Filctoll permanent vastag"
                                },
                                {
                                    "TERMEKKOD": "07040102T",
                                    "MEGNEVEZES": "Filctoll supra fine"
                                },
                                {
                                    "TERMEKKOD": "07040127T",
                                    "MEGNEVEZES": "G. toll betét mini"
                                },
                                {
                                    "TERMEKKOD": "07040128T",
                                    "MEGNEVEZES": "G. toll betét mini fém"
                                },
                                {
                                    "TERMEKKOD": "07040129T",
                                    "MEGNEVEZES": "G. toll betét réz"
                                },
                                {
                                    "TERMEKKOD": "07040130T",
                                    "MEGNEVEZES": "G. toll betét S7S"
                                },
                                {
                                    "TERMEKKOD": "07040132T",
                                    "MEGNEVEZES": "G.toll betét csavaros"
                                },
                                {
                                    "TERMEKKOD": "07040133T",
                                    "MEGNEVEZES": "G.toll betét görbe hegyű"
                                },
                                {
                                    "TERMEKKOD": "07040165T",
                                    "MEGNEVEZES": "Golyóstoll UNI laknock"
                                },
                                {
                                    "TERMEKKOD": "07040166T",
                                    "MEGNEVEZES": "Golyóstoll Zebra 301"
                                },
                                {
                                    "TERMEKKOD": "07040167T",
                                    "MEGNEVEZES": "Golyóstoll Zebra mini"
                                },
                                {
                                    "TERMEKKOD": "07040168T",
                                    "MEGNEVEZES": "Golyóstoll Zebra new hard"
                                },
                                {
                                    "TERMEKKOD": "07040169T",
                                    "MEGNEVEZES": "Golyóstoll Zodiák"
                                },
                                {
                                    "TERMEKKOD": "07040215T",
                                    "MEGNEVEZES": "Ironbél  2B ICO"
                                },
                                {
                                    "TERMEKKOD": "07040216T",
                                    "MEGNEVEZES": "Ironbél B 0,5"
                                },
                                {
                                    "TERMEKKOD": "07040217T",
                                    "MEGNEVEZES": "Ironbél H 0,5"
                                },
                                {
                                    "TERMEKKOD": "07040218T",
                                    "MEGNEVEZES": "Ironbél HB 0,5"
                                },
                                {
                                    "TERMEKKOD": "07040219T",
                                    "MEGNEVEZES": "Ironbél HI-POLIMER HB 0,7"
                                },
                                {
                                    "TERMEKKOD": "07040257T",
                                    "MEGNEVEZES": "Lakk filc Edding 750"
                                },
                                {
                                    "TERMEKKOD": "07040388T",
                                    "MEGNEVEZES": "Tintapatron /kék/"
                                },
                                {
                                    "TERMEKKOD": "07040389T",
                                    "MEGNEVEZES": "Tintapatron 30 db-os kék"
                                },
                                {
                                    "TERMEKKOD": "07040390T",
                                    "MEGNEVEZES": "Tintapatron színes"
                                },
                                {
                                    "TERMEKKOD": "07040391T",
                                    "MEGNEVEZES": "Toll Centropen roller"
                                },
                                {
                                    "TERMEKKOD": "07050462T",
                                    "MEGNEVEZES": "Töltőtoll tinta "
                                },
                                {
                                    "TERMEKKOD": "07050463T",
                                    "MEGNEVEZES": "Ceruzafogó"
                                },
                                {
                                    "TERMEKKOD": "07050464T",
                                    "MEGNEVEZES": "Szövegkiemelő Staedtler"
                                },
                                {
                                    "TERMEKKOD": "07080062T",
                                    "MEGNEVEZES": "Ceruza szén"
                                },
                                {
                                    "TERMEKKOD": "07080063T",
                                    "MEGNEVEZES": "Ceruza szorzótáblás"
                                },
                                {
                                    "TERMEKKOD": "07080064T",
                                    "MEGNEVEZES": "Ceruza zöld színű"
                                },
                                {
                                    "TERMEKKOD": "07080065T",
                                    "MEGNEVEZES": "Ceruza kínai"
                                },
                                {
                                    "TERMEKKOD": "07080150T",
                                    "MEGNEVEZES": "Golyóstoll"
                                },
                                {
                                    "TERMEKKOD": "07080151T",
                                    "MEGNEVEZES": "Golyóstoll + ceruza Twister 2in1"
                                },
                                {
                                    "TERMEKKOD": "07080152T",
                                    "MEGNEVEZES": "Golyóstoll 3 funkciós "
                                },
                                {
                                    "TERMEKKOD": "07080153T",
                                    "MEGNEVEZES": "Golyóstoll illatos ICO"
                                },
                                {
                                    "TERMEKKOD": "07080154T",
                                    "MEGNEVEZES": "Golyóstoll INOXCROM"
                                },
                                {
                                    "TERMEKKOD": "07080155T",
                                    "MEGNEVEZES": "Golyóstoll"
                                },
                                {
                                    "TERMEKKOD": "07080156T",
                                    "MEGNEVEZES": "Golyóstoll kupakos piros"
                                },
                                {
                                    "TERMEKKOD": "07080157T",
                                    "MEGNEVEZES": "Golyóstoll Montex Hytone"
                                },
                                {
                                    "TERMEKKOD": "07080159T",
                                    "MEGNEVEZES": "Golyóstoll Pax tip."
                                },
                                {
                                    "TERMEKKOD": "07080160T",
                                    "MEGNEVEZES": "Golyóstoll penac"
                                },
                                {
                                    "TERMEKKOD": "07080161T",
                                    "MEGNEVEZES": "Golyóstoll kétszínű"
                                },
                                {
                                    "TERMEKKOD": "07080162T",
                                    "MEGNEVEZES": "Golyóstoll Stabilo piros"
                                },
                                {
                                    "TERMEKKOD": "07080316T",
                                    "MEGNEVEZES": "Pixiron KOH-I-NOOR"
                                },
                                {
                                    "TERMEKKOD": "07080421T",
                                    "MEGNEVEZES": "Zseléstoll Lizzy Card"
                                },
                                {
                                    "TERMEKKOD": "07080466T",
                                    "MEGNEVEZES": "Golyóstoll Stabiló 308"
                                },
                                {
                                    "TERMEKKOD": "08070472T",
                                    "MEGNEVEZES": "A föld amelyen élünk - Európa földrajza"
                                },
                                {
                                    "TERMEKKOD": "08070473T",
                                    "MEGNEVEZES": "A föld amelyen élünk - Távoli földrészek"
                                },
                                {
                                    "TERMEKKOD": "08070474T",
                                    "MEGNEVEZES": "A föld amelyen élünk - Hazánk földrajza"
                                },
                                {
                                    "TERMEKKOD": "08070477T",
                                    "MEGNEVEZES": "Anyanyelvi gyakorló 3"
                                },
                                {
                                    "TERMEKKOD": "08070478T",
                                    "MEGNEVEZES": "Összefoglaló feladatgyüjtemény számtech."
                                },
                                {
                                    "TERMEKKOD": "08070479T",
                                    "MEGNEVEZES": "Fizika"
                                },
                                {
                                    "TERMEKKOD": "08070481T",
                                    "MEGNEVEZES": "Fizika munkafüzet 13 év."
                                },
                                {
                                    "TERMEKKOD": "08070482T",
                                    "MEGNEVEZES": "Fizika munkafüzet 14 év."
                                },
                                {
                                    "TERMEKKOD": "08070483T",
                                    "MEGNEVEZES": "Fizikai feladatok és tévedések"
                                },
                                {
                                    "TERMEKKOD": "08070484T",
                                    "MEGNEVEZES": "Fogalmazás lépésről lépésre"
                                },
                                {
                                    "TERMEKKOD": "08070485T",
                                    "MEGNEVEZES": "Jól felkészültem-e - Fizika"
                                },
                                {
                                    "TERMEKKOD": "08070486T",
                                    "MEGNEVEZES": "Matematika gyakorló 2"
                                },
                                {
                                    "TERMEKKOD": "08070487T",
                                    "MEGNEVEZES": "Matematika gyakorló 3"
                                },
                                {
                                    "TERMEKKOD": "08070490T",
                                    "MEGNEVEZES": "Szövegszerkesztés"
                                },
                                {
                                    "TERMEKKOD": "08070491T",
                                    "MEGNEVEZES": "Szám.tech. kicsiknek"
                                },
                                {
                                    "TERMEKKOD": "08070492T",
                                    "MEGNEVEZES": "Informatika"
                                },
                                {
                                    "TERMEKKOD": "08070493T",
                                    "MEGNEVEZES": "Érettségi felv. fel. Matematika"
                                },
                                {
                                    "TERMEKKOD": "08070494T",
                                    "MEGNEVEZES": "Érettségi felv. fel. Fizika"
                                },
                                {
                                    "TERMEKKOD": "08070495T",
                                    "MEGNEVEZES": "Érettségi felv. fel. Biológia"
                                },
                                {
                                    "TERMEKKOD": "F001-KB101",
                                    "MEGNEVEZES": "férfi szövet kabát"
                                },
                                {
                                    "TERMEKKOD": "F007-NA201",
                                    "MEGNEVEZES": "férfi farmer nadrág"
                                },
                                {
                                    "TERMEKKOD": "F013-NA207",
                                    "MEGNEVEZES": "férfi szövet nadrág"
                                },
                                {
                                    "TERMEKKOD": "F021-IN215",
                                    "MEGNEVEZES": "férfi ing"
                                },
                                {
                                    "TERMEKKOD": "G001-KB101",
                                    "MEGNEVEZES": "gyermek kabát (fiú)"
                                },
                                {
                                    "TERMEKKOD": "G013-NA201",
                                    "MEGNEVEZES": "gyermek farmer nadrág (fiú)"
                                },
                                {
                                    "TERMEKKOD": "G019-NA207",
                                    "MEGNEVEZES": "gyermek pamut nadrág (fiú)"
                                },
                                {
                                    "TERMEKKOD": "G023-FE301",
                                    "MEGNEVEZES": "fiú alsó"
                                },
                                {
                                    "TERMEKKOD": "G029-FE307",
                                    "MEGNEVEZES": "fiú zokni"
                                },
                                {
                                    "TERMEKKOD": "G038-FE316",
                                    "MEGNEVEZES": "fiú harisnya"
                                },
                                {
                                    "TERMEKKOD": "G041-AL211",
                                    "MEGNEVEZES": "fiú ünneplős ruha"
                                },
                                {
                                    "TERMEKKOD": "G048-PO218",
                                    "MEGNEVEZES": "gyermek póló (fiú)"
                                },
                                {
                                    "TERMEKKOD": "G064-CI401",
                                    "MEGNEVEZES": "gyermek szandál (fiú)"
                                },
                                {
                                    "TERMEKKOD": "G073-CI410",
                                    "MEGNEVEZES": "gyermek cipő (fiú)"
                                },
                                {
                                    "TERMEKKOD": "G082-CI419",
                                    "MEGNEVEZES": "gyermek csizma (fiú)"
                                },
                                {
                                    "TERMEKKOD": "L001-KB101",
                                    "MEGNEVEZES": "gyermek kabát (lány)"
                                },
                                {
                                    "TERMEKKOD": "L013-NA201",
                                    "MEGNEVEZES": "gyermek farmer nadrág (lány)"
                                },
                                {
                                    "TERMEKKOD": "L019-NA207",
                                    "MEGNEVEZES": "gyermek pamut nadrág (lány)"
                                },
                                {
                                    "TERMEKKOD": "L023-FE301",
                                    "MEGNEVEZES": "lány alsó"
                                },
                                {
                                    "TERMEKKOD": "L029-FE307",
                                    "MEGNEVEZES": "lány zokni"
                                },
                                {
                                    "TERMEKKOD": "L033-FE311",
                                    "MEGNEVEZES": "lány harisnya"
                                },
                                {
                                    "TERMEKKOD": "L041-AL211",
                                    "MEGNEVEZES": "lány ünneplős ruha"
                                },
                                {
                                    "TERMEKKOD": "L048-PO218",
                                    "MEGNEVEZES": "gyermek póló (lány)"
                                },
                                {
                                    "TERMEKKOD": "L064-CI401",
                                    "MEGNEVEZES": "gyermek szandál (lány)"
                                },
                                {
                                    "TERMEKKOD": "L073-CI410",
                                    "MEGNEVEZES": "gyermek cipő (lány)"
                                },
                                {
                                    "TERMEKKOD": "L082-CI419",
                                    "MEGNEVEZES": "gyermek csizma (lány)"
                                },
                                {
                                    "TERMEKKOD": "N001-KB101",
                                    "MEGNEVEZES": "női szövet kabát"
                                },
                                {
                                    "TERMEKKOD": "N008-NA201",
                                    "MEGNEVEZES": "női farmer nadrág"
                                },
                                {
                                    "TERMEKKOD": "N019-FE301",
                                    "MEGNEVEZES": "női alsó"
                                },
                                {
                                    "TERMEKKOD": "N029-AL212",
                                    "MEGNEVEZES": "női koktélruha"
                                },
                                {
                                    "TERMEKKOD": "N035-AL218",
                                    "MEGNEVEZES": "kosztüm (rövid)"
                                },
                                {
                                    "TERMEKKOD": "N039-AL222",
                                    "MEGNEVEZES": "kosztüm (hosszú)"
                                },
                                {
                                    "TERMEKKOD": "U001-KI501",
                                    "MEGNEVEZES": "sál"
                                }
                            ]
                        },
                        "text/html": [
                            "<table>",
                            "<tr><th>TERMEKKOD</th><th>MEGNEVEZES</th></tr>",
                            "<tr><td>01010110T</td><td>Fotópapír A/4 fényes</td></tr>",
                            "<tr><td>01010304T</td><td>Öntapadós hologramos papír A/4</td></tr>",
                            "<tr><td>01020300T</td><td>Oklevél A/4 színes</td></tr>",
                            "<tr><td>01030091T</td><td>Emléklap A/5</td></tr>",
                            "<tr><td>01030092T</td><td>Esküvői meghívó</td></tr>",
                            "<tr><td>01040307T</td><td>Pausz papír A/4</td></tr>",
                            "<tr><td>01040502T</td><td>Előlap spirálhoz</td></tr>",
                            "<tr><td>01080093T</td><td>Fax papír 15 m</td></tr>",
                            "<tr><td>01080512T</td><td>Öntapadó A/4</td></tr>",
                            "<tr><td>01080513T</td><td>Selyemfényű karton A/4</td></tr>",
                            "<tr><td>01090499T</td><td>Color Copy A/4 250 g</td></tr>",
                            "<tr><td>01090500T</td><td>Color Copy A4 200 g</td></tr>",
                            "<tr><td>01090501T</td><td>Kreatív A/4 300g </td></tr>",
                            "<tr><td>01090515T</td><td>Színes A/3 160 gr IQ</td></tr>",
                            "<tr><td>01090516T</td><td>Színes karton A4</td></tr>",
                            "<tr><td>01090517T</td><td>Színes ofszet B/4</td></tr>",
                            "<tr><td>01100070T</td><td>Dekorációs karton</td></tr>",
                            "<tr><td>01100072T</td><td>Dipa A/4 keretezett</td></tr>",
                            "<tr><td>01100094T</td><td>Fénymásoló papír DataCopy</td></tr>",
                            "<tr><td>01100095T</td><td>Fénymásoló papír GetCopy</td></tr>",
                            "<tr><td>01100096T</td><td>Fénymásoló papír Qconnect</td></tr>",
                            "<tr><td>01100496T</td><td>Színes másoló a/4 80g</td></tr>",
                            "<tr><td>01100497T</td><td>Color Copy 160 g-os </td></tr>",
                            "<tr><td>01100503T</td><td>Color Copy A4 120 g</td></tr>",
                            "<tr><td>01100504T</td><td>Fehér másoló A/3</td></tr>",
                            "<tr><td>01100505T</td><td>Fehér másoló A/4</td></tr>",
                            "<tr><td>01100509T</td><td>Márványos A/4</td></tr>",
                            "<tr><td>01100510T</td><td>Kreatív A/4 120g </td></tr>",
                            "<tr><td>02010028T</td><td>Árazószalag </td></tr>",
                            "<tr><td>02020029T</td><td>Átírótömb A/6</td></tr>",
                            "<tr><td>02020032T</td><td>Beírókönyv A5 </td></tr>",
                            "<tr><td>02020033T</td><td>Beírókönyv A4</td></tr>",
                            "<tr><td>02020037T</td><td>Bevételi pénztárbizonylat 3×25</td></tr>",
                            "<tr><td>02020245T</td><td>Kiadási pénztárbizonylat 2×25</td></tr>",
                            "<tr><td>02030040T</td><td>Boríték LA 4 francia</td></tr>",
                            "<tr><td>02040025T</td><td>Álló irattartó karton</td></tr>",
                            "<tr><td>02040145T</td><td>Gemkapocs 28 mm</td></tr>",
                            "<tr><td>02040147T</td><td>Genotherm lefűzhető A/5</td></tr>",
                            "<tr><td>02040148T</td><td>Genotherm lefűzhető A4 10db-os</td></tr>",
                            "<tr><td>02040176T</td><td>Gyorsfűző dosszié fehér</td></tr>",
                            "<tr><td>02040177T</td><td>Gyorsfűző műa.</td></tr>",
                            "<tr><td>02040178T</td><td>Gyorsfűző műa.</td></tr>",
                            "<tr><td>02040194T</td><td>Hibajav.roll.Pritt 4,2mm</td></tr>",
                            "<tr><td>02040195T</td><td>Hibajavító ecsetes Aqua</td></tr>",
                            "<tr><td>02040196T</td><td>Hibajavító készlet Blanco</td></tr>",
                            "<tr><td>02040197T</td><td>Hibajavító lap </td></tr>",
                            "<tr><td>02040198T</td><td>Hibajavító roller 5 mm</td></tr>",
                            "<tr><td>02040199T</td><td>Hibajavító roller Pax</td></tr>",
                            "<tr><td>02040200T</td><td>Hibajavító Kores mini pen</td></tr>",
                            "<tr><td>02040206T</td><td>Írásvetítő fólia</td></tr>",
                            "<tr><td>02040207T</td><td>Iratgyűjtő ESSELTE ablakos</td></tr>",
                            "<tr><td>02040208T</td><td>Iratgyűjtő fehér</td></tr>",
                            "<tr><td>02040209T</td><td>Iratsín fehér</td></tr>",
                            "<tr><td>02040211T</td><td>Iratrendező ESSELTE</td></tr>",
                            "<tr><td>02040214T</td><td>Iromány fedél feles</td></tr>",
                            "<tr><td>02040290T</td><td>Naptár 24-es</td></tr>",
                            "<tr><td>02040291T</td><td>Naptárhát kicsi</td></tr>",
                            "<tr><td>02040294T</td><td>Notesz A/5 sima</td></tr>",
                            "<tr><td>02040298T</td><td>Notesz mintás</td></tr>",
                            "<tr><td>02040308T</td><td>Pénztárgépsz. 2 pl. nem öníró</td></tr>",
                            "<tr><td>02040309T</td><td>Pénztárgépszalag 2pl SC 57.5/60</td></tr>",
                            "<tr><td>02040401T</td><td>Tűzőgép Boxer 10</td></tr>",
                            "<tr><td>02040402T</td><td>Tűzőgép Boxer </td></tr>",
                            "<tr><td>02040403T</td><td>Tűzőgép SAX 239</td></tr>",
                            "<tr><td>02040404T</td><td>Tűzőgép EAGLE</td></tr>",
                            "<tr><td>02040405T</td><td>Tűzőkapocs 10-es</td></tr>",
                            "<tr><td>02040506T</td><td>Fólia tasakos A4 125 mik.</td></tr>",
                            "<tr><td>02040507T</td><td>Fólia tasakos A4 80 mik.</td></tr>",
                            "<tr><td>02040508T</td><td>Fólia tasakos A4100 mik.</td></tr>",
                            "<tr><td>02050460T</td><td>Boríték C/4-es</td></tr>",
                            "<tr><td>02050461T</td><td>Boríték B/4-es</td></tr>",
                            "<tr><td>02060034T</td><td>Bélyegzőfesték </td></tr>",
                            "<tr><td>02060038T</td><td>Bélyegző IDEAL 50</td></tr>",
                            "<tr><td>02060039T</td><td>Bélyegző párna</td></tr>",
                            "<tr><td>02060447T</td><td>Bélyegző pocket</td></tr>",
                            "<tr><td>02060448T</td><td>Bélyegző RP 18-47</td></tr>",
                            "<tr><td>02080069T</td><td>CD tartó tok</td></tr>",
                            "<tr><td>02080081T</td><td>Dvd</td></tr>",
                            "<tr><td>02080109T</td><td>Floppy lemez</td></tr>",
                            "<tr><td>02080226T</td><td>Kapocskiszedő</td></tr>",
                            "<tr><td>02080431T</td><td>Álló irattartó</td></tr>",
                            "<tr><td>02080432T</td><td>Tokos iratrendező</td></tr>",
                            "<tr><td>02080433T</td><td>Ragasztószalag 19 mm-es</td></tr>",
                            "<tr><td>02080434T</td><td>Mappa müa A/4</td></tr>",
                            "<tr><td>02080436T</td><td>Irattartó müa. boríték A/4</td></tr>",
                            "<tr><td>02080449T</td><td>Térképtű színes</td></tr>",
                            "<tr><td>02080450T</td><td>Gémkapocs 28-as színes</td></tr>",
                            "<tr><td>02080451T</td><td>Gémkapocs 50-es</td></tr>",
                            "<tr><td>02080452T</td><td>Tűzőgép mini</td></tr>",
                            "<tr><td>02080453T</td><td>Lyukasztó EAGLE</td></tr>",
                            "<tr><td>02080454T</td><td>Lyukasztó BOXER</td></tr>",
                            "<tr><td>02080455T</td><td>Festékpatron BCI-3BK</td></tr>",
                            "<tr><td>02080456T</td><td>Genoterm HERLITZ 10-es</td></tr>",
                            "<tr><td>02080511T</td><td>Oki toner C</td></tr>",
                            "<tr><td>02080514T</td><td>Spirál 1/4 </td></tr>",
                            "<tr><td>03010342T</td><td>Ragasztószalag  TIXO</td></tr>",
                            "<tr><td>03010344T</td><td>Ragasztószalag nagy 12 mm</td></tr>",
                            "<tr><td>03010345T</td><td>Ragasztószalag széles barna</td></tr>",
                            "<tr><td>03050076T</td><td>Díszkötöző szalag metál nagy</td></tr>",
                            "<tr><td>03050077T</td><td>Diszkötöző szalag arany</td></tr>",
                            "<tr><td>03050078T</td><td>Díszkötöző szalag metál kicsi</td></tr>",
                            "<tr><td>03080003T</td><td>Ajándék cs. tasak italos</td></tr>",
                            "<tr><td>03080004T</td><td>Ajándék cs. tasak italos, fólia</td></tr>",
                            "<tr><td>03080006T</td><td>Ajándék cs. tasak mintás kicsi</td></tr>",
                            "<tr><td>03080009T</td><td>Ajándék csom. 100x70 metál</td></tr>",
                            "<tr><td>03080012T</td><td>Ajándék csom. 200x70</td></tr>",
                            "<tr><td>03080013T</td><td>Ajándék csom. 50x70 húsvéti</td></tr>",
                            "<tr><td>03080014T</td><td>Ajándék csom. 70x50 metál</td></tr>",
                            "<tr><td>03080015T</td><td>Ajándék csom. gyűrt</td></tr>",
                            "<tr><td>03080016T</td><td>házt.csom.  5 ív</td></tr>",
                            "<tr><td>03080017T</td><td>iskolai csomagoló papír</td></tr>",
                            "<tr><td>03080019T</td><td>Ajándék csom. Krepp</td></tr>",
                            "<tr><td>03080020T</td><td>Ajándék csom. nagy  </td></tr>",
                            "<tr><td>03080021T</td><td>Ajándék csom. vékony</td></tr>",
                            "<tr><td>03080030T</td><td>Ajándék cs. húsvéti 200x70</td></tr>",
                            "<tr><td>03080439T</td><td>Italtartó doboz</td></tr>",
                            "<tr><td>04020445T</td><td>Határidő napló 2010-s</td></tr>",
                            "<tr><td>04030235T</td><td>Képeslap karácsonyi borítékos</td></tr>",
                            "<tr><td>04030237T</td><td>Képeslap kerek</td></tr>",
                            "<tr><td>04030238T</td><td>Képeslap stancolt</td></tr>",
                            "<tr><td>04030239T</td><td>Képeslap stancolt szív</td></tr>",
                            "<tr><td>04030243T</td><td>Képkirakó Dirib-darab</td></tr>",
                            "<tr><td>04030261T</td><td>Levélpapír állatos</td></tr>",
                            "<tr><td>04030262T</td><td>Levélpapír sima</td></tr>",
                            "<tr><td>04030263T</td><td>Levélpapír szett</td></tr>",
                            "<tr><td>04030264T</td><td>Levélpapír szett </td></tr>",
                            "<tr><td>04030265T</td><td>Levélpapír szett natur, mintás</td></tr>",
                            "<tr><td>04030266T</td><td>Levélpapír szett virágos</td></tr>",
                            "<tr><td>04030285T</td><td>Mikulás zacskó</td></tr>",
                            "<tr><td>04030286T</td><td>Műanyag állatok</td></tr>",
                            "<tr><td>04030288T</td><td>Műanyag pohár 1 dl-es</td></tr>",
                            "<tr><td>04040387T</td><td>Tenisz labda</td></tr>",
                            "<tr><td>04050022T</td><td>Álarc</td></tr>",
                            "<tr><td>04050023T</td><td>Álarc fejdísz</td></tr>",
                            "<tr><td>04050024T</td><td>Álarc szemüveg</td></tr>",
                            "<tr><td>04050035T</td><td>Bérlet tok</td></tr>",
                            "<tr><td>04050073T</td><td>Díszdoboz kar.</td></tr>",
                            "<tr><td>04050074T</td><td>Díszdoboz tollnak 2 db-os</td></tr>",
                            "<tr><td>04050075T</td><td>Díszdoboz tollnak 2 db-os keskeny</td></tr>",
                            "<tr><td>04050171T</td><td>Gumilabda közepes</td></tr>",
                            "<tr><td>04050187T</td><td>Hajgumi macis</td></tr>",
                            "<tr><td>04050203T</td><td>Hűtőmágnes</td></tr>",
                            "<tr><td>04050204T</td><td>Hűtőmágnes WD</td></tr>",
                            "<tr><td>04050220T</td><td>Játék autó</td></tr>",
                            "<tr><td>04050221T</td><td>Játékautó Blisteres</td></tr>",
                            "<tr><td>04050222T</td><td>Játékautó elemes</td></tr>",
                            "<tr><td>04050223T</td><td>Játékautó mini</td></tr>",
                            "<tr><td>04050224T</td><td>Jelzőkréta</td></tr>",
                            "<tr><td>04050252T</td><td>Kulcstartó Csőrikés</td></tr>",
                            "<tr><td>04050253T</td><td>Kulcstartó figurás</td></tr>",
                            "<tr><td>04050254T</td><td>Kulcstartó intarziás állatos</td></tr>",
                            "<tr><td>04050269T</td><td>Lufi hullámos</td></tr>",
                            "<tr><td>04050320T</td><td>Plüss  QX állatok</td></tr>",
                            "<tr><td>04050322T</td><td>Plüss sárkány</td></tr>",
                            "<tr><td>04050358T</td><td>Strandlabda </td></tr>",
                            "<tr><td>04080270T</td><td>Mappa bőr A5</td></tr>",
                            "<tr><td>04080271T</td><td>Mappa PVC villámzáras</td></tr>",
                            "<tr><td>04080272T</td><td>Mappa PVC villámzáras  képes</td></tr>",
                            "<tr><td>04080443T</td><td>Emlékkönyv lakatos</td></tr>",
                            "<tr><td>04110066T</td><td>Címke 8 db-os</td></tr>",
                            "<tr><td>04110067T</td><td>Címke WD. állat</td></tr>",
                            "<tr><td>04110068T</td><td>Címke egyszínű</td></tr>",
                            "<tr><td>04110227T</td><td>Képeslap  borítékos</td></tr>",
                            "<tr><td>04110228T</td><td>Képeslap &quot;Nászajándék&quot;</td></tr>",
                            "<tr><td>04110229T</td><td>Képeslap &quot;Részvét&quot;</td></tr>",
                            "<tr><td>04110230T</td><td>Képeslap humoros </td></tr>",
                            "<tr><td>04110231T</td><td>Képeslap humoros borítékos</td></tr>",
                            "<tr><td>04110232T</td><td>Képeslap humoros kaparós</td></tr>",
                            "<tr><td>04110233T</td><td>Képeslap humoros</td></tr>",
                            "<tr><td>04110258T</td><td>Lampion</td></tr>",
                            "<tr><td>04110274T</td><td>Matrica autóra H</td></tr>",
                            "<tr><td>04110275T</td><td>Matrica motoros kicsi</td></tr>",
                            "<tr><td>04110276T</td><td>Matrica Stickers nagy állatos</td></tr>",
                            "<tr><td>04110277T</td><td>Matrica Stickers szíves</td></tr>",
                            "<tr><td>04110278T</td><td>Matrica Test ékszer tattoo</td></tr>",
                            "<tr><td>04110279T</td><td>Matrica tetoválás</td></tr>",
                            "<tr><td>04110280T</td><td>Matrica tetoválós kicsi</td></tr>",
                            "<tr><td>04110281T</td><td>Matrica világítós </td></tr>",
                            "<tr><td>04110282T</td><td>Matrica WD kicsi</td></tr>",
                            "<tr><td>04110283T</td><td>Meghívó állatos</td></tr>",
                            "<tr><td>04110284T</td><td>Meghívó borítékos</td></tr>",
                            "<tr><td>04110362T</td><td>Szalvéta gyűjtőknek</td></tr>",
                            "<tr><td>05010026T</td><td>Alufólia 10 m-es</td></tr>",
                            "<tr><td>05010369T</td><td>Szemetes zsák 60 literes</td></tr>",
                            "<tr><td>05010370T</td><td>Szilvia csomagoló</td></tr>",
                            "<tr><td>05040310T</td><td>Pill.ragasztó</td></tr>",
                            "<tr><td>05040348T</td><td>Rajzszeg színes</td></tr>",
                            "<tr><td>05040349T</td><td>Rajzszeg</td></tr>",
                            "<tr><td>05050045T</td><td>Celofán</td></tr>",
                            "<tr><td>05050046T</td><td>Celofán 50 db-os</td></tr>",
                            "<tr><td>05050170T</td><td>Gumigyűrű</td></tr>",
                            "<tr><td>05050346T</td><td>Rágógumi Orbit</td></tr>",
                            "<tr><td>05080340T</td><td>Ragasztó, Technokol 35g kék</td></tr>",
                            "<tr><td>05080341T</td><td>Ragasztó, Technokol 35g piros</td></tr>",
                            "<tr><td>05110359T</td><td>Szalvéta </td></tr>",
                            "<tr><td>05110360T</td><td>Szalvéta egyszínű</td></tr>",
                            "<tr><td>05110361T</td><td>Szalvéta Goma húsvéti</td></tr>",
                            "<tr><td>05110363T</td><td>Szalvéta dekor</td></tr>",
                            "<tr><td>05110364T</td><td>Szalvéta kicsi virágos</td></tr>",
                            "<tr><td>06010036T</td><td>Betűtartó sin</td></tr>",
                            "<tr><td>06010082T</td><td>Ecset Centrum 10,11,12</td></tr>",
                            "<tr><td>06010083T</td><td>Ecset Centrum 7,8,9</td></tr>",
                            "<tr><td>06010084T</td><td>Ecset Deák 2-es</td></tr>",
                            "<tr><td>06010085T</td><td>Ecset Lizzy 10-es</td></tr>",
                            "<tr><td>06010111T</td><td>Füzet  A/4 </td></tr>",
                            "<tr><td>06010112T</td><td>Füzet  A4 mintás</td></tr>",
                            "<tr><td>06010114T</td><td>Füzet A/5 hangjegy 36/16</td></tr>",
                            "<tr><td>06010115T</td><td>Füzet A/5, mintás</td></tr>",
                            "<tr><td>06010201T</td><td>Hőmérő, műa.</td></tr>",
                            "<tr><td>06010202T</td><td>Hurkapálca 10 db-os</td></tr>",
                            "<tr><td>06010305T</td><td>Papírcenti 100 cm-es</td></tr>",
                            "<tr><td>06010365T</td><td>Számegyenes</td></tr>",
                            "<tr><td>06010366T</td><td>Számológép Roxin</td></tr>",
                            "<tr><td>06010367T</td><td>Számolókorong</td></tr>",
                            "<tr><td>06010368T</td><td>Számolópálca</td></tr>",
                            "<tr><td>06010375T</td><td>Szögmérő 180 fokos műa.</td></tr>",
                            "<tr><td>06010376T</td><td>Szögmérő papír</td></tr>",
                            "<tr><td>06010377T</td><td>Szögmérő színes</td></tr>",
                            "<tr><td>06040089T</td><td>Ellenőrzőborító</td></tr>",
                            "<tr><td>06040175T</td><td>Gumis mappa Köbüki</td></tr>",
                            "<tr><td>06040179T</td><td>Gyurma színes 200 g-os</td></tr>",
                            "<tr><td>06040180T</td><td>Gyurma színes natúr</td></tr>",
                            "<tr><td>06040183T</td><td>Gyűrűskönyv bet. A/5</td></tr>",
                            "<tr><td>06040184T</td><td>Gyűrűskönyv betét A/5</td></tr>",
                            "<tr><td>06040186T</td><td>Gyűrűskönyv színes</td></tr>",
                            "<tr><td>06040205T</td><td>Indigó Pelikán</td></tr>",
                            "<tr><td>06040206T</td><td>kék indigó</td></tr>",
                            "<tr><td>06040212T</td><td>Írólap 10-50 ffam.</td></tr>",
                            "<tr><td>06040213T</td><td>Írólap 20-50 </td></tr>",
                            "<tr><td>06040246T</td><td>Körző</td></tr>",
                            "<tr><td>06040248T</td><td>Körző maped</td></tr>",
                            "<tr><td>06040323T</td><td>Post-it 51×38 100 lapos</td></tr>",
                            "<tr><td>06040324T</td><td>Post-it 75×75 100 lapos</td></tr>",
                            "<tr><td>06040326T</td><td>Radír KOH-I-NOR 80</td></tr>",
                            "<tr><td>06040330T</td><td>Radír Tikky 30 </td></tr>",
                            "<tr><td>06040331T</td><td>Radír Tikky 40 </td></tr>",
                            "<tr><td>06040347T</td><td>Rajzlap A/4 10db ffam.</td></tr>",
                            "<tr><td>06040350T</td><td>Regiszteres füzet A4</td></tr>",
                            "<tr><td>06040351T</td><td>Regiszteres füzet A5 Hightech</td></tr>",
                            "<tr><td>06040352T</td><td>Rovatolt papír 20 íves</td></tr>",
                            "<tr><td>06040353T</td><td>Sorvezető</td></tr>",
                            "<tr><td>06040354T</td><td>Sp.Füzet A/4  perforált, lyuk.</td></tr>",
                            "<tr><td>06040355T</td><td>Sp.Füzet A/4 70-as</td></tr>",
                            "<tr><td>06040356T</td><td>Sp.Füzet A/4  70es</td></tr>",
                            "<tr><td>06040378T</td><td>Szövegkiemelő vékony</td></tr>",
                            "<tr><td>06040379T</td><td>Szövegkiemelő </td></tr>",
                            "<tr><td>06040380T</td><td>Szövegkiemelő</td></tr>",
                            "<tr><td>06040381T</td><td>Szövegkiemelő Videotip</td></tr>",
                            "<tr><td>06040382T</td><td>Táblafilc</td></tr>",
                            "<tr><td>06040383T</td><td>Taffet papír</td></tr>",
                            "<tr><td>06040384T</td><td>Technika cs. I-II-III-IV</td></tr>",
                            "<tr><td>06040385T</td><td>Tempera szóló ezüst</td></tr>",
                            "<tr><td>06040386T</td><td>Tempera szóló színes</td></tr>",
                            "<tr><td>06040392T</td><td>Tolltartó 1 zipzáros</td></tr>",
                            "<tr><td>06040393T</td><td>Tolltartó 2 részes NG.</td></tr>",
                            "<tr><td>06040394T</td><td>Tolltartó zipzáras</td></tr>",
                            "<tr><td>06040395T</td><td>Tolltartó 2 zipzáros töltött</td></tr>",
                            "<tr><td>06040397T</td><td>Tolltartó asztali</td></tr>",
                            "<tr><td>06040398T</td><td>Tolltartó hengeres </td></tr>",
                            "<tr><td>06040399T</td><td>Tombola tömb</td></tr>",
                            "<tr><td>06040400T</td><td>Tornazsák</td></tr>",
                            "<tr><td>06040446T</td><td>Számológép tudományos</td></tr>",
                            "<tr><td>06050249T</td><td>Krepp papír</td></tr>",
                            "<tr><td>06050301T</td><td>Olló gyerek </td></tr>",
                            "<tr><td>06050302T</td><td>Olló Tagit 18 cm-es</td></tr>",
                            "<tr><td>06050303T</td><td>Olló, iskolai</td></tr>",
                            "<tr><td>06080116T</td><td>Füzet A5 1-8 osz.-ig</td></tr>",
                            "<tr><td>06080117T</td><td>Füzetborító A/4 átlátszó</td></tr>",
                            "<tr><td>06080118T</td><td>Füzetborító átlátszó A5</td></tr>",
                            "<tr><td>06080119T</td><td>Füzetborító mesefig.</td></tr>",
                            "<tr><td>06080120T</td><td>Füzetborító öntapadó kicsi</td></tr>",
                            "<tr><td>06080121T</td><td>Füzetborító öntapadó tekercses</td></tr>",
                            "<tr><td>06080122T</td><td>Füzetborító öntapadós nagy</td></tr>",
                            "<tr><td>06080124T</td><td>Füzettartó A/4 keménytáblás</td></tr>",
                            "<tr><td>06080125T</td><td>Füzettartó A/5 vastag</td></tr>",
                            "<tr><td>06080126T</td><td>Füzettartó A/5  </td></tr>",
                            "<tr><td>06080188T</td><td>Hegyező gép</td></tr>",
                            "<tr><td>06080189T</td><td>Hegyező műanyag dupla</td></tr>",
                            "<tr><td>06080190T</td><td>Hegyező műanyag egyes</td></tr>",
                            "<tr><td>06080191T</td><td>Hegyező tartályos egyes</td></tr>",
                            "<tr><td>06080192T</td><td>Hegyző fém 1 lyukú</td></tr>",
                            "<tr><td>06080193T</td><td>Hegyző fém 2 lyukú</td></tr>",
                            "<tr><td>06080259T</td><td>Leckefüzet</td></tr>",
                            "<tr><td>06080332T</td><td>Radírtoll betét ER100</td></tr>",
                            "<tr><td>06080333T</td><td>Radírtoll betét vastag</td></tr>",
                            "<tr><td>06080335T</td><td>Ragasztó 9 g Pax</td></tr>",
                            "<tr><td>06080337T</td><td>Ragasztó Gyurma</td></tr>",
                            "<tr><td>06080339T</td><td>Ragasztó kores</td></tr>",
                            "<tr><td>06080407T</td><td>Vízfesték  12 színű nagy</td></tr>",
                            "<tr><td>06080408T</td><td>Vízfesték 12 db-os </td></tr>",
                            "<tr><td>06080409T</td><td>Vízfesték 12 színű kerek</td></tr>",
                            "<tr><td>06080410T</td><td>Vízfesték 12db-os kínai</td></tr>",
                            "<tr><td>06080411T</td><td>Vonalzó 15 cm-es ESSELTE</td></tr>",
                            "<tr><td>06080412T</td><td>Vonalzó 16 cm-es LIZZY</td></tr>",
                            "<tr><td>06080413T</td><td>Vonalzó 30 cm</td></tr>",
                            "<tr><td>06080415T</td><td>Vonalzó 45 fokos</td></tr>",
                            "<tr><td>06080416T</td><td>Vonalzó 60 fokos</td></tr>",
                            "<tr><td>06080417T</td><td>Zászló papír</td></tr>",
                            "<tr><td>06080422T</td><td>Füzettartó A/4</td></tr>",
                            "<tr><td>06080423T</td><td>Beíró A/5 kockás</td></tr>",
                            "<tr><td>06080424T</td><td>Füzetborító A/4 mintás</td></tr>",
                            "<tr><td>06080425T</td><td>Miliméterpapír</td></tr>",
                            "<tr><td>06080426T</td><td>Szótárfüzet Lizzy</td></tr>",
                            "<tr><td>06080427T</td><td>Ablakkréta</td></tr>",
                            "<tr><td>06080428T</td><td>Ecsetkészlet</td></tr>",
                            "<tr><td>06080429T</td><td>Meghívó ballagási</td></tr>",
                            "<tr><td>06080430T</td><td>Öntapadős betűk</td></tr>",
                            "<tr><td>06080441T</td><td>Gyurmakés</td></tr>",
                            "<tr><td>07010137T</td><td>G.toll betét PAX tip.</td></tr>",
                            "<tr><td>07010139T</td><td>G.toll betét S7L </td></tr>",
                            "<tr><td>07010140T</td><td>G.toll betét Stabilo</td></tr>",
                            "<tr><td>07010141T</td><td>G.toll betét X20</td></tr>",
                            "<tr><td>07010142T</td><td>G.toll betét Zebra F-0.7</td></tr>",
                            "<tr><td>07010143T</td><td>G.toll betét Zebra H-0,7</td></tr>",
                            "<tr><td>07010144T</td><td>G.toll betét Zebra K-0,7</td></tr>",
                            "<tr><td>07010244T</td><td>Kerámiatoll</td></tr>",
                            "<tr><td>07030103T</td><td>Filctoll TINTEN PEN</td></tr>",
                            "<tr><td>07030104T</td><td>Filctoll vastag ARTIP</td></tr>",
                            "<tr><td>07030105T</td><td>Filctoll, alkoholos Centropen</td></tr>",
                            "<tr><td>07030106T</td><td>Filctoll, alkoholosOHP F-M-C</td></tr>",
                            "<tr><td>07030107T</td><td>Filctoll, textil Edding 4500</td></tr>",
                            "<tr><td>07030108T</td><td>Filctoll CD író</td></tr>",
                            "<tr><td>07040047T</td><td>Ceruza 2H-4B</td></tr>",
                            "<tr><td>07040049T</td><td>Ceruza Conté zöld</td></tr>",
                            "<tr><td>07040050T</td><td>Ceruza Cseh</td></tr>",
                            "<tr><td>07040051T</td><td>Ceruza háromszög </td></tr>",
                            "<tr><td>07040052T</td><td>Ceruza 2H-3B Koh-i-nor</td></tr>",
                            "<tr><td>07040053T</td><td>Ceruza HB radiros</td></tr>",
                            "<tr><td>07040054T</td><td>Ceruza kártyás</td></tr>",
                            "<tr><td>07040055T</td><td>Ceruza piros-kék</td></tr>",
                            "<tr><td>07040056T</td><td>Ceruza piros-kék vékony</td></tr>",
                            "<tr><td>07040057T</td><td>Ceruza Progresso</td></tr>",
                            "<tr><td>07040058T</td><td>Ceruza radíros kínai</td></tr>",
                            "<tr><td>07040059T</td><td>Ceruza smaragd</td></tr>",
                            "<tr><td>07040060T</td><td>Ceruza stabilo swano</td></tr>",
                            "<tr><td>07040061T</td><td>Ceruza stabilo opera</td></tr>",
                            "<tr><td>07040097T</td><td>Filctoll </td></tr>",
                            "<tr><td>07040098T</td><td>Filctoll document pen</td></tr>",
                            "<tr><td>07040099T</td><td>Filctoll Edding 750</td></tr>",
                            "<tr><td>07040100T</td><td>Filctoll Marvy alkoholos</td></tr>",
                            "<tr><td>07040101T</td><td>Filctoll permanent vastag</td></tr>",
                            "<tr><td>07040102T</td><td>Filctoll supra fine</td></tr>",
                            "<tr><td>07040127T</td><td>G. toll betét mini</td></tr>",
                            "<tr><td>07040128T</td><td>G. toll betét mini fém</td></tr>",
                            "<tr><td>07040129T</td><td>G. toll betét réz</td></tr>",
                            "<tr><td>07040130T</td><td>G. toll betét S7S</td></tr>",
                            "<tr><td>07040132T</td><td>G.toll betét csavaros</td></tr>",
                            "<tr><td>07040133T</td><td>G.toll betét görbe hegyű</td></tr>",
                            "<tr><td>07040165T</td><td>Golyóstoll UNI laknock</td></tr>",
                            "<tr><td>07040166T</td><td>Golyóstoll Zebra 301</td></tr>",
                            "<tr><td>07040167T</td><td>Golyóstoll Zebra mini</td></tr>",
                            "<tr><td>07040168T</td><td>Golyóstoll Zebra new hard</td></tr>",
                            "<tr><td>07040169T</td><td>Golyóstoll Zodiák</td></tr>",
                            "<tr><td>07040215T</td><td>Ironbél  2B ICO</td></tr>",
                            "<tr><td>07040216T</td><td>Ironbél B 0,5</td></tr>",
                            "<tr><td>07040217T</td><td>Ironbél H 0,5</td></tr>",
                            "<tr><td>07040218T</td><td>Ironbél HB 0,5</td></tr>",
                            "<tr><td>07040219T</td><td>Ironbél HI-POLIMER HB 0,7</td></tr>",
                            "<tr><td>07040257T</td><td>Lakk filc Edding 750</td></tr>",
                            "<tr><td>07040388T</td><td>Tintapatron /kék/</td></tr>",
                            "<tr><td>07040389T</td><td>Tintapatron 30 db-os kék</td></tr>",
                            "<tr><td>07040390T</td><td>Tintapatron színes</td></tr>",
                            "<tr><td>07040391T</td><td>Toll Centropen roller</td></tr>",
                            "<tr><td>07050462T</td><td>Töltőtoll tinta </td></tr>",
                            "<tr><td>07050463T</td><td>Ceruzafogó</td></tr>",
                            "<tr><td>07050464T</td><td>Szövegkiemelő Staedtler</td></tr>",
                            "<tr><td>07080062T</td><td>Ceruza szén</td></tr>",
                            "<tr><td>07080063T</td><td>Ceruza szorzótáblás</td></tr>",
                            "<tr><td>07080064T</td><td>Ceruza zöld színű</td></tr>",
                            "<tr><td>07080065T</td><td>Ceruza kínai</td></tr>",
                            "<tr><td>07080150T</td><td>Golyóstoll</td></tr>",
                            "<tr><td>07080151T</td><td>Golyóstoll + ceruza Twister 2in1</td></tr>",
                            "<tr><td>07080152T</td><td>Golyóstoll 3 funkciós </td></tr>",
                            "<tr><td>07080153T</td><td>Golyóstoll illatos ICO</td></tr>",
                            "<tr><td>07080154T</td><td>Golyóstoll INOXCROM</td></tr>",
                            "<tr><td>07080155T</td><td>Golyóstoll</td></tr>",
                            "<tr><td>07080156T</td><td>Golyóstoll kupakos piros</td></tr>",
                            "<tr><td>07080157T</td><td>Golyóstoll Montex Hytone</td></tr>",
                            "<tr><td>07080159T</td><td>Golyóstoll Pax tip.</td></tr>",
                            "<tr><td>07080160T</td><td>Golyóstoll penac</td></tr>",
                            "<tr><td>07080161T</td><td>Golyóstoll kétszínű</td></tr>",
                            "<tr><td>07080162T</td><td>Golyóstoll Stabilo piros</td></tr>",
                            "<tr><td>07080316T</td><td>Pixiron KOH-I-NOOR</td></tr>",
                            "<tr><td>07080421T</td><td>Zseléstoll Lizzy Card</td></tr>",
                            "<tr><td>07080466T</td><td>Golyóstoll Stabiló 308</td></tr>",
                            "<tr><td>08070472T</td><td>A föld amelyen élünk - Európa földrajza</td></tr>",
                            "<tr><td>08070473T</td><td>A föld amelyen élünk - Távoli földrészek</td></tr>",
                            "<tr><td>08070474T</td><td>A föld amelyen élünk - Hazánk földrajza</td></tr>",
                            "<tr><td>08070477T</td><td>Anyanyelvi gyakorló 3</td></tr>",
                            "<tr><td>08070478T</td><td>Összefoglaló feladatgyüjtemény számtech.</td></tr>",
                            "<tr><td>08070479T</td><td>Fizika</td></tr>",
                            "<tr><td>08070481T</td><td>Fizika munkafüzet 13 év.</td></tr>",
                            "<tr><td>08070482T</td><td>Fizika munkafüzet 14 év.</td></tr>",
                            "<tr><td>08070483T</td><td>Fizikai feladatok és tévedések</td></tr>",
                            "<tr><td>08070484T</td><td>Fogalmazás lépésről lépésre</td></tr>",
                            "<tr><td>08070485T</td><td>Jól felkészültem-e - Fizika</td></tr>",
                            "<tr><td>08070486T</td><td>Matematika gyakorló 2</td></tr>",
                            "<tr><td>08070487T</td><td>Matematika gyakorló 3</td></tr>",
                            "<tr><td>08070490T</td><td>Szövegszerkesztés</td></tr>",
                            "<tr><td>08070491T</td><td>Szám.tech. kicsiknek</td></tr>",
                            "<tr><td>08070492T</td><td>Informatika</td></tr>",
                            "<tr><td>08070493T</td><td>Érettségi felv. fel. Matematika</td></tr>",
                            "<tr><td>08070494T</td><td>Érettségi felv. fel. Fizika</td></tr>",
                            "<tr><td>08070495T</td><td>Érettségi felv. fel. Biológia</td></tr>",
                            "<tr><td>F001-KB101</td><td>férfi szövet kabát</td></tr>",
                            "<tr><td>F007-NA201</td><td>férfi farmer nadrág</td></tr>",
                            "<tr><td>F013-NA207</td><td>férfi szövet nadrág</td></tr>",
                            "<tr><td>F021-IN215</td><td>férfi ing</td></tr>",
                            "<tr><td>G001-KB101</td><td>gyermek kabát (fiú)</td></tr>",
                            "<tr><td>G013-NA201</td><td>gyermek farmer nadrág (fiú)</td></tr>",
                            "<tr><td>G019-NA207</td><td>gyermek pamut nadrág (fiú)</td></tr>",
                            "<tr><td>G023-FE301</td><td>fiú alsó</td></tr>",
                            "<tr><td>G029-FE307</td><td>fiú zokni</td></tr>",
                            "<tr><td>G038-FE316</td><td>fiú harisnya</td></tr>",
                            "<tr><td>G041-AL211</td><td>fiú ünneplős ruha</td></tr>",
                            "<tr><td>G048-PO218</td><td>gyermek póló (fiú)</td></tr>",
                            "<tr><td>G064-CI401</td><td>gyermek szandál (fiú)</td></tr>",
                            "<tr><td>G073-CI410</td><td>gyermek cipő (fiú)</td></tr>",
                            "<tr><td>G082-CI419</td><td>gyermek csizma (fiú)</td></tr>",
                            "<tr><td>L001-KB101</td><td>gyermek kabát (lány)</td></tr>",
                            "<tr><td>L013-NA201</td><td>gyermek farmer nadrág (lány)</td></tr>",
                            "<tr><td>L019-NA207</td><td>gyermek pamut nadrág (lány)</td></tr>",
                            "<tr><td>L023-FE301</td><td>lány alsó</td></tr>",
                            "<tr><td>L029-FE307</td><td>lány zokni</td></tr>",
                            "<tr><td>L033-FE311</td><td>lány harisnya</td></tr>",
                            "<tr><td>L041-AL211</td><td>lány ünneplős ruha</td></tr>",
                            "<tr><td>L048-PO218</td><td>gyermek póló (lány)</td></tr>",
                            "<tr><td>L064-CI401</td><td>gyermek szandál (lány)</td></tr>",
                            "<tr><td>L073-CI410</td><td>gyermek cipő (lány)</td></tr>",
                            "<tr><td>L082-CI419</td><td>gyermek csizma (lány)</td></tr>",
                            "<tr><td>N001-KB101</td><td>női szövet kabát</td></tr>",
                            "<tr><td>N008-NA201</td><td>női farmer nadrág</td></tr>",
                            "<tr><td>N019-FE301</td><td>női alsó</td></tr>",
                            "<tr><td>N029-AL212</td><td>női koktélruha</td></tr>",
                            "<tr><td>N035-AL218</td><td>kosztüm (rövid)</td></tr>",
                            "<tr><td>N039-AL222</td><td>kosztüm (hosszú)</td></tr>",
                            "<tr><td>U001-KI501</td><td>sál</td></tr>",
                            "</table>"
                        ]
                    }
                }
            ],
            "execution_count": 4
        },
        {
            "cell_type": "markdown",
            "source": [
                "7. <span style=\"background-color: rgb(255, 255, 255); color: rgb(0, 0, 0); font-family: &quot;Open Sans&quot;, sans-serif; font-size: 14.44px;\">Listázzuk azon ügyfeleket, akik még nem fizettek bankkártyával!&nbsp;</span> \n",
                "\n",
                "a. Csak az ügyfelek neve jelenjen meg!"
            ],
            "metadata": {
                "azdata_cell_guid": "7ebf7ddd-1bd2-4246-815a-be8ae37e3b5b"
            },
            "attachments": {}
        },
        {
            "cell_type": "code",
            "source": [
                "SELECT nev\r\n",
                "FROM Ugyfel\r\n",
                "WHERE [LOGIN] NOT IN (SELECT [LOGIN]\r\n",
                "                        FROM Rendeles\r\n",
                "                        WHERE FIZ_MOD ='Bankkártya')"
            ],
            "metadata": {
                "azdata_cell_guid": "84b7e896-f36e-4985-88f5-e0f706494fef",
                "language": "sql"
            },
            "outputs": [
                {
                    "output_type": "display_data",
                    "data": {
                        "text/html": "(9 rows affected)"
                    },
                    "metadata": {}
                },
                {
                    "output_type": "display_data",
                    "data": {
                        "text/html": "Total execution time: 00:00:00.062"
                    },
                    "metadata": {}
                },
                {
                    "output_type": "execute_result",
                    "metadata": {},
                    "execution_count": 9,
                    "data": {
                        "application/vnd.dataresource+json": {
                            "schema": {
                                "fields": [
                                    {
                                        "name": "nev"
                                    }
                                ]
                            },
                            "data": [
                                {
                                    "nev": "Biró Alexander"
                                },
                                {
                                    "nev": "Csóti Attila"
                                },
                                {
                                    "nev": "Bagi Beáta"
                                },
                                {
                                    "nev": "Mór Ottó"
                                },
                                {
                                    "nev": "Molnár Eszter"
                                },
                                {
                                    "nev": "Kiss Anita"
                                },
                                {
                                    "nev": "Kispál Márk"
                                },
                                {
                                    "nev": "Nagy Péter"
                                },
                                {
                                    "nev": "Szűcs Norbert"
                                }
                            ]
                        },
                        "text/html": [
                            "<table>",
                            "<tr><th>nev</th></tr>",
                            "<tr><td>Biró Alexander</td></tr>",
                            "<tr><td>Csóti Attila</td></tr>",
                            "<tr><td>Bagi Beáta</td></tr>",
                            "<tr><td>Mór Ottó</td></tr>",
                            "<tr><td>Molnár Eszter</td></tr>",
                            "<tr><td>Kiss Anita</td></tr>",
                            "<tr><td>Kispál Márk</td></tr>",
                            "<tr><td>Nagy Péter</td></tr>",
                            "<tr><td>Szűcs Norbert</td></tr>",
                            "</table>"
                        ]
                    }
                }
            ],
            "execution_count": 9
        },
        {
            "cell_type": "code",
            "source": [
                "SELECT u.nev\r\n",
                "FROM Ugyfel u\r\n",
                "WHERE NOT EXISTS (SELECT *\r\n",
                "                        FROM Rendeles r\r\n",
                "                        WHERE U.[LOGIN]=R.[LOGIN]\r\n",
                "                        AND FIZ_MOD ='Bankkártya')"
            ],
            "metadata": {
                "language": "sql",
                "azdata_cell_guid": "d22ff6f4-754f-4485-a374-14f531cdf8fa"
            },
            "outputs": [
                {
                    "output_type": "display_data",
                    "data": {
                        "text/html": "(9 rows affected)"
                    },
                    "metadata": {}
                },
                {
                    "output_type": "display_data",
                    "data": {
                        "text/html": "Total execution time: 00:00:00.050"
                    },
                    "metadata": {}
                },
                {
                    "output_type": "execute_result",
                    "metadata": {},
                    "execution_count": 10,
                    "data": {
                        "application/vnd.dataresource+json": {
                            "schema": {
                                "fields": [
                                    {
                                        "name": "nev"
                                    }
                                ]
                            },
                            "data": [
                                {
                                    "nev": "Biró Alexander"
                                },
                                {
                                    "nev": "Csóti Attila"
                                },
                                {
                                    "nev": "Bagi Beáta"
                                },
                                {
                                    "nev": "Mór Ottó"
                                },
                                {
                                    "nev": "Molnár Eszter"
                                },
                                {
                                    "nev": "Kiss Anita"
                                },
                                {
                                    "nev": "Kispál Márk"
                                },
                                {
                                    "nev": "Nagy Péter"
                                },
                                {
                                    "nev": "Szűcs Norbert"
                                }
                            ]
                        },
                        "text/html": [
                            "<table>",
                            "<tr><th>nev</th></tr>",
                            "<tr><td>Biró Alexander</td></tr>",
                            "<tr><td>Csóti Attila</td></tr>",
                            "<tr><td>Bagi Beáta</td></tr>",
                            "<tr><td>Mór Ottó</td></tr>",
                            "<tr><td>Molnár Eszter</td></tr>",
                            "<tr><td>Kiss Anita</td></tr>",
                            "<tr><td>Kispál Márk</td></tr>",
                            "<tr><td>Nagy Péter</td></tr>",
                            "<tr><td>Szűcs Norbert</td></tr>",
                            "</table>"
                        ]
                    }
                }
            ],
            "execution_count": 10
        },
        {
            "cell_type": "markdown",
            "source": [
                "8. <span style=\"background-color: rgb(255, 255, 255); color: rgb(0, 0, 0); font-family: &quot;Open Sans&quot;, sans-serif; font-size: 14.44px;\">Mennyibe kerül a második legnagyobb listaárú termék?</span>"
            ],
            "metadata": {
                "azdata_cell_guid": "27a3d3dc-eafb-4a5e-b103-9f465b9eda8f"
            },
            "attachments": {}
        },
        {
            "cell_type": "code",
            "source": [
                ""
            ],
            "metadata": {
                "azdata_cell_guid": "f09edb3f-649b-4a96-958e-9e12774ae8b7",
                "language": "sql"
            },
            "outputs": [],
            "execution_count": null
        },
        {
            "cell_type": "markdown",
            "source": [
                "9. <span style=\"background-color: rgb(255, 255, 255); color: rgb(0, 0, 0); font-family: &quot;Open Sans&quot;, sans-serif; font-size: 14.44px;\">Melyik raktár(ak)ban van az a termék, amelyből a legnagyobb készlet van?&nbsp;</span> \n",
                "\n",
                "a. Csak a raktár(ak) neve jelenjen meg!"
            ],
            "metadata": {
                "azdata_cell_guid": "f12a331a-0e26-4d3d-9c68-812316286577"
            },
            "attachments": {}
        },
        {
            "cell_type": "code",
            "source": [
                ""
            ],
            "metadata": {
                "azdata_cell_guid": "10a77fc9-e61a-46fc-a401-59720d82bc50",
                "language": "sql"
            },
            "outputs": [],
            "execution_count": null
        },
        {
            "cell_type": "markdown",
            "source": [
                "10. <span style=\"background-color: rgb(255, 255, 255); color: rgb(0, 0, 0); font-family: &quot;Open Sans&quot;, sans-serif; font-size: 14.44px;\">Melyek azok a termékek, amelyek listaára nagyobb, mint bármelyik olyan terméké, amelynek nevében az Ajándék szó szerepel?&nbsp;</span> \n",
                "\n",
                "a. A termékek kódját és nevét is jelenítsük meg!"
            ],
            "metadata": {
                "azdata_cell_guid": "9229e2b6-e200-4499-b95b-2d0222149831"
            },
            "attachments": {}
        },
        {
            "cell_type": "code",
            "source": [
                ""
            ],
            "metadata": {
                "azdata_cell_guid": "8b49ed67-28c6-4880-82a8-cd369e5bba99",
                "language": "sql"
            },
            "outputs": [],
            "execution_count": null
        },
        {
            "cell_type": "markdown",
            "source": [
                "11. <span style=\"background-color: rgb(255, 255, 255); color: rgb(0, 0, 0); font-family: &quot;Open Sans&quot;, sans-serif; font-size: 14.44px;\">Melyik hónapokban adtak le az ügyfelek több rendelést, mint januárban?&nbsp;</span> \n",
                "\n",
                "a. Elég a hónapok sorszámait megjeleníteni. \n",
                "\n",
                "b. A listát rendezzük a hónapok száma szerint növekvő sorrendbe!"
            ],
            "metadata": {
                "azdata_cell_guid": "7f5fc7a7-3b6a-4d89-b292-490830afb0c6"
            },
            "attachments": {}
        },
        {
            "cell_type": "code",
            "source": [
                ""
            ],
            "metadata": {
                "azdata_cell_guid": "4a9ece40-f782-4c0d-92cd-9c21969067ed",
                "language": "sql"
            },
            "outputs": [],
            "execution_count": null
        },
        {
            "cell_type": "markdown",
            "source": [
                "12. <span style=\"background-color: rgb(255, 255, 255); color: rgb(0, 0, 0); font-family: &quot;Open Sans&quot;, sans-serif; font-size: 14.44px;\">Melyek azok a termékek, amelyek listaára az átlagostól max. 20%-kal tér el?&nbsp;</span> \n",
                "\n",
                "a. A termék kódját és nevét is jelenítsük meg!"
            ],
            "metadata": {
                "azdata_cell_guid": "5a483c52-bb98-44bb-bd03-1146d4b0abfa"
            },
            "attachments": {}
        },
        {
            "cell_type": "code",
            "source": [
                ""
            ],
            "metadata": {
                "azdata_cell_guid": "dd6e89bd-08f9-4b18-8460-03c45b503df0",
                "language": "sql"
            },
            "outputs": [],
            "execution_count": null
        },
        {
            "cell_type": "markdown",
            "source": [
                "13. <span style=\"background-color: rgb(255, 255, 255); color: rgb(0, 0, 0); font-family: &quot;Open Sans&quot;, sans-serif; font-size: 14.44px;\">Készítsünk listát (sorszámonként) az egyes rendelések teljes összegéről!&nbsp;</span> \n",
                "\n",
                "a. Szűrjünk azon tételekre, ahol ez az érték nagyobb, mint Viktor Éva rendeléseinek teljes összege! \n",
                "\n",
                "b. A teljes összeg oszlopot nevezzük el értelemszerűen!"
            ],
            "metadata": {
                "azdata_cell_guid": "85d5cb66-96c6-42de-99cf-85ab22d08548"
            },
            "attachments": {}
        },
        {
            "cell_type": "code",
            "source": [
                ""
            ],
            "metadata": {
                "azdata_cell_guid": "cb07d64b-0eaa-498b-b4d2-0b46971e95ce",
                "language": "sql"
            },
            "outputs": [],
            "execution_count": null
        },
        {
            "cell_type": "markdown",
            "source": [
                "14. <span style=\"background-color: rgb(255, 255, 255); color: rgb(0, 0, 0); font-family: &quot;Open Sans&quot;, sans-serif; font-size: 14.44px;\">Listázzuk azokat a termékkategóriákat, amelyből 2017 januárban nem történt rendelés!&nbsp;</span> \n",
                "\n",
                "a. Elég a kategóriák nevét megjeleníteni!"
            ],
            "metadata": {
                "azdata_cell_guid": "f95ad665-a807-4099-bf06-64ed974f866f"
            },
            "attachments": {}
        },
        {
            "cell_type": "code",
            "source": [
                ""
            ],
            "metadata": {
                "azdata_cell_guid": "74c7ec8a-ae4a-4d03-b1c4-e8f6bb1be12c",
                "language": "sql"
            },
            "outputs": [],
            "execution_count": null
        },
        {
            "cell_type": "markdown",
            "source": [
                "15. <span style=\"background-color: rgb(255, 255, 255); color: rgb(0, 0, 0); font-family: &quot;Open Sans&quot;, sans-serif; font-size: 14.44px;\">Listázzuk azon rendelési tételeket, amelynek értéke nagyobb, mint a legdrágább termék listaára azon termékek közül, amelyek szülő kategóriája a ruha!</span>"
            ],
            "metadata": {
                "azdata_cell_guid": "93552388-ffec-49ff-99e5-ae8dc8072601"
            },
            "attachments": {}
        },
        {
            "cell_type": "code",
            "source": [
                ""
            ],
            "metadata": {
                "azdata_cell_guid": "0e7f547f-7d96-4611-b1c2-0fa84a581e79",
                "language": "sql"
            },
            "outputs": [],
            "execution_count": null
        }
    ]
}