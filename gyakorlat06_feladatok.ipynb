{
    "metadata": {
        "kernelspec": {
            "name": "SQL",
            "display_name": "SQL",
            "language": "sql"
        },
        "language_info": {
            "name": "sql",
            "version": ""
        }
    },
    "nbformat_minor": 2,
    "nbformat": 4,
    "cells": [
        {
            "cell_type": "markdown",
            "source": [
                "1. <span style=\"background-color: rgb(255, 255, 255); color: rgb(0, 0, 0); font-family: &quot;Open Sans&quot;, sans-serif; font-size: 14.44px;\">Készítsünk sorszámozott listát a szálláshelyek adatairól!&nbsp;</span> \n",
                "\n",
                "a. A lista legyen a szálláshely típusa szerint, azon belül hely szerint, majd a neve szerint növekvően rendezve! \n",
                "\n",
                "b. A számozás típusonként kezdődjön újra!"
            ],
            "metadata": {
                "azdata_cell_guid": "363cd270-6577-449b-9c89-d4b7c7972d52"
            },
            "attachments": {}
        },
        {
            "cell_type": "code",
            "source": [
                "SELECT ROW_NUMBER() OVER(\r\n",
                "    PARTITION BY tipus\r\n",
                "    ORDER BY tipus, hely, szallas_nev\r\n",
                ") AS 'Sorszám',\r\n",
                "        *\r\n",
                "FROM Szallashely\r\n",
                ""
            ],
            "metadata": {
                "azdata_cell_guid": "6ab9f633-a3b5-48c9-a1dc-4fb8235ae85b",
                "language": "sql"
            },
            "outputs": [
                {
                    "output_type": "display_data",
                    "data": {
                        "text/html": "(21 rows affected)"
                    },
                    "metadata": {}
                },
                {
                    "output_type": "display_data",
                    "data": {
                        "text/html": "Total execution time: 00:00:00.074"
                    },
                    "metadata": {}
                },
                {
                    "output_type": "execute_result",
                    "metadata": {},
                    "execution_count": 2,
                    "data": {
                        "application/vnd.dataresource+json": {
                            "schema": {
                                "fields": [
                                    {
                                        "name": "Sorszám"
                                    },
                                    {
                                        "name": "SZALLAS_ID"
                                    },
                                    {
                                        "name": "SZALLAS_NEV"
                                    },
                                    {
                                        "name": "HELY"
                                    },
                                    {
                                        "name": "CSILLAGOK_SZAMA"
                                    },
                                    {
                                        "name": "TIPUS"
                                    },
                                    {
                                        "name": "ROGZITETTE"
                                    },
                                    {
                                        "name": "ROGZ_IDO"
                                    },
                                    {
                                        "name": "CIM"
                                    }
                                ]
                            },
                            "data": [
                                {
                                    "Sorszám": "1",
                                    "SZALLAS_ID": "7",
                                    "SZALLAS_NEV": "Szieszta Apartmanház",
                                    "HELY": "Balaton-dél",
                                    "CSILLAGOK_SZAMA": "0",
                                    "TIPUS": "Apartman",
                                    "ROGZITETTE": "Mari",
                                    "ROGZ_IDO": "2016-03-11",
                                    "CIM": "8630 Balatonboglár, Dózsa György utca 108"
                                },
                                {
                                    "Sorszám": "2",
                                    "SZALLAS_ID": "18",
                                    "SZALLAS_NEV": "Fortuna Apartman",
                                    "HELY": "Dél-Somogy",
                                    "CSILLAGOK_SZAMA": "0",
                                    "TIPUS": "Apartman",
                                    "ROGZITETTE": "Béla",
                                    "ROGZ_IDO": "2016-04-07",
                                    "CIM": "7570 Barcs, Kossuth u. 13."
                                },
                                {
                                    "Sorszám": "3",
                                    "SZALLAS_ID": "3",
                                    "SZALLAS_NEV": "Fortuna Apartman",
                                    "HELY": "Hajdúbihar megye",
                                    "CSILLAGOK_SZAMA": "0",
                                    "TIPUS": "Apartman",
                                    "ROGZITETTE": "Sára",
                                    "ROGZ_IDO": "2016-03-06",
                                    "CIM": "4200 Hajdúszoboszló, Wesselényi utca 56."
                                },
                                {
                                    "Sorszám": "1",
                                    "SZALLAS_ID": "20",
                                    "SZALLAS_NEV": "Kollégium",
                                    "HELY": "Budapest",
                                    "CSILLAGOK_SZAMA": "0",
                                    "TIPUS": "Diákszálló",
                                    "ROGZITETTE": "Sára",
                                    "ROGZ_IDO": "2016-04-07",
                                    "CIM": "1146 Budapest, Ajtósi Dürer sor 23."
                                },
                                {
                                    "Sorszám": "1",
                                    "SZALLAS_ID": "8",
                                    "SZALLAS_NEV": "Hotel Három Hattyú",
                                    "HELY": "Balaton-dél",
                                    "CSILLAGOK_SZAMA": "4",
                                    "TIPUS": "Hotel",
                                    "ROGZITETTE": "Béla",
                                    "ROGZ_IDO": "2016-03-13",
                                    "CIM": "8623 Balatonföldvár, Rákóczi Ferenc út 45."
                                },
                                {
                                    "Sorszám": "2",
                                    "SZALLAS_ID": "6",
                                    "SZALLAS_NEV": "Kentaur Hotel",
                                    "HELY": "Balaton-dél",
                                    "CSILLAGOK_SZAMA": "3",
                                    "TIPUS": "Hotel",
                                    "ROGZITETTE": "Béla",
                                    "ROGZ_IDO": "2016-03-08",
                                    "CIM": "8600 Siófok (Széplak), Akácfa utca 1"
                                },
                                {
                                    "Sorszám": "3",
                                    "SZALLAS_ID": "12",
                                    "SZALLAS_NEV": "Gold Hotel",
                                    "HELY": "Budapest",
                                    "CSILLAGOK_SZAMA": "3",
                                    "TIPUS": "Hotel",
                                    "ROGZITETTE": "Béla",
                                    "ROGZ_IDO": "2016-03-24",
                                    "CIM": "1016 Budapest, Hegyalja út 12"
                                },
                                {
                                    "Sorszám": "4",
                                    "SZALLAS_ID": "10",
                                    "SZALLAS_NEV": "Lagúna Hotel",
                                    "HELY": "Budapest",
                                    "CSILLAGOK_SZAMA": "4",
                                    "TIPUS": "Hotel",
                                    "ROGZITETTE": "Sára",
                                    "ROGZ_IDO": "2016-03-20",
                                    "CIM": "1097 Budapest, Albert Flórián út 3"
                                },
                                {
                                    "Sorszám": "5",
                                    "SZALLAS_ID": "16",
                                    "SZALLAS_NEV": "Bagoly Hotel",
                                    "HELY": "Pest megye",
                                    "CSILLAGOK_SZAMA": "3",
                                    "TIPUS": "Hotel",
                                    "ROGZITETTE": "Mari",
                                    "ROGZ_IDO": "2016-04-01",
                                    "CIM": "2230 Gyömrő, Bergszász u. 5."
                                },
                                {
                                    "Sorszám": "6",
                                    "SZALLAS_ID": "17",
                                    "SZALLAS_NEV": "Szarvas Hotel",
                                    "HELY": "Tolna megye",
                                    "CSILLAGOK_SZAMA": "4",
                                    "TIPUS": "Hotel",
                                    "ROGZITETTE": "Béla",
                                    "ROGZ_IDO": "2016-04-04",
                                    "CIM": "7121 Szálka, Petőfi Sándor u."
                                },
                                {
                                    "Sorszám": "1",
                                    "SZALLAS_ID": "9",
                                    "SZALLAS_NEV": "Jáde panzió",
                                    "HELY": "Balaton-dél",
                                    "CSILLAGOK_SZAMA": "3",
                                    "TIPUS": "panzió",
                                    "ROGZITETTE": "Mari",
                                    "ROGZ_IDO": "2016-03-16",
                                    "CIM": "8624 Balatonföldvár, Kiss u.2."
                                },
                                {
                                    "Sorszám": "2",
                                    "SZALLAS_ID": "15",
                                    "SZALLAS_NEV": "Tímárház Panzió",
                                    "HELY": "Balaton-dél",
                                    "CSILLAGOK_SZAMA": "3",
                                    "TIPUS": "panzió",
                                    "ROGZITETTE": "Béla",
                                    "ROGZ_IDO": "2016-03-29",
                                    "CIM": "8600 Siófok, Virág utca 1"
                                },
                                {
                                    "Sorszám": "3",
                                    "SZALLAS_ID": "5",
                                    "SZALLAS_NEV": "Fortuna Panzió",
                                    "HELY": "Békés megye",
                                    "CSILLAGOK_SZAMA": "3",
                                    "TIPUS": "panzió",
                                    "ROGZITETTE": "Sára",
                                    "ROGZ_IDO": "2016-03-08",
                                    "CIM": "5900 Orosháza, Gyopárosfürdő Tópart utca 3."
                                },
                                {
                                    "Sorszám": "4",
                                    "SZALLAS_ID": "4",
                                    "SZALLAS_NEV": "Fortuna panzió",
                                    "HELY": "Budapest",
                                    "CSILLAGOK_SZAMA": "3",
                                    "TIPUS": "panzió",
                                    "ROGZITETTE": "Béla",
                                    "ROGZ_IDO": "2016-03-07",
                                    "CIM": "1019 Budapest XIV. Cinkotai út 86."
                                },
                                {
                                    "Sorszám": "5",
                                    "SZALLAS_ID": "13",
                                    "SZALLAS_NEV": "Riviéra Panzió",
                                    "HELY": "Csongrád megye",
                                    "CSILLAGOK_SZAMA": "3",
                                    "TIPUS": "panzió",
                                    "ROGZITETTE": "Sára",
                                    "ROGZ_IDO": "2016-03-27",
                                    "CIM": "6722 Szeged, Petőfi Sándor út 3."
                                },
                                {
                                    "Sorszám": "1",
                                    "SZALLAS_ID": "2",
                                    "SZALLAS_NEV": "Családi Ház",
                                    "HELY": "Balaton-dél",
                                    "CSILLAGOK_SZAMA": "0",
                                    "TIPUS": "vendégház",
                                    "ROGZITETTE": "Béla",
                                    "ROGZ_IDO": "2016-03-02",
                                    "CIM": "8630 Balatonboglár, József Attila utca 25"
                                },
                                {
                                    "Sorszám": "2",
                                    "SZALLAS_ID": "1",
                                    "SZALLAS_NEV": "Sába-Ház",
                                    "HELY": "Balaton-dél",
                                    "CSILLAGOK_SZAMA": "0",
                                    "TIPUS": "vendégház",
                                    "ROGZITETTE": "Béla",
                                    "ROGZ_IDO": "2016-02-28",
                                    "CIM": "8630 Balatonboglár, Radnóti Miklós utca 8"
                                },
                                {
                                    "Sorszám": "3",
                                    "SZALLAS_ID": "11",
                                    "SZALLAS_NEV": "Partiszél Vendégház",
                                    "HELY": "Balaton-észak",
                                    "CSILLAGOK_SZAMA": "0",
                                    "TIPUS": "vendégház",
                                    "ROGZITETTE": "Béla",
                                    "ROGZ_IDO": "2016-03-22",
                                    "CIM": "8220 Balatonalmádi Neptun u. 23."
                                },
                                {
                                    "Sorszám": "4",
                                    "SZALLAS_ID": "14",
                                    "SZALLAS_NEV": "Nyárfás Vendégház",
                                    "HELY": "Csongrád megye",
                                    "CSILLAGOK_SZAMA": "0",
                                    "TIPUS": "vendégház",
                                    "ROGZITETTE": "Béla",
                                    "ROGZ_IDO": "2016-03-27",
                                    "CIM": "6723 Szeged, Nagy u. 12."
                                },
                                {
                                    "Sorszám": "5",
                                    "SZALLAS_ID": "21",
                                    "SZALLAS_NEV": "Müller Vendégház",
                                    "HELY": "Dél-Somogy",
                                    "CSILLAGOK_SZAMA": "0",
                                    "TIPUS": "vendégház",
                                    "ROGZITETTE": "Béla",
                                    "ROGZ_IDO": "2016-04-07",
                                    "CIM": "7570 Barcs, Magyar u. 10."
                                },
                                {
                                    "Sorszám": "6",
                                    "SZALLAS_ID": "19",
                                    "SZALLAS_NEV": "Nyárfás Vendégház",
                                    "HELY": "Dél-Somogy",
                                    "CSILLAGOK_SZAMA": "0",
                                    "TIPUS": "vendégház",
                                    "ROGZITETTE": "Sára",
                                    "ROGZ_IDO": "2016-04-07",
                                    "CIM": "7570 Barcs, Bajcsy-Zs. u. 53"
                                }
                            ]
                        },
                        "text/html": [
                            "<table>",
                            "<tr><th>Sorszám</th><th>SZALLAS_ID</th><th>SZALLAS_NEV</th><th>HELY</th><th>CSILLAGOK_SZAMA</th><th>TIPUS</th><th>ROGZITETTE</th><th>ROGZ_IDO</th><th>CIM</th></tr>",
                            "<tr><td>1</td><td>7</td><td>Szieszta Apartmanház</td><td>Balaton-dél</td><td>0</td><td>Apartman</td><td>Mari</td><td>2016-03-11</td><td>8630 Balatonboglár, Dózsa György utca 108</td></tr>",
                            "<tr><td>2</td><td>18</td><td>Fortuna Apartman</td><td>Dél-Somogy</td><td>0</td><td>Apartman</td><td>Béla</td><td>2016-04-07</td><td>7570 Barcs, Kossuth u. 13.</td></tr>",
                            "<tr><td>3</td><td>3</td><td>Fortuna Apartman</td><td>Hajdúbihar megye</td><td>0</td><td>Apartman</td><td>Sára</td><td>2016-03-06</td><td>4200 Hajdúszoboszló, Wesselényi utca 56.</td></tr>",
                            "<tr><td>1</td><td>20</td><td>Kollégium</td><td>Budapest</td><td>0</td><td>Diákszálló</td><td>Sára</td><td>2016-04-07</td><td>1146 Budapest, Ajtósi Dürer sor 23.</td></tr>",
                            "<tr><td>1</td><td>8</td><td>Hotel Három Hattyú</td><td>Balaton-dél</td><td>4</td><td>Hotel</td><td>Béla</td><td>2016-03-13</td><td>8623 Balatonföldvár, Rákóczi Ferenc út 45.</td></tr>",
                            "<tr><td>2</td><td>6</td><td>Kentaur Hotel</td><td>Balaton-dél</td><td>3</td><td>Hotel</td><td>Béla</td><td>2016-03-08</td><td>8600 Siófok (Széplak), Akácfa utca 1</td></tr>",
                            "<tr><td>3</td><td>12</td><td>Gold Hotel</td><td>Budapest</td><td>3</td><td>Hotel</td><td>Béla</td><td>2016-03-24</td><td>1016 Budapest, Hegyalja út 12</td></tr>",
                            "<tr><td>4</td><td>10</td><td>Lagúna Hotel</td><td>Budapest</td><td>4</td><td>Hotel</td><td>Sára</td><td>2016-03-20</td><td>1097 Budapest, Albert Flórián út 3</td></tr>",
                            "<tr><td>5</td><td>16</td><td>Bagoly Hotel</td><td>Pest megye</td><td>3</td><td>Hotel</td><td>Mari</td><td>2016-04-01</td><td>2230 Gyömrő, Bergszász u. 5.</td></tr>",
                            "<tr><td>6</td><td>17</td><td>Szarvas Hotel</td><td>Tolna megye</td><td>4</td><td>Hotel</td><td>Béla</td><td>2016-04-04</td><td>7121 Szálka, Petőfi Sándor u.</td></tr>",
                            "<tr><td>1</td><td>9</td><td>Jáde panzió</td><td>Balaton-dél</td><td>3</td><td>panzió</td><td>Mari</td><td>2016-03-16</td><td>8624 Balatonföldvár, Kiss u.2.</td></tr>",
                            "<tr><td>2</td><td>15</td><td>Tímárház Panzió</td><td>Balaton-dél</td><td>3</td><td>panzió</td><td>Béla</td><td>2016-03-29</td><td>8600 Siófok, Virág utca 1</td></tr>",
                            "<tr><td>3</td><td>5</td><td>Fortuna Panzió</td><td>Békés megye</td><td>3</td><td>panzió</td><td>Sára</td><td>2016-03-08</td><td>5900 Orosháza, Gyopárosfürdő Tópart utca 3.</td></tr>",
                            "<tr><td>4</td><td>4</td><td>Fortuna panzió</td><td>Budapest</td><td>3</td><td>panzió</td><td>Béla</td><td>2016-03-07</td><td>1019 Budapest XIV. Cinkotai út 86.</td></tr>",
                            "<tr><td>5</td><td>13</td><td>Riviéra Panzió</td><td>Csongrád megye</td><td>3</td><td>panzió</td><td>Sára</td><td>2016-03-27</td><td>6722 Szeged, Petőfi Sándor út 3.</td></tr>",
                            "<tr><td>1</td><td>2</td><td>Családi Ház</td><td>Balaton-dél</td><td>0</td><td>vendégház</td><td>Béla</td><td>2016-03-02</td><td>8630 Balatonboglár, József Attila utca 25</td></tr>",
                            "<tr><td>2</td><td>1</td><td>Sába-Ház</td><td>Balaton-dél</td><td>0</td><td>vendégház</td><td>Béla</td><td>2016-02-28</td><td>8630 Balatonboglár, Radnóti Miklós utca 8</td></tr>",
                            "<tr><td>3</td><td>11</td><td>Partiszél Vendégház</td><td>Balaton-észak</td><td>0</td><td>vendégház</td><td>Béla</td><td>2016-03-22</td><td>8220 Balatonalmádi Neptun u. 23.</td></tr>",
                            "<tr><td>4</td><td>14</td><td>Nyárfás Vendégház</td><td>Csongrád megye</td><td>0</td><td>vendégház</td><td>Béla</td><td>2016-03-27</td><td>6723 Szeged, Nagy u. 12.</td></tr>",
                            "<tr><td>5</td><td>21</td><td>Müller Vendégház</td><td>Dél-Somogy</td><td>0</td><td>vendégház</td><td>Béla</td><td>2016-04-07</td><td>7570 Barcs, Magyar u. 10.</td></tr>",
                            "<tr><td>6</td><td>19</td><td>Nyárfás Vendégház</td><td>Dél-Somogy</td><td>0</td><td>vendégház</td><td>Sára</td><td>2016-04-07</td><td>7570 Barcs, Bajcsy-Zs. u. 53</td></tr>",
                            "</table>"
                        ]
                    }
                }
            ],
            "execution_count": 2
        },
        {
            "cell_type": "markdown",
            "source": [
                "2. <span style=\"background-color: rgb(255, 255, 255); color: rgb(0, 0, 0); font-family: &quot;Open Sans&quot;, sans-serif; font-size: 14.44px;\">Készítsünk lekérdezést, amely a foglalások adatait jeleníti meg!&nbsp;</span> \n",
                "\n",
                "a. A lista tartalmazzon két új oszlopot, amelyek az adott ügyfél legrövidebb, illetve leghosszabb foglalásának hosszát (a foglalt napok számát) mutatják meg! \n",
                "\n",
                "b. Az oszlopokat nevezzük el értelemszerűen!"
            ],
            "metadata": {
                "azdata_cell_guid": "ea75c103-911f-41a3-a32c-3d40fb3e4e4a"
            },
            "attachments": {}
        },
        {
            "cell_type": "code",
            "source": [
                ""
            ],
            "metadata": {
                "azdata_cell_guid": "222b9618-a8e8-42b4-a8e8-d002257122b7",
                "language": "sql"
            },
            "outputs": [],
            "execution_count": null
        },
        {
            "cell_type": "markdown",
            "source": [
                "```\n",
                "3. Készítsük listát, amely megjeleníti az ügyfelek azonosítóját, nevét és a foglalásainak kezdő- és befejező dátumát, valamint azt, hogy a foglalás összesen hány főre történt! \n",
                "```\n",
                "\n",
                "a. Egy új oszlopban jelenítsük meg azt is, hogy az ügyfél előző három foglalása összesen hány főre történt!\n",
                "\n",
                "![](https://moodle.uni-corvinus.hu/theme/image.php/adaptable/atto_h5p/1709548862/icon)"
            ],
            "metadata": {
                "azdata_cell_guid": "d7876bb9-76d0-4d07-baed-3cb17b2f96c3"
            },
            "attachments": {}
        },
        {
            "cell_type": "code",
            "source": [
                ""
            ],
            "metadata": {
                "azdata_cell_guid": "56ec19ce-e249-4551-b2a8-f17569765acc",
                "language": "sql"
            },
            "outputs": [],
            "execution_count": null
        },
        {
            "cell_type": "markdown",
            "source": [
                "4. <span style=\"background-color: rgb(255, 255, 255); color: rgb(0, 0, 0); font-family: &quot;Open Sans&quot;, sans-serif; font-size: 14.44px;\">Készítsünk listát arról, hogy az egyes szálláshelyeken évente hány foglalás történt!&nbsp;</span> \n",
                "\n",
                "a. A lista jelenítse meg a szálláshely azonosítóját, nevét, az évet, és a foglalások számát!\n",
                "\n",
                "b. Egy új oszlopban jelenítsük meg a szálláshely eddigi éves foglalásainak számát is (az aktuálisat is beleértve). \n",
                "\n",
                "c. Az évnél a METTOL dátumot vegyük figyelembe! \n",
                "\n",
                "d. A lista ne tartalmazzon duplikált sorokat!"
            ],
            "metadata": {
                "azdata_cell_guid": "8e7fef82-8022-49a0-8255-fc2846c2134b"
            },
            "attachments": {}
        },
        {
            "cell_type": "code",
            "source": [
                "SELECT DISTINCT szh.SZALLAS_ID,\r\n",
                "        YEAR(f.METTOL),\r\n",
                "        COUNT(*) OVER(PARTITION BY szh.SZALLAS_ID, YEAR(f.METTOL ))\r\n",
                "        COUNT(*) OVER (PARTITION BY szh.SZALLAS_ID, YEAR(f.METTOL)\r\n",
                "                        ORDER BY f.METTOL)\r\n",
                "FROM szallashely szh JOIN Szoba sz ON szh.SZALLAS_ID=sz.SZALLAS_FK\r\n",
                "                    JOIN Foglalas f ON sz.SZOBA_ID=f.SZOBA_FK\r\n",
                ""
            ],
            "metadata": {
                "azdata_cell_guid": "36f7b396-4a1f-45e5-8720-2302537c91bc",
                "language": "sql"
            },
            "outputs": [],
            "execution_count": null
        },
        {
            "cell_type": "markdown",
            "source": [
                "5. <span style=\"background-color: rgb(255, 255, 255); color: rgb(0, 0, 0); font-family: &quot;Open Sans&quot;, sans-serif; font-size: 14.44px;\">Készítsük listát a szálláshelyekről! A lista tartalmazza a szálláshely azonosítóját, nevét, és a csillagok számát csillagszám szerint csökkenő, azon belül szállásnév szerint növekvő sorrendben!&nbsp;</span> \n",
                "\n",
                "a. Vegyünk fel két új oszlopot, amely a sorrend szerint előző szálláshely nevét, illetve azonosítóját is megjeleníti!"
            ],
            "metadata": {
                "azdata_cell_guid": "84239ca2-6b5e-49f5-9860-d44c11d6de32"
            },
            "attachments": {}
        },
        {
            "cell_type": "code",
            "source": [
                ""
            ],
            "metadata": {
                "azdata_cell_guid": "06d9a62b-9430-424b-a135-d80e675f0eb3",
                "language": "sql"
            },
            "outputs": [],
            "execution_count": null
        },
        {
            "cell_type": "markdown",
            "source": [
                "6. <span style=\"background-color: rgb(255, 255, 255); color: rgb(0, 0, 0); font-family: &quot;Open Sans&quot;, sans-serif; font-size: 14.44px;\">Listázzuk azon termékeket, amelyekből az átlagosnál kevesebb van raktáron!&nbsp;</span> \n",
                "\n",
                "a. Csak a termék kódja és megnevezése jelenjen meg!"
            ],
            "metadata": {
                "azdata_cell_guid": "b0d15045-3c43-4f3a-b8d4-76b4f24e5546"
            },
            "attachments": {}
        },
        {
            "cell_type": "code",
            "source": [
                "SELECT TERMEKKOD, \r\n",
                "        MEGNEVEZES\r\n",
                "FROM Termek\r\n",
                "WHERE keszlet < (SELECT AVG(keszlet)\r\n",
                "                FROM Termek)"
            ],
            "metadata": {
                "azdata_cell_guid": "f2b7400d-1255-40ac-9250-4d57f9da5357",
                "language": "sql"
            },
            "outputs": [
                {
                    "output_type": "display_data",
                    "data": {
                        "text/html": "(437 rows affected)"
                    },
                    "metadata": {}
                },
                {
                    "output_type": "display_data",
                    "data": {
                        "text/html": "Total execution time: 00:00:00.012"
                    },
                    "metadata": {}
                },
                {
                    "output_type": "execute_result",
                    "metadata": {},
                    "execution_count": 4,
                    "data": {
                        "application/vnd.dataresource+json": {
                            "schema": {
                                "fields": [
                                    {
                                        "name": "TERMEKKOD"
                                    },
                                    {
                                        "name": "MEGNEVEZES"
                                    }
                                ]
                            },
                            "data": [
                                {
                                    "TERMEKKOD": "01010110T",
                                    "MEGNEVEZES": "Fotópapír A/4 fényes"
                                },
                                {
                                    "TERMEKKOD": "01010304T",
                                    "MEGNEVEZES": "Öntapadós hologramos papír A/4"
                                },
                                {
                                    "TERMEKKOD": "01020300T",
                                    "MEGNEVEZES": "Oklevél A/4 színes"
                                },
                                {
                                    "TERMEKKOD": "01030091T",
                                    "MEGNEVEZES": "Emléklap A/5"
                                },
                                {
                                    "TERMEKKOD": "01030092T",
                                    "MEGNEVEZES": "Esküvői meghívó"
                                },
                                {
                                    "TERMEKKOD": "01040307T",
                                    "MEGNEVEZES": "Pausz papír A/4"
                                },
                                {
                                    "TERMEKKOD": "01040502T",
                                    "MEGNEVEZES": "Előlap spirálhoz"
                                },
                                {
                                    "TERMEKKOD": "01080093T",
                                    "MEGNEVEZES": "Fax papír 15 m"
                                },
                                {
                                    "TERMEKKOD": "01080512T",
                                    "MEGNEVEZES": "Öntapadó A/4"
                                },
                                {
                                    "TERMEKKOD": "01080513T",
                                    "MEGNEVEZES": "Selyemfényű karton A/4"
                                },
                                {
                                    "TERMEKKOD": "01090499T",
                                    "MEGNEVEZES": "Color Copy A/4 250 g"
                                },
                                {
                                    "TERMEKKOD": "01090500T",
                                    "MEGNEVEZES": "Color Copy A4 200 g"
                                },
                                {
                                    "TERMEKKOD": "01090501T",
                                    "MEGNEVEZES": "Kreatív A/4 300g "
                                },
                                {
                                    "TERMEKKOD": "01090515T",
                                    "MEGNEVEZES": "Színes A/3 160 gr IQ"
                                },
                                {
                                    "TERMEKKOD": "01090516T",
                                    "MEGNEVEZES": "Színes karton A4"
                                },
                                {
                                    "TERMEKKOD": "01090517T",
                                    "MEGNEVEZES": "Színes ofszet B/4"
                                },
                                {
                                    "TERMEKKOD": "01100070T",
                                    "MEGNEVEZES": "Dekorációs karton"
                                },
                                {
                                    "TERMEKKOD": "01100072T",
                                    "MEGNEVEZES": "Dipa A/4 keretezett"
                                },
                                {
                                    "TERMEKKOD": "01100094T",
                                    "MEGNEVEZES": "Fénymásoló papír DataCopy"
                                },
                                {
                                    "TERMEKKOD": "01100095T",
                                    "MEGNEVEZES": "Fénymásoló papír GetCopy"
                                },
                                {
                                    "TERMEKKOD": "01100096T",
                                    "MEGNEVEZES": "Fénymásoló papír Qconnect"
                                },
                                {
                                    "TERMEKKOD": "01100496T",
                                    "MEGNEVEZES": "Színes másoló a/4 80g"
                                },
                                {
                                    "TERMEKKOD": "01100497T",
                                    "MEGNEVEZES": "Color Copy 160 g-os "
                                },
                                {
                                    "TERMEKKOD": "01100503T",
                                    "MEGNEVEZES": "Color Copy A4 120 g"
                                },
                                {
                                    "TERMEKKOD": "01100504T",
                                    "MEGNEVEZES": "Fehér másoló A/3"
                                },
                                {
                                    "TERMEKKOD": "01100505T",
                                    "MEGNEVEZES": "Fehér másoló A/4"
                                },
                                {
                                    "TERMEKKOD": "01100509T",
                                    "MEGNEVEZES": "Márványos A/4"
                                },
                                {
                                    "TERMEKKOD": "01100510T",
                                    "MEGNEVEZES": "Kreatív A/4 120g "
                                },
                                {
                                    "TERMEKKOD": "02010028T",
                                    "MEGNEVEZES": "Árazószalag "
                                },
                                {
                                    "TERMEKKOD": "02020029T",
                                    "MEGNEVEZES": "Átírótömb A/6"
                                },
                                {
                                    "TERMEKKOD": "02020032T",
                                    "MEGNEVEZES": "Beírókönyv A5 "
                                },
                                {
                                    "TERMEKKOD": "02020033T",
                                    "MEGNEVEZES": "Beírókönyv A4"
                                },
                                {
                                    "TERMEKKOD": "02020037T",
                                    "MEGNEVEZES": "Bevételi pénztárbizonylat 3×25"
                                },
                                {
                                    "TERMEKKOD": "02020245T",
                                    "MEGNEVEZES": "Kiadási pénztárbizonylat 2×25"
                                },
                                {
                                    "TERMEKKOD": "02030040T",
                                    "MEGNEVEZES": "Boríték LA 4 francia"
                                },
                                {
                                    "TERMEKKOD": "02040025T",
                                    "MEGNEVEZES": "Álló irattartó karton"
                                },
                                {
                                    "TERMEKKOD": "02040145T",
                                    "MEGNEVEZES": "Gemkapocs 28 mm"
                                },
                                {
                                    "TERMEKKOD": "02040147T",
                                    "MEGNEVEZES": "Genotherm lefűzhető A/5"
                                },
                                {
                                    "TERMEKKOD": "02040148T",
                                    "MEGNEVEZES": "Genotherm lefűzhető A4 10db-os"
                                },
                                {
                                    "TERMEKKOD": "02040176T",
                                    "MEGNEVEZES": "Gyorsfűző dosszié fehér"
                                },
                                {
                                    "TERMEKKOD": "02040177T",
                                    "MEGNEVEZES": "Gyorsfűző műa."
                                },
                                {
                                    "TERMEKKOD": "02040178T",
                                    "MEGNEVEZES": "Gyorsfűző műa."
                                },
                                {
                                    "TERMEKKOD": "02040194T",
                                    "MEGNEVEZES": "Hibajav.roll.Pritt 4,2mm"
                                },
                                {
                                    "TERMEKKOD": "02040195T",
                                    "MEGNEVEZES": "Hibajavító ecsetes Aqua"
                                },
                                {
                                    "TERMEKKOD": "02040196T",
                                    "MEGNEVEZES": "Hibajavító készlet Blanco"
                                },
                                {
                                    "TERMEKKOD": "02040197T",
                                    "MEGNEVEZES": "Hibajavító lap "
                                },
                                {
                                    "TERMEKKOD": "02040198T",
                                    "MEGNEVEZES": "Hibajavító roller 5 mm"
                                },
                                {
                                    "TERMEKKOD": "02040199T",
                                    "MEGNEVEZES": "Hibajavító roller Pax"
                                },
                                {
                                    "TERMEKKOD": "02040200T",
                                    "MEGNEVEZES": "Hibajavító Kores mini pen"
                                },
                                {
                                    "TERMEKKOD": "02040206T",
                                    "MEGNEVEZES": "Írásvetítő fólia"
                                },
                                {
                                    "TERMEKKOD": "02040207T",
                                    "MEGNEVEZES": "Iratgyűjtő ESSELTE ablakos"
                                },
                                {
                                    "TERMEKKOD": "02040208T",
                                    "MEGNEVEZES": "Iratgyűjtő fehér"
                                },
                                {
                                    "TERMEKKOD": "02040209T",
                                    "MEGNEVEZES": "Iratsín fehér"
                                },
                                {
                                    "TERMEKKOD": "02040211T",
                                    "MEGNEVEZES": "Iratrendező ESSELTE"
                                },
                                {
                                    "TERMEKKOD": "02040214T",
                                    "MEGNEVEZES": "Iromány fedél feles"
                                },
                                {
                                    "TERMEKKOD": "02040290T",
                                    "MEGNEVEZES": "Naptár 24-es"
                                },
                                {
                                    "TERMEKKOD": "02040291T",
                                    "MEGNEVEZES": "Naptárhát kicsi"
                                },
                                {
                                    "TERMEKKOD": "02040294T",
                                    "MEGNEVEZES": "Notesz A/5 sima"
                                },
                                {
                                    "TERMEKKOD": "02040298T",
                                    "MEGNEVEZES": "Notesz mintás"
                                },
                                {
                                    "TERMEKKOD": "02040308T",
                                    "MEGNEVEZES": "Pénztárgépsz. 2 pl. nem öníró"
                                },
                                {
                                    "TERMEKKOD": "02040309T",
                                    "MEGNEVEZES": "Pénztárgépszalag 2pl SC 57.5/60"
                                },
                                {
                                    "TERMEKKOD": "02040401T",
                                    "MEGNEVEZES": "Tűzőgép Boxer 10"
                                },
                                {
                                    "TERMEKKOD": "02040402T",
                                    "MEGNEVEZES": "Tűzőgép Boxer "
                                },
                                {
                                    "TERMEKKOD": "02040403T",
                                    "MEGNEVEZES": "Tűzőgép SAX 239"
                                },
                                {
                                    "TERMEKKOD": "02040404T",
                                    "MEGNEVEZES": "Tűzőgép EAGLE"
                                },
                                {
                                    "TERMEKKOD": "02040405T",
                                    "MEGNEVEZES": "Tűzőkapocs 10-es"
                                },
                                {
                                    "TERMEKKOD": "02040506T",
                                    "MEGNEVEZES": "Fólia tasakos A4 125 mik."
                                },
                                {
                                    "TERMEKKOD": "02040507T",
                                    "MEGNEVEZES": "Fólia tasakos A4 80 mik."
                                },
                                {
                                    "TERMEKKOD": "02040508T",
                                    "MEGNEVEZES": "Fólia tasakos A4100 mik."
                                },
                                {
                                    "TERMEKKOD": "02050460T",
                                    "MEGNEVEZES": "Boríték C/4-es"
                                },
                                {
                                    "TERMEKKOD": "02050461T",
                                    "MEGNEVEZES": "Boríték B/4-es"
                                },
                                {
                                    "TERMEKKOD": "02060034T",
                                    "MEGNEVEZES": "Bélyegzőfesték "
                                },
                                {
                                    "TERMEKKOD": "02060038T",
                                    "MEGNEVEZES": "Bélyegző IDEAL 50"
                                },
                                {
                                    "TERMEKKOD": "02060039T",
                                    "MEGNEVEZES": "Bélyegző párna"
                                },
                                {
                                    "TERMEKKOD": "02060447T",
                                    "MEGNEVEZES": "Bélyegző pocket"
                                },
                                {
                                    "TERMEKKOD": "02060448T",
                                    "MEGNEVEZES": "Bélyegző RP 18-47"
                                },
                                {
                                    "TERMEKKOD": "02080069T",
                                    "MEGNEVEZES": "CD tartó tok"
                                },
                                {
                                    "TERMEKKOD": "02080081T",
                                    "MEGNEVEZES": "Dvd"
                                },
                                {
                                    "TERMEKKOD": "02080109T",
                                    "MEGNEVEZES": "Floppy lemez"
                                },
                                {
                                    "TERMEKKOD": "02080226T",
                                    "MEGNEVEZES": "Kapocskiszedő"
                                },
                                {
                                    "TERMEKKOD": "02080431T",
                                    "MEGNEVEZES": "Álló irattartó"
                                },
                                {
                                    "TERMEKKOD": "02080432T",
                                    "MEGNEVEZES": "Tokos iratrendező"
                                },
                                {
                                    "TERMEKKOD": "02080433T",
                                    "MEGNEVEZES": "Ragasztószalag 19 mm-es"
                                },
                                {
                                    "TERMEKKOD": "02080434T",
                                    "MEGNEVEZES": "Mappa müa A/4"
                                },
                                {
                                    "TERMEKKOD": "02080436T",
                                    "MEGNEVEZES": "Irattartó müa. boríték A/4"
                                },
                                {
                                    "TERMEKKOD": "02080449T",
                                    "MEGNEVEZES": "Térképtű színes"
                                },
                                {
                                    "TERMEKKOD": "02080450T",
                                    "MEGNEVEZES": "Gémkapocs 28-as színes"
                                },
                                {
                                    "TERMEKKOD": "02080451T",
                                    "MEGNEVEZES": "Gémkapocs 50-es"
                                },
                                {
                                    "TERMEKKOD": "02080452T",
                                    "MEGNEVEZES": "Tűzőgép mini"
                                },
                                {
                                    "TERMEKKOD": "02080453T",
                                    "MEGNEVEZES": "Lyukasztó EAGLE"
                                },
                                {
                                    "TERMEKKOD": "02080454T",
                                    "MEGNEVEZES": "Lyukasztó BOXER"
                                },
                                {
                                    "TERMEKKOD": "02080455T",
                                    "MEGNEVEZES": "Festékpatron BCI-3BK"
                                },
                                {
                                    "TERMEKKOD": "02080456T",
                                    "MEGNEVEZES": "Genoterm HERLITZ 10-es"
                                },
                                {
                                    "TERMEKKOD": "02080511T",
                                    "MEGNEVEZES": "Oki toner C"
                                },
                                {
                                    "TERMEKKOD": "02080514T",
                                    "MEGNEVEZES": "Spirál 1/4 "
                                },
                                {
                                    "TERMEKKOD": "03010342T",
                                    "MEGNEVEZES": "Ragasztószalag  TIXO"
                                },
                                {
                                    "TERMEKKOD": "03010344T",
                                    "MEGNEVEZES": "Ragasztószalag nagy 12 mm"
                                },
                                {
                                    "TERMEKKOD": "03010345T",
                                    "MEGNEVEZES": "Ragasztószalag széles barna"
                                },
                                {
                                    "TERMEKKOD": "03050076T",
                                    "MEGNEVEZES": "Díszkötöző szalag metál nagy"
                                },
                                {
                                    "TERMEKKOD": "03050077T",
                                    "MEGNEVEZES": "Diszkötöző szalag arany"
                                },
                                {
                                    "TERMEKKOD": "03050078T",
                                    "MEGNEVEZES": "Díszkötöző szalag metál kicsi"
                                },
                                {
                                    "TERMEKKOD": "03080003T",
                                    "MEGNEVEZES": "Ajándék cs. tasak italos"
                                },
                                {
                                    "TERMEKKOD": "03080004T",
                                    "MEGNEVEZES": "Ajándék cs. tasak italos, fólia"
                                },
                                {
                                    "TERMEKKOD": "03080006T",
                                    "MEGNEVEZES": "Ajándék cs. tasak mintás kicsi"
                                },
                                {
                                    "TERMEKKOD": "03080009T",
                                    "MEGNEVEZES": "Ajándék csom. 100x70 metál"
                                },
                                {
                                    "TERMEKKOD": "03080012T",
                                    "MEGNEVEZES": "Ajándék csom. 200x70"
                                },
                                {
                                    "TERMEKKOD": "03080013T",
                                    "MEGNEVEZES": "Ajándék csom. 50x70 húsvéti"
                                },
                                {
                                    "TERMEKKOD": "03080014T",
                                    "MEGNEVEZES": "Ajándék csom. 70x50 metál"
                                },
                                {
                                    "TERMEKKOD": "03080015T",
                                    "MEGNEVEZES": "Ajándék csom. gyűrt"
                                },
                                {
                                    "TERMEKKOD": "03080016T",
                                    "MEGNEVEZES": "házt.csom.  5 ív"
                                },
                                {
                                    "TERMEKKOD": "03080017T",
                                    "MEGNEVEZES": "iskolai csomagoló papír"
                                },
                                {
                                    "TERMEKKOD": "03080019T",
                                    "MEGNEVEZES": "Ajándék csom. Krepp"
                                },
                                {
                                    "TERMEKKOD": "03080020T",
                                    "MEGNEVEZES": "Ajándék csom. nagy  "
                                },
                                {
                                    "TERMEKKOD": "03080021T",
                                    "MEGNEVEZES": "Ajándék csom. vékony"
                                },
                                {
                                    "TERMEKKOD": "03080030T",
                                    "MEGNEVEZES": "Ajándék cs. húsvéti 200x70"
                                },
                                {
                                    "TERMEKKOD": "03080439T",
                                    "MEGNEVEZES": "Italtartó doboz"
                                },
                                {
                                    "TERMEKKOD": "04020445T",
                                    "MEGNEVEZES": "Határidő napló 2010-s"
                                },
                                {
                                    "TERMEKKOD": "04030235T",
                                    "MEGNEVEZES": "Képeslap karácsonyi borítékos"
                                },
                                {
                                    "TERMEKKOD": "04030237T",
                                    "MEGNEVEZES": "Képeslap kerek"
                                },
                                {
                                    "TERMEKKOD": "04030238T",
                                    "MEGNEVEZES": "Képeslap stancolt"
                                },
                                {
                                    "TERMEKKOD": "04030239T",
                                    "MEGNEVEZES": "Képeslap stancolt szív"
                                },
                                {
                                    "TERMEKKOD": "04030243T",
                                    "MEGNEVEZES": "Képkirakó Dirib-darab"
                                },
                                {
                                    "TERMEKKOD": "04030261T",
                                    "MEGNEVEZES": "Levélpapír állatos"
                                },
                                {
                                    "TERMEKKOD": "04030262T",
                                    "MEGNEVEZES": "Levélpapír sima"
                                },
                                {
                                    "TERMEKKOD": "04030263T",
                                    "MEGNEVEZES": "Levélpapír szett"
                                },
                                {
                                    "TERMEKKOD": "04030264T",
                                    "MEGNEVEZES": "Levélpapír szett "
                                },
                                {
                                    "TERMEKKOD": "04030265T",
                                    "MEGNEVEZES": "Levélpapír szett natur, mintás"
                                },
                                {
                                    "TERMEKKOD": "04030266T",
                                    "MEGNEVEZES": "Levélpapír szett virágos"
                                },
                                {
                                    "TERMEKKOD": "04030285T",
                                    "MEGNEVEZES": "Mikulás zacskó"
                                },
                                {
                                    "TERMEKKOD": "04030286T",
                                    "MEGNEVEZES": "Műanyag állatok"
                                },
                                {
                                    "TERMEKKOD": "04030288T",
                                    "MEGNEVEZES": "Műanyag pohár 1 dl-es"
                                },
                                {
                                    "TERMEKKOD": "04040387T",
                                    "MEGNEVEZES": "Tenisz labda"
                                },
                                {
                                    "TERMEKKOD": "04050022T",
                                    "MEGNEVEZES": "Álarc"
                                },
                                {
                                    "TERMEKKOD": "04050023T",
                                    "MEGNEVEZES": "Álarc fejdísz"
                                },
                                {
                                    "TERMEKKOD": "04050024T",
                                    "MEGNEVEZES": "Álarc szemüveg"
                                },
                                {
                                    "TERMEKKOD": "04050035T",
                                    "MEGNEVEZES": "Bérlet tok"
                                },
                                {
                                    "TERMEKKOD": "04050073T",
                                    "MEGNEVEZES": "Díszdoboz kar."
                                },
                                {
                                    "TERMEKKOD": "04050074T",
                                    "MEGNEVEZES": "Díszdoboz tollnak 2 db-os"
                                },
                                {
                                    "TERMEKKOD": "04050075T",
                                    "MEGNEVEZES": "Díszdoboz tollnak 2 db-os keskeny"
                                },
                                {
                                    "TERMEKKOD": "04050171T",
                                    "MEGNEVEZES": "Gumilabda közepes"
                                },
                                {
                                    "TERMEKKOD": "04050187T",
                                    "MEGNEVEZES": "Hajgumi macis"
                                },
                                {
                                    "TERMEKKOD": "04050203T",
                                    "MEGNEVEZES": "Hűtőmágnes"
                                },
                                {
                                    "TERMEKKOD": "04050204T",
                                    "MEGNEVEZES": "Hűtőmágnes WD"
                                },
                                {
                                    "TERMEKKOD": "04050220T",
                                    "MEGNEVEZES": "Játék autó"
                                },
                                {
                                    "TERMEKKOD": "04050221T",
                                    "MEGNEVEZES": "Játékautó Blisteres"
                                },
                                {
                                    "TERMEKKOD": "04050222T",
                                    "MEGNEVEZES": "Játékautó elemes"
                                },
                                {
                                    "TERMEKKOD": "04050223T",
                                    "MEGNEVEZES": "Játékautó mini"
                                },
                                {
                                    "TERMEKKOD": "04050224T",
                                    "MEGNEVEZES": "Jelzőkréta"
                                },
                                {
                                    "TERMEKKOD": "04050252T",
                                    "MEGNEVEZES": "Kulcstartó Csőrikés"
                                },
                                {
                                    "TERMEKKOD": "04050253T",
                                    "MEGNEVEZES": "Kulcstartó figurás"
                                },
                                {
                                    "TERMEKKOD": "04050254T",
                                    "MEGNEVEZES": "Kulcstartó intarziás állatos"
                                },
                                {
                                    "TERMEKKOD": "04050269T",
                                    "MEGNEVEZES": "Lufi hullámos"
                                },
                                {
                                    "TERMEKKOD": "04050320T",
                                    "MEGNEVEZES": "Plüss  QX állatok"
                                },
                                {
                                    "TERMEKKOD": "04050322T",
                                    "MEGNEVEZES": "Plüss sárkány"
                                },
                                {
                                    "TERMEKKOD": "04050358T",
                                    "MEGNEVEZES": "Strandlabda "
                                },
                                {
                                    "TERMEKKOD": "04080270T",
                                    "MEGNEVEZES": "Mappa bőr A5"
                                },
                                {
                                    "TERMEKKOD": "04080271T",
                                    "MEGNEVEZES": "Mappa PVC villámzáras"
                                },
                                {
                                    "TERMEKKOD": "04080272T",
                                    "MEGNEVEZES": "Mappa PVC villámzáras  képes"
                                },
                                {
                                    "TERMEKKOD": "04080443T",
                                    "MEGNEVEZES": "Emlékkönyv lakatos"
                                },
                                {
                                    "TERMEKKOD": "04110066T",
                                    "MEGNEVEZES": "Címke 8 db-os"
                                },
                                {
                                    "TERMEKKOD": "04110067T",
                                    "MEGNEVEZES": "Címke WD. állat"
                                },
                                {
                                    "TERMEKKOD": "04110068T",
                                    "MEGNEVEZES": "Címke egyszínű"
                                },
                                {
                                    "TERMEKKOD": "04110227T",
                                    "MEGNEVEZES": "Képeslap  borítékos"
                                },
                                {
                                    "TERMEKKOD": "04110228T",
                                    "MEGNEVEZES": "Képeslap \"Nászajándék\""
                                },
                                {
                                    "TERMEKKOD": "04110229T",
                                    "MEGNEVEZES": "Képeslap \"Részvét\""
                                },
                                {
                                    "TERMEKKOD": "04110230T",
                                    "MEGNEVEZES": "Képeslap humoros "
                                },
                                {
                                    "TERMEKKOD": "04110231T",
                                    "MEGNEVEZES": "Képeslap humoros borítékos"
                                },
                                {
                                    "TERMEKKOD": "04110232T",
                                    "MEGNEVEZES": "Képeslap humoros kaparós"
                                },
                                {
                                    "TERMEKKOD": "04110233T",
                                    "MEGNEVEZES": "Képeslap humoros"
                                },
                                {
                                    "TERMEKKOD": "04110258T",
                                    "MEGNEVEZES": "Lampion"
                                },
                                {
                                    "TERMEKKOD": "04110274T",
                                    "MEGNEVEZES": "Matrica autóra H"
                                },
                                {
                                    "TERMEKKOD": "04110275T",
                                    "MEGNEVEZES": "Matrica motoros kicsi"
                                },
                                {
                                    "TERMEKKOD": "04110276T",
                                    "MEGNEVEZES": "Matrica Stickers nagy állatos"
                                },
                                {
                                    "TERMEKKOD": "04110277T",
                                    "MEGNEVEZES": "Matrica Stickers szíves"
                                },
                                {
                                    "TERMEKKOD": "04110278T",
                                    "MEGNEVEZES": "Matrica Test ékszer tattoo"
                                },
                                {
                                    "TERMEKKOD": "04110279T",
                                    "MEGNEVEZES": "Matrica tetoválás"
                                },
                                {
                                    "TERMEKKOD": "04110280T",
                                    "MEGNEVEZES": "Matrica tetoválós kicsi"
                                },
                                {
                                    "TERMEKKOD": "04110281T",
                                    "MEGNEVEZES": "Matrica világítós "
                                },
                                {
                                    "TERMEKKOD": "04110282T",
                                    "MEGNEVEZES": "Matrica WD kicsi"
                                },
                                {
                                    "TERMEKKOD": "04110283T",
                                    "MEGNEVEZES": "Meghívó állatos"
                                },
                                {
                                    "TERMEKKOD": "04110284T",
                                    "MEGNEVEZES": "Meghívó borítékos"
                                },
                                {
                                    "TERMEKKOD": "04110362T",
                                    "MEGNEVEZES": "Szalvéta gyűjtőknek"
                                },
                                {
                                    "TERMEKKOD": "05010026T",
                                    "MEGNEVEZES": "Alufólia 10 m-es"
                                },
                                {
                                    "TERMEKKOD": "05010369T",
                                    "MEGNEVEZES": "Szemetes zsák 60 literes"
                                },
                                {
                                    "TERMEKKOD": "05010370T",
                                    "MEGNEVEZES": "Szilvia csomagoló"
                                },
                                {
                                    "TERMEKKOD": "05040310T",
                                    "MEGNEVEZES": "Pill.ragasztó"
                                },
                                {
                                    "TERMEKKOD": "05040348T",
                                    "MEGNEVEZES": "Rajzszeg színes"
                                },
                                {
                                    "TERMEKKOD": "05040349T",
                                    "MEGNEVEZES": "Rajzszeg"
                                },
                                {
                                    "TERMEKKOD": "05050045T",
                                    "MEGNEVEZES": "Celofán"
                                },
                                {
                                    "TERMEKKOD": "05050046T",
                                    "MEGNEVEZES": "Celofán 50 db-os"
                                },
                                {
                                    "TERMEKKOD": "05050170T",
                                    "MEGNEVEZES": "Gumigyűrű"
                                },
                                {
                                    "TERMEKKOD": "05050346T",
                                    "MEGNEVEZES": "Rágógumi Orbit"
                                },
                                {
                                    "TERMEKKOD": "05080340T",
                                    "MEGNEVEZES": "Ragasztó, Technokol 35g kék"
                                },
                                {
                                    "TERMEKKOD": "05080341T",
                                    "MEGNEVEZES": "Ragasztó, Technokol 35g piros"
                                },
                                {
                                    "TERMEKKOD": "05110359T",
                                    "MEGNEVEZES": "Szalvéta "
                                },
                                {
                                    "TERMEKKOD": "05110360T",
                                    "MEGNEVEZES": "Szalvéta egyszínű"
                                },
                                {
                                    "TERMEKKOD": "05110361T",
                                    "MEGNEVEZES": "Szalvéta Goma húsvéti"
                                },
                                {
                                    "TERMEKKOD": "05110363T",
                                    "MEGNEVEZES": "Szalvéta dekor"
                                },
                                {
                                    "TERMEKKOD": "05110364T",
                                    "MEGNEVEZES": "Szalvéta kicsi virágos"
                                },
                                {
                                    "TERMEKKOD": "06010036T",
                                    "MEGNEVEZES": "Betűtartó sin"
                                },
                                {
                                    "TERMEKKOD": "06010082T",
                                    "MEGNEVEZES": "Ecset Centrum 10,11,12"
                                },
                                {
                                    "TERMEKKOD": "06010083T",
                                    "MEGNEVEZES": "Ecset Centrum 7,8,9"
                                },
                                {
                                    "TERMEKKOD": "06010084T",
                                    "MEGNEVEZES": "Ecset Deák 2-es"
                                },
                                {
                                    "TERMEKKOD": "06010085T",
                                    "MEGNEVEZES": "Ecset Lizzy 10-es"
                                },
                                {
                                    "TERMEKKOD": "06010111T",
                                    "MEGNEVEZES": "Füzet  A/4 "
                                },
                                {
                                    "TERMEKKOD": "06010112T",
                                    "MEGNEVEZES": "Füzet  A4 mintás"
                                },
                                {
                                    "TERMEKKOD": "06010114T",
                                    "MEGNEVEZES": "Füzet A/5 hangjegy 36/16"
                                },
                                {
                                    "TERMEKKOD": "06010115T",
                                    "MEGNEVEZES": "Füzet A/5, mintás"
                                },
                                {
                                    "TERMEKKOD": "06010201T",
                                    "MEGNEVEZES": "Hőmérő, műa."
                                },
                                {
                                    "TERMEKKOD": "06010202T",
                                    "MEGNEVEZES": "Hurkapálca 10 db-os"
                                },
                                {
                                    "TERMEKKOD": "06010305T",
                                    "MEGNEVEZES": "Papírcenti 100 cm-es"
                                },
                                {
                                    "TERMEKKOD": "06010365T",
                                    "MEGNEVEZES": "Számegyenes"
                                },
                                {
                                    "TERMEKKOD": "06010366T",
                                    "MEGNEVEZES": "Számológép Roxin"
                                },
                                {
                                    "TERMEKKOD": "06010367T",
                                    "MEGNEVEZES": "Számolókorong"
                                },
                                {
                                    "TERMEKKOD": "06010368T",
                                    "MEGNEVEZES": "Számolópálca"
                                },
                                {
                                    "TERMEKKOD": "06010375T",
                                    "MEGNEVEZES": "Szögmérő 180 fokos műa."
                                },
                                {
                                    "TERMEKKOD": "06010376T",
                                    "MEGNEVEZES": "Szögmérő papír"
                                },
                                {
                                    "TERMEKKOD": "06010377T",
                                    "MEGNEVEZES": "Szögmérő színes"
                                },
                                {
                                    "TERMEKKOD": "06040089T",
                                    "MEGNEVEZES": "Ellenőrzőborító"
                                },
                                {
                                    "TERMEKKOD": "06040175T",
                                    "MEGNEVEZES": "Gumis mappa Köbüki"
                                },
                                {
                                    "TERMEKKOD": "06040179T",
                                    "MEGNEVEZES": "Gyurma színes 200 g-os"
                                },
                                {
                                    "TERMEKKOD": "06040180T",
                                    "MEGNEVEZES": "Gyurma színes natúr"
                                },
                                {
                                    "TERMEKKOD": "06040183T",
                                    "MEGNEVEZES": "Gyűrűskönyv bet. A/5"
                                },
                                {
                                    "TERMEKKOD": "06040184T",
                                    "MEGNEVEZES": "Gyűrűskönyv betét A/5"
                                },
                                {
                                    "TERMEKKOD": "06040186T",
                                    "MEGNEVEZES": "Gyűrűskönyv színes"
                                },
                                {
                                    "TERMEKKOD": "06040205T",
                                    "MEGNEVEZES": "Indigó Pelikán"
                                },
                                {
                                    "TERMEKKOD": "06040206T",
                                    "MEGNEVEZES": "kék indigó"
                                },
                                {
                                    "TERMEKKOD": "06040212T",
                                    "MEGNEVEZES": "Írólap 10-50 ffam."
                                },
                                {
                                    "TERMEKKOD": "06040213T",
                                    "MEGNEVEZES": "Írólap 20-50 "
                                },
                                {
                                    "TERMEKKOD": "06040246T",
                                    "MEGNEVEZES": "Körző"
                                },
                                {
                                    "TERMEKKOD": "06040248T",
                                    "MEGNEVEZES": "Körző maped"
                                },
                                {
                                    "TERMEKKOD": "06040323T",
                                    "MEGNEVEZES": "Post-it 51×38 100 lapos"
                                },
                                {
                                    "TERMEKKOD": "06040324T",
                                    "MEGNEVEZES": "Post-it 75×75 100 lapos"
                                },
                                {
                                    "TERMEKKOD": "06040326T",
                                    "MEGNEVEZES": "Radír KOH-I-NOR 80"
                                },
                                {
                                    "TERMEKKOD": "06040330T",
                                    "MEGNEVEZES": "Radír Tikky 30 "
                                },
                                {
                                    "TERMEKKOD": "06040331T",
                                    "MEGNEVEZES": "Radír Tikky 40 "
                                },
                                {
                                    "TERMEKKOD": "06040347T",
                                    "MEGNEVEZES": "Rajzlap A/4 10db ffam."
                                },
                                {
                                    "TERMEKKOD": "06040350T",
                                    "MEGNEVEZES": "Regiszteres füzet A4"
                                },
                                {
                                    "TERMEKKOD": "06040351T",
                                    "MEGNEVEZES": "Regiszteres füzet A5 Hightech"
                                },
                                {
                                    "TERMEKKOD": "06040352T",
                                    "MEGNEVEZES": "Rovatolt papír 20 íves"
                                },
                                {
                                    "TERMEKKOD": "06040353T",
                                    "MEGNEVEZES": "Sorvezető"
                                },
                                {
                                    "TERMEKKOD": "06040354T",
                                    "MEGNEVEZES": "Sp.Füzet A/4  perforált, lyuk."
                                },
                                {
                                    "TERMEKKOD": "06040355T",
                                    "MEGNEVEZES": "Sp.Füzet A/4 70-as"
                                },
                                {
                                    "TERMEKKOD": "06040356T",
                                    "MEGNEVEZES": "Sp.Füzet A/4  70es"
                                },
                                {
                                    "TERMEKKOD": "06040378T",
                                    "MEGNEVEZES": "Szövegkiemelő vékony"
                                },
                                {
                                    "TERMEKKOD": "06040379T",
                                    "MEGNEVEZES": "Szövegkiemelő "
                                },
                                {
                                    "TERMEKKOD": "06040380T",
                                    "MEGNEVEZES": "Szövegkiemelő"
                                },
                                {
                                    "TERMEKKOD": "06040381T",
                                    "MEGNEVEZES": "Szövegkiemelő Videotip"
                                },
                                {
                                    "TERMEKKOD": "06040382T",
                                    "MEGNEVEZES": "Táblafilc"
                                },
                                {
                                    "TERMEKKOD": "06040383T",
                                    "MEGNEVEZES": "Taffet papír"
                                },
                                {
                                    "TERMEKKOD": "06040384T",
                                    "MEGNEVEZES": "Technika cs. I-II-III-IV"
                                },
                                {
                                    "TERMEKKOD": "06040385T",
                                    "MEGNEVEZES": "Tempera szóló ezüst"
                                },
                                {
                                    "TERMEKKOD": "06040386T",
                                    "MEGNEVEZES": "Tempera szóló színes"
                                },
                                {
                                    "TERMEKKOD": "06040392T",
                                    "MEGNEVEZES": "Tolltartó 1 zipzáros"
                                },
                                {
                                    "TERMEKKOD": "06040393T",
                                    "MEGNEVEZES": "Tolltartó 2 részes NG."
                                },
                                {
                                    "TERMEKKOD": "06040394T",
                                    "MEGNEVEZES": "Tolltartó zipzáras"
                                },
                                {
                                    "TERMEKKOD": "06040395T",
                                    "MEGNEVEZES": "Tolltartó 2 zipzáros töltött"
                                },
                                {
                                    "TERMEKKOD": "06040397T",
                                    "MEGNEVEZES": "Tolltartó asztali"
                                },
                                {
                                    "TERMEKKOD": "06040398T",
                                    "MEGNEVEZES": "Tolltartó hengeres "
                                },
                                {
                                    "TERMEKKOD": "06040399T",
                                    "MEGNEVEZES": "Tombola tömb"
                                },
                                {
                                    "TERMEKKOD": "06040400T",
                                    "MEGNEVEZES": "Tornazsák"
                                },
                                {
                                    "TERMEKKOD": "06040446T",
                                    "MEGNEVEZES": "Számológép tudományos"
                                },
                                {
                                    "TERMEKKOD": "06050249T",
                                    "MEGNEVEZES": "Krepp papír"
                                },
                                {
                                    "TERMEKKOD": "06050301T",
                                    "MEGNEVEZES": "Olló gyerek "
                                },
                                {
                                    "TERMEKKOD": "06050302T",
                                    "MEGNEVEZES": "Olló Tagit 18 cm-es"
                                },
                                {
                                    "TERMEKKOD": "06050303T",
                                    "MEGNEVEZES": "Olló, iskolai"
                                },
                                {
                                    "TERMEKKOD": "06080116T",
                                    "MEGNEVEZES": "Füzet A5 1-8 osz.-ig"
                                },
                                {
                                    "TERMEKKOD": "06080117T",
                                    "MEGNEVEZES": "Füzetborító A/4 átlátszó"
                                },
                                {
                                    "TERMEKKOD": "06080118T",
                                    "MEGNEVEZES": "Füzetborító átlátszó A5"
                                },
                                {
                                    "TERMEKKOD": "06080119T",
                                    "MEGNEVEZES": "Füzetborító mesefig."
                                },
                                {
                                    "TERMEKKOD": "06080120T",
                                    "MEGNEVEZES": "Füzetborító öntapadó kicsi"
                                },
                                {
                                    "TERMEKKOD": "06080121T",
                                    "MEGNEVEZES": "Füzetborító öntapadó tekercses"
                                },
                                {
                                    "TERMEKKOD": "06080122T",
                                    "MEGNEVEZES": "Füzetborító öntapadós nagy"
                                },
                                {
                                    "TERMEKKOD": "06080124T",
                                    "MEGNEVEZES": "Füzettartó A/4 keménytáblás"
                                },
                                {
                                    "TERMEKKOD": "06080125T",
                                    "MEGNEVEZES": "Füzettartó A/5 vastag"
                                },
                                {
                                    "TERMEKKOD": "06080126T",
                                    "MEGNEVEZES": "Füzettartó A/5  "
                                },
                                {
                                    "TERMEKKOD": "06080188T",
                                    "MEGNEVEZES": "Hegyező gép"
                                },
                                {
                                    "TERMEKKOD": "06080189T",
                                    "MEGNEVEZES": "Hegyező műanyag dupla"
                                },
                                {
                                    "TERMEKKOD": "06080190T",
                                    "MEGNEVEZES": "Hegyező műanyag egyes"
                                },
                                {
                                    "TERMEKKOD": "06080191T",
                                    "MEGNEVEZES": "Hegyező tartályos egyes"
                                },
                                {
                                    "TERMEKKOD": "06080192T",
                                    "MEGNEVEZES": "Hegyző fém 1 lyukú"
                                },
                                {
                                    "TERMEKKOD": "06080193T",
                                    "MEGNEVEZES": "Hegyző fém 2 lyukú"
                                },
                                {
                                    "TERMEKKOD": "06080259T",
                                    "MEGNEVEZES": "Leckefüzet"
                                },
                                {
                                    "TERMEKKOD": "06080332T",
                                    "MEGNEVEZES": "Radírtoll betét ER100"
                                },
                                {
                                    "TERMEKKOD": "06080333T",
                                    "MEGNEVEZES": "Radírtoll betét vastag"
                                },
                                {
                                    "TERMEKKOD": "06080335T",
                                    "MEGNEVEZES": "Ragasztó 9 g Pax"
                                },
                                {
                                    "TERMEKKOD": "06080337T",
                                    "MEGNEVEZES": "Ragasztó Gyurma"
                                },
                                {
                                    "TERMEKKOD": "06080339T",
                                    "MEGNEVEZES": "Ragasztó kores"
                                },
                                {
                                    "TERMEKKOD": "06080407T",
                                    "MEGNEVEZES": "Vízfesték  12 színű nagy"
                                },
                                {
                                    "TERMEKKOD": "06080408T",
                                    "MEGNEVEZES": "Vízfesték 12 db-os "
                                },
                                {
                                    "TERMEKKOD": "06080409T",
                                    "MEGNEVEZES": "Vízfesték 12 színű kerek"
                                },
                                {
                                    "TERMEKKOD": "06080410T",
                                    "MEGNEVEZES": "Vízfesték 12db-os kínai"
                                },
                                {
                                    "TERMEKKOD": "06080411T",
                                    "MEGNEVEZES": "Vonalzó 15 cm-es ESSELTE"
                                },
                                {
                                    "TERMEKKOD": "06080412T",
                                    "MEGNEVEZES": "Vonalzó 16 cm-es LIZZY"
                                },
                                {
                                    "TERMEKKOD": "06080413T",
                                    "MEGNEVEZES": "Vonalzó 30 cm"
                                },
                                {
                                    "TERMEKKOD": "06080415T",
                                    "MEGNEVEZES": "Vonalzó 45 fokos"
                                },
                                {
                                    "TERMEKKOD": "06080416T",
                                    "MEGNEVEZES": "Vonalzó 60 fokos"
                                },
                                {
                                    "TERMEKKOD": "06080417T",
                                    "MEGNEVEZES": "Zászló papír"
                                },
                                {
                                    "TERMEKKOD": "06080422T",
                                    "MEGNEVEZES": "Füzettartó A/4"
                                },
                                {
                                    "TERMEKKOD": "06080423T",
                                    "MEGNEVEZES": "Beíró A/5 kockás"
                                },
                                {
                                    "TERMEKKOD": "06080424T",
                                    "MEGNEVEZES": "Füzetborító A/4 mintás"
                                },
                                {
                                    "TERMEKKOD": "06080425T",
                                    "MEGNEVEZES": "Miliméterpapír"
                                },
                                {
                                    "TERMEKKOD": "06080426T",
                                    "MEGNEVEZES": "Szótárfüzet Lizzy"
                                },
                                {
                                    "TERMEKKOD": "06080427T",
                                    "MEGNEVEZES": "Ablakkréta"
                                },
                                {
                                    "TERMEKKOD": "06080428T",
                                    "MEGNEVEZES": "Ecsetkészlet"
                                },
                                {
                                    "TERMEKKOD": "06080429T",
                                    "MEGNEVEZES": "Meghívó ballagási"
                                },
                                {
                                    "TERMEKKOD": "06080430T",
                                    "MEGNEVEZES": "Öntapadős betűk"
                                },
                                {
                                    "TERMEKKOD": "06080441T",
                                    "MEGNEVEZES": "Gyurmakés"
                                },
                                {
                                    "TERMEKKOD": "07010137T",
                                    "MEGNEVEZES": "G.toll betét PAX tip."
                                },
                                {
                                    "TERMEKKOD": "07010139T",
                                    "MEGNEVEZES": "G.toll betét S7L "
                                },
                                {
                                    "TERMEKKOD": "07010140T",
                                    "MEGNEVEZES": "G.toll betét Stabilo"
                                },
                                {
                                    "TERMEKKOD": "07010141T",
                                    "MEGNEVEZES": "G.toll betét X20"
                                },
                                {
                                    "TERMEKKOD": "07010142T",
                                    "MEGNEVEZES": "G.toll betét Zebra F-0.7"
                                },
                                {
                                    "TERMEKKOD": "07010143T",
                                    "MEGNEVEZES": "G.toll betét Zebra H-0,7"
                                },
                                {
                                    "TERMEKKOD": "07010144T",
                                    "MEGNEVEZES": "G.toll betét Zebra K-0,7"
                                },
                                {
                                    "TERMEKKOD": "07010244T",
                                    "MEGNEVEZES": "Kerámiatoll"
                                },
                                {
                                    "TERMEKKOD": "07030103T",
                                    "MEGNEVEZES": "Filctoll TINTEN PEN"
                                },
                                {
                                    "TERMEKKOD": "07030104T",
                                    "MEGNEVEZES": "Filctoll vastag ARTIP"
                                },
                                {
                                    "TERMEKKOD": "07030105T",
                                    "MEGNEVEZES": "Filctoll, alkoholos Centropen"
                                },
                                {
                                    "TERMEKKOD": "07030106T",
                                    "MEGNEVEZES": "Filctoll, alkoholosOHP F-M-C"
                                },
                                {
                                    "TERMEKKOD": "07030107T",
                                    "MEGNEVEZES": "Filctoll, textil Edding 4500"
                                },
                                {
                                    "TERMEKKOD": "07030108T",
                                    "MEGNEVEZES": "Filctoll CD író"
                                },
                                {
                                    "TERMEKKOD": "07040047T",
                                    "MEGNEVEZES": "Ceruza 2H-4B"
                                },
                                {
                                    "TERMEKKOD": "07040049T",
                                    "MEGNEVEZES": "Ceruza Conté zöld"
                                },
                                {
                                    "TERMEKKOD": "07040050T",
                                    "MEGNEVEZES": "Ceruza Cseh"
                                },
                                {
                                    "TERMEKKOD": "07040051T",
                                    "MEGNEVEZES": "Ceruza háromszög "
                                },
                                {
                                    "TERMEKKOD": "07040052T",
                                    "MEGNEVEZES": "Ceruza 2H-3B Koh-i-nor"
                                },
                                {
                                    "TERMEKKOD": "07040053T",
                                    "MEGNEVEZES": "Ceruza HB radiros"
                                },
                                {
                                    "TERMEKKOD": "07040054T",
                                    "MEGNEVEZES": "Ceruza kártyás"
                                },
                                {
                                    "TERMEKKOD": "07040055T",
                                    "MEGNEVEZES": "Ceruza piros-kék"
                                },
                                {
                                    "TERMEKKOD": "07040056T",
                                    "MEGNEVEZES": "Ceruza piros-kék vékony"
                                },
                                {
                                    "TERMEKKOD": "07040057T",
                                    "MEGNEVEZES": "Ceruza Progresso"
                                },
                                {
                                    "TERMEKKOD": "07040058T",
                                    "MEGNEVEZES": "Ceruza radíros kínai"
                                },
                                {
                                    "TERMEKKOD": "07040059T",
                                    "MEGNEVEZES": "Ceruza smaragd"
                                },
                                {
                                    "TERMEKKOD": "07040060T",
                                    "MEGNEVEZES": "Ceruza stabilo swano"
                                },
                                {
                                    "TERMEKKOD": "07040061T",
                                    "MEGNEVEZES": "Ceruza stabilo opera"
                                },
                                {
                                    "TERMEKKOD": "07040097T",
                                    "MEGNEVEZES": "Filctoll "
                                },
                                {
                                    "TERMEKKOD": "07040098T",
                                    "MEGNEVEZES": "Filctoll document pen"
                                },
                                {
                                    "TERMEKKOD": "07040099T",
                                    "MEGNEVEZES": "Filctoll Edding 750"
                                },
                                {
                                    "TERMEKKOD": "07040100T",
                                    "MEGNEVEZES": "Filctoll Marvy alkoholos"
                                },
                                {
                                    "TERMEKKOD": "07040101T",
                                    "MEGNEVEZES": "Filctoll permanent vastag"
                                },
                                {
                                    "TERMEKKOD": "07040102T",
                                    "MEGNEVEZES": "Filctoll supra fine"
                                },
                                {
                                    "TERMEKKOD": "07040127T",
                                    "MEGNEVEZES": "G. toll betét mini"
                                },
                                {
                                    "TERMEKKOD": "07040128T",
                                    "MEGNEVEZES": "G. toll betét mini fém"
                                },
                                {
                                    "TERMEKKOD": "07040129T",
                                    "MEGNEVEZES": "G. toll betét réz"
                                },
                                {
                                    "TERMEKKOD": "07040130T",
                                    "MEGNEVEZES": "G. toll betét S7S"
                                },
                                {
                                    "TERMEKKOD": "07040132T",
                                    "MEGNEVEZES": "G.toll betét csavaros"
                                },
                                {
                                    "TERMEKKOD": "07040133T",
                                    "MEGNEVEZES": "G.toll betét görbe hegyű"
                                },
                                {
                                    "TERMEKKOD": "07040165T",
                                    "MEGNEVEZES": "Golyóstoll UNI laknock"
                                },
                                {
                                    "TERMEKKOD": "07040166T",
                                    "MEGNEVEZES": "Golyóstoll Zebra 301"
                                },
                                {
                                    "TERMEKKOD": "07040167T",
                                    "MEGNEVEZES": "Golyóstoll Zebra mini"
                                },
                                {
                                    "TERMEKKOD": "07040168T",
                                    "MEGNEVEZES": "Golyóstoll Zebra new hard"
                                },
                                {
                                    "TERMEKKOD": "07040169T",
                                    "MEGNEVEZES": "Golyóstoll Zodiák"
                                },
                                {
                                    "TERMEKKOD": "07040215T",
                                    "MEGNEVEZES": "Ironbél  2B ICO"
                                },
                                {
                                    "TERMEKKOD": "07040216T",
                                    "MEGNEVEZES": "Ironbél B 0,5"
                                },
                                {
                                    "TERMEKKOD": "07040217T",
                                    "MEGNEVEZES": "Ironbél H 0,5"
                                },
                                {
                                    "TERMEKKOD": "07040218T",
                                    "MEGNEVEZES": "Ironbél HB 0,5"
                                },
                                {
                                    "TERMEKKOD": "07040219T",
                                    "MEGNEVEZES": "Ironbél HI-POLIMER HB 0,7"
                                },
                                {
                                    "TERMEKKOD": "07040257T",
                                    "MEGNEVEZES": "Lakk filc Edding 750"
                                },
                                {
                                    "TERMEKKOD": "07040388T",
                                    "MEGNEVEZES": "Tintapatron /kék/"
                                },
                                {
                                    "TERMEKKOD": "07040389T",
                                    "MEGNEVEZES": "Tintapatron 30 db-os kék"
                                },
                                {
                                    "TERMEKKOD": "07040390T",
                                    "MEGNEVEZES": "Tintapatron színes"
                                },
                                {
                                    "TERMEKKOD": "07040391T",
                                    "MEGNEVEZES": "Toll Centropen roller"
                                },
                                {
                                    "TERMEKKOD": "07050462T",
                                    "MEGNEVEZES": "Töltőtoll tinta "
                                },
                                {
                                    "TERMEKKOD": "07050463T",
                                    "MEGNEVEZES": "Ceruzafogó"
                                },
                                {
                                    "TERMEKKOD": "07050464T",
                                    "MEGNEVEZES": "Szövegkiemelő Staedtler"
                                },
                                {
                                    "TERMEKKOD": "07080062T",
                                    "MEGNEVEZES": "Ceruza szén"
                                },
                                {
                                    "TERMEKKOD": "07080063T",
                                    "MEGNEVEZES": "Ceruza szorzótáblás"
                                },
                                {
                                    "TERMEKKOD": "07080064T",
                                    "MEGNEVEZES": "Ceruza zöld színű"
                                },
                                {
                                    "TERMEKKOD": "07080065T",
                                    "MEGNEVEZES": "Ceruza kínai"
                                },
                                {
                                    "TERMEKKOD": "07080150T",
                                    "MEGNEVEZES": "Golyóstoll"
                                },
                                {
                                    "TERMEKKOD": "07080151T",
                                    "MEGNEVEZES": "Golyóstoll + ceruza Twister 2in1"
                                },
                                {
                                    "TERMEKKOD": "07080152T",
                                    "MEGNEVEZES": "Golyóstoll 3 funkciós "
                                },
                                {
                                    "TERMEKKOD": "07080153T",
                                    "MEGNEVEZES": "Golyóstoll illatos ICO"
                                },
                                {
                                    "TERMEKKOD": "07080154T",
                                    "MEGNEVEZES": "Golyóstoll INOXCROM"
                                },
                                {
                                    "TERMEKKOD": "07080155T",
                                    "MEGNEVEZES": "Golyóstoll"
                                },
                                {
                                    "TERMEKKOD": "07080156T",
                                    "MEGNEVEZES": "Golyóstoll kupakos piros"
                                },
                                {
                                    "TERMEKKOD": "07080157T",
                                    "MEGNEVEZES": "Golyóstoll Montex Hytone"
                                },
                                {
                                    "TERMEKKOD": "07080159T",
                                    "MEGNEVEZES": "Golyóstoll Pax tip."
                                },
                                {
                                    "TERMEKKOD": "07080160T",
                                    "MEGNEVEZES": "Golyóstoll penac"
                                },
                                {
                                    "TERMEKKOD": "07080161T",
                                    "MEGNEVEZES": "Golyóstoll kétszínű"
                                },
                                {
                                    "TERMEKKOD": "07080162T",
                                    "MEGNEVEZES": "Golyóstoll Stabilo piros"
                                },
                                {
                                    "TERMEKKOD": "07080316T",
                                    "MEGNEVEZES": "Pixiron KOH-I-NOOR"
                                },
                                {
                                    "TERMEKKOD": "07080421T",
                                    "MEGNEVEZES": "Zseléstoll Lizzy Card"
                                },
                                {
                                    "TERMEKKOD": "07080466T",
                                    "MEGNEVEZES": "Golyóstoll Stabiló 308"
                                },
                                {
                                    "TERMEKKOD": "08070472T",
                                    "MEGNEVEZES": "A föld amelyen élünk - Európa földrajza"
                                },
                                {
                                    "TERMEKKOD": "08070473T",
                                    "MEGNEVEZES": "A föld amelyen élünk - Távoli földrészek"
                                },
                                {
                                    "TERMEKKOD": "08070474T",
                                    "MEGNEVEZES": "A föld amelyen élünk - Hazánk földrajza"
                                },
                                {
                                    "TERMEKKOD": "08070477T",
                                    "MEGNEVEZES": "Anyanyelvi gyakorló 3"
                                },
                                {
                                    "TERMEKKOD": "08070478T",
                                    "MEGNEVEZES": "Összefoglaló feladatgyüjtemény számtech."
                                },
                                {
                                    "TERMEKKOD": "08070479T",
                                    "MEGNEVEZES": "Fizika"
                                },
                                {
                                    "TERMEKKOD": "08070481T",
                                    "MEGNEVEZES": "Fizika munkafüzet 13 év."
                                },
                                {
                                    "TERMEKKOD": "08070482T",
                                    "MEGNEVEZES": "Fizika munkafüzet 14 év."
                                },
                                {
                                    "TERMEKKOD": "08070483T",
                                    "MEGNEVEZES": "Fizikai feladatok és tévedések"
                                },
                                {
                                    "TERMEKKOD": "08070484T",
                                    "MEGNEVEZES": "Fogalmazás lépésről lépésre"
                                },
                                {
                                    "TERMEKKOD": "08070485T",
                                    "MEGNEVEZES": "Jól felkészültem-e - Fizika"
                                },
                                {
                                    "TERMEKKOD": "08070486T",
                                    "MEGNEVEZES": "Matematika gyakorló 2"
                                },
                                {
                                    "TERMEKKOD": "08070487T",
                                    "MEGNEVEZES": "Matematika gyakorló 3"
                                },
                                {
                                    "TERMEKKOD": "08070490T",
                                    "MEGNEVEZES": "Szövegszerkesztés"
                                },
                                {
                                    "TERMEKKOD": "08070491T",
                                    "MEGNEVEZES": "Szám.tech. kicsiknek"
                                },
                                {
                                    "TERMEKKOD": "08070492T",
                                    "MEGNEVEZES": "Informatika"
                                },
                                {
                                    "TERMEKKOD": "08070493T",
                                    "MEGNEVEZES": "Érettségi felv. fel. Matematika"
                                },
                                {
                                    "TERMEKKOD": "08070494T",
                                    "MEGNEVEZES": "Érettségi felv. fel. Fizika"
                                },
                                {
                                    "TERMEKKOD": "08070495T",
                                    "MEGNEVEZES": "Érettségi felv. fel. Biológia"
                                },
                                {
                                    "TERMEKKOD": "F001-KB101",
                                    "MEGNEVEZES": "férfi szövet kabát"
                                },
                                {
                                    "TERMEKKOD": "F007-NA201",
                                    "MEGNEVEZES": "férfi farmer nadrág"
                                },
                                {
                                    "TERMEKKOD": "F013-NA207",
                                    "MEGNEVEZES": "férfi szövet nadrág"
                                },
                                {
                                    "TERMEKKOD": "F021-IN215",
                                    "MEGNEVEZES": "férfi ing"
                                },
                                {
                                    "TERMEKKOD": "G001-KB101",
                                    "MEGNEVEZES": "gyermek kabát (fiú)"
                                },
                                {
                                    "TERMEKKOD": "G013-NA201",
                                    "MEGNEVEZES": "gyermek farmer nadrág (fiú)"
                                },
                                {
                                    "TERMEKKOD": "G019-NA207",
                                    "MEGNEVEZES": "gyermek pamut nadrág (fiú)"
                                },
                                {
                                    "TERMEKKOD": "G023-FE301",
                                    "MEGNEVEZES": "fiú alsó"
                                },
                                {
                                    "TERMEKKOD": "G029-FE307",
                                    "MEGNEVEZES": "fiú zokni"
                                },
                                {
                                    "TERMEKKOD": "G038-FE316",
                                    "MEGNEVEZES": "fiú harisnya"
                                },
                                {
                                    "TERMEKKOD": "G041-AL211",
                                    "MEGNEVEZES": "fiú ünneplős ruha"
                                },
                                {
                                    "TERMEKKOD": "G048-PO218",
                                    "MEGNEVEZES": "gyermek póló (fiú)"
                                },
                                {
                                    "TERMEKKOD": "G064-CI401",
                                    "MEGNEVEZES": "gyermek szandál (fiú)"
                                },
                                {
                                    "TERMEKKOD": "G073-CI410",
                                    "MEGNEVEZES": "gyermek cipő (fiú)"
                                },
                                {
                                    "TERMEKKOD": "G082-CI419",
                                    "MEGNEVEZES": "gyermek csizma (fiú)"
                                },
                                {
                                    "TERMEKKOD": "L001-KB101",
                                    "MEGNEVEZES": "gyermek kabát (lány)"
                                },
                                {
                                    "TERMEKKOD": "L013-NA201",
                                    "MEGNEVEZES": "gyermek farmer nadrág (lány)"
                                },
                                {
                                    "TERMEKKOD": "L019-NA207",
                                    "MEGNEVEZES": "gyermek pamut nadrág (lány)"
                                },
                                {
                                    "TERMEKKOD": "L023-FE301",
                                    "MEGNEVEZES": "lány alsó"
                                },
                                {
                                    "TERMEKKOD": "L029-FE307",
                                    "MEGNEVEZES": "lány zokni"
                                },
                                {
                                    "TERMEKKOD": "L033-FE311",
                                    "MEGNEVEZES": "lány harisnya"
                                },
                                {
                                    "TERMEKKOD": "L041-AL211",
                                    "MEGNEVEZES": "lány ünneplős ruha"
                                },
                                {
                                    "TERMEKKOD": "L048-PO218",
                                    "MEGNEVEZES": "gyermek póló (lány)"
                                },
                                {
                                    "TERMEKKOD": "L064-CI401",
                                    "MEGNEVEZES": "gyermek szandál (lány)"
                                },
                                {
                                    "TERMEKKOD": "L073-CI410",
                                    "MEGNEVEZES": "gyermek cipő (lány)"
                                },
                                {
                                    "TERMEKKOD": "L082-CI419",
                                    "MEGNEVEZES": "gyermek csizma (lány)"
                                },
                                {
                                    "TERMEKKOD": "N001-KB101",
                                    "MEGNEVEZES": "női szövet kabát"
                                },
                                {
                                    "TERMEKKOD": "N008-NA201",
                                    "MEGNEVEZES": "női farmer nadrág"
                                },
                                {
                                    "TERMEKKOD": "N019-FE301",
                                    "MEGNEVEZES": "női alsó"
                                },
                                {
                                    "TERMEKKOD": "N029-AL212",
                                    "MEGNEVEZES": "női koktélruha"
                                },
                                {
                                    "TERMEKKOD": "N035-AL218",
                                    "MEGNEVEZES": "kosztüm (rövid)"
                                },
                                {
                                    "TERMEKKOD": "N039-AL222",
                                    "MEGNEVEZES": "kosztüm (hosszú)"
                                },
                                {
                                    "TERMEKKOD": "U001-KI501",
                                    "MEGNEVEZES": "sál"
                                }
                            ]
                        },
                        "text/html": [
                            "<table>",
                            "<tr><th>TERMEKKOD</th><th>MEGNEVEZES</th></tr>",
                            "<tr><td>01010110T</td><td>Fotópapír A/4 fényes</td></tr>",
                            "<tr><td>01010304T</td><td>Öntapadós hologramos papír A/4</td></tr>",
                            "<tr><td>01020300T</td><td>Oklevél A/4 színes</td></tr>",
                            "<tr><td>01030091T</td><td>Emléklap A/5</td></tr>",
                            "<tr><td>01030092T</td><td>Esküvői meghívó</td></tr>",
                            "<tr><td>01040307T</td><td>Pausz papír A/4</td></tr>",
                            "<tr><td>01040502T</td><td>Előlap spirálhoz</td></tr>",
                            "<tr><td>01080093T</td><td>Fax papír 15 m</td></tr>",
                            "<tr><td>01080512T</td><td>Öntapadó A/4</td></tr>",
                            "<tr><td>01080513T</td><td>Selyemfényű karton A/4</td></tr>",
                            "<tr><td>01090499T</td><td>Color Copy A/4 250 g</td></tr>",
                            "<tr><td>01090500T</td><td>Color Copy A4 200 g</td></tr>",
                            "<tr><td>01090501T</td><td>Kreatív A/4 300g </td></tr>",
                            "<tr><td>01090515T</td><td>Színes A/3 160 gr IQ</td></tr>",
                            "<tr><td>01090516T</td><td>Színes karton A4</td></tr>",
                            "<tr><td>01090517T</td><td>Színes ofszet B/4</td></tr>",
                            "<tr><td>01100070T</td><td>Dekorációs karton</td></tr>",
                            "<tr><td>01100072T</td><td>Dipa A/4 keretezett</td></tr>",
                            "<tr><td>01100094T</td><td>Fénymásoló papír DataCopy</td></tr>",
                            "<tr><td>01100095T</td><td>Fénymásoló papír GetCopy</td></tr>",
                            "<tr><td>01100096T</td><td>Fénymásoló papír Qconnect</td></tr>",
                            "<tr><td>01100496T</td><td>Színes másoló a/4 80g</td></tr>",
                            "<tr><td>01100497T</td><td>Color Copy 160 g-os </td></tr>",
                            "<tr><td>01100503T</td><td>Color Copy A4 120 g</td></tr>",
                            "<tr><td>01100504T</td><td>Fehér másoló A/3</td></tr>",
                            "<tr><td>01100505T</td><td>Fehér másoló A/4</td></tr>",
                            "<tr><td>01100509T</td><td>Márványos A/4</td></tr>",
                            "<tr><td>01100510T</td><td>Kreatív A/4 120g </td></tr>",
                            "<tr><td>02010028T</td><td>Árazószalag </td></tr>",
                            "<tr><td>02020029T</td><td>Átírótömb A/6</td></tr>",
                            "<tr><td>02020032T</td><td>Beírókönyv A5 </td></tr>",
                            "<tr><td>02020033T</td><td>Beírókönyv A4</td></tr>",
                            "<tr><td>02020037T</td><td>Bevételi pénztárbizonylat 3×25</td></tr>",
                            "<tr><td>02020245T</td><td>Kiadási pénztárbizonylat 2×25</td></tr>",
                            "<tr><td>02030040T</td><td>Boríték LA 4 francia</td></tr>",
                            "<tr><td>02040025T</td><td>Álló irattartó karton</td></tr>",
                            "<tr><td>02040145T</td><td>Gemkapocs 28 mm</td></tr>",
                            "<tr><td>02040147T</td><td>Genotherm lefűzhető A/5</td></tr>",
                            "<tr><td>02040148T</td><td>Genotherm lefűzhető A4 10db-os</td></tr>",
                            "<tr><td>02040176T</td><td>Gyorsfűző dosszié fehér</td></tr>",
                            "<tr><td>02040177T</td><td>Gyorsfűző műa.</td></tr>",
                            "<tr><td>02040178T</td><td>Gyorsfűző műa.</td></tr>",
                            "<tr><td>02040194T</td><td>Hibajav.roll.Pritt 4,2mm</td></tr>",
                            "<tr><td>02040195T</td><td>Hibajavító ecsetes Aqua</td></tr>",
                            "<tr><td>02040196T</td><td>Hibajavító készlet Blanco</td></tr>",
                            "<tr><td>02040197T</td><td>Hibajavító lap </td></tr>",
                            "<tr><td>02040198T</td><td>Hibajavító roller 5 mm</td></tr>",
                            "<tr><td>02040199T</td><td>Hibajavító roller Pax</td></tr>",
                            "<tr><td>02040200T</td><td>Hibajavító Kores mini pen</td></tr>",
                            "<tr><td>02040206T</td><td>Írásvetítő fólia</td></tr>",
                            "<tr><td>02040207T</td><td>Iratgyűjtő ESSELTE ablakos</td></tr>",
                            "<tr><td>02040208T</td><td>Iratgyűjtő fehér</td></tr>",
                            "<tr><td>02040209T</td><td>Iratsín fehér</td></tr>",
                            "<tr><td>02040211T</td><td>Iratrendező ESSELTE</td></tr>",
                            "<tr><td>02040214T</td><td>Iromány fedél feles</td></tr>",
                            "<tr><td>02040290T</td><td>Naptár 24-es</td></tr>",
                            "<tr><td>02040291T</td><td>Naptárhát kicsi</td></tr>",
                            "<tr><td>02040294T</td><td>Notesz A/5 sima</td></tr>",
                            "<tr><td>02040298T</td><td>Notesz mintás</td></tr>",
                            "<tr><td>02040308T</td><td>Pénztárgépsz. 2 pl. nem öníró</td></tr>",
                            "<tr><td>02040309T</td><td>Pénztárgépszalag 2pl SC 57.5/60</td></tr>",
                            "<tr><td>02040401T</td><td>Tűzőgép Boxer 10</td></tr>",
                            "<tr><td>02040402T</td><td>Tűzőgép Boxer </td></tr>",
                            "<tr><td>02040403T</td><td>Tűzőgép SAX 239</td></tr>",
                            "<tr><td>02040404T</td><td>Tűzőgép EAGLE</td></tr>",
                            "<tr><td>02040405T</td><td>Tűzőkapocs 10-es</td></tr>",
                            "<tr><td>02040506T</td><td>Fólia tasakos A4 125 mik.</td></tr>",
                            "<tr><td>02040507T</td><td>Fólia tasakos A4 80 mik.</td></tr>",
                            "<tr><td>02040508T</td><td>Fólia tasakos A4100 mik.</td></tr>",
                            "<tr><td>02050460T</td><td>Boríték C/4-es</td></tr>",
                            "<tr><td>02050461T</td><td>Boríték B/4-es</td></tr>",
                            "<tr><td>02060034T</td><td>Bélyegzőfesték </td></tr>",
                            "<tr><td>02060038T</td><td>Bélyegző IDEAL 50</td></tr>",
                            "<tr><td>02060039T</td><td>Bélyegző párna</td></tr>",
                            "<tr><td>02060447T</td><td>Bélyegző pocket</td></tr>",
                            "<tr><td>02060448T</td><td>Bélyegző RP 18-47</td></tr>",
                            "<tr><td>02080069T</td><td>CD tartó tok</td></tr>",
                            "<tr><td>02080081T</td><td>Dvd</td></tr>",
                            "<tr><td>02080109T</td><td>Floppy lemez</td></tr>",
                            "<tr><td>02080226T</td><td>Kapocskiszedő</td></tr>",
                            "<tr><td>02080431T</td><td>Álló irattartó</td></tr>",
                            "<tr><td>02080432T</td><td>Tokos iratrendező</td></tr>",
                            "<tr><td>02080433T</td><td>Ragasztószalag 19 mm-es</td></tr>",
                            "<tr><td>02080434T</td><td>Mappa müa A/4</td></tr>",
                            "<tr><td>02080436T</td><td>Irattartó müa. boríték A/4</td></tr>",
                            "<tr><td>02080449T</td><td>Térképtű színes</td></tr>",
                            "<tr><td>02080450T</td><td>Gémkapocs 28-as színes</td></tr>",
                            "<tr><td>02080451T</td><td>Gémkapocs 50-es</td></tr>",
                            "<tr><td>02080452T</td><td>Tűzőgép mini</td></tr>",
                            "<tr><td>02080453T</td><td>Lyukasztó EAGLE</td></tr>",
                            "<tr><td>02080454T</td><td>Lyukasztó BOXER</td></tr>",
                            "<tr><td>02080455T</td><td>Festékpatron BCI-3BK</td></tr>",
                            "<tr><td>02080456T</td><td>Genoterm HERLITZ 10-es</td></tr>",
                            "<tr><td>02080511T</td><td>Oki toner C</td></tr>",
                            "<tr><td>02080514T</td><td>Spirál 1/4 </td></tr>",
                            "<tr><td>03010342T</td><td>Ragasztószalag  TIXO</td></tr>",
                            "<tr><td>03010344T</td><td>Ragasztószalag nagy 12 mm</td></tr>",
                            "<tr><td>03010345T</td><td>Ragasztószalag széles barna</td></tr>",
                            "<tr><td>03050076T</td><td>Díszkötöző szalag metál nagy</td></tr>",
                            "<tr><td>03050077T</td><td>Diszkötöző szalag arany</td></tr>",
                            "<tr><td>03050078T</td><td>Díszkötöző szalag metál kicsi</td></tr>",
                            "<tr><td>03080003T</td><td>Ajándék cs. tasak italos</td></tr>",
                            "<tr><td>03080004T</td><td>Ajándék cs. tasak italos, fólia</td></tr>",
                            "<tr><td>03080006T</td><td>Ajándék cs. tasak mintás kicsi</td></tr>",
                            "<tr><td>03080009T</td><td>Ajándék csom. 100x70 metál</td></tr>",
                            "<tr><td>03080012T</td><td>Ajándék csom. 200x70</td></tr>",
                            "<tr><td>03080013T</td><td>Ajándék csom. 50x70 húsvéti</td></tr>",
                            "<tr><td>03080014T</td><td>Ajándék csom. 70x50 metál</td></tr>",
                            "<tr><td>03080015T</td><td>Ajándék csom. gyűrt</td></tr>",
                            "<tr><td>03080016T</td><td>házt.csom.  5 ív</td></tr>",
                            "<tr><td>03080017T</td><td>iskolai csomagoló papír</td></tr>",
                            "<tr><td>03080019T</td><td>Ajándék csom. Krepp</td></tr>",
                            "<tr><td>03080020T</td><td>Ajándék csom. nagy  </td></tr>",
                            "<tr><td>03080021T</td><td>Ajándék csom. vékony</td></tr>",
                            "<tr><td>03080030T</td><td>Ajándék cs. húsvéti 200x70</td></tr>",
                            "<tr><td>03080439T</td><td>Italtartó doboz</td></tr>",
                            "<tr><td>04020445T</td><td>Határidő napló 2010-s</td></tr>",
                            "<tr><td>04030235T</td><td>Képeslap karácsonyi borítékos</td></tr>",
                            "<tr><td>04030237T</td><td>Képeslap kerek</td></tr>",
                            "<tr><td>04030238T</td><td>Képeslap stancolt</td></tr>",
                            "<tr><td>04030239T</td><td>Képeslap stancolt szív</td></tr>",
                            "<tr><td>04030243T</td><td>Képkirakó Dirib-darab</td></tr>",
                            "<tr><td>04030261T</td><td>Levélpapír állatos</td></tr>",
                            "<tr><td>04030262T</td><td>Levélpapír sima</td></tr>",
                            "<tr><td>04030263T</td><td>Levélpapír szett</td></tr>",
                            "<tr><td>04030264T</td><td>Levélpapír szett </td></tr>",
                            "<tr><td>04030265T</td><td>Levélpapír szett natur, mintás</td></tr>",
                            "<tr><td>04030266T</td><td>Levélpapír szett virágos</td></tr>",
                            "<tr><td>04030285T</td><td>Mikulás zacskó</td></tr>",
                            "<tr><td>04030286T</td><td>Műanyag állatok</td></tr>",
                            "<tr><td>04030288T</td><td>Műanyag pohár 1 dl-es</td></tr>",
                            "<tr><td>04040387T</td><td>Tenisz labda</td></tr>",
                            "<tr><td>04050022T</td><td>Álarc</td></tr>",
                            "<tr><td>04050023T</td><td>Álarc fejdísz</td></tr>",
                            "<tr><td>04050024T</td><td>Álarc szemüveg</td></tr>",
                            "<tr><td>04050035T</td><td>Bérlet tok</td></tr>",
                            "<tr><td>04050073T</td><td>Díszdoboz kar.</td></tr>",
                            "<tr><td>04050074T</td><td>Díszdoboz tollnak 2 db-os</td></tr>",
                            "<tr><td>04050075T</td><td>Díszdoboz tollnak 2 db-os keskeny</td></tr>",
                            "<tr><td>04050171T</td><td>Gumilabda közepes</td></tr>",
                            "<tr><td>04050187T</td><td>Hajgumi macis</td></tr>",
                            "<tr><td>04050203T</td><td>Hűtőmágnes</td></tr>",
                            "<tr><td>04050204T</td><td>Hűtőmágnes WD</td></tr>",
                            "<tr><td>04050220T</td><td>Játék autó</td></tr>",
                            "<tr><td>04050221T</td><td>Játékautó Blisteres</td></tr>",
                            "<tr><td>04050222T</td><td>Játékautó elemes</td></tr>",
                            "<tr><td>04050223T</td><td>Játékautó mini</td></tr>",
                            "<tr><td>04050224T</td><td>Jelzőkréta</td></tr>",
                            "<tr><td>04050252T</td><td>Kulcstartó Csőrikés</td></tr>",
                            "<tr><td>04050253T</td><td>Kulcstartó figurás</td></tr>",
                            "<tr><td>04050254T</td><td>Kulcstartó intarziás állatos</td></tr>",
                            "<tr><td>04050269T</td><td>Lufi hullámos</td></tr>",
                            "<tr><td>04050320T</td><td>Plüss  QX állatok</td></tr>",
                            "<tr><td>04050322T</td><td>Plüss sárkány</td></tr>",
                            "<tr><td>04050358T</td><td>Strandlabda </td></tr>",
                            "<tr><td>04080270T</td><td>Mappa bőr A5</td></tr>",
                            "<tr><td>04080271T</td><td>Mappa PVC villámzáras</td></tr>",
                            "<tr><td>04080272T</td><td>Mappa PVC villámzáras  képes</td></tr>",
                            "<tr><td>04080443T</td><td>Emlékkönyv lakatos</td></tr>",
                            "<tr><td>04110066T</td><td>Címke 8 db-os</td></tr>",
                            "<tr><td>04110067T</td><td>Címke WD. állat</td></tr>",
                            "<tr><td>04110068T</td><td>Címke egyszínű</td></tr>",
                            "<tr><td>04110227T</td><td>Képeslap  borítékos</td></tr>",
                            "<tr><td>04110228T</td><td>Képeslap &quot;Nászajándék&quot;</td></tr>",
                            "<tr><td>04110229T</td><td>Képeslap &quot;Részvét&quot;</td></tr>",
                            "<tr><td>04110230T</td><td>Képeslap humoros </td></tr>",
                            "<tr><td>04110231T</td><td>Képeslap humoros borítékos</td></tr>",
                            "<tr><td>04110232T</td><td>Képeslap humoros kaparós</td></tr>",
                            "<tr><td>04110233T</td><td>Képeslap humoros</td></tr>",
                            "<tr><td>04110258T</td><td>Lampion</td></tr>",
                            "<tr><td>04110274T</td><td>Matrica autóra H</td></tr>",
                            "<tr><td>04110275T</td><td>Matrica motoros kicsi</td></tr>",
                            "<tr><td>04110276T</td><td>Matrica Stickers nagy állatos</td></tr>",
                            "<tr><td>04110277T</td><td>Matrica Stickers szíves</td></tr>",
                            "<tr><td>04110278T</td><td>Matrica Test ékszer tattoo</td></tr>",
                            "<tr><td>04110279T</td><td>Matrica tetoválás</td></tr>",
                            "<tr><td>04110280T</td><td>Matrica tetoválós kicsi</td></tr>",
                            "<tr><td>04110281T</td><td>Matrica világítós </td></tr>",
                            "<tr><td>04110282T</td><td>Matrica WD kicsi</td></tr>",
                            "<tr><td>04110283T</td><td>Meghívó állatos</td></tr>",
                            "<tr><td>04110284T</td><td>Meghívó borítékos</td></tr>",
                            "<tr><td>04110362T</td><td>Szalvéta gyűjtőknek</td></tr>",
                            "<tr><td>05010026T</td><td>Alufólia 10 m-es</td></tr>",
                            "<tr><td>05010369T</td><td>Szemetes zsák 60 literes</td></tr>",
                            "<tr><td>05010370T</td><td>Szilvia csomagoló</td></tr>",
                            "<tr><td>05040310T</td><td>Pill.ragasztó</td></tr>",
                            "<tr><td>05040348T</td><td>Rajzszeg színes</td></tr>",
                            "<tr><td>05040349T</td><td>Rajzszeg</td></tr>",
                            "<tr><td>05050045T</td><td>Celofán</td></tr>",
                            "<tr><td>05050046T</td><td>Celofán 50 db-os</td></tr>",
                            "<tr><td>05050170T</td><td>Gumigyűrű</td></tr>",
                            "<tr><td>05050346T</td><td>Rágógumi Orbit</td></tr>",
                            "<tr><td>05080340T</td><td>Ragasztó, Technokol 35g kék</td></tr>",
                            "<tr><td>05080341T</td><td>Ragasztó, Technokol 35g piros</td></tr>",
                            "<tr><td>05110359T</td><td>Szalvéta </td></tr>",
                            "<tr><td>05110360T</td><td>Szalvéta egyszínű</td></tr>",
                            "<tr><td>05110361T</td><td>Szalvéta Goma húsvéti</td></tr>",
                            "<tr><td>05110363T</td><td>Szalvéta dekor</td></tr>",
                            "<tr><td>05110364T</td><td>Szalvéta kicsi virágos</td></tr>",
                            "<tr><td>06010036T</td><td>Betűtartó sin</td></tr>",
                            "<tr><td>06010082T</td><td>Ecset Centrum 10,11,12</td></tr>",
                            "<tr><td>06010083T</td><td>Ecset Centrum 7,8,9</td></tr>",
                            "<tr><td>06010084T</td><td>Ecset Deák 2-es</td></tr>",
                            "<tr><td>06010085T</td><td>Ecset Lizzy 10-es</td></tr>",
                            "<tr><td>06010111T</td><td>Füzet  A/4 </td></tr>",
                            "<tr><td>06010112T</td><td>Füzet  A4 mintás</td></tr>",
                            "<tr><td>06010114T</td><td>Füzet A/5 hangjegy 36/16</td></tr>",
                            "<tr><td>06010115T</td><td>Füzet A/5, mintás</td></tr>",
                            "<tr><td>06010201T</td><td>Hőmérő, műa.</td></tr>",
                            "<tr><td>06010202T</td><td>Hurkapálca 10 db-os</td></tr>",
                            "<tr><td>06010305T</td><td>Papírcenti 100 cm-es</td></tr>",
                            "<tr><td>06010365T</td><td>Számegyenes</td></tr>",
                            "<tr><td>06010366T</td><td>Számológép Roxin</td></tr>",
                            "<tr><td>06010367T</td><td>Számolókorong</td></tr>",
                            "<tr><td>06010368T</td><td>Számolópálca</td></tr>",
                            "<tr><td>06010375T</td><td>Szögmérő 180 fokos műa.</td></tr>",
                            "<tr><td>06010376T</td><td>Szögmérő papír</td></tr>",
                            "<tr><td>06010377T</td><td>Szögmérő színes</td></tr>",
                            "<tr><td>06040089T</td><td>Ellenőrzőborító</td></tr>",
                            "<tr><td>06040175T</td><td>Gumis mappa Köbüki</td></tr>",
                            "<tr><td>06040179T</td><td>Gyurma színes 200 g-os</td></tr>",
                            "<tr><td>06040180T</td><td>Gyurma színes natúr</td></tr>",
                            "<tr><td>06040183T</td><td>Gyűrűskönyv bet. A/5</td></tr>",
                            "<tr><td>06040184T</td><td>Gyűrűskönyv betét A/5</td></tr>",
                            "<tr><td>06040186T</td><td>Gyűrűskönyv színes</td></tr>",
                            "<tr><td>06040205T</td><td>Indigó Pelikán</td></tr>",
                            "<tr><td>06040206T</td><td>kék indigó</td></tr>",
                            "<tr><td>06040212T</td><td>Írólap 10-50 ffam.</td></tr>",
                            "<tr><td>06040213T</td><td>Írólap 20-50 </td></tr>",
                            "<tr><td>06040246T</td><td>Körző</td></tr>",
                            "<tr><td>06040248T</td><td>Körző maped</td></tr>",
                            "<tr><td>06040323T</td><td>Post-it 51×38 100 lapos</td></tr>",
                            "<tr><td>06040324T</td><td>Post-it 75×75 100 lapos</td></tr>",
                            "<tr><td>06040326T</td><td>Radír KOH-I-NOR 80</td></tr>",
                            "<tr><td>06040330T</td><td>Radír Tikky 30 </td></tr>",
                            "<tr><td>06040331T</td><td>Radír Tikky 40 </td></tr>",
                            "<tr><td>06040347T</td><td>Rajzlap A/4 10db ffam.</td></tr>",
                            "<tr><td>06040350T</td><td>Regiszteres füzet A4</td></tr>",
                            "<tr><td>06040351T</td><td>Regiszteres füzet A5 Hightech</td></tr>",
                            "<tr><td>06040352T</td><td>Rovatolt papír 20 íves</td></tr>",
                            "<tr><td>06040353T</td><td>Sorvezető</td></tr>",
                            "<tr><td>06040354T</td><td>Sp.Füzet A/4  perforált, lyuk.</td></tr>",
                            "<tr><td>06040355T</td><td>Sp.Füzet A/4 70-as</td></tr>",
                            "<tr><td>06040356T</td><td>Sp.Füzet A/4  70es</td></tr>",
                            "<tr><td>06040378T</td><td>Szövegkiemelő vékony</td></tr>",
                            "<tr><td>06040379T</td><td>Szövegkiemelő </td></tr>",
                            "<tr><td>06040380T</td><td>Szövegkiemelő</td></tr>",
                            "<tr><td>06040381T</td><td>Szövegkiemelő Videotip</td></tr>",
                            "<tr><td>06040382T</td><td>Táblafilc</td></tr>",
                            "<tr><td>06040383T</td><td>Taffet papír</td></tr>",
                            "<tr><td>06040384T</td><td>Technika cs. I-II-III-IV</td></tr>",
                            "<tr><td>06040385T</td><td>Tempera szóló ezüst</td></tr>",
                            "<tr><td>06040386T</td><td>Tempera szóló színes</td></tr>",
                            "<tr><td>06040392T</td><td>Tolltartó 1 zipzáros</td></tr>",
                            "<tr><td>06040393T</td><td>Tolltartó 2 részes NG.</td></tr>",
                            "<tr><td>06040394T</td><td>Tolltartó zipzáras</td></tr>",
                            "<tr><td>06040395T</td><td>Tolltartó 2 zipzáros töltött</td></tr>",
                            "<tr><td>06040397T</td><td>Tolltartó asztali</td></tr>",
                            "<tr><td>06040398T</td><td>Tolltartó hengeres </td></tr>",
                            "<tr><td>06040399T</td><td>Tombola tömb</td></tr>",
                            "<tr><td>06040400T</td><td>Tornazsák</td></tr>",
                            "<tr><td>06040446T</td><td>Számológép tudományos</td></tr>",
                            "<tr><td>06050249T</td><td>Krepp papír</td></tr>",
                            "<tr><td>06050301T</td><td>Olló gyerek </td></tr>",
                            "<tr><td>06050302T</td><td>Olló Tagit 18 cm-es</td></tr>",
                            "<tr><td>06050303T</td><td>Olló, iskolai</td></tr>",
                            "<tr><td>06080116T</td><td>Füzet A5 1-8 osz.-ig</td></tr>",
                            "<tr><td>06080117T</td><td>Füzetborító A/4 átlátszó</td></tr>",
                            "<tr><td>06080118T</td><td>Füzetborító átlátszó A5</td></tr>",
                            "<tr><td>06080119T</td><td>Füzetborító mesefig.</td></tr>",
                            "<tr><td>06080120T</td><td>Füzetborító öntapadó kicsi</td></tr>",
                            "<tr><td>06080121T</td><td>Füzetborító öntapadó tekercses</td></tr>",
                            "<tr><td>06080122T</td><td>Füzetborító öntapadós nagy</td></tr>",
                            "<tr><td>06080124T</td><td>Füzettartó A/4 keménytáblás</td></tr>",
                            "<tr><td>06080125T</td><td>Füzettartó A/5 vastag</td></tr>",
                            "<tr><td>06080126T</td><td>Füzettartó A/5  </td></tr>",
                            "<tr><td>06080188T</td><td>Hegyező gép</td></tr>",
                            "<tr><td>06080189T</td><td>Hegyező műanyag dupla</td></tr>",
                            "<tr><td>06080190T</td><td>Hegyező műanyag egyes</td></tr>",
                            "<tr><td>06080191T</td><td>Hegyező tartályos egyes</td></tr>",
                            "<tr><td>06080192T</td><td>Hegyző fém 1 lyukú</td></tr>",
                            "<tr><td>06080193T</td><td>Hegyző fém 2 lyukú</td></tr>",
                            "<tr><td>06080259T</td><td>Leckefüzet</td></tr>",
                            "<tr><td>06080332T</td><td>Radírtoll betét ER100</td></tr>",
                            "<tr><td>06080333T</td><td>Radírtoll betét vastag</td></tr>",
                            "<tr><td>06080335T</td><td>Ragasztó 9 g Pax</td></tr>",
                            "<tr><td>06080337T</td><td>Ragasztó Gyurma</td></tr>",
                            "<tr><td>06080339T</td><td>Ragasztó kores</td></tr>",
                            "<tr><td>06080407T</td><td>Vízfesték  12 színű nagy</td></tr>",
                            "<tr><td>06080408T</td><td>Vízfesték 12 db-os </td></tr>",
                            "<tr><td>06080409T</td><td>Vízfesték 12 színű kerek</td></tr>",
                            "<tr><td>06080410T</td><td>Vízfesték 12db-os kínai</td></tr>",
                            "<tr><td>06080411T</td><td>Vonalzó 15 cm-es ESSELTE</td></tr>",
                            "<tr><td>06080412T</td><td>Vonalzó 16 cm-es LIZZY</td></tr>",
                            "<tr><td>06080413T</td><td>Vonalzó 30 cm</td></tr>",
                            "<tr><td>06080415T</td><td>Vonalzó 45 fokos</td></tr>",
                            "<tr><td>06080416T</td><td>Vonalzó 60 fokos</td></tr>",
                            "<tr><td>06080417T</td><td>Zászló papír</td></tr>",
                            "<tr><td>06080422T</td><td>Füzettartó A/4</td></tr>",
                            "<tr><td>06080423T</td><td>Beíró A/5 kockás</td></tr>",
                            "<tr><td>06080424T</td><td>Füzetborító A/4 mintás</td></tr>",
                            "<tr><td>06080425T</td><td>Miliméterpapír</td></tr>",
                            "<tr><td>06080426T</td><td>Szótárfüzet Lizzy</td></tr>",
                            "<tr><td>06080427T</td><td>Ablakkréta</td></tr>",
                            "<tr><td>06080428T</td><td>Ecsetkészlet</td></tr>",
                            "<tr><td>06080429T</td><td>Meghívó ballagási</td></tr>",
                            "<tr><td>06080430T</td><td>Öntapadős betűk</td></tr>",
                            "<tr><td>06080441T</td><td>Gyurmakés</td></tr>",
                            "<tr><td>07010137T</td><td>G.toll betét PAX tip.</td></tr>",
                            "<tr><td>07010139T</td><td>G.toll betét S7L </td></tr>",
                            "<tr><td>07010140T</td><td>G.toll betét Stabilo</td></tr>",
                            "<tr><td>07010141T</td><td>G.toll betét X20</td></tr>",
                            "<tr><td>07010142T</td><td>G.toll betét Zebra F-0.7</td></tr>",
                            "<tr><td>07010143T</td><td>G.toll betét Zebra H-0,7</td></tr>",
                            "<tr><td>07010144T</td><td>G.toll betét Zebra K-0,7</td></tr>",
                            "<tr><td>07010244T</td><td>Kerámiatoll</td></tr>",
                            "<tr><td>07030103T</td><td>Filctoll TINTEN PEN</td></tr>",
                            "<tr><td>07030104T</td><td>Filctoll vastag ARTIP</td></tr>",
                            "<tr><td>07030105T</td><td>Filctoll, alkoholos Centropen</td></tr>",
                            "<tr><td>07030106T</td><td>Filctoll, alkoholosOHP F-M-C</td></tr>",
                            "<tr><td>07030107T</td><td>Filctoll, textil Edding 4500</td></tr>",
                            "<tr><td>07030108T</td><td>Filctoll CD író</td></tr>",
                            "<tr><td>07040047T</td><td>Ceruza 2H-4B</td></tr>",
                            "<tr><td>07040049T</td><td>Ceruza Conté zöld</td></tr>",
                            "<tr><td>07040050T</td><td>Ceruza Cseh</td></tr>",
                            "<tr><td>07040051T</td><td>Ceruza háromszög </td></tr>",
                            "<tr><td>07040052T</td><td>Ceruza 2H-3B Koh-i-nor</td></tr>",
                            "<tr><td>07040053T</td><td>Ceruza HB radiros</td></tr>",
                            "<tr><td>07040054T</td><td>Ceruza kártyás</td></tr>",
                            "<tr><td>07040055T</td><td>Ceruza piros-kék</td></tr>",
                            "<tr><td>07040056T</td><td>Ceruza piros-kék vékony</td></tr>",
                            "<tr><td>07040057T</td><td>Ceruza Progresso</td></tr>",
                            "<tr><td>07040058T</td><td>Ceruza radíros kínai</td></tr>",
                            "<tr><td>07040059T</td><td>Ceruza smaragd</td></tr>",
                            "<tr><td>07040060T</td><td>Ceruza stabilo swano</td></tr>",
                            "<tr><td>07040061T</td><td>Ceruza stabilo opera</td></tr>",
                            "<tr><td>07040097T</td><td>Filctoll </td></tr>",
                            "<tr><td>07040098T</td><td>Filctoll document pen</td></tr>",
                            "<tr><td>07040099T</td><td>Filctoll Edding 750</td></tr>",
                            "<tr><td>07040100T</td><td>Filctoll Marvy alkoholos</td></tr>",
                            "<tr><td>07040101T</td><td>Filctoll permanent vastag</td></tr>",
                            "<tr><td>07040102T</td><td>Filctoll supra fine</td></tr>",
                            "<tr><td>07040127T</td><td>G. toll betét mini</td></tr>",
                            "<tr><td>07040128T</td><td>G. toll betét mini fém</td></tr>",
                            "<tr><td>07040129T</td><td>G. toll betét réz</td></tr>",
                            "<tr><td>07040130T</td><td>G. toll betét S7S</td></tr>",
                            "<tr><td>07040132T</td><td>G.toll betét csavaros</td></tr>",
                            "<tr><td>07040133T</td><td>G.toll betét görbe hegyű</td></tr>",
                            "<tr><td>07040165T</td><td>Golyóstoll UNI laknock</td></tr>",
                            "<tr><td>07040166T</td><td>Golyóstoll Zebra 301</td></tr>",
                            "<tr><td>07040167T</td><td>Golyóstoll Zebra mini</td></tr>",
                            "<tr><td>07040168T</td><td>Golyóstoll Zebra new hard</td></tr>",
                            "<tr><td>07040169T</td><td>Golyóstoll Zodiák</td></tr>",
                            "<tr><td>07040215T</td><td>Ironbél  2B ICO</td></tr>",
                            "<tr><td>07040216T</td><td>Ironbél B 0,5</td></tr>",
                            "<tr><td>07040217T</td><td>Ironbél H 0,5</td></tr>",
                            "<tr><td>07040218T</td><td>Ironbél HB 0,5</td></tr>",
                            "<tr><td>07040219T</td><td>Ironbél HI-POLIMER HB 0,7</td></tr>",
                            "<tr><td>07040257T</td><td>Lakk filc Edding 750</td></tr>",
                            "<tr><td>07040388T</td><td>Tintapatron /kék/</td></tr>",
                            "<tr><td>07040389T</td><td>Tintapatron 30 db-os kék</td></tr>",
                            "<tr><td>07040390T</td><td>Tintapatron színes</td></tr>",
                            "<tr><td>07040391T</td><td>Toll Centropen roller</td></tr>",
                            "<tr><td>07050462T</td><td>Töltőtoll tinta </td></tr>",
                            "<tr><td>07050463T</td><td>Ceruzafogó</td></tr>",
                            "<tr><td>07050464T</td><td>Szövegkiemelő Staedtler</td></tr>",
                            "<tr><td>07080062T</td><td>Ceruza szén</td></tr>",
                            "<tr><td>07080063T</td><td>Ceruza szorzótáblás</td></tr>",
                            "<tr><td>07080064T</td><td>Ceruza zöld színű</td></tr>",
                            "<tr><td>07080065T</td><td>Ceruza kínai</td></tr>",
                            "<tr><td>07080150T</td><td>Golyóstoll</td></tr>",
                            "<tr><td>07080151T</td><td>Golyóstoll + ceruza Twister 2in1</td></tr>",
                            "<tr><td>07080152T</td><td>Golyóstoll 3 funkciós </td></tr>",
                            "<tr><td>07080153T</td><td>Golyóstoll illatos ICO</td></tr>",
                            "<tr><td>07080154T</td><td>Golyóstoll INOXCROM</td></tr>",
                            "<tr><td>07080155T</td><td>Golyóstoll</td></tr>",
                            "<tr><td>07080156T</td><td>Golyóstoll kupakos piros</td></tr>",
                            "<tr><td>07080157T</td><td>Golyóstoll Montex Hytone</td></tr>",
                            "<tr><td>07080159T</td><td>Golyóstoll Pax tip.</td></tr>",
                            "<tr><td>07080160T</td><td>Golyóstoll penac</td></tr>",
                            "<tr><td>07080161T</td><td>Golyóstoll kétszínű</td></tr>",
                            "<tr><td>07080162T</td><td>Golyóstoll Stabilo piros</td></tr>",
                            "<tr><td>07080316T</td><td>Pixiron KOH-I-NOOR</td></tr>",
                            "<tr><td>07080421T</td><td>Zseléstoll Lizzy Card</td></tr>",
                            "<tr><td>07080466T</td><td>Golyóstoll Stabiló 308</td></tr>",
                            "<tr><td>08070472T</td><td>A föld amelyen élünk - Európa földrajza</td></tr>",
                            "<tr><td>08070473T</td><td>A föld amelyen élünk - Távoli földrészek</td></tr>",
                            "<tr><td>08070474T</td><td>A föld amelyen élünk - Hazánk földrajza</td></tr>",
                            "<tr><td>08070477T</td><td>Anyanyelvi gyakorló 3</td></tr>",
                            "<tr><td>08070478T</td><td>Összefoglaló feladatgyüjtemény számtech.</td></tr>",
                            "<tr><td>08070479T</td><td>Fizika</td></tr>",
                            "<tr><td>08070481T</td><td>Fizika munkafüzet 13 év.</td></tr>",
                            "<tr><td>08070482T</td><td>Fizika munkafüzet 14 év.</td></tr>",
                            "<tr><td>08070483T</td><td>Fizikai feladatok és tévedések</td></tr>",
                            "<tr><td>08070484T</td><td>Fogalmazás lépésről lépésre</td></tr>",
                            "<tr><td>08070485T</td><td>Jól felkészültem-e - Fizika</td></tr>",
                            "<tr><td>08070486T</td><td>Matematika gyakorló 2</td></tr>",
                            "<tr><td>08070487T</td><td>Matematika gyakorló 3</td></tr>",
                            "<tr><td>08070490T</td><td>Szövegszerkesztés</td></tr>",
                            "<tr><td>08070491T</td><td>Szám.tech. kicsiknek</td></tr>",
                            "<tr><td>08070492T</td><td>Informatika</td></tr>",
                            "<tr><td>08070493T</td><td>Érettségi felv. fel. Matematika</td></tr>",
                            "<tr><td>08070494T</td><td>Érettségi felv. fel. Fizika</td></tr>",
                            "<tr><td>08070495T</td><td>Érettségi felv. fel. Biológia</td></tr>",
                            "<tr><td>F001-KB101</td><td>férfi szövet kabát</td></tr>",
                            "<tr><td>F007-NA201</td><td>férfi farmer nadrág</td></tr>",
                            "<tr><td>F013-NA207</td><td>férfi szövet nadrág</td></tr>",
                            "<tr><td>F021-IN215</td><td>férfi ing</td></tr>",
                            "<tr><td>G001-KB101</td><td>gyermek kabát (fiú)</td></tr>",
                            "<tr><td>G013-NA201</td><td>gyermek farmer nadrág (fiú)</td></tr>",
                            "<tr><td>G019-NA207</td><td>gyermek pamut nadrág (fiú)</td></tr>",
                            "<tr><td>G023-FE301</td><td>fiú alsó</td></tr>",
                            "<tr><td>G029-FE307</td><td>fiú zokni</td></tr>",
                            "<tr><td>G038-FE316</td><td>fiú harisnya</td></tr>",
                            "<tr><td>G041-AL211</td><td>fiú ünneplős ruha</td></tr>",
                            "<tr><td>G048-PO218</td><td>gyermek póló (fiú)</td></tr>",
                            "<tr><td>G064-CI401</td><td>gyermek szandál (fiú)</td></tr>",
                            "<tr><td>G073-CI410</td><td>gyermek cipő (fiú)</td></tr>",
                            "<tr><td>G082-CI419</td><td>gyermek csizma (fiú)</td></tr>",
                            "<tr><td>L001-KB101</td><td>gyermek kabát (lány)</td></tr>",
                            "<tr><td>L013-NA201</td><td>gyermek farmer nadrág (lány)</td></tr>",
                            "<tr><td>L019-NA207</td><td>gyermek pamut nadrág (lány)</td></tr>",
                            "<tr><td>L023-FE301</td><td>lány alsó</td></tr>",
                            "<tr><td>L029-FE307</td><td>lány zokni</td></tr>",
                            "<tr><td>L033-FE311</td><td>lány harisnya</td></tr>",
                            "<tr><td>L041-AL211</td><td>lány ünneplős ruha</td></tr>",
                            "<tr><td>L048-PO218</td><td>gyermek póló (lány)</td></tr>",
                            "<tr><td>L064-CI401</td><td>gyermek szandál (lány)</td></tr>",
                            "<tr><td>L073-CI410</td><td>gyermek cipő (lány)</td></tr>",
                            "<tr><td>L082-CI419</td><td>gyermek csizma (lány)</td></tr>",
                            "<tr><td>N001-KB101</td><td>női szövet kabát</td></tr>",
                            "<tr><td>N008-NA201</td><td>női farmer nadrág</td></tr>",
                            "<tr><td>N019-FE301</td><td>női alsó</td></tr>",
                            "<tr><td>N029-AL212</td><td>női koktélruha</td></tr>",
                            "<tr><td>N035-AL218</td><td>kosztüm (rövid)</td></tr>",
                            "<tr><td>N039-AL222</td><td>kosztüm (hosszú)</td></tr>",
                            "<tr><td>U001-KI501</td><td>sál</td></tr>",
                            "</table>"
                        ]
                    }
                }
            ],
            "execution_count": 4
        },
        {
            "cell_type": "markdown",
            "source": [
                "7. <span style=\"background-color: rgb(255, 255, 255); color: rgb(0, 0, 0); font-family: &quot;Open Sans&quot;, sans-serif; font-size: 14.44px;\">Listázzuk azon ügyfeleket, akik még nem fizettek bankkártyával!&nbsp;</span> \n",
                "\n",
                "a. Csak az ügyfelek neve jelenjen meg!"
            ],
            "metadata": {
                "azdata_cell_guid": "7ebf7ddd-1bd2-4246-815a-be8ae37e3b5b"
            },
            "attachments": {}
        },
        {
            "cell_type": "code",
            "source": [
                "SELECT nev\r\n",
                "FROM Ugyfel\r\n",
                "WHERE [LOGIN] NOT IN (SELECT [LOGIN]\r\n",
                "                        FROM Rendeles\r\n",
                "                        WHERE FIZ_MOD ='Bankkártya')"
            ],
            "metadata": {
                "azdata_cell_guid": "84b7e896-f36e-4985-88f5-e0f706494fef",
                "language": "sql"
            },
            "outputs": [
                {
                    "output_type": "display_data",
                    "data": {
                        "text/html": "(9 rows affected)"
                    },
                    "metadata": {}
                },
                {
                    "output_type": "display_data",
                    "data": {
                        "text/html": "Total execution time: 00:00:00.062"
                    },
                    "metadata": {}
                },
                {
                    "output_type": "execute_result",
                    "metadata": {},
                    "execution_count": 9,
                    "data": {
                        "application/vnd.dataresource+json": {
                            "schema": {
                                "fields": [
                                    {
                                        "name": "nev"
                                    }
                                ]
                            },
                            "data": [
                                {
                                    "nev": "Biró Alexander"
                                },
                                {
                                    "nev": "Csóti Attila"
                                },
                                {
                                    "nev": "Bagi Beáta"
                                },
                                {
                                    "nev": "Mór Ottó"
                                },
                                {
                                    "nev": "Molnár Eszter"
                                },
                                {
                                    "nev": "Kiss Anita"
                                },
                                {
                                    "nev": "Kispál Márk"
                                },
                                {
                                    "nev": "Nagy Péter"
                                },
                                {
                                    "nev": "Szűcs Norbert"
                                }
                            ]
                        },
                        "text/html": [
                            "<table>",
                            "<tr><th>nev</th></tr>",
                            "<tr><td>Biró Alexander</td></tr>",
                            "<tr><td>Csóti Attila</td></tr>",
                            "<tr><td>Bagi Beáta</td></tr>",
                            "<tr><td>Mór Ottó</td></tr>",
                            "<tr><td>Molnár Eszter</td></tr>",
                            "<tr><td>Kiss Anita</td></tr>",
                            "<tr><td>Kispál Márk</td></tr>",
                            "<tr><td>Nagy Péter</td></tr>",
                            "<tr><td>Szűcs Norbert</td></tr>",
                            "</table>"
                        ]
                    }
                }
            ],
            "execution_count": 9
        },
        {
            "cell_type": "code",
            "source": [
                "SELECT u.nev\r\n",
                "FROM Ugyfel u\r\n",
                "WHERE NOT EXISTS (SELECT *\r\n",
                "                        FROM Rendeles r\r\n",
                "                        WHERE U.[LOGIN]=R.[LOGIN]\r\n",
                "                        AND FIZ_MOD ='Bankkártya')"
            ],
            "metadata": {
                "language": "sql",
                "azdata_cell_guid": "d22ff6f4-754f-4485-a374-14f531cdf8fa"
            },
            "outputs": [
                {
                    "output_type": "display_data",
                    "data": {
                        "text/html": "(9 rows affected)"
                    },
                    "metadata": {}
                },
                {
                    "output_type": "display_data",
                    "data": {
                        "text/html": "Total execution time: 00:00:00.050"
                    },
                    "metadata": {}
                },
                {
                    "output_type": "execute_result",
                    "metadata": {},
                    "execution_count": 10,
                    "data": {
                        "application/vnd.dataresource+json": {
                            "schema": {
                                "fields": [
                                    {
                                        "name": "nev"
                                    }
                                ]
                            },
                            "data": [
                                {
                                    "nev": "Biró Alexander"
                                },
                                {
                                    "nev": "Csóti Attila"
                                },
                                {
                                    "nev": "Bagi Beáta"
                                },
                                {
                                    "nev": "Mór Ottó"
                                },
                                {
                                    "nev": "Molnár Eszter"
                                },
                                {
                                    "nev": "Kiss Anita"
                                },
                                {
                                    "nev": "Kispál Márk"
                                },
                                {
                                    "nev": "Nagy Péter"
                                },
                                {
                                    "nev": "Szűcs Norbert"
                                }
                            ]
                        },
                        "text/html": [
                            "<table>",
                            "<tr><th>nev</th></tr>",
                            "<tr><td>Biró Alexander</td></tr>",
                            "<tr><td>Csóti Attila</td></tr>",
                            "<tr><td>Bagi Beáta</td></tr>",
                            "<tr><td>Mór Ottó</td></tr>",
                            "<tr><td>Molnár Eszter</td></tr>",
                            "<tr><td>Kiss Anita</td></tr>",
                            "<tr><td>Kispál Márk</td></tr>",
                            "<tr><td>Nagy Péter</td></tr>",
                            "<tr><td>Szűcs Norbert</td></tr>",
                            "</table>"
                        ]
                    }
                }
            ],
            "execution_count": 10
        },
        {
            "cell_type": "markdown",
            "source": [
                "8. <span style=\"background-color: rgb(255, 255, 255); color: rgb(0, 0, 0); font-family: &quot;Open Sans&quot;, sans-serif; font-size: 14.44px;\">Mennyibe kerül a második legnagyobb listaárú termék?</span>"
            ],
            "metadata": {
                "azdata_cell_guid": "27a3d3dc-eafb-4a5e-b103-9f465b9eda8f"
            },
            "attachments": {}
        },
        {
            "cell_type": "code",
            "source": [
                ""
            ],
            "metadata": {
                "azdata_cell_guid": "f09edb3f-649b-4a96-958e-9e12774ae8b7",
                "language": "sql"
            },
            "outputs": [],
            "execution_count": null
        },
        {
            "cell_type": "markdown",
            "source": [
                "9. <span style=\"background-color: rgb(255, 255, 255); color: rgb(0, 0, 0); font-family: &quot;Open Sans&quot;, sans-serif; font-size: 14.44px;\">Melyik raktár(ak)ban van az a termék, amelyből a legnagyobb készlet van?&nbsp;</span> \n",
                "\n",
                "a. Csak a raktár(ak) neve jelenjen meg!"
            ],
            "metadata": {
                "azdata_cell_guid": "f12a331a-0e26-4d3d-9c68-812316286577"
            },
            "attachments": {}
        },
        {
            "cell_type": "code",
            "source": [
                ""
            ],
            "metadata": {
                "azdata_cell_guid": "10a77fc9-e61a-46fc-a401-59720d82bc50",
                "language": "sql"
            },
            "outputs": [],
            "execution_count": null
        },
        {
            "cell_type": "markdown",
            "source": [
                "10. <span style=\"background-color: rgb(255, 255, 255); color: rgb(0, 0, 0); font-family: &quot;Open Sans&quot;, sans-serif; font-size: 14.44px;\">Melyek azok a termékek, amelyek listaára nagyobb, mint bármelyik olyan terméké, amelynek nevében az Ajándék szó szerepel?&nbsp;</span> \n",
                "\n",
                "a. A termékek kódját és nevét is jelenítsük meg!"
            ],
            "metadata": {
                "azdata_cell_guid": "9229e2b6-e200-4499-b95b-2d0222149831"
            },
            "attachments": {}
        },
        {
            "cell_type": "code",
            "source": [
                ""
            ],
            "metadata": {
                "azdata_cell_guid": "8b49ed67-28c6-4880-82a8-cd369e5bba99",
                "language": "sql"
            },
            "outputs": [],
            "execution_count": null
        },
        {
            "cell_type": "markdown",
            "source": [
                "11. <span style=\"background-color: rgb(255, 255, 255); color: rgb(0, 0, 0); font-family: &quot;Open Sans&quot;, sans-serif; font-size: 14.44px;\">Melyik hónapokban adtak le az ügyfelek több rendelést, mint januárban?&nbsp;</span> \n",
                "\n",
                "a. Elég a hónapok sorszámait megjeleníteni. \n",
                "\n",
                "b. A listát rendezzük a hónapok száma szerint növekvő sorrendbe!"
            ],
            "metadata": {
                "azdata_cell_guid": "7f5fc7a7-3b6a-4d89-b292-490830afb0c6"
            },
            "attachments": {}
        },
        {
            "cell_type": "code",
            "source": [
                ""
            ],
            "metadata": {
                "azdata_cell_guid": "4a9ece40-f782-4c0d-92cd-9c21969067ed",
                "language": "sql"
            },
            "outputs": [],
            "execution_count": null
        },
        {
            "cell_type": "markdown",
            "source": [
                "12. <span style=\"background-color: rgb(255, 255, 255); color: rgb(0, 0, 0); font-family: &quot;Open Sans&quot;, sans-serif; font-size: 14.44px;\">Melyek azok a termékek, amelyek listaára az átlagostól max. 20%-kal tér el?&nbsp;</span> \n",
                "\n",
                "a. A termék kódját és nevét is jelenítsük meg!"
            ],
            "metadata": {
                "azdata_cell_guid": "5a483c52-bb98-44bb-bd03-1146d4b0abfa"
            },
            "attachments": {}
        },
        {
            "cell_type": "code",
            "source": [
                ""
            ],
            "metadata": {
                "azdata_cell_guid": "dd6e89bd-08f9-4b18-8460-03c45b503df0",
                "language": "sql"
            },
            "outputs": [],
            "execution_count": null
        },
        {
            "cell_type": "markdown",
            "source": [
                "13. <span style=\"background-color: rgb(255, 255, 255); color: rgb(0, 0, 0); font-family: &quot;Open Sans&quot;, sans-serif; font-size: 14.44px;\">Készítsünk listát (sorszámonként) az egyes rendelések teljes összegéről!&nbsp;</span> \n",
                "\n",
                "a. Szűrjünk azon tételekre, ahol ez az érték nagyobb, mint Viktor Éva rendeléseinek teljes összege! \n",
                "\n",
                "b. A teljes összeg oszlopot nevezzük el értelemszerűen!"
            ],
            "metadata": {
                "azdata_cell_guid": "85d5cb66-96c6-42de-99cf-85ab22d08548"
            },
            "attachments": {}
        },
        {
            "cell_type": "code",
            "source": [
                ""
            ],
            "metadata": {
                "azdata_cell_guid": "cb07d64b-0eaa-498b-b4d2-0b46971e95ce",
                "language": "sql"
            },
            "outputs": [],
            "execution_count": null
        },
        {
            "cell_type": "markdown",
            "source": [
                "14. <span style=\"background-color: rgb(255, 255, 255); color: rgb(0, 0, 0); font-family: &quot;Open Sans&quot;, sans-serif; font-size: 14.44px;\">Listázzuk azokat a termékkategóriákat, amelyből 2017 januárban nem történt rendelés!&nbsp;</span> \n",
                "\n",
                "a. Elég a kategóriák nevét megjeleníteni!"
            ],
            "metadata": {
                "azdata_cell_guid": "f95ad665-a807-4099-bf06-64ed974f866f"
            },
            "attachments": {}
        },
        {
            "cell_type": "code",
            "source": [
                ""
            ],
            "metadata": {
                "azdata_cell_guid": "74c7ec8a-ae4a-4d03-b1c4-e8f6bb1be12c",
                "language": "sql"
            },
            "outputs": [],
            "execution_count": null
        },
        {
            "cell_type": "markdown",
            "source": [
                "15. <span style=\"background-color: rgb(255, 255, 255); color: rgb(0, 0, 0); font-family: &quot;Open Sans&quot;, sans-serif; font-size: 14.44px;\">Listázzuk azon rendelési tételeket, amelynek értéke nagyobb, mint a legdrágább termék listaára azon termékek közül, amelyek szülő kategóriája a ruha!</span>"
            ],
            "metadata": {
                "azdata_cell_guid": "93552388-ffec-49ff-99e5-ae8dc8072601"
            },
            "attachments": {}
        },
        {
            "cell_type": "code",
            "source": [
                ""
            ],
            "metadata": {
                "azdata_cell_guid": "0e7f547f-7d96-4611-b1c2-0fa84a581e79",
                "language": "sql"
            },
            "outputs": [],
            "execution_count": null
        },
        {
            "cell_type": "code",
            "source": [
                "SELECT IIF(v.USERNEV IS NULL, 'Végösszeg', v.usernev),\r\n",
                "        COUNT(DISTINCT szh.SZALLAS_ID)\r\n",
                "FROM Vendeg v LEFT JOIN Foglalas f ON v.USERNEV=f.UGYFEL_FK\r\n",
                "                LEFT JOIN Szoba sz ON f.SZOBA_FK=sz.SZOBA_ID\r\n",
                "                LEFT JOIN Szallashely szh ON sz.SZALLAS_FK=szh.SZALLAS_ID\r\n",
                "GROUP BY ROLLUP (v.USERNEV)"
            ],
            "metadata": {
                "azdata_cell_guid": "1a581ccb-d6d8-49f8-a823-d60c06487597",
                "language": "sql"
            },
            "outputs": [
                {
                    "output_type": "display_data",
                    "data": {
                        "text/html": "Warning: Null value is eliminated by an aggregate or other SET operation."
                    },
                    "metadata": {}
                },
                {
                    "output_type": "display_data",
                    "data": {
                        "text/html": "(197 rows affected)"
                    },
                    "metadata": {}
                },
                {
                    "output_type": "display_data",
                    "data": {
                        "text/html": "Total execution time: 00:00:00.030"
                    },
                    "metadata": {}
                },
                {
                    "output_type": "execute_result",
                    "metadata": {},
                    "execution_count": 14,
                    "data": {
                        "application/vnd.dataresource+json": {
                            "schema": {
                                "fields": [
                                    {
                                        "name": "(No column name)"
                                    },
                                    {
                                        "name": "(No column name)"
                                    }
                                ]
                            },
                            "data": [
                                {
                                    "(No column name)": "2"
                                },
                                {
                                    "(No column name)": "2"
                                },
                                {
                                    "(No column name)": "5"
                                },
                                {
                                    "(No column name)": "4"
                                },
                                {
                                    "(No column name)": "3"
                                },
                                {
                                    "(No column name)": "5"
                                },
                                {
                                    "(No column name)": "3"
                                },
                                {
                                    "(No column name)": "7"
                                },
                                {
                                    "(No column name)": "3"
                                },
                                {
                                    "(No column name)": "6"
                                },
                                {
                                    "(No column name)": "4"
                                },
                                {
                                    "(No column name)": "3"
                                },
                                {
                                    "(No column name)": "6"
                                },
                                {
                                    "(No column name)": "5"
                                },
                                {
                                    "(No column name)": "2"
                                },
                                {
                                    "(No column name)": "5"
                                },
                                {
                                    "(No column name)": "3"
                                },
                                {
                                    "(No column name)": "1"
                                },
                                {
                                    "(No column name)": "4"
                                },
                                {
                                    "(No column name)": "1"
                                },
                                {
                                    "(No column name)": "2"
                                },
                                {
                                    "(No column name)": "2"
                                },
                                {
                                    "(No column name)": "6"
                                },
                                {
                                    "(No column name)": "3"
                                },
                                {
                                    "(No column name)": "3"
                                },
                                {
                                    "(No column name)": "6"
                                },
                                {
                                    "(No column name)": "4"
                                },
                                {
                                    "(No column name)": "1"
                                },
                                {
                                    "(No column name)": "5"
                                },
                                {
                                    "(No column name)": "5"
                                },
                                {
                                    "(No column name)": "8"
                                },
                                {
                                    "(No column name)": "4"
                                },
                                {
                                    "(No column name)": "3"
                                },
                                {
                                    "(No column name)": "5"
                                },
                                {
                                    "(No column name)": "3"
                                },
                                {
                                    "(No column name)": "5"
                                },
                                {
                                    "(No column name)": "3"
                                },
                                {
                                    "(No column name)": "2"
                                },
                                {
                                    "(No column name)": "6"
                                },
                                {
                                    "(No column name)": "8"
                                },
                                {
                                    "(No column name)": "4"
                                },
                                {
                                    "(No column name)": "3"
                                },
                                {
                                    "(No column name)": "9"
                                },
                                {
                                    "(No column name)": "1"
                                },
                                {
                                    "(No column name)": "2"
                                },
                                {
                                    "(No column name)": "4"
                                },
                                {
                                    "(No column name)": "7"
                                },
                                {
                                    "(No column name)": "5"
                                },
                                {
                                    "(No column name)": "3"
                                },
                                {
                                    "(No column name)": "6"
                                },
                                {
                                    "(No column name)": "4"
                                },
                                {
                                    "(No column name)": "5"
                                },
                                {
                                    "(No column name)": "5"
                                },
                                {
                                    "(No column name)": "6"
                                },
                                {
                                    "(No column name)": "4"
                                },
                                {
                                    "(No column name)": "4"
                                },
                                {
                                    "(No column name)": "4"
                                },
                                {
                                    "(No column name)": "6"
                                },
                                {
                                    "(No column name)": "6"
                                },
                                {
                                    "(No column name)": "5"
                                },
                                {
                                    "(No column name)": "5"
                                },
                                {
                                    "(No column name)": "6"
                                },
                                {
                                    "(No column name)": "5"
                                },
                                {
                                    "(No column name)": "1"
                                },
                                {
                                    "(No column name)": "4"
                                },
                                {
                                    "(No column name)": "3"
                                },
                                {
                                    "(No column name)": "4"
                                },
                                {
                                    "(No column name)": "5"
                                },
                                {
                                    "(No column name)": "3"
                                },
                                {
                                    "(No column name)": "4"
                                },
                                {
                                    "(No column name)": "5"
                                },
                                {
                                    "(No column name)": "3"
                                },
                                {
                                    "(No column name)": "3"
                                },
                                {
                                    "(No column name)": "2"
                                },
                                {
                                    "(No column name)": "3"
                                },
                                {
                                    "(No column name)": "4"
                                },
                                {
                                    "(No column name)": "4"
                                },
                                {
                                    "(No column name)": "5"
                                },
                                {
                                    "(No column name)": "5"
                                },
                                {
                                    "(No column name)": "4"
                                },
                                {
                                    "(No column name)": "0"
                                },
                                {
                                    "(No column name)": "4"
                                },
                                {
                                    "(No column name)": "1"
                                },
                                {
                                    "(No column name)": "4"
                                },
                                {
                                    "(No column name)": "5"
                                },
                                {
                                    "(No column name)": "7"
                                },
                                {
                                    "(No column name)": "3"
                                },
                                {
                                    "(No column name)": "3"
                                },
                                {
                                    "(No column name)": "2"
                                },
                                {
                                    "(No column name)": "2"
                                },
                                {
                                    "(No column name)": "2"
                                },
                                {
                                    "(No column name)": "4"
                                },
                                {
                                    "(No column name)": "3"
                                },
                                {
                                    "(No column name)": "4"
                                },
                                {
                                    "(No column name)": "2"
                                },
                                {
                                    "(No column name)": "5"
                                },
                                {
                                    "(No column name)": "3"
                                },
                                {
                                    "(No column name)": "3"
                                },
                                {
                                    "(No column name)": "3"
                                },
                                {
                                    "(No column name)": "3"
                                },
                                {
                                    "(No column name)": "5"
                                },
                                {
                                    "(No column name)": "3"
                                },
                                {
                                    "(No column name)": "2"
                                },
                                {
                                    "(No column name)": "2"
                                },
                                {
                                    "(No column name)": "4"
                                },
                                {
                                    "(No column name)": "5"
                                },
                                {
                                    "(No column name)": "6"
                                },
                                {
                                    "(No column name)": "3"
                                },
                                {
                                    "(No column name)": "4"
                                },
                                {
                                    "(No column name)": "4"
                                },
                                {
                                    "(No column name)": "3"
                                },
                                {
                                    "(No column name)": "3"
                                },
                                {
                                    "(No column name)": "2"
                                },
                                {
                                    "(No column name)": "6"
                                },
                                {
                                    "(No column name)": "6"
                                },
                                {
                                    "(No column name)": "6"
                                },
                                {
                                    "(No column name)": "5"
                                },
                                {
                                    "(No column name)": "4"
                                },
                                {
                                    "(No column name)": "5"
                                },
                                {
                                    "(No column name)": "3"
                                },
                                {
                                    "(No column name)": "5"
                                },
                                {
                                    "(No column name)": "1"
                                },
                                {
                                    "(No column name)": "5"
                                },
                                {
                                    "(No column name)": "3"
                                },
                                {
                                    "(No column name)": "5"
                                },
                                {
                                    "(No column name)": "6"
                                },
                                {
                                    "(No column name)": "3"
                                },
                                {
                                    "(No column name)": "2"
                                },
                                {
                                    "(No column name)": "6"
                                },
                                {
                                    "(No column name)": "3"
                                },
                                {
                                    "(No column name)": "2"
                                },
                                {
                                    "(No column name)": "5"
                                },
                                {
                                    "(No column name)": "4"
                                },
                                {
                                    "(No column name)": "3"
                                },
                                {
                                    "(No column name)": "3"
                                },
                                {
                                    "(No column name)": "5"
                                },
                                {
                                    "(No column name)": "2"
                                },
                                {
                                    "(No column name)": "4"
                                },
                                {
                                    "(No column name)": "4"
                                },
                                {
                                    "(No column name)": "4"
                                },
                                {
                                    "(No column name)": "4"
                                },
                                {
                                    "(No column name)": "5"
                                },
                                {
                                    "(No column name)": "5"
                                },
                                {
                                    "(No column name)": "2"
                                },
                                {
                                    "(No column name)": "3"
                                },
                                {
                                    "(No column name)": "3"
                                },
                                {
                                    "(No column name)": "4"
                                },
                                {
                                    "(No column name)": "3"
                                },
                                {
                                    "(No column name)": "7"
                                },
                                {
                                    "(No column name)": "3"
                                },
                                {
                                    "(No column name)": "4"
                                },
                                {
                                    "(No column name)": "4"
                                },
                                {
                                    "(No column name)": "4"
                                },
                                {
                                    "(No column name)": "5"
                                },
                                {
                                    "(No column name)": "3"
                                },
                                {
                                    "(No column name)": "4"
                                },
                                {
                                    "(No column name)": "4"
                                },
                                {
                                    "(No column name)": "2"
                                },
                                {
                                    "(No column name)": "3"
                                },
                                {
                                    "(No column name)": "4"
                                },
                                {
                                    "(No column name)": "3"
                                },
                                {
                                    "(No column name)": "4"
                                },
                                {
                                    "(No column name)": "3"
                                },
                                {
                                    "(No column name)": "3"
                                },
                                {
                                    "(No column name)": "9"
                                },
                                {
                                    "(No column name)": "3"
                                },
                                {
                                    "(No column name)": "2"
                                },
                                {
                                    "(No column name)": "1"
                                },
                                {
                                    "(No column name)": "4"
                                },
                                {
                                    "(No column name)": "5"
                                },
                                {
                                    "(No column name)": "6"
                                },
                                {
                                    "(No column name)": "2"
                                },
                                {
                                    "(No column name)": "4"
                                },
                                {
                                    "(No column name)": "6"
                                },
                                {
                                    "(No column name)": "2"
                                },
                                {
                                    "(No column name)": "1"
                                },
                                {
                                    "(No column name)": "4"
                                },
                                {
                                    "(No column name)": "1"
                                },
                                {
                                    "(No column name)": "5"
                                },
                                {
                                    "(No column name)": "7"
                                },
                                {
                                    "(No column name)": "5"
                                },
                                {
                                    "(No column name)": "4"
                                },
                                {
                                    "(No column name)": "4"
                                },
                                {
                                    "(No column name)": "2"
                                },
                                {
                                    "(No column name)": "5"
                                },
                                {
                                    "(No column name)": "2"
                                },
                                {
                                    "(No column name)": "5"
                                },
                                {
                                    "(No column name)": "3"
                                },
                                {
                                    "(No column name)": "2"
                                },
                                {
                                    "(No column name)": "2"
                                },
                                {
                                    "(No column name)": "2"
                                },
                                {
                                    "(No column name)": "6"
                                },
                                {
                                    "(No column name)": "2"
                                },
                                {
                                    "(No column name)": "4"
                                },
                                {
                                    "(No column name)": "4"
                                },
                                {
                                    "(No column name)": "5"
                                },
                                {
                                    "(No column name)": "12"
                                }
                            ]
                        },
                        "text/html": [
                            "<table>",
                            "<tr><th>(No column name)</th><th>(No column name)</th></tr>",
                            "<tr><td>adam1</td><td>2</td></tr>",
                            "<tr><td>adam3</td><td>2</td></tr>",
                            "<tr><td>adam4</td><td>5</td></tr>",
                            "<tr><td>agnes</td><td>4</td></tr>",
                            "<tr><td>agnes3</td><td>3</td></tr>",
                            "<tr><td>AGNESH</td><td>5</td></tr>",
                            "<tr><td>AGNESK</td><td>3</td></tr>",
                            "<tr><td>akos</td><td>7</td></tr>",
                            "<tr><td>aladar</td><td>3</td></tr>",
                            "<tr><td>alexandra</td><td>6</td></tr>",
                            "<tr><td>andi</td><td>4</td></tr>",
                            "<tr><td>andras2</td><td>3</td></tr>",
                            "<tr><td>andras21</td><td>6</td></tr>",
                            "<tr><td>andras3</td><td>5</td></tr>",
                            "<tr><td>andras4</td><td>2</td></tr>",
                            "<tr><td>andras41</td><td>5</td></tr>",
                            "<tr><td>ANDRASE</td><td>3</td></tr>",
                            "<tr><td>ANDRASN</td><td>1</td></tr>",
                            "<tr><td>andrea</td><td>4</td></tr>",
                            "<tr><td>andrea3</td><td>1</td></tr>",
                            "<tr><td>andrea4</td><td>2</td></tr>",
                            "<tr><td>ANDREAT</td><td>2</td></tr>",
                            "<tr><td>anett3</td><td>6</td></tr>",
                            "<tr><td>aniko</td><td>3</td></tr>",
                            "<tr><td>aniko4</td><td>3</td></tr>",
                            "<tr><td>ANIKOS</td><td>6</td></tr>",
                            "<tr><td>anita</td><td>4</td></tr>",
                            "<tr><td>annamaria1</td><td>1</td></tr>",
                            "<tr><td>ANNAMARIAR</td><td>5</td></tr>",
                            "<tr><td>aron2</td><td>5</td></tr>",
                            "<tr><td>ARONK</td><td>8</td></tr>",
                            "<tr><td>arpad2</td><td>4</td></tr>",
                            "<tr><td>ARPADH</td><td>3</td></tr>",
                            "<tr><td>ARPADM</td><td>5</td></tr>",
                            "<tr><td>attila</td><td>3</td></tr>",
                            "<tr><td>attila1</td><td>5</td></tr>",
                            "<tr><td>attila4</td><td>3</td></tr>",
                            "<tr><td>ATTILAO</td><td>2</td></tr>",
                            "<tr><td>balazs1</td><td>6</td></tr>",
                            "<tr><td>balazs2</td><td>8</td></tr>",
                            "<tr><td>balazs3</td><td>4</td></tr>",
                            "<tr><td>balint</td><td>3</td></tr>",
                            "<tr><td>balint1</td><td>9</td></tr>",
                            "<tr><td>balint2</td><td>1</td></tr>",
                            "<tr><td>balu</td><td>2</td></tr>",
                            "<tr><td>beata4</td><td>4</td></tr>",
                            "<tr><td>BEATRIXK</td><td>7</td></tr>",
                            "<tr><td>BEATRIXS</td><td>5</td></tr>",
                            "<tr><td>BELAF</td><td>3</td></tr>",
                            "<tr><td>bence</td><td>6</td></tr>",
                            "<tr><td>BENCEB</td><td>4</td></tr>",
                            "<tr><td>bernadett1</td><td>5</td></tr>",
                            "<tr><td>bernadett2</td><td>5</td></tr>",
                            "<tr><td>BERNADETTO</td><td>6</td></tr>",
                            "<tr><td>bertalan</td><td>4</td></tr>",
                            "<tr><td>brigitta</td><td>4</td></tr>",
                            "<tr><td>brigitta3</td><td>4</td></tr>",
                            "<tr><td>csongor3</td><td>6</td></tr>",
                            "<tr><td>dani</td><td>6</td></tr>",
                            "<tr><td>daniel</td><td>5</td></tr>",
                            "<tr><td>daniel1</td><td>5</td></tr>",
                            "<tr><td>david</td><td>6</td></tr>",
                            "<tr><td>david1</td><td>5</td></tr>",
                            "<tr><td>david4</td><td>1</td></tr>",
                            "<tr><td>debora</td><td>4</td></tr>",
                            "<tr><td>denes</td><td>3</td></tr>",
                            "<tr><td>dora3</td><td>4</td></tr>",
                            "<tr><td>edit</td><td>5</td></tr>",
                            "<tr><td>emese</td><td>3</td></tr>",
                            "<tr><td>eszter</td><td>4</td></tr>",
                            "<tr><td>eszter2</td><td>5</td></tr>",
                            "<tr><td>eszter4</td><td>3</td></tr>",
                            "<tr><td>ESZTERE</td><td>3</td></tr>",
                            "<tr><td>eva</td><td>2</td></tr>",
                            "<tr><td>eva2</td><td>3</td></tr>",
                            "<tr><td>EVAV</td><td>4</td></tr>",
                            "<tr><td>ferenc1</td><td>4</td></tr>",
                            "<tr><td>fruzsina4</td><td>5</td></tr>",
                            "<tr><td>gabor1</td><td>5</td></tr>",
                            "<tr><td>gabor4</td><td>4</td></tr>",
                            "<tr><td>GABORS</td><td>0</td></tr>",
                            "<tr><td>gabriella1</td><td>4</td></tr>",
                            "<tr><td>gabriella10</td><td>1</td></tr>",
                            "<tr><td>georgij</td><td>4</td></tr>",
                            "<tr><td>gusztav</td><td>5</td></tr>",
                            "<tr><td>GYONGYIK</td><td>7</td></tr>",
                            "<tr><td>GYORGYO</td><td>3</td></tr>",
                            "<tr><td>henrik3</td><td>3</td></tr>",
                            "<tr><td>IBOLYAA</td><td>2</td></tr>",
                            "<tr><td>ilona3</td><td>2</td></tr>",
                            "<tr><td>imre</td><td>2</td></tr>",
                            "<tr><td>imre1</td><td>4</td></tr>",
                            "<tr><td>istvan</td><td>3</td></tr>",
                            "<tr><td>istvan1</td><td>4</td></tr>",
                            "<tr><td>ISTVANV</td><td>2</td></tr>",
                            "<tr><td>janos3</td><td>5</td></tr>",
                            "<tr><td>JANOSG</td><td>3</td></tr>",
                            "<tr><td>JANOSP</td><td>3</td></tr>",
                            "<tr><td>jozsef</td><td>3</td></tr>",
                            "<tr><td>jozsef2</td><td>3</td></tr>",
                            "<tr><td>JOZSEFG</td><td>5</td></tr>",
                            "<tr><td>JUDITH</td><td>3</td></tr>",
                            "<tr><td>julia</td><td>2</td></tr>",
                            "<tr><td>julia4</td><td>2</td></tr>",
                            "<tr><td>julianna4</td><td>4</td></tr>",
                            "<tr><td>kata</td><td>5</td></tr>",
                            "<tr><td>katalin</td><td>6</td></tr>",
                            "<tr><td>katalin4</td><td>3</td></tr>",
                            "<tr><td>kati</td><td>4</td></tr>",
                            "<tr><td>katka</td><td>4</td></tr>",
                            "<tr><td>klaudia2</td><td>3</td></tr>",
                            "<tr><td>kornel4</td><td>3</td></tr>",
                            "<tr><td>kristof4</td><td>2</td></tr>",
                            "<tr><td>kriszti</td><td>6</td></tr>",
                            "<tr><td>krisztian4</td><td>6</td></tr>",
                            "<tr><td>KRISZTIANM</td><td>6</td></tr>",
                            "<tr><td>krisztina</td><td>5</td></tr>",
                            "<tr><td>krisztina1</td><td>4</td></tr>",
                            "<tr><td>KRISZTINAG</td><td>5</td></tr>",
                            "<tr><td>lajos</td><td>3</td></tr>",
                            "<tr><td>lala</td><td>5</td></tr>",
                            "<tr><td>laszlo1</td><td>1</td></tr>",
                            "<tr><td>laszlo2</td><td>5</td></tr>",
                            "<tr><td>LASZLOA</td><td>3</td></tr>",
                            "<tr><td>LASZLON</td><td>5</td></tr>",
                            "<tr><td>maria1</td><td>6</td></tr>",
                            "<tr><td>mark</td><td>3</td></tr>",
                            "<tr><td>MARKH</td><td>2</td></tr>",
                            "<tr><td>marton</td><td>6</td></tr>",
                            "<tr><td>MATEK</td><td>3</td></tr>",
                            "<tr><td>matyas2</td><td>2</td></tr>",
                            "<tr><td>MATYASS</td><td>5</td></tr>",
                            "<tr><td>MIHALYJ</td><td>4</td></tr>",
                            "<tr><td>miklos2</td><td>3</td></tr>",
                            "<tr><td>MIKLOSB</td><td>3</td></tr>",
                            "<tr><td>MONIKAM</td><td>5</td></tr>",
                            "<tr><td>NANDORF</td><td>2</td></tr>",
                            "<tr><td>nikolett3</td><td>4</td></tr>",
                            "<tr><td>nikoletta4</td><td>4</td></tr>",
                            "<tr><td>NIKOLETTAT</td><td>4</td></tr>",
                            "<tr><td>norbert</td><td>4</td></tr>",
                            "<tr><td>norbert2</td><td>5</td></tr>",
                            "<tr><td>norbert4</td><td>5</td></tr>",
                            "<tr><td>norbert5</td><td>2</td></tr>",
                            "<tr><td>pal</td><td>3</td></tr>",
                            "<tr><td>peter1</td><td>3</td></tr>",
                            "<tr><td>peter2</td><td>4</td></tr>",
                            "<tr><td>peter3</td><td>3</td></tr>",
                            "<tr><td>peter4</td><td>7</td></tr>",
                            "<tr><td>PETERB</td><td>3</td></tr>",
                            "<tr><td>polla</td><td>4</td></tr>",
                            "<tr><td>rajmond4</td><td>4</td></tr>",
                            "<tr><td>reka4</td><td>4</td></tr>",
                            "<tr><td>RENATAK</td><td>5</td></tr>",
                            "<tr><td>RENATAS</td><td>3</td></tr>",
                            "<tr><td>robert2</td><td>4</td></tr>",
                            "<tr><td>ROBERTI</td><td>4</td></tr>",
                            "<tr><td>ROBERTP</td><td>2</td></tr>",
                            "<tr><td>roland</td><td>3</td></tr>",
                            "<tr><td>roland1</td><td>4</td></tr>",
                            "<tr><td>roza2</td><td>3</td></tr>",
                            "<tr><td>sandor</td><td>4</td></tr>",
                            "<tr><td>sandor3</td><td>3</td></tr>",
                            "<tr><td>sandor4</td><td>3</td></tr>",
                            "<tr><td>sara</td><td>9</td></tr>",
                            "<tr><td>SEBASTIANF</td><td>3</td></tr>",
                            "<tr><td>sebestyen</td><td>2</td></tr>",
                            "<tr><td>szabolcs</td><td>1</td></tr>",
                            "<tr><td>SZABOLCSM</td><td>4</td></tr>",
                            "<tr><td>SZILARDS</td><td>5</td></tr>",
                            "<tr><td>szilvia1</td><td>6</td></tr>",
                            "<tr><td>tamara2</td><td>2</td></tr>",
                            "<tr><td>tamas</td><td>4</td></tr>",
                            "<tr><td>TAMASF</td><td>6</td></tr>",
                            "<tr><td>tibor</td><td>2</td></tr>",
                            "<tr><td>tibor2</td><td>1</td></tr>",
                            "<tr><td>tihamer</td><td>4</td></tr>",
                            "<tr><td>timea</td><td>1</td></tr>",
                            "<tr><td>timea2</td><td>5</td></tr>",
                            "<tr><td>tunde</td><td>7</td></tr>",
                            "<tr><td>valentin</td><td>5</td></tr>",
                            "<tr><td>veronika4</td><td>4</td></tr>",
                            "<tr><td>VIKTORIAU</td><td>4</td></tr>",
                            "<tr><td>VIKTORK</td><td>2</td></tr>",
                            "<tr><td>vivien3</td><td>5</td></tr>",
                            "<tr><td>zoltan</td><td>2</td></tr>",
                            "<tr><td>zoltan4</td><td>5</td></tr>",
                            "<tr><td>ZOLTANP</td><td>3</td></tr>",
                            "<tr><td>ZOLTANT</td><td>2</td></tr>",
                            "<tr><td>zsofi1</td><td>2</td></tr>",
                            "<tr><td>zsolt1</td><td>2</td></tr>",
                            "<tr><td>ZSOLTJ</td><td>6</td></tr>",
                            "<tr><td>zsuzsa</td><td>2</td></tr>",
                            "<tr><td>zsuzsa3</td><td>4</td></tr>",
                            "<tr><td>zsuzsanna</td><td>4</td></tr>",
                            "<tr><td>ZSUZSAV</td><td>5</td></tr>",
                            "<tr><td>Végösszeg</td><td>12</td></tr>",
                            "</table>"
                        ]
                    }
                }
            ],
            "execution_count": 14
        },
        {
            "cell_type": "code",
            "source": [
                "SELECT *,\r\n",
                "        DATEDIFF(year, SZUL_DAT, GETDATE()) AS 'Életkor',\r\n",
                "        AVG(DATEDIFF(year, SZUL_DAT, GETDATE())) OVER(ORDER BY SZUL_DAT ROWS BETWEEN 2 PRECEDING AND 2 FOLLOWING)\r\n",
                "FROM Vendeg"
            ],
            "metadata": {
                "azdata_cell_guid": "4427a405-9f06-4714-82bf-8c9f5d6804c5",
                "language": "sql"
            },
            "outputs": [
                {
                    "output_type": "display_data",
                    "data": {
                        "text/html": "(196 rows affected)"
                    },
                    "metadata": {}
                },
                {
                    "output_type": "display_data",
                    "data": {
                        "text/html": "Total execution time: 00:00:00.012"
                    },
                    "metadata": {}
                },
                {
                    "output_type": "execute_result",
                    "metadata": {},
                    "execution_count": 17,
                    "data": {
                        "application/vnd.dataresource+json": {
                            "schema": {
                                "fields": [
                                    {
                                        "name": "USERNEV"
                                    },
                                    {
                                        "name": "NEV"
                                    },
                                    {
                                        "name": "EMAIL"
                                    },
                                    {
                                        "name": "SZAML_CIM"
                                    },
                                    {
                                        "name": "SZUL_DAT"
                                    },
                                    {
                                        "name": "Életkor"
                                    },
                                    {
                                        "name": "(No column name)"
                                    }
                                ]
                            },
                            "data": [
                                {
                                    "USERNEV": "anett3",
                                    "NEV": "Pivarcsi Anett",
                                    "EMAIL": "anett.pivarcsi@mail.hu",
                                    "SZAML_CIM": "1149 Budapest Fő út 60.",
                                    "SZUL_DAT": "1967-01-03",
                                    "Életkor": "57",
                                    "(No column name)": "57"
                                },
                                {
                                    "USERNEV": "gusztav",
                                    "NEV": "Bárci Gusztáv",
                                    "EMAIL": "gusztav@gmail.com",
                                    "SZAML_CIM": "3643 Dédestapolcsány Endrődi Sándor utca 47.",
                                    "SZUL_DAT": "1967-02-25",
                                    "Életkor": "57",
                                    "(No column name)": "57"
                                },
                                {
                                    "USERNEV": "agnes3",
                                    "NEV": "Hartyánszky Ágnes",
                                    "EMAIL": "agnes3@gmail.com",
                                    "SZAML_CIM": "6430 Bácsalmás Posta köz 2.",
                                    "SZUL_DAT": "1967-04-11",
                                    "Életkor": "57",
                                    "(No column name)": "57"
                                },
                                {
                                    "USERNEV": "eva",
                                    "NEV": "Enyedi Éva",
                                    "EMAIL": "eva@gmail.com",
                                    "SZAML_CIM": "4231 Bököny Petőfi utca 8.",
                                    "SZUL_DAT": "1967-06-30",
                                    "Életkor": "57",
                                    "(No column name)": "57"
                                },
                                {
                                    "USERNEV": "ROBERTI",
                                    "NEV": "Iván Róbert",
                                    "EMAIL": "róbert.iván@mail.hu",
                                    "SZAML_CIM": "2377 Örkény Petőfi Sándor utca 3.",
                                    "SZUL_DAT": "1967-07-02",
                                    "Életkor": "57",
                                    "(No column name)": "57"
                                },
                                {
                                    "USERNEV": "SZILARDS",
                                    "NEV": "Szalai Szilárd",
                                    "EMAIL": "szilárd.szalai@mail.hu",
                                    "SZAML_CIM": "1077 Budapest Fő út 18.",
                                    "SZUL_DAT": "1967-09-28",
                                    "Életkor": "57",
                                    "(No column name)": "57"
                                },
                                {
                                    "USERNEV": "laszlo1",
                                    "NEV": "Farkas László",
                                    "EMAIL": "lászló.farkas@mail.hu",
                                    "SZAML_CIM": "5200 Törökszentmiklós Rendeki utca 21.",
                                    "SZUL_DAT": "1967-10-30",
                                    "Életkor": "57",
                                    "(No column name)": "56"
                                },
                                {
                                    "USERNEV": "janos3",
                                    "NEV": "Harangozó János",
                                    "EMAIL": "janos3@gmail.com",
                                    "SZAML_CIM": "8700 Marcali Petőfi Sándor tér 1.",
                                    "SZUL_DAT": "1967-11-02",
                                    "Életkor": "57",
                                    "(No column name)": "56"
                                },
                                {
                                    "USERNEV": "katalin",
                                    "NEV": "Horváth Katalin",
                                    "EMAIL": "katalin.horváth@mail.hu",
                                    "SZAML_CIM": "2424 Előszállás Rákóczi út 200.",
                                    "SZUL_DAT": "1968-01-01",
                                    "Életkor": "56",
                                    "(No column name)": "56"
                                },
                                {
                                    "USERNEV": "pal",
                                    "NEV": "Barabás Pál",
                                    "EMAIL": "pál.barabás@mail.hu",
                                    "SZAML_CIM": "1183 Budapest Szolnoki út 8.",
                                    "SZUL_DAT": "1968-02-06",
                                    "Életkor": "56",
                                    "(No column name)": "56"
                                },
                                {
                                    "USERNEV": "roland",
                                    "NEV": "Tóth Roland",
                                    "EMAIL": "roland@gmail.com",
                                    "SZAML_CIM": "2000 Szentendre Fő út 169.",
                                    "SZUL_DAT": "1968-03-21",
                                    "Életkor": "56",
                                    "(No column name)": "56"
                                },
                                {
                                    "USERNEV": "andi",
                                    "NEV": "Maródi Andrea",
                                    "EMAIL": "andrea.maródi@mail.hu",
                                    "SZAML_CIM": "5465 Cserkeszőlő Árpád utca 4.",
                                    "SZUL_DAT": "1968-05-07",
                                    "Életkor": "56",
                                    "(No column name)": "56"
                                },
                                {
                                    "USERNEV": "KRISZTIANM",
                                    "NEV": "Mogyródi Krisztián",
                                    "EMAIL": "KRISZTIANM@gmail.com",
                                    "SZAML_CIM": "9155 Lébény Jászai tér 21.",
                                    "SZUL_DAT": "1968-05-27",
                                    "Életkor": "56",
                                    "(No column name)": "56"
                                },
                                {
                                    "USERNEV": "kata",
                                    "NEV": "Gondos Katalin",
                                    "EMAIL": "katalin.gondos@mail.hu",
                                    "SZAML_CIM": "8237 Tihany Kossuth Lajos utca 6.",
                                    "SZUL_DAT": "1968-06-22",
                                    "Életkor": "56",
                                    "(No column name)": "55"
                                },
                                {
                                    "USERNEV": "NANDORF",
                                    "NEV": "Fő Nándor",
                                    "EMAIL": "nándor.fő@mail.hu",
                                    "SZAML_CIM": "5920 Csorvás Bécsi utca 82.",
                                    "SZUL_DAT": "1968-11-12",
                                    "Életkor": "56",
                                    "(No column name)": "55"
                                },
                                {
                                    "USERNEV": "PETERB",
                                    "NEV": "Berendi Péter",
                                    "EMAIL": "péter.berendi@mail.hu",
                                    "SZAML_CIM": "3980 Sátoraljaújhely Vasút utca 4/10.",
                                    "SZUL_DAT": "1969-01-01",
                                    "Életkor": "55",
                                    "(No column name)": "55"
                                },
                                {
                                    "USERNEV": "LASZLON",
                                    "NEV": "Nagy László",
                                    "EMAIL": "lászló.nagy@mail.hu",
                                    "SZAML_CIM": "1173 Budapest Jászai tér 21.",
                                    "SZUL_DAT": "1969-04-12",
                                    "Életkor": "55",
                                    "(No column name)": "55"
                                },
                                {
                                    "USERNEV": "gabriella10",
                                    "NEV": "Vida Gabriella",
                                    "EMAIL": "gabriella10@gmail.com",
                                    "SZAML_CIM": "2484 Agárd Arany János utca 3.",
                                    "SZUL_DAT": "1969-06-18",
                                    "Életkor": "55",
                                    "(No column name)": "55"
                                },
                                {
                                    "USERNEV": "LASZLOA",
                                    "NEV": "Antal László",
                                    "EMAIL": "lászló.antal@mail.hu",
                                    "SZAML_CIM": "2484 Agárd Bécsi utca 82.",
                                    "SZUL_DAT": "1969-06-29",
                                    "Életkor": "55",
                                    "(No column name)": "55"
                                },
                                {
                                    "USERNEV": "daniel1",
                                    "NEV": "Keszler Dániel",
                                    "EMAIL": "dániel.keszler@mail.hu",
                                    "SZAML_CIM": "3580 Tiszaújváros Kossuth Lajos utca 6.",
                                    "SZUL_DAT": "1969-07-16",
                                    "Életkor": "55",
                                    "(No column name)": "55"
                                },
                                {
                                    "USERNEV": "norbert",
                                    "NEV": "Szűcs Norbert",
                                    "EMAIL": "norbert@gmail.com",
                                    "SZAML_CIM": "5071 Besenyszög Győri utca 12.",
                                    "SZUL_DAT": "1969-07-17",
                                    "Életkor": "55",
                                    "(No column name)": "55"
                                },
                                {
                                    "USERNEV": "krisztina1",
                                    "NEV": "Bori Krisztina",
                                    "EMAIL": "krisztina.bori@mail.hu",
                                    "SZAML_CIM": "2115 Vácszentlászló Fő utca 47.",
                                    "SZUL_DAT": "1969-10-13",
                                    "Életkor": "55",
                                    "(No column name)": "54"
                                },
                                {
                                    "USERNEV": "reka4",
                                    "NEV": "Szikszai Réka",
                                    "EMAIL": "réka.szikszai@mail.hu",
                                    "SZAML_CIM": "8254 Kővágóörs Templom utca 73.",
                                    "SZUL_DAT": "1969-11-27",
                                    "Életkor": "55",
                                    "(No column name)": "54"
                                },
                                {
                                    "USERNEV": "sandor",
                                    "NEV": "Karasz Sándor",
                                    "EMAIL": "sandor@gmail.com",
                                    "SZAML_CIM": "8283 Káptalantóti Kossuth Lajos utca 1/a.",
                                    "SZUL_DAT": "1970-01-27",
                                    "Életkor": "54",
                                    "(No column name)": "54"
                                },
                                {
                                    "USERNEV": "adam3",
                                    "NEV": "Barkóci Ádám",
                                    "EMAIL": "adam3@gmail.com",
                                    "SZAML_CIM": "3910 Tokaj Dózsa György utca 37.",
                                    "SZUL_DAT": "1970-06-07",
                                    "Életkor": "54",
                                    "(No column name)": "54"
                                },
                                {
                                    "USERNEV": "krisztian4",
                                    "NEV": "Czérna Krisztián",
                                    "EMAIL": "krisztián.czérna@mail.hu",
                                    "SZAML_CIM": "1107 Budapest Dózsa György utca 37.",
                                    "SZUL_DAT": "1970-08-01",
                                    "Életkor": "54",
                                    "(No column name)": "53"
                                },
                                {
                                    "USERNEV": "david1",
                                    "NEV": "Sobják Dávid",
                                    "EMAIL": "david1@gmail.com",
                                    "SZAML_CIM": "5083 Kengyel Arany János utca 3.",
                                    "SZUL_DAT": "1970-08-16",
                                    "Életkor": "54",
                                    "(No column name)": "53"
                                },
                                {
                                    "USERNEV": "szilvia1",
                                    "NEV": "Tari Szilvia",
                                    "EMAIL": "szilvia.tari@mail.hu",
                                    "SZAML_CIM": "6080 Szabadszállás Bécsi utca 82.",
                                    "SZUL_DAT": "1971-03-09",
                                    "Életkor": "53",
                                    "(No column name)": "53"
                                },
                                {
                                    "USERNEV": "anita",
                                    "NEV": "Hamvay-Kovács Anita",
                                    "EMAIL": "anita.hamvay-kovács@mail.hu",
                                    "SZAML_CIM": "7220 Sarkad Táncsics utca 19.",
                                    "SZUL_DAT": "1971-03-20",
                                    "Életkor": "53",
                                    "(No column name)": "53"
                                },
                                {
                                    "USERNEV": "andras3",
                                    "NEV": "Vígh András",
                                    "EMAIL": "andrás.vígh@mail.hu",
                                    "SZAML_CIM": "1118 Budapest Arany János utca 1.",
                                    "SZUL_DAT": "1971-04-02",
                                    "Életkor": "53",
                                    "(No column name)": "53"
                                },
                                {
                                    "USERNEV": "aron2",
                                    "NEV": "Jakab Áron",
                                    "EMAIL": "aron2@gmail.com",
                                    "SZAML_CIM": "7133 Fadd Bajcsy-Zsilinszky utca 4.",
                                    "SZUL_DAT": "1971-04-26",
                                    "Életkor": "53",
                                    "(No column name)": "52"
                                },
                                {
                                    "USERNEV": "eva2",
                                    "NEV": "Perlinger Éva",
                                    "EMAIL": "eva2@gmail.com",
                                    "SZAML_CIM": "9653 Répcelak Bécsi utca 82.",
                                    "SZUL_DAT": "1971-08-19",
                                    "Életkor": "53",
                                    "(No column name)": "52"
                                },
                                {
                                    "USERNEV": "nikoletta4",
                                    "NEV": "Kő Nikoletta",
                                    "EMAIL": "nikoletta4@gmail.com",
                                    "SZAML_CIM": "5537 Zsadány Fő út 18.",
                                    "SZUL_DAT": "1972-01-10",
                                    "Életkor": "52",
                                    "(No column name)": "52"
                                },
                                {
                                    "USERNEV": "BEATRIXK",
                                    "NEV": "Kerényi Beatrix",
                                    "EMAIL": "beatrix.kerényi@mail.hu",
                                    "SZAML_CIM": "7396 Magyarszék Kossuth Lajos utca 47/b.",
                                    "SZUL_DAT": "1972-04-06",
                                    "Életkor": "52",
                                    "(No column name)": "52"
                                },
                                {
                                    "USERNEV": "ROBERTP",
                                    "NEV": "Pásztor Róbert",
                                    "EMAIL": "ROBERTP@gmail.com",
                                    "SZAML_CIM": "5137 Jászkisér Ady Endre út 27.",
                                    "SZUL_DAT": "1972-05-16",
                                    "Életkor": "52",
                                    "(No column name)": "51"
                                },
                                {
                                    "USERNEV": "matyas2",
                                    "NEV": "Botka Mátyás",
                                    "EMAIL": "matyas2@gmail.com",
                                    "SZAML_CIM": "2700 Cegléd Kossuth Lajos utca 6.",
                                    "SZUL_DAT": "1972-07-07",
                                    "Életkor": "52",
                                    "(No column name)": "51"
                                },
                                {
                                    "USERNEV": "sara",
                                    "NEV": "Farkas Sára",
                                    "EMAIL": "sára.farkas@mail.hu",
                                    "SZAML_CIM": "5940 Tótkomlós Felszabadulás utca 32.",
                                    "SZUL_DAT": "1973-04-05",
                                    "Életkor": "51",
                                    "(No column name)": "51"
                                },
                                {
                                    "USERNEV": "aniko",
                                    "NEV": "Tóth Anikó",
                                    "EMAIL": "aniko@gmail.com",
                                    "SZAML_CIM": "2085 Pilisvörösvár Deák Ferenc út 5.",
                                    "SZUL_DAT": "1973-06-03",
                                    "Életkor": "51",
                                    "(No column name)": "51"
                                },
                                {
                                    "USERNEV": "BENCEB",
                                    "NEV": "Bajusz Bence",
                                    "EMAIL": "bence.bajusz@mail.hu",
                                    "SZAML_CIM": "8391 Sármellék Fő utca 56.",
                                    "SZUL_DAT": "1973-06-21",
                                    "Életkor": "51",
                                    "(No column name)": "50"
                                },
                                {
                                    "USERNEV": "gabor1",
                                    "NEV": "Köves Gábor",
                                    "EMAIL": "gabor1@gmail.com",
                                    "SZAML_CIM": "6762 Sándorfalva Árpád utca 23.",
                                    "SZUL_DAT": "1973-07-15",
                                    "Életkor": "51",
                                    "(No column name)": "50"
                                },
                                {
                                    "USERNEV": "david",
                                    "NEV": "Ambrus Dávid",
                                    "EMAIL": "david@gmail.com",
                                    "SZAML_CIM": "1149 Budapest Fő út 18.",
                                    "SZUL_DAT": "1974-02-11",
                                    "Életkor": "50",
                                    "(No column name)": "50"
                                },
                                {
                                    "USERNEV": "tunde",
                                    "NEV": "Turcsik Tünde",
                                    "EMAIL": "tunde@gmail.com",
                                    "SZAML_CIM": "7130 Tolna Fő út 122.",
                                    "SZUL_DAT": "1974-02-12",
                                    "Életkor": "50",
                                    "(No column name)": "50"
                                },
                                {
                                    "USERNEV": "GYONGYIK",
                                    "NEV": "Kornseé Gyöngyi",
                                    "EMAIL": "gyöngyi.kornseé@mail.hu",
                                    "SZAML_CIM": "8800 Nagykanizsa Fő út 60.",
                                    "SZUL_DAT": "1974-06-07",
                                    "Életkor": "50",
                                    "(No column name)": "49"
                                },
                                {
                                    "USERNEV": "MONIKAM",
                                    "NEV": "Mohos Mónika",
                                    "EMAIL": "mónika.mohos@mail.hu",
                                    "SZAML_CIM": "2241 Sülysáp Baracsi László utca 14.",
                                    "SZUL_DAT": "1974-10-01",
                                    "Életkor": "50",
                                    "(No column name)": "49"
                                },
                                {
                                    "USERNEV": "JANOSG",
                                    "NEV": "Giliga János",
                                    "EMAIL": "JANOSG@gmail.com",
                                    "SZAML_CIM": "3300 Eger Deák Ferenc út 5.",
                                    "SZUL_DAT": "1975-01-03",
                                    "Életkor": "49",
                                    "(No column name)": "49"
                                },
                                {
                                    "USERNEV": "laszlo2",
                                    "NEV": "Móra László",
                                    "EMAIL": "lászló.móra@mail.hu",
                                    "SZAML_CIM": "9970 Szentgotthárd Petőfi utca 1/2.",
                                    "SZUL_DAT": "1975-02-19",
                                    "Életkor": "49",
                                    "(No column name)": "49"
                                },
                                {
                                    "USERNEV": "denes",
                                    "NEV": "Tömböly Dénes",
                                    "EMAIL": "denes@gmail.com",
                                    "SZAML_CIM": "2400 Dunaújváros Kossuth út 39.",
                                    "SZUL_DAT": "1975-03-14",
                                    "Életkor": "49",
                                    "(No column name)": "49"
                                },
                                {
                                    "USERNEV": "MATYASS",
                                    "NEV": "Szilágyi Mátyás",
                                    "EMAIL": "mátyás.szilágyi@mail.hu",
                                    "SZAML_CIM": "9023 Győr Kossuth Lajos utca 6.",
                                    "SZUL_DAT": "1975-03-22",
                                    "Életkor": "49",
                                    "(No column name)": "49"
                                },
                                {
                                    "USERNEV": "katka",
                                    "NEV": "Kovács Katalin",
                                    "EMAIL": "katalin.kovács@mail.hu",
                                    "SZAML_CIM": "8254 Kővágóörs Petőfi utca 22.",
                                    "SZUL_DAT": "1975-03-31",
                                    "Életkor": "49",
                                    "(No column name)": "49"
                                },
                                {
                                    "USERNEV": "JOZSEFG",
                                    "NEV": "Gyuris József",
                                    "EMAIL": "józsef.gyuris@mail.hu",
                                    "SZAML_CIM": "2660 Balassagyarmat Petőfi utca 1/2.",
                                    "SZUL_DAT": "1975-05-26",
                                    "Életkor": "49",
                                    "(No column name)": "49"
                                },
                                {
                                    "USERNEV": "norbert5",
                                    "NEV": "Béres Norbert",
                                    "EMAIL": "norbert5@gmail.com",
                                    "SZAML_CIM": "8640 Fonyód Bajcsy-Zsilinszky utca 4.",
                                    "SZUL_DAT": "1975-07-27",
                                    "Életkor": "49",
                                    "(No column name)": "49"
                                },
                                {
                                    "USERNEV": "timea2",
                                    "NEV": "Dusha Tímea",
                                    "EMAIL": "tímea.dusha@mail.hu",
                                    "SZAML_CIM": "5920 Csorvás Kossuth utca 8.",
                                    "SZUL_DAT": "1975-08-22",
                                    "Életkor": "49",
                                    "(No column name)": "49"
                                },
                                {
                                    "USERNEV": "kornel4",
                                    "NEV": "Lukács Kornél",
                                    "EMAIL": "kornél.lukács@mail.hu",
                                    "SZAML_CIM": "2053 Herceghalom Bécsi utca 82.",
                                    "SZUL_DAT": "1975-09-30",
                                    "Életkor": "49",
                                    "(No column name)": "48"
                                },
                                {
                                    "USERNEV": "attila4",
                                    "NEV": "Baróti Attila",
                                    "EMAIL": "attila.baróti@mail.hu",
                                    "SZAML_CIM": "7149 Báta Arany János utca 3.",
                                    "SZUL_DAT": "1975-11-06",
                                    "Életkor": "49",
                                    "(No column name)": "48"
                                },
                                {
                                    "USERNEV": "peter2",
                                    "NEV": "Bozsó Péter",
                                    "EMAIL": "peter2@gmail.com",
                                    "SZAML_CIM": "4800 Vásárosnamény Zombori út 2/A",
                                    "SZUL_DAT": "1976-01-26",
                                    "Életkor": "48",
                                    "(No column name)": "48"
                                },
                                {
                                    "USERNEV": "peter1",
                                    "NEV": "Kozma Péter",
                                    "EMAIL": "peter1@gmail.com",
                                    "SZAML_CIM": "6913 Csanádpalota Központi telep 3.",
                                    "SZUL_DAT": "1976-03-18",
                                    "Életkor": "48",
                                    "(No column name)": "48"
                                },
                                {
                                    "USERNEV": "imre1",
                                    "NEV": "Papp Imre",
                                    "EMAIL": "imre.papp@mail.hu",
                                    "SZAML_CIM": "1077 Budapest Szolnoki út 8.",
                                    "SZUL_DAT": "1976-06-25",
                                    "Életkor": "48",
                                    "(No column name)": "48"
                                },
                                {
                                    "USERNEV": "adam4",
                                    "NEV": "Bieniek Ádám",
                                    "EMAIL": "ádám.bieniek@mail.hu",
                                    "SZAML_CIM": "8630 Balatonboglár Juhászföldi út 1.",
                                    "SZUL_DAT": "1976-08-01",
                                    "Életkor": "48",
                                    "(No column name)": "48"
                                },
                                {
                                    "USERNEV": "balu",
                                    "NEV": "Endresz Bálint",
                                    "EMAIL": "bálint.endresz@mail.hu",
                                    "SZAML_CIM": "3973 Cigánd Fő út 169.",
                                    "SZUL_DAT": "1976-08-01",
                                    "Életkor": "48",
                                    "(No column name)": "48"
                                },
                                {
                                    "USERNEV": "debora",
                                    "NEV": "Barna Debóra",
                                    "EMAIL": "debóra.barna@mail.hu",
                                    "SZAML_CIM": "1155 Budapest Fő út 169.",
                                    "SZUL_DAT": "1976-10-14",
                                    "Életkor": "48",
                                    "(No column name)": "47"
                                },
                                {
                                    "USERNEV": "ZSUZSAV",
                                    "NEV": "Vajda Zsuzsa",
                                    "EMAIL": "zsuzsa.vajda@mail.hu",
                                    "SZAML_CIM": "6786 Ruzsa Kossuth utca 77.",
                                    "SZUL_DAT": "1976-12-11",
                                    "Életkor": "48",
                                    "(No column name)": "47"
                                },
                                {
                                    "USERNEV": "robert2",
                                    "NEV": "Patay Róbert",
                                    "EMAIL": "robert2@gmail.com",
                                    "SZAML_CIM": "2370 Dabas Rákóczi utca 21.",
                                    "SZUL_DAT": "1977-01-08",
                                    "Életkor": "47",
                                    "(No column name)": "47"
                                },
                                {
                                    "USERNEV": "ZOLTANP",
                                    "NEV": "Pintér Zoltán",
                                    "EMAIL": "zoltán.pintér@mail.hu",
                                    "SZAML_CIM": "6050 Lajosmizse Fő út 18.",
                                    "SZUL_DAT": "1977-06-07",
                                    "Életkor": "47",
                                    "(No column name)": "47"
                                },
                                {
                                    "USERNEV": "ANNAMARIAR",
                                    "NEV": "Regős Annamária",
                                    "EMAIL": "ANNAMARIAR@gmail.com",
                                    "SZAML_CIM": "8283 Káptalantóti Petőfi Sándor tér 1.",
                                    "SZUL_DAT": "1977-09-26",
                                    "Életkor": "47",
                                    "(No column name)": "47"
                                },
                                {
                                    "USERNEV": "bertalan",
                                    "NEV": "Csiger Bertalan",
                                    "EMAIL": "bertalan@gmail.com",
                                    "SZAML_CIM": "1192 Budapest Fő út 169.",
                                    "SZUL_DAT": "1977-10-15",
                                    "Életkor": "47",
                                    "(No column name)": "46"
                                },
                                {
                                    "USERNEV": "andras21",
                                    "NEV": "Molnár András",
                                    "EMAIL": "andrás.molnár@mail.hu",
                                    "SZAML_CIM": "7900 Szigetvár Rákóczi utca 67.",
                                    "SZUL_DAT": "1977-11-16",
                                    "Életkor": "47",
                                    "(No column name)": "46"
                                },
                                {
                                    "USERNEV": "aniko4",
                                    "NEV": "Böröcz Anikó",
                                    "EMAIL": "aniko4@gmail.com",
                                    "SZAML_CIM": "2484 Agárd Petőfi Sándor tér 1.",
                                    "SZUL_DAT": "1978-03-26",
                                    "Életkor": "46",
                                    "(No column name)": "46"
                                },
                                {
                                    "USERNEV": "kriszti",
                                    "NEV": "Horváth Krisztina",
                                    "EMAIL": "kriszti@gmail.com",
                                    "SZAML_CIM": "6060 Tiszakécske Árpád utca 4.",
                                    "SZUL_DAT": "1978-06-12",
                                    "Életkor": "46",
                                    "(No column name)": "46"
                                },
                                {
                                    "USERNEV": "ESZTERE",
                                    "NEV": "Érsek Eszter",
                                    "EMAIL": "eszter.érsek@mail.hu",
                                    "SZAML_CIM": "6785 Pusztamérges Kossuth Lajos utca 6.",
                                    "SZUL_DAT": "1978-08-28",
                                    "Életkor": "46",
                                    "(No column name)": "46"
                                },
                                {
                                    "USERNEV": "jozsef2",
                                    "NEV": "Vajda József",
                                    "EMAIL": "józsef.vajda@mail.hu",
                                    "SZAML_CIM": "6700 Szeged Baracsi László utca 14.",
                                    "SZUL_DAT": "1978-09-04",
                                    "Életkor": "46",
                                    "(No column name)": "46"
                                },
                                {
                                    "USERNEV": "brigitta",
                                    "NEV": "Székely Brigitta",
                                    "EMAIL": "brigitta.székely@mail.hu",
                                    "SZAML_CIM": "2462 Martonvásár Fő utca 47.",
                                    "SZUL_DAT": "1978-09-13",
                                    "Életkor": "46",
                                    "(No column name)": "46"
                                },
                                {
                                    "USERNEV": "lajos",
                                    "NEV": "Kiss Lajos",
                                    "EMAIL": "lajos.kiss@mail.hu",
                                    "SZAML_CIM": "1077 Budapest Dob utca 1",
                                    "SZUL_DAT": "1978-10-31",
                                    "Életkor": "46",
                                    "(No column name)": "45"
                                },
                                {
                                    "USERNEV": "daniel",
                                    "NEV": "Rácz Dániel",
                                    "EMAIL": "dániel.rácz@mail.hu",
                                    "SZAML_CIM": "9181 Kimle Szabadság tér 9.",
                                    "SZUL_DAT": "1978-11-28",
                                    "Életkor": "46",
                                    "(No column name)": "45"
                                },
                                {
                                    "USERNEV": "MIKLOSB",
                                    "NEV": "Balla Miklós",
                                    "EMAIL": "miklós.balla@mail.hu",
                                    "SZAML_CIM": "4060 Balmazújváros Szent István utca 2.",
                                    "SZUL_DAT": "1979-02-16",
                                    "Életkor": "45",
                                    "(No column name)": "45"
                                },
                                {
                                    "USERNEV": "zsuzsa3",
                                    "NEV": "Varsányi Zsuzsa",
                                    "EMAIL": "zsuzsa.varsányi@mail.hu",
                                    "SZAML_CIM": "8600 Siófok Árpád utca 4.",
                                    "SZUL_DAT": "1979-03-06",
                                    "Életkor": "45",
                                    "(No column name)": "45"
                                },
                                {
                                    "USERNEV": "krisztina",
                                    "NEV": "Szedlár Krisztina",
                                    "EMAIL": "krisztina@gmail.com",
                                    "SZAML_CIM": "6646 Tömörkény Arany János utca 1.",
                                    "SZUL_DAT": "1979-05-10",
                                    "Életkor": "45",
                                    "(No column name)": "45"
                                },
                                {
                                    "USERNEV": "MIHALYJ",
                                    "NEV": "Juhász Mihály",
                                    "EMAIL": "mihály.juhász@mail.hu",
                                    "SZAML_CIM": "6786 Ruzsa Rákóczi utca 1.",
                                    "SZUL_DAT": "1979-10-12",
                                    "Életkor": "45",
                                    "(No column name)": "45"
                                },
                                {
                                    "USERNEV": "zoltan",
                                    "NEV": "Fodor Zoltán",
                                    "EMAIL": "zoltán.fodor@mail.hu",
                                    "SZAML_CIM": "3441 Mezőkeresztes Fő utca 23.",
                                    "SZUL_DAT": "1979-11-25",
                                    "Életkor": "45",
                                    "(No column name)": "45"
                                },
                                {
                                    "USERNEV": "agnes",
                                    "NEV": "Lengyel Ágnes",
                                    "EMAIL": "agnes@gmail.com",
                                    "SZAML_CIM": "5200 Törökszentmiklós Deák Ferenc út 5.",
                                    "SZUL_DAT": "1979-12-10",
                                    "Életkor": "45",
                                    "(No column name)": "44"
                                },
                                {
                                    "USERNEV": "attila",
                                    "NEV": "Csóti Attila",
                                    "EMAIL": "attila@gmail.com",
                                    "SZAML_CIM": "3000 Hatvan Bajcsy-Zsilinszky utca 4.",
                                    "SZUL_DAT": "1979-12-25",
                                    "Életkor": "45",
                                    "(No column name)": "44"
                                },
                                {
                                    "USERNEV": "GYORGYO",
                                    "NEV": "Oroszi György",
                                    "EMAIL": "GYORGYO@gmail.com",
                                    "SZAML_CIM": "7220 Sarkad Dózsa György u. 1.",
                                    "SZUL_DAT": "1980-03-23",
                                    "Életkor": "44",
                                    "(No column name)": "44"
                                },
                                {
                                    "USERNEV": "SZABOLCSM",
                                    "NEV": "Miklós Szabolcs",
                                    "EMAIL": "szabolcs.miklós@mail.hu",
                                    "SZAML_CIM": "1102 Budapest Fő út 169.",
                                    "SZUL_DAT": "1980-08-11",
                                    "Életkor": "44",
                                    "(No column name)": "44"
                                },
                                {
                                    "USERNEV": "tamara2",
                                    "NEV": "Miklós Tamara",
                                    "EMAIL": "tamara.miklós@mail.hu",
                                    "SZAML_CIM": "3910 Tokaj Kossuth út 39.",
                                    "SZUL_DAT": "1980-08-11",
                                    "Életkor": "44",
                                    "(No column name)": "44"
                                },
                                {
                                    "USERNEV": "ANDRASN",
                                    "NEV": "Nagy András",
                                    "EMAIL": "andrás.nagy@mail.hu",
                                    "SZAML_CIM": "6500 Baja Fő út 169.",
                                    "SZUL_DAT": "1980-09-05",
                                    "Életkor": "44",
                                    "(No column name)": "44"
                                },
                                {
                                    "USERNEV": "zsuzsa",
                                    "NEV": "Pusztai Zsuzsanna",
                                    "EMAIL": "zsuzsanna@gmail.com",
                                    "SZAML_CIM": "6783 Ásotthalom Badacsonyi utca 12.",
                                    "SZUL_DAT": "1980-09-17",
                                    "Életkor": "44",
                                    "(No column name)": "44"
                                },
                                {
                                    "USERNEV": "aladar",
                                    "NEV": "Dunai Aladár",
                                    "EMAIL": "aladár.dunai@mail.hu",
                                    "SZAML_CIM": "5931 Nagyszénás Árpád utca 23.",
                                    "SZUL_DAT": "1980-11-01",
                                    "Életkor": "44",
                                    "(No column name)": "43"
                                },
                                {
                                    "USERNEV": "EVAV",
                                    "NEV": "Viktor Éva",
                                    "EMAIL": "EVAV@gmail.com",
                                    "SZAML_CIM": "6913 Csanádpalota Arany János utca 3.",
                                    "SZUL_DAT": "1980-12-26",
                                    "Életkor": "44",
                                    "(No column name)": "43"
                                },
                                {
                                    "USERNEV": "BEATRIXS",
                                    "NEV": "Szekendi Beatrix",
                                    "EMAIL": "beatrix.szekendi@mail.hu",
                                    "SZAML_CIM": "4060 Balmazújváros Jászai tér 21.",
                                    "SZUL_DAT": "1981-04-06",
                                    "Életkor": "43",
                                    "(No column name)": "43"
                                },
                                {
                                    "USERNEV": "andrea4",
                                    "NEV": "Neizer Andrea",
                                    "EMAIL": "andrea4@gmail.com",
                                    "SZAML_CIM": "1124 Budapest Kiss u. 8.",
                                    "SZUL_DAT": "1981-05-17",
                                    "Életkor": "43",
                                    "(No column name)": "43"
                                },
                                {
                                    "USERNEV": "nikolett3",
                                    "NEV": "Horváth Nikolett",
                                    "EMAIL": "nikolett3@gmail.com",
                                    "SZAML_CIM": "1072 Budapest Arany János utca 1.",
                                    "SZUL_DAT": "1981-09-29",
                                    "Életkor": "43",
                                    "(No column name)": "42"
                                },
                                {
                                    "USERNEV": "AGNESH",
                                    "NEV": "Horváth Ágnes",
                                    "EMAIL": "AGNESH@gmail.com",
                                    "SZAML_CIM": "8200 Veszprém Rákóczi utca 21.",
                                    "SZUL_DAT": "1981-12-24",
                                    "Életkor": "43",
                                    "(No column name)": "42"
                                },
                                {
                                    "USERNEV": "klaudia2",
                                    "NEV": "Bakó Klaudia",
                                    "EMAIL": "klaudia.bakó@mail.hu",
                                    "SZAML_CIM": "8254 Kővágóörs Kossuth Lajos utca 6.",
                                    "SZUL_DAT": "1982-04-16",
                                    "Életkor": "42",
                                    "(No column name)": "42"
                                },
                                {
                                    "USERNEV": "akos",
                                    "NEV": "Bíró Ákos",
                                    "EMAIL": "ákos.bíró@mail.hu",
                                    "SZAML_CIM": "9023 Győr Kossuth Lajos utca 47/b.",
                                    "SZUL_DAT": "1982-04-24",
                                    "Életkor": "42",
                                    "(No column name)": "42"
                                },
                                {
                                    "USERNEV": "attila1",
                                    "NEV": "Gulyás Attila",
                                    "EMAIL": "attila.gulyás@mail.hu",
                                    "SZAML_CIM": "3881 Abaújszántó Szolnoki út 8.",
                                    "SZUL_DAT": "1982-08-16",
                                    "Életkor": "42",
                                    "(No column name)": "41"
                                },
                                {
                                    "USERNEV": "gabriella1",
                                    "NEV": "Nagy Gabriella",
                                    "EMAIL": "gabriella1@gmail.com",
                                    "SZAML_CIM": "1077 Budapest Dob utca 1",
                                    "SZUL_DAT": "1982-11-01",
                                    "Életkor": "42",
                                    "(No column name)": "41"
                                },
                                {
                                    "USERNEV": "georgij",
                                    "NEV": "Nyíri Georgij",
                                    "EMAIL": "georgij.nyíri@mail.hu",
                                    "SZAML_CIM": "8391 Sármellék Grassalkovich út 10.",
                                    "SZUL_DAT": "1983-02-23",
                                    "Életkor": "41",
                                    "(No column name)": "41"
                                },
                                {
                                    "USERNEV": "norbert4",
                                    "NEV": "Mile Norbert",
                                    "EMAIL": "norbert4@gmail.com",
                                    "SZAML_CIM": "3973 Cigánd Bajcsy-Zsilinszky utca 4.",
                                    "SZUL_DAT": "1983-06-15",
                                    "Életkor": "41",
                                    "(No column name)": "41"
                                },
                                {
                                    "USERNEV": "peter3",
                                    "NEV": "Szalai Péter",
                                    "EMAIL": "peter3@gmail.com",
                                    "SZAML_CIM": "1155 Budapest Arany János utca 3.",
                                    "SZUL_DAT": "1983-07-18",
                                    "Életkor": "41",
                                    "(No column name)": "41"
                                },
                                {
                                    "USERNEV": "veronika4",
                                    "NEV": "Tankó Veronika",
                                    "EMAIL": "veronika4@gmail.com",
                                    "SZAML_CIM": "6412 Balotaszállás Rendeki utca 21.",
                                    "SZUL_DAT": "1983-08-28",
                                    "Életkor": "41",
                                    "(No column name)": "41"
                                },
                                {
                                    "USERNEV": "ZSOLTJ",
                                    "NEV": "Józsa Zsolt",
                                    "EMAIL": "ZSOLTJ@gmail.com",
                                    "SZAML_CIM": "8315 Gyenesdiás Bajcsy-Zsilinszky utca 4.",
                                    "SZUL_DAT": "1983-09-29",
                                    "Életkor": "41",
                                    "(No column name)": "41"
                                },
                                {
                                    "USERNEV": "ferenc1",
                                    "NEV": "Orosz Ferenc",
                                    "EMAIL": "ferenc.orosz@mail.hu",
                                    "SZAML_CIM": "5061 Tiszasüly Arany János utca 3.",
                                    "SZUL_DAT": "1983-10-08",
                                    "Életkor": "41",
                                    "(No column name)": "41"
                                },
                                {
                                    "USERNEV": "zsofi1",
                                    "NEV": "Molnár Zsófi",
                                    "EMAIL": "zsofi1@gmail.com",
                                    "SZAML_CIM": "2730 Albertirsa Árpád utca 23.",
                                    "SZUL_DAT": "1983-11-17",
                                    "Életkor": "41",
                                    "(No column name)": "40"
                                },
                                {
                                    "USERNEV": "IBOLYAA",
                                    "NEV": "Andor Ibolya",
                                    "EMAIL": "ibolya.andor@mail.hu",
                                    "SZAML_CIM": "9023 Győr Posta köz 2.",
                                    "SZUL_DAT": "1983-11-27",
                                    "Életkor": "41",
                                    "(No column name)": "40"
                                },
                                {
                                    "USERNEV": "kristof4",
                                    "NEV": "Poprádi Kristóf",
                                    "EMAIL": "kristof4@gmail.com",
                                    "SZAML_CIM": "8220 Balatonalmádi Mészáros utca 7.",
                                    "SZUL_DAT": "1984-01-15",
                                    "Életkor": "40",
                                    "(No column name)": "40"
                                },
                                {
                                    "USERNEV": "csongor3",
                                    "NEV": "Nagymihály Csongor",
                                    "EMAIL": "csongor.nagymihály@mail.hu",
                                    "SZAML_CIM": "9181 Kimle Deák Ferenc út 5.",
                                    "SZUL_DAT": "1984-03-05",
                                    "Életkor": "40",
                                    "(No column name)": "40"
                                },
                                {
                                    "USERNEV": "andras4",
                                    "NEV": "Back András",
                                    "EMAIL": "andras4@gmail.com",
                                    "SZAML_CIM": "3783 Edelény Fő út 169.",
                                    "SZUL_DAT": "1984-04-07",
                                    "Életkor": "40",
                                    "(No column name)": "40"
                                },
                                {
                                    "USERNEV": "edit",
                                    "NEV": "Bittmann Edit",
                                    "EMAIL": "edit.bittmann@mail.hu",
                                    "SZAML_CIM": "6077 Orgovány Fő utca 60.",
                                    "SZUL_DAT": "1984-04-20",
                                    "Életkor": "40",
                                    "(No column name)": "40"
                                },
                                {
                                    "USERNEV": "tamas",
                                    "NEV": "Antal Tamás",
                                    "EMAIL": "tamás.antal@mail.hu",
                                    "SZAML_CIM": "4440 Tiszavasvári Posta köz 2.",
                                    "SZUL_DAT": "1984-09-05",
                                    "Életkor": "40",
                                    "(No column name)": "40"
                                },
                                {
                                    "USERNEV": "JANOSP",
                                    "NEV": "Pálinkás János",
                                    "EMAIL": "JANOSP@gmail.com",
                                    "SZAML_CIM": "5920 Csorvás Padragi út 158.",
                                    "SZUL_DAT": "1984-10-12",
                                    "Életkor": "40",
                                    "(No column name)": "40"
                                },
                                {
                                    "USERNEV": "bernadett1",
                                    "NEV": "Simon Bernadett",
                                    "EMAIL": "bernadett1@gmail.com",
                                    "SZAML_CIM": "2300 Ráckeve Fő utca 108.",
                                    "SZUL_DAT": "1984-10-13",
                                    "Életkor": "40",
                                    "(No column name)": "39"
                                },
                                {
                                    "USERNEV": "balazs2",
                                    "NEV": "Szűcs Balázs",
                                    "EMAIL": "balázs.szűcs@mail.hu",
                                    "SZAML_CIM": "3170 Szécsény Szabadság utca 95.",
                                    "SZUL_DAT": "1984-10-31",
                                    "Életkor": "40",
                                    "(No column name)": "39"
                                },
                                {
                                    "USERNEV": "tibor2",
                                    "NEV": "Dániel Tibor",
                                    "EMAIL": "tibor2@gmail.com",
                                    "SZAML_CIM": "6646 Tömörkény Árpád utca 23.",
                                    "SZUL_DAT": "1985-02-02",
                                    "Életkor": "39",
                                    "(No column name)": "39"
                                },
                                {
                                    "USERNEV": "julia4",
                                    "NEV": "Nagy Júlia",
                                    "EMAIL": "julia4@gmail.com",
                                    "SZAML_CIM": "7000 Sárbogárd Jászai tér 21.",
                                    "SZUL_DAT": "1985-08-11",
                                    "Életkor": "39",
                                    "(No column name)": "39"
                                },
                                {
                                    "USERNEV": "peter4",
                                    "NEV": "Bíró Péter",
                                    "EMAIL": "péter.bíró@mail.hu",
                                    "SZAML_CIM": "5137 Jászkisér Rákóczi utca 67.",
                                    "SZUL_DAT": "1985-09-01",
                                    "Életkor": "39",
                                    "(No column name)": "39"
                                },
                                {
                                    "USERNEV": "jozsef",
                                    "NEV": "Gergely József",
                                    "EMAIL": "jozsef@gmail.com",
                                    "SZAML_CIM": "6050 Lajosmizse Fő út 18.",
                                    "SZUL_DAT": "1985-11-01",
                                    "Életkor": "39",
                                    "(No column name)": "39"
                                },
                                {
                                    "USERNEV": "ZOLTANT",
                                    "NEV": "Tóth Zoltán",
                                    "EMAIL": "zoltán.tóth@mail.hu",
                                    "SZAML_CIM": "4244 Újfehértó Posta köz 2.",
                                    "SZUL_DAT": "1985-12-14",
                                    "Életkor": "39",
                                    "(No column name)": "38"
                                },
                                {
                                    "USERNEV": "roland1",
                                    "NEV": "Ferencz Roland",
                                    "EMAIL": "roland.ferencz@mail.hu",
                                    "SZAML_CIM": "2424 Előszállás Fő út 169.",
                                    "SZUL_DAT": "1985-12-31",
                                    "Életkor": "39",
                                    "(No column name)": "38"
                                },
                                {
                                    "USERNEV": "valentin",
                                    "NEV": "Feró Valentin",
                                    "EMAIL": "valentin.feró@mail.hu",
                                    "SZAML_CIM": "3895 Gönc Búvár utca 4.",
                                    "SZUL_DAT": "1986-01-09",
                                    "Életkor": "38",
                                    "(No column name)": "38"
                                },
                                {
                                    "USERNEV": "katalin4",
                                    "NEV": "Kertész Katalin",
                                    "EMAIL": "katalin4@gmail.com",
                                    "SZAML_CIM": "2800 Tatabánya Búvár utca 4.",
                                    "SZUL_DAT": "1986-04-13",
                                    "Életkor": "38",
                                    "(No column name)": "38"
                                },
                                {
                                    "USERNEV": "ARPADM",
                                    "NEV": "Móricz Árpád",
                                    "EMAIL": "árpád.móricz@mail.hu",
                                    "SZAML_CIM": "3910 Tokaj Rákóczi utca 67.",
                                    "SZUL_DAT": "1986-04-20",
                                    "Életkor": "38",
                                    "(No column name)": "38"
                                },
                                {
                                    "USERNEV": "zoltan4",
                                    "NEV": "Barna Zoltán",
                                    "EMAIL": "zoltan4@gmail.com",
                                    "SZAML_CIM": "8313 Balatongyörök Jászai tér 21.",
                                    "SZUL_DAT": "1986-05-20",
                                    "Életkor": "38",
                                    "(No column name)": "38"
                                },
                                {
                                    "USERNEV": "istvan",
                                    "NEV": "Soós István",
                                    "EMAIL": "istvan@gmail.com",
                                    "SZAML_CIM": "2370 Dabas Kossuth utca 27.",
                                    "SZUL_DAT": "1986-06-28",
                                    "Életkor": "38",
                                    "(No column name)": "38"
                                },
                                {
                                    "USERNEV": "balazs3",
                                    "NEV": "Bakódy Balázs",
                                    "EMAIL": "balazs3@gmail.com",
                                    "SZAML_CIM": "2131 Göd Arany János utca 1.",
                                    "SZUL_DAT": "1986-09-09",
                                    "Életkor": "38",
                                    "(No column name)": "38"
                                },
                                {
                                    "USERNEV": "dani",
                                    "NEV": "Vörös Dániel",
                                    "EMAIL": "daniel@gmail.com",
                                    "SZAML_CIM": "7150 Bonyhád Dózsa György u. 1.",
                                    "SZUL_DAT": "1986-10-14",
                                    "Életkor": "38",
                                    "(No column name)": "38"
                                },
                                {
                                    "USERNEV": "ANDREAT",
                                    "NEV": "Tornyos Andrea",
                                    "EMAIL": "ANDREAT@gmail.com",
                                    "SZAML_CIM": "6131 Szank Bécsi utca 82.",
                                    "SZUL_DAT": "1986-11-14",
                                    "Életkor": "38",
                                    "(No column name)": "37"
                                },
                                {
                                    "USERNEV": "henrik3",
                                    "NEV": "Nádudvari Henrik",
                                    "EMAIL": "henrik.nádudvari@mail.hu",
                                    "SZAML_CIM": "1077 Budapest Tanácsköztársaság tér 1.",
                                    "SZUL_DAT": "1986-12-05",
                                    "Életkor": "38",
                                    "(No column name)": "37"
                                },
                                {
                                    "USERNEV": "gabor4",
                                    "NEV": "Telek Gábor",
                                    "EMAIL": "gábor.telek@mail.hu",
                                    "SZAML_CIM": "9071 Görbeháza Fő út 169.",
                                    "SZUL_DAT": "1987-03-15",
                                    "Életkor": "37",
                                    "(No column name)": "37"
                                },
                                {
                                    "USERNEV": "eszter",
                                    "NEV": "Molnár Eszter",
                                    "EMAIL": "eszter.molnár@mail.hu",
                                    "SZAML_CIM": "6800 Hódmezővásárhely Fő út 77.",
                                    "SZUL_DAT": "1987-05-10",
                                    "Életkor": "37",
                                    "(No column name)": "37"
                                },
                                {
                                    "USERNEV": "bence",
                                    "NEV": "Győrffy Bence",
                                    "EMAIL": "bence@gmail.com",
                                    "SZAML_CIM": "6900 Makó Árpád utca 23.",
                                    "SZUL_DAT": "1987-07-09",
                                    "Életkor": "37",
                                    "(No column name)": "37"
                                },
                                {
                                    "USERNEV": "KRISZTINAG",
                                    "NEV": "Gyárfás Krisztina",
                                    "EMAIL": "KRISZTINAG@gmail.com",
                                    "SZAML_CIM": "6762 Sándorfalva Arany János utca 1.",
                                    "SZUL_DAT": "1987-09-19",
                                    "Életkor": "37",
                                    "(No column name)": "36"
                                },
                                {
                                    "USERNEV": "BERNADETTO",
                                    "NEV": "Orbán Bernadett",
                                    "EMAIL": "bernadett.orbán@mail.hu",
                                    "SZAML_CIM": "5085 Rákóczifalva Arany János utca 1.",
                                    "SZUL_DAT": "1987-12-07",
                                    "Életkor": "37",
                                    "(No column name)": "36"
                                },
                                {
                                    "USERNEV": "RENATAK",
                                    "NEV": "Kardos Renáta",
                                    "EMAIL": "renáta.kardos@mail.hu",
                                    "SZAML_CIM": "7086 Ozora Bécsi utca 82.",
                                    "SZUL_DAT": "1988-05-17",
                                    "Életkor": "36",
                                    "(No column name)": "36"
                                },
                                {
                                    "USERNEV": "zsolt1",
                                    "NEV": "Pulai Zsolt",
                                    "EMAIL": "zsolt.pulai@mail.hu",
                                    "SZAML_CIM": "8391 Sármellék Fő utca 60.",
                                    "SZUL_DAT": "1988-05-27",
                                    "Életkor": "36",
                                    "(No column name)": "36"
                                },
                                {
                                    "USERNEV": "imre",
                                    "NEV": "Búza Imre",
                                    "EMAIL": "imre.búza@mail.hu",
                                    "SZAML_CIM": "9181 Kimle Petőfi Sándor tér 1.",
                                    "SZUL_DAT": "1988-09-30",
                                    "Életkor": "36",
                                    "(No column name)": "36"
                                },
                                {
                                    "USERNEV": "AGNESK",
                                    "NEV": "Kovács Ágnes",
                                    "EMAIL": "AGNESK@gmail.com",
                                    "SZAML_CIM": "1084 Budapest Endrődi Sándor utca 47.",
                                    "SZUL_DAT": "1988-10-02",
                                    "Életkor": "36",
                                    "(No column name)": "36"
                                },
                                {
                                    "USERNEV": "ANIKOS",
                                    "NEV": "Simon Anikó",
                                    "EMAIL": "ANIKOS@gmail.com",
                                    "SZAML_CIM": "5137 Jászkisér Bécsi utca 82.",
                                    "SZUL_DAT": "1988-12-14",
                                    "Életkor": "36",
                                    "(No column name)": "35"
                                },
                                {
                                    "USERNEV": "roza2",
                                    "NEV": "Bucskó Róza",
                                    "EMAIL": "roza2@gmail.com",
                                    "SZAML_CIM": "5661 Újkígyós Arany János utca 3.",
                                    "SZUL_DAT": "1988-12-26",
                                    "Életkor": "36",
                                    "(No column name)": "35"
                                },
                                {
                                    "USERNEV": "sandor3",
                                    "NEV": "Farkas Sándor",
                                    "EMAIL": "sándor.farkas@mail.hu",
                                    "SZAML_CIM": "8640 Fonyód Tanácsköztársaság tér 1.",
                                    "SZUL_DAT": "1989-01-27",
                                    "Életkor": "35",
                                    "(No column name)": "35"
                                },
                                {
                                    "USERNEV": "ISTVANV",
                                    "NEV": "Varga István",
                                    "EMAIL": "ISTVANV@gmail.com",
                                    "SZAML_CIM": "6320 Solt Hősök tere 11.",
                                    "SZUL_DAT": "1989-04-09",
                                    "Életkor": "35",
                                    "(No column name)": "35"
                                },
                                {
                                    "USERNEV": "VIKTORK",
                                    "NEV": "Keresztúri Viktor",
                                    "EMAIL": "viktor.keresztúri@mail.hu",
                                    "SZAML_CIM": "2532 Tokodaltáró Nagy Lajos tér 4.",
                                    "SZUL_DAT": "1989-05-05",
                                    "Életkor": "35",
                                    "(No column name)": "35"
                                },
                                {
                                    "USERNEV": "marton",
                                    "NEV": "Kalacsi Márton",
                                    "EMAIL": "marton@gmail.com",
                                    "SZAML_CIM": "5137 Jászkisér Fő út 169.",
                                    "SZUL_DAT": "1989-06-24",
                                    "Életkor": "35",
                                    "(No column name)": "35"
                                },
                                {
                                    "USERNEV": "ARONK",
                                    "NEV": "Kelemen Áron",
                                    "EMAIL": "áron.kelemen@mail.hu",
                                    "SZAML_CIM": "8200 Veszprém Petőfi utca 8.",
                                    "SZUL_DAT": "1989-08-10",
                                    "Életkor": "35",
                                    "(No column name)": "35"
                                },
                                {
                                    "USERNEV": "emese",
                                    "NEV": "Kuruc Emese",
                                    "EMAIL": "emese.kuruc@mail.hu",
                                    "SZAML_CIM": "6700 Szeged Rákóczi utca 67.",
                                    "SZUL_DAT": "1989-08-10",
                                    "Életkor": "35",
                                    "(No column name)": "34"
                                },
                                {
                                    "USERNEV": "balint1",
                                    "NEV": "Molnár Bálint",
                                    "EMAIL": "balint1@gmail.com",
                                    "SZAML_CIM": "9181 Kimle Fő út 169.",
                                    "SZUL_DAT": "1989-08-24",
                                    "Életkor": "35",
                                    "(No column name)": "34"
                                },
                                {
                                    "USERNEV": "annamaria1",
                                    "NEV": "Szűcs Annamária",
                                    "EMAIL": "annamária.szűcs@mail.hu",
                                    "SZAML_CIM": "1191 Budapest Rendeki utca 21.",
                                    "SZUL_DAT": "1990-04-27",
                                    "Életkor": "34",
                                    "(No column name)": "34"
                                },
                                {
                                    "USERNEV": "ARPADH",
                                    "NEV": "Horváth Árpád",
                                    "EMAIL": "árpád.horváth@mail.hu",
                                    "SZAML_CIM": "7349 Szászvár Dózsa György u. 1.",
                                    "SZUL_DAT": "1990-05-18",
                                    "Életkor": "34",
                                    "(No column name)": "34"
                                },
                                {
                                    "USERNEV": "GABORS",
                                    "NEV": "Szöllősi Gábor",
                                    "EMAIL": "GABORS@gmail.com",
                                    "SZAML_CIM": "3630 Putnok Kossuth utca 27.",
                                    "SZUL_DAT": "1990-05-31",
                                    "Életkor": "34",
                                    "(No column name)": "34"
                                },
                                {
                                    "USERNEV": "arpad2",
                                    "NEV": "Ötvös Árpád",
                                    "EMAIL": "árpád.ötvös@mail.hu",
                                    "SZAML_CIM": "2600 Vác Padragi út 158.",
                                    "SZUL_DAT": "1990-06-08",
                                    "Életkor": "34",
                                    "(No column name)": "34"
                                },
                                {
                                    "USERNEV": "szabolcs",
                                    "NEV": "Bodor Szabolcs",
                                    "EMAIL": "szabolcs.bodor@mail.hu",
                                    "SZAML_CIM": "6786 Ruzsa Ady Endre út 27.",
                                    "SZUL_DAT": "1990-07-16",
                                    "Életkor": "34",
                                    "(No column name)": "34"
                                },
                                {
                                    "USERNEV": "ilona3",
                                    "NEV": "Bosnyák Ilona",
                                    "EMAIL": "ilona3@gmail.com",
                                    "SZAML_CIM": "2483 Gárdony Posta köz 2.",
                                    "SZUL_DAT": "1990-08-06",
                                    "Életkor": "34",
                                    "(No column name)": "34"
                                },
                                {
                                    "USERNEV": "julianna4",
                                    "NEV": "Szabó Julianna",
                                    "EMAIL": "julianna4@gmail.com",
                                    "SZAML_CIM": "6700 Szeged Kossuth Lajos utca 6.",
                                    "SZUL_DAT": "1990-09-29",
                                    "Életkor": "34",
                                    "(No column name)": "33"
                                },
                                {
                                    "USERNEV": "david4",
                                    "NEV": "Berta Dávid",
                                    "EMAIL": "david4@gmail.com",
                                    "SZAML_CIM": "3500 Miskolc Balatoni út 12.",
                                    "SZUL_DAT": "1990-10-08",
                                    "Életkor": "34",
                                    "(No column name)": "33"
                                },
                                {
                                    "USERNEV": "RENATAS",
                                    "NEV": "Szirmai Renáta",
                                    "EMAIL": "RENATAS@gmail.com",
                                    "SZAML_CIM": "2053 Herceghalom Kossuth utca 27.",
                                    "SZUL_DAT": "1991-03-26",
                                    "Életkor": "33",
                                    "(No column name)": "33"
                                },
                                {
                                    "USERNEV": "brigitta3",
                                    "NEV": "Pataki Brigitta",
                                    "EMAIL": "brigitta.pataki@mail.hu",
                                    "SZAML_CIM": "2730 Albertirsa Rendeki utca 21.",
                                    "SZUL_DAT": "1991-05-23",
                                    "Életkor": "33",
                                    "(No column name)": "33"
                                },
                                {
                                    "USERNEV": "vivien3",
                                    "NEV": "Boros Vivien",
                                    "EMAIL": "vivien3@gmail.com",
                                    "SZAML_CIM": "2117 Isaszeg Fő út 122.",
                                    "SZUL_DAT": "1991-07-01",
                                    "Életkor": "33",
                                    "(No column name)": "33"
                                },
                                {
                                    "USERNEV": "tihamer",
                                    "NEV": "Kazy Tihamér",
                                    "EMAIL": "tihamér.kazy@mail.hu",
                                    "SZAML_CIM": "2370 Dabas Fő utca 60.",
                                    "SZUL_DAT": "1991-07-05",
                                    "Életkor": "33",
                                    "(No column name)": "33"
                                },
                                {
                                    "USERNEV": "norbert2",
                                    "NEV": "Hegedűs Norbert",
                                    "EMAIL": "norbert.hegedűs@mail.hu",
                                    "SZAML_CIM": "2081 Piliscsaba Rendeki utca 21.",
                                    "SZUL_DAT": "1991-07-17",
                                    "Életkor": "33",
                                    "(No column name)": "32"
                                },
                                {
                                    "USERNEV": "adam1",
                                    "NEV": "Kiss Ádám",
                                    "EMAIL": "ádám.kiss@mail.hu",
                                    "SZAML_CIM": "5630 Békés Szolnoki út 8.",
                                    "SZUL_DAT": "1991-12-28",
                                    "Életkor": "33",
                                    "(No column name)": "32"
                                },
                                {
                                    "USERNEV": "sebestyen",
                                    "NEV": "Rab Sebestyén",
                                    "EMAIL": "sebestyen@gmail.com",
                                    "SZAML_CIM": "7130 Tolna Központi telep 3.",
                                    "SZUL_DAT": "1992-03-03",
                                    "Életkor": "32",
                                    "(No column name)": "32"
                                },
                                {
                                    "USERNEV": "alexandra",
                                    "NEV": "Bagóczki Alexandra",
                                    "EMAIL": "alexandra.bagóczki@mail.hu",
                                    "SZAML_CIM": "2381 Táborfalva Petőfi utca 1/2.",
                                    "SZUL_DAT": "1992-03-25",
                                    "Életkor": "32",
                                    "(No column name)": "32"
                                },
                                {
                                    "USERNEV": "SEBASTIANF",
                                    "NEV": "Foltényi Sebastián",
                                    "EMAIL": "SEBASTIANF@gmail.com",
                                    "SZAML_CIM": "7960 Sellye Grassalkovich út 10.",
                                    "SZUL_DAT": "1992-09-09",
                                    "Életkor": "32",
                                    "(No column name)": "31"
                                },
                                {
                                    "USERNEV": "balazs1",
                                    "NEV": "Bozsik Balázs",
                                    "EMAIL": "balázs.bozsik@mail.hu",
                                    "SZAML_CIM": "2300 Ráckeve Bécsi utca 82.",
                                    "SZUL_DAT": "1992-11-03",
                                    "Életkor": "32",
                                    "(No column name)": "31"
                                },
                                {
                                    "USERNEV": "julia",
                                    "NEV": "Tóth Júlia",
                                    "EMAIL": "julia@gmail.com",
                                    "SZAML_CIM": "5310 Kisújszállás Árpád utca 4.",
                                    "SZUL_DAT": "1993-03-02",
                                    "Életkor": "31",
                                    "(No column name)": "31"
                                },
                                {
                                    "USERNEV": "andrea",
                                    "NEV": "Kiss Andrea",
                                    "EMAIL": "andrea.kiss@mail.hu",
                                    "SZAML_CIM": "1113 Budapest Petőfi Sándor utca 87.",
                                    "SZUL_DAT": "1993-03-25",
                                    "Életkor": "31",
                                    "(No column name)": "31"
                                },
                                {
                                    "USERNEV": "eszter4",
                                    "NEV": "Fülöp Eszter",
                                    "EMAIL": "eszter.fülöp@mail.hu",
                                    "SZAML_CIM": "3643 Dédestapolcsány Kossuth Lajos utca 47/b.",
                                    "SZUL_DAT": "1993-06-28",
                                    "Életkor": "31",
                                    "(No column name)": "31"
                                },
                                {
                                    "USERNEV": "rajmond4",
                                    "NEV": "Rácz Rajmond",
                                    "EMAIL": "rajmond.rácz@mail.hu",
                                    "SZAML_CIM": "9155 Lébény Petőfi utca 1/2.",
                                    "SZUL_DAT": "1993-09-25",
                                    "Életkor": "31",
                                    "(No column name)": "30"
                                },
                                {
                                    "USERNEV": "tibor",
                                    "NEV": "Gombos Tibor",
                                    "EMAIL": "tibor.gombos@mail.hu",
                                    "SZAML_CIM": "7100 Szekszárd Kossuth utca 77.",
                                    "SZUL_DAT": "1993-11-28",
                                    "Életkor": "31",
                                    "(No column name)": "30"
                                },
                                {
                                    "USERNEV": "polla",
                                    "NEV": "Palágyi Polla",
                                    "EMAIL": "polla@gmail.com",
                                    "SZAML_CIM": "2484 Agárd Fő út 18.",
                                    "SZUL_DAT": "1994-02-04",
                                    "Életkor": "30",
                                    "(No column name)": "30"
                                },
                                {
                                    "USERNEV": "beata4",
                                    "NEV": "Bagi Beáta",
                                    "EMAIL": "beáta.bagi@mail.hu",
                                    "SZAML_CIM": "8477 Tüskevár Felszabadulás utca 32.",
                                    "SZUL_DAT": "1994-03-19",
                                    "Életkor": "30",
                                    "(No column name)": "30"
                                },
                                {
                                    "USERNEV": "zsuzsanna",
                                    "NEV": "Barta Zsuzsanna",
                                    "EMAIL": "zsuzsanna.barta@mail.hu",
                                    "SZAML_CIM": "4172 Biharnagybajom Dózsa György utca 37.",
                                    "SZUL_DAT": "1994-10-07",
                                    "Életkor": "30",
                                    "(No column name)": "29"
                                },
                                {
                                    "USERNEV": "BELAF",
                                    "NEV": "Farkas Béla",
                                    "EMAIL": "BELAF@gmail.com",
                                    "SZAML_CIM": "5530 Vésztő Petőfi Sándor utca 3.",
                                    "SZUL_DAT": "1995-02-24",
                                    "Életkor": "29",
                                    "(No column name)": "29"
                                },
                                {
                                    "USERNEV": "kati",
                                    "NEV": "Zatykó Katalin",
                                    "EMAIL": "katalin.zatykó@mail.hu",
                                    "SZAML_CIM": "7511 Ötvöskónyi Kossuth Lajos utca 6.",
                                    "SZUL_DAT": "1995-05-01",
                                    "Életkor": "29",
                                    "(No column name)": "29"
                                },
                                {
                                    "USERNEV": "ATTILAO",
                                    "NEV": "Opra Attila",
                                    "EMAIL": "ATTILAO@gmail.com",
                                    "SZAML_CIM": "8283 Káptalantóti Rákóczi út 200.",
                                    "SZUL_DAT": "1995-05-08",
                                    "Életkor": "29",
                                    "(No column name)": "29"
                                },
                                {
                                    "USERNEV": "dora3",
                                    "NEV": "Sarodi Dóra",
                                    "EMAIL": "dóra.sarodi@mail.hu",
                                    "SZAML_CIM": "2855 Bokod Fő út 18.",
                                    "SZUL_DAT": "1995-05-18",
                                    "Életkor": "29",
                                    "(No column name)": "29"
                                },
                                {
                                    "USERNEV": "miklos2",
                                    "NEV": "Gondos Miklós",
                                    "EMAIL": "miklos2@gmail.com",
                                    "SZAML_CIM": "2100 Gödöllő Árpád utca 23.",
                                    "SZUL_DAT": "1995-10-07",
                                    "Életkor": "29",
                                    "(No column name)": "28"
                                },
                                {
                                    "USERNEV": "maria1",
                                    "NEV": "Baráth Mária",
                                    "EMAIL": "mária.baráth@mail.hu",
                                    "SZAML_CIM": "1047 Budapest Posta köz 2.",
                                    "SZUL_DAT": "1995-11-19",
                                    "Életkor": "29",
                                    "(No column name)": "28"
                                },
                                {
                                    "USERNEV": "timea",
                                    "NEV": "Papós Tímea",
                                    "EMAIL": "timea@gmail.com",
                                    "SZAML_CIM": "1035 Budapest  Kossuth út 77.",
                                    "SZUL_DAT": "1996-01-08",
                                    "Életkor": "28",
                                    "(No column name)": "28"
                                },
                                {
                                    "USERNEV": "mark",
                                    "NEV": "Kispál Márk",
                                    "EMAIL": "márk.kispál@mail.hu",
                                    "SZAML_CIM": "1086 Budapest Juhászföldi út 1.",
                                    "SZUL_DAT": "1996-01-23",
                                    "Életkor": "28",
                                    "(No column name)": "28"
                                },
                                {
                                    "USERNEV": "balint",
                                    "NEV": "Horváth Bálint",
                                    "EMAIL": "balint@gmail.com",
                                    "SZAML_CIM": "6646 Tömörkény Endrődi Sándor utca 47.",
                                    "SZUL_DAT": "1996-03-17",
                                    "Életkor": "28",
                                    "(No column name)": "28"
                                },
                                {
                                    "USERNEV": "VIKTORIAU",
                                    "NEV": "Urbán Viktoria",
                                    "EMAIL": "viktoria.urbán@mail.hu",
                                    "SZAML_CIM": "3860 Encs Népboltsor  2.",
                                    "SZUL_DAT": "1996-05-03",
                                    "Életkor": "28",
                                    "(No column name)": "28"
                                },
                                {
                                    "USERNEV": "andrea3",
                                    "NEV": "Szomor Andrea",
                                    "EMAIL": "andrea3@gmail.com",
                                    "SZAML_CIM": "7960 Sellye Bécsi utca 82.",
                                    "SZUL_DAT": "1996-05-10",
                                    "Életkor": "28",
                                    "(No column name)": "28"
                                },
                                {
                                    "USERNEV": "fruzsina4",
                                    "NEV": "Frank Fruzsina",
                                    "EMAIL": "fruzsina4@gmail.com",
                                    "SZAML_CIM": "9700 Szombathely Szabadság utca 95.",
                                    "SZUL_DAT": "1996-08-16",
                                    "Életkor": "28",
                                    "(No column name)": "27"
                                },
                                {
                                    "USERNEV": "bernadett2",
                                    "NEV": "Kovács Bernadett",
                                    "EMAIL": "bernadett.kovács@mail.hu",
                                    "SZAML_CIM": "4200 Hajdúszoboszló Fő út 122.",
                                    "SZUL_DAT": "1996-08-20",
                                    "Életkor": "28",
                                    "(No column name)": "27"
                                },
                                {
                                    "USERNEV": "lala",
                                    "NEV": "Nagymihály Lajos",
                                    "EMAIL": "lajos.nagymihály@mail.hu",
                                    "SZAML_CIM": "8638 Balatonlelle Rákóczi út 200.",
                                    "SZUL_DAT": "1997-02-24",
                                    "Életkor": "27",
                                    "(No column name)": "27"
                                },
                                {
                                    "USERNEV": "MATEK",
                                    "NEV": "Koza Máté",
                                    "EMAIL": "máté.koza@mail.hu",
                                    "SZAML_CIM": "1011 Budapest Központi telep 3.",
                                    "SZUL_DAT": "1997-02-28",
                                    "Életkor": "27",
                                    "(No column name)": "27"
                                },
                                {
                                    "USERNEV": "ANDRASE",
                                    "NEV": "Erdei András",
                                    "EMAIL": "ANDRASE@gmail.com",
                                    "SZAML_CIM": "5071 Besenyszög Szolnoki út 8.",
                                    "SZUL_DAT": "1997-05-29",
                                    "Életkor": "27",
                                    "(No column name)": "27"
                                },
                                {
                                    "USERNEV": "sandor4",
                                    "NEV": "Nagy Sándor",
                                    "EMAIL": "sandor4@gmail.com",
                                    "SZAML_CIM": "4600 Kisvárda Fő utca 47.",
                                    "SZUL_DAT": "1997-06-11",
                                    "Életkor": "27",
                                    "(No column name)": "27"
                                },
                                {
                                    "USERNEV": "JUDITH",
                                    "NEV": "Hídasi Judit",
                                    "EMAIL": "JUDITH@gmail.com",
                                    "SZAML_CIM": "2100 Gödöllő Fő út 169.",
                                    "SZUL_DAT": "1997-07-12",
                                    "Életkor": "27",
                                    "(No column name)": "27"
                                },
                                {
                                    "USERNEV": "balint2",
                                    "NEV": "Vukasinovity Bálint",
                                    "EMAIL": "balint2@gmail.com",
                                    "SZAML_CIM": "2330 Dunaharaszti Béke utca 7.",
                                    "SZUL_DAT": "1997-09-03",
                                    "Életkor": "27",
                                    "(No column name)": "27"
                                },
                                {
                                    "USERNEV": "MARKH",
                                    "NEV": "Horváth Márk",
                                    "EMAIL": "márk.horváth@mail.hu",
                                    "SZAML_CIM": "4400 Nyíregyháza Badacsonyi utca 12.",
                                    "SZUL_DAT": "1997-09-23",
                                    "Életkor": "27",
                                    "(No column name)": "27"
                                },
                                {
                                    "USERNEV": "NIKOLETTAT",
                                    "NEV": "Tatár Nikoletta",
                                    "EMAIL": "nikoletta.tatár@mail.hu",
                                    "SZAML_CIM": "1067 Budapest Győri utca 12.",
                                    "SZUL_DAT": "1997-10-19",
                                    "Életkor": "27",
                                    "(No column name)": "27"
                                },
                                {
                                    "USERNEV": "andras41",
                                    "NEV": "Komjáti András",
                                    "EMAIL": "andras41@gmail.com",
                                    "SZAML_CIM": "5065 Nagykörű Kossuth út 24.",
                                    "SZUL_DAT": "1997-10-25",
                                    "Életkor": "27",
                                    "(No column name)": "27"
                                },
                                {
                                    "USERNEV": "andras2",
                                    "NEV": "Tóth András",
                                    "EMAIL": "andrás.tóth@mail.hu",
                                    "SZAML_CIM": "4071 Egyek Petőfi utca 30.",
                                    "SZUL_DAT": "1997-10-31",
                                    "Életkor": "27",
                                    "(No column name)": "27"
                                },
                                {
                                    "USERNEV": "TAMASF",
                                    "NEV": "Fényes Tamás",
                                    "EMAIL": "TAMASF@gmail.com",
                                    "SZAML_CIM": "9023 Győr Arany János utca 1.",
                                    "SZUL_DAT": "1997-11-06",
                                    "Életkor": "27",
                                    "(No column name)": "26"
                                },
                                {
                                    "USERNEV": "istvan1",
                                    "NEV": "Vizi István",
                                    "EMAIL": "istván.vizi@mail.hu",
                                    "SZAML_CIM": "7086 Ozora Rákóczi utca 1.",
                                    "SZUL_DAT": "1997-12-01",
                                    "Életkor": "27",
                                    "(No column name)": "26"
                                },
                                {
                                    "USERNEV": "eszter2",
                                    "NEV": "Balogh Eszter",
                                    "EMAIL": "eszter.balogh@mail.hu",
                                    "SZAML_CIM": "6760 Kistelek Kossuth utca 11.",
                                    "SZUL_DAT": "1998-01-31",
                                    "Életkor": "26",
                                    "(No column name)": "26"
                                }
                            ]
                        },
                        "text/html": [
                            "<table>",
                            "<tr><th>USERNEV</th><th>NEV</th><th>EMAIL</th><th>SZAML_CIM</th><th>SZUL_DAT</th><th>Életkor</th><th>(No column name)</th></tr>",
                            "<tr><td>anett3</td><td>Pivarcsi Anett</td><td>anett.pivarcsi@mail.hu</td><td>1149 Budapest Fő út 60.</td><td>1967-01-03</td><td>57</td><td>57</td></tr>",
                            "<tr><td>gusztav</td><td>Bárci Gusztáv</td><td>gusztav@gmail.com</td><td>3643 Dédestapolcsány Endrődi Sándor utca 47.</td><td>1967-02-25</td><td>57</td><td>57</td></tr>",
                            "<tr><td>agnes3</td><td>Hartyánszky Ágnes</td><td>agnes3@gmail.com</td><td>6430 Bácsalmás Posta köz 2.</td><td>1967-04-11</td><td>57</td><td>57</td></tr>",
                            "<tr><td>eva</td><td>Enyedi Éva</td><td>eva@gmail.com</td><td>4231 Bököny Petőfi utca 8.</td><td>1967-06-30</td><td>57</td><td>57</td></tr>",
                            "<tr><td>ROBERTI</td><td>Iván Róbert</td><td>róbert.iván@mail.hu</td><td>2377 Örkény Petőfi Sándor utca 3.</td><td>1967-07-02</td><td>57</td><td>57</td></tr>",
                            "<tr><td>SZILARDS</td><td>Szalai Szilárd</td><td>szilárd.szalai@mail.hu</td><td>1077 Budapest Fő út 18.</td><td>1967-09-28</td><td>57</td><td>57</td></tr>",
                            "<tr><td>laszlo1</td><td>Farkas László</td><td>lászló.farkas@mail.hu</td><td>5200 Törökszentmiklós Rendeki utca 21.</td><td>1967-10-30</td><td>57</td><td>56</td></tr>",
                            "<tr><td>janos3</td><td>Harangozó János</td><td>janos3@gmail.com</td><td>8700 Marcali Petőfi Sándor tér 1.</td><td>1967-11-02</td><td>57</td><td>56</td></tr>",
                            "<tr><td>katalin</td><td>Horváth Katalin</td><td>katalin.horváth@mail.hu</td><td>2424 Előszállás Rákóczi út 200.</td><td>1968-01-01</td><td>56</td><td>56</td></tr>",
                            "<tr><td>pal</td><td>Barabás Pál</td><td>pál.barabás@mail.hu</td><td>1183 Budapest Szolnoki út 8.</td><td>1968-02-06</td><td>56</td><td>56</td></tr>",
                            "<tr><td>roland</td><td>Tóth Roland</td><td>roland@gmail.com</td><td>2000 Szentendre Fő út 169.</td><td>1968-03-21</td><td>56</td><td>56</td></tr>",
                            "<tr><td>andi</td><td>Maródi Andrea</td><td>andrea.maródi@mail.hu</td><td>5465 Cserkeszőlő Árpád utca 4.</td><td>1968-05-07</td><td>56</td><td>56</td></tr>",
                            "<tr><td>KRISZTIANM</td><td>Mogyródi Krisztián</td><td>KRISZTIANM@gmail.com</td><td>9155 Lébény Jászai tér 21.</td><td>1968-05-27</td><td>56</td><td>56</td></tr>",
                            "<tr><td>kata</td><td>Gondos Katalin</td><td>katalin.gondos@mail.hu</td><td>8237 Tihany Kossuth Lajos utca 6.</td><td>1968-06-22</td><td>56</td><td>55</td></tr>",
                            "<tr><td>NANDORF</td><td>Fő Nándor</td><td>nándor.fő@mail.hu</td><td>5920 Csorvás Bécsi utca 82.</td><td>1968-11-12</td><td>56</td><td>55</td></tr>",
                            "<tr><td>PETERB</td><td>Berendi Péter</td><td>péter.berendi@mail.hu</td><td>3980 Sátoraljaújhely Vasút utca 4/10.</td><td>1969-01-01</td><td>55</td><td>55</td></tr>",
                            "<tr><td>LASZLON</td><td>Nagy László</td><td>lászló.nagy@mail.hu</td><td>1173 Budapest Jászai tér 21.</td><td>1969-04-12</td><td>55</td><td>55</td></tr>",
                            "<tr><td>gabriella10</td><td>Vida Gabriella</td><td>gabriella10@gmail.com</td><td>2484 Agárd Arany János utca 3.</td><td>1969-06-18</td><td>55</td><td>55</td></tr>",
                            "<tr><td>LASZLOA</td><td>Antal László</td><td>lászló.antal@mail.hu</td><td>2484 Agárd Bécsi utca 82.</td><td>1969-06-29</td><td>55</td><td>55</td></tr>",
                            "<tr><td>daniel1</td><td>Keszler Dániel</td><td>dániel.keszler@mail.hu</td><td>3580 Tiszaújváros Kossuth Lajos utca 6.</td><td>1969-07-16</td><td>55</td><td>55</td></tr>",
                            "<tr><td>norbert</td><td>Szűcs Norbert</td><td>norbert@gmail.com</td><td>5071 Besenyszög Győri utca 12.</td><td>1969-07-17</td><td>55</td><td>55</td></tr>",
                            "<tr><td>krisztina1</td><td>Bori Krisztina</td><td>krisztina.bori@mail.hu</td><td>2115 Vácszentlászló Fő utca 47.</td><td>1969-10-13</td><td>55</td><td>54</td></tr>",
                            "<tr><td>reka4</td><td>Szikszai Réka</td><td>réka.szikszai@mail.hu</td><td>8254 Kővágóörs Templom utca 73.</td><td>1969-11-27</td><td>55</td><td>54</td></tr>",
                            "<tr><td>sandor</td><td>Karasz Sándor</td><td>sandor@gmail.com</td><td>8283 Káptalantóti Kossuth Lajos utca 1/a.</td><td>1970-01-27</td><td>54</td><td>54</td></tr>",
                            "<tr><td>adam3</td><td>Barkóci Ádám</td><td>adam3@gmail.com</td><td>3910 Tokaj Dózsa György utca 37.</td><td>1970-06-07</td><td>54</td><td>54</td></tr>",
                            "<tr><td>krisztian4</td><td>Czérna Krisztián</td><td>krisztián.czérna@mail.hu</td><td>1107 Budapest Dózsa György utca 37.</td><td>1970-08-01</td><td>54</td><td>53</td></tr>",
                            "<tr><td>david1</td><td>Sobják Dávid</td><td>david1@gmail.com</td><td>5083 Kengyel Arany János utca 3.</td><td>1970-08-16</td><td>54</td><td>53</td></tr>",
                            "<tr><td>szilvia1</td><td>Tari Szilvia</td><td>szilvia.tari@mail.hu</td><td>6080 Szabadszállás Bécsi utca 82.</td><td>1971-03-09</td><td>53</td><td>53</td></tr>",
                            "<tr><td>anita</td><td>Hamvay-Kovács Anita</td><td>anita.hamvay-kovács@mail.hu</td><td>7220 Sarkad Táncsics utca 19.</td><td>1971-03-20</td><td>53</td><td>53</td></tr>",
                            "<tr><td>andras3</td><td>Vígh András</td><td>andrás.vígh@mail.hu</td><td>1118 Budapest Arany János utca 1.</td><td>1971-04-02</td><td>53</td><td>53</td></tr>",
                            "<tr><td>aron2</td><td>Jakab Áron</td><td>aron2@gmail.com</td><td>7133 Fadd Bajcsy-Zsilinszky utca 4.</td><td>1971-04-26</td><td>53</td><td>52</td></tr>",
                            "<tr><td>eva2</td><td>Perlinger Éva</td><td>eva2@gmail.com</td><td>9653 Répcelak Bécsi utca 82.</td><td>1971-08-19</td><td>53</td><td>52</td></tr>",
                            "<tr><td>nikoletta4</td><td>Kő Nikoletta</td><td>nikoletta4@gmail.com</td><td>5537 Zsadány Fő út 18.</td><td>1972-01-10</td><td>52</td><td>52</td></tr>",
                            "<tr><td>BEATRIXK</td><td>Kerényi Beatrix</td><td>beatrix.kerényi@mail.hu</td><td>7396 Magyarszék Kossuth Lajos utca 47/b.</td><td>1972-04-06</td><td>52</td><td>52</td></tr>",
                            "<tr><td>ROBERTP</td><td>Pásztor Róbert</td><td>ROBERTP@gmail.com</td><td>5137 Jászkisér Ady Endre út 27.</td><td>1972-05-16</td><td>52</td><td>51</td></tr>",
                            "<tr><td>matyas2</td><td>Botka Mátyás</td><td>matyas2@gmail.com</td><td>2700 Cegléd Kossuth Lajos utca 6.</td><td>1972-07-07</td><td>52</td><td>51</td></tr>",
                            "<tr><td>sara</td><td>Farkas Sára</td><td>sára.farkas@mail.hu</td><td>5940 Tótkomlós Felszabadulás utca 32.</td><td>1973-04-05</td><td>51</td><td>51</td></tr>",
                            "<tr><td>aniko</td><td>Tóth Anikó</td><td>aniko@gmail.com</td><td>2085 Pilisvörösvár Deák Ferenc út 5.</td><td>1973-06-03</td><td>51</td><td>51</td></tr>",
                            "<tr><td>BENCEB</td><td>Bajusz Bence</td><td>bence.bajusz@mail.hu</td><td>8391 Sármellék Fő utca 56.</td><td>1973-06-21</td><td>51</td><td>50</td></tr>",
                            "<tr><td>gabor1</td><td>Köves Gábor</td><td>gabor1@gmail.com</td><td>6762 Sándorfalva Árpád utca 23.</td><td>1973-07-15</td><td>51</td><td>50</td></tr>",
                            "<tr><td>david</td><td>Ambrus Dávid</td><td>david@gmail.com</td><td>1149 Budapest Fő út 18.</td><td>1974-02-11</td><td>50</td><td>50</td></tr>",
                            "<tr><td>tunde</td><td>Turcsik Tünde</td><td>tunde@gmail.com</td><td>7130 Tolna Fő út 122.</td><td>1974-02-12</td><td>50</td><td>50</td></tr>",
                            "<tr><td>GYONGYIK</td><td>Kornseé Gyöngyi</td><td>gyöngyi.kornseé@mail.hu</td><td>8800 Nagykanizsa Fő út 60.</td><td>1974-06-07</td><td>50</td><td>49</td></tr>",
                            "<tr><td>MONIKAM</td><td>Mohos Mónika</td><td>mónika.mohos@mail.hu</td><td>2241 Sülysáp Baracsi László utca 14.</td><td>1974-10-01</td><td>50</td><td>49</td></tr>",
                            "<tr><td>JANOSG</td><td>Giliga János</td><td>JANOSG@gmail.com</td><td>3300 Eger Deák Ferenc út 5.</td><td>1975-01-03</td><td>49</td><td>49</td></tr>",
                            "<tr><td>laszlo2</td><td>Móra László</td><td>lászló.móra@mail.hu</td><td>9970 Szentgotthárd Petőfi utca 1/2.</td><td>1975-02-19</td><td>49</td><td>49</td></tr>",
                            "<tr><td>denes</td><td>Tömböly Dénes</td><td>denes@gmail.com</td><td>2400 Dunaújváros Kossuth út 39.</td><td>1975-03-14</td><td>49</td><td>49</td></tr>",
                            "<tr><td>MATYASS</td><td>Szilágyi Mátyás</td><td>mátyás.szilágyi@mail.hu</td><td>9023 Győr Kossuth Lajos utca 6.</td><td>1975-03-22</td><td>49</td><td>49</td></tr>",
                            "<tr><td>katka</td><td>Kovács Katalin</td><td>katalin.kovács@mail.hu</td><td>8254 Kővágóörs Petőfi utca 22.</td><td>1975-03-31</td><td>49</td><td>49</td></tr>",
                            "<tr><td>JOZSEFG</td><td>Gyuris József</td><td>józsef.gyuris@mail.hu</td><td>2660 Balassagyarmat Petőfi utca 1/2.</td><td>1975-05-26</td><td>49</td><td>49</td></tr>",
                            "<tr><td>norbert5</td><td>Béres Norbert</td><td>norbert5@gmail.com</td><td>8640 Fonyód Bajcsy-Zsilinszky utca 4.</td><td>1975-07-27</td><td>49</td><td>49</td></tr>",
                            "<tr><td>timea2</td><td>Dusha Tímea</td><td>tímea.dusha@mail.hu</td><td>5920 Csorvás Kossuth utca 8.</td><td>1975-08-22</td><td>49</td><td>49</td></tr>",
                            "<tr><td>kornel4</td><td>Lukács Kornél</td><td>kornél.lukács@mail.hu</td><td>2053 Herceghalom Bécsi utca 82.</td><td>1975-09-30</td><td>49</td><td>48</td></tr>",
                            "<tr><td>attila4</td><td>Baróti Attila</td><td>attila.baróti@mail.hu</td><td>7149 Báta Arany János utca 3.</td><td>1975-11-06</td><td>49</td><td>48</td></tr>",
                            "<tr><td>peter2</td><td>Bozsó Péter</td><td>peter2@gmail.com</td><td>4800 Vásárosnamény Zombori út 2/A</td><td>1976-01-26</td><td>48</td><td>48</td></tr>",
                            "<tr><td>peter1</td><td>Kozma Péter</td><td>peter1@gmail.com</td><td>6913 Csanádpalota Központi telep 3.</td><td>1976-03-18</td><td>48</td><td>48</td></tr>",
                            "<tr><td>imre1</td><td>Papp Imre</td><td>imre.papp@mail.hu</td><td>1077 Budapest Szolnoki út 8.</td><td>1976-06-25</td><td>48</td><td>48</td></tr>",
                            "<tr><td>adam4</td><td>Bieniek Ádám</td><td>ádám.bieniek@mail.hu</td><td>8630 Balatonboglár Juhászföldi út 1.</td><td>1976-08-01</td><td>48</td><td>48</td></tr>",
                            "<tr><td>balu</td><td>Endresz Bálint</td><td>bálint.endresz@mail.hu</td><td>3973 Cigánd Fő út 169.</td><td>1976-08-01</td><td>48</td><td>48</td></tr>",
                            "<tr><td>debora</td><td>Barna Debóra</td><td>debóra.barna@mail.hu</td><td>1155 Budapest Fő út 169.</td><td>1976-10-14</td><td>48</td><td>47</td></tr>",
                            "<tr><td>ZSUZSAV</td><td>Vajda Zsuzsa</td><td>zsuzsa.vajda@mail.hu</td><td>6786 Ruzsa Kossuth utca 77.</td><td>1976-12-11</td><td>48</td><td>47</td></tr>",
                            "<tr><td>robert2</td><td>Patay Róbert</td><td>robert2@gmail.com</td><td>2370 Dabas Rákóczi utca 21.</td><td>1977-01-08</td><td>47</td><td>47</td></tr>",
                            "<tr><td>ZOLTANP</td><td>Pintér Zoltán</td><td>zoltán.pintér@mail.hu</td><td>6050 Lajosmizse Fő út 18.</td><td>1977-06-07</td><td>47</td><td>47</td></tr>",
                            "<tr><td>ANNAMARIAR</td><td>Regős Annamária</td><td>ANNAMARIAR@gmail.com</td><td>8283 Káptalantóti Petőfi Sándor tér 1.</td><td>1977-09-26</td><td>47</td><td>47</td></tr>",
                            "<tr><td>bertalan</td><td>Csiger Bertalan</td><td>bertalan@gmail.com</td><td>1192 Budapest Fő út 169.</td><td>1977-10-15</td><td>47</td><td>46</td></tr>",
                            "<tr><td>andras21</td><td>Molnár András</td><td>andrás.molnár@mail.hu</td><td>7900 Szigetvár Rákóczi utca 67.</td><td>1977-11-16</td><td>47</td><td>46</td></tr>",
                            "<tr><td>aniko4</td><td>Böröcz Anikó</td><td>aniko4@gmail.com</td><td>2484 Agárd Petőfi Sándor tér 1.</td><td>1978-03-26</td><td>46</td><td>46</td></tr>",
                            "<tr><td>kriszti</td><td>Horváth Krisztina</td><td>kriszti@gmail.com</td><td>6060 Tiszakécske Árpád utca 4.</td><td>1978-06-12</td><td>46</td><td>46</td></tr>",
                            "<tr><td>ESZTERE</td><td>Érsek Eszter</td><td>eszter.érsek@mail.hu</td><td>6785 Pusztamérges Kossuth Lajos utca 6.</td><td>1978-08-28</td><td>46</td><td>46</td></tr>",
                            "<tr><td>jozsef2</td><td>Vajda József</td><td>józsef.vajda@mail.hu</td><td>6700 Szeged Baracsi László utca 14.</td><td>1978-09-04</td><td>46</td><td>46</td></tr>",
                            "<tr><td>brigitta</td><td>Székely Brigitta</td><td>brigitta.székely@mail.hu</td><td>2462 Martonvásár Fő utca 47.</td><td>1978-09-13</td><td>46</td><td>46</td></tr>",
                            "<tr><td>lajos</td><td>Kiss Lajos</td><td>lajos.kiss@mail.hu</td><td>1077 Budapest Dob utca 1</td><td>1978-10-31</td><td>46</td><td>45</td></tr>",
                            "<tr><td>daniel</td><td>Rácz Dániel</td><td>dániel.rácz@mail.hu</td><td>9181 Kimle Szabadság tér 9.</td><td>1978-11-28</td><td>46</td><td>45</td></tr>",
                            "<tr><td>MIKLOSB</td><td>Balla Miklós</td><td>miklós.balla@mail.hu</td><td>4060 Balmazújváros Szent István utca 2.</td><td>1979-02-16</td><td>45</td><td>45</td></tr>",
                            "<tr><td>zsuzsa3</td><td>Varsányi Zsuzsa</td><td>zsuzsa.varsányi@mail.hu</td><td>8600 Siófok Árpád utca 4.</td><td>1979-03-06</td><td>45</td><td>45</td></tr>",
                            "<tr><td>krisztina</td><td>Szedlár Krisztina</td><td>krisztina@gmail.com</td><td>6646 Tömörkény Arany János utca 1.</td><td>1979-05-10</td><td>45</td><td>45</td></tr>",
                            "<tr><td>MIHALYJ</td><td>Juhász Mihály</td><td>mihály.juhász@mail.hu</td><td>6786 Ruzsa Rákóczi utca 1.</td><td>1979-10-12</td><td>45</td><td>45</td></tr>",
                            "<tr><td>zoltan</td><td>Fodor Zoltán</td><td>zoltán.fodor@mail.hu</td><td>3441 Mezőkeresztes Fő utca 23.</td><td>1979-11-25</td><td>45</td><td>45</td></tr>",
                            "<tr><td>agnes</td><td>Lengyel Ágnes</td><td>agnes@gmail.com</td><td>5200 Törökszentmiklós Deák Ferenc út 5.</td><td>1979-12-10</td><td>45</td><td>44</td></tr>",
                            "<tr><td>attila</td><td>Csóti Attila</td><td>attila@gmail.com</td><td>3000 Hatvan Bajcsy-Zsilinszky utca 4.</td><td>1979-12-25</td><td>45</td><td>44</td></tr>",
                            "<tr><td>GYORGYO</td><td>Oroszi György</td><td>GYORGYO@gmail.com</td><td>7220 Sarkad Dózsa György u. 1.</td><td>1980-03-23</td><td>44</td><td>44</td></tr>",
                            "<tr><td>SZABOLCSM</td><td>Miklós Szabolcs</td><td>szabolcs.miklós@mail.hu</td><td>1102 Budapest Fő út 169.</td><td>1980-08-11</td><td>44</td><td>44</td></tr>",
                            "<tr><td>tamara2</td><td>Miklós Tamara</td><td>tamara.miklós@mail.hu</td><td>3910 Tokaj Kossuth út 39.</td><td>1980-08-11</td><td>44</td><td>44</td></tr>",
                            "<tr><td>ANDRASN</td><td>Nagy András</td><td>andrás.nagy@mail.hu</td><td>6500 Baja Fő út 169.</td><td>1980-09-05</td><td>44</td><td>44</td></tr>",
                            "<tr><td>zsuzsa</td><td>Pusztai Zsuzsanna</td><td>zsuzsanna@gmail.com</td><td>6783 Ásotthalom Badacsonyi utca 12.</td><td>1980-09-17</td><td>44</td><td>44</td></tr>",
                            "<tr><td>aladar</td><td>Dunai Aladár</td><td>aladár.dunai@mail.hu</td><td>5931 Nagyszénás Árpád utca 23.</td><td>1980-11-01</td><td>44</td><td>43</td></tr>",
                            "<tr><td>EVAV</td><td>Viktor Éva</td><td>EVAV@gmail.com</td><td>6913 Csanádpalota Arany János utca 3.</td><td>1980-12-26</td><td>44</td><td>43</td></tr>",
                            "<tr><td>BEATRIXS</td><td>Szekendi Beatrix</td><td>beatrix.szekendi@mail.hu</td><td>4060 Balmazújváros Jászai tér 21.</td><td>1981-04-06</td><td>43</td><td>43</td></tr>",
                            "<tr><td>andrea4</td><td>Neizer Andrea</td><td>andrea4@gmail.com</td><td>1124 Budapest Kiss u. 8.</td><td>1981-05-17</td><td>43</td><td>43</td></tr>",
                            "<tr><td>nikolett3</td><td>Horváth Nikolett</td><td>nikolett3@gmail.com</td><td>1072 Budapest Arany János utca 1.</td><td>1981-09-29</td><td>43</td><td>42</td></tr>",
                            "<tr><td>AGNESH</td><td>Horváth Ágnes</td><td>AGNESH@gmail.com</td><td>8200 Veszprém Rákóczi utca 21.</td><td>1981-12-24</td><td>43</td><td>42</td></tr>",
                            "<tr><td>klaudia2</td><td>Bakó Klaudia</td><td>klaudia.bakó@mail.hu</td><td>8254 Kővágóörs Kossuth Lajos utca 6.</td><td>1982-04-16</td><td>42</td><td>42</td></tr>",
                            "<tr><td>akos</td><td>Bíró Ákos</td><td>ákos.bíró@mail.hu</td><td>9023 Győr Kossuth Lajos utca 47/b.</td><td>1982-04-24</td><td>42</td><td>42</td></tr>",
                            "<tr><td>attila1</td><td>Gulyás Attila</td><td>attila.gulyás@mail.hu</td><td>3881 Abaújszántó Szolnoki út 8.</td><td>1982-08-16</td><td>42</td><td>41</td></tr>",
                            "<tr><td>gabriella1</td><td>Nagy Gabriella</td><td>gabriella1@gmail.com</td><td>1077 Budapest Dob utca 1</td><td>1982-11-01</td><td>42</td><td>41</td></tr>",
                            "<tr><td>georgij</td><td>Nyíri Georgij</td><td>georgij.nyíri@mail.hu</td><td>8391 Sármellék Grassalkovich út 10.</td><td>1983-02-23</td><td>41</td><td>41</td></tr>",
                            "<tr><td>norbert4</td><td>Mile Norbert</td><td>norbert4@gmail.com</td><td>3973 Cigánd Bajcsy-Zsilinszky utca 4.</td><td>1983-06-15</td><td>41</td><td>41</td></tr>",
                            "<tr><td>peter3</td><td>Szalai Péter</td><td>peter3@gmail.com</td><td>1155 Budapest Arany János utca 3.</td><td>1983-07-18</td><td>41</td><td>41</td></tr>",
                            "<tr><td>veronika4</td><td>Tankó Veronika</td><td>veronika4@gmail.com</td><td>6412 Balotaszállás Rendeki utca 21.</td><td>1983-08-28</td><td>41</td><td>41</td></tr>",
                            "<tr><td>ZSOLTJ</td><td>Józsa Zsolt</td><td>ZSOLTJ@gmail.com</td><td>8315 Gyenesdiás Bajcsy-Zsilinszky utca 4.</td><td>1983-09-29</td><td>41</td><td>41</td></tr>",
                            "<tr><td>ferenc1</td><td>Orosz Ferenc</td><td>ferenc.orosz@mail.hu</td><td>5061 Tiszasüly Arany János utca 3.</td><td>1983-10-08</td><td>41</td><td>41</td></tr>",
                            "<tr><td>zsofi1</td><td>Molnár Zsófi</td><td>zsofi1@gmail.com</td><td>2730 Albertirsa Árpád utca 23.</td><td>1983-11-17</td><td>41</td><td>40</td></tr>",
                            "<tr><td>IBOLYAA</td><td>Andor Ibolya</td><td>ibolya.andor@mail.hu</td><td>9023 Győr Posta köz 2.</td><td>1983-11-27</td><td>41</td><td>40</td></tr>",
                            "<tr><td>kristof4</td><td>Poprádi Kristóf</td><td>kristof4@gmail.com</td><td>8220 Balatonalmádi Mészáros utca 7.</td><td>1984-01-15</td><td>40</td><td>40</td></tr>",
                            "<tr><td>csongor3</td><td>Nagymihály Csongor</td><td>csongor.nagymihály@mail.hu</td><td>9181 Kimle Deák Ferenc út 5.</td><td>1984-03-05</td><td>40</td><td>40</td></tr>",
                            "<tr><td>andras4</td><td>Back András</td><td>andras4@gmail.com</td><td>3783 Edelény Fő út 169.</td><td>1984-04-07</td><td>40</td><td>40</td></tr>",
                            "<tr><td>edit</td><td>Bittmann Edit</td><td>edit.bittmann@mail.hu</td><td>6077 Orgovány Fő utca 60.</td><td>1984-04-20</td><td>40</td><td>40</td></tr>",
                            "<tr><td>tamas</td><td>Antal Tamás</td><td>tamás.antal@mail.hu</td><td>4440 Tiszavasvári Posta köz 2.</td><td>1984-09-05</td><td>40</td><td>40</td></tr>",
                            "<tr><td>JANOSP</td><td>Pálinkás János</td><td>JANOSP@gmail.com</td><td>5920 Csorvás Padragi út 158.</td><td>1984-10-12</td><td>40</td><td>40</td></tr>",
                            "<tr><td>bernadett1</td><td>Simon Bernadett</td><td>bernadett1@gmail.com</td><td>2300 Ráckeve Fő utca 108.</td><td>1984-10-13</td><td>40</td><td>39</td></tr>",
                            "<tr><td>balazs2</td><td>Szűcs Balázs</td><td>balázs.szűcs@mail.hu</td><td>3170 Szécsény Szabadság utca 95.</td><td>1984-10-31</td><td>40</td><td>39</td></tr>",
                            "<tr><td>tibor2</td><td>Dániel Tibor</td><td>tibor2@gmail.com</td><td>6646 Tömörkény Árpád utca 23.</td><td>1985-02-02</td><td>39</td><td>39</td></tr>",
                            "<tr><td>julia4</td><td>Nagy Júlia</td><td>julia4@gmail.com</td><td>7000 Sárbogárd Jászai tér 21.</td><td>1985-08-11</td><td>39</td><td>39</td></tr>",
                            "<tr><td>peter4</td><td>Bíró Péter</td><td>péter.bíró@mail.hu</td><td>5137 Jászkisér Rákóczi utca 67.</td><td>1985-09-01</td><td>39</td><td>39</td></tr>",
                            "<tr><td>jozsef</td><td>Gergely József</td><td>jozsef@gmail.com</td><td>6050 Lajosmizse Fő út 18.</td><td>1985-11-01</td><td>39</td><td>39</td></tr>",
                            "<tr><td>ZOLTANT</td><td>Tóth Zoltán</td><td>zoltán.tóth@mail.hu</td><td>4244 Újfehértó Posta köz 2.</td><td>1985-12-14</td><td>39</td><td>38</td></tr>",
                            "<tr><td>roland1</td><td>Ferencz Roland</td><td>roland.ferencz@mail.hu</td><td>2424 Előszállás Fő út 169.</td><td>1985-12-31</td><td>39</td><td>38</td></tr>",
                            "<tr><td>valentin</td><td>Feró Valentin</td><td>valentin.feró@mail.hu</td><td>3895 Gönc Búvár utca 4.</td><td>1986-01-09</td><td>38</td><td>38</td></tr>",
                            "<tr><td>katalin4</td><td>Kertész Katalin</td><td>katalin4@gmail.com</td><td>2800 Tatabánya Búvár utca 4.</td><td>1986-04-13</td><td>38</td><td>38</td></tr>",
                            "<tr><td>ARPADM</td><td>Móricz Árpád</td><td>árpád.móricz@mail.hu</td><td>3910 Tokaj Rákóczi utca 67.</td><td>1986-04-20</td><td>38</td><td>38</td></tr>",
                            "<tr><td>zoltan4</td><td>Barna Zoltán</td><td>zoltan4@gmail.com</td><td>8313 Balatongyörök Jászai tér 21.</td><td>1986-05-20</td><td>38</td><td>38</td></tr>",
                            "<tr><td>istvan</td><td>Soós István</td><td>istvan@gmail.com</td><td>2370 Dabas Kossuth utca 27.</td><td>1986-06-28</td><td>38</td><td>38</td></tr>",
                            "<tr><td>balazs3</td><td>Bakódy Balázs</td><td>balazs3@gmail.com</td><td>2131 Göd Arany János utca 1.</td><td>1986-09-09</td><td>38</td><td>38</td></tr>",
                            "<tr><td>dani</td><td>Vörös Dániel</td><td>daniel@gmail.com</td><td>7150 Bonyhád Dózsa György u. 1.</td><td>1986-10-14</td><td>38</td><td>38</td></tr>",
                            "<tr><td>ANDREAT</td><td>Tornyos Andrea</td><td>ANDREAT@gmail.com</td><td>6131 Szank Bécsi utca 82.</td><td>1986-11-14</td><td>38</td><td>37</td></tr>",
                            "<tr><td>henrik3</td><td>Nádudvari Henrik</td><td>henrik.nádudvari@mail.hu</td><td>1077 Budapest Tanácsköztársaság tér 1.</td><td>1986-12-05</td><td>38</td><td>37</td></tr>",
                            "<tr><td>gabor4</td><td>Telek Gábor</td><td>gábor.telek@mail.hu</td><td>9071 Görbeháza Fő út 169.</td><td>1987-03-15</td><td>37</td><td>37</td></tr>",
                            "<tr><td>eszter</td><td>Molnár Eszter</td><td>eszter.molnár@mail.hu</td><td>6800 Hódmezővásárhely Fő út 77.</td><td>1987-05-10</td><td>37</td><td>37</td></tr>",
                            "<tr><td>bence</td><td>Győrffy Bence</td><td>bence@gmail.com</td><td>6900 Makó Árpád utca 23.</td><td>1987-07-09</td><td>37</td><td>37</td></tr>",
                            "<tr><td>KRISZTINAG</td><td>Gyárfás Krisztina</td><td>KRISZTINAG@gmail.com</td><td>6762 Sándorfalva Arany János utca 1.</td><td>1987-09-19</td><td>37</td><td>36</td></tr>",
                            "<tr><td>BERNADETTO</td><td>Orbán Bernadett</td><td>bernadett.orbán@mail.hu</td><td>5085 Rákóczifalva Arany János utca 1.</td><td>1987-12-07</td><td>37</td><td>36</td></tr>",
                            "<tr><td>RENATAK</td><td>Kardos Renáta</td><td>renáta.kardos@mail.hu</td><td>7086 Ozora Bécsi utca 82.</td><td>1988-05-17</td><td>36</td><td>36</td></tr>",
                            "<tr><td>zsolt1</td><td>Pulai Zsolt</td><td>zsolt.pulai@mail.hu</td><td>8391 Sármellék Fő utca 60.</td><td>1988-05-27</td><td>36</td><td>36</td></tr>",
                            "<tr><td>imre</td><td>Búza Imre</td><td>imre.búza@mail.hu</td><td>9181 Kimle Petőfi Sándor tér 1.</td><td>1988-09-30</td><td>36</td><td>36</td></tr>",
                            "<tr><td>AGNESK</td><td>Kovács Ágnes</td><td>AGNESK@gmail.com</td><td>1084 Budapest Endrődi Sándor utca 47.</td><td>1988-10-02</td><td>36</td><td>36</td></tr>",
                            "<tr><td>ANIKOS</td><td>Simon Anikó</td><td>ANIKOS@gmail.com</td><td>5137 Jászkisér Bécsi utca 82.</td><td>1988-12-14</td><td>36</td><td>35</td></tr>",
                            "<tr><td>roza2</td><td>Bucskó Róza</td><td>roza2@gmail.com</td><td>5661 Újkígyós Arany János utca 3.</td><td>1988-12-26</td><td>36</td><td>35</td></tr>",
                            "<tr><td>sandor3</td><td>Farkas Sándor</td><td>sándor.farkas@mail.hu</td><td>8640 Fonyód Tanácsköztársaság tér 1.</td><td>1989-01-27</td><td>35</td><td>35</td></tr>",
                            "<tr><td>ISTVANV</td><td>Varga István</td><td>ISTVANV@gmail.com</td><td>6320 Solt Hősök tere 11.</td><td>1989-04-09</td><td>35</td><td>35</td></tr>",
                            "<tr><td>VIKTORK</td><td>Keresztúri Viktor</td><td>viktor.keresztúri@mail.hu</td><td>2532 Tokodaltáró Nagy Lajos tér 4.</td><td>1989-05-05</td><td>35</td><td>35</td></tr>",
                            "<tr><td>marton</td><td>Kalacsi Márton</td><td>marton@gmail.com</td><td>5137 Jászkisér Fő út 169.</td><td>1989-06-24</td><td>35</td><td>35</td></tr>",
                            "<tr><td>ARONK</td><td>Kelemen Áron</td><td>áron.kelemen@mail.hu</td><td>8200 Veszprém Petőfi utca 8.</td><td>1989-08-10</td><td>35</td><td>35</td></tr>",
                            "<tr><td>emese</td><td>Kuruc Emese</td><td>emese.kuruc@mail.hu</td><td>6700 Szeged Rákóczi utca 67.</td><td>1989-08-10</td><td>35</td><td>34</td></tr>",
                            "<tr><td>balint1</td><td>Molnár Bálint</td><td>balint1@gmail.com</td><td>9181 Kimle Fő út 169.</td><td>1989-08-24</td><td>35</td><td>34</td></tr>",
                            "<tr><td>annamaria1</td><td>Szűcs Annamária</td><td>annamária.szűcs@mail.hu</td><td>1191 Budapest Rendeki utca 21.</td><td>1990-04-27</td><td>34</td><td>34</td></tr>",
                            "<tr><td>ARPADH</td><td>Horváth Árpád</td><td>árpád.horváth@mail.hu</td><td>7349 Szászvár Dózsa György u. 1.</td><td>1990-05-18</td><td>34</td><td>34</td></tr>",
                            "<tr><td>GABORS</td><td>Szöllősi Gábor</td><td>GABORS@gmail.com</td><td>3630 Putnok Kossuth utca 27.</td><td>1990-05-31</td><td>34</td><td>34</td></tr>",
                            "<tr><td>arpad2</td><td>Ötvös Árpád</td><td>árpád.ötvös@mail.hu</td><td>2600 Vác Padragi út 158.</td><td>1990-06-08</td><td>34</td><td>34</td></tr>",
                            "<tr><td>szabolcs</td><td>Bodor Szabolcs</td><td>szabolcs.bodor@mail.hu</td><td>6786 Ruzsa Ady Endre út 27.</td><td>1990-07-16</td><td>34</td><td>34</td></tr>",
                            "<tr><td>ilona3</td><td>Bosnyák Ilona</td><td>ilona3@gmail.com</td><td>2483 Gárdony Posta köz 2.</td><td>1990-08-06</td><td>34</td><td>34</td></tr>",
                            "<tr><td>julianna4</td><td>Szabó Julianna</td><td>julianna4@gmail.com</td><td>6700 Szeged Kossuth Lajos utca 6.</td><td>1990-09-29</td><td>34</td><td>33</td></tr>",
                            "<tr><td>david4</td><td>Berta Dávid</td><td>david4@gmail.com</td><td>3500 Miskolc Balatoni út 12.</td><td>1990-10-08</td><td>34</td><td>33</td></tr>",
                            "<tr><td>RENATAS</td><td>Szirmai Renáta</td><td>RENATAS@gmail.com</td><td>2053 Herceghalom Kossuth utca 27.</td><td>1991-03-26</td><td>33</td><td>33</td></tr>",
                            "<tr><td>brigitta3</td><td>Pataki Brigitta</td><td>brigitta.pataki@mail.hu</td><td>2730 Albertirsa Rendeki utca 21.</td><td>1991-05-23</td><td>33</td><td>33</td></tr>",
                            "<tr><td>vivien3</td><td>Boros Vivien</td><td>vivien3@gmail.com</td><td>2117 Isaszeg Fő út 122.</td><td>1991-07-01</td><td>33</td><td>33</td></tr>",
                            "<tr><td>tihamer</td><td>Kazy Tihamér</td><td>tihamér.kazy@mail.hu</td><td>2370 Dabas Fő utca 60.</td><td>1991-07-05</td><td>33</td><td>33</td></tr>",
                            "<tr><td>norbert2</td><td>Hegedűs Norbert</td><td>norbert.hegedűs@mail.hu</td><td>2081 Piliscsaba Rendeki utca 21.</td><td>1991-07-17</td><td>33</td><td>32</td></tr>",
                            "<tr><td>adam1</td><td>Kiss Ádám</td><td>ádám.kiss@mail.hu</td><td>5630 Békés Szolnoki út 8.</td><td>1991-12-28</td><td>33</td><td>32</td></tr>",
                            "<tr><td>sebestyen</td><td>Rab Sebestyén</td><td>sebestyen@gmail.com</td><td>7130 Tolna Központi telep 3.</td><td>1992-03-03</td><td>32</td><td>32</td></tr>",
                            "<tr><td>alexandra</td><td>Bagóczki Alexandra</td><td>alexandra.bagóczki@mail.hu</td><td>2381 Táborfalva Petőfi utca 1/2.</td><td>1992-03-25</td><td>32</td><td>32</td></tr>",
                            "<tr><td>SEBASTIANF</td><td>Foltényi Sebastián</td><td>SEBASTIANF@gmail.com</td><td>7960 Sellye Grassalkovich út 10.</td><td>1992-09-09</td><td>32</td><td>31</td></tr>",
                            "<tr><td>balazs1</td><td>Bozsik Balázs</td><td>balázs.bozsik@mail.hu</td><td>2300 Ráckeve Bécsi utca 82.</td><td>1992-11-03</td><td>32</td><td>31</td></tr>",
                            "<tr><td>julia</td><td>Tóth Júlia</td><td>julia@gmail.com</td><td>5310 Kisújszállás Árpád utca 4.</td><td>1993-03-02</td><td>31</td><td>31</td></tr>",
                            "<tr><td>andrea</td><td>Kiss Andrea</td><td>andrea.kiss@mail.hu</td><td>1113 Budapest Petőfi Sándor utca 87.</td><td>1993-03-25</td><td>31</td><td>31</td></tr>",
                            "<tr><td>eszter4</td><td>Fülöp Eszter</td><td>eszter.fülöp@mail.hu</td><td>3643 Dédestapolcsány Kossuth Lajos utca 47/b.</td><td>1993-06-28</td><td>31</td><td>31</td></tr>",
                            "<tr><td>rajmond4</td><td>Rácz Rajmond</td><td>rajmond.rácz@mail.hu</td><td>9155 Lébény Petőfi utca 1/2.</td><td>1993-09-25</td><td>31</td><td>30</td></tr>",
                            "<tr><td>tibor</td><td>Gombos Tibor</td><td>tibor.gombos@mail.hu</td><td>7100 Szekszárd Kossuth utca 77.</td><td>1993-11-28</td><td>31</td><td>30</td></tr>",
                            "<tr><td>polla</td><td>Palágyi Polla</td><td>polla@gmail.com</td><td>2484 Agárd Fő út 18.</td><td>1994-02-04</td><td>30</td><td>30</td></tr>",
                            "<tr><td>beata4</td><td>Bagi Beáta</td><td>beáta.bagi@mail.hu</td><td>8477 Tüskevár Felszabadulás utca 32.</td><td>1994-03-19</td><td>30</td><td>30</td></tr>",
                            "<tr><td>zsuzsanna</td><td>Barta Zsuzsanna</td><td>zsuzsanna.barta@mail.hu</td><td>4172 Biharnagybajom Dózsa György utca 37.</td><td>1994-10-07</td><td>30</td><td>29</td></tr>",
                            "<tr><td>BELAF</td><td>Farkas Béla</td><td>BELAF@gmail.com</td><td>5530 Vésztő Petőfi Sándor utca 3.</td><td>1995-02-24</td><td>29</td><td>29</td></tr>",
                            "<tr><td>kati</td><td>Zatykó Katalin</td><td>katalin.zatykó@mail.hu</td><td>7511 Ötvöskónyi Kossuth Lajos utca 6.</td><td>1995-05-01</td><td>29</td><td>29</td></tr>",
                            "<tr><td>ATTILAO</td><td>Opra Attila</td><td>ATTILAO@gmail.com</td><td>8283 Káptalantóti Rákóczi út 200.</td><td>1995-05-08</td><td>29</td><td>29</td></tr>",
                            "<tr><td>dora3</td><td>Sarodi Dóra</td><td>dóra.sarodi@mail.hu</td><td>2855 Bokod Fő út 18.</td><td>1995-05-18</td><td>29</td><td>29</td></tr>",
                            "<tr><td>miklos2</td><td>Gondos Miklós</td><td>miklos2@gmail.com</td><td>2100 Gödöllő Árpád utca 23.</td><td>1995-10-07</td><td>29</td><td>28</td></tr>",
                            "<tr><td>maria1</td><td>Baráth Mária</td><td>mária.baráth@mail.hu</td><td>1047 Budapest Posta köz 2.</td><td>1995-11-19</td><td>29</td><td>28</td></tr>",
                            "<tr><td>timea</td><td>Papós Tímea</td><td>timea@gmail.com</td><td>1035 Budapest  Kossuth út 77.</td><td>1996-01-08</td><td>28</td><td>28</td></tr>",
                            "<tr><td>mark</td><td>Kispál Márk</td><td>márk.kispál@mail.hu</td><td>1086 Budapest Juhászföldi út 1.</td><td>1996-01-23</td><td>28</td><td>28</td></tr>",
                            "<tr><td>balint</td><td>Horváth Bálint</td><td>balint@gmail.com</td><td>6646 Tömörkény Endrődi Sándor utca 47.</td><td>1996-03-17</td><td>28</td><td>28</td></tr>",
                            "<tr><td>VIKTORIAU</td><td>Urbán Viktoria</td><td>viktoria.urbán@mail.hu</td><td>3860 Encs Népboltsor  2.</td><td>1996-05-03</td><td>28</td><td>28</td></tr>",
                            "<tr><td>andrea3</td><td>Szomor Andrea</td><td>andrea3@gmail.com</td><td>7960 Sellye Bécsi utca 82.</td><td>1996-05-10</td><td>28</td><td>28</td></tr>",
                            "<tr><td>fruzsina4</td><td>Frank Fruzsina</td><td>fruzsina4@gmail.com</td><td>9700 Szombathely Szabadság utca 95.</td><td>1996-08-16</td><td>28</td><td>27</td></tr>",
                            "<tr><td>bernadett2</td><td>Kovács Bernadett</td><td>bernadett.kovács@mail.hu</td><td>4200 Hajdúszoboszló Fő út 122.</td><td>1996-08-20</td><td>28</td><td>27</td></tr>",
                            "<tr><td>lala</td><td>Nagymihály Lajos</td><td>lajos.nagymihály@mail.hu</td><td>8638 Balatonlelle Rákóczi út 200.</td><td>1997-02-24</td><td>27</td><td>27</td></tr>",
                            "<tr><td>MATEK</td><td>Koza Máté</td><td>máté.koza@mail.hu</td><td>1011 Budapest Központi telep 3.</td><td>1997-02-28</td><td>27</td><td>27</td></tr>",
                            "<tr><td>ANDRASE</td><td>Erdei András</td><td>ANDRASE@gmail.com</td><td>5071 Besenyszög Szolnoki út 8.</td><td>1997-05-29</td><td>27</td><td>27</td></tr>",
                            "<tr><td>sandor4</td><td>Nagy Sándor</td><td>sandor4@gmail.com</td><td>4600 Kisvárda Fő utca 47.</td><td>1997-06-11</td><td>27</td><td>27</td></tr>",
                            "<tr><td>JUDITH</td><td>Hídasi Judit</td><td>JUDITH@gmail.com</td><td>2100 Gödöllő Fő út 169.</td><td>1997-07-12</td><td>27</td><td>27</td></tr>",
                            "<tr><td>balint2</td><td>Vukasinovity Bálint</td><td>balint2@gmail.com</td><td>2330 Dunaharaszti Béke utca 7.</td><td>1997-09-03</td><td>27</td><td>27</td></tr>",
                            "<tr><td>MARKH</td><td>Horváth Márk</td><td>márk.horváth@mail.hu</td><td>4400 Nyíregyháza Badacsonyi utca 12.</td><td>1997-09-23</td><td>27</td><td>27</td></tr>",
                            "<tr><td>NIKOLETTAT</td><td>Tatár Nikoletta</td><td>nikoletta.tatár@mail.hu</td><td>1067 Budapest Győri utca 12.</td><td>1997-10-19</td><td>27</td><td>27</td></tr>",
                            "<tr><td>andras41</td><td>Komjáti András</td><td>andras41@gmail.com</td><td>5065 Nagykörű Kossuth út 24.</td><td>1997-10-25</td><td>27</td><td>27</td></tr>",
                            "<tr><td>andras2</td><td>Tóth András</td><td>andrás.tóth@mail.hu</td><td>4071 Egyek Petőfi utca 30.</td><td>1997-10-31</td><td>27</td><td>27</td></tr>",
                            "<tr><td>TAMASF</td><td>Fényes Tamás</td><td>TAMASF@gmail.com</td><td>9023 Győr Arany János utca 1.</td><td>1997-11-06</td><td>27</td><td>26</td></tr>",
                            "<tr><td>istvan1</td><td>Vizi István</td><td>istván.vizi@mail.hu</td><td>7086 Ozora Rákóczi utca 1.</td><td>1997-12-01</td><td>27</td><td>26</td></tr>",
                            "<tr><td>eszter2</td><td>Balogh Eszter</td><td>eszter.balogh@mail.hu</td><td>6760 Kistelek Kossuth utca 11.</td><td>1998-01-31</td><td>26</td><td>26</td></tr>",
                            "</table>"
                        ]
                    }
                }
            ],
            "execution_count": 17
        }
    ]
}