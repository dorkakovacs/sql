{
    "metadata": {
        "kernelspec": {
            "name": "SQL",
            "display_name": "SQL",
            "language": "sql"
        },
        "language_info": {
            "name": "sql",
            "version": ""
        }
    },
    "nbformat_minor": 2,
    "nbformat": 4,
    "cells": [
        {
            "cell_type": "code",
            "source": [
                "SELECT nev,\r\n",
                "        EMAIL\r\n",
                "FROM vendeg\r\n",
                "WHERE LEFT(SZUL_DAT, 4)=1990 AND LEFT(RIGHT(SZUL_DAT, 5),2)>=07\r\n",
                "ORDER BY MONTH(SZUL_DAT) "
            ],
            "metadata": {
                "azdata_cell_guid": "278cf0f3-aaad-4d97-a49c-c79c55894f5d",
                "language": "sql",
                "tags": []
            },
            "outputs": [
                {
                    "output_type": "display_data",
                    "data": {
                        "text/html": "(4 rows affected)"
                    },
                    "metadata": {}
                },
                {
                    "output_type": "display_data",
                    "data": {
                        "text/html": "Total execution time: 00:00:00.007"
                    },
                    "metadata": {}
                },
                {
                    "output_type": "execute_result",
                    "metadata": {},
                    "execution_count": 8,
                    "data": {
                        "application/vnd.dataresource+json": {
                            "schema": {
                                "fields": [
                                    {
                                        "name": "nev"
                                    },
                                    {
                                        "name": "EMAIL"
                                    }
                                ]
                            },
                            "data": [
                                {
                                    "nev": "Bodor Szabolcs",
                                    "EMAIL": "szabolcs.bodor@mail.hu"
                                },
                                {
                                    "nev": "Bosnyák Ilona",
                                    "EMAIL": "ilona3@gmail.com"
                                },
                                {
                                    "nev": "Szabó Julianna",
                                    "EMAIL": "julianna4@gmail.com"
                                },
                                {
                                    "nev": "Berta Dávid",
                                    "EMAIL": "david4@gmail.com"
                                }
                            ]
                        },
                        "text/html": [
                            "<table>",
                            "<tr><th>nev</th><th>EMAIL</th></tr>",
                            "<tr><td>Bodor Szabolcs</td><td>szabolcs.bodor@mail.hu</td></tr>",
                            "<tr><td>Bosnyák Ilona</td><td>ilona3@gmail.com</td></tr>",
                            "<tr><td>Szabó Julianna</td><td>julianna4@gmail.com</td></tr>",
                            "<tr><td>Berta Dávid</td><td>david4@gmail.com</td></tr>",
                            "</table>"
                        ]
                    }
                }
            ],
            "execution_count": 8
        },
        {
            "cell_type": "code",
            "source": [
                "SELECT f.SZOBA_FK,\r\n",
                "        COUNT(*) AS 'Foglalások száma'\r\n",
                "FROM Szoba sz JOIN Foglalas f ON sz.SZOBA_ID = f.SZOBA_FK\r\n",
                "WHERE f.FELNOTT_SZAM>f.GYERMEK_SZAM\r\n",
                "GROUP BY f.SZOBA_FK\r\n",
                "HAVING COUNT(*)>=2\r\n",
                "ORDER BY COUNT(*) "
            ],
            "metadata": {
                "language": "sql",
                "azdata_cell_guid": "5340a37f-8f2a-4f37-aa70-1dd6286b5bde"
            },
            "outputs": [
                {
                    "output_type": "display_data",
                    "data": {
                        "text/html": "(165 rows affected)"
                    },
                    "metadata": {}
                },
                {
                    "output_type": "display_data",
                    "data": {
                        "text/html": "Total execution time: 00:00:00.013"
                    },
                    "metadata": {}
                },
                {
                    "output_type": "execute_result",
                    "metadata": {},
                    "execution_count": 10,
                    "data": {
                        "application/vnd.dataresource+json": {
                            "schema": {
                                "fields": [
                                    {
                                        "name": "SZOBA_FK"
                                    },
                                    {
                                        "name": "Foglalások száma"
                                    }
                                ]
                            },
                            "data": [
                                {
                                    "SZOBA_FK": "2",
                                    "Foglalások száma": "2"
                                },
                                {
                                    "SZOBA_FK": "5",
                                    "Foglalások száma": "2"
                                },
                                {
                                    "SZOBA_FK": "17",
                                    "Foglalások száma": "2"
                                },
                                {
                                    "SZOBA_FK": "22",
                                    "Foglalások száma": "2"
                                },
                                {
                                    "SZOBA_FK": "30",
                                    "Foglalások száma": "2"
                                },
                                {
                                    "SZOBA_FK": "37",
                                    "Foglalások száma": "2"
                                },
                                {
                                    "SZOBA_FK": "47",
                                    "Foglalások száma": "2"
                                },
                                {
                                    "SZOBA_FK": "71",
                                    "Foglalások száma": "2"
                                },
                                {
                                    "SZOBA_FK": "72",
                                    "Foglalások száma": "2"
                                },
                                {
                                    "SZOBA_FK": "75",
                                    "Foglalások száma": "2"
                                },
                                {
                                    "SZOBA_FK": "76",
                                    "Foglalások száma": "2"
                                },
                                {
                                    "SZOBA_FK": "67",
                                    "Foglalások száma": "2"
                                },
                                {
                                    "SZOBA_FK": "69",
                                    "Foglalások száma": "2"
                                },
                                {
                                    "SZOBA_FK": "85",
                                    "Foglalások száma": "2"
                                },
                                {
                                    "SZOBA_FK": "91",
                                    "Foglalások száma": "2"
                                },
                                {
                                    "SZOBA_FK": "100",
                                    "Foglalások száma": "2"
                                },
                                {
                                    "SZOBA_FK": "109",
                                    "Foglalások száma": "2"
                                },
                                {
                                    "SZOBA_FK": "113",
                                    "Foglalások száma": "2"
                                },
                                {
                                    "SZOBA_FK": "118",
                                    "Foglalások száma": "2"
                                },
                                {
                                    "SZOBA_FK": "120",
                                    "Foglalások száma": "2"
                                },
                                {
                                    "SZOBA_FK": "136",
                                    "Foglalások száma": "2"
                                },
                                {
                                    "SZOBA_FK": "137",
                                    "Foglalások száma": "2"
                                },
                                {
                                    "SZOBA_FK": "144",
                                    "Foglalások száma": "2"
                                },
                                {
                                    "SZOBA_FK": "145",
                                    "Foglalások száma": "2"
                                },
                                {
                                    "SZOBA_FK": "151",
                                    "Foglalások száma": "2"
                                },
                                {
                                    "SZOBA_FK": "156",
                                    "Foglalások száma": "2"
                                },
                                {
                                    "SZOBA_FK": "157",
                                    "Foglalások száma": "2"
                                },
                                {
                                    "SZOBA_FK": "160",
                                    "Foglalások száma": "2"
                                },
                                {
                                    "SZOBA_FK": "162",
                                    "Foglalások száma": "2"
                                },
                                {
                                    "SZOBA_FK": "167",
                                    "Foglalások száma": "2"
                                },
                                {
                                    "SZOBA_FK": "176",
                                    "Foglalások száma": "2"
                                },
                                {
                                    "SZOBA_FK": "179",
                                    "Foglalások száma": "2"
                                },
                                {
                                    "SZOBA_FK": "188",
                                    "Foglalások száma": "2"
                                },
                                {
                                    "SZOBA_FK": "193",
                                    "Foglalások száma": "2"
                                },
                                {
                                    "SZOBA_FK": "196",
                                    "Foglalások száma": "2"
                                },
                                {
                                    "SZOBA_FK": "191",
                                    "Foglalások száma": "3"
                                },
                                {
                                    "SZOBA_FK": "183",
                                    "Foglalások száma": "3"
                                },
                                {
                                    "SZOBA_FK": "173",
                                    "Foglalások száma": "3"
                                },
                                {
                                    "SZOBA_FK": "166",
                                    "Foglalások száma": "3"
                                },
                                {
                                    "SZOBA_FK": "175",
                                    "Foglalások száma": "3"
                                },
                                {
                                    "SZOBA_FK": "169",
                                    "Foglalások száma": "3"
                                },
                                {
                                    "SZOBA_FK": "170",
                                    "Foglalások száma": "3"
                                },
                                {
                                    "SZOBA_FK": "161",
                                    "Foglalások száma": "3"
                                },
                                {
                                    "SZOBA_FK": "158",
                                    "Foglalások száma": "3"
                                },
                                {
                                    "SZOBA_FK": "152",
                                    "Foglalások száma": "3"
                                },
                                {
                                    "SZOBA_FK": "154",
                                    "Foglalások száma": "3"
                                },
                                {
                                    "SZOBA_FK": "155",
                                    "Foglalások száma": "3"
                                },
                                {
                                    "SZOBA_FK": "146",
                                    "Foglalások száma": "3"
                                },
                                {
                                    "SZOBA_FK": "135",
                                    "Foglalások száma": "3"
                                },
                                {
                                    "SZOBA_FK": "122",
                                    "Foglalások száma": "3"
                                },
                                {
                                    "SZOBA_FK": "129",
                                    "Foglalások száma": "3"
                                },
                                {
                                    "SZOBA_FK": "104",
                                    "Foglalások száma": "3"
                                },
                                {
                                    "SZOBA_FK": "90",
                                    "Foglalások száma": "3"
                                },
                                {
                                    "SZOBA_FK": "66",
                                    "Foglalások száma": "3"
                                },
                                {
                                    "SZOBA_FK": "84",
                                    "Foglalások száma": "3"
                                },
                                {
                                    "SZOBA_FK": "93",
                                    "Foglalások száma": "3"
                                },
                                {
                                    "SZOBA_FK": "95",
                                    "Foglalások száma": "3"
                                },
                                {
                                    "SZOBA_FK": "81",
                                    "Foglalások száma": "3"
                                },
                                {
                                    "SZOBA_FK": "77",
                                    "Foglalások száma": "3"
                                },
                                {
                                    "SZOBA_FK": "78",
                                    "Foglalások száma": "3"
                                },
                                {
                                    "SZOBA_FK": "50",
                                    "Foglalások száma": "3"
                                },
                                {
                                    "SZOBA_FK": "51",
                                    "Foglalások száma": "3"
                                },
                                {
                                    "SZOBA_FK": "46",
                                    "Foglalások száma": "3"
                                },
                                {
                                    "SZOBA_FK": "55",
                                    "Foglalások száma": "3"
                                },
                                {
                                    "SZOBA_FK": "57",
                                    "Foglalások száma": "3"
                                },
                                {
                                    "SZOBA_FK": "62",
                                    "Foglalások száma": "3"
                                },
                                {
                                    "SZOBA_FK": "63",
                                    "Foglalások száma": "3"
                                },
                                {
                                    "SZOBA_FK": "29",
                                    "Foglalások száma": "3"
                                },
                                {
                                    "SZOBA_FK": "40",
                                    "Foglalások száma": "3"
                                },
                                {
                                    "SZOBA_FK": "33",
                                    "Foglalások száma": "3"
                                },
                                {
                                    "SZOBA_FK": "34",
                                    "Foglalások száma": "3"
                                },
                                {
                                    "SZOBA_FK": "23",
                                    "Foglalások száma": "3"
                                },
                                {
                                    "SZOBA_FK": "24",
                                    "Foglalások száma": "3"
                                },
                                {
                                    "SZOBA_FK": "18",
                                    "Foglalások száma": "3"
                                },
                                {
                                    "SZOBA_FK": "14",
                                    "Foglalások száma": "3"
                                },
                                {
                                    "SZOBA_FK": "3",
                                    "Foglalások száma": "3"
                                },
                                {
                                    "SZOBA_FK": "9",
                                    "Foglalások száma": "4"
                                },
                                {
                                    "SZOBA_FK": "10",
                                    "Foglalások száma": "4"
                                },
                                {
                                    "SZOBA_FK": "11",
                                    "Foglalások száma": "4"
                                },
                                {
                                    "SZOBA_FK": "15",
                                    "Foglalások száma": "4"
                                },
                                {
                                    "SZOBA_FK": "19",
                                    "Foglalások száma": "4"
                                },
                                {
                                    "SZOBA_FK": "36",
                                    "Foglalások száma": "4"
                                },
                                {
                                    "SZOBA_FK": "39",
                                    "Foglalások száma": "4"
                                },
                                {
                                    "SZOBA_FK": "13",
                                    "Foglalások száma": "4"
                                },
                                {
                                    "SZOBA_FK": "59",
                                    "Foglalások száma": "4"
                                },
                                {
                                    "SZOBA_FK": "61",
                                    "Foglalások száma": "4"
                                },
                                {
                                    "SZOBA_FK": "54",
                                    "Foglalások száma": "4"
                                },
                                {
                                    "SZOBA_FK": "45",
                                    "Foglalások száma": "4"
                                },
                                {
                                    "SZOBA_FK": "43",
                                    "Foglalások száma": "4"
                                },
                                {
                                    "SZOBA_FK": "79",
                                    "Foglalások száma": "4"
                                },
                                {
                                    "SZOBA_FK": "73",
                                    "Foglalások száma": "4"
                                },
                                {
                                    "SZOBA_FK": "86",
                                    "Foglalások száma": "4"
                                },
                                {
                                    "SZOBA_FK": "98",
                                    "Foglalások száma": "4"
                                },
                                {
                                    "SZOBA_FK": "99",
                                    "Foglalások száma": "4"
                                },
                                {
                                    "SZOBA_FK": "106",
                                    "Foglalások száma": "4"
                                },
                                {
                                    "SZOBA_FK": "107",
                                    "Foglalások száma": "4"
                                },
                                {
                                    "SZOBA_FK": "124",
                                    "Foglalások száma": "4"
                                },
                                {
                                    "SZOBA_FK": "126",
                                    "Foglalások száma": "4"
                                },
                                {
                                    "SZOBA_FK": "119",
                                    "Foglalások száma": "4"
                                },
                                {
                                    "SZOBA_FK": "112",
                                    "Foglalások száma": "4"
                                },
                                {
                                    "SZOBA_FK": "117",
                                    "Foglalások száma": "4"
                                },
                                {
                                    "SZOBA_FK": "141",
                                    "Foglalások száma": "4"
                                },
                                {
                                    "SZOBA_FK": "131",
                                    "Foglalások száma": "4"
                                },
                                {
                                    "SZOBA_FK": "132",
                                    "Foglalások száma": "4"
                                },
                                {
                                    "SZOBA_FK": "133",
                                    "Foglalások száma": "4"
                                },
                                {
                                    "SZOBA_FK": "134",
                                    "Foglalások száma": "4"
                                },
                                {
                                    "SZOBA_FK": "153",
                                    "Foglalások száma": "4"
                                },
                                {
                                    "SZOBA_FK": "164",
                                    "Foglalások száma": "4"
                                },
                                {
                                    "SZOBA_FK": "174",
                                    "Foglalások száma": "4"
                                },
                                {
                                    "SZOBA_FK": "184",
                                    "Foglalások száma": "4"
                                },
                                {
                                    "SZOBA_FK": "190",
                                    "Foglalások száma": "5"
                                },
                                {
                                    "SZOBA_FK": "195",
                                    "Foglalások száma": "5"
                                },
                                {
                                    "SZOBA_FK": "181",
                                    "Foglalások száma": "5"
                                },
                                {
                                    "SZOBA_FK": "165",
                                    "Foglalások száma": "5"
                                },
                                {
                                    "SZOBA_FK": "163",
                                    "Foglalások száma": "5"
                                },
                                {
                                    "SZOBA_FK": "171",
                                    "Foglalások száma": "5"
                                },
                                {
                                    "SZOBA_FK": "138",
                                    "Foglalások száma": "5"
                                },
                                {
                                    "SZOBA_FK": "143",
                                    "Foglalások száma": "5"
                                },
                                {
                                    "SZOBA_FK": "140",
                                    "Foglalások száma": "5"
                                },
                                {
                                    "SZOBA_FK": "148",
                                    "Foglalások száma": "5"
                                },
                                {
                                    "SZOBA_FK": "149",
                                    "Foglalások száma": "5"
                                },
                                {
                                    "SZOBA_FK": "115",
                                    "Foglalások száma": "5"
                                },
                                {
                                    "SZOBA_FK": "110",
                                    "Foglalások száma": "5"
                                },
                                {
                                    "SZOBA_FK": "127",
                                    "Foglalások száma": "5"
                                },
                                {
                                    "SZOBA_FK": "130",
                                    "Foglalások száma": "5"
                                },
                                {
                                    "SZOBA_FK": "123",
                                    "Foglalások száma": "5"
                                },
                                {
                                    "SZOBA_FK": "121",
                                    "Foglalások száma": "5"
                                },
                                {
                                    "SZOBA_FK": "97",
                                    "Foglalások száma": "5"
                                },
                                {
                                    "SZOBA_FK": "92",
                                    "Foglalások száma": "5"
                                },
                                {
                                    "SZOBA_FK": "87",
                                    "Foglalások száma": "5"
                                },
                                {
                                    "SZOBA_FK": "88",
                                    "Foglalások száma": "5"
                                },
                                {
                                    "SZOBA_FK": "82",
                                    "Foglalások száma": "5"
                                },
                                {
                                    "SZOBA_FK": "83",
                                    "Foglalások száma": "5"
                                },
                                {
                                    "SZOBA_FK": "80",
                                    "Foglalások száma": "5"
                                },
                                {
                                    "SZOBA_FK": "52",
                                    "Foglalások száma": "5"
                                },
                                {
                                    "SZOBA_FK": "49",
                                    "Foglalások száma": "5"
                                },
                                {
                                    "SZOBA_FK": "64",
                                    "Foglalások száma": "5"
                                },
                                {
                                    "SZOBA_FK": "38",
                                    "Foglalások száma": "5"
                                },
                                {
                                    "SZOBA_FK": "42",
                                    "Foglalások száma": "5"
                                },
                                {
                                    "SZOBA_FK": "27",
                                    "Foglalások száma": "5"
                                },
                                {
                                    "SZOBA_FK": "28",
                                    "Foglalások száma": "5"
                                },
                                {
                                    "SZOBA_FK": "20",
                                    "Foglalások száma": "5"
                                },
                                {
                                    "SZOBA_FK": "8",
                                    "Foglalások száma": "5"
                                },
                                {
                                    "SZOBA_FK": "4",
                                    "Foglalások száma": "5"
                                },
                                {
                                    "SZOBA_FK": "6",
                                    "Foglalások száma": "5"
                                },
                                {
                                    "SZOBA_FK": "7",
                                    "Foglalások száma": "6"
                                },
                                {
                                    "SZOBA_FK": "35",
                                    "Foglalások száma": "6"
                                },
                                {
                                    "SZOBA_FK": "48",
                                    "Foglalások száma": "6"
                                },
                                {
                                    "SZOBA_FK": "44",
                                    "Foglalások száma": "6"
                                },
                                {
                                    "SZOBA_FK": "96",
                                    "Foglalások száma": "6"
                                },
                                {
                                    "SZOBA_FK": "94",
                                    "Foglalások száma": "6"
                                },
                                {
                                    "SZOBA_FK": "150",
                                    "Foglalások száma": "6"
                                },
                                {
                                    "SZOBA_FK": "139",
                                    "Foglalások száma": "6"
                                },
                                {
                                    "SZOBA_FK": "172",
                                    "Foglalások száma": "6"
                                },
                                {
                                    "SZOBA_FK": "187",
                                    "Foglalások száma": "6"
                                },
                                {
                                    "SZOBA_FK": "197",
                                    "Foglalások száma": "6"
                                },
                                {
                                    "SZOBA_FK": "198",
                                    "Foglalások száma": "7"
                                },
                                {
                                    "SZOBA_FK": "12",
                                    "Foglalások száma": "7"
                                },
                                {
                                    "SZOBA_FK": "1",
                                    "Foglalások száma": "7"
                                },
                                {
                                    "SZOBA_FK": "58",
                                    "Foglalások száma": "8"
                                },
                                {
                                    "SZOBA_FK": "74",
                                    "Foglalások száma": "8"
                                },
                                {
                                    "SZOBA_FK": "70",
                                    "Foglalások száma": "8"
                                },
                                {
                                    "SZOBA_FK": "89",
                                    "Foglalások száma": "8"
                                },
                                {
                                    "SZOBA_FK": "185",
                                    "Foglalások száma": "10"
                                },
                                {
                                    "SZOBA_FK": "182",
                                    "Foglalások száma": "11"
                                }
                            ]
                        },
                        "text/html": [
                            "<table>",
                            "<tr><th>SZOBA_FK</th><th>Foglalások száma</th></tr>",
                            "<tr><td>2</td><td>2</td></tr>",
                            "<tr><td>5</td><td>2</td></tr>",
                            "<tr><td>17</td><td>2</td></tr>",
                            "<tr><td>22</td><td>2</td></tr>",
                            "<tr><td>30</td><td>2</td></tr>",
                            "<tr><td>37</td><td>2</td></tr>",
                            "<tr><td>47</td><td>2</td></tr>",
                            "<tr><td>71</td><td>2</td></tr>",
                            "<tr><td>72</td><td>2</td></tr>",
                            "<tr><td>75</td><td>2</td></tr>",
                            "<tr><td>76</td><td>2</td></tr>",
                            "<tr><td>67</td><td>2</td></tr>",
                            "<tr><td>69</td><td>2</td></tr>",
                            "<tr><td>85</td><td>2</td></tr>",
                            "<tr><td>91</td><td>2</td></tr>",
                            "<tr><td>100</td><td>2</td></tr>",
                            "<tr><td>109</td><td>2</td></tr>",
                            "<tr><td>113</td><td>2</td></tr>",
                            "<tr><td>118</td><td>2</td></tr>",
                            "<tr><td>120</td><td>2</td></tr>",
                            "<tr><td>136</td><td>2</td></tr>",
                            "<tr><td>137</td><td>2</td></tr>",
                            "<tr><td>144</td><td>2</td></tr>",
                            "<tr><td>145</td><td>2</td></tr>",
                            "<tr><td>151</td><td>2</td></tr>",
                            "<tr><td>156</td><td>2</td></tr>",
                            "<tr><td>157</td><td>2</td></tr>",
                            "<tr><td>160</td><td>2</td></tr>",
                            "<tr><td>162</td><td>2</td></tr>",
                            "<tr><td>167</td><td>2</td></tr>",
                            "<tr><td>176</td><td>2</td></tr>",
                            "<tr><td>179</td><td>2</td></tr>",
                            "<tr><td>188</td><td>2</td></tr>",
                            "<tr><td>193</td><td>2</td></tr>",
                            "<tr><td>196</td><td>2</td></tr>",
                            "<tr><td>191</td><td>3</td></tr>",
                            "<tr><td>183</td><td>3</td></tr>",
                            "<tr><td>173</td><td>3</td></tr>",
                            "<tr><td>166</td><td>3</td></tr>",
                            "<tr><td>175</td><td>3</td></tr>",
                            "<tr><td>169</td><td>3</td></tr>",
                            "<tr><td>170</td><td>3</td></tr>",
                            "<tr><td>161</td><td>3</td></tr>",
                            "<tr><td>158</td><td>3</td></tr>",
                            "<tr><td>152</td><td>3</td></tr>",
                            "<tr><td>154</td><td>3</td></tr>",
                            "<tr><td>155</td><td>3</td></tr>",
                            "<tr><td>146</td><td>3</td></tr>",
                            "<tr><td>135</td><td>3</td></tr>",
                            "<tr><td>122</td><td>3</td></tr>",
                            "<tr><td>129</td><td>3</td></tr>",
                            "<tr><td>104</td><td>3</td></tr>",
                            "<tr><td>90</td><td>3</td></tr>",
                            "<tr><td>66</td><td>3</td></tr>",
                            "<tr><td>84</td><td>3</td></tr>",
                            "<tr><td>93</td><td>3</td></tr>",
                            "<tr><td>95</td><td>3</td></tr>",
                            "<tr><td>81</td><td>3</td></tr>",
                            "<tr><td>77</td><td>3</td></tr>",
                            "<tr><td>78</td><td>3</td></tr>",
                            "<tr><td>50</td><td>3</td></tr>",
                            "<tr><td>51</td><td>3</td></tr>",
                            "<tr><td>46</td><td>3</td></tr>",
                            "<tr><td>55</td><td>3</td></tr>",
                            "<tr><td>57</td><td>3</td></tr>",
                            "<tr><td>62</td><td>3</td></tr>",
                            "<tr><td>63</td><td>3</td></tr>",
                            "<tr><td>29</td><td>3</td></tr>",
                            "<tr><td>40</td><td>3</td></tr>",
                            "<tr><td>33</td><td>3</td></tr>",
                            "<tr><td>34</td><td>3</td></tr>",
                            "<tr><td>23</td><td>3</td></tr>",
                            "<tr><td>24</td><td>3</td></tr>",
                            "<tr><td>18</td><td>3</td></tr>",
                            "<tr><td>14</td><td>3</td></tr>",
                            "<tr><td>3</td><td>3</td></tr>",
                            "<tr><td>9</td><td>4</td></tr>",
                            "<tr><td>10</td><td>4</td></tr>",
                            "<tr><td>11</td><td>4</td></tr>",
                            "<tr><td>15</td><td>4</td></tr>",
                            "<tr><td>19</td><td>4</td></tr>",
                            "<tr><td>36</td><td>4</td></tr>",
                            "<tr><td>39</td><td>4</td></tr>",
                            "<tr><td>13</td><td>4</td></tr>",
                            "<tr><td>59</td><td>4</td></tr>",
                            "<tr><td>61</td><td>4</td></tr>",
                            "<tr><td>54</td><td>4</td></tr>",
                            "<tr><td>45</td><td>4</td></tr>",
                            "<tr><td>43</td><td>4</td></tr>",
                            "<tr><td>79</td><td>4</td></tr>",
                            "<tr><td>73</td><td>4</td></tr>",
                            "<tr><td>86</td><td>4</td></tr>",
                            "<tr><td>98</td><td>4</td></tr>",
                            "<tr><td>99</td><td>4</td></tr>",
                            "<tr><td>106</td><td>4</td></tr>",
                            "<tr><td>107</td><td>4</td></tr>",
                            "<tr><td>124</td><td>4</td></tr>",
                            "<tr><td>126</td><td>4</td></tr>",
                            "<tr><td>119</td><td>4</td></tr>",
                            "<tr><td>112</td><td>4</td></tr>",
                            "<tr><td>117</td><td>4</td></tr>",
                            "<tr><td>141</td><td>4</td></tr>",
                            "<tr><td>131</td><td>4</td></tr>",
                            "<tr><td>132</td><td>4</td></tr>",
                            "<tr><td>133</td><td>4</td></tr>",
                            "<tr><td>134</td><td>4</td></tr>",
                            "<tr><td>153</td><td>4</td></tr>",
                            "<tr><td>164</td><td>4</td></tr>",
                            "<tr><td>174</td><td>4</td></tr>",
                            "<tr><td>184</td><td>4</td></tr>",
                            "<tr><td>190</td><td>5</td></tr>",
                            "<tr><td>195</td><td>5</td></tr>",
                            "<tr><td>181</td><td>5</td></tr>",
                            "<tr><td>165</td><td>5</td></tr>",
                            "<tr><td>163</td><td>5</td></tr>",
                            "<tr><td>171</td><td>5</td></tr>",
                            "<tr><td>138</td><td>5</td></tr>",
                            "<tr><td>143</td><td>5</td></tr>",
                            "<tr><td>140</td><td>5</td></tr>",
                            "<tr><td>148</td><td>5</td></tr>",
                            "<tr><td>149</td><td>5</td></tr>",
                            "<tr><td>115</td><td>5</td></tr>",
                            "<tr><td>110</td><td>5</td></tr>",
                            "<tr><td>127</td><td>5</td></tr>",
                            "<tr><td>130</td><td>5</td></tr>",
                            "<tr><td>123</td><td>5</td></tr>",
                            "<tr><td>121</td><td>5</td></tr>",
                            "<tr><td>97</td><td>5</td></tr>",
                            "<tr><td>92</td><td>5</td></tr>",
                            "<tr><td>87</td><td>5</td></tr>",
                            "<tr><td>88</td><td>5</td></tr>",
                            "<tr><td>82</td><td>5</td></tr>",
                            "<tr><td>83</td><td>5</td></tr>",
                            "<tr><td>80</td><td>5</td></tr>",
                            "<tr><td>52</td><td>5</td></tr>",
                            "<tr><td>49</td><td>5</td></tr>",
                            "<tr><td>64</td><td>5</td></tr>",
                            "<tr><td>38</td><td>5</td></tr>",
                            "<tr><td>42</td><td>5</td></tr>",
                            "<tr><td>27</td><td>5</td></tr>",
                            "<tr><td>28</td><td>5</td></tr>",
                            "<tr><td>20</td><td>5</td></tr>",
                            "<tr><td>8</td><td>5</td></tr>",
                            "<tr><td>4</td><td>5</td></tr>",
                            "<tr><td>6</td><td>5</td></tr>",
                            "<tr><td>7</td><td>6</td></tr>",
                            "<tr><td>35</td><td>6</td></tr>",
                            "<tr><td>48</td><td>6</td></tr>",
                            "<tr><td>44</td><td>6</td></tr>",
                            "<tr><td>96</td><td>6</td></tr>",
                            "<tr><td>94</td><td>6</td></tr>",
                            "<tr><td>150</td><td>6</td></tr>",
                            "<tr><td>139</td><td>6</td></tr>",
                            "<tr><td>172</td><td>6</td></tr>",
                            "<tr><td>187</td><td>6</td></tr>",
                            "<tr><td>197</td><td>6</td></tr>",
                            "<tr><td>198</td><td>7</td></tr>",
                            "<tr><td>12</td><td>7</td></tr>",
                            "<tr><td>1</td><td>7</td></tr>",
                            "<tr><td>58</td><td>8</td></tr>",
                            "<tr><td>74</td><td>8</td></tr>",
                            "<tr><td>70</td><td>8</td></tr>",
                            "<tr><td>89</td><td>8</td></tr>",
                            "<tr><td>185</td><td>10</td></tr>",
                            "<tr><td>182</td><td>11</td></tr>",
                            "</table>"
                        ]
                    }
                }
            ],
            "execution_count": 10
        },
        {
            "cell_type": "code",
            "source": [
                "SELECT sz.SZOBA_ID,\r\n",
                "        YEAR(METTOL) AS 'Foglalás évszáma',\r\n",
                "        COUNT(*) AS 'Foglalás darabszáma'\r\n",
                "FROM Foglalas f JOIN Szoba sz ON f.SZOBA_FK=sz.SZOBA_ID\r\n",
                "WHERE sz.SZOBA_SZAMA%2 = 1\r\n",
                "GROUP BY sz.SZOBA_ID, YEAR(METTOL)\r\n",
                "HAVING COUNT(*)>10"
            ],
            "metadata": {
                "azdata_cell_guid": "51a69617-5eea-410b-8cd1-edd2f1995438",
                "language": "sql"
            },
            "outputs": [
                {
                    "output_type": "display_data",
                    "data": {
                        "text/html": "(1 row affected)"
                    },
                    "metadata": {}
                },
                {
                    "output_type": "display_data",
                    "data": {
                        "text/html": "Total execution time: 00:00:00.017"
                    },
                    "metadata": {}
                },
                {
                    "output_type": "execute_result",
                    "metadata": {},
                    "execution_count": 22,
                    "data": {
                        "application/vnd.dataresource+json": {
                            "schema": {
                                "fields": [
                                    {
                                        "name": "SZOBA_ID"
                                    },
                                    {
                                        "name": "Foglalás évszáma"
                                    },
                                    {
                                        "name": "Foglalás darabszáma"
                                    }
                                ]
                            },
                            "data": [
                                {
                                    "SZOBA_ID": "58",
                                    "Foglalás évszáma": "2016",
                                    "Foglalás darabszáma": "12"
                                }
                            ]
                        },
                        "text/html": [
                            "<table>",
                            "<tr><th>SZOBA_ID</th><th>Foglalás évszáma</th><th>Foglalás darabszáma</th></tr>",
                            "<tr><td>58</td><td>2016</td><td>12</td></tr>",
                            "</table>"
                        ]
                    }
                }
            ],
            "execution_count": 22
        }
    ]
}