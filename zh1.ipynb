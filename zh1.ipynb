{
    "metadata": {
        "kernelspec": {
            "name": "SQL",
            "display_name": "SQL",
            "language": "sql"
        },
        "language_info": {
            "name": "sql",
            "version": ""
        }
    },
    "nbformat_minor": 2,
    "nbformat": 4,
    "cells": [
        {
            "cell_type": "code",
            "source": [
                "uhgnvtfg"
            ],
            "metadata": {
                "azdata_cell_guid": "278cf0f3-aaad-4d97-a49c-c79c55894f5d",
                "language": "sql"
            },
            "outputs": [],
            "execution_count": null
        }
    ]
}