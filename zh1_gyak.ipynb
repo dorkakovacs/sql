{
    "metadata": {
        "kernelspec": {
            "name": "SQL",
            "display_name": "SQL",
            "language": "sql"
        },
        "language_info": {
            "name": "sql",
            "version": ""
        }
    },
    "nbformat_minor": 2,
    "nbformat": 4,
    "cells": [
        {
            "cell_type": "code",
            "source": [
                "SELECT *,\r\n",
                "       CASE\r\n",
                "        WHEN MONTH(METTOL) IN (6, 7, 8) THEN 'Igen'\r\n",
                "        ELSE 'Nem'\r\n",
                "        END\r\n",
                "FROM Foglalas\r\n",
                "WHERE UGYFEL_FK = 'laszlo2' AND GYERMEK_SZAM <> 0\r\n",
                "\r\n",
                "\r\n",
                ""
            ],
            "metadata": {
                "azdata_cell_guid": "6b51f6cd-a0f7-4efe-a5a1-1f29fd6a8c09",
                "language": "sql"
            },
            "outputs": [
                {
                    "output_type": "display_data",
                    "data": {
                        "text/html": "(4 rows affected)"
                    },
                    "metadata": {}
                },
                {
                    "output_type": "display_data",
                    "data": {
                        "text/html": "Total execution time: 00:00:00.007"
                    },
                    "metadata": {}
                },
                {
                    "output_type": "execute_result",
                    "metadata": {},
                    "execution_count": 14,
                    "data": {
                        "application/vnd.dataresource+json": {
                            "schema": {
                                "fields": [
                                    {
                                        "name": "FOGLALAS_PK"
                                    },
                                    {
                                        "name": "UGYFEL_FK"
                                    },
                                    {
                                        "name": "SZOBA_FK"
                                    },
                                    {
                                        "name": "METTOL"
                                    },
                                    {
                                        "name": "MEDDIG"
                                    },
                                    {
                                        "name": "FELNOTT_SZAM"
                                    },
                                    {
                                        "name": "GYERMEK_SZAM"
                                    },
                                    {
                                        "name": "(No column name)"
                                    }
                                ]
                            },
                            "data": [
                                {
                                    "FOGLALAS_PK": "604",
                                    "UGYFEL_FK": "laszlo2",
                                    "SZOBA_FK": "30",
                                    "METTOL": "2016-04-27",
                                    "MEDDIG": "2016-04-29",
                                    "FELNOTT_SZAM": "1",
                                    "GYERMEK_SZAM": "1",
                                    "(No column name)": "Nem"
                                },
                                {
                                    "FOGLALAS_PK": "778",
                                    "UGYFEL_FK": "laszlo2",
                                    "SZOBA_FK": "19",
                                    "METTOL": "2016-08-14",
                                    "MEDDIG": "2016-08-15",
                                    "FELNOTT_SZAM": "2",
                                    "GYERMEK_SZAM": "1",
                                    "(No column name)": "Igen"
                                },
                                {
                                    "FOGLALAS_PK": "1032",
                                    "UGYFEL_FK": "laszlo2",
                                    "SZOBA_FK": "146",
                                    "METTOL": "2016-09-05",
                                    "MEDDIG": "2016-09-10",
                                    "FELNOTT_SZAM": "2",
                                    "GYERMEK_SZAM": "1",
                                    "(No column name)": "Nem"
                                },
                                {
                                    "FOGLALAS_PK": "1320",
                                    "UGYFEL_FK": "laszlo2",
                                    "SZOBA_FK": "85",
                                    "METTOL": "2016-11-25",
                                    "MEDDIG": "2016-11-26",
                                    "FELNOTT_SZAM": "2",
                                    "GYERMEK_SZAM": "1",
                                    "(No column name)": "Nem"
                                }
                            ]
                        },
                        "text/html": [
                            "<table>",
                            "<tr><th>FOGLALAS_PK</th><th>UGYFEL_FK</th><th>SZOBA_FK</th><th>METTOL</th><th>MEDDIG</th><th>FELNOTT_SZAM</th><th>GYERMEK_SZAM</th><th>(No column name)</th></tr>",
                            "<tr><td>604</td><td>laszlo2</td><td>30</td><td>2016-04-27</td><td>2016-04-29</td><td>1</td><td>1</td><td>Nem</td></tr>",
                            "<tr><td>778</td><td>laszlo2</td><td>19</td><td>2016-08-14</td><td>2016-08-15</td><td>2</td><td>1</td><td>Igen</td></tr>",
                            "<tr><td>1032</td><td>laszlo2</td><td>146</td><td>2016-09-05</td><td>2016-09-10</td><td>2</td><td>1</td><td>Nem</td></tr>",
                            "<tr><td>1320</td><td>laszlo2</td><td>85</td><td>2016-11-25</td><td>2016-11-26</td><td>2</td><td>1</td><td>Nem</td></tr>",
                            "</table>"
                        ]
                    }
                }
            ],
            "execution_count": 14
        },
        {
            "cell_type": "code",
            "source": [
                "SELECT szh.TIPUS, \r\n",
                "        YEAR(f.METTOL) AS 'Év', \r\n",
                "        MONTH(f.METTOL) AS 'Hónap',\r\n",
                "        COUNT(*)\r\n",
                "FROM Foglalas f JOIN Szoba sz ON f.SZOBA_FK = sz.SZOBA_ID \r\n",
                "                JOIN Szallashely szh ON sz.SZALLAS_FK = szh.SZALLAS_ID\r\n",
                " \r\n",
                "\r\n",
                "WHERE DATEDIFF(day, METTOL, MEDDIG) >= 5 \r\n",
                "\r\n",
                " GROUP BY szh.TIPUS,\r\n",
                "        YEAR(f.METTOL), \r\n",
                "        MONTH(f.METTOL)"
            ],
            "metadata": {
                "language": "sql",
                "azdata_cell_guid": "70e5bf67-5a15-4ac9-822b-143e371651ff"
            },
            "outputs": [
                {
                    "output_type": "display_data",
                    "data": {
                        "text/html": "(45 rows affected)"
                    },
                    "metadata": {}
                },
                {
                    "output_type": "display_data",
                    "data": {
                        "text/html": "Total execution time: 00:00:00.009"
                    },
                    "metadata": {}
                },
                {
                    "output_type": "execute_result",
                    "metadata": {},
                    "execution_count": 12,
                    "data": {
                        "application/vnd.dataresource+json": {
                            "schema": {
                                "fields": [
                                    {
                                        "name": "TIPUS"
                                    },
                                    {
                                        "name": "Év"
                                    },
                                    {
                                        "name": "Hónap"
                                    },
                                    {
                                        "name": "(No column name)"
                                    }
                                ]
                            },
                            "data": [
                                {
                                    "TIPUS": "Apartman",
                                    "Év": "2016",
                                    "Hónap": "4",
                                    "(No column name)": "2"
                                },
                                {
                                    "TIPUS": "Apartman",
                                    "Év": "2016",
                                    "Hónap": "5",
                                    "(No column name)": "1"
                                },
                                {
                                    "TIPUS": "Apartman",
                                    "Év": "2016",
                                    "Hónap": "6",
                                    "(No column name)": "1"
                                },
                                {
                                    "TIPUS": "Apartman",
                                    "Év": "2016",
                                    "Hónap": "7",
                                    "(No column name)": "1"
                                },
                                {
                                    "TIPUS": "Apartman",
                                    "Év": "2016",
                                    "Hónap": "8",
                                    "(No column name)": "2"
                                },
                                {
                                    "TIPUS": "Apartman",
                                    "Év": "2016",
                                    "Hónap": "9",
                                    "(No column name)": "3"
                                },
                                {
                                    "TIPUS": "Apartman",
                                    "Év": "2016",
                                    "Hónap": "10",
                                    "(No column name)": "9"
                                },
                                {
                                    "TIPUS": "Apartman",
                                    "Év": "2016",
                                    "Hónap": "11",
                                    "(No column name)": "3"
                                },
                                {
                                    "TIPUS": "Apartman",
                                    "Év": "2016",
                                    "Hónap": "12",
                                    "(No column name)": "2"
                                },
                                {
                                    "TIPUS": "Apartman",
                                    "Év": "2017",
                                    "Hónap": "1",
                                    "(No column name)": "1"
                                },
                                {
                                    "TIPUS": "Apartman",
                                    "Év": "2017",
                                    "Hónap": "2",
                                    "(No column name)": "5"
                                },
                                {
                                    "TIPUS": "Hotel",
                                    "Év": "2016",
                                    "Hónap": "4",
                                    "(No column name)": "16"
                                },
                                {
                                    "TIPUS": "Hotel",
                                    "Év": "2016",
                                    "Hónap": "5",
                                    "(No column name)": "32"
                                },
                                {
                                    "TIPUS": "Hotel",
                                    "Év": "2016",
                                    "Hónap": "6",
                                    "(No column name)": "29"
                                },
                                {
                                    "TIPUS": "Hotel",
                                    "Év": "2016",
                                    "Hónap": "7",
                                    "(No column name)": "30"
                                },
                                {
                                    "TIPUS": "Hotel",
                                    "Év": "2016",
                                    "Hónap": "8",
                                    "(No column name)": "22"
                                },
                                {
                                    "TIPUS": "Hotel",
                                    "Év": "2016",
                                    "Hónap": "9",
                                    "(No column name)": "19"
                                },
                                {
                                    "TIPUS": "Hotel",
                                    "Év": "2016",
                                    "Hónap": "10",
                                    "(No column name)": "36"
                                },
                                {
                                    "TIPUS": "Hotel",
                                    "Év": "2016",
                                    "Hónap": "11",
                                    "(No column name)": "27"
                                },
                                {
                                    "TIPUS": "Hotel",
                                    "Év": "2016",
                                    "Hónap": "12",
                                    "(No column name)": "25"
                                },
                                {
                                    "TIPUS": "Hotel",
                                    "Év": "2017",
                                    "Hónap": "1",
                                    "(No column name)": "28"
                                },
                                {
                                    "TIPUS": "Hotel",
                                    "Év": "2017",
                                    "Hónap": "2",
                                    "(No column name)": "21"
                                },
                                {
                                    "TIPUS": "Hotel",
                                    "Év": "2017",
                                    "Hónap": "3",
                                    "(No column name)": "1"
                                },
                                {
                                    "TIPUS": "panzió",
                                    "Év": "2016",
                                    "Hónap": "4",
                                    "(No column name)": "2"
                                },
                                {
                                    "TIPUS": "panzió",
                                    "Év": "2016",
                                    "Hónap": "5",
                                    "(No column name)": "9"
                                },
                                {
                                    "TIPUS": "panzió",
                                    "Év": "2016",
                                    "Hónap": "6",
                                    "(No column name)": "10"
                                },
                                {
                                    "TIPUS": "panzió",
                                    "Év": "2016",
                                    "Hónap": "7",
                                    "(No column name)": "7"
                                },
                                {
                                    "TIPUS": "panzió",
                                    "Év": "2016",
                                    "Hónap": "8",
                                    "(No column name)": "6"
                                },
                                {
                                    "TIPUS": "panzió",
                                    "Év": "2016",
                                    "Hónap": "9",
                                    "(No column name)": "6"
                                },
                                {
                                    "TIPUS": "panzió",
                                    "Év": "2016",
                                    "Hónap": "10",
                                    "(No column name)": "11"
                                },
                                {
                                    "TIPUS": "panzió",
                                    "Év": "2016",
                                    "Hónap": "11",
                                    "(No column name)": "3"
                                },
                                {
                                    "TIPUS": "panzió",
                                    "Év": "2016",
                                    "Hónap": "12",
                                    "(No column name)": "6"
                                },
                                {
                                    "TIPUS": "panzió",
                                    "Év": "2017",
                                    "Hónap": "1",
                                    "(No column name)": "5"
                                },
                                {
                                    "TIPUS": "panzió",
                                    "Év": "2017",
                                    "Hónap": "2",
                                    "(No column name)": "5"
                                },
                                {
                                    "TIPUS": "panzió",
                                    "Év": "2017",
                                    "Hónap": "3",
                                    "(No column name)": "1"
                                },
                                {
                                    "TIPUS": "vendégház",
                                    "Év": "2016",
                                    "Hónap": "4",
                                    "(No column name)": "2"
                                },
                                {
                                    "TIPUS": "vendégház",
                                    "Év": "2016",
                                    "Hónap": "5",
                                    "(No column name)": "5"
                                },
                                {
                                    "TIPUS": "vendégház",
                                    "Év": "2016",
                                    "Hónap": "6",
                                    "(No column name)": "3"
                                },
                                {
                                    "TIPUS": "vendégház",
                                    "Év": "2016",
                                    "Hónap": "7",
                                    "(No column name)": "5"
                                },
                                {
                                    "TIPUS": "vendégház",
                                    "Év": "2016",
                                    "Hónap": "8",
                                    "(No column name)": "5"
                                },
                                {
                                    "TIPUS": "vendégház",
                                    "Év": "2016",
                                    "Hónap": "9",
                                    "(No column name)": "4"
                                },
                                {
                                    "TIPUS": "vendégház",
                                    "Év": "2016",
                                    "Hónap": "10",
                                    "(No column name)": "7"
                                },
                                {
                                    "TIPUS": "vendégház",
                                    "Év": "2016",
                                    "Hónap": "11",
                                    "(No column name)": "4"
                                },
                                {
                                    "TIPUS": "vendégház",
                                    "Év": "2017",
                                    "Hónap": "1",
                                    "(No column name)": "1"
                                },
                                {
                                    "TIPUS": "vendégház",
                                    "Év": "2017",
                                    "Hónap": "2",
                                    "(No column name)": "3"
                                }
                            ]
                        },
                        "text/html": [
                            "<table>",
                            "<tr><th>TIPUS</th><th>Év</th><th>Hónap</th><th>(No column name)</th></tr>",
                            "<tr><td>Apartman</td><td>2016</td><td>4</td><td>2</td></tr>",
                            "<tr><td>Apartman</td><td>2016</td><td>5</td><td>1</td></tr>",
                            "<tr><td>Apartman</td><td>2016</td><td>6</td><td>1</td></tr>",
                            "<tr><td>Apartman</td><td>2016</td><td>7</td><td>1</td></tr>",
                            "<tr><td>Apartman</td><td>2016</td><td>8</td><td>2</td></tr>",
                            "<tr><td>Apartman</td><td>2016</td><td>9</td><td>3</td></tr>",
                            "<tr><td>Apartman</td><td>2016</td><td>10</td><td>9</td></tr>",
                            "<tr><td>Apartman</td><td>2016</td><td>11</td><td>3</td></tr>",
                            "<tr><td>Apartman</td><td>2016</td><td>12</td><td>2</td></tr>",
                            "<tr><td>Apartman</td><td>2017</td><td>1</td><td>1</td></tr>",
                            "<tr><td>Apartman</td><td>2017</td><td>2</td><td>5</td></tr>",
                            "<tr><td>Hotel</td><td>2016</td><td>4</td><td>16</td></tr>",
                            "<tr><td>Hotel</td><td>2016</td><td>5</td><td>32</td></tr>",
                            "<tr><td>Hotel</td><td>2016</td><td>6</td><td>29</td></tr>",
                            "<tr><td>Hotel</td><td>2016</td><td>7</td><td>30</td></tr>",
                            "<tr><td>Hotel</td><td>2016</td><td>8</td><td>22</td></tr>",
                            "<tr><td>Hotel</td><td>2016</td><td>9</td><td>19</td></tr>",
                            "<tr><td>Hotel</td><td>2016</td><td>10</td><td>36</td></tr>",
                            "<tr><td>Hotel</td><td>2016</td><td>11</td><td>27</td></tr>",
                            "<tr><td>Hotel</td><td>2016</td><td>12</td><td>25</td></tr>",
                            "<tr><td>Hotel</td><td>2017</td><td>1</td><td>28</td></tr>",
                            "<tr><td>Hotel</td><td>2017</td><td>2</td><td>21</td></tr>",
                            "<tr><td>Hotel</td><td>2017</td><td>3</td><td>1</td></tr>",
                            "<tr><td>panzió</td><td>2016</td><td>4</td><td>2</td></tr>",
                            "<tr><td>panzió</td><td>2016</td><td>5</td><td>9</td></tr>",
                            "<tr><td>panzió</td><td>2016</td><td>6</td><td>10</td></tr>",
                            "<tr><td>panzió</td><td>2016</td><td>7</td><td>7</td></tr>",
                            "<tr><td>panzió</td><td>2016</td><td>8</td><td>6</td></tr>",
                            "<tr><td>panzió</td><td>2016</td><td>9</td><td>6</td></tr>",
                            "<tr><td>panzió</td><td>2016</td><td>10</td><td>11</td></tr>",
                            "<tr><td>panzió</td><td>2016</td><td>11</td><td>3</td></tr>",
                            "<tr><td>panzió</td><td>2016</td><td>12</td><td>6</td></tr>",
                            "<tr><td>panzió</td><td>2017</td><td>1</td><td>5</td></tr>",
                            "<tr><td>panzió</td><td>2017</td><td>2</td><td>5</td></tr>",
                            "<tr><td>panzió</td><td>2017</td><td>3</td><td>1</td></tr>",
                            "<tr><td>vendégház</td><td>2016</td><td>4</td><td>2</td></tr>",
                            "<tr><td>vendégház</td><td>2016</td><td>5</td><td>5</td></tr>",
                            "<tr><td>vendégház</td><td>2016</td><td>6</td><td>3</td></tr>",
                            "<tr><td>vendégház</td><td>2016</td><td>7</td><td>5</td></tr>",
                            "<tr><td>vendégház</td><td>2016</td><td>8</td><td>5</td></tr>",
                            "<tr><td>vendégház</td><td>2016</td><td>9</td><td>4</td></tr>",
                            "<tr><td>vendégház</td><td>2016</td><td>10</td><td>7</td></tr>",
                            "<tr><td>vendégház</td><td>2016</td><td>11</td><td>4</td></tr>",
                            "<tr><td>vendégház</td><td>2017</td><td>1</td><td>1</td></tr>",
                            "<tr><td>vendégház</td><td>2017</td><td>2</td><td>3</td></tr>",
                            "</table>"
                        ]
                    }
                }
            ],
            "execution_count": 12
        }
    ]
}