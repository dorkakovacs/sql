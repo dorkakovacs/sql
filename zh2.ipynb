{
    "metadata": {
        "kernelspec": {
            "name": "SQL",
            "display_name": "SQL",
            "language": "sql"
        },
        "language_info": {
            "name": "sql",
            "version": ""
        }
    },
    "nbformat_minor": 2,
    "nbformat": 4,
    "cells": [
        {
            "cell_type": "code",
            "source": [
                "SELECT IIF(SZOBA_FK IS NULL, 'Végösszeg', CAST(SZOBA_FK AS nvarchar(3))),\r\n",
                "        COUNT(*)\r\n",
                "FROM Foglalas\r\n",
                "WHERE FELNOTT_SZAM > GYERMEK_SZAM\r\n",
                "GROUP BY ROLLUP (SZOBA_FK)"
            ],
            "metadata": {
                "azdata_cell_guid": "aeb1d99e-021b-46bc-9340-232191270742",
                "language": "sql"
            },
            "outputs": [
                {
                    "output_type": "display_data",
                    "data": {
                        "text/html": "(190 rows affected)"
                    },
                    "metadata": {}
                },
                {
                    "output_type": "display_data",
                    "data": {
                        "text/html": "Total execution time: 00:00:00.010"
                    },
                    "metadata": {}
                },
                {
                    "output_type": "execute_result",
                    "metadata": {},
                    "execution_count": 5,
                    "data": {
                        "application/vnd.dataresource+json": {
                            "schema": {
                                "fields": [
                                    {
                                        "name": "(No column name)"
                                    },
                                    {
                                        "name": "(No column name)"
                                    }
                                ]
                            },
                            "data": [
                                {
                                    "(No column name)": "7"
                                },
                                {
                                    "(No column name)": "2"
                                },
                                {
                                    "(No column name)": "3"
                                },
                                {
                                    "(No column name)": "5"
                                },
                                {
                                    "(No column name)": "2"
                                },
                                {
                                    "(No column name)": "5"
                                },
                                {
                                    "(No column name)": "6"
                                },
                                {
                                    "(No column name)": "5"
                                },
                                {
                                    "(No column name)": "4"
                                },
                                {
                                    "(No column name)": "4"
                                },
                                {
                                    "(No column name)": "4"
                                },
                                {
                                    "(No column name)": "7"
                                },
                                {
                                    "(No column name)": "4"
                                },
                                {
                                    "(No column name)": "3"
                                },
                                {
                                    "(No column name)": "4"
                                },
                                {
                                    "(No column name)": "1"
                                },
                                {
                                    "(No column name)": "2"
                                },
                                {
                                    "(No column name)": "3"
                                },
                                {
                                    "(No column name)": "4"
                                },
                                {
                                    "(No column name)": "5"
                                },
                                {
                                    "(No column name)": "1"
                                },
                                {
                                    "(No column name)": "2"
                                },
                                {
                                    "(No column name)": "3"
                                },
                                {
                                    "(No column name)": "3"
                                },
                                {
                                    "(No column name)": "1"
                                },
                                {
                                    "(No column name)": "5"
                                },
                                {
                                    "(No column name)": "5"
                                },
                                {
                                    "(No column name)": "3"
                                },
                                {
                                    "(No column name)": "2"
                                },
                                {
                                    "(No column name)": "1"
                                },
                                {
                                    "(No column name)": "1"
                                },
                                {
                                    "(No column name)": "3"
                                },
                                {
                                    "(No column name)": "3"
                                },
                                {
                                    "(No column name)": "6"
                                },
                                {
                                    "(No column name)": "4"
                                },
                                {
                                    "(No column name)": "2"
                                },
                                {
                                    "(No column name)": "5"
                                },
                                {
                                    "(No column name)": "4"
                                },
                                {
                                    "(No column name)": "3"
                                },
                                {
                                    "(No column name)": "1"
                                },
                                {
                                    "(No column name)": "5"
                                },
                                {
                                    "(No column name)": "4"
                                },
                                {
                                    "(No column name)": "6"
                                },
                                {
                                    "(No column name)": "4"
                                },
                                {
                                    "(No column name)": "3"
                                },
                                {
                                    "(No column name)": "2"
                                },
                                {
                                    "(No column name)": "6"
                                },
                                {
                                    "(No column name)": "5"
                                },
                                {
                                    "(No column name)": "3"
                                },
                                {
                                    "(No column name)": "3"
                                },
                                {
                                    "(No column name)": "5"
                                },
                                {
                                    "(No column name)": "4"
                                },
                                {
                                    "(No column name)": "3"
                                },
                                {
                                    "(No column name)": "1"
                                },
                                {
                                    "(No column name)": "3"
                                },
                                {
                                    "(No column name)": "8"
                                },
                                {
                                    "(No column name)": "4"
                                },
                                {
                                    "(No column name)": "1"
                                },
                                {
                                    "(No column name)": "4"
                                },
                                {
                                    "(No column name)": "3"
                                },
                                {
                                    "(No column name)": "3"
                                },
                                {
                                    "(No column name)": "5"
                                },
                                {
                                    "(No column name)": "3"
                                },
                                {
                                    "(No column name)": "2"
                                },
                                {
                                    "(No column name)": "2"
                                },
                                {
                                    "(No column name)": "8"
                                },
                                {
                                    "(No column name)": "2"
                                },
                                {
                                    "(No column name)": "2"
                                },
                                {
                                    "(No column name)": "4"
                                },
                                {
                                    "(No column name)": "8"
                                },
                                {
                                    "(No column name)": "2"
                                },
                                {
                                    "(No column name)": "2"
                                },
                                {
                                    "(No column name)": "3"
                                },
                                {
                                    "(No column name)": "3"
                                },
                                {
                                    "(No column name)": "4"
                                },
                                {
                                    "(No column name)": "5"
                                },
                                {
                                    "(No column name)": "3"
                                },
                                {
                                    "(No column name)": "5"
                                },
                                {
                                    "(No column name)": "5"
                                },
                                {
                                    "(No column name)": "3"
                                },
                                {
                                    "(No column name)": "2"
                                },
                                {
                                    "(No column name)": "4"
                                },
                                {
                                    "(No column name)": "5"
                                },
                                {
                                    "(No column name)": "5"
                                },
                                {
                                    "(No column name)": "8"
                                },
                                {
                                    "(No column name)": "3"
                                },
                                {
                                    "(No column name)": "2"
                                },
                                {
                                    "(No column name)": "5"
                                },
                                {
                                    "(No column name)": "3"
                                },
                                {
                                    "(No column name)": "6"
                                },
                                {
                                    "(No column name)": "3"
                                },
                                {
                                    "(No column name)": "6"
                                },
                                {
                                    "(No column name)": "5"
                                },
                                {
                                    "(No column name)": "4"
                                },
                                {
                                    "(No column name)": "4"
                                },
                                {
                                    "(No column name)": "2"
                                },
                                {
                                    "(No column name)": "1"
                                },
                                {
                                    "(No column name)": "1"
                                },
                                {
                                    "(No column name)": "1"
                                },
                                {
                                    "(No column name)": "3"
                                },
                                {
                                    "(No column name)": "4"
                                },
                                {
                                    "(No column name)": "4"
                                },
                                {
                                    "(No column name)": "1"
                                },
                                {
                                    "(No column name)": "2"
                                },
                                {
                                    "(No column name)": "5"
                                },
                                {
                                    "(No column name)": "1"
                                },
                                {
                                    "(No column name)": "4"
                                },
                                {
                                    "(No column name)": "2"
                                },
                                {
                                    "(No column name)": "1"
                                },
                                {
                                    "(No column name)": "5"
                                },
                                {
                                    "(No column name)": "4"
                                },
                                {
                                    "(No column name)": "2"
                                },
                                {
                                    "(No column name)": "4"
                                },
                                {
                                    "(No column name)": "2"
                                },
                                {
                                    "(No column name)": "5"
                                },
                                {
                                    "(No column name)": "3"
                                },
                                {
                                    "(No column name)": "5"
                                },
                                {
                                    "(No column name)": "4"
                                },
                                {
                                    "(No column name)": "4"
                                },
                                {
                                    "(No column name)": "5"
                                },
                                {
                                    "(No column name)": "3"
                                },
                                {
                                    "(No column name)": "5"
                                },
                                {
                                    "(No column name)": "4"
                                },
                                {
                                    "(No column name)": "4"
                                },
                                {
                                    "(No column name)": "4"
                                },
                                {
                                    "(No column name)": "4"
                                },
                                {
                                    "(No column name)": "3"
                                },
                                {
                                    "(No column name)": "2"
                                },
                                {
                                    "(No column name)": "2"
                                },
                                {
                                    "(No column name)": "5"
                                },
                                {
                                    "(No column name)": "6"
                                },
                                {
                                    "(No column name)": "5"
                                },
                                {
                                    "(No column name)": "4"
                                },
                                {
                                    "(No column name)": "1"
                                },
                                {
                                    "(No column name)": "5"
                                },
                                {
                                    "(No column name)": "2"
                                },
                                {
                                    "(No column name)": "2"
                                },
                                {
                                    "(No column name)": "3"
                                },
                                {
                                    "(No column name)": "1"
                                },
                                {
                                    "(No column name)": "5"
                                },
                                {
                                    "(No column name)": "5"
                                },
                                {
                                    "(No column name)": "6"
                                },
                                {
                                    "(No column name)": "2"
                                },
                                {
                                    "(No column name)": "3"
                                },
                                {
                                    "(No column name)": "4"
                                },
                                {
                                    "(No column name)": "3"
                                },
                                {
                                    "(No column name)": "3"
                                },
                                {
                                    "(No column name)": "2"
                                },
                                {
                                    "(No column name)": "2"
                                },
                                {
                                    "(No column name)": "3"
                                },
                                {
                                    "(No column name)": "2"
                                },
                                {
                                    "(No column name)": "3"
                                },
                                {
                                    "(No column name)": "2"
                                },
                                {
                                    "(No column name)": "5"
                                },
                                {
                                    "(No column name)": "4"
                                },
                                {
                                    "(No column name)": "5"
                                },
                                {
                                    "(No column name)": "3"
                                },
                                {
                                    "(No column name)": "2"
                                },
                                {
                                    "(No column name)": "1"
                                },
                                {
                                    "(No column name)": "3"
                                },
                                {
                                    "(No column name)": "3"
                                },
                                {
                                    "(No column name)": "5"
                                },
                                {
                                    "(No column name)": "6"
                                },
                                {
                                    "(No column name)": "3"
                                },
                                {
                                    "(No column name)": "4"
                                },
                                {
                                    "(No column name)": "3"
                                },
                                {
                                    "(No column name)": "2"
                                },
                                {
                                    "(No column name)": "1"
                                },
                                {
                                    "(No column name)": "1"
                                },
                                {
                                    "(No column name)": "2"
                                },
                                {
                                    "(No column name)": "1"
                                },
                                {
                                    "(No column name)": "5"
                                },
                                {
                                    "(No column name)": "11"
                                },
                                {
                                    "(No column name)": "3"
                                },
                                {
                                    "(No column name)": "4"
                                },
                                {
                                    "(No column name)": "10"
                                },
                                {
                                    "(No column name)": "1"
                                },
                                {
                                    "(No column name)": "6"
                                },
                                {
                                    "(No column name)": "2"
                                },
                                {
                                    "(No column name)": "1"
                                },
                                {
                                    "(No column name)": "5"
                                },
                                {
                                    "(No column name)": "3"
                                },
                                {
                                    "(No column name)": "1"
                                },
                                {
                                    "(No column name)": "2"
                                },
                                {
                                    "(No column name)": "1"
                                },
                                {
                                    "(No column name)": "5"
                                },
                                {
                                    "(No column name)": "2"
                                },
                                {
                                    "(No column name)": "6"
                                },
                                {
                                    "(No column name)": "7"
                                },
                                {
                                    "(No column name)": "668"
                                }
                            ]
                        },
                        "text/html": [
                            "<table>",
                            "<tr><th>(No column name)</th><th>(No column name)</th></tr>",
                            "<tr><td>1</td><td>7</td></tr>",
                            "<tr><td>2</td><td>2</td></tr>",
                            "<tr><td>3</td><td>3</td></tr>",
                            "<tr><td>4</td><td>5</td></tr>",
                            "<tr><td>5</td><td>2</td></tr>",
                            "<tr><td>6</td><td>5</td></tr>",
                            "<tr><td>7</td><td>6</td></tr>",
                            "<tr><td>8</td><td>5</td></tr>",
                            "<tr><td>9</td><td>4</td></tr>",
                            "<tr><td>10</td><td>4</td></tr>",
                            "<tr><td>11</td><td>4</td></tr>",
                            "<tr><td>12</td><td>7</td></tr>",
                            "<tr><td>13</td><td>4</td></tr>",
                            "<tr><td>14</td><td>3</td></tr>",
                            "<tr><td>15</td><td>4</td></tr>",
                            "<tr><td>16</td><td>1</td></tr>",
                            "<tr><td>17</td><td>2</td></tr>",
                            "<tr><td>18</td><td>3</td></tr>",
                            "<tr><td>19</td><td>4</td></tr>",
                            "<tr><td>20</td><td>5</td></tr>",
                            "<tr><td>21</td><td>1</td></tr>",
                            "<tr><td>22</td><td>2</td></tr>",
                            "<tr><td>23</td><td>3</td></tr>",
                            "<tr><td>24</td><td>3</td></tr>",
                            "<tr><td>25</td><td>1</td></tr>",
                            "<tr><td>27</td><td>5</td></tr>",
                            "<tr><td>28</td><td>5</td></tr>",
                            "<tr><td>29</td><td>3</td></tr>",
                            "<tr><td>30</td><td>2</td></tr>",
                            "<tr><td>31</td><td>1</td></tr>",
                            "<tr><td>32</td><td>1</td></tr>",
                            "<tr><td>33</td><td>3</td></tr>",
                            "<tr><td>34</td><td>3</td></tr>",
                            "<tr><td>35</td><td>6</td></tr>",
                            "<tr><td>36</td><td>4</td></tr>",
                            "<tr><td>37</td><td>2</td></tr>",
                            "<tr><td>38</td><td>5</td></tr>",
                            "<tr><td>39</td><td>4</td></tr>",
                            "<tr><td>40</td><td>3</td></tr>",
                            "<tr><td>41</td><td>1</td></tr>",
                            "<tr><td>42</td><td>5</td></tr>",
                            "<tr><td>43</td><td>4</td></tr>",
                            "<tr><td>44</td><td>6</td></tr>",
                            "<tr><td>45</td><td>4</td></tr>",
                            "<tr><td>46</td><td>3</td></tr>",
                            "<tr><td>47</td><td>2</td></tr>",
                            "<tr><td>48</td><td>6</td></tr>",
                            "<tr><td>49</td><td>5</td></tr>",
                            "<tr><td>50</td><td>3</td></tr>",
                            "<tr><td>51</td><td>3</td></tr>",
                            "<tr><td>52</td><td>5</td></tr>",
                            "<tr><td>54</td><td>4</td></tr>",
                            "<tr><td>55</td><td>3</td></tr>",
                            "<tr><td>56</td><td>1</td></tr>",
                            "<tr><td>57</td><td>3</td></tr>",
                            "<tr><td>58</td><td>8</td></tr>",
                            "<tr><td>59</td><td>4</td></tr>",
                            "<tr><td>60</td><td>1</td></tr>",
                            "<tr><td>61</td><td>4</td></tr>",
                            "<tr><td>62</td><td>3</td></tr>",
                            "<tr><td>63</td><td>3</td></tr>",
                            "<tr><td>64</td><td>5</td></tr>",
                            "<tr><td>66</td><td>3</td></tr>",
                            "<tr><td>67</td><td>2</td></tr>",
                            "<tr><td>69</td><td>2</td></tr>",
                            "<tr><td>70</td><td>8</td></tr>",
                            "<tr><td>71</td><td>2</td></tr>",
                            "<tr><td>72</td><td>2</td></tr>",
                            "<tr><td>73</td><td>4</td></tr>",
                            "<tr><td>74</td><td>8</td></tr>",
                            "<tr><td>75</td><td>2</td></tr>",
                            "<tr><td>76</td><td>2</td></tr>",
                            "<tr><td>77</td><td>3</td></tr>",
                            "<tr><td>78</td><td>3</td></tr>",
                            "<tr><td>79</td><td>4</td></tr>",
                            "<tr><td>80</td><td>5</td></tr>",
                            "<tr><td>81</td><td>3</td></tr>",
                            "<tr><td>82</td><td>5</td></tr>",
                            "<tr><td>83</td><td>5</td></tr>",
                            "<tr><td>84</td><td>3</td></tr>",
                            "<tr><td>85</td><td>2</td></tr>",
                            "<tr><td>86</td><td>4</td></tr>",
                            "<tr><td>87</td><td>5</td></tr>",
                            "<tr><td>88</td><td>5</td></tr>",
                            "<tr><td>89</td><td>8</td></tr>",
                            "<tr><td>90</td><td>3</td></tr>",
                            "<tr><td>91</td><td>2</td></tr>",
                            "<tr><td>92</td><td>5</td></tr>",
                            "<tr><td>93</td><td>3</td></tr>",
                            "<tr><td>94</td><td>6</td></tr>",
                            "<tr><td>95</td><td>3</td></tr>",
                            "<tr><td>96</td><td>6</td></tr>",
                            "<tr><td>97</td><td>5</td></tr>",
                            "<tr><td>98</td><td>4</td></tr>",
                            "<tr><td>99</td><td>4</td></tr>",
                            "<tr><td>100</td><td>2</td></tr>",
                            "<tr><td>101</td><td>1</td></tr>",
                            "<tr><td>102</td><td>1</td></tr>",
                            "<tr><td>103</td><td>1</td></tr>",
                            "<tr><td>104</td><td>3</td></tr>",
                            "<tr><td>106</td><td>4</td></tr>",
                            "<tr><td>107</td><td>4</td></tr>",
                            "<tr><td>108</td><td>1</td></tr>",
                            "<tr><td>109</td><td>2</td></tr>",
                            "<tr><td>110</td><td>5</td></tr>",
                            "<tr><td>111</td><td>1</td></tr>",
                            "<tr><td>112</td><td>4</td></tr>",
                            "<tr><td>113</td><td>2</td></tr>",
                            "<tr><td>114</td><td>1</td></tr>",
                            "<tr><td>115</td><td>5</td></tr>",
                            "<tr><td>117</td><td>4</td></tr>",
                            "<tr><td>118</td><td>2</td></tr>",
                            "<tr><td>119</td><td>4</td></tr>",
                            "<tr><td>120</td><td>2</td></tr>",
                            "<tr><td>121</td><td>5</td></tr>",
                            "<tr><td>122</td><td>3</td></tr>",
                            "<tr><td>123</td><td>5</td></tr>",
                            "<tr><td>124</td><td>4</td></tr>",
                            "<tr><td>126</td><td>4</td></tr>",
                            "<tr><td>127</td><td>5</td></tr>",
                            "<tr><td>129</td><td>3</td></tr>",
                            "<tr><td>130</td><td>5</td></tr>",
                            "<tr><td>131</td><td>4</td></tr>",
                            "<tr><td>132</td><td>4</td></tr>",
                            "<tr><td>133</td><td>4</td></tr>",
                            "<tr><td>134</td><td>4</td></tr>",
                            "<tr><td>135</td><td>3</td></tr>",
                            "<tr><td>136</td><td>2</td></tr>",
                            "<tr><td>137</td><td>2</td></tr>",
                            "<tr><td>138</td><td>5</td></tr>",
                            "<tr><td>139</td><td>6</td></tr>",
                            "<tr><td>140</td><td>5</td></tr>",
                            "<tr><td>141</td><td>4</td></tr>",
                            "<tr><td>142</td><td>1</td></tr>",
                            "<tr><td>143</td><td>5</td></tr>",
                            "<tr><td>144</td><td>2</td></tr>",
                            "<tr><td>145</td><td>2</td></tr>",
                            "<tr><td>146</td><td>3</td></tr>",
                            "<tr><td>147</td><td>1</td></tr>",
                            "<tr><td>148</td><td>5</td></tr>",
                            "<tr><td>149</td><td>5</td></tr>",
                            "<tr><td>150</td><td>6</td></tr>",
                            "<tr><td>151</td><td>2</td></tr>",
                            "<tr><td>152</td><td>3</td></tr>",
                            "<tr><td>153</td><td>4</td></tr>",
                            "<tr><td>154</td><td>3</td></tr>",
                            "<tr><td>155</td><td>3</td></tr>",
                            "<tr><td>156</td><td>2</td></tr>",
                            "<tr><td>157</td><td>2</td></tr>",
                            "<tr><td>158</td><td>3</td></tr>",
                            "<tr><td>160</td><td>2</td></tr>",
                            "<tr><td>161</td><td>3</td></tr>",
                            "<tr><td>162</td><td>2</td></tr>",
                            "<tr><td>163</td><td>5</td></tr>",
                            "<tr><td>164</td><td>4</td></tr>",
                            "<tr><td>165</td><td>5</td></tr>",
                            "<tr><td>166</td><td>3</td></tr>",
                            "<tr><td>167</td><td>2</td></tr>",
                            "<tr><td>168</td><td>1</td></tr>",
                            "<tr><td>169</td><td>3</td></tr>",
                            "<tr><td>170</td><td>3</td></tr>",
                            "<tr><td>171</td><td>5</td></tr>",
                            "<tr><td>172</td><td>6</td></tr>",
                            "<tr><td>173</td><td>3</td></tr>",
                            "<tr><td>174</td><td>4</td></tr>",
                            "<tr><td>175</td><td>3</td></tr>",
                            "<tr><td>176</td><td>2</td></tr>",
                            "<tr><td>177</td><td>1</td></tr>",
                            "<tr><td>178</td><td>1</td></tr>",
                            "<tr><td>179</td><td>2</td></tr>",
                            "<tr><td>180</td><td>1</td></tr>",
                            "<tr><td>181</td><td>5</td></tr>",
                            "<tr><td>182</td><td>11</td></tr>",
                            "<tr><td>183</td><td>3</td></tr>",
                            "<tr><td>184</td><td>4</td></tr>",
                            "<tr><td>185</td><td>10</td></tr>",
                            "<tr><td>186</td><td>1</td></tr>",
                            "<tr><td>187</td><td>6</td></tr>",
                            "<tr><td>188</td><td>2</td></tr>",
                            "<tr><td>189</td><td>1</td></tr>",
                            "<tr><td>190</td><td>5</td></tr>",
                            "<tr><td>191</td><td>3</td></tr>",
                            "<tr><td>192</td><td>1</td></tr>",
                            "<tr><td>193</td><td>2</td></tr>",
                            "<tr><td>194</td><td>1</td></tr>",
                            "<tr><td>195</td><td>5</td></tr>",
                            "<tr><td>196</td><td>2</td></tr>",
                            "<tr><td>197</td><td>6</td></tr>",
                            "<tr><td>198</td><td>7</td></tr>",
                            "<tr><td>Végösszeg</td><td>668</td></tr>",
                            "</table>"
                        ]
                    }
                }
            ],
            "execution_count": 5
        },
        {
            "cell_type": "code",
            "source": [
                "SELECT SZOBA_FK,\r\n",
                "        FOGLALAS_PK,\r\n",
                "        DATEDIFF(DAY, METTOL, MEDDIG),\r\n",
                "        LAG(DATEDIFF(DAY, METTOL, MEDDIG),1, 0) OVER(ORDER BY METTOL)\r\n",
                "FROM Foglalas"
            ],
            "metadata": {
                "language": "sql",
                "azdata_cell_guid": "e0922501-490b-41f9-8506-7d4444822650"
            },
            "outputs": [
                {
                    "output_type": "display_data",
                    "data": {
                        "text/html": "(1027 rows affected)"
                    },
                    "metadata": {}
                },
                {
                    "output_type": "display_data",
                    "data": {
                        "text/html": "Total execution time: 00:00:00.011"
                    },
                    "metadata": {}
                },
                {
                    "output_type": "execute_result",
                    "metadata": {},
                    "execution_count": 9,
                    "data": {
                        "application/vnd.dataresource+json": {
                            "schema": {
                                "fields": [
                                    {
                                        "name": "SZOBA_FK"
                                    },
                                    {
                                        "name": "FOGLALAS_PK"
                                    },
                                    {
                                        "name": "(No column name)"
                                    }
                                ]
                            },
                            "data": [
                                {
                                    "SZOBA_FK": "87",
                                    "FOGLALAS_PK": "558",
                                    "(No column name)": "4"
                                },
                                {
                                    "SZOBA_FK": "131",
                                    "FOGLALAS_PK": "559",
                                    "(No column name)": "2"
                                },
                                {
                                    "SZOBA_FK": "6",
                                    "FOGLALAS_PK": "560",
                                    "(No column name)": "6"
                                },
                                {
                                    "SZOBA_FK": "42",
                                    "FOGLALAS_PK": "561",
                                    "(No column name)": "4"
                                },
                                {
                                    "SZOBA_FK": "7",
                                    "FOGLALAS_PK": "562",
                                    "(No column name)": "4"
                                },
                                {
                                    "SZOBA_FK": "68",
                                    "FOGLALAS_PK": "563",
                                    "(No column name)": "5"
                                },
                                {
                                    "SZOBA_FK": "5",
                                    "FOGLALAS_PK": "564",
                                    "(No column name)": "2"
                                },
                                {
                                    "SZOBA_FK": "141",
                                    "FOGLALAS_PK": "565",
                                    "(No column name)": "6"
                                },
                                {
                                    "SZOBA_FK": "21",
                                    "FOGLALAS_PK": "566",
                                    "(No column name)": "6"
                                },
                                {
                                    "SZOBA_FK": "170",
                                    "FOGLALAS_PK": "567",
                                    "(No column name)": "7"
                                },
                                {
                                    "SZOBA_FK": "78",
                                    "FOGLALAS_PK": "568",
                                    "(No column name)": "1"
                                },
                                {
                                    "SZOBA_FK": "10",
                                    "FOGLALAS_PK": "569",
                                    "(No column name)": "3"
                                },
                                {
                                    "SZOBA_FK": "164",
                                    "FOGLALAS_PK": "570",
                                    "(No column name)": "7"
                                },
                                {
                                    "SZOBA_FK": "182",
                                    "FOGLALAS_PK": "571",
                                    "(No column name)": "2"
                                },
                                {
                                    "SZOBA_FK": "83",
                                    "FOGLALAS_PK": "572",
                                    "(No column name)": "7"
                                },
                                {
                                    "SZOBA_FK": "169",
                                    "FOGLALAS_PK": "573",
                                    "(No column name)": "5"
                                },
                                {
                                    "SZOBA_FK": "171",
                                    "FOGLALAS_PK": "574",
                                    "(No column name)": "2"
                                },
                                {
                                    "SZOBA_FK": "155",
                                    "FOGLALAS_PK": "575",
                                    "(No column name)": "1"
                                },
                                {
                                    "SZOBA_FK": "125",
                                    "FOGLALAS_PK": "576",
                                    "(No column name)": "1"
                                },
                                {
                                    "SZOBA_FK": "155",
                                    "FOGLALAS_PK": "577",
                                    "(No column name)": "3"
                                },
                                {
                                    "SZOBA_FK": "185",
                                    "FOGLALAS_PK": "578",
                                    "(No column name)": "6"
                                },
                                {
                                    "SZOBA_FK": "139",
                                    "FOGLALAS_PK": "579",
                                    "(No column name)": "2"
                                },
                                {
                                    "SZOBA_FK": "130",
                                    "FOGLALAS_PK": "580",
                                    "(No column name)": "3"
                                },
                                {
                                    "SZOBA_FK": "144",
                                    "FOGLALAS_PK": "581",
                                    "(No column name)": "4"
                                },
                                {
                                    "SZOBA_FK": "137",
                                    "FOGLALAS_PK": "582",
                                    "(No column name)": "3"
                                },
                                {
                                    "SZOBA_FK": "79",
                                    "FOGLALAS_PK": "583",
                                    "(No column name)": "6"
                                },
                                {
                                    "SZOBA_FK": "136",
                                    "FOGLALAS_PK": "584",
                                    "(No column name)": "2"
                                },
                                {
                                    "SZOBA_FK": "70",
                                    "FOGLALAS_PK": "585",
                                    "(No column name)": "5"
                                },
                                {
                                    "SZOBA_FK": "107",
                                    "FOGLALAS_PK": "586",
                                    "(No column name)": "6"
                                },
                                {
                                    "SZOBA_FK": "123",
                                    "FOGLALAS_PK": "587",
                                    "(No column name)": "7"
                                },
                                {
                                    "SZOBA_FK": "156",
                                    "FOGLALAS_PK": "588",
                                    "(No column name)": "7"
                                },
                                {
                                    "SZOBA_FK": "44",
                                    "FOGLALAS_PK": "589",
                                    "(No column name)": "2"
                                },
                                {
                                    "SZOBA_FK": "42",
                                    "FOGLALAS_PK": "590",
                                    "(No column name)": "5"
                                },
                                {
                                    "SZOBA_FK": "149",
                                    "FOGLALAS_PK": "591",
                                    "(No column name)": "1"
                                },
                                {
                                    "SZOBA_FK": "176",
                                    "FOGLALAS_PK": "592",
                                    "(No column name)": "5"
                                },
                                {
                                    "SZOBA_FK": "77",
                                    "FOGLALAS_PK": "593",
                                    "(No column name)": "3"
                                },
                                {
                                    "SZOBA_FK": "153",
                                    "FOGLALAS_PK": "594",
                                    "(No column name)": "3"
                                },
                                {
                                    "SZOBA_FK": "74",
                                    "FOGLALAS_PK": "595",
                                    "(No column name)": "7"
                                },
                                {
                                    "SZOBA_FK": "115",
                                    "FOGLALAS_PK": "596",
                                    "(No column name)": "7"
                                },
                                {
                                    "SZOBA_FK": "100",
                                    "FOGLALAS_PK": "597",
                                    "(No column name)": "1"
                                },
                                {
                                    "SZOBA_FK": "31",
                                    "FOGLALAS_PK": "598",
                                    "(No column name)": "2"
                                },
                                {
                                    "SZOBA_FK": "162",
                                    "FOGLALAS_PK": "599",
                                    "(No column name)": "4"
                                },
                                {
                                    "SZOBA_FK": "190",
                                    "FOGLALAS_PK": "600",
                                    "(No column name)": "7"
                                },
                                {
                                    "SZOBA_FK": "39",
                                    "FOGLALAS_PK": "601",
                                    "(No column name)": "6"
                                },
                                {
                                    "SZOBA_FK": "17",
                                    "FOGLALAS_PK": "602",
                                    "(No column name)": "6"
                                },
                                {
                                    "SZOBA_FK": "48",
                                    "FOGLALAS_PK": "603",
                                    "(No column name)": "3"
                                },
                                {
                                    "SZOBA_FK": "30",
                                    "FOGLALAS_PK": "604",
                                    "(No column name)": "2"
                                },
                                {
                                    "SZOBA_FK": "111",
                                    "FOGLALAS_PK": "605",
                                    "(No column name)": "7"
                                },
                                {
                                    "SZOBA_FK": "31",
                                    "FOGLALAS_PK": "606",
                                    "(No column name)": "1"
                                },
                                {
                                    "SZOBA_FK": "96",
                                    "FOGLALAS_PK": "607",
                                    "(No column name)": "4"
                                },
                                {
                                    "SZOBA_FK": "184",
                                    "FOGLALAS_PK": "608",
                                    "(No column name)": "2"
                                },
                                {
                                    "SZOBA_FK": "9",
                                    "FOGLALAS_PK": "609",
                                    "(No column name)": "2"
                                },
                                {
                                    "SZOBA_FK": "106",
                                    "FOGLALAS_PK": "610",
                                    "(No column name)": "3"
                                },
                                {
                                    "SZOBA_FK": "29",
                                    "FOGLALAS_PK": "611",
                                    "(No column name)": "5"
                                },
                                {
                                    "SZOBA_FK": "117",
                                    "FOGLALAS_PK": "612",
                                    "(No column name)": "2"
                                },
                                {
                                    "SZOBA_FK": "130",
                                    "FOGLALAS_PK": "613",
                                    "(No column name)": "3"
                                },
                                {
                                    "SZOBA_FK": "109",
                                    "FOGLALAS_PK": "614",
                                    "(No column name)": "4"
                                },
                                {
                                    "SZOBA_FK": "186",
                                    "FOGLALAS_PK": "615",
                                    "(No column name)": "3"
                                },
                                {
                                    "SZOBA_FK": "94",
                                    "FOGLALAS_PK": "616",
                                    "(No column name)": "4"
                                },
                                {
                                    "SZOBA_FK": "117",
                                    "FOGLALAS_PK": "617",
                                    "(No column name)": "3"
                                },
                                {
                                    "SZOBA_FK": "105",
                                    "FOGLALAS_PK": "618",
                                    "(No column name)": "1"
                                },
                                {
                                    "SZOBA_FK": "132",
                                    "FOGLALAS_PK": "619",
                                    "(No column name)": "7"
                                },
                                {
                                    "SZOBA_FK": "1",
                                    "FOGLALAS_PK": "620",
                                    "(No column name)": "5"
                                },
                                {
                                    "SZOBA_FK": "109",
                                    "FOGLALAS_PK": "621",
                                    "(No column name)": "7"
                                },
                                {
                                    "SZOBA_FK": "54",
                                    "FOGLALAS_PK": "622",
                                    "(No column name)": "7"
                                },
                                {
                                    "SZOBA_FK": "96",
                                    "FOGLALAS_PK": "623",
                                    "(No column name)": "7"
                                },
                                {
                                    "SZOBA_FK": "33",
                                    "FOGLALAS_PK": "624",
                                    "(No column name)": "6"
                                },
                                {
                                    "SZOBA_FK": "63",
                                    "FOGLALAS_PK": "625",
                                    "(No column name)": "3"
                                },
                                {
                                    "SZOBA_FK": "18",
                                    "FOGLALAS_PK": "626",
                                    "(No column name)": "3"
                                },
                                {
                                    "SZOBA_FK": "38",
                                    "FOGLALAS_PK": "627",
                                    "(No column name)": "6"
                                },
                                {
                                    "SZOBA_FK": "48",
                                    "FOGLALAS_PK": "628",
                                    "(No column name)": "2"
                                },
                                {
                                    "SZOBA_FK": "3",
                                    "FOGLALAS_PK": "629",
                                    "(No column name)": "4"
                                },
                                {
                                    "SZOBA_FK": "163",
                                    "FOGLALAS_PK": "630",
                                    "(No column name)": "2"
                                },
                                {
                                    "SZOBA_FK": "98",
                                    "FOGLALAS_PK": "631",
                                    "(No column name)": "6"
                                },
                                {
                                    "SZOBA_FK": "99",
                                    "FOGLALAS_PK": "632",
                                    "(No column name)": "1"
                                },
                                {
                                    "SZOBA_FK": "187",
                                    "FOGLALAS_PK": "633",
                                    "(No column name)": "6"
                                },
                                {
                                    "SZOBA_FK": "193",
                                    "FOGLALAS_PK": "634",
                                    "(No column name)": "6"
                                },
                                {
                                    "SZOBA_FK": "97",
                                    "FOGLALAS_PK": "635",
                                    "(No column name)": "3"
                                },
                                {
                                    "SZOBA_FK": "91",
                                    "FOGLALAS_PK": "636",
                                    "(No column name)": "6"
                                },
                                {
                                    "SZOBA_FK": "100",
                                    "FOGLALAS_PK": "637",
                                    "(No column name)": "5"
                                },
                                {
                                    "SZOBA_FK": "67",
                                    "FOGLALAS_PK": "638",
                                    "(No column name)": "5"
                                },
                                {
                                    "SZOBA_FK": "161",
                                    "FOGLALAS_PK": "639",
                                    "(No column name)": "4"
                                },
                                {
                                    "SZOBA_FK": "165",
                                    "FOGLALAS_PK": "640",
                                    "(No column name)": "3"
                                },
                                {
                                    "SZOBA_FK": "150",
                                    "FOGLALAS_PK": "641",
                                    "(No column name)": "3"
                                },
                                {
                                    "SZOBA_FK": "54",
                                    "FOGLALAS_PK": "642",
                                    "(No column name)": "5"
                                },
                                {
                                    "SZOBA_FK": "127",
                                    "FOGLALAS_PK": "643",
                                    "(No column name)": "2"
                                },
                                {
                                    "SZOBA_FK": "166",
                                    "FOGLALAS_PK": "644",
                                    "(No column name)": "7"
                                },
                                {
                                    "SZOBA_FK": "67",
                                    "FOGLALAS_PK": "645",
                                    "(No column name)": "6"
                                },
                                {
                                    "SZOBA_FK": "78",
                                    "FOGLALAS_PK": "646",
                                    "(No column name)": "3"
                                },
                                {
                                    "SZOBA_FK": "85",
                                    "FOGLALAS_PK": "647",
                                    "(No column name)": "3"
                                },
                                {
                                    "SZOBA_FK": "157",
                                    "FOGLALAS_PK": "648",
                                    "(No column name)": "4"
                                },
                                {
                                    "SZOBA_FK": "137",
                                    "FOGLALAS_PK": "649",
                                    "(No column name)": "5"
                                },
                                {
                                    "SZOBA_FK": "65",
                                    "FOGLALAS_PK": "650",
                                    "(No column name)": "6"
                                },
                                {
                                    "SZOBA_FK": "4",
                                    "FOGLALAS_PK": "651",
                                    "(No column name)": "7"
                                },
                                {
                                    "SZOBA_FK": "149",
                                    "FOGLALAS_PK": "652",
                                    "(No column name)": "1"
                                },
                                {
                                    "SZOBA_FK": "161",
                                    "FOGLALAS_PK": "653",
                                    "(No column name)": "7"
                                },
                                {
                                    "SZOBA_FK": "109",
                                    "FOGLALAS_PK": "654",
                                    "(No column name)": "5"
                                },
                                {
                                    "SZOBA_FK": "131",
                                    "FOGLALAS_PK": "655",
                                    "(No column name)": "1"
                                },
                                {
                                    "SZOBA_FK": "95",
                                    "FOGLALAS_PK": "656",
                                    "(No column name)": "7"
                                },
                                {
                                    "SZOBA_FK": "137",
                                    "FOGLALAS_PK": "657",
                                    "(No column name)": "6"
                                },
                                {
                                    "SZOBA_FK": "44",
                                    "FOGLALAS_PK": "658",
                                    "(No column name)": "6"
                                },
                                {
                                    "SZOBA_FK": "169",
                                    "FOGLALAS_PK": "659",
                                    "(No column name)": "6"
                                },
                                {
                                    "SZOBA_FK": "21",
                                    "FOGLALAS_PK": "660",
                                    "(No column name)": "5"
                                },
                                {
                                    "SZOBA_FK": "136",
                                    "FOGLALAS_PK": "661",
                                    "(No column name)": "5"
                                },
                                {
                                    "SZOBA_FK": "179",
                                    "FOGLALAS_PK": "662",
                                    "(No column name)": "2"
                                },
                                {
                                    "SZOBA_FK": "14",
                                    "FOGLALAS_PK": "663",
                                    "(No column name)": "1"
                                },
                                {
                                    "SZOBA_FK": "146",
                                    "FOGLALAS_PK": "664",
                                    "(No column name)": "3"
                                },
                                {
                                    "SZOBA_FK": "94",
                                    "FOGLALAS_PK": "665",
                                    "(No column name)": "7"
                                },
                                {
                                    "SZOBA_FK": "3",
                                    "FOGLALAS_PK": "666",
                                    "(No column name)": "6"
                                },
                                {
                                    "SZOBA_FK": "80",
                                    "FOGLALAS_PK": "667",
                                    "(No column name)": "6"
                                },
                                {
                                    "SZOBA_FK": "54",
                                    "FOGLALAS_PK": "668",
                                    "(No column name)": "1"
                                },
                                {
                                    "SZOBA_FK": "173",
                                    "FOGLALAS_PK": "669",
                                    "(No column name)": "7"
                                },
                                {
                                    "SZOBA_FK": "43",
                                    "FOGLALAS_PK": "670",
                                    "(No column name)": "4"
                                },
                                {
                                    "SZOBA_FK": "96",
                                    "FOGLALAS_PK": "671",
                                    "(No column name)": "4"
                                },
                                {
                                    "SZOBA_FK": "185",
                                    "FOGLALAS_PK": "672",
                                    "(No column name)": "3"
                                },
                                {
                                    "SZOBA_FK": "196",
                                    "FOGLALAS_PK": "673",
                                    "(No column name)": "5"
                                },
                                {
                                    "SZOBA_FK": "83",
                                    "FOGLALAS_PK": "674",
                                    "(No column name)": "4"
                                },
                                {
                                    "SZOBA_FK": "193",
                                    "FOGLALAS_PK": "675",
                                    "(No column name)": "2"
                                },
                                {
                                    "SZOBA_FK": "60",
                                    "FOGLALAS_PK": "676",
                                    "(No column name)": "2"
                                },
                                {
                                    "SZOBA_FK": "181",
                                    "FOGLALAS_PK": "677",
                                    "(No column name)": "4"
                                },
                                {
                                    "SZOBA_FK": "148",
                                    "FOGLALAS_PK": "678",
                                    "(No column name)": "4"
                                },
                                {
                                    "SZOBA_FK": "185",
                                    "FOGLALAS_PK": "679",
                                    "(No column name)": "5"
                                },
                                {
                                    "SZOBA_FK": "192",
                                    "FOGLALAS_PK": "680",
                                    "(No column name)": "4"
                                },
                                {
                                    "SZOBA_FK": "71",
                                    "FOGLALAS_PK": "681",
                                    "(No column name)": "3"
                                },
                                {
                                    "SZOBA_FK": "174",
                                    "FOGLALAS_PK": "682",
                                    "(No column name)": "3"
                                },
                                {
                                    "SZOBA_FK": "76",
                                    "FOGLALAS_PK": "683",
                                    "(No column name)": "7"
                                },
                                {
                                    "SZOBA_FK": "184",
                                    "FOGLALAS_PK": "684",
                                    "(No column name)": "3"
                                },
                                {
                                    "SZOBA_FK": "110",
                                    "FOGLALAS_PK": "685",
                                    "(No column name)": "1"
                                },
                                {
                                    "SZOBA_FK": "35",
                                    "FOGLALAS_PK": "686",
                                    "(No column name)": "6"
                                },
                                {
                                    "SZOBA_FK": "16",
                                    "FOGLALAS_PK": "687",
                                    "(No column name)": "3"
                                },
                                {
                                    "SZOBA_FK": "37",
                                    "FOGLALAS_PK": "688",
                                    "(No column name)": "2"
                                },
                                {
                                    "SZOBA_FK": "102",
                                    "FOGLALAS_PK": "689",
                                    "(No column name)": "5"
                                },
                                {
                                    "SZOBA_FK": "188",
                                    "FOGLALAS_PK": "690",
                                    "(No column name)": "4"
                                },
                                {
                                    "SZOBA_FK": "99",
                                    "FOGLALAS_PK": "691",
                                    "(No column name)": "5"
                                },
                                {
                                    "SZOBA_FK": "156",
                                    "FOGLALAS_PK": "692",
                                    "(No column name)": "6"
                                },
                                {
                                    "SZOBA_FK": "185",
                                    "FOGLALAS_PK": "693",
                                    "(No column name)": "2"
                                },
                                {
                                    "SZOBA_FK": "8",
                                    "FOGLALAS_PK": "694",
                                    "(No column name)": "4"
                                },
                                {
                                    "SZOBA_FK": "187",
                                    "FOGLALAS_PK": "695",
                                    "(No column name)": "6"
                                },
                                {
                                    "SZOBA_FK": "19",
                                    "FOGLALAS_PK": "696",
                                    "(No column name)": "1"
                                },
                                {
                                    "SZOBA_FK": "12",
                                    "FOGLALAS_PK": "697",
                                    "(No column name)": "2"
                                },
                                {
                                    "SZOBA_FK": "77",
                                    "FOGLALAS_PK": "698",
                                    "(No column name)": "4"
                                },
                                {
                                    "SZOBA_FK": "189",
                                    "FOGLALAS_PK": "699",
                                    "(No column name)": "2"
                                },
                                {
                                    "SZOBA_FK": "78",
                                    "FOGLALAS_PK": "700",
                                    "(No column name)": "5"
                                },
                                {
                                    "SZOBA_FK": "61",
                                    "FOGLALAS_PK": "701",
                                    "(No column name)": "2"
                                },
                                {
                                    "SZOBA_FK": "62",
                                    "FOGLALAS_PK": "702",
                                    "(No column name)": "5"
                                },
                                {
                                    "SZOBA_FK": "145",
                                    "FOGLALAS_PK": "703",
                                    "(No column name)": "4"
                                },
                                {
                                    "SZOBA_FK": "70",
                                    "FOGLALAS_PK": "704",
                                    "(No column name)": "3"
                                },
                                {
                                    "SZOBA_FK": "37",
                                    "FOGLALAS_PK": "705",
                                    "(No column name)": "4"
                                },
                                {
                                    "SZOBA_FK": "119",
                                    "FOGLALAS_PK": "706",
                                    "(No column name)": "2"
                                },
                                {
                                    "SZOBA_FK": "35",
                                    "FOGLALAS_PK": "707",
                                    "(No column name)": "2"
                                },
                                {
                                    "SZOBA_FK": "106",
                                    "FOGLALAS_PK": "708",
                                    "(No column name)": "7"
                                },
                                {
                                    "SZOBA_FK": "172",
                                    "FOGLALAS_PK": "709",
                                    "(No column name)": "5"
                                },
                                {
                                    "SZOBA_FK": "188",
                                    "FOGLALAS_PK": "710",
                                    "(No column name)": "7"
                                },
                                {
                                    "SZOBA_FK": "185",
                                    "FOGLALAS_PK": "711",
                                    "(No column name)": "3"
                                },
                                {
                                    "SZOBA_FK": "71",
                                    "FOGLALAS_PK": "712",
                                    "(No column name)": "1"
                                },
                                {
                                    "SZOBA_FK": "17",
                                    "FOGLALAS_PK": "713",
                                    "(No column name)": "6"
                                },
                                {
                                    "SZOBA_FK": "73",
                                    "FOGLALAS_PK": "714",
                                    "(No column name)": "7"
                                },
                                {
                                    "SZOBA_FK": "101",
                                    "FOGLALAS_PK": "715",
                                    "(No column name)": "3"
                                },
                                {
                                    "SZOBA_FK": "118",
                                    "FOGLALAS_PK": "716",
                                    "(No column name)": "1"
                                },
                                {
                                    "SZOBA_FK": "128",
                                    "FOGLALAS_PK": "717",
                                    "(No column name)": "2"
                                },
                                {
                                    "SZOBA_FK": "97",
                                    "FOGLALAS_PK": "718",
                                    "(No column name)": "7"
                                },
                                {
                                    "SZOBA_FK": "58",
                                    "FOGLALAS_PK": "719",
                                    "(No column name)": "3"
                                },
                                {
                                    "SZOBA_FK": "160",
                                    "FOGLALAS_PK": "720",
                                    "(No column name)": "2"
                                },
                                {
                                    "SZOBA_FK": "195",
                                    "FOGLALAS_PK": "721",
                                    "(No column name)": "4"
                                },
                                {
                                    "SZOBA_FK": "119",
                                    "FOGLALAS_PK": "722",
                                    "(No column name)": "1"
                                },
                                {
                                    "SZOBA_FK": "129",
                                    "FOGLALAS_PK": "723",
                                    "(No column name)": "7"
                                },
                                {
                                    "SZOBA_FK": "135",
                                    "FOGLALAS_PK": "724",
                                    "(No column name)": "6"
                                },
                                {
                                    "SZOBA_FK": "28",
                                    "FOGLALAS_PK": "725",
                                    "(No column name)": "5"
                                },
                                {
                                    "SZOBA_FK": "97",
                                    "FOGLALAS_PK": "726",
                                    "(No column name)": "4"
                                },
                                {
                                    "SZOBA_FK": "94",
                                    "FOGLALAS_PK": "727",
                                    "(No column name)": "3"
                                },
                                {
                                    "SZOBA_FK": "31",
                                    "FOGLALAS_PK": "728",
                                    "(No column name)": "4"
                                },
                                {
                                    "SZOBA_FK": "90",
                                    "FOGLALAS_PK": "729",
                                    "(No column name)": "2"
                                },
                                {
                                    "SZOBA_FK": "152",
                                    "FOGLALAS_PK": "730",
                                    "(No column name)": "2"
                                },
                                {
                                    "SZOBA_FK": "181",
                                    "FOGLALAS_PK": "731",
                                    "(No column name)": "6"
                                },
                                {
                                    "SZOBA_FK": "91",
                                    "FOGLALAS_PK": "732",
                                    "(No column name)": "4"
                                },
                                {
                                    "SZOBA_FK": "140",
                                    "FOGLALAS_PK": "733",
                                    "(No column name)": "1"
                                },
                                {
                                    "SZOBA_FK": "55",
                                    "FOGLALAS_PK": "734",
                                    "(No column name)": "6"
                                },
                                {
                                    "SZOBA_FK": "121",
                                    "FOGLALAS_PK": "735",
                                    "(No column name)": "6"
                                },
                                {
                                    "SZOBA_FK": "66",
                                    "FOGLALAS_PK": "736",
                                    "(No column name)": "3"
                                },
                                {
                                    "SZOBA_FK": "114",
                                    "FOGLALAS_PK": "737",
                                    "(No column name)": "2"
                                },
                                {
                                    "SZOBA_FK": "1",
                                    "FOGLALAS_PK": "738",
                                    "(No column name)": "7"
                                },
                                {
                                    "SZOBA_FK": "121",
                                    "FOGLALAS_PK": "739",
                                    "(No column name)": "6"
                                },
                                {
                                    "SZOBA_FK": "182",
                                    "FOGLALAS_PK": "740",
                                    "(No column name)": "3"
                                },
                                {
                                    "SZOBA_FK": "93",
                                    "FOGLALAS_PK": "741",
                                    "(No column name)": "7"
                                },
                                {
                                    "SZOBA_FK": "164",
                                    "FOGLALAS_PK": "742",
                                    "(No column name)": "6"
                                },
                                {
                                    "SZOBA_FK": "187",
                                    "FOGLALAS_PK": "743",
                                    "(No column name)": "2"
                                },
                                {
                                    "SZOBA_FK": "17",
                                    "FOGLALAS_PK": "744",
                                    "(No column name)": "1"
                                },
                                {
                                    "SZOBA_FK": "139",
                                    "FOGLALAS_PK": "745",
                                    "(No column name)": "1"
                                },
                                {
                                    "SZOBA_FK": "169",
                                    "FOGLALAS_PK": "746",
                                    "(No column name)": "7"
                                },
                                {
                                    "SZOBA_FK": "188",
                                    "FOGLALAS_PK": "747",
                                    "(No column name)": "3"
                                },
                                {
                                    "SZOBA_FK": "36",
                                    "FOGLALAS_PK": "748",
                                    "(No column name)": "2"
                                },
                                {
                                    "SZOBA_FK": "172",
                                    "FOGLALAS_PK": "749",
                                    "(No column name)": "6"
                                },
                                {
                                    "SZOBA_FK": "36",
                                    "FOGLALAS_PK": "750",
                                    "(No column name)": "6"
                                },
                                {
                                    "SZOBA_FK": "139",
                                    "FOGLALAS_PK": "751",
                                    "(No column name)": "4"
                                },
                                {
                                    "SZOBA_FK": "46",
                                    "FOGLALAS_PK": "752",
                                    "(No column name)": "5"
                                },
                                {
                                    "SZOBA_FK": "189",
                                    "FOGLALAS_PK": "753",
                                    "(No column name)": "1"
                                },
                                {
                                    "SZOBA_FK": "126",
                                    "FOGLALAS_PK": "754",
                                    "(No column name)": "4"
                                },
                                {
                                    "SZOBA_FK": "20",
                                    "FOGLALAS_PK": "755",
                                    "(No column name)": "6"
                                },
                                {
                                    "SZOBA_FK": "61",
                                    "FOGLALAS_PK": "756",
                                    "(No column name)": "6"
                                },
                                {
                                    "SZOBA_FK": "88",
                                    "FOGLALAS_PK": "757",
                                    "(No column name)": "7"
                                },
                                {
                                    "SZOBA_FK": "27",
                                    "FOGLALAS_PK": "758",
                                    "(No column name)": "3"
                                },
                                {
                                    "SZOBA_FK": "7",
                                    "FOGLALAS_PK": "759",
                                    "(No column name)": "7"
                                },
                                {
                                    "SZOBA_FK": "131",
                                    "FOGLALAS_PK": "760",
                                    "(No column name)": "4"
                                },
                                {
                                    "SZOBA_FK": "141",
                                    "FOGLALAS_PK": "761",
                                    "(No column name)": "3"
                                },
                                {
                                    "SZOBA_FK": "120",
                                    "FOGLALAS_PK": "762",
                                    "(No column name)": "3"
                                },
                                {
                                    "SZOBA_FK": "13",
                                    "FOGLALAS_PK": "763",
                                    "(No column name)": "4"
                                },
                                {
                                    "SZOBA_FK": "197",
                                    "FOGLALAS_PK": "764",
                                    "(No column name)": "7"
                                },
                                {
                                    "SZOBA_FK": "148",
                                    "FOGLALAS_PK": "765",
                                    "(No column name)": "3"
                                },
                                {
                                    "SZOBA_FK": "187",
                                    "FOGLALAS_PK": "766",
                                    "(No column name)": "1"
                                },
                                {
                                    "SZOBA_FK": "18",
                                    "FOGLALAS_PK": "767",
                                    "(No column name)": "3"
                                },
                                {
                                    "SZOBA_FK": "138",
                                    "FOGLALAS_PK": "768",
                                    "(No column name)": "6"
                                },
                                {
                                    "SZOBA_FK": "63",
                                    "FOGLALAS_PK": "769",
                                    "(No column name)": "5"
                                },
                                {
                                    "SZOBA_FK": "42",
                                    "FOGLALAS_PK": "770",
                                    "(No column name)": "3"
                                },
                                {
                                    "SZOBA_FK": "147",
                                    "FOGLALAS_PK": "771",
                                    "(No column name)": "4"
                                },
                                {
                                    "SZOBA_FK": "6",
                                    "FOGLALAS_PK": "772",
                                    "(No column name)": "6"
                                },
                                {
                                    "SZOBA_FK": "58",
                                    "FOGLALAS_PK": "773",
                                    "(No column name)": "2"
                                },
                                {
                                    "SZOBA_FK": "190",
                                    "FOGLALAS_PK": "774",
                                    "(No column name)": "5"
                                },
                                {
                                    "SZOBA_FK": "12",
                                    "FOGLALAS_PK": "775",
                                    "(No column name)": "4"
                                },
                                {
                                    "SZOBA_FK": "112",
                                    "FOGLALAS_PK": "776",
                                    "(No column name)": "4"
                                },
                                {
                                    "SZOBA_FK": "34",
                                    "FOGLALAS_PK": "777",
                                    "(No column name)": "3"
                                },
                                {
                                    "SZOBA_FK": "19",
                                    "FOGLALAS_PK": "778",
                                    "(No column name)": "1"
                                },
                                {
                                    "SZOBA_FK": "130",
                                    "FOGLALAS_PK": "779",
                                    "(No column name)": "6"
                                },
                                {
                                    "SZOBA_FK": "96",
                                    "FOGLALAS_PK": "780",
                                    "(No column name)": "1"
                                },
                                {
                                    "SZOBA_FK": "166",
                                    "FOGLALAS_PK": "781",
                                    "(No column name)": "7"
                                },
                                {
                                    "SZOBA_FK": "163",
                                    "FOGLALAS_PK": "782",
                                    "(No column name)": "3"
                                },
                                {
                                    "SZOBA_FK": "148",
                                    "FOGLALAS_PK": "783",
                                    "(No column name)": "7"
                                },
                                {
                                    "SZOBA_FK": "141",
                                    "FOGLALAS_PK": "784",
                                    "(No column name)": "7"
                                },
                                {
                                    "SZOBA_FK": "177",
                                    "FOGLALAS_PK": "785",
                                    "(No column name)": "3"
                                },
                                {
                                    "SZOBA_FK": "111",
                                    "FOGLALAS_PK": "786",
                                    "(No column name)": "4"
                                },
                                {
                                    "SZOBA_FK": "50",
                                    "FOGLALAS_PK": "787",
                                    "(No column name)": "3"
                                },
                                {
                                    "SZOBA_FK": "3",
                                    "FOGLALAS_PK": "788",
                                    "(No column name)": "6"
                                },
                                {
                                    "SZOBA_FK": "146",
                                    "FOGLALAS_PK": "789",
                                    "(No column name)": "7"
                                },
                                {
                                    "SZOBA_FK": "10",
                                    "FOGLALAS_PK": "790",
                                    "(No column name)": "5"
                                },
                                {
                                    "SZOBA_FK": "15",
                                    "FOGLALAS_PK": "791",
                                    "(No column name)": "5"
                                },
                                {
                                    "SZOBA_FK": "168",
                                    "FOGLALAS_PK": "792",
                                    "(No column name)": "3"
                                },
                                {
                                    "SZOBA_FK": "49",
                                    "FOGLALAS_PK": "793",
                                    "(No column name)": "6"
                                },
                                {
                                    "SZOBA_FK": "168",
                                    "FOGLALAS_PK": "794",
                                    "(No column name)": "4"
                                },
                                {
                                    "SZOBA_FK": "10",
                                    "FOGLALAS_PK": "795",
                                    "(No column name)": "4"
                                },
                                {
                                    "SZOBA_FK": "138",
                                    "FOGLALAS_PK": "796",
                                    "(No column name)": "4"
                                },
                                {
                                    "SZOBA_FK": "74",
                                    "FOGLALAS_PK": "797",
                                    "(No column name)": "5"
                                },
                                {
                                    "SZOBA_FK": "83",
                                    "FOGLALAS_PK": "798",
                                    "(No column name)": "4"
                                },
                                {
                                    "SZOBA_FK": "175",
                                    "FOGLALAS_PK": "799",
                                    "(No column name)": "4"
                                },
                                {
                                    "SZOBA_FK": "45",
                                    "FOGLALAS_PK": "800",
                                    "(No column name)": "5"
                                },
                                {
                                    "SZOBA_FK": "112",
                                    "FOGLALAS_PK": "801",
                                    "(No column name)": "5"
                                },
                                {
                                    "SZOBA_FK": "45",
                                    "FOGLALAS_PK": "802",
                                    "(No column name)": "7"
                                },
                                {
                                    "SZOBA_FK": "1",
                                    "FOGLALAS_PK": "803",
                                    "(No column name)": "4"
                                },
                                {
                                    "SZOBA_FK": "146",
                                    "FOGLALAS_PK": "804",
                                    "(No column name)": "7"
                                },
                                {
                                    "SZOBA_FK": "21",
                                    "FOGLALAS_PK": "805",
                                    "(No column name)": "1"
                                },
                                {
                                    "SZOBA_FK": "126",
                                    "FOGLALAS_PK": "806",
                                    "(No column name)": "6"
                                },
                                {
                                    "SZOBA_FK": "27",
                                    "FOGLALAS_PK": "807",
                                    "(No column name)": "2"
                                },
                                {
                                    "SZOBA_FK": "148",
                                    "FOGLALAS_PK": "808",
                                    "(No column name)": "2"
                                },
                                {
                                    "SZOBA_FK": "92",
                                    "FOGLALAS_PK": "809",
                                    "(No column name)": "3"
                                },
                                {
                                    "SZOBA_FK": "109",
                                    "FOGLALAS_PK": "810",
                                    "(No column name)": "2"
                                },
                                {
                                    "SZOBA_FK": "51",
                                    "FOGLALAS_PK": "811",
                                    "(No column name)": "2"
                                },
                                {
                                    "SZOBA_FK": "148",
                                    "FOGLALAS_PK": "812",
                                    "(No column name)": "6"
                                },
                                {
                                    "SZOBA_FK": "14",
                                    "FOGLALAS_PK": "813",
                                    "(No column name)": "3"
                                },
                                {
                                    "SZOBA_FK": "70",
                                    "FOGLALAS_PK": "814",
                                    "(No column name)": "3"
                                },
                                {
                                    "SZOBA_FK": "128",
                                    "FOGLALAS_PK": "815",
                                    "(No column name)": "1"
                                },
                                {
                                    "SZOBA_FK": "178",
                                    "FOGLALAS_PK": "816",
                                    "(No column name)": "4"
                                },
                                {
                                    "SZOBA_FK": "89",
                                    "FOGLALAS_PK": "817",
                                    "(No column name)": "3"
                                },
                                {
                                    "SZOBA_FK": "8",
                                    "FOGLALAS_PK": "818",
                                    "(No column name)": "4"
                                },
                                {
                                    "SZOBA_FK": "84",
                                    "FOGLALAS_PK": "819",
                                    "(No column name)": "2"
                                },
                                {
                                    "SZOBA_FK": "20",
                                    "FOGLALAS_PK": "820",
                                    "(No column name)": "1"
                                },
                                {
                                    "SZOBA_FK": "34",
                                    "FOGLALAS_PK": "821",
                                    "(No column name)": "1"
                                },
                                {
                                    "SZOBA_FK": "52",
                                    "FOGLALAS_PK": "822",
                                    "(No column name)": "7"
                                },
                                {
                                    "SZOBA_FK": "44",
                                    "FOGLALAS_PK": "823",
                                    "(No column name)": "2"
                                },
                                {
                                    "SZOBA_FK": "48",
                                    "FOGLALAS_PK": "824",
                                    "(No column name)": "2"
                                },
                                {
                                    "SZOBA_FK": "158",
                                    "FOGLALAS_PK": "825",
                                    "(No column name)": "4"
                                },
                                {
                                    "SZOBA_FK": "49",
                                    "FOGLALAS_PK": "826",
                                    "(No column name)": "4"
                                },
                                {
                                    "SZOBA_FK": "114",
                                    "FOGLALAS_PK": "827",
                                    "(No column name)": "7"
                                },
                                {
                                    "SZOBA_FK": "2",
                                    "FOGLALAS_PK": "828",
                                    "(No column name)": "3"
                                },
                                {
                                    "SZOBA_FK": "35",
                                    "FOGLALAS_PK": "829",
                                    "(No column name)": "2"
                                },
                                {
                                    "SZOBA_FK": "74",
                                    "FOGLALAS_PK": "830",
                                    "(No column name)": "1"
                                },
                                {
                                    "SZOBA_FK": "177",
                                    "FOGLALAS_PK": "831",
                                    "(No column name)": "7"
                                },
                                {
                                    "SZOBA_FK": "8",
                                    "FOGLALAS_PK": "832",
                                    "(No column name)": "4"
                                },
                                {
                                    "SZOBA_FK": "149",
                                    "FOGLALAS_PK": "833",
                                    "(No column name)": "2"
                                },
                                {
                                    "SZOBA_FK": "149",
                                    "FOGLALAS_PK": "834",
                                    "(No column name)": "5"
                                },
                                {
                                    "SZOBA_FK": "193",
                                    "FOGLALAS_PK": "835",
                                    "(No column name)": "2"
                                },
                                {
                                    "SZOBA_FK": "97",
                                    "FOGLALAS_PK": "836",
                                    "(No column name)": "2"
                                },
                                {
                                    "SZOBA_FK": "104",
                                    "FOGLALAS_PK": "837",
                                    "(No column name)": "4"
                                },
                                {
                                    "SZOBA_FK": "56",
                                    "FOGLALAS_PK": "838",
                                    "(No column name)": "2"
                                },
                                {
                                    "SZOBA_FK": "172",
                                    "FOGLALAS_PK": "839",
                                    "(No column name)": "5"
                                },
                                {
                                    "SZOBA_FK": "158",
                                    "FOGLALAS_PK": "840",
                                    "(No column name)": "4"
                                },
                                {
                                    "SZOBA_FK": "92",
                                    "FOGLALAS_PK": "841",
                                    "(No column name)": "6"
                                },
                                {
                                    "SZOBA_FK": "195",
                                    "FOGLALAS_PK": "842",
                                    "(No column name)": "4"
                                },
                                {
                                    "SZOBA_FK": "149",
                                    "FOGLALAS_PK": "843",
                                    "(No column name)": "4"
                                },
                                {
                                    "SZOBA_FK": "87",
                                    "FOGLALAS_PK": "844",
                                    "(No column name)": "1"
                                },
                                {
                                    "SZOBA_FK": "63",
                                    "FOGLALAS_PK": "845",
                                    "(No column name)": "1"
                                },
                                {
                                    "SZOBA_FK": "45",
                                    "FOGLALAS_PK": "846",
                                    "(No column name)": "3"
                                },
                                {
                                    "SZOBA_FK": "74",
                                    "FOGLALAS_PK": "847",
                                    "(No column name)": "3"
                                },
                                {
                                    "SZOBA_FK": "23",
                                    "FOGLALAS_PK": "848",
                                    "(No column name)": "1"
                                },
                                {
                                    "SZOBA_FK": "135",
                                    "FOGLALAS_PK": "849",
                                    "(No column name)": "7"
                                },
                                {
                                    "SZOBA_FK": "6",
                                    "FOGLALAS_PK": "850",
                                    "(No column name)": "2"
                                },
                                {
                                    "SZOBA_FK": "42",
                                    "FOGLALAS_PK": "851",
                                    "(No column name)": "7"
                                },
                                {
                                    "SZOBA_FK": "24",
                                    "FOGLALAS_PK": "852",
                                    "(No column name)": "2"
                                },
                                {
                                    "SZOBA_FK": "127",
                                    "FOGLALAS_PK": "853",
                                    "(No column name)": "5"
                                },
                                {
                                    "SZOBA_FK": "167",
                                    "FOGLALAS_PK": "854",
                                    "(No column name)": "7"
                                },
                                {
                                    "SZOBA_FK": "53",
                                    "FOGLALAS_PK": "855",
                                    "(No column name)": "1"
                                },
                                {
                                    "SZOBA_FK": "16",
                                    "FOGLALAS_PK": "856",
                                    "(No column name)": "6"
                                },
                                {
                                    "SZOBA_FK": "165",
                                    "FOGLALAS_PK": "857",
                                    "(No column name)": "5"
                                },
                                {
                                    "SZOBA_FK": "121",
                                    "FOGLALAS_PK": "858",
                                    "(No column name)": "5"
                                },
                                {
                                    "SZOBA_FK": "86",
                                    "FOGLALAS_PK": "859",
                                    "(No column name)": "1"
                                },
                                {
                                    "SZOBA_FK": "70",
                                    "FOGLALAS_PK": "860",
                                    "(No column name)": "2"
                                },
                                {
                                    "SZOBA_FK": "124",
                                    "FOGLALAS_PK": "861",
                                    "(No column name)": "1"
                                },
                                {
                                    "SZOBA_FK": "82",
                                    "FOGLALAS_PK": "862",
                                    "(No column name)": "4"
                                },
                                {
                                    "SZOBA_FK": "185",
                                    "FOGLALAS_PK": "863",
                                    "(No column name)": "4"
                                },
                                {
                                    "SZOBA_FK": "118",
                                    "FOGLALAS_PK": "864",
                                    "(No column name)": "6"
                                },
                                {
                                    "SZOBA_FK": "51",
                                    "FOGLALAS_PK": "865",
                                    "(No column name)": "7"
                                },
                                {
                                    "SZOBA_FK": "88",
                                    "FOGLALAS_PK": "866",
                                    "(No column name)": "2"
                                },
                                {
                                    "SZOBA_FK": "175",
                                    "FOGLALAS_PK": "867",
                                    "(No column name)": "6"
                                },
                                {
                                    "SZOBA_FK": "187",
                                    "FOGLALAS_PK": "868",
                                    "(No column name)": "4"
                                },
                                {
                                    "SZOBA_FK": "83",
                                    "FOGLALAS_PK": "869",
                                    "(No column name)": "6"
                                },
                                {
                                    "SZOBA_FK": "34",
                                    "FOGLALAS_PK": "870",
                                    "(No column name)": "6"
                                },
                                {
                                    "SZOBA_FK": "82",
                                    "FOGLALAS_PK": "871",
                                    "(No column name)": "5"
                                },
                                {
                                    "SZOBA_FK": "28",
                                    "FOGLALAS_PK": "872",
                                    "(No column name)": "5"
                                },
                                {
                                    "SZOBA_FK": "6",
                                    "FOGLALAS_PK": "873",
                                    "(No column name)": "3"
                                },
                                {
                                    "SZOBA_FK": "67",
                                    "FOGLALAS_PK": "874",
                                    "(No column name)": "6"
                                },
                                {
                                    "SZOBA_FK": "64",
                                    "FOGLALAS_PK": "875",
                                    "(No column name)": "2"
                                },
                                {
                                    "SZOBA_FK": "12",
                                    "FOGLALAS_PK": "876",
                                    "(No column name)": "7"
                                },
                                {
                                    "SZOBA_FK": "74",
                                    "FOGLALAS_PK": "877",
                                    "(No column name)": "4"
                                },
                                {
                                    "SZOBA_FK": "83",
                                    "FOGLALAS_PK": "878",
                                    "(No column name)": "6"
                                },
                                {
                                    "SZOBA_FK": "127",
                                    "FOGLALAS_PK": "879",
                                    "(No column name)": "2"
                                },
                                {
                                    "SZOBA_FK": "184",
                                    "FOGLALAS_PK": "880",
                                    "(No column name)": "4"
                                },
                                {
                                    "SZOBA_FK": "131",
                                    "FOGLALAS_PK": "881",
                                    "(No column name)": "6"
                                },
                                {
                                    "SZOBA_FK": "8",
                                    "FOGLALAS_PK": "882",
                                    "(No column name)": "1"
                                },
                                {
                                    "SZOBA_FK": "58",
                                    "FOGLALAS_PK": "883",
                                    "(No column name)": "5"
                                },
                                {
                                    "SZOBA_FK": "98",
                                    "FOGLALAS_PK": "884",
                                    "(No column name)": "5"
                                },
                                {
                                    "SZOBA_FK": "69",
                                    "FOGLALAS_PK": "885",
                                    "(No column name)": "1"
                                },
                                {
                                    "SZOBA_FK": "28",
                                    "FOGLALAS_PK": "886",
                                    "(No column name)": "4"
                                },
                                {
                                    "SZOBA_FK": "80",
                                    "FOGLALAS_PK": "887",
                                    "(No column name)": "6"
                                },
                                {
                                    "SZOBA_FK": "49",
                                    "FOGLALAS_PK": "888",
                                    "(No column name)": "7"
                                },
                                {
                                    "SZOBA_FK": "54",
                                    "FOGLALAS_PK": "889",
                                    "(No column name)": "2"
                                },
                                {
                                    "SZOBA_FK": "146",
                                    "FOGLALAS_PK": "890",
                                    "(No column name)": "3"
                                },
                                {
                                    "SZOBA_FK": "63",
                                    "FOGLALAS_PK": "891",
                                    "(No column name)": "6"
                                },
                                {
                                    "SZOBA_FK": "165",
                                    "FOGLALAS_PK": "892",
                                    "(No column name)": "3"
                                },
                                {
                                    "SZOBA_FK": "151",
                                    "FOGLALAS_PK": "893",
                                    "(No column name)": "3"
                                },
                                {
                                    "SZOBA_FK": "29",
                                    "FOGLALAS_PK": "894",
                                    "(No column name)": "1"
                                },
                                {
                                    "SZOBA_FK": "36",
                                    "FOGLALAS_PK": "895",
                                    "(No column name)": "5"
                                },
                                {
                                    "SZOBA_FK": "16",
                                    "FOGLALAS_PK": "896",
                                    "(No column name)": "1"
                                },
                                {
                                    "SZOBA_FK": "165",
                                    "FOGLALAS_PK": "897",
                                    "(No column name)": "6"
                                },
                                {
                                    "SZOBA_FK": "185",
                                    "FOGLALAS_PK": "898",
                                    "(No column name)": "4"
                                },
                                {
                                    "SZOBA_FK": "39",
                                    "FOGLALAS_PK": "899",
                                    "(No column name)": "6"
                                },
                                {
                                    "SZOBA_FK": "165",
                                    "FOGLALAS_PK": "900",
                                    "(No column name)": "6"
                                },
                                {
                                    "SZOBA_FK": "28",
                                    "FOGLALAS_PK": "901",
                                    "(No column name)": "4"
                                },
                                {
                                    "SZOBA_FK": "72",
                                    "FOGLALAS_PK": "902",
                                    "(No column name)": "5"
                                },
                                {
                                    "SZOBA_FK": "192",
                                    "FOGLALAS_PK": "903",
                                    "(No column name)": "7"
                                },
                                {
                                    "SZOBA_FK": "34",
                                    "FOGLALAS_PK": "904",
                                    "(No column name)": "2"
                                },
                                {
                                    "SZOBA_FK": "180",
                                    "FOGLALAS_PK": "905",
                                    "(No column name)": "5"
                                },
                                {
                                    "SZOBA_FK": "22",
                                    "FOGLALAS_PK": "906",
                                    "(No column name)": "1"
                                },
                                {
                                    "SZOBA_FK": "156",
                                    "FOGLALAS_PK": "907",
                                    "(No column name)": "3"
                                },
                                {
                                    "SZOBA_FK": "141",
                                    "FOGLALAS_PK": "908",
                                    "(No column name)": "2"
                                },
                                {
                                    "SZOBA_FK": "133",
                                    "FOGLALAS_PK": "909",
                                    "(No column name)": "4"
                                },
                                {
                                    "SZOBA_FK": "130",
                                    "FOGLALAS_PK": "910",
                                    "(No column name)": "2"
                                },
                                {
                                    "SZOBA_FK": "161",
                                    "FOGLALAS_PK": "911",
                                    "(No column name)": "4"
                                },
                                {
                                    "SZOBA_FK": "188",
                                    "FOGLALAS_PK": "912",
                                    "(No column name)": "1"
                                },
                                {
                                    "SZOBA_FK": "173",
                                    "FOGLALAS_PK": "913",
                                    "(No column name)": "1"
                                },
                                {
                                    "SZOBA_FK": "48",
                                    "FOGLALAS_PK": "914",
                                    "(No column name)": "5"
                                },
                                {
                                    "SZOBA_FK": "140",
                                    "FOGLALAS_PK": "915",
                                    "(No column name)": "2"
                                },
                                {
                                    "SZOBA_FK": "17",
                                    "FOGLALAS_PK": "916",
                                    "(No column name)": "2"
                                },
                                {
                                    "SZOBA_FK": "174",
                                    "FOGLALAS_PK": "917",
                                    "(No column name)": "2"
                                },
                                {
                                    "SZOBA_FK": "11",
                                    "FOGLALAS_PK": "918",
                                    "(No column name)": "6"
                                },
                                {
                                    "SZOBA_FK": "36",
                                    "FOGLALAS_PK": "919",
                                    "(No column name)": "1"
                                },
                                {
                                    "SZOBA_FK": "32",
                                    "FOGLALAS_PK": "920",
                                    "(No column name)": "4"
                                },
                                {
                                    "SZOBA_FK": "112",
                                    "FOGLALAS_PK": "921",
                                    "(No column name)": "1"
                                },
                                {
                                    "SZOBA_FK": "160",
                                    "FOGLALAS_PK": "922",
                                    "(No column name)": "2"
                                },
                                {
                                    "SZOBA_FK": "123",
                                    "FOGLALAS_PK": "923",
                                    "(No column name)": "4"
                                },
                                {
                                    "SZOBA_FK": "40",
                                    "FOGLALAS_PK": "924",
                                    "(No column name)": "5"
                                },
                                {
                                    "SZOBA_FK": "185",
                                    "FOGLALAS_PK": "925",
                                    "(No column name)": "6"
                                },
                                {
                                    "SZOBA_FK": "193",
                                    "FOGLALAS_PK": "926",
                                    "(No column name)": "1"
                                },
                                {
                                    "SZOBA_FK": "160",
                                    "FOGLALAS_PK": "927",
                                    "(No column name)": "4"
                                },
                                {
                                    "SZOBA_FK": "182",
                                    "FOGLALAS_PK": "928",
                                    "(No column name)": "2"
                                },
                                {
                                    "SZOBA_FK": "80",
                                    "FOGLALAS_PK": "929",
                                    "(No column name)": "2"
                                },
                                {
                                    "SZOBA_FK": "168",
                                    "FOGLALAS_PK": "930",
                                    "(No column name)": "3"
                                },
                                {
                                    "SZOBA_FK": "110",
                                    "FOGLALAS_PK": "931",
                                    "(No column name)": "5"
                                },
                                {
                                    "SZOBA_FK": "40",
                                    "FOGLALAS_PK": "932",
                                    "(No column name)": "6"
                                },
                                {
                                    "SZOBA_FK": "160",
                                    "FOGLALAS_PK": "933",
                                    "(No column name)": "4"
                                },
                                {
                                    "SZOBA_FK": "23",
                                    "FOGLALAS_PK": "934",
                                    "(No column name)": "1"
                                },
                                {
                                    "SZOBA_FK": "56",
                                    "FOGLALAS_PK": "935",
                                    "(No column name)": "4"
                                },
                                {
                                    "SZOBA_FK": "62",
                                    "FOGLALAS_PK": "936",
                                    "(No column name)": "3"
                                },
                                {
                                    "SZOBA_FK": "181",
                                    "FOGLALAS_PK": "937",
                                    "(No column name)": "3"
                                },
                                {
                                    "SZOBA_FK": "62",
                                    "FOGLALAS_PK": "938",
                                    "(No column name)": "1"
                                },
                                {
                                    "SZOBA_FK": "183",
                                    "FOGLALAS_PK": "939",
                                    "(No column name)": "4"
                                },
                                {
                                    "SZOBA_FK": "74",
                                    "FOGLALAS_PK": "940",
                                    "(No column name)": "5"
                                },
                                {
                                    "SZOBA_FK": "163",
                                    "FOGLALAS_PK": "941",
                                    "(No column name)": "1"
                                },
                                {
                                    "SZOBA_FK": "92",
                                    "FOGLALAS_PK": "942",
                                    "(No column name)": "6"
                                },
                                {
                                    "SZOBA_FK": "115",
                                    "FOGLALAS_PK": "943",
                                    "(No column name)": "7"
                                },
                                {
                                    "SZOBA_FK": "170",
                                    "FOGLALAS_PK": "944",
                                    "(No column name)": "4"
                                },
                                {
                                    "SZOBA_FK": "23",
                                    "FOGLALAS_PK": "945",
                                    "(No column name)": "7"
                                },
                                {
                                    "SZOBA_FK": "4",
                                    "FOGLALAS_PK": "946",
                                    "(No column name)": "5"
                                },
                                {
                                    "SZOBA_FK": "8",
                                    "FOGLALAS_PK": "947",
                                    "(No column name)": "3"
                                },
                                {
                                    "SZOBA_FK": "19",
                                    "FOGLALAS_PK": "948",
                                    "(No column name)": "2"
                                },
                                {
                                    "SZOBA_FK": "1",
                                    "FOGLALAS_PK": "949",
                                    "(No column name)": "1"
                                },
                                {
                                    "SZOBA_FK": "66",
                                    "FOGLALAS_PK": "950",
                                    "(No column name)": "3"
                                },
                                {
                                    "SZOBA_FK": "12",
                                    "FOGLALAS_PK": "951",
                                    "(No column name)": "3"
                                },
                                {
                                    "SZOBA_FK": "196",
                                    "FOGLALAS_PK": "952",
                                    "(No column name)": "3"
                                },
                                {
                                    "SZOBA_FK": "117",
                                    "FOGLALAS_PK": "953",
                                    "(No column name)": "5"
                                },
                                {
                                    "SZOBA_FK": "84",
                                    "FOGLALAS_PK": "954",
                                    "(No column name)": "5"
                                },
                                {
                                    "SZOBA_FK": "47",
                                    "FOGLALAS_PK": "955",
                                    "(No column name)": "1"
                                },
                                {
                                    "SZOBA_FK": "156",
                                    "FOGLALAS_PK": "956",
                                    "(No column name)": "6"
                                },
                                {
                                    "SZOBA_FK": "187",
                                    "FOGLALAS_PK": "957",
                                    "(No column name)": "4"
                                },
                                {
                                    "SZOBA_FK": "181",
                                    "FOGLALAS_PK": "958",
                                    "(No column name)": "5"
                                },
                                {
                                    "SZOBA_FK": "111",
                                    "FOGLALAS_PK": "959",
                                    "(No column name)": "7"
                                },
                                {
                                    "SZOBA_FK": "41",
                                    "FOGLALAS_PK": "960",
                                    "(No column name)": "6"
                                },
                                {
                                    "SZOBA_FK": "72",
                                    "FOGLALAS_PK": "961",
                                    "(No column name)": "6"
                                },
                                {
                                    "SZOBA_FK": "117",
                                    "FOGLALAS_PK": "962",
                                    "(No column name)": "4"
                                },
                                {
                                    "SZOBA_FK": "74",
                                    "FOGLALAS_PK": "963",
                                    "(No column name)": "1"
                                },
                                {
                                    "SZOBA_FK": "110",
                                    "FOGLALAS_PK": "964",
                                    "(No column name)": "6"
                                },
                                {
                                    "SZOBA_FK": "5",
                                    "FOGLALAS_PK": "965",
                                    "(No column name)": "7"
                                },
                                {
                                    "SZOBA_FK": "114",
                                    "FOGLALAS_PK": "966",
                                    "(No column name)": "6"
                                },
                                {
                                    "SZOBA_FK": "123",
                                    "FOGLALAS_PK": "967",
                                    "(No column name)": "5"
                                },
                                {
                                    "SZOBA_FK": "154",
                                    "FOGLALAS_PK": "968",
                                    "(No column name)": "1"
                                },
                                {
                                    "SZOBA_FK": "153",
                                    "FOGLALAS_PK": "969",
                                    "(No column name)": "6"
                                },
                                {
                                    "SZOBA_FK": "12",
                                    "FOGLALAS_PK": "970",
                                    "(No column name)": "2"
                                },
                                {
                                    "SZOBA_FK": "35",
                                    "FOGLALAS_PK": "971",
                                    "(No column name)": "3"
                                },
                                {
                                    "SZOBA_FK": "103",
                                    "FOGLALAS_PK": "972",
                                    "(No column name)": "2"
                                },
                                {
                                    "SZOBA_FK": "16",
                                    "FOGLALAS_PK": "973",
                                    "(No column name)": "1"
                                },
                                {
                                    "SZOBA_FK": "169",
                                    "FOGLALAS_PK": "974",
                                    "(No column name)": "1"
                                },
                                {
                                    "SZOBA_FK": "94",
                                    "FOGLALAS_PK": "975",
                                    "(No column name)": "5"
                                },
                                {
                                    "SZOBA_FK": "76",
                                    "FOGLALAS_PK": "976",
                                    "(No column name)": "2"
                                },
                                {
                                    "SZOBA_FK": "193",
                                    "FOGLALAS_PK": "977",
                                    "(No column name)": "2"
                                },
                                {
                                    "SZOBA_FK": "198",
                                    "FOGLALAS_PK": "978",
                                    "(No column name)": "1"
                                },
                                {
                                    "SZOBA_FK": "35",
                                    "FOGLALAS_PK": "979",
                                    "(No column name)": "7"
                                },
                                {
                                    "SZOBA_FK": "143",
                                    "FOGLALAS_PK": "980",
                                    "(No column name)": "3"
                                },
                                {
                                    "SZOBA_FK": "171",
                                    "FOGLALAS_PK": "981",
                                    "(No column name)": "4"
                                },
                                {
                                    "SZOBA_FK": "77",
                                    "FOGLALAS_PK": "982",
                                    "(No column name)": "3"
                                },
                                {
                                    "SZOBA_FK": "80",
                                    "FOGLALAS_PK": "983",
                                    "(No column name)": "6"
                                },
                                {
                                    "SZOBA_FK": "172",
                                    "FOGLALAS_PK": "984",
                                    "(No column name)": "4"
                                },
                                {
                                    "SZOBA_FK": "36",
                                    "FOGLALAS_PK": "985",
                                    "(No column name)": "6"
                                },
                                {
                                    "SZOBA_FK": "48",
                                    "FOGLALAS_PK": "986",
                                    "(No column name)": "5"
                                },
                                {
                                    "SZOBA_FK": "53",
                                    "FOGLALAS_PK": "987",
                                    "(No column name)": "4"
                                },
                                {
                                    "SZOBA_FK": "133",
                                    "FOGLALAS_PK": "988",
                                    "(No column name)": "3"
                                },
                                {
                                    "SZOBA_FK": "190",
                                    "FOGLALAS_PK": "989",
                                    "(No column name)": "1"
                                },
                                {
                                    "SZOBA_FK": "6",
                                    "FOGLALAS_PK": "990",
                                    "(No column name)": "4"
                                },
                                {
                                    "SZOBA_FK": "178",
                                    "FOGLALAS_PK": "991",
                                    "(No column name)": "7"
                                },
                                {
                                    "SZOBA_FK": "103",
                                    "FOGLALAS_PK": "992",
                                    "(No column name)": "7"
                                },
                                {
                                    "SZOBA_FK": "197",
                                    "FOGLALAS_PK": "993",
                                    "(No column name)": "7"
                                },
                                {
                                    "SZOBA_FK": "118",
                                    "FOGLALAS_PK": "994",
                                    "(No column name)": "7"
                                },
                                {
                                    "SZOBA_FK": "83",
                                    "FOGLALAS_PK": "995",
                                    "(No column name)": "5"
                                },
                                {
                                    "SZOBA_FK": "118",
                                    "FOGLALAS_PK": "996",
                                    "(No column name)": "3"
                                },
                                {
                                    "SZOBA_FK": "82",
                                    "FOGLALAS_PK": "997",
                                    "(No column name)": "6"
                                },
                                {
                                    "SZOBA_FK": "120",
                                    "FOGLALAS_PK": "998",
                                    "(No column name)": "3"
                                },
                                {
                                    "SZOBA_FK": "132",
                                    "FOGLALAS_PK": "999",
                                    "(No column name)": "6"
                                },
                                {
                                    "SZOBA_FK": "73",
                                    "FOGLALAS_PK": "1000",
                                    "(No column name)": "4"
                                },
                                {
                                    "SZOBA_FK": "4",
                                    "FOGLALAS_PK": "1001",
                                    "(No column name)": "7"
                                },
                                {
                                    "SZOBA_FK": "117",
                                    "FOGLALAS_PK": "1002",
                                    "(No column name)": "1"
                                },
                                {
                                    "SZOBA_FK": "36",
                                    "FOGLALAS_PK": "1003",
                                    "(No column name)": "4"
                                },
                                {
                                    "SZOBA_FK": "134",
                                    "FOGLALAS_PK": "1004",
                                    "(No column name)": "5"
                                },
                                {
                                    "SZOBA_FK": "22",
                                    "FOGLALAS_PK": "1005",
                                    "(No column name)": "3"
                                },
                                {
                                    "SZOBA_FK": "70",
                                    "FOGLALAS_PK": "1006",
                                    "(No column name)": "3"
                                },
                                {
                                    "SZOBA_FK": "122",
                                    "FOGLALAS_PK": "1007",
                                    "(No column name)": "2"
                                },
                                {
                                    "SZOBA_FK": "182",
                                    "FOGLALAS_PK": "1008",
                                    "(No column name)": "6"
                                },
                                {
                                    "SZOBA_FK": "71",
                                    "FOGLALAS_PK": "1009",
                                    "(No column name)": "1"
                                },
                                {
                                    "SZOBA_FK": "164",
                                    "FOGLALAS_PK": "1010",
                                    "(No column name)": "2"
                                },
                                {
                                    "SZOBA_FK": "198",
                                    "FOGLALAS_PK": "1011",
                                    "(No column name)": "7"
                                },
                                {
                                    "SZOBA_FK": "33",
                                    "FOGLALAS_PK": "1012",
                                    "(No column name)": "7"
                                },
                                {
                                    "SZOBA_FK": "75",
                                    "FOGLALAS_PK": "1013",
                                    "(No column name)": "5"
                                },
                                {
                                    "SZOBA_FK": "137",
                                    "FOGLALAS_PK": "1014",
                                    "(No column name)": "1"
                                },
                                {
                                    "SZOBA_FK": "174",
                                    "FOGLALAS_PK": "1015",
                                    "(No column name)": "5"
                                },
                                {
                                    "SZOBA_FK": "92",
                                    "FOGLALAS_PK": "1016",
                                    "(No column name)": "2"
                                },
                                {
                                    "SZOBA_FK": "190",
                                    "FOGLALAS_PK": "1017",
                                    "(No column name)": "1"
                                },
                                {
                                    "SZOBA_FK": "40",
                                    "FOGLALAS_PK": "1018",
                                    "(No column name)": "5"
                                },
                                {
                                    "SZOBA_FK": "43",
                                    "FOGLALAS_PK": "1019",
                                    "(No column name)": "4"
                                },
                                {
                                    "SZOBA_FK": "12",
                                    "FOGLALAS_PK": "1020",
                                    "(No column name)": "5"
                                },
                                {
                                    "SZOBA_FK": "179",
                                    "FOGLALAS_PK": "1021",
                                    "(No column name)": "1"
                                },
                                {
                                    "SZOBA_FK": "181",
                                    "FOGLALAS_PK": "1022",
                                    "(No column name)": "1"
                                },
                                {
                                    "SZOBA_FK": "30",
                                    "FOGLALAS_PK": "1023",
                                    "(No column name)": "7"
                                },
                                {
                                    "SZOBA_FK": "134",
                                    "FOGLALAS_PK": "1024",
                                    "(No column name)": "1"
                                },
                                {
                                    "SZOBA_FK": "157",
                                    "FOGLALAS_PK": "1025",
                                    "(No column name)": "3"
                                },
                                {
                                    "SZOBA_FK": "119",
                                    "FOGLALAS_PK": "1026",
                                    "(No column name)": "3"
                                },
                                {
                                    "SZOBA_FK": "68",
                                    "FOGLALAS_PK": "1027",
                                    "(No column name)": "7"
                                },
                                {
                                    "SZOBA_FK": "15",
                                    "FOGLALAS_PK": "1028",
                                    "(No column name)": "2"
                                },
                                {
                                    "SZOBA_FK": "113",
                                    "FOGLALAS_PK": "1029",
                                    "(No column name)": "5"
                                },
                                {
                                    "SZOBA_FK": "188",
                                    "FOGLALAS_PK": "1030",
                                    "(No column name)": "4"
                                },
                                {
                                    "SZOBA_FK": "27",
                                    "FOGLALAS_PK": "1031",
                                    "(No column name)": "2"
                                },
                                {
                                    "SZOBA_FK": "146",
                                    "FOGLALAS_PK": "1032",
                                    "(No column name)": "5"
                                },
                                {
                                    "SZOBA_FK": "38",
                                    "FOGLALAS_PK": "1033",
                                    "(No column name)": "2"
                                },
                                {
                                    "SZOBA_FK": "127",
                                    "FOGLALAS_PK": "1034",
                                    "(No column name)": "6"
                                },
                                {
                                    "SZOBA_FK": "18",
                                    "FOGLALAS_PK": "1035",
                                    "(No column name)": "6"
                                },
                                {
                                    "SZOBA_FK": "122",
                                    "FOGLALAS_PK": "1036",
                                    "(No column name)": "2"
                                },
                                {
                                    "SZOBA_FK": "89",
                                    "FOGLALAS_PK": "1037",
                                    "(No column name)": "7"
                                },
                                {
                                    "SZOBA_FK": "3",
                                    "FOGLALAS_PK": "1038",
                                    "(No column name)": "3"
                                },
                                {
                                    "SZOBA_FK": "191",
                                    "FOGLALAS_PK": "1039",
                                    "(No column name)": "6"
                                },
                                {
                                    "SZOBA_FK": "130",
                                    "FOGLALAS_PK": "1040",
                                    "(No column name)": "1"
                                },
                                {
                                    "SZOBA_FK": "110",
                                    "FOGLALAS_PK": "1041",
                                    "(No column name)": "3"
                                },
                                {
                                    "SZOBA_FK": "139",
                                    "FOGLALAS_PK": "1042",
                                    "(No column name)": "2"
                                },
                                {
                                    "SZOBA_FK": "193",
                                    "FOGLALAS_PK": "1043",
                                    "(No column name)": "6"
                                },
                                {
                                    "SZOBA_FK": "13",
                                    "FOGLALAS_PK": "1044",
                                    "(No column name)": "6"
                                },
                                {
                                    "SZOBA_FK": "134",
                                    "FOGLALAS_PK": "1045",
                                    "(No column name)": "2"
                                },
                                {
                                    "SZOBA_FK": "136",
                                    "FOGLALAS_PK": "1046",
                                    "(No column name)": "4"
                                },
                                {
                                    "SZOBA_FK": "157",
                                    "FOGLALAS_PK": "1047",
                                    "(No column name)": "4"
                                },
                                {
                                    "SZOBA_FK": "95",
                                    "FOGLALAS_PK": "1048",
                                    "(No column name)": "3"
                                },
                                {
                                    "SZOBA_FK": "121",
                                    "FOGLALAS_PK": "1049",
                                    "(No column name)": "3"
                                },
                                {
                                    "SZOBA_FK": "98",
                                    "FOGLALAS_PK": "1050",
                                    "(No column name)": "6"
                                },
                                {
                                    "SZOBA_FK": "2",
                                    "FOGLALAS_PK": "1051",
                                    "(No column name)": "1"
                                },
                                {
                                    "SZOBA_FK": "25",
                                    "FOGLALAS_PK": "1052",
                                    "(No column name)": "3"
                                },
                                {
                                    "SZOBA_FK": "33",
                                    "FOGLALAS_PK": "1053",
                                    "(No column name)": "1"
                                },
                                {
                                    "SZOBA_FK": "79",
                                    "FOGLALAS_PK": "1054",
                                    "(No column name)": "1"
                                },
                                {
                                    "SZOBA_FK": "69",
                                    "FOGLALAS_PK": "1055",
                                    "(No column name)": "5"
                                },
                                {
                                    "SZOBA_FK": "47",
                                    "FOGLALAS_PK": "1056",
                                    "(No column name)": "7"
                                },
                                {
                                    "SZOBA_FK": "86",
                                    "FOGLALAS_PK": "1057",
                                    "(No column name)": "5"
                                },
                                {
                                    "SZOBA_FK": "151",
                                    "FOGLALAS_PK": "1058",
                                    "(No column name)": "3"
                                },
                                {
                                    "SZOBA_FK": "85",
                                    "FOGLALAS_PK": "1059",
                                    "(No column name)": "3"
                                },
                                {
                                    "SZOBA_FK": "38",
                                    "FOGLALAS_PK": "1060",
                                    "(No column name)": "2"
                                },
                                {
                                    "SZOBA_FK": "154",
                                    "FOGLALAS_PK": "1061",
                                    "(No column name)": "7"
                                },
                                {
                                    "SZOBA_FK": "122",
                                    "FOGLALAS_PK": "1062",
                                    "(No column name)": "3"
                                },
                                {
                                    "SZOBA_FK": "50",
                                    "FOGLALAS_PK": "1063",
                                    "(No column name)": "2"
                                },
                                {
                                    "SZOBA_FK": "139",
                                    "FOGLALAS_PK": "1064",
                                    "(No column name)": "6"
                                },
                                {
                                    "SZOBA_FK": "198",
                                    "FOGLALAS_PK": "1065",
                                    "(No column name)": "3"
                                },
                                {
                                    "SZOBA_FK": "49",
                                    "FOGLALAS_PK": "1066",
                                    "(No column name)": "7"
                                },
                                {
                                    "SZOBA_FK": "183",
                                    "FOGLALAS_PK": "1067",
                                    "(No column name)": "7"
                                },
                                {
                                    "SZOBA_FK": "161",
                                    "FOGLALAS_PK": "1068",
                                    "(No column name)": "6"
                                },
                                {
                                    "SZOBA_FK": "2",
                                    "FOGLALAS_PK": "1069",
                                    "(No column name)": "7"
                                },
                                {
                                    "SZOBA_FK": "20",
                                    "FOGLALAS_PK": "1070",
                                    "(No column name)": "1"
                                },
                                {
                                    "SZOBA_FK": "80",
                                    "FOGLALAS_PK": "1071",
                                    "(No column name)": "4"
                                },
                                {
                                    "SZOBA_FK": "99",
                                    "FOGLALAS_PK": "1072",
                                    "(No column name)": "1"
                                },
                                {
                                    "SZOBA_FK": "5",
                                    "FOGLALAS_PK": "1073",
                                    "(No column name)": "5"
                                },
                                {
                                    "SZOBA_FK": "195",
                                    "FOGLALAS_PK": "1074",
                                    "(No column name)": "7"
                                },
                                {
                                    "SZOBA_FK": "163",
                                    "FOGLALAS_PK": "1075",
                                    "(No column name)": "4"
                                },
                                {
                                    "SZOBA_FK": "29",
                                    "FOGLALAS_PK": "1076",
                                    "(No column name)": "7"
                                },
                                {
                                    "SZOBA_FK": "145",
                                    "FOGLALAS_PK": "1077",
                                    "(No column name)": "1"
                                },
                                {
                                    "SZOBA_FK": "38",
                                    "FOGLALAS_PK": "1078",
                                    "(No column name)": "7"
                                },
                                {
                                    "SZOBA_FK": "86",
                                    "FOGLALAS_PK": "1079",
                                    "(No column name)": "4"
                                },
                                {
                                    "SZOBA_FK": "59",
                                    "FOGLALAS_PK": "1080",
                                    "(No column name)": "1"
                                },
                                {
                                    "SZOBA_FK": "62",
                                    "FOGLALAS_PK": "1081",
                                    "(No column name)": "7"
                                },
                                {
                                    "SZOBA_FK": "27",
                                    "FOGLALAS_PK": "1082",
                                    "(No column name)": "5"
                                },
                                {
                                    "SZOBA_FK": "109",
                                    "FOGLALAS_PK": "1083",
                                    "(No column name)": "1"
                                },
                                {
                                    "SZOBA_FK": "59",
                                    "FOGLALAS_PK": "1084",
                                    "(No column name)": "2"
                                },
                                {
                                    "SZOBA_FK": "113",
                                    "FOGLALAS_PK": "1085",
                                    "(No column name)": "4"
                                },
                                {
                                    "SZOBA_FK": "55",
                                    "FOGLALAS_PK": "1086",
                                    "(No column name)": "5"
                                },
                                {
                                    "SZOBA_FK": "144",
                                    "FOGLALAS_PK": "1087",
                                    "(No column name)": "2"
                                },
                                {
                                    "SZOBA_FK": "43",
                                    "FOGLALAS_PK": "1088",
                                    "(No column name)": "2"
                                },
                                {
                                    "SZOBA_FK": "120",
                                    "FOGLALAS_PK": "1089",
                                    "(No column name)": "6"
                                },
                                {
                                    "SZOBA_FK": "132",
                                    "FOGLALAS_PK": "1090",
                                    "(No column name)": "7"
                                },
                                {
                                    "SZOBA_FK": "197",
                                    "FOGLALAS_PK": "1091",
                                    "(No column name)": "7"
                                },
                                {
                                    "SZOBA_FK": "70",
                                    "FOGLALAS_PK": "1092",
                                    "(No column name)": "3"
                                },
                                {
                                    "SZOBA_FK": "74",
                                    "FOGLALAS_PK": "1093",
                                    "(No column name)": "6"
                                },
                                {
                                    "SZOBA_FK": "175",
                                    "FOGLALAS_PK": "1094",
                                    "(No column name)": "5"
                                },
                                {
                                    "SZOBA_FK": "194",
                                    "FOGLALAS_PK": "1095",
                                    "(No column name)": "5"
                                },
                                {
                                    "SZOBA_FK": "54",
                                    "FOGLALAS_PK": "1096",
                                    "(No column name)": "4"
                                },
                                {
                                    "SZOBA_FK": "95",
                                    "FOGLALAS_PK": "1097",
                                    "(No column name)": "4"
                                },
                                {
                                    "SZOBA_FK": "140",
                                    "FOGLALAS_PK": "1098",
                                    "(No column name)": "2"
                                },
                                {
                                    "SZOBA_FK": "6",
                                    "FOGLALAS_PK": "1099",
                                    "(No column name)": "4"
                                },
                                {
                                    "SZOBA_FK": "150",
                                    "FOGLALAS_PK": "1100",
                                    "(No column name)": "5"
                                },
                                {
                                    "SZOBA_FK": "89",
                                    "FOGLALAS_PK": "1101",
                                    "(No column name)": "5"
                                },
                                {
                                    "SZOBA_FK": "108",
                                    "FOGLALAS_PK": "1102",
                                    "(No column name)": "1"
                                },
                                {
                                    "SZOBA_FK": "87",
                                    "FOGLALAS_PK": "1103",
                                    "(No column name)": "3"
                                },
                                {
                                    "SZOBA_FK": "77",
                                    "FOGLALAS_PK": "1104",
                                    "(No column name)": "1"
                                },
                                {
                                    "SZOBA_FK": "150",
                                    "FOGLALAS_PK": "1105",
                                    "(No column name)": "1"
                                },
                                {
                                    "SZOBA_FK": "20",
                                    "FOGLALAS_PK": "1106",
                                    "(No column name)": "2"
                                },
                                {
                                    "SZOBA_FK": "163",
                                    "FOGLALAS_PK": "1107",
                                    "(No column name)": "3"
                                },
                                {
                                    "SZOBA_FK": "86",
                                    "FOGLALAS_PK": "1108",
                                    "(No column name)": "1"
                                },
                                {
                                    "SZOBA_FK": "110",
                                    "FOGLALAS_PK": "1109",
                                    "(No column name)": "5"
                                },
                                {
                                    "SZOBA_FK": "3",
                                    "FOGLALAS_PK": "1110",
                                    "(No column name)": "7"
                                },
                                {
                                    "SZOBA_FK": "132",
                                    "FOGLALAS_PK": "1111",
                                    "(No column name)": "3"
                                },
                                {
                                    "SZOBA_FK": "155",
                                    "FOGLALAS_PK": "1112",
                                    "(No column name)": "4"
                                },
                                {
                                    "SZOBA_FK": "58",
                                    "FOGLALAS_PK": "1113",
                                    "(No column name)": "3"
                                },
                                {
                                    "SZOBA_FK": "20",
                                    "FOGLALAS_PK": "1114",
                                    "(No column name)": "5"
                                },
                                {
                                    "SZOBA_FK": "151",
                                    "FOGLALAS_PK": "1115",
                                    "(No column name)": "3"
                                },
                                {
                                    "SZOBA_FK": "198",
                                    "FOGLALAS_PK": "1116",
                                    "(No column name)": "1"
                                },
                                {
                                    "SZOBA_FK": "158",
                                    "FOGLALAS_PK": "1117",
                                    "(No column name)": "3"
                                },
                                {
                                    "SZOBA_FK": "40",
                                    "FOGLALAS_PK": "1118",
                                    "(No column name)": "5"
                                },
                                {
                                    "SZOBA_FK": "83",
                                    "FOGLALAS_PK": "1119",
                                    "(No column name)": "6"
                                },
                                {
                                    "SZOBA_FK": "145",
                                    "FOGLALAS_PK": "1120",
                                    "(No column name)": "1"
                                },
                                {
                                    "SZOBA_FK": "115",
                                    "FOGLALAS_PK": "1121",
                                    "(No column name)": "7"
                                },
                                {
                                    "SZOBA_FK": "64",
                                    "FOGLALAS_PK": "1122",
                                    "(No column name)": "4"
                                },
                                {
                                    "SZOBA_FK": "11",
                                    "FOGLALAS_PK": "1123",
                                    "(No column name)": "5"
                                },
                                {
                                    "SZOBA_FK": "112",
                                    "FOGLALAS_PK": "1124",
                                    "(No column name)": "6"
                                },
                                {
                                    "SZOBA_FK": "185",
                                    "FOGLALAS_PK": "1125",
                                    "(No column name)": "3"
                                },
                                {
                                    "SZOBA_FK": "70",
                                    "FOGLALAS_PK": "1126",
                                    "(No column name)": "3"
                                },
                                {
                                    "SZOBA_FK": "4",
                                    "FOGLALAS_PK": "1127",
                                    "(No column name)": "3"
                                },
                                {
                                    "SZOBA_FK": "121",
                                    "FOGLALAS_PK": "1128",
                                    "(No column name)": "4"
                                },
                                {
                                    "SZOBA_FK": "15",
                                    "FOGLALAS_PK": "1129",
                                    "(No column name)": "4"
                                },
                                {
                                    "SZOBA_FK": "22",
                                    "FOGLALAS_PK": "1130",
                                    "(No column name)": "1"
                                },
                                {
                                    "SZOBA_FK": "7",
                                    "FOGLALAS_PK": "1131",
                                    "(No column name)": "1"
                                },
                                {
                                    "SZOBA_FK": "4",
                                    "FOGLALAS_PK": "1132",
                                    "(No column name)": "6"
                                },
                                {
                                    "SZOBA_FK": "175",
                                    "FOGLALAS_PK": "1133",
                                    "(No column name)": "2"
                                },
                                {
                                    "SZOBA_FK": "126",
                                    "FOGLALAS_PK": "1134",
                                    "(No column name)": "1"
                                },
                                {
                                    "SZOBA_FK": "45",
                                    "FOGLALAS_PK": "1135",
                                    "(No column name)": "3"
                                },
                                {
                                    "SZOBA_FK": "30",
                                    "FOGLALAS_PK": "1136",
                                    "(No column name)": "5"
                                },
                                {
                                    "SZOBA_FK": "1",
                                    "FOGLALAS_PK": "1137",
                                    "(No column name)": "2"
                                },
                                {
                                    "SZOBA_FK": "198",
                                    "FOGLALAS_PK": "1138",
                                    "(No column name)": "5"
                                },
                                {
                                    "SZOBA_FK": "19",
                                    "FOGLALAS_PK": "1139",
                                    "(No column name)": "7"
                                },
                                {
                                    "SZOBA_FK": "12",
                                    "FOGLALAS_PK": "1140",
                                    "(No column name)": "3"
                                },
                                {
                                    "SZOBA_FK": "165",
                                    "FOGLALAS_PK": "1141",
                                    "(No column name)": "1"
                                },
                                {
                                    "SZOBA_FK": "172",
                                    "FOGLALAS_PK": "1142",
                                    "(No column name)": "4"
                                },
                                {
                                    "SZOBA_FK": "176",
                                    "FOGLALAS_PK": "1143",
                                    "(No column name)": "6"
                                },
                                {
                                    "SZOBA_FK": "41",
                                    "FOGLALAS_PK": "1144",
                                    "(No column name)": "1"
                                },
                                {
                                    "SZOBA_FK": "145",
                                    "FOGLALAS_PK": "1145",
                                    "(No column name)": "4"
                                },
                                {
                                    "SZOBA_FK": "149",
                                    "FOGLALAS_PK": "1146",
                                    "(No column name)": "6"
                                },
                                {
                                    "SZOBA_FK": "183",
                                    "FOGLALAS_PK": "1147",
                                    "(No column name)": "4"
                                },
                                {
                                    "SZOBA_FK": "61",
                                    "FOGLALAS_PK": "1148",
                                    "(No column name)": "3"
                                },
                                {
                                    "SZOBA_FK": "133",
                                    "FOGLALAS_PK": "1149",
                                    "(No column name)": "7"
                                },
                                {
                                    "SZOBA_FK": "28",
                                    "FOGLALAS_PK": "1150",
                                    "(No column name)": "6"
                                },
                                {
                                    "SZOBA_FK": "3",
                                    "FOGLALAS_PK": "1151",
                                    "(No column name)": "1"
                                },
                                {
                                    "SZOBA_FK": "1",
                                    "FOGLALAS_PK": "1152",
                                    "(No column name)": "1"
                                },
                                {
                                    "SZOBA_FK": "186",
                                    "FOGLALAS_PK": "1153",
                                    "(No column name)": "3"
                                },
                                {
                                    "SZOBA_FK": "115",
                                    "FOGLALAS_PK": "1154",
                                    "(No column name)": "4"
                                },
                                {
                                    "SZOBA_FK": "143",
                                    "FOGLALAS_PK": "1155",
                                    "(No column name)": "7"
                                },
                                {
                                    "SZOBA_FK": "140",
                                    "FOGLALAS_PK": "1156",
                                    "(No column name)": "3"
                                },
                                {
                                    "SZOBA_FK": "9",
                                    "FOGLALAS_PK": "1157",
                                    "(No column name)": "6"
                                },
                                {
                                    "SZOBA_FK": "26",
                                    "FOGLALAS_PK": "1158",
                                    "(No column name)": "2"
                                },
                                {
                                    "SZOBA_FK": "73",
                                    "FOGLALAS_PK": "1159",
                                    "(No column name)": "5"
                                },
                                {
                                    "SZOBA_FK": "152",
                                    "FOGLALAS_PK": "1160",
                                    "(No column name)": "7"
                                },
                                {
                                    "SZOBA_FK": "198",
                                    "FOGLALAS_PK": "1161",
                                    "(No column name)": "5"
                                },
                                {
                                    "SZOBA_FK": "110",
                                    "FOGLALAS_PK": "1162",
                                    "(No column name)": "2"
                                },
                                {
                                    "SZOBA_FK": "55",
                                    "FOGLALAS_PK": "1163",
                                    "(No column name)": "2"
                                },
                                {
                                    "SZOBA_FK": "12",
                                    "FOGLALAS_PK": "1164",
                                    "(No column name)": "5"
                                },
                                {
                                    "SZOBA_FK": "51",
                                    "FOGLALAS_PK": "1165",
                                    "(No column name)": "5"
                                },
                                {
                                    "SZOBA_FK": "122",
                                    "FOGLALAS_PK": "1166",
                                    "(No column name)": "4"
                                },
                                {
                                    "SZOBA_FK": "24",
                                    "FOGLALAS_PK": "1167",
                                    "(No column name)": "1"
                                },
                                {
                                    "SZOBA_FK": "154",
                                    "FOGLALAS_PK": "1168",
                                    "(No column name)": "6"
                                },
                                {
                                    "SZOBA_FK": "93",
                                    "FOGLALAS_PK": "1169",
                                    "(No column name)": "4"
                                },
                                {
                                    "SZOBA_FK": "59",
                                    "FOGLALAS_PK": "1170",
                                    "(No column name)": "5"
                                },
                                {
                                    "SZOBA_FK": "172",
                                    "FOGLALAS_PK": "1171",
                                    "(No column name)": "5"
                                },
                                {
                                    "SZOBA_FK": "197",
                                    "FOGLALAS_PK": "1172",
                                    "(No column name)": "7"
                                },
                                {
                                    "SZOBA_FK": "18",
                                    "FOGLALAS_PK": "1173",
                                    "(No column name)": "6"
                                },
                                {
                                    "SZOBA_FK": "90",
                                    "FOGLALAS_PK": "1174",
                                    "(No column name)": "7"
                                },
                                {
                                    "SZOBA_FK": "7",
                                    "FOGLALAS_PK": "1175",
                                    "(No column name)": "4"
                                },
                                {
                                    "SZOBA_FK": "177",
                                    "FOGLALAS_PK": "1176",
                                    "(No column name)": "3"
                                },
                                {
                                    "SZOBA_FK": "150",
                                    "FOGLALAS_PK": "1177",
                                    "(No column name)": "1"
                                },
                                {
                                    "SZOBA_FK": "134",
                                    "FOGLALAS_PK": "1178",
                                    "(No column name)": "7"
                                },
                                {
                                    "SZOBA_FK": "74",
                                    "FOGLALAS_PK": "1179",
                                    "(No column name)": "7"
                                },
                                {
                                    "SZOBA_FK": "104",
                                    "FOGLALAS_PK": "1180",
                                    "(No column name)": "1"
                                },
                                {
                                    "SZOBA_FK": "171",
                                    "FOGLALAS_PK": "1181",
                                    "(No column name)": "6"
                                },
                                {
                                    "SZOBA_FK": "7",
                                    "FOGLALAS_PK": "1182",
                                    "(No column name)": "4"
                                },
                                {
                                    "SZOBA_FK": "185",
                                    "FOGLALAS_PK": "1183",
                                    "(No column name)": "5"
                                },
                                {
                                    "SZOBA_FK": "195",
                                    "FOGLALAS_PK": "1184",
                                    "(No column name)": "5"
                                },
                                {
                                    "SZOBA_FK": "29",
                                    "FOGLALAS_PK": "1185",
                                    "(No column name)": "5"
                                },
                                {
                                    "SZOBA_FK": "58",
                                    "FOGLALAS_PK": "1186",
                                    "(No column name)": "6"
                                },
                                {
                                    "SZOBA_FK": "46",
                                    "FOGLALAS_PK": "1187",
                                    "(No column name)": "7"
                                },
                                {
                                    "SZOBA_FK": "182",
                                    "FOGLALAS_PK": "1188",
                                    "(No column name)": "1"
                                },
                                {
                                    "SZOBA_FK": "89",
                                    "FOGLALAS_PK": "1189",
                                    "(No column name)": "6"
                                },
                                {
                                    "SZOBA_FK": "161",
                                    "FOGLALAS_PK": "1190",
                                    "(No column name)": "7"
                                },
                                {
                                    "SZOBA_FK": "59",
                                    "FOGLALAS_PK": "1191",
                                    "(No column name)": "6"
                                },
                                {
                                    "SZOBA_FK": "117",
                                    "FOGLALAS_PK": "1192",
                                    "(No column name)": "2"
                                },
                                {
                                    "SZOBA_FK": "143",
                                    "FOGLALAS_PK": "1193",
                                    "(No column name)": "6"
                                },
                                {
                                    "SZOBA_FK": "170",
                                    "FOGLALAS_PK": "1194",
                                    "(No column name)": "4"
                                },
                                {
                                    "SZOBA_FK": "22",
                                    "FOGLALAS_PK": "1195",
                                    "(No column name)": "6"
                                },
                                {
                                    "SZOBA_FK": "88",
                                    "FOGLALAS_PK": "1196",
                                    "(No column name)": "3"
                                },
                                {
                                    "SZOBA_FK": "152",
                                    "FOGLALAS_PK": "1197",
                                    "(No column name)": "6"
                                },
                                {
                                    "SZOBA_FK": "18",
                                    "FOGLALAS_PK": "1198",
                                    "(No column name)": "4"
                                },
                                {
                                    "SZOBA_FK": "144",
                                    "FOGLALAS_PK": "1199",
                                    "(No column name)": "7"
                                },
                                {
                                    "SZOBA_FK": "49",
                                    "FOGLALAS_PK": "1200",
                                    "(No column name)": "7"
                                },
                                {
                                    "SZOBA_FK": "137",
                                    "FOGLALAS_PK": "1201",
                                    "(No column name)": "6"
                                },
                                {
                                    "SZOBA_FK": "52",
                                    "FOGLALAS_PK": "1202",
                                    "(No column name)": "2"
                                },
                                {
                                    "SZOBA_FK": "150",
                                    "FOGLALAS_PK": "1203",
                                    "(No column name)": "4"
                                },
                                {
                                    "SZOBA_FK": "189",
                                    "FOGLALAS_PK": "1204",
                                    "(No column name)": "2"
                                },
                                {
                                    "SZOBA_FK": "162",
                                    "FOGLALAS_PK": "1205",
                                    "(No column name)": "6"
                                },
                                {
                                    "SZOBA_FK": "22",
                                    "FOGLALAS_PK": "1206",
                                    "(No column name)": "7"
                                },
                                {
                                    "SZOBA_FK": "43",
                                    "FOGLALAS_PK": "1207",
                                    "(No column name)": "1"
                                },
                                {
                                    "SZOBA_FK": "58",
                                    "FOGLALAS_PK": "1208",
                                    "(No column name)": "6"
                                },
                                {
                                    "SZOBA_FK": "122",
                                    "FOGLALAS_PK": "1209",
                                    "(No column name)": "1"
                                },
                                {
                                    "SZOBA_FK": "124",
                                    "FOGLALAS_PK": "1210",
                                    "(No column name)": "4"
                                },
                                {
                                    "SZOBA_FK": "178",
                                    "FOGLALAS_PK": "1211",
                                    "(No column name)": "3"
                                },
                                {
                                    "SZOBA_FK": "21",
                                    "FOGLALAS_PK": "1212",
                                    "(No column name)": "6"
                                },
                                {
                                    "SZOBA_FK": "91",
                                    "FOGLALAS_PK": "1213",
                                    "(No column name)": "3"
                                },
                                {
                                    "SZOBA_FK": "39",
                                    "FOGLALAS_PK": "1214",
                                    "(No column name)": "5"
                                },
                                {
                                    "SZOBA_FK": "121",
                                    "FOGLALAS_PK": "1215",
                                    "(No column name)": "4"
                                },
                                {
                                    "SZOBA_FK": "198",
                                    "FOGLALAS_PK": "1216",
                                    "(No column name)": "7"
                                },
                                {
                                    "SZOBA_FK": "93",
                                    "FOGLALAS_PK": "1217",
                                    "(No column name)": "1"
                                },
                                {
                                    "SZOBA_FK": "61",
                                    "FOGLALAS_PK": "1218",
                                    "(No column name)": "2"
                                },
                                {
                                    "SZOBA_FK": "134",
                                    "FOGLALAS_PK": "1219",
                                    "(No column name)": "6"
                                },
                                {
                                    "SZOBA_FK": "9",
                                    "FOGLALAS_PK": "1220",
                                    "(No column name)": "3"
                                },
                                {
                                    "SZOBA_FK": "49",
                                    "FOGLALAS_PK": "1221",
                                    "(No column name)": "2"
                                },
                                {
                                    "SZOBA_FK": "143",
                                    "FOGLALAS_PK": "1222",
                                    "(No column name)": "2"
                                },
                                {
                                    "SZOBA_FK": "123",
                                    "FOGLALAS_PK": "1223",
                                    "(No column name)": "1"
                                },
                                {
                                    "SZOBA_FK": "50",
                                    "FOGLALAS_PK": "1224",
                                    "(No column name)": "1"
                                },
                                {
                                    "SZOBA_FK": "69",
                                    "FOGLALAS_PK": "1225",
                                    "(No column name)": "5"
                                },
                                {
                                    "SZOBA_FK": "127",
                                    "FOGLALAS_PK": "1226",
                                    "(No column name)": "5"
                                },
                                {
                                    "SZOBA_FK": "43",
                                    "FOGLALAS_PK": "1227",
                                    "(No column name)": "5"
                                },
                                {
                                    "SZOBA_FK": "106",
                                    "FOGLALAS_PK": "1228",
                                    "(No column name)": "7"
                                },
                                {
                                    "SZOBA_FK": "79",
                                    "FOGLALAS_PK": "1229",
                                    "(No column name)": "7"
                                },
                                {
                                    "SZOBA_FK": "182",
                                    "FOGLALAS_PK": "1230",
                                    "(No column name)": "7"
                                },
                                {
                                    "SZOBA_FK": "182",
                                    "FOGLALAS_PK": "1231",
                                    "(No column name)": "4"
                                },
                                {
                                    "SZOBA_FK": "55",
                                    "FOGLALAS_PK": "1232",
                                    "(No column name)": "7"
                                },
                                {
                                    "SZOBA_FK": "64",
                                    "FOGLALAS_PK": "1233",
                                    "(No column name)": "7"
                                },
                                {
                                    "SZOBA_FK": "66",
                                    "FOGLALAS_PK": "1234",
                                    "(No column name)": "3"
                                },
                                {
                                    "SZOBA_FK": "29",
                                    "FOGLALAS_PK": "1235",
                                    "(No column name)": "7"
                                },
                                {
                                    "SZOBA_FK": "11",
                                    "FOGLALAS_PK": "1236",
                                    "(No column name)": "1"
                                },
                                {
                                    "SZOBA_FK": "19",
                                    "FOGLALAS_PK": "1237",
                                    "(No column name)": "1"
                                },
                                {
                                    "SZOBA_FK": "193",
                                    "FOGLALAS_PK": "1238",
                                    "(No column name)": "6"
                                },
                                {
                                    "SZOBA_FK": "59",
                                    "FOGLALAS_PK": "1239",
                                    "(No column name)": "2"
                                },
                                {
                                    "SZOBA_FK": "157",
                                    "FOGLALAS_PK": "1240",
                                    "(No column name)": "7"
                                },
                                {
                                    "SZOBA_FK": "94",
                                    "FOGLALAS_PK": "1241",
                                    "(No column name)": "7"
                                },
                                {
                                    "SZOBA_FK": "178",
                                    "FOGLALAS_PK": "1242",
                                    "(No column name)": "1"
                                },
                                {
                                    "SZOBA_FK": "48",
                                    "FOGLALAS_PK": "1243",
                                    "(No column name)": "6"
                                },
                                {
                                    "SZOBA_FK": "15",
                                    "FOGLALAS_PK": "1244",
                                    "(No column name)": "1"
                                },
                                {
                                    "SZOBA_FK": "122",
                                    "FOGLALAS_PK": "1245",
                                    "(No column name)": "2"
                                },
                                {
                                    "SZOBA_FK": "69",
                                    "FOGLALAS_PK": "1246",
                                    "(No column name)": "7"
                                },
                                {
                                    "SZOBA_FK": "117",
                                    "FOGLALAS_PK": "1247",
                                    "(No column name)": "3"
                                },
                                {
                                    "SZOBA_FK": "186",
                                    "FOGLALAS_PK": "1248",
                                    "(No column name)": "2"
                                },
                                {
                                    "SZOBA_FK": "168",
                                    "FOGLALAS_PK": "1249",
                                    "(No column name)": "4"
                                },
                                {
                                    "SZOBA_FK": "107",
                                    "FOGLALAS_PK": "1250",
                                    "(No column name)": "4"
                                },
                                {
                                    "SZOBA_FK": "184",
                                    "FOGLALAS_PK": "1251",
                                    "(No column name)": "4"
                                },
                                {
                                    "SZOBA_FK": "7",
                                    "FOGLALAS_PK": "1252",
                                    "(No column name)": "2"
                                },
                                {
                                    "SZOBA_FK": "89",
                                    "FOGLALAS_PK": "1253",
                                    "(No column name)": "2"
                                },
                                {
                                    "SZOBA_FK": "141",
                                    "FOGLALAS_PK": "1254",
                                    "(No column name)": "4"
                                },
                                {
                                    "SZOBA_FK": "58",
                                    "FOGLALAS_PK": "1255",
                                    "(No column name)": "7"
                                },
                                {
                                    "SZOBA_FK": "138",
                                    "FOGLALAS_PK": "1256",
                                    "(No column name)": "4"
                                },
                                {
                                    "SZOBA_FK": "5",
                                    "FOGLALAS_PK": "1257",
                                    "(No column name)": "3"
                                },
                                {
                                    "SZOBA_FK": "52",
                                    "FOGLALAS_PK": "1258",
                                    "(No column name)": "5"
                                },
                                {
                                    "SZOBA_FK": "140",
                                    "FOGLALAS_PK": "1259",
                                    "(No column name)": "7"
                                },
                                {
                                    "SZOBA_FK": "9",
                                    "FOGLALAS_PK": "1260",
                                    "(No column name)": "6"
                                },
                                {
                                    "SZOBA_FK": "58",
                                    "FOGLALAS_PK": "1261",
                                    "(No column name)": "6"
                                },
                                {
                                    "SZOBA_FK": "154",
                                    "FOGLALAS_PK": "1262",
                                    "(No column name)": "1"
                                },
                                {
                                    "SZOBA_FK": "113",
                                    "FOGLALAS_PK": "1263",
                                    "(No column name)": "1"
                                },
                                {
                                    "SZOBA_FK": "66",
                                    "FOGLALAS_PK": "1264",
                                    "(No column name)": "4"
                                },
                                {
                                    "SZOBA_FK": "163",
                                    "FOGLALAS_PK": "1265",
                                    "(No column name)": "5"
                                },
                                {
                                    "SZOBA_FK": "168",
                                    "FOGLALAS_PK": "1266",
                                    "(No column name)": "4"
                                },
                                {
                                    "SZOBA_FK": "170",
                                    "FOGLALAS_PK": "1267",
                                    "(No column name)": "7"
                                },
                                {
                                    "SZOBA_FK": "78",
                                    "FOGLALAS_PK": "1268",
                                    "(No column name)": "2"
                                },
                                {
                                    "SZOBA_FK": "89",
                                    "FOGLALAS_PK": "1269",
                                    "(No column name)": "2"
                                },
                                {
                                    "SZOBA_FK": "43",
                                    "FOGLALAS_PK": "1270",
                                    "(No column name)": "4"
                                },
                                {
                                    "SZOBA_FK": "106",
                                    "FOGLALAS_PK": "1271",
                                    "(No column name)": "5"
                                },
                                {
                                    "SZOBA_FK": "50",
                                    "FOGLALAS_PK": "1272",
                                    "(No column name)": "1"
                                },
                                {
                                    "SZOBA_FK": "88",
                                    "FOGLALAS_PK": "1273",
                                    "(No column name)": "7"
                                },
                                {
                                    "SZOBA_FK": "1",
                                    "FOGLALAS_PK": "1274",
                                    "(No column name)": "1"
                                },
                                {
                                    "SZOBA_FK": "27",
                                    "FOGLALAS_PK": "1275",
                                    "(No column name)": "6"
                                },
                                {
                                    "SZOBA_FK": "174",
                                    "FOGLALAS_PK": "1276",
                                    "(No column name)": "1"
                                },
                                {
                                    "SZOBA_FK": "82",
                                    "FOGLALAS_PK": "1277",
                                    "(No column name)": "5"
                                },
                                {
                                    "SZOBA_FK": "176",
                                    "FOGLALAS_PK": "1278",
                                    "(No column name)": "6"
                                },
                                {
                                    "SZOBA_FK": "80",
                                    "FOGLALAS_PK": "1279",
                                    "(No column name)": "5"
                                },
                                {
                                    "SZOBA_FK": "137",
                                    "FOGLALAS_PK": "1280",
                                    "(No column name)": "3"
                                },
                                {
                                    "SZOBA_FK": "78",
                                    "FOGLALAS_PK": "1281",
                                    "(No column name)": "3"
                                },
                                {
                                    "SZOBA_FK": "123",
                                    "FOGLALAS_PK": "1282",
                                    "(No column name)": "6"
                                },
                                {
                                    "SZOBA_FK": "138",
                                    "FOGLALAS_PK": "1283",
                                    "(No column name)": "2"
                                },
                                {
                                    "SZOBA_FK": "164",
                                    "FOGLALAS_PK": "1284",
                                    "(No column name)": "4"
                                },
                                {
                                    "SZOBA_FK": "58",
                                    "FOGLALAS_PK": "1285",
                                    "(No column name)": "7"
                                },
                                {
                                    "SZOBA_FK": "127",
                                    "FOGLALAS_PK": "1286",
                                    "(No column name)": "1"
                                },
                                {
                                    "SZOBA_FK": "22",
                                    "FOGLALAS_PK": "1287",
                                    "(No column name)": "3"
                                },
                                {
                                    "SZOBA_FK": "59",
                                    "FOGLALAS_PK": "1288",
                                    "(No column name)": "3"
                                },
                                {
                                    "SZOBA_FK": "135",
                                    "FOGLALAS_PK": "1289",
                                    "(No column name)": "3"
                                },
                                {
                                    "SZOBA_FK": "128",
                                    "FOGLALAS_PK": "1290",
                                    "(No column name)": "1"
                                },
                                {
                                    "SZOBA_FK": "46",
                                    "FOGLALAS_PK": "1291",
                                    "(No column name)": "3"
                                },
                                {
                                    "SZOBA_FK": "164",
                                    "FOGLALAS_PK": "1292",
                                    "(No column name)": "2"
                                },
                                {
                                    "SZOBA_FK": "58",
                                    "FOGLALAS_PK": "1293",
                                    "(No column name)": "3"
                                },
                                {
                                    "SZOBA_FK": "138",
                                    "FOGLALAS_PK": "1294",
                                    "(No column name)": "5"
                                },
                                {
                                    "SZOBA_FK": "44",
                                    "FOGLALAS_PK": "1295",
                                    "(No column name)": "2"
                                },
                                {
                                    "SZOBA_FK": "111",
                                    "FOGLALAS_PK": "1296",
                                    "(No column name)": "3"
                                },
                                {
                                    "SZOBA_FK": "144",
                                    "FOGLALAS_PK": "1297",
                                    "(No column name)": "1"
                                },
                                {
                                    "SZOBA_FK": "109",
                                    "FOGLALAS_PK": "1298",
                                    "(No column name)": "4"
                                },
                                {
                                    "SZOBA_FK": "90",
                                    "FOGLALAS_PK": "1299",
                                    "(No column name)": "6"
                                },
                                {
                                    "SZOBA_FK": "88",
                                    "FOGLALAS_PK": "1300",
                                    "(No column name)": "3"
                                },
                                {
                                    "SZOBA_FK": "132",
                                    "FOGLALAS_PK": "1301",
                                    "(No column name)": "2"
                                },
                                {
                                    "SZOBA_FK": "191",
                                    "FOGLALAS_PK": "1302",
                                    "(No column name)": "1"
                                },
                                {
                                    "SZOBA_FK": "45",
                                    "FOGLALAS_PK": "1303",
                                    "(No column name)": "2"
                                },
                                {
                                    "SZOBA_FK": "197",
                                    "FOGLALAS_PK": "1304",
                                    "(No column name)": "7"
                                },
                                {
                                    "SZOBA_FK": "94",
                                    "FOGLALAS_PK": "1305",
                                    "(No column name)": "2"
                                },
                                {
                                    "SZOBA_FK": "133",
                                    "FOGLALAS_PK": "1306",
                                    "(No column name)": "3"
                                },
                                {
                                    "SZOBA_FK": "58",
                                    "FOGLALAS_PK": "1307",
                                    "(No column name)": "6"
                                },
                                {
                                    "SZOBA_FK": "182",
                                    "FOGLALAS_PK": "1308",
                                    "(No column name)": "1"
                                },
                                {
                                    "SZOBA_FK": "42",
                                    "FOGLALAS_PK": "1309",
                                    "(No column name)": "2"
                                },
                                {
                                    "SZOBA_FK": "155",
                                    "FOGLALAS_PK": "1310",
                                    "(No column name)": "1"
                                },
                                {
                                    "SZOBA_FK": "2",
                                    "FOGLALAS_PK": "1311",
                                    "(No column name)": "7"
                                },
                                {
                                    "SZOBA_FK": "94",
                                    "FOGLALAS_PK": "1312",
                                    "(No column name)": "3"
                                },
                                {
                                    "SZOBA_FK": "143",
                                    "FOGLALAS_PK": "1313",
                                    "(No column name)": "4"
                                },
                                {
                                    "SZOBA_FK": "196",
                                    "FOGLALAS_PK": "1314",
                                    "(No column name)": "5"
                                },
                                {
                                    "SZOBA_FK": "100",
                                    "FOGLALAS_PK": "1315",
                                    "(No column name)": "5"
                                },
                                {
                                    "SZOBA_FK": "17",
                                    "FOGLALAS_PK": "1316",
                                    "(No column name)": "5"
                                },
                                {
                                    "SZOBA_FK": "182",
                                    "FOGLALAS_PK": "1317",
                                    "(No column name)": "3"
                                },
                                {
                                    "SZOBA_FK": "72",
                                    "FOGLALAS_PK": "1318",
                                    "(No column name)": "2"
                                },
                                {
                                    "SZOBA_FK": "10",
                                    "FOGLALAS_PK": "1319",
                                    "(No column name)": "6"
                                },
                                {
                                    "SZOBA_FK": "85",
                                    "FOGLALAS_PK": "1320",
                                    "(No column name)": "1"
                                },
                                {
                                    "SZOBA_FK": "33",
                                    "FOGLALAS_PK": "1321",
                                    "(No column name)": "4"
                                },
                                {
                                    "SZOBA_FK": "58",
                                    "FOGLALAS_PK": "1322",
                                    "(No column name)": "3"
                                },
                                {
                                    "SZOBA_FK": "191",
                                    "FOGLALAS_PK": "1323",
                                    "(No column name)": "7"
                                },
                                {
                                    "SZOBA_FK": "68",
                                    "FOGLALAS_PK": "1324",
                                    "(No column name)": "4"
                                },
                                {
                                    "SZOBA_FK": "70",
                                    "FOGLALAS_PK": "1325",
                                    "(No column name)": "7"
                                },
                                {
                                    "SZOBA_FK": "182",
                                    "FOGLALAS_PK": "1326",
                                    "(No column name)": "4"
                                },
                                {
                                    "SZOBA_FK": "55",
                                    "FOGLALAS_PK": "1327",
                                    "(No column name)": "6"
                                },
                                {
                                    "SZOBA_FK": "54",
                                    "FOGLALAS_PK": "1328",
                                    "(No column name)": "4"
                                },
                                {
                                    "SZOBA_FK": "171",
                                    "FOGLALAS_PK": "1329",
                                    "(No column name)": "5"
                                },
                                {
                                    "SZOBA_FK": "124",
                                    "FOGLALAS_PK": "1330",
                                    "(No column name)": "7"
                                },
                                {
                                    "SZOBA_FK": "73",
                                    "FOGLALAS_PK": "1331",
                                    "(No column name)": "4"
                                },
                                {
                                    "SZOBA_FK": "101",
                                    "FOGLALAS_PK": "1332",
                                    "(No column name)": "6"
                                },
                                {
                                    "SZOBA_FK": "70",
                                    "FOGLALAS_PK": "1333",
                                    "(No column name)": "6"
                                },
                                {
                                    "SZOBA_FK": "1",
                                    "FOGLALAS_PK": "1334",
                                    "(No column name)": "4"
                                },
                                {
                                    "SZOBA_FK": "37",
                                    "FOGLALAS_PK": "1335",
                                    "(No column name)": "7"
                                },
                                {
                                    "SZOBA_FK": "172",
                                    "FOGLALAS_PK": "1336",
                                    "(No column name)": "5"
                                },
                                {
                                    "SZOBA_FK": "122",
                                    "FOGLALAS_PK": "1337",
                                    "(No column name)": "2"
                                },
                                {
                                    "SZOBA_FK": "145",
                                    "FOGLALAS_PK": "1338",
                                    "(No column name)": "2"
                                },
                                {
                                    "SZOBA_FK": "120",
                                    "FOGLALAS_PK": "1339",
                                    "(No column name)": "6"
                                },
                                {
                                    "SZOBA_FK": "196",
                                    "FOGLALAS_PK": "1340",
                                    "(No column name)": "5"
                                },
                                {
                                    "SZOBA_FK": "82",
                                    "FOGLALAS_PK": "1341",
                                    "(No column name)": "2"
                                },
                                {
                                    "SZOBA_FK": "170",
                                    "FOGLALAS_PK": "1342",
                                    "(No column name)": "6"
                                },
                                {
                                    "SZOBA_FK": "102",
                                    "FOGLALAS_PK": "1343",
                                    "(No column name)": "2"
                                },
                                {
                                    "SZOBA_FK": "33",
                                    "FOGLALAS_PK": "1344",
                                    "(No column name)": "5"
                                },
                                {
                                    "SZOBA_FK": "79",
                                    "FOGLALAS_PK": "1345",
                                    "(No column name)": "3"
                                },
                                {
                                    "SZOBA_FK": "181",
                                    "FOGLALAS_PK": "1346",
                                    "(No column name)": "6"
                                },
                                {
                                    "SZOBA_FK": "13",
                                    "FOGLALAS_PK": "1347",
                                    "(No column name)": "3"
                                },
                                {
                                    "SZOBA_FK": "57",
                                    "FOGLALAS_PK": "1348",
                                    "(No column name)": "1"
                                },
                                {
                                    "SZOBA_FK": "87",
                                    "FOGLALAS_PK": "1349",
                                    "(No column name)": "5"
                                },
                                {
                                    "SZOBA_FK": "173",
                                    "FOGLALAS_PK": "1350",
                                    "(No column name)": "3"
                                },
                                {
                                    "SZOBA_FK": "38",
                                    "FOGLALAS_PK": "1351",
                                    "(No column name)": "4"
                                },
                                {
                                    "SZOBA_FK": "115",
                                    "FOGLALAS_PK": "1352",
                                    "(No column name)": "3"
                                },
                                {
                                    "SZOBA_FK": "111",
                                    "FOGLALAS_PK": "1353",
                                    "(No column name)": "5"
                                },
                                {
                                    "SZOBA_FK": "107",
                                    "FOGLALAS_PK": "1354",
                                    "(No column name)": "1"
                                },
                                {
                                    "SZOBA_FK": "93",
                                    "FOGLALAS_PK": "1355",
                                    "(No column name)": "2"
                                },
                                {
                                    "SZOBA_FK": "169",
                                    "FOGLALAS_PK": "1356",
                                    "(No column name)": "4"
                                },
                                {
                                    "SZOBA_FK": "140",
                                    "FOGLALAS_PK": "1357",
                                    "(No column name)": "4"
                                },
                                {
                                    "SZOBA_FK": "138",
                                    "FOGLALAS_PK": "1358",
                                    "(No column name)": "7"
                                },
                                {
                                    "SZOBA_FK": "88",
                                    "FOGLALAS_PK": "1359",
                                    "(No column name)": "2"
                                },
                                {
                                    "SZOBA_FK": "129",
                                    "FOGLALAS_PK": "1360",
                                    "(No column name)": "6"
                                },
                                {
                                    "SZOBA_FK": "140",
                                    "FOGLALAS_PK": "1361",
                                    "(No column name)": "3"
                                },
                                {
                                    "SZOBA_FK": "25",
                                    "FOGLALAS_PK": "1362",
                                    "(No column name)": "2"
                                },
                                {
                                    "SZOBA_FK": "133",
                                    "FOGLALAS_PK": "1363",
                                    "(No column name)": "5"
                                },
                                {
                                    "SZOBA_FK": "126",
                                    "FOGLALAS_PK": "1364",
                                    "(No column name)": "6"
                                },
                                {
                                    "SZOBA_FK": "70",
                                    "FOGLALAS_PK": "1365",
                                    "(No column name)": "3"
                                },
                                {
                                    "SZOBA_FK": "81",
                                    "FOGLALAS_PK": "1366",
                                    "(No column name)": "5"
                                },
                                {
                                    "SZOBA_FK": "80",
                                    "FOGLALAS_PK": "1367",
                                    "(No column name)": "3"
                                },
                                {
                                    "SZOBA_FK": "94",
                                    "FOGLALAS_PK": "1368",
                                    "(No column name)": "1"
                                },
                                {
                                    "SZOBA_FK": "142",
                                    "FOGLALAS_PK": "1369",
                                    "(No column name)": "6"
                                },
                                {
                                    "SZOBA_FK": "138",
                                    "FOGLALAS_PK": "1370",
                                    "(No column name)": "5"
                                },
                                {
                                    "SZOBA_FK": "140",
                                    "FOGLALAS_PK": "1371",
                                    "(No column name)": "1"
                                },
                                {
                                    "SZOBA_FK": "106",
                                    "FOGLALAS_PK": "1372",
                                    "(No column name)": "7"
                                },
                                {
                                    "SZOBA_FK": "121",
                                    "FOGLALAS_PK": "1373",
                                    "(No column name)": "5"
                                },
                                {
                                    "SZOBA_FK": "118",
                                    "FOGLALAS_PK": "1374",
                                    "(No column name)": "5"
                                },
                                {
                                    "SZOBA_FK": "165",
                                    "FOGLALAS_PK": "1375",
                                    "(No column name)": "4"
                                },
                                {
                                    "SZOBA_FK": "84",
                                    "FOGLALAS_PK": "1376",
                                    "(No column name)": "5"
                                },
                                {
                                    "SZOBA_FK": "27",
                                    "FOGLALAS_PK": "1377",
                                    "(No column name)": "1"
                                },
                                {
                                    "SZOBA_FK": "96",
                                    "FOGLALAS_PK": "1378",
                                    "(No column name)": "3"
                                },
                                {
                                    "SZOBA_FK": "83",
                                    "FOGLALAS_PK": "1379",
                                    "(No column name)": "7"
                                },
                                {
                                    "SZOBA_FK": "39",
                                    "FOGLALAS_PK": "1380",
                                    "(No column name)": "5"
                                },
                                {
                                    "SZOBA_FK": "33",
                                    "FOGLALAS_PK": "1381",
                                    "(No column name)": "6"
                                },
                                {
                                    "SZOBA_FK": "67",
                                    "FOGLALAS_PK": "1382",
                                    "(No column name)": "1"
                                },
                                {
                                    "SZOBA_FK": "176",
                                    "FOGLALAS_PK": "1383",
                                    "(No column name)": "4"
                                },
                                {
                                    "SZOBA_FK": "84",
                                    "FOGLALAS_PK": "1384",
                                    "(No column name)": "7"
                                },
                                {
                                    "SZOBA_FK": "122",
                                    "FOGLALAS_PK": "1385",
                                    "(No column name)": "5"
                                },
                                {
                                    "SZOBA_FK": "55",
                                    "FOGLALAS_PK": "1386",
                                    "(No column name)": "2"
                                },
                                {
                                    "SZOBA_FK": "197",
                                    "FOGLALAS_PK": "1387",
                                    "(No column name)": "3"
                                },
                                {
                                    "SZOBA_FK": "26",
                                    "FOGLALAS_PK": "1388",
                                    "(No column name)": "3"
                                },
                                {
                                    "SZOBA_FK": "57",
                                    "FOGLALAS_PK": "1389",
                                    "(No column name)": "1"
                                },
                                {
                                    "SZOBA_FK": "188",
                                    "FOGLALAS_PK": "1390",
                                    "(No column name)": "5"
                                },
                                {
                                    "SZOBA_FK": "93",
                                    "FOGLALAS_PK": "1391",
                                    "(No column name)": "4"
                                },
                                {
                                    "SZOBA_FK": "108",
                                    "FOGLALAS_PK": "1392",
                                    "(No column name)": "6"
                                },
                                {
                                    "SZOBA_FK": "121",
                                    "FOGLALAS_PK": "1393",
                                    "(No column name)": "6"
                                },
                                {
                                    "SZOBA_FK": "143",
                                    "FOGLALAS_PK": "1394",
                                    "(No column name)": "3"
                                },
                                {
                                    "SZOBA_FK": "97",
                                    "FOGLALAS_PK": "1395",
                                    "(No column name)": "1"
                                },
                                {
                                    "SZOBA_FK": "72",
                                    "FOGLALAS_PK": "1396",
                                    "(No column name)": "3"
                                },
                                {
                                    "SZOBA_FK": "91",
                                    "FOGLALAS_PK": "1397",
                                    "(No column name)": "4"
                                },
                                {
                                    "SZOBA_FK": "103",
                                    "FOGLALAS_PK": "1398",
                                    "(No column name)": "1"
                                },
                                {
                                    "SZOBA_FK": "89",
                                    "FOGLALAS_PK": "1399",
                                    "(No column name)": "2"
                                },
                                {
                                    "SZOBA_FK": "162",
                                    "FOGLALAS_PK": "1400",
                                    "(No column name)": "1"
                                },
                                {
                                    "SZOBA_FK": "141",
                                    "FOGLALAS_PK": "1401",
                                    "(No column name)": "6"
                                },
                                {
                                    "SZOBA_FK": "98",
                                    "FOGLALAS_PK": "1402",
                                    "(No column name)": "2"
                                },
                                {
                                    "SZOBA_FK": "124",
                                    "FOGLALAS_PK": "1403",
                                    "(No column name)": "6"
                                },
                                {
                                    "SZOBA_FK": "187",
                                    "FOGLALAS_PK": "1404",
                                    "(No column name)": "2"
                                },
                                {
                                    "SZOBA_FK": "90",
                                    "FOGLALAS_PK": "1405",
                                    "(No column name)": "5"
                                },
                                {
                                    "SZOBA_FK": "82",
                                    "FOGLALAS_PK": "1406",
                                    "(No column name)": "1"
                                },
                                {
                                    "SZOBA_FK": "175",
                                    "FOGLALAS_PK": "1407",
                                    "(No column name)": "7"
                                },
                                {
                                    "SZOBA_FK": "99",
                                    "FOGLALAS_PK": "1408",
                                    "(No column name)": "1"
                                },
                                {
                                    "SZOBA_FK": "133",
                                    "FOGLALAS_PK": "1409",
                                    "(No column name)": "1"
                                },
                                {
                                    "SZOBA_FK": "182",
                                    "FOGLALAS_PK": "1410",
                                    "(No column name)": "4"
                                },
                                {
                                    "SZOBA_FK": "35",
                                    "FOGLALAS_PK": "1411",
                                    "(No column name)": "1"
                                },
                                {
                                    "SZOBA_FK": "75",
                                    "FOGLALAS_PK": "1412",
                                    "(No column name)": "2"
                                },
                                {
                                    "SZOBA_FK": "119",
                                    "FOGLALAS_PK": "1413",
                                    "(No column name)": "3"
                                },
                                {
                                    "SZOBA_FK": "167",
                                    "FOGLALAS_PK": "1414",
                                    "(No column name)": "3"
                                },
                                {
                                    "SZOBA_FK": "24",
                                    "FOGLALAS_PK": "1415",
                                    "(No column name)": "3"
                                },
                                {
                                    "SZOBA_FK": "38",
                                    "FOGLALAS_PK": "1416",
                                    "(No column name)": "5"
                                },
                                {
                                    "SZOBA_FK": "97",
                                    "FOGLALAS_PK": "1417",
                                    "(No column name)": "7"
                                },
                                {
                                    "SZOBA_FK": "15",
                                    "FOGLALAS_PK": "1418",
                                    "(No column name)": "4"
                                },
                                {
                                    "SZOBA_FK": "124",
                                    "FOGLALAS_PK": "1419",
                                    "(No column name)": "3"
                                },
                                {
                                    "SZOBA_FK": "198",
                                    "FOGLALAS_PK": "1420",
                                    "(No column name)": "5"
                                },
                                {
                                    "SZOBA_FK": "172",
                                    "FOGLALAS_PK": "1421",
                                    "(No column name)": "5"
                                },
                                {
                                    "SZOBA_FK": "182",
                                    "FOGLALAS_PK": "1422",
                                    "(No column name)": "3"
                                },
                                {
                                    "SZOBA_FK": "9",
                                    "FOGLALAS_PK": "1423",
                                    "(No column name)": "3"
                                },
                                {
                                    "SZOBA_FK": "110",
                                    "FOGLALAS_PK": "1424",
                                    "(No column name)": "1"
                                },
                                {
                                    "SZOBA_FK": "44",
                                    "FOGLALAS_PK": "1425",
                                    "(No column name)": "2"
                                },
                                {
                                    "SZOBA_FK": "62",
                                    "FOGLALAS_PK": "1426",
                                    "(No column name)": "4"
                                },
                                {
                                    "SZOBA_FK": "169",
                                    "FOGLALAS_PK": "1427",
                                    "(No column name)": "1"
                                },
                                {
                                    "SZOBA_FK": "126",
                                    "FOGLALAS_PK": "1428",
                                    "(No column name)": "7"
                                },
                                {
                                    "SZOBA_FK": "173",
                                    "FOGLALAS_PK": "1429",
                                    "(No column name)": "4"
                                },
                                {
                                    "SZOBA_FK": "12",
                                    "FOGLALAS_PK": "1430",
                                    "(No column name)": "2"
                                },
                                {
                                    "SZOBA_FK": "52",
                                    "FOGLALAS_PK": "1431",
                                    "(No column name)": "5"
                                },
                                {
                                    "SZOBA_FK": "150",
                                    "FOGLALAS_PK": "1432",
                                    "(No column name)": "3"
                                },
                                {
                                    "SZOBA_FK": "139",
                                    "FOGLALAS_PK": "1433",
                                    "(No column name)": "6"
                                },
                                {
                                    "SZOBA_FK": "3",
                                    "FOGLALAS_PK": "1434",
                                    "(No column name)": "5"
                                },
                                {
                                    "SZOBA_FK": "39",
                                    "FOGLALAS_PK": "1435",
                                    "(No column name)": "7"
                                },
                                {
                                    "SZOBA_FK": "35",
                                    "FOGLALAS_PK": "1436",
                                    "(No column name)": "1"
                                },
                                {
                                    "SZOBA_FK": "183",
                                    "FOGLALAS_PK": "1437",
                                    "(No column name)": "4"
                                },
                                {
                                    "SZOBA_FK": "96",
                                    "FOGLALAS_PK": "1438",
                                    "(No column name)": "2"
                                },
                                {
                                    "SZOBA_FK": "77",
                                    "FOGLALAS_PK": "1439",
                                    "(No column name)": "6"
                                },
                                {
                                    "SZOBA_FK": "122",
                                    "FOGLALAS_PK": "1440",
                                    "(No column name)": "3"
                                },
                                {
                                    "SZOBA_FK": "185",
                                    "FOGLALAS_PK": "1441",
                                    "(No column name)": "7"
                                },
                                {
                                    "SZOBA_FK": "15",
                                    "FOGLALAS_PK": "1442",
                                    "(No column name)": "3"
                                },
                                {
                                    "SZOBA_FK": "81",
                                    "FOGLALAS_PK": "1443",
                                    "(No column name)": "7"
                                },
                                {
                                    "SZOBA_FK": "42",
                                    "FOGLALAS_PK": "1444",
                                    "(No column name)": "6"
                                },
                                {
                                    "SZOBA_FK": "129",
                                    "FOGLALAS_PK": "1445",
                                    "(No column name)": "7"
                                },
                                {
                                    "SZOBA_FK": "64",
                                    "FOGLALAS_PK": "1446",
                                    "(No column name)": "6"
                                },
                                {
                                    "SZOBA_FK": "79",
                                    "FOGLALAS_PK": "1447",
                                    "(No column name)": "4"
                                },
                                {
                                    "SZOBA_FK": "143",
                                    "FOGLALAS_PK": "1448",
                                    "(No column name)": "6"
                                },
                                {
                                    "SZOBA_FK": "189",
                                    "FOGLALAS_PK": "1449",
                                    "(No column name)": "2"
                                },
                                {
                                    "SZOBA_FK": "139",
                                    "FOGLALAS_PK": "1450",
                                    "(No column name)": "7"
                                },
                                {
                                    "SZOBA_FK": "58",
                                    "FOGLALAS_PK": "1451",
                                    "(No column name)": "6"
                                },
                                {
                                    "SZOBA_FK": "107",
                                    "FOGLALAS_PK": "1452",
                                    "(No column name)": "6"
                                },
                                {
                                    "SZOBA_FK": "86",
                                    "FOGLALAS_PK": "1453",
                                    "(No column name)": "1"
                                },
                                {
                                    "SZOBA_FK": "39",
                                    "FOGLALAS_PK": "1454",
                                    "(No column name)": "1"
                                },
                                {
                                    "SZOBA_FK": "116",
                                    "FOGLALAS_PK": "1455",
                                    "(No column name)": "2"
                                },
                                {
                                    "SZOBA_FK": "87",
                                    "FOGLALAS_PK": "1456",
                                    "(No column name)": "5"
                                },
                                {
                                    "SZOBA_FK": "70",
                                    "FOGLALAS_PK": "1457",
                                    "(No column name)": "7"
                                },
                                {
                                    "SZOBA_FK": "75",
                                    "FOGLALAS_PK": "1458",
                                    "(No column name)": "1"
                                },
                                {
                                    "SZOBA_FK": "28",
                                    "FOGLALAS_PK": "1459",
                                    "(No column name)": "2"
                                },
                                {
                                    "SZOBA_FK": "153",
                                    "FOGLALAS_PK": "1460",
                                    "(No column name)": "3"
                                },
                                {
                                    "SZOBA_FK": "77",
                                    "FOGLALAS_PK": "1461",
                                    "(No column name)": "4"
                                },
                                {
                                    "SZOBA_FK": "156",
                                    "FOGLALAS_PK": "1462",
                                    "(No column name)": "7"
                                },
                                {
                                    "SZOBA_FK": "185",
                                    "FOGLALAS_PK": "1463",
                                    "(No column name)": "7"
                                },
                                {
                                    "SZOBA_FK": "81",
                                    "FOGLALAS_PK": "1464",
                                    "(No column name)": "7"
                                },
                                {
                                    "SZOBA_FK": "64",
                                    "FOGLALAS_PK": "1465",
                                    "(No column name)": "4"
                                },
                                {
                                    "SZOBA_FK": "57",
                                    "FOGLALAS_PK": "1466",
                                    "(No column name)": "7"
                                },
                                {
                                    "SZOBA_FK": "186",
                                    "FOGLALAS_PK": "1467",
                                    "(No column name)": "3"
                                },
                                {
                                    "SZOBA_FK": "117",
                                    "FOGLALAS_PK": "1468",
                                    "(No column name)": "7"
                                },
                                {
                                    "SZOBA_FK": "13",
                                    "FOGLALAS_PK": "1469",
                                    "(No column name)": "2"
                                },
                                {
                                    "SZOBA_FK": "153",
                                    "FOGLALAS_PK": "1470",
                                    "(No column name)": "5"
                                },
                                {
                                    "SZOBA_FK": "145",
                                    "FOGLALAS_PK": "1471",
                                    "(No column name)": "1"
                                },
                                {
                                    "SZOBA_FK": "118",
                                    "FOGLALAS_PK": "1472",
                                    "(No column name)": "6"
                                },
                                {
                                    "SZOBA_FK": "195",
                                    "FOGLALAS_PK": "1473",
                                    "(No column name)": "7"
                                },
                                {
                                    "SZOBA_FK": "131",
                                    "FOGLALAS_PK": "1474",
                                    "(No column name)": "5"
                                },
                                {
                                    "SZOBA_FK": "130",
                                    "FOGLALAS_PK": "1475",
                                    "(No column name)": "7"
                                },
                                {
                                    "SZOBA_FK": "27",
                                    "FOGLALAS_PK": "1476",
                                    "(No column name)": "1"
                                },
                                {
                                    "SZOBA_FK": "51",
                                    "FOGLALAS_PK": "1477",
                                    "(No column name)": "6"
                                },
                                {
                                    "SZOBA_FK": "38",
                                    "FOGLALAS_PK": "1478",
                                    "(No column name)": "4"
                                },
                                {
                                    "SZOBA_FK": "146",
                                    "FOGLALAS_PK": "1479",
                                    "(No column name)": "6"
                                },
                                {
                                    "SZOBA_FK": "35",
                                    "FOGLALAS_PK": "1480",
                                    "(No column name)": "37"
                                },
                                {
                                    "SZOBA_FK": "118",
                                    "FOGLALAS_PK": "1481",
                                    "(No column name)": "3"
                                },
                                {
                                    "SZOBA_FK": "100",
                                    "FOGLALAS_PK": "1482",
                                    "(No column name)": "7"
                                },
                                {
                                    "SZOBA_FK": "120",
                                    "FOGLALAS_PK": "1483",
                                    "(No column name)": "1"
                                },
                                {
                                    "SZOBA_FK": "195",
                                    "FOGLALAS_PK": "1484",
                                    "(No column name)": "1"
                                },
                                {
                                    "SZOBA_FK": "103",
                                    "FOGLALAS_PK": "1485",
                                    "(No column name)": "4"
                                },
                                {
                                    "SZOBA_FK": "99",
                                    "FOGLALAS_PK": "1486",
                                    "(No column name)": "5"
                                },
                                {
                                    "SZOBA_FK": "163",
                                    "FOGLALAS_PK": "1487",
                                    "(No column name)": "3"
                                },
                                {
                                    "SZOBA_FK": "119",
                                    "FOGLALAS_PK": "1488",
                                    "(No column name)": "3"
                                },
                                {
                                    "SZOBA_FK": "110",
                                    "FOGLALAS_PK": "1489",
                                    "(No column name)": "6"
                                },
                                {
                                    "SZOBA_FK": "156",
                                    "FOGLALAS_PK": "1490",
                                    "(No column name)": "1"
                                },
                                {
                                    "SZOBA_FK": "172",
                                    "FOGLALAS_PK": "1491",
                                    "(No column name)": "2"
                                },
                                {
                                    "SZOBA_FK": "4",
                                    "FOGLALAS_PK": "1492",
                                    "(No column name)": "6"
                                },
                                {
                                    "SZOBA_FK": "120",
                                    "FOGLALAS_PK": "1493",
                                    "(No column name)": "7"
                                },
                                {
                                    "SZOBA_FK": "107",
                                    "FOGLALAS_PK": "1494",
                                    "(No column name)": "2"
                                },
                                {
                                    "SZOBA_FK": "113",
                                    "FOGLALAS_PK": "1495",
                                    "(No column name)": "7"
                                },
                                {
                                    "SZOBA_FK": "61",
                                    "FOGLALAS_PK": "1496",
                                    "(No column name)": "7"
                                },
                                {
                                    "SZOBA_FK": "179",
                                    "FOGLALAS_PK": "1497",
                                    "(No column name)": "1"
                                },
                                {
                                    "SZOBA_FK": "16",
                                    "FOGLALAS_PK": "1498",
                                    "(No column name)": "7"
                                },
                                {
                                    "SZOBA_FK": "113",
                                    "FOGLALAS_PK": "1499",
                                    "(No column name)": "2"
                                },
                                {
                                    "SZOBA_FK": "126",
                                    "FOGLALAS_PK": "1500",
                                    "(No column name)": "4"
                                },
                                {
                                    "SZOBA_FK": "116",
                                    "FOGLALAS_PK": "1501",
                                    "(No column name)": "4"
                                },
                                {
                                    "SZOBA_FK": "191",
                                    "FOGLALAS_PK": "1502",
                                    "(No column name)": "2"
                                },
                                {
                                    "SZOBA_FK": "177",
                                    "FOGLALAS_PK": "1503",
                                    "(No column name)": "3"
                                },
                                {
                                    "SZOBA_FK": "57",
                                    "FOGLALAS_PK": "1504",
                                    "(No column name)": "4"
                                },
                                {
                                    "SZOBA_FK": "18",
                                    "FOGLALAS_PK": "1505",
                                    "(No column name)": "6"
                                },
                                {
                                    "SZOBA_FK": "81",
                                    "FOGLALAS_PK": "1506",
                                    "(No column name)": "3"
                                },
                                {
                                    "SZOBA_FK": "153",
                                    "FOGLALAS_PK": "1507",
                                    "(No column name)": "3"
                                },
                                {
                                    "SZOBA_FK": "191",
                                    "FOGLALAS_PK": "1508",
                                    "(No column name)": "7"
                                },
                                {
                                    "SZOBA_FK": "129",
                                    "FOGLALAS_PK": "1509",
                                    "(No column name)": "6"
                                },
                                {
                                    "SZOBA_FK": "106",
                                    "FOGLALAS_PK": "1510",
                                    "(No column name)": "6"
                                },
                                {
                                    "SZOBA_FK": "176",
                                    "FOGLALAS_PK": "1511",
                                    "(No column name)": "2"
                                },
                                {
                                    "SZOBA_FK": "55",
                                    "FOGLALAS_PK": "1512",
                                    "(No column name)": "1"
                                },
                                {
                                    "SZOBA_FK": "85",
                                    "FOGLALAS_PK": "1513",
                                    "(No column name)": "7"
                                },
                                {
                                    "SZOBA_FK": "149",
                                    "FOGLALAS_PK": "1514",
                                    "(No column name)": "5"
                                },
                                {
                                    "SZOBA_FK": "46",
                                    "FOGLALAS_PK": "1515",
                                    "(No column name)": "4"
                                },
                                {
                                    "SZOBA_FK": "101",
                                    "FOGLALAS_PK": "1516",
                                    "(No column name)": "4"
                                },
                                {
                                    "SZOBA_FK": "190",
                                    "FOGLALAS_PK": "1517",
                                    "(No column name)": "5"
                                },
                                {
                                    "SZOBA_FK": "94",
                                    "FOGLALAS_PK": "1518",
                                    "(No column name)": "2"
                                },
                                {
                                    "SZOBA_FK": "132",
                                    "FOGLALAS_PK": "1519",
                                    "(No column name)": "2"
                                },
                                {
                                    "SZOBA_FK": "55",
                                    "FOGLALAS_PK": "1520",
                                    "(No column name)": "1"
                                },
                                {
                                    "SZOBA_FK": "89",
                                    "FOGLALAS_PK": "1521",
                                    "(No column name)": "7"
                                },
                                {
                                    "SZOBA_FK": "104",
                                    "FOGLALAS_PK": "1522",
                                    "(No column name)": "2"
                                },
                                {
                                    "SZOBA_FK": "11",
                                    "FOGLALAS_PK": "1523",
                                    "(No column name)": "1"
                                },
                                {
                                    "SZOBA_FK": "43",
                                    "FOGLALAS_PK": "1524",
                                    "(No column name)": "1"
                                },
                                {
                                    "SZOBA_FK": "105",
                                    "FOGLALAS_PK": "1525",
                                    "(No column name)": "5"
                                },
                                {
                                    "SZOBA_FK": "166",
                                    "FOGLALAS_PK": "1526",
                                    "(No column name)": "2"
                                },
                                {
                                    "SZOBA_FK": "92",
                                    "FOGLALAS_PK": "1527",
                                    "(No column name)": "2"
                                },
                                {
                                    "SZOBA_FK": "97",
                                    "FOGLALAS_PK": "1528",
                                    "(No column name)": "2"
                                },
                                {
                                    "SZOBA_FK": "35",
                                    "FOGLALAS_PK": "1529",
                                    "(No column name)": "4"
                                },
                                {
                                    "SZOBA_FK": "112",
                                    "FOGLALAS_PK": "1530",
                                    "(No column name)": "6"
                                },
                                {
                                    "SZOBA_FK": "124",
                                    "FOGLALAS_PK": "1531",
                                    "(No column name)": "6"
                                },
                                {
                                    "SZOBA_FK": "104",
                                    "FOGLALAS_PK": "1532",
                                    "(No column name)": "3"
                                },
                                {
                                    "SZOBA_FK": "19",
                                    "FOGLALAS_PK": "1533",
                                    "(No column name)": "1"
                                },
                                {
                                    "SZOBA_FK": "52",
                                    "FOGLALAS_PK": "1534",
                                    "(No column name)": "5"
                                },
                                {
                                    "SZOBA_FK": "134",
                                    "FOGLALAS_PK": "1535",
                                    "(No column name)": "7"
                                },
                                {
                                    "SZOBA_FK": "49",
                                    "FOGLALAS_PK": "1536",
                                    "(No column name)": "6"
                                },
                                {
                                    "SZOBA_FK": "9",
                                    "FOGLALAS_PK": "1537",
                                    "(No column name)": "3"
                                },
                                {
                                    "SZOBA_FK": "39",
                                    "FOGLALAS_PK": "1538",
                                    "(No column name)": "2"
                                },
                                {
                                    "SZOBA_FK": "154",
                                    "FOGLALAS_PK": "1539",
                                    "(No column name)": "2"
                                },
                                {
                                    "SZOBA_FK": "114",
                                    "FOGLALAS_PK": "1540",
                                    "(No column name)": "3"
                                },
                                {
                                    "SZOBA_FK": "155",
                                    "FOGLALAS_PK": "1541",
                                    "(No column name)": "1"
                                },
                                {
                                    "SZOBA_FK": "14",
                                    "FOGLALAS_PK": "1542",
                                    "(No column name)": "4"
                                },
                                {
                                    "SZOBA_FK": "95",
                                    "FOGLALAS_PK": "1543",
                                    "(No column name)": "7"
                                },
                                {
                                    "SZOBA_FK": "3",
                                    "FOGLALAS_PK": "1544",
                                    "(No column name)": "5"
                                },
                                {
                                    "SZOBA_FK": "142",
                                    "FOGLALAS_PK": "1545",
                                    "(No column name)": "3"
                                },
                                {
                                    "SZOBA_FK": "48",
                                    "FOGLALAS_PK": "1546",
                                    "(No column name)": "3"
                                },
                                {
                                    "SZOBA_FK": "48",
                                    "FOGLALAS_PK": "1547",
                                    "(No column name)": "1"
                                },
                                {
                                    "SZOBA_FK": "88",
                                    "FOGLALAS_PK": "1548",
                                    "(No column name)": "7"
                                },
                                {
                                    "SZOBA_FK": "17",
                                    "FOGLALAS_PK": "1549",
                                    "(No column name)": "3"
                                },
                                {
                                    "SZOBA_FK": "51",
                                    "FOGLALAS_PK": "1550",
                                    "(No column name)": "1"
                                },
                                {
                                    "SZOBA_FK": "157",
                                    "FOGLALAS_PK": "1551",
                                    "(No column name)": "3"
                                },
                                {
                                    "SZOBA_FK": "44",
                                    "FOGLALAS_PK": "1552",
                                    "(No column name)": "2"
                                },
                                {
                                    "SZOBA_FK": "43",
                                    "FOGLALAS_PK": "1553",
                                    "(No column name)": "5"
                                },
                                {
                                    "SZOBA_FK": "115",
                                    "FOGLALAS_PK": "1554",
                                    "(No column name)": "3"
                                },
                                {
                                    "SZOBA_FK": "92",
                                    "FOGLALAS_PK": "1555",
                                    "(No column name)": "4"
                                },
                                {
                                    "SZOBA_FK": "38",
                                    "FOGLALAS_PK": "1556",
                                    "(No column name)": "6"
                                },
                                {
                                    "SZOBA_FK": "76",
                                    "FOGLALAS_PK": "1557",
                                    "(No column name)": "3"
                                },
                                {
                                    "SZOBA_FK": "152",
                                    "FOGLALAS_PK": "1558",
                                    "(No column name)": "2"
                                },
                                {
                                    "SZOBA_FK": "180",
                                    "FOGLALAS_PK": "1559",
                                    "(No column name)": "3"
                                },
                                {
                                    "SZOBA_FK": "109",
                                    "FOGLALAS_PK": "1560",
                                    "(No column name)": "1"
                                },
                                {
                                    "SZOBA_FK": "156",
                                    "FOGLALAS_PK": "1561",
                                    "(No column name)": "4"
                                },
                                {
                                    "SZOBA_FK": "81",
                                    "FOGLALAS_PK": "1562",
                                    "(No column name)": "3"
                                },
                                {
                                    "SZOBA_FK": "180",
                                    "FOGLALAS_PK": "1563",
                                    "(No column name)": "6"
                                },
                                {
                                    "SZOBA_FK": "94",
                                    "FOGLALAS_PK": "1564",
                                    "(No column name)": "7"
                                },
                                {
                                    "SZOBA_FK": "160",
                                    "FOGLALAS_PK": "1565",
                                    "(No column name)": "3"
                                },
                                {
                                    "SZOBA_FK": "115",
                                    "FOGLALAS_PK": "1566",
                                    "(No column name)": "1"
                                },
                                {
                                    "SZOBA_FK": "171",
                                    "FOGLALAS_PK": "1567",
                                    "(No column name)": "6"
                                },
                                {
                                    "SZOBA_FK": "29",
                                    "FOGLALAS_PK": "1568",
                                    "(No column name)": "7"
                                },
                                {
                                    "SZOBA_FK": "96",
                                    "FOGLALAS_PK": "1569",
                                    "(No column name)": "7"
                                },
                                {
                                    "SZOBA_FK": "176",
                                    "FOGLALAS_PK": "1570",
                                    "(No column name)": "3"
                                },
                                {
                                    "SZOBA_FK": "161",
                                    "FOGLALAS_PK": "1571",
                                    "(No column name)": "4"
                                },
                                {
                                    "SZOBA_FK": "144",
                                    "FOGLALAS_PK": "1572",
                                    "(No column name)": "2"
                                },
                                {
                                    "SZOBA_FK": "59",
                                    "FOGLALAS_PK": "1573",
                                    "(No column name)": "1"
                                },
                                {
                                    "SZOBA_FK": "128",
                                    "FOGLALAS_PK": "1574",
                                    "(No column name)": "1"
                                },
                                {
                                    "SZOBA_FK": "88",
                                    "FOGLALAS_PK": "1575",
                                    "(No column name)": "6"
                                },
                                {
                                    "SZOBA_FK": "189",
                                    "FOGLALAS_PK": "1576",
                                    "(No column name)": "3"
                                },
                                {
                                    "SZOBA_FK": "78",
                                    "FOGLALAS_PK": "1577",
                                    "(No column name)": "7"
                                },
                                {
                                    "SZOBA_FK": "148",
                                    "FOGLALAS_PK": "1578",
                                    "(No column name)": "7"
                                },
                                {
                                    "SZOBA_FK": "127",
                                    "FOGLALAS_PK": "1579",
                                    "(No column name)": "5"
                                },
                                {
                                    "SZOBA_FK": "67",
                                    "FOGLALAS_PK": "1580",
                                    "(No column name)": "5"
                                },
                                {
                                    "SZOBA_FK": "48",
                                    "FOGLALAS_PK": "1581",
                                    "(No column name)": "5"
                                },
                                {
                                    "SZOBA_FK": "64",
                                    "FOGLALAS_PK": "1582",
                                    "(No column name)": "1"
                                },
                                {
                                    "SZOBA_FK": "128",
                                    "FOGLALAS_PK": "1583",
                                    "(No column name)": "4"
                                },
                                {
                                    "SZOBA_FK": "67",
                                    "FOGLALAS_PK": "1584",
                                    "(No column name)": "1"
                                }
                            ]
                        },
                        "text/html": [
                            "<table>",
                            "<tr><th>SZOBA_FK</th><th>FOGLALAS_PK</th><th>(No column name)</th></tr>",
                            "<tr><td>87</td><td>558</td><td>4</td></tr>",
                            "<tr><td>131</td><td>559</td><td>2</td></tr>",
                            "<tr><td>6</td><td>560</td><td>6</td></tr>",
                            "<tr><td>42</td><td>561</td><td>4</td></tr>",
                            "<tr><td>7</td><td>562</td><td>4</td></tr>",
                            "<tr><td>68</td><td>563</td><td>5</td></tr>",
                            "<tr><td>5</td><td>564</td><td>2</td></tr>",
                            "<tr><td>141</td><td>565</td><td>6</td></tr>",
                            "<tr><td>21</td><td>566</td><td>6</td></tr>",
                            "<tr><td>170</td><td>567</td><td>7</td></tr>",
                            "<tr><td>78</td><td>568</td><td>1</td></tr>",
                            "<tr><td>10</td><td>569</td><td>3</td></tr>",
                            "<tr><td>164</td><td>570</td><td>7</td></tr>",
                            "<tr><td>182</td><td>571</td><td>2</td></tr>",
                            "<tr><td>83</td><td>572</td><td>7</td></tr>",
                            "<tr><td>169</td><td>573</td><td>5</td></tr>",
                            "<tr><td>171</td><td>574</td><td>2</td></tr>",
                            "<tr><td>155</td><td>575</td><td>1</td></tr>",
                            "<tr><td>125</td><td>576</td><td>1</td></tr>",
                            "<tr><td>155</td><td>577</td><td>3</td></tr>",
                            "<tr><td>185</td><td>578</td><td>6</td></tr>",
                            "<tr><td>139</td><td>579</td><td>2</td></tr>",
                            "<tr><td>130</td><td>580</td><td>3</td></tr>",
                            "<tr><td>144</td><td>581</td><td>4</td></tr>",
                            "<tr><td>137</td><td>582</td><td>3</td></tr>",
                            "<tr><td>79</td><td>583</td><td>6</td></tr>",
                            "<tr><td>136</td><td>584</td><td>2</td></tr>",
                            "<tr><td>70</td><td>585</td><td>5</td></tr>",
                            "<tr><td>107</td><td>586</td><td>6</td></tr>",
                            "<tr><td>123</td><td>587</td><td>7</td></tr>",
                            "<tr><td>156</td><td>588</td><td>7</td></tr>",
                            "<tr><td>44</td><td>589</td><td>2</td></tr>",
                            "<tr><td>42</td><td>590</td><td>5</td></tr>",
                            "<tr><td>149</td><td>591</td><td>1</td></tr>",
                            "<tr><td>176</td><td>592</td><td>5</td></tr>",
                            "<tr><td>77</td><td>593</td><td>3</td></tr>",
                            "<tr><td>153</td><td>594</td><td>3</td></tr>",
                            "<tr><td>74</td><td>595</td><td>7</td></tr>",
                            "<tr><td>115</td><td>596</td><td>7</td></tr>",
                            "<tr><td>100</td><td>597</td><td>1</td></tr>",
                            "<tr><td>31</td><td>598</td><td>2</td></tr>",
                            "<tr><td>162</td><td>599</td><td>4</td></tr>",
                            "<tr><td>190</td><td>600</td><td>7</td></tr>",
                            "<tr><td>39</td><td>601</td><td>6</td></tr>",
                            "<tr><td>17</td><td>602</td><td>6</td></tr>",
                            "<tr><td>48</td><td>603</td><td>3</td></tr>",
                            "<tr><td>30</td><td>604</td><td>2</td></tr>",
                            "<tr><td>111</td><td>605</td><td>7</td></tr>",
                            "<tr><td>31</td><td>606</td><td>1</td></tr>",
                            "<tr><td>96</td><td>607</td><td>4</td></tr>",
                            "<tr><td>184</td><td>608</td><td>2</td></tr>",
                            "<tr><td>9</td><td>609</td><td>2</td></tr>",
                            "<tr><td>106</td><td>610</td><td>3</td></tr>",
                            "<tr><td>29</td><td>611</td><td>5</td></tr>",
                            "<tr><td>117</td><td>612</td><td>2</td></tr>",
                            "<tr><td>130</td><td>613</td><td>3</td></tr>",
                            "<tr><td>109</td><td>614</td><td>4</td></tr>",
                            "<tr><td>186</td><td>615</td><td>3</td></tr>",
                            "<tr><td>94</td><td>616</td><td>4</td></tr>",
                            "<tr><td>117</td><td>617</td><td>3</td></tr>",
                            "<tr><td>105</td><td>618</td><td>1</td></tr>",
                            "<tr><td>132</td><td>619</td><td>7</td></tr>",
                            "<tr><td>1</td><td>620</td><td>5</td></tr>",
                            "<tr><td>109</td><td>621</td><td>7</td></tr>",
                            "<tr><td>54</td><td>622</td><td>7</td></tr>",
                            "<tr><td>96</td><td>623</td><td>7</td></tr>",
                            "<tr><td>33</td><td>624</td><td>6</td></tr>",
                            "<tr><td>63</td><td>625</td><td>3</td></tr>",
                            "<tr><td>18</td><td>626</td><td>3</td></tr>",
                            "<tr><td>38</td><td>627</td><td>6</td></tr>",
                            "<tr><td>48</td><td>628</td><td>2</td></tr>",
                            "<tr><td>3</td><td>629</td><td>4</td></tr>",
                            "<tr><td>163</td><td>630</td><td>2</td></tr>",
                            "<tr><td>98</td><td>631</td><td>6</td></tr>",
                            "<tr><td>99</td><td>632</td><td>1</td></tr>",
                            "<tr><td>187</td><td>633</td><td>6</td></tr>",
                            "<tr><td>193</td><td>634</td><td>6</td></tr>",
                            "<tr><td>97</td><td>635</td><td>3</td></tr>",
                            "<tr><td>91</td><td>636</td><td>6</td></tr>",
                            "<tr><td>100</td><td>637</td><td>5</td></tr>",
                            "<tr><td>67</td><td>638</td><td>5</td></tr>",
                            "<tr><td>161</td><td>639</td><td>4</td></tr>",
                            "<tr><td>165</td><td>640</td><td>3</td></tr>",
                            "<tr><td>150</td><td>641</td><td>3</td></tr>",
                            "<tr><td>54</td><td>642</td><td>5</td></tr>",
                            "<tr><td>127</td><td>643</td><td>2</td></tr>",
                            "<tr><td>166</td><td>644</td><td>7</td></tr>",
                            "<tr><td>67</td><td>645</td><td>6</td></tr>",
                            "<tr><td>78</td><td>646</td><td>3</td></tr>",
                            "<tr><td>85</td><td>647</td><td>3</td></tr>",
                            "<tr><td>157</td><td>648</td><td>4</td></tr>",
                            "<tr><td>137</td><td>649</td><td>5</td></tr>",
                            "<tr><td>65</td><td>650</td><td>6</td></tr>",
                            "<tr><td>4</td><td>651</td><td>7</td></tr>",
                            "<tr><td>149</td><td>652</td><td>1</td></tr>",
                            "<tr><td>161</td><td>653</td><td>7</td></tr>",
                            "<tr><td>109</td><td>654</td><td>5</td></tr>",
                            "<tr><td>131</td><td>655</td><td>1</td></tr>",
                            "<tr><td>95</td><td>656</td><td>7</td></tr>",
                            "<tr><td>137</td><td>657</td><td>6</td></tr>",
                            "<tr><td>44</td><td>658</td><td>6</td></tr>",
                            "<tr><td>169</td><td>659</td><td>6</td></tr>",
                            "<tr><td>21</td><td>660</td><td>5</td></tr>",
                            "<tr><td>136</td><td>661</td><td>5</td></tr>",
                            "<tr><td>179</td><td>662</td><td>2</td></tr>",
                            "<tr><td>14</td><td>663</td><td>1</td></tr>",
                            "<tr><td>146</td><td>664</td><td>3</td></tr>",
                            "<tr><td>94</td><td>665</td><td>7</td></tr>",
                            "<tr><td>3</td><td>666</td><td>6</td></tr>",
                            "<tr><td>80</td><td>667</td><td>6</td></tr>",
                            "<tr><td>54</td><td>668</td><td>1</td></tr>",
                            "<tr><td>173</td><td>669</td><td>7</td></tr>",
                            "<tr><td>43</td><td>670</td><td>4</td></tr>",
                            "<tr><td>96</td><td>671</td><td>4</td></tr>",
                            "<tr><td>185</td><td>672</td><td>3</td></tr>",
                            "<tr><td>196</td><td>673</td><td>5</td></tr>",
                            "<tr><td>83</td><td>674</td><td>4</td></tr>",
                            "<tr><td>193</td><td>675</td><td>2</td></tr>",
                            "<tr><td>60</td><td>676</td><td>2</td></tr>",
                            "<tr><td>181</td><td>677</td><td>4</td></tr>",
                            "<tr><td>148</td><td>678</td><td>4</td></tr>",
                            "<tr><td>185</td><td>679</td><td>5</td></tr>",
                            "<tr><td>192</td><td>680</td><td>4</td></tr>",
                            "<tr><td>71</td><td>681</td><td>3</td></tr>",
                            "<tr><td>174</td><td>682</td><td>3</td></tr>",
                            "<tr><td>76</td><td>683</td><td>7</td></tr>",
                            "<tr><td>184</td><td>684</td><td>3</td></tr>",
                            "<tr><td>110</td><td>685</td><td>1</td></tr>",
                            "<tr><td>35</td><td>686</td><td>6</td></tr>",
                            "<tr><td>16</td><td>687</td><td>3</td></tr>",
                            "<tr><td>37</td><td>688</td><td>2</td></tr>",
                            "<tr><td>102</td><td>689</td><td>5</td></tr>",
                            "<tr><td>188</td><td>690</td><td>4</td></tr>",
                            "<tr><td>99</td><td>691</td><td>5</td></tr>",
                            "<tr><td>156</td><td>692</td><td>6</td></tr>",
                            "<tr><td>185</td><td>693</td><td>2</td></tr>",
                            "<tr><td>8</td><td>694</td><td>4</td></tr>",
                            "<tr><td>187</td><td>695</td><td>6</td></tr>",
                            "<tr><td>19</td><td>696</td><td>1</td></tr>",
                            "<tr><td>12</td><td>697</td><td>2</td></tr>",
                            "<tr><td>77</td><td>698</td><td>4</td></tr>",
                            "<tr><td>189</td><td>699</td><td>2</td></tr>",
                            "<tr><td>78</td><td>700</td><td>5</td></tr>",
                            "<tr><td>61</td><td>701</td><td>2</td></tr>",
                            "<tr><td>62</td><td>702</td><td>5</td></tr>",
                            "<tr><td>145</td><td>703</td><td>4</td></tr>",
                            "<tr><td>70</td><td>704</td><td>3</td></tr>",
                            "<tr><td>37</td><td>705</td><td>4</td></tr>",
                            "<tr><td>119</td><td>706</td><td>2</td></tr>",
                            "<tr><td>35</td><td>707</td><td>2</td></tr>",
                            "<tr><td>106</td><td>708</td><td>7</td></tr>",
                            "<tr><td>172</td><td>709</td><td>5</td></tr>",
                            "<tr><td>188</td><td>710</td><td>7</td></tr>",
                            "<tr><td>185</td><td>711</td><td>3</td></tr>",
                            "<tr><td>71</td><td>712</td><td>1</td></tr>",
                            "<tr><td>17</td><td>713</td><td>6</td></tr>",
                            "<tr><td>73</td><td>714</td><td>7</td></tr>",
                            "<tr><td>101</td><td>715</td><td>3</td></tr>",
                            "<tr><td>118</td><td>716</td><td>1</td></tr>",
                            "<tr><td>128</td><td>717</td><td>2</td></tr>",
                            "<tr><td>97</td><td>718</td><td>7</td></tr>",
                            "<tr><td>58</td><td>719</td><td>3</td></tr>",
                            "<tr><td>160</td><td>720</td><td>2</td></tr>",
                            "<tr><td>195</td><td>721</td><td>4</td></tr>",
                            "<tr><td>119</td><td>722</td><td>1</td></tr>",
                            "<tr><td>129</td><td>723</td><td>7</td></tr>",
                            "<tr><td>135</td><td>724</td><td>6</td></tr>",
                            "<tr><td>28</td><td>725</td><td>5</td></tr>",
                            "<tr><td>97</td><td>726</td><td>4</td></tr>",
                            "<tr><td>94</td><td>727</td><td>3</td></tr>",
                            "<tr><td>31</td><td>728</td><td>4</td></tr>",
                            "<tr><td>90</td><td>729</td><td>2</td></tr>",
                            "<tr><td>152</td><td>730</td><td>2</td></tr>",
                            "<tr><td>181</td><td>731</td><td>6</td></tr>",
                            "<tr><td>91</td><td>732</td><td>4</td></tr>",
                            "<tr><td>140</td><td>733</td><td>1</td></tr>",
                            "<tr><td>55</td><td>734</td><td>6</td></tr>",
                            "<tr><td>121</td><td>735</td><td>6</td></tr>",
                            "<tr><td>66</td><td>736</td><td>3</td></tr>",
                            "<tr><td>114</td><td>737</td><td>2</td></tr>",
                            "<tr><td>1</td><td>738</td><td>7</td></tr>",
                            "<tr><td>121</td><td>739</td><td>6</td></tr>",
                            "<tr><td>182</td><td>740</td><td>3</td></tr>",
                            "<tr><td>93</td><td>741</td><td>7</td></tr>",
                            "<tr><td>164</td><td>742</td><td>6</td></tr>",
                            "<tr><td>187</td><td>743</td><td>2</td></tr>",
                            "<tr><td>17</td><td>744</td><td>1</td></tr>",
                            "<tr><td>139</td><td>745</td><td>1</td></tr>",
                            "<tr><td>169</td><td>746</td><td>7</td></tr>",
                            "<tr><td>188</td><td>747</td><td>3</td></tr>",
                            "<tr><td>36</td><td>748</td><td>2</td></tr>",
                            "<tr><td>172</td><td>749</td><td>6</td></tr>",
                            "<tr><td>36</td><td>750</td><td>6</td></tr>",
                            "<tr><td>139</td><td>751</td><td>4</td></tr>",
                            "<tr><td>46</td><td>752</td><td>5</td></tr>",
                            "<tr><td>189</td><td>753</td><td>1</td></tr>",
                            "<tr><td>126</td><td>754</td><td>4</td></tr>",
                            "<tr><td>20</td><td>755</td><td>6</td></tr>",
                            "<tr><td>61</td><td>756</td><td>6</td></tr>",
                            "<tr><td>88</td><td>757</td><td>7</td></tr>",
                            "<tr><td>27</td><td>758</td><td>3</td></tr>",
                            "<tr><td>7</td><td>759</td><td>7</td></tr>",
                            "<tr><td>131</td><td>760</td><td>4</td></tr>",
                            "<tr><td>141</td><td>761</td><td>3</td></tr>",
                            "<tr><td>120</td><td>762</td><td>3</td></tr>",
                            "<tr><td>13</td><td>763</td><td>4</td></tr>",
                            "<tr><td>197</td><td>764</td><td>7</td></tr>",
                            "<tr><td>148</td><td>765</td><td>3</td></tr>",
                            "<tr><td>187</td><td>766</td><td>1</td></tr>",
                            "<tr><td>18</td><td>767</td><td>3</td></tr>",
                            "<tr><td>138</td><td>768</td><td>6</td></tr>",
                            "<tr><td>63</td><td>769</td><td>5</td></tr>",
                            "<tr><td>42</td><td>770</td><td>3</td></tr>",
                            "<tr><td>147</td><td>771</td><td>4</td></tr>",
                            "<tr><td>6</td><td>772</td><td>6</td></tr>",
                            "<tr><td>58</td><td>773</td><td>2</td></tr>",
                            "<tr><td>190</td><td>774</td><td>5</td></tr>",
                            "<tr><td>12</td><td>775</td><td>4</td></tr>",
                            "<tr><td>112</td><td>776</td><td>4</td></tr>",
                            "<tr><td>34</td><td>777</td><td>3</td></tr>",
                            "<tr><td>19</td><td>778</td><td>1</td></tr>",
                            "<tr><td>130</td><td>779</td><td>6</td></tr>",
                            "<tr><td>96</td><td>780</td><td>1</td></tr>",
                            "<tr><td>166</td><td>781</td><td>7</td></tr>",
                            "<tr><td>163</td><td>782</td><td>3</td></tr>",
                            "<tr><td>148</td><td>783</td><td>7</td></tr>",
                            "<tr><td>141</td><td>784</td><td>7</td></tr>",
                            "<tr><td>177</td><td>785</td><td>3</td></tr>",
                            "<tr><td>111</td><td>786</td><td>4</td></tr>",
                            "<tr><td>50</td><td>787</td><td>3</td></tr>",
                            "<tr><td>3</td><td>788</td><td>6</td></tr>",
                            "<tr><td>146</td><td>789</td><td>7</td></tr>",
                            "<tr><td>10</td><td>790</td><td>5</td></tr>",
                            "<tr><td>15</td><td>791</td><td>5</td></tr>",
                            "<tr><td>168</td><td>792</td><td>3</td></tr>",
                            "<tr><td>49</td><td>793</td><td>6</td></tr>",
                            "<tr><td>168</td><td>794</td><td>4</td></tr>",
                            "<tr><td>10</td><td>795</td><td>4</td></tr>",
                            "<tr><td>138</td><td>796</td><td>4</td></tr>",
                            "<tr><td>74</td><td>797</td><td>5</td></tr>",
                            "<tr><td>83</td><td>798</td><td>4</td></tr>",
                            "<tr><td>175</td><td>799</td><td>4</td></tr>",
                            "<tr><td>45</td><td>800</td><td>5</td></tr>",
                            "<tr><td>112</td><td>801</td><td>5</td></tr>",
                            "<tr><td>45</td><td>802</td><td>7</td></tr>",
                            "<tr><td>1</td><td>803</td><td>4</td></tr>",
                            "<tr><td>146</td><td>804</td><td>7</td></tr>",
                            "<tr><td>21</td><td>805</td><td>1</td></tr>",
                            "<tr><td>126</td><td>806</td><td>6</td></tr>",
                            "<tr><td>27</td><td>807</td><td>2</td></tr>",
                            "<tr><td>148</td><td>808</td><td>2</td></tr>",
                            "<tr><td>92</td><td>809</td><td>3</td></tr>",
                            "<tr><td>109</td><td>810</td><td>2</td></tr>",
                            "<tr><td>51</td><td>811</td><td>2</td></tr>",
                            "<tr><td>148</td><td>812</td><td>6</td></tr>",
                            "<tr><td>14</td><td>813</td><td>3</td></tr>",
                            "<tr><td>70</td><td>814</td><td>3</td></tr>",
                            "<tr><td>128</td><td>815</td><td>1</td></tr>",
                            "<tr><td>178</td><td>816</td><td>4</td></tr>",
                            "<tr><td>89</td><td>817</td><td>3</td></tr>",
                            "<tr><td>8</td><td>818</td><td>4</td></tr>",
                            "<tr><td>84</td><td>819</td><td>2</td></tr>",
                            "<tr><td>20</td><td>820</td><td>1</td></tr>",
                            "<tr><td>34</td><td>821</td><td>1</td></tr>",
                            "<tr><td>52</td><td>822</td><td>7</td></tr>",
                            "<tr><td>44</td><td>823</td><td>2</td></tr>",
                            "<tr><td>48</td><td>824</td><td>2</td></tr>",
                            "<tr><td>158</td><td>825</td><td>4</td></tr>",
                            "<tr><td>49</td><td>826</td><td>4</td></tr>",
                            "<tr><td>114</td><td>827</td><td>7</td></tr>",
                            "<tr><td>2</td><td>828</td><td>3</td></tr>",
                            "<tr><td>35</td><td>829</td><td>2</td></tr>",
                            "<tr><td>74</td><td>830</td><td>1</td></tr>",
                            "<tr><td>177</td><td>831</td><td>7</td></tr>",
                            "<tr><td>8</td><td>832</td><td>4</td></tr>",
                            "<tr><td>149</td><td>833</td><td>2</td></tr>",
                            "<tr><td>149</td><td>834</td><td>5</td></tr>",
                            "<tr><td>193</td><td>835</td><td>2</td></tr>",
                            "<tr><td>97</td><td>836</td><td>2</td></tr>",
                            "<tr><td>104</td><td>837</td><td>4</td></tr>",
                            "<tr><td>56</td><td>838</td><td>2</td></tr>",
                            "<tr><td>172</td><td>839</td><td>5</td></tr>",
                            "<tr><td>158</td><td>840</td><td>4</td></tr>",
                            "<tr><td>92</td><td>841</td><td>6</td></tr>",
                            "<tr><td>195</td><td>842</td><td>4</td></tr>",
                            "<tr><td>149</td><td>843</td><td>4</td></tr>",
                            "<tr><td>87</td><td>844</td><td>1</td></tr>",
                            "<tr><td>63</td><td>845</td><td>1</td></tr>",
                            "<tr><td>45</td><td>846</td><td>3</td></tr>",
                            "<tr><td>74</td><td>847</td><td>3</td></tr>",
                            "<tr><td>23</td><td>848</td><td>1</td></tr>",
                            "<tr><td>135</td><td>849</td><td>7</td></tr>",
                            "<tr><td>6</td><td>850</td><td>2</td></tr>",
                            "<tr><td>42</td><td>851</td><td>7</td></tr>",
                            "<tr><td>24</td><td>852</td><td>2</td></tr>",
                            "<tr><td>127</td><td>853</td><td>5</td></tr>",
                            "<tr><td>167</td><td>854</td><td>7</td></tr>",
                            "<tr><td>53</td><td>855</td><td>1</td></tr>",
                            "<tr><td>16</td><td>856</td><td>6</td></tr>",
                            "<tr><td>165</td><td>857</td><td>5</td></tr>",
                            "<tr><td>121</td><td>858</td><td>5</td></tr>",
                            "<tr><td>86</td><td>859</td><td>1</td></tr>",
                            "<tr><td>70</td><td>860</td><td>2</td></tr>",
                            "<tr><td>124</td><td>861</td><td>1</td></tr>",
                            "<tr><td>82</td><td>862</td><td>4</td></tr>",
                            "<tr><td>185</td><td>863</td><td>4</td></tr>",
                            "<tr><td>118</td><td>864</td><td>6</td></tr>",
                            "<tr><td>51</td><td>865</td><td>7</td></tr>",
                            "<tr><td>88</td><td>866</td><td>2</td></tr>",
                            "<tr><td>175</td><td>867</td><td>6</td></tr>",
                            "<tr><td>187</td><td>868</td><td>4</td></tr>",
                            "<tr><td>83</td><td>869</td><td>6</td></tr>",
                            "<tr><td>34</td><td>870</td><td>6</td></tr>",
                            "<tr><td>82</td><td>871</td><td>5</td></tr>",
                            "<tr><td>28</td><td>872</td><td>5</td></tr>",
                            "<tr><td>6</td><td>873</td><td>3</td></tr>",
                            "<tr><td>67</td><td>874</td><td>6</td></tr>",
                            "<tr><td>64</td><td>875</td><td>2</td></tr>",
                            "<tr><td>12</td><td>876</td><td>7</td></tr>",
                            "<tr><td>74</td><td>877</td><td>4</td></tr>",
                            "<tr><td>83</td><td>878</td><td>6</td></tr>",
                            "<tr><td>127</td><td>879</td><td>2</td></tr>",
                            "<tr><td>184</td><td>880</td><td>4</td></tr>",
                            "<tr><td>131</td><td>881</td><td>6</td></tr>",
                            "<tr><td>8</td><td>882</td><td>1</td></tr>",
                            "<tr><td>58</td><td>883</td><td>5</td></tr>",
                            "<tr><td>98</td><td>884</td><td>5</td></tr>",
                            "<tr><td>69</td><td>885</td><td>1</td></tr>",
                            "<tr><td>28</td><td>886</td><td>4</td></tr>",
                            "<tr><td>80</td><td>887</td><td>6</td></tr>",
                            "<tr><td>49</td><td>888</td><td>7</td></tr>",
                            "<tr><td>54</td><td>889</td><td>2</td></tr>",
                            "<tr><td>146</td><td>890</td><td>3</td></tr>",
                            "<tr><td>63</td><td>891</td><td>6</td></tr>",
                            "<tr><td>165</td><td>892</td><td>3</td></tr>",
                            "<tr><td>151</td><td>893</td><td>3</td></tr>",
                            "<tr><td>29</td><td>894</td><td>1</td></tr>",
                            "<tr><td>36</td><td>895</td><td>5</td></tr>",
                            "<tr><td>16</td><td>896</td><td>1</td></tr>",
                            "<tr><td>165</td><td>897</td><td>6</td></tr>",
                            "<tr><td>185</td><td>898</td><td>4</td></tr>",
                            "<tr><td>39</td><td>899</td><td>6</td></tr>",
                            "<tr><td>165</td><td>900</td><td>6</td></tr>",
                            "<tr><td>28</td><td>901</td><td>4</td></tr>",
                            "<tr><td>72</td><td>902</td><td>5</td></tr>",
                            "<tr><td>192</td><td>903</td><td>7</td></tr>",
                            "<tr><td>34</td><td>904</td><td>2</td></tr>",
                            "<tr><td>180</td><td>905</td><td>5</td></tr>",
                            "<tr><td>22</td><td>906</td><td>1</td></tr>",
                            "<tr><td>156</td><td>907</td><td>3</td></tr>",
                            "<tr><td>141</td><td>908</td><td>2</td></tr>",
                            "<tr><td>133</td><td>909</td><td>4</td></tr>",
                            "<tr><td>130</td><td>910</td><td>2</td></tr>",
                            "<tr><td>161</td><td>911</td><td>4</td></tr>",
                            "<tr><td>188</td><td>912</td><td>1</td></tr>",
                            "<tr><td>173</td><td>913</td><td>1</td></tr>",
                            "<tr><td>48</td><td>914</td><td>5</td></tr>",
                            "<tr><td>140</td><td>915</td><td>2</td></tr>",
                            "<tr><td>17</td><td>916</td><td>2</td></tr>",
                            "<tr><td>174</td><td>917</td><td>2</td></tr>",
                            "<tr><td>11</td><td>918</td><td>6</td></tr>",
                            "<tr><td>36</td><td>919</td><td>1</td></tr>",
                            "<tr><td>32</td><td>920</td><td>4</td></tr>",
                            "<tr><td>112</td><td>921</td><td>1</td></tr>",
                            "<tr><td>160</td><td>922</td><td>2</td></tr>",
                            "<tr><td>123</td><td>923</td><td>4</td></tr>",
                            "<tr><td>40</td><td>924</td><td>5</td></tr>",
                            "<tr><td>185</td><td>925</td><td>6</td></tr>",
                            "<tr><td>193</td><td>926</td><td>1</td></tr>",
                            "<tr><td>160</td><td>927</td><td>4</td></tr>",
                            "<tr><td>182</td><td>928</td><td>2</td></tr>",
                            "<tr><td>80</td><td>929</td><td>2</td></tr>",
                            "<tr><td>168</td><td>930</td><td>3</td></tr>",
                            "<tr><td>110</td><td>931</td><td>5</td></tr>",
                            "<tr><td>40</td><td>932</td><td>6</td></tr>",
                            "<tr><td>160</td><td>933</td><td>4</td></tr>",
                            "<tr><td>23</td><td>934</td><td>1</td></tr>",
                            "<tr><td>56</td><td>935</td><td>4</td></tr>",
                            "<tr><td>62</td><td>936</td><td>3</td></tr>",
                            "<tr><td>181</td><td>937</td><td>3</td></tr>",
                            "<tr><td>62</td><td>938</td><td>1</td></tr>",
                            "<tr><td>183</td><td>939</td><td>4</td></tr>",
                            "<tr><td>74</td><td>940</td><td>5</td></tr>",
                            "<tr><td>163</td><td>941</td><td>1</td></tr>",
                            "<tr><td>92</td><td>942</td><td>6</td></tr>",
                            "<tr><td>115</td><td>943</td><td>7</td></tr>",
                            "<tr><td>170</td><td>944</td><td>4</td></tr>",
                            "<tr><td>23</td><td>945</td><td>7</td></tr>",
                            "<tr><td>4</td><td>946</td><td>5</td></tr>",
                            "<tr><td>8</td><td>947</td><td>3</td></tr>",
                            "<tr><td>19</td><td>948</td><td>2</td></tr>",
                            "<tr><td>1</td><td>949</td><td>1</td></tr>",
                            "<tr><td>66</td><td>950</td><td>3</td></tr>",
                            "<tr><td>12</td><td>951</td><td>3</td></tr>",
                            "<tr><td>196</td><td>952</td><td>3</td></tr>",
                            "<tr><td>117</td><td>953</td><td>5</td></tr>",
                            "<tr><td>84</td><td>954</td><td>5</td></tr>",
                            "<tr><td>47</td><td>955</td><td>1</td></tr>",
                            "<tr><td>156</td><td>956</td><td>6</td></tr>",
                            "<tr><td>187</td><td>957</td><td>4</td></tr>",
                            "<tr><td>181</td><td>958</td><td>5</td></tr>",
                            "<tr><td>111</td><td>959</td><td>7</td></tr>",
                            "<tr><td>41</td><td>960</td><td>6</td></tr>",
                            "<tr><td>72</td><td>961</td><td>6</td></tr>",
                            "<tr><td>117</td><td>962</td><td>4</td></tr>",
                            "<tr><td>74</td><td>963</td><td>1</td></tr>",
                            "<tr><td>110</td><td>964</td><td>6</td></tr>",
                            "<tr><td>5</td><td>965</td><td>7</td></tr>",
                            "<tr><td>114</td><td>966</td><td>6</td></tr>",
                            "<tr><td>123</td><td>967</td><td>5</td></tr>",
                            "<tr><td>154</td><td>968</td><td>1</td></tr>",
                            "<tr><td>153</td><td>969</td><td>6</td></tr>",
                            "<tr><td>12</td><td>970</td><td>2</td></tr>",
                            "<tr><td>35</td><td>971</td><td>3</td></tr>",
                            "<tr><td>103</td><td>972</td><td>2</td></tr>",
                            "<tr><td>16</td><td>973</td><td>1</td></tr>",
                            "<tr><td>169</td><td>974</td><td>1</td></tr>",
                            "<tr><td>94</td><td>975</td><td>5</td></tr>",
                            "<tr><td>76</td><td>976</td><td>2</td></tr>",
                            "<tr><td>193</td><td>977</td><td>2</td></tr>",
                            "<tr><td>198</td><td>978</td><td>1</td></tr>",
                            "<tr><td>35</td><td>979</td><td>7</td></tr>",
                            "<tr><td>143</td><td>980</td><td>3</td></tr>",
                            "<tr><td>171</td><td>981</td><td>4</td></tr>",
                            "<tr><td>77</td><td>982</td><td>3</td></tr>",
                            "<tr><td>80</td><td>983</td><td>6</td></tr>",
                            "<tr><td>172</td><td>984</td><td>4</td></tr>",
                            "<tr><td>36</td><td>985</td><td>6</td></tr>",
                            "<tr><td>48</td><td>986</td><td>5</td></tr>",
                            "<tr><td>53</td><td>987</td><td>4</td></tr>",
                            "<tr><td>133</td><td>988</td><td>3</td></tr>",
                            "<tr><td>190</td><td>989</td><td>1</td></tr>",
                            "<tr><td>6</td><td>990</td><td>4</td></tr>",
                            "<tr><td>178</td><td>991</td><td>7</td></tr>",
                            "<tr><td>103</td><td>992</td><td>7</td></tr>",
                            "<tr><td>197</td><td>993</td><td>7</td></tr>",
                            "<tr><td>118</td><td>994</td><td>7</td></tr>",
                            "<tr><td>83</td><td>995</td><td>5</td></tr>",
                            "<tr><td>118</td><td>996</td><td>3</td></tr>",
                            "<tr><td>82</td><td>997</td><td>6</td></tr>",
                            "<tr><td>120</td><td>998</td><td>3</td></tr>",
                            "<tr><td>132</td><td>999</td><td>6</td></tr>",
                            "<tr><td>73</td><td>1000</td><td>4</td></tr>",
                            "<tr><td>4</td><td>1001</td><td>7</td></tr>",
                            "<tr><td>117</td><td>1002</td><td>1</td></tr>",
                            "<tr><td>36</td><td>1003</td><td>4</td></tr>",
                            "<tr><td>134</td><td>1004</td><td>5</td></tr>",
                            "<tr><td>22</td><td>1005</td><td>3</td></tr>",
                            "<tr><td>70</td><td>1006</td><td>3</td></tr>",
                            "<tr><td>122</td><td>1007</td><td>2</td></tr>",
                            "<tr><td>182</td><td>1008</td><td>6</td></tr>",
                            "<tr><td>71</td><td>1009</td><td>1</td></tr>",
                            "<tr><td>164</td><td>1010</td><td>2</td></tr>",
                            "<tr><td>198</td><td>1011</td><td>7</td></tr>",
                            "<tr><td>33</td><td>1012</td><td>7</td></tr>",
                            "<tr><td>75</td><td>1013</td><td>5</td></tr>",
                            "<tr><td>137</td><td>1014</td><td>1</td></tr>",
                            "<tr><td>174</td><td>1015</td><td>5</td></tr>",
                            "<tr><td>92</td><td>1016</td><td>2</td></tr>",
                            "<tr><td>190</td><td>1017</td><td>1</td></tr>",
                            "<tr><td>40</td><td>1018</td><td>5</td></tr>",
                            "<tr><td>43</td><td>1019</td><td>4</td></tr>",
                            "<tr><td>12</td><td>1020</td><td>5</td></tr>",
                            "<tr><td>179</td><td>1021</td><td>1</td></tr>",
                            "<tr><td>181</td><td>1022</td><td>1</td></tr>",
                            "<tr><td>30</td><td>1023</td><td>7</td></tr>",
                            "<tr><td>134</td><td>1024</td><td>1</td></tr>",
                            "<tr><td>157</td><td>1025</td><td>3</td></tr>",
                            "<tr><td>119</td><td>1026</td><td>3</td></tr>",
                            "<tr><td>68</td><td>1027</td><td>7</td></tr>",
                            "<tr><td>15</td><td>1028</td><td>2</td></tr>",
                            "<tr><td>113</td><td>1029</td><td>5</td></tr>",
                            "<tr><td>188</td><td>1030</td><td>4</td></tr>",
                            "<tr><td>27</td><td>1031</td><td>2</td></tr>",
                            "<tr><td>146</td><td>1032</td><td>5</td></tr>",
                            "<tr><td>38</td><td>1033</td><td>2</td></tr>",
                            "<tr><td>127</td><td>1034</td><td>6</td></tr>",
                            "<tr><td>18</td><td>1035</td><td>6</td></tr>",
                            "<tr><td>122</td><td>1036</td><td>2</td></tr>",
                            "<tr><td>89</td><td>1037</td><td>7</td></tr>",
                            "<tr><td>3</td><td>1038</td><td>3</td></tr>",
                            "<tr><td>191</td><td>1039</td><td>6</td></tr>",
                            "<tr><td>130</td><td>1040</td><td>1</td></tr>",
                            "<tr><td>110</td><td>1041</td><td>3</td></tr>",
                            "<tr><td>139</td><td>1042</td><td>2</td></tr>",
                            "<tr><td>193</td><td>1043</td><td>6</td></tr>",
                            "<tr><td>13</td><td>1044</td><td>6</td></tr>",
                            "<tr><td>134</td><td>1045</td><td>2</td></tr>",
                            "<tr><td>136</td><td>1046</td><td>4</td></tr>",
                            "<tr><td>157</td><td>1047</td><td>4</td></tr>",
                            "<tr><td>95</td><td>1048</td><td>3</td></tr>",
                            "<tr><td>121</td><td>1049</td><td>3</td></tr>",
                            "<tr><td>98</td><td>1050</td><td>6</td></tr>",
                            "<tr><td>2</td><td>1051</td><td>1</td></tr>",
                            "<tr><td>25</td><td>1052</td><td>3</td></tr>",
                            "<tr><td>33</td><td>1053</td><td>1</td></tr>",
                            "<tr><td>79</td><td>1054</td><td>1</td></tr>",
                            "<tr><td>69</td><td>1055</td><td>5</td></tr>",
                            "<tr><td>47</td><td>1056</td><td>7</td></tr>",
                            "<tr><td>86</td><td>1057</td><td>5</td></tr>",
                            "<tr><td>151</td><td>1058</td><td>3</td></tr>",
                            "<tr><td>85</td><td>1059</td><td>3</td></tr>",
                            "<tr><td>38</td><td>1060</td><td>2</td></tr>",
                            "<tr><td>154</td><td>1061</td><td>7</td></tr>",
                            "<tr><td>122</td><td>1062</td><td>3</td></tr>",
                            "<tr><td>50</td><td>1063</td><td>2</td></tr>",
                            "<tr><td>139</td><td>1064</td><td>6</td></tr>",
                            "<tr><td>198</td><td>1065</td><td>3</td></tr>",
                            "<tr><td>49</td><td>1066</td><td>7</td></tr>",
                            "<tr><td>183</td><td>1067</td><td>7</td></tr>",
                            "<tr><td>161</td><td>1068</td><td>6</td></tr>",
                            "<tr><td>2</td><td>1069</td><td>7</td></tr>",
                            "<tr><td>20</td><td>1070</td><td>1</td></tr>",
                            "<tr><td>80</td><td>1071</td><td>4</td></tr>",
                            "<tr><td>99</td><td>1072</td><td>1</td></tr>",
                            "<tr><td>5</td><td>1073</td><td>5</td></tr>",
                            "<tr><td>195</td><td>1074</td><td>7</td></tr>",
                            "<tr><td>163</td><td>1075</td><td>4</td></tr>",
                            "<tr><td>29</td><td>1076</td><td>7</td></tr>",
                            "<tr><td>145</td><td>1077</td><td>1</td></tr>",
                            "<tr><td>38</td><td>1078</td><td>7</td></tr>",
                            "<tr><td>86</td><td>1079</td><td>4</td></tr>",
                            "<tr><td>59</td><td>1080</td><td>1</td></tr>",
                            "<tr><td>62</td><td>1081</td><td>7</td></tr>",
                            "<tr><td>27</td><td>1082</td><td>5</td></tr>",
                            "<tr><td>109</td><td>1083</td><td>1</td></tr>",
                            "<tr><td>59</td><td>1084</td><td>2</td></tr>",
                            "<tr><td>113</td><td>1085</td><td>4</td></tr>",
                            "<tr><td>55</td><td>1086</td><td>5</td></tr>",
                            "<tr><td>144</td><td>1087</td><td>2</td></tr>",
                            "<tr><td>43</td><td>1088</td><td>2</td></tr>",
                            "<tr><td>120</td><td>1089</td><td>6</td></tr>",
                            "<tr><td>132</td><td>1090</td><td>7</td></tr>",
                            "<tr><td>197</td><td>1091</td><td>7</td></tr>",
                            "<tr><td>70</td><td>1092</td><td>3</td></tr>",
                            "<tr><td>74</td><td>1093</td><td>6</td></tr>",
                            "<tr><td>175</td><td>1094</td><td>5</td></tr>",
                            "<tr><td>194</td><td>1095</td><td>5</td></tr>",
                            "<tr><td>54</td><td>1096</td><td>4</td></tr>",
                            "<tr><td>95</td><td>1097</td><td>4</td></tr>",
                            "<tr><td>140</td><td>1098</td><td>2</td></tr>",
                            "<tr><td>6</td><td>1099</td><td>4</td></tr>",
                            "<tr><td>150</td><td>1100</td><td>5</td></tr>",
                            "<tr><td>89</td><td>1101</td><td>5</td></tr>",
                            "<tr><td>108</td><td>1102</td><td>1</td></tr>",
                            "<tr><td>87</td><td>1103</td><td>3</td></tr>",
                            "<tr><td>77</td><td>1104</td><td>1</td></tr>",
                            "<tr><td>150</td><td>1105</td><td>1</td></tr>",
                            "<tr><td>20</td><td>1106</td><td>2</td></tr>",
                            "<tr><td>163</td><td>1107</td><td>3</td></tr>",
                            "<tr><td>86</td><td>1108</td><td>1</td></tr>",
                            "<tr><td>110</td><td>1109</td><td>5</td></tr>",
                            "<tr><td>3</td><td>1110</td><td>7</td></tr>",
                            "<tr><td>132</td><td>1111</td><td>3</td></tr>",
                            "<tr><td>155</td><td>1112</td><td>4</td></tr>",
                            "<tr><td>58</td><td>1113</td><td>3</td></tr>",
                            "<tr><td>20</td><td>1114</td><td>5</td></tr>",
                            "<tr><td>151</td><td>1115</td><td>3</td></tr>",
                            "<tr><td>198</td><td>1116</td><td>1</td></tr>",
                            "<tr><td>158</td><td>1117</td><td>3</td></tr>",
                            "<tr><td>40</td><td>1118</td><td>5</td></tr>",
                            "<tr><td>83</td><td>1119</td><td>6</td></tr>",
                            "<tr><td>145</td><td>1120</td><td>1</td></tr>",
                            "<tr><td>115</td><td>1121</td><td>7</td></tr>",
                            "<tr><td>64</td><td>1122</td><td>4</td></tr>",
                            "<tr><td>11</td><td>1123</td><td>5</td></tr>",
                            "<tr><td>112</td><td>1124</td><td>6</td></tr>",
                            "<tr><td>185</td><td>1125</td><td>3</td></tr>",
                            "<tr><td>70</td><td>1126</td><td>3</td></tr>",
                            "<tr><td>4</td><td>1127</td><td>3</td></tr>",
                            "<tr><td>121</td><td>1128</td><td>4</td></tr>",
                            "<tr><td>15</td><td>1129</td><td>4</td></tr>",
                            "<tr><td>22</td><td>1130</td><td>1</td></tr>",
                            "<tr><td>7</td><td>1131</td><td>1</td></tr>",
                            "<tr><td>4</td><td>1132</td><td>6</td></tr>",
                            "<tr><td>175</td><td>1133</td><td>2</td></tr>",
                            "<tr><td>126</td><td>1134</td><td>1</td></tr>",
                            "<tr><td>45</td><td>1135</td><td>3</td></tr>",
                            "<tr><td>30</td><td>1136</td><td>5</td></tr>",
                            "<tr><td>1</td><td>1137</td><td>2</td></tr>",
                            "<tr><td>198</td><td>1138</td><td>5</td></tr>",
                            "<tr><td>19</td><td>1139</td><td>7</td></tr>",
                            "<tr><td>12</td><td>1140</td><td>3</td></tr>",
                            "<tr><td>165</td><td>1141</td><td>1</td></tr>",
                            "<tr><td>172</td><td>1142</td><td>4</td></tr>",
                            "<tr><td>176</td><td>1143</td><td>6</td></tr>",
                            "<tr><td>41</td><td>1144</td><td>1</td></tr>",
                            "<tr><td>145</td><td>1145</td><td>4</td></tr>",
                            "<tr><td>149</td><td>1146</td><td>6</td></tr>",
                            "<tr><td>183</td><td>1147</td><td>4</td></tr>",
                            "<tr><td>61</td><td>1148</td><td>3</td></tr>",
                            "<tr><td>133</td><td>1149</td><td>7</td></tr>",
                            "<tr><td>28</td><td>1150</td><td>6</td></tr>",
                            "<tr><td>3</td><td>1151</td><td>1</td></tr>",
                            "<tr><td>1</td><td>1152</td><td>1</td></tr>",
                            "<tr><td>186</td><td>1153</td><td>3</td></tr>",
                            "<tr><td>115</td><td>1154</td><td>4</td></tr>",
                            "<tr><td>143</td><td>1155</td><td>7</td></tr>",
                            "<tr><td>140</td><td>1156</td><td>3</td></tr>",
                            "<tr><td>9</td><td>1157</td><td>6</td></tr>",
                            "<tr><td>26</td><td>1158</td><td>2</td></tr>",
                            "<tr><td>73</td><td>1159</td><td>5</td></tr>",
                            "<tr><td>152</td><td>1160</td><td>7</td></tr>",
                            "<tr><td>198</td><td>1161</td><td>5</td></tr>",
                            "<tr><td>110</td><td>1162</td><td>2</td></tr>",
                            "<tr><td>55</td><td>1163</td><td>2</td></tr>",
                            "<tr><td>12</td><td>1164</td><td>5</td></tr>",
                            "<tr><td>51</td><td>1165</td><td>5</td></tr>",
                            "<tr><td>122</td><td>1166</td><td>4</td></tr>",
                            "<tr><td>24</td><td>1167</td><td>1</td></tr>",
                            "<tr><td>154</td><td>1168</td><td>6</td></tr>",
                            "<tr><td>93</td><td>1169</td><td>4</td></tr>",
                            "<tr><td>59</td><td>1170</td><td>5</td></tr>",
                            "<tr><td>172</td><td>1171</td><td>5</td></tr>",
                            "<tr><td>197</td><td>1172</td><td>7</td></tr>",
                            "<tr><td>18</td><td>1173</td><td>6</td></tr>",
                            "<tr><td>90</td><td>1174</td><td>7</td></tr>",
                            "<tr><td>7</td><td>1175</td><td>4</td></tr>",
                            "<tr><td>177</td><td>1176</td><td>3</td></tr>",
                            "<tr><td>150</td><td>1177</td><td>1</td></tr>",
                            "<tr><td>134</td><td>1178</td><td>7</td></tr>",
                            "<tr><td>74</td><td>1179</td><td>7</td></tr>",
                            "<tr><td>104</td><td>1180</td><td>1</td></tr>",
                            "<tr><td>171</td><td>1181</td><td>6</td></tr>",
                            "<tr><td>7</td><td>1182</td><td>4</td></tr>",
                            "<tr><td>185</td><td>1183</td><td>5</td></tr>",
                            "<tr><td>195</td><td>1184</td><td>5</td></tr>",
                            "<tr><td>29</td><td>1185</td><td>5</td></tr>",
                            "<tr><td>58</td><td>1186</td><td>6</td></tr>",
                            "<tr><td>46</td><td>1187</td><td>7</td></tr>",
                            "<tr><td>182</td><td>1188</td><td>1</td></tr>",
                            "<tr><td>89</td><td>1189</td><td>6</td></tr>",
                            "<tr><td>161</td><td>1190</td><td>7</td></tr>",
                            "<tr><td>59</td><td>1191</td><td>6</td></tr>",
                            "<tr><td>117</td><td>1192</td><td>2</td></tr>",
                            "<tr><td>143</td><td>1193</td><td>6</td></tr>",
                            "<tr><td>170</td><td>1194</td><td>4</td></tr>",
                            "<tr><td>22</td><td>1195</td><td>6</td></tr>",
                            "<tr><td>88</td><td>1196</td><td>3</td></tr>",
                            "<tr><td>152</td><td>1197</td><td>6</td></tr>",
                            "<tr><td>18</td><td>1198</td><td>4</td></tr>",
                            "<tr><td>144</td><td>1199</td><td>7</td></tr>",
                            "<tr><td>49</td><td>1200</td><td>7</td></tr>",
                            "<tr><td>137</td><td>1201</td><td>6</td></tr>",
                            "<tr><td>52</td><td>1202</td><td>2</td></tr>",
                            "<tr><td>150</td><td>1203</td><td>4</td></tr>",
                            "<tr><td>189</td><td>1204</td><td>2</td></tr>",
                            "<tr><td>162</td><td>1205</td><td>6</td></tr>",
                            "<tr><td>22</td><td>1206</td><td>7</td></tr>",
                            "<tr><td>43</td><td>1207</td><td>1</td></tr>",
                            "<tr><td>58</td><td>1208</td><td>6</td></tr>",
                            "<tr><td>122</td><td>1209</td><td>1</td></tr>",
                            "<tr><td>124</td><td>1210</td><td>4</td></tr>",
                            "<tr><td>178</td><td>1211</td><td>3</td></tr>",
                            "<tr><td>21</td><td>1212</td><td>6</td></tr>",
                            "<tr><td>91</td><td>1213</td><td>3</td></tr>",
                            "<tr><td>39</td><td>1214</td><td>5</td></tr>",
                            "<tr><td>121</td><td>1215</td><td>4</td></tr>",
                            "<tr><td>198</td><td>1216</td><td>7</td></tr>",
                            "<tr><td>93</td><td>1217</td><td>1</td></tr>",
                            "<tr><td>61</td><td>1218</td><td>2</td></tr>",
                            "<tr><td>134</td><td>1219</td><td>6</td></tr>",
                            "<tr><td>9</td><td>1220</td><td>3</td></tr>",
                            "<tr><td>49</td><td>1221</td><td>2</td></tr>",
                            "<tr><td>143</td><td>1222</td><td>2</td></tr>",
                            "<tr><td>123</td><td>1223</td><td>1</td></tr>",
                            "<tr><td>50</td><td>1224</td><td>1</td></tr>",
                            "<tr><td>69</td><td>1225</td><td>5</td></tr>",
                            "<tr><td>127</td><td>1226</td><td>5</td></tr>",
                            "<tr><td>43</td><td>1227</td><td>5</td></tr>",
                            "<tr><td>106</td><td>1228</td><td>7</td></tr>",
                            "<tr><td>79</td><td>1229</td><td>7</td></tr>",
                            "<tr><td>182</td><td>1230</td><td>7</td></tr>",
                            "<tr><td>182</td><td>1231</td><td>4</td></tr>",
                            "<tr><td>55</td><td>1232</td><td>7</td></tr>",
                            "<tr><td>64</td><td>1233</td><td>7</td></tr>",
                            "<tr><td>66</td><td>1234</td><td>3</td></tr>",
                            "<tr><td>29</td><td>1235</td><td>7</td></tr>",
                            "<tr><td>11</td><td>1236</td><td>1</td></tr>",
                            "<tr><td>19</td><td>1237</td><td>1</td></tr>",
                            "<tr><td>193</td><td>1238</td><td>6</td></tr>",
                            "<tr><td>59</td><td>1239</td><td>2</td></tr>",
                            "<tr><td>157</td><td>1240</td><td>7</td></tr>",
                            "<tr><td>94</td><td>1241</td><td>7</td></tr>",
                            "<tr><td>178</td><td>1242</td><td>1</td></tr>",
                            "<tr><td>48</td><td>1243</td><td>6</td></tr>",
                            "<tr><td>15</td><td>1244</td><td>1</td></tr>",
                            "<tr><td>122</td><td>1245</td><td>2</td></tr>",
                            "<tr><td>69</td><td>1246</td><td>7</td></tr>",
                            "<tr><td>117</td><td>1247</td><td>3</td></tr>",
                            "<tr><td>186</td><td>1248</td><td>2</td></tr>",
                            "<tr><td>168</td><td>1249</td><td>4</td></tr>",
                            "<tr><td>107</td><td>1250</td><td>4</td></tr>",
                            "<tr><td>184</td><td>1251</td><td>4</td></tr>",
                            "<tr><td>7</td><td>1252</td><td>2</td></tr>",
                            "<tr><td>89</td><td>1253</td><td>2</td></tr>",
                            "<tr><td>141</td><td>1254</td><td>4</td></tr>",
                            "<tr><td>58</td><td>1255</td><td>7</td></tr>",
                            "<tr><td>138</td><td>1256</td><td>4</td></tr>",
                            "<tr><td>5</td><td>1257</td><td>3</td></tr>",
                            "<tr><td>52</td><td>1258</td><td>5</td></tr>",
                            "<tr><td>140</td><td>1259</td><td>7</td></tr>",
                            "<tr><td>9</td><td>1260</td><td>6</td></tr>",
                            "<tr><td>58</td><td>1261</td><td>6</td></tr>",
                            "<tr><td>154</td><td>1262</td><td>1</td></tr>",
                            "<tr><td>113</td><td>1263</td><td>1</td></tr>",
                            "<tr><td>66</td><td>1264</td><td>4</td></tr>",
                            "<tr><td>163</td><td>1265</td><td>5</td></tr>",
                            "<tr><td>168</td><td>1266</td><td>4</td></tr>",
                            "<tr><td>170</td><td>1267</td><td>7</td></tr>",
                            "<tr><td>78</td><td>1268</td><td>2</td></tr>",
                            "<tr><td>89</td><td>1269</td><td>2</td></tr>",
                            "<tr><td>43</td><td>1270</td><td>4</td></tr>",
                            "<tr><td>106</td><td>1271</td><td>5</td></tr>",
                            "<tr><td>50</td><td>1272</td><td>1</td></tr>",
                            "<tr><td>88</td><td>1273</td><td>7</td></tr>",
                            "<tr><td>1</td><td>1274</td><td>1</td></tr>",
                            "<tr><td>27</td><td>1275</td><td>6</td></tr>",
                            "<tr><td>174</td><td>1276</td><td>1</td></tr>",
                            "<tr><td>82</td><td>1277</td><td>5</td></tr>",
                            "<tr><td>176</td><td>1278</td><td>6</td></tr>",
                            "<tr><td>80</td><td>1279</td><td>5</td></tr>",
                            "<tr><td>137</td><td>1280</td><td>3</td></tr>",
                            "<tr><td>78</td><td>1281</td><td>3</td></tr>",
                            "<tr><td>123</td><td>1282</td><td>6</td></tr>",
                            "<tr><td>138</td><td>1283</td><td>2</td></tr>",
                            "<tr><td>164</td><td>1284</td><td>4</td></tr>",
                            "<tr><td>58</td><td>1285</td><td>7</td></tr>",
                            "<tr><td>127</td><td>1286</td><td>1</td></tr>",
                            "<tr><td>22</td><td>1287</td><td>3</td></tr>",
                            "<tr><td>59</td><td>1288</td><td>3</td></tr>",
                            "<tr><td>135</td><td>1289</td><td>3</td></tr>",
                            "<tr><td>128</td><td>1290</td><td>1</td></tr>",
                            "<tr><td>46</td><td>1291</td><td>3</td></tr>",
                            "<tr><td>164</td><td>1292</td><td>2</td></tr>",
                            "<tr><td>58</td><td>1293</td><td>3</td></tr>",
                            "<tr><td>138</td><td>1294</td><td>5</td></tr>",
                            "<tr><td>44</td><td>1295</td><td>2</td></tr>",
                            "<tr><td>111</td><td>1296</td><td>3</td></tr>",
                            "<tr><td>144</td><td>1297</td><td>1</td></tr>",
                            "<tr><td>109</td><td>1298</td><td>4</td></tr>",
                            "<tr><td>90</td><td>1299</td><td>6</td></tr>",
                            "<tr><td>88</td><td>1300</td><td>3</td></tr>",
                            "<tr><td>132</td><td>1301</td><td>2</td></tr>",
                            "<tr><td>191</td><td>1302</td><td>1</td></tr>",
                            "<tr><td>45</td><td>1303</td><td>2</td></tr>",
                            "<tr><td>197</td><td>1304</td><td>7</td></tr>",
                            "<tr><td>94</td><td>1305</td><td>2</td></tr>",
                            "<tr><td>133</td><td>1306</td><td>3</td></tr>",
                            "<tr><td>58</td><td>1307</td><td>6</td></tr>",
                            "<tr><td>182</td><td>1308</td><td>1</td></tr>",
                            "<tr><td>42</td><td>1309</td><td>2</td></tr>",
                            "<tr><td>155</td><td>1310</td><td>1</td></tr>",
                            "<tr><td>2</td><td>1311</td><td>7</td></tr>",
                            "<tr><td>94</td><td>1312</td><td>3</td></tr>",
                            "<tr><td>143</td><td>1313</td><td>4</td></tr>",
                            "<tr><td>196</td><td>1314</td><td>5</td></tr>",
                            "<tr><td>100</td><td>1315</td><td>5</td></tr>",
                            "<tr><td>17</td><td>1316</td><td>5</td></tr>",
                            "<tr><td>182</td><td>1317</td><td>3</td></tr>",
                            "<tr><td>72</td><td>1318</td><td>2</td></tr>",
                            "<tr><td>10</td><td>1319</td><td>6</td></tr>",
                            "<tr><td>85</td><td>1320</td><td>1</td></tr>",
                            "<tr><td>33</td><td>1321</td><td>4</td></tr>",
                            "<tr><td>58</td><td>1322</td><td>3</td></tr>",
                            "<tr><td>191</td><td>1323</td><td>7</td></tr>",
                            "<tr><td>68</td><td>1324</td><td>4</td></tr>",
                            "<tr><td>70</td><td>1325</td><td>7</td></tr>",
                            "<tr><td>182</td><td>1326</td><td>4</td></tr>",
                            "<tr><td>55</td><td>1327</td><td>6</td></tr>",
                            "<tr><td>54</td><td>1328</td><td>4</td></tr>",
                            "<tr><td>171</td><td>1329</td><td>5</td></tr>",
                            "<tr><td>124</td><td>1330</td><td>7</td></tr>",
                            "<tr><td>73</td><td>1331</td><td>4</td></tr>",
                            "<tr><td>101</td><td>1332</td><td>6</td></tr>",
                            "<tr><td>70</td><td>1333</td><td>6</td></tr>",
                            "<tr><td>1</td><td>1334</td><td>4</td></tr>",
                            "<tr><td>37</td><td>1335</td><td>7</td></tr>",
                            "<tr><td>172</td><td>1336</td><td>5</td></tr>",
                            "<tr><td>122</td><td>1337</td><td>2</td></tr>",
                            "<tr><td>145</td><td>1338</td><td>2</td></tr>",
                            "<tr><td>120</td><td>1339</td><td>6</td></tr>",
                            "<tr><td>196</td><td>1340</td><td>5</td></tr>",
                            "<tr><td>82</td><td>1341</td><td>2</td></tr>",
                            "<tr><td>170</td><td>1342</td><td>6</td></tr>",
                            "<tr><td>102</td><td>1343</td><td>2</td></tr>",
                            "<tr><td>33</td><td>1344</td><td>5</td></tr>",
                            "<tr><td>79</td><td>1345</td><td>3</td></tr>",
                            "<tr><td>181</td><td>1346</td><td>6</td></tr>",
                            "<tr><td>13</td><td>1347</td><td>3</td></tr>",
                            "<tr><td>57</td><td>1348</td><td>1</td></tr>",
                            "<tr><td>87</td><td>1349</td><td>5</td></tr>",
                            "<tr><td>173</td><td>1350</td><td>3</td></tr>",
                            "<tr><td>38</td><td>1351</td><td>4</td></tr>",
                            "<tr><td>115</td><td>1352</td><td>3</td></tr>",
                            "<tr><td>111</td><td>1353</td><td>5</td></tr>",
                            "<tr><td>107</td><td>1354</td><td>1</td></tr>",
                            "<tr><td>93</td><td>1355</td><td>2</td></tr>",
                            "<tr><td>169</td><td>1356</td><td>4</td></tr>",
                            "<tr><td>140</td><td>1357</td><td>4</td></tr>",
                            "<tr><td>138</td><td>1358</td><td>7</td></tr>",
                            "<tr><td>88</td><td>1359</td><td>2</td></tr>",
                            "<tr><td>129</td><td>1360</td><td>6</td></tr>",
                            "<tr><td>140</td><td>1361</td><td>3</td></tr>",
                            "<tr><td>25</td><td>1362</td><td>2</td></tr>",
                            "<tr><td>133</td><td>1363</td><td>5</td></tr>",
                            "<tr><td>126</td><td>1364</td><td>6</td></tr>",
                            "<tr><td>70</td><td>1365</td><td>3</td></tr>",
                            "<tr><td>81</td><td>1366</td><td>5</td></tr>",
                            "<tr><td>80</td><td>1367</td><td>3</td></tr>",
                            "<tr><td>94</td><td>1368</td><td>1</td></tr>",
                            "<tr><td>142</td><td>1369</td><td>6</td></tr>",
                            "<tr><td>138</td><td>1370</td><td>5</td></tr>",
                            "<tr><td>140</td><td>1371</td><td>1</td></tr>",
                            "<tr><td>106</td><td>1372</td><td>7</td></tr>",
                            "<tr><td>121</td><td>1373</td><td>5</td></tr>",
                            "<tr><td>118</td><td>1374</td><td>5</td></tr>",
                            "<tr><td>165</td><td>1375</td><td>4</td></tr>",
                            "<tr><td>84</td><td>1376</td><td>5</td></tr>",
                            "<tr><td>27</td><td>1377</td><td>1</td></tr>",
                            "<tr><td>96</td><td>1378</td><td>3</td></tr>",
                            "<tr><td>83</td><td>1379</td><td>7</td></tr>",
                            "<tr><td>39</td><td>1380</td><td>5</td></tr>",
                            "<tr><td>33</td><td>1381</td><td>6</td></tr>",
                            "<tr><td>67</td><td>1382</td><td>1</td></tr>",
                            "<tr><td>176</td><td>1383</td><td>4</td></tr>",
                            "<tr><td>84</td><td>1384</td><td>7</td></tr>",
                            "<tr><td>122</td><td>1385</td><td>5</td></tr>",
                            "<tr><td>55</td><td>1386</td><td>2</td></tr>",
                            "<tr><td>197</td><td>1387</td><td>3</td></tr>",
                            "<tr><td>26</td><td>1388</td><td>3</td></tr>",
                            "<tr><td>57</td><td>1389</td><td>1</td></tr>",
                            "<tr><td>188</td><td>1390</td><td>5</td></tr>",
                            "<tr><td>93</td><td>1391</td><td>4</td></tr>",
                            "<tr><td>108</td><td>1392</td><td>6</td></tr>",
                            "<tr><td>121</td><td>1393</td><td>6</td></tr>",
                            "<tr><td>143</td><td>1394</td><td>3</td></tr>",
                            "<tr><td>97</td><td>1395</td><td>1</td></tr>",
                            "<tr><td>72</td><td>1396</td><td>3</td></tr>",
                            "<tr><td>91</td><td>1397</td><td>4</td></tr>",
                            "<tr><td>103</td><td>1398</td><td>1</td></tr>",
                            "<tr><td>89</td><td>1399</td><td>2</td></tr>",
                            "<tr><td>162</td><td>1400</td><td>1</td></tr>",
                            "<tr><td>141</td><td>1401</td><td>6</td></tr>",
                            "<tr><td>98</td><td>1402</td><td>2</td></tr>",
                            "<tr><td>124</td><td>1403</td><td>6</td></tr>",
                            "<tr><td>187</td><td>1404</td><td>2</td></tr>",
                            "<tr><td>90</td><td>1405</td><td>5</td></tr>",
                            "<tr><td>82</td><td>1406</td><td>1</td></tr>",
                            "<tr><td>175</td><td>1407</td><td>7</td></tr>",
                            "<tr><td>99</td><td>1408</td><td>1</td></tr>",
                            "<tr><td>133</td><td>1409</td><td>1</td></tr>",
                            "<tr><td>182</td><td>1410</td><td>4</td></tr>",
                            "<tr><td>35</td><td>1411</td><td>1</td></tr>",
                            "<tr><td>75</td><td>1412</td><td>2</td></tr>",
                            "<tr><td>119</td><td>1413</td><td>3</td></tr>",
                            "<tr><td>167</td><td>1414</td><td>3</td></tr>",
                            "<tr><td>24</td><td>1415</td><td>3</td></tr>",
                            "<tr><td>38</td><td>1416</td><td>5</td></tr>",
                            "<tr><td>97</td><td>1417</td><td>7</td></tr>",
                            "<tr><td>15</td><td>1418</td><td>4</td></tr>",
                            "<tr><td>124</td><td>1419</td><td>3</td></tr>",
                            "<tr><td>198</td><td>1420</td><td>5</td></tr>",
                            "<tr><td>172</td><td>1421</td><td>5</td></tr>",
                            "<tr><td>182</td><td>1422</td><td>3</td></tr>",
                            "<tr><td>9</td><td>1423</td><td>3</td></tr>",
                            "<tr><td>110</td><td>1424</td><td>1</td></tr>",
                            "<tr><td>44</td><td>1425</td><td>2</td></tr>",
                            "<tr><td>62</td><td>1426</td><td>4</td></tr>",
                            "<tr><td>169</td><td>1427</td><td>1</td></tr>",
                            "<tr><td>126</td><td>1428</td><td>7</td></tr>",
                            "<tr><td>173</td><td>1429</td><td>4</td></tr>",
                            "<tr><td>12</td><td>1430</td><td>2</td></tr>",
                            "<tr><td>52</td><td>1431</td><td>5</td></tr>",
                            "<tr><td>150</td><td>1432</td><td>3</td></tr>",
                            "<tr><td>139</td><td>1433</td><td>6</td></tr>",
                            "<tr><td>3</td><td>1434</td><td>5</td></tr>",
                            "<tr><td>39</td><td>1435</td><td>7</td></tr>",
                            "<tr><td>35</td><td>1436</td><td>1</td></tr>",
                            "<tr><td>183</td><td>1437</td><td>4</td></tr>",
                            "<tr><td>96</td><td>1438</td><td>2</td></tr>",
                            "<tr><td>77</td><td>1439</td><td>6</td></tr>",
                            "<tr><td>122</td><td>1440</td><td>3</td></tr>",
                            "<tr><td>185</td><td>1441</td><td>7</td></tr>",
                            "<tr><td>15</td><td>1442</td><td>3</td></tr>",
                            "<tr><td>81</td><td>1443</td><td>7</td></tr>",
                            "<tr><td>42</td><td>1444</td><td>6</td></tr>",
                            "<tr><td>129</td><td>1445</td><td>7</td></tr>",
                            "<tr><td>64</td><td>1446</td><td>6</td></tr>",
                            "<tr><td>79</td><td>1447</td><td>4</td></tr>",
                            "<tr><td>143</td><td>1448</td><td>6</td></tr>",
                            "<tr><td>189</td><td>1449</td><td>2</td></tr>",
                            "<tr><td>139</td><td>1450</td><td>7</td></tr>",
                            "<tr><td>58</td><td>1451</td><td>6</td></tr>",
                            "<tr><td>107</td><td>1452</td><td>6</td></tr>",
                            "<tr><td>86</td><td>1453</td><td>1</td></tr>",
                            "<tr><td>39</td><td>1454</td><td>1</td></tr>",
                            "<tr><td>116</td><td>1455</td><td>2</td></tr>",
                            "<tr><td>87</td><td>1456</td><td>5</td></tr>",
                            "<tr><td>70</td><td>1457</td><td>7</td></tr>",
                            "<tr><td>75</td><td>1458</td><td>1</td></tr>",
                            "<tr><td>28</td><td>1459</td><td>2</td></tr>",
                            "<tr><td>153</td><td>1460</td><td>3</td></tr>",
                            "<tr><td>77</td><td>1461</td><td>4</td></tr>",
                            "<tr><td>156</td><td>1462</td><td>7</td></tr>",
                            "<tr><td>185</td><td>1463</td><td>7</td></tr>",
                            "<tr><td>81</td><td>1464</td><td>7</td></tr>",
                            "<tr><td>64</td><td>1465</td><td>4</td></tr>",
                            "<tr><td>57</td><td>1466</td><td>7</td></tr>",
                            "<tr><td>186</td><td>1467</td><td>3</td></tr>",
                            "<tr><td>117</td><td>1468</td><td>7</td></tr>",
                            "<tr><td>13</td><td>1469</td><td>2</td></tr>",
                            "<tr><td>153</td><td>1470</td><td>5</td></tr>",
                            "<tr><td>145</td><td>1471</td><td>1</td></tr>",
                            "<tr><td>118</td><td>1472</td><td>6</td></tr>",
                            "<tr><td>195</td><td>1473</td><td>7</td></tr>",
                            "<tr><td>131</td><td>1474</td><td>5</td></tr>",
                            "<tr><td>130</td><td>1475</td><td>7</td></tr>",
                            "<tr><td>27</td><td>1476</td><td>1</td></tr>",
                            "<tr><td>51</td><td>1477</td><td>6</td></tr>",
                            "<tr><td>38</td><td>1478</td><td>4</td></tr>",
                            "<tr><td>146</td><td>1479</td><td>6</td></tr>",
                            "<tr><td>35</td><td>1480</td><td>37</td></tr>",
                            "<tr><td>118</td><td>1481</td><td>3</td></tr>",
                            "<tr><td>100</td><td>1482</td><td>7</td></tr>",
                            "<tr><td>120</td><td>1483</td><td>1</td></tr>",
                            "<tr><td>195</td><td>1484</td><td>1</td></tr>",
                            "<tr><td>103</td><td>1485</td><td>4</td></tr>",
                            "<tr><td>99</td><td>1486</td><td>5</td></tr>",
                            "<tr><td>163</td><td>1487</td><td>3</td></tr>",
                            "<tr><td>119</td><td>1488</td><td>3</td></tr>",
                            "<tr><td>110</td><td>1489</td><td>6</td></tr>",
                            "<tr><td>156</td><td>1490</td><td>1</td></tr>",
                            "<tr><td>172</td><td>1491</td><td>2</td></tr>",
                            "<tr><td>4</td><td>1492</td><td>6</td></tr>",
                            "<tr><td>120</td><td>1493</td><td>7</td></tr>",
                            "<tr><td>107</td><td>1494</td><td>2</td></tr>",
                            "<tr><td>113</td><td>1495</td><td>7</td></tr>",
                            "<tr><td>61</td><td>1496</td><td>7</td></tr>",
                            "<tr><td>179</td><td>1497</td><td>1</td></tr>",
                            "<tr><td>16</td><td>1498</td><td>7</td></tr>",
                            "<tr><td>113</td><td>1499</td><td>2</td></tr>",
                            "<tr><td>126</td><td>1500</td><td>4</td></tr>",
                            "<tr><td>116</td><td>1501</td><td>4</td></tr>",
                            "<tr><td>191</td><td>1502</td><td>2</td></tr>",
                            "<tr><td>177</td><td>1503</td><td>3</td></tr>",
                            "<tr><td>57</td><td>1504</td><td>4</td></tr>",
                            "<tr><td>18</td><td>1505</td><td>6</td></tr>",
                            "<tr><td>81</td><td>1506</td><td>3</td></tr>",
                            "<tr><td>153</td><td>1507</td><td>3</td></tr>",
                            "<tr><td>191</td><td>1508</td><td>7</td></tr>",
                            "<tr><td>129</td><td>1509</td><td>6</td></tr>",
                            "<tr><td>106</td><td>1510</td><td>6</td></tr>",
                            "<tr><td>176</td><td>1511</td><td>2</td></tr>",
                            "<tr><td>55</td><td>1512</td><td>1</td></tr>",
                            "<tr><td>85</td><td>1513</td><td>7</td></tr>",
                            "<tr><td>149</td><td>1514</td><td>5</td></tr>",
                            "<tr><td>46</td><td>1515</td><td>4</td></tr>",
                            "<tr><td>101</td><td>1516</td><td>4</td></tr>",
                            "<tr><td>190</td><td>1517</td><td>5</td></tr>",
                            "<tr><td>94</td><td>1518</td><td>2</td></tr>",
                            "<tr><td>132</td><td>1519</td><td>2</td></tr>",
                            "<tr><td>55</td><td>1520</td><td>1</td></tr>",
                            "<tr><td>89</td><td>1521</td><td>7</td></tr>",
                            "<tr><td>104</td><td>1522</td><td>2</td></tr>",
                            "<tr><td>11</td><td>1523</td><td>1</td></tr>",
                            "<tr><td>43</td><td>1524</td><td>1</td></tr>",
                            "<tr><td>105</td><td>1525</td><td>5</td></tr>",
                            "<tr><td>166</td><td>1526</td><td>2</td></tr>",
                            "<tr><td>92</td><td>1527</td><td>2</td></tr>",
                            "<tr><td>97</td><td>1528</td><td>2</td></tr>",
                            "<tr><td>35</td><td>1529</td><td>4</td></tr>",
                            "<tr><td>112</td><td>1530</td><td>6</td></tr>",
                            "<tr><td>124</td><td>1531</td><td>6</td></tr>",
                            "<tr><td>104</td><td>1532</td><td>3</td></tr>",
                            "<tr><td>19</td><td>1533</td><td>1</td></tr>",
                            "<tr><td>52</td><td>1534</td><td>5</td></tr>",
                            "<tr><td>134</td><td>1535</td><td>7</td></tr>",
                            "<tr><td>49</td><td>1536</td><td>6</td></tr>",
                            "<tr><td>9</td><td>1537</td><td>3</td></tr>",
                            "<tr><td>39</td><td>1538</td><td>2</td></tr>",
                            "<tr><td>154</td><td>1539</td><td>2</td></tr>",
                            "<tr><td>114</td><td>1540</td><td>3</td></tr>",
                            "<tr><td>155</td><td>1541</td><td>1</td></tr>",
                            "<tr><td>14</td><td>1542</td><td>4</td></tr>",
                            "<tr><td>95</td><td>1543</td><td>7</td></tr>",
                            "<tr><td>3</td><td>1544</td><td>5</td></tr>",
                            "<tr><td>142</td><td>1545</td><td>3</td></tr>",
                            "<tr><td>48</td><td>1546</td><td>3</td></tr>",
                            "<tr><td>48</td><td>1547</td><td>1</td></tr>",
                            "<tr><td>88</td><td>1548</td><td>7</td></tr>",
                            "<tr><td>17</td><td>1549</td><td>3</td></tr>",
                            "<tr><td>51</td><td>1550</td><td>1</td></tr>",
                            "<tr><td>157</td><td>1551</td><td>3</td></tr>",
                            "<tr><td>44</td><td>1552</td><td>2</td></tr>",
                            "<tr><td>43</td><td>1553</td><td>5</td></tr>",
                            "<tr><td>115</td><td>1554</td><td>3</td></tr>",
                            "<tr><td>92</td><td>1555</td><td>4</td></tr>",
                            "<tr><td>38</td><td>1556</td><td>6</td></tr>",
                            "<tr><td>76</td><td>1557</td><td>3</td></tr>",
                            "<tr><td>152</td><td>1558</td><td>2</td></tr>",
                            "<tr><td>180</td><td>1559</td><td>3</td></tr>",
                            "<tr><td>109</td><td>1560</td><td>1</td></tr>",
                            "<tr><td>156</td><td>1561</td><td>4</td></tr>",
                            "<tr><td>81</td><td>1562</td><td>3</td></tr>",
                            "<tr><td>180</td><td>1563</td><td>6</td></tr>",
                            "<tr><td>94</td><td>1564</td><td>7</td></tr>",
                            "<tr><td>160</td><td>1565</td><td>3</td></tr>",
                            "<tr><td>115</td><td>1566</td><td>1</td></tr>",
                            "<tr><td>171</td><td>1567</td><td>6</td></tr>",
                            "<tr><td>29</td><td>1568</td><td>7</td></tr>",
                            "<tr><td>96</td><td>1569</td><td>7</td></tr>",
                            "<tr><td>176</td><td>1570</td><td>3</td></tr>",
                            "<tr><td>161</td><td>1571</td><td>4</td></tr>",
                            "<tr><td>144</td><td>1572</td><td>2</td></tr>",
                            "<tr><td>59</td><td>1573</td><td>1</td></tr>",
                            "<tr><td>128</td><td>1574</td><td>1</td></tr>",
                            "<tr><td>88</td><td>1575</td><td>6</td></tr>",
                            "<tr><td>189</td><td>1576</td><td>3</td></tr>",
                            "<tr><td>78</td><td>1577</td><td>7</td></tr>",
                            "<tr><td>148</td><td>1578</td><td>7</td></tr>",
                            "<tr><td>127</td><td>1579</td><td>5</td></tr>",
                            "<tr><td>67</td><td>1580</td><td>5</td></tr>",
                            "<tr><td>48</td><td>1581</td><td>5</td></tr>",
                            "<tr><td>64</td><td>1582</td><td>1</td></tr>",
                            "<tr><td>128</td><td>1583</td><td>4</td></tr>",
                            "<tr><td>67</td><td>1584</td><td>1</td></tr>",
                            "</table>"
                        ]
                    }
                }
            ],
            "execution_count": 9
        }
    ]
}